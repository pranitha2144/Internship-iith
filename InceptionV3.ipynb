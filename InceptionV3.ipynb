{
  "nbformat": 4,
  "nbformat_minor": 0,
  "metadata": {
    "colab": {
      "name": "InceptionV3",
      "provenance": [],
      "collapsed_sections": [],
      "mount_file_id": "1TdZ4N6daTDBis3tCmPOzmQcASqrttlta",
      "authorship_tag": "ABX9TyN+/jiCgd6DhBIJG/ib90tF",
      "include_colab_link": true
    },
    "kernelspec": {
      "name": "python3",
      "display_name": "Python 3"
    }
  },
  "cells": [
    {
      "cell_type": "markdown",
      "metadata": {
        "id": "view-in-github",
        "colab_type": "text"
      },
      "source": [
        "<a href=\"https://colab.research.google.com/github/pranitha2144/Internship-iith/blob/Resnet/InceptionV3.ipynb\" target=\"_parent\"><img src=\"https://colab.research.google.com/assets/colab-badge.svg\" alt=\"Open In Colab\"/></a>"
      ]
    },
    {
      "cell_type": "code",
      "metadata": {
        "id": "1qo9sMluxF4r",
        "colab_type": "code",
        "colab": {}
      },
      "source": [
        "import tensorflow as tf\n",
        "from tensorflow.keras.optimizers import RMSprop\n",
        "from tensorflow.keras.preprocessing.image import ImageDataGenerator\n",
        "from tensorflow.keras import layers\n",
        "from tensorflow.keras import Model"
      ],
      "execution_count": 41,
      "outputs": []
    },
    {
      "cell_type": "code",
      "metadata": {
        "id": "nDg8WnhLxPew",
        "colab_type": "code",
        "colab": {}
      },
      "source": [
        "# Import the inception model  \n",
        "from tensorflow.keras.applications.inception_v3 import InceptionV3"
      ],
      "execution_count": 42,
      "outputs": []
    },
    {
      "cell_type": "code",
      "metadata": {
        "id": "ezG4ioSXxWx7",
        "colab_type": "code",
        "colab": {
          "base_uri": "https://localhost:8080/",
          "height": 71
        },
        "outputId": "cf904d66-5668-49ef-b17b-d1f9b6a7af04"
      },
      "source": [
        "pre_trained_model = InceptionV3(input_shape = (224, 224, 3), # Shape of our images\n",
        "                                include_top = False, # Leave out the last fully connected layer\n",
        "                                weights = 'imagenet')"
      ],
      "execution_count": 44,
      "outputs": [
        {
          "output_type": "stream",
          "text": [
            "Downloading data from https://storage.googleapis.com/tensorflow/keras-applications/inception_v3/inception_v3_weights_tf_dim_ordering_tf_kernels_notop.h5\n",
            "87916544/87910968 [==============================] - 1s 0us/step\n"
          ],
          "name": "stdout"
        }
      ]
    },
    {
      "cell_type": "code",
      "metadata": {
        "id": "VNmBeQgTxwhd",
        "colab_type": "code",
        "colab": {}
      },
      "source": [
        "for layer in pre_trained_model.layers:\n",
        "  layer.trainable = False"
      ],
      "execution_count": 45,
      "outputs": []
    },
    {
      "cell_type": "code",
      "metadata": {
        "id": "RUJTWiUMx164",
        "colab_type": "code",
        "colab": {}
      },
      "source": [
        "from tensorflow.keras.optimizers import Adam\n",
        "\n",
        "# Flatten the output layer to 1 dimension\n",
        "x = layers.Flatten()(pre_trained_model.output)\n",
        "# Add a fully connected layer with 1,024 hidden units and ReLU activation\n",
        "x = layers.Dense(1024, activation='relu')(x)\n",
        "# Add a dropout rate of 0.2\n",
        "x = layers.Dropout(0.2)(x)                  \n",
        "# Add a final softmax layer for classification\n",
        "x = layers.Dense  (4, activation='softmax')(x)           \n",
        "\n",
        "model = Model( pre_trained_model.input, x) \n",
        "\n",
        "model.compile(optimizer = Adam(lr=0.0001), \n",
        "              loss = 'categorical_crossentropy', \n",
        "              metrics = ['acc'])"
      ],
      "execution_count": 46,
      "outputs": []
    },
    {
      "cell_type": "code",
      "metadata": {
        "id": "6BIQUXeoyN8c",
        "colab_type": "code",
        "colab": {
          "base_uri": "https://localhost:8080/",
          "height": 51
        },
        "outputId": "11890562-883d-4573-ecae-04994ad14e23"
      },
      "source": [
        "# Add our data-augmentation parameters to ImageDataGenerator\n",
        "train_datagen = ImageDataGenerator(rescale = 1./255.,\n",
        "                                   rotation_range = 40,\n",
        "                                   width_shift_range = 0.2,\n",
        "                                   height_shift_range = 0.2,\n",
        "                                   shear_range = 0.2,\n",
        "                                   zoom_range = 0.2,\n",
        "                                   horizontal_flip = True)\n",
        "\n",
        "# Note that the validation data should not be augmented!\n",
        "test_datagen = ImageDataGenerator( rescale = 1.0/255. )\n",
        "\n",
        "# Flow training images in batches of 20 using train_datagen generator\n",
        "train_generator = train_datagen.flow_from_directory('/content/drive/My Drive/data_liver/train',\n",
        "                                                    batch_size = 20,\n",
        "                                                    class_mode = 'categorical', \n",
        "                                                    target_size = (224, 224))     \n",
        "\n",
        "# Flow validation images in batches of 20 using test_datagen generator\n",
        "validation_generator =  test_datagen.flow_from_directory( '/content/drive/My Drive/data_liver/val',\n",
        "                                                          batch_size  = 20,\n",
        "                                                          class_mode  = 'categorical', \n",
        "                                                          target_size = (224, 224))"
      ],
      "execution_count": 54,
      "outputs": [
        {
          "output_type": "stream",
          "text": [
            "Found 700 images belonging to 4 classes.\n",
            "Found 100 images belonging to 4 classes.\n"
          ],
          "name": "stdout"
        }
      ]
    },
    {
      "cell_type": "code",
      "metadata": {
        "id": "aH7Y7b9YzHvQ",
        "colab_type": "code",
        "colab": {}
      },
      "source": [
        ""
      ],
      "execution_count": null,
      "outputs": []
    },
    {
      "cell_type": "code",
      "metadata": {
        "id": "H6dGNtWtZVuK",
        "colab_type": "code",
        "colab": {
          "base_uri": "https://localhost:8080/",
          "height": 357
        },
        "outputId": "ec9d83d3-d660-4fff-814d-d3b6a0015cb6"
      },
      "source": [
        "from keras.callbacks import ModelCheckpoint, EarlyStopping\n",
        "checkpoint = ModelCheckpoint(\"/content/drive/My Drive/Best models/model_n_1.h5\", monitor='val_accuracy', verbose=1, save_best_only=True, save_weights_only=False, mode='auto', period=1)\n",
        "early = EarlyStopping(monitor='val_acc', min_delta=0, patience=10, verbose=1, mode='auto')\n",
        "hist=model.fit_generator(train_generator,\n",
        "            validation_data = validation_generator,\n",
        "            epochs = 10,\n",
        "            verbose = 2)"
      ],
      "execution_count": 55,
      "outputs": [
        {
          "output_type": "stream",
          "text": [
            "Epoch 1/10\n",
            "35/35 - 95s - loss: 0.7373 - acc: 0.7000 - val_loss: 0.8316 - val_acc: 0.6500\n",
            "Epoch 2/10\n",
            "35/35 - 94s - loss: 0.6855 - acc: 0.6957 - val_loss: 0.7465 - val_acc: 0.6900\n",
            "Epoch 3/10\n",
            "35/35 - 94s - loss: 0.6370 - acc: 0.7300 - val_loss: 0.7289 - val_acc: 0.6600\n",
            "Epoch 4/10\n",
            "35/35 - 97s - loss: 0.6264 - acc: 0.7329 - val_loss: 0.8187 - val_acc: 0.6300\n",
            "Epoch 5/10\n",
            "35/35 - 94s - loss: 0.6389 - acc: 0.7300 - val_loss: 0.6044 - val_acc: 0.7300\n",
            "Epoch 6/10\n",
            "35/35 - 94s - loss: 0.6229 - acc: 0.7329 - val_loss: 0.6928 - val_acc: 0.6900\n",
            "Epoch 7/10\n",
            "35/35 - 94s - loss: 0.6404 - acc: 0.7200 - val_loss: 0.7000 - val_acc: 0.6800\n",
            "Epoch 8/10\n",
            "35/35 - 95s - loss: 0.5578 - acc: 0.7843 - val_loss: 0.5758 - val_acc: 0.7600\n",
            "Epoch 9/10\n",
            "35/35 - 94s - loss: 0.6301 - acc: 0.7143 - val_loss: 0.5846 - val_acc: 0.7500\n",
            "Epoch 10/10\n",
            "35/35 - 96s - loss: 0.6602 - acc: 0.7357 - val_loss: 0.6295 - val_acc: 0.7100\n"
          ],
          "name": "stdout"
        }
      ]
    },
    {
      "cell_type": "code",
      "metadata": {
        "id": "GBSeIA_Z7apw",
        "colab_type": "code",
        "colab": {
          "base_uri": "https://localhost:8080/",
          "height": 34
        },
        "outputId": "161f734c-79f7-4ac6-d3db-1edd586dbab9"
      },
      "source": [
        "last_layer = pre_trained_model.get_layer('mixed7') #Only use layers including and above 'mixed7'\n",
        "print('last layer output shape: ', last_layer.output_shape)\n",
        "last_output = last_layer.output"
      ],
      "execution_count": 56,
      "outputs": [
        {
          "output_type": "stream",
          "text": [
            "last layer output shape:  (None, 12, 12, 768)\n"
          ],
          "name": "stdout"
        }
      ]
    },
    {
      "cell_type": "code",
      "metadata": {
        "id": "4C4mnpsI7lI4",
        "colab_type": "code",
        "colab": {
          "base_uri": "https://localhost:8080/",
          "height": 374
        },
        "outputId": "755876cf-2247-4296-dc1b-749d5531cd7c"
      },
      "source": [
        "print('last layer output shape: ', last_layer.output_shape)\n",
        "last_output = last_layer.output\n",
        "\n",
        "# Flatten the output layer to 1 dimension\n",
        "x = layers.Flatten()(last_output)\n",
        "# Add a fully connected layer with 1,024 hidden units and ReLU activation\n",
        "x = layers.Dense(1024, activation='relu')(x)\n",
        "# Add a dropout rate of 0.2\n",
        "x = layers.Dropout(0.2)(x)                  \n",
        "# Add a final sigmoid layer for classification\n",
        "x = layers.Dense  (4, activation='softmax')(x)           \n",
        "\n",
        "model = Model( pre_trained_model.input, x) \n",
        "\n",
        "model.compile(optimizer = Adam(lr=0.0001), \n",
        "              loss = 'categorical_crossentropy', \n",
        "              metrics = ['acc'])\n",
        "history = model.fit_generator(\n",
        "            train_generator,\n",
        "            validation_data = validation_generator,\n",
        "            epochs = 10,\n",
        "            verbose = 2)"
      ],
      "execution_count": 57,
      "outputs": [
        {
          "output_type": "stream",
          "text": [
            "last layer output shape:  (None, 12, 12, 768)\n",
            "Epoch 1/10\n",
            "35/35 - 95s - loss: 1.4645 - acc: 0.5143 - val_loss: 0.9011 - val_acc: 0.6600\n",
            "Epoch 2/10\n",
            "35/35 - 95s - loss: 0.7889 - acc: 0.6686 - val_loss: 0.8084 - val_acc: 0.6700\n",
            "Epoch 3/10\n",
            "35/35 - 94s - loss: 0.6670 - acc: 0.6886 - val_loss: 0.6364 - val_acc: 0.7400\n",
            "Epoch 4/10\n",
            "35/35 - 94s - loss: 0.5926 - acc: 0.7500 - val_loss: 0.5494 - val_acc: 0.7700\n",
            "Epoch 5/10\n",
            "35/35 - 93s - loss: 0.5520 - acc: 0.7743 - val_loss: 0.7286 - val_acc: 0.6800\n",
            "Epoch 6/10\n",
            "35/35 - 93s - loss: 0.5308 - acc: 0.8000 - val_loss: 0.5292 - val_acc: 0.7700\n",
            "Epoch 7/10\n",
            "35/35 - 93s - loss: 0.5201 - acc: 0.7814 - val_loss: 0.5629 - val_acc: 0.7700\n",
            "Epoch 8/10\n",
            "35/35 - 95s - loss: 0.4837 - acc: 0.7886 - val_loss: 0.5398 - val_acc: 0.7800\n",
            "Epoch 9/10\n",
            "35/35 - 93s - loss: 0.4960 - acc: 0.7900 - val_loss: 0.5571 - val_acc: 0.7400\n",
            "Epoch 10/10\n",
            "35/35 - 94s - loss: 0.5062 - acc: 0.7900 - val_loss: 0.5073 - val_acc: 0.7700\n"
          ],
          "name": "stdout"
        }
      ]
    }
  ]
}