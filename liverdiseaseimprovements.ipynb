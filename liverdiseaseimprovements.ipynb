{
  "nbformat": 4,
  "nbformat_minor": 0,
  "metadata": {
    "colab": {
      "name": "liverdiseaseimprovements.ipynb",
      "provenance": [],
      "mount_file_id": "1HbxHYN6N0HhdKkAY9qNCP2SEzyaI6-PR",
      "authorship_tag": "ABX9TyPQKsOM3JPLVxyDNO8vvc3w",
      "include_colab_link": true
    },
    "kernelspec": {
      "name": "python3",
      "display_name": "Python 3"
    }
  },
  "cells": [
    {
      "cell_type": "markdown",
      "metadata": {
        "id": "view-in-github",
        "colab_type": "text"
      },
      "source": [
        "<a href=\"https://colab.research.google.com/github/pranitha2144/Internship-iith/blob/master/liverdiseaseimprovements.ipynb\" target=\"_parent\"><img src=\"https://colab.research.google.com/assets/colab-badge.svg\" alt=\"Open In Colab\"/></a>"
      ]
    },
    {
      "cell_type": "code",
      "metadata": {
        "id": "8p83AHVFISQD",
        "colab_type": "code",
        "colab": {}
      },
      "source": [
        "import tensorflow as tf\n",
        "from tensorflow.keras.models import Sequential\n",
        "from tensorflow.keras.layers import Dense, Conv2D, MaxPooling2D, Flatten,Dropout"
      ],
      "execution_count": 0,
      "outputs": []
    },
    {
      "cell_type": "code",
      "metadata": {
        "id": "BzKnKlupP44L",
        "colab_type": "code",
        "colab": {}
      },
      "source": [
        "classifier = Sequential([Conv2D(32,(3,3),activation='relu',input_shape=(128,128,3)),\n",
        "                         MaxPooling2D(2,2),\n",
        "                         Conv2D(32,(3,3),activation='relu'),\n",
        "                         MaxPooling2D(2,2),\n",
        "                         Conv2D(64,(3,3),activation='relu'),\n",
        "                         MaxPooling2D(2,2),\n",
        "                         Conv2D(64,(3,3),activation='relu'),\n",
        "                         MaxPooling2D(2,2),\n",
        "                         Conv2D(128,(3,3),activation='relu'),\n",
        "                         MaxPooling2D(2,2),\n",
        "                         Flatten(),\n",
        "                         Dense(128,activation='relu'),\n",
        "                         Dropout(0.3),\n",
        "                         Dropout(0.6),\n",
        "                         Dense(256,activation='relu'),\n",
        "                         Dense(256,activation='relu'),\n",
        "                         Dense(4,activation='softmax')\n",
        "\n",
        "\n",
        "\n",
        "])"
      ],
      "execution_count": 0,
      "outputs": []
    },
    {
      "cell_type": "code",
      "metadata": {
        "id": "AYw2ZRtFP77w",
        "colab_type": "code",
        "colab": {}
      },
      "source": [
        "classifier.compile(loss='categorical_crossentropy', optimizer='RMSprop', metrics=['accuracy'])"
      ],
      "execution_count": 0,
      "outputs": []
    },
    {
      "cell_type": "code",
      "metadata": {
        "id": "DiZVJky-QAS7",
        "colab_type": "code",
        "colab": {}
      },
      "source": [
        "from keras.preprocessing.image import ImageDataGenerator"
      ],
      "execution_count": 0,
      "outputs": []
    },
    {
      "cell_type": "code",
      "metadata": {
        "id": "oqbZsTxbQEQV",
        "colab_type": "code",
        "colab": {}
      },
      "source": [
        "datagen = ImageDataGenerator(\n",
        "        rescale=1./255,\n",
        "        rotation_range=40,\n",
        "        shear_range=0.2,\n",
        "        zoom_range=0.2,\n",
        "        width_shift_range=0.2,\n",
        "        height_shift_range=0.2,\n",
        "\n",
        "        fill_mode=\"nearest\",\n",
        "        horizontal_flip=True,vertical_flip=True,validation_split=0.2)"
      ],
      "execution_count": 0,
      "outputs": []
    },
    {
      "cell_type": "code",
      "metadata": {
        "id": "gPSbP0aEQKu0",
        "colab_type": "code",
        "colab": {
          "base_uri": "https://localhost:8080/",
          "height": 34
        },
        "outputId": "b368da62-daa2-43ae-b547-f90b45383def"
      },
      "source": [
        "training_set = datagen.flow_from_directory(\n",
        "        '/content/drive/My Drive/data',\n",
        "        target_size=(128, 128),\n",
        "        shuffle=True,\n",
        "        subset=\"training\",\n",
        "        batch_size=32,\n",
        "        class_mode='categorical')"
      ],
      "execution_count": 18,
      "outputs": [
        {
          "output_type": "stream",
          "text": [
            "Found 800 images belonging to 4 classes.\n"
          ],
          "name": "stdout"
        }
      ]
    },
    {
      "cell_type": "code",
      "metadata": {
        "id": "oBaBY-BoQLuB",
        "colab_type": "code",
        "colab": {
          "base_uri": "https://localhost:8080/",
          "height": 34
        },
        "outputId": "2139922d-d25c-4793-fa77-4c9b0a7275c6"
      },
      "source": [
        "test_set = datagen.flow_from_directory(\n",
        "        '/content/drive/My Drive/data',\n",
        "        target_size=(128, 128),\n",
        "        shuffle=True,\n",
        "        subset=\"validation\",\n",
        "        batch_size=32,)"
      ],
      "execution_count": 19,
      "outputs": [
        {
          "output_type": "stream",
          "text": [
            "Found 200 images belonging to 4 classes.\n"
          ],
          "name": "stdout"
        }
      ]
    },
    {
      "cell_type": "code",
      "metadata": {
        "id": "uHFyuthhQPvx",
        "colab_type": "code",
        "colab": {
          "base_uri": "https://localhost:8080/",
          "height": 1000
        },
        "outputId": "e73eabe7-489e-4b8b-a465-4dda4bca68b7"
      },
      "source": [
        "classifier.fit(training_set,validation_data=test_set,epochs=100)"
      ],
      "execution_count": 20,
      "outputs": [
        {
          "output_type": "stream",
          "text": [
            "Epoch 1/100\n",
            "25/25 [==============================] - 18s 738ms/step - loss: 1.3717 - accuracy: 0.2912 - val_loss: 1.3085 - val_accuracy: 0.3800\n",
            "Epoch 2/100\n",
            "25/25 [==============================] - 18s 729ms/step - loss: 1.3991 - accuracy: 0.3313 - val_loss: 1.3493 - val_accuracy: 0.2500\n",
            "Epoch 3/100\n",
            "25/25 [==============================] - 18s 719ms/step - loss: 1.3030 - accuracy: 0.3975 - val_loss: 1.1821 - val_accuracy: 0.5050\n",
            "Epoch 4/100\n",
            "25/25 [==============================] - 18s 727ms/step - loss: 1.2010 - accuracy: 0.4538 - val_loss: 0.9761 - val_accuracy: 0.6350\n",
            "Epoch 5/100\n",
            "25/25 [==============================] - 18s 727ms/step - loss: 1.1318 - accuracy: 0.4600 - val_loss: 0.9869 - val_accuracy: 0.5800\n",
            "Epoch 6/100\n",
            "25/25 [==============================] - 18s 728ms/step - loss: 1.0828 - accuracy: 0.5025 - val_loss: 1.0639 - val_accuracy: 0.4350\n",
            "Epoch 7/100\n",
            "25/25 [==============================] - 18s 727ms/step - loss: 1.0062 - accuracy: 0.5512 - val_loss: 0.9833 - val_accuracy: 0.7150\n",
            "Epoch 8/100\n",
            "25/25 [==============================] - 18s 729ms/step - loss: 0.9852 - accuracy: 0.5625 - val_loss: 0.9254 - val_accuracy: 0.5000\n",
            "Epoch 9/100\n",
            "25/25 [==============================] - 19s 743ms/step - loss: 1.1105 - accuracy: 0.5562 - val_loss: 0.9990 - val_accuracy: 0.5250\n",
            "Epoch 10/100\n",
            "25/25 [==============================] - 18s 737ms/step - loss: 0.9825 - accuracy: 0.5688 - val_loss: 1.0254 - val_accuracy: 0.4500\n",
            "Epoch 11/100\n",
            "25/25 [==============================] - 18s 737ms/step - loss: 0.9246 - accuracy: 0.5838 - val_loss: 1.5250 - val_accuracy: 0.2950\n",
            "Epoch 12/100\n",
            "25/25 [==============================] - 19s 740ms/step - loss: 0.9616 - accuracy: 0.6112 - val_loss: 0.8997 - val_accuracy: 0.7450\n",
            "Epoch 13/100\n",
            "25/25 [==============================] - 18s 738ms/step - loss: 0.8768 - accuracy: 0.5987 - val_loss: 1.3319 - val_accuracy: 0.4350\n",
            "Epoch 14/100\n",
            "25/25 [==============================] - 18s 734ms/step - loss: 0.8827 - accuracy: 0.5950 - val_loss: 0.9860 - val_accuracy: 0.4650\n",
            "Epoch 15/100\n",
            "25/25 [==============================] - 18s 730ms/step - loss: 0.8671 - accuracy: 0.5913 - val_loss: 0.7611 - val_accuracy: 0.5850\n",
            "Epoch 16/100\n",
            "25/25 [==============================] - 18s 728ms/step - loss: 0.9148 - accuracy: 0.6150 - val_loss: 1.1525 - val_accuracy: 0.4000\n",
            "Epoch 17/100\n",
            "25/25 [==============================] - 18s 733ms/step - loss: 0.9339 - accuracy: 0.5913 - val_loss: 0.8611 - val_accuracy: 0.5350\n",
            "Epoch 18/100\n",
            "25/25 [==============================] - 18s 722ms/step - loss: 0.8179 - accuracy: 0.6388 - val_loss: 0.7300 - val_accuracy: 0.7750\n",
            "Epoch 19/100\n",
            "25/25 [==============================] - 18s 723ms/step - loss: 0.8544 - accuracy: 0.6288 - val_loss: 0.9073 - val_accuracy: 0.5150\n",
            "Epoch 20/100\n",
            "25/25 [==============================] - 18s 723ms/step - loss: 0.7826 - accuracy: 0.6625 - val_loss: 1.2977 - val_accuracy: 0.5000\n",
            "Epoch 21/100\n",
            "25/25 [==============================] - 18s 724ms/step - loss: 0.9275 - accuracy: 0.6400 - val_loss: 0.7531 - val_accuracy: 0.6050\n",
            "Epoch 22/100\n",
            "25/25 [==============================] - 18s 725ms/step - loss: 0.7716 - accuracy: 0.6350 - val_loss: 0.9862 - val_accuracy: 0.4800\n",
            "Epoch 23/100\n",
            "25/25 [==============================] - 18s 726ms/step - loss: 0.8211 - accuracy: 0.6525 - val_loss: 0.7132 - val_accuracy: 0.6000\n",
            "Epoch 24/100\n",
            "25/25 [==============================] - 18s 720ms/step - loss: 0.7978 - accuracy: 0.6888 - val_loss: 0.7836 - val_accuracy: 0.5600\n",
            "Epoch 25/100\n",
            "25/25 [==============================] - 18s 729ms/step - loss: 0.7497 - accuracy: 0.6925 - val_loss: 0.7739 - val_accuracy: 0.6150\n",
            "Epoch 26/100\n",
            "25/25 [==============================] - 18s 732ms/step - loss: 0.7887 - accuracy: 0.6612 - val_loss: 0.6508 - val_accuracy: 0.6300\n",
            "Epoch 27/100\n",
            "25/25 [==============================] - 18s 718ms/step - loss: 0.7543 - accuracy: 0.6938 - val_loss: 0.9395 - val_accuracy: 0.4650\n",
            "Epoch 28/100\n",
            "25/25 [==============================] - 18s 725ms/step - loss: 0.7983 - accuracy: 0.6575 - val_loss: 0.8725 - val_accuracy: 0.6150\n",
            "Epoch 29/100\n",
            "25/25 [==============================] - 18s 724ms/step - loss: 0.7682 - accuracy: 0.6888 - val_loss: 0.7928 - val_accuracy: 0.5400\n",
            "Epoch 30/100\n",
            "25/25 [==============================] - 18s 721ms/step - loss: 0.7007 - accuracy: 0.6900 - val_loss: 0.5610 - val_accuracy: 0.8250\n",
            "Epoch 31/100\n",
            "25/25 [==============================] - 18s 721ms/step - loss: 0.7639 - accuracy: 0.6862 - val_loss: 0.6670 - val_accuracy: 0.7100\n",
            "Epoch 32/100\n",
            "25/25 [==============================] - 18s 718ms/step - loss: 0.7151 - accuracy: 0.7138 - val_loss: 0.7056 - val_accuracy: 0.6550\n",
            "Epoch 33/100\n",
            "25/25 [==============================] - 18s 719ms/step - loss: 0.7132 - accuracy: 0.7188 - val_loss: 0.5181 - val_accuracy: 0.8200\n",
            "Epoch 34/100\n",
            "25/25 [==============================] - 18s 722ms/step - loss: 0.6827 - accuracy: 0.7437 - val_loss: 0.5618 - val_accuracy: 0.8350\n",
            "Epoch 35/100\n",
            "25/25 [==============================] - 18s 723ms/step - loss: 0.7267 - accuracy: 0.7200 - val_loss: 0.7842 - val_accuracy: 0.5750\n",
            "Epoch 36/100\n",
            "25/25 [==============================] - 18s 725ms/step - loss: 0.7507 - accuracy: 0.7113 - val_loss: 1.1057 - val_accuracy: 0.5000\n",
            "Epoch 37/100\n",
            "25/25 [==============================] - 18s 727ms/step - loss: 0.6971 - accuracy: 0.7225 - val_loss: 0.8293 - val_accuracy: 0.6450\n",
            "Epoch 38/100\n",
            "25/25 [==============================] - 18s 730ms/step - loss: 0.6969 - accuracy: 0.6925 - val_loss: 0.5392 - val_accuracy: 0.7900\n",
            "Epoch 39/100\n",
            "25/25 [==============================] - 18s 727ms/step - loss: 0.6761 - accuracy: 0.7437 - val_loss: 0.7068 - val_accuracy: 0.6600\n",
            "Epoch 40/100\n",
            "25/25 [==============================] - 18s 720ms/step - loss: 0.6693 - accuracy: 0.7325 - val_loss: 0.5217 - val_accuracy: 0.8150\n",
            "Epoch 41/100\n",
            "25/25 [==============================] - 18s 726ms/step - loss: 0.6381 - accuracy: 0.7325 - val_loss: 0.5171 - val_accuracy: 0.8050\n",
            "Epoch 42/100\n",
            "25/25 [==============================] - 18s 731ms/step - loss: 0.7228 - accuracy: 0.7088 - val_loss: 0.9248 - val_accuracy: 0.5250\n",
            "Epoch 43/100\n",
            "25/25 [==============================] - 18s 726ms/step - loss: 0.6311 - accuracy: 0.7550 - val_loss: 4.1284 - val_accuracy: 0.3300\n",
            "Epoch 44/100\n",
            "25/25 [==============================] - 18s 721ms/step - loss: 0.7712 - accuracy: 0.7300 - val_loss: 0.4366 - val_accuracy: 0.8450\n",
            "Epoch 45/100\n",
            "25/25 [==============================] - 18s 720ms/step - loss: 0.6225 - accuracy: 0.7588 - val_loss: 0.7883 - val_accuracy: 0.5400\n",
            "Epoch 46/100\n",
            "25/25 [==============================] - 18s 714ms/step - loss: 0.6042 - accuracy: 0.7713 - val_loss: 0.4549 - val_accuracy: 0.8450\n",
            "Epoch 47/100\n",
            "25/25 [==============================] - 18s 719ms/step - loss: 0.5863 - accuracy: 0.7837 - val_loss: 0.5202 - val_accuracy: 0.7900\n",
            "Epoch 48/100\n",
            "25/25 [==============================] - 18s 719ms/step - loss: 0.6194 - accuracy: 0.7500 - val_loss: 0.5408 - val_accuracy: 0.7700\n",
            "Epoch 49/100\n",
            "25/25 [==============================] - 18s 711ms/step - loss: 0.5446 - accuracy: 0.7875 - val_loss: 0.4726 - val_accuracy: 0.8100\n",
            "Epoch 50/100\n",
            "25/25 [==============================] - 18s 713ms/step - loss: 0.6387 - accuracy: 0.7513 - val_loss: 0.6255 - val_accuracy: 0.7300\n",
            "Epoch 51/100\n",
            "25/25 [==============================] - 18s 720ms/step - loss: 0.6420 - accuracy: 0.7337 - val_loss: 0.4645 - val_accuracy: 0.8200\n",
            "Epoch 52/100\n",
            "25/25 [==============================] - 18s 712ms/step - loss: 0.5668 - accuracy: 0.7688 - val_loss: 0.6531 - val_accuracy: 0.7150\n",
            "Epoch 53/100\n",
            "25/25 [==============================] - 18s 713ms/step - loss: 0.5975 - accuracy: 0.7750 - val_loss: 0.6987 - val_accuracy: 0.6450\n",
            "Epoch 54/100\n",
            "25/25 [==============================] - 18s 712ms/step - loss: 0.6248 - accuracy: 0.7625 - val_loss: 0.5855 - val_accuracy: 0.7750\n",
            "Epoch 55/100\n",
            "25/25 [==============================] - 18s 709ms/step - loss: 0.5790 - accuracy: 0.7825 - val_loss: 0.5462 - val_accuracy: 0.8050\n",
            "Epoch 56/100\n",
            "25/25 [==============================] - 18s 714ms/step - loss: 0.5822 - accuracy: 0.7625 - val_loss: 1.5186 - val_accuracy: 0.5350\n",
            "Epoch 57/100\n",
            "25/25 [==============================] - 18s 712ms/step - loss: 0.6464 - accuracy: 0.7650 - val_loss: 0.5616 - val_accuracy: 0.7350\n",
            "Epoch 58/100\n",
            "25/25 [==============================] - 18s 718ms/step - loss: 0.6435 - accuracy: 0.7387 - val_loss: 0.6083 - val_accuracy: 0.6650\n",
            "Epoch 59/100\n",
            "25/25 [==============================] - 18s 708ms/step - loss: 0.5940 - accuracy: 0.7625 - val_loss: 0.4816 - val_accuracy: 0.8250\n",
            "Epoch 60/100\n",
            "25/25 [==============================] - 18s 715ms/step - loss: 0.5526 - accuracy: 0.7962 - val_loss: 0.5586 - val_accuracy: 0.8200\n",
            "Epoch 61/100\n",
            "25/25 [==============================] - 18s 713ms/step - loss: 0.5461 - accuracy: 0.7975 - val_loss: 0.4208 - val_accuracy: 0.8400\n",
            "Epoch 62/100\n",
            "25/25 [==============================] - 18s 704ms/step - loss: 0.6816 - accuracy: 0.7487 - val_loss: 0.6877 - val_accuracy: 0.6500\n",
            "Epoch 63/100\n",
            "25/25 [==============================] - 18s 702ms/step - loss: 0.5468 - accuracy: 0.7788 - val_loss: 1.2990 - val_accuracy: 0.6250\n",
            "Epoch 64/100\n",
            "25/25 [==============================] - 18s 703ms/step - loss: 0.5601 - accuracy: 0.7738 - val_loss: 0.8748 - val_accuracy: 0.6050\n",
            "Epoch 65/100\n",
            "25/25 [==============================] - 18s 710ms/step - loss: 0.5467 - accuracy: 0.7837 - val_loss: 0.4630 - val_accuracy: 0.8250\n",
            "Epoch 66/100\n",
            "25/25 [==============================] - 18s 712ms/step - loss: 0.5839 - accuracy: 0.7812 - val_loss: 0.6800 - val_accuracy: 0.6750\n",
            "Epoch 67/100\n",
            "25/25 [==============================] - 18s 702ms/step - loss: 0.5346 - accuracy: 0.7825 - val_loss: 0.4432 - val_accuracy: 0.8300\n",
            "Epoch 68/100\n",
            "25/25 [==============================] - 18s 706ms/step - loss: 0.5657 - accuracy: 0.7862 - val_loss: 0.3957 - val_accuracy: 0.8550\n",
            "Epoch 69/100\n",
            "25/25 [==============================] - 18s 703ms/step - loss: 0.5673 - accuracy: 0.7788 - val_loss: 0.6562 - val_accuracy: 0.6750\n",
            "Epoch 70/100\n",
            "25/25 [==============================] - 17s 697ms/step - loss: 0.5217 - accuracy: 0.7912 - val_loss: 0.5340 - val_accuracy: 0.7600\n",
            "Epoch 71/100\n",
            "25/25 [==============================] - 17s 697ms/step - loss: 0.5927 - accuracy: 0.7675 - val_loss: 0.6518 - val_accuracy: 0.6900\n",
            "Epoch 72/100\n",
            "25/25 [==============================] - 17s 693ms/step - loss: 0.4945 - accuracy: 0.8050 - val_loss: 0.4579 - val_accuracy: 0.8300\n",
            "Epoch 73/100\n",
            "25/25 [==============================] - 18s 706ms/step - loss: 0.5450 - accuracy: 0.7900 - val_loss: 1.4368 - val_accuracy: 0.6050\n",
            "Epoch 74/100\n",
            "25/25 [==============================] - 18s 705ms/step - loss: 0.6180 - accuracy: 0.7812 - val_loss: 0.7672 - val_accuracy: 0.6650\n",
            "Epoch 75/100\n",
            "25/25 [==============================] - 18s 708ms/step - loss: 0.5911 - accuracy: 0.7763 - val_loss: 0.4343 - val_accuracy: 0.8200\n",
            "Epoch 76/100\n",
            "25/25 [==============================] - 18s 704ms/step - loss: 0.4950 - accuracy: 0.8075 - val_loss: 0.4363 - val_accuracy: 0.8300\n",
            "Epoch 77/100\n",
            "25/25 [==============================] - 18s 707ms/step - loss: 0.5143 - accuracy: 0.7962 - val_loss: 0.5287 - val_accuracy: 0.8000\n",
            "Epoch 78/100\n",
            "25/25 [==============================] - 18s 706ms/step - loss: 0.5618 - accuracy: 0.7900 - val_loss: 0.4080 - val_accuracy: 0.8600\n",
            "Epoch 79/100\n",
            "25/25 [==============================] - 18s 709ms/step - loss: 0.5398 - accuracy: 0.8087 - val_loss: 0.4294 - val_accuracy: 0.8250\n",
            "Epoch 80/100\n",
            "25/25 [==============================] - 18s 714ms/step - loss: 0.5000 - accuracy: 0.8000 - val_loss: 0.5640 - val_accuracy: 0.7800\n",
            "Epoch 81/100\n",
            "25/25 [==============================] - 18s 716ms/step - loss: 0.5708 - accuracy: 0.7788 - val_loss: 0.4149 - val_accuracy: 0.8250\n",
            "Epoch 82/100\n",
            "25/25 [==============================] - 18s 708ms/step - loss: 0.5315 - accuracy: 0.7887 - val_loss: 0.3652 - val_accuracy: 0.8450\n",
            "Epoch 83/100\n",
            "25/25 [==============================] - 18s 708ms/step - loss: 0.4618 - accuracy: 0.8213 - val_loss: 0.4600 - val_accuracy: 0.8650\n",
            "Epoch 84/100\n",
            "25/25 [==============================] - 18s 704ms/step - loss: 0.5273 - accuracy: 0.7937 - val_loss: 0.5292 - val_accuracy: 0.7750\n",
            "Epoch 85/100\n",
            "25/25 [==============================] - 18s 707ms/step - loss: 0.5358 - accuracy: 0.7975 - val_loss: 0.4629 - val_accuracy: 0.8200\n",
            "Epoch 86/100\n",
            "25/25 [==============================] - 18s 714ms/step - loss: 0.5533 - accuracy: 0.7937 - val_loss: 0.5004 - val_accuracy: 0.7900\n",
            "Epoch 87/100\n",
            "25/25 [==============================] - 18s 720ms/step - loss: 0.4511 - accuracy: 0.8313 - val_loss: 0.5399 - val_accuracy: 0.7450\n",
            "Epoch 88/100\n",
            "25/25 [==============================] - 18s 721ms/step - loss: 0.5132 - accuracy: 0.7962 - val_loss: 0.4347 - val_accuracy: 0.8100\n",
            "Epoch 89/100\n",
            "25/25 [==============================] - 18s 725ms/step - loss: 0.5142 - accuracy: 0.8037 - val_loss: 1.3499 - val_accuracy: 0.6050\n",
            "Epoch 90/100\n",
            "25/25 [==============================] - 18s 722ms/step - loss: 0.5351 - accuracy: 0.8087 - val_loss: 0.8024 - val_accuracy: 0.6650\n",
            "Epoch 91/100\n",
            "25/25 [==============================] - 18s 724ms/step - loss: 0.5098 - accuracy: 0.8138 - val_loss: 0.5917 - val_accuracy: 0.7550\n",
            "Epoch 92/100\n",
            "25/25 [==============================] - 18s 716ms/step - loss: 0.5187 - accuracy: 0.7912 - val_loss: 1.0928 - val_accuracy: 0.6250\n",
            "Epoch 93/100\n",
            "25/25 [==============================] - 18s 709ms/step - loss: 0.5071 - accuracy: 0.7875 - val_loss: 0.3949 - val_accuracy: 0.8350\n",
            "Epoch 94/100\n",
            "25/25 [==============================] - 18s 713ms/step - loss: 0.4965 - accuracy: 0.8175 - val_loss: 0.6835 - val_accuracy: 0.6500\n",
            "Epoch 95/100\n",
            "25/25 [==============================] - 18s 715ms/step - loss: 0.4976 - accuracy: 0.8100 - val_loss: 0.5219 - val_accuracy: 0.7850\n",
            "Epoch 96/100\n",
            "25/25 [==============================] - 18s 713ms/step - loss: 0.5963 - accuracy: 0.7738 - val_loss: 0.3826 - val_accuracy: 0.8800\n",
            "Epoch 97/100\n",
            "25/25 [==============================] - 18s 717ms/step - loss: 0.4850 - accuracy: 0.8075 - val_loss: 0.4049 - val_accuracy: 0.8400\n",
            "Epoch 98/100\n",
            "25/25 [==============================] - 18s 720ms/step - loss: 0.5335 - accuracy: 0.7937 - val_loss: 0.4176 - val_accuracy: 0.8450\n",
            "Epoch 99/100\n",
            "25/25 [==============================] - 18s 717ms/step - loss: 0.5316 - accuracy: 0.7962 - val_loss: 0.5990 - val_accuracy: 0.7400\n",
            "Epoch 100/100\n",
            "25/25 [==============================] - 18s 715ms/step - loss: 0.4900 - accuracy: 0.8062 - val_loss: 0.4726 - val_accuracy: 0.8450\n"
          ],
          "name": "stdout"
        },
        {
          "output_type": "execute_result",
          "data": {
            "text/plain": [
              "<tensorflow.python.keras.callbacks.History at 0x7f31d4985ba8>"
            ]
          },
          "metadata": {
            "tags": []
          },
          "execution_count": 20
        }
      ]
    }
  ]
}