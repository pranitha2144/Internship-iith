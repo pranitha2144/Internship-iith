{
  "nbformat": 4,
  "nbformat_minor": 0,
  "metadata": {
    "colab": {
      "name": "liverdiseaseimprovements.ipynb",
      "provenance": [],
      "mount_file_id": "1HbxHYN6N0HhdKkAY9qNCP2SEzyaI6-PR",
      "authorship_tag": "ABX9TyPVHzMyh3d41kLaUSZucrTL",
      "include_colab_link": true
    },
    "kernelspec": {
      "name": "python3",
      "display_name": "Python 3"
    }
  },
  "cells": [
    {
      "cell_type": "markdown",
      "metadata": {
        "id": "view-in-github",
        "colab_type": "text"
      },
      "source": [
        "<a href=\"https://colab.research.google.com/github/pranitha2144/Internship-iith/blob/master/liverdiseaseimprovements.ipynb\" target=\"_parent\"><img src=\"https://colab.research.google.com/assets/colab-badge.svg\" alt=\"Open In Colab\"/></a>"
      ]
    },
    {
      "cell_type": "code",
      "metadata": {
        "id": "8p83AHVFISQD",
        "colab_type": "code",
        "colab": {}
      },
      "source": [
        "import tensorflow as tf\n",
        "from tensorflow.keras.models import Sequential\n",
        "from tensorflow.keras.layers import Dense, Conv2D, MaxPooling2D, Flatten,Dropout,SpatialDropout2D"
      ],
      "execution_count": 0,
      "outputs": []
    },
    {
      "cell_type": "code",
      "metadata": {
        "id": "BzKnKlupP44L",
        "colab_type": "code",
        "colab": {}
      },
      "source": [
        "classifier = Sequential([Conv2D(32,(3,3),activation='relu',input_shape=(128,128,3)),\n",
        "                         MaxPooling2D(2,2),\n",
        "                         Conv2D(32,(3,3),activation='relu'),\n",
        "                         MaxPooling2D(2,2),\n",
        "                         Conv2D(64,(3,3),activation='relu'),\n",
        "                         MaxPooling2D(2,2),\n",
        "                         Conv2D(64,(3,3),activation='relu'),\n",
        "                         MaxPooling2D(2,2),\n",
        "                         Conv2D(128,(3,3),activation='relu'),\n",
        "                         \n",
        "                         MaxPooling2D(2,2),\n",
        "                         Flatten(),\n",
        "                         Dense(128,activation='relu'),\n",
        "                         Dropout(0.3),\n",
        "                         Dropout(0.6),\n",
        "                         Dense(256,activation='relu'),\n",
        "                         Dense(256,activation='relu'),\n",
        "                         Dense(4,activation='softmax')\n",
        "\n",
        "\n",
        "\n",
        "])"
      ],
      "execution_count": 0,
      "outputs": []
    },
    {
      "cell_type": "code",
      "metadata": {
        "id": "AYw2ZRtFP77w",
        "colab_type": "code",
        "colab": {}
      },
      "source": [
        "classifier.compile(loss='categorical_crossentropy', optimizer='SGD', metrics=['accuracy'])"
      ],
      "execution_count": 0,
      "outputs": []
    },
    {
      "cell_type": "code",
      "metadata": {
        "id": "DiZVJky-QAS7",
        "colab_type": "code",
        "outputId": "1e428f38-4a2c-4408-d05d-3b153e05ee9a",
        "colab": {
          "base_uri": "https://localhost:8080/",
          "height": 34
        }
      },
      "source": [
        "from keras.preprocessing.image import ImageDataGenerator"
      ],
      "execution_count": 5,
      "outputs": [
        {
          "output_type": "stream",
          "text": [
            "Using TensorFlow backend.\n"
          ],
          "name": "stderr"
        }
      ]
    },
    {
      "cell_type": "code",
      "metadata": {
        "id": "oqbZsTxbQEQV",
        "colab_type": "code",
        "colab": {}
      },
      "source": [
        "datagen = ImageDataGenerator(\n",
        "        rescale=1./255,\n",
        "        rotation_range=20,\n",
        "        shear_range=0.2,\n",
        "        zoom_range=0.2,\n",
        "        width_shift_range=0.2,\n",
        "        height_shift_range=0.2,\n",
        "        fill_mode=\"nearest\",\n",
        "        horizontal_flip=True,vertical_flip=True,validation_split=0.2)"
      ],
      "execution_count": 0,
      "outputs": []
    },
    {
      "cell_type": "code",
      "metadata": {
        "id": "gPSbP0aEQKu0",
        "colab_type": "code",
        "outputId": "be6cb259-7312-43a9-ee6d-eb06d0a82985",
        "colab": {
          "base_uri": "https://localhost:8080/",
          "height": 34
        }
      },
      "source": [
        "training_set = datagen.flow_from_directory(\n",
        "        '/content/drive/My Drive/data',\n",
        "        target_size=(128, 128),\n",
        "        shuffle=True,\n",
        "        subset=\"training\",\n",
        "        batch_size=32,\n",
        "        class_mode='categorical')"
      ],
      "execution_count": 7,
      "outputs": [
        {
          "output_type": "stream",
          "text": [
            "Found 800 images belonging to 4 classes.\n"
          ],
          "name": "stdout"
        }
      ]
    },
    {
      "cell_type": "code",
      "metadata": {
        "id": "oBaBY-BoQLuB",
        "colab_type": "code",
        "outputId": "98510911-cb45-43d3-9eb1-aa49d73ca555",
        "colab": {
          "base_uri": "https://localhost:8080/",
          "height": 34
        }
      },
      "source": [
        "test_set = datagen.flow_from_directory(\n",
        "        '/content/drive/My Drive/data',\n",
        "        target_size=(128, 128),\n",
        "        shuffle=True,\n",
        "        subset=\"validation\",\n",
        "        batch_size=32,)"
      ],
      "execution_count": 8,
      "outputs": [
        {
          "output_type": "stream",
          "text": [
            "Found 200 images belonging to 4 classes.\n"
          ],
          "name": "stdout"
        }
      ]
    },
    {
      "cell_type": "code",
      "metadata": {
        "id": "uHFyuthhQPvx",
        "colab_type": "code",
        "outputId": "111560fe-731f-41e0-c41e-3653a7eca471",
        "colab": {
          "base_uri": "https://localhost:8080/",
          "height": 1000
        }
      },
      "source": [
        "classifier.fit(training_set,validation_data=test_set,epochs=100)"
      ],
      "execution_count": 9,
      "outputs": [
        {
          "output_type": "stream",
          "text": [
            "Epoch 1/100\n",
            "25/25 [==============================] - 321s 13s/step - loss: 1.3865 - accuracy: 0.2763 - val_loss: 1.3855 - val_accuracy: 0.2750\n",
            "Epoch 2/100\n",
            "25/25 [==============================] - 20s 814ms/step - loss: 1.3855 - accuracy: 0.2338 - val_loss: 1.3847 - val_accuracy: 0.2850\n",
            "Epoch 3/100\n",
            "25/25 [==============================] - 21s 822ms/step - loss: 1.3839 - accuracy: 0.2688 - val_loss: 1.3836 - val_accuracy: 0.2500\n",
            "Epoch 4/100\n",
            "25/25 [==============================] - 20s 819ms/step - loss: 1.3836 - accuracy: 0.2663 - val_loss: 1.3826 - val_accuracy: 0.2500\n",
            "Epoch 5/100\n",
            "25/25 [==============================] - 20s 816ms/step - loss: 1.3822 - accuracy: 0.2800 - val_loss: 1.3812 - val_accuracy: 0.2500\n",
            "Epoch 6/100\n",
            "25/25 [==============================] - 20s 810ms/step - loss: 1.3789 - accuracy: 0.2988 - val_loss: 1.3793 - val_accuracy: 0.2500\n",
            "Epoch 7/100\n",
            "25/25 [==============================] - 20s 806ms/step - loss: 1.3794 - accuracy: 0.2862 - val_loss: 1.3772 - val_accuracy: 0.2500\n",
            "Epoch 8/100\n",
            "25/25 [==============================] - 20s 803ms/step - loss: 1.3776 - accuracy: 0.2775 - val_loss: 1.3744 - val_accuracy: 0.2500\n",
            "Epoch 9/100\n",
            "25/25 [==============================] - 20s 808ms/step - loss: 1.3739 - accuracy: 0.2862 - val_loss: 1.3703 - val_accuracy: 0.2500\n",
            "Epoch 10/100\n",
            "25/25 [==============================] - 20s 805ms/step - loss: 1.3717 - accuracy: 0.2850 - val_loss: 1.3659 - val_accuracy: 0.2550\n",
            "Epoch 11/100\n",
            "25/25 [==============================] - 20s 819ms/step - loss: 1.3677 - accuracy: 0.2738 - val_loss: 1.3602 - val_accuracy: 0.2600\n",
            "Epoch 12/100\n",
            "25/25 [==============================] - 20s 805ms/step - loss: 1.3600 - accuracy: 0.3075 - val_loss: 1.3518 - val_accuracy: 0.2650\n",
            "Epoch 13/100\n",
            "25/25 [==============================] - 20s 799ms/step - loss: 1.3473 - accuracy: 0.3187 - val_loss: 1.3391 - val_accuracy: 0.2600\n",
            "Epoch 14/100\n",
            "25/25 [==============================] - 20s 803ms/step - loss: 1.3346 - accuracy: 0.3075 - val_loss: 1.3245 - val_accuracy: 0.2800\n",
            "Epoch 15/100\n",
            "25/25 [==============================] - 20s 818ms/step - loss: 1.3205 - accuracy: 0.3250 - val_loss: 1.3021 - val_accuracy: 0.2800\n",
            "Epoch 16/100\n",
            "25/25 [==============================] - 20s 813ms/step - loss: 1.2997 - accuracy: 0.3650 - val_loss: 1.2785 - val_accuracy: 0.2900\n",
            "Epoch 17/100\n",
            "25/25 [==============================] - 19s 775ms/step - loss: 1.2758 - accuracy: 0.4025 - val_loss: 1.2482 - val_accuracy: 0.3600\n",
            "Epoch 18/100\n",
            "25/25 [==============================] - 19s 772ms/step - loss: 1.2419 - accuracy: 0.4525 - val_loss: 1.2157 - val_accuracy: 0.4850\n",
            "Epoch 19/100\n",
            "25/25 [==============================] - 19s 773ms/step - loss: 1.2144 - accuracy: 0.4650 - val_loss: 1.1958 - val_accuracy: 0.4850\n",
            "Epoch 20/100\n",
            "25/25 [==============================] - 19s 773ms/step - loss: 1.1977 - accuracy: 0.4712 - val_loss: 1.2228 - val_accuracy: 0.4650\n",
            "Epoch 21/100\n",
            "25/25 [==============================] - 19s 774ms/step - loss: 1.1498 - accuracy: 0.4737 - val_loss: 1.1622 - val_accuracy: 0.5350\n",
            "Epoch 22/100\n",
            "25/25 [==============================] - 19s 770ms/step - loss: 1.1527 - accuracy: 0.4675 - val_loss: 1.2514 - val_accuracy: 0.4900\n",
            "Epoch 23/100\n",
            "25/25 [==============================] - 19s 774ms/step - loss: 1.1449 - accuracy: 0.4487 - val_loss: 1.2337 - val_accuracy: 0.5100\n",
            "Epoch 24/100\n",
            "25/25 [==============================] - 20s 780ms/step - loss: 1.1582 - accuracy: 0.4400 - val_loss: 1.0964 - val_accuracy: 0.5250\n",
            "Epoch 25/100\n",
            "25/25 [==============================] - 20s 800ms/step - loss: 1.1546 - accuracy: 0.4525 - val_loss: 1.1423 - val_accuracy: 0.5450\n",
            "Epoch 26/100\n",
            "25/25 [==============================] - 19s 769ms/step - loss: 1.1348 - accuracy: 0.4625 - val_loss: 1.4247 - val_accuracy: 0.2500\n",
            "Epoch 27/100\n",
            "25/25 [==============================] - 19s 771ms/step - loss: 1.1351 - accuracy: 0.4600 - val_loss: 1.0744 - val_accuracy: 0.5100\n",
            "Epoch 28/100\n",
            "25/25 [==============================] - 19s 766ms/step - loss: 1.1097 - accuracy: 0.4650 - val_loss: 1.0594 - val_accuracy: 0.5300\n",
            "Epoch 29/100\n",
            "25/25 [==============================] - 19s 767ms/step - loss: 1.0846 - accuracy: 0.4700 - val_loss: 1.0319 - val_accuracy: 0.5350\n",
            "Epoch 30/100\n",
            "25/25 [==============================] - 19s 768ms/step - loss: 1.0851 - accuracy: 0.4650 - val_loss: 1.0511 - val_accuracy: 0.5200\n",
            "Epoch 31/100\n",
            "25/25 [==============================] - 21s 826ms/step - loss: 1.1561 - accuracy: 0.4575 - val_loss: 1.1690 - val_accuracy: 0.5300\n",
            "Epoch 32/100\n",
            "25/25 [==============================] - 20s 786ms/step - loss: 1.0660 - accuracy: 0.4850 - val_loss: 1.0333 - val_accuracy: 0.5300\n",
            "Epoch 33/100\n",
            "25/25 [==============================] - 20s 795ms/step - loss: 1.0768 - accuracy: 0.4863 - val_loss: 1.0195 - val_accuracy: 0.6000\n",
            "Epoch 34/100\n",
            "25/25 [==============================] - 20s 799ms/step - loss: 1.0720 - accuracy: 0.4812 - val_loss: 1.0066 - val_accuracy: 0.6050\n",
            "Epoch 35/100\n",
            "25/25 [==============================] - 20s 797ms/step - loss: 1.0655 - accuracy: 0.4688 - val_loss: 1.0195 - val_accuracy: 0.5250\n",
            "Epoch 36/100\n",
            "25/25 [==============================] - 20s 801ms/step - loss: 1.0381 - accuracy: 0.4888 - val_loss: 1.4020 - val_accuracy: 0.4800\n",
            "Epoch 37/100\n",
            "25/25 [==============================] - 20s 781ms/step - loss: 1.0811 - accuracy: 0.4575 - val_loss: 1.0240 - val_accuracy: 0.5150\n",
            "Epoch 38/100\n",
            "25/25 [==============================] - 20s 782ms/step - loss: 1.0440 - accuracy: 0.4675 - val_loss: 1.0834 - val_accuracy: 0.5250\n",
            "Epoch 39/100\n",
            "25/25 [==============================] - 20s 783ms/step - loss: 1.0449 - accuracy: 0.4675 - val_loss: 1.0200 - val_accuracy: 0.6700\n",
            "Epoch 40/100\n",
            "25/25 [==============================] - 19s 778ms/step - loss: 1.0583 - accuracy: 0.4888 - val_loss: 1.0280 - val_accuracy: 0.5250\n",
            "Epoch 41/100\n",
            "25/25 [==============================] - 19s 777ms/step - loss: 1.1563 - accuracy: 0.4387 - val_loss: 1.0116 - val_accuracy: 0.6900\n",
            "Epoch 42/100\n",
            "25/25 [==============================] - 20s 803ms/step - loss: 1.0261 - accuracy: 0.4925 - val_loss: 1.0425 - val_accuracy: 0.5250\n",
            "Epoch 43/100\n",
            "25/25 [==============================] - 19s 774ms/step - loss: 1.0509 - accuracy: 0.4650 - val_loss: 1.1456 - val_accuracy: 0.3650\n",
            "Epoch 44/100\n",
            "25/25 [==============================] - 19s 771ms/step - loss: 1.0560 - accuracy: 0.4625 - val_loss: 0.9873 - val_accuracy: 0.5650\n",
            "Epoch 45/100\n",
            "25/25 [==============================] - 19s 773ms/step - loss: 1.0727 - accuracy: 0.4650 - val_loss: 1.0106 - val_accuracy: 0.5200\n",
            "Epoch 46/100\n",
            "25/25 [==============================] - 19s 778ms/step - loss: 1.0080 - accuracy: 0.4650 - val_loss: 1.1101 - val_accuracy: 0.5100\n",
            "Epoch 47/100\n",
            "25/25 [==============================] - 19s 776ms/step - loss: 1.0532 - accuracy: 0.4812 - val_loss: 0.9998 - val_accuracy: 0.6950\n",
            "Epoch 48/100\n",
            "25/25 [==============================] - 20s 786ms/step - loss: 1.0229 - accuracy: 0.4800 - val_loss: 0.9747 - val_accuracy: 0.7250\n",
            "Epoch 49/100\n",
            "25/25 [==============================] - 19s 772ms/step - loss: 1.0236 - accuracy: 0.4888 - val_loss: 0.9840 - val_accuracy: 0.4600\n",
            "Epoch 50/100\n",
            "25/25 [==============================] - 19s 774ms/step - loss: 1.0397 - accuracy: 0.4775 - val_loss: 0.9660 - val_accuracy: 0.7000\n",
            "Epoch 51/100\n",
            "25/25 [==============================] - 19s 771ms/step - loss: 0.9940 - accuracy: 0.5038 - val_loss: 0.9857 - val_accuracy: 0.5400\n",
            "Epoch 52/100\n",
            "25/25 [==============================] - 19s 773ms/step - loss: 1.0314 - accuracy: 0.4563 - val_loss: 1.3398 - val_accuracy: 0.5450\n",
            "Epoch 53/100\n",
            "25/25 [==============================] - 20s 780ms/step - loss: 1.0469 - accuracy: 0.4800 - val_loss: 1.0379 - val_accuracy: 0.5400\n",
            "Epoch 54/100\n",
            "25/25 [==============================] - 19s 770ms/step - loss: 1.0318 - accuracy: 0.4762 - val_loss: 1.0927 - val_accuracy: 0.4550\n",
            "Epoch 55/100\n",
            "25/25 [==============================] - 19s 771ms/step - loss: 1.0022 - accuracy: 0.4975 - val_loss: 0.9967 - val_accuracy: 0.4450\n",
            "Epoch 56/100\n",
            "25/25 [==============================] - 19s 767ms/step - loss: 1.0069 - accuracy: 0.4938 - val_loss: 1.0172 - val_accuracy: 0.4300\n",
            "Epoch 57/100\n",
            "25/25 [==============================] - 19s 770ms/step - loss: 1.0066 - accuracy: 0.4800 - val_loss: 1.0187 - val_accuracy: 0.4100\n",
            "Epoch 58/100\n",
            "25/25 [==============================] - 19s 769ms/step - loss: 0.9998 - accuracy: 0.5050 - val_loss: 0.9749 - val_accuracy: 0.4450\n",
            "Epoch 59/100\n",
            "25/25 [==============================] - 19s 769ms/step - loss: 0.9882 - accuracy: 0.4988 - val_loss: 0.9543 - val_accuracy: 0.6300\n",
            "Epoch 60/100\n",
            "25/25 [==============================] - 19s 771ms/step - loss: 0.9776 - accuracy: 0.5013 - val_loss: 0.9633 - val_accuracy: 0.5150\n",
            "Epoch 61/100\n",
            "25/25 [==============================] - 19s 779ms/step - loss: 1.0263 - accuracy: 0.4712 - val_loss: 1.0366 - val_accuracy: 0.4300\n",
            "Epoch 62/100\n",
            "25/25 [==============================] - 19s 773ms/step - loss: 1.0148 - accuracy: 0.4737 - val_loss: 1.0307 - val_accuracy: 0.4350\n",
            "Epoch 63/100\n",
            "25/25 [==============================] - 19s 767ms/step - loss: 1.0534 - accuracy: 0.4850 - val_loss: 1.0255 - val_accuracy: 0.5150\n",
            "Epoch 64/100\n",
            "25/25 [==============================] - 19s 774ms/step - loss: 0.9727 - accuracy: 0.5038 - val_loss: 1.0054 - val_accuracy: 0.6200\n",
            "Epoch 65/100\n",
            "25/25 [==============================] - 19s 771ms/step - loss: 1.0282 - accuracy: 0.5050 - val_loss: 0.9489 - val_accuracy: 0.5450\n",
            "Epoch 66/100\n",
            "25/25 [==============================] - 20s 781ms/step - loss: 1.0123 - accuracy: 0.4963 - val_loss: 1.0091 - val_accuracy: 0.5400\n",
            "Epoch 67/100\n",
            "25/25 [==============================] - 19s 774ms/step - loss: 1.0002 - accuracy: 0.4913 - val_loss: 0.9701 - val_accuracy: 0.4650\n",
            "Epoch 68/100\n",
            "25/25 [==============================] - 20s 790ms/step - loss: 0.9944 - accuracy: 0.4888 - val_loss: 1.0124 - val_accuracy: 0.4900\n",
            "Epoch 69/100\n",
            "25/25 [==============================] - 20s 783ms/step - loss: 0.9890 - accuracy: 0.4988 - val_loss: 0.9421 - val_accuracy: 0.6200\n",
            "Epoch 70/100\n",
            "25/25 [==============================] - 20s 781ms/step - loss: 1.0029 - accuracy: 0.4762 - val_loss: 0.9806 - val_accuracy: 0.4100\n",
            "Epoch 71/100\n",
            "25/25 [==============================] - 20s 781ms/step - loss: 0.9870 - accuracy: 0.5000 - val_loss: 0.9466 - val_accuracy: 0.7200\n",
            "Epoch 72/100\n",
            "25/25 [==============================] - 20s 788ms/step - loss: 0.9791 - accuracy: 0.4950 - val_loss: 0.9521 - val_accuracy: 0.7100\n",
            "Epoch 73/100\n",
            "25/25 [==============================] - 20s 783ms/step - loss: 1.0010 - accuracy: 0.4800 - val_loss: 0.9943 - val_accuracy: 0.5600\n",
            "Epoch 74/100\n",
            "25/25 [==============================] - 20s 785ms/step - loss: 0.9936 - accuracy: 0.5050 - val_loss: 0.9481 - val_accuracy: 0.6150\n",
            "Epoch 75/100\n",
            "25/25 [==============================] - 20s 786ms/step - loss: 0.9709 - accuracy: 0.5013 - val_loss: 0.9968 - val_accuracy: 0.5000\n",
            "Epoch 76/100\n",
            "25/25 [==============================] - 20s 790ms/step - loss: 0.9865 - accuracy: 0.4900 - val_loss: 0.9460 - val_accuracy: 0.7100\n",
            "Epoch 77/100\n",
            "25/25 [==============================] - 20s 789ms/step - loss: 0.9836 - accuracy: 0.4938 - val_loss: 1.0130 - val_accuracy: 0.5250\n",
            "Epoch 78/100\n",
            "25/25 [==============================] - 20s 789ms/step - loss: 1.0013 - accuracy: 0.4850 - val_loss: 0.9503 - val_accuracy: 0.7450\n",
            "Epoch 79/100\n",
            "25/25 [==============================] - 20s 790ms/step - loss: 0.9952 - accuracy: 0.4825 - val_loss: 0.9627 - val_accuracy: 0.5450\n",
            "Epoch 80/100\n",
            "25/25 [==============================] - 20s 786ms/step - loss: 0.9689 - accuracy: 0.5150 - val_loss: 0.9507 - val_accuracy: 0.7250\n",
            "Epoch 81/100\n",
            "25/25 [==============================] - 20s 783ms/step - loss: 1.0013 - accuracy: 0.4938 - val_loss: 0.9744 - val_accuracy: 0.5050\n",
            "Epoch 82/100\n",
            "25/25 [==============================] - 20s 782ms/step - loss: 0.9744 - accuracy: 0.5188 - val_loss: 0.9988 - val_accuracy: 0.5100\n",
            "Epoch 83/100\n",
            "25/25 [==============================] - 20s 784ms/step - loss: 0.9905 - accuracy: 0.5288 - val_loss: 0.9715 - val_accuracy: 0.5250\n",
            "Epoch 84/100\n",
            "25/25 [==============================] - 20s 785ms/step - loss: 0.9697 - accuracy: 0.5200 - val_loss: 0.9548 - val_accuracy: 0.7550\n",
            "Epoch 85/100\n",
            "25/25 [==============================] - 20s 781ms/step - loss: 0.9751 - accuracy: 0.4975 - val_loss: 0.9472 - val_accuracy: 0.7300\n",
            "Epoch 86/100\n",
            "25/25 [==============================] - 20s 788ms/step - loss: 0.9617 - accuracy: 0.5125 - val_loss: 0.9646 - val_accuracy: 0.7150\n",
            "Epoch 87/100\n",
            "25/25 [==============================] - 20s 784ms/step - loss: 0.9829 - accuracy: 0.4863 - val_loss: 0.9409 - val_accuracy: 0.7600\n",
            "Epoch 88/100\n",
            "25/25 [==============================] - 20s 786ms/step - loss: 1.0183 - accuracy: 0.5075 - val_loss: 0.9454 - val_accuracy: 0.7300\n",
            "Epoch 89/100\n",
            "25/25 [==============================] - 20s 783ms/step - loss: 0.9781 - accuracy: 0.5050 - val_loss: 0.9399 - val_accuracy: 0.7400\n",
            "Epoch 90/100\n",
            "25/25 [==============================] - 20s 795ms/step - loss: 0.9578 - accuracy: 0.5125 - val_loss: 0.9910 - val_accuracy: 0.5450\n",
            "Epoch 91/100\n",
            "25/25 [==============================] - 20s 799ms/step - loss: 0.9854 - accuracy: 0.5325 - val_loss: 0.9772 - val_accuracy: 0.5550\n",
            "Epoch 92/100\n",
            "25/25 [==============================] - 20s 815ms/step - loss: 0.9710 - accuracy: 0.5238 - val_loss: 1.0714 - val_accuracy: 0.5800\n",
            "Epoch 93/100\n",
            "25/25 [==============================] - 20s 802ms/step - loss: 0.9740 - accuracy: 0.5188 - val_loss: 0.9542 - val_accuracy: 0.5700\n",
            "Epoch 94/100\n",
            "25/25 [==============================] - 20s 792ms/step - loss: 0.9480 - accuracy: 0.5475 - val_loss: 0.9729 - val_accuracy: 0.5650\n",
            "Epoch 95/100\n",
            "25/25 [==============================] - 20s 808ms/step - loss: 0.9652 - accuracy: 0.5425 - val_loss: 0.9414 - val_accuracy: 0.7400\n",
            "Epoch 96/100\n",
            "25/25 [==============================] - 20s 782ms/step - loss: 0.9375 - accuracy: 0.5763 - val_loss: 0.9279 - val_accuracy: 0.7900\n",
            "Epoch 97/100\n",
            "25/25 [==============================] - 20s 787ms/step - loss: 0.9582 - accuracy: 0.5462 - val_loss: 0.9393 - val_accuracy: 0.7300\n",
            "Epoch 98/100\n",
            "25/25 [==============================] - 20s 785ms/step - loss: 0.9711 - accuracy: 0.5387 - val_loss: 0.9488 - val_accuracy: 0.7650\n",
            "Epoch 99/100\n",
            "25/25 [==============================] - 20s 794ms/step - loss: 0.9917 - accuracy: 0.5525 - val_loss: 1.0010 - val_accuracy: 0.5500\n",
            "Epoch 100/100\n",
            "25/25 [==============================] - 20s 784ms/step - loss: 0.9601 - accuracy: 0.5587 - val_loss: 0.9520 - val_accuracy: 0.7100\n"
          ],
          "name": "stdout"
        },
        {
          "output_type": "execute_result",
          "data": {
            "text/plain": [
              "<tensorflow.python.keras.callbacks.History at 0x7f17f32f20f0>"
            ]
          },
          "metadata": {
            "tags": []
          },
          "execution_count": 9
        }
      ]
    }
  ]
}