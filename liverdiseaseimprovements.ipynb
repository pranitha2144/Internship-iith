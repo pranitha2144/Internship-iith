{
  "nbformat": 4,
  "nbformat_minor": 0,
  "metadata": {
    "colab": {
      "name": "liverdiseaseimprovements.ipynb",
      "provenance": [],
      "mount_file_id": "1HbxHYN6N0HhdKkAY9qNCP2SEzyaI6-PR",
      "authorship_tag": "ABX9TyP+HZ/MKdZkixjnqF1/I30i",
      "include_colab_link": true
    },
    "kernelspec": {
      "name": "python3",
      "display_name": "Python 3"
    }
  },
  "cells": [
    {
      "cell_type": "markdown",
      "metadata": {
        "id": "view-in-github",
        "colab_type": "text"
      },
      "source": [
        "<a href=\"https://colab.research.google.com/github/pranitha2144/Internship-iith/blob/master/liverdiseaseimprovements.ipynb\" target=\"_parent\"><img src=\"https://colab.research.google.com/assets/colab-badge.svg\" alt=\"Open In Colab\"/></a>"
      ]
    },
    {
      "cell_type": "code",
      "metadata": {
        "id": "8p83AHVFISQD",
        "colab_type": "code",
        "colab": {}
      },
      "source": [
        "import tensorflow as tf\n",
        "from tensorflow.keras.models import Sequential\n",
        "from tensorflow.keras.layers import Dense, Conv2D, MaxPooling2D, Flatten,Dropout,SpatialDropout2D"
      ],
      "execution_count": 0,
      "outputs": []
    },
    {
      "cell_type": "code",
      "metadata": {
        "id": "BzKnKlupP44L",
        "colab_type": "code",
        "colab": {}
      },
      "source": [
        "classifier = Sequential([Conv2D(32,(3,3),activation='relu',input_shape=(128,128,3)),\n",
        "                         MaxPooling2D(2,2),\n",
        "                         Conv2D(32,(3,3),activation='relu'),\n",
        "                         MaxPooling2D(2,2),\n",
        "                         Conv2D(64,(3,3),activation='relu'),\n",
        "                         MaxPooling2D(2,2),\n",
        "                         Conv2D(64,(3,3),activation='relu'),\n",
        "                         MaxPooling2D(2,2),\n",
        "                         Conv2D(128,(3,3),activation='relu'),\n",
        "                         SpatialDropout2D(0.5),\n",
        "                         MaxPooling2D(2,2),\n",
        "                         Flatten(),\n",
        "                         Dense(128,activation='relu'),\n",
        "                         Dropout(0.3),\n",
        "                         Dropout(0.6),\n",
        "                         Dense(256,activation='relu'),\n",
        "                         Dense(256,activation='relu'),\n",
        "                         Dense(4,activation='softmax')\n",
        "\n",
        "\n",
        "\n",
        "])"
      ],
      "execution_count": 0,
      "outputs": []
    },
    {
      "cell_type": "code",
      "metadata": {
        "id": "AYw2ZRtFP77w",
        "colab_type": "code",
        "colab": {}
      },
      "source": [
        "classifier.compile(loss='categorical_crossentropy', optimizer='RMSprop', metrics=['accuracy'])"
      ],
      "execution_count": 0,
      "outputs": []
    },
    {
      "cell_type": "code",
      "metadata": {
        "id": "DiZVJky-QAS7",
        "colab_type": "code",
        "outputId": "270a257d-c4db-4c00-c6ea-67ec5ca1ba0c",
        "colab": {
          "base_uri": "https://localhost:8080/",
          "height": 34
        }
      },
      "source": [
        "from keras.preprocessing.image import ImageDataGenerator"
      ],
      "execution_count": 0,
      "outputs": [
        {
          "output_type": "stream",
          "text": [
            "Using TensorFlow backend.\n"
          ],
          "name": "stderr"
        }
      ]
    },
    {
      "cell_type": "code",
      "metadata": {
        "id": "oqbZsTxbQEQV",
        "colab_type": "code",
        "colab": {}
      },
      "source": [
        "datagen = ImageDataGenerator(\n",
        "        rescale=1./255,\n",
        "        rotation_range=20,\n",
        "        shear_range=0.2,\n",
        "        zoom_range=0.2,\n",
        "        width_shift_range=0.2,\n",
        "        height_shift_range=0.2,\n",
        "        fill_mode=\"nearest\",\n",
        "        horizontal_flip=True,vertical_flip=True,validation_split=0.2)"
      ],
      "execution_count": 0,
      "outputs": []
    },
    {
      "cell_type": "code",
      "metadata": {
        "id": "gPSbP0aEQKu0",
        "colab_type": "code",
        "outputId": "c6d1e7c4-9cd2-44af-c93a-928297510389",
        "colab": {
          "base_uri": "https://localhost:8080/",
          "height": 34
        }
      },
      "source": [
        "training_set = datagen.flow_from_directory(\n",
        "        '/content/drive/My Drive/data',\n",
        "        target_size=(128, 128),\n",
        "        shuffle=True,\n",
        "        subset=\"training\",\n",
        "        batch_size=32,\n",
        "        class_mode='categorical')"
      ],
      "execution_count": 0,
      "outputs": [
        {
          "output_type": "stream",
          "text": [
            "Found 800 images belonging to 4 classes.\n"
          ],
          "name": "stdout"
        }
      ]
    },
    {
      "cell_type": "code",
      "metadata": {
        "id": "oBaBY-BoQLuB",
        "colab_type": "code",
        "outputId": "c3cdee17-8a9f-4818-8ae2-34eede0ebd4c",
        "colab": {
          "base_uri": "https://localhost:8080/",
          "height": 34
        }
      },
      "source": [
        "test_set = datagen.flow_from_directory(\n",
        "        '/content/drive/My Drive/data',\n",
        "        target_size=(128, 128),\n",
        "        shuffle=True,\n",
        "        subset=\"validation\",\n",
        "        batch_size=32,)"
      ],
      "execution_count": 0,
      "outputs": [
        {
          "output_type": "stream",
          "text": [
            "Found 200 images belonging to 4 classes.\n"
          ],
          "name": "stdout"
        }
      ]
    },
    {
      "cell_type": "code",
      "metadata": {
        "id": "uHFyuthhQPvx",
        "colab_type": "code",
        "outputId": "f7c3c45b-3435-4e28-b56e-5099b0cba44c",
        "colab": {
          "base_uri": "https://localhost:8080/",
          "height": 1000
        }
      },
      "source": [
        "classifier.fit(training_set,validation_data=test_set,epochs=100)"
      ],
      "execution_count": 0,
      "outputs": [
        {
          "output_type": "stream",
          "text": [
            "Epoch 1/100\n",
            "25/25 [==============================] - 504s 20s/step - loss: 1.3865 - accuracy: 0.2663 - val_loss: 1.3633 - val_accuracy: 0.3100\n",
            "Epoch 2/100\n",
            "25/25 [==============================] - 19s 779ms/step - loss: 1.3612 - accuracy: 0.2937 - val_loss: 1.3269 - val_accuracy: 0.2500\n",
            "Epoch 3/100\n",
            "25/25 [==============================] - 19s 775ms/step - loss: 1.3636 - accuracy: 0.3500 - val_loss: 1.3998 - val_accuracy: 0.2500\n",
            "Epoch 4/100\n",
            "25/25 [==============================] - 20s 780ms/step - loss: 1.3208 - accuracy: 0.3388 - val_loss: 1.4059 - val_accuracy: 0.2500\n",
            "Epoch 5/100\n",
            "25/25 [==============================] - 20s 784ms/step - loss: 1.3219 - accuracy: 0.3562 - val_loss: 1.5529 - val_accuracy: 0.3500\n",
            "Epoch 6/100\n",
            "25/25 [==============================] - 19s 773ms/step - loss: 1.2664 - accuracy: 0.4162 - val_loss: 1.0982 - val_accuracy: 0.4050\n",
            "Epoch 7/100\n",
            "25/25 [==============================] - 19s 772ms/step - loss: 1.2336 - accuracy: 0.3837 - val_loss: 1.1528 - val_accuracy: 0.5000\n",
            "Epoch 8/100\n",
            "25/25 [==============================] - 19s 779ms/step - loss: 1.2829 - accuracy: 0.3950 - val_loss: 1.4568 - val_accuracy: 0.2500\n",
            "Epoch 9/100\n",
            "25/25 [==============================] - 19s 774ms/step - loss: 1.1988 - accuracy: 0.4387 - val_loss: 1.5564 - val_accuracy: 0.2500\n",
            "Epoch 10/100\n",
            "25/25 [==============================] - 19s 774ms/step - loss: 1.4115 - accuracy: 0.2763 - val_loss: 1.4416 - val_accuracy: 0.2500\n",
            "Epoch 11/100\n",
            "25/25 [==============================] - 19s 772ms/step - loss: 1.3664 - accuracy: 0.3250 - val_loss: 1.2953 - val_accuracy: 0.3200\n",
            "Epoch 12/100\n",
            "25/25 [==============================] - 19s 771ms/step - loss: 1.3555 - accuracy: 0.3375 - val_loss: 1.2520 - val_accuracy: 0.4550\n",
            "Epoch 13/100\n",
            "25/25 [==============================] - 19s 775ms/step - loss: 1.2451 - accuracy: 0.3713 - val_loss: 1.0577 - val_accuracy: 0.5600\n",
            "Epoch 14/100\n",
            "25/25 [==============================] - 19s 766ms/step - loss: 1.2881 - accuracy: 0.3812 - val_loss: 1.4555 - val_accuracy: 0.2500\n",
            "Epoch 15/100\n",
            "25/25 [==============================] - 19s 767ms/step - loss: 1.4149 - accuracy: 0.2325 - val_loss: 1.3899 - val_accuracy: 0.2950\n",
            "Epoch 16/100\n",
            "25/25 [==============================] - 19s 770ms/step - loss: 1.3339 - accuracy: 0.3750 - val_loss: 1.0637 - val_accuracy: 0.5650\n",
            "Epoch 17/100\n",
            "25/25 [==============================] - 19s 771ms/step - loss: 1.0914 - accuracy: 0.4750 - val_loss: 0.9995 - val_accuracy: 0.4450\n",
            "Epoch 18/100\n",
            "25/25 [==============================] - 19s 766ms/step - loss: 1.0984 - accuracy: 0.4613 - val_loss: 1.0739 - val_accuracy: 0.4100\n",
            "Epoch 19/100\n",
            "25/25 [==============================] - 19s 767ms/step - loss: 1.0405 - accuracy: 0.4888 - val_loss: 1.4268 - val_accuracy: 0.3250\n",
            "Epoch 20/100\n",
            "25/25 [==============================] - 19s 769ms/step - loss: 1.0093 - accuracy: 0.5375 - val_loss: 1.1729 - val_accuracy: 0.4000\n",
            "Epoch 21/100\n",
            "25/25 [==============================] - 19s 767ms/step - loss: 1.0180 - accuracy: 0.5587 - val_loss: 0.8540 - val_accuracy: 0.6450\n",
            "Epoch 22/100\n",
            "25/25 [==============================] - 19s 771ms/step - loss: 0.9337 - accuracy: 0.6000 - val_loss: 0.7401 - val_accuracy: 0.7150\n",
            "Epoch 23/100\n",
            "25/25 [==============================] - 19s 769ms/step - loss: 0.8957 - accuracy: 0.6200 - val_loss: 0.8206 - val_accuracy: 0.6700\n",
            "Epoch 24/100\n",
            "25/25 [==============================] - 19s 773ms/step - loss: 1.0347 - accuracy: 0.5813 - val_loss: 0.8360 - val_accuracy: 0.6650\n",
            "Epoch 25/100\n",
            "25/25 [==============================] - 19s 769ms/step - loss: 0.9509 - accuracy: 0.6175 - val_loss: 0.8732 - val_accuracy: 0.4250\n",
            "Epoch 26/100\n",
            "25/25 [==============================] - 19s 777ms/step - loss: 0.8758 - accuracy: 0.6263 - val_loss: 0.9584 - val_accuracy: 0.5350\n",
            "Epoch 27/100\n",
            "25/25 [==============================] - 19s 775ms/step - loss: 0.9178 - accuracy: 0.6112 - val_loss: 0.7430 - val_accuracy: 0.6700\n",
            "Epoch 28/100\n",
            "25/25 [==============================] - 19s 775ms/step - loss: 1.0147 - accuracy: 0.5800 - val_loss: 1.0425 - val_accuracy: 0.4200\n",
            "Epoch 29/100\n",
            "25/25 [==============================] - 19s 779ms/step - loss: 0.8881 - accuracy: 0.6250 - val_loss: 0.8626 - val_accuracy: 0.5200\n",
            "Epoch 30/100\n",
            "25/25 [==============================] - 19s 777ms/step - loss: 0.8187 - accuracy: 0.6363 - val_loss: 0.8286 - val_accuracy: 0.6150\n",
            "Epoch 31/100\n",
            "25/25 [==============================] - 19s 772ms/step - loss: 0.8826 - accuracy: 0.6388 - val_loss: 0.9136 - val_accuracy: 0.5700\n",
            "Epoch 32/100\n",
            "25/25 [==============================] - 19s 770ms/step - loss: 1.0754 - accuracy: 0.6137 - val_loss: 0.9974 - val_accuracy: 0.4450\n",
            "Epoch 33/100\n",
            "25/25 [==============================] - 19s 774ms/step - loss: 0.9150 - accuracy: 0.6175 - val_loss: 0.7703 - val_accuracy: 0.7050\n",
            "Epoch 34/100\n",
            "25/25 [==============================] - 19s 780ms/step - loss: 0.7874 - accuracy: 0.6525 - val_loss: 0.8032 - val_accuracy: 0.6550\n",
            "Epoch 35/100\n",
            "25/25 [==============================] - 19s 774ms/step - loss: 0.8956 - accuracy: 0.6200 - val_loss: 0.6717 - val_accuracy: 0.7550\n",
            "Epoch 36/100\n",
            "25/25 [==============================] - 19s 770ms/step - loss: 0.8816 - accuracy: 0.6275 - val_loss: 1.0242 - val_accuracy: 0.5200\n",
            "Epoch 37/100\n",
            "25/25 [==============================] - 19s 771ms/step - loss: 0.8163 - accuracy: 0.6488 - val_loss: 0.7107 - val_accuracy: 0.7200\n",
            "Epoch 38/100\n",
            "25/25 [==============================] - 19s 771ms/step - loss: 0.8522 - accuracy: 0.6313 - val_loss: 0.8026 - val_accuracy: 0.6400\n",
            "Epoch 39/100\n",
            "25/25 [==============================] - 19s 776ms/step - loss: 0.9063 - accuracy: 0.6363 - val_loss: 0.7419 - val_accuracy: 0.5850\n",
            "Epoch 40/100\n",
            "25/25 [==============================] - 19s 773ms/step - loss: 0.7962 - accuracy: 0.6450 - val_loss: 0.5909 - val_accuracy: 0.7600\n",
            "Epoch 41/100\n",
            "25/25 [==============================] - 19s 773ms/step - loss: 0.9591 - accuracy: 0.6413 - val_loss: 0.7689 - val_accuracy: 0.5700\n",
            "Epoch 42/100\n",
            "25/25 [==============================] - 19s 768ms/step - loss: 0.7867 - accuracy: 0.6737 - val_loss: 0.6454 - val_accuracy: 0.7450\n",
            "Epoch 43/100\n",
            "25/25 [==============================] - 19s 777ms/step - loss: 0.8622 - accuracy: 0.6500 - val_loss: 0.8559 - val_accuracy: 0.5650\n",
            "Epoch 44/100\n",
            "25/25 [==============================] - 20s 781ms/step - loss: 0.8283 - accuracy: 0.6513 - val_loss: 0.8208 - val_accuracy: 0.5550\n",
            "Epoch 45/100\n",
            "25/25 [==============================] - 19s 777ms/step - loss: 0.9087 - accuracy: 0.6425 - val_loss: 0.9420 - val_accuracy: 0.5150\n",
            "Epoch 46/100\n",
            "25/25 [==============================] - 19s 774ms/step - loss: 0.7040 - accuracy: 0.7100 - val_loss: 0.7381 - val_accuracy: 0.6250\n",
            "Epoch 47/100\n",
            "25/25 [==============================] - 19s 773ms/step - loss: 0.7708 - accuracy: 0.6750 - val_loss: 0.6752 - val_accuracy: 0.7100\n",
            "Epoch 48/100\n",
            "25/25 [==============================] - 19s 776ms/step - loss: 1.2405 - accuracy: 0.6425 - val_loss: 0.7204 - val_accuracy: 0.6400\n",
            "Epoch 49/100\n",
            "25/25 [==============================] - 19s 773ms/step - loss: 0.7174 - accuracy: 0.7000 - val_loss: 0.7041 - val_accuracy: 0.6200\n",
            "Epoch 50/100\n",
            "25/25 [==============================] - 19s 780ms/step - loss: 0.7204 - accuracy: 0.7000 - val_loss: 0.7148 - val_accuracy: 0.7450\n",
            "Epoch 51/100\n",
            "25/25 [==============================] - 19s 769ms/step - loss: 0.7777 - accuracy: 0.6975 - val_loss: 0.5641 - val_accuracy: 0.7250\n",
            "Epoch 52/100\n",
            "25/25 [==============================] - 19s 772ms/step - loss: 0.8365 - accuracy: 0.6850 - val_loss: 0.9505 - val_accuracy: 0.4800\n",
            "Epoch 53/100\n",
            "25/25 [==============================] - 19s 772ms/step - loss: 0.7644 - accuracy: 0.7000 - val_loss: 0.7177 - val_accuracy: 0.6350\n",
            "Epoch 54/100\n",
            "25/25 [==============================] - 19s 776ms/step - loss: 0.7132 - accuracy: 0.7025 - val_loss: 0.6238 - val_accuracy: 0.7700\n",
            "Epoch 55/100\n",
            "25/25 [==============================] - 19s 767ms/step - loss: 0.7468 - accuracy: 0.7325 - val_loss: 0.8293 - val_accuracy: 0.6750\n",
            "Epoch 56/100\n",
            "25/25 [==============================] - 19s 773ms/step - loss: 0.6979 - accuracy: 0.7362 - val_loss: 0.9823 - val_accuracy: 0.4650\n",
            "Epoch 57/100\n",
            "25/25 [==============================] - 19s 777ms/step - loss: 0.6973 - accuracy: 0.7325 - val_loss: 0.7202 - val_accuracy: 0.6350\n",
            "Epoch 58/100\n",
            "25/25 [==============================] - 19s 778ms/step - loss: 0.6660 - accuracy: 0.7312 - val_loss: 0.6268 - val_accuracy: 0.7950\n",
            "Epoch 59/100\n",
            "25/25 [==============================] - 20s 788ms/step - loss: 0.7609 - accuracy: 0.7188 - val_loss: 0.7107 - val_accuracy: 0.6400\n",
            "Epoch 60/100\n",
            "25/25 [==============================] - 19s 778ms/step - loss: 0.7111 - accuracy: 0.7225 - val_loss: 0.7732 - val_accuracy: 0.6100\n",
            "Epoch 61/100\n",
            "25/25 [==============================] - 20s 780ms/step - loss: 0.6731 - accuracy: 0.7175 - val_loss: 0.5056 - val_accuracy: 0.8100\n",
            "Epoch 62/100\n",
            "25/25 [==============================] - 20s 786ms/step - loss: 0.6419 - accuracy: 0.7613 - val_loss: 0.7729 - val_accuracy: 0.6450\n",
            "Epoch 63/100\n",
            "25/25 [==============================] - 20s 787ms/step - loss: 0.7432 - accuracy: 0.7050 - val_loss: 0.6527 - val_accuracy: 0.6450\n",
            "Epoch 64/100\n",
            "25/25 [==============================] - 19s 778ms/step - loss: 0.6284 - accuracy: 0.7437 - val_loss: 0.5369 - val_accuracy: 0.7900\n",
            "Epoch 65/100\n",
            "25/25 [==============================] - 19s 775ms/step - loss: 0.7140 - accuracy: 0.7450 - val_loss: 0.6446 - val_accuracy: 0.7450\n",
            "Epoch 66/100\n",
            "25/25 [==============================] - 19s 775ms/step - loss: 0.6440 - accuracy: 0.7600 - val_loss: 0.7991 - val_accuracy: 0.5700\n",
            "Epoch 67/100\n",
            "25/25 [==============================] - 19s 770ms/step - loss: 0.5561 - accuracy: 0.7887 - val_loss: 0.5596 - val_accuracy: 0.7600\n",
            "Epoch 68/100\n",
            "25/25 [==============================] - 19s 771ms/step - loss: 0.6711 - accuracy: 0.7400 - val_loss: 0.5367 - val_accuracy: 0.7800\n",
            "Epoch 69/100\n",
            "25/25 [==============================] - 19s 774ms/step - loss: 0.6532 - accuracy: 0.7450 - val_loss: 0.4740 - val_accuracy: 0.8600\n",
            "Epoch 70/100\n",
            "25/25 [==============================] - 19s 771ms/step - loss: 0.6005 - accuracy: 0.7812 - val_loss: 0.6354 - val_accuracy: 0.6900\n",
            "Epoch 71/100\n",
            "25/25 [==============================] - 19s 774ms/step - loss: 0.6969 - accuracy: 0.7450 - val_loss: 0.5177 - val_accuracy: 0.8100\n",
            "Epoch 72/100\n",
            "25/25 [==============================] - 19s 773ms/step - loss: 0.6065 - accuracy: 0.7588 - val_loss: 0.5663 - val_accuracy: 0.7750\n",
            "Epoch 73/100\n",
            "25/25 [==============================] - 19s 775ms/step - loss: 0.6302 - accuracy: 0.7513 - val_loss: 0.4905 - val_accuracy: 0.8300\n",
            "Epoch 74/100\n",
            "25/25 [==============================] - 19s 774ms/step - loss: 0.6448 - accuracy: 0.7575 - val_loss: 0.4708 - val_accuracy: 0.8350\n",
            "Epoch 75/100\n",
            "25/25 [==============================] - 19s 777ms/step - loss: 0.6201 - accuracy: 0.7613 - val_loss: 0.7400 - val_accuracy: 0.6450\n",
            "Epoch 76/100\n",
            "25/25 [==============================] - 19s 769ms/step - loss: 0.6266 - accuracy: 0.7700 - val_loss: 0.6699 - val_accuracy: 0.7100\n",
            "Epoch 77/100\n",
            "25/25 [==============================] - 19s 771ms/step - loss: 0.6282 - accuracy: 0.7525 - val_loss: 0.7124 - val_accuracy: 0.6450\n",
            "Epoch 78/100\n",
            "25/25 [==============================] - 19s 774ms/step - loss: 0.5843 - accuracy: 0.7788 - val_loss: 0.7753 - val_accuracy: 0.6600\n",
            "Epoch 79/100\n",
            "25/25 [==============================] - 19s 768ms/step - loss: 0.5885 - accuracy: 0.7763 - val_loss: 0.5162 - val_accuracy: 0.8000\n",
            "Epoch 80/100\n",
            "25/25 [==============================] - 19s 765ms/step - loss: 0.6121 - accuracy: 0.7600 - val_loss: 0.6692 - val_accuracy: 0.7500\n",
            "Epoch 81/100\n",
            "25/25 [==============================] - 19s 765ms/step - loss: 0.5738 - accuracy: 0.7788 - val_loss: 0.5325 - val_accuracy: 0.7650\n",
            "Epoch 82/100\n",
            "25/25 [==============================] - 19s 764ms/step - loss: 0.6134 - accuracy: 0.7525 - val_loss: 0.9139 - val_accuracy: 0.6350\n",
            "Epoch 83/100\n",
            "25/25 [==============================] - 19s 765ms/step - loss: 0.5763 - accuracy: 0.7613 - val_loss: 0.9950 - val_accuracy: 0.6400\n",
            "Epoch 84/100\n",
            "25/25 [==============================] - 19s 778ms/step - loss: 0.6379 - accuracy: 0.7688 - val_loss: 0.5211 - val_accuracy: 0.8550\n",
            "Epoch 85/100\n",
            "25/25 [==============================] - 19s 766ms/step - loss: 0.6451 - accuracy: 0.7800 - val_loss: 0.7337 - val_accuracy: 0.6300\n",
            "Epoch 86/100\n",
            "25/25 [==============================] - 19s 765ms/step - loss: 0.5501 - accuracy: 0.7925 - val_loss: 0.4835 - val_accuracy: 0.8650\n",
            "Epoch 87/100\n",
            "25/25 [==============================] - 19s 765ms/step - loss: 0.5673 - accuracy: 0.7763 - val_loss: 0.4424 - val_accuracy: 0.8650\n",
            "Epoch 88/100\n",
            "25/25 [==============================] - 19s 767ms/step - loss: 0.5672 - accuracy: 0.7800 - val_loss: 0.5604 - val_accuracy: 0.8050\n",
            "Epoch 89/100\n",
            "25/25 [==============================] - 19s 769ms/step - loss: 0.5988 - accuracy: 0.7663 - val_loss: 0.4293 - val_accuracy: 0.8650\n",
            "Epoch 90/100\n",
            "25/25 [==============================] - 19s 767ms/step - loss: 0.6068 - accuracy: 0.7887 - val_loss: 0.4689 - val_accuracy: 0.8350\n",
            "Epoch 91/100\n",
            "25/25 [==============================] - 19s 762ms/step - loss: 0.5725 - accuracy: 0.7775 - val_loss: 1.0015 - val_accuracy: 0.6550\n",
            "Epoch 92/100\n",
            "25/25 [==============================] - 19s 766ms/step - loss: 0.6104 - accuracy: 0.7775 - val_loss: 0.4302 - val_accuracy: 0.8550\n",
            "Epoch 93/100\n",
            "25/25 [==============================] - 19s 764ms/step - loss: 0.5316 - accuracy: 0.7925 - val_loss: 0.9900 - val_accuracy: 0.6100\n",
            "Epoch 94/100\n",
            "25/25 [==============================] - 19s 766ms/step - loss: 0.6128 - accuracy: 0.7588 - val_loss: 0.6312 - val_accuracy: 0.7350\n",
            "Epoch 95/100\n",
            "25/25 [==============================] - 19s 770ms/step - loss: 0.5549 - accuracy: 0.7987 - val_loss: 0.4937 - val_accuracy: 0.7900\n",
            "Epoch 96/100\n",
            "25/25 [==============================] - 19s 764ms/step - loss: 0.5577 - accuracy: 0.7825 - val_loss: 0.4489 - val_accuracy: 0.8300\n",
            "Epoch 97/100\n",
            "25/25 [==============================] - 19s 759ms/step - loss: 0.6014 - accuracy: 0.7713 - val_loss: 0.5464 - val_accuracy: 0.8050\n",
            "Epoch 98/100\n",
            "25/25 [==============================] - 19s 761ms/step - loss: 0.5233 - accuracy: 0.7925 - val_loss: 0.4898 - val_accuracy: 0.8200\n",
            "Epoch 99/100\n",
            "25/25 [==============================] - 19s 760ms/step - loss: 0.5397 - accuracy: 0.7750 - val_loss: 0.4106 - val_accuracy: 0.8450\n",
            "Epoch 100/100\n",
            "25/25 [==============================] - 19s 762ms/step - loss: 0.5757 - accuracy: 0.7837 - val_loss: 0.4237 - val_accuracy: 0.8450\n"
          ],
          "name": "stdout"
        },
        {
          "output_type": "execute_result",
          "data": {
            "text/plain": [
              "<tensorflow.python.keras.callbacks.History at 0x7fbdf52edcc0>"
            ]
          },
          "metadata": {
            "tags": []
          },
          "execution_count": 10
        }
      ]
    }
  ]
}