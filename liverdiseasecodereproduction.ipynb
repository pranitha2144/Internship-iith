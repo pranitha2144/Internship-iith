{
  "nbformat": 4,
  "nbformat_minor": 0,
  "metadata": {
    "colab": {
      "name": "liverdiseasecodereproduction.ipynb",
      "provenance": [],
      "mount_file_id": "1BemhAhuHvP-LV2rKnVbZwFbyBeWbsTzS",
      "authorship_tag": "ABX9TyPcpLji9VH4oeRPFD06yWRh",
      "include_colab_link": true
    },
    "kernelspec": {
      "name": "python3",
      "display_name": "Python 3"
    }
  },
  "cells": [
    {
      "cell_type": "markdown",
      "metadata": {
        "id": "view-in-github",
        "colab_type": "text"
      },
      "source": [
        "<a href=\"https://colab.research.google.com/github/pranitha2144/Internship-iith/blob/master/liverdiseasecodereproduction.ipynb\" target=\"_parent\"><img src=\"https://colab.research.google.com/assets/colab-badge.svg\" alt=\"Open In Colab\"/></a>"
      ]
    },
    {
      "cell_type": "code",
      "metadata": {
        "id": "pSmCTaVG0Nol",
        "colab_type": "code",
        "colab": {}
      },
      "source": [
        "import tensorflow as tf\n",
        "from tensorflow.keras.models import Sequential\n",
        "from tensorflow.keras.layers import Dense, Conv2D, MaxPooling2D, Flatten,Dropout"
      ],
      "execution_count": 0,
      "outputs": []
    },
    {
      "cell_type": "code",
      "metadata": {
        "id": "1A8bbAtr15gA",
        "colab_type": "code",
        "colab": {}
      },
      "source": [
        "classifier = Sequential([Conv2D(32,(3,3),activation='relu',input_shape=(128,128,3),strides=[1,1],padding='same'),\n",
        "                         MaxPooling2D(2,2),\n",
        "                         Conv2D(32,(3,3),activation='relu',strides=[1,1],padding='same'),\n",
        "                         MaxPooling2D(2,2),\n",
        "                         Conv2D(64,(3,3),activation='relu',strides=[1,1],padding='same'),\n",
        "                         MaxPooling2D(2,2),\n",
        "                         Conv2D(64,(3,3),activation='relu',strides=[1,1],padding='same'),\n",
        "                         MaxPooling2D(2,2),\n",
        "                         Conv2D(128,(3,3),activation='relu',strides=[1,1],padding='same'),\n",
        "                         MaxPooling2D(2,2),\n",
        "                         Flatten(),\n",
        "                         Dense(128,activation='relu'),\n",
        "                         Dropout(0.3),\n",
        "                         Dropout(0.6),\n",
        "                         Dense(256,activation='relu'),\n",
        "                         Dense(256,activation='relu'),\n",
        "                         Dense(4,activation='softmax')\n",
        "\n",
        "\n",
        "\n",
        "])"
      ],
      "execution_count": 0,
      "outputs": []
    },
    {
      "cell_type": "code",
      "metadata": {
        "id": "zwuhqUpLQDKm",
        "colab_type": "code",
        "colab": {}
      },
      "source": [
        "classifier.compile(loss='categorical_crossentropy', optimizer='adam', metrics=['accuracy'])"
      ],
      "execution_count": 0,
      "outputs": []
    },
    {
      "cell_type": "code",
      "metadata": {
        "id": "iUftPYb7Qt-M",
        "colab_type": "code",
        "colab": {}
      },
      "source": [
        "from keras.preprocessing.image import ImageDataGenerator"
      ],
      "execution_count": 0,
      "outputs": []
    },
    {
      "cell_type": "code",
      "metadata": {
        "id": "fTick91EU_su",
        "colab_type": "code",
        "colab": {}
      },
      "source": [
        "datagen = ImageDataGenerator(\n",
        "        rescale=1./255,\n",
        "        rotation_range=60,\n",
        "        shear_range=0.2,\n",
        "        zoom_range=0.2,\n",
        "        horizontal_flip=True,vertical_flip=True)"
      ],
      "execution_count": 0,
      "outputs": []
    },
    {
      "cell_type": "code",
      "metadata": {
        "id": "MdXG5380VHw6",
        "colab_type": "code",
        "colab": {
          "base_uri": "https://localhost:8080/",
          "height": 34
        },
        "outputId": "5f7cb280-3fdd-4b68-d35b-4510791caaff"
      },
      "source": [
        "data_set = datagen.flow_from_directory(\n",
        "        '/content/drive/My Drive/texture_4class_classification/data',\n",
        "        target_size=(128, 128),\n",
        "        batch_size=32,\n",
        "        class_mode=\"categorical\")"
      ],
      "execution_count": 30,
      "outputs": [
        {
          "output_type": "stream",
          "text": [
            "Found 1000 images belonging to 4 classes.\n"
          ],
          "name": "stdout"
        }
      ]
    },
    {
      "cell_type": "code",
      "metadata": {
        "id": "oiM5eoUiaNJs",
        "colab_type": "code",
        "colab": {
          "base_uri": "https://localhost:8080/",
          "height": 1000
        },
        "outputId": "b2f090db-1968-42ed-fa19-9b99258e4f4d"
      },
      "source": [
        "classifier.fit(data_set,epochs=100)"
      ],
      "execution_count": 41,
      "outputs": [
        {
          "output_type": "stream",
          "text": [
            "Epoch 1/100\n",
            "32/32 [==============================] - 24s 760ms/step - loss: 0.4539 - accuracy: 0.8100\n",
            "Epoch 2/100\n",
            "32/32 [==============================] - 24s 762ms/step - loss: 0.3912 - accuracy: 0.8400\n",
            "Epoch 3/100\n",
            "32/32 [==============================] - 24s 760ms/step - loss: 0.4083 - accuracy: 0.8420\n",
            "Epoch 4/100\n",
            "32/32 [==============================] - 24s 759ms/step - loss: 0.4042 - accuracy: 0.8440\n",
            "Epoch 5/100\n",
            "32/32 [==============================] - 24s 764ms/step - loss: 0.3813 - accuracy: 0.8480\n",
            "Epoch 6/100\n",
            "32/32 [==============================] - 24s 759ms/step - loss: 0.5072 - accuracy: 0.7990\n",
            "Epoch 7/100\n",
            "32/32 [==============================] - 24s 759ms/step - loss: 0.4105 - accuracy: 0.8460\n",
            "Epoch 8/100\n",
            "32/32 [==============================] - 24s 762ms/step - loss: 0.3997 - accuracy: 0.8480\n",
            "Epoch 9/100\n",
            "32/32 [==============================] - 24s 759ms/step - loss: 0.4589 - accuracy: 0.8160\n",
            "Epoch 10/100\n",
            "32/32 [==============================] - 24s 756ms/step - loss: 0.3948 - accuracy: 0.8460\n",
            "Epoch 11/100\n",
            "32/32 [==============================] - 24s 759ms/step - loss: 0.3865 - accuracy: 0.8530\n",
            "Epoch 12/100\n",
            "32/32 [==============================] - 24s 756ms/step - loss: 0.3624 - accuracy: 0.8510\n",
            "Epoch 13/100\n",
            "32/32 [==============================] - 24s 759ms/step - loss: 0.4182 - accuracy: 0.8250\n",
            "Epoch 14/100\n",
            "32/32 [==============================] - 24s 757ms/step - loss: 0.3842 - accuracy: 0.8440\n",
            "Epoch 15/100\n",
            "32/32 [==============================] - 24s 763ms/step - loss: 0.4207 - accuracy: 0.8350\n",
            "Epoch 16/100\n",
            "32/32 [==============================] - 24s 761ms/step - loss: 0.4295 - accuracy: 0.8280\n",
            "Epoch 17/100\n",
            "32/32 [==============================] - 24s 759ms/step - loss: 0.3804 - accuracy: 0.8590\n",
            "Epoch 18/100\n",
            "32/32 [==============================] - 24s 762ms/step - loss: 0.4403 - accuracy: 0.8290\n",
            "Epoch 19/100\n",
            "32/32 [==============================] - 24s 761ms/step - loss: 0.3946 - accuracy: 0.8520\n",
            "Epoch 20/100\n",
            "32/32 [==============================] - 24s 757ms/step - loss: 0.3930 - accuracy: 0.8520\n",
            "Epoch 21/100\n",
            "32/32 [==============================] - 24s 756ms/step - loss: 0.3584 - accuracy: 0.8610\n",
            "Epoch 22/100\n",
            "32/32 [==============================] - 24s 756ms/step - loss: 0.3640 - accuracy: 0.8450\n",
            "Epoch 23/100\n",
            "32/32 [==============================] - 24s 754ms/step - loss: 0.3721 - accuracy: 0.8540\n",
            "Epoch 24/100\n",
            "32/32 [==============================] - 24s 756ms/step - loss: 0.3613 - accuracy: 0.8530\n",
            "Epoch 25/100\n",
            "32/32 [==============================] - 24s 757ms/step - loss: 0.3535 - accuracy: 0.8530\n",
            "Epoch 26/100\n",
            "32/32 [==============================] - 24s 757ms/step - loss: 0.3900 - accuracy: 0.8420\n",
            "Epoch 27/100\n",
            "32/32 [==============================] - 24s 754ms/step - loss: 0.3874 - accuracy: 0.8540\n",
            "Epoch 28/100\n",
            "32/32 [==============================] - 24s 757ms/step - loss: 0.3869 - accuracy: 0.8390\n",
            "Epoch 29/100\n",
            "32/32 [==============================] - 24s 757ms/step - loss: 0.4104 - accuracy: 0.8310\n",
            "Epoch 30/100\n",
            "32/32 [==============================] - 24s 761ms/step - loss: 0.3512 - accuracy: 0.8710\n",
            "Epoch 31/100\n",
            "32/32 [==============================] - 24s 760ms/step - loss: 0.3266 - accuracy: 0.8740\n",
            "Epoch 32/100\n",
            "32/32 [==============================] - 24s 756ms/step - loss: 0.5270 - accuracy: 0.7790\n",
            "Epoch 33/100\n",
            "32/32 [==============================] - 24s 754ms/step - loss: 0.4107 - accuracy: 0.8420\n",
            "Epoch 34/100\n",
            "32/32 [==============================] - 24s 753ms/step - loss: 0.3869 - accuracy: 0.8410\n",
            "Epoch 35/100\n",
            "32/32 [==============================] - 24s 754ms/step - loss: 0.3764 - accuracy: 0.8510\n",
            "Epoch 36/100\n",
            "32/32 [==============================] - 24s 753ms/step - loss: 0.3418 - accuracy: 0.8640\n",
            "Epoch 37/100\n",
            "32/32 [==============================] - 24s 752ms/step - loss: 0.3577 - accuracy: 0.8660\n",
            "Epoch 38/100\n",
            "32/32 [==============================] - 24s 756ms/step - loss: 0.4161 - accuracy: 0.8360\n",
            "Epoch 39/100\n",
            "32/32 [==============================] - 24s 760ms/step - loss: 0.3494 - accuracy: 0.8630\n",
            "Epoch 40/100\n",
            "32/32 [==============================] - 24s 758ms/step - loss: 0.3426 - accuracy: 0.8670\n",
            "Epoch 41/100\n",
            "32/32 [==============================] - 24s 762ms/step - loss: 0.3589 - accuracy: 0.8670\n",
            "Epoch 42/100\n",
            "32/32 [==============================] - 24s 765ms/step - loss: 0.3475 - accuracy: 0.8560\n",
            "Epoch 43/100\n",
            "32/32 [==============================] - 24s 765ms/step - loss: 0.3576 - accuracy: 0.8610\n",
            "Epoch 44/100\n",
            "32/32 [==============================] - 24s 764ms/step - loss: 0.3595 - accuracy: 0.8530\n",
            "Epoch 45/100\n",
            "32/32 [==============================] - 24s 765ms/step - loss: 0.4613 - accuracy: 0.8280\n",
            "Epoch 46/100\n",
            "32/32 [==============================] - 24s 763ms/step - loss: 0.4608 - accuracy: 0.8370\n",
            "Epoch 47/100\n",
            "32/32 [==============================] - 24s 763ms/step - loss: 0.3372 - accuracy: 0.8800\n",
            "Epoch 48/100\n",
            "32/32 [==============================] - 24s 763ms/step - loss: 0.3315 - accuracy: 0.8700\n",
            "Epoch 49/100\n",
            "32/32 [==============================] - 24s 759ms/step - loss: 0.3314 - accuracy: 0.8720\n",
            "Epoch 50/100\n",
            "32/32 [==============================] - 24s 762ms/step - loss: 0.3147 - accuracy: 0.8740\n",
            "Epoch 51/100\n",
            "32/32 [==============================] - 24s 761ms/step - loss: 0.3370 - accuracy: 0.8650\n",
            "Epoch 52/100\n",
            "32/32 [==============================] - 24s 759ms/step - loss: 0.3495 - accuracy: 0.8730\n",
            "Epoch 53/100\n",
            "32/32 [==============================] - 24s 758ms/step - loss: 0.3541 - accuracy: 0.8560\n",
            "Epoch 54/100\n",
            "32/32 [==============================] - 24s 763ms/step - loss: 0.3296 - accuracy: 0.8800\n",
            "Epoch 55/100\n",
            "32/32 [==============================] - 24s 763ms/step - loss: 0.3308 - accuracy: 0.8780\n",
            "Epoch 56/100\n",
            "32/32 [==============================] - 24s 761ms/step - loss: 0.4476 - accuracy: 0.8310\n",
            "Epoch 57/100\n",
            "32/32 [==============================] - 24s 761ms/step - loss: 0.4452 - accuracy: 0.8290\n",
            "Epoch 58/100\n",
            "32/32 [==============================] - 24s 763ms/step - loss: 0.3502 - accuracy: 0.8700\n",
            "Epoch 59/100\n",
            "32/32 [==============================] - 25s 787ms/step - loss: 0.3095 - accuracy: 0.8800\n",
            "Epoch 60/100\n",
            "32/32 [==============================] - 24s 763ms/step - loss: 0.3284 - accuracy: 0.8730\n",
            "Epoch 61/100\n",
            "32/32 [==============================] - 24s 762ms/step - loss: 0.3267 - accuracy: 0.8820\n",
            "Epoch 62/100\n",
            "32/32 [==============================] - 24s 763ms/step - loss: 0.3179 - accuracy: 0.8600\n",
            "Epoch 63/100\n",
            "32/32 [==============================] - 24s 765ms/step - loss: 0.3012 - accuracy: 0.8860\n",
            "Epoch 64/100\n",
            "32/32 [==============================] - 24s 761ms/step - loss: 0.3626 - accuracy: 0.8470\n",
            "Epoch 65/100\n",
            "32/32 [==============================] - 25s 767ms/step - loss: 0.3704 - accuracy: 0.8590\n",
            "Epoch 66/100\n",
            "32/32 [==============================] - 24s 762ms/step - loss: 0.3408 - accuracy: 0.8620\n",
            "Epoch 67/100\n",
            "32/32 [==============================] - 24s 765ms/step - loss: 0.3216 - accuracy: 0.8780\n",
            "Epoch 68/100\n",
            "32/32 [==============================] - 24s 765ms/step - loss: 0.3530 - accuracy: 0.8590\n",
            "Epoch 69/100\n",
            "32/32 [==============================] - 25s 766ms/step - loss: 0.2975 - accuracy: 0.8850\n",
            "Epoch 70/100\n",
            "32/32 [==============================] - 24s 764ms/step - loss: 0.3240 - accuracy: 0.8820\n",
            "Epoch 71/100\n",
            "32/32 [==============================] - 24s 762ms/step - loss: 0.3276 - accuracy: 0.8740\n",
            "Epoch 72/100\n",
            "32/32 [==============================] - 24s 765ms/step - loss: 0.3068 - accuracy: 0.8790\n",
            "Epoch 73/100\n",
            "32/32 [==============================] - 24s 763ms/step - loss: 0.3433 - accuracy: 0.8590\n",
            "Epoch 74/100\n",
            "32/32 [==============================] - 24s 764ms/step - loss: 0.5249 - accuracy: 0.7840\n",
            "Epoch 75/100\n",
            "32/32 [==============================] - 25s 766ms/step - loss: 0.3541 - accuracy: 0.8610\n",
            "Epoch 76/100\n",
            "32/32 [==============================] - 25s 766ms/step - loss: 0.3472 - accuracy: 0.8580\n",
            "Epoch 77/100\n",
            "32/32 [==============================] - 25s 784ms/step - loss: 0.3061 - accuracy: 0.8830\n",
            "Epoch 78/100\n",
            "32/32 [==============================] - 25s 766ms/step - loss: 0.3205 - accuracy: 0.8650\n",
            "Epoch 79/100\n",
            "32/32 [==============================] - 25s 768ms/step - loss: 0.3465 - accuracy: 0.8510\n",
            "Epoch 80/100\n",
            "32/32 [==============================] - 25s 766ms/step - loss: 0.3324 - accuracy: 0.8750\n",
            "Epoch 81/100\n",
            "32/32 [==============================] - 25s 773ms/step - loss: 0.3516 - accuracy: 0.8640\n",
            "Epoch 82/100\n",
            "32/32 [==============================] - 25s 766ms/step - loss: 0.3160 - accuracy: 0.8740\n",
            "Epoch 83/100\n",
            "32/32 [==============================] - 25s 769ms/step - loss: 0.3355 - accuracy: 0.8670\n",
            "Epoch 84/100\n",
            "32/32 [==============================] - 25s 768ms/step - loss: 0.3292 - accuracy: 0.8780\n",
            "Epoch 85/100\n",
            "32/32 [==============================] - 25s 770ms/step - loss: 0.3103 - accuracy: 0.8790\n",
            "Epoch 86/100\n",
            "32/32 [==============================] - 25s 772ms/step - loss: 0.3283 - accuracy: 0.8710\n",
            "Epoch 87/100\n",
            "32/32 [==============================] - 25s 770ms/step - loss: 0.3140 - accuracy: 0.8820\n",
            "Epoch 88/100\n",
            "32/32 [==============================] - 25s 769ms/step - loss: 0.2960 - accuracy: 0.8760\n",
            "Epoch 89/100\n",
            "32/32 [==============================] - 25s 770ms/step - loss: 0.3181 - accuracy: 0.8790\n",
            "Epoch 90/100\n",
            "32/32 [==============================] - 25s 774ms/step - loss: 0.3113 - accuracy: 0.8830\n",
            "Epoch 91/100\n",
            "32/32 [==============================] - 25s 776ms/step - loss: 0.3049 - accuracy: 0.8690\n",
            "Epoch 92/100\n",
            "32/32 [==============================] - 25s 774ms/step - loss: 0.3434 - accuracy: 0.8640\n",
            "Epoch 93/100\n",
            "32/32 [==============================] - 25s 771ms/step - loss: 0.3674 - accuracy: 0.8680\n",
            "Epoch 94/100\n",
            "32/32 [==============================] - 25s 771ms/step - loss: 0.3672 - accuracy: 0.8430\n",
            "Epoch 95/100\n",
            "32/32 [==============================] - 25s 776ms/step - loss: 0.3418 - accuracy: 0.8720\n",
            "Epoch 96/100\n",
            "32/32 [==============================] - 25s 772ms/step - loss: 0.3678 - accuracy: 0.8450\n",
            "Epoch 97/100\n",
            "32/32 [==============================] - 25s 771ms/step - loss: 0.3206 - accuracy: 0.8740\n",
            "Epoch 98/100\n",
            "32/32 [==============================] - 25s 767ms/step - loss: 0.3244 - accuracy: 0.8810\n",
            "Epoch 99/100\n",
            "32/32 [==============================] - 25s 767ms/step - loss: 0.2914 - accuracy: 0.8890\n",
            "Epoch 100/100\n",
            "32/32 [==============================] - 25s 769ms/step - loss: 0.3386 - accuracy: 0.8730\n"
          ],
          "name": "stdout"
        },
        {
          "output_type": "execute_result",
          "data": {
            "text/plain": [
              "<tensorflow.python.keras.callbacks.History at 0x7f0973424da0>"
            ]
          },
          "metadata": {
            "tags": []
          },
          "execution_count": 41
        }
      ]
    }
  ]
}