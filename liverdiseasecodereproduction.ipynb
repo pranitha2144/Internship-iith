{
  "nbformat": 4,
  "nbformat_minor": 0,
  "metadata": {
    "colab": {
      "name": "liverdiseasecodereproduction.ipynb",
      "provenance": [],
      "mount_file_id": "1BemhAhuHvP-LV2rKnVbZwFbyBeWbsTzS",
      "authorship_tag": "ABX9TyNQ3g4BFv0lHcV+ttoBJEBw",
      "include_colab_link": true
    },
    "kernelspec": {
      "name": "python3",
      "display_name": "Python 3"
    }
  },
  "cells": [
    {
      "cell_type": "markdown",
      "metadata": {
        "id": "view-in-github",
        "colab_type": "text"
      },
      "source": [
        "<a href=\"https://colab.research.google.com/github/pranitha2144/Internship-iith/blob/master/liverdiseasecodereproduction.ipynb\" target=\"_parent\"><img src=\"https://colab.research.google.com/assets/colab-badge.svg\" alt=\"Open In Colab\"/></a>"
      ]
    },
    {
      "cell_type": "code",
      "metadata": {
        "id": "pSmCTaVG0Nol",
        "colab_type": "code",
        "colab": {}
      },
      "source": [
        "import tensorflow as tf\n",
        "from tensorflow.keras.models import Sequential\n",
        "from tensorflow.keras.layers import Dense, Conv2D, MaxPooling2D, Flatten,Dropout"
      ],
      "execution_count": 0,
      "outputs": []
    },
    {
      "cell_type": "code",
      "metadata": {
        "id": "1A8bbAtr15gA",
        "colab_type": "code",
        "colab": {}
      },
      "source": [
        "classifier = Sequential([Conv2D(32,(3,3),activation='relu',input_shape=(128,128,3)),\n",
        "                         MaxPooling2D(2,2),\n",
        "                         Conv2D(32,(3,3),activation='relu'),\n",
        "                         MaxPooling2D(2,2),\n",
        "                         Conv2D(64,(3,3),activation='relu'),\n",
        "                         MaxPooling2D(2,2),\n",
        "                         Conv2D(64,(3,3),activation='relu'),\n",
        "                         MaxPooling2D(2,2),\n",
        "                         Conv2D(128,(3,3),activation='relu'),\n",
        "                         MaxPooling2D(2,2),\n",
        "                         Flatten(),\n",
        "                         Dense(128,activation='relu'),\n",
        "                         Dropout(0.3),\n",
        "                         Dropout(0.6),\n",
        "                         Dense(256,activation='relu'),\n",
        "                         Dense(256,activation='relu'),\n",
        "                         Dense(4,activation='softmax')\n",
        "\n",
        "\n",
        "\n",
        "])"
      ],
      "execution_count": 0,
      "outputs": []
    },
    {
      "cell_type": "code",
      "metadata": {
        "id": "zwuhqUpLQDKm",
        "colab_type": "code",
        "colab": {}
      },
      "source": [
        "classifier.compile(loss='categorical_crossentropy', optimizer='RMSprop', metrics=['accuracy'])"
      ],
      "execution_count": 0,
      "outputs": []
    },
    {
      "cell_type": "code",
      "metadata": {
        "id": "iUftPYb7Qt-M",
        "colab_type": "code",
        "colab": {}
      },
      "source": [
        "from keras.preprocessing.image import ImageDataGenerator"
      ],
      "execution_count": 0,
      "outputs": []
    },
    {
      "cell_type": "code",
      "metadata": {
        "id": "fTick91EU_su",
        "colab_type": "code",
        "colab": {}
      },
      "source": [
        "datagen = ImageDataGenerator(\n",
        "        rescale=1./255,\n",
        "        rotation_range=60,\n",
        "        shear_range=0.2,\n",
        "        zoom_range=0.2,\n",
        "        horizontal_flip=True,vertical_flip=True,validation_split=0.2)"
      ],
      "execution_count": 0,
      "outputs": []
    },
    {
      "cell_type": "code",
      "metadata": {
        "id": "MdXG5380VHw6",
        "colab_type": "code",
        "outputId": "0e388f9c-4b3f-448c-9a51-0418f3f406a6",
        "colab": {
          "base_uri": "https://localhost:8080/",
          "height": 34
        }
      },
      "source": [
        "training_set = datagen.flow_from_directory(\n",
        "        '/content/drive/My Drive/texture_4class_classification/data',\n",
        "        target_size=(128, 128),\n",
        "        shuffle=True,\n",
        "        subset=\"training\",\n",
        "        batch_size=32,\n",
        "        class_mode='categorical')"
      ],
      "execution_count": 99,
      "outputs": [
        {
          "output_type": "stream",
          "text": [
            "Found 800 images belonging to 4 classes.\n"
          ],
          "name": "stdout"
        }
      ]
    },
    {
      "cell_type": "code",
      "metadata": {
        "id": "ET1M_C_Qf-K-",
        "colab_type": "code",
        "colab": {
          "base_uri": "https://localhost:8080/",
          "height": 34
        },
        "outputId": "fcada2bb-c28b-4926-ce3b-f6c1ab66db0f"
      },
      "source": [
        "test_set = datagen.flow_from_directory(\n",
        "        '/content/drive/My Drive/texture_4class_classification/data',\n",
        "        target_size=(128, 128),\n",
        "        shuffle=True,\n",
        "        subset=\"validation\",\n",
        "        batch_size=32,\n",
        "        class_mode='categorical')"
      ],
      "execution_count": 100,
      "outputs": [
        {
          "output_type": "stream",
          "text": [
            "Found 200 images belonging to 4 classes.\n"
          ],
          "name": "stdout"
        }
      ]
    },
    {
      "cell_type": "code",
      "metadata": {
        "id": "oiM5eoUiaNJs",
        "colab_type": "code",
        "outputId": "90bde0fb-6aae-4e60-bde8-326e27a78782",
        "colab": {
          "base_uri": "https://localhost:8080/",
          "height": 1000
        }
      },
      "source": [
        "classifier.fit(training_set,validation_data=test_set,epochs=100)"
      ],
      "execution_count": 103,
      "outputs": [
        {
          "output_type": "stream",
          "text": [
            "Epoch 1/100\n",
            "25/25 [==============================] - 19s 772ms/step - loss: 0.4912 - accuracy: 0.8200 - val_loss: 0.4948 - val_accuracy: 0.8200\n",
            "Epoch 2/100\n",
            "25/25 [==============================] - 19s 772ms/step - loss: 0.4608 - accuracy: 0.8213 - val_loss: 0.5037 - val_accuracy: 0.7800\n",
            "Epoch 3/100\n",
            "25/25 [==============================] - 19s 773ms/step - loss: 0.4305 - accuracy: 0.8487 - val_loss: 0.4349 - val_accuracy: 0.8550\n",
            "Epoch 4/100\n",
            "25/25 [==============================] - 19s 772ms/step - loss: 0.4543 - accuracy: 0.8188 - val_loss: 0.7497 - val_accuracy: 0.7300\n",
            "Epoch 5/100\n",
            "25/25 [==============================] - 19s 770ms/step - loss: 0.4504 - accuracy: 0.8388 - val_loss: 0.4530 - val_accuracy: 0.8200\n",
            "Epoch 6/100\n",
            "25/25 [==============================] - 19s 772ms/step - loss: 0.4071 - accuracy: 0.8537 - val_loss: 1.1029 - val_accuracy: 0.6850\n",
            "Epoch 7/100\n",
            "25/25 [==============================] - 19s 770ms/step - loss: 0.4773 - accuracy: 0.8388 - val_loss: 0.4251 - val_accuracy: 0.8450\n",
            "Epoch 8/100\n",
            "25/25 [==============================] - 19s 767ms/step - loss: 0.3886 - accuracy: 0.8462 - val_loss: 0.7340 - val_accuracy: 0.7200\n",
            "Epoch 9/100\n",
            "25/25 [==============================] - 19s 771ms/step - loss: 0.4409 - accuracy: 0.8562 - val_loss: 0.4290 - val_accuracy: 0.8150\n",
            "Epoch 10/100\n",
            "25/25 [==============================] - 20s 780ms/step - loss: 0.4808 - accuracy: 0.8338 - val_loss: 0.3798 - val_accuracy: 0.8400\n",
            "Epoch 11/100\n",
            "25/25 [==============================] - 19s 773ms/step - loss: 0.4279 - accuracy: 0.8313 - val_loss: 0.4156 - val_accuracy: 0.8300\n",
            "Epoch 12/100\n",
            "25/25 [==============================] - 19s 778ms/step - loss: 0.4296 - accuracy: 0.8375 - val_loss: 0.5251 - val_accuracy: 0.8350\n",
            "Epoch 13/100\n",
            "25/25 [==============================] - 20s 781ms/step - loss: 0.3853 - accuracy: 0.8637 - val_loss: 0.4870 - val_accuracy: 0.8150\n",
            "Epoch 14/100\n",
            "25/25 [==============================] - 19s 779ms/step - loss: 0.4122 - accuracy: 0.8512 - val_loss: 0.5882 - val_accuracy: 0.8000\n",
            "Epoch 15/100\n",
            "25/25 [==============================] - 20s 782ms/step - loss: 0.4404 - accuracy: 0.8537 - val_loss: 0.4308 - val_accuracy: 0.8350\n",
            "Epoch 16/100\n",
            "25/25 [==============================] - 20s 781ms/step - loss: 0.4330 - accuracy: 0.8562 - val_loss: 0.4187 - val_accuracy: 0.8150\n",
            "Epoch 17/100\n",
            "25/25 [==============================] - 19s 779ms/step - loss: 0.3697 - accuracy: 0.8612 - val_loss: 0.4184 - val_accuracy: 0.8300\n",
            "Epoch 18/100\n",
            "25/25 [==============================] - 19s 777ms/step - loss: 0.4513 - accuracy: 0.8313 - val_loss: 0.7037 - val_accuracy: 0.6450\n",
            "Epoch 19/100\n",
            "25/25 [==============================] - 20s 781ms/step - loss: 0.3543 - accuracy: 0.8675 - val_loss: 0.6916 - val_accuracy: 0.6750\n",
            "Epoch 20/100\n",
            "25/25 [==============================] - 19s 772ms/step - loss: 0.4594 - accuracy: 0.8413 - val_loss: 0.4104 - val_accuracy: 0.8500\n",
            "Epoch 21/100\n",
            "25/25 [==============================] - 19s 773ms/step - loss: 0.4253 - accuracy: 0.8525 - val_loss: 0.5438 - val_accuracy: 0.8350\n",
            "Epoch 22/100\n",
            "25/25 [==============================] - 19s 774ms/step - loss: 0.4753 - accuracy: 0.8612 - val_loss: 0.3790 - val_accuracy: 0.8450\n",
            "Epoch 23/100\n",
            "25/25 [==============================] - 19s 771ms/step - loss: 0.3994 - accuracy: 0.8550 - val_loss: 0.3974 - val_accuracy: 0.8550\n",
            "Epoch 24/100\n",
            "25/25 [==============================] - 19s 772ms/step - loss: 0.3901 - accuracy: 0.8625 - val_loss: 0.7390 - val_accuracy: 0.7250\n",
            "Epoch 25/100\n",
            "25/25 [==============================] - 19s 773ms/step - loss: 0.4081 - accuracy: 0.8462 - val_loss: 0.4272 - val_accuracy: 0.8500\n",
            "Epoch 26/100\n",
            "25/25 [==============================] - 19s 773ms/step - loss: 0.3666 - accuracy: 0.8612 - val_loss: 0.5404 - val_accuracy: 0.8200\n",
            "Epoch 27/100\n",
            "25/25 [==============================] - 19s 774ms/step - loss: 0.4568 - accuracy: 0.8438 - val_loss: 0.3755 - val_accuracy: 0.8300\n",
            "Epoch 28/100\n",
            "25/25 [==============================] - 19s 776ms/step - loss: 0.3534 - accuracy: 0.8737 - val_loss: 0.6919 - val_accuracy: 0.7450\n",
            "Epoch 29/100\n",
            "25/25 [==============================] - 19s 778ms/step - loss: 0.3918 - accuracy: 0.8400 - val_loss: 0.4897 - val_accuracy: 0.7950\n",
            "Epoch 30/100\n",
            "25/25 [==============================] - 19s 779ms/step - loss: 0.7350 - accuracy: 0.7950 - val_loss: 0.4996 - val_accuracy: 0.8100\n",
            "Epoch 31/100\n",
            "25/25 [==============================] - 20s 785ms/step - loss: 0.3846 - accuracy: 0.8562 - val_loss: 0.3641 - val_accuracy: 0.8750\n",
            "Epoch 32/100\n",
            "25/25 [==============================] - 19s 776ms/step - loss: 0.5558 - accuracy: 0.8475 - val_loss: 0.3576 - val_accuracy: 0.8500\n",
            "Epoch 33/100\n",
            "25/25 [==============================] - 19s 773ms/step - loss: 0.3645 - accuracy: 0.8637 - val_loss: 0.3560 - val_accuracy: 0.8650\n",
            "Epoch 34/100\n",
            "25/25 [==============================] - 19s 771ms/step - loss: 0.3331 - accuracy: 0.8813 - val_loss: 0.4227 - val_accuracy: 0.8600\n",
            "Epoch 35/100\n",
            "25/25 [==============================] - 19s 774ms/step - loss: 0.4167 - accuracy: 0.8363 - val_loss: 1.0302 - val_accuracy: 0.6950\n",
            "Epoch 36/100\n",
            "25/25 [==============================] - 19s 778ms/step - loss: 0.4068 - accuracy: 0.8737 - val_loss: 0.4272 - val_accuracy: 0.8050\n",
            "Epoch 37/100\n",
            "25/25 [==============================] - 20s 789ms/step - loss: 0.4231 - accuracy: 0.8525 - val_loss: 0.3905 - val_accuracy: 0.8500\n",
            "Epoch 38/100\n",
            "25/25 [==============================] - 20s 783ms/step - loss: 0.5033 - accuracy: 0.8325 - val_loss: 0.5106 - val_accuracy: 0.8400\n",
            "Epoch 39/100\n",
            "25/25 [==============================] - 20s 785ms/step - loss: 0.4251 - accuracy: 0.8325 - val_loss: 0.6630 - val_accuracy: 0.6800\n",
            "Epoch 40/100\n",
            "25/25 [==============================] - 19s 778ms/step - loss: 0.3891 - accuracy: 0.8737 - val_loss: 0.3672 - val_accuracy: 0.8700\n",
            "Epoch 41/100\n",
            "25/25 [==============================] - 20s 786ms/step - loss: 0.4035 - accuracy: 0.8562 - val_loss: 0.9848 - val_accuracy: 0.7100\n",
            "Epoch 42/100\n",
            "25/25 [==============================] - 19s 779ms/step - loss: 0.3814 - accuracy: 0.8662 - val_loss: 0.4187 - val_accuracy: 0.8700\n",
            "Epoch 43/100\n",
            "25/25 [==============================] - 19s 775ms/step - loss: 0.3757 - accuracy: 0.8612 - val_loss: 0.5080 - val_accuracy: 0.8100\n",
            "Epoch 44/100\n",
            "25/25 [==============================] - 19s 777ms/step - loss: 0.4210 - accuracy: 0.8612 - val_loss: 0.6064 - val_accuracy: 0.8300\n",
            "Epoch 45/100\n",
            "25/25 [==============================] - 19s 778ms/step - loss: 0.3762 - accuracy: 0.8775 - val_loss: 0.3919 - val_accuracy: 0.8500\n",
            "Epoch 46/100\n",
            "25/25 [==============================] - 19s 773ms/step - loss: 0.4306 - accuracy: 0.8500 - val_loss: 0.5465 - val_accuracy: 0.8100\n",
            "Epoch 47/100\n",
            "25/25 [==============================] - 19s 776ms/step - loss: 0.3784 - accuracy: 0.8625 - val_loss: 0.3558 - val_accuracy: 0.8850\n",
            "Epoch 48/100\n",
            "25/25 [==============================] - 19s 774ms/step - loss: 0.4167 - accuracy: 0.8800 - val_loss: 0.3895 - val_accuracy: 0.8650\n",
            "Epoch 49/100\n",
            "25/25 [==============================] - 19s 773ms/step - loss: 0.3946 - accuracy: 0.8725 - val_loss: 0.3622 - val_accuracy: 0.8600\n",
            "Epoch 50/100\n",
            "25/25 [==============================] - 20s 782ms/step - loss: 0.4041 - accuracy: 0.8487 - val_loss: 0.4348 - val_accuracy: 0.8250\n",
            "Epoch 51/100\n",
            "25/25 [==============================] - 19s 777ms/step - loss: 0.4525 - accuracy: 0.8375 - val_loss: 1.3008 - val_accuracy: 0.6050\n",
            "Epoch 52/100\n",
            "25/25 [==============================] - 24s 945ms/step - loss: 0.4313 - accuracy: 0.8438 - val_loss: 0.6468 - val_accuracy: 0.7700\n",
            "Epoch 53/100\n",
            "25/25 [==============================] - 19s 771ms/step - loss: 0.4962 - accuracy: 0.8413 - val_loss: 0.6537 - val_accuracy: 0.7650\n",
            "Epoch 54/100\n",
            "25/25 [==============================] - 19s 773ms/step - loss: 0.3514 - accuracy: 0.8813 - val_loss: 0.4471 - val_accuracy: 0.8300\n",
            "Epoch 55/100\n",
            "25/25 [==============================] - 19s 775ms/step - loss: 0.4036 - accuracy: 0.8575 - val_loss: 0.3349 - val_accuracy: 0.8500\n",
            "Epoch 56/100\n",
            "25/25 [==============================] - 19s 771ms/step - loss: 0.4047 - accuracy: 0.8800 - val_loss: 0.6821 - val_accuracy: 0.7750\n",
            "Epoch 57/100\n",
            "25/25 [==============================] - 19s 771ms/step - loss: 0.4115 - accuracy: 0.8687 - val_loss: 0.7097 - val_accuracy: 0.7800\n",
            "Epoch 58/100\n",
            "25/25 [==============================] - 19s 772ms/step - loss: 0.3256 - accuracy: 0.8825 - val_loss: 0.5530 - val_accuracy: 0.8700\n",
            "Epoch 59/100\n",
            "25/25 [==============================] - 19s 773ms/step - loss: 0.4369 - accuracy: 0.8763 - val_loss: 0.4024 - val_accuracy: 0.8700\n",
            "Epoch 60/100\n",
            "25/25 [==============================] - 19s 776ms/step - loss: 0.3781 - accuracy: 0.8637 - val_loss: 0.6744 - val_accuracy: 0.7700\n",
            "Epoch 61/100\n",
            "25/25 [==============================] - 19s 779ms/step - loss: 0.3658 - accuracy: 0.8763 - val_loss: 0.4608 - val_accuracy: 0.8350\n",
            "Epoch 62/100\n",
            "25/25 [==============================] - 19s 775ms/step - loss: 0.4144 - accuracy: 0.8625 - val_loss: 0.5410 - val_accuracy: 0.8400\n",
            "Epoch 63/100\n",
            "25/25 [==============================] - 19s 774ms/step - loss: 0.3744 - accuracy: 0.8687 - val_loss: 0.3926 - val_accuracy: 0.8600\n",
            "Epoch 64/100\n",
            "25/25 [==============================] - 19s 771ms/step - loss: 0.3786 - accuracy: 0.8550 - val_loss: 0.5107 - val_accuracy: 0.8550\n",
            "Epoch 65/100\n",
            "25/25 [==============================] - 19s 777ms/step - loss: 0.3471 - accuracy: 0.8888 - val_loss: 0.4974 - val_accuracy: 0.8400\n",
            "Epoch 66/100\n",
            "25/25 [==============================] - 19s 779ms/step - loss: 0.4442 - accuracy: 0.8562 - val_loss: 0.4073 - val_accuracy: 0.8250\n",
            "Epoch 67/100\n",
            "25/25 [==============================] - 20s 786ms/step - loss: 0.3646 - accuracy: 0.8788 - val_loss: 0.4401 - val_accuracy: 0.8650\n",
            "Epoch 68/100\n",
            "25/25 [==============================] - 20s 783ms/step - loss: 0.3981 - accuracy: 0.8625 - val_loss: 0.6542 - val_accuracy: 0.7850\n",
            "Epoch 69/100\n",
            "25/25 [==============================] - 20s 781ms/step - loss: 0.4029 - accuracy: 0.8600 - val_loss: 0.5468 - val_accuracy: 0.7650\n",
            "Epoch 70/100\n",
            "25/25 [==============================] - 20s 786ms/step - loss: 0.3342 - accuracy: 0.8875 - val_loss: 0.6843 - val_accuracy: 0.7850\n",
            "Epoch 71/100\n",
            "25/25 [==============================] - 20s 784ms/step - loss: 0.3843 - accuracy: 0.8612 - val_loss: 0.3674 - val_accuracy: 0.8650\n",
            "Epoch 72/100\n",
            "25/25 [==============================] - 20s 782ms/step - loss: 0.3809 - accuracy: 0.8650 - val_loss: 0.5073 - val_accuracy: 0.8350\n",
            "Epoch 73/100\n",
            "25/25 [==============================] - 20s 783ms/step - loss: 0.3809 - accuracy: 0.8725 - val_loss: 0.7693 - val_accuracy: 0.7400\n",
            "Epoch 74/100\n",
            "25/25 [==============================] - 20s 785ms/step - loss: 0.3951 - accuracy: 0.8650 - val_loss: 0.3889 - val_accuracy: 0.8500\n",
            "Epoch 75/100\n",
            "25/25 [==============================] - 20s 787ms/step - loss: 0.3722 - accuracy: 0.8888 - val_loss: 0.3921 - val_accuracy: 0.8650\n",
            "Epoch 76/100\n",
            "25/25 [==============================] - 20s 781ms/step - loss: 0.4666 - accuracy: 0.8700 - val_loss: 0.4199 - val_accuracy: 0.8200\n",
            "Epoch 77/100\n",
            "25/25 [==============================] - 20s 781ms/step - loss: 0.3559 - accuracy: 0.8813 - val_loss: 0.4672 - val_accuracy: 0.8400\n",
            "Epoch 78/100\n",
            "25/25 [==============================] - 19s 778ms/step - loss: 0.3451 - accuracy: 0.8788 - val_loss: 0.5577 - val_accuracy: 0.8450\n",
            "Epoch 79/100\n",
            "25/25 [==============================] - 20s 780ms/step - loss: 0.3587 - accuracy: 0.8850 - val_loss: 0.4908 - val_accuracy: 0.7850\n",
            "Epoch 80/100\n",
            "25/25 [==============================] - 19s 777ms/step - loss: 0.3691 - accuracy: 0.8800 - val_loss: 0.4882 - val_accuracy: 0.8350\n",
            "Epoch 81/100\n",
            "25/25 [==============================] - 19s 780ms/step - loss: 0.3594 - accuracy: 0.8825 - val_loss: 0.4594 - val_accuracy: 0.8400\n",
            "Epoch 82/100\n",
            "25/25 [==============================] - 19s 777ms/step - loss: 0.3544 - accuracy: 0.8825 - val_loss: 0.7618 - val_accuracy: 0.8000\n",
            "Epoch 83/100\n",
            "25/25 [==============================] - 19s 777ms/step - loss: 0.4513 - accuracy: 0.8625 - val_loss: 0.4237 - val_accuracy: 0.8400\n",
            "Epoch 84/100\n",
            "25/25 [==============================] - 19s 772ms/step - loss: 0.2985 - accuracy: 0.8975 - val_loss: 1.2003 - val_accuracy: 0.7050\n",
            "Epoch 85/100\n",
            "25/25 [==============================] - 19s 779ms/step - loss: 0.3833 - accuracy: 0.8637 - val_loss: 0.5942 - val_accuracy: 0.8150\n",
            "Epoch 86/100\n",
            "25/25 [==============================] - 19s 777ms/step - loss: 0.3038 - accuracy: 0.8888 - val_loss: 0.5724 - val_accuracy: 0.8400\n",
            "Epoch 87/100\n",
            "25/25 [==============================] - 19s 774ms/step - loss: 0.5549 - accuracy: 0.8438 - val_loss: 0.3936 - val_accuracy: 0.8500\n",
            "Epoch 88/100\n",
            "25/25 [==============================] - 19s 776ms/step - loss: 0.2930 - accuracy: 0.8838 - val_loss: 0.5045 - val_accuracy: 0.8150\n",
            "Epoch 89/100\n",
            "25/25 [==============================] - 19s 771ms/step - loss: 0.4384 - accuracy: 0.8725 - val_loss: 0.8262 - val_accuracy: 0.6200\n",
            "Epoch 90/100\n",
            "25/25 [==============================] - 19s 773ms/step - loss: 0.3002 - accuracy: 0.8813 - val_loss: 0.4321 - val_accuracy: 0.8550\n",
            "Epoch 91/100\n",
            "25/25 [==============================] - 19s 778ms/step - loss: 0.4131 - accuracy: 0.8662 - val_loss: 0.6310 - val_accuracy: 0.7000\n",
            "Epoch 92/100\n",
            "25/25 [==============================] - 20s 789ms/step - loss: 0.3118 - accuracy: 0.8850 - val_loss: 0.8347 - val_accuracy: 0.7950\n",
            "Epoch 93/100\n",
            "25/25 [==============================] - 19s 773ms/step - loss: 0.3269 - accuracy: 0.8900 - val_loss: 0.5406 - val_accuracy: 0.8400\n",
            "Epoch 94/100\n",
            "25/25 [==============================] - 19s 774ms/step - loss: 0.4450 - accuracy: 0.8575 - val_loss: 0.3982 - val_accuracy: 0.8800\n",
            "Epoch 95/100\n",
            "25/25 [==============================] - 19s 774ms/step - loss: 0.3969 - accuracy: 0.8900 - val_loss: 0.5336 - val_accuracy: 0.8250\n",
            "Epoch 96/100\n",
            "25/25 [==============================] - 19s 768ms/step - loss: 0.3147 - accuracy: 0.9013 - val_loss: 0.4882 - val_accuracy: 0.7750\n",
            "Epoch 97/100\n",
            "25/25 [==============================] - 19s 771ms/step - loss: 0.3251 - accuracy: 0.8913 - val_loss: 0.4361 - val_accuracy: 0.8550\n",
            "Epoch 98/100\n",
            "25/25 [==============================] - 19s 777ms/step - loss: 0.4198 - accuracy: 0.8575 - val_loss: 0.4722 - val_accuracy: 0.8800\n",
            "Epoch 99/100\n",
            "25/25 [==============================] - 19s 771ms/step - loss: 0.3962 - accuracy: 0.8637 - val_loss: 0.3702 - val_accuracy: 0.8500\n",
            "Epoch 100/100\n",
            "25/25 [==============================] - 19s 772ms/step - loss: 0.2824 - accuracy: 0.9000 - val_loss: 0.4415 - val_accuracy: 0.8700\n"
          ],
          "name": "stdout"
        },
        {
          "output_type": "execute_result",
          "data": {
            "text/plain": [
              "<tensorflow.python.keras.callbacks.History at 0x7f096bedbb70>"
            ]
          },
          "metadata": {
            "tags": []
          },
          "execution_count": 103
        }
      ]
    }
  ]
}