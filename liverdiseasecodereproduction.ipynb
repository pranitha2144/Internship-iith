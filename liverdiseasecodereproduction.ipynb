{
  "nbformat": 4,
  "nbformat_minor": 0,
  "metadata": {
    "colab": {
      "name": "liverdiseasecodereproduction.ipynb",
      "provenance": [],
      "collapsed_sections": [],
      "mount_file_id": "1BemhAhuHvP-LV2rKnVbZwFbyBeWbsTzS",
      "authorship_tag": "ABX9TyMlWa85YNHj1/3tFhTaE8jH",
      "include_colab_link": true
    },
    "kernelspec": {
      "name": "python3",
      "display_name": "Python 3"
    }
  },
  "cells": [
    {
      "cell_type": "markdown",
      "metadata": {
        "id": "view-in-github",
        "colab_type": "text"
      },
      "source": [
        "<a href=\"https://colab.research.google.com/github/pranitha2144/Internship-iith/blob/master/liverdiseasecodereproduction.ipynb\" target=\"_parent\"><img src=\"https://colab.research.google.com/assets/colab-badge.svg\" alt=\"Open In Colab\"/></a>"
      ]
    },
    {
      "cell_type": "code",
      "metadata": {
        "id": "pSmCTaVG0Nol",
        "colab_type": "code",
        "colab": {}
      },
      "source": [
        "import tensorflow as tf\n",
        "from tensorflow.keras.models import Sequential\n",
        "from tensorflow.keras.layers import Dense, Conv2D, MaxPooling2D, Flatten,Dropout"
      ],
      "execution_count": 0,
      "outputs": []
    },
    {
      "cell_type": "code",
      "metadata": {
        "id": "1A8bbAtr15gA",
        "colab_type": "code",
        "colab": {}
      },
      "source": [
        "classifier = Sequential([Conv2D(32,(3,3),activation='relu',input_shape=(128,128,1)),\n",
        "                         MaxPooling2D(2,2),\n",
        "                         Conv2D(32,(3,3),activation='relu'),\n",
        "                         MaxPooling2D(2,2),\n",
        "                         Conv2D(64,(3,3),activation='relu'),\n",
        "                         MaxPooling2D(2,2),\n",
        "                         Conv2D(64,(3,3),activation='relu'),\n",
        "                         MaxPooling2D(2,2),\n",
        "                         Conv2D(128,(3,3),activation='relu'),\n",
        "                         MaxPooling2D(2,2),\n",
        "                         Flatten(),\n",
        "                         Dense(128,activation='relu'),\n",
        "                         Dropout(0.3),\n",
        "                         Dropout(0.6),\n",
        "                         Dense(256,activation='relu'),\n",
        "                         Dense(256,activation='relu'),\n",
        "                         Dense(4,activation='softmax')\n",
        "\n",
        "\n",
        "\n",
        "])"
      ],
      "execution_count": 0,
      "outputs": []
    },
    {
      "cell_type": "code",
      "metadata": {
        "id": "zwuhqUpLQDKm",
        "colab_type": "code",
        "colab": {}
      },
      "source": [
        "classifier.compile(loss='categorical_crossentropy', optimizer='RMSprop', metrics=['accuracy'])"
      ],
      "execution_count": 0,
      "outputs": []
    },
    {
      "cell_type": "code",
      "metadata": {
        "id": "iUftPYb7Qt-M",
        "colab_type": "code",
        "colab": {}
      },
      "source": [
        "from keras.preprocessing.image import ImageDataGenerator"
      ],
      "execution_count": 0,
      "outputs": []
    },
    {
      "cell_type": "code",
      "metadata": {
        "id": "fTick91EU_su",
        "colab_type": "code",
        "colab": {}
      },
      "source": [
        "datagen = ImageDataGenerator(\n",
        "        rescale=1./255\n",
        "        rotation_range=60,\n",
        "        shear_range=0.2,\n",
        "        zoom_range=0.2,\n",
        "        horizontal_flip=True,vertical_flip=True,validation_split=0.2)"
      ],
      "execution_count": 0,
      "outputs": []
    },
    {
      "cell_type": "code",
      "metadata": {
        "id": "MdXG5380VHw6",
        "colab_type": "code",
        "outputId": "181ccbd2-7bba-49ac-b7d3-2c747362605a",
        "colab": {
          "base_uri": "https://localhost:8080/",
          "height": 34
        }
      },
      "source": [
        "training_set = datagen.flow_from_directory(\n",
        "        '/content/drive/My Drive/texture_4class_classification/data',\n",
        "        target_size=(128, 128),\n",
        "        shuffle=True,\n",
        "        color_mode=\"grayscale\",\n",
        "        seed=42,\n",
        "        subset=\"training\",\n",
        "        batch_size=32,\n",
        "        class_mode='categorical')"
      ],
      "execution_count": 63,
      "outputs": [
        {
          "output_type": "stream",
          "text": [
            "Found 800 images belonging to 4 classes.\n"
          ],
          "name": "stdout"
        }
      ]
    },
    {
      "cell_type": "code",
      "metadata": {
        "id": "ET1M_C_Qf-K-",
        "colab_type": "code",
        "outputId": "11a0f963-9d92-4c2c-ad4f-db65670ef1fa",
        "colab": {
          "base_uri": "https://localhost:8080/",
          "height": 34
        }
      },
      "source": [
        "test_set = datagen.flow_from_directory(\n",
        "        '/content/drive/My Drive/texture_4class_classification/data',\n",
        "        target_size=(128, 128),\n",
        "        shuffle=True,\n",
        "        color_mode=\"grayscale\",\n",
        "        subset=\"validation\",\n",
        "        seed=42,\n",
        "        batch_size=32,\n",
        "        class_mode='categorical')"
      ],
      "execution_count": 64,
      "outputs": [
        {
          "output_type": "stream",
          "text": [
            "Found 200 images belonging to 4 classes.\n"
          ],
          "name": "stdout"
        }
      ]
    },
    {
      "cell_type": "code",
      "metadata": {
        "id": "oiM5eoUiaNJs",
        "colab_type": "code",
        "outputId": "a94b05dd-362f-4316-e73f-55ae72b56658",
        "colab": {
          "base_uri": "https://localhost:8080/",
          "height": 1000
        }
      },
      "source": [
        "classifier.fit(training_set,validation_data=test_set,epochs=100)"
      ],
      "execution_count": 66,
      "outputs": [
        {
          "output_type": "stream",
          "text": [
            "Epoch 1/100\n",
            "25/25 [==============================] - 20s 803ms/step - loss: 1.4018 - accuracy: 0.2750 - val_loss: 1.3633 - val_accuracy: 0.2900\n",
            "Epoch 2/100\n",
            "25/25 [==============================] - 16s 650ms/step - loss: 1.4086 - accuracy: 0.2837 - val_loss: 1.3830 - val_accuracy: 0.4350\n",
            "Epoch 3/100\n",
            "25/25 [==============================] - 16s 648ms/step - loss: 1.4001 - accuracy: 0.2675 - val_loss: 1.3889 - val_accuracy: 0.2500\n",
            "Epoch 4/100\n",
            "25/25 [==============================] - 16s 650ms/step - loss: 1.4115 - accuracy: 0.2425 - val_loss: 1.3893 - val_accuracy: 0.2500\n",
            "Epoch 5/100\n",
            "25/25 [==============================] - 16s 656ms/step - loss: 1.3927 - accuracy: 0.3013 - val_loss: 1.3921 - val_accuracy: 0.2500\n",
            "Epoch 6/100\n",
            "25/25 [==============================] - 16s 659ms/step - loss: 1.3847 - accuracy: 0.2862 - val_loss: 1.3395 - val_accuracy: 0.2750\n",
            "Epoch 7/100\n",
            "25/25 [==============================] - 16s 656ms/step - loss: 1.3768 - accuracy: 0.2900 - val_loss: 1.3656 - val_accuracy: 0.2500\n",
            "Epoch 8/100\n",
            "25/25 [==============================] - 16s 655ms/step - loss: 1.4071 - accuracy: 0.2887 - val_loss: 1.3959 - val_accuracy: 0.2500\n",
            "Epoch 9/100\n",
            "25/25 [==============================] - 16s 659ms/step - loss: 1.3805 - accuracy: 0.2788 - val_loss: 1.3987 - val_accuracy: 0.2500\n",
            "Epoch 10/100\n",
            "25/25 [==============================] - 16s 655ms/step - loss: 1.3694 - accuracy: 0.2962 - val_loss: 1.3569 - val_accuracy: 0.6100\n",
            "Epoch 11/100\n",
            "25/25 [==============================] - 16s 647ms/step - loss: 1.3778 - accuracy: 0.3113 - val_loss: 1.3178 - val_accuracy: 0.4050\n",
            "Epoch 12/100\n",
            "25/25 [==============================] - 16s 653ms/step - loss: 1.3563 - accuracy: 0.3450 - val_loss: 1.3250 - val_accuracy: 0.3450\n",
            "Epoch 13/100\n",
            "25/25 [==============================] - 16s 655ms/step - loss: 1.3655 - accuracy: 0.3550 - val_loss: 1.3783 - val_accuracy: 0.2500\n",
            "Epoch 14/100\n",
            "25/25 [==============================] - 16s 655ms/step - loss: 1.3479 - accuracy: 0.3600 - val_loss: 1.1982 - val_accuracy: 0.6200\n",
            "Epoch 15/100\n",
            "25/25 [==============================] - 16s 648ms/step - loss: 1.3372 - accuracy: 0.4250 - val_loss: 1.1002 - val_accuracy: 0.4350\n",
            "Epoch 16/100\n",
            "25/25 [==============================] - 16s 644ms/step - loss: 1.2136 - accuracy: 0.4512 - val_loss: 0.9996 - val_accuracy: 0.5700\n",
            "Epoch 17/100\n",
            "25/25 [==============================] - 16s 645ms/step - loss: 1.1221 - accuracy: 0.4963 - val_loss: 0.9526 - val_accuracy: 0.5150\n",
            "Epoch 18/100\n",
            "25/25 [==============================] - 16s 641ms/step - loss: 1.0612 - accuracy: 0.5337 - val_loss: 0.9518 - val_accuracy: 0.6700\n",
            "Epoch 19/100\n",
            "25/25 [==============================] - 16s 641ms/step - loss: 1.3280 - accuracy: 0.5138 - val_loss: 0.8263 - val_accuracy: 0.7450\n",
            "Epoch 20/100\n",
            "25/25 [==============================] - 16s 637ms/step - loss: 1.0565 - accuracy: 0.5412 - val_loss: 0.9071 - val_accuracy: 0.5800\n",
            "Epoch 21/100\n",
            "25/25 [==============================] - 16s 646ms/step - loss: 1.0415 - accuracy: 0.5300 - val_loss: 0.8180 - val_accuracy: 0.7300\n",
            "Epoch 22/100\n",
            "25/25 [==============================] - 16s 639ms/step - loss: 1.0496 - accuracy: 0.5525 - val_loss: 0.8313 - val_accuracy: 0.6950\n",
            "Epoch 23/100\n",
            "25/25 [==============================] - 16s 640ms/step - loss: 0.9552 - accuracy: 0.5938 - val_loss: 0.7819 - val_accuracy: 0.6050\n",
            "Epoch 24/100\n",
            "25/25 [==============================] - 16s 639ms/step - loss: 0.9502 - accuracy: 0.5813 - val_loss: 0.8134 - val_accuracy: 0.6600\n",
            "Epoch 25/100\n",
            "25/25 [==============================] - 16s 641ms/step - loss: 1.2769 - accuracy: 0.5437 - val_loss: 0.7796 - val_accuracy: 0.7500\n",
            "Epoch 26/100\n",
            "25/25 [==============================] - 16s 642ms/step - loss: 0.9650 - accuracy: 0.6037 - val_loss: 0.7642 - val_accuracy: 0.7550\n",
            "Epoch 27/100\n",
            "25/25 [==============================] - 16s 644ms/step - loss: 0.9784 - accuracy: 0.5925 - val_loss: 0.7324 - val_accuracy: 0.7600\n",
            "Epoch 28/100\n",
            "25/25 [==============================] - 16s 639ms/step - loss: 1.0403 - accuracy: 0.5788 - val_loss: 0.7728 - val_accuracy: 0.7050\n",
            "Epoch 29/100\n",
            "25/25 [==============================] - 16s 639ms/step - loss: 0.9454 - accuracy: 0.6037 - val_loss: 0.8258 - val_accuracy: 0.6600\n",
            "Epoch 30/100\n",
            "25/25 [==============================] - 16s 642ms/step - loss: 0.9080 - accuracy: 0.6338 - val_loss: 0.9858 - val_accuracy: 0.5400\n",
            "Epoch 31/100\n",
            "25/25 [==============================] - 16s 637ms/step - loss: 0.9282 - accuracy: 0.6187 - val_loss: 0.8142 - val_accuracy: 0.6750\n",
            "Epoch 32/100\n",
            "25/25 [==============================] - 16s 636ms/step - loss: 0.9232 - accuracy: 0.6300 - val_loss: 0.8117 - val_accuracy: 0.6100\n",
            "Epoch 33/100\n",
            "25/25 [==============================] - 16s 636ms/step - loss: 1.1991 - accuracy: 0.6025 - val_loss: 1.0220 - val_accuracy: 0.4400\n",
            "Epoch 34/100\n",
            "25/25 [==============================] - 16s 635ms/step - loss: 0.8458 - accuracy: 0.6775 - val_loss: 0.7526 - val_accuracy: 0.7500\n",
            "Epoch 35/100\n",
            "25/25 [==============================] - 16s 632ms/step - loss: 0.8554 - accuracy: 0.6737 - val_loss: 0.7866 - val_accuracy: 0.7250\n",
            "Epoch 36/100\n",
            "25/25 [==============================] - 16s 633ms/step - loss: 1.0991 - accuracy: 0.5925 - val_loss: 0.6724 - val_accuracy: 0.7650\n",
            "Epoch 37/100\n",
            "25/25 [==============================] - 16s 634ms/step - loss: 0.8641 - accuracy: 0.6475 - val_loss: 0.8931 - val_accuracy: 0.5450\n",
            "Epoch 38/100\n",
            "25/25 [==============================] - 16s 636ms/step - loss: 0.8194 - accuracy: 0.6525 - val_loss: 0.6237 - val_accuracy: 0.7900\n",
            "Epoch 39/100\n",
            "25/25 [==============================] - 16s 632ms/step - loss: 1.0594 - accuracy: 0.6338 - val_loss: 0.7357 - val_accuracy: 0.7650\n",
            "Epoch 40/100\n",
            "25/25 [==============================] - 16s 650ms/step - loss: 0.9332 - accuracy: 0.6175 - val_loss: 0.9330 - val_accuracy: 0.6900\n",
            "Epoch 41/100\n",
            "25/25 [==============================] - 16s 638ms/step - loss: 0.8419 - accuracy: 0.6750 - val_loss: 0.8347 - val_accuracy: 0.5250\n",
            "Epoch 42/100\n",
            "25/25 [==============================] - 16s 637ms/step - loss: 1.0073 - accuracy: 0.5900 - val_loss: 0.7440 - val_accuracy: 0.6650\n",
            "Epoch 43/100\n",
            "25/25 [==============================] - 16s 634ms/step - loss: 0.8395 - accuracy: 0.6700 - val_loss: 1.1196 - val_accuracy: 0.4600\n",
            "Epoch 44/100\n",
            "25/25 [==============================] - 16s 639ms/step - loss: 0.9988 - accuracy: 0.6450 - val_loss: 0.7359 - val_accuracy: 0.5650\n",
            "Epoch 45/100\n",
            "25/25 [==============================] - 16s 640ms/step - loss: 0.8016 - accuracy: 0.6587 - val_loss: 0.8909 - val_accuracy: 0.5500\n",
            "Epoch 46/100\n",
            "25/25 [==============================] - 16s 646ms/step - loss: 0.9121 - accuracy: 0.6225 - val_loss: 0.6344 - val_accuracy: 0.8600\n",
            "Epoch 47/100\n",
            "25/25 [==============================] - 16s 641ms/step - loss: 0.9285 - accuracy: 0.6300 - val_loss: 1.0051 - val_accuracy: 0.6050\n",
            "Epoch 48/100\n",
            "25/25 [==============================] - 16s 639ms/step - loss: 0.8620 - accuracy: 0.6375 - val_loss: 0.7346 - val_accuracy: 0.7800\n",
            "Epoch 49/100\n",
            "25/25 [==============================] - 16s 637ms/step - loss: 0.9114 - accuracy: 0.6313 - val_loss: 0.6776 - val_accuracy: 0.7000\n",
            "Epoch 50/100\n",
            "25/25 [==============================] - 16s 639ms/step - loss: 0.8189 - accuracy: 0.6725 - val_loss: 1.0748 - val_accuracy: 0.5300\n",
            "Epoch 51/100\n",
            "25/25 [==============================] - 16s 639ms/step - loss: 0.7948 - accuracy: 0.6762 - val_loss: 0.8080 - val_accuracy: 0.6000\n",
            "Epoch 52/100\n",
            "25/25 [==============================] - 16s 639ms/step - loss: 1.0125 - accuracy: 0.6550 - val_loss: 0.6784 - val_accuracy: 0.6550\n",
            "Epoch 53/100\n",
            "25/25 [==============================] - 16s 640ms/step - loss: 0.7306 - accuracy: 0.7088 - val_loss: 0.5772 - val_accuracy: 0.8050\n",
            "Epoch 54/100\n",
            "25/25 [==============================] - 16s 638ms/step - loss: 0.7717 - accuracy: 0.6900 - val_loss: 0.6290 - val_accuracy: 0.8600\n",
            "Epoch 55/100\n",
            "25/25 [==============================] - 16s 638ms/step - loss: 1.0121 - accuracy: 0.6500 - val_loss: 1.2367 - val_accuracy: 0.4300\n",
            "Epoch 56/100\n",
            "25/25 [==============================] - 16s 641ms/step - loss: 0.7549 - accuracy: 0.7050 - val_loss: 0.6353 - val_accuracy: 0.7650\n",
            "Epoch 57/100\n",
            "25/25 [==============================] - 16s 638ms/step - loss: 0.9666 - accuracy: 0.6375 - val_loss: 0.8200 - val_accuracy: 0.5750\n",
            "Epoch 58/100\n",
            "25/25 [==============================] - 16s 640ms/step - loss: 0.7633 - accuracy: 0.6812 - val_loss: 0.6401 - val_accuracy: 0.7800\n",
            "Epoch 59/100\n",
            "25/25 [==============================] - 16s 647ms/step - loss: 1.0659 - accuracy: 0.6425 - val_loss: 0.5401 - val_accuracy: 0.7700\n",
            "Epoch 60/100\n",
            "25/25 [==============================] - 16s 642ms/step - loss: 0.7832 - accuracy: 0.6900 - val_loss: 0.5019 - val_accuracy: 0.8500\n",
            "Epoch 61/100\n",
            "25/25 [==============================] - 16s 636ms/step - loss: 0.8383 - accuracy: 0.6825 - val_loss: 0.6311 - val_accuracy: 0.8650\n",
            "Epoch 62/100\n",
            "25/25 [==============================] - 16s 636ms/step - loss: 0.7218 - accuracy: 0.7200 - val_loss: 1.0471 - val_accuracy: 0.5100\n",
            "Epoch 63/100\n",
            "25/25 [==============================] - 16s 641ms/step - loss: 1.1393 - accuracy: 0.6112 - val_loss: 0.6440 - val_accuracy: 0.7350\n",
            "Epoch 64/100\n",
            "25/25 [==============================] - 16s 643ms/step - loss: 0.8468 - accuracy: 0.6363 - val_loss: 0.5133 - val_accuracy: 0.8400\n",
            "Epoch 65/100\n",
            "25/25 [==============================] - 16s 640ms/step - loss: 0.7640 - accuracy: 0.6938 - val_loss: 0.6479 - val_accuracy: 0.8250\n",
            "Epoch 66/100\n",
            "25/25 [==============================] - 16s 638ms/step - loss: 0.8782 - accuracy: 0.6650 - val_loss: 2.9202 - val_accuracy: 0.4050\n",
            "Epoch 67/100\n",
            "25/25 [==============================] - 16s 640ms/step - loss: 1.0377 - accuracy: 0.6425 - val_loss: 0.6584 - val_accuracy: 0.7950\n",
            "Epoch 68/100\n",
            "25/25 [==============================] - 16s 637ms/step - loss: 0.6896 - accuracy: 0.7437 - val_loss: 0.5050 - val_accuracy: 0.8000\n",
            "Epoch 69/100\n",
            "25/25 [==============================] - 16s 638ms/step - loss: 0.8539 - accuracy: 0.6450 - val_loss: 0.6236 - val_accuracy: 0.8450\n",
            "Epoch 70/100\n",
            "25/25 [==============================] - 16s 635ms/step - loss: 0.7625 - accuracy: 0.7000 - val_loss: 0.5307 - val_accuracy: 0.8000\n",
            "Epoch 71/100\n",
            "25/25 [==============================] - 16s 639ms/step - loss: 0.7421 - accuracy: 0.6938 - val_loss: 0.5369 - val_accuracy: 0.7750\n",
            "Epoch 72/100\n",
            "25/25 [==============================] - 16s 636ms/step - loss: 0.9042 - accuracy: 0.6675 - val_loss: 0.6707 - val_accuracy: 0.8000\n",
            "Epoch 73/100\n",
            "25/25 [==============================] - 16s 638ms/step - loss: 0.7641 - accuracy: 0.7113 - val_loss: 0.6408 - val_accuracy: 0.8050\n",
            "Epoch 74/100\n",
            "25/25 [==============================] - 16s 637ms/step - loss: 0.7902 - accuracy: 0.6925 - val_loss: 0.4992 - val_accuracy: 0.8300\n",
            "Epoch 75/100\n",
            "25/25 [==============================] - 16s 640ms/step - loss: 1.2610 - accuracy: 0.6900 - val_loss: 0.7044 - val_accuracy: 0.6800\n",
            "Epoch 76/100\n",
            "25/25 [==============================] - 16s 640ms/step - loss: 0.7207 - accuracy: 0.7125 - val_loss: 0.4919 - val_accuracy: 0.8250\n",
            "Epoch 77/100\n",
            "25/25 [==============================] - 16s 637ms/step - loss: 0.8490 - accuracy: 0.6612 - val_loss: 0.6473 - val_accuracy: 0.7400\n",
            "Epoch 78/100\n",
            "25/25 [==============================] - 16s 638ms/step - loss: 0.7209 - accuracy: 0.7025 - val_loss: 0.6244 - val_accuracy: 0.8150\n",
            "Epoch 79/100\n",
            "25/25 [==============================] - 16s 639ms/step - loss: 0.7890 - accuracy: 0.7300 - val_loss: 0.6009 - val_accuracy: 0.7950\n",
            "Epoch 80/100\n",
            "25/25 [==============================] - 16s 638ms/step - loss: 0.7233 - accuracy: 0.7250 - val_loss: 0.5951 - val_accuracy: 0.7400\n",
            "Epoch 81/100\n",
            "25/25 [==============================] - 16s 638ms/step - loss: 0.8080 - accuracy: 0.6913 - val_loss: 0.5676 - val_accuracy: 0.7800\n",
            "Epoch 82/100\n",
            "25/25 [==============================] - 16s 636ms/step - loss: 0.8647 - accuracy: 0.6925 - val_loss: 0.5389 - val_accuracy: 0.8500\n",
            "Epoch 83/100\n",
            "25/25 [==============================] - 16s 640ms/step - loss: 0.6656 - accuracy: 0.7600 - val_loss: 0.4731 - val_accuracy: 0.8200\n",
            "Epoch 84/100\n",
            "25/25 [==============================] - 16s 637ms/step - loss: 0.7372 - accuracy: 0.7325 - val_loss: 0.6480 - val_accuracy: 0.7300\n",
            "Epoch 85/100\n",
            "25/25 [==============================] - 16s 640ms/step - loss: 0.8153 - accuracy: 0.6850 - val_loss: 0.7040 - val_accuracy: 0.7450\n",
            "Epoch 86/100\n",
            "25/25 [==============================] - 16s 635ms/step - loss: 0.8631 - accuracy: 0.7025 - val_loss: 0.4538 - val_accuracy: 0.8550\n",
            "Epoch 87/100\n",
            "25/25 [==============================] - 16s 640ms/step - loss: 0.7508 - accuracy: 0.7200 - val_loss: 0.4148 - val_accuracy: 0.8700\n",
            "Epoch 88/100\n",
            "25/25 [==============================] - 16s 639ms/step - loss: 0.8434 - accuracy: 0.7050 - val_loss: 0.5229 - val_accuracy: 0.8000\n",
            "Epoch 89/100\n",
            "25/25 [==============================] - 16s 640ms/step - loss: 0.8968 - accuracy: 0.6538 - val_loss: 0.6291 - val_accuracy: 0.8250\n",
            "Epoch 90/100\n",
            "25/25 [==============================] - 16s 633ms/step - loss: 0.8367 - accuracy: 0.6550 - val_loss: 0.9225 - val_accuracy: 0.5750\n",
            "Epoch 91/100\n",
            "25/25 [==============================] - 16s 631ms/step - loss: 0.8787 - accuracy: 0.6725 - val_loss: 0.4784 - val_accuracy: 0.8300\n",
            "Epoch 92/100\n",
            "25/25 [==============================] - 16s 632ms/step - loss: 0.9070 - accuracy: 0.6988 - val_loss: 0.3962 - val_accuracy: 0.8800\n",
            "Epoch 93/100\n",
            "25/25 [==============================] - 16s 629ms/step - loss: 0.6702 - accuracy: 0.7325 - val_loss: 0.6231 - val_accuracy: 0.7200\n",
            "Epoch 94/100\n",
            "25/25 [==============================] - 16s 634ms/step - loss: 0.7687 - accuracy: 0.7000 - val_loss: 0.8495 - val_accuracy: 0.6500\n",
            "Epoch 95/100\n",
            "25/25 [==============================] - 16s 629ms/step - loss: 0.7168 - accuracy: 0.7237 - val_loss: 0.5665 - val_accuracy: 0.7550\n",
            "Epoch 96/100\n",
            "25/25 [==============================] - 16s 630ms/step - loss: 0.7539 - accuracy: 0.7113 - val_loss: 0.6281 - val_accuracy: 0.7650\n",
            "Epoch 97/100\n",
            "25/25 [==============================] - 16s 629ms/step - loss: 0.8653 - accuracy: 0.6750 - val_loss: 0.7981 - val_accuracy: 0.7150\n",
            "Epoch 98/100\n",
            "25/25 [==============================] - 16s 629ms/step - loss: 0.6769 - accuracy: 0.7425 - val_loss: 1.1411 - val_accuracy: 0.4450\n",
            "Epoch 99/100\n",
            "25/25 [==============================] - 16s 631ms/step - loss: 0.7245 - accuracy: 0.7013 - val_loss: 0.7912 - val_accuracy: 0.7300\n",
            "Epoch 100/100\n",
            "25/25 [==============================] - 16s 630ms/step - loss: 0.7600 - accuracy: 0.7150 - val_loss: 0.4935 - val_accuracy: 0.8350\n"
          ],
          "name": "stdout"
        },
        {
          "output_type": "execute_result",
          "data": {
            "text/plain": [
              "<tensorflow.python.keras.callbacks.History at 0x7f33f9d4e080>"
            ]
          },
          "metadata": {
            "tags": []
          },
          "execution_count": 66
        }
      ]
    }
  ]
}