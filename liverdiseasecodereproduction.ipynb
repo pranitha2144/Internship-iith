{
  "nbformat": 4,
  "nbformat_minor": 0,
  "metadata": {
    "colab": {
      "name": "liverdiseasecodereproduction.ipynb",
      "provenance": [],
      "mount_file_id": "1BemhAhuHvP-LV2rKnVbZwFbyBeWbsTzS",
      "authorship_tag": "ABX9TyN0GWV859qOp4nJcI4i7qOH",
      "include_colab_link": true
    },
    "kernelspec": {
      "name": "python3",
      "display_name": "Python 3"
    }
  },
  "cells": [
    {
      "cell_type": "markdown",
      "metadata": {
        "id": "view-in-github",
        "colab_type": "text"
      },
      "source": [
        "<a href=\"https://colab.research.google.com/github/pranitha2144/Internship-iith/blob/master/liverdiseasecodereproduction.ipynb\" target=\"_parent\"><img src=\"https://colab.research.google.com/assets/colab-badge.svg\" alt=\"Open In Colab\"/></a>"
      ]
    },
    {
      "cell_type": "code",
      "metadata": {
        "id": "pSmCTaVG0Nol",
        "colab_type": "code",
        "colab": {}
      },
      "source": [
        "import tensorflow as tf\n",
        "from tensorflow.keras.models import Sequential\n",
        "from tensorflow.keras.layers import Dense, Conv2D, MaxPooling2D, Flatten,Dropout"
      ],
      "execution_count": 0,
      "outputs": []
    },
    {
      "cell_type": "code",
      "metadata": {
        "id": "1A8bbAtr15gA",
        "colab_type": "code",
        "colab": {}
      },
      "source": [
        "classifier = Sequential([Conv2D(32,(3,3),activation='relu',input_shape=(128,128,3),strides=[1,1],padding='same'),\n",
        "                         MaxPooling2D(2,2),\n",
        "                         Conv2D(32,(3,3),activation='relu',strides=[1,1],padding='same'),\n",
        "                         MaxPooling2D(2,2),\n",
        "                         Conv2D(64,(3,3),activation='relu',strides=[1,1],padding='same'),\n",
        "                         MaxPooling2D(2,2),\n",
        "                         Conv2D(64,(3,3),activation='relu',strides=[1,1],padding='same'),\n",
        "                         MaxPooling2D(2,2),\n",
        "                         Conv2D(128,(3,3),activation='relu',strides=[1,1],padding='same'),\n",
        "                         MaxPooling2D(2,2),\n",
        "                         Flatten(),\n",
        "                         Dense(128,activation='relu'),\n",
        "                         Dropout(0.3),\n",
        "                         Dropout(0.6),\n",
        "                         Dense(256,activation='relu'),\n",
        "                         Dense(256,activation='relu'),\n",
        "                         Dense(4,activation='softmax')\n",
        "\n",
        "\n",
        "\n",
        "])"
      ],
      "execution_count": 0,
      "outputs": []
    },
    {
      "cell_type": "code",
      "metadata": {
        "id": "zwuhqUpLQDKm",
        "colab_type": "code",
        "colab": {}
      },
      "source": [
        "classifier.compile(loss='categorical_crossentropy', optimizer='RMSprop', metrics=['accuracy'])"
      ],
      "execution_count": 0,
      "outputs": []
    },
    {
      "cell_type": "code",
      "metadata": {
        "id": "iUftPYb7Qt-M",
        "colab_type": "code",
        "colab": {}
      },
      "source": [
        "from keras.preprocessing.image import ImageDataGenerator"
      ],
      "execution_count": 0,
      "outputs": []
    },
    {
      "cell_type": "code",
      "metadata": {
        "id": "fTick91EU_su",
        "colab_type": "code",
        "colab": {}
      },
      "source": [
        "datagen = ImageDataGenerator(\n",
        "        rescale=1./255,\n",
        "        rotation_range=60,\n",
        "        shear_range=0.2,\n",
        "        zoom_range=0.2,\n",
        "        horizontal_flip=True,vertical_flip=True,validation_split=0.2)"
      ],
      "execution_count": 0,
      "outputs": []
    },
    {
      "cell_type": "code",
      "metadata": {
        "id": "MdXG5380VHw6",
        "colab_type": "code",
        "outputId": "d2e86d94-75cf-4890-e1e6-b883cfe7e6e7",
        "colab": {
          "base_uri": "https://localhost:8080/",
          "height": 34
        }
      },
      "source": [
        "training_set = datagen.flow_from_directory(\n",
        "        '/content/drive/My Drive/texture_4class_classification/data',\n",
        "        target_size=(128, 128),\n",
        "        shuffle=True,\n",
        "        subset=\"training\",\n",
        "        batch_size=32,\n",
        "        class_mode='categorical')"
      ],
      "execution_count": 72,
      "outputs": [
        {
          "output_type": "stream",
          "text": [
            "Found 800 images belonging to 4 classes.\n"
          ],
          "name": "stdout"
        }
      ]
    },
    {
      "cell_type": "code",
      "metadata": {
        "id": "ET1M_C_Qf-K-",
        "colab_type": "code",
        "colab": {
          "base_uri": "https://localhost:8080/",
          "height": 34
        },
        "outputId": "adbf5e57-c4bf-4f1b-9e46-8a212f7fde41"
      },
      "source": [
        "test_set = datagen.flow_from_directory(\n",
        "        '/content/drive/My Drive/texture_4class_classification/data',\n",
        "        target_size=(128, 128),\n",
        "        shuffle=True,\n",
        "        subset=\"validation\",\n",
        "        batch_size=32,\n",
        "        class_mode='categorical')"
      ],
      "execution_count": 73,
      "outputs": [
        {
          "output_type": "stream",
          "text": [
            "Found 200 images belonging to 4 classes.\n"
          ],
          "name": "stdout"
        }
      ]
    },
    {
      "cell_type": "code",
      "metadata": {
        "id": "oiM5eoUiaNJs",
        "colab_type": "code",
        "outputId": "60e504a5-e8ba-4161-f843-b7ba146cd607",
        "colab": {
          "base_uri": "https://localhost:8080/",
          "height": 1000
        }
      },
      "source": [
        "classifier.fit(training_set,validation_data=test_set,epochs=100)"
      ],
      "execution_count": 75,
      "outputs": [
        {
          "output_type": "stream",
          "text": [
            "Epoch 1/100\n",
            "25/25 [==============================] - 22s 877ms/step - loss: 1.3750 - accuracy: 0.2800 - val_loss: 1.3842 - val_accuracy: 0.2500\n",
            "Epoch 2/100\n",
            "25/25 [==============================] - 22s 869ms/step - loss: 1.3755 - accuracy: 0.3137 - val_loss: 1.2967 - val_accuracy: 0.5200\n",
            "Epoch 3/100\n",
            "25/25 [==============================] - 22s 873ms/step - loss: 1.3473 - accuracy: 0.3725 - val_loss: 1.2158 - val_accuracy: 0.4600\n",
            "Epoch 4/100\n",
            "25/25 [==============================] - 22s 869ms/step - loss: 1.1695 - accuracy: 0.4412 - val_loss: 1.2205 - val_accuracy: 0.7300\n",
            "Epoch 5/100\n",
            "25/25 [==============================] - 22s 862ms/step - loss: 1.0897 - accuracy: 0.4888 - val_loss: 0.9588 - val_accuracy: 0.5700\n",
            "Epoch 6/100\n",
            "25/25 [==============================] - 22s 864ms/step - loss: 1.0244 - accuracy: 0.5375 - val_loss: 0.8553 - val_accuracy: 0.5650\n",
            "Epoch 7/100\n",
            "25/25 [==============================] - 22s 866ms/step - loss: 1.0390 - accuracy: 0.5188 - val_loss: 1.1270 - val_accuracy: 0.4900\n",
            "Epoch 8/100\n",
            "25/25 [==============================] - 22s 861ms/step - loss: 0.9807 - accuracy: 0.5512 - val_loss: 0.9151 - val_accuracy: 0.4800\n",
            "Epoch 9/100\n",
            "25/25 [==============================] - 22s 861ms/step - loss: 0.9583 - accuracy: 0.5950 - val_loss: 1.0811 - val_accuracy: 0.4250\n",
            "Epoch 10/100\n",
            "25/25 [==============================] - 22s 864ms/step - loss: 0.8943 - accuracy: 0.5938 - val_loss: 0.8894 - val_accuracy: 0.6250\n",
            "Epoch 11/100\n",
            "25/25 [==============================] - 22s 861ms/step - loss: 0.8986 - accuracy: 0.6175 - val_loss: 1.0116 - val_accuracy: 0.4450\n",
            "Epoch 12/100\n",
            "25/25 [==============================] - 22s 862ms/step - loss: 0.8481 - accuracy: 0.6413 - val_loss: 0.7738 - val_accuracy: 0.6750\n",
            "Epoch 13/100\n",
            "25/25 [==============================] - 22s 867ms/step - loss: 0.9480 - accuracy: 0.6125 - val_loss: 0.7706 - val_accuracy: 0.5850\n",
            "Epoch 14/100\n",
            "25/25 [==============================] - 22s 865ms/step - loss: 0.8374 - accuracy: 0.6325 - val_loss: 0.9087 - val_accuracy: 0.4850\n",
            "Epoch 15/100\n",
            "25/25 [==============================] - 22s 861ms/step - loss: 0.8309 - accuracy: 0.6363 - val_loss: 0.7210 - val_accuracy: 0.6250\n",
            "Epoch 16/100\n",
            "25/25 [==============================] - 22s 867ms/step - loss: 0.8544 - accuracy: 0.6037 - val_loss: 0.8163 - val_accuracy: 0.5700\n",
            "Epoch 17/100\n",
            "25/25 [==============================] - 22s 866ms/step - loss: 0.8372 - accuracy: 0.6450 - val_loss: 0.9086 - val_accuracy: 0.5550\n",
            "Epoch 18/100\n",
            "25/25 [==============================] - 22s 868ms/step - loss: 0.8238 - accuracy: 0.6600 - val_loss: 0.7281 - val_accuracy: 0.7000\n",
            "Epoch 19/100\n",
            "25/25 [==============================] - 22s 867ms/step - loss: 0.8941 - accuracy: 0.5900 - val_loss: 0.9633 - val_accuracy: 0.3900\n",
            "Epoch 20/100\n",
            "25/25 [==============================] - 22s 865ms/step - loss: 0.8114 - accuracy: 0.6338 - val_loss: 0.7671 - val_accuracy: 0.5900\n",
            "Epoch 21/100\n",
            "25/25 [==============================] - 22s 867ms/step - loss: 0.7740 - accuracy: 0.6538 - val_loss: 0.6151 - val_accuracy: 0.7800\n",
            "Epoch 22/100\n",
            "25/25 [==============================] - 22s 866ms/step - loss: 0.8633 - accuracy: 0.6288 - val_loss: 1.1226 - val_accuracy: 0.5050\n",
            "Epoch 23/100\n",
            "25/25 [==============================] - 22s 861ms/step - loss: 0.7873 - accuracy: 0.6750 - val_loss: 0.6629 - val_accuracy: 0.7650\n",
            "Epoch 24/100\n",
            "25/25 [==============================] - 22s 861ms/step - loss: 0.7619 - accuracy: 0.6675 - val_loss: 1.1310 - val_accuracy: 0.4500\n",
            "Epoch 25/100\n",
            "25/25 [==============================] - 22s 863ms/step - loss: 0.7606 - accuracy: 0.6637 - val_loss: 0.6187 - val_accuracy: 0.7250\n",
            "Epoch 26/100\n",
            "25/25 [==============================] - 22s 863ms/step - loss: 0.7815 - accuracy: 0.6637 - val_loss: 0.6746 - val_accuracy: 0.7350\n",
            "Epoch 27/100\n",
            "25/25 [==============================] - 22s 865ms/step - loss: 0.8697 - accuracy: 0.6725 - val_loss: 0.7066 - val_accuracy: 0.7350\n",
            "Epoch 28/100\n",
            "25/25 [==============================] - 22s 862ms/step - loss: 0.6549 - accuracy: 0.7212 - val_loss: 0.8277 - val_accuracy: 0.7650\n",
            "Epoch 29/100\n",
            "25/25 [==============================] - 21s 859ms/step - loss: 0.7901 - accuracy: 0.6612 - val_loss: 0.6926 - val_accuracy: 0.7150\n",
            "Epoch 30/100\n",
            "25/25 [==============================] - 22s 863ms/step - loss: 0.7556 - accuracy: 0.6612 - val_loss: 0.7611 - val_accuracy: 0.5700\n",
            "Epoch 31/100\n",
            "25/25 [==============================] - 22s 867ms/step - loss: 0.7041 - accuracy: 0.6875 - val_loss: 0.5793 - val_accuracy: 0.8050\n",
            "Epoch 32/100\n",
            "25/25 [==============================] - 22s 864ms/step - loss: 0.7278 - accuracy: 0.6950 - val_loss: 0.6888 - val_accuracy: 0.6800\n",
            "Epoch 33/100\n",
            "25/25 [==============================] - 22s 863ms/step - loss: 0.7707 - accuracy: 0.6762 - val_loss: 0.6777 - val_accuracy: 0.7700\n",
            "Epoch 34/100\n",
            "25/25 [==============================] - 22s 861ms/step - loss: 0.7180 - accuracy: 0.7175 - val_loss: 0.6404 - val_accuracy: 0.8450\n",
            "Epoch 35/100\n",
            "25/25 [==============================] - 21s 859ms/step - loss: 0.7090 - accuracy: 0.7075 - val_loss: 0.6742 - val_accuracy: 0.6750\n",
            "Epoch 36/100\n",
            "25/25 [==============================] - 21s 856ms/step - loss: 0.7409 - accuracy: 0.7050 - val_loss: 0.5718 - val_accuracy: 0.7250\n",
            "Epoch 37/100\n",
            "25/25 [==============================] - 21s 859ms/step - loss: 0.6973 - accuracy: 0.7063 - val_loss: 0.5259 - val_accuracy: 0.8350\n",
            "Epoch 38/100\n",
            "25/25 [==============================] - 21s 857ms/step - loss: 0.6434 - accuracy: 0.7300 - val_loss: 0.4849 - val_accuracy: 0.8500\n",
            "Epoch 39/100\n",
            "25/25 [==============================] - 21s 855ms/step - loss: 0.6920 - accuracy: 0.7350 - val_loss: 0.5501 - val_accuracy: 0.7750\n",
            "Epoch 40/100\n",
            "25/25 [==============================] - 21s 858ms/step - loss: 0.6467 - accuracy: 0.7525 - val_loss: 0.6829 - val_accuracy: 0.7750\n",
            "Epoch 41/100\n",
            "25/25 [==============================] - 22s 864ms/step - loss: 0.6095 - accuracy: 0.7525 - val_loss: 0.6864 - val_accuracy: 0.6200\n",
            "Epoch 42/100\n",
            "25/25 [==============================] - 21s 859ms/step - loss: 0.6963 - accuracy: 0.7337 - val_loss: 0.5988 - val_accuracy: 0.7650\n",
            "Epoch 43/100\n",
            "25/25 [==============================] - 26s 1s/step - loss: 0.5293 - accuracy: 0.7875 - val_loss: 0.5056 - val_accuracy: 0.7950\n",
            "Epoch 44/100\n",
            "25/25 [==============================] - 22s 877ms/step - loss: 0.6971 - accuracy: 0.7013 - val_loss: 0.7862 - val_accuracy: 0.5500\n",
            "Epoch 45/100\n",
            "25/25 [==============================] - 22s 874ms/step - loss: 0.6530 - accuracy: 0.7412 - val_loss: 1.1036 - val_accuracy: 0.5800\n",
            "Epoch 46/100\n",
            "25/25 [==============================] - 22s 881ms/step - loss: 0.6632 - accuracy: 0.7375 - val_loss: 0.8064 - val_accuracy: 0.5650\n",
            "Epoch 47/100\n",
            "25/25 [==============================] - 22s 877ms/step - loss: 0.6086 - accuracy: 0.7550 - val_loss: 0.5256 - val_accuracy: 0.8650\n",
            "Epoch 48/100\n",
            "25/25 [==============================] - 22s 874ms/step - loss: 0.6049 - accuracy: 0.7600 - val_loss: 0.4220 - val_accuracy: 0.8500\n",
            "Epoch 49/100\n",
            "25/25 [==============================] - 22s 873ms/step - loss: 0.6225 - accuracy: 0.7437 - val_loss: 0.9095 - val_accuracy: 0.6150\n",
            "Epoch 50/100\n",
            "25/25 [==============================] - 22s 867ms/step - loss: 0.5975 - accuracy: 0.7638 - val_loss: 0.4865 - val_accuracy: 0.8350\n",
            "Epoch 51/100\n",
            "25/25 [==============================] - 22s 865ms/step - loss: 0.5907 - accuracy: 0.7638 - val_loss: 0.4282 - val_accuracy: 0.8400\n",
            "Epoch 52/100\n",
            "25/25 [==============================] - 22s 865ms/step - loss: 0.6020 - accuracy: 0.7575 - val_loss: 0.4509 - val_accuracy: 0.8550\n",
            "Epoch 53/100\n",
            "25/25 [==============================] - 22s 868ms/step - loss: 0.5867 - accuracy: 0.7575 - val_loss: 1.0716 - val_accuracy: 0.5750\n",
            "Epoch 54/100\n",
            "25/25 [==============================] - 22s 865ms/step - loss: 0.5893 - accuracy: 0.7475 - val_loss: 0.4546 - val_accuracy: 0.7950\n",
            "Epoch 55/100\n",
            "25/25 [==============================] - 22s 870ms/step - loss: 0.5972 - accuracy: 0.7475 - val_loss: 0.4247 - val_accuracy: 0.8400\n",
            "Epoch 56/100\n",
            "25/25 [==============================] - 22s 871ms/step - loss: 0.5769 - accuracy: 0.7638 - val_loss: 0.6189 - val_accuracy: 0.7350\n",
            "Epoch 57/100\n",
            "25/25 [==============================] - 22s 874ms/step - loss: 0.5206 - accuracy: 0.7825 - val_loss: 0.6501 - val_accuracy: 0.6650\n",
            "Epoch 58/100\n",
            "25/25 [==============================] - 22s 874ms/step - loss: 0.5610 - accuracy: 0.7675 - val_loss: 0.5124 - val_accuracy: 0.7800\n",
            "Epoch 59/100\n",
            "25/25 [==============================] - 22s 871ms/step - loss: 0.5310 - accuracy: 0.7900 - val_loss: 0.4725 - val_accuracy: 0.8250\n",
            "Epoch 60/100\n",
            "25/25 [==============================] - 22s 871ms/step - loss: 0.6352 - accuracy: 0.7575 - val_loss: 0.4413 - val_accuracy: 0.8700\n",
            "Epoch 61/100\n",
            "25/25 [==============================] - 22s 868ms/step - loss: 0.5615 - accuracy: 0.7763 - val_loss: 0.4219 - val_accuracy: 0.8550\n",
            "Epoch 62/100\n",
            "25/25 [==============================] - 22s 877ms/step - loss: 0.5434 - accuracy: 0.7925 - val_loss: 0.3972 - val_accuracy: 0.8600\n",
            "Epoch 63/100\n",
            "25/25 [==============================] - 22s 870ms/step - loss: 0.5008 - accuracy: 0.7925 - val_loss: 1.1942 - val_accuracy: 0.5050\n",
            "Epoch 64/100\n",
            "25/25 [==============================] - 22s 876ms/step - loss: 0.5858 - accuracy: 0.7837 - val_loss: 0.6330 - val_accuracy: 0.7000\n",
            "Epoch 65/100\n",
            "25/25 [==============================] - 22s 869ms/step - loss: 0.5270 - accuracy: 0.7837 - val_loss: 0.3903 - val_accuracy: 0.8400\n",
            "Epoch 66/100\n",
            "25/25 [==============================] - 22s 872ms/step - loss: 0.5969 - accuracy: 0.7588 - val_loss: 0.4674 - val_accuracy: 0.8750\n",
            "Epoch 67/100\n",
            "25/25 [==============================] - 22s 872ms/step - loss: 0.5320 - accuracy: 0.7775 - val_loss: 0.5322 - val_accuracy: 0.8200\n",
            "Epoch 68/100\n",
            "25/25 [==============================] - 22s 872ms/step - loss: 0.5412 - accuracy: 0.8037 - val_loss: 0.3608 - val_accuracy: 0.8600\n",
            "Epoch 69/100\n",
            "25/25 [==============================] - 22s 870ms/step - loss: 0.5465 - accuracy: 0.7887 - val_loss: 0.3440 - val_accuracy: 0.8550\n",
            "Epoch 70/100\n",
            "25/25 [==============================] - 22s 875ms/step - loss: 0.6247 - accuracy: 0.7650 - val_loss: 0.4274 - val_accuracy: 0.8500\n",
            "Epoch 71/100\n",
            "25/25 [==============================] - 22s 878ms/step - loss: 0.4827 - accuracy: 0.8087 - val_loss: 0.4026 - val_accuracy: 0.8450\n",
            "Epoch 72/100\n",
            "25/25 [==============================] - 22s 881ms/step - loss: 0.4997 - accuracy: 0.8188 - val_loss: 0.6481 - val_accuracy: 0.7200\n",
            "Epoch 73/100\n",
            "25/25 [==============================] - 22s 875ms/step - loss: 0.5630 - accuracy: 0.7887 - val_loss: 0.6490 - val_accuracy: 0.7000\n",
            "Epoch 74/100\n",
            "25/25 [==============================] - 22s 870ms/step - loss: 0.5569 - accuracy: 0.7862 - val_loss: 0.4920 - val_accuracy: 0.7900\n",
            "Epoch 75/100\n",
            "25/25 [==============================] - 22s 870ms/step - loss: 0.5334 - accuracy: 0.8100 - val_loss: 0.4769 - val_accuracy: 0.8000\n",
            "Epoch 76/100\n",
            "25/25 [==============================] - 22s 864ms/step - loss: 0.4809 - accuracy: 0.8238 - val_loss: 0.3705 - val_accuracy: 0.8650\n",
            "Epoch 77/100\n",
            "25/25 [==============================] - 21s 858ms/step - loss: 0.5270 - accuracy: 0.7912 - val_loss: 0.3743 - val_accuracy: 0.8550\n",
            "Epoch 78/100\n",
            "25/25 [==============================] - 22s 865ms/step - loss: 0.4896 - accuracy: 0.8125 - val_loss: 0.4586 - val_accuracy: 0.8300\n",
            "Epoch 79/100\n",
            "25/25 [==============================] - 22s 870ms/step - loss: 0.5341 - accuracy: 0.7887 - val_loss: 0.4879 - val_accuracy: 0.8550\n",
            "Epoch 80/100\n",
            "25/25 [==============================] - 22s 876ms/step - loss: 0.4973 - accuracy: 0.8012 - val_loss: 0.4097 - val_accuracy: 0.8400\n",
            "Epoch 81/100\n",
            "25/25 [==============================] - 22s 869ms/step - loss: 0.5199 - accuracy: 0.7937 - val_loss: 0.4478 - val_accuracy: 0.8450\n",
            "Epoch 82/100\n",
            "25/25 [==============================] - 22s 868ms/step - loss: 0.4933 - accuracy: 0.8125 - val_loss: 0.5070 - val_accuracy: 0.8400\n",
            "Epoch 83/100\n",
            "25/25 [==============================] - 22s 865ms/step - loss: 0.5111 - accuracy: 0.7975 - val_loss: 0.4337 - val_accuracy: 0.8450\n",
            "Epoch 84/100\n",
            "25/25 [==============================] - 22s 863ms/step - loss: 0.4684 - accuracy: 0.8225 - val_loss: 0.9355 - val_accuracy: 0.6350\n",
            "Epoch 85/100\n",
            "25/25 [==============================] - 22s 878ms/step - loss: 0.5137 - accuracy: 0.8112 - val_loss: 0.5004 - val_accuracy: 0.7750\n",
            "Epoch 86/100\n",
            "25/25 [==============================] - 22s 873ms/step - loss: 0.4828 - accuracy: 0.8062 - val_loss: 0.3760 - val_accuracy: 0.8600\n",
            "Epoch 87/100\n",
            "25/25 [==============================] - 22s 867ms/step - loss: 0.5072 - accuracy: 0.8175 - val_loss: 0.3628 - val_accuracy: 0.8550\n",
            "Epoch 88/100\n",
            "25/25 [==============================] - 22s 868ms/step - loss: 0.5201 - accuracy: 0.8112 - val_loss: 0.3546 - val_accuracy: 0.8700\n",
            "Epoch 89/100\n",
            "25/25 [==============================] - 22s 868ms/step - loss: 0.4309 - accuracy: 0.8450 - val_loss: 0.4324 - val_accuracy: 0.8450\n",
            "Epoch 90/100\n",
            "25/25 [==============================] - 22s 871ms/step - loss: 0.5055 - accuracy: 0.8238 - val_loss: 0.3848 - val_accuracy: 0.8700\n",
            "Epoch 91/100\n",
            "25/25 [==============================] - 22s 872ms/step - loss: 0.4343 - accuracy: 0.8388 - val_loss: 0.4626 - val_accuracy: 0.8550\n",
            "Epoch 92/100\n",
            "25/25 [==============================] - 22s 874ms/step - loss: 0.4872 - accuracy: 0.8263 - val_loss: 0.7337 - val_accuracy: 0.6850\n",
            "Epoch 93/100\n",
            "25/25 [==============================] - 22s 869ms/step - loss: 0.4456 - accuracy: 0.8150 - val_loss: 0.4655 - val_accuracy: 0.8300\n",
            "Epoch 94/100\n",
            "25/25 [==============================] - 22s 877ms/step - loss: 0.5399 - accuracy: 0.8100 - val_loss: 0.4370 - val_accuracy: 0.8200\n",
            "Epoch 95/100\n",
            "25/25 [==============================] - 22s 866ms/step - loss: 0.4563 - accuracy: 0.8413 - val_loss: 0.4447 - val_accuracy: 0.8200\n",
            "Epoch 96/100\n",
            "25/25 [==============================] - 22s 871ms/step - loss: 0.5148 - accuracy: 0.8150 - val_loss: 0.4638 - val_accuracy: 0.7900\n",
            "Epoch 97/100\n",
            "25/25 [==============================] - 22s 875ms/step - loss: 0.4950 - accuracy: 0.8037 - val_loss: 0.3807 - val_accuracy: 0.8550\n",
            "Epoch 98/100\n",
            "25/25 [==============================] - 22s 881ms/step - loss: 0.4264 - accuracy: 0.8425 - val_loss: 0.5080 - val_accuracy: 0.8000\n",
            "Epoch 99/100\n",
            "25/25 [==============================] - 22s 883ms/step - loss: 0.4709 - accuracy: 0.8087 - val_loss: 0.3831 - val_accuracy: 0.8600\n",
            "Epoch 100/100\n",
            "25/25 [==============================] - 22s 867ms/step - loss: 0.4337 - accuracy: 0.8238 - val_loss: 0.5187 - val_accuracy: 0.8350\n"
          ],
          "name": "stdout"
        },
        {
          "output_type": "execute_result",
          "data": {
            "text/plain": [
              "<tensorflow.python.keras.callbacks.History at 0x7f0976ac84a8>"
            ]
          },
          "metadata": {
            "tags": []
          },
          "execution_count": 75
        }
      ]
    }
  ]
}