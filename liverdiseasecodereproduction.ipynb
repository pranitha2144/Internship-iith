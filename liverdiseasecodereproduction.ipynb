{
  "nbformat": 4,
  "nbformat_minor": 0,
  "metadata": {
    "colab": {
      "name": "liverdiseasecodereproduction.ipynb",
      "provenance": [],
      "collapsed_sections": [],
      "mount_file_id": "1BemhAhuHvP-LV2rKnVbZwFbyBeWbsTzS",
      "authorship_tag": "ABX9TyNuFj9RCMwJpWlqIu2AQTZs",
      "include_colab_link": true
    },
    "kernelspec": {
      "name": "python3",
      "display_name": "Python 3"
    }
  },
  "cells": [
    {
      "cell_type": "markdown",
      "metadata": {
        "id": "view-in-github",
        "colab_type": "text"
      },
      "source": [
        "<a href=\"https://colab.research.google.com/github/pranitha2144/Internship-iith/blob/master/liverdiseasecodereproduction.ipynb\" target=\"_parent\"><img src=\"https://colab.research.google.com/assets/colab-badge.svg\" alt=\"Open In Colab\"/></a>"
      ]
    },
    {
      "cell_type": "code",
      "metadata": {
        "id": "pSmCTaVG0Nol",
        "colab_type": "code",
        "colab": {}
      },
      "source": [
        "import tensorflow as tf\n",
        "from tensorflow.keras.models import Sequential\n",
        "from tensorflow.keras.layers import Dense, Conv2D, MaxPooling2D, Flatten,Dropout"
      ],
      "execution_count": 0,
      "outputs": []
    },
    {
      "cell_type": "code",
      "metadata": {
        "id": "1A8bbAtr15gA",
        "colab_type": "code",
        "colab": {}
      },
      "source": [
        "classifier = Sequential([Conv2D(32,(3,3),activation='relu',input_shape=(128,128,1)),\n",
        "                         MaxPooling2D(2,2),\n",
        "                         Conv2D(32,(3,3),activation='relu'),\n",
        "                         MaxPooling2D(2,2),\n",
        "                         Conv2D(64,(3,3),activation='relu'),\n",
        "                         MaxPooling2D(2,2),\n",
        "                         Conv2D(64,(3,3),activation='relu'),\n",
        "                         MaxPooling2D(2,2),\n",
        "                         Conv2D(128,(3,3),activation='relu'),\n",
        "                         MaxPooling2D(2,2),\n",
        "                         Flatten(),\n",
        "                         Dense(128,activation='relu'),\n",
        "                         Dropout(0.3),\n",
        "                         Dropout(0.6),\n",
        "                         Dense(256,activation='relu'),\n",
        "                         Dense(256,activation='relu'),\n",
        "                         Dense(4,activation='softmax')\n",
        "\n",
        "\n",
        "\n",
        "])"
      ],
      "execution_count": 0,
      "outputs": []
    },
    {
      "cell_type": "code",
      "metadata": {
        "id": "zwuhqUpLQDKm",
        "colab_type": "code",
        "colab": {}
      },
      "source": [
        "classifier.compile(loss='categorical_crossentropy', optimizer='RMSprop', metrics=['accuracy'])"
      ],
      "execution_count": 0,
      "outputs": []
    },
    {
      "cell_type": "code",
      "metadata": {
        "id": "iUftPYb7Qt-M",
        "colab_type": "code",
        "colab": {}
      },
      "source": [
        "from keras.preprocessing.image import ImageDataGenerator"
      ],
      "execution_count": 0,
      "outputs": []
    },
    {
      "cell_type": "code",
      "metadata": {
        "id": "fTick91EU_su",
        "colab_type": "code",
        "colab": {}
      },
      "source": [
        "datagen = ImageDataGenerator(\n",
        "        rescale=1./255,\n",
        "        rotation_range=60,\n",
        "        shear_range=0.2,\n",
        "        zoom_range=0.2,\n",
        "        horizontal_flip=True,vertical_flip=True,validation_split=0.2)"
      ],
      "execution_count": 0,
      "outputs": []
    },
    {
      "cell_type": "code",
      "metadata": {
        "id": "MdXG5380VHw6",
        "colab_type": "code",
        "outputId": "ad0852c7-4588-4046-f316-ffe020ae10ae",
        "colab": {
          "base_uri": "https://localhost:8080/",
          "height": 34
        }
      },
      "source": [
        "training_set = datagen.flow_from_directory(\n",
        "        '/content/drive/My Drive/texture_4class_classification/data',\n",
        "        target_size=(128, 128),\n",
        "        shuffle=True,\n",
        "        color_mode=\"grayscale\",\n",
        "        \n",
        "        subset=\"training\",\n",
        "        batch_size=32,\n",
        "        class_mode='categorical')"
      ],
      "execution_count": 74,
      "outputs": [
        {
          "output_type": "stream",
          "text": [
            "Found 800 images belonging to 4 classes.\n"
          ],
          "name": "stdout"
        }
      ]
    },
    {
      "cell_type": "code",
      "metadata": {
        "id": "ET1M_C_Qf-K-",
        "colab_type": "code",
        "outputId": "80a0e1d8-62e8-43f7-bcd3-b9ac074959c5",
        "colab": {
          "base_uri": "https://localhost:8080/",
          "height": 34
        }
      },
      "source": [
        "test_set = datagen.flow_from_directory(\n",
        "        '/content/drive/My Drive/texture_4class_classification/data',\n",
        "        target_size=(128, 128),\n",
        "        shuffle=True,\n",
        "        color_mode=\"grayscale\",\n",
        "        subset=\"validation\",\n",
        "        \n",
        "        batch_size=32,\n",
        "        class_mode='categorical')"
      ],
      "execution_count": 75,
      "outputs": [
        {
          "output_type": "stream",
          "text": [
            "Found 200 images belonging to 4 classes.\n"
          ],
          "name": "stdout"
        }
      ]
    },
    {
      "cell_type": "code",
      "metadata": {
        "id": "oiM5eoUiaNJs",
        "colab_type": "code",
        "outputId": "a40a299a-829b-49cf-f204-6bb037ef40d5",
        "colab": {
          "base_uri": "https://localhost:8080/",
          "height": 1000
        }
      },
      "source": [
        "classifier.fit(training_set,validation_data=test_set,epochs=100)"
      ],
      "execution_count": 76,
      "outputs": [
        {
          "output_type": "stream",
          "text": [
            "Epoch 1/100\n",
            "25/25 [==============================] - 16s 651ms/step - loss: 1.4011 - accuracy: 0.2750 - val_loss: 1.3625 - val_accuracy: 0.2500\n",
            "Epoch 2/100\n",
            "25/25 [==============================] - 16s 646ms/step - loss: 1.3575 - accuracy: 0.3787 - val_loss: 1.2736 - val_accuracy: 0.5100\n",
            "Epoch 3/100\n",
            "25/25 [==============================] - 16s 650ms/step - loss: 1.2587 - accuracy: 0.4175 - val_loss: 1.0270 - val_accuracy: 0.5000\n",
            "Epoch 4/100\n",
            "25/25 [==============================] - 16s 648ms/step - loss: 1.1769 - accuracy: 0.4538 - val_loss: 1.1297 - val_accuracy: 0.4450\n",
            "Epoch 5/100\n",
            "25/25 [==============================] - 16s 644ms/step - loss: 1.0841 - accuracy: 0.5063 - val_loss: 1.5339 - val_accuracy: 0.4350\n",
            "Epoch 6/100\n",
            "25/25 [==============================] - 16s 646ms/step - loss: 1.0060 - accuracy: 0.5550 - val_loss: 0.9538 - val_accuracy: 0.5150\n",
            "Epoch 7/100\n",
            "25/25 [==============================] - 16s 643ms/step - loss: 1.0175 - accuracy: 0.5487 - val_loss: 1.0380 - val_accuracy: 0.4750\n",
            "Epoch 8/100\n",
            "25/25 [==============================] - 16s 643ms/step - loss: 0.9213 - accuracy: 0.6000 - val_loss: 0.8262 - val_accuracy: 0.5850\n",
            "Epoch 9/100\n",
            "25/25 [==============================] - 16s 640ms/step - loss: 0.9627 - accuracy: 0.5575 - val_loss: 0.8297 - val_accuracy: 0.5850\n",
            "Epoch 10/100\n",
            "25/25 [==============================] - 16s 635ms/step - loss: 0.9022 - accuracy: 0.5913 - val_loss: 0.7758 - val_accuracy: 0.5950\n",
            "Epoch 11/100\n",
            "25/25 [==============================] - 16s 636ms/step - loss: 0.9042 - accuracy: 0.6087 - val_loss: 0.9161 - val_accuracy: 0.5350\n",
            "Epoch 12/100\n",
            "25/25 [==============================] - 16s 638ms/step - loss: 0.9147 - accuracy: 0.6175 - val_loss: 0.7897 - val_accuracy: 0.5900\n",
            "Epoch 13/100\n",
            "25/25 [==============================] - 16s 637ms/step - loss: 0.8702 - accuracy: 0.6288 - val_loss: 0.8274 - val_accuracy: 0.5400\n",
            "Epoch 14/100\n",
            "25/25 [==============================] - 16s 640ms/step - loss: 0.9504 - accuracy: 0.6037 - val_loss: 0.9825 - val_accuracy: 0.4700\n",
            "Epoch 15/100\n",
            "25/25 [==============================] - 16s 640ms/step - loss: 0.8391 - accuracy: 0.6200 - val_loss: 0.8909 - val_accuracy: 0.5650\n",
            "Epoch 16/100\n",
            "25/25 [==============================] - 16s 635ms/step - loss: 0.8470 - accuracy: 0.6112 - val_loss: 1.0196 - val_accuracy: 0.4050\n",
            "Epoch 17/100\n",
            "25/25 [==============================] - 16s 636ms/step - loss: 0.8450 - accuracy: 0.6075 - val_loss: 0.9135 - val_accuracy: 0.5900\n",
            "Epoch 18/100\n",
            "25/25 [==============================] - 16s 637ms/step - loss: 0.8393 - accuracy: 0.6313 - val_loss: 0.9628 - val_accuracy: 0.3900\n",
            "Epoch 19/100\n",
            "25/25 [==============================] - 16s 638ms/step - loss: 0.8581 - accuracy: 0.6237 - val_loss: 0.9109 - val_accuracy: 0.4900\n",
            "Epoch 20/100\n",
            "25/25 [==============================] - 16s 634ms/step - loss: 0.7972 - accuracy: 0.6538 - val_loss: 0.8617 - val_accuracy: 0.6000\n",
            "Epoch 21/100\n",
            "25/25 [==============================] - 16s 636ms/step - loss: 0.8402 - accuracy: 0.6400 - val_loss: 0.8368 - val_accuracy: 0.5450\n",
            "Epoch 22/100\n",
            "25/25 [==============================] - 16s 636ms/step - loss: 0.7993 - accuracy: 0.6612 - val_loss: 0.7938 - val_accuracy: 0.6300\n",
            "Epoch 23/100\n",
            "25/25 [==============================] - 16s 635ms/step - loss: 0.7953 - accuracy: 0.6587 - val_loss: 0.7416 - val_accuracy: 0.6150\n",
            "Epoch 24/100\n",
            "25/25 [==============================] - 16s 639ms/step - loss: 0.7745 - accuracy: 0.6825 - val_loss: 0.9879 - val_accuracy: 0.5800\n",
            "Epoch 25/100\n",
            "25/25 [==============================] - 16s 633ms/step - loss: 0.7756 - accuracy: 0.6700 - val_loss: 0.8841 - val_accuracy: 0.5650\n",
            "Epoch 26/100\n",
            "25/25 [==============================] - 16s 635ms/step - loss: 0.8031 - accuracy: 0.6737 - val_loss: 0.7169 - val_accuracy: 0.6250\n",
            "Epoch 27/100\n",
            "25/25 [==============================] - 16s 640ms/step - loss: 0.7585 - accuracy: 0.6775 - val_loss: 0.7808 - val_accuracy: 0.5850\n",
            "Epoch 28/100\n",
            "25/25 [==============================] - 16s 633ms/step - loss: 0.7395 - accuracy: 0.7025 - val_loss: 0.7210 - val_accuracy: 0.6550\n",
            "Epoch 29/100\n",
            "25/25 [==============================] - 16s 635ms/step - loss: 0.7444 - accuracy: 0.6938 - val_loss: 0.7415 - val_accuracy: 0.5950\n",
            "Epoch 30/100\n",
            "25/25 [==============================] - 16s 632ms/step - loss: 0.7562 - accuracy: 0.6938 - val_loss: 0.6981 - val_accuracy: 0.6350\n",
            "Epoch 31/100\n",
            "25/25 [==============================] - 16s 633ms/step - loss: 0.7418 - accuracy: 0.7038 - val_loss: 0.8885 - val_accuracy: 0.5600\n",
            "Epoch 32/100\n",
            "25/25 [==============================] - 16s 636ms/step - loss: 0.6932 - accuracy: 0.7088 - val_loss: 0.7075 - val_accuracy: 0.6200\n",
            "Epoch 33/100\n",
            "25/25 [==============================] - 16s 633ms/step - loss: 0.7321 - accuracy: 0.6850 - val_loss: 0.7753 - val_accuracy: 0.5700\n",
            "Epoch 34/100\n",
            "25/25 [==============================] - 16s 638ms/step - loss: 0.7237 - accuracy: 0.6812 - val_loss: 1.0881 - val_accuracy: 0.4250\n",
            "Epoch 35/100\n",
            "25/25 [==============================] - 16s 633ms/step - loss: 0.7082 - accuracy: 0.7050 - val_loss: 0.7194 - val_accuracy: 0.6400\n",
            "Epoch 36/100\n",
            "25/25 [==============================] - 16s 634ms/step - loss: 0.7541 - accuracy: 0.6938 - val_loss: 0.6545 - val_accuracy: 0.6700\n",
            "Epoch 37/100\n",
            "25/25 [==============================] - 16s 637ms/step - loss: 0.6404 - accuracy: 0.7387 - val_loss: 0.8628 - val_accuracy: 0.6300\n",
            "Epoch 38/100\n",
            "25/25 [==============================] - 16s 635ms/step - loss: 0.7311 - accuracy: 0.7000 - val_loss: 0.8424 - val_accuracy: 0.5250\n",
            "Epoch 39/100\n",
            "25/25 [==============================] - 16s 638ms/step - loss: 0.6685 - accuracy: 0.7400 - val_loss: 0.7368 - val_accuracy: 0.7400\n",
            "Epoch 40/100\n",
            "25/25 [==============================] - 16s 638ms/step - loss: 0.6729 - accuracy: 0.7025 - val_loss: 0.8665 - val_accuracy: 0.6150\n",
            "Epoch 41/100\n",
            "25/25 [==============================] - 16s 638ms/step - loss: 0.6269 - accuracy: 0.7487 - val_loss: 0.8750 - val_accuracy: 0.5250\n",
            "Epoch 42/100\n",
            "25/25 [==============================] - 16s 634ms/step - loss: 0.6679 - accuracy: 0.7312 - val_loss: 0.7060 - val_accuracy: 0.6350\n",
            "Epoch 43/100\n",
            "25/25 [==============================] - 16s 634ms/step - loss: 0.6572 - accuracy: 0.7200 - val_loss: 0.7540 - val_accuracy: 0.6350\n",
            "Epoch 44/100\n",
            "25/25 [==============================] - 16s 636ms/step - loss: 0.6679 - accuracy: 0.7312 - val_loss: 0.8203 - val_accuracy: 0.5500\n",
            "Epoch 45/100\n",
            "25/25 [==============================] - 16s 638ms/step - loss: 0.6327 - accuracy: 0.7437 - val_loss: 0.8331 - val_accuracy: 0.5350\n",
            "Epoch 46/100\n",
            "25/25 [==============================] - 16s 641ms/step - loss: 0.6673 - accuracy: 0.7475 - val_loss: 0.6840 - val_accuracy: 0.6100\n",
            "Epoch 47/100\n",
            "25/25 [==============================] - 16s 637ms/step - loss: 0.6475 - accuracy: 0.7225 - val_loss: 0.6923 - val_accuracy: 0.6550\n",
            "Epoch 48/100\n",
            "25/25 [==============================] - 16s 635ms/step - loss: 0.6275 - accuracy: 0.7650 - val_loss: 0.7491 - val_accuracy: 0.6100\n",
            "Epoch 49/100\n",
            "25/25 [==============================] - 16s 632ms/step - loss: 0.5949 - accuracy: 0.7613 - val_loss: 0.6045 - val_accuracy: 0.6550\n",
            "Epoch 50/100\n",
            "25/25 [==============================] - 16s 634ms/step - loss: 0.6029 - accuracy: 0.7525 - val_loss: 0.6318 - val_accuracy: 0.7600\n",
            "Epoch 51/100\n",
            "25/25 [==============================] - 16s 633ms/step - loss: 0.5873 - accuracy: 0.7700 - val_loss: 0.7683 - val_accuracy: 0.5850\n",
            "Epoch 52/100\n",
            "25/25 [==============================] - 16s 637ms/step - loss: 0.5945 - accuracy: 0.7387 - val_loss: 0.7955 - val_accuracy: 0.6450\n",
            "Epoch 53/100\n",
            "25/25 [==============================] - 16s 632ms/step - loss: 0.5393 - accuracy: 0.7688 - val_loss: 0.7933 - val_accuracy: 0.7650\n",
            "Epoch 54/100\n",
            "25/25 [==============================] - 16s 634ms/step - loss: 0.6109 - accuracy: 0.7513 - val_loss: 0.7047 - val_accuracy: 0.6500\n",
            "Epoch 55/100\n",
            "25/25 [==============================] - 16s 632ms/step - loss: 0.6041 - accuracy: 0.7400 - val_loss: 0.5247 - val_accuracy: 0.7950\n",
            "Epoch 56/100\n",
            "25/25 [==============================] - 16s 632ms/step - loss: 0.5672 - accuracy: 0.7875 - val_loss: 0.6250 - val_accuracy: 0.6650\n",
            "Epoch 57/100\n",
            "25/25 [==============================] - 16s 633ms/step - loss: 0.5645 - accuracy: 0.7837 - val_loss: 0.5958 - val_accuracy: 0.6400\n",
            "Epoch 58/100\n",
            "25/25 [==============================] - 16s 632ms/step - loss: 0.5415 - accuracy: 0.7862 - val_loss: 0.6381 - val_accuracy: 0.6650\n",
            "Epoch 59/100\n",
            "25/25 [==============================] - 16s 633ms/step - loss: 0.5439 - accuracy: 0.7763 - val_loss: 0.7229 - val_accuracy: 0.6400\n",
            "Epoch 60/100\n",
            "25/25 [==============================] - 16s 632ms/step - loss: 0.6380 - accuracy: 0.7588 - val_loss: 0.6455 - val_accuracy: 0.6550\n",
            "Epoch 61/100\n",
            "25/25 [==============================] - 16s 634ms/step - loss: 0.5702 - accuracy: 0.7638 - val_loss: 0.5925 - val_accuracy: 0.6600\n",
            "Epoch 62/100\n",
            "25/25 [==============================] - 16s 633ms/step - loss: 0.5085 - accuracy: 0.7887 - val_loss: 0.6606 - val_accuracy: 0.6650\n",
            "Epoch 63/100\n",
            "25/25 [==============================] - 16s 633ms/step - loss: 0.5726 - accuracy: 0.7713 - val_loss: 0.6800 - val_accuracy: 0.6200\n",
            "Epoch 64/100\n",
            "25/25 [==============================] - 16s 633ms/step - loss: 0.5148 - accuracy: 0.7788 - val_loss: 0.5302 - val_accuracy: 0.7950\n",
            "Epoch 65/100\n",
            "25/25 [==============================] - 16s 636ms/step - loss: 0.5410 - accuracy: 0.7600 - val_loss: 0.7803 - val_accuracy: 0.6550\n",
            "Epoch 66/100\n",
            "25/25 [==============================] - 16s 635ms/step - loss: 0.5204 - accuracy: 0.7825 - val_loss: 0.6232 - val_accuracy: 0.6850\n",
            "Epoch 67/100\n",
            "25/25 [==============================] - 16s 630ms/step - loss: 0.5710 - accuracy: 0.7750 - val_loss: 0.5619 - val_accuracy: 0.7600\n",
            "Epoch 68/100\n",
            "25/25 [==============================] - 16s 633ms/step - loss: 0.5168 - accuracy: 0.7862 - val_loss: 0.6671 - val_accuracy: 0.7550\n",
            "Epoch 69/100\n",
            "25/25 [==============================] - 16s 637ms/step - loss: 0.5350 - accuracy: 0.7738 - val_loss: 0.6652 - val_accuracy: 0.6750\n",
            "Epoch 70/100\n",
            "25/25 [==============================] - 16s 635ms/step - loss: 0.5532 - accuracy: 0.7625 - val_loss: 0.7734 - val_accuracy: 0.6400\n",
            "Epoch 71/100\n",
            "25/25 [==============================] - 16s 637ms/step - loss: 0.5274 - accuracy: 0.7725 - val_loss: 0.6744 - val_accuracy: 0.7200\n",
            "Epoch 72/100\n",
            "25/25 [==============================] - 16s 634ms/step - loss: 0.4887 - accuracy: 0.7987 - val_loss: 0.4710 - val_accuracy: 0.8500\n",
            "Epoch 73/100\n",
            "25/25 [==============================] - 16s 636ms/step - loss: 0.5262 - accuracy: 0.8150 - val_loss: 0.4908 - val_accuracy: 0.8650\n",
            "Epoch 74/100\n",
            "25/25 [==============================] - 16s 631ms/step - loss: 0.4923 - accuracy: 0.8112 - val_loss: 0.7882 - val_accuracy: 0.6600\n",
            "Epoch 75/100\n",
            "25/25 [==============================] - 16s 632ms/step - loss: 0.5146 - accuracy: 0.8050 - val_loss: 0.7425 - val_accuracy: 0.6750\n",
            "Epoch 76/100\n",
            "25/25 [==============================] - 16s 631ms/step - loss: 0.5115 - accuracy: 0.8075 - val_loss: 0.8020 - val_accuracy: 0.7000\n",
            "Epoch 77/100\n",
            "25/25 [==============================] - 16s 631ms/step - loss: 0.4691 - accuracy: 0.8225 - val_loss: 0.6495 - val_accuracy: 0.7300\n",
            "Epoch 78/100\n",
            "25/25 [==============================] - 16s 633ms/step - loss: 0.5095 - accuracy: 0.7812 - val_loss: 0.7702 - val_accuracy: 0.6400\n",
            "Epoch 79/100\n",
            "25/25 [==============================] - 16s 632ms/step - loss: 0.4217 - accuracy: 0.8213 - val_loss: 0.5522 - val_accuracy: 0.7650\n",
            "Epoch 80/100\n",
            "25/25 [==============================] - 16s 635ms/step - loss: 0.5100 - accuracy: 0.7950 - val_loss: 0.9295 - val_accuracy: 0.6650\n",
            "Epoch 81/100\n",
            "25/25 [==============================] - 16s 636ms/step - loss: 0.5146 - accuracy: 0.7975 - val_loss: 0.6677 - val_accuracy: 0.7250\n",
            "Epoch 82/100\n",
            "25/25 [==============================] - 16s 637ms/step - loss: 0.4697 - accuracy: 0.8075 - val_loss: 0.8301 - val_accuracy: 0.6600\n",
            "Epoch 83/100\n",
            "25/25 [==============================] - 16s 641ms/step - loss: 0.4849 - accuracy: 0.8075 - val_loss: 0.6821 - val_accuracy: 0.7100\n",
            "Epoch 84/100\n",
            "25/25 [==============================] - 16s 639ms/step - loss: 0.4851 - accuracy: 0.8188 - val_loss: 0.5764 - val_accuracy: 0.7250\n",
            "Epoch 85/100\n",
            "25/25 [==============================] - 16s 635ms/step - loss: 0.4643 - accuracy: 0.8375 - val_loss: 0.7716 - val_accuracy: 0.6750\n",
            "Epoch 86/100\n",
            "25/25 [==============================] - 16s 630ms/step - loss: 0.5097 - accuracy: 0.8112 - val_loss: 0.5834 - val_accuracy: 0.7450\n",
            "Epoch 87/100\n",
            "25/25 [==============================] - 16s 632ms/step - loss: 0.4581 - accuracy: 0.8112 - val_loss: 0.8926 - val_accuracy: 0.6600\n",
            "Epoch 88/100\n",
            "25/25 [==============================] - 16s 634ms/step - loss: 0.4488 - accuracy: 0.8413 - val_loss: 0.7840 - val_accuracy: 0.6600\n",
            "Epoch 89/100\n",
            "25/25 [==============================] - 16s 634ms/step - loss: 0.5284 - accuracy: 0.8163 - val_loss: 0.5084 - val_accuracy: 0.7900\n",
            "Epoch 90/100\n",
            "25/25 [==============================] - 16s 632ms/step - loss: 0.4099 - accuracy: 0.8450 - val_loss: 0.7989 - val_accuracy: 0.7450\n",
            "Epoch 91/100\n",
            "25/25 [==============================] - 16s 631ms/step - loss: 0.5030 - accuracy: 0.8188 - val_loss: 0.4812 - val_accuracy: 0.8350\n",
            "Epoch 92/100\n",
            "25/25 [==============================] - 16s 630ms/step - loss: 0.4245 - accuracy: 0.8275 - val_loss: 0.5621 - val_accuracy: 0.7500\n",
            "Epoch 93/100\n",
            "25/25 [==============================] - 16s 631ms/step - loss: 0.4649 - accuracy: 0.8163 - val_loss: 0.6178 - val_accuracy: 0.8000\n",
            "Epoch 94/100\n",
            "25/25 [==============================] - 16s 631ms/step - loss: 0.4440 - accuracy: 0.8288 - val_loss: 0.7476 - val_accuracy: 0.7100\n",
            "Epoch 95/100\n",
            "25/25 [==============================] - 16s 634ms/step - loss: 0.4657 - accuracy: 0.8300 - val_loss: 0.6260 - val_accuracy: 0.7300\n",
            "Epoch 96/100\n",
            "25/25 [==============================] - 16s 632ms/step - loss: 0.4134 - accuracy: 0.8363 - val_loss: 0.5105 - val_accuracy: 0.8150\n",
            "Epoch 97/100\n",
            "25/25 [==============================] - 16s 634ms/step - loss: 0.4647 - accuracy: 0.8338 - val_loss: 0.6675 - val_accuracy: 0.7950\n",
            "Epoch 98/100\n",
            "25/25 [==============================] - 16s 632ms/step - loss: 0.4401 - accuracy: 0.8225 - val_loss: 0.4816 - val_accuracy: 0.8350\n",
            "Epoch 99/100\n",
            "25/25 [==============================] - 16s 633ms/step - loss: 0.4761 - accuracy: 0.8275 - val_loss: 0.6932 - val_accuracy: 0.6800\n",
            "Epoch 100/100\n",
            "25/25 [==============================] - 16s 633ms/step - loss: 0.4758 - accuracy: 0.8125 - val_loss: 0.5325 - val_accuracy: 0.7950\n"
          ],
          "name": "stdout"
        },
        {
          "output_type": "execute_result",
          "data": {
            "text/plain": [
              "<tensorflow.python.keras.callbacks.History at 0x7f33f5da4128>"
            ]
          },
          "metadata": {
            "tags": []
          },
          "execution_count": 76
        }
      ]
    }
  ]
}