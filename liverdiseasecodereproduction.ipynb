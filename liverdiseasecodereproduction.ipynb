{
  "nbformat": 4,
  "nbformat_minor": 0,
  "metadata": {
    "colab": {
      "name": "liverdiseasecodereproduction.ipynb",
      "provenance": [],
      "mount_file_id": "1BemhAhuHvP-LV2rKnVbZwFbyBeWbsTzS",
      "authorship_tag": "ABX9TyMrH2P8G/jDAyXIEI9elgGJ",
      "include_colab_link": true
    },
    "kernelspec": {
      "name": "python3",
      "display_name": "Python 3"
    }
  },
  "cells": [
    {
      "cell_type": "markdown",
      "metadata": {
        "id": "view-in-github",
        "colab_type": "text"
      },
      "source": [
        "<a href=\"https://colab.research.google.com/github/pranitha2144/Internship-iith/blob/master/liverdiseasecodereproduction.ipynb\" target=\"_parent\"><img src=\"https://colab.research.google.com/assets/colab-badge.svg\" alt=\"Open In Colab\"/></a>"
      ]
    },
    {
      "cell_type": "code",
      "metadata": {
        "id": "pSmCTaVG0Nol",
        "colab_type": "code",
        "colab": {}
      },
      "source": [
        "import tensorflow as tf\n",
        "from tensorflow.keras.models import Sequential\n",
        "from tensorflow.keras.layers import Dense, Conv2D, MaxPooling2D, Flatten,Dropout"
      ],
      "execution_count": 0,
      "outputs": []
    },
    {
      "cell_type": "code",
      "metadata": {
        "id": "1A8bbAtr15gA",
        "colab_type": "code",
        "colab": {}
      },
      "source": [
        "classifier = Sequential([Conv2D(32,(3,3),activation='relu',input_shape=(128,128,3),strides=[1,1],padding='same'),\n",
        "                         MaxPooling2D(2,2),\n",
        "                         Conv2D(32,(3,3),activation='relu',strides=[1,1],padding='same'),\n",
        "                         MaxPooling2D(2,2),\n",
        "                         Conv2D(64,(3,3),activation='relu',strides=[1,1],padding='same'),\n",
        "                         MaxPooling2D(2,2),\n",
        "                         Conv2D(64,(3,3),activation='relu',strides=[1,1],padding='same'),\n",
        "                         MaxPooling2D(2,2),\n",
        "                         Conv2D(128,(3,3),activation='relu',strides=[1,1],padding='same'),\n",
        "                         MaxPooling2D(2,2),\n",
        "                         Flatten(),\n",
        "                         Dense(128,activation='relu'),\n",
        "                         Dropout(0.3),\n",
        "                         Dropout(0.6),\n",
        "                         Dense(256,activation='relu'),\n",
        "                         Dense(256,activation='relu'),\n",
        "                         Dense(4,activation='softmax')\n",
        "\n",
        "\n",
        "\n",
        "])"
      ],
      "execution_count": 0,
      "outputs": []
    },
    {
      "cell_type": "code",
      "metadata": {
        "id": "zwuhqUpLQDKm",
        "colab_type": "code",
        "colab": {}
      },
      "source": [
        "classifier.compile(loss='categorical_crossentropy', optimizer='adam', metrics=['accuracy'])"
      ],
      "execution_count": 0,
      "outputs": []
    },
    {
      "cell_type": "code",
      "metadata": {
        "id": "iUftPYb7Qt-M",
        "colab_type": "code",
        "colab": {}
      },
      "source": [
        "from keras.preprocessing.image import ImageDataGenerator"
      ],
      "execution_count": 0,
      "outputs": []
    },
    {
      "cell_type": "code",
      "metadata": {
        "id": "fTick91EU_su",
        "colab_type": "code",
        "colab": {}
      },
      "source": [
        "datagen = ImageDataGenerator(\n",
        "        rescale=1./255,\n",
        "        rotation_range=60,\n",
        "        shear_range=0.2,\n",
        "        zoom_range=0.2,\n",
        "        horizontal_flip=True,vertical_flip=True)"
      ],
      "execution_count": 0,
      "outputs": []
    },
    {
      "cell_type": "code",
      "metadata": {
        "id": "MdXG5380VHw6",
        "colab_type": "code",
        "colab": {
          "base_uri": "https://localhost:8080/",
          "height": 34
        },
        "outputId": "5f7cb280-3fdd-4b68-d35b-4510791caaff"
      },
      "source": [
        "data_set = datagen.flow_from_directory(\n",
        "        '/content/drive/My Drive/texture_4class_classification/data',\n",
        "        target_size=(128, 128),\n",
        "        batch_size=32,\n",
        "        class_mode=\"categorical\")"
      ],
      "execution_count": 30,
      "outputs": [
        {
          "output_type": "stream",
          "text": [
            "Found 1000 images belonging to 4 classes.\n"
          ],
          "name": "stdout"
        }
      ]
    },
    {
      "cell_type": "code",
      "metadata": {
        "id": "oiM5eoUiaNJs",
        "colab_type": "code",
        "colab": {
          "base_uri": "https://localhost:8080/",
          "height": 1000
        },
        "outputId": "d9ebd950-a599-474b-a513-b6fd91f3dd7d"
      },
      "source": [
        "classifier.fit(data_set,epochs=100,steps_per_epoch=32)"
      ],
      "execution_count": 39,
      "outputs": [
        {
          "output_type": "stream",
          "text": [
            "Epoch 1/100\n",
            "32/32 [==============================] - 26s 815ms/step - loss: 1.1220 - accuracy: 0.4820\n",
            "Epoch 2/100\n",
            "32/32 [==============================] - 26s 810ms/step - loss: 1.0207 - accuracy: 0.4730\n",
            "Epoch 3/100\n",
            "32/32 [==============================] - 25s 787ms/step - loss: 1.0478 - accuracy: 0.5270\n",
            "Epoch 4/100\n",
            "32/32 [==============================] - 25s 794ms/step - loss: 1.0258 - accuracy: 0.4820\n",
            "Epoch 5/100\n",
            "32/32 [==============================] - 26s 804ms/step - loss: 0.8298 - accuracy: 0.6060\n",
            "Epoch 6/100\n",
            "32/32 [==============================] - 25s 795ms/step - loss: 0.8460 - accuracy: 0.6160\n",
            "Epoch 7/100\n",
            "32/32 [==============================] - 25s 786ms/step - loss: 0.8077 - accuracy: 0.6250\n",
            "Epoch 8/100\n",
            "32/32 [==============================] - 25s 789ms/step - loss: 0.7743 - accuracy: 0.6560\n",
            "Epoch 9/100\n",
            "32/32 [==============================] - 25s 786ms/step - loss: 0.7492 - accuracy: 0.6560\n",
            "Epoch 10/100\n",
            "32/32 [==============================] - 25s 774ms/step - loss: 0.9061 - accuracy: 0.6000\n",
            "Epoch 11/100\n",
            "32/32 [==============================] - 24s 762ms/step - loss: 0.7823 - accuracy: 0.6170\n",
            "Epoch 12/100\n",
            "32/32 [==============================] - 25s 776ms/step - loss: 0.7185 - accuracy: 0.6900\n",
            "Epoch 13/100\n",
            "32/32 [==============================] - 24s 763ms/step - loss: 0.7618 - accuracy: 0.6630\n",
            "Epoch 14/100\n",
            "32/32 [==============================] - 25s 768ms/step - loss: 0.7462 - accuracy: 0.6530\n",
            "Epoch 15/100\n",
            "32/32 [==============================] - 25s 773ms/step - loss: 0.7033 - accuracy: 0.7040\n",
            "Epoch 16/100\n",
            "32/32 [==============================] - 25s 769ms/step - loss: 0.7564 - accuracy: 0.6900\n",
            "Epoch 17/100\n",
            "32/32 [==============================] - 25s 778ms/step - loss: 0.7621 - accuracy: 0.6650\n",
            "Epoch 18/100\n",
            "32/32 [==============================] - 25s 772ms/step - loss: 0.7798 - accuracy: 0.6210\n",
            "Epoch 19/100\n",
            "32/32 [==============================] - 25s 791ms/step - loss: 0.7727 - accuracy: 0.6600\n",
            "Epoch 20/100\n",
            "32/32 [==============================] - 25s 769ms/step - loss: 0.7026 - accuracy: 0.6720\n",
            "Epoch 21/100\n",
            "32/32 [==============================] - 24s 762ms/step - loss: 0.7332 - accuracy: 0.6850\n",
            "Epoch 22/100\n",
            "32/32 [==============================] - 25s 769ms/step - loss: 0.8208 - accuracy: 0.6350\n",
            "Epoch 23/100\n",
            "32/32 [==============================] - 24s 757ms/step - loss: 0.7520 - accuracy: 0.6600\n",
            "Epoch 24/100\n",
            "32/32 [==============================] - 25s 767ms/step - loss: 0.7827 - accuracy: 0.6300\n",
            "Epoch 25/100\n",
            "32/32 [==============================] - 24s 761ms/step - loss: 0.7314 - accuracy: 0.6810\n",
            "Epoch 26/100\n",
            "32/32 [==============================] - 24s 763ms/step - loss: 0.6811 - accuracy: 0.7060\n",
            "Epoch 27/100\n",
            "32/32 [==============================] - 25s 771ms/step - loss: 0.6694 - accuracy: 0.7170\n",
            "Epoch 28/100\n",
            "32/32 [==============================] - 24s 763ms/step - loss: 0.6642 - accuracy: 0.7170\n",
            "Epoch 29/100\n",
            "32/32 [==============================] - 25s 769ms/step - loss: 0.5946 - accuracy: 0.7630\n",
            "Epoch 30/100\n",
            "32/32 [==============================] - 24s 760ms/step - loss: 0.6834 - accuracy: 0.7330\n",
            "Epoch 31/100\n",
            "32/32 [==============================] - 25s 768ms/step - loss: 0.6737 - accuracy: 0.7230\n",
            "Epoch 32/100\n",
            "32/32 [==============================] - 24s 763ms/step - loss: 0.5566 - accuracy: 0.7670\n",
            "Epoch 33/100\n",
            "32/32 [==============================] - 24s 763ms/step - loss: 0.6050 - accuracy: 0.7610\n",
            "Epoch 34/100\n",
            "32/32 [==============================] - 25s 775ms/step - loss: 0.5650 - accuracy: 0.7790\n",
            "Epoch 35/100\n",
            "32/32 [==============================] - 24s 764ms/step - loss: 0.5844 - accuracy: 0.7790\n",
            "Epoch 36/100\n",
            "32/32 [==============================] - 25s 776ms/step - loss: 0.6275 - accuracy: 0.7530\n",
            "Epoch 37/100\n",
            "32/32 [==============================] - 25s 768ms/step - loss: 0.5383 - accuracy: 0.7880\n",
            "Epoch 38/100\n",
            "32/32 [==============================] - 25s 769ms/step - loss: 0.4993 - accuracy: 0.7960\n",
            "Epoch 39/100\n",
            "32/32 [==============================] - 24s 763ms/step - loss: 0.5317 - accuracy: 0.7910\n",
            "Epoch 40/100\n",
            "32/32 [==============================] - 24s 763ms/step - loss: 0.5669 - accuracy: 0.7610\n",
            "Epoch 41/100\n",
            "32/32 [==============================] - 25s 770ms/step - loss: 0.5176 - accuracy: 0.8020\n",
            "Epoch 42/100\n",
            "32/32 [==============================] - 24s 761ms/step - loss: 0.8836 - accuracy: 0.7240\n",
            "Epoch 43/100\n",
            "32/32 [==============================] - 25s 770ms/step - loss: 1.1056 - accuracy: 0.4710\n",
            "Epoch 44/100\n",
            "32/32 [==============================] - 25s 767ms/step - loss: 0.7645 - accuracy: 0.6880\n",
            "Epoch 45/100\n",
            "32/32 [==============================] - 24s 761ms/step - loss: 0.7306 - accuracy: 0.7160\n",
            "Epoch 46/100\n",
            "32/32 [==============================] - 25s 766ms/step - loss: 0.6094 - accuracy: 0.7510\n",
            "Epoch 47/100\n",
            "32/32 [==============================] - 24s 759ms/step - loss: 0.5559 - accuracy: 0.7840\n",
            "Epoch 48/100\n",
            "32/32 [==============================] - 25s 770ms/step - loss: 0.5102 - accuracy: 0.8000\n",
            "Epoch 49/100\n",
            "32/32 [==============================] - 24s 763ms/step - loss: 0.5069 - accuracy: 0.8050\n",
            "Epoch 50/100\n",
            "32/32 [==============================] - 25s 766ms/step - loss: 0.5244 - accuracy: 0.7840\n",
            "Epoch 51/100\n",
            "32/32 [==============================] - 24s 761ms/step - loss: 0.4909 - accuracy: 0.8030\n",
            "Epoch 52/100\n",
            "32/32 [==============================] - 24s 761ms/step - loss: 0.4839 - accuracy: 0.8120\n",
            "Epoch 53/100\n",
            "32/32 [==============================] - 25s 771ms/step - loss: 0.4541 - accuracy: 0.8260\n",
            "Epoch 54/100\n",
            "32/32 [==============================] - 24s 760ms/step - loss: 0.4724 - accuracy: 0.8180\n",
            "Epoch 55/100\n",
            "32/32 [==============================] - 25s 768ms/step - loss: 0.4853 - accuracy: 0.8220\n",
            "Epoch 56/100\n",
            "32/32 [==============================] - 24s 762ms/step - loss: 0.4603 - accuracy: 0.8210\n",
            "Epoch 57/100\n",
            "32/32 [==============================] - 25s 792ms/step - loss: 0.4613 - accuracy: 0.8360\n",
            "Epoch 58/100\n",
            "32/32 [==============================] - 24s 765ms/step - loss: 0.4281 - accuracy: 0.8430\n",
            "Epoch 59/100\n",
            "32/32 [==============================] - 24s 760ms/step - loss: 0.4679 - accuracy: 0.8210\n",
            "Epoch 60/100\n",
            "32/32 [==============================] - 25s 766ms/step - loss: 0.4634 - accuracy: 0.8050\n",
            "Epoch 61/100\n",
            "32/32 [==============================] - 24s 762ms/step - loss: 0.4539 - accuracy: 0.8210\n",
            "Epoch 62/100\n",
            "32/32 [==============================] - 25s 766ms/step - loss: 0.4658 - accuracy: 0.8140\n",
            "Epoch 63/100\n",
            "32/32 [==============================] - 24s 759ms/step - loss: 0.4294 - accuracy: 0.8270\n",
            "Epoch 64/100\n",
            "32/32 [==============================] - 24s 758ms/step - loss: 0.4527 - accuracy: 0.8300\n",
            "Epoch 65/100\n",
            "32/32 [==============================] - 25s 770ms/step - loss: 0.4575 - accuracy: 0.8190\n",
            "Epoch 66/100\n",
            "32/32 [==============================] - 24s 765ms/step - loss: 0.4723 - accuracy: 0.8080\n",
            "Epoch 67/100\n",
            "32/32 [==============================] - 25s 774ms/step - loss: 0.4434 - accuracy: 0.8280\n",
            "Epoch 68/100\n",
            "32/32 [==============================] - 25s 767ms/step - loss: 0.6404 - accuracy: 0.7490\n",
            "Epoch 69/100\n",
            "32/32 [==============================] - 25s 770ms/step - loss: 0.4402 - accuracy: 0.8360\n",
            "Epoch 70/100\n",
            "32/32 [==============================] - 24s 760ms/step - loss: 0.4707 - accuracy: 0.8220\n",
            "Epoch 71/100\n",
            "32/32 [==============================] - 24s 756ms/step - loss: 0.4907 - accuracy: 0.8010\n",
            "Epoch 72/100\n",
            "32/32 [==============================] - 25s 769ms/step - loss: 0.4322 - accuracy: 0.8330\n",
            "Epoch 73/100\n",
            "32/32 [==============================] - 24s 765ms/step - loss: 0.4887 - accuracy: 0.8060\n",
            "Epoch 74/100\n",
            "32/32 [==============================] - 25s 771ms/step - loss: 0.5194 - accuracy: 0.7970\n",
            "Epoch 75/100\n",
            "32/32 [==============================] - 24s 765ms/step - loss: 0.4486 - accuracy: 0.8140\n",
            "Epoch 76/100\n",
            "32/32 [==============================] - 25s 775ms/step - loss: 0.4104 - accuracy: 0.8420\n",
            "Epoch 77/100\n",
            "32/32 [==============================] - 24s 763ms/step - loss: 0.4147 - accuracy: 0.8250\n",
            "Epoch 78/100\n",
            "32/32 [==============================] - 24s 766ms/step - loss: 0.4121 - accuracy: 0.8380\n",
            "Epoch 79/100\n",
            "32/32 [==============================] - 25s 773ms/step - loss: 0.4340 - accuracy: 0.8210\n",
            "Epoch 80/100\n",
            "32/32 [==============================] - 24s 763ms/step - loss: 0.4352 - accuracy: 0.8270\n",
            "Epoch 81/100\n",
            "32/32 [==============================] - 25s 774ms/step - loss: 0.4127 - accuracy: 0.8420\n",
            "Epoch 82/100\n",
            "32/32 [==============================] - 24s 765ms/step - loss: 0.4243 - accuracy: 0.8430\n",
            "Epoch 83/100\n",
            "32/32 [==============================] - 25s 771ms/step - loss: 0.4044 - accuracy: 0.8360\n",
            "Epoch 84/100\n",
            "32/32 [==============================] - 25s 770ms/step - loss: 0.4076 - accuracy: 0.8440\n",
            "Epoch 85/100\n",
            "32/32 [==============================] - 25s 769ms/step - loss: 0.3844 - accuracy: 0.8430\n",
            "Epoch 86/100\n",
            "32/32 [==============================] - 25s 781ms/step - loss: 0.4197 - accuracy: 0.8370\n",
            "Epoch 87/100\n",
            "32/32 [==============================] - 25s 791ms/step - loss: 0.4209 - accuracy: 0.8370\n",
            "Epoch 88/100\n",
            "32/32 [==============================] - 25s 775ms/step - loss: 0.4333 - accuracy: 0.8260\n",
            "Epoch 89/100\n",
            "32/32 [==============================] - 25s 767ms/step - loss: 0.4267 - accuracy: 0.8310\n",
            "Epoch 90/100\n",
            "32/32 [==============================] - 24s 763ms/step - loss: 0.4265 - accuracy: 0.8420\n",
            "Epoch 91/100\n",
            "32/32 [==============================] - 25s 771ms/step - loss: 0.3791 - accuracy: 0.8560\n",
            "Epoch 92/100\n",
            "32/32 [==============================] - 24s 765ms/step - loss: 0.4332 - accuracy: 0.8230\n",
            "Epoch 93/100\n",
            "32/32 [==============================] - 25s 776ms/step - loss: 0.4226 - accuracy: 0.8220\n",
            "Epoch 94/100\n",
            "32/32 [==============================] - 24s 763ms/step - loss: 0.3674 - accuracy: 0.8610\n",
            "Epoch 95/100\n",
            "32/32 [==============================] - 25s 776ms/step - loss: 0.4534 - accuracy: 0.8160\n",
            "Epoch 96/100\n",
            "32/32 [==============================] - 24s 760ms/step - loss: 0.3846 - accuracy: 0.8470\n",
            "Epoch 97/100\n",
            "32/32 [==============================] - 25s 768ms/step - loss: 0.3935 - accuracy: 0.8470\n",
            "Epoch 98/100\n",
            "32/32 [==============================] - 25s 779ms/step - loss: 0.3882 - accuracy: 0.8340\n",
            "Epoch 99/100\n",
            "32/32 [==============================] - 25s 766ms/step - loss: 0.4100 - accuracy: 0.8390\n",
            "Epoch 100/100\n",
            "32/32 [==============================] - 25s 772ms/step - loss: 0.4149 - accuracy: 0.8460\n"
          ],
          "name": "stdout"
        },
        {
          "output_type": "execute_result",
          "data": {
            "text/plain": [
              "<tensorflow.python.keras.callbacks.History at 0x7f09734662b0>"
            ]
          },
          "metadata": {
            "tags": []
          },
          "execution_count": 39
        }
      ]
    }
  ]
}