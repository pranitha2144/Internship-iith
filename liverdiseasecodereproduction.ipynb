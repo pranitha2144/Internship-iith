{
  "nbformat": 4,
  "nbformat_minor": 0,
  "metadata": {
    "colab": {
      "name": "liverdiseasecodereproduction.ipynb",
      "provenance": [],
      "mount_file_id": "1BemhAhuHvP-LV2rKnVbZwFbyBeWbsTzS",
      "authorship_tag": "ABX9TyN4ynJ4JRf260aa9/yFRGwP",
      "include_colab_link": true
    },
    "kernelspec": {
      "name": "python3",
      "display_name": "Python 3"
    }
  },
  "cells": [
    {
      "cell_type": "markdown",
      "metadata": {
        "id": "view-in-github",
        "colab_type": "text"
      },
      "source": [
        "<a href=\"https://colab.research.google.com/github/pranitha2144/Internship-iith/blob/master/liverdiseasecodereproduction.ipynb\" target=\"_parent\"><img src=\"https://colab.research.google.com/assets/colab-badge.svg\" alt=\"Open In Colab\"/></a>"
      ]
    },
    {
      "cell_type": "code",
      "metadata": {
        "id": "pSmCTaVG0Nol",
        "colab_type": "code",
        "colab": {}
      },
      "source": [
        "import tensorflow as tf\n",
        "from tensorflow.keras.models import Sequential\n",
        "from tensorflow.keras.layers import Dense, Conv2D, MaxPooling2D, Flatten,Dropout"
      ],
      "execution_count": 0,
      "outputs": []
    },
    {
      "cell_type": "code",
      "metadata": {
        "id": "1A8bbAtr15gA",
        "colab_type": "code",
        "colab": {}
      },
      "source": [
        "classifier = Sequential([Conv2D(32,(3,3),activation='relu',input_shape=(128,128,3),strides=[1,1],padding='same'),\n",
        "                         MaxPooling2D(2,2),\n",
        "                         Conv2D(32,(3,3),activation='relu',strides=[1,1],padding='same'),\n",
        "                         MaxPooling2D(2,2),\n",
        "                         Conv2D(64,(3,3),activation='relu',strides=[1,1],padding='same'),\n",
        "                         MaxPooling2D(2,2),\n",
        "                         Conv2D(64,(3,3),activation='relu',strides=[1,1],padding='same'),\n",
        "                         MaxPooling2D(2,2),\n",
        "                         Conv2D(128,(3,3),activation='relu',strides=[1,1],padding='same'),\n",
        "                         MaxPooling2D(2,2),\n",
        "                         Flatten(),\n",
        "                         Dense(128,activation='relu'),\n",
        "                         Dropout(0.7),\n",
        "                         Dropout(0.4),\n",
        "                         Dense(256,activation='relu'),\n",
        "                         Dense(256,activation='relu'),\n",
        "                         Dense(4,activation='softmax')\n",
        "\n",
        "\n",
        "\n",
        "])"
      ],
      "execution_count": 0,
      "outputs": []
    },
    {
      "cell_type": "code",
      "metadata": {
        "id": "zwuhqUpLQDKm",
        "colab_type": "code",
        "colab": {}
      },
      "source": [
        "classifier.compile(loss='categorical_crossentropy', optimizer='RMSprop', metrics=['accuracy'])"
      ],
      "execution_count": 0,
      "outputs": []
    },
    {
      "cell_type": "code",
      "metadata": {
        "id": "iUftPYb7Qt-M",
        "colab_type": "code",
        "colab": {}
      },
      "source": [
        "from keras.preprocessing.image import ImageDataGenerator"
      ],
      "execution_count": 0,
      "outputs": []
    },
    {
      "cell_type": "code",
      "metadata": {
        "id": "fTick91EU_su",
        "colab_type": "code",
        "colab": {}
      },
      "source": [
        "datagen = ImageDataGenerator(\n",
        "        rescale=1./255,\n",
        "        rotation_range=60,\n",
        "        shear_range=0.2,\n",
        "        zoom_range=0.2,\n",
        "        horizontal_flip=True,vertical_flip=True,validation_split=0.2)"
      ],
      "execution_count": 0,
      "outputs": []
    },
    {
      "cell_type": "code",
      "metadata": {
        "id": "MdXG5380VHw6",
        "colab_type": "code",
        "outputId": "790f48c6-4ae3-41ae-b514-c523d076ba5f",
        "colab": {
          "base_uri": "https://localhost:8080/",
          "height": 34
        }
      },
      "source": [
        "training_set = datagen.flow_from_directory(\n",
        "        '/content/drive/My Drive/texture_4class_classification/data',\n",
        "        target_size=(128, 128),\n",
        "        shuffle=True,\n",
        "        subset=\"training\",\n",
        "        batch_size=32,\n",
        "        class_mode='categorical')"
      ],
      "execution_count": 81,
      "outputs": [
        {
          "output_type": "stream",
          "text": [
            "Found 800 images belonging to 4 classes.\n"
          ],
          "name": "stdout"
        }
      ]
    },
    {
      "cell_type": "code",
      "metadata": {
        "id": "ET1M_C_Qf-K-",
        "colab_type": "code",
        "colab": {
          "base_uri": "https://localhost:8080/",
          "height": 34
        },
        "outputId": "7219dfd6-ee8c-4279-b38b-d6cb95c7990e"
      },
      "source": [
        "test_set = datagen.flow_from_directory(\n",
        "        '/content/drive/My Drive/texture_4class_classification/data',\n",
        "        target_size=(128, 128),\n",
        "        shuffle=True,\n",
        "        subset=\"validation\",\n",
        "        batch_size=32,\n",
        "        class_mode='categorical')"
      ],
      "execution_count": 82,
      "outputs": [
        {
          "output_type": "stream",
          "text": [
            "Found 200 images belonging to 4 classes.\n"
          ],
          "name": "stdout"
        }
      ]
    },
    {
      "cell_type": "code",
      "metadata": {
        "id": "oiM5eoUiaNJs",
        "colab_type": "code",
        "outputId": "a75b700f-acb8-40c1-b2b6-ca2983b3f9f9",
        "colab": {
          "base_uri": "https://localhost:8080/",
          "height": 1000
        }
      },
      "source": [
        "classifier.fit(training_set,validation_data=test_set,epochs=100)"
      ],
      "execution_count": 83,
      "outputs": [
        {
          "output_type": "stream",
          "text": [
            "Epoch 1/100\n",
            "25/25 [==============================] - 22s 887ms/step - loss: 1.3823 - accuracy: 0.2875 - val_loss: 1.3776 - val_accuracy: 0.2500\n",
            "Epoch 2/100\n",
            "25/25 [==============================] - 22s 885ms/step - loss: 1.3385 - accuracy: 0.3537 - val_loss: 1.2411 - val_accuracy: 0.4750\n",
            "Epoch 3/100\n",
            "25/25 [==============================] - 22s 883ms/step - loss: 1.3721 - accuracy: 0.2962 - val_loss: 1.3836 - val_accuracy: 0.2500\n",
            "Epoch 4/100\n",
            "25/25 [==============================] - 22s 881ms/step - loss: 1.3728 - accuracy: 0.3750 - val_loss: 1.2592 - val_accuracy: 0.3650\n",
            "Epoch 5/100\n",
            "25/25 [==============================] - 22s 875ms/step - loss: 1.2475 - accuracy: 0.4212 - val_loss: 1.0791 - val_accuracy: 0.5000\n",
            "Epoch 6/100\n",
            "25/25 [==============================] - 22s 868ms/step - loss: 1.1544 - accuracy: 0.4412 - val_loss: 1.6334 - val_accuracy: 0.2500\n",
            "Epoch 7/100\n",
            "25/25 [==============================] - 22s 868ms/step - loss: 1.1257 - accuracy: 0.4263 - val_loss: 1.0302 - val_accuracy: 0.5350\n",
            "Epoch 8/100\n",
            "25/25 [==============================] - 22s 878ms/step - loss: 1.1881 - accuracy: 0.4675 - val_loss: 0.9733 - val_accuracy: 0.5600\n",
            "Epoch 9/100\n",
            "25/25 [==============================] - 22s 874ms/step - loss: 1.0062 - accuracy: 0.5412 - val_loss: 1.1636 - val_accuracy: 0.3250\n",
            "Epoch 10/100\n",
            "25/25 [==============================] - 22s 875ms/step - loss: 1.0206 - accuracy: 0.5525 - val_loss: 0.8842 - val_accuracy: 0.6200\n",
            "Epoch 11/100\n",
            "25/25 [==============================] - 22s 883ms/step - loss: 1.0117 - accuracy: 0.5763 - val_loss: 1.3294 - val_accuracy: 0.4750\n",
            "Epoch 12/100\n",
            "25/25 [==============================] - 22s 876ms/step - loss: 0.9632 - accuracy: 0.5675 - val_loss: 1.2787 - val_accuracy: 0.4000\n",
            "Epoch 13/100\n",
            "25/25 [==============================] - 22s 878ms/step - loss: 0.9078 - accuracy: 0.5962 - val_loss: 1.0017 - val_accuracy: 0.3600\n",
            "Epoch 14/100\n",
            "25/25 [==============================] - 22s 876ms/step - loss: 1.0191 - accuracy: 0.5813 - val_loss: 1.0287 - val_accuracy: 0.4700\n",
            "Epoch 15/100\n",
            "25/25 [==============================] - 22s 872ms/step - loss: 0.9163 - accuracy: 0.6087 - val_loss: 0.8092 - val_accuracy: 0.6900\n",
            "Epoch 16/100\n",
            "25/25 [==============================] - 22s 871ms/step - loss: 0.8700 - accuracy: 0.6212 - val_loss: 0.8026 - val_accuracy: 0.5400\n",
            "Epoch 17/100\n",
            "25/25 [==============================] - 22s 879ms/step - loss: 1.1709 - accuracy: 0.5863 - val_loss: 0.7824 - val_accuracy: 0.5900\n",
            "Epoch 18/100\n",
            "25/25 [==============================] - 22s 874ms/step - loss: 0.8444 - accuracy: 0.6175 - val_loss: 0.9809 - val_accuracy: 0.3350\n",
            "Epoch 19/100\n",
            "25/25 [==============================] - 22s 881ms/step - loss: 0.8720 - accuracy: 0.6037 - val_loss: 0.8795 - val_accuracy: 0.5450\n",
            "Epoch 20/100\n",
            "25/25 [==============================] - 22s 877ms/step - loss: 0.9287 - accuracy: 0.6050 - val_loss: 0.9599 - val_accuracy: 0.5600\n",
            "Epoch 21/100\n",
            "25/25 [==============================] - 22s 878ms/step - loss: 0.8413 - accuracy: 0.6263 - val_loss: 0.8841 - val_accuracy: 0.5100\n",
            "Epoch 22/100\n",
            "25/25 [==============================] - 22s 880ms/step - loss: 0.9781 - accuracy: 0.6000 - val_loss: 1.0066 - val_accuracy: 0.4750\n",
            "Epoch 23/100\n",
            "25/25 [==============================] - 22s 875ms/step - loss: 0.8667 - accuracy: 0.6325 - val_loss: 1.5325 - val_accuracy: 0.4950\n",
            "Epoch 24/100\n",
            "25/25 [==============================] - 22s 868ms/step - loss: 0.8567 - accuracy: 0.6325 - val_loss: 1.0825 - val_accuracy: 0.4050\n",
            "Epoch 25/100\n",
            "25/25 [==============================] - 22s 873ms/step - loss: 0.8996 - accuracy: 0.6225 - val_loss: 0.8895 - val_accuracy: 0.4950\n",
            "Epoch 26/100\n",
            "25/25 [==============================] - 22s 863ms/step - loss: 0.8058 - accuracy: 0.6438 - val_loss: 1.0498 - val_accuracy: 0.4100\n",
            "Epoch 27/100\n",
            "25/25 [==============================] - 22s 865ms/step - loss: 0.8156 - accuracy: 0.6225 - val_loss: 0.9653 - val_accuracy: 0.4750\n",
            "Epoch 28/100\n",
            "25/25 [==============================] - 22s 862ms/step - loss: 0.8768 - accuracy: 0.6400 - val_loss: 0.8151 - val_accuracy: 0.6700\n",
            "Epoch 29/100\n",
            "25/25 [==============================] - 22s 861ms/step - loss: 0.7892 - accuracy: 0.6700 - val_loss: 0.8545 - val_accuracy: 0.6150\n",
            "Epoch 30/100\n",
            "25/25 [==============================] - 22s 864ms/step - loss: 0.8529 - accuracy: 0.6325 - val_loss: 0.8694 - val_accuracy: 0.4900\n",
            "Epoch 31/100\n",
            "25/25 [==============================] - 22s 861ms/step - loss: 0.8941 - accuracy: 0.6325 - val_loss: 0.6952 - val_accuracy: 0.7850\n",
            "Epoch 32/100\n",
            "25/25 [==============================] - 21s 857ms/step - loss: 0.7588 - accuracy: 0.6650 - val_loss: 0.7578 - val_accuracy: 0.7500\n",
            "Epoch 33/100\n",
            "25/25 [==============================] - 22s 865ms/step - loss: 0.7873 - accuracy: 0.6475 - val_loss: 0.9390 - val_accuracy: 0.4800\n",
            "Epoch 34/100\n",
            "25/25 [==============================] - 22s 867ms/step - loss: 0.8371 - accuracy: 0.6313 - val_loss: 0.7621 - val_accuracy: 0.6700\n",
            "Epoch 35/100\n",
            "25/25 [==============================] - 22s 863ms/step - loss: 0.8283 - accuracy: 0.6575 - val_loss: 0.6994 - val_accuracy: 0.7200\n",
            "Epoch 36/100\n",
            "25/25 [==============================] - 21s 858ms/step - loss: 0.8989 - accuracy: 0.6263 - val_loss: 0.7374 - val_accuracy: 0.7750\n",
            "Epoch 37/100\n",
            "25/25 [==============================] - 21s 853ms/step - loss: 0.7277 - accuracy: 0.7050 - val_loss: 1.0198 - val_accuracy: 0.4600\n",
            "Epoch 38/100\n",
            "25/25 [==============================] - 21s 854ms/step - loss: 0.7421 - accuracy: 0.6950 - val_loss: 0.7563 - val_accuracy: 0.6750\n",
            "Epoch 39/100\n",
            "25/25 [==============================] - 22s 874ms/step - loss: 0.7843 - accuracy: 0.6762 - val_loss: 0.8096 - val_accuracy: 0.5750\n",
            "Epoch 40/100\n",
            "25/25 [==============================] - 21s 860ms/step - loss: 0.7827 - accuracy: 0.6775 - val_loss: 0.9084 - val_accuracy: 0.4350\n",
            "Epoch 41/100\n",
            "25/25 [==============================] - 21s 854ms/step - loss: 0.7921 - accuracy: 0.6913 - val_loss: 0.7408 - val_accuracy: 0.6550\n",
            "Epoch 42/100\n",
            "25/25 [==============================] - 21s 857ms/step - loss: 0.7717 - accuracy: 0.7000 - val_loss: 0.6650 - val_accuracy: 0.7950\n",
            "Epoch 43/100\n",
            "25/25 [==============================] - 21s 855ms/step - loss: 0.7335 - accuracy: 0.7138 - val_loss: 0.7571 - val_accuracy: 0.6750\n",
            "Epoch 44/100\n",
            "25/25 [==============================] - 21s 858ms/step - loss: 0.7271 - accuracy: 0.7212 - val_loss: 0.6373 - val_accuracy: 0.7000\n",
            "Epoch 45/100\n",
            "25/25 [==============================] - 21s 856ms/step - loss: 0.7447 - accuracy: 0.7013 - val_loss: 0.6593 - val_accuracy: 0.7150\n",
            "Epoch 46/100\n",
            "25/25 [==============================] - 21s 855ms/step - loss: 0.7668 - accuracy: 0.7250 - val_loss: 0.8049 - val_accuracy: 0.5900\n",
            "Epoch 47/100\n",
            "25/25 [==============================] - 21s 857ms/step - loss: 0.6500 - accuracy: 0.7287 - val_loss: 0.9123 - val_accuracy: 0.5800\n",
            "Epoch 48/100\n",
            "25/25 [==============================] - 21s 855ms/step - loss: 0.8120 - accuracy: 0.6787 - val_loss: 0.7880 - val_accuracy: 0.6000\n",
            "Epoch 49/100\n",
            "25/25 [==============================] - 21s 855ms/step - loss: 0.7228 - accuracy: 0.7138 - val_loss: 0.8992 - val_accuracy: 0.5450\n",
            "Epoch 50/100\n",
            "25/25 [==============================] - 21s 856ms/step - loss: 0.6663 - accuracy: 0.7300 - val_loss: 1.0728 - val_accuracy: 0.4650\n",
            "Epoch 51/100\n",
            "25/25 [==============================] - 21s 858ms/step - loss: 0.7218 - accuracy: 0.7163 - val_loss: 0.6583 - val_accuracy: 0.7350\n",
            "Epoch 52/100\n",
            "25/25 [==============================] - 21s 856ms/step - loss: 0.7337 - accuracy: 0.7138 - val_loss: 0.5480 - val_accuracy: 0.8200\n",
            "Epoch 53/100\n",
            "25/25 [==============================] - 21s 856ms/step - loss: 0.6427 - accuracy: 0.7350 - val_loss: 0.7468 - val_accuracy: 0.6450\n",
            "Epoch 54/100\n",
            "25/25 [==============================] - 21s 854ms/step - loss: 0.6652 - accuracy: 0.7387 - val_loss: 0.5724 - val_accuracy: 0.8250\n",
            "Epoch 55/100\n",
            "25/25 [==============================] - 21s 856ms/step - loss: 0.6681 - accuracy: 0.7337 - val_loss: 0.7300 - val_accuracy: 0.6850\n",
            "Epoch 56/100\n",
            "25/25 [==============================] - 22s 865ms/step - loss: 0.6490 - accuracy: 0.7425 - val_loss: 0.5002 - val_accuracy: 0.8350\n",
            "Epoch 57/100\n",
            "25/25 [==============================] - 22s 865ms/step - loss: 0.6398 - accuracy: 0.7663 - val_loss: 0.5099 - val_accuracy: 0.8650\n",
            "Epoch 58/100\n",
            "25/25 [==============================] - 22s 863ms/step - loss: 0.5980 - accuracy: 0.7462 - val_loss: 0.7994 - val_accuracy: 0.6150\n",
            "Epoch 59/100\n",
            "25/25 [==============================] - 21s 855ms/step - loss: 0.6319 - accuracy: 0.7412 - val_loss: 0.5693 - val_accuracy: 0.7100\n",
            "Epoch 60/100\n",
            "25/25 [==============================] - 21s 854ms/step - loss: 0.6651 - accuracy: 0.7325 - val_loss: 0.5538 - val_accuracy: 0.7700\n",
            "Epoch 61/100\n",
            "25/25 [==============================] - 21s 853ms/step - loss: 0.6408 - accuracy: 0.7325 - val_loss: 0.7143 - val_accuracy: 0.6350\n",
            "Epoch 62/100\n",
            "25/25 [==============================] - 21s 855ms/step - loss: 0.6720 - accuracy: 0.7425 - val_loss: 0.6033 - val_accuracy: 0.7200\n",
            "Epoch 63/100\n",
            "25/25 [==============================] - 21s 854ms/step - loss: 0.6011 - accuracy: 0.7700 - val_loss: 0.4061 - val_accuracy: 0.8650\n",
            "Epoch 64/100\n",
            "25/25 [==============================] - 21s 854ms/step - loss: 0.6448 - accuracy: 0.7500 - val_loss: 0.5128 - val_accuracy: 0.8500\n",
            "Epoch 65/100\n",
            "25/25 [==============================] - 21s 851ms/step - loss: 0.6123 - accuracy: 0.7650 - val_loss: 0.4791 - val_accuracy: 0.8350\n",
            "Epoch 66/100\n",
            "25/25 [==============================] - 22s 882ms/step - loss: 0.6542 - accuracy: 0.7638 - val_loss: 0.7158 - val_accuracy: 0.6350\n",
            "Epoch 67/100\n",
            "25/25 [==============================] - 22s 863ms/step - loss: 0.5997 - accuracy: 0.7775 - val_loss: 0.5184 - val_accuracy: 0.8400\n",
            "Epoch 68/100\n",
            "25/25 [==============================] - 22s 862ms/step - loss: 0.6464 - accuracy: 0.7638 - val_loss: 0.6081 - val_accuracy: 0.7100\n",
            "Epoch 69/100\n",
            "25/25 [==============================] - 22s 864ms/step - loss: 0.6303 - accuracy: 0.7738 - val_loss: 0.8092 - val_accuracy: 0.5650\n",
            "Epoch 70/100\n",
            "25/25 [==============================] - 22s 862ms/step - loss: 0.6237 - accuracy: 0.7625 - val_loss: 0.5099 - val_accuracy: 0.7850\n",
            "Epoch 71/100\n",
            "25/25 [==============================] - 22s 865ms/step - loss: 0.5570 - accuracy: 0.7812 - val_loss: 0.4174 - val_accuracy: 0.8500\n",
            "Epoch 72/100\n",
            "25/25 [==============================] - 22s 862ms/step - loss: 0.5976 - accuracy: 0.7675 - val_loss: 0.4830 - val_accuracy: 0.7800\n",
            "Epoch 73/100\n",
            "25/25 [==============================] - 22s 866ms/step - loss: 0.5647 - accuracy: 0.7850 - val_loss: 0.4722 - val_accuracy: 0.8500\n",
            "Epoch 74/100\n",
            "25/25 [==============================] - 22s 865ms/step - loss: 0.5928 - accuracy: 0.7638 - val_loss: 0.7599 - val_accuracy: 0.6700\n",
            "Epoch 75/100\n",
            "25/25 [==============================] - 22s 863ms/step - loss: 0.6158 - accuracy: 0.7675 - val_loss: 1.5309 - val_accuracy: 0.5450\n",
            "Epoch 76/100\n",
            "25/25 [==============================] - 22s 864ms/step - loss: 0.5925 - accuracy: 0.7837 - val_loss: 0.7615 - val_accuracy: 0.6200\n",
            "Epoch 77/100\n",
            "25/25 [==============================] - 22s 864ms/step - loss: 0.4948 - accuracy: 0.7950 - val_loss: 0.4484 - val_accuracy: 0.8150\n",
            "Epoch 78/100\n",
            "25/25 [==============================] - 22s 863ms/step - loss: 0.5072 - accuracy: 0.8075 - val_loss: 0.5285 - val_accuracy: 0.8050\n",
            "Epoch 79/100\n",
            "25/25 [==============================] - 22s 862ms/step - loss: 0.5848 - accuracy: 0.7862 - val_loss: 0.6149 - val_accuracy: 0.7250\n",
            "Epoch 80/100\n",
            "25/25 [==============================] - 22s 871ms/step - loss: 0.5961 - accuracy: 0.7862 - val_loss: 0.4200 - val_accuracy: 0.8400\n",
            "Epoch 81/100\n",
            "25/25 [==============================] - 22s 863ms/step - loss: 0.5252 - accuracy: 0.8075 - val_loss: 0.4168 - val_accuracy: 0.8450\n",
            "Epoch 82/100\n",
            "25/25 [==============================] - 22s 865ms/step - loss: 0.5622 - accuracy: 0.7900 - val_loss: 0.4772 - val_accuracy: 0.7900\n",
            "Epoch 83/100\n",
            "25/25 [==============================] - 22s 863ms/step - loss: 0.6098 - accuracy: 0.7638 - val_loss: 0.4365 - val_accuracy: 0.8300\n",
            "Epoch 84/100\n",
            "25/25 [==============================] - 22s 864ms/step - loss: 0.5737 - accuracy: 0.7812 - val_loss: 0.5567 - val_accuracy: 0.7700\n",
            "Epoch 85/100\n",
            "25/25 [==============================] - 22s 863ms/step - loss: 0.6087 - accuracy: 0.7775 - val_loss: 0.7205 - val_accuracy: 0.6850\n",
            "Epoch 86/100\n",
            "25/25 [==============================] - 21s 859ms/step - loss: 0.5189 - accuracy: 0.7987 - val_loss: 0.4609 - val_accuracy: 0.8550\n",
            "Epoch 87/100\n",
            "25/25 [==============================] - 22s 864ms/step - loss: 0.5325 - accuracy: 0.7925 - val_loss: 0.4611 - val_accuracy: 0.8050\n",
            "Epoch 88/100\n",
            "25/25 [==============================] - 22s 863ms/step - loss: 0.5910 - accuracy: 0.7862 - val_loss: 0.4214 - val_accuracy: 0.8550\n",
            "Epoch 89/100\n",
            "25/25 [==============================] - 22s 861ms/step - loss: 0.5299 - accuracy: 0.8175 - val_loss: 0.9933 - val_accuracy: 0.6300\n",
            "Epoch 90/100\n",
            "25/25 [==============================] - 22s 867ms/step - loss: 0.5669 - accuracy: 0.7862 - val_loss: 0.4984 - val_accuracy: 0.8100\n",
            "Epoch 91/100\n",
            "25/25 [==============================] - 22s 864ms/step - loss: 0.5798 - accuracy: 0.8012 - val_loss: 0.5987 - val_accuracy: 0.7450\n",
            "Epoch 92/100\n",
            "25/25 [==============================] - 21s 859ms/step - loss: 0.5853 - accuracy: 0.7750 - val_loss: 0.7839 - val_accuracy: 0.6150\n",
            "Epoch 93/100\n",
            "25/25 [==============================] - 22s 863ms/step - loss: 0.4860 - accuracy: 0.8087 - val_loss: 0.7892 - val_accuracy: 0.7050\n",
            "Epoch 94/100\n",
            "25/25 [==============================] - 22s 865ms/step - loss: 0.5377 - accuracy: 0.8138 - val_loss: 0.7552 - val_accuracy: 0.6750\n",
            "Epoch 95/100\n",
            "25/25 [==============================] - 21s 857ms/step - loss: 0.5046 - accuracy: 0.8050 - val_loss: 0.4458 - val_accuracy: 0.8800\n",
            "Epoch 96/100\n",
            "25/25 [==============================] - 22s 864ms/step - loss: 0.5150 - accuracy: 0.8025 - val_loss: 0.4096 - val_accuracy: 0.8300\n",
            "Epoch 97/100\n",
            "25/25 [==============================] - 22s 865ms/step - loss: 0.5780 - accuracy: 0.7825 - val_loss: 1.1020 - val_accuracy: 0.4900\n",
            "Epoch 98/100\n",
            "25/25 [==============================] - 22s 864ms/step - loss: 0.4981 - accuracy: 0.8150 - val_loss: 0.5741 - val_accuracy: 0.8100\n",
            "Epoch 99/100\n",
            "25/25 [==============================] - 22s 862ms/step - loss: 0.5836 - accuracy: 0.8000 - val_loss: 0.4296 - val_accuracy: 0.8300\n",
            "Epoch 100/100\n",
            "25/25 [==============================] - 22s 869ms/step - loss: 0.4504 - accuracy: 0.8213 - val_loss: 0.7991 - val_accuracy: 0.6200\n"
          ],
          "name": "stdout"
        },
        {
          "output_type": "execute_result",
          "data": {
            "text/plain": [
              "<tensorflow.python.keras.callbacks.History at 0x7f0976ac2b00>"
            ]
          },
          "metadata": {
            "tags": []
          },
          "execution_count": 83
        }
      ]
    }
  ]
}