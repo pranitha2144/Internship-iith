{
  "nbformat": 4,
  "nbformat_minor": 0,
  "metadata": {
    "colab": {
      "name": "liverdiseasecodereproduction.ipynb",
      "provenance": [],
      "mount_file_id": "1BemhAhuHvP-LV2rKnVbZwFbyBeWbsTzS",
      "authorship_tag": "ABX9TyP/K+rCdY+xYkS9ubVj2Cnw",
      "include_colab_link": true
    },
    "kernelspec": {
      "name": "python3",
      "display_name": "Python 3"
    }
  },
  "cells": [
    {
      "cell_type": "markdown",
      "metadata": {
        "id": "view-in-github",
        "colab_type": "text"
      },
      "source": [
        "<a href=\"https://colab.research.google.com/github/pranitha2144/Internship-iith/blob/master/liverdiseasecodereproduction.ipynb\" target=\"_parent\"><img src=\"https://colab.research.google.com/assets/colab-badge.svg\" alt=\"Open In Colab\"/></a>"
      ]
    },
    {
      "cell_type": "code",
      "metadata": {
        "id": "pSmCTaVG0Nol",
        "colab_type": "code",
        "colab": {}
      },
      "source": [
        "import tensorflow as tf\n",
        "from tensorflow.keras.models import Sequential\n",
        "from tensorflow.keras.layers import Dense, Conv2D, MaxPooling2D, Flatten,Dropout"
      ],
      "execution_count": 0,
      "outputs": []
    },
    {
      "cell_type": "code",
      "metadata": {
        "id": "1A8bbAtr15gA",
        "colab_type": "code",
        "colab": {}
      },
      "source": [
        "classifier = Sequential([Conv2D(32,(3,3),activation='relu',input_shape=(128,128,3),strides=[1,1],padding='same'),\n",
        "                         MaxPooling2D(2,2),\n",
        "                         Conv2D(32,(3,3),activation='relu',strides=[1,1],padding='same'),\n",
        "                         MaxPooling2D(2,2),\n",
        "                         Conv2D(64,(3,3),activation='relu',strides=[1,1],padding='same'),\n",
        "                         MaxPooling2D(2,2),\n",
        "                         Conv2D(64,(3,3),activation='relu',strides=[1,1],padding='same'),\n",
        "                         MaxPooling2D(2,2),\n",
        "                         Conv2D(128,(3,3),activation='relu',strides=[1,1],padding='same'),\n",
        "                         MaxPooling2D(2,2),\n",
        "                         Flatten(),\n",
        "                         Dense(128,activation='relu'),\n",
        "                         Dropout(0.3),\n",
        "                         Dropout(0.6),\n",
        "                         Dense(256,activation='relu'),\n",
        "                         Dense(256,activation='relu'),\n",
        "                         Dense(4,activation='softmax')\n",
        "\n",
        "\n",
        "\n",
        "])"
      ],
      "execution_count": 0,
      "outputs": []
    },
    {
      "cell_type": "code",
      "metadata": {
        "id": "zwuhqUpLQDKm",
        "colab_type": "code",
        "colab": {}
      },
      "source": [
        "classifier.compile(loss='categorical_crossentropy', optimizer='RMSprop', metrics=['accuracy'])"
      ],
      "execution_count": 0,
      "outputs": []
    },
    {
      "cell_type": "code",
      "metadata": {
        "id": "iUftPYb7Qt-M",
        "colab_type": "code",
        "colab": {}
      },
      "source": [
        "from keras.preprocessing.image import ImageDataGenerator"
      ],
      "execution_count": 0,
      "outputs": []
    },
    {
      "cell_type": "code",
      "metadata": {
        "id": "fTick91EU_su",
        "colab_type": "code",
        "colab": {}
      },
      "source": [
        "datagen = ImageDataGenerator(\n",
        "        rescale=1./255,\n",
        "        rotation_range=60,\n",
        "        shear_range=0.2,\n",
        "        zoom_range=0.2,\n",
        "        horizontal_flip=True,vertical_flip=True)"
      ],
      "execution_count": 0,
      "outputs": []
    },
    {
      "cell_type": "code",
      "metadata": {
        "id": "MdXG5380VHw6",
        "colab_type": "code",
        "outputId": "488c5614-8eae-4499-ab50-65b2f60669f0",
        "colab": {
          "base_uri": "https://localhost:8080/",
          "height": 34
        }
      },
      "source": [
        "data_set = datagen.flow_from_directory(\n",
        "        '/content/drive/My Drive/texture_4class_classification/data',\n",
        "        target_size=(128, 128),\n",
        "        batch_size=32,\n",
        "        class_mode='categorical')"
      ],
      "execution_count": 0,
      "outputs": [
        {
          "output_type": "stream",
          "text": [
            "Found 1000 images belonging to 4 classes.\n"
          ],
          "name": "stdout"
        }
      ]
    },
    {
      "cell_type": "code",
      "metadata": {
        "id": "oiM5eoUiaNJs",
        "colab_type": "code",
        "outputId": "680dfb25-964b-4bd8-80af-190255d7ff78",
        "colab": {
          "base_uri": "https://localhost:8080/",
          "height": 1000
        }
      },
      "source": [
        "classifier.fit(data_set, epochs=100)"
      ],
      "execution_count": 66,
      "outputs": [
        {
          "output_type": "stream",
          "text": [
            "Epoch 1/100\n",
            "32/32 [==============================] - 25s 774ms/step - loss: 1.3795 - accuracy: 0.2930\n",
            "Epoch 2/100\n",
            "32/32 [==============================] - 25s 766ms/step - loss: 1.3630 - accuracy: 0.3360\n",
            "Epoch 3/100\n",
            "32/32 [==============================] - 25s 766ms/step - loss: 1.2820 - accuracy: 0.3930\n",
            "Epoch 4/100\n",
            "32/32 [==============================] - 24s 765ms/step - loss: 1.2093 - accuracy: 0.4140\n",
            "Epoch 5/100\n",
            "32/32 [==============================] - 24s 759ms/step - loss: 1.0906 - accuracy: 0.4680\n",
            "Epoch 6/100\n",
            "32/32 [==============================] - 24s 759ms/step - loss: 1.0795 - accuracy: 0.5000\n",
            "Epoch 7/100\n",
            "32/32 [==============================] - 24s 762ms/step - loss: 0.9933 - accuracy: 0.5490\n",
            "Epoch 8/100\n",
            "32/32 [==============================] - 24s 754ms/step - loss: 0.9472 - accuracy: 0.5630\n",
            "Epoch 9/100\n",
            "32/32 [==============================] - 24s 753ms/step - loss: 1.0574 - accuracy: 0.5880\n",
            "Epoch 10/100\n",
            "32/32 [==============================] - 24s 756ms/step - loss: 0.8865 - accuracy: 0.6230\n",
            "Epoch 11/100\n",
            "32/32 [==============================] - 24s 757ms/step - loss: 0.9295 - accuracy: 0.5780\n",
            "Epoch 12/100\n",
            "32/32 [==============================] - 24s 758ms/step - loss: 0.8829 - accuracy: 0.6140\n",
            "Epoch 13/100\n",
            "32/32 [==============================] - 24s 757ms/step - loss: 0.9413 - accuracy: 0.6020\n",
            "Epoch 14/100\n",
            "32/32 [==============================] - 24s 754ms/step - loss: 0.8211 - accuracy: 0.6370\n",
            "Epoch 15/100\n",
            "32/32 [==============================] - 24s 761ms/step - loss: 0.8966 - accuracy: 0.6210\n",
            "Epoch 16/100\n",
            "32/32 [==============================] - 24s 757ms/step - loss: 0.8735 - accuracy: 0.6080\n",
            "Epoch 17/100\n",
            "32/32 [==============================] - 24s 756ms/step - loss: 0.8514 - accuracy: 0.6420\n",
            "Epoch 18/100\n",
            "32/32 [==============================] - 24s 757ms/step - loss: 0.8691 - accuracy: 0.6390\n",
            "Epoch 19/100\n",
            "32/32 [==============================] - 24s 760ms/step - loss: 0.8729 - accuracy: 0.6420\n",
            "Epoch 20/100\n",
            "32/32 [==============================] - 24s 758ms/step - loss: 0.8450 - accuracy: 0.6530\n",
            "Epoch 21/100\n",
            "32/32 [==============================] - 24s 758ms/step - loss: 0.8250 - accuracy: 0.6530\n",
            "Epoch 22/100\n",
            "32/32 [==============================] - 24s 759ms/step - loss: 0.8622 - accuracy: 0.6510\n",
            "Epoch 23/100\n",
            "32/32 [==============================] - 25s 774ms/step - loss: 0.8251 - accuracy: 0.6500\n",
            "Epoch 24/100\n",
            "32/32 [==============================] - 24s 756ms/step - loss: 0.7966 - accuracy: 0.6500\n",
            "Epoch 25/100\n",
            "32/32 [==============================] - 24s 762ms/step - loss: 0.7528 - accuracy: 0.6660\n",
            "Epoch 26/100\n",
            "32/32 [==============================] - 24s 760ms/step - loss: 0.7735 - accuracy: 0.6670\n",
            "Epoch 27/100\n",
            "32/32 [==============================] - 24s 763ms/step - loss: 0.7389 - accuracy: 0.7150\n",
            "Epoch 28/100\n",
            "32/32 [==============================] - 24s 760ms/step - loss: 0.7872 - accuracy: 0.6730\n",
            "Epoch 29/100\n",
            "32/32 [==============================] - 24s 759ms/step - loss: 0.6752 - accuracy: 0.7230\n",
            "Epoch 30/100\n",
            "32/32 [==============================] - 24s 763ms/step - loss: 0.7247 - accuracy: 0.7160\n",
            "Epoch 31/100\n",
            "32/32 [==============================] - 24s 760ms/step - loss: 0.6644 - accuracy: 0.7230\n",
            "Epoch 32/100\n",
            "32/32 [==============================] - 24s 760ms/step - loss: 0.6998 - accuracy: 0.7490\n",
            "Epoch 33/100\n",
            "32/32 [==============================] - 24s 760ms/step - loss: 0.6609 - accuracy: 0.7330\n",
            "Epoch 34/100\n",
            "32/32 [==============================] - 24s 760ms/step - loss: 0.7542 - accuracy: 0.6880\n",
            "Epoch 35/100\n",
            "32/32 [==============================] - 24s 761ms/step - loss: 0.6192 - accuracy: 0.7420\n",
            "Epoch 36/100\n",
            "32/32 [==============================] - 24s 760ms/step - loss: 0.5949 - accuracy: 0.7620\n",
            "Epoch 37/100\n",
            "32/32 [==============================] - 24s 763ms/step - loss: 0.6647 - accuracy: 0.7260\n",
            "Epoch 38/100\n",
            "32/32 [==============================] - 24s 758ms/step - loss: 0.6014 - accuracy: 0.7720\n",
            "Epoch 39/100\n",
            "32/32 [==============================] - 24s 756ms/step - loss: 0.6535 - accuracy: 0.7520\n",
            "Epoch 40/100\n",
            "32/32 [==============================] - 24s 759ms/step - loss: 0.6337 - accuracy: 0.7420\n",
            "Epoch 41/100\n",
            "32/32 [==============================] - 24s 761ms/step - loss: 0.5920 - accuracy: 0.7520\n",
            "Epoch 42/100\n",
            "32/32 [==============================] - 24s 760ms/step - loss: 0.5945 - accuracy: 0.7370\n",
            "Epoch 43/100\n",
            "32/32 [==============================] - 24s 760ms/step - loss: 0.6360 - accuracy: 0.7680\n",
            "Epoch 44/100\n",
            "32/32 [==============================] - 24s 758ms/step - loss: 0.5604 - accuracy: 0.7700\n",
            "Epoch 45/100\n",
            "32/32 [==============================] - 24s 758ms/step - loss: 0.5780 - accuracy: 0.7690\n",
            "Epoch 46/100\n",
            "32/32 [==============================] - 24s 762ms/step - loss: 0.5871 - accuracy: 0.7630\n",
            "Epoch 47/100\n",
            "32/32 [==============================] - 24s 759ms/step - loss: 0.6029 - accuracy: 0.7630\n",
            "Epoch 48/100\n",
            "32/32 [==============================] - 24s 762ms/step - loss: 0.5722 - accuracy: 0.7760\n",
            "Epoch 49/100\n",
            "32/32 [==============================] - 24s 757ms/step - loss: 0.5702 - accuracy: 0.7710\n",
            "Epoch 50/100\n",
            "32/32 [==============================] - 24s 761ms/step - loss: 0.5608 - accuracy: 0.7800\n",
            "Epoch 51/100\n",
            "32/32 [==============================] - 24s 758ms/step - loss: 0.5498 - accuracy: 0.7960\n",
            "Epoch 52/100\n",
            "32/32 [==============================] - 24s 759ms/step - loss: 0.5427 - accuracy: 0.7910\n",
            "Epoch 53/100\n",
            "32/32 [==============================] - 24s 760ms/step - loss: 0.5701 - accuracy: 0.7770\n",
            "Epoch 54/100\n",
            "32/32 [==============================] - 24s 757ms/step - loss: 0.5368 - accuracy: 0.7880\n",
            "Epoch 55/100\n",
            "32/32 [==============================] - 24s 759ms/step - loss: 0.5726 - accuracy: 0.7740\n",
            "Epoch 56/100\n",
            "32/32 [==============================] - 24s 757ms/step - loss: 0.4962 - accuracy: 0.7900\n",
            "Epoch 57/100\n",
            "32/32 [==============================] - 24s 758ms/step - loss: 0.5838 - accuracy: 0.7740\n",
            "Epoch 58/100\n",
            "32/32 [==============================] - 24s 758ms/step - loss: 0.5776 - accuracy: 0.7780\n",
            "Epoch 59/100\n",
            "32/32 [==============================] - 24s 757ms/step - loss: 0.7101 - accuracy: 0.7210\n",
            "Epoch 60/100\n",
            "32/32 [==============================] - 24s 760ms/step - loss: 0.5655 - accuracy: 0.7670\n",
            "Epoch 61/100\n",
            "32/32 [==============================] - 24s 757ms/step - loss: 0.5456 - accuracy: 0.7860\n",
            "Epoch 62/100\n",
            "32/32 [==============================] - 24s 755ms/step - loss: 0.5138 - accuracy: 0.7950\n",
            "Epoch 63/100\n",
            "32/32 [==============================] - 24s 758ms/step - loss: 0.5344 - accuracy: 0.7960\n",
            "Epoch 64/100\n",
            "32/32 [==============================] - 24s 754ms/step - loss: 0.6417 - accuracy: 0.7650\n",
            "Epoch 65/100\n",
            "32/32 [==============================] - 24s 758ms/step - loss: 0.5224 - accuracy: 0.8070\n",
            "Epoch 66/100\n",
            "32/32 [==============================] - 24s 756ms/step - loss: 0.4680 - accuracy: 0.8180\n",
            "Epoch 67/100\n",
            "32/32 [==============================] - 24s 757ms/step - loss: 0.5792 - accuracy: 0.7690\n",
            "Epoch 68/100\n",
            "32/32 [==============================] - 24s 755ms/step - loss: 0.4663 - accuracy: 0.8200\n",
            "Epoch 69/100\n",
            "32/32 [==============================] - 24s 753ms/step - loss: 0.5083 - accuracy: 0.8210\n",
            "Epoch 70/100\n",
            "32/32 [==============================] - 24s 765ms/step - loss: 0.5277 - accuracy: 0.7980\n",
            "Epoch 71/100\n",
            "32/32 [==============================] - 24s 753ms/step - loss: 0.4825 - accuracy: 0.8150\n",
            "Epoch 72/100\n",
            "32/32 [==============================] - 24s 754ms/step - loss: 0.5305 - accuracy: 0.7980\n",
            "Epoch 73/100\n",
            "32/32 [==============================] - 24s 756ms/step - loss: 0.4698 - accuracy: 0.8130\n",
            "Epoch 74/100\n",
            "32/32 [==============================] - 24s 755ms/step - loss: 0.4855 - accuracy: 0.8090\n",
            "Epoch 75/100\n",
            "32/32 [==============================] - 24s 754ms/step - loss: 0.4718 - accuracy: 0.8140\n",
            "Epoch 76/100\n",
            "32/32 [==============================] - 24s 753ms/step - loss: 0.5245 - accuracy: 0.8060\n",
            "Epoch 77/100\n",
            "32/32 [==============================] - 25s 770ms/step - loss: 0.5227 - accuracy: 0.7950\n",
            "Epoch 78/100\n",
            "32/32 [==============================] - 25s 766ms/step - loss: 0.4777 - accuracy: 0.8080\n",
            "Epoch 79/100\n",
            "32/32 [==============================] - 25s 769ms/step - loss: 0.4792 - accuracy: 0.8110\n",
            "Epoch 80/100\n",
            "32/32 [==============================] - 25s 767ms/step - loss: 0.4864 - accuracy: 0.8070\n",
            "Epoch 81/100\n",
            "32/32 [==============================] - 25s 766ms/step - loss: 0.4495 - accuracy: 0.8280\n",
            "Epoch 82/100\n",
            "32/32 [==============================] - 24s 762ms/step - loss: 0.4861 - accuracy: 0.7980\n",
            "Epoch 83/100\n",
            "32/32 [==============================] - 24s 763ms/step - loss: 0.4641 - accuracy: 0.8250\n",
            "Epoch 84/100\n",
            "32/32 [==============================] - 24s 762ms/step - loss: 0.4558 - accuracy: 0.8090\n",
            "Epoch 85/100\n",
            "32/32 [==============================] - 24s 762ms/step - loss: 0.5332 - accuracy: 0.8020\n",
            "Epoch 86/100\n",
            "32/32 [==============================] - 24s 764ms/step - loss: 0.5017 - accuracy: 0.8100\n",
            "Epoch 87/100\n",
            "32/32 [==============================] - 24s 764ms/step - loss: 0.4433 - accuracy: 0.8260\n",
            "Epoch 88/100\n",
            "32/32 [==============================] - 24s 761ms/step - loss: 0.4840 - accuracy: 0.8200\n",
            "Epoch 89/100\n",
            "32/32 [==============================] - 24s 765ms/step - loss: 0.4813 - accuracy: 0.8090\n",
            "Epoch 90/100\n",
            "32/32 [==============================] - 24s 760ms/step - loss: 0.4404 - accuracy: 0.8300\n",
            "Epoch 91/100\n",
            "32/32 [==============================] - 24s 765ms/step - loss: 0.5034 - accuracy: 0.8270\n",
            "Epoch 92/100\n",
            "32/32 [==============================] - 24s 765ms/step - loss: 0.4964 - accuracy: 0.8240\n",
            "Epoch 93/100\n",
            "32/32 [==============================] - 24s 761ms/step - loss: 0.4605 - accuracy: 0.8240\n",
            "Epoch 94/100\n",
            "32/32 [==============================] - 24s 765ms/step - loss: 0.4562 - accuracy: 0.8120\n",
            "Epoch 95/100\n",
            "32/32 [==============================] - 24s 764ms/step - loss: 0.5021 - accuracy: 0.8010\n",
            "Epoch 96/100\n",
            "32/32 [==============================] - 24s 764ms/step - loss: 0.4954 - accuracy: 0.8320\n",
            "Epoch 97/100\n",
            "32/32 [==============================] - 24s 759ms/step - loss: 0.4112 - accuracy: 0.8310\n",
            "Epoch 98/100\n",
            "32/32 [==============================] - 24s 758ms/step - loss: 0.4648 - accuracy: 0.8220\n",
            "Epoch 99/100\n",
            "32/32 [==============================] - 24s 763ms/step - loss: 0.4672 - accuracy: 0.8180\n",
            "Epoch 100/100\n",
            "32/32 [==============================] - 24s 764ms/step - loss: 0.4426 - accuracy: 0.8140\n"
          ],
          "name": "stdout"
        },
        {
          "output_type": "execute_result",
          "data": {
            "text/plain": [
              "<tensorflow.python.keras.callbacks.History at 0x7f0978c8fd68>"
            ]
          },
          "metadata": {
            "tags": []
          },
          "execution_count": 66
        }
      ]
    }
  ]
}