{
  "nbformat": 4,
  "nbformat_minor": 0,
  "metadata": {
    "colab": {
      "name": "vgg16",
      "provenance": [],
      "collapsed_sections": [],
      "mount_file_id": "1IhyoGy7EHEgj120Y7aEt15WFbYJP6aXH",
      "authorship_tag": "ABX9TyO3Aikyr7+r6YssLaHyhYkI",
      "include_colab_link": true
    },
    "kernelspec": {
      "name": "python3",
      "display_name": "Python 3"
    }
  },
  "cells": [
    {
      "cell_type": "markdown",
      "metadata": {
        "id": "view-in-github",
        "colab_type": "text"
      },
      "source": [
        "<a href=\"https://colab.research.google.com/github/pranitha2144/Internship-iith/blob/Resnet/vgg16.ipynb\" target=\"_parent\"><img src=\"https://colab.research.google.com/assets/colab-badge.svg\" alt=\"Open In Colab\"/></a>"
      ]
    },
    {
      "cell_type": "code",
      "metadata": {
        "id": "3i-5qcxM7pSC",
        "colab_type": "code",
        "colab": {}
      },
      "source": [
        "import keras\n",
        "from keras.models import Model\n",
        "from keras.layers import Dense,Dropout\n",
        "from keras import optimizers\n",
        "from keras.preprocessing.image import ImageDataGenerator\n",
        "from keras.preprocessing import image"
      ],
      "execution_count": 21,
      "outputs": []
    },
    {
      "cell_type": "code",
      "metadata": {
        "id": "JKBtzsJojptA",
        "colab_type": "code",
        "colab": {
          "base_uri": "https://localhost:8080/",
          "height": 105
        },
        "outputId": "7b464c53-dc53-495f-9ad2-bdedc7f446d2"
      },
      "source": [
        "!pip install split_folders"
      ],
      "execution_count": null,
      "outputs": [
        {
          "output_type": "stream",
          "text": [
            "Collecting split_folders\n",
            "  Downloading https://files.pythonhosted.org/packages/20/67/29dda743e6d23ac1ea3d16704d8bbb48d65faf3f1b1eaf53153b3da56c56/split_folders-0.3.1-py3-none-any.whl\n",
            "Installing collected packages: split-folders\n",
            "Successfully installed split-folders-0.3.1\n"
          ],
          "name": "stdout"
        }
      ]
    },
    {
      "cell_type": "code",
      "metadata": {
        "id": "hzM7ojOkjaiK",
        "colab_type": "code",
        "colab": {
          "base_uri": "https://localhost:8080/",
          "height": 387
        },
        "outputId": "dc753673-3f35-4f87-9596-baf1742db8e1"
      },
      "source": [
        "import split_folders\n",
        "\n",
        "# Split with a ratio.\n",
        "# To only split into training and validation set, set a tuple to `ratio`, i.e, `(.8, .2)`.\n",
        "#split_folders.ratio('/content/drive/My Drive/data-liverdisease', output=\"/content/drive/My Drive/data_output1\", seed=1337, ratio=(.7, .2,.1)) # default values\n"
      ],
      "execution_count": 22,
      "outputs": [
        {
          "output_type": "error",
          "ename": "ModuleNotFoundError",
          "evalue": "ignored",
          "traceback": [
            "\u001b[0;31m---------------------------------------------------------------------------\u001b[0m",
            "\u001b[0;31mModuleNotFoundError\u001b[0m                       Traceback (most recent call last)",
            "\u001b[0;32m<ipython-input-22-1e2d4348afb7>\u001b[0m in \u001b[0;36m<module>\u001b[0;34m()\u001b[0m\n\u001b[0;32m----> 1\u001b[0;31m \u001b[0;32mimport\u001b[0m \u001b[0msplit_folders\u001b[0m\u001b[0;34m\u001b[0m\u001b[0;34m\u001b[0m\u001b[0m\n\u001b[0m\u001b[1;32m      2\u001b[0m \u001b[0;34m\u001b[0m\u001b[0m\n\u001b[1;32m      3\u001b[0m \u001b[0;31m# Split with a ratio.\u001b[0m\u001b[0;34m\u001b[0m\u001b[0;34m\u001b[0m\u001b[0;34m\u001b[0m\u001b[0m\n\u001b[1;32m      4\u001b[0m \u001b[0;31m# To only split into training and validation set, set a tuple to `ratio`, i.e, `(.8, .2)`.\u001b[0m\u001b[0;34m\u001b[0m\u001b[0;34m\u001b[0m\u001b[0;34m\u001b[0m\u001b[0m\n\u001b[1;32m      5\u001b[0m \u001b[0;31m#split_folders.ratio('/content/drive/My Drive/data-liverdisease', output=\"/content/drive/My Drive/data_output1\", seed=1337, ratio=(.7, .2,.1)) # default values\u001b[0m\u001b[0;34m\u001b[0m\u001b[0;34m\u001b[0m\u001b[0;34m\u001b[0m\u001b[0m\n",
            "\u001b[0;31mModuleNotFoundError\u001b[0m: No module named 'split_folders'",
            "",
            "\u001b[0;31m---------------------------------------------------------------------------\u001b[0;32m\nNOTE: If your import is failing due to a missing package, you can\nmanually install dependencies using either !pip or !apt.\n\nTo view examples of installing some common dependencies, click the\n\"Open Examples\" button below.\n\u001b[0;31m---------------------------------------------------------------------------\u001b[0m\n"
          ]
        }
      ]
    },
    {
      "cell_type": "code",
      "metadata": {
        "id": "P_NCAugx70fs",
        "colab_type": "code",
        "colab": {
          "base_uri": "https://localhost:8080/",
          "height": 51
        },
        "outputId": "bba8a944-e7f6-41d1-a17a-2a918456ad46"
      },
      "source": [
        "trdata = ImageDataGenerator()\n",
        "traindata = trdata.flow_from_directory(directory=\"/content/drive/My Drive/data_ouput/train\",target_size=(224,224))\n",
        "tsdata = ImageDataGenerator()\n",
        "testdata = tsdata.flow_from_directory(directory=\"/content/drive/My Drive/data_ouput/val\", target_size=(224,224))"
      ],
      "execution_count": 23,
      "outputs": [
        {
          "output_type": "stream",
          "text": [
            "Found 800 images belonging to 4 classes.\n",
            "Found 100 images belonging to 4 classes.\n"
          ],
          "name": "stdout"
        }
      ]
    },
    {
      "cell_type": "code",
      "metadata": {
        "id": "rg_JdtWb8O00",
        "colab_type": "code",
        "colab": {}
      },
      "source": [
        "from keras.applications.vgg19 import VGG19\n",
        "vggmodel = VGG19(weights='imagenet', include_top=True)"
      ],
      "execution_count": 24,
      "outputs": []
    },
    {
      "cell_type": "code",
      "metadata": {
        "id": "PKuEFjHt8TfJ",
        "colab_type": "code",
        "colab": {
          "base_uri": "https://localhost:8080/",
          "height": 1000
        },
        "outputId": "c878bd5f-b15e-456e-a31b-8a7f5b3ecab4"
      },
      "source": [
        "vggmodel.summary()"
      ],
      "execution_count": 25,
      "outputs": [
        {
          "output_type": "stream",
          "text": [
            "Model: \"vgg19\"\n",
            "_________________________________________________________________\n",
            "Layer (type)                 Output Shape              Param #   \n",
            "=================================================================\n",
            "input_2 (InputLayer)         (None, 224, 224, 3)       0         \n",
            "_________________________________________________________________\n",
            "block1_conv1 (Conv2D)        (None, 224, 224, 64)      1792      \n",
            "_________________________________________________________________\n",
            "block1_conv2 (Conv2D)        (None, 224, 224, 64)      36928     \n",
            "_________________________________________________________________\n",
            "block1_pool (MaxPooling2D)   (None, 112, 112, 64)      0         \n",
            "_________________________________________________________________\n",
            "block2_conv1 (Conv2D)        (None, 112, 112, 128)     73856     \n",
            "_________________________________________________________________\n",
            "block2_conv2 (Conv2D)        (None, 112, 112, 128)     147584    \n",
            "_________________________________________________________________\n",
            "block2_pool (MaxPooling2D)   (None, 56, 56, 128)       0         \n",
            "_________________________________________________________________\n",
            "block3_conv1 (Conv2D)        (None, 56, 56, 256)       295168    \n",
            "_________________________________________________________________\n",
            "block3_conv2 (Conv2D)        (None, 56, 56, 256)       590080    \n",
            "_________________________________________________________________\n",
            "block3_conv3 (Conv2D)        (None, 56, 56, 256)       590080    \n",
            "_________________________________________________________________\n",
            "block3_conv4 (Conv2D)        (None, 56, 56, 256)       590080    \n",
            "_________________________________________________________________\n",
            "block3_pool (MaxPooling2D)   (None, 28, 28, 256)       0         \n",
            "_________________________________________________________________\n",
            "block4_conv1 (Conv2D)        (None, 28, 28, 512)       1180160   \n",
            "_________________________________________________________________\n",
            "block4_conv2 (Conv2D)        (None, 28, 28, 512)       2359808   \n",
            "_________________________________________________________________\n",
            "block4_conv3 (Conv2D)        (None, 28, 28, 512)       2359808   \n",
            "_________________________________________________________________\n",
            "block4_conv4 (Conv2D)        (None, 28, 28, 512)       2359808   \n",
            "_________________________________________________________________\n",
            "block4_pool (MaxPooling2D)   (None, 14, 14, 512)       0         \n",
            "_________________________________________________________________\n",
            "block5_conv1 (Conv2D)        (None, 14, 14, 512)       2359808   \n",
            "_________________________________________________________________\n",
            "block5_conv2 (Conv2D)        (None, 14, 14, 512)       2359808   \n",
            "_________________________________________________________________\n",
            "block5_conv3 (Conv2D)        (None, 14, 14, 512)       2359808   \n",
            "_________________________________________________________________\n",
            "block5_conv4 (Conv2D)        (None, 14, 14, 512)       2359808   \n",
            "_________________________________________________________________\n",
            "block5_pool (MaxPooling2D)   (None, 7, 7, 512)         0         \n",
            "_________________________________________________________________\n",
            "flatten (Flatten)            (None, 25088)             0         \n",
            "_________________________________________________________________\n",
            "fc1 (Dense)                  (None, 4096)              102764544 \n",
            "_________________________________________________________________\n",
            "fc2 (Dense)                  (None, 4096)              16781312  \n",
            "_________________________________________________________________\n",
            "predictions (Dense)          (None, 1000)              4097000   \n",
            "=================================================================\n",
            "Total params: 143,667,240\n",
            "Trainable params: 143,667,240\n",
            "Non-trainable params: 0\n",
            "_________________________________________________________________\n"
          ],
          "name": "stdout"
        }
      ]
    },
    {
      "cell_type": "code",
      "metadata": {
        "id": "GG60hKI68aWo",
        "colab_type": "code",
        "colab": {
          "base_uri": "https://localhost:8080/",
          "height": 442
        },
        "outputId": "2b9c64e0-4fcb-49b2-c10e-0f4b5818b031"
      },
      "source": [
        "for layers in (vggmodel.layers)[:-1]:\n",
        "    print(layers)\n",
        "    layers.trainable = False"
      ],
      "execution_count": 29,
      "outputs": [
        {
          "output_type": "stream",
          "text": [
            "<keras.engine.input_layer.InputLayer object at 0x7f0938d688d0>\n",
            "<keras.layers.convolutional.Conv2D object at 0x7f0938cf5d68>\n",
            "<keras.layers.convolutional.Conv2D object at 0x7f0938cf55c0>\n",
            "<keras.layers.pooling.MaxPooling2D object at 0x7f0938cf5e48>\n",
            "<keras.layers.convolutional.Conv2D object at 0x7f09306076d8>\n",
            "<keras.layers.convolutional.Conv2D object at 0x7f0938d6e8d0>\n",
            "<keras.layers.pooling.MaxPooling2D object at 0x7f0938c1d630>\n",
            "<keras.layers.convolutional.Conv2D object at 0x7f0938c1d470>\n",
            "<keras.layers.convolutional.Conv2D object at 0x7f0938c1df60>\n",
            "<keras.layers.convolutional.Conv2D object at 0x7f0938c21cf8>\n",
            "<keras.layers.convolutional.Conv2D object at 0x7f0938c28780>\n",
            "<keras.layers.pooling.MaxPooling2D object at 0x7f0938c28f60>\n",
            "<keras.layers.convolutional.Conv2D object at 0x7f0938c2d208>\n",
            "<keras.layers.convolutional.Conv2D object at 0x7f0938c2dd30>\n",
            "<keras.layers.convolutional.Conv2D object at 0x7f0938c328d0>\n",
            "<keras.layers.convolutional.Conv2D object at 0x7f0938bb8358>\n",
            "<keras.layers.pooling.MaxPooling2D object at 0x7f0938bb8da0>\n",
            "<keras.layers.convolutional.Conv2D object at 0x7f0938bb8be0>\n",
            "<keras.layers.convolutional.Conv2D object at 0x7f0938bc0e48>\n",
            "<keras.layers.convolutional.Conv2D object at 0x7f0938bc74a8>\n",
            "<keras.layers.convolutional.Conv2D object at 0x7f0938bc7ef0>\n",
            "<keras.layers.pooling.MaxPooling2D object at 0x7f0938bce978>\n",
            "<keras.layers.core.Flatten object at 0x7f0938bce7b8>\n",
            "<keras.layers.core.Dense object at 0x7f0938bcea20>\n",
            "<keras.layers.core.Dense object at 0x7f0938bdc240>\n"
          ],
          "name": "stdout"
        }
      ]
    },
    {
      "cell_type": "code",
      "metadata": {
        "id": "59taDHdJ8ikh",
        "colab_type": "code",
        "colab": {
          "base_uri": "https://localhost:8080/",
          "height": 71
        },
        "outputId": "17488140-797b-47a8-a0ab-484e4fc3fea6"
      },
      "source": [
        "\n",
        "from tensorflow.keras import regularizers\n",
        "X= vggmodel.layers[-2].output\n",
        "\n",
        "predictions = Dense(4, activation=\"softmax\",kernel_regularizer=regularizers.l1_l2(l1=0.001, l2=0.001),\n",
        "    bias_regularizer=regularizers.l2(0.001),\n",
        "    activity_regularizer=regularizers.l2(0.001))(X)\n",
        "model_final = Model(input = vggmodel.input, output = predictions)\n"
      ],
      "execution_count": 30,
      "outputs": [
        {
          "output_type": "stream",
          "text": [
            "/usr/local/lib/python3.6/dist-packages/ipykernel_launcher.py:8: UserWarning: Update your `Model` call to the Keras 2 API: `Model(inputs=Tensor(\"in..., outputs=Tensor(\"de...)`\n",
            "  \n"
          ],
          "name": "stderr"
        }
      ]
    },
    {
      "cell_type": "code",
      "metadata": {
        "id": "4ZRoo4eZIZMv",
        "colab_type": "code",
        "colab": {
          "base_uri": "https://localhost:8080/",
          "height": 459
        },
        "outputId": "f6a61c2c-8b0b-4ae3-a375-8043df9fc80a"
      },
      "source": [
        "for i in vggmodel.layers:\n",
        "  print(i.trainable)"
      ],
      "execution_count": 7,
      "outputs": [
        {
          "output_type": "stream",
          "text": [
            "False\n",
            "False\n",
            "False\n",
            "False\n",
            "False\n",
            "False\n",
            "False\n",
            "False\n",
            "False\n",
            "False\n",
            "False\n",
            "False\n",
            "False\n",
            "False\n",
            "False\n",
            "False\n",
            "False\n",
            "False\n",
            "False\n",
            "False\n",
            "False\n",
            "False\n",
            "False\n",
            "False\n",
            "True\n",
            "True\n"
          ],
          "name": "stdout"
        }
      ]
    },
    {
      "cell_type": "code",
      "metadata": {
        "id": "vFYbGbdq8vg8",
        "colab_type": "code",
        "colab": {}
      },
      "source": [
        "model_final.compile(loss = \"categorical_crossentropy\", optimizer = optimizers.Adam(lr=0.0001), metrics=[\"accuracy\"])"
      ],
      "execution_count": 31,
      "outputs": []
    },
    {
      "cell_type": "code",
      "metadata": {
        "id": "i6yUCcd08xum",
        "colab_type": "code",
        "colab": {
          "base_uri": "https://localhost:8080/",
          "height": 1000
        },
        "outputId": "eb7d1ec0-4f8e-49c7-918d-cb3e50575c03"
      },
      "source": [
        "model_final.summary()"
      ],
      "execution_count": 32,
      "outputs": [
        {
          "output_type": "stream",
          "text": [
            "Model: \"model_3\"\n",
            "_________________________________________________________________\n",
            "Layer (type)                 Output Shape              Param #   \n",
            "=================================================================\n",
            "input_2 (InputLayer)         (None, 224, 224, 3)       0         \n",
            "_________________________________________________________________\n",
            "block1_conv1 (Conv2D)        (None, 224, 224, 64)      1792      \n",
            "_________________________________________________________________\n",
            "block1_conv2 (Conv2D)        (None, 224, 224, 64)      36928     \n",
            "_________________________________________________________________\n",
            "block1_pool (MaxPooling2D)   (None, 112, 112, 64)      0         \n",
            "_________________________________________________________________\n",
            "block2_conv1 (Conv2D)        (None, 112, 112, 128)     73856     \n",
            "_________________________________________________________________\n",
            "block2_conv2 (Conv2D)        (None, 112, 112, 128)     147584    \n",
            "_________________________________________________________________\n",
            "block2_pool (MaxPooling2D)   (None, 56, 56, 128)       0         \n",
            "_________________________________________________________________\n",
            "block3_conv1 (Conv2D)        (None, 56, 56, 256)       295168    \n",
            "_________________________________________________________________\n",
            "block3_conv2 (Conv2D)        (None, 56, 56, 256)       590080    \n",
            "_________________________________________________________________\n",
            "block3_conv3 (Conv2D)        (None, 56, 56, 256)       590080    \n",
            "_________________________________________________________________\n",
            "block3_conv4 (Conv2D)        (None, 56, 56, 256)       590080    \n",
            "_________________________________________________________________\n",
            "block3_pool (MaxPooling2D)   (None, 28, 28, 256)       0         \n",
            "_________________________________________________________________\n",
            "block4_conv1 (Conv2D)        (None, 28, 28, 512)       1180160   \n",
            "_________________________________________________________________\n",
            "block4_conv2 (Conv2D)        (None, 28, 28, 512)       2359808   \n",
            "_________________________________________________________________\n",
            "block4_conv3 (Conv2D)        (None, 28, 28, 512)       2359808   \n",
            "_________________________________________________________________\n",
            "block4_conv4 (Conv2D)        (None, 28, 28, 512)       2359808   \n",
            "_________________________________________________________________\n",
            "block4_pool (MaxPooling2D)   (None, 14, 14, 512)       0         \n",
            "_________________________________________________________________\n",
            "block5_conv1 (Conv2D)        (None, 14, 14, 512)       2359808   \n",
            "_________________________________________________________________\n",
            "block5_conv2 (Conv2D)        (None, 14, 14, 512)       2359808   \n",
            "_________________________________________________________________\n",
            "block5_conv3 (Conv2D)        (None, 14, 14, 512)       2359808   \n",
            "_________________________________________________________________\n",
            "block5_conv4 (Conv2D)        (None, 14, 14, 512)       2359808   \n",
            "_________________________________________________________________\n",
            "block5_pool (MaxPooling2D)   (None, 7, 7, 512)         0         \n",
            "_________________________________________________________________\n",
            "flatten (Flatten)            (None, 25088)             0         \n",
            "_________________________________________________________________\n",
            "fc1 (Dense)                  (None, 4096)              102764544 \n",
            "_________________________________________________________________\n",
            "fc2 (Dense)                  (None, 4096)              16781312  \n",
            "_________________________________________________________________\n",
            "dense_3 (Dense)              (None, 4)                 16388     \n",
            "=================================================================\n",
            "Total params: 139,586,628\n",
            "Trainable params: 16,388\n",
            "Non-trainable params: 139,570,240\n",
            "_________________________________________________________________\n"
          ],
          "name": "stdout"
        }
      ]
    },
    {
      "cell_type": "code",
      "metadata": {
        "id": "UIV1Rie889QA",
        "colab_type": "code",
        "colab": {
          "base_uri": "https://localhost:8080/",
          "height": 1000
        },
        "outputId": "f7531dbb-07c0-4383-c2bb-1f08baf02f62"
      },
      "source": [
        "from keras.callbacks import ModelCheckpoint, EarlyStopping\n",
        "checkpoint = ModelCheckpoint(\"vgg19_1.h5\", monitor='val_accuracy', verbose=1, save_best_only=True, save_weights_only=False, mode='auto', period=1)\n",
        "early = EarlyStopping(monitor='val_acc', min_delta=0, patience=40, verbose=1, mode='auto')\n",
        "hist=model_final.fit(traindata, steps_per_epoch= 5, epochs= 100, validation_data= testdata, validation_steps=2, callbacks=[checkpoint,early])\n",
        "model_final.save_weights(\"vgg19_1.h5\")"
      ],
      "execution_count": 33,
      "outputs": [
        {
          "output_type": "stream",
          "text": [
            "Epoch 1/100\n",
            "5/5 [==============================] - 137s 27s/step - loss: 2.4383 - accuracy: 0.1500 - val_loss: 2.0076 - val_accuracy: 0.1562\n",
            "\n",
            "Epoch 00001: val_accuracy improved from -inf to 0.15625, saving model to vgg19_1.h5\n"
          ],
          "name": "stdout"
        },
        {
          "output_type": "stream",
          "text": [
            "/usr/local/lib/python3.6/dist-packages/keras/callbacks/callbacks.py:846: RuntimeWarning: Early stopping conditioned on metric `val_acc` which is not available. Available metrics are: val_loss,val_accuracy,loss,accuracy\n",
            "  (self.monitor, ','.join(list(logs.keys()))), RuntimeWarning\n"
          ],
          "name": "stderr"
        },
        {
          "output_type": "stream",
          "text": [
            "Epoch 2/100\n",
            "5/5 [==============================] - 119s 24s/step - loss: 2.2361 - accuracy: 0.2375 - val_loss: 1.4068 - val_accuracy: 0.1944\n",
            "\n",
            "Epoch 00002: val_accuracy improved from 0.15625 to 0.19444, saving model to vgg19_1.h5\n",
            "Epoch 3/100\n",
            "5/5 [==============================] - 136s 27s/step - loss: 1.9281 - accuracy: 0.2750 - val_loss: 1.8087 - val_accuracy: 0.3281\n",
            "\n",
            "Epoch 00003: val_accuracy improved from 0.19444 to 0.32812, saving model to vgg19_1.h5\n",
            "Epoch 4/100\n",
            "5/5 [==============================] - 119s 24s/step - loss: 1.7177 - accuracy: 0.3375 - val_loss: 1.5907 - val_accuracy: 0.3333\n",
            "\n",
            "Epoch 00004: val_accuracy improved from 0.32812 to 0.33333, saving model to vgg19_1.h5\n",
            "Epoch 5/100\n",
            "5/5 [==============================] - 136s 27s/step - loss: 1.5548 - accuracy: 0.3313 - val_loss: 1.5358 - val_accuracy: 0.5000\n",
            "\n",
            "Epoch 00005: val_accuracy improved from 0.33333 to 0.50000, saving model to vgg19_1.h5\n",
            "Epoch 6/100\n",
            "5/5 [==============================] - 119s 24s/step - loss: 1.4374 - accuracy: 0.5437 - val_loss: 1.5380 - val_accuracy: 0.5556\n",
            "\n",
            "Epoch 00006: val_accuracy improved from 0.50000 to 0.55556, saving model to vgg19_1.h5\n",
            "Epoch 7/100\n",
            "5/5 [==============================] - 136s 27s/step - loss: 1.3234 - accuracy: 0.6250 - val_loss: 1.4518 - val_accuracy: 0.5781\n",
            "\n",
            "Epoch 00007: val_accuracy improved from 0.55556 to 0.57812, saving model to vgg19_1.h5\n",
            "Epoch 8/100\n",
            "5/5 [==============================] - 119s 24s/step - loss: 1.2818 - accuracy: 0.6875 - val_loss: 1.4758 - val_accuracy: 0.6944\n",
            "\n",
            "Epoch 00008: val_accuracy improved from 0.57812 to 0.69444, saving model to vgg19_1.h5\n",
            "Epoch 9/100\n",
            "5/5 [==============================] - 136s 27s/step - loss: 1.1279 - accuracy: 0.7750 - val_loss: 1.1829 - val_accuracy: 0.7656\n",
            "\n",
            "Epoch 00009: val_accuracy improved from 0.69444 to 0.76562, saving model to vgg19_1.h5\n",
            "Epoch 10/100\n",
            "5/5 [==============================] - 119s 24s/step - loss: 1.2094 - accuracy: 0.6500 - val_loss: 1.1062 - val_accuracy: 0.6944\n",
            "\n",
            "Epoch 00010: val_accuracy did not improve from 0.76562\n",
            "Epoch 11/100\n",
            "5/5 [==============================] - 136s 27s/step - loss: 1.0670 - accuracy: 0.7500 - val_loss: 1.1279 - val_accuracy: 0.7344\n",
            "\n",
            "Epoch 00011: val_accuracy did not improve from 0.76562\n",
            "Epoch 12/100\n",
            "5/5 [==============================] - 119s 24s/step - loss: 1.0364 - accuracy: 0.7937 - val_loss: 0.9081 - val_accuracy: 0.7500\n",
            "\n",
            "Epoch 00012: val_accuracy did not improve from 0.76562\n",
            "Epoch 13/100\n",
            "5/5 [==============================] - 136s 27s/step - loss: 1.0635 - accuracy: 0.7500 - val_loss: 1.0038 - val_accuracy: 0.7969\n",
            "\n",
            "Epoch 00013: val_accuracy improved from 0.76562 to 0.79688, saving model to vgg19_1.h5\n",
            "Epoch 14/100\n",
            "5/5 [==============================] - 118s 24s/step - loss: 1.0284 - accuracy: 0.7250 - val_loss: 0.9794 - val_accuracy: 0.7222\n",
            "\n",
            "Epoch 00014: val_accuracy did not improve from 0.79688\n",
            "Epoch 15/100\n",
            "5/5 [==============================] - 137s 27s/step - loss: 0.9508 - accuracy: 0.8000 - val_loss: 1.1823 - val_accuracy: 0.7344\n",
            "\n",
            "Epoch 00015: val_accuracy did not improve from 0.79688\n",
            "Epoch 16/100\n",
            "5/5 [==============================] - 119s 24s/step - loss: 0.9704 - accuracy: 0.7875 - val_loss: 1.0675 - val_accuracy: 0.8333\n",
            "\n",
            "Epoch 00016: val_accuracy improved from 0.79688 to 0.83333, saving model to vgg19_1.h5\n",
            "Epoch 17/100\n",
            "5/5 [==============================] - 136s 27s/step - loss: 0.9104 - accuracy: 0.8313 - val_loss: 1.0183 - val_accuracy: 0.7031\n",
            "\n",
            "Epoch 00017: val_accuracy did not improve from 0.83333\n",
            "Epoch 18/100\n",
            "5/5 [==============================] - 119s 24s/step - loss: 0.9058 - accuracy: 0.7937 - val_loss: 0.9399 - val_accuracy: 0.8056\n",
            "\n",
            "Epoch 00018: val_accuracy did not improve from 0.83333\n",
            "Epoch 19/100\n",
            "5/5 [==============================] - 135s 27s/step - loss: 0.9432 - accuracy: 0.7937 - val_loss: 1.0394 - val_accuracy: 0.7812\n",
            "\n",
            "Epoch 00019: val_accuracy did not improve from 0.83333\n",
            "Epoch 20/100\n",
            "5/5 [==============================] - 119s 24s/step - loss: 0.8904 - accuracy: 0.8125 - val_loss: 1.2905 - val_accuracy: 0.7778\n",
            "\n",
            "Epoch 00020: val_accuracy did not improve from 0.83333\n",
            "Epoch 21/100\n",
            "5/5 [==============================] - 136s 27s/step - loss: 0.8251 - accuracy: 0.8375 - val_loss: 1.0227 - val_accuracy: 0.7656\n",
            "\n",
            "Epoch 00021: val_accuracy did not improve from 0.83333\n",
            "Epoch 22/100\n",
            "5/5 [==============================] - 118s 24s/step - loss: 0.8551 - accuracy: 0.8125 - val_loss: 0.8881 - val_accuracy: 0.7778\n",
            "\n",
            "Epoch 00022: val_accuracy did not improve from 0.83333\n",
            "Epoch 23/100\n",
            "5/5 [==============================] - 135s 27s/step - loss: 0.9062 - accuracy: 0.7500 - val_loss: 0.9646 - val_accuracy: 0.8281\n",
            "\n",
            "Epoch 00023: val_accuracy did not improve from 0.83333\n",
            "Epoch 24/100\n",
            "5/5 [==============================] - 118s 24s/step - loss: 0.8897 - accuracy: 0.7937 - val_loss: 0.8609 - val_accuracy: 0.6944\n",
            "\n",
            "Epoch 00024: val_accuracy did not improve from 0.83333\n",
            "Epoch 25/100\n",
            "5/5 [==============================] - 140s 28s/step - loss: 0.8302 - accuracy: 0.8062 - val_loss: 0.8488 - val_accuracy: 0.8125\n",
            "\n",
            "Epoch 00025: val_accuracy did not improve from 0.83333\n",
            "Epoch 26/100\n",
            "5/5 [==============================] - 119s 24s/step - loss: 0.8261 - accuracy: 0.8250 - val_loss: 0.4163 - val_accuracy: 0.6944\n",
            "\n",
            "Epoch 00026: val_accuracy did not improve from 0.83333\n",
            "Epoch 27/100\n",
            "5/5 [==============================] - 135s 27s/step - loss: 0.8147 - accuracy: 0.8125 - val_loss: 0.7541 - val_accuracy: 0.8125\n",
            "\n",
            "Epoch 00027: val_accuracy did not improve from 0.83333\n",
            "Epoch 28/100\n",
            "5/5 [==============================] - 119s 24s/step - loss: 0.8095 - accuracy: 0.8250 - val_loss: 1.7091 - val_accuracy: 0.7222\n",
            "\n",
            "Epoch 00028: val_accuracy did not improve from 0.83333\n",
            "Epoch 29/100\n",
            "5/5 [==============================] - 136s 27s/step - loss: 0.7934 - accuracy: 0.8250 - val_loss: 0.9268 - val_accuracy: 0.7500\n",
            "\n",
            "Epoch 00029: val_accuracy did not improve from 0.83333\n",
            "Epoch 30/100\n",
            "5/5 [==============================] - 120s 24s/step - loss: 0.8355 - accuracy: 0.7937 - val_loss: 0.5381 - val_accuracy: 0.8333\n",
            "\n",
            "Epoch 00030: val_accuracy did not improve from 0.83333\n",
            "Epoch 31/100\n",
            "5/5 [==============================] - 137s 27s/step - loss: 0.8129 - accuracy: 0.8250 - val_loss: 0.7260 - val_accuracy: 0.8125\n",
            "\n",
            "Epoch 00031: val_accuracy did not improve from 0.83333\n",
            "Epoch 32/100\n",
            "5/5 [==============================] - 120s 24s/step - loss: 0.7734 - accuracy: 0.8313 - val_loss: 0.7904 - val_accuracy: 0.7500\n",
            "\n",
            "Epoch 00032: val_accuracy did not improve from 0.83333\n",
            "Epoch 33/100\n",
            "5/5 [==============================] - 137s 27s/step - loss: 0.7463 - accuracy: 0.8250 - val_loss: 0.8909 - val_accuracy: 0.7969\n",
            "\n",
            "Epoch 00033: val_accuracy did not improve from 0.83333\n",
            "Epoch 34/100\n",
            "5/5 [==============================] - 120s 24s/step - loss: 0.7757 - accuracy: 0.8438 - val_loss: 0.7838 - val_accuracy: 0.8056\n",
            "\n",
            "Epoch 00034: val_accuracy did not improve from 0.83333\n",
            "Epoch 35/100\n",
            "5/5 [==============================] - 137s 27s/step - loss: 0.7921 - accuracy: 0.7812 - val_loss: 0.8044 - val_accuracy: 0.7500\n",
            "\n",
            "Epoch 00035: val_accuracy did not improve from 0.83333\n",
            "Epoch 36/100\n",
            "5/5 [==============================] - 120s 24s/step - loss: 0.7623 - accuracy: 0.8250 - val_loss: 0.7306 - val_accuracy: 0.8333\n",
            "\n",
            "Epoch 00036: val_accuracy did not improve from 0.83333\n",
            "Epoch 37/100\n",
            "5/5 [==============================] - 137s 27s/step - loss: 0.7943 - accuracy: 0.8500 - val_loss: 0.8883 - val_accuracy: 0.7656\n",
            "\n",
            "Epoch 00037: val_accuracy did not improve from 0.83333\n",
            "Epoch 38/100\n",
            "5/5 [==============================] - 120s 24s/step - loss: 0.6887 - accuracy: 0.8625 - val_loss: 0.4130 - val_accuracy: 0.8333\n",
            "\n",
            "Epoch 00038: val_accuracy did not improve from 0.83333\n",
            "Epoch 39/100\n",
            "5/5 [==============================] - 136s 27s/step - loss: 0.6743 - accuracy: 0.8750 - val_loss: 0.8590 - val_accuracy: 0.7500\n",
            "\n",
            "Epoch 00039: val_accuracy did not improve from 0.83333\n",
            "Epoch 40/100\n",
            "5/5 [==============================] - 119s 24s/step - loss: 0.8171 - accuracy: 0.7500 - val_loss: 0.7505 - val_accuracy: 0.8611\n",
            "\n",
            "Epoch 00040: val_accuracy improved from 0.83333 to 0.86111, saving model to vgg19_1.h5\n",
            "Epoch 41/100\n",
            "5/5 [==============================] - 136s 27s/step - loss: 0.7138 - accuracy: 0.8500 - val_loss: 0.6729 - val_accuracy: 0.7969\n",
            "\n",
            "Epoch 00041: val_accuracy did not improve from 0.86111\n",
            "Epoch 42/100\n",
            "5/5 [==============================] - 119s 24s/step - loss: 0.7135 - accuracy: 0.8250 - val_loss: 0.7513 - val_accuracy: 0.7500\n",
            "\n",
            "Epoch 00042: val_accuracy did not improve from 0.86111\n",
            "Epoch 43/100\n",
            "5/5 [==============================] - 136s 27s/step - loss: 0.7078 - accuracy: 0.8562 - val_loss: 0.8341 - val_accuracy: 0.7500\n",
            "\n",
            "Epoch 00043: val_accuracy did not improve from 0.86111\n",
            "Epoch 44/100\n",
            "5/5 [==============================] - 119s 24s/step - loss: 0.8076 - accuracy: 0.7875 - val_loss: 1.0010 - val_accuracy: 0.8611\n",
            "\n",
            "Epoch 00044: val_accuracy did not improve from 0.86111\n",
            "Epoch 45/100\n",
            "5/5 [==============================] - 137s 27s/step - loss: 0.6884 - accuracy: 0.8250 - val_loss: 0.7075 - val_accuracy: 0.8125\n",
            "\n",
            "Epoch 00045: val_accuracy did not improve from 0.86111\n",
            "Epoch 46/100\n",
            "5/5 [==============================] - 120s 24s/step - loss: 0.6456 - accuracy: 0.8625 - val_loss: 1.0273 - val_accuracy: 0.7500\n",
            "\n",
            "Epoch 00046: val_accuracy did not improve from 0.86111\n",
            "Epoch 47/100\n",
            "5/5 [==============================] - 137s 27s/step - loss: 0.7598 - accuracy: 0.7875 - val_loss: 0.7853 - val_accuracy: 0.8594\n",
            "\n",
            "Epoch 00047: val_accuracy did not improve from 0.86111\n",
            "Epoch 48/100\n",
            "5/5 [==============================] - 119s 24s/step - loss: 0.7546 - accuracy: 0.8250 - val_loss: 0.5048 - val_accuracy: 0.6944\n",
            "\n",
            "Epoch 00048: val_accuracy did not improve from 0.86111\n",
            "Epoch 49/100\n",
            "5/5 [==============================] - 136s 27s/step - loss: 0.6724 - accuracy: 0.8625 - val_loss: 0.7490 - val_accuracy: 0.7656\n",
            "\n",
            "Epoch 00049: val_accuracy did not improve from 0.86111\n",
            "Epoch 50/100\n",
            "5/5 [==============================] - 119s 24s/step - loss: 0.6648 - accuracy: 0.8438 - val_loss: 1.0652 - val_accuracy: 0.8611\n",
            "\n",
            "Epoch 00050: val_accuracy did not improve from 0.86111\n",
            "Epoch 51/100\n",
            "5/5 [==============================] - 136s 27s/step - loss: 0.6126 - accuracy: 0.8813 - val_loss: 0.7397 - val_accuracy: 0.8125\n",
            "\n",
            "Epoch 00051: val_accuracy did not improve from 0.86111\n",
            "Epoch 52/100\n",
            "5/5 [==============================] - 120s 24s/step - loss: 0.7232 - accuracy: 0.7937 - val_loss: 1.0923 - val_accuracy: 0.8056\n",
            "\n",
            "Epoch 00052: val_accuracy did not improve from 0.86111\n",
            "Epoch 53/100\n",
            "5/5 [==============================] - 136s 27s/step - loss: 0.7396 - accuracy: 0.8000 - val_loss: 0.7775 - val_accuracy: 0.7500\n",
            "\n",
            "Epoch 00053: val_accuracy did not improve from 0.86111\n",
            "Epoch 54/100\n",
            "5/5 [==============================] - 119s 24s/step - loss: 0.6709 - accuracy: 0.8375 - val_loss: 1.0090 - val_accuracy: 0.7778\n",
            "\n",
            "Epoch 00054: val_accuracy did not improve from 0.86111\n",
            "Epoch 55/100\n",
            "5/5 [==============================] - 136s 27s/step - loss: 0.6607 - accuracy: 0.8500 - val_loss: 0.5864 - val_accuracy: 0.8125\n",
            "\n",
            "Epoch 00055: val_accuracy did not improve from 0.86111\n",
            "Epoch 56/100\n",
            "5/5 [==============================] - 120s 24s/step - loss: 0.6254 - accuracy: 0.8813 - val_loss: 1.0986 - val_accuracy: 0.7778\n",
            "\n",
            "Epoch 00056: val_accuracy did not improve from 0.86111\n",
            "Epoch 57/100\n",
            "5/5 [==============================] - 137s 27s/step - loss: 0.6799 - accuracy: 0.8250 - val_loss: 0.5582 - val_accuracy: 0.8125\n",
            "\n",
            "Epoch 00057: val_accuracy did not improve from 0.86111\n",
            "Epoch 58/100\n",
            "5/5 [==============================] - 120s 24s/step - loss: 0.6965 - accuracy: 0.8000 - val_loss: 0.9214 - val_accuracy: 0.7778\n",
            "\n",
            "Epoch 00058: val_accuracy did not improve from 0.86111\n",
            "Epoch 59/100\n",
            "5/5 [==============================] - 136s 27s/step - loss: 0.6202 - accuracy: 0.8875 - val_loss: 0.7137 - val_accuracy: 0.8438\n",
            "\n",
            "Epoch 00059: val_accuracy did not improve from 0.86111\n",
            "Epoch 60/100\n",
            "5/5 [==============================] - 120s 24s/step - loss: 0.6746 - accuracy: 0.8313 - val_loss: 0.7832 - val_accuracy: 0.7500\n",
            "\n",
            "Epoch 00060: val_accuracy did not improve from 0.86111\n",
            "Epoch 61/100\n",
            "5/5 [==============================] - 137s 27s/step - loss: 0.6669 - accuracy: 0.8250 - val_loss: 0.6030 - val_accuracy: 0.8125\n",
            "\n",
            "Epoch 00061: val_accuracy did not improve from 0.86111\n",
            "Epoch 62/100\n",
            "5/5 [==============================] - 120s 24s/step - loss: 0.6353 - accuracy: 0.8500 - val_loss: 0.4194 - val_accuracy: 0.7500\n",
            "\n",
            "Epoch 00062: val_accuracy did not improve from 0.86111\n",
            "Epoch 63/100\n",
            "5/5 [==============================] - 137s 27s/step - loss: 0.6621 - accuracy: 0.8375 - val_loss: 0.6568 - val_accuracy: 0.7969\n",
            "\n",
            "Epoch 00063: val_accuracy did not improve from 0.86111\n",
            "Epoch 64/100\n",
            "5/5 [==============================] - 120s 24s/step - loss: 0.6245 - accuracy: 0.8562 - val_loss: 0.3611 - val_accuracy: 0.8056\n",
            "\n",
            "Epoch 00064: val_accuracy did not improve from 0.86111\n",
            "Epoch 65/100\n",
            "5/5 [==============================] - 137s 27s/step - loss: 0.6470 - accuracy: 0.8125 - val_loss: 0.6656 - val_accuracy: 0.7969\n",
            "\n",
            "Epoch 00065: val_accuracy did not improve from 0.86111\n",
            "Epoch 66/100\n",
            "5/5 [==============================] - 120s 24s/step - loss: 0.6210 - accuracy: 0.8813 - val_loss: 0.4653 - val_accuracy: 0.8056\n",
            "\n",
            "Epoch 00066: val_accuracy did not improve from 0.86111\n",
            "Epoch 67/100\n",
            "5/5 [==============================] - 136s 27s/step - loss: 0.7176 - accuracy: 0.7875 - val_loss: 0.7588 - val_accuracy: 0.8438\n",
            "\n",
            "Epoch 00067: val_accuracy did not improve from 0.86111\n",
            "Epoch 68/100\n",
            "5/5 [==============================] - 119s 24s/step - loss: 0.6151 - accuracy: 0.8562 - val_loss: 0.5953 - val_accuracy: 0.8333\n",
            "\n",
            "Epoch 00068: val_accuracy did not improve from 0.86111\n",
            "Epoch 69/100\n",
            "5/5 [==============================] - 136s 27s/step - loss: 0.6118 - accuracy: 0.8625 - val_loss: 0.7441 - val_accuracy: 0.7812\n",
            "\n",
            "Epoch 00069: val_accuracy did not improve from 0.86111\n",
            "Epoch 70/100\n",
            "5/5 [==============================] - 119s 24s/step - loss: 0.6291 - accuracy: 0.8250 - val_loss: 0.4567 - val_accuracy: 0.8611\n",
            "\n",
            "Epoch 00070: val_accuracy did not improve from 0.86111\n",
            "Epoch 71/100\n",
            "5/5 [==============================] - 136s 27s/step - loss: 0.6341 - accuracy: 0.8625 - val_loss: 0.6593 - val_accuracy: 0.8438\n",
            "\n",
            "Epoch 00071: val_accuracy did not improve from 0.86111\n",
            "Epoch 72/100\n",
            "5/5 [==============================] - 119s 24s/step - loss: 0.5953 - accuracy: 0.8500 - val_loss: 0.6849 - val_accuracy: 0.6944\n",
            "\n",
            "Epoch 00072: val_accuracy did not improve from 0.86111\n",
            "Epoch 73/100\n",
            "5/5 [==============================] - 136s 27s/step - loss: 0.6283 - accuracy: 0.8375 - val_loss: 0.6531 - val_accuracy: 0.7969\n",
            "\n",
            "Epoch 00073: val_accuracy did not improve from 0.86111\n",
            "Epoch 74/100\n",
            "5/5 [==============================] - 122s 24s/step - loss: 0.6254 - accuracy: 0.8313 - val_loss: 0.5230 - val_accuracy: 0.7778\n",
            "\n",
            "Epoch 00074: val_accuracy did not improve from 0.86111\n",
            "Epoch 75/100\n",
            "5/5 [==============================] - 137s 27s/step - loss: 0.6123 - accuracy: 0.8313 - val_loss: 0.5899 - val_accuracy: 0.8125\n",
            "\n",
            "Epoch 00075: val_accuracy did not improve from 0.86111\n",
            "Epoch 76/100\n",
            "5/5 [==============================] - 120s 24s/step - loss: 0.6132 - accuracy: 0.8500 - val_loss: 0.9788 - val_accuracy: 0.7500\n",
            "\n",
            "Epoch 00076: val_accuracy did not improve from 0.86111\n",
            "Epoch 77/100\n",
            "5/5 [==============================] - 137s 27s/step - loss: 0.6057 - accuracy: 0.8750 - val_loss: 0.6775 - val_accuracy: 0.7656\n",
            "\n",
            "Epoch 00077: val_accuracy did not improve from 0.86111\n",
            "Epoch 78/100\n",
            "5/5 [==============================] - 120s 24s/step - loss: 0.6307 - accuracy: 0.8188 - val_loss: 0.6090 - val_accuracy: 0.8333\n",
            "\n",
            "Epoch 00078: val_accuracy did not improve from 0.86111\n",
            "Epoch 79/100\n",
            "5/5 [==============================] - 136s 27s/step - loss: 0.6033 - accuracy: 0.8625 - val_loss: 0.7476 - val_accuracy: 0.8125\n",
            "\n",
            "Epoch 00079: val_accuracy did not improve from 0.86111\n",
            "Epoch 80/100\n",
            "5/5 [==============================] - 120s 24s/step - loss: 0.5891 - accuracy: 0.8375 - val_loss: 0.4835 - val_accuracy: 0.7778\n",
            "\n",
            "Epoch 00080: val_accuracy did not improve from 0.86111\n",
            "Epoch 81/100\n",
            "5/5 [==============================] - 135s 27s/step - loss: 0.5584 - accuracy: 0.8313 - val_loss: 0.6664 - val_accuracy: 0.7812\n",
            "\n",
            "Epoch 00081: val_accuracy did not improve from 0.86111\n",
            "Epoch 82/100\n",
            "5/5 [==============================] - 119s 24s/step - loss: 0.5540 - accuracy: 0.8813 - val_loss: 0.5979 - val_accuracy: 0.8333\n",
            "\n",
            "Epoch 00082: val_accuracy did not improve from 0.86111\n",
            "Epoch 83/100\n",
            "5/5 [==============================] - 135s 27s/step - loss: 0.6132 - accuracy: 0.8375 - val_loss: 0.7969 - val_accuracy: 0.7812\n",
            "\n",
            "Epoch 00083: val_accuracy did not improve from 0.86111\n",
            "Epoch 84/100\n",
            "5/5 [==============================] - 118s 24s/step - loss: 0.6621 - accuracy: 0.8375 - val_loss: 0.3981 - val_accuracy: 0.8611\n",
            "\n",
            "Epoch 00084: val_accuracy did not improve from 0.86111\n",
            "Epoch 85/100\n",
            "5/5 [==============================] - 136s 27s/step - loss: 0.5975 - accuracy: 0.8625 - val_loss: 0.6391 - val_accuracy: 0.7969\n",
            "\n",
            "Epoch 00085: val_accuracy did not improve from 0.86111\n",
            "Epoch 86/100\n",
            "5/5 [==============================] - 119s 24s/step - loss: 0.6176 - accuracy: 0.8188 - val_loss: 0.6035 - val_accuracy: 0.8333\n",
            "\n",
            "Epoch 00086: val_accuracy did not improve from 0.86111\n",
            "Epoch 87/100\n",
            "5/5 [==============================] - 137s 27s/step - loss: 0.5954 - accuracy: 0.8625 - val_loss: 0.5739 - val_accuracy: 0.7969\n",
            "\n",
            "Epoch 00087: val_accuracy did not improve from 0.86111\n",
            "Epoch 88/100\n",
            "5/5 [==============================] - 120s 24s/step - loss: 0.6130 - accuracy: 0.8188 - val_loss: 0.4260 - val_accuracy: 0.7778\n",
            "\n",
            "Epoch 00088: val_accuracy did not improve from 0.86111\n",
            "Epoch 89/100\n",
            "5/5 [==============================] - 136s 27s/step - loss: 0.5306 - accuracy: 0.8938 - val_loss: 0.5111 - val_accuracy: 0.8281\n",
            "\n",
            "Epoch 00089: val_accuracy did not improve from 0.86111\n",
            "Epoch 90/100\n",
            "5/5 [==============================] - 119s 24s/step - loss: 0.6122 - accuracy: 0.8500 - val_loss: 0.7776 - val_accuracy: 0.7778\n",
            "\n",
            "Epoch 00090: val_accuracy did not improve from 0.86111\n",
            "Epoch 91/100\n",
            "5/5 [==============================] - 137s 27s/step - loss: 0.5408 - accuracy: 0.8687 - val_loss: 0.7243 - val_accuracy: 0.8125\n",
            "\n",
            "Epoch 00091: val_accuracy did not improve from 0.86111\n",
            "Epoch 92/100\n",
            "5/5 [==============================] - 120s 24s/step - loss: 0.5911 - accuracy: 0.8687 - val_loss: 0.3193 - val_accuracy: 0.8056\n",
            "\n",
            "Epoch 00092: val_accuracy did not improve from 0.86111\n",
            "Epoch 93/100\n",
            "5/5 [==============================] - 137s 27s/step - loss: 0.5971 - accuracy: 0.8438 - val_loss: 0.5948 - val_accuracy: 0.8281\n",
            "\n",
            "Epoch 00093: val_accuracy did not improve from 0.86111\n",
            "Epoch 94/100\n",
            "5/5 [==============================] - 119s 24s/step - loss: 0.6140 - accuracy: 0.8375 - val_loss: 0.6685 - val_accuracy: 0.7778\n",
            "\n",
            "Epoch 00094: val_accuracy did not improve from 0.86111\n",
            "Epoch 95/100\n",
            "5/5 [==============================] - 136s 27s/step - loss: 0.5764 - accuracy: 0.8625 - val_loss: 0.7784 - val_accuracy: 0.7344\n",
            "\n",
            "Epoch 00095: val_accuracy did not improve from 0.86111\n",
            "Epoch 96/100\n",
            "5/5 [==============================] - 119s 24s/step - loss: 0.5890 - accuracy: 0.8188 - val_loss: 0.6845 - val_accuracy: 0.8611\n",
            "\n",
            "Epoch 00096: val_accuracy did not improve from 0.86111\n",
            "Epoch 97/100\n",
            "5/5 [==============================] - 136s 27s/step - loss: 0.6288 - accuracy: 0.8375 - val_loss: 0.6875 - val_accuracy: 0.7969\n",
            "\n",
            "Epoch 00097: val_accuracy did not improve from 0.86111\n",
            "Epoch 98/100\n",
            "5/5 [==============================] - 120s 24s/step - loss: 0.5461 - accuracy: 0.8500 - val_loss: 0.3553 - val_accuracy: 0.8611\n",
            "\n",
            "Epoch 00098: val_accuracy did not improve from 0.86111\n",
            "Epoch 99/100\n",
            "5/5 [==============================] - 136s 27s/step - loss: 0.5681 - accuracy: 0.8813 - val_loss: 0.6012 - val_accuracy: 0.8594\n",
            "\n",
            "Epoch 00099: val_accuracy did not improve from 0.86111\n",
            "Epoch 100/100\n",
            "5/5 [==============================] - 119s 24s/step - loss: 0.5389 - accuracy: 0.8625 - val_loss: 0.5854 - val_accuracy: 0.7500\n",
            "\n",
            "Epoch 00100: val_accuracy did not improve from 0.86111\n"
          ],
          "name": "stdout"
        }
      ]
    },
    {
      "cell_type": "markdown",
      "metadata": {
        "id": "ED7u_hcD3h4c",
        "colab_type": "text"
      },
      "source": [
        ""
      ]
    },
    {
      "cell_type": "code",
      "metadata": {
        "id": "YtQxWrIlPU_M",
        "colab_type": "code",
        "colab": {
          "base_uri": "https://localhost:8080/",
          "height": 295
        },
        "outputId": "fa47e83a-1e8d-4be9-a7d6-9b82bf732330"
      },
      "source": [
        "import matplotlib.pyplot as plt\n",
        "plt.plot(hist.history[\"accuracy\"])\n",
        "plt.plot(hist.history['val_accuracy'])\n",
        "\n",
        "plt.title(\"model accuracy\")\n",
        "plt.ylabel(\"Accuracy\")\n",
        "plt.xlabel(\"Epoch\")\n",
        "plt.legend([\"Accuracy\",\"Validation Accuracy\"])\n",
        "plt.show()"
      ],
      "execution_count": 34,
      "outputs": [
        {
          "output_type": "display_data",
          "data": {
            "image/png": "[encoded data removed]",
            "text/plain": [
              "<Figure size 432x288 with 1 Axes>"
            ]
          },
          "metadata": {
            "tags": [],
            "needs_background": "light"
          }
        }
      ]
    },
    {
      "cell_type": "code",
      "metadata": {
        "id": "EsjZHi9jaU4Y",
        "colab_type": "code",
        "colab": {
          "base_uri": "https://localhost:8080/",
          "height": 279
        },
        "outputId": "9e0ee37c-0d36-4e21-fdbb-1bbed809c1a9"
      },
      "source": [
        "plt.plot(hist.history['loss'])\n",
        "plt.plot(hist.history['val_loss'])\n",
        "plt.ylabel(\"Loss\")\n",
        "plt.xlabel(\"Epoch\")\n",
        "plt.legend([\"loss\",\"Validation Loss\"])\n",
        "plt.show()"
      ],
      "execution_count": 35,
      "outputs": [
        {
          "output_type": "display_data",
          "data": {
            "image/png": "[encoded data removed]",
            "text/plain": [
              "<Figure size 432x288 with 1 Axes>"
            ]
          },
          "metadata": {
            "tags": [],
            "needs_background": "light"
          }
        }
      ]
    },
    {
      "cell_type": "code",
      "metadata": {
        "id": "_2GdDycwS52M",
        "colab_type": "code",
        "colab": {}
      },
      "source": [
        "from keras.preprocessing.image import ImageDataGenerator\n",
        "from sklearn.metrics import classification_report, confusion_matrix\n",
        "\n",
        "test_datagen = ImageDataGenerator()"
      ],
      "execution_count": 36,
      "outputs": []
    },
    {
      "cell_type": "code",
      "metadata": {
        "id": "9-fknWZIS-CT",
        "colab_type": "code",
        "colab": {
          "base_uri": "https://localhost:8080/",
          "height": 34
        },
        "outputId": "6df25e41-9adf-46ef-be40-8b8eeb7ad668"
      },
      "source": [
        "validation_generator = test_datagen.flow_from_directory('/content/drive/My Drive/data_ouput/test',\n",
        "                                                        target_size=(224, 224),\n",
        "                                                        batch_size=32,\n",
        "                                                        class_mode='categorical')"
      ],
      "execution_count": 37,
      "outputs": [
        {
          "output_type": "stream",
          "text": [
            "Found 100 images belonging to 4 classes.\n"
          ],
          "name": "stdout"
        }
      ]
    },
    {
      "cell_type": "code",
      "metadata": {
        "id": "RSoXpGKcTEnR",
        "colab_type": "code",
        "colab": {
          "base_uri": "https://localhost:8080/",
          "height": 306
        },
        "outputId": "548b5528-3587-41e2-f454-3af0807cf3d7"
      },
      "source": [
        "import numpy as np\n",
        "#Confution Matrix and Classification Report\n",
        "Y_pred = model_final.predict_generator(validation_generator)\n",
        "y_pred = np.argmax(Y_pred, axis=1)\n",
        "print('Confusion Matrix')\n",
        "print(confusion_matrix(validation_generator.classes, y_pred))\n",
        "print('Classification Report')\n",
        "target_names = ['grade0', 'grade1', 'grade2','grade3']\n",
        "print(classification_report(validation_generator.classes, y_pred, target_names=target_names))"
      ],
      "execution_count": 38,
      "outputs": [
        {
          "output_type": "stream",
          "text": [
            "Confusion Matrix\n",
            "[[10  6  5  4]\n",
            " [ 3  9  7  6]\n",
            " [ 5  5 10  5]\n",
            " [ 4  7  4 10]]\n",
            "Classification Report\n",
            "              precision    recall  f1-score   support\n",
            "\n",
            "      grade0       0.45      0.40      0.43        25\n",
            "      grade1       0.33      0.36      0.35        25\n",
            "      grade2       0.38      0.40      0.39        25\n",
            "      grade3       0.40      0.40      0.40        25\n",
            "\n",
            "    accuracy                           0.39       100\n",
            "   macro avg       0.39      0.39      0.39       100\n",
            "weighted avg       0.39      0.39      0.39       100\n",
            "\n"
          ],
          "name": "stdout"
        }
      ]
    },
    {
      "cell_type": "code",
      "metadata": {
        "id": "B-E18MG6VMMN",
        "colab_type": "code",
        "colab": {
          "base_uri": "https://localhost:8080/",
          "height": 269
        },
        "outputId": "d5a889be-8d01-4eb9-cabe-b27caf6a8997"
      },
      "source": [
        "from keras.preprocessing import image\n",
        "import matplotlib.pyplot as plt\n",
        "\n",
        "img = image.load_img(\"/content/drive/My Drive/data_ouput/test/grade1/grade1-079.jpg\",target_size=(224,224))\n",
        "img = np.asarray(img)\n",
        "plt.imshow(img)\n",
        "img = np.expand_dims(img, axis=0)"
      ],
      "execution_count": 39,
      "outputs": [
        {
          "output_type": "display_data",
          "data": {
            "image/png": "[encoded data removed]",
            "text/plain": [
              "<Figure size 432x288 with 1 Axes>"
            ]
          },
          "metadata": {
            "tags": [],
            "needs_background": "light"
          }
        }
      ]
    },
    {
      "cell_type": "code",
      "metadata": {
        "id": "Ux21nwVeV0mE",
        "colab_type": "code",
        "colab": {}
      },
      "source": [
        "output = model_final.predict(img)"
      ],
      "execution_count": 40,
      "outputs": []
    },
    {
      "cell_type": "code",
      "metadata": {
        "id": "crw2NNGyV7kN",
        "colab_type": "code",
        "colab": {
          "base_uri": "https://localhost:8080/",
          "height": 34
        },
        "outputId": "c760292a-bd47-4877-9b3f-693cb14ae357"
      },
      "source": [
        "output\n",
        "ans='grade'+str(np.argmax(output[0],axis=0))\n",
        "print(ans)"
      ],
      "execution_count": 41,
      "outputs": [
        {
          "output_type": "stream",
          "text": [
            "grade1\n"
          ],
          "name": "stdout"
        }
      ]
    },
    {
      "cell_type": "code",
      "metadata": {
        "id": "YbH-5BZmX-K4",
        "colab_type": "code",
        "colab": {
          "base_uri": "https://localhost:8080/",
          "height": 153
        },
        "outputId": "e16a0ce1-9fa3-4028-bf76-8d63d9dae2e8"
      },
      "source": [
        "import os\n",
        "data_path='/content/drive/My Drive/data_ouput/test'\n",
        "data_dir_list=os.listdir(data_path)\n",
        "for dataset in data_dir_list:\n",
        "  print(dataset)\n",
        "  img_list=os.listdir(data_path+'/'+dataset)\n",
        "  correctCount=0\n",
        "  wrongCount=0\n",
        "  for img in img_list:\n",
        "    img_path=data_path+'/'+dataset+'/'+img\n",
        "    input_image = image.load_img(img_path,target_size=(224,224))\n",
        "    input_image = np.asarray(input_image)\n",
        "    input_image = np.expand_dims(input_image, axis=0)\n",
        "    output = model_final.predict(input_image)\n",
        "    ans='grade'+str(np.argmax(output[0],axis=0))\n",
        "    if( ans in img):\n",
        "      correctCount+=1\n",
        "    else:\n",
        "      wrongCount+=1\n",
        "  print(\"correct Count {} WrongCount {}\".format(correctCount,wrongCount))\n",
        "\n",
        "\n"
      ],
      "execution_count": 42,
      "outputs": [
        {
          "output_type": "stream",
          "text": [
            "grade1\n",
            "correct Count 20 WrongCount 5\n",
            "grade0\n",
            "correct Count 21 WrongCount 4\n",
            "grade2\n",
            "correct Count 23 WrongCount 2\n",
            "grade3\n",
            "correct Count 19 WrongCount 6\n"
          ],
          "name": "stdout"
        }
      ]
    },
    {
      "cell_type": "code",
      "metadata": {
        "id": "Ml4QAr_Avw2T",
        "colab_type": "code",
        "colab": {
          "base_uri": "https://localhost:8080/",
          "height": 51
        },
        "outputId": "947fd3c0-7a4e-4371-ea6c-9faf6d0f8f10"
      },
      "source": [
        "tr_loss,tr_acc=model_final.evaluate(validation_generator)\n",
        "tr_acc"
      ],
      "execution_count": 43,
      "outputs": [
        {
          "output_type": "stream",
          "text": [
            "4/4 [==============================] - 61s 15s/step\n"
          ],
          "name": "stdout"
        },
        {
          "output_type": "execute_result",
          "data": {
            "text/plain": [
              "0.8299999833106995"
            ]
          },
          "metadata": {
            "tags": []
          },
          "execution_count": 43
        }
      ]
    },
    {
      "cell_type": "code",
      "metadata": {
        "id": "uQ_U_O6XcOQY",
        "colab_type": "code",
        "colab": {}
      },
      "source": [
        ""
      ],
      "execution_count": null,
      "outputs": []
    },
    {
      "cell_type": "code",
      "metadata": {
        "id": "R6Fx71JwgONy",
        "colab_type": "code",
        "colab": {}
      },
      "source": [
        ""
      ],
      "execution_count": null,
      "outputs": []
    },
    {
      "cell_type": "code",
      "metadata": {
        "id": "PiiV053i4At7",
        "colab_type": "code",
        "colab": {}
      },
      "source": [
        "model_final.save('/content/drive/My Drive/Best models/modelbest.h5')"
      ],
      "execution_count": null,
      "outputs": []
    }
  ]
}