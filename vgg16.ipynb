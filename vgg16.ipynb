{
  "nbformat": 4,
  "nbformat_minor": 0,
  "metadata": {
    "colab": {
      "name": "vgg16",
      "provenance": [],
      "mount_file_id": "1IhyoGy7EHEgj120Y7aEt15WFbYJP6aXH",
      "authorship_tag": "ABX9TyMxWm+4mlsjENSlCTtq7JVO",
      "include_colab_link": true
    },
    "kernelspec": {
      "name": "python3",
      "display_name": "Python 3"
    }
  },
  "cells": [
    {
      "cell_type": "markdown",
      "metadata": {
        "id": "view-in-github",
        "colab_type": "text"
      },
      "source": [
        "<a href=\"https://colab.research.google.com/github/pranitha2144/Internship-iith/blob/Resnet/vgg16.ipynb\" target=\"_parent\"><img src=\"https://colab.research.google.com/assets/colab-badge.svg\" alt=\"Open In Colab\"/></a>"
      ]
    },
    {
      "cell_type": "code",
      "metadata": {
        "id": "3i-5qcxM7pSC",
        "colab_type": "code",
        "colab": {
          "base_uri": "https://localhost:8080/",
          "height": 34
        },
        "outputId": "bcddcd9d-0d1d-4402-f3f5-a254f920de42"
      },
      "source": [
        "import keras\n",
        "from keras.models import Model\n",
        "from keras.layers import Dense,Dropout\n",
        "from keras import optimizers\n",
        "from keras.preprocessing.image import ImageDataGenerator\n",
        "from keras.preprocessing import image"
      ],
      "execution_count": 1,
      "outputs": [
        {
          "output_type": "stream",
          "text": [
            "Using TensorFlow backend.\n"
          ],
          "name": "stderr"
        }
      ]
    },
    {
      "cell_type": "code",
      "metadata": {
        "id": "P_NCAugx70fs",
        "colab_type": "code",
        "colab": {
          "base_uri": "https://localhost:8080/",
          "height": 51
        },
        "outputId": "8d23950e-323e-4ad4-c599-80e0f8464c06"
      },
      "source": [
        "trdata = ImageDataGenerator()\n",
        "traindata = trdata.flow_from_directory(directory=\"/content/drive/My Drive/data_ouput/train\",target_size=(224,224))\n",
        "tsdata = ImageDataGenerator()\n",
        "testdata = tsdata.flow_from_directory(directory=\"/content/drive/My Drive/data_ouput/val\", target_size=(224,224))"
      ],
      "execution_count": 2,
      "outputs": [
        {
          "output_type": "stream",
          "text": [
            "Found 800 images belonging to 4 classes.\n",
            "Found 100 images belonging to 4 classes.\n"
          ],
          "name": "stdout"
        }
      ]
    },
    {
      "cell_type": "code",
      "metadata": {
        "id": "rg_JdtWb8O00",
        "colab_type": "code",
        "colab": {
          "base_uri": "https://localhost:8080/",
          "height": 51
        },
        "outputId": "cb4eb51f-c605-4c65-c4c6-7637b19b4e49"
      },
      "source": [
        "from keras.applications.vgg16 import VGG16\n",
        "vggmodel = VGG16(weights='imagenet', include_top=True)"
      ],
      "execution_count": 3,
      "outputs": [
        {
          "output_type": "stream",
          "text": [
            "Downloading data from https://github.com/fchollet/deep-learning-models/releases/download/v0.1/vgg16_weights_tf_dim_ordering_tf_kernels.h5\n",
            "553467904/553467096 [==============================] - 17s 0us/step\n"
          ],
          "name": "stdout"
        }
      ]
    },
    {
      "cell_type": "code",
      "metadata": {
        "id": "PKuEFjHt8TfJ",
        "colab_type": "code",
        "colab": {
          "base_uri": "https://localhost:8080/",
          "height": 935
        },
        "outputId": "f8314319-941f-45c8-c69a-31f2daf2aa2c"
      },
      "source": [
        "vggmodel.summary()"
      ],
      "execution_count": 4,
      "outputs": [
        {
          "output_type": "stream",
          "text": [
            "Model: \"vgg16\"\n",
            "_________________________________________________________________\n",
            "Layer (type)                 Output Shape              Param #   \n",
            "=================================================================\n",
            "input_1 (InputLayer)         (None, 224, 224, 3)       0         \n",
            "_________________________________________________________________\n",
            "block1_conv1 (Conv2D)        (None, 224, 224, 64)      1792      \n",
            "_________________________________________________________________\n",
            "block1_conv2 (Conv2D)        (None, 224, 224, 64)      36928     \n",
            "_________________________________________________________________\n",
            "block1_pool (MaxPooling2D)   (None, 112, 112, 64)      0         \n",
            "_________________________________________________________________\n",
            "block2_conv1 (Conv2D)        (None, 112, 112, 128)     73856     \n",
            "_________________________________________________________________\n",
            "block2_conv2 (Conv2D)        (None, 112, 112, 128)     147584    \n",
            "_________________________________________________________________\n",
            "block2_pool (MaxPooling2D)   (None, 56, 56, 128)       0         \n",
            "_________________________________________________________________\n",
            "block3_conv1 (Conv2D)        (None, 56, 56, 256)       295168    \n",
            "_________________________________________________________________\n",
            "block3_conv2 (Conv2D)        (None, 56, 56, 256)       590080    \n",
            "_________________________________________________________________\n",
            "block3_conv3 (Conv2D)        (None, 56, 56, 256)       590080    \n",
            "_________________________________________________________________\n",
            "block3_pool (MaxPooling2D)   (None, 28, 28, 256)       0         \n",
            "_________________________________________________________________\n",
            "block4_conv1 (Conv2D)        (None, 28, 28, 512)       1180160   \n",
            "_________________________________________________________________\n",
            "block4_conv2 (Conv2D)        (None, 28, 28, 512)       2359808   \n",
            "_________________________________________________________________\n",
            "block4_conv3 (Conv2D)        (None, 28, 28, 512)       2359808   \n",
            "_________________________________________________________________\n",
            "block4_pool (MaxPooling2D)   (None, 14, 14, 512)       0         \n",
            "_________________________________________________________________\n",
            "block5_conv1 (Conv2D)        (None, 14, 14, 512)       2359808   \n",
            "_________________________________________________________________\n",
            "block5_conv2 (Conv2D)        (None, 14, 14, 512)       2359808   \n",
            "_________________________________________________________________\n",
            "block5_conv3 (Conv2D)        (None, 14, 14, 512)       2359808   \n",
            "_________________________________________________________________\n",
            "block5_pool (MaxPooling2D)   (None, 7, 7, 512)         0         \n",
            "_________________________________________________________________\n",
            "flatten (Flatten)            (None, 25088)             0         \n",
            "_________________________________________________________________\n",
            "fc1 (Dense)                  (None, 4096)              102764544 \n",
            "_________________________________________________________________\n",
            "fc2 (Dense)                  (None, 4096)              16781312  \n",
            "_________________________________________________________________\n",
            "predictions (Dense)          (None, 1000)              4097000   \n",
            "=================================================================\n",
            "Total params: 138,357,544\n",
            "Trainable params: 138,357,544\n",
            "Non-trainable params: 0\n",
            "_________________________________________________________________\n"
          ],
          "name": "stdout"
        }
      ]
    },
    {
      "cell_type": "code",
      "metadata": {
        "id": "GG60hKI68aWo",
        "colab_type": "code",
        "colab": {
          "base_uri": "https://localhost:8080/",
          "height": 340
        },
        "outputId": "6669bd40-fa00-4c3b-ab0f-77e3acf9c352"
      },
      "source": [
        "for layers in (vggmodel.layers)[:19]:\n",
        "    print(layers)\n",
        "    layers.trainable = False"
      ],
      "execution_count": 5,
      "outputs": [
        {
          "output_type": "stream",
          "text": [
            "<keras.engine.input_layer.InputLayer object at 0x7f993ca1dcc0>\n",
            "<keras.layers.convolutional.Conv2D object at 0x7f993ca1d710>\n",
            "<keras.layers.convolutional.Conv2D object at 0x7f993ca1dcf8>\n",
            "<keras.layers.pooling.MaxPooling2D object at 0x7f997f59a080>\n",
            "<keras.layers.convolutional.Conv2D object at 0x7f997f59acc0>\n",
            "<keras.layers.convolutional.Conv2D object at 0x7f993ba02710>\n",
            "<keras.layers.pooling.MaxPooling2D object at 0x7f993b9c92e8>\n",
            "<keras.layers.convolutional.Conv2D object at 0x7f993b9c9128>\n",
            "<keras.layers.convolutional.Conv2D object at 0x7f993b9c9e48>\n",
            "<keras.layers.convolutional.Conv2D object at 0x7f993b9d0a20>\n",
            "<keras.layers.pooling.MaxPooling2D object at 0x7f993b1554e0>\n",
            "<keras.layers.convolutional.Conv2D object at 0x7f993b1552e8>\n",
            "<keras.layers.convolutional.Conv2D object at 0x7f993b155f60>\n",
            "<keras.layers.convolutional.Conv2D object at 0x7f993b15dc18>\n",
            "<keras.layers.pooling.MaxPooling2D object at 0x7f993b1636d8>\n",
            "<keras.layers.convolutional.Conv2D object at 0x7f993b1634e0>\n",
            "<keras.layers.convolutional.Conv2D object at 0x7f993b169a58>\n",
            "<keras.layers.convolutional.Conv2D object at 0x7f993b169e10>\n",
            "<keras.layers.pooling.MaxPooling2D object at 0x7f993b9cc8d0>\n"
          ],
          "name": "stdout"
        }
      ]
    },
    {
      "cell_type": "code",
      "metadata": {
        "id": "59taDHdJ8ikh",
        "colab_type": "code",
        "colab": {
          "base_uri": "https://localhost:8080/",
          "height": 71
        },
        "outputId": "c8ef7b0a-9448-4754-bf06-1233793674f0"
      },
      "source": [
        "X= vggmodel.layers[-2].output\n",
        "\n",
        "predictions = Dense(4, activation=\"softmax\")(X)\n",
        "model_final = Model(input = vggmodel.input, output = predictions)\n"
      ],
      "execution_count": 6,
      "outputs": [
        {
          "output_type": "stream",
          "text": [
            "/usr/local/lib/python3.6/dist-packages/ipykernel_launcher.py:4: UserWarning: Update your `Model` call to the Keras 2 API: `Model(inputs=Tensor(\"in..., outputs=Tensor(\"de...)`\n",
            "  after removing the cwd from sys.path.\n"
          ],
          "name": "stderr"
        }
      ]
    },
    {
      "cell_type": "code",
      "metadata": {
        "id": "vFYbGbdq8vg8",
        "colab_type": "code",
        "colab": {}
      },
      "source": [
        "model_final.compile(loss = \"categorical_crossentropy\", optimizer = optimizers.Adam(lr=0.0001), metrics=[\"accuracy\"])"
      ],
      "execution_count": 7,
      "outputs": []
    },
    {
      "cell_type": "code",
      "metadata": {
        "id": "i6yUCcd08xum",
        "colab_type": "code",
        "colab": {
          "base_uri": "https://localhost:8080/",
          "height": 935
        },
        "outputId": "1a0684ad-29e1-4dfa-c979-eb2557fca804"
      },
      "source": [
        "model_final.summary()"
      ],
      "execution_count": 8,
      "outputs": [
        {
          "output_type": "stream",
          "text": [
            "Model: \"model_1\"\n",
            "_________________________________________________________________\n",
            "Layer (type)                 Output Shape              Param #   \n",
            "=================================================================\n",
            "input_1 (InputLayer)         (None, 224, 224, 3)       0         \n",
            "_________________________________________________________________\n",
            "block1_conv1 (Conv2D)        (None, 224, 224, 64)      1792      \n",
            "_________________________________________________________________\n",
            "block1_conv2 (Conv2D)        (None, 224, 224, 64)      36928     \n",
            "_________________________________________________________________\n",
            "block1_pool (MaxPooling2D)   (None, 112, 112, 64)      0         \n",
            "_________________________________________________________________\n",
            "block2_conv1 (Conv2D)        (None, 112, 112, 128)     73856     \n",
            "_________________________________________________________________\n",
            "block2_conv2 (Conv2D)        (None, 112, 112, 128)     147584    \n",
            "_________________________________________________________________\n",
            "block2_pool (MaxPooling2D)   (None, 56, 56, 128)       0         \n",
            "_________________________________________________________________\n",
            "block3_conv1 (Conv2D)        (None, 56, 56, 256)       295168    \n",
            "_________________________________________________________________\n",
            "block3_conv2 (Conv2D)        (None, 56, 56, 256)       590080    \n",
            "_________________________________________________________________\n",
            "block3_conv3 (Conv2D)        (None, 56, 56, 256)       590080    \n",
            "_________________________________________________________________\n",
            "block3_pool (MaxPooling2D)   (None, 28, 28, 256)       0         \n",
            "_________________________________________________________________\n",
            "block4_conv1 (Conv2D)        (None, 28, 28, 512)       1180160   \n",
            "_________________________________________________________________\n",
            "block4_conv2 (Conv2D)        (None, 28, 28, 512)       2359808   \n",
            "_________________________________________________________________\n",
            "block4_conv3 (Conv2D)        (None, 28, 28, 512)       2359808   \n",
            "_________________________________________________________________\n",
            "block4_pool (MaxPooling2D)   (None, 14, 14, 512)       0         \n",
            "_________________________________________________________________\n",
            "block5_conv1 (Conv2D)        (None, 14, 14, 512)       2359808   \n",
            "_________________________________________________________________\n",
            "block5_conv2 (Conv2D)        (None, 14, 14, 512)       2359808   \n",
            "_________________________________________________________________\n",
            "block5_conv3 (Conv2D)        (None, 14, 14, 512)       2359808   \n",
            "_________________________________________________________________\n",
            "block5_pool (MaxPooling2D)   (None, 7, 7, 512)         0         \n",
            "_________________________________________________________________\n",
            "flatten (Flatten)            (None, 25088)             0         \n",
            "_________________________________________________________________\n",
            "fc1 (Dense)                  (None, 4096)              102764544 \n",
            "_________________________________________________________________\n",
            "fc2 (Dense)                  (None, 4096)              16781312  \n",
            "_________________________________________________________________\n",
            "dense_1 (Dense)              (None, 4)                 16388     \n",
            "=================================================================\n",
            "Total params: 134,276,932\n",
            "Trainable params: 119,562,244\n",
            "Non-trainable params: 14,714,688\n",
            "_________________________________________________________________\n"
          ],
          "name": "stdout"
        }
      ]
    },
    {
      "cell_type": "code",
      "metadata": {
        "id": "UIV1Rie889QA",
        "colab_type": "code",
        "colab": {
          "base_uri": "https://localhost:8080/",
          "height": 1000
        },
        "outputId": "66a44647-27d7-4ca8-add1-1d5b0a1ff712"
      },
      "source": [
        "from keras.callbacks import ModelCheckpoint, EarlyStopping\n",
        "checkpoint = ModelCheckpoint(\"vgg16_1.h5\", monitor='val_accuracy', verbose=1, save_best_only=True, save_weights_only=False, mode='auto', period=1)\n",
        "early = EarlyStopping(monitor='val_acc', min_delta=0, patience=40, verbose=1, mode='auto')\n",
        "hist=model_final.fit(traindata, steps_per_epoch= 10, epochs= 100, validation_data= testdata, validation_steps=5, callbacks=[checkpoint,early])\n",
        "model_final.save_weights(\"vgg16_1.h5\")"
      ],
      "execution_count": 10,
      "outputs": [
        {
          "output_type": "stream",
          "text": [
            "Epoch 1/100\n",
            "10/10 [==============================] - 211s 21s/step - loss: 1.3677 - accuracy: 0.6344 - val_loss: 0.4557 - val_accuracy: 0.7348\n",
            "\n",
            "Epoch 00001: val_accuracy improved from -inf to 0.73485, saving model to vgg16_1.h5\n"
          ],
          "name": "stdout"
        },
        {
          "output_type": "stream",
          "text": [
            "/usr/local/lib/python3.6/dist-packages/keras/callbacks/callbacks.py:846: RuntimeWarning: Early stopping conditioned on metric `val_acc` which is not available. Available metrics are: val_loss,val_accuracy,loss,accuracy\n",
            "  (self.monitor, ','.join(list(logs.keys()))), RuntimeWarning\n"
          ],
          "name": "stderr"
        },
        {
          "output_type": "stream",
          "text": [
            "Epoch 2/100\n",
            "10/10 [==============================] - 164s 16s/step - loss: 0.5628 - accuracy: 0.7500 - val_loss: 0.4946 - val_accuracy: 0.6364\n",
            "\n",
            "Epoch 00002: val_accuracy did not improve from 0.73485\n",
            "Epoch 3/100\n",
            "10/10 [==============================] - 164s 16s/step - loss: 0.4369 - accuracy: 0.8281 - val_loss: 0.4687 - val_accuracy: 0.8485\n",
            "\n",
            "Epoch 00003: val_accuracy improved from 0.73485 to 0.84848, saving model to vgg16_1.h5\n",
            "Epoch 4/100\n",
            "10/10 [==============================] - 154s 15s/step - loss: 0.3413 - accuracy: 0.8625 - val_loss: 0.3601 - val_accuracy: 0.8365\n",
            "\n",
            "Epoch 00004: val_accuracy did not improve from 0.84848\n",
            "Epoch 5/100\n",
            "10/10 [==============================] - 162s 16s/step - loss: 0.2358 - accuracy: 0.8813 - val_loss: 0.3581 - val_accuracy: 0.7879\n",
            "\n",
            "Epoch 00005: val_accuracy did not improve from 0.84848\n",
            "Epoch 6/100\n",
            "10/10 [==============================] - 163s 16s/step - loss: 0.1744 - accuracy: 0.9406 - val_loss: 0.2985 - val_accuracy: 0.7955\n",
            "\n",
            "Epoch 00006: val_accuracy did not improve from 0.84848\n",
            "Epoch 7/100\n",
            "10/10 [==============================] - 163s 16s/step - loss: 0.1517 - accuracy: 0.9531 - val_loss: 0.3041 - val_accuracy: 0.8409\n",
            "\n",
            "Epoch 00007: val_accuracy did not improve from 0.84848\n",
            "Epoch 8/100\n",
            "10/10 [==============================] - 153s 15s/step - loss: 0.1161 - accuracy: 0.9594 - val_loss: 0.2138 - val_accuracy: 0.8365\n",
            "\n",
            "Epoch 00008: val_accuracy did not improve from 0.84848\n",
            "Epoch 9/100\n",
            "10/10 [==============================] - 162s 16s/step - loss: 0.0820 - accuracy: 0.9719 - val_loss: 0.5509 - val_accuracy: 0.8485\n",
            "\n",
            "Epoch 00009: val_accuracy did not improve from 0.84848\n",
            "Epoch 10/100\n",
            "10/10 [==============================] - 163s 16s/step - loss: 0.0733 - accuracy: 0.9750 - val_loss: 0.5371 - val_accuracy: 0.8636\n",
            "\n",
            "Epoch 00010: val_accuracy improved from 0.84848 to 0.86364, saving model to vgg16_1.h5\n",
            "Epoch 11/100\n",
            "10/10 [==============================] - 162s 16s/step - loss: 0.0443 - accuracy: 0.9906 - val_loss: 0.6912 - val_accuracy: 0.8409\n",
            "\n",
            "Epoch 00011: val_accuracy did not improve from 0.86364\n",
            "Epoch 12/100\n",
            "10/10 [==============================] - 154s 15s/step - loss: 0.0274 - accuracy: 1.0000 - val_loss: 0.3912 - val_accuracy: 0.8462\n",
            "\n",
            "Epoch 00012: val_accuracy did not improve from 0.86364\n",
            "Epoch 13/100\n",
            "10/10 [==============================] - 165s 16s/step - loss: 0.0284 - accuracy: 0.9937 - val_loss: 0.5666 - val_accuracy: 0.8258\n",
            "\n",
            "Epoch 00013: val_accuracy did not improve from 0.86364\n",
            "Epoch 14/100\n",
            "10/10 [==============================] - 163s 16s/step - loss: 0.0135 - accuracy: 1.0000 - val_loss: 0.7872 - val_accuracy: 0.7879\n",
            "\n",
            "Epoch 00014: val_accuracy did not improve from 0.86364\n",
            "Epoch 15/100\n",
            "10/10 [==============================] - 163s 16s/step - loss: 0.0103 - accuracy: 1.0000 - val_loss: 0.4121 - val_accuracy: 0.8409\n",
            "\n",
            "Epoch 00015: val_accuracy did not improve from 0.86364\n",
            "Epoch 16/100\n",
            "10/10 [==============================] - 154s 15s/step - loss: 0.0043 - accuracy: 1.0000 - val_loss: 0.0111 - val_accuracy: 0.8558\n",
            "\n",
            "Epoch 00016: val_accuracy did not improve from 0.86364\n",
            "Epoch 17/100\n",
            "10/10 [==============================] - 163s 16s/step - loss: 0.0049 - accuracy: 1.0000 - val_loss: 0.7890 - val_accuracy: 0.8106\n",
            "\n",
            "Epoch 00017: val_accuracy did not improve from 0.86364\n",
            "Epoch 18/100\n",
            "10/10 [==============================] - 163s 16s/step - loss: 0.0036 - accuracy: 1.0000 - val_loss: 0.4621 - val_accuracy: 0.8182\n",
            "\n",
            "Epoch 00018: val_accuracy did not improve from 0.86364\n",
            "Epoch 19/100\n",
            "10/10 [==============================] - 163s 16s/step - loss: 0.0046 - accuracy: 1.0000 - val_loss: 0.5000 - val_accuracy: 0.8409\n",
            "\n",
            "Epoch 00019: val_accuracy did not improve from 0.86364\n",
            "Epoch 20/100\n",
            "10/10 [==============================] - 153s 15s/step - loss: 0.0025 - accuracy: 1.0000 - val_loss: 0.2528 - val_accuracy: 0.8558\n",
            "\n",
            "Epoch 00020: val_accuracy did not improve from 0.86364\n",
            "Epoch 21/100\n",
            "10/10 [==============================] - 162s 16s/step - loss: 0.0017 - accuracy: 1.0000 - val_loss: 0.8204 - val_accuracy: 0.8106\n",
            "\n",
            "Epoch 00021: val_accuracy did not improve from 0.86364\n",
            "Epoch 22/100\n",
            "10/10 [==============================] - 162s 16s/step - loss: 0.0019 - accuracy: 1.0000 - val_loss: 0.2936 - val_accuracy: 0.8636\n",
            "\n",
            "Epoch 00022: val_accuracy did not improve from 0.86364\n",
            "Epoch 23/100\n",
            "10/10 [==============================] - 162s 16s/step - loss: 0.0017 - accuracy: 1.0000 - val_loss: 0.6635 - val_accuracy: 0.8106\n",
            "\n",
            "Epoch 00023: val_accuracy did not improve from 0.86364\n",
            "Epoch 24/100\n",
            "10/10 [==============================] - 154s 15s/step - loss: 0.0012 - accuracy: 1.0000 - val_loss: 0.3485 - val_accuracy: 0.8173\n",
            "\n",
            "Epoch 00024: val_accuracy did not improve from 0.86364\n",
            "Epoch 25/100\n",
            "10/10 [==============================] - 162s 16s/step - loss: 0.0011 - accuracy: 1.0000 - val_loss: 0.4815 - val_accuracy: 0.8030\n",
            "\n",
            "Epoch 00025: val_accuracy did not improve from 0.86364\n",
            "Epoch 26/100\n",
            "10/10 [==============================] - 163s 16s/step - loss: 9.6156e-04 - accuracy: 1.0000 - val_loss: 0.4757 - val_accuracy: 0.8561\n",
            "\n",
            "Epoch 00026: val_accuracy did not improve from 0.86364\n",
            "Epoch 27/100\n",
            "10/10 [==============================] - 162s 16s/step - loss: 7.8788e-04 - accuracy: 1.0000 - val_loss: 0.6726 - val_accuracy: 0.8409\n",
            "\n",
            "Epoch 00027: val_accuracy did not improve from 0.86364\n",
            "Epoch 28/100\n",
            "10/10 [==============================] - 154s 15s/step - loss: 7.5088e-04 - accuracy: 1.0000 - val_loss: 0.0119 - val_accuracy: 0.8365\n",
            "\n",
            "Epoch 00028: val_accuracy did not improve from 0.86364\n",
            "Epoch 29/100\n",
            "10/10 [==============================] - 162s 16s/step - loss: 6.8617e-04 - accuracy: 1.0000 - val_loss: 0.8936 - val_accuracy: 0.8182\n",
            "\n",
            "Epoch 00029: val_accuracy did not improve from 0.86364\n",
            "Epoch 30/100\n",
            "10/10 [==============================] - 163s 16s/step - loss: 6.4257e-04 - accuracy: 1.0000 - val_loss: 0.3615 - val_accuracy: 0.8485\n",
            "\n",
            "Epoch 00030: val_accuracy did not improve from 0.86364\n",
            "Epoch 31/100\n",
            "10/10 [==============================] - 162s 16s/step - loss: 5.8367e-04 - accuracy: 1.0000 - val_loss: 0.6379 - val_accuracy: 0.8561\n",
            "\n",
            "Epoch 00031: val_accuracy did not improve from 0.86364\n",
            "Epoch 32/100\n",
            "10/10 [==============================] - 153s 15s/step - loss: 4.5496e-04 - accuracy: 1.0000 - val_loss: 0.0097 - val_accuracy: 0.8269\n",
            "\n",
            "Epoch 00032: val_accuracy did not improve from 0.86364\n",
            "Epoch 33/100\n",
            "10/10 [==============================] - 162s 16s/step - loss: 4.9420e-04 - accuracy: 1.0000 - val_loss: 0.2517 - val_accuracy: 0.8485\n",
            "\n",
            "Epoch 00033: val_accuracy did not improve from 0.86364\n",
            "Epoch 34/100\n",
            "10/10 [==============================] - 163s 16s/step - loss: 4.5332e-04 - accuracy: 1.0000 - val_loss: 0.5402 - val_accuracy: 0.8409\n",
            "\n",
            "Epoch 00034: val_accuracy did not improve from 0.86364\n",
            "Epoch 35/100\n",
            "10/10 [==============================] - 162s 16s/step - loss: 3.0943e-04 - accuracy: 1.0000 - val_loss: 0.8219 - val_accuracy: 0.8030\n",
            "\n",
            "Epoch 00035: val_accuracy did not improve from 0.86364\n",
            "Epoch 36/100\n",
            "10/10 [==============================] - 153s 15s/step - loss: 2.8603e-04 - accuracy: 1.0000 - val_loss: 0.9591 - val_accuracy: 0.8365\n",
            "\n",
            "Epoch 00036: val_accuracy did not improve from 0.86364\n",
            "Epoch 37/100\n",
            "10/10 [==============================] - 160s 16s/step - loss: 3.7589e-04 - accuracy: 1.0000 - val_loss: 0.3324 - val_accuracy: 0.8333\n",
            "\n",
            "Epoch 00037: val_accuracy did not improve from 0.86364\n",
            "Epoch 38/100\n",
            "10/10 [==============================] - 162s 16s/step - loss: 2.4765e-04 - accuracy: 1.0000 - val_loss: 0.5710 - val_accuracy: 0.8182\n",
            "\n",
            "Epoch 00038: val_accuracy did not improve from 0.86364\n",
            "Epoch 39/100\n",
            "10/10 [==============================] - 161s 16s/step - loss: 2.2666e-04 - accuracy: 1.0000 - val_loss: 0.6768 - val_accuracy: 0.8485\n",
            "\n",
            "Epoch 00039: val_accuracy did not improve from 0.86364\n",
            "Epoch 40/100\n",
            "10/10 [==============================] - 153s 15s/step - loss: 2.6856e-04 - accuracy: 1.0000 - val_loss: 0.7592 - val_accuracy: 0.8462\n",
            "\n",
            "Epoch 00040: val_accuracy did not improve from 0.86364\n",
            "Epoch 41/100\n",
            "10/10 [==============================] - 162s 16s/step - loss: 2.1098e-04 - accuracy: 1.0000 - val_loss: 0.3450 - val_accuracy: 0.8485\n",
            "\n",
            "Epoch 00041: val_accuracy did not improve from 0.86364\n",
            "Epoch 42/100\n",
            "10/10 [==============================] - 161s 16s/step - loss: 1.6840e-04 - accuracy: 1.0000 - val_loss: 0.3358 - val_accuracy: 0.8106\n",
            "\n",
            "Epoch 00042: val_accuracy did not improve from 0.86364\n",
            "Epoch 43/100\n",
            "10/10 [==============================] - 162s 16s/step - loss: 1.9900e-04 - accuracy: 1.0000 - val_loss: 0.3282 - val_accuracy: 0.8636\n",
            "\n",
            "Epoch 00043: val_accuracy did not improve from 0.86364\n",
            "Epoch 44/100\n",
            "10/10 [==============================] - 152s 15s/step - loss: 1.7372e-04 - accuracy: 1.0000 - val_loss: 3.3120e-04 - val_accuracy: 0.8173\n",
            "\n",
            "Epoch 00044: val_accuracy did not improve from 0.86364\n",
            "Epoch 45/100\n",
            "10/10 [==============================] - 161s 16s/step - loss: 1.4827e-04 - accuracy: 1.0000 - val_loss: 1.0025 - val_accuracy: 0.8182\n",
            "\n",
            "Epoch 00045: val_accuracy did not improve from 0.86364\n",
            "Epoch 46/100\n",
            "10/10 [==============================] - 161s 16s/step - loss: 1.3048e-04 - accuracy: 1.0000 - val_loss: 0.9493 - val_accuracy: 0.8712\n",
            "\n",
            "Epoch 00046: val_accuracy improved from 0.86364 to 0.87121, saving model to vgg16_1.h5\n",
            "Epoch 47/100\n",
            "10/10 [==============================] - 161s 16s/step - loss: 1.4131e-04 - accuracy: 1.0000 - val_loss: 0.6468 - val_accuracy: 0.8258\n",
            "\n",
            "Epoch 00047: val_accuracy did not improve from 0.87121\n",
            "Epoch 48/100\n",
            "10/10 [==============================] - 152s 15s/step - loss: 1.2163e-04 - accuracy: 1.0000 - val_loss: 0.0290 - val_accuracy: 0.8365\n",
            "\n",
            "Epoch 00048: val_accuracy did not improve from 0.87121\n",
            "Epoch 49/100\n",
            "10/10 [==============================] - 162s 16s/step - loss: 1.2282e-04 - accuracy: 1.0000 - val_loss: 0.7720 - val_accuracy: 0.8485\n",
            "\n",
            "Epoch 00049: val_accuracy did not improve from 0.87121\n",
            "Epoch 50/100\n",
            "10/10 [==============================] - 162s 16s/step - loss: 9.9301e-05 - accuracy: 1.0000 - val_loss: 0.3795 - val_accuracy: 0.8409\n",
            "\n",
            "Epoch 00050: val_accuracy did not improve from 0.87121\n",
            "Epoch 51/100\n",
            "10/10 [==============================] - 162s 16s/step - loss: 1.0382e-04 - accuracy: 1.0000 - val_loss: 1.1212 - val_accuracy: 0.8333\n",
            "\n",
            "Epoch 00051: val_accuracy did not improve from 0.87121\n",
            "Epoch 52/100\n",
            "10/10 [==============================] - 152s 15s/step - loss: 9.8245e-05 - accuracy: 1.0000 - val_loss: 1.4695 - val_accuracy: 0.8462\n",
            "\n",
            "Epoch 00052: val_accuracy did not improve from 0.87121\n",
            "Epoch 53/100\n",
            "10/10 [==============================] - 162s 16s/step - loss: 7.6849e-05 - accuracy: 1.0000 - val_loss: 0.9805 - val_accuracy: 0.8182\n",
            "\n",
            "Epoch 00053: val_accuracy did not improve from 0.87121\n",
            "Epoch 54/100\n",
            "10/10 [==============================] - 161s 16s/step - loss: 8.2650e-05 - accuracy: 1.0000 - val_loss: 0.6327 - val_accuracy: 0.8636\n",
            "\n",
            "Epoch 00054: val_accuracy did not improve from 0.87121\n",
            "Epoch 55/100\n",
            "10/10 [==============================] - 161s 16s/step - loss: 8.0413e-05 - accuracy: 1.0000 - val_loss: 1.0084 - val_accuracy: 0.8258\n",
            "\n",
            "Epoch 00055: val_accuracy did not improve from 0.87121\n",
            "Epoch 56/100\n",
            "10/10 [==============================] - 152s 15s/step - loss: 7.1039e-05 - accuracy: 1.0000 - val_loss: 0.5625 - val_accuracy: 0.8462\n",
            "\n",
            "Epoch 00056: val_accuracy did not improve from 0.87121\n",
            "Epoch 57/100\n",
            "10/10 [==============================] - 161s 16s/step - loss: 7.3761e-05 - accuracy: 1.0000 - val_loss: 0.2453 - val_accuracy: 0.8485\n",
            "\n",
            "Epoch 00057: val_accuracy did not improve from 0.87121\n",
            "Epoch 58/100\n",
            "10/10 [==============================] - 161s 16s/step - loss: 6.6307e-05 - accuracy: 1.0000 - val_loss: 0.4414 - val_accuracy: 0.8106\n",
            "\n",
            "Epoch 00058: val_accuracy did not improve from 0.87121\n",
            "Epoch 59/100\n",
            "10/10 [==============================] - 161s 16s/step - loss: 4.8440e-05 - accuracy: 1.0000 - val_loss: 0.7517 - val_accuracy: 0.8485\n",
            "\n",
            "Epoch 00059: val_accuracy did not improve from 0.87121\n",
            "Epoch 60/100\n",
            "10/10 [==============================] - 153s 15s/step - loss: 6.8777e-05 - accuracy: 1.0000 - val_loss: 0.6269 - val_accuracy: 0.8462\n",
            "\n",
            "Epoch 00060: val_accuracy did not improve from 0.87121\n",
            "Epoch 61/100\n",
            "10/10 [==============================] - 162s 16s/step - loss: 5.3507e-05 - accuracy: 1.0000 - val_loss: 0.3765 - val_accuracy: 0.8561\n",
            "\n",
            "Epoch 00061: val_accuracy did not improve from 0.87121\n",
            "Epoch 62/100\n",
            "10/10 [==============================] - 161s 16s/step - loss: 5.8256e-05 - accuracy: 1.0000 - val_loss: 0.0985 - val_accuracy: 0.8333\n",
            "\n",
            "Epoch 00062: val_accuracy did not improve from 0.87121\n",
            "Epoch 63/100\n",
            "10/10 [==============================] - 161s 16s/step - loss: 4.0799e-05 - accuracy: 1.0000 - val_loss: 0.5648 - val_accuracy: 0.8182\n",
            "\n",
            "Epoch 00063: val_accuracy did not improve from 0.87121\n",
            "Epoch 64/100\n",
            "10/10 [==============================] - 153s 15s/step - loss: 5.2335e-05 - accuracy: 1.0000 - val_loss: 1.6533 - val_accuracy: 0.8269\n",
            "\n",
            "Epoch 00064: val_accuracy did not improve from 0.87121\n",
            "Epoch 65/100\n",
            "10/10 [==============================] - 162s 16s/step - loss: 4.2311e-05 - accuracy: 1.0000 - val_loss: 0.7185 - val_accuracy: 0.8561\n",
            "\n",
            "Epoch 00065: val_accuracy did not improve from 0.87121\n",
            "Epoch 66/100\n",
            "10/10 [==============================] - 160s 16s/step - loss: 4.3952e-05 - accuracy: 1.0000 - val_loss: 0.5939 - val_accuracy: 0.8409\n",
            "\n",
            "Epoch 00066: val_accuracy did not improve from 0.87121\n",
            "Epoch 67/100\n",
            "10/10 [==============================] - 161s 16s/step - loss: 4.3012e-05 - accuracy: 1.0000 - val_loss: 0.8333 - val_accuracy: 0.8106\n",
            "\n",
            "Epoch 00067: val_accuracy did not improve from 0.87121\n",
            "Epoch 68/100\n",
            "10/10 [==============================] - 153s 15s/step - loss: 4.3047e-05 - accuracy: 1.0000 - val_loss: 0.0028 - val_accuracy: 0.8365\n",
            "\n",
            "Epoch 00068: val_accuracy did not improve from 0.87121\n",
            "Epoch 69/100\n",
            "10/10 [==============================] - 161s 16s/step - loss: 2.8643e-05 - accuracy: 1.0000 - val_loss: 0.2948 - val_accuracy: 0.8485\n",
            "\n",
            "Epoch 00069: val_accuracy did not improve from 0.87121\n",
            "Epoch 70/100\n",
            "10/10 [==============================] - 161s 16s/step - loss: 3.5097e-05 - accuracy: 1.0000 - val_loss: 0.7403 - val_accuracy: 0.8333\n",
            "\n",
            "Epoch 00070: val_accuracy did not improve from 0.87121\n",
            "Epoch 71/100\n",
            "10/10 [==============================] - 160s 16s/step - loss: 3.2553e-05 - accuracy: 1.0000 - val_loss: 0.4946 - val_accuracy: 0.8409\n",
            "\n",
            "Epoch 00071: val_accuracy did not improve from 0.87121\n",
            "Epoch 72/100\n",
            "10/10 [==============================] - 152s 15s/step - loss: 3.2821e-05 - accuracy: 1.0000 - val_loss: 0.5022 - val_accuracy: 0.8365\n",
            "\n",
            "Epoch 00072: val_accuracy did not improve from 0.87121\n",
            "Epoch 73/100\n",
            "10/10 [==============================] - 161s 16s/step - loss: 2.8069e-05 - accuracy: 1.0000 - val_loss: 0.4692 - val_accuracy: 0.8409\n",
            "\n",
            "Epoch 00073: val_accuracy did not improve from 0.87121\n",
            "Epoch 74/100\n",
            "10/10 [==============================] - 161s 16s/step - loss: 3.1384e-05 - accuracy: 1.0000 - val_loss: 0.4320 - val_accuracy: 0.8561\n",
            "\n",
            "Epoch 00074: val_accuracy did not improve from 0.87121\n",
            "Epoch 75/100\n",
            "10/10 [==============================] - 161s 16s/step - loss: 2.7965e-05 - accuracy: 1.0000 - val_loss: 0.4140 - val_accuracy: 0.8182\n",
            "\n",
            "Epoch 00075: val_accuracy did not improve from 0.87121\n",
            "Epoch 76/100\n",
            "10/10 [==============================] - 154s 15s/step - loss: 2.7922e-05 - accuracy: 1.0000 - val_loss: 1.6550e-04 - val_accuracy: 0.8462\n",
            "\n",
            "Epoch 00076: val_accuracy did not improve from 0.87121\n",
            "Epoch 77/100\n",
            "10/10 [==============================] - 161s 16s/step - loss: 2.4171e-05 - accuracy: 1.0000 - val_loss: 1.2386 - val_accuracy: 0.8182\n",
            "\n",
            "Epoch 00077: val_accuracy did not improve from 0.87121\n",
            "Epoch 78/100\n",
            "10/10 [==============================] - 162s 16s/step - loss: 2.3862e-05 - accuracy: 1.0000 - val_loss: 0.4713 - val_accuracy: 0.8864\n",
            "\n",
            "Epoch 00078: val_accuracy improved from 0.87121 to 0.88636, saving model to vgg16_1.h5\n",
            "Epoch 79/100\n",
            "10/10 [==============================] - 162s 16s/step - loss: 2.3704e-05 - accuracy: 1.0000 - val_loss: 0.7686 - val_accuracy: 0.8182\n",
            "\n",
            "Epoch 00079: val_accuracy did not improve from 0.88636\n",
            "Epoch 80/100\n",
            "10/10 [==============================] - 153s 15s/step - loss: 2.4528e-05 - accuracy: 1.0000 - val_loss: 0.0146 - val_accuracy: 0.8365\n",
            "\n",
            "Epoch 00080: val_accuracy did not improve from 0.88636\n",
            "Epoch 81/100\n",
            "10/10 [==============================] - 162s 16s/step - loss: 1.8714e-05 - accuracy: 1.0000 - val_loss: 0.6663 - val_accuracy: 0.8561\n",
            "\n",
            "Epoch 00081: val_accuracy did not improve from 0.88636\n",
            "Epoch 82/100\n",
            "10/10 [==============================] - 163s 16s/step - loss: 2.4554e-05 - accuracy: 1.0000 - val_loss: 0.5468 - val_accuracy: 0.7955\n",
            "\n",
            "Epoch 00082: val_accuracy did not improve from 0.88636\n",
            "Epoch 83/100\n",
            "10/10 [==============================] - 162s 16s/step - loss: 2.1606e-05 - accuracy: 1.0000 - val_loss: 0.3020 - val_accuracy: 0.8561\n",
            "\n",
            "Epoch 00083: val_accuracy did not improve from 0.88636\n",
            "Epoch 84/100\n",
            "10/10 [==============================] - 153s 15s/step - loss: 1.8734e-05 - accuracy: 1.0000 - val_loss: 1.4359 - val_accuracy: 0.8462\n",
            "\n",
            "Epoch 00084: val_accuracy did not improve from 0.88636\n",
            "Epoch 85/100\n",
            "10/10 [==============================] - 162s 16s/step - loss: 1.9147e-05 - accuracy: 1.0000 - val_loss: 1.0902 - val_accuracy: 0.8333\n",
            "\n",
            "Epoch 00085: val_accuracy did not improve from 0.88636\n",
            "Epoch 86/100\n",
            "10/10 [==============================] - 161s 16s/step - loss: 1.9513e-05 - accuracy: 1.0000 - val_loss: 0.2905 - val_accuracy: 0.8409\n",
            "\n",
            "Epoch 00086: val_accuracy did not improve from 0.88636\n",
            "Epoch 87/100\n",
            "10/10 [==============================] - 162s 16s/step - loss: 1.6519e-05 - accuracy: 1.0000 - val_loss: 1.0680 - val_accuracy: 0.8485\n",
            "\n",
            "Epoch 00087: val_accuracy did not improve from 0.88636\n",
            "Epoch 88/100\n",
            "10/10 [==============================] - 153s 15s/step - loss: 1.6983e-05 - accuracy: 1.0000 - val_loss: 1.4164 - val_accuracy: 0.8365\n",
            "\n",
            "Epoch 00088: val_accuracy did not improve from 0.88636\n",
            "Epoch 89/100\n",
            "10/10 [==============================] - 162s 16s/step - loss: 1.7298e-05 - accuracy: 1.0000 - val_loss: 0.5114 - val_accuracy: 0.8485\n",
            "\n",
            "Epoch 00089: val_accuracy did not improve from 0.88636\n",
            "Epoch 90/100\n",
            "10/10 [==============================] - 161s 16s/step - loss: 1.4965e-05 - accuracy: 1.0000 - val_loss: 0.2552 - val_accuracy: 0.8409\n",
            "\n",
            "Epoch 00090: val_accuracy did not improve from 0.88636\n",
            "Epoch 91/100\n",
            "10/10 [==============================] - 162s 16s/step - loss: 1.4881e-05 - accuracy: 1.0000 - val_loss: 0.9553 - val_accuracy: 0.8182\n",
            "\n",
            "Epoch 00091: val_accuracy did not improve from 0.88636\n",
            "Epoch 92/100\n",
            "10/10 [==============================] - 152s 15s/step - loss: 1.5491e-05 - accuracy: 1.0000 - val_loss: 0.2607 - val_accuracy: 0.8462\n",
            "\n",
            "Epoch 00092: val_accuracy did not improve from 0.88636\n",
            "Epoch 93/100\n",
            "10/10 [==============================] - 162s 16s/step - loss: 1.4215e-05 - accuracy: 1.0000 - val_loss: 1.3004 - val_accuracy: 0.8258\n",
            "\n",
            "Epoch 00093: val_accuracy did not improve from 0.88636\n",
            "Epoch 94/100\n",
            "10/10 [==============================] - 162s 16s/step - loss: 1.2311e-05 - accuracy: 1.0000 - val_loss: 0.9837 - val_accuracy: 0.8485\n",
            "\n",
            "Epoch 00094: val_accuracy did not improve from 0.88636\n",
            "Epoch 95/100\n",
            "10/10 [==============================] - 163s 16s/step - loss: 1.4823e-05 - accuracy: 1.0000 - val_loss: 0.8377 - val_accuracy: 0.8409\n",
            "\n",
            "Epoch 00095: val_accuracy did not improve from 0.88636\n",
            "Epoch 96/100\n",
            "10/10 [==============================] - 153s 15s/step - loss: 1.3187e-05 - accuracy: 1.0000 - val_loss: 0.7479 - val_accuracy: 0.8365\n",
            "\n",
            "Epoch 00096: val_accuracy did not improve from 0.88636\n",
            "Epoch 97/100\n",
            "10/10 [==============================] - 161s 16s/step - loss: 1.1400e-05 - accuracy: 1.0000 - val_loss: 0.4987 - val_accuracy: 0.8409\n",
            "\n",
            "Epoch 00097: val_accuracy did not improve from 0.88636\n",
            "Epoch 98/100\n",
            "10/10 [==============================] - 161s 16s/step - loss: 1.3918e-05 - accuracy: 1.0000 - val_loss: 0.7194 - val_accuracy: 0.8182\n",
            "\n",
            "Epoch 00098: val_accuracy did not improve from 0.88636\n",
            "Epoch 99/100\n",
            "10/10 [==============================] - 162s 16s/step - loss: 1.0966e-05 - accuracy: 1.0000 - val_loss: 0.4131 - val_accuracy: 0.8636\n",
            "\n",
            "Epoch 00099: val_accuracy did not improve from 0.88636\n",
            "Epoch 100/100\n",
            "10/10 [==============================] - 152s 15s/step - loss: 1.2011e-05 - accuracy: 1.0000 - val_loss: 5.0664e-07 - val_accuracy: 0.8365\n",
            "\n",
            "Epoch 00100: val_accuracy did not improve from 0.88636\n"
          ],
          "name": "stdout"
        }
      ]
    },
    {
      "cell_type": "code",
      "metadata": {
        "id": "YtQxWrIlPU_M",
        "colab_type": "code",
        "colab": {
          "base_uri": "https://localhost:8080/",
          "height": 295
        },
        "outputId": "6c86eb6c-148c-493e-fad4-160d20211ed2"
      },
      "source": [
        "import matplotlib.pyplot as plt\n",
        "plt.plot(hist.history[\"accuracy\"])\n",
        "plt.plot(hist.history['val_accuracy'])\n",
        "\n",
        "plt.title(\"model accuracy\")\n",
        "plt.ylabel(\"Accuracy\")\n",
        "plt.xlabel(\"Epoch\")\n",
        "plt.legend([\"Accuracy\",\"Validation Accuracy\"])\n",
        "plt.show()"
      ],
      "execution_count": 11,
      "outputs": [
        {
          "output_type": "display_data",
          "data": {
            "image/png": "[encoded data removed]",
            "text/plain": [
              "<Figure size 432x288 with 1 Axes>"
            ]
          },
          "metadata": {
            "tags": [],
            "needs_background": "light"
          }
        }
      ]
    },
    {
      "cell_type": "code",
      "metadata": {
        "id": "EsjZHi9jaU4Y",
        "colab_type": "code",
        "colab": {
          "base_uri": "https://localhost:8080/",
          "height": 279
        },
        "outputId": "b7eef20e-8e99-475f-9a16-5ce7523a5b3b"
      },
      "source": [
        "plt.plot(hist.history['loss'])\n",
        "plt.plot(hist.history['val_loss'])\n",
        "plt.ylabel(\"Loss\")\n",
        "plt.xlabel(\"Epoch\")\n",
        "plt.legend([\"loss\",\"Validation Loss\"])\n",
        "plt.show()"
      ],
      "execution_count": 12,
      "outputs": [
        {
          "output_type": "display_data",
          "data": {
            "image/png": "[encoded data removed]",
            "text/plain": [
              "<Figure size 432x288 with 1 Axes>"
            ]
          },
          "metadata": {
            "tags": [],
            "needs_background": "light"
          }
        }
      ]
    },
    {
      "cell_type": "code",
      "metadata": {
        "id": "_2GdDycwS52M",
        "colab_type": "code",
        "colab": {}
      },
      "source": [
        "from keras.preprocessing.image import ImageDataGenerator\n",
        "from sklearn.metrics import classification_report, confusion_matrix\n",
        "\n",
        "test_datagen = ImageDataGenerator()"
      ],
      "execution_count": 13,
      "outputs": []
    },
    {
      "cell_type": "code",
      "metadata": {
        "id": "9-fknWZIS-CT",
        "colab_type": "code",
        "colab": {
          "base_uri": "https://localhost:8080/",
          "height": 34
        },
        "outputId": "3904fec4-9e05-41a9-dd13-7f90573ea285"
      },
      "source": [
        "validation_generator = test_datagen.flow_from_directory('/content/drive/My Drive/data_ouput/test',\n",
        "                                                        target_size=(224, 224),\n",
        "                                                        batch_size=32,\n",
        "                                                        class_mode='categorical')"
      ],
      "execution_count": 14,
      "outputs": [
        {
          "output_type": "stream",
          "text": [
            "Found 100 images belonging to 4 classes.\n"
          ],
          "name": "stdout"
        }
      ]
    },
    {
      "cell_type": "code",
      "metadata": {
        "id": "RSoXpGKcTEnR",
        "colab_type": "code",
        "colab": {
          "base_uri": "https://localhost:8080/",
          "height": 306
        },
        "outputId": "4db702ad-4f96-4006-c93c-613a581a0db5"
      },
      "source": [
        "import numpy as np\n",
        "#Confution Matrix and Classification Report\n",
        "Y_pred = model_final.predict_generator(validation_generator)\n",
        "y_pred = np.argmax(Y_pred, axis=1)\n",
        "print('Confusion Matrix')\n",
        "print(confusion_matrix(validation_generator.classes, y_pred))\n",
        "print('Classification Report')\n",
        "target_names = ['grade0', 'grade1', 'grade2','grade3']\n",
        "print(classification_report(validation_generator.classes, y_pred, target_names=target_names))"
      ],
      "execution_count": 15,
      "outputs": [
        {
          "output_type": "stream",
          "text": [
            "Confusion Matrix\n",
            "[[ 5  5  5 10]\n",
            " [ 8  4  7  6]\n",
            " [ 5 10  8  2]\n",
            " [ 6  7  5  7]]\n",
            "Classification Report\n",
            "              precision    recall  f1-score   support\n",
            "\n",
            "      grade0       0.21      0.20      0.20        25\n",
            "      grade1       0.15      0.16      0.16        25\n",
            "      grade2       0.32      0.32      0.32        25\n",
            "      grade3       0.28      0.28      0.28        25\n",
            "\n",
            "    accuracy                           0.24       100\n",
            "   macro avg       0.24      0.24      0.24       100\n",
            "weighted avg       0.24      0.24      0.24       100\n",
            "\n"
          ],
          "name": "stdout"
        }
      ]
    },
    {
      "cell_type": "code",
      "metadata": {
        "id": "B-E18MG6VMMN",
        "colab_type": "code",
        "colab": {
          "base_uri": "https://localhost:8080/",
          "height": 269
        },
        "outputId": "519f5d6f-d222-4afa-a629-72809dad8bce"
      },
      "source": [
        "from keras.preprocessing import image\n",
        "import matplotlib.pyplot as plt\n",
        "\n",
        "img = image.load_img(\"/content/drive/My Drive/data_ouput/test/grade1/grade1-079.jpg\",target_size=(224,224))\n",
        "img = np.asarray(img)\n",
        "plt.imshow(img)\n",
        "img = np.expand_dims(img, axis=0)"
      ],
      "execution_count": 16,
      "outputs": [
        {
          "output_type": "display_data",
          "data": {
            "image/png": "[encoded data removed]",
            "text/plain": [
              "<Figure size 432x288 with 1 Axes>"
            ]
          },
          "metadata": {
            "tags": [],
            "needs_background": "light"
          }
        }
      ]
    },
    {
      "cell_type": "code",
      "metadata": {
        "id": "Ux21nwVeV0mE",
        "colab_type": "code",
        "colab": {}
      },
      "source": [
        "output = model_final.predict(img)"
      ],
      "execution_count": 17,
      "outputs": []
    },
    {
      "cell_type": "code",
      "metadata": {
        "id": "crw2NNGyV7kN",
        "colab_type": "code",
        "colab": {
          "base_uri": "https://localhost:8080/",
          "height": 34
        },
        "outputId": "4b4920d8-d819-46f3-9011-c696ec1b17cc"
      },
      "source": [
        "output\n",
        "ans='grade'+str(np.argmax(output[0],axis=0))\n",
        "print(ans)"
      ],
      "execution_count": 18,
      "outputs": [
        {
          "output_type": "stream",
          "text": [
            "grade1\n"
          ],
          "name": "stdout"
        }
      ]
    },
    {
      "cell_type": "code",
      "metadata": {
        "id": "YbH-5BZmX-K4",
        "colab_type": "code",
        "colab": {
          "base_uri": "https://localhost:8080/",
          "height": 153
        },
        "outputId": "510553e3-929f-4d8b-ee20-7b6b10c05c03"
      },
      "source": [
        "import os\n",
        "data_path='/content/drive/My Drive/data_ouput/test'\n",
        "data_dir_list=os.listdir(data_path)\n",
        "for dataset in data_dir_list:\n",
        "  print(dataset)\n",
        "  img_list=os.listdir(data_path+'/'+dataset)\n",
        "  correctCount=0\n",
        "  wrongCount=0\n",
        "  for img in img_list:\n",
        "    img_path=data_path+'/'+dataset+'/'+img\n",
        "    input_image = image.load_img(img_path,target_size=(224,224))\n",
        "    input_image = np.asarray(input_image)\n",
        "    input_image = np.expand_dims(input_image, axis=0)\n",
        "    output = model_final.predict(input_image)\n",
        "    ans='grade'+str(np.argmax(output[0],axis=0))\n",
        "    if( ans in img):\n",
        "      correctCount+=1\n",
        "    else:\n",
        "      wrongCount+=1\n",
        "  print(\"correct Count {} WrongCount {}\".format(correctCount,wrongCount))\n",
        "\n",
        "\n"
      ],
      "execution_count": 19,
      "outputs": [
        {
          "output_type": "stream",
          "text": [
            "grade1\n",
            "correct Count 21 WrongCount 4\n",
            "grade0\n",
            "correct Count 23 WrongCount 2\n",
            "grade2\n",
            "correct Count 23 WrongCount 2\n",
            "grade3\n",
            "correct Count 23 WrongCount 2\n"
          ],
          "name": "stdout"
        }
      ]
    },
    {
      "cell_type": "code",
      "metadata": {
        "id": "Ml4QAr_Avw2T",
        "colab_type": "code",
        "colab": {
          "base_uri": "https://localhost:8080/",
          "height": 51
        },
        "outputId": "ff7cb59f-5cbe-46dd-f638-80fec128e177"
      },
      "source": [
        "tr_loss,tr_acc=model_final.evaluate(validation_generator)\n",
        "tr_acc"
      ],
      "execution_count": 20,
      "outputs": [
        {
          "output_type": "stream",
          "text": [
            "4/4 [==============================] - 33s 8s/step\n"
          ],
          "name": "stdout"
        },
        {
          "output_type": "execute_result",
          "data": {
            "text/plain": [
              "0.8999999761581421"
            ]
          },
          "metadata": {
            "tags": []
          },
          "execution_count": 20
        }
      ]
    },
    {
      "cell_type": "code",
      "metadata": {
        "id": "uQ_U_O6XcOQY",
        "colab_type": "code",
        "colab": {}
      },
      "source": [
        ""
      ],
      "execution_count": null,
      "outputs": []
    },
    {
      "cell_type": "code",
      "metadata": {
        "id": "R6Fx71JwgONy",
        "colab_type": "code",
        "colab": {}
      },
      "source": [
        ""
      ],
      "execution_count": null,
      "outputs": []
    },
    {
      "cell_type": "code",
      "metadata": {
        "id": "PiiV053i4At7",
        "colab_type": "code",
        "colab": {}
      },
      "source": [
        "model_final.save('/content/drive/My Drive/Best models/modelbest.h5')"
      ],
      "execution_count": null,
      "outputs": []
    }
  ]
}