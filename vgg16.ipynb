{
  "nbformat": 4,
  "nbformat_minor": 0,
  "metadata": {
    "colab": {
      "name": "vgg16",
      "provenance": [],
      "collapsed_sections": [],
      "mount_file_id": "1IhyoGy7EHEgj120Y7aEt15WFbYJP6aXH",
      "authorship_tag": "ABX9TyPX6okpYcoD1iv5CwuRXGJ0",
      "include_colab_link": true
    },
    "kernelspec": {
      "name": "python3",
      "display_name": "Python 3"
    }
  },
  "cells": [
    {
      "cell_type": "markdown",
      "metadata": {
        "id": "view-in-github",
        "colab_type": "text"
      },
      "source": [
        "<a href=\"https://colab.research.google.com/github/pranitha2144/Internship-iith/blob/Resnet/vgg16.ipynb\" target=\"_parent\"><img src=\"https://colab.research.google.com/assets/colab-badge.svg\" alt=\"Open In Colab\"/></a>"
      ]
    },
    {
      "cell_type": "code",
      "metadata": {
        "id": "PMu2eC3sYOxm",
        "colab_type": "code",
        "colab": {
          "base_uri": "https://localhost:8080/",
          "height": 34
        },
        "outputId": "e907efe9-faa8-460b-ec08-c68ea7ad0934"
      },
      "source": [
        "import keras\n",
        "from keras.models import Model\n",
        "from keras.layers import Dense,Dropout\n",
        "from keras import optimizers\n",
        "from keras.preprocessing.image import ImageDataGenerator\n",
        "from keras.preprocessing import image\n",
        "from tensorflow.keras.applications.vgg16 import preprocess_input"
      ],
      "execution_count": 1,
      "outputs": [
        {
          "output_type": "stream",
          "text": [
            "Using TensorFlow backend.\n"
          ],
          "name": "stderr"
        }
      ]
    },
    {
      "cell_type": "code",
      "metadata": {
        "id": "7eszHQOmkqxF",
        "colab_type": "code",
        "colab": {
          "base_uri": "https://localhost:8080/",
          "height": 105
        },
        "outputId": "01dbc51f-d582-4e31-8e15-a26a0160063f"
      },
      "source": [
        "pip install split_folders\n"
      ],
      "execution_count": 35,
      "outputs": [
        {
          "output_type": "stream",
          "text": [
            "Collecting split_folders\n",
            "  Downloading https://files.pythonhosted.org/packages/20/67/29dda743e6d23ac1ea3d16704d8bbb48d65faf3f1b1eaf53153b3da56c56/split_folders-0.3.1-py3-none-any.whl\n",
            "Installing collected packages: split-folders\n",
            "Successfully installed split-folders-0.3.1\n"
          ],
          "name": "stdout"
        }
      ]
    },
    {
      "cell_type": "code",
      "metadata": {
        "id": "sbs8-eDRk8TB",
        "colab_type": "code",
        "colab": {
          "base_uri": "https://localhost:8080/",
          "height": 34
        },
        "outputId": "aa0c61b0-cf66-45d7-ad61-436cd18eea63"
      },
      "source": [
        "import split_folders\n",
        "\n",
        " #Split with a ratio.To only split into training and validation set, set a tuple to `ratio`, i.e, `(.8, .2)`.\n",
        "split_folders.ratio('/content/drive/My Drive/data-liverdisease', output=\"/content/drive/My Drive/data_liver\", seed=1337, ratio=(.7,.1,.2)) # default values"
      ],
      "execution_count": 39,
      "outputs": [
        {
          "output_type": "stream",
          "text": [
            "Copying files: 1000 files [06:07,  2.72 files/s]\n"
          ],
          "name": "stderr"
        }
      ]
    },
    {
      "cell_type": "code",
      "metadata": {
        "id": "p6rPAuwiYVPF",
        "colab_type": "code",
        "colab": {
          "base_uri": "https://localhost:8080/",
          "height": 51
        },
        "outputId": "c3b0e417-b8fa-495d-e2c9-618879555d2e"
      },
      "source": [
        "trdata = ImageDataGenerator()\n",
        "traindata = trdata.flow_from_directory(directory=\"/content/drive/My Drive/data_liver/train\",target_size=(224,224))\n",
        "tsdata = ImageDataGenerator()\n",
        "testdata = tsdata.flow_from_directory(directory=\"/content/drive/My Drive/data_liver/val\", target_size=(224,224))"
      ],
      "execution_count": 2,
      "outputs": [
        {
          "output_type": "stream",
          "text": [
            "Found 700 images belonging to 4 classes.\n",
            "Found 100 images belonging to 4 classes.\n"
          ],
          "name": "stdout"
        }
      ]
    },
    {
      "cell_type": "code",
      "metadata": {
        "id": "YEDviFOOYqSH",
        "colab_type": "code",
        "colab": {
          "base_uri": "https://localhost:8080/",
          "height": 71
        },
        "outputId": "f0540876-a2a9-4f1f-93ea-51b1698c8f6e"
      },
      "source": [
        "from keras.applications.vgg16 import VGG16\n",
        "vggmodel = VGG16(weights='imagenet',include_top=True)"
      ],
      "execution_count": 3,
      "outputs": [
        {
          "output_type": "stream",
          "text": [
            "Downloading data from https://github.com/fchollet/deep-learning-models/releases/download/v0.1/vgg16_weights_tf_dim_ordering_tf_kernels.h5\n",
            "553467904/553467096 [==============================] - 18s 0us/step\n"
          ],
          "name": "stdout"
        }
      ]
    },
    {
      "cell_type": "code",
      "metadata": {
        "id": "_DBVSTlUYwZt",
        "colab_type": "code",
        "colab": {
          "base_uri": "https://localhost:8080/",
          "height": 935
        },
        "outputId": "259cfa74-c931-4acc-8867-631679b41890"
      },
      "source": [
        "vggmodel.summary()"
      ],
      "execution_count": 4,
      "outputs": [
        {
          "output_type": "stream",
          "text": [
            "Model: \"vgg16\"\n",
            "_________________________________________________________________\n",
            "Layer (type)                 Output Shape              Param #   \n",
            "=================================================================\n",
            "input_1 (InputLayer)         (None, 224, 224, 3)       0         \n",
            "_________________________________________________________________\n",
            "block1_conv1 (Conv2D)        (None, 224, 224, 64)      1792      \n",
            "_________________________________________________________________\n",
            "block1_conv2 (Conv2D)        (None, 224, 224, 64)      36928     \n",
            "_________________________________________________________________\n",
            "block1_pool (MaxPooling2D)   (None, 112, 112, 64)      0         \n",
            "_________________________________________________________________\n",
            "block2_conv1 (Conv2D)        (None, 112, 112, 128)     73856     \n",
            "_________________________________________________________________\n",
            "block2_conv2 (Conv2D)        (None, 112, 112, 128)     147584    \n",
            "_________________________________________________________________\n",
            "block2_pool (MaxPooling2D)   (None, 56, 56, 128)       0         \n",
            "_________________________________________________________________\n",
            "block3_conv1 (Conv2D)        (None, 56, 56, 256)       295168    \n",
            "_________________________________________________________________\n",
            "block3_conv2 (Conv2D)        (None, 56, 56, 256)       590080    \n",
            "_________________________________________________________________\n",
            "block3_conv3 (Conv2D)        (None, 56, 56, 256)       590080    \n",
            "_________________________________________________________________\n",
            "block3_pool (MaxPooling2D)   (None, 28, 28, 256)       0         \n",
            "_________________________________________________________________\n",
            "block4_conv1 (Conv2D)        (None, 28, 28, 512)       1180160   \n",
            "_________________________________________________________________\n",
            "block4_conv2 (Conv2D)        (None, 28, 28, 512)       2359808   \n",
            "_________________________________________________________________\n",
            "block4_conv3 (Conv2D)        (None, 28, 28, 512)       2359808   \n",
            "_________________________________________________________________\n",
            "block4_pool (MaxPooling2D)   (None, 14, 14, 512)       0         \n",
            "_________________________________________________________________\n",
            "block5_conv1 (Conv2D)        (None, 14, 14, 512)       2359808   \n",
            "_________________________________________________________________\n",
            "block5_conv2 (Conv2D)        (None, 14, 14, 512)       2359808   \n",
            "_________________________________________________________________\n",
            "block5_conv3 (Conv2D)        (None, 14, 14, 512)       2359808   \n",
            "_________________________________________________________________\n",
            "block5_pool (MaxPooling2D)   (None, 7, 7, 512)         0         \n",
            "_________________________________________________________________\n",
            "flatten (Flatten)            (None, 25088)             0         \n",
            "_________________________________________________________________\n",
            "fc1 (Dense)                  (None, 4096)              102764544 \n",
            "_________________________________________________________________\n",
            "fc2 (Dense)                  (None, 4096)              16781312  \n",
            "_________________________________________________________________\n",
            "predictions (Dense)          (None, 1000)              4097000   \n",
            "=================================================================\n",
            "Total params: 138,357,544\n",
            "Trainable params: 138,357,544\n",
            "Non-trainable params: 0\n",
            "_________________________________________________________________\n"
          ],
          "name": "stdout"
        }
      ]
    },
    {
      "cell_type": "code",
      "metadata": {
        "id": "K12OYHZlYzgM",
        "colab_type": "code",
        "colab": {
          "base_uri": "https://localhost:8080/",
          "height": 34
        },
        "outputId": "fb386344-ceec-4844-e4fd-379a6aab9657"
      },
      "source": [
        "vggmodel.layers.pop()\n",
        "vggmodel.layers.pop()\n",
        "vggmodel.layers.pop()"
      ],
      "execution_count": 5,
      "outputs": [
        {
          "output_type": "execute_result",
          "data": {
            "text/plain": [
              "<keras.layers.core.Dense at 0x7f124a445908>"
            ]
          },
          "metadata": {
            "tags": []
          },
          "execution_count": 5
        }
      ]
    },
    {
      "cell_type": "code",
      "metadata": {
        "id": "8LYBFIW-Y1vZ",
        "colab_type": "code",
        "colab": {
          "base_uri": "https://localhost:8080/",
          "height": 357
        },
        "outputId": "dab4bc9e-e4a0-41dc-fa54-0a3534bce640"
      },
      "source": [
        "for layers in (vggmodel.layers):\n",
        "    print(layers)\n",
        "    layers.trainable = False"
      ],
      "execution_count": 6,
      "outputs": [
        {
          "output_type": "stream",
          "text": [
            "<keras.engine.input_layer.InputLayer object at 0x7f128e017ac8>\n",
            "<keras.layers.convolutional.Conv2D object at 0x7f128e017f28>\n",
            "<keras.layers.convolutional.Conv2D object at 0x7f12891257b8>\n",
            "<keras.layers.pooling.MaxPooling2D object at 0x7f128dff2dd8>\n",
            "<keras.layers.convolutional.Conv2D object at 0x7f124ba6bda0>\n",
            "<keras.layers.convolutional.Conv2D object at 0x7f124b4aef60>\n",
            "<keras.layers.pooling.MaxPooling2D object at 0x7f124a412b00>\n",
            "<keras.layers.convolutional.Conv2D object at 0x7f124a412940>\n",
            "<keras.layers.convolutional.Conv2D object at 0x7f124a41a668>\n",
            "<keras.layers.convolutional.Conv2D object at 0x7f124a41ae10>\n",
            "<keras.layers.pooling.MaxPooling2D object at 0x7f124a420cf8>\n",
            "<keras.layers.convolutional.Conv2D object at 0x7f124a420b00>\n",
            "<keras.layers.convolutional.Conv2D object at 0x7f124a4265c0>\n",
            "<keras.layers.convolutional.Conv2D object at 0x7f124a42c470>\n",
            "<keras.layers.pooling.MaxPooling2D object at 0x7f124a42cef0>\n",
            "<keras.layers.convolutional.Conv2D object at 0x7f124a42ccf8>\n",
            "<keras.layers.convolutional.Conv2D object at 0x7f124a435a90>\n",
            "<keras.layers.convolutional.Conv2D object at 0x7f124a43c668>\n",
            "<keras.layers.pooling.MaxPooling2D object at 0x7f124a43ce80>\n",
            "<keras.layers.core.Flatten object at 0x7f124a43cf98>\n"
          ],
          "name": "stdout"
        }
      ]
    },
    {
      "cell_type": "code",
      "metadata": {
        "id": "spEfu2MIY3-9",
        "colab_type": "code",
        "colab": {
          "base_uri": "https://localhost:8080/",
          "height": 833
        },
        "outputId": "394fe881-1a11-4505-961e-f35d383ea7ae"
      },
      "source": [
        "vggmodel.summary()"
      ],
      "execution_count": 7,
      "outputs": [
        {
          "output_type": "stream",
          "text": [
            "Model: \"vgg16\"\n",
            "_________________________________________________________________\n",
            "Layer (type)                 Output Shape              Param #   \n",
            "=================================================================\n",
            "input_1 (InputLayer)         (None, 224, 224, 3)       0         \n",
            "_________________________________________________________________\n",
            "block1_conv1 (Conv2D)        (None, 224, 224, 64)      1792      \n",
            "_________________________________________________________________\n",
            "block1_conv2 (Conv2D)        (None, 224, 224, 64)      36928     \n",
            "_________________________________________________________________\n",
            "block1_pool (MaxPooling2D)   (None, 112, 112, 64)      0         \n",
            "_________________________________________________________________\n",
            "block2_conv1 (Conv2D)        (None, 112, 112, 128)     73856     \n",
            "_________________________________________________________________\n",
            "block2_conv2 (Conv2D)        (None, 112, 112, 128)     147584    \n",
            "_________________________________________________________________\n",
            "block2_pool (MaxPooling2D)   (None, 56, 56, 128)       0         \n",
            "_________________________________________________________________\n",
            "block3_conv1 (Conv2D)        (None, 56, 56, 256)       295168    \n",
            "_________________________________________________________________\n",
            "block3_conv2 (Conv2D)        (None, 56, 56, 256)       590080    \n",
            "_________________________________________________________________\n",
            "block3_conv3 (Conv2D)        (None, 56, 56, 256)       590080    \n",
            "_________________________________________________________________\n",
            "block3_pool (MaxPooling2D)   (None, 28, 28, 256)       0         \n",
            "_________________________________________________________________\n",
            "block4_conv1 (Conv2D)        (None, 28, 28, 512)       1180160   \n",
            "_________________________________________________________________\n",
            "block4_conv2 (Conv2D)        (None, 28, 28, 512)       2359808   \n",
            "_________________________________________________________________\n",
            "block4_conv3 (Conv2D)        (None, 28, 28, 512)       2359808   \n",
            "_________________________________________________________________\n",
            "block4_pool (MaxPooling2D)   (None, 14, 14, 512)       0         \n",
            "_________________________________________________________________\n",
            "block5_conv1 (Conv2D)        (None, 14, 14, 512)       2359808   \n",
            "_________________________________________________________________\n",
            "block5_conv2 (Conv2D)        (None, 14, 14, 512)       2359808   \n",
            "_________________________________________________________________\n",
            "block5_conv3 (Conv2D)        (None, 14, 14, 512)       2359808   \n",
            "_________________________________________________________________\n",
            "block5_pool (MaxPooling2D)   (None, 7, 7, 512)         0         \n",
            "_________________________________________________________________\n",
            "flatten (Flatten)            (None, 25088)             0         \n",
            "=================================================================\n",
            "Total params: 14,714,688\n",
            "Trainable params: 0\n",
            "Non-trainable params: 14,714,688\n",
            "_________________________________________________________________\n"
          ],
          "name": "stdout"
        }
      ]
    },
    {
      "cell_type": "code",
      "metadata": {
        "id": "hRa7hR7-Y-XR",
        "colab_type": "code",
        "colab": {
          "base_uri": "https://localhost:8080/",
          "height": 71
        },
        "outputId": "11178757-3f0e-4c3c-fc16-78e42cde507e"
      },
      "source": [
        "from tensorflow.keras import regularizers\n",
        "X= vggmodel.layers[-1].output\n",
        "fc_1=Dense(4096,activation='relu')(X)\n",
        "dr_1=Dropout(0.5)(fc_1)\n",
        "fc_2=Dense(4096, activation='relu')(dr_1)\n",
        "dr_2=Dropout(0.5)(fc_2)\n",
        "predictions = Dense(4, activation=\"softmax\")(dr_2)\n",
        "model_final = Model(input = vggmodel.input, output = predictions)"
      ],
      "execution_count": 8,
      "outputs": [
        {
          "output_type": "stream",
          "text": [
            "/usr/local/lib/python3.6/dist-packages/ipykernel_launcher.py:8: UserWarning: Update your `Model` call to the Keras 2 API: `Model(inputs=Tensor(\"in..., outputs=Tensor(\"de...)`\n",
            "  \n"
          ],
          "name": "stderr"
        }
      ]
    },
    {
      "cell_type": "code",
      "metadata": {
        "id": "1mRS_nHaZBCL",
        "colab_type": "code",
        "colab": {
          "base_uri": "https://localhost:8080/",
          "height": 1000
        },
        "outputId": "e8c827a9-ffb7-4771-a900-478890a45c27"
      },
      "source": [
        "model_final.summary()"
      ],
      "execution_count": 9,
      "outputs": [
        {
          "output_type": "stream",
          "text": [
            "Model: \"model_1\"\n",
            "_________________________________________________________________\n",
            "Layer (type)                 Output Shape              Param #   \n",
            "=================================================================\n",
            "input_1 (InputLayer)         (None, 224, 224, 3)       0         \n",
            "_________________________________________________________________\n",
            "block1_conv1 (Conv2D)        (None, 224, 224, 64)      1792      \n",
            "_________________________________________________________________\n",
            "block1_conv2 (Conv2D)        (None, 224, 224, 64)      36928     \n",
            "_________________________________________________________________\n",
            "block1_pool (MaxPooling2D)   (None, 112, 112, 64)      0         \n",
            "_________________________________________________________________\n",
            "block2_conv1 (Conv2D)        (None, 112, 112, 128)     73856     \n",
            "_________________________________________________________________\n",
            "block2_conv2 (Conv2D)        (None, 112, 112, 128)     147584    \n",
            "_________________________________________________________________\n",
            "block2_pool (MaxPooling2D)   (None, 56, 56, 128)       0         \n",
            "_________________________________________________________________\n",
            "block3_conv1 (Conv2D)        (None, 56, 56, 256)       295168    \n",
            "_________________________________________________________________\n",
            "block3_conv2 (Conv2D)        (None, 56, 56, 256)       590080    \n",
            "_________________________________________________________________\n",
            "block3_conv3 (Conv2D)        (None, 56, 56, 256)       590080    \n",
            "_________________________________________________________________\n",
            "block3_pool (MaxPooling2D)   (None, 28, 28, 256)       0         \n",
            "_________________________________________________________________\n",
            "block4_conv1 (Conv2D)        (None, 28, 28, 512)       1180160   \n",
            "_________________________________________________________________\n",
            "block4_conv2 (Conv2D)        (None, 28, 28, 512)       2359808   \n",
            "_________________________________________________________________\n",
            "block4_conv3 (Conv2D)        (None, 28, 28, 512)       2359808   \n",
            "_________________________________________________________________\n",
            "block4_pool (MaxPooling2D)   (None, 14, 14, 512)       0         \n",
            "_________________________________________________________________\n",
            "block5_conv1 (Conv2D)        (None, 14, 14, 512)       2359808   \n",
            "_________________________________________________________________\n",
            "block5_conv2 (Conv2D)        (None, 14, 14, 512)       2359808   \n",
            "_________________________________________________________________\n",
            "block5_conv3 (Conv2D)        (None, 14, 14, 512)       2359808   \n",
            "_________________________________________________________________\n",
            "block5_pool (MaxPooling2D)   (None, 7, 7, 512)         0         \n",
            "_________________________________________________________________\n",
            "flatten (Flatten)            (None, 25088)             0         \n",
            "_________________________________________________________________\n",
            "dense_1 (Dense)              (None, 4096)              102764544 \n",
            "_________________________________________________________________\n",
            "dropout_1 (Dropout)          (None, 4096)              0         \n",
            "_________________________________________________________________\n",
            "dense_2 (Dense)              (None, 4096)              16781312  \n",
            "_________________________________________________________________\n",
            "dropout_2 (Dropout)          (None, 4096)              0         \n",
            "_________________________________________________________________\n",
            "dense_3 (Dense)              (None, 4)                 16388     \n",
            "=================================================================\n",
            "Total params: 134,276,932\n",
            "Trainable params: 119,562,244\n",
            "Non-trainable params: 14,714,688\n",
            "_________________________________________________________________\n"
          ],
          "name": "stdout"
        }
      ]
    },
    {
      "cell_type": "code",
      "metadata": {
        "id": "WyzYX9WSZK0G",
        "colab_type": "code",
        "colab": {}
      },
      "source": [
        "model_final.compile(loss = \"categorical_crossentropy\", optimizer = keras.optimizers.Adam(lr=0.0001), metrics=[\"accuracy\"])"
      ],
      "execution_count": 10,
      "outputs": []
    },
    {
      "cell_type": "code",
      "metadata": {
        "id": "3JhPnTE8ZRmI",
        "colab_type": "code",
        "colab": {
          "base_uri": "https://localhost:8080/",
          "height": 1000
        },
        "outputId": "974497b5-c2ca-45fa-9987-8c0784e1c9b8"
      },
      "source": [
        "model_final.summary()"
      ],
      "execution_count": 11,
      "outputs": [
        {
          "output_type": "stream",
          "text": [
            "Model: \"model_1\"\n",
            "_________________________________________________________________\n",
            "Layer (type)                 Output Shape              Param #   \n",
            "=================================================================\n",
            "input_1 (InputLayer)         (None, 224, 224, 3)       0         \n",
            "_________________________________________________________________\n",
            "block1_conv1 (Conv2D)        (None, 224, 224, 64)      1792      \n",
            "_________________________________________________________________\n",
            "block1_conv2 (Conv2D)        (None, 224, 224, 64)      36928     \n",
            "_________________________________________________________________\n",
            "block1_pool (MaxPooling2D)   (None, 112, 112, 64)      0         \n",
            "_________________________________________________________________\n",
            "block2_conv1 (Conv2D)        (None, 112, 112, 128)     73856     \n",
            "_________________________________________________________________\n",
            "block2_conv2 (Conv2D)        (None, 112, 112, 128)     147584    \n",
            "_________________________________________________________________\n",
            "block2_pool (MaxPooling2D)   (None, 56, 56, 128)       0         \n",
            "_________________________________________________________________\n",
            "block3_conv1 (Conv2D)        (None, 56, 56, 256)       295168    \n",
            "_________________________________________________________________\n",
            "block3_conv2 (Conv2D)        (None, 56, 56, 256)       590080    \n",
            "_________________________________________________________________\n",
            "block3_conv3 (Conv2D)        (None, 56, 56, 256)       590080    \n",
            "_________________________________________________________________\n",
            "block3_pool (MaxPooling2D)   (None, 28, 28, 256)       0         \n",
            "_________________________________________________________________\n",
            "block4_conv1 (Conv2D)        (None, 28, 28, 512)       1180160   \n",
            "_________________________________________________________________\n",
            "block4_conv2 (Conv2D)        (None, 28, 28, 512)       2359808   \n",
            "_________________________________________________________________\n",
            "block4_conv3 (Conv2D)        (None, 28, 28, 512)       2359808   \n",
            "_________________________________________________________________\n",
            "block4_pool (MaxPooling2D)   (None, 14, 14, 512)       0         \n",
            "_________________________________________________________________\n",
            "block5_conv1 (Conv2D)        (None, 14, 14, 512)       2359808   \n",
            "_________________________________________________________________\n",
            "block5_conv2 (Conv2D)        (None, 14, 14, 512)       2359808   \n",
            "_________________________________________________________________\n",
            "block5_conv3 (Conv2D)        (None, 14, 14, 512)       2359808   \n",
            "_________________________________________________________________\n",
            "block5_pool (MaxPooling2D)   (None, 7, 7, 512)         0         \n",
            "_________________________________________________________________\n",
            "flatten (Flatten)            (None, 25088)             0         \n",
            "_________________________________________________________________\n",
            "dense_1 (Dense)              (None, 4096)              102764544 \n",
            "_________________________________________________________________\n",
            "dropout_1 (Dropout)          (None, 4096)              0         \n",
            "_________________________________________________________________\n",
            "dense_2 (Dense)              (None, 4096)              16781312  \n",
            "_________________________________________________________________\n",
            "dropout_2 (Dropout)          (None, 4096)              0         \n",
            "_________________________________________________________________\n",
            "dense_3 (Dense)              (None, 4)                 16388     \n",
            "=================================================================\n",
            "Total params: 134,276,932\n",
            "Trainable params: 119,562,244\n",
            "Non-trainable params: 14,714,688\n",
            "_________________________________________________________________\n"
          ],
          "name": "stdout"
        }
      ]
    },
    {
      "cell_type": "code",
      "metadata": {
        "id": "H6dGNtWtZVuK",
        "colab_type": "code",
        "colab": {
          "base_uri": "https://localhost:8080/",
          "height": 1000
        },
        "outputId": "280e8904-a81b-44fb-d72e-0855bbb8cbd8"
      },
      "source": [
        "from keras.callbacks import ModelCheckpoint, EarlyStopping\n",
        "checkpoint = ModelCheckpoint(\"/content/drive/My Drive/Best models/model_g_1.h5\", monitor='val_accuracy', verbose=1, save_best_only=True, save_weights_only=False, mode='auto', period=1)\n",
        "early = EarlyStopping(monitor='val_acc', min_delta=0, patience=40, verbose=1, mode='auto')\n",
        "hist=model_final.fit(traindata, steps_per_epoch= 64, epochs= 50, validation_data= testdata, validation_steps=16, callbacks=[checkpoint,early])"
      ],
      "execution_count": null,
      "outputs": [
        {
          "output_type": "stream",
          "text": [
            "Epoch 1/50\n",
            "64/64 [==============================] - 993s 16s/step - loss: 1.4588 - accuracy: 0.7564 - val_loss: 1.2739 - val_accuracy: 0.7600\n",
            "\n",
            "Epoch 00001: val_accuracy improved from -inf to 0.76000, saving model to /content/drive/My Drive/Best models/model_g_1.h5\n"
          ],
          "name": "stdout"
        },
        {
          "output_type": "stream",
          "text": [
            "/usr/local/lib/python3.6/dist-packages/keras/callbacks/callbacks.py:846: RuntimeWarning: Early stopping conditioned on metric `val_acc` which is not available. Available metrics are: val_loss,val_accuracy,loss,accuracy\n",
            "  (self.monitor, ','.join(list(logs.keys()))), RuntimeWarning\n"
          ],
          "name": "stderr"
        },
        {
          "output_type": "stream",
          "text": [
            "Epoch 2/50\n",
            "64/64 [==============================] - 913s 14s/step - loss: 0.5618 - accuracy: 0.8806 - val_loss: 5.7749 - val_accuracy: 0.8300\n",
            "\n",
            "Epoch 00002: val_accuracy improved from 0.76000 to 0.83000, saving model to /content/drive/My Drive/Best models/model_g_1.h5\n",
            "Epoch 3/50\n",
            "64/64 [==============================] - 894s 14s/step - loss: 0.1906 - accuracy: 0.9431 - val_loss: 0.0282 - val_accuracy: 0.8400\n",
            "\n",
            "Epoch 00003: val_accuracy improved from 0.83000 to 0.84000, saving model to /content/drive/My Drive/Best models/model_g_1.h5\n",
            "Epoch 4/50\n",
            "64/64 [==============================] - 880s 14s/step - loss: 0.1692 - accuracy: 0.9582 - val_loss: 1.2765 - val_accuracy: 0.8800\n",
            "\n",
            "Epoch 00004: val_accuracy improved from 0.84000 to 0.88000, saving model to /content/drive/My Drive/Best models/model_g_1.h5\n",
            "Epoch 5/50\n",
            "64/64 [==============================] - 881s 14s/step - loss: 0.0770 - accuracy: 0.9770 - val_loss: 0.0015 - val_accuracy: 0.8800\n",
            "\n",
            "Epoch 00005: val_accuracy did not improve from 0.88000\n",
            "Epoch 6/50\n",
            "64/64 [==============================] - 879s 14s/step - loss: 0.1352 - accuracy: 0.9695 - val_loss: 3.8588e-04 - val_accuracy: 0.8600\n",
            "\n",
            "Epoch 00006: val_accuracy did not improve from 0.88000\n",
            "Epoch 7/50\n",
            "64/64 [==============================] - 881s 14s/step - loss: 0.0561 - accuracy: 0.9838 - val_loss: 4.1213e-05 - val_accuracy: 0.8800\n",
            "\n",
            "Epoch 00007: val_accuracy did not improve from 0.88000\n",
            "Epoch 8/50\n",
            "64/64 [==============================] - 879s 14s/step - loss: 0.0412 - accuracy: 0.9882 - val_loss: 0.0506 - val_accuracy: 0.8500\n",
            "\n",
            "Epoch 00008: val_accuracy did not improve from 0.88000\n",
            "Epoch 9/50\n",
            "64/64 [==============================] - 878s 14s/step - loss: 0.0635 - accuracy: 0.9852 - val_loss: 1.0616 - val_accuracy: 0.8400\n",
            "\n",
            "Epoch 00009: val_accuracy did not improve from 0.88000\n",
            "Epoch 10/50\n",
            "64/64 [==============================] - 881s 14s/step - loss: 0.0375 - accuracy: 0.9922 - val_loss: 1.4205 - val_accuracy: 0.8600\n",
            "\n",
            "Epoch 00010: val_accuracy did not improve from 0.88000\n",
            "Epoch 11/50\n",
            "64/64 [==============================] - 878s 14s/step - loss: 0.0661 - accuracy: 0.9882 - val_loss: 8.7915e-06 - val_accuracy: 0.8500\n",
            "\n",
            "Epoch 00011: val_accuracy did not improve from 0.88000\n",
            "Epoch 12/50\n",
            "64/64 [==============================] - 880s 14s/step - loss: 0.0570 - accuracy: 0.9833 - val_loss: 1.6296 - val_accuracy: 0.8300\n",
            "\n",
            "Epoch 00012: val_accuracy did not improve from 0.88000\n",
            "Epoch 13/50\n",
            "64/64 [==============================] - 881s 14s/step - loss: 0.0296 - accuracy: 0.9921 - val_loss: 26.5933 - val_accuracy: 0.8300\n",
            "\n",
            "Epoch 00013: val_accuracy did not improve from 0.88000\n",
            "Epoch 14/50\n",
            "64/64 [==============================] - 883s 14s/step - loss: 0.0444 - accuracy: 0.9892 - val_loss: 2.5928e-06 - val_accuracy: 0.8700\n",
            "\n",
            "Epoch 00014: val_accuracy did not improve from 0.88000\n",
            "Epoch 15/50\n",
            "64/64 [==============================] - 883s 14s/step - loss: 0.1172 - accuracy: 0.9774 - val_loss: 0.0000e+00 - val_accuracy: 0.8400\n",
            "\n",
            "Epoch 00015: val_accuracy did not improve from 0.88000\n",
            "Epoch 16/50\n",
            "64/64 [==============================] - 884s 14s/step - loss: 0.0611 - accuracy: 0.9897 - val_loss: 2.4312 - val_accuracy: 0.8500\n",
            "\n",
            "Epoch 00016: val_accuracy did not improve from 0.88000\n",
            "Epoch 17/50\n",
            "64/64 [==============================] - 877s 14s/step - loss: 0.0376 - accuracy: 0.9877 - val_loss: 22.8200 - val_accuracy: 0.8700\n",
            "\n",
            "Epoch 00017: val_accuracy did not improve from 0.88000\n",
            "Epoch 18/50\n",
            "64/64 [==============================] - 880s 14s/step - loss: 0.0853 - accuracy: 0.9902 - val_loss: 0.0000e+00 - val_accuracy: 0.8700\n",
            "\n",
            "Epoch 00018: val_accuracy did not improve from 0.88000\n",
            "Epoch 19/50\n",
            "64/64 [==============================] - 880s 14s/step - loss: 0.1474 - accuracy: 0.9838 - val_loss: 5.3341 - val_accuracy: 0.7900\n",
            "\n",
            "Epoch 00019: val_accuracy did not improve from 0.88000\n",
            "Epoch 20/50\n",
            "64/64 [==============================] - 878s 14s/step - loss: 0.0788 - accuracy: 0.9813 - val_loss: 5.9605e-08 - val_accuracy: 0.8400\n",
            "\n",
            "Epoch 00020: val_accuracy did not improve from 0.88000\n",
            "Epoch 21/50\n",
            "64/64 [==============================] - 886s 14s/step - loss: 0.0883 - accuracy: 0.9853 - val_loss: 2.6664 - val_accuracy: 0.8500\n",
            "\n",
            "Epoch 00021: val_accuracy did not improve from 0.88000\n",
            "Epoch 22/50\n",
            "64/64 [==============================] - 882s 14s/step - loss: 0.0778 - accuracy: 0.9882 - val_loss: 3.8445e-06 - val_accuracy: 0.8500\n",
            "\n",
            "Epoch 00022: val_accuracy did not improve from 0.88000\n",
            "Epoch 23/50\n",
            "64/64 [==============================] - 883s 14s/step - loss: 0.1568 - accuracy: 0.9813 - val_loss: 0.4901 - val_accuracy: 0.8100\n",
            "\n",
            "Epoch 00023: val_accuracy did not improve from 0.88000\n",
            "Epoch 24/50\n",
            "64/64 [==============================] - 880s 14s/step - loss: 0.0407 - accuracy: 0.9931 - val_loss: 2.9802e-08 - val_accuracy: 0.8500\n",
            "\n",
            "Epoch 00024: val_accuracy did not improve from 0.88000\n",
            "Epoch 25/50\n",
            "64/64 [==============================] - 880s 14s/step - loss: 0.0696 - accuracy: 0.9907 - val_loss: 0.0069 - val_accuracy: 0.8600\n",
            "\n",
            "Epoch 00025: val_accuracy did not improve from 0.88000\n",
            "Epoch 26/50\n",
            "64/64 [==============================] - 881s 14s/step - loss: 0.2428 - accuracy: 0.9794 - val_loss: 4.4354 - val_accuracy: 0.8000\n",
            "\n",
            "Epoch 00026: val_accuracy did not improve from 0.88000\n",
            "Epoch 27/50\n",
            "64/64 [==============================] - 880s 14s/step - loss: 0.0687 - accuracy: 0.9917 - val_loss: 0.0015 - val_accuracy: 0.8500\n",
            "\n",
            "Epoch 00027: val_accuracy did not improve from 0.88000\n",
            "Epoch 28/50\n",
            "64/64 [==============================] - 882s 14s/step - loss: 0.1502 - accuracy: 0.9872 - val_loss: 1.4319 - val_accuracy: 0.8500\n",
            "\n",
            "Epoch 00028: val_accuracy did not improve from 0.88000\n",
            "Epoch 29/50\n",
            "64/64 [==============================] - 880s 14s/step - loss: 0.1129 - accuracy: 0.9897 - val_loss: 2.9802e-08 - val_accuracy: 0.8600\n",
            "\n",
            "Epoch 00029: val_accuracy did not improve from 0.88000\n",
            "Epoch 30/50\n",
            "64/64 [==============================] - 883s 14s/step - loss: 0.0389 - accuracy: 0.9951 - val_loss: 0.0000e+00 - val_accuracy: 0.8700\n",
            "\n",
            "Epoch 00030: val_accuracy did not improve from 0.88000\n",
            "Epoch 31/50\n",
            "64/64 [==============================] - 881s 14s/step - loss: 0.0308 - accuracy: 0.9946 - val_loss: 2.9802e-08 - val_accuracy: 0.8700\n",
            "\n",
            "Epoch 00031: val_accuracy did not improve from 0.88000\n",
            "Epoch 32/50\n",
            "64/64 [==============================] - 881s 14s/step - loss: 0.0592 - accuracy: 0.9946 - val_loss: 0.0000e+00 - val_accuracy: 0.8700\n",
            "\n",
            "Epoch 00032: val_accuracy did not improve from 0.88000\n",
            "Epoch 33/50\n",
            "64/64 [==============================] - 881s 14s/step - loss: 0.0835 - accuracy: 0.9917 - val_loss: 11.3758 - val_accuracy: 0.8700\n",
            "\n",
            "Epoch 00033: val_accuracy did not improve from 0.88000\n",
            "Epoch 34/50\n",
            "64/64 [==============================] - 883s 14s/step - loss: 0.1561 - accuracy: 0.9843 - val_loss: 0.4944 - val_accuracy: 0.8500\n",
            "\n",
            "Epoch 00034: val_accuracy did not improve from 0.88000\n",
            "Epoch 35/50\n",
            "64/64 [==============================] - 885s 14s/step - loss: 0.0327 - accuracy: 0.9936 - val_loss: 0.0000e+00 - val_accuracy: 0.9000\n",
            "\n",
            "Epoch 00035: val_accuracy improved from 0.88000 to 0.90000, saving model to /content/drive/My Drive/Best models/model_g_1.h5\n",
            "Epoch 36/50\n",
            "64/64 [==============================] - 884s 14s/step - loss: 0.0713 - accuracy: 0.9931 - val_loss: 9.1738 - val_accuracy: 0.8500\n",
            "\n",
            "Epoch 00036: val_accuracy did not improve from 0.90000\n",
            "Epoch 37/50\n",
            "64/64 [==============================] - 880s 14s/step - loss: 0.0576 - accuracy: 0.9941 - val_loss: 0.0000e+00 - val_accuracy: 0.8800\n",
            "\n",
            "Epoch 00037: val_accuracy did not improve from 0.90000\n",
            "Epoch 38/50\n",
            "64/64 [==============================] - 879s 14s/step - loss: 0.0472 - accuracy: 0.9980 - val_loss: 0.0000e+00 - val_accuracy: 0.8700\n",
            "\n",
            "Epoch 00038: val_accuracy did not improve from 0.90000\n",
            "Epoch 39/50\n",
            "64/64 [==============================] - 880s 14s/step - loss: 1.4332e-04 - accuracy: 1.0000 - val_loss: 2.7000 - val_accuracy: 0.8700\n",
            "\n",
            "Epoch 00039: val_accuracy did not improve from 0.90000\n",
            "Epoch 40/50\n",
            "64/64 [==============================] - 880s 14s/step - loss: 8.5647e-07 - accuracy: 1.0000 - val_loss: 0.0000e+00 - val_accuracy: 0.8700\n",
            "\n",
            "Epoch 00040: val_accuracy did not improve from 0.90000\n",
            "Epoch 41/50\n",
            "64/64 [==============================] - 879s 14s/step - loss: 0.0684 - accuracy: 0.9926 - val_loss: 0.0000e+00 - val_accuracy: 0.8700\n",
            "\n",
            "Epoch 00041: val_accuracy did not improve from 0.90000\n",
            "Epoch 42/50\n",
            "64/64 [==============================] - 878s 14s/step - loss: 0.0295 - accuracy: 0.9961 - val_loss: 14.6928 - val_accuracy: 0.8400\n",
            "\n",
            "Epoch 00042: val_accuracy did not improve from 0.90000\n",
            "Epoch 43/50\n",
            "64/64 [==============================] - 878s 14s/step - loss: 0.1359 - accuracy: 0.9867 - val_loss: 0.0000e+00 - val_accuracy: 0.8700\n",
            "\n",
            "Epoch 00043: val_accuracy did not improve from 0.90000\n",
            "Epoch 44/50\n",
            "64/64 [==============================] - 876s 14s/step - loss: 0.0229 - accuracy: 0.9985 - val_loss: 0.0000e+00 - val_accuracy: 0.8600\n",
            "\n",
            "Epoch 00044: val_accuracy did not improve from 0.90000\n",
            "Epoch 45/50\n",
            "64/64 [==============================] - 876s 14s/step - loss: 0.0060 - accuracy: 0.9985 - val_loss: 0.0000e+00 - val_accuracy: 0.8700\n",
            "\n",
            "Epoch 00045: val_accuracy did not improve from 0.90000\n",
            "Epoch 46/50\n",
            "64/64 [==============================] - 879s 14s/step - loss: 0.0106 - accuracy: 0.9990 - val_loss: 0.0000e+00 - val_accuracy: 0.8500\n",
            "\n",
            "Epoch 00046: val_accuracy did not improve from 0.90000\n",
            "Epoch 47/50\n",
            "64/64 [==============================] - 877s 14s/step - loss: 0.0109 - accuracy: 0.9990 - val_loss: 2.9802e-08 - val_accuracy: 0.8600\n",
            "\n",
            "Epoch 00047: val_accuracy did not improve from 0.90000\n",
            "Epoch 48/50\n",
            "64/64 [==============================] - 876s 14s/step - loss: 3.2429e-05 - accuracy: 1.0000 - val_loss: 0.0000e+00 - val_accuracy: 0.8600\n",
            "\n",
            "Epoch 00048: val_accuracy did not improve from 0.90000\n",
            "Epoch 49/50\n",
            "58/64 [==========================>...] - ETA: 1:09 - loss: 3.1065e-06 - accuracy: 1.0000"
          ],
          "name": "stdout"
        }
      ]
    },
    {
      "cell_type": "code",
      "metadata": {
        "id": "HVTVRSV8ZlQb",
        "colab_type": "code",
        "colab": {
          "base_uri": "https://localhost:8080/",
          "height": 295
        },
        "outputId": "6880f952-8f08-4512-9efa-ddda0338b101"
      },
      "source": [
        "import matplotlib.pyplot as plt\n",
        "plt.plot(hist.history[\"accuracy\"])\n",
        "plt.plot(hist.history['val_accuracy'])\n",
        "\n",
        "plt.title(\"model accuracy\")\n",
        "plt.ylabel(\"Accuracy\")\n",
        "plt.xlabel(\"Epoch\")\n",
        "plt.legend([\"Accuracy\",\"Validation Accuracy\"])\n",
        "plt.show()"
      ],
      "execution_count": 23,
      "outputs": [
        {
          "output_type": "display_data",
          "data": {
            "image/png": "[encoded data removed]",
            "text/plain": [
              "<Figure size 432x288 with 1 Axes>"
            ]
          },
          "metadata": {
            "tags": [],
            "needs_background": "light"
          }
        }
      ]
    },
    {
      "cell_type": "code",
      "metadata": {
        "id": "S1zKuauZZnZF",
        "colab_type": "code",
        "colab": {
          "base_uri": "https://localhost:8080/",
          "height": 279
        },
        "outputId": "ff0ba846-7ae9-40c5-c225-85858f4d2da5"
      },
      "source": [
        "plt.plot(hist.history['loss'])\n",
        "plt.plot(hist.history['val_loss'])\n",
        "plt.ylabel(\"Loss\")\n",
        "plt.xlabel(\"Epoch\")\n",
        "plt.legend([\"loss\",\"Validation Loss\"])\n",
        "plt.show()"
      ],
      "execution_count": 24,
      "outputs": [
        {
          "output_type": "display_data",
          "data": {
            "image/png": "[encoded data removed]",
            "text/plain": [
              "<Figure size 432x288 with 1 Axes>"
            ]
          },
          "metadata": {
            "tags": [],
            "needs_background": "light"
          }
        }
      ]
    },
    {
      "cell_type": "code",
      "metadata": {
        "id": "WwAzAbBdZulp",
        "colab_type": "code",
        "colab": {}
      },
      "source": [
        "from keras.preprocessing.image import ImageDataGenerator\n",
        "from sklearn.metrics import classification_report, confusion_matrix\n",
        "\n",
        "test_datagen = ImageDataGenerator()"
      ],
      "execution_count": 25,
      "outputs": []
    },
    {
      "cell_type": "code",
      "metadata": {
        "id": "GxVOVV3zZyE7",
        "colab_type": "code",
        "colab": {
          "base_uri": "https://localhost:8080/",
          "height": 34
        },
        "outputId": "a5949412-130f-4d55-a4da-8c86ed27919e"
      },
      "source": [
        "validation_generator = test_datagen.flow_from_directory('/content/drive/My Drive/data_liver/test',\n",
        "                                                        target_size=(224, 224))"
      ],
      "execution_count": 26,
      "outputs": [
        {
          "output_type": "stream",
          "text": [
            "Found 200 images belonging to 4 classes.\n"
          ],
          "name": "stdout"
        }
      ]
    },
    {
      "cell_type": "code",
      "metadata": {
        "id": "eAMUtksqjslN",
        "colab_type": "code",
        "colab": {
          "base_uri": "https://localhost:8080/",
          "height": 306
        },
        "outputId": "9ac46ac7-e722-4c4c-e30a-920cdaafb100"
      },
      "source": [
        "import numpy as np\n",
        "#Confution Matrix and Classification Report\n",
        "Y_pred = model_final.predict_generator(validation_generator)\n",
        "y_pred = np.argmax(Y_pred, axis=1)\n",
        "print('Confusion Matrix')\n",
        "print(confusion_matrix(validation_generator.classes, y_pred))\n",
        "print('Classification Report')\n",
        "#target_names = ['grade1', 'grade0', 'grade2','grade3']\n",
        "print(classification_report(validation_generator.classes, y_pred))"
      ],
      "execution_count": 27,
      "outputs": [
        {
          "output_type": "stream",
          "text": [
            "Confusion Matrix\n",
            "[[17 10  9 14]\n",
            " [10 10 18 12]\n",
            " [21  6 12 11]\n",
            " [14  9 15 12]]\n",
            "Classification Report\n",
            "              precision    recall  f1-score   support\n",
            "\n",
            "           0       0.27      0.34      0.30        50\n",
            "           1       0.29      0.20      0.24        50\n",
            "           2       0.22      0.24      0.23        50\n",
            "           3       0.24      0.24      0.24        50\n",
            "\n",
            "    accuracy                           0.26       200\n",
            "   macro avg       0.26      0.26      0.25       200\n",
            "weighted avg       0.26      0.26      0.25       200\n",
            "\n"
          ],
          "name": "stdout"
        }
      ]
    },
    {
      "cell_type": "code",
      "metadata": {
        "id": "nCeG5IC_Z6kq",
        "colab_type": "code",
        "colab": {
          "base_uri": "https://localhost:8080/",
          "height": 153
        },
        "outputId": "41277907-a2ea-4e87-fe5d-2d811f7838f0"
      },
      "source": [
        "import os\n",
        "import numpy as np\n",
        "\n",
        "data_path='/content/drive/My Drive/data_liver/test'\n",
        "data_dir_list=os.listdir(data_path)\n",
        "for dataset in data_dir_list:\n",
        "  print(dataset)\n",
        "  img_list=os.listdir(data_path+'/'+dataset)\n",
        "  correctCount=0\n",
        "  wrongCount=0\n",
        "  for img in img_list:\n",
        "    img_path=data_path+'/'+dataset+'/'+img\n",
        "    input_image = image.load_img(img_path,target_size=(224,224))\n",
        "    input_image = np.asarray(input_image)\n",
        "    input_image = np.expand_dims(input_image, axis=0)\n",
        "    output = model_final.predict(input_image)\n",
        "    ans='grade'+str(np.argmax(output[0],axis=0))\n",
        "    if( ans in img):\n",
        "      correctCount+=1\n",
        "    else:\n",
        "      wrongCount+=1\n",
        "  print(\"correct Count {} WrongCount {}\".format(correctCount,wrongCount))"
      ],
      "execution_count": 33,
      "outputs": [
        {
          "output_type": "stream",
          "text": [
            "grade1\n",
            "correct Count 26 WrongCount 24\n",
            "grade0\n",
            "correct Count 44 WrongCount 6\n",
            "grade2\n",
            "correct Count 48 WrongCount 2\n",
            "grade3\n",
            "correct Count 48 WrongCount 2\n"
          ],
          "name": "stdout"
        }
      ]
    },
    {
      "cell_type": "code",
      "metadata": {
        "id": "13hBXTUZwD52",
        "colab_type": "code",
        "colab": {
          "base_uri": "https://localhost:8080/",
          "height": 51
        },
        "outputId": "6adbaa10-048c-4306-88a1-13858724256e"
      },
      "source": [
        "tr_loss,tr_acc=model_final.evaluate(validation_generator)\n",
        "tr_acc"
      ],
      "execution_count": 20,
      "outputs": [
        {
          "output_type": "stream",
          "text": [
            "7/7 [==============================] - 106s 15s/step\n"
          ],
          "name": "stdout"
        },
        {
          "output_type": "execute_result",
          "data": {
            "text/plain": [
              "0.7699999809265137"
            ]
          },
          "metadata": {
            "tags": []
          },
          "execution_count": 20
        }
      ]
    },
    {
      "cell_type": "code",
      "metadata": {
        "id": "ntwjv8i0wHmH",
        "colab_type": "code",
        "colab": {
          "base_uri": "https://localhost:8080/",
          "height": 51
        },
        "outputId": "2688c2f7-afb6-44f8-96cf-affd4f02098f"
      },
      "source": [
        "tr_loss,tr_acc=model_final.evaluate(traindata)\n",
        "tr_acc"
      ],
      "execution_count": 63,
      "outputs": [
        {
          "output_type": "stream",
          "text": [
            "22/22 [==============================] - 355s 16s/step\n"
          ],
          "name": "stdout"
        },
        {
          "output_type": "execute_result",
          "data": {
            "text/plain": [
              "0.9857142567634583"
            ]
          },
          "metadata": {
            "tags": []
          },
          "execution_count": 63
        }
      ]
    },
    {
      "cell_type": "code",
      "metadata": {
        "id": "1NOM-AafyXVT",
        "colab_type": "code",
        "colab": {
          "base_uri": "https://localhost:8080/",
          "height": 51
        },
        "outputId": "8be01d86-a282-44a4-9c4e-321490f3577c"
      },
      "source": [
        "tr_loss,tr_acc=model_final.evaluate(testdata)\n",
        "tr_acc"
      ],
      "execution_count": 72,
      "outputs": [
        {
          "output_type": "stream",
          "text": [
            "4/4 [==============================] - 51s 13s/step\n"
          ],
          "name": "stdout"
        },
        {
          "output_type": "execute_result",
          "data": {
            "text/plain": [
              "0.8199999928474426"
            ]
          },
          "metadata": {
            "tags": []
          },
          "execution_count": 72
        }
      ]
    },
    {
      "cell_type": "code",
      "metadata": {
        "id": "mTNWvGsEywGT",
        "colab_type": "code",
        "colab": {}
      },
      "source": [
        "saved_model=keras.models.load_model(\"/content/drive/My Drive/Best models/model_b_1.h5\")"
      ],
      "execution_count": 6,
      "outputs": []
    },
    {
      "cell_type": "code",
      "metadata": {
        "colab_type": "code",
        "id": "bIRR3fnFzXLD",
        "colab": {
          "base_uri": "https://localhost:8080/",
          "height": 51
        },
        "outputId": "5aefd0a9-747b-4672-a0a2-21c657172805"
      },
      "source": [
        "tr_loss,tr_acc=saved_model.evaluate(validation_generator)\n",
        "tr_acc"
      ],
      "execution_count": 7,
      "outputs": [
        {
          "output_type": "stream",
          "text": [
            "4/4 [==============================] - 51s 13s/step\n"
          ],
          "name": "stdout"
        },
        {
          "output_type": "execute_result",
          "data": {
            "text/plain": [
              "0.8799999952316284"
            ]
          },
          "metadata": {
            "tags": []
          },
          "execution_count": 7
        }
      ]
    },
    {
      "cell_type": "code",
      "metadata": {
        "id": "ihCmpaYAzgH4",
        "colab_type": "code",
        "colab": {}
      },
      "source": [
        ""
      ],
      "execution_count": null,
      "outputs": []
    },
    {
      "cell_type": "code",
      "metadata": {
        "colab_type": "code",
        "id": "EmEGMcRkzgyK",
        "colab": {
          "base_uri": "https://localhost:8080/",
          "height": 51
        },
        "outputId": "d6b9756c-a694-4f69-94aa-49497cdf7d05"
      },
      "source": [
        "tr_loss,tr_acc=saved_model.evaluate(testdata)\n",
        "tr_acc"
      ],
      "execution_count": 10,
      "outputs": [
        {
          "output_type": "stream",
          "text": [
            "4/4 [==============================] - 51s 13s/step\n"
          ],
          "name": "stdout"
        },
        {
          "output_type": "execute_result",
          "data": {
            "text/plain": [
              "0.7900000214576721"
            ]
          },
          "metadata": {
            "tags": []
          },
          "execution_count": 10
        }
      ]
    },
    {
      "cell_type": "code",
      "metadata": {
        "id": "rtN1rqlVp7ll",
        "colab_type": "code",
        "colab": {}
      },
      "source": [
        "model_final=keras.models.load_model(\"/content/drive/My Drive/Best models/model_f_1.h5\")"
      ],
      "execution_count": 32,
      "outputs": []
    }
  ]
}