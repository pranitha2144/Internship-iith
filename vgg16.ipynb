{
  "nbformat": 4,
  "nbformat_minor": 0,
  "metadata": {
    "colab": {
      "name": "vgg16",
      "provenance": [],
      "collapsed_sections": [],
      "mount_file_id": "1IhyoGy7EHEgj120Y7aEt15WFbYJP6aXH",
      "authorship_tag": "ABX9TyPr2XI8TTzAi/alJ8GjVjJI",
      "include_colab_link": true
    },
    "kernelspec": {
      "name": "python3",
      "display_name": "Python 3"
    }
  },
  "cells": [
    {
      "cell_type": "markdown",
      "metadata": {
        "id": "view-in-github",
        "colab_type": "text"
      },
      "source": [
        "<a href=\"https://colab.research.google.com/github/pranitha2144/Internship-iith/blob/Resnet/vgg16.ipynb\" target=\"_parent\"><img src=\"https://colab.research.google.com/assets/colab-badge.svg\" alt=\"Open In Colab\"/></a>"
      ]
    },
    {
      "cell_type": "code",
      "metadata": {
        "id": "3i-5qcxM7pSC",
        "colab_type": "code",
        "colab": {}
      },
      "source": [
        "import keras\n",
        "from keras.models import Model\n",
        "from keras.layers import Dense,Dropout\n",
        "from keras import optimizers\n",
        "from keras.preprocessing.image import ImageDataGenerator\n",
        "from keras.preprocessing import image"
      ],
      "execution_count": null,
      "outputs": []
    },
    {
      "cell_type": "code",
      "metadata": {
        "id": "JKBtzsJojptA",
        "colab_type": "code",
        "colab": {}
      },
      "source": [
        "#!pip install split_folders"
      ],
      "execution_count": null,
      "outputs": []
    },
    {
      "cell_type": "code",
      "metadata": {
        "id": "hzM7ojOkjaiK",
        "colab_type": "code",
        "colab": {}
      },
      "source": [
        "import split_folders\n",
        "\n",
        "# Split with a ratio.\n",
        "# To only split into training and validation set, set a tuple to `ratio`, i.e, `(.8, .2)`.\n",
        "#split_folders.ratio('/content/drive/My Drive/data-liverdisease', output=\"/content/drive/My Drive/data_output1\", seed=1337, ratio=(.7, .2,.1)) # default values\n"
      ],
      "execution_count": null,
      "outputs": []
    },
    {
      "cell_type": "code",
      "metadata": {
        "id": "P_NCAugx70fs",
        "colab_type": "code",
        "colab": {
          "base_uri": "https://localhost:8080/",
          "height": 51
        },
        "outputId": "7b22cc6c-1657-4c49-9e6b-32b47df9ffeb"
      },
      "source": [
        "trdata = ImageDataGenerator()\n",
        "traindata = trdata.flow_from_directory(directory=\"/content/drive/My Drive/data_ouput/train\",target_size=(224,224))\n",
        "tsdata = ImageDataGenerator()\n",
        "testdata = tsdata.flow_from_directory(directory=\"/content/drive/My Drive/data_ouput/val\", target_size=(224,224))"
      ],
      "execution_count": null,
      "outputs": [
        {
          "output_type": "stream",
          "text": [
            "Found 800 images belonging to 4 classes.\n",
            "Found 100 images belonging to 4 classes.\n"
          ],
          "name": "stdout"
        }
      ]
    },
    {
      "cell_type": "code",
      "metadata": {
        "id": "rg_JdtWb8O00",
        "colab_type": "code",
        "colab": {}
      },
      "source": [
        "from keras.applications.vgg16 import VGG16\n",
        "vggmodel = VGG16(include_top=True)"
      ],
      "execution_count": null,
      "outputs": []
    },
    {
      "cell_type": "code",
      "metadata": {
        "id": "PKuEFjHt8TfJ",
        "colab_type": "code",
        "colab": {
          "base_uri": "https://localhost:8080/",
          "height": 935
        },
        "outputId": "d361df2d-0b30-42c7-b8cf-e45310acbc81"
      },
      "source": [
        "vggmodel.summary()"
      ],
      "execution_count": null,
      "outputs": [
        {
          "output_type": "stream",
          "text": [
            "Model: \"vgg16\"\n",
            "_________________________________________________________________\n",
            "Layer (type)                 Output Shape              Param #   \n",
            "=================================================================\n",
            "input_3 (InputLayer)         (None, 224, 224, 3)       0         \n",
            "_________________________________________________________________\n",
            "block1_conv1 (Conv2D)        (None, 224, 224, 64)      1792      \n",
            "_________________________________________________________________\n",
            "block1_conv2 (Conv2D)        (None, 224, 224, 64)      36928     \n",
            "_________________________________________________________________\n",
            "block1_pool (MaxPooling2D)   (None, 112, 112, 64)      0         \n",
            "_________________________________________________________________\n",
            "block2_conv1 (Conv2D)        (None, 112, 112, 128)     73856     \n",
            "_________________________________________________________________\n",
            "block2_conv2 (Conv2D)        (None, 112, 112, 128)     147584    \n",
            "_________________________________________________________________\n",
            "block2_pool (MaxPooling2D)   (None, 56, 56, 128)       0         \n",
            "_________________________________________________________________\n",
            "block3_conv1 (Conv2D)        (None, 56, 56, 256)       295168    \n",
            "_________________________________________________________________\n",
            "block3_conv2 (Conv2D)        (None, 56, 56, 256)       590080    \n",
            "_________________________________________________________________\n",
            "block3_conv3 (Conv2D)        (None, 56, 56, 256)       590080    \n",
            "_________________________________________________________________\n",
            "block3_pool (MaxPooling2D)   (None, 28, 28, 256)       0         \n",
            "_________________________________________________________________\n",
            "block4_conv1 (Conv2D)        (None, 28, 28, 512)       1180160   \n",
            "_________________________________________________________________\n",
            "block4_conv2 (Conv2D)        (None, 28, 28, 512)       2359808   \n",
            "_________________________________________________________________\n",
            "block4_conv3 (Conv2D)        (None, 28, 28, 512)       2359808   \n",
            "_________________________________________________________________\n",
            "block4_pool (MaxPooling2D)   (None, 14, 14, 512)       0         \n",
            "_________________________________________________________________\n",
            "block5_conv1 (Conv2D)        (None, 14, 14, 512)       2359808   \n",
            "_________________________________________________________________\n",
            "block5_conv2 (Conv2D)        (None, 14, 14, 512)       2359808   \n",
            "_________________________________________________________________\n",
            "block5_conv3 (Conv2D)        (None, 14, 14, 512)       2359808   \n",
            "_________________________________________________________________\n",
            "block5_pool (MaxPooling2D)   (None, 7, 7, 512)         0         \n",
            "_________________________________________________________________\n",
            "flatten (Flatten)            (None, 25088)             0         \n",
            "_________________________________________________________________\n",
            "fc1 (Dense)                  (None, 4096)              102764544 \n",
            "_________________________________________________________________\n",
            "fc2 (Dense)                  (None, 4096)              16781312  \n",
            "_________________________________________________________________\n",
            "predictions (Dense)          (None, 1000)              4097000   \n",
            "=================================================================\n",
            "Total params: 138,357,544\n",
            "Trainable params: 138,357,544\n",
            "Non-trainable params: 0\n",
            "_________________________________________________________________\n"
          ],
          "name": "stdout"
        }
      ]
    },
    {
      "cell_type": "code",
      "metadata": {
        "id": "82_pWv5ammho",
        "colab_type": "code",
        "colab": {
          "base_uri": "https://localhost:8080/",
          "height": 34
        },
        "outputId": "30ff79ac-0882-4bb6-e6a9-daba0eddb75d"
      },
      "source": [
        "type(vggmodel)"
      ],
      "execution_count": null,
      "outputs": [
        {
          "output_type": "execute_result",
          "data": {
            "text/plain": [
              "keras.engine.training.Model"
            ]
          },
          "metadata": {
            "tags": []
          },
          "execution_count": 12
        }
      ]
    },
    {
      "cell_type": "code",
      "metadata": {
        "id": "GG60hKI68aWo",
        "colab_type": "code",
        "colab": {
          "base_uri": "https://localhost:8080/",
          "height": 442
        },
        "outputId": "95b0e062-d4f9-4068-830a-9f8a018dbd4c"
      },
      "source": [
        "'''for layers in (vggmodel.layers)[:-1]:\n",
        "    print(layers)\n",
        "    layers.trainable = False'''"
      ],
      "execution_count": null,
      "outputs": [
        {
          "output_type": "stream",
          "text": [
            "<keras.engine.input_layer.InputLayer object at 0x7f5fbb69a6d8>\n",
            "<keras.layers.convolutional.Conv2D object at 0x7f5fbb69ad68>\n",
            "<keras.layers.convolutional.Conv2D object at 0x7f5fbb674438>\n",
            "<keras.layers.pooling.MaxPooling2D object at 0x7f5fbb69a828>\n",
            "<keras.layers.convolutional.Conv2D object at 0x7f5f78b1e7b8>\n",
            "<keras.layers.convolutional.Conv2D object at 0x7f5f77a94668>\n",
            "<keras.layers.pooling.MaxPooling2D object at 0x7f5f77a94e10>\n",
            "<keras.layers.convolutional.Conv2D object at 0x7f5f77a9d208>\n",
            "<keras.layers.convolutional.Conv2D object at 0x7f5f77a9dda0>\n",
            "<keras.layers.convolutional.Conv2D object at 0x7f5f77aa2978>\n",
            "<keras.layers.convolutional.Conv2D object at 0x7f5f77aa7438>\n",
            "<keras.layers.pooling.MaxPooling2D object at 0x7f5f77aa7eb8>\n",
            "<keras.layers.convolutional.Conv2D object at 0x7f5f77aa7cc0>\n",
            "<keras.layers.convolutional.Conv2D object at 0x7f5f77aaef98>\n",
            "<keras.layers.convolutional.Conv2D object at 0x7f5f77ab6630>\n",
            "<keras.layers.convolutional.Conv2D object at 0x7f5f77ab6e48>\n",
            "<keras.layers.pooling.MaxPooling2D object at 0x7f5f77abeb70>\n",
            "<keras.layers.convolutional.Conv2D object at 0x7f5f77abe978>\n",
            "<keras.layers.convolutional.Conv2D object at 0x7f5f77ac46d8>\n",
            "<keras.layers.convolutional.Conv2D object at 0x7f5f77ac4e80>\n",
            "<keras.layers.convolutional.Conv2D object at 0x7f5f77accd68>\n",
            "<keras.layers.pooling.MaxPooling2D object at 0x7f5f77a52828>\n",
            "<keras.layers.core.Flatten object at 0x7f5f77a52630>\n",
            "<keras.layers.core.Dense object at 0x7f5f77a528d0>\n",
            "<keras.layers.core.Dense object at 0x7f5f77a672b0>\n"
          ],
          "name": "stdout"
        }
      ]
    },
    {
      "cell_type": "code",
      "metadata": {
        "id": "IGKyayZrnBcc",
        "colab_type": "code",
        "colab": {
          "base_uri": "https://localhost:8080/",
          "height": 34
        },
        "outputId": "f575f94b-dbfa-4af8-baa2-4b7c79b9bbdb"
      },
      "source": [
        "vggmodel.layers.pop()"
      ],
      "execution_count": null,
      "outputs": [
        {
          "output_type": "execute_result",
          "data": {
            "text/plain": [
              "<keras.layers.core.Dense at 0x7f987e0c7d68>"
            ]
          },
          "metadata": {
            "tags": []
          },
          "execution_count": 13
        }
      ]
    },
    {
      "cell_type": "code",
      "metadata": {
        "id": "DcSuJhHsnW_L",
        "colab_type": "code",
        "colab": {
          "base_uri": "https://localhost:8080/",
          "height": 391
        },
        "outputId": "56ed0179-97a1-4a6d-c734-1053cbdabd8a"
      },
      "source": [
        "for layers in (vggmodel.layers):\n",
        "    print(layers)\n",
        "    layers.trainable = False"
      ],
      "execution_count": null,
      "outputs": [
        {
          "output_type": "stream",
          "text": [
            "<keras.engine.input_layer.InputLayer object at 0x7f987e142898>\n",
            "<keras.layers.convolutional.Conv2D object at 0x7f987e142828>\n",
            "<keras.layers.convolutional.Conv2D object at 0x7f987e142da0>\n",
            "<keras.layers.pooling.MaxPooling2D object at 0x7f98c2a1b240>\n",
            "<keras.layers.convolutional.Conv2D object at 0x7f987e154278>\n",
            "<keras.layers.convolutional.Conv2D object at 0x7f987e154dd8>\n",
            "<keras.layers.pooling.MaxPooling2D object at 0x7f987e111978>\n",
            "<keras.layers.convolutional.Conv2D object at 0x7f987e1117b8>\n",
            "<keras.layers.convolutional.Conv2D object at 0x7f987e1174a8>\n",
            "<keras.layers.convolutional.Conv2D object at 0x7f987e117da0>\n",
            "<keras.layers.pooling.MaxPooling2D object at 0x7f987e11cac8>\n",
            "<keras.layers.convolutional.Conv2D object at 0x7f987e11c908>\n",
            "<keras.layers.convolutional.Conv2D object at 0x7f987e1225f8>\n",
            "<keras.layers.convolutional.Conv2D object at 0x7f987e122ef0>\n",
            "<keras.layers.pooling.MaxPooling2D object at 0x7f987e12ac18>\n",
            "<keras.layers.convolutional.Conv2D object at 0x7f987e12aa58>\n",
            "<keras.layers.convolutional.Conv2D object at 0x7f987e0b2748>\n",
            "<keras.layers.convolutional.Conv2D object at 0x7f987e0b8320>\n",
            "<keras.layers.pooling.MaxPooling2D object at 0x7f987e0b8d68>\n",
            "<keras.layers.core.Flatten object at 0x7f987e0b8ba8>\n",
            "<keras.layers.core.Dense object at 0x7f987e0b8e10>\n",
            "<keras.layers.core.Dense object at 0x7f987e0c75f8>\n"
          ],
          "name": "stdout"
        }
      ]
    },
    {
      "cell_type": "code",
      "metadata": {
        "id": "3y43Fuj5nLmi",
        "colab_type": "code",
        "colab": {
          "base_uri": "https://localhost:8080/",
          "height": 901
        },
        "outputId": "575c24f1-7602-4ed3-9fbc-0a9d6edb6ea6"
      },
      "source": [
        "vggmodel.summary()"
      ],
      "execution_count": null,
      "outputs": [
        {
          "output_type": "stream",
          "text": [
            "Model: \"vgg16\"\n",
            "_________________________________________________________________\n",
            "Layer (type)                 Output Shape              Param #   \n",
            "=================================================================\n",
            "input_3 (InputLayer)         (None, 224, 224, 3)       0         \n",
            "_________________________________________________________________\n",
            "block1_conv1 (Conv2D)        (None, 224, 224, 64)      1792      \n",
            "_________________________________________________________________\n",
            "block1_conv2 (Conv2D)        (None, 224, 224, 64)      36928     \n",
            "_________________________________________________________________\n",
            "block1_pool (MaxPooling2D)   (None, 112, 112, 64)      0         \n",
            "_________________________________________________________________\n",
            "block2_conv1 (Conv2D)        (None, 112, 112, 128)     73856     \n",
            "_________________________________________________________________\n",
            "block2_conv2 (Conv2D)        (None, 112, 112, 128)     147584    \n",
            "_________________________________________________________________\n",
            "block2_pool (MaxPooling2D)   (None, 56, 56, 128)       0         \n",
            "_________________________________________________________________\n",
            "block3_conv1 (Conv2D)        (None, 56, 56, 256)       295168    \n",
            "_________________________________________________________________\n",
            "block3_conv2 (Conv2D)        (None, 56, 56, 256)       590080    \n",
            "_________________________________________________________________\n",
            "block3_conv3 (Conv2D)        (None, 56, 56, 256)       590080    \n",
            "_________________________________________________________________\n",
            "block3_pool (MaxPooling2D)   (None, 28, 28, 256)       0         \n",
            "_________________________________________________________________\n",
            "block4_conv1 (Conv2D)        (None, 28, 28, 512)       1180160   \n",
            "_________________________________________________________________\n",
            "block4_conv2 (Conv2D)        (None, 28, 28, 512)       2359808   \n",
            "_________________________________________________________________\n",
            "block4_conv3 (Conv2D)        (None, 28, 28, 512)       2359808   \n",
            "_________________________________________________________________\n",
            "block4_pool (MaxPooling2D)   (None, 14, 14, 512)       0         \n",
            "_________________________________________________________________\n",
            "block5_conv1 (Conv2D)        (None, 14, 14, 512)       2359808   \n",
            "_________________________________________________________________\n",
            "block5_conv2 (Conv2D)        (None, 14, 14, 512)       2359808   \n",
            "_________________________________________________________________\n",
            "block5_conv3 (Conv2D)        (None, 14, 14, 512)       2359808   \n",
            "_________________________________________________________________\n",
            "block5_pool (MaxPooling2D)   (None, 7, 7, 512)         0         \n",
            "_________________________________________________________________\n",
            "flatten (Flatten)            (None, 25088)             0         \n",
            "_________________________________________________________________\n",
            "fc1 (Dense)                  (None, 4096)              102764544 \n",
            "_________________________________________________________________\n",
            "fc2 (Dense)                  (None, 4096)              16781312  \n",
            "=================================================================\n",
            "Total params: 134,260,544\n",
            "Trainable params: 0\n",
            "Non-trainable params: 134,260,544\n",
            "_________________________________________________________________\n"
          ],
          "name": "stdout"
        }
      ]
    },
    {
      "cell_type": "code",
      "metadata": {
        "id": "59taDHdJ8ikh",
        "colab_type": "code",
        "colab": {
          "base_uri": "https://localhost:8080/",
          "height": 71
        },
        "outputId": "8d1486f6-ad7c-40ae-e280-9eee70b11d78"
      },
      "source": [
        "from tensorflow.keras import regularizers\n",
        "X= vggmodel.layers[-1].output\n",
        "\n",
        "predictions = Dense(4, activation=\"softmax\")(X)\n",
        "model_final = Model(input = vggmodel.input, output = predictions)\n"
      ],
      "execution_count": null,
      "outputs": [
        {
          "output_type": "stream",
          "text": [
            "/usr/local/lib/python3.6/dist-packages/ipykernel_launcher.py:5: UserWarning: Update your `Model` call to the Keras 2 API: `Model(inputs=Tensor(\"in..., outputs=Tensor(\"de...)`\n",
            "  \"\"\"\n"
          ],
          "name": "stderr"
        }
      ]
    },
    {
      "cell_type": "code",
      "metadata": {
        "id": "cNCno2TsnpGB",
        "colab_type": "code",
        "colab": {
          "base_uri": "https://localhost:8080/",
          "height": 935
        },
        "outputId": "79cafdef-031a-4f14-cc01-adc05a7200d1"
      },
      "source": [
        "model_final.summary()"
      ],
      "execution_count": null,
      "outputs": [
        {
          "output_type": "stream",
          "text": [
            "Model: \"model_1\"\n",
            "_________________________________________________________________\n",
            "Layer (type)                 Output Shape              Param #   \n",
            "=================================================================\n",
            "input_3 (InputLayer)         (None, 224, 224, 3)       0         \n",
            "_________________________________________________________________\n",
            "block1_conv1 (Conv2D)        (None, 224, 224, 64)      1792      \n",
            "_________________________________________________________________\n",
            "block1_conv2 (Conv2D)        (None, 224, 224, 64)      36928     \n",
            "_________________________________________________________________\n",
            "block1_pool (MaxPooling2D)   (None, 112, 112, 64)      0         \n",
            "_________________________________________________________________\n",
            "block2_conv1 (Conv2D)        (None, 112, 112, 128)     73856     \n",
            "_________________________________________________________________\n",
            "block2_conv2 (Conv2D)        (None, 112, 112, 128)     147584    \n",
            "_________________________________________________________________\n",
            "block2_pool (MaxPooling2D)   (None, 56, 56, 128)       0         \n",
            "_________________________________________________________________\n",
            "block3_conv1 (Conv2D)        (None, 56, 56, 256)       295168    \n",
            "_________________________________________________________________\n",
            "block3_conv2 (Conv2D)        (None, 56, 56, 256)       590080    \n",
            "_________________________________________________________________\n",
            "block3_conv3 (Conv2D)        (None, 56, 56, 256)       590080    \n",
            "_________________________________________________________________\n",
            "block3_pool (MaxPooling2D)   (None, 28, 28, 256)       0         \n",
            "_________________________________________________________________\n",
            "block4_conv1 (Conv2D)        (None, 28, 28, 512)       1180160   \n",
            "_________________________________________________________________\n",
            "block4_conv2 (Conv2D)        (None, 28, 28, 512)       2359808   \n",
            "_________________________________________________________________\n",
            "block4_conv3 (Conv2D)        (None, 28, 28, 512)       2359808   \n",
            "_________________________________________________________________\n",
            "block4_pool (MaxPooling2D)   (None, 14, 14, 512)       0         \n",
            "_________________________________________________________________\n",
            "block5_conv1 (Conv2D)        (None, 14, 14, 512)       2359808   \n",
            "_________________________________________________________________\n",
            "block5_conv2 (Conv2D)        (None, 14, 14, 512)       2359808   \n",
            "_________________________________________________________________\n",
            "block5_conv3 (Conv2D)        (None, 14, 14, 512)       2359808   \n",
            "_________________________________________________________________\n",
            "block5_pool (MaxPooling2D)   (None, 7, 7, 512)         0         \n",
            "_________________________________________________________________\n",
            "flatten (Flatten)            (None, 25088)             0         \n",
            "_________________________________________________________________\n",
            "fc1 (Dense)                  (None, 4096)              102764544 \n",
            "_________________________________________________________________\n",
            "fc2 (Dense)                  (None, 4096)              16781312  \n",
            "_________________________________________________________________\n",
            "dense_1 (Dense)              (None, 4)                 16388     \n",
            "=================================================================\n",
            "Total params: 134,276,932\n",
            "Trainable params: 16,388\n",
            "Non-trainable params: 134,260,544\n",
            "_________________________________________________________________\n"
          ],
          "name": "stdout"
        }
      ]
    },
    {
      "cell_type": "code",
      "metadata": {
        "id": "4ZRoo4eZIZMv",
        "colab_type": "code",
        "colab": {
          "base_uri": "https://localhost:8080/",
          "height": 391
        },
        "outputId": "3fedbcec-3054-49e9-8ca3-c57ebd10a100"
      },
      "source": [
        "for i in vggmodel.layers:\n",
        "  print(i.trainable)"
      ],
      "execution_count": null,
      "outputs": [
        {
          "output_type": "stream",
          "text": [
            "False\n",
            "False\n",
            "False\n",
            "False\n",
            "False\n",
            "False\n",
            "False\n",
            "False\n",
            "False\n",
            "False\n",
            "False\n",
            "False\n",
            "False\n",
            "False\n",
            "False\n",
            "False\n",
            "False\n",
            "False\n",
            "False\n",
            "False\n",
            "False\n",
            "False\n"
          ],
          "name": "stdout"
        }
      ]
    },
    {
      "cell_type": "code",
      "metadata": {
        "id": "vFYbGbdq8vg8",
        "colab_type": "code",
        "colab": {}
      },
      "source": [
        "model_final.compile(loss = \"categorical_crossentropy\", optimizer = keras.optimizers.Adam(lr=0.0001), metrics=[\"accuracy\"])"
      ],
      "execution_count": null,
      "outputs": []
    },
    {
      "cell_type": "code",
      "metadata": {
        "id": "i6yUCcd08xum",
        "colab_type": "code",
        "colab": {
          "base_uri": "https://localhost:8080/",
          "height": 935
        },
        "outputId": "42b9299c-8b7a-4384-d67b-30269ce9b09b"
      },
      "source": [
        "model_final.summary()"
      ],
      "execution_count": null,
      "outputs": [
        {
          "output_type": "stream",
          "text": [
            "Model: \"model_1\"\n",
            "_________________________________________________________________\n",
            "Layer (type)                 Output Shape              Param #   \n",
            "=================================================================\n",
            "input_3 (InputLayer)         (None, 224, 224, 3)       0         \n",
            "_________________________________________________________________\n",
            "block1_conv1 (Conv2D)        (None, 224, 224, 64)      1792      \n",
            "_________________________________________________________________\n",
            "block1_conv2 (Conv2D)        (None, 224, 224, 64)      36928     \n",
            "_________________________________________________________________\n",
            "block1_pool (MaxPooling2D)   (None, 112, 112, 64)      0         \n",
            "_________________________________________________________________\n",
            "block2_conv1 (Conv2D)        (None, 112, 112, 128)     73856     \n",
            "_________________________________________________________________\n",
            "block2_conv2 (Conv2D)        (None, 112, 112, 128)     147584    \n",
            "_________________________________________________________________\n",
            "block2_pool (MaxPooling2D)   (None, 56, 56, 128)       0         \n",
            "_________________________________________________________________\n",
            "block3_conv1 (Conv2D)        (None, 56, 56, 256)       295168    \n",
            "_________________________________________________________________\n",
            "block3_conv2 (Conv2D)        (None, 56, 56, 256)       590080    \n",
            "_________________________________________________________________\n",
            "block3_conv3 (Conv2D)        (None, 56, 56, 256)       590080    \n",
            "_________________________________________________________________\n",
            "block3_pool (MaxPooling2D)   (None, 28, 28, 256)       0         \n",
            "_________________________________________________________________\n",
            "block4_conv1 (Conv2D)        (None, 28, 28, 512)       1180160   \n",
            "_________________________________________________________________\n",
            "block4_conv2 (Conv2D)        (None, 28, 28, 512)       2359808   \n",
            "_________________________________________________________________\n",
            "block4_conv3 (Conv2D)        (None, 28, 28, 512)       2359808   \n",
            "_________________________________________________________________\n",
            "block4_pool (MaxPooling2D)   (None, 14, 14, 512)       0         \n",
            "_________________________________________________________________\n",
            "block5_conv1 (Conv2D)        (None, 14, 14, 512)       2359808   \n",
            "_________________________________________________________________\n",
            "block5_conv2 (Conv2D)        (None, 14, 14, 512)       2359808   \n",
            "_________________________________________________________________\n",
            "block5_conv3 (Conv2D)        (None, 14, 14, 512)       2359808   \n",
            "_________________________________________________________________\n",
            "block5_pool (MaxPooling2D)   (None, 7, 7, 512)         0         \n",
            "_________________________________________________________________\n",
            "flatten (Flatten)            (None, 25088)             0         \n",
            "_________________________________________________________________\n",
            "fc1 (Dense)                  (None, 4096)              102764544 \n",
            "_________________________________________________________________\n",
            "fc2 (Dense)                  (None, 4096)              16781312  \n",
            "_________________________________________________________________\n",
            "dense_1 (Dense)              (None, 4)                 16388     \n",
            "=================================================================\n",
            "Total params: 134,276,932\n",
            "Trainable params: 16,388\n",
            "Non-trainable params: 134,260,544\n",
            "_________________________________________________________________\n"
          ],
          "name": "stdout"
        }
      ]
    },
    {
      "cell_type": "code",
      "metadata": {
        "id": "UIV1Rie889QA",
        "colab_type": "code",
        "colab": {
          "base_uri": "https://localhost:8080/",
          "height": 1000
        },
        "outputId": "b2dede9c-9726-4189-8b12-77de20d0912b"
      },
      "source": [
        "from keras.callbacks import ModelCheckpoint, EarlyStopping\n",
        "checkpoint = ModelCheckpoint(\"vgg16_1.h5\", monitor='val_accuracy', verbose=1, save_best_only=True, save_weights_only=False, mode='auto', period=1)\n",
        "early = EarlyStopping(monitor='val_acc', min_delta=0, patience=40, verbose=1, mode='auto')\n",
        "hist=model_final.fit(traindata, steps_per_epoch= 2, epochs= 100, validation_data= testdata, validation_steps=1, callbacks=[checkpoint,early])\n",
        "model_final.save_weights(\"vgg16_1.h5\")"
      ],
      "execution_count": null,
      "outputs": [
        {
          "output_type": "stream",
          "text": [
            "Epoch 1/100\n",
            "2/2 [==============================] - 60s 30s/step - loss: 1.5006 - accuracy: 0.5000 - val_loss: 1.5028 - val_accuracy: 0.4375\n",
            "\n",
            "Epoch 00001: val_accuracy improved from -inf to 0.43750, saving model to vgg16_1.h5\n"
          ],
          "name": "stdout"
        },
        {
          "output_type": "stream",
          "text": [
            "/usr/local/lib/python3.6/dist-packages/keras/callbacks/callbacks.py:846: RuntimeWarning: Early stopping conditioned on metric `val_acc` which is not available. Available metrics are: val_loss,val_accuracy,loss,accuracy\n",
            "  (self.monitor, ','.join(list(logs.keys()))), RuntimeWarning\n"
          ],
          "name": "stderr"
        },
        {
          "output_type": "stream",
          "text": [
            "Epoch 2/100\n",
            "2/2 [==============================] - 49s 24s/step - loss: 1.4188 - accuracy: 0.4844 - val_loss: 1.5941 - val_accuracy: 0.4375\n",
            "\n",
            "Epoch 00002: val_accuracy did not improve from 0.43750\n",
            "Epoch 3/100\n",
            "2/2 [==============================] - 49s 24s/step - loss: 1.4824 - accuracy: 0.4219 - val_loss: 1.2574 - val_accuracy: 0.4688\n",
            "\n",
            "Epoch 00003: val_accuracy improved from 0.43750 to 0.46875, saving model to vgg16_1.h5\n",
            "Epoch 4/100\n",
            "2/2 [==============================] - 34s 17s/step - loss: 1.3643 - accuracy: 0.4375 - val_loss: 1.3115 - val_accuracy: 0.2500\n",
            "\n",
            "Epoch 00004: val_accuracy did not improve from 0.46875\n",
            "Epoch 5/100\n",
            "2/2 [==============================] - 48s 24s/step - loss: 1.2210 - accuracy: 0.4219 - val_loss: 1.1845 - val_accuracy: 0.5000\n",
            "\n",
            "Epoch 00005: val_accuracy improved from 0.46875 to 0.50000, saving model to vgg16_1.h5\n",
            "Epoch 6/100\n",
            "2/2 [==============================] - 50s 25s/step - loss: 1.3083 - accuracy: 0.3281 - val_loss: 1.0024 - val_accuracy: 0.5938\n",
            "\n",
            "Epoch 00006: val_accuracy improved from 0.50000 to 0.59375, saving model to vgg16_1.h5\n",
            "Epoch 7/100\n",
            "2/2 [==============================] - 48s 24s/step - loss: 1.0824 - accuracy: 0.5312 - val_loss: 1.1386 - val_accuracy: 0.5625\n",
            "\n",
            "Epoch 00007: val_accuracy did not improve from 0.59375\n",
            "Epoch 8/100\n",
            "2/2 [==============================] - 34s 17s/step - loss: 0.9759 - accuracy: 0.6875 - val_loss: 1.2248 - val_accuracy: 0.5000\n",
            "\n",
            "Epoch 00008: val_accuracy did not improve from 0.59375\n",
            "Epoch 9/100\n",
            "2/2 [==============================] - 48s 24s/step - loss: 1.1038 - accuracy: 0.6406 - val_loss: 0.9846 - val_accuracy: 0.6875\n",
            "\n",
            "Epoch 00009: val_accuracy improved from 0.59375 to 0.68750, saving model to vgg16_1.h5\n",
            "Epoch 10/100\n",
            "2/2 [==============================] - 48s 24s/step - loss: 0.9133 - accuracy: 0.7188 - val_loss: 0.9706 - val_accuracy: 0.7500\n",
            "\n",
            "Epoch 00010: val_accuracy improved from 0.68750 to 0.75000, saving model to vgg16_1.h5\n",
            "Epoch 11/100\n",
            "2/2 [==============================] - 48s 24s/step - loss: 1.0334 - accuracy: 0.5938 - val_loss: 0.9375 - val_accuracy: 0.6562\n",
            "\n",
            "Epoch 00011: val_accuracy did not improve from 0.75000\n",
            "Epoch 12/100\n",
            "2/2 [==============================] - 34s 17s/step - loss: 1.0053 - accuracy: 0.6094 - val_loss: 1.0982 - val_accuracy: 0.5000\n",
            "\n",
            "Epoch 00012: val_accuracy did not improve from 0.75000\n",
            "Epoch 13/100\n",
            "2/2 [==============================] - 49s 24s/step - loss: 0.8566 - accuracy: 0.7656 - val_loss: 0.8571 - val_accuracy: 0.7188\n",
            "\n",
            "Epoch 00013: val_accuracy did not improve from 0.75000\n",
            "Epoch 14/100\n",
            "2/2 [==============================] - 48s 24s/step - loss: 0.9344 - accuracy: 0.6094 - val_loss: 0.8624 - val_accuracy: 0.6875\n",
            "\n",
            "Epoch 00014: val_accuracy did not improve from 0.75000\n",
            "Epoch 15/100\n",
            "2/2 [==============================] - 48s 24s/step - loss: 0.8352 - accuracy: 0.7031 - val_loss: 0.7989 - val_accuracy: 0.7500\n",
            "\n",
            "Epoch 00015: val_accuracy did not improve from 0.75000\n",
            "Epoch 16/100\n",
            "2/2 [==============================] - 34s 17s/step - loss: 0.7849 - accuracy: 0.7500 - val_loss: 0.9793 - val_accuracy: 0.7500\n",
            "\n",
            "Epoch 00016: val_accuracy did not improve from 0.75000\n",
            "Epoch 17/100\n",
            "2/2 [==============================] - 48s 24s/step - loss: 0.8612 - accuracy: 0.7500 - val_loss: 0.7813 - val_accuracy: 0.9062\n",
            "\n",
            "Epoch 00017: val_accuracy improved from 0.75000 to 0.90625, saving model to vgg16_1.h5\n",
            "Epoch 18/100\n",
            "2/2 [==============================] - 48s 24s/step - loss: 0.7001 - accuracy: 0.7656 - val_loss: 0.8439 - val_accuracy: 0.5938\n",
            "\n",
            "Epoch 00018: val_accuracy did not improve from 0.90625\n",
            "Epoch 19/100\n",
            "2/2 [==============================] - 51s 25s/step - loss: 0.8106 - accuracy: 0.7031 - val_loss: 0.7405 - val_accuracy: 0.8438\n",
            "\n",
            "Epoch 00019: val_accuracy did not improve from 0.90625\n",
            "Epoch 20/100\n",
            "2/2 [==============================] - 34s 17s/step - loss: 0.7080 - accuracy: 0.7344 - val_loss: 0.4331 - val_accuracy: 1.0000\n",
            "\n",
            "Epoch 00020: val_accuracy improved from 0.90625 to 1.00000, saving model to vgg16_1.h5\n",
            "Epoch 21/100\n",
            "2/2 [==============================] - 48s 24s/step - loss: 0.8075 - accuracy: 0.7031 - val_loss: 0.7479 - val_accuracy: 0.7500\n",
            "\n",
            "Epoch 00021: val_accuracy did not improve from 1.00000\n",
            "Epoch 22/100\n",
            "2/2 [==============================] - 51s 25s/step - loss: 0.6951 - accuracy: 0.7656 - val_loss: 0.7040 - val_accuracy: 0.8125\n",
            "\n",
            "Epoch 00022: val_accuracy did not improve from 1.00000\n",
            "Epoch 23/100\n",
            "2/2 [==============================] - 48s 24s/step - loss: 0.7746 - accuracy: 0.7500 - val_loss: 0.6916 - val_accuracy: 0.8750\n",
            "\n",
            "Epoch 00023: val_accuracy did not improve from 1.00000\n",
            "Epoch 24/100\n",
            "2/2 [==============================] - 34s 17s/step - loss: 0.6883 - accuracy: 0.7969 - val_loss: 0.9115 - val_accuracy: 0.7500\n",
            "\n",
            "Epoch 00024: val_accuracy did not improve from 1.00000\n",
            "Epoch 25/100\n",
            "2/2 [==============================] - 50s 25s/step - loss: 0.7552 - accuracy: 0.7188 - val_loss: 0.6341 - val_accuracy: 0.8438\n",
            "\n",
            "Epoch 00025: val_accuracy did not improve from 1.00000\n",
            "Epoch 26/100\n",
            "2/2 [==============================] - 48s 24s/step - loss: 0.7228 - accuracy: 0.7500 - val_loss: 0.6397 - val_accuracy: 0.7188\n",
            "\n",
            "Epoch 00026: val_accuracy did not improve from 1.00000\n",
            "Epoch 27/100\n",
            "2/2 [==============================] - 48s 24s/step - loss: 0.6297 - accuracy: 0.7969 - val_loss: 0.7554 - val_accuracy: 0.7188\n",
            "\n",
            "Epoch 00027: val_accuracy did not improve from 1.00000\n",
            "Epoch 28/100\n",
            "2/2 [==============================] - 34s 17s/step - loss: 0.6736 - accuracy: 0.7656 - val_loss: 0.9741 - val_accuracy: 0.7500\n",
            "\n",
            "Epoch 00028: val_accuracy did not improve from 1.00000\n",
            "Epoch 29/100\n",
            "2/2 [==============================] - 48s 24s/step - loss: 0.6010 - accuracy: 0.7969 - val_loss: 0.6991 - val_accuracy: 0.6875\n",
            "\n",
            "Epoch 00029: val_accuracy did not improve from 1.00000\n",
            "Epoch 30/100\n",
            "2/2 [==============================] - 48s 24s/step - loss: 0.6589 - accuracy: 0.7812 - val_loss: 0.6586 - val_accuracy: 0.8750\n",
            "\n",
            "Epoch 00030: val_accuracy did not improve from 1.00000\n",
            "Epoch 31/100\n",
            "2/2 [==============================] - 48s 24s/step - loss: 0.6530 - accuracy: 0.7188 - val_loss: 0.6811 - val_accuracy: 0.6875\n",
            "\n",
            "Epoch 00031: val_accuracy did not improve from 1.00000\n",
            "Epoch 32/100\n",
            "2/2 [==============================] - 34s 17s/step - loss: 0.6528 - accuracy: 0.7500 - val_loss: 0.2955 - val_accuracy: 1.0000\n",
            "\n",
            "Epoch 00032: val_accuracy did not improve from 1.00000\n",
            "Epoch 33/100\n",
            "2/2 [==============================] - 50s 25s/step - loss: 0.5972 - accuracy: 0.8281 - val_loss: 0.5472 - val_accuracy: 0.8438\n",
            "\n",
            "Epoch 00033: val_accuracy did not improve from 1.00000\n",
            "Epoch 34/100\n",
            "2/2 [==============================] - 48s 24s/step - loss: 0.6040 - accuracy: 0.8438 - val_loss: 0.7072 - val_accuracy: 0.7500\n",
            "\n",
            "Epoch 00034: val_accuracy did not improve from 1.00000\n",
            "Epoch 35/100\n",
            "2/2 [==============================] - 48s 24s/step - loss: 0.5324 - accuracy: 0.9062 - val_loss: 0.6572 - val_accuracy: 0.7500\n",
            "\n",
            "Epoch 00035: val_accuracy did not improve from 1.00000\n",
            "Epoch 36/100\n",
            "2/2 [==============================] - 34s 17s/step - loss: 0.6221 - accuracy: 0.8125 - val_loss: 0.7411 - val_accuracy: 0.5000\n",
            "\n",
            "Epoch 00036: val_accuracy did not improve from 1.00000\n",
            "Epoch 37/100\n",
            "2/2 [==============================] - 48s 24s/step - loss: 0.6412 - accuracy: 0.7500 - val_loss: 0.5652 - val_accuracy: 0.8438\n",
            "\n",
            "Epoch 00037: val_accuracy did not improve from 1.00000\n",
            "Epoch 38/100\n",
            "2/2 [==============================] - 48s 24s/step - loss: 0.7108 - accuracy: 0.8281 - val_loss: 0.5825 - val_accuracy: 0.8125\n",
            "\n",
            "Epoch 00038: val_accuracy did not improve from 1.00000\n",
            "Epoch 39/100\n",
            "2/2 [==============================] - 48s 24s/step - loss: 0.6599 - accuracy: 0.7969 - val_loss: 0.6610 - val_accuracy: 0.7500\n",
            "\n",
            "Epoch 00039: val_accuracy did not improve from 1.00000\n",
            "Epoch 40/100\n",
            "2/2 [==============================] - 34s 17s/step - loss: 0.5645 - accuracy: 0.8281 - val_loss: 1.0305 - val_accuracy: 0.5000\n",
            "\n",
            "Epoch 00040: val_accuracy did not improve from 1.00000\n",
            "Epoch 41/100\n",
            "2/2 [==============================] - 48s 24s/step - loss: 0.6103 - accuracy: 0.8594 - val_loss: 0.6813 - val_accuracy: 0.7812\n",
            "\n",
            "Epoch 00041: val_accuracy did not improve from 1.00000\n",
            "Epoch 42/100\n",
            "2/2 [==============================] - 48s 24s/step - loss: 0.4729 - accuracy: 0.8281 - val_loss: 0.5305 - val_accuracy: 0.8438\n",
            "\n",
            "Epoch 00042: val_accuracy did not improve from 1.00000\n",
            "Epoch 43/100\n",
            "2/2 [==============================] - 48s 24s/step - loss: 0.5033 - accuracy: 0.8594 - val_loss: 0.6288 - val_accuracy: 0.8125\n",
            "\n",
            "Epoch 00043: val_accuracy did not improve from 1.00000\n",
            "Epoch 44/100\n",
            "2/2 [==============================] - 34s 17s/step - loss: 0.5205 - accuracy: 0.8438 - val_loss: 0.4174 - val_accuracy: 0.7500\n",
            "\n",
            "Epoch 00044: val_accuracy did not improve from 1.00000\n",
            "Epoch 45/100\n",
            "2/2 [==============================] - 48s 24s/step - loss: 0.5955 - accuracy: 0.7656 - val_loss: 0.5925 - val_accuracy: 0.7812\n",
            "\n",
            "Epoch 00045: val_accuracy did not improve from 1.00000\n",
            "Epoch 46/100\n",
            "2/2 [==============================] - 49s 25s/step - loss: 0.5671 - accuracy: 0.7969 - val_loss: 0.6951 - val_accuracy: 0.8125\n",
            "\n",
            "Epoch 00046: val_accuracy did not improve from 1.00000\n",
            "Epoch 47/100\n",
            "2/2 [==============================] - 48s 24s/step - loss: 0.4779 - accuracy: 0.8438 - val_loss: 0.4880 - val_accuracy: 0.8438\n",
            "\n",
            "Epoch 00047: val_accuracy did not improve from 1.00000\n",
            "Epoch 48/100\n",
            "2/2 [==============================] - 34s 17s/step - loss: 0.6209 - accuracy: 0.7812 - val_loss: 0.5354 - val_accuracy: 0.7500\n",
            "\n",
            "Epoch 00048: val_accuracy did not improve from 1.00000\n",
            "Epoch 49/100\n",
            "2/2 [==============================] - 48s 24s/step - loss: 0.5504 - accuracy: 0.8594 - val_loss: 0.5241 - val_accuracy: 0.8125\n",
            "\n",
            "Epoch 00049: val_accuracy did not improve from 1.00000\n",
            "Epoch 50/100\n",
            "2/2 [==============================] - 48s 24s/step - loss: 0.6388 - accuracy: 0.7500 - val_loss: 0.5700 - val_accuracy: 0.7500\n",
            "\n",
            "Epoch 00050: val_accuracy did not improve from 1.00000\n",
            "Epoch 51/100\n",
            "2/2 [==============================] - 48s 24s/step - loss: 0.4810 - accuracy: 0.8281 - val_loss: 0.6214 - val_accuracy: 0.7500\n",
            "\n",
            "Epoch 00051: val_accuracy did not improve from 1.00000\n",
            "Epoch 52/100\n",
            "2/2 [==============================] - 34s 17s/step - loss: 0.5133 - accuracy: 0.8750 - val_loss: 0.7598 - val_accuracy: 0.2500\n",
            "\n",
            "Epoch 00052: val_accuracy did not improve from 1.00000\n",
            "Epoch 53/100\n",
            "2/2 [==============================] - 48s 24s/step - loss: 0.5616 - accuracy: 0.8281 - val_loss: 0.5212 - val_accuracy: 0.7500\n",
            "\n",
            "Epoch 00053: val_accuracy did not improve from 1.00000\n",
            "Epoch 54/100\n",
            "2/2 [==============================] - 48s 24s/step - loss: 0.4882 - accuracy: 0.8750 - val_loss: 0.6239 - val_accuracy: 0.7500\n",
            "\n",
            "Epoch 00054: val_accuracy did not improve from 1.00000\n",
            "Epoch 55/100\n",
            "2/2 [==============================] - 48s 24s/step - loss: 0.5383 - accuracy: 0.8125 - val_loss: 0.6007 - val_accuracy: 0.7188\n",
            "\n",
            "Epoch 00055: val_accuracy did not improve from 1.00000\n",
            "Epoch 56/100\n",
            "2/2 [==============================] - 35s 17s/step - loss: 0.5742 - accuracy: 0.8281 - val_loss: 0.2864 - val_accuracy: 1.0000\n",
            "\n",
            "Epoch 00056: val_accuracy did not improve from 1.00000\n",
            "Epoch 57/100\n",
            "2/2 [==============================] - 48s 24s/step - loss: 0.5848 - accuracy: 0.7656 - val_loss: 0.5225 - val_accuracy: 0.7812\n",
            "\n",
            "Epoch 00057: val_accuracy did not improve from 1.00000\n",
            "Epoch 58/100\n",
            "2/2 [==============================] - 48s 24s/step - loss: 0.4617 - accuracy: 0.8594 - val_loss: 0.5903 - val_accuracy: 0.7812\n",
            "\n",
            "Epoch 00058: val_accuracy did not improve from 1.00000\n",
            "Epoch 59/100\n",
            "2/2 [==============================] - 48s 24s/step - loss: 0.5184 - accuracy: 0.8750 - val_loss: 0.6154 - val_accuracy: 0.7812\n",
            "\n",
            "Epoch 00059: val_accuracy did not improve from 1.00000\n",
            "Epoch 60/100\n",
            "2/2 [==============================] - 36s 18s/step - loss: 0.5319 - accuracy: 0.7344 - val_loss: 0.1447 - val_accuracy: 1.0000\n",
            "\n",
            "Epoch 00060: val_accuracy did not improve from 1.00000\n",
            "Epoch 61/100\n",
            "2/2 [==============================] - 48s 24s/step - loss: 0.5028 - accuracy: 0.8438 - val_loss: 0.5870 - val_accuracy: 0.7812\n",
            "\n",
            "Epoch 00061: val_accuracy did not improve from 1.00000\n",
            "Epoch 62/100\n",
            "2/2 [==============================] - 48s 24s/step - loss: 0.5760 - accuracy: 0.7969 - val_loss: 0.5072 - val_accuracy: 0.8125\n",
            "\n",
            "Epoch 00062: val_accuracy did not improve from 1.00000\n",
            "Epoch 63/100\n",
            "2/2 [==============================] - 49s 24s/step - loss: 0.4910 - accuracy: 0.8594 - val_loss: 0.5832 - val_accuracy: 0.7812\n",
            "\n",
            "Epoch 00063: val_accuracy did not improve from 1.00000\n",
            "Epoch 64/100\n",
            "2/2 [==============================] - 34s 17s/step - loss: 0.4820 - accuracy: 0.8594 - val_loss: 0.4661 - val_accuracy: 1.0000\n",
            "\n",
            "Epoch 00064: val_accuracy did not improve from 1.00000\n",
            "Epoch 65/100\n",
            "2/2 [==============================] - 48s 24s/step - loss: 0.6334 - accuracy: 0.7969 - val_loss: 0.6536 - val_accuracy: 0.7500\n",
            "\n",
            "Epoch 00065: val_accuracy did not improve from 1.00000\n",
            "Epoch 66/100\n",
            "2/2 [==============================] - 48s 24s/step - loss: 0.4373 - accuracy: 0.8438 - val_loss: 0.5190 - val_accuracy: 0.8438\n",
            "\n",
            "Epoch 00066: val_accuracy did not improve from 1.00000\n",
            "Epoch 67/100\n",
            "2/2 [==============================] - 48s 24s/step - loss: 0.4515 - accuracy: 0.8750 - val_loss: 0.4858 - val_accuracy: 0.8125\n",
            "\n",
            "Epoch 00067: val_accuracy did not improve from 1.00000\n",
            "Epoch 68/100\n",
            "2/2 [==============================] - 34s 17s/step - loss: 0.5282 - accuracy: 0.8438 - val_loss: 0.4306 - val_accuracy: 0.7500\n",
            "\n",
            "Epoch 00068: val_accuracy did not improve from 1.00000\n",
            "Epoch 69/100\n",
            "2/2 [==============================] - 48s 24s/step - loss: 0.3960 - accuracy: 0.8125 - val_loss: 0.5522 - val_accuracy: 0.8125\n",
            "\n",
            "Epoch 00069: val_accuracy did not improve from 1.00000\n",
            "Epoch 70/100\n",
            "2/2 [==============================] - 48s 24s/step - loss: 0.5588 - accuracy: 0.8281 - val_loss: 0.4490 - val_accuracy: 0.7812\n",
            "\n",
            "Epoch 00070: val_accuracy did not improve from 1.00000\n",
            "Epoch 71/100\n",
            "2/2 [==============================] - 48s 24s/step - loss: 0.4988 - accuracy: 0.7969 - val_loss: 0.6131 - val_accuracy: 0.7500\n",
            "\n",
            "Epoch 00071: val_accuracy did not improve from 1.00000\n",
            "Epoch 72/100\n",
            "2/2 [==============================] - 34s 17s/step - loss: 0.4544 - accuracy: 0.8594 - val_loss: 0.4845 - val_accuracy: 1.0000\n",
            "\n",
            "Epoch 00072: val_accuracy did not improve from 1.00000\n",
            "Epoch 73/100\n",
            "2/2 [==============================] - 50s 25s/step - loss: 0.4386 - accuracy: 0.8438 - val_loss: 0.5394 - val_accuracy: 0.8125\n",
            "\n",
            "Epoch 00073: val_accuracy did not improve from 1.00000\n",
            "Epoch 74/100\n",
            "2/2 [==============================] - 48s 24s/step - loss: 0.4769 - accuracy: 0.8125 - val_loss: 0.5127 - val_accuracy: 0.8438\n",
            "\n",
            "Epoch 00074: val_accuracy did not improve from 1.00000\n",
            "Epoch 75/100\n",
            "2/2 [==============================] - 48s 24s/step - loss: 0.5733 - accuracy: 0.7812 - val_loss: 0.5728 - val_accuracy: 0.7188\n",
            "\n",
            "Epoch 00075: val_accuracy did not improve from 1.00000\n",
            "Epoch 76/100\n",
            "2/2 [==============================] - 34s 17s/step - loss: 0.4001 - accuracy: 0.8594 - val_loss: 0.3034 - val_accuracy: 0.7500\n",
            "\n",
            "Epoch 00076: val_accuracy did not improve from 1.00000\n",
            "Epoch 77/100\n",
            "2/2 [==============================] - 48s 24s/step - loss: 0.4233 - accuracy: 0.8594 - val_loss: 0.4628 - val_accuracy: 0.8750\n",
            "\n",
            "Epoch 00077: val_accuracy did not improve from 1.00000\n",
            "Epoch 78/100\n",
            "2/2 [==============================] - 48s 24s/step - loss: 0.5803 - accuracy: 0.7969 - val_loss: 0.5032 - val_accuracy: 0.8750\n",
            "\n",
            "Epoch 00078: val_accuracy did not improve from 1.00000\n",
            "Epoch 79/100\n",
            "2/2 [==============================] - 49s 25s/step - loss: 0.4054 - accuracy: 0.8906 - val_loss: 0.5632 - val_accuracy: 0.6562\n",
            "\n",
            "Epoch 00079: val_accuracy did not improve from 1.00000\n",
            "Epoch 80/100\n",
            "2/2 [==============================] - 34s 17s/step - loss: 0.4381 - accuracy: 0.8750 - val_loss: 0.9362 - val_accuracy: 0.7500\n",
            "\n",
            "Epoch 00080: val_accuracy did not improve from 1.00000\n",
            "Epoch 81/100\n",
            "2/2 [==============================] - 48s 24s/step - loss: 0.4458 - accuracy: 0.8281 - val_loss: 0.7092 - val_accuracy: 0.7188\n",
            "\n",
            "Epoch 00081: val_accuracy did not improve from 1.00000\n",
            "Epoch 82/100\n",
            "2/2 [==============================] - 48s 24s/step - loss: 0.5354 - accuracy: 0.8281 - val_loss: 0.4128 - val_accuracy: 0.8438\n",
            "\n",
            "Epoch 00082: val_accuracy did not improve from 1.00000\n",
            "Epoch 83/100\n",
            "2/2 [==============================] - 48s 24s/step - loss: 0.4916 - accuracy: 0.8750 - val_loss: 0.4613 - val_accuracy: 0.7812\n",
            "\n",
            "Epoch 00083: val_accuracy did not improve from 1.00000\n",
            "Epoch 84/100\n",
            "2/2 [==============================] - 34s 17s/step - loss: 0.5165 - accuracy: 0.7656 - val_loss: 0.3780 - val_accuracy: 1.0000\n",
            "\n",
            "Epoch 00084: val_accuracy did not improve from 1.00000\n",
            "Epoch 85/100\n",
            "2/2 [==============================] - 48s 24s/step - loss: 0.3638 - accuracy: 0.9062 - val_loss: 0.4829 - val_accuracy: 0.7812\n",
            "\n",
            "Epoch 00085: val_accuracy did not improve from 1.00000\n",
            "Epoch 86/100\n",
            "2/2 [==============================] - 48s 24s/step - loss: 0.5181 - accuracy: 0.8125 - val_loss: 0.5880 - val_accuracy: 0.7812\n",
            "\n",
            "Epoch 00086: val_accuracy did not improve from 1.00000\n",
            "Epoch 87/100\n",
            "2/2 [==============================] - 49s 25s/step - loss: 0.5359 - accuracy: 0.8438 - val_loss: 0.5160 - val_accuracy: 0.8125\n",
            "\n",
            "Epoch 00087: val_accuracy did not improve from 1.00000\n",
            "Epoch 88/100\n",
            "2/2 [==============================] - 34s 17s/step - loss: 0.3760 - accuracy: 0.8594 - val_loss: 0.1280 - val_accuracy: 1.0000\n",
            "\n",
            "Epoch 00088: val_accuracy did not improve from 1.00000\n",
            "Epoch 89/100\n",
            "2/2 [==============================] - 48s 24s/step - loss: 0.4545 - accuracy: 0.8438 - val_loss: 0.5656 - val_accuracy: 0.7188\n",
            "\n",
            "Epoch 00089: val_accuracy did not improve from 1.00000\n",
            "Epoch 90/100\n",
            "2/2 [==============================] - 48s 24s/step - loss: 0.4234 - accuracy: 0.8906 - val_loss: 0.4110 - val_accuracy: 0.8750\n",
            "\n",
            "Epoch 00090: val_accuracy did not improve from 1.00000\n",
            "Epoch 91/100\n",
            "2/2 [==============================] - 48s 24s/step - loss: 0.4398 - accuracy: 0.8438 - val_loss: 0.5683 - val_accuracy: 0.7500\n",
            "\n",
            "Epoch 00091: val_accuracy did not improve from 1.00000\n",
            "Epoch 92/100\n",
            "2/2 [==============================] - 34s 17s/step - loss: 0.3836 - accuracy: 0.8594 - val_loss: 0.4824 - val_accuracy: 0.7500\n",
            "\n",
            "Epoch 00092: val_accuracy did not improve from 1.00000\n",
            "Epoch 93/100\n",
            "2/2 [==============================] - 48s 24s/step - loss: 0.4868 - accuracy: 0.8750 - val_loss: 0.4895 - val_accuracy: 0.7812\n",
            "\n",
            "Epoch 00093: val_accuracy did not improve from 1.00000\n",
            "Epoch 94/100\n",
            "2/2 [==============================] - 48s 24s/step - loss: 0.4715 - accuracy: 0.8438 - val_loss: 0.4936 - val_accuracy: 0.7812\n",
            "\n",
            "Epoch 00094: val_accuracy did not improve from 1.00000\n",
            "Epoch 95/100\n",
            "2/2 [==============================] - 48s 24s/step - loss: 0.4988 - accuracy: 0.7969 - val_loss: 0.5464 - val_accuracy: 0.7188\n",
            "\n",
            "Epoch 00095: val_accuracy did not improve from 1.00000\n",
            "Epoch 96/100\n",
            "2/2 [==============================] - 34s 17s/step - loss: 0.5099 - accuracy: 0.8281 - val_loss: 0.3243 - val_accuracy: 1.0000\n",
            "\n",
            "Epoch 00096: val_accuracy did not improve from 1.00000\n",
            "Epoch 97/100\n",
            "2/2 [==============================] - 48s 24s/step - loss: 0.4396 - accuracy: 0.8594 - val_loss: 0.4542 - val_accuracy: 0.7812\n",
            "\n",
            "Epoch 00097: val_accuracy did not improve from 1.00000\n",
            "Epoch 98/100\n",
            "2/2 [==============================] - 48s 24s/step - loss: 0.4529 - accuracy: 0.8438 - val_loss: 0.5504 - val_accuracy: 0.7812\n",
            "\n",
            "Epoch 00098: val_accuracy did not improve from 1.00000\n",
            "Epoch 99/100\n",
            "2/2 [==============================] - 48s 24s/step - loss: 0.4497 - accuracy: 0.8281 - val_loss: 0.5064 - val_accuracy: 0.7812\n",
            "\n",
            "Epoch 00099: val_accuracy did not improve from 1.00000\n",
            "Epoch 100/100\n",
            "2/2 [==============================] - 36s 18s/step - loss: 0.3986 - accuracy: 0.8594 - val_loss: 0.3490 - val_accuracy: 1.0000\n",
            "\n",
            "Epoch 00100: val_accuracy did not improve from 1.00000\n"
          ],
          "name": "stdout"
        }
      ]
    },
    {
      "cell_type": "markdown",
      "metadata": {
        "id": "ED7u_hcD3h4c",
        "colab_type": "text"
      },
      "source": [
        ""
      ]
    },
    {
      "cell_type": "code",
      "metadata": {
        "id": "YtQxWrIlPU_M",
        "colab_type": "code",
        "colab": {
          "base_uri": "https://localhost:8080/",
          "height": 295
        },
        "outputId": "cee6232b-c963-4d46-a7ec-75f494c701c0"
      },
      "source": [
        "import matplotlib.pyplot as plt\n",
        "plt.plot(hist.history[\"accuracy\"])\n",
        "plt.plot(hist.history['val_accuracy'])\n",
        "\n",
        "plt.title(\"model accuracy\")\n",
        "plt.ylabel(\"Accuracy\")\n",
        "plt.xlabel(\"Epoch\")\n",
        "plt.legend([\"Accuracy\",\"Validation Accuracy\"])\n",
        "plt.show()"
      ],
      "execution_count": 23,
      "outputs": [
        {
          "output_type": "display_data",
          "data": {
            "image/png": "[encoded data removed]",
            "text/plain": [
              "<Figure size 432x288 with 1 Axes>"
            ]
          },
          "metadata": {
            "tags": [],
            "needs_background": "light"
          }
        }
      ]
    },
    {
      "cell_type": "code",
      "metadata": {
        "id": "EsjZHi9jaU4Y",
        "colab_type": "code",
        "colab": {
          "base_uri": "https://localhost:8080/",
          "height": 279
        },
        "outputId": "7c5f4b1e-3d5d-484f-a014-98613e0e7038"
      },
      "source": [
        "plt.plot(hist.history['loss'])\n",
        "plt.plot(hist.history['val_loss'])\n",
        "plt.ylabel(\"Loss\")\n",
        "plt.xlabel(\"Epoch\")\n",
        "plt.legend([\"loss\",\"Validation Loss\"])\n",
        "plt.show()"
      ],
      "execution_count": 24,
      "outputs": [
        {
          "output_type": "display_data",
          "data": {
            "image/png": "[encoded data removed]",
            "text/plain": [
              "<Figure size 432x288 with 1 Axes>"
            ]
          },
          "metadata": {
            "tags": [],
            "needs_background": "light"
          }
        }
      ]
    },
    {
      "cell_type": "code",
      "metadata": {
        "id": "_2GdDycwS52M",
        "colab_type": "code",
        "colab": {}
      },
      "source": [
        "from keras.preprocessing.image import ImageDataGenerator\n",
        "from sklearn.metrics import classification_report, confusion_matrix\n",
        "\n",
        "test_datagen = ImageDataGenerator()"
      ],
      "execution_count": 25,
      "outputs": []
    },
    {
      "cell_type": "code",
      "metadata": {
        "id": "9-fknWZIS-CT",
        "colab_type": "code",
        "colab": {
          "base_uri": "https://localhost:8080/",
          "height": 34
        },
        "outputId": "fabc3e61-50d5-40c8-f0ba-2bc5e75898d0"
      },
      "source": [
        "validation_generator = test_datagen.flow_from_directory('/content/drive/My Drive/data_ouput/test',\n",
        "                                                        target_size=(224, 224),\n",
        "                                                        batch_size=32,\n",
        "                                                        class_mode='categorical')"
      ],
      "execution_count": 26,
      "outputs": [
        {
          "output_type": "stream",
          "text": [
            "Found 100 images belonging to 4 classes.\n"
          ],
          "name": "stdout"
        }
      ]
    },
    {
      "cell_type": "code",
      "metadata": {
        "id": "RSoXpGKcTEnR",
        "colab_type": "code",
        "colab": {
          "base_uri": "https://localhost:8080/",
          "height": 306
        },
        "outputId": "e3bc89d2-5809-4d1a-ffd1-f3404a18da2c"
      },
      "source": [
        "import numpy as np\n",
        "#Confution Matrix and Classification Report\n",
        "Y_pred = model_final.predict_generator(validation_generator)\n",
        "y_pred = np.argmax(Y_pred, axis=1)\n",
        "print('Confusion Matrix')\n",
        "print(confusion_matrix(validation_generator.classes, y_pred))\n",
        "print('Classification Report')\n",
        "target_names = ['grade0', 'grade1', 'grade2','grade3']\n",
        "print(classification_report(validation_generator.classes, y_pred, target_names=target_names))"
      ],
      "execution_count": 27,
      "outputs": [
        {
          "output_type": "stream",
          "text": [
            "Confusion Matrix\n",
            "[[5 9 7 4]\n",
            " [9 8 4 4]\n",
            " [5 7 6 7]\n",
            " [3 9 9 4]]\n",
            "Classification Report\n",
            "              precision    recall  f1-score   support\n",
            "\n",
            "      grade0       0.23      0.20      0.21        25\n",
            "      grade1       0.24      0.32      0.28        25\n",
            "      grade2       0.23      0.24      0.24        25\n",
            "      grade3       0.21      0.16      0.18        25\n",
            "\n",
            "    accuracy                           0.23       100\n",
            "   macro avg       0.23      0.23      0.23       100\n",
            "weighted avg       0.23      0.23      0.23       100\n",
            "\n"
          ],
          "name": "stdout"
        }
      ]
    },
    {
      "cell_type": "code",
      "metadata": {
        "id": "B-E18MG6VMMN",
        "colab_type": "code",
        "colab": {
          "base_uri": "https://localhost:8080/",
          "height": 269
        },
        "outputId": "954e6882-533f-4b9e-f381-d8babd406a2e"
      },
      "source": [
        "from keras.preprocessing import image\n",
        "import matplotlib.pyplot as plt\n",
        "\n",
        "img = image.load_img(\"/content/drive/My Drive/data_ouput/test/grade1/grade1-079.jpg\",target_size=(224,224))\n",
        "img = np.asarray(img)\n",
        "plt.imshow(img)\n",
        "img = np.expand_dims(img, axis=0)"
      ],
      "execution_count": 28,
      "outputs": [
        {
          "output_type": "display_data",
          "data": {
            "image/png": "[encoded data removed]",
            "text/plain": [
              "<Figure size 432x288 with 1 Axes>"
            ]
          },
          "metadata": {
            "tags": [],
            "needs_background": "light"
          }
        }
      ]
    },
    {
      "cell_type": "code",
      "metadata": {
        "id": "Ux21nwVeV0mE",
        "colab_type": "code",
        "colab": {}
      },
      "source": [
        "output = model_final.predict(img)"
      ],
      "execution_count": 29,
      "outputs": []
    },
    {
      "cell_type": "code",
      "metadata": {
        "id": "crw2NNGyV7kN",
        "colab_type": "code",
        "colab": {
          "base_uri": "https://localhost:8080/",
          "height": 34
        },
        "outputId": "457ae198-1c43-4468-9221-1b898908db8b"
      },
      "source": [
        "output\n",
        "ans='grade'+str(np.argmax(output[0],axis=0))\n",
        "print(ans)"
      ],
      "execution_count": 30,
      "outputs": [
        {
          "output_type": "stream",
          "text": [
            "grade1\n"
          ],
          "name": "stdout"
        }
      ]
    },
    {
      "cell_type": "code",
      "metadata": {
        "id": "YbH-5BZmX-K4",
        "colab_type": "code",
        "colab": {
          "base_uri": "https://localhost:8080/",
          "height": 153
        },
        "outputId": "4bde460c-01cf-4e8d-84a8-6a1d91c64d68"
      },
      "source": [
        "import os\n",
        "data_path='/content/drive/My Drive/data_ouput/test'\n",
        "data_dir_list=os.listdir(data_path)\n",
        "for dataset in data_dir_list:\n",
        "  print(dataset)\n",
        "  img_list=os.listdir(data_path+'/'+dataset)\n",
        "  correctCount=0\n",
        "  wrongCount=0\n",
        "  for img in img_list:\n",
        "    img_path=data_path+'/'+dataset+'/'+img\n",
        "    input_image = image.load_img(img_path,target_size=(224,224))\n",
        "    input_image = np.asarray(input_image)\n",
        "    input_image = np.expand_dims(input_image, axis=0)\n",
        "    output = model_final.predict(input_image)\n",
        "    ans='grade'+str(np.argmax(output[0],axis=0))\n",
        "    if( ans in img):\n",
        "      correctCount+=1\n",
        "    else:\n",
        "      wrongCount+=1\n",
        "  print(\"correct Count {} WrongCount {}\".format(correctCount,wrongCount))\n",
        "\n",
        "\n"
      ],
      "execution_count": 31,
      "outputs": [
        {
          "output_type": "stream",
          "text": [
            "grade1\n",
            "correct Count 19 WrongCount 6\n",
            "grade0\n",
            "correct Count 20 WrongCount 5\n",
            "grade2\n",
            "correct Count 23 WrongCount 2\n",
            "grade3\n",
            "correct Count 16 WrongCount 9\n"
          ],
          "name": "stdout"
        }
      ]
    },
    {
      "cell_type": "code",
      "metadata": {
        "id": "Ml4QAr_Avw2T",
        "colab_type": "code",
        "colab": {
          "base_uri": "https://localhost:8080/",
          "height": 51
        },
        "outputId": "528e235b-ee46-433f-cd8a-dd5466c68d32"
      },
      "source": [
        "tr_loss,tr_acc=model_final.evaluate(validation_generator)\n",
        "tr_acc"
      ],
      "execution_count": 32,
      "outputs": [
        {
          "output_type": "stream",
          "text": [
            "4/4 [==============================] - 53s 13s/step\n"
          ],
          "name": "stdout"
        },
        {
          "output_type": "execute_result",
          "data": {
            "text/plain": [
              "0.7799999713897705"
            ]
          },
          "metadata": {
            "tags": []
          },
          "execution_count": 32
        }
      ]
    },
    {
      "cell_type": "code",
      "metadata": {
        "id": "uQ_U_O6XcOQY",
        "colab_type": "code",
        "colab": {}
      },
      "source": [
        ""
      ],
      "execution_count": null,
      "outputs": []
    },
    {
      "cell_type": "code",
      "metadata": {
        "id": "R6Fx71JwgONy",
        "colab_type": "code",
        "colab": {}
      },
      "source": [
        ""
      ],
      "execution_count": null,
      "outputs": []
    },
    {
      "cell_type": "code",
      "metadata": {
        "id": "PiiV053i4At7",
        "colab_type": "code",
        "colab": {}
      },
      "source": [
        "model_final.save('/content/drive/My Drive/Best models/modelbest.h5')"
      ],
      "execution_count": null,
      "outputs": []
    }
  ]
}