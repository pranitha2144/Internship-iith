{
  "nbformat": 4,
  "nbformat_minor": 0,
  "metadata": {
    "colab": {
      "name": "vgg16",
      "provenance": [],
      "collapsed_sections": [],
      "mount_file_id": "1IhyoGy7EHEgj120Y7aEt15WFbYJP6aXH",
      "authorship_tag": "ABX9TyNZGW6tuxgqVSTsBML/BNxf",
      "include_colab_link": true
    },
    "kernelspec": {
      "name": "python3",
      "display_name": "Python 3"
    }
  },
  "cells": [
    {
      "cell_type": "markdown",
      "metadata": {
        "id": "view-in-github",
        "colab_type": "text"
      },
      "source": [
        "<a href=\"https://colab.research.google.com/github/pranitha2144/Internship-iith/blob/Resnet/vgg16.ipynb\" target=\"_parent\"><img src=\"https://colab.research.google.com/assets/colab-badge.svg\" alt=\"Open In Colab\"/></a>"
      ]
    },
    {
      "cell_type": "code",
      "metadata": {
        "id": "3i-5qcxM7pSC",
        "colab_type": "code",
        "colab": {}
      },
      "source": [
        "import keras\n",
        "from keras.models import Model\n",
        "from keras.layers import Dense,Dropout\n",
        "from keras import optimizers\n",
        "from keras.preprocessing.image import ImageDataGenerator\n",
        "from keras.preprocessing import image\n",
        "from tensorflow.keras.applications.vgg16 import preprocess_input"
      ],
      "execution_count": 95,
      "outputs": []
    },
    {
      "cell_type": "code",
      "metadata": {
        "id": "JKBtzsJojptA",
        "colab_type": "code",
        "colab": {}
      },
      "source": [
        "#!pip install split_folders"
      ],
      "execution_count": null,
      "outputs": []
    },
    {
      "cell_type": "code",
      "metadata": {
        "id": "hzM7ojOkjaiK",
        "colab_type": "code",
        "colab": {}
      },
      "source": [
        "import split_folders\n",
        "\n",
        "# Split with a ratio.\n",
        "# To only split into training and validation set, set a tuple to `ratio`, i.e, `(.8, .2)`.\n",
        "#split_folders.ratio('/content/drive/My Drive/data-liverdisease', output=\"/content/drive/My Drive/data_output1\", seed=1337, ratio=(.7, .2,.1)) # default values\n"
      ],
      "execution_count": null,
      "outputs": []
    },
    {
      "cell_type": "code",
      "metadata": {
        "id": "P_NCAugx70fs",
        "colab_type": "code",
        "colab": {
          "base_uri": "https://localhost:8080/",
          "height": 51
        },
        "outputId": "99e4d68b-2590-4c38-9094-f7594d915b66"
      },
      "source": [
        "trdata = ImageDataGenerator()\n",
        "traindata = trdata.flow_from_directory(directory=\"/content/drive/My Drive/data_ouput/train\",target_size=(224,224))\n",
        "tsdata = ImageDataGenerator()\n",
        "testdata = tsdata.flow_from_directory(directory=\"/content/drive/My Drive/data_ouput/val\", target_size=(224,224))"
      ],
      "execution_count": 96,
      "outputs": [
        {
          "output_type": "stream",
          "text": [
            "Found 800 images belonging to 4 classes.\n",
            "Found 100 images belonging to 4 classes.\n"
          ],
          "name": "stdout"
        }
      ]
    },
    {
      "cell_type": "code",
      "metadata": {
        "id": "rg_JdtWb8O00",
        "colab_type": "code",
        "colab": {}
      },
      "source": [
        "from keras.applications.vgg16 import VGG16\n",
        "vggmodel = VGG16(weights='imagenet',include_top=True)"
      ],
      "execution_count": 97,
      "outputs": []
    },
    {
      "cell_type": "code",
      "metadata": {
        "id": "PKuEFjHt8TfJ",
        "colab_type": "code",
        "colab": {
          "base_uri": "https://localhost:8080/",
          "height": 935
        },
        "outputId": "1bbbdee6-f43d-4ce2-9636-0fb140b19cf4"
      },
      "source": [
        "vggmodel.summary()"
      ],
      "execution_count": 98,
      "outputs": [
        {
          "output_type": "stream",
          "text": [
            "Model: \"vgg16\"\n",
            "_________________________________________________________________\n",
            "Layer (type)                 Output Shape              Param #   \n",
            "=================================================================\n",
            "input_6 (InputLayer)         (None, 224, 224, 3)       0         \n",
            "_________________________________________________________________\n",
            "block1_conv1 (Conv2D)        (None, 224, 224, 64)      1792      \n",
            "_________________________________________________________________\n",
            "block1_conv2 (Conv2D)        (None, 224, 224, 64)      36928     \n",
            "_________________________________________________________________\n",
            "block1_pool (MaxPooling2D)   (None, 112, 112, 64)      0         \n",
            "_________________________________________________________________\n",
            "block2_conv1 (Conv2D)        (None, 112, 112, 128)     73856     \n",
            "_________________________________________________________________\n",
            "block2_conv2 (Conv2D)        (None, 112, 112, 128)     147584    \n",
            "_________________________________________________________________\n",
            "block2_pool (MaxPooling2D)   (None, 56, 56, 128)       0         \n",
            "_________________________________________________________________\n",
            "block3_conv1 (Conv2D)        (None, 56, 56, 256)       295168    \n",
            "_________________________________________________________________\n",
            "block3_conv2 (Conv2D)        (None, 56, 56, 256)       590080    \n",
            "_________________________________________________________________\n",
            "block3_conv3 (Conv2D)        (None, 56, 56, 256)       590080    \n",
            "_________________________________________________________________\n",
            "block3_pool (MaxPooling2D)   (None, 28, 28, 256)       0         \n",
            "_________________________________________________________________\n",
            "block4_conv1 (Conv2D)        (None, 28, 28, 512)       1180160   \n",
            "_________________________________________________________________\n",
            "block4_conv2 (Conv2D)        (None, 28, 28, 512)       2359808   \n",
            "_________________________________________________________________\n",
            "block4_conv3 (Conv2D)        (None, 28, 28, 512)       2359808   \n",
            "_________________________________________________________________\n",
            "block4_pool (MaxPooling2D)   (None, 14, 14, 512)       0         \n",
            "_________________________________________________________________\n",
            "block5_conv1 (Conv2D)        (None, 14, 14, 512)       2359808   \n",
            "_________________________________________________________________\n",
            "block5_conv2 (Conv2D)        (None, 14, 14, 512)       2359808   \n",
            "_________________________________________________________________\n",
            "block5_conv3 (Conv2D)        (None, 14, 14, 512)       2359808   \n",
            "_________________________________________________________________\n",
            "block5_pool (MaxPooling2D)   (None, 7, 7, 512)         0         \n",
            "_________________________________________________________________\n",
            "flatten (Flatten)            (None, 25088)             0         \n",
            "_________________________________________________________________\n",
            "fc1 (Dense)                  (None, 4096)              102764544 \n",
            "_________________________________________________________________\n",
            "fc2 (Dense)                  (None, 4096)              16781312  \n",
            "_________________________________________________________________\n",
            "predictions (Dense)          (None, 1000)              4097000   \n",
            "=================================================================\n",
            "Total params: 138,357,544\n",
            "Trainable params: 138,357,544\n",
            "Non-trainable params: 0\n",
            "_________________________________________________________________\n"
          ],
          "name": "stdout"
        }
      ]
    },
    {
      "cell_type": "code",
      "metadata": {
        "id": "82_pWv5ammho",
        "colab_type": "code",
        "colab": {
          "base_uri": "https://localhost:8080/",
          "height": 34
        },
        "outputId": "a1a52a33-2f80-4fdd-97a3-e58fa868eec8"
      },
      "source": [
        "type(vggmodel)"
      ],
      "execution_count": 99,
      "outputs": [
        {
          "output_type": "execute_result",
          "data": {
            "text/plain": [
              "keras.engine.training.Model"
            ]
          },
          "metadata": {
            "tags": []
          },
          "execution_count": 99
        }
      ]
    },
    {
      "cell_type": "code",
      "metadata": {
        "id": "GG60hKI68aWo",
        "colab_type": "code",
        "colab": {
          "base_uri": "https://localhost:8080/",
          "height": 442
        },
        "outputId": "95b0e062-d4f9-4068-830a-9f8a018dbd4c"
      },
      "source": [
        "'''for layers in (vggmodel.layers)[:-1]:\n",
        "    print(layers)\n",
        "    layers.trainable = False'''"
      ],
      "execution_count": null,
      "outputs": [
        {
          "output_type": "stream",
          "text": [
            "<keras.engine.input_layer.InputLayer object at 0x7f5fbb69a6d8>\n",
            "<keras.layers.convolutional.Conv2D object at 0x7f5fbb69ad68>\n",
            "<keras.layers.convolutional.Conv2D object at 0x7f5fbb674438>\n",
            "<keras.layers.pooling.MaxPooling2D object at 0x7f5fbb69a828>\n",
            "<keras.layers.convolutional.Conv2D object at 0x7f5f78b1e7b8>\n",
            "<keras.layers.convolutional.Conv2D object at 0x7f5f77a94668>\n",
            "<keras.layers.pooling.MaxPooling2D object at 0x7f5f77a94e10>\n",
            "<keras.layers.convolutional.Conv2D object at 0x7f5f77a9d208>\n",
            "<keras.layers.convolutional.Conv2D object at 0x7f5f77a9dda0>\n",
            "<keras.layers.convolutional.Conv2D object at 0x7f5f77aa2978>\n",
            "<keras.layers.convolutional.Conv2D object at 0x7f5f77aa7438>\n",
            "<keras.layers.pooling.MaxPooling2D object at 0x7f5f77aa7eb8>\n",
            "<keras.layers.convolutional.Conv2D object at 0x7f5f77aa7cc0>\n",
            "<keras.layers.convolutional.Conv2D object at 0x7f5f77aaef98>\n",
            "<keras.layers.convolutional.Conv2D object at 0x7f5f77ab6630>\n",
            "<keras.layers.convolutional.Conv2D object at 0x7f5f77ab6e48>\n",
            "<keras.layers.pooling.MaxPooling2D object at 0x7f5f77abeb70>\n",
            "<keras.layers.convolutional.Conv2D object at 0x7f5f77abe978>\n",
            "<keras.layers.convolutional.Conv2D object at 0x7f5f77ac46d8>\n",
            "<keras.layers.convolutional.Conv2D object at 0x7f5f77ac4e80>\n",
            "<keras.layers.convolutional.Conv2D object at 0x7f5f77accd68>\n",
            "<keras.layers.pooling.MaxPooling2D object at 0x7f5f77a52828>\n",
            "<keras.layers.core.Flatten object at 0x7f5f77a52630>\n",
            "<keras.layers.core.Dense object at 0x7f5f77a528d0>\n",
            "<keras.layers.core.Dense object at 0x7f5f77a672b0>\n"
          ],
          "name": "stdout"
        }
      ]
    },
    {
      "cell_type": "code",
      "metadata": {
        "id": "IGKyayZrnBcc",
        "colab_type": "code",
        "colab": {
          "base_uri": "https://localhost:8080/",
          "height": 34
        },
        "outputId": "cdb3ed5c-ed31-48f7-fbd1-51ca017f45b0"
      },
      "source": [
        "vggmodel.layers.pop()\n"
      ],
      "execution_count": 100,
      "outputs": [
        {
          "output_type": "execute_result",
          "data": {
            "text/plain": [
              "<keras.layers.core.Dense at 0x7fb90ca11518>"
            ]
          },
          "metadata": {
            "tags": []
          },
          "execution_count": 100
        }
      ]
    },
    {
      "cell_type": "code",
      "metadata": {
        "id": "DcSuJhHsnW_L",
        "colab_type": "code",
        "colab": {
          "base_uri": "https://localhost:8080/",
          "height": 391
        },
        "outputId": "5d8e99a3-35f0-46b8-bf0d-db2df931eeea"
      },
      "source": [
        "for layers in (vggmodel.layers):\n",
        "    print(layers)\n",
        "    layers.trainable = False"
      ],
      "execution_count": 101,
      "outputs": [
        {
          "output_type": "stream",
          "text": [
            "<keras.engine.input_layer.InputLayer object at 0x7fb90d743e80>\n",
            "<keras.layers.convolutional.Conv2D object at 0x7fb90cc0e5c0>\n",
            "<keras.layers.convolutional.Conv2D object at 0x7fb90d787f28>\n",
            "<keras.layers.pooling.MaxPooling2D object at 0x7fb90d787550>\n",
            "<keras.layers.convolutional.Conv2D object at 0x7fb90d787518>\n",
            "<keras.layers.convolutional.Conv2D object at 0x7fb91316f5c0>\n",
            "<keras.layers.pooling.MaxPooling2D object at 0x7fb91317e7b8>\n",
            "<keras.layers.convolutional.Conv2D object at 0x7fb90ca39048>\n",
            "<keras.layers.convolutional.Conv2D object at 0x7fb90ca39f28>\n",
            "<keras.layers.convolutional.Conv2D object at 0x7fb90c9ee390>\n",
            "<keras.layers.pooling.MaxPooling2D object at 0x7fb90c9eedd8>\n",
            "<keras.layers.convolutional.Conv2D object at 0x7fb90c9eec18>\n",
            "<keras.layers.convolutional.Conv2D object at 0x7fb90c9f2e80>\n",
            "<keras.layers.convolutional.Conv2D object at 0x7fb90c9f74e0>\n",
            "<keras.layers.pooling.MaxPooling2D object at 0x7fb90c9f7ef0>\n",
            "<keras.layers.convolutional.Conv2D object at 0x7fb90c9f7cf8>\n",
            "<keras.layers.convolutional.Conv2D object at 0x7fb90c9ffa90>\n",
            "<keras.layers.convolutional.Conv2D object at 0x7fb90ca05630>\n",
            "<keras.layers.pooling.MaxPooling2D object at 0x7fb90ca05e48>\n",
            "<keras.layers.core.Flatten object at 0x7fb90ca05fd0>\n",
            "<keras.layers.core.Dense object at 0x7fb90ca05f28>\n",
            "<keras.layers.core.Dense object at 0x7fb90ca11d68>\n"
          ],
          "name": "stdout"
        }
      ]
    },
    {
      "cell_type": "code",
      "metadata": {
        "id": "3y43Fuj5nLmi",
        "colab_type": "code",
        "colab": {
          "base_uri": "https://localhost:8080/",
          "height": 901
        },
        "outputId": "75f11510-8e6d-48a5-9ff3-709c9697c4bd"
      },
      "source": [
        "vggmodel.summary()"
      ],
      "execution_count": 102,
      "outputs": [
        {
          "output_type": "stream",
          "text": [
            "Model: \"vgg16\"\n",
            "_________________________________________________________________\n",
            "Layer (type)                 Output Shape              Param #   \n",
            "=================================================================\n",
            "input_6 (InputLayer)         (None, 224, 224, 3)       0         \n",
            "_________________________________________________________________\n",
            "block1_conv1 (Conv2D)        (None, 224, 224, 64)      1792      \n",
            "_________________________________________________________________\n",
            "block1_conv2 (Conv2D)        (None, 224, 224, 64)      36928     \n",
            "_________________________________________________________________\n",
            "block1_pool (MaxPooling2D)   (None, 112, 112, 64)      0         \n",
            "_________________________________________________________________\n",
            "block2_conv1 (Conv2D)        (None, 112, 112, 128)     73856     \n",
            "_________________________________________________________________\n",
            "block2_conv2 (Conv2D)        (None, 112, 112, 128)     147584    \n",
            "_________________________________________________________________\n",
            "block2_pool (MaxPooling2D)   (None, 56, 56, 128)       0         \n",
            "_________________________________________________________________\n",
            "block3_conv1 (Conv2D)        (None, 56, 56, 256)       295168    \n",
            "_________________________________________________________________\n",
            "block3_conv2 (Conv2D)        (None, 56, 56, 256)       590080    \n",
            "_________________________________________________________________\n",
            "block3_conv3 (Conv2D)        (None, 56, 56, 256)       590080    \n",
            "_________________________________________________________________\n",
            "block3_pool (MaxPooling2D)   (None, 28, 28, 256)       0         \n",
            "_________________________________________________________________\n",
            "block4_conv1 (Conv2D)        (None, 28, 28, 512)       1180160   \n",
            "_________________________________________________________________\n",
            "block4_conv2 (Conv2D)        (None, 28, 28, 512)       2359808   \n",
            "_________________________________________________________________\n",
            "block4_conv3 (Conv2D)        (None, 28, 28, 512)       2359808   \n",
            "_________________________________________________________________\n",
            "block4_pool (MaxPooling2D)   (None, 14, 14, 512)       0         \n",
            "_________________________________________________________________\n",
            "block5_conv1 (Conv2D)        (None, 14, 14, 512)       2359808   \n",
            "_________________________________________________________________\n",
            "block5_conv2 (Conv2D)        (None, 14, 14, 512)       2359808   \n",
            "_________________________________________________________________\n",
            "block5_conv3 (Conv2D)        (None, 14, 14, 512)       2359808   \n",
            "_________________________________________________________________\n",
            "block5_pool (MaxPooling2D)   (None, 7, 7, 512)         0         \n",
            "_________________________________________________________________\n",
            "flatten (Flatten)            (None, 25088)             0         \n",
            "_________________________________________________________________\n",
            "fc1 (Dense)                  (None, 4096)              102764544 \n",
            "_________________________________________________________________\n",
            "fc2 (Dense)                  (None, 4096)              16781312  \n",
            "=================================================================\n",
            "Total params: 134,260,544\n",
            "Trainable params: 0\n",
            "Non-trainable params: 134,260,544\n",
            "_________________________________________________________________\n"
          ],
          "name": "stdout"
        }
      ]
    },
    {
      "cell_type": "code",
      "metadata": {
        "id": "59taDHdJ8ikh",
        "colab_type": "code",
        "colab": {
          "base_uri": "https://localhost:8080/",
          "height": 71
        },
        "outputId": "562d8dba-328e-42ba-ee07-7b413b0f8069"
      },
      "source": [
        "from tensorflow.keras import regularizers\n",
        "X= vggmodel.layers[-1].output\n",
        "fc_1=Dense(256, activation='relu')(X)\n",
        "predictions = Dense(4, activation=\"softmax\")(fc_1)\n",
        "model_final = Model(input = vggmodel.input, output = predictions)\n"
      ],
      "execution_count": 106,
      "outputs": [
        {
          "output_type": "stream",
          "text": [
            "/usr/local/lib/python3.6/dist-packages/ipykernel_launcher.py:5: UserWarning: Update your `Model` call to the Keras 2 API: `Model(inputs=Tensor(\"in..., outputs=Tensor(\"de...)`\n",
            "  \"\"\"\n"
          ],
          "name": "stderr"
        }
      ]
    },
    {
      "cell_type": "code",
      "metadata": {
        "id": "cNCno2TsnpGB",
        "colab_type": "code",
        "colab": {
          "base_uri": "https://localhost:8080/",
          "height": 969
        },
        "outputId": "5fda317f-1f77-496d-b55a-aed4a3178956"
      },
      "source": [
        "model_final.summary()"
      ],
      "execution_count": 107,
      "outputs": [
        {
          "output_type": "stream",
          "text": [
            "Model: \"model_7\"\n",
            "_________________________________________________________________\n",
            "Layer (type)                 Output Shape              Param #   \n",
            "=================================================================\n",
            "input_6 (InputLayer)         (None, 224, 224, 3)       0         \n",
            "_________________________________________________________________\n",
            "block1_conv1 (Conv2D)        (None, 224, 224, 64)      1792      \n",
            "_________________________________________________________________\n",
            "block1_conv2 (Conv2D)        (None, 224, 224, 64)      36928     \n",
            "_________________________________________________________________\n",
            "block1_pool (MaxPooling2D)   (None, 112, 112, 64)      0         \n",
            "_________________________________________________________________\n",
            "block2_conv1 (Conv2D)        (None, 112, 112, 128)     73856     \n",
            "_________________________________________________________________\n",
            "block2_conv2 (Conv2D)        (None, 112, 112, 128)     147584    \n",
            "_________________________________________________________________\n",
            "block2_pool (MaxPooling2D)   (None, 56, 56, 128)       0         \n",
            "_________________________________________________________________\n",
            "block3_conv1 (Conv2D)        (None, 56, 56, 256)       295168    \n",
            "_________________________________________________________________\n",
            "block3_conv2 (Conv2D)        (None, 56, 56, 256)       590080    \n",
            "_________________________________________________________________\n",
            "block3_conv3 (Conv2D)        (None, 56, 56, 256)       590080    \n",
            "_________________________________________________________________\n",
            "block3_pool (MaxPooling2D)   (None, 28, 28, 256)       0         \n",
            "_________________________________________________________________\n",
            "block4_conv1 (Conv2D)        (None, 28, 28, 512)       1180160   \n",
            "_________________________________________________________________\n",
            "block4_conv2 (Conv2D)        (None, 28, 28, 512)       2359808   \n",
            "_________________________________________________________________\n",
            "block4_conv3 (Conv2D)        (None, 28, 28, 512)       2359808   \n",
            "_________________________________________________________________\n",
            "block4_pool (MaxPooling2D)   (None, 14, 14, 512)       0         \n",
            "_________________________________________________________________\n",
            "block5_conv1 (Conv2D)        (None, 14, 14, 512)       2359808   \n",
            "_________________________________________________________________\n",
            "block5_conv2 (Conv2D)        (None, 14, 14, 512)       2359808   \n",
            "_________________________________________________________________\n",
            "block5_conv3 (Conv2D)        (None, 14, 14, 512)       2359808   \n",
            "_________________________________________________________________\n",
            "block5_pool (MaxPooling2D)   (None, 7, 7, 512)         0         \n",
            "_________________________________________________________________\n",
            "flatten (Flatten)            (None, 25088)             0         \n",
            "_________________________________________________________________\n",
            "fc1 (Dense)                  (None, 4096)              102764544 \n",
            "_________________________________________________________________\n",
            "fc2 (Dense)                  (None, 4096)              16781312  \n",
            "_________________________________________________________________\n",
            "dense_13 (Dense)             (None, 256)               1048832   \n",
            "_________________________________________________________________\n",
            "dense_14 (Dense)             (None, 4)                 1028      \n",
            "=================================================================\n",
            "Total params: 135,310,404\n",
            "Trainable params: 1,049,860\n",
            "Non-trainable params: 134,260,544\n",
            "_________________________________________________________________\n"
          ],
          "name": "stdout"
        }
      ]
    },
    {
      "cell_type": "code",
      "metadata": {
        "id": "4ZRoo4eZIZMv",
        "colab_type": "code",
        "colab": {
          "base_uri": "https://localhost:8080/",
          "height": 425
        },
        "outputId": "f3938794-b5ae-45d7-80a8-09daff6b0a4b"
      },
      "source": [
        "for i in model_final.layers:\n",
        "  print(i.trainable)"
      ],
      "execution_count": 108,
      "outputs": [
        {
          "output_type": "stream",
          "text": [
            "False\n",
            "False\n",
            "False\n",
            "False\n",
            "False\n",
            "False\n",
            "False\n",
            "False\n",
            "False\n",
            "False\n",
            "False\n",
            "False\n",
            "False\n",
            "False\n",
            "False\n",
            "False\n",
            "False\n",
            "False\n",
            "False\n",
            "False\n",
            "False\n",
            "False\n",
            "True\n",
            "True\n"
          ],
          "name": "stdout"
        }
      ]
    },
    {
      "cell_type": "code",
      "metadata": {
        "id": "vFYbGbdq8vg8",
        "colab_type": "code",
        "colab": {}
      },
      "source": [
        "model_final.compile(loss = \"categorical_crossentropy\", optimizer = keras.optimizers.Adam(lr=0.0001), metrics=[\"accuracy\"])"
      ],
      "execution_count": 109,
      "outputs": []
    },
    {
      "cell_type": "code",
      "metadata": {
        "id": "i6yUCcd08xum",
        "colab_type": "code",
        "colab": {
          "base_uri": "https://localhost:8080/",
          "height": 969
        },
        "outputId": "506fe25e-0e65-47fc-8fa7-facbdca6b9ce"
      },
      "source": [
        "model_final.summary()"
      ],
      "execution_count": 110,
      "outputs": [
        {
          "output_type": "stream",
          "text": [
            "Model: \"model_7\"\n",
            "_________________________________________________________________\n",
            "Layer (type)                 Output Shape              Param #   \n",
            "=================================================================\n",
            "input_6 (InputLayer)         (None, 224, 224, 3)       0         \n",
            "_________________________________________________________________\n",
            "block1_conv1 (Conv2D)        (None, 224, 224, 64)      1792      \n",
            "_________________________________________________________________\n",
            "block1_conv2 (Conv2D)        (None, 224, 224, 64)      36928     \n",
            "_________________________________________________________________\n",
            "block1_pool (MaxPooling2D)   (None, 112, 112, 64)      0         \n",
            "_________________________________________________________________\n",
            "block2_conv1 (Conv2D)        (None, 112, 112, 128)     73856     \n",
            "_________________________________________________________________\n",
            "block2_conv2 (Conv2D)        (None, 112, 112, 128)     147584    \n",
            "_________________________________________________________________\n",
            "block2_pool (MaxPooling2D)   (None, 56, 56, 128)       0         \n",
            "_________________________________________________________________\n",
            "block3_conv1 (Conv2D)        (None, 56, 56, 256)       295168    \n",
            "_________________________________________________________________\n",
            "block3_conv2 (Conv2D)        (None, 56, 56, 256)       590080    \n",
            "_________________________________________________________________\n",
            "block3_conv3 (Conv2D)        (None, 56, 56, 256)       590080    \n",
            "_________________________________________________________________\n",
            "block3_pool (MaxPooling2D)   (None, 28, 28, 256)       0         \n",
            "_________________________________________________________________\n",
            "block4_conv1 (Conv2D)        (None, 28, 28, 512)       1180160   \n",
            "_________________________________________________________________\n",
            "block4_conv2 (Conv2D)        (None, 28, 28, 512)       2359808   \n",
            "_________________________________________________________________\n",
            "block4_conv3 (Conv2D)        (None, 28, 28, 512)       2359808   \n",
            "_________________________________________________________________\n",
            "block4_pool (MaxPooling2D)   (None, 14, 14, 512)       0         \n",
            "_________________________________________________________________\n",
            "block5_conv1 (Conv2D)        (None, 14, 14, 512)       2359808   \n",
            "_________________________________________________________________\n",
            "block5_conv2 (Conv2D)        (None, 14, 14, 512)       2359808   \n",
            "_________________________________________________________________\n",
            "block5_conv3 (Conv2D)        (None, 14, 14, 512)       2359808   \n",
            "_________________________________________________________________\n",
            "block5_pool (MaxPooling2D)   (None, 7, 7, 512)         0         \n",
            "_________________________________________________________________\n",
            "flatten (Flatten)            (None, 25088)             0         \n",
            "_________________________________________________________________\n",
            "fc1 (Dense)                  (None, 4096)              102764544 \n",
            "_________________________________________________________________\n",
            "fc2 (Dense)                  (None, 4096)              16781312  \n",
            "_________________________________________________________________\n",
            "dense_13 (Dense)             (None, 256)               1048832   \n",
            "_________________________________________________________________\n",
            "dense_14 (Dense)             (None, 4)                 1028      \n",
            "=================================================================\n",
            "Total params: 135,310,404\n",
            "Trainable params: 1,049,860\n",
            "Non-trainable params: 134,260,544\n",
            "_________________________________________________________________\n"
          ],
          "name": "stdout"
        }
      ]
    },
    {
      "cell_type": "code",
      "metadata": {
        "id": "UIV1Rie889QA",
        "colab_type": "code",
        "colab": {
          "base_uri": "https://localhost:8080/",
          "height": 1000
        },
        "outputId": "8761ea7e-4cc3-4ac8-d68c-c7af23e42b42"
      },
      "source": [
        "from keras.callbacks import ModelCheckpoint, EarlyStopping\n",
        "checkpoint = ModelCheckpoint(\"vgg16_1.h5\", monitor='val_accuracy', verbose=1, save_best_only=True, save_weights_only=False, mode='auto', period=1)\n",
        "early = EarlyStopping(monitor='val_acc', min_delta=0, patience=40, verbose=1, mode='auto')\n",
        "hist=model_final.fit(traindata, steps_per_epoch= 2, epochs= 100, validation_data= testdata, validation_steps=1, callbacks=[checkpoint,early])\n",
        "model_final.save_weights(\"vgg16_1.h5\")"
      ],
      "execution_count": 111,
      "outputs": [
        {
          "output_type": "stream",
          "text": [
            "Epoch 1/100\n",
            "2/2 [==============================] - 49s 24s/step - loss: 1.5825 - accuracy: 0.2500 - val_loss: 1.2820 - val_accuracy: 0.4688\n",
            "\n",
            "Epoch 00001: val_accuracy improved from -inf to 0.46875, saving model to vgg16_1.h5\n"
          ],
          "name": "stdout"
        },
        {
          "output_type": "stream",
          "text": [
            "/usr/local/lib/python3.6/dist-packages/keras/callbacks/callbacks.py:846: RuntimeWarning: Early stopping conditioned on metric `val_acc` which is not available. Available metrics are: val_loss,val_accuracy,loss,accuracy\n",
            "  (self.monitor, ','.join(list(logs.keys()))), RuntimeWarning\n"
          ],
          "name": "stderr"
        },
        {
          "output_type": "stream",
          "text": [
            "Epoch 2/100\n",
            "2/2 [==============================] - 48s 24s/step - loss: 1.1586 - accuracy: 0.5469 - val_loss: 0.9970 - val_accuracy: 0.6562\n",
            "\n",
            "Epoch 00002: val_accuracy improved from 0.46875 to 0.65625, saving model to vgg16_1.h5\n",
            "Epoch 3/100\n",
            "2/2 [==============================] - 48s 24s/step - loss: 0.9086 - accuracy: 0.6719 - val_loss: 0.7342 - val_accuracy: 0.7500\n",
            "\n",
            "Epoch 00003: val_accuracy improved from 0.65625 to 0.75000, saving model to vgg16_1.h5\n",
            "Epoch 4/100\n",
            "2/2 [==============================] - 34s 17s/step - loss: 0.9156 - accuracy: 0.5781 - val_loss: 0.6067 - val_accuracy: 1.0000\n",
            "\n",
            "Epoch 00004: val_accuracy improved from 0.75000 to 1.00000, saving model to vgg16_1.h5\n",
            "Epoch 5/100\n",
            "2/2 [==============================] - 48s 24s/step - loss: 0.4881 - accuracy: 0.8438 - val_loss: 0.6080 - val_accuracy: 0.7812\n",
            "\n",
            "Epoch 00005: val_accuracy did not improve from 1.00000\n",
            "Epoch 6/100\n",
            "2/2 [==============================] - 48s 24s/step - loss: 0.6333 - accuracy: 0.7969 - val_loss: 0.6887 - val_accuracy: 0.7188\n",
            "\n",
            "Epoch 00006: val_accuracy did not improve from 1.00000\n",
            "Epoch 7/100\n",
            "2/2 [==============================] - 48s 24s/step - loss: 0.7129 - accuracy: 0.6875 - val_loss: 0.6219 - val_accuracy: 0.6875\n",
            "\n",
            "Epoch 00007: val_accuracy did not improve from 1.00000\n",
            "Epoch 8/100\n",
            "2/2 [==============================] - 35s 17s/step - loss: 0.4875 - accuracy: 0.8594 - val_loss: 0.3636 - val_accuracy: 1.0000\n",
            "\n",
            "Epoch 00008: val_accuracy did not improve from 1.00000\n",
            "Epoch 9/100\n",
            "2/2 [==============================] - 48s 24s/step - loss: 0.5389 - accuracy: 0.7656 - val_loss: 0.5492 - val_accuracy: 0.7188\n",
            "\n",
            "Epoch 00009: val_accuracy did not improve from 1.00000\n",
            "Epoch 10/100\n",
            "2/2 [==============================] - 48s 24s/step - loss: 0.4732 - accuracy: 0.8125 - val_loss: 0.5510 - val_accuracy: 0.7812\n",
            "\n",
            "Epoch 00010: val_accuracy did not improve from 1.00000\n",
            "Epoch 11/100\n",
            "2/2 [==============================] - 48s 24s/step - loss: 0.4238 - accuracy: 0.8906 - val_loss: 0.5003 - val_accuracy: 0.8750\n",
            "\n",
            "Epoch 00011: val_accuracy did not improve from 1.00000\n",
            "Epoch 12/100\n",
            "2/2 [==============================] - 34s 17s/step - loss: 0.4750 - accuracy: 0.8594 - val_loss: 0.4980 - val_accuracy: 0.7500\n",
            "\n",
            "Epoch 00012: val_accuracy did not improve from 1.00000\n",
            "Epoch 13/100\n",
            "2/2 [==============================] - 48s 24s/step - loss: 0.4350 - accuracy: 0.8281 - val_loss: 0.6241 - val_accuracy: 0.7500\n",
            "\n",
            "Epoch 00013: val_accuracy did not improve from 1.00000\n",
            "Epoch 14/100\n",
            "2/2 [==============================] - 48s 24s/step - loss: 0.3643 - accuracy: 0.9062 - val_loss: 0.4058 - val_accuracy: 0.8438\n",
            "\n",
            "Epoch 00014: val_accuracy did not improve from 1.00000\n",
            "Epoch 15/100\n",
            "2/2 [==============================] - 48s 24s/step - loss: 0.5308 - accuracy: 0.7656 - val_loss: 0.4399 - val_accuracy: 0.8438\n",
            "\n",
            "Epoch 00015: val_accuracy did not improve from 1.00000\n",
            "Epoch 16/100\n",
            "2/2 [==============================] - 34s 17s/step - loss: 0.5095 - accuracy: 0.7969 - val_loss: 0.6589 - val_accuracy: 0.7500\n",
            "\n",
            "Epoch 00016: val_accuracy did not improve from 1.00000\n",
            "Epoch 17/100\n",
            "2/2 [==============================] - 48s 24s/step - loss: 0.4903 - accuracy: 0.8125 - val_loss: 0.4550 - val_accuracy: 0.7188\n",
            "\n",
            "Epoch 00017: val_accuracy did not improve from 1.00000\n",
            "Epoch 18/100\n",
            "2/2 [==============================] - 48s 24s/step - loss: 0.3271 - accuracy: 0.8750 - val_loss: 0.7532 - val_accuracy: 0.6875\n",
            "\n",
            "Epoch 00018: val_accuracy did not improve from 1.00000\n",
            "Epoch 19/100\n",
            "2/2 [==============================] - 48s 24s/step - loss: 0.4106 - accuracy: 0.7969 - val_loss: 0.3475 - val_accuracy: 0.8750\n",
            "\n",
            "Epoch 00019: val_accuracy did not improve from 1.00000\n",
            "Epoch 20/100\n",
            "2/2 [==============================] - 34s 17s/step - loss: 0.3677 - accuracy: 0.8906 - val_loss: 0.1782 - val_accuracy: 1.0000\n",
            "\n",
            "Epoch 00020: val_accuracy did not improve from 1.00000\n",
            "Epoch 21/100\n",
            "2/2 [==============================] - 48s 24s/step - loss: 0.3734 - accuracy: 0.7969 - val_loss: 0.2798 - val_accuracy: 0.8750\n",
            "\n",
            "Epoch 00021: val_accuracy did not improve from 1.00000\n",
            "Epoch 22/100\n",
            "2/2 [==============================] - 48s 24s/step - loss: 0.4822 - accuracy: 0.7812 - val_loss: 0.3722 - val_accuracy: 0.8125\n",
            "\n",
            "Epoch 00022: val_accuracy did not improve from 1.00000\n",
            "Epoch 23/100\n",
            "2/2 [==============================] - 48s 24s/step - loss: 0.3478 - accuracy: 0.8750 - val_loss: 0.8623 - val_accuracy: 0.7188\n",
            "\n",
            "Epoch 00023: val_accuracy did not improve from 1.00000\n",
            "Epoch 24/100\n",
            "2/2 [==============================] - 36s 18s/step - loss: 0.5577 - accuracy: 0.7812 - val_loss: 0.7180 - val_accuracy: 0.5000\n",
            "\n",
            "Epoch 00024: val_accuracy did not improve from 1.00000\n",
            "Epoch 25/100\n",
            "2/2 [==============================] - 48s 24s/step - loss: 0.4437 - accuracy: 0.8281 - val_loss: 0.3311 - val_accuracy: 0.8750\n",
            "\n",
            "Epoch 00025: val_accuracy did not improve from 1.00000\n",
            "Epoch 26/100\n",
            "2/2 [==============================] - 48s 24s/step - loss: 0.3785 - accuracy: 0.8281 - val_loss: 0.5107 - val_accuracy: 0.7500\n",
            "\n",
            "Epoch 00026: val_accuracy did not improve from 1.00000\n",
            "Epoch 27/100\n",
            "2/2 [==============================] - 48s 24s/step - loss: 0.2540 - accuracy: 0.9219 - val_loss: 0.6503 - val_accuracy: 0.7500\n",
            "\n",
            "Epoch 00027: val_accuracy did not improve from 1.00000\n",
            "Epoch 28/100\n",
            "2/2 [==============================] - 34s 17s/step - loss: 0.5790 - accuracy: 0.7656 - val_loss: 0.2275 - val_accuracy: 0.7500\n",
            "\n",
            "Epoch 00028: val_accuracy did not improve from 1.00000\n",
            "Epoch 29/100\n",
            "2/2 [==============================] - 48s 24s/step - loss: 0.4883 - accuracy: 0.8438 - val_loss: 0.4608 - val_accuracy: 0.7812\n",
            "\n",
            "Epoch 00029: val_accuracy did not improve from 1.00000\n",
            "Epoch 30/100\n",
            "2/2 [==============================] - 48s 24s/step - loss: 0.3925 - accuracy: 0.8594 - val_loss: 0.6124 - val_accuracy: 0.6875\n",
            "\n",
            "Epoch 00030: val_accuracy did not improve from 1.00000\n",
            "Epoch 31/100\n",
            "2/2 [==============================] - 48s 24s/step - loss: 0.3145 - accuracy: 0.8750 - val_loss: 0.3326 - val_accuracy: 0.8438\n",
            "\n",
            "Epoch 00031: val_accuracy did not improve from 1.00000\n",
            "Epoch 32/100\n",
            "2/2 [==============================] - 34s 17s/step - loss: 0.3813 - accuracy: 0.8750 - val_loss: 0.3356 - val_accuracy: 1.0000\n",
            "\n",
            "Epoch 00032: val_accuracy did not improve from 1.00000\n",
            "Epoch 33/100\n",
            "2/2 [==============================] - 48s 24s/step - loss: 0.3628 - accuracy: 0.8594 - val_loss: 0.3562 - val_accuracy: 0.8125\n",
            "\n",
            "Epoch 00033: val_accuracy did not improve from 1.00000\n",
            "Epoch 34/100\n",
            "2/2 [==============================] - 48s 24s/step - loss: 0.3246 - accuracy: 0.8906 - val_loss: 0.5985 - val_accuracy: 0.7812\n",
            "\n",
            "Epoch 00034: val_accuracy did not improve from 1.00000\n",
            "Epoch 35/100\n",
            "2/2 [==============================] - 48s 24s/step - loss: 0.2969 - accuracy: 0.8906 - val_loss: 0.3974 - val_accuracy: 0.8438\n",
            "\n",
            "Epoch 00035: val_accuracy did not improve from 1.00000\n",
            "Epoch 36/100\n",
            "2/2 [==============================] - 34s 17s/step - loss: 0.2698 - accuracy: 0.8906 - val_loss: 0.0683 - val_accuracy: 1.0000\n",
            "\n",
            "Epoch 00036: val_accuracy did not improve from 1.00000\n",
            "Epoch 37/100\n",
            "2/2 [==============================] - 48s 24s/step - loss: 0.3875 - accuracy: 0.8281 - val_loss: 0.4804 - val_accuracy: 0.7500\n",
            "\n",
            "Epoch 00037: val_accuracy did not improve from 1.00000\n",
            "Epoch 38/100\n",
            "2/2 [==============================] - 49s 24s/step - loss: 0.5092 - accuracy: 0.8125 - val_loss: 0.5186 - val_accuracy: 0.7812\n",
            "\n",
            "Epoch 00038: val_accuracy did not improve from 1.00000\n",
            "Epoch 39/100\n",
            "2/2 [==============================] - 48s 24s/step - loss: 0.3698 - accuracy: 0.8281 - val_loss: 0.3440 - val_accuracy: 0.8438\n",
            "\n",
            "Epoch 00039: val_accuracy did not improve from 1.00000\n",
            "Epoch 40/100\n",
            "2/2 [==============================] - 34s 17s/step - loss: 0.5180 - accuracy: 0.7969 - val_loss: 0.3355 - val_accuracy: 0.7500\n",
            "\n",
            "Epoch 00040: val_accuracy did not improve from 1.00000\n",
            "Epoch 41/100\n",
            "2/2 [==============================] - 48s 24s/step - loss: 0.2825 - accuracy: 0.8750 - val_loss: 0.6742 - val_accuracy: 0.7188\n",
            "\n",
            "Epoch 00041: val_accuracy did not improve from 1.00000\n",
            "Epoch 42/100\n",
            "2/2 [==============================] - 48s 24s/step - loss: 0.3752 - accuracy: 0.8594 - val_loss: 0.3508 - val_accuracy: 0.8438\n",
            "\n",
            "Epoch 00042: val_accuracy did not improve from 1.00000\n",
            "Epoch 43/100\n",
            "2/2 [==============================] - 48s 24s/step - loss: 0.4422 - accuracy: 0.7969 - val_loss: 0.3212 - val_accuracy: 0.9062\n",
            "\n",
            "Epoch 00043: val_accuracy did not improve from 1.00000\n",
            "Epoch 44/100\n",
            "2/2 [==============================] - 34s 17s/step - loss: 0.2638 - accuracy: 0.9219 - val_loss: 0.2745 - val_accuracy: 0.7500\n",
            "\n",
            "Epoch 00044: val_accuracy did not improve from 1.00000\n",
            "Epoch 45/100\n",
            "2/2 [==============================] - 48s 24s/step - loss: 0.3158 - accuracy: 0.8750 - val_loss: 0.5089 - val_accuracy: 0.7500\n",
            "\n",
            "Epoch 00045: val_accuracy did not improve from 1.00000\n",
            "Epoch 46/100\n",
            "2/2 [==============================] - 48s 24s/step - loss: 0.2635 - accuracy: 0.8906 - val_loss: 0.2051 - val_accuracy: 0.9375\n",
            "\n",
            "Epoch 00046: val_accuracy did not improve from 1.00000\n",
            "Epoch 47/100\n",
            "2/2 [==============================] - 48s 24s/step - loss: 0.3566 - accuracy: 0.8750 - val_loss: 0.5340 - val_accuracy: 0.6875\n",
            "\n",
            "Epoch 00047: val_accuracy did not improve from 1.00000\n",
            "Epoch 48/100\n",
            "2/2 [==============================] - 34s 17s/step - loss: 0.2109 - accuracy: 0.9219 - val_loss: 1.3716 - val_accuracy: 0.5000\n",
            "\n",
            "Epoch 00048: val_accuracy did not improve from 1.00000\n",
            "Epoch 49/100\n",
            "2/2 [==============================] - 48s 24s/step - loss: 0.2579 - accuracy: 0.9375 - val_loss: 0.3832 - val_accuracy: 0.8125\n",
            "\n",
            "Epoch 00049: val_accuracy did not improve from 1.00000\n",
            "Epoch 50/100\n",
            "2/2 [==============================] - 48s 24s/step - loss: 0.3658 - accuracy: 0.9062 - val_loss: 0.5185 - val_accuracy: 0.7812\n",
            "\n",
            "Epoch 00050: val_accuracy did not improve from 1.00000\n",
            "Epoch 51/100\n",
            "2/2 [==============================] - 48s 24s/step - loss: 0.2556 - accuracy: 0.9219 - val_loss: 0.4969 - val_accuracy: 0.8125\n",
            "\n",
            "Epoch 00051: val_accuracy did not improve from 1.00000\n",
            "Epoch 52/100\n",
            "2/2 [==============================] - 34s 17s/step - loss: 0.1706 - accuracy: 0.9688 - val_loss: 0.0591 - val_accuracy: 1.0000\n",
            "\n",
            "Epoch 00052: val_accuracy did not improve from 1.00000\n",
            "Epoch 53/100\n",
            "2/2 [==============================] - 48s 24s/step - loss: 0.4370 - accuracy: 0.8438 - val_loss: 0.6269 - val_accuracy: 0.7188\n",
            "\n",
            "Epoch 00053: val_accuracy did not improve from 1.00000\n",
            "Epoch 54/100\n",
            "2/2 [==============================] - 48s 24s/step - loss: 0.3225 - accuracy: 0.8750 - val_loss: 0.3010 - val_accuracy: 0.8750\n",
            "\n",
            "Epoch 00054: val_accuracy did not improve from 1.00000\n",
            "Epoch 55/100\n",
            "2/2 [==============================] - 48s 24s/step - loss: 0.2784 - accuracy: 0.8906 - val_loss: 0.3343 - val_accuracy: 0.8438\n",
            "\n",
            "Epoch 00055: val_accuracy did not improve from 1.00000\n",
            "Epoch 56/100\n",
            "2/2 [==============================] - 35s 17s/step - loss: 0.3843 - accuracy: 0.8125 - val_loss: 0.5986 - val_accuracy: 0.7500\n",
            "\n",
            "Epoch 00056: val_accuracy did not improve from 1.00000\n",
            "Epoch 57/100\n",
            "2/2 [==============================] - 48s 24s/step - loss: 0.2765 - accuracy: 0.9062 - val_loss: 0.6378 - val_accuracy: 0.6562\n",
            "\n",
            "Epoch 00057: val_accuracy did not improve from 1.00000\n",
            "Epoch 58/100\n",
            "2/2 [==============================] - 48s 24s/step - loss: 0.4275 - accuracy: 0.8125 - val_loss: 0.3983 - val_accuracy: 0.8438\n",
            "\n",
            "Epoch 00058: val_accuracy did not improve from 1.00000\n",
            "Epoch 59/100\n",
            "2/2 [==============================] - 48s 24s/step - loss: 0.3188 - accuracy: 0.8750 - val_loss: 0.3374 - val_accuracy: 0.8438\n",
            "\n",
            "Epoch 00059: val_accuracy did not improve from 1.00000\n",
            "Epoch 60/100\n",
            "2/2 [==============================] - 34s 17s/step - loss: 0.3442 - accuracy: 0.8906 - val_loss: 0.2830 - val_accuracy: 1.0000\n",
            "\n",
            "Epoch 00060: val_accuracy did not improve from 1.00000\n",
            "Epoch 61/100\n",
            "2/2 [==============================] - 48s 24s/step - loss: 0.2224 - accuracy: 0.9219 - val_loss: 0.2832 - val_accuracy: 0.9062\n",
            "\n",
            "Epoch 00061: val_accuracy did not improve from 1.00000\n",
            "Epoch 62/100\n",
            "2/2 [==============================] - 48s 24s/step - loss: 0.3236 - accuracy: 0.9062 - val_loss: 0.3699 - val_accuracy: 0.8438\n",
            "\n",
            "Epoch 00062: val_accuracy did not improve from 1.00000\n",
            "Epoch 63/100\n",
            "2/2 [==============================] - 48s 24s/step - loss: 0.2805 - accuracy: 0.8906 - val_loss: 0.3653 - val_accuracy: 0.8438\n",
            "\n",
            "Epoch 00063: val_accuracy did not improve from 1.00000\n",
            "Epoch 64/100\n",
            "2/2 [==============================] - 34s 17s/step - loss: 0.3002 - accuracy: 0.9375 - val_loss: 1.4117 - val_accuracy: 0.2500\n",
            "\n",
            "Epoch 00064: val_accuracy did not improve from 1.00000\n",
            "Epoch 65/100\n",
            "2/2 [==============================] - 48s 24s/step - loss: 0.2525 - accuracy: 0.9219 - val_loss: 0.4065 - val_accuracy: 0.8125\n",
            "\n",
            "Epoch 00065: val_accuracy did not improve from 1.00000\n",
            "Epoch 66/100\n",
            "2/2 [==============================] - 48s 24s/step - loss: 0.2842 - accuracy: 0.8594 - val_loss: 0.4862 - val_accuracy: 0.7812\n",
            "\n",
            "Epoch 00066: val_accuracy did not improve from 1.00000\n",
            "Epoch 67/100\n",
            "2/2 [==============================] - 48s 24s/step - loss: 0.2341 - accuracy: 0.8750 - val_loss: 0.2857 - val_accuracy: 0.8438\n",
            "\n",
            "Epoch 00067: val_accuracy did not improve from 1.00000\n",
            "Epoch 68/100\n",
            "2/2 [==============================] - 34s 17s/step - loss: 0.2952 - accuracy: 0.8750 - val_loss: 0.2812 - val_accuracy: 1.0000\n",
            "\n",
            "Epoch 00068: val_accuracy did not improve from 1.00000\n",
            "Epoch 69/100\n",
            "2/2 [==============================] - 48s 24s/step - loss: 0.2599 - accuracy: 0.8750 - val_loss: 0.3874 - val_accuracy: 0.8125\n",
            "\n",
            "Epoch 00069: val_accuracy did not improve from 1.00000\n",
            "Epoch 70/100\n",
            "2/2 [==============================] - 48s 24s/step - loss: 0.1814 - accuracy: 0.9688 - val_loss: 0.5173 - val_accuracy: 0.7500\n",
            "\n",
            "Epoch 00070: val_accuracy did not improve from 1.00000\n",
            "Epoch 71/100\n",
            "2/2 [==============================] - 48s 24s/step - loss: 0.3161 - accuracy: 0.9062 - val_loss: 0.3965 - val_accuracy: 0.8750\n",
            "\n",
            "Epoch 00071: val_accuracy did not improve from 1.00000\n",
            "Epoch 72/100\n",
            "2/2 [==============================] - 34s 17s/step - loss: 0.3374 - accuracy: 0.8594 - val_loss: 0.4501 - val_accuracy: 0.7500\n",
            "\n",
            "Epoch 00072: val_accuracy did not improve from 1.00000\n",
            "Epoch 73/100\n",
            "2/2 [==============================] - 48s 24s/step - loss: 0.2985 - accuracy: 0.8906 - val_loss: 0.4585 - val_accuracy: 0.7812\n",
            "\n",
            "Epoch 00073: val_accuracy did not improve from 1.00000\n",
            "Epoch 74/100\n",
            "2/2 [==============================] - 48s 24s/step - loss: 0.2874 - accuracy: 0.8750 - val_loss: 0.3497 - val_accuracy: 0.8438\n",
            "\n",
            "Epoch 00074: val_accuracy did not improve from 1.00000\n",
            "Epoch 75/100\n",
            "2/2 [==============================] - 49s 24s/step - loss: 0.4056 - accuracy: 0.8750 - val_loss: 0.3723 - val_accuracy: 0.8750\n",
            "\n",
            "Epoch 00075: val_accuracy did not improve from 1.00000\n",
            "Epoch 76/100\n",
            "2/2 [==============================] - 34s 17s/step - loss: 0.2181 - accuracy: 0.9219 - val_loss: 0.2206 - val_accuracy: 0.7500\n",
            "\n",
            "Epoch 00076: val_accuracy did not improve from 1.00000\n",
            "Epoch 77/100\n",
            "2/2 [==============================] - 48s 24s/step - loss: 0.3705 - accuracy: 0.8750 - val_loss: 0.3761 - val_accuracy: 0.8125\n",
            "\n",
            "Epoch 00077: val_accuracy did not improve from 1.00000\n",
            "Epoch 78/100\n",
            "2/2 [==============================] - 50s 25s/step - loss: 0.2189 - accuracy: 0.9531 - val_loss: 0.2463 - val_accuracy: 0.9375\n",
            "\n",
            "Epoch 00078: val_accuracy did not improve from 1.00000\n",
            "Epoch 79/100\n",
            "2/2 [==============================] - 48s 24s/step - loss: 0.2493 - accuracy: 0.8906 - val_loss: 0.5451 - val_accuracy: 0.6875\n",
            "\n",
            "Epoch 00079: val_accuracy did not improve from 1.00000\n",
            "Epoch 80/100\n",
            "2/2 [==============================] - 34s 17s/step - loss: 0.3469 - accuracy: 0.8594 - val_loss: 0.2061 - val_accuracy: 1.0000\n",
            "\n",
            "Epoch 00080: val_accuracy did not improve from 1.00000\n",
            "Epoch 81/100\n",
            "2/2 [==============================] - 48s 24s/step - loss: 0.2196 - accuracy: 0.9219 - val_loss: 0.2333 - val_accuracy: 0.8750\n",
            "\n",
            "Epoch 00081: val_accuracy did not improve from 1.00000\n",
            "Epoch 82/100\n",
            "2/2 [==============================] - 48s 24s/step - loss: 0.2224 - accuracy: 0.9219 - val_loss: 0.3806 - val_accuracy: 0.8125\n",
            "\n",
            "Epoch 00082: val_accuracy did not improve from 1.00000\n",
            "Epoch 83/100\n",
            "2/2 [==============================] - 48s 24s/step - loss: 0.2904 - accuracy: 0.8594 - val_loss: 0.4539 - val_accuracy: 0.7812\n",
            "\n",
            "Epoch 00083: val_accuracy did not improve from 1.00000\n",
            "Epoch 84/100\n",
            "2/2 [==============================] - 34s 17s/step - loss: 0.1395 - accuracy: 0.9688 - val_loss: 0.8996 - val_accuracy: 0.5000\n",
            "\n",
            "Epoch 00084: val_accuracy did not improve from 1.00000\n",
            "Epoch 85/100\n",
            "2/2 [==============================] - 48s 24s/step - loss: 0.4336 - accuracy: 0.8750 - val_loss: 0.4135 - val_accuracy: 0.8438\n",
            "\n",
            "Epoch 00085: val_accuracy did not improve from 1.00000\n",
            "Epoch 86/100\n",
            "2/2 [==============================] - 48s 24s/step - loss: 0.2359 - accuracy: 0.8906 - val_loss: 0.4833 - val_accuracy: 0.7500\n",
            "\n",
            "Epoch 00086: val_accuracy did not improve from 1.00000\n",
            "Epoch 87/100\n",
            "2/2 [==============================] - 48s 24s/step - loss: 0.2980 - accuracy: 0.9219 - val_loss: 0.3748 - val_accuracy: 0.8438\n",
            "\n",
            "Epoch 00087: val_accuracy did not improve from 1.00000\n",
            "Epoch 88/100\n",
            "2/2 [==============================] - 35s 17s/step - loss: 0.2396 - accuracy: 0.9219 - val_loss: 0.0857 - val_accuracy: 1.0000\n",
            "\n",
            "Epoch 00088: val_accuracy did not improve from 1.00000\n",
            "Epoch 89/100\n",
            "2/2 [==============================] - 48s 24s/step - loss: 0.4283 - accuracy: 0.8594 - val_loss: 0.3429 - val_accuracy: 0.8438\n",
            "\n",
            "Epoch 00089: val_accuracy did not improve from 1.00000\n",
            "Epoch 90/100\n",
            "2/2 [==============================] - 48s 24s/step - loss: 0.2523 - accuracy: 0.9219 - val_loss: 0.4611 - val_accuracy: 0.7188\n",
            "\n",
            "Epoch 00090: val_accuracy did not improve from 1.00000\n",
            "Epoch 91/100\n",
            "2/2 [==============================] - 48s 24s/step - loss: 0.2234 - accuracy: 0.9219 - val_loss: 0.3841 - val_accuracy: 0.8125\n",
            "\n",
            "Epoch 00091: val_accuracy did not improve from 1.00000\n",
            "Epoch 92/100\n",
            "2/2 [==============================] - 34s 17s/step - loss: 0.3456 - accuracy: 0.8750 - val_loss: 0.4457 - val_accuracy: 1.0000\n",
            "\n",
            "Epoch 00092: val_accuracy did not improve from 1.00000\n",
            "Epoch 93/100\n",
            "2/2 [==============================] - 48s 24s/step - loss: 0.2442 - accuracy: 0.9062 - val_loss: 0.3287 - val_accuracy: 0.8750\n",
            "\n",
            "Epoch 00093: val_accuracy did not improve from 1.00000\n",
            "Epoch 94/100\n",
            "2/2 [==============================] - 48s 24s/step - loss: 0.2390 - accuracy: 0.9531 - val_loss: 0.4819 - val_accuracy: 0.7812\n",
            "\n",
            "Epoch 00094: val_accuracy did not improve from 1.00000\n",
            "Epoch 95/100\n",
            "2/2 [==============================] - 48s 24s/step - loss: 0.2054 - accuracy: 0.9219 - val_loss: 0.3450 - val_accuracy: 0.7812\n",
            "\n",
            "Epoch 00095: val_accuracy did not improve from 1.00000\n",
            "Epoch 96/100\n",
            "2/2 [==============================] - 34s 17s/step - loss: 0.2239 - accuracy: 0.9531 - val_loss: 0.0610 - val_accuracy: 1.0000\n",
            "\n",
            "Epoch 00096: val_accuracy did not improve from 1.00000\n",
            "Epoch 97/100\n",
            "2/2 [==============================] - 48s 24s/step - loss: 0.2342 - accuracy: 0.9219 - val_loss: 0.4942 - val_accuracy: 0.8438\n",
            "\n",
            "Epoch 00097: val_accuracy did not improve from 1.00000\n",
            "Epoch 98/100\n",
            "2/2 [==============================] - 48s 24s/step - loss: 0.2101 - accuracy: 0.8906 - val_loss: 0.4312 - val_accuracy: 0.7500\n",
            "\n",
            "Epoch 00098: val_accuracy did not improve from 1.00000\n",
            "Epoch 99/100\n",
            "2/2 [==============================] - 48s 24s/step - loss: 0.2255 - accuracy: 0.9375 - val_loss: 0.2951 - val_accuracy: 0.8438\n",
            "\n",
            "Epoch 00099: val_accuracy did not improve from 1.00000\n",
            "Epoch 100/100\n",
            "2/2 [==============================] - 35s 17s/step - loss: 0.3058 - accuracy: 0.9375 - val_loss: 0.2872 - val_accuracy: 1.0000\n",
            "\n",
            "Epoch 00100: val_accuracy did not improve from 1.00000\n"
          ],
          "name": "stdout"
        }
      ]
    },
    {
      "cell_type": "markdown",
      "metadata": {
        "id": "ED7u_hcD3h4c",
        "colab_type": "text"
      },
      "source": [
        ""
      ]
    },
    {
      "cell_type": "code",
      "metadata": {
        "id": "YtQxWrIlPU_M",
        "colab_type": "code",
        "colab": {
          "base_uri": "https://localhost:8080/",
          "height": 295
        },
        "outputId": "14ce4ad6-8d65-4614-9ff9-650518999b39"
      },
      "source": [
        "import matplotlib.pyplot as plt\n",
        "plt.plot(hist.history[\"accuracy\"])\n",
        "plt.plot(hist.history['val_accuracy'])\n",
        "\n",
        "plt.title(\"model accuracy\")\n",
        "plt.ylabel(\"Accuracy\")\n",
        "plt.xlabel(\"Epoch\")\n",
        "plt.legend([\"Accuracy\",\"Validation Accuracy\"])\n",
        "plt.show()"
      ],
      "execution_count": 112,
      "outputs": [
        {
          "output_type": "display_data",
          "data": {
            "image/png": "[encoded data removed]",
            "text/plain": [
              "<Figure size 432x288 with 1 Axes>"
            ]
          },
          "metadata": {
            "tags": [],
            "needs_background": "light"
          }
        }
      ]
    },
    {
      "cell_type": "code",
      "metadata": {
        "id": "EsjZHi9jaU4Y",
        "colab_type": "code",
        "colab": {
          "base_uri": "https://localhost:8080/",
          "height": 279
        },
        "outputId": "23a27990-1e23-4622-8103-cdef93f8bfcf"
      },
      "source": [
        "plt.plot(hist.history['loss'])\n",
        "plt.plot(hist.history['val_loss'])\n",
        "plt.ylabel(\"Loss\")\n",
        "plt.xlabel(\"Epoch\")\n",
        "plt.legend([\"loss\",\"Validation Loss\"])\n",
        "plt.show()"
      ],
      "execution_count": 113,
      "outputs": [
        {
          "output_type": "display_data",
          "data": {
            "image/png": "[encoded data removed]",
            "text/plain": [
              "<Figure size 432x288 with 1 Axes>"
            ]
          },
          "metadata": {
            "tags": [],
            "needs_background": "light"
          }
        }
      ]
    },
    {
      "cell_type": "code",
      "metadata": {
        "id": "_2GdDycwS52M",
        "colab_type": "code",
        "colab": {}
      },
      "source": [
        "from keras.preprocessing.image import ImageDataGenerator\n",
        "from sklearn.metrics import classification_report, confusion_matrix\n",
        "\n",
        "test_datagen = ImageDataGenerator()"
      ],
      "execution_count": 114,
      "outputs": []
    },
    {
      "cell_type": "code",
      "metadata": {
        "id": "9-fknWZIS-CT",
        "colab_type": "code",
        "colab": {
          "base_uri": "https://localhost:8080/",
          "height": 34
        },
        "outputId": "2078899c-77e8-4635-f702-d43763833c60"
      },
      "source": [
        "validation_generator = test_datagen.flow_from_directory('/content/drive/My Drive/data_ouput/test',\n",
        "                                                        target_size=(224, 224),\n",
        "                                                        batch_size=32,\n",
        "                                                        class_mode='categorical')"
      ],
      "execution_count": 115,
      "outputs": [
        {
          "output_type": "stream",
          "text": [
            "Found 100 images belonging to 4 classes.\n"
          ],
          "name": "stdout"
        }
      ]
    },
    {
      "cell_type": "code",
      "metadata": {
        "id": "RSoXpGKcTEnR",
        "colab_type": "code",
        "colab": {
          "base_uri": "https://localhost:8080/",
          "height": 306
        },
        "outputId": "f4f6c27c-ee02-4729-9a9b-551dbe33afc8"
      },
      "source": [
        "import numpy as np\n",
        "#Confution Matrix and Classification Report\n",
        "Y_pred = model_final.predict_generator(validation_generator)\n",
        "y_pred = np.argmax(Y_pred, axis=1)\n",
        "print('Confusion Matrix')\n",
        "print(confusion_matrix(validation_generator.classes, y_pred))\n",
        "print('Classification Report')\n",
        "target_names = ['grade0', 'grade1', 'grade2','grade3']\n",
        "print(classification_report(validation_generator.classes, y_pred, target_names=target_names))"
      ],
      "execution_count": 116,
      "outputs": [
        {
          "output_type": "stream",
          "text": [
            "Confusion Matrix\n",
            "[[ 3  7  5 10]\n",
            " [ 7  8  5  5]\n",
            " [ 7  4  8  6]\n",
            " [ 6  6  7  6]]\n",
            "Classification Report\n",
            "              precision    recall  f1-score   support\n",
            "\n",
            "      grade0       0.13      0.12      0.12        25\n",
            "      grade1       0.32      0.32      0.32        25\n",
            "      grade2       0.32      0.32      0.32        25\n",
            "      grade3       0.22      0.24      0.23        25\n",
            "\n",
            "    accuracy                           0.25       100\n",
            "   macro avg       0.25      0.25      0.25       100\n",
            "weighted avg       0.25      0.25      0.25       100\n",
            "\n"
          ],
          "name": "stdout"
        }
      ]
    },
    {
      "cell_type": "code",
      "metadata": {
        "id": "B-E18MG6VMMN",
        "colab_type": "code",
        "colab": {
          "base_uri": "https://localhost:8080/",
          "height": 269
        },
        "outputId": "2cc36c9e-9a14-414f-8e73-7a43142e5472"
      },
      "source": [
        "from keras.preprocessing import image\n",
        "import matplotlib.pyplot as plt\n",
        "\n",
        "img = image.load_img(\"/content/drive/My Drive/data_ouput/test/grade1/grade1-079.jpg\",target_size=(224,224))\n",
        "img = np.asarray(img)\n",
        "plt.imshow(img)\n",
        "img = np.expand_dims(img, axis=0)"
      ],
      "execution_count": 117,
      "outputs": [
        {
          "output_type": "display_data",
          "data": {
            "image/png": "[encoded data removed]",
            "text/plain": [
              "<Figure size 432x288 with 1 Axes>"
            ]
          },
          "metadata": {
            "tags": [],
            "needs_background": "light"
          }
        }
      ]
    },
    {
      "cell_type": "code",
      "metadata": {
        "id": "Ux21nwVeV0mE",
        "colab_type": "code",
        "colab": {}
      },
      "source": [
        "output = model_final.predict(img)"
      ],
      "execution_count": 118,
      "outputs": []
    },
    {
      "cell_type": "code",
      "metadata": {
        "id": "crw2NNGyV7kN",
        "colab_type": "code",
        "colab": {
          "base_uri": "https://localhost:8080/",
          "height": 34
        },
        "outputId": "b66c1f7f-ba5b-433f-c50d-24f0b500c0dd"
      },
      "source": [
        "output\n",
        "ans='grade'+str(np.argmax(output[0],axis=0))\n",
        "print(ans)"
      ],
      "execution_count": 119,
      "outputs": [
        {
          "output_type": "stream",
          "text": [
            "grade1\n"
          ],
          "name": "stdout"
        }
      ]
    },
    {
      "cell_type": "code",
      "metadata": {
        "id": "YbH-5BZmX-K4",
        "colab_type": "code",
        "colab": {
          "base_uri": "https://localhost:8080/",
          "height": 153
        },
        "outputId": "fa8330cd-9355-44a3-c885-e3ca321835d6"
      },
      "source": [
        "import os\n",
        "data_path='/content/drive/My Drive/data_ouput/test'\n",
        "data_dir_list=os.listdir(data_path)\n",
        "for dataset in data_dir_list:\n",
        "  print(dataset)\n",
        "  img_list=os.listdir(data_path+'/'+dataset)\n",
        "  correctCount=0\n",
        "  wrongCount=0\n",
        "  for img in img_list:\n",
        "    img_path=data_path+'/'+dataset+'/'+img\n",
        "    input_image = image.load_img(img_path,target_size=(224,224))\n",
        "    input_image = np.asarray(input_image)\n",
        "    input_image = np.expand_dims(input_image, axis=0)\n",
        "    output = model_final.predict(input_image)\n",
        "    ans='grade'+str(np.argmax(output[0],axis=0))\n",
        "    if( ans in img):\n",
        "      correctCount+=1\n",
        "    else:\n",
        "      wrongCount+=1\n",
        "  print(\"correct Count {} WrongCount {}\".format(correctCount,wrongCount))\n",
        "\n",
        "\n"
      ],
      "execution_count": 120,
      "outputs": [
        {
          "output_type": "stream",
          "text": [
            "grade1\n",
            "correct Count 18 WrongCount 7\n",
            "grade0\n",
            "correct Count 22 WrongCount 3\n",
            "grade2\n",
            "correct Count 23 WrongCount 2\n",
            "grade3\n",
            "correct Count 22 WrongCount 3\n"
          ],
          "name": "stdout"
        }
      ]
    },
    {
      "cell_type": "code",
      "metadata": {
        "id": "Ml4QAr_Avw2T",
        "colab_type": "code",
        "colab": {
          "base_uri": "https://localhost:8080/",
          "height": 51
        },
        "outputId": "2b6a81f7-718a-4f0a-854a-2b12f9398632"
      },
      "source": [
        "tr_loss,tr_acc=model_final.evaluate(validation_generator)\n",
        "tr_acc"
      ],
      "execution_count": 121,
      "outputs": [
        {
          "output_type": "stream",
          "text": [
            "4/4 [==============================] - 50s 13s/step\n"
          ],
          "name": "stdout"
        },
        {
          "output_type": "execute_result",
          "data": {
            "text/plain": [
              "0.8500000238418579"
            ]
          },
          "metadata": {
            "tags": []
          },
          "execution_count": 121
        }
      ]
    },
    {
      "cell_type": "code",
      "metadata": {
        "id": "YgCoLFqzXmKb",
        "colab_type": "code",
        "colab": {}
      },
      "source": [
        ""
      ],
      "execution_count": null,
      "outputs": []
    },
    {
      "cell_type": "code",
      "metadata": {
        "colab_type": "code",
        "id": "XCHbPi0bXzXs",
        "colab": {
          "base_uri": "https://localhost:8080/",
          "height": 51
        },
        "outputId": "f071666a-6110-4b2f-a0ee-149a75695103"
      },
      "source": [
        "tr_loss,tr_acc=model_final.evaluate(traindata)\n",
        "tr_acc"
      ],
      "execution_count": 122,
      "outputs": [
        {
          "output_type": "stream",
          "text": [
            "25/25 [==============================] - 402s 16s/step\n"
          ],
          "name": "stdout"
        },
        {
          "output_type": "execute_result",
          "data": {
            "text/plain": [
              "0.9175000190734863"
            ]
          },
          "metadata": {
            "tags": []
          },
          "execution_count": 122
        }
      ]
    },
    {
      "cell_type": "code",
      "metadata": {
        "colab_type": "code",
        "id": "socFw4HIXyX1",
        "colab": {
          "base_uri": "https://localhost:8080/",
          "height": 51
        },
        "outputId": "860b1137-a7d6-4d3b-8a8b-2fec2ad62e5a"
      },
      "source": [
        "tr_loss,tr_acc=model_final.evaluate(validation_generator)\n",
        "tr_acc"
      ],
      "execution_count": 123,
      "outputs": [
        {
          "output_type": "stream",
          "text": [
            "4/4 [==============================] - 50s 13s/step\n"
          ],
          "name": "stdout"
        },
        {
          "output_type": "execute_result",
          "data": {
            "text/plain": [
              "0.8500000238418579"
            ]
          },
          "metadata": {
            "tags": []
          },
          "execution_count": 123
        }
      ]
    },
    {
      "cell_type": "code",
      "metadata": {
        "id": "i9DBoAghyJhG",
        "colab_type": "code",
        "colab": {}
      },
      "source": [
        ""
      ],
      "execution_count": null,
      "outputs": []
    },
    {
      "cell_type": "code",
      "metadata": {
        "id": "uQ_U_O6XcOQY",
        "colab_type": "code",
        "colab": {}
      },
      "source": [
        ""
      ],
      "execution_count": null,
      "outputs": []
    },
    {
      "cell_type": "code",
      "metadata": {
        "id": "R6Fx71JwgONy",
        "colab_type": "code",
        "colab": {}
      },
      "source": [
        ""
      ],
      "execution_count": null,
      "outputs": []
    },
    {
      "cell_type": "code",
      "metadata": {
        "id": "PiiV053i4At7",
        "colab_type": "code",
        "colab": {}
      },
      "source": [
        "model_final.save('/content/drive/My Drive/Best models/modelbest.h5')"
      ],
      "execution_count": null,
      "outputs": []
    }
  ]
}