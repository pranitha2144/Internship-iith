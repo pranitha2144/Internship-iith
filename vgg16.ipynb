{
  "nbformat": 4,
  "nbformat_minor": 0,
  "metadata": {
    "colab": {
      "name": "vgg16",
      "provenance": [],
      "mount_file_id": "1IhyoGy7EHEgj120Y7aEt15WFbYJP6aXH",
      "authorship_tag": "ABX9TyMFvDCiNy2ufoOZZigX5WJ7",
      "include_colab_link": true
    },
    "kernelspec": {
      "name": "python3",
      "display_name": "Python 3"
    }
  },
  "cells": [
    {
      "cell_type": "markdown",
      "metadata": {
        "id": "view-in-github",
        "colab_type": "text"
      },
      "source": [
        "<a href=\"https://colab.research.google.com/github/pranitha2144/Internship-iith/blob/Resnet/vgg16.ipynb\" target=\"_parent\"><img src=\"https://colab.research.google.com/assets/colab-badge.svg\" alt=\"Open In Colab\"/></a>"
      ]
    },
    {
      "cell_type": "code",
      "metadata": {
        "id": "3i-5qcxM7pSC",
        "colab_type": "code",
        "colab": {
          "base_uri": "https://localhost:8080/",
          "height": 34
        },
        "outputId": "d136f1ad-69aa-4c01-811d-c1ea1ea96a6a"
      },
      "source": [
        "import keras\n",
        "from keras.models import Model\n",
        "from keras.layers import Dense\n",
        "from keras import optimizers\n",
        "from keras.preprocessing.image import ImageDataGenerator\n",
        "from keras.preprocessing import image"
      ],
      "execution_count": 1,
      "outputs": [
        {
          "output_type": "stream",
          "text": [
            "Using TensorFlow backend.\n"
          ],
          "name": "stderr"
        }
      ]
    },
    {
      "cell_type": "code",
      "metadata": {
        "id": "P_NCAugx70fs",
        "colab_type": "code",
        "colab": {
          "base_uri": "https://localhost:8080/",
          "height": 51
        },
        "outputId": "f3e18c91-f63a-4e97-9b58-bcdaf4e8c9c3"
      },
      "source": [
        "trdata = ImageDataGenerator(\n",
        "    \n",
        "    )\n",
        "traindata = trdata.flow_from_directory(directory=\"/content/drive/My Drive/data_ouput/train\",target_size=(224,224))\n",
        "tsdata = ImageDataGenerator()\n",
        "testdata = tsdata.flow_from_directory(directory=\"/content/drive/My Drive/data_ouput/val\", target_size=(224,224))"
      ],
      "execution_count": 5,
      "outputs": [
        {
          "output_type": "stream",
          "text": [
            "Found 800 images belonging to 4 classes.\n",
            "Found 100 images belonging to 4 classes.\n"
          ],
          "name": "stdout"
        }
      ]
    },
    {
      "cell_type": "code",
      "metadata": {
        "id": "rg_JdtWb8O00",
        "colab_type": "code",
        "colab": {
          "base_uri": "https://localhost:8080/",
          "height": 51
        },
        "outputId": "73bb33b7-774a-43f3-dee5-a6b1c72290b7"
      },
      "source": [
        "from keras.applications.vgg16 import VGG16\n",
        "vggmodel = VGG16(weights='imagenet', include_top=True)"
      ],
      "execution_count": 6,
      "outputs": [
        {
          "output_type": "stream",
          "text": [
            "Downloading data from https://github.com/fchollet/deep-learning-models/releases/download/v0.1/vgg16_weights_tf_dim_ordering_tf_kernels.h5\n",
            "553467904/553467096 [==============================] - 5s 0us/step\n"
          ],
          "name": "stdout"
        }
      ]
    },
    {
      "cell_type": "code",
      "metadata": {
        "id": "PKuEFjHt8TfJ",
        "colab_type": "code",
        "colab": {
          "base_uri": "https://localhost:8080/",
          "height": 935
        },
        "outputId": "72255bd1-eda8-4205-eb61-92a7f4e39467"
      },
      "source": [
        "vggmodel.summary()"
      ],
      "execution_count": 7,
      "outputs": [
        {
          "output_type": "stream",
          "text": [
            "Model: \"vgg16\"\n",
            "_________________________________________________________________\n",
            "Layer (type)                 Output Shape              Param #   \n",
            "=================================================================\n",
            "input_1 (InputLayer)         (None, 224, 224, 3)       0         \n",
            "_________________________________________________________________\n",
            "block1_conv1 (Conv2D)        (None, 224, 224, 64)      1792      \n",
            "_________________________________________________________________\n",
            "block1_conv2 (Conv2D)        (None, 224, 224, 64)      36928     \n",
            "_________________________________________________________________\n",
            "block1_pool (MaxPooling2D)   (None, 112, 112, 64)      0         \n",
            "_________________________________________________________________\n",
            "block2_conv1 (Conv2D)        (None, 112, 112, 128)     73856     \n",
            "_________________________________________________________________\n",
            "block2_conv2 (Conv2D)        (None, 112, 112, 128)     147584    \n",
            "_________________________________________________________________\n",
            "block2_pool (MaxPooling2D)   (None, 56, 56, 128)       0         \n",
            "_________________________________________________________________\n",
            "block3_conv1 (Conv2D)        (None, 56, 56, 256)       295168    \n",
            "_________________________________________________________________\n",
            "block3_conv2 (Conv2D)        (None, 56, 56, 256)       590080    \n",
            "_________________________________________________________________\n",
            "block3_conv3 (Conv2D)        (None, 56, 56, 256)       590080    \n",
            "_________________________________________________________________\n",
            "block3_pool (MaxPooling2D)   (None, 28, 28, 256)       0         \n",
            "_________________________________________________________________\n",
            "block4_conv1 (Conv2D)        (None, 28, 28, 512)       1180160   \n",
            "_________________________________________________________________\n",
            "block4_conv2 (Conv2D)        (None, 28, 28, 512)       2359808   \n",
            "_________________________________________________________________\n",
            "block4_conv3 (Conv2D)        (None, 28, 28, 512)       2359808   \n",
            "_________________________________________________________________\n",
            "block4_pool (MaxPooling2D)   (None, 14, 14, 512)       0         \n",
            "_________________________________________________________________\n",
            "block5_conv1 (Conv2D)        (None, 14, 14, 512)       2359808   \n",
            "_________________________________________________________________\n",
            "block5_conv2 (Conv2D)        (None, 14, 14, 512)       2359808   \n",
            "_________________________________________________________________\n",
            "block5_conv3 (Conv2D)        (None, 14, 14, 512)       2359808   \n",
            "_________________________________________________________________\n",
            "block5_pool (MaxPooling2D)   (None, 7, 7, 512)         0         \n",
            "_________________________________________________________________\n",
            "flatten (Flatten)            (None, 25088)             0         \n",
            "_________________________________________________________________\n",
            "fc1 (Dense)                  (None, 4096)              102764544 \n",
            "_________________________________________________________________\n",
            "fc2 (Dense)                  (None, 4096)              16781312  \n",
            "_________________________________________________________________\n",
            "predictions (Dense)          (None, 1000)              4097000   \n",
            "=================================================================\n",
            "Total params: 138,357,544\n",
            "Trainable params: 138,357,544\n",
            "Non-trainable params: 0\n",
            "_________________________________________________________________\n"
          ],
          "name": "stdout"
        }
      ]
    },
    {
      "cell_type": "code",
      "metadata": {
        "id": "GG60hKI68aWo",
        "colab_type": "code",
        "colab": {
          "base_uri": "https://localhost:8080/",
          "height": 340
        },
        "outputId": "8130f6ec-1b55-4d9e-bc80-792cd85c19d1"
      },
      "source": [
        "for layers in (vggmodel.layers)[:19]:\n",
        "    print(layers)\n",
        "    layers.trainable = False"
      ],
      "execution_count": 8,
      "outputs": [
        {
          "output_type": "stream",
          "text": [
            "<keras.engine.input_layer.InputLayer object at 0x7f318b241358>\n",
            "<keras.layers.convolutional.Conv2D object at 0x7f3139e9b550>\n",
            "<keras.layers.convolutional.Conv2D object at 0x7f3139e9b7b8>\n",
            "<keras.layers.pooling.MaxPooling2D object at 0x7f317ca1e240>\n",
            "<keras.layers.convolutional.Conv2D object at 0x7f317ca1e080>\n",
            "<keras.layers.convolutional.Conv2D object at 0x7f3139ec7c50>\n",
            "<keras.layers.pooling.MaxPooling2D object at 0x7f3138df17f0>\n",
            "<keras.layers.convolutional.Conv2D object at 0x7f3138df1630>\n",
            "<keras.layers.convolutional.Conv2D object at 0x7f3138df6320>\n",
            "<keras.layers.convolutional.Conv2D object at 0x7f3138df6eb8>\n",
            "<keras.layers.pooling.MaxPooling2D object at 0x7f3138dfb978>\n",
            "<keras.layers.convolutional.Conv2D object at 0x7f3138dfb780>\n",
            "<keras.layers.convolutional.Conv2D object at 0x7f3138e024e0>\n",
            "<keras.layers.convolutional.Conv2D object at 0x7f3138e02dd8>\n",
            "<keras.layers.pooling.MaxPooling2D object at 0x7f3138e07b70>\n",
            "<keras.layers.convolutional.Conv2D object at 0x7f3138e07978>\n",
            "<keras.layers.convolutional.Conv2D object at 0x7f3138e0e6d8>\n",
            "<keras.layers.convolutional.Conv2D object at 0x7f3138e0ee80>\n",
            "<keras.layers.pooling.MaxPooling2D object at 0x7f3138d96d68>\n"
          ],
          "name": "stdout"
        }
      ]
    },
    {
      "cell_type": "code",
      "metadata": {
        "id": "59taDHdJ8ikh",
        "colab_type": "code",
        "colab": {
          "base_uri": "https://localhost:8080/",
          "height": 71
        },
        "outputId": "5fd87641-7ddb-41ca-b8d5-1a0e125e1d54"
      },
      "source": [
        "X= vggmodel.layers[-2].output\n",
        "predictions = Dense(4, activation=\"softmax\")(X)\n",
        "model_final = Model(input = vggmodel.input, output = predictions)\n"
      ],
      "execution_count": 9,
      "outputs": [
        {
          "output_type": "stream",
          "text": [
            "/usr/local/lib/python3.6/dist-packages/ipykernel_launcher.py:3: UserWarning: Update your `Model` call to the Keras 2 API: `Model(inputs=Tensor(\"in..., outputs=Tensor(\"de...)`\n",
            "  This is separate from the ipykernel package so we can avoid doing imports until\n"
          ],
          "name": "stderr"
        }
      ]
    },
    {
      "cell_type": "code",
      "metadata": {
        "id": "vFYbGbdq8vg8",
        "colab_type": "code",
        "colab": {}
      },
      "source": [
        "model_final.compile(loss = \"categorical_crossentropy\", optimizer = optimizers.Adam(lr=0.001), metrics=[\"accuracy\"])"
      ],
      "execution_count": 10,
      "outputs": []
    },
    {
      "cell_type": "code",
      "metadata": {
        "id": "i6yUCcd08xum",
        "colab_type": "code",
        "colab": {
          "base_uri": "https://localhost:8080/",
          "height": 935
        },
        "outputId": "5959bd00-d9d1-410b-c1de-71116032ce32"
      },
      "source": [
        "model_final.summary()"
      ],
      "execution_count": 11,
      "outputs": [
        {
          "output_type": "stream",
          "text": [
            "Model: \"model_1\"\n",
            "_________________________________________________________________\n",
            "Layer (type)                 Output Shape              Param #   \n",
            "=================================================================\n",
            "input_1 (InputLayer)         (None, 224, 224, 3)       0         \n",
            "_________________________________________________________________\n",
            "block1_conv1 (Conv2D)        (None, 224, 224, 64)      1792      \n",
            "_________________________________________________________________\n",
            "block1_conv2 (Conv2D)        (None, 224, 224, 64)      36928     \n",
            "_________________________________________________________________\n",
            "block1_pool (MaxPooling2D)   (None, 112, 112, 64)      0         \n",
            "_________________________________________________________________\n",
            "block2_conv1 (Conv2D)        (None, 112, 112, 128)     73856     \n",
            "_________________________________________________________________\n",
            "block2_conv2 (Conv2D)        (None, 112, 112, 128)     147584    \n",
            "_________________________________________________________________\n",
            "block2_pool (MaxPooling2D)   (None, 56, 56, 128)       0         \n",
            "_________________________________________________________________\n",
            "block3_conv1 (Conv2D)        (None, 56, 56, 256)       295168    \n",
            "_________________________________________________________________\n",
            "block3_conv2 (Conv2D)        (None, 56, 56, 256)       590080    \n",
            "_________________________________________________________________\n",
            "block3_conv3 (Conv2D)        (None, 56, 56, 256)       590080    \n",
            "_________________________________________________________________\n",
            "block3_pool (MaxPooling2D)   (None, 28, 28, 256)       0         \n",
            "_________________________________________________________________\n",
            "block4_conv1 (Conv2D)        (None, 28, 28, 512)       1180160   \n",
            "_________________________________________________________________\n",
            "block4_conv2 (Conv2D)        (None, 28, 28, 512)       2359808   \n",
            "_________________________________________________________________\n",
            "block4_conv3 (Conv2D)        (None, 28, 28, 512)       2359808   \n",
            "_________________________________________________________________\n",
            "block4_pool (MaxPooling2D)   (None, 14, 14, 512)       0         \n",
            "_________________________________________________________________\n",
            "block5_conv1 (Conv2D)        (None, 14, 14, 512)       2359808   \n",
            "_________________________________________________________________\n",
            "block5_conv2 (Conv2D)        (None, 14, 14, 512)       2359808   \n",
            "_________________________________________________________________\n",
            "block5_conv3 (Conv2D)        (None, 14, 14, 512)       2359808   \n",
            "_________________________________________________________________\n",
            "block5_pool (MaxPooling2D)   (None, 7, 7, 512)         0         \n",
            "_________________________________________________________________\n",
            "flatten (Flatten)            (None, 25088)             0         \n",
            "_________________________________________________________________\n",
            "fc1 (Dense)                  (None, 4096)              102764544 \n",
            "_________________________________________________________________\n",
            "fc2 (Dense)                  (None, 4096)              16781312  \n",
            "_________________________________________________________________\n",
            "dense_1 (Dense)              (None, 4)                 16388     \n",
            "=================================================================\n",
            "Total params: 134,276,932\n",
            "Trainable params: 119,562,244\n",
            "Non-trainable params: 14,714,688\n",
            "_________________________________________________________________\n"
          ],
          "name": "stdout"
        }
      ]
    },
    {
      "cell_type": "code",
      "metadata": {
        "id": "UIV1Rie889QA",
        "colab_type": "code",
        "colab": {
          "base_uri": "https://localhost:8080/",
          "height": 1000
        },
        "outputId": "2f811622-7b5c-41b9-bb2f-5117961ca81f"
      },
      "source": [
        "from keras.callbacks import ModelCheckpoint, EarlyStopping\n",
        "checkpoint = ModelCheckpoint(\"vgg16_1.h5\", monitor='val_acc', verbose=1, save_best_only=True, save_weights_only=False, mode='auto', period=1)\n",
        "early = EarlyStopping(monitor='val_acc', min_delta=0, patience=40, verbose=1, mode='auto')\n",
        "hist=model_final.fit_generator(generator= traindata, steps_per_epoch= 2, epochs= 100, validation_data= testdata, validation_steps=1, callbacks=[checkpoint,early])\n",
        "model_final.save_weights(\"vgg16_1.h5\")"
      ],
      "execution_count": 12,
      "outputs": [
        {
          "output_type": "stream",
          "text": [
            "Epoch 1/100\n",
            "2/2 [==============================] - 61s 31s/step - loss: 34.6296 - accuracy: 0.2500 - val_loss: 126.4370 - val_accuracy: 0.1875\n",
            "Epoch 2/100\n"
          ],
          "name": "stdout"
        },
        {
          "output_type": "stream",
          "text": [
            "/usr/local/lib/python3.6/dist-packages/keras/callbacks/callbacks.py:707: RuntimeWarning: Can save best model only with val_acc available, skipping.\n",
            "  'skipping.' % (self.monitor), RuntimeWarning)\n",
            "/usr/local/lib/python3.6/dist-packages/keras/callbacks/callbacks.py:846: RuntimeWarning: Early stopping conditioned on metric `val_acc` which is not available. Available metrics are: val_loss,val_accuracy,loss,accuracy\n",
            "  (self.monitor, ','.join(list(logs.keys()))), RuntimeWarning\n"
          ],
          "name": "stderr"
        },
        {
          "output_type": "stream",
          "text": [
            "2/2 [==============================] - 52s 26s/step - loss: 82.8998 - accuracy: 0.1719 - val_loss: 14.9614 - val_accuracy: 0.2500\n",
            "Epoch 3/100\n",
            "2/2 [==============================] - 51s 25s/step - loss: 9.1390 - accuracy: 0.3125 - val_loss: 3.4476 - val_accuracy: 0.5312\n",
            "Epoch 4/100\n",
            "2/2 [==============================] - 37s 18s/step - loss: 3.4708 - accuracy: 0.4375 - val_loss: 1.6576 - val_accuracy: 0.5000\n",
            "Epoch 5/100\n",
            "2/2 [==============================] - 51s 25s/step - loss: 1.2792 - accuracy: 0.6250 - val_loss: 1.3701 - val_accuracy: 0.3125\n",
            "Epoch 6/100\n",
            "2/2 [==============================] - 51s 25s/step - loss: 0.9433 - accuracy: 0.6250 - val_loss: 1.1098 - val_accuracy: 0.6250\n",
            "Epoch 7/100\n",
            "2/2 [==============================] - 52s 26s/step - loss: 1.0715 - accuracy: 0.6250 - val_loss: 1.2684 - val_accuracy: 0.6875\n",
            "Epoch 8/100\n",
            "2/2 [==============================] - 37s 18s/step - loss: 1.2568 - accuracy: 0.6406 - val_loss: 0.0473 - val_accuracy: 1.0000\n",
            "Epoch 9/100\n",
            "2/2 [==============================] - 51s 25s/step - loss: 1.1092 - accuracy: 0.7031 - val_loss: 0.4954 - val_accuracy: 0.8125\n",
            "Epoch 10/100\n",
            "2/2 [==============================] - 51s 25s/step - loss: 0.4478 - accuracy: 0.8281 - val_loss: 1.1006 - val_accuracy: 0.5938\n",
            "Epoch 11/100\n",
            "2/2 [==============================] - 53s 26s/step - loss: 0.5076 - accuracy: 0.7812 - val_loss: 0.4532 - val_accuracy: 0.7812\n",
            "Epoch 12/100\n",
            "2/2 [==============================] - 37s 18s/step - loss: 0.5415 - accuracy: 0.8750 - val_loss: 0.1624 - val_accuracy: 1.0000\n",
            "Epoch 13/100\n",
            "2/2 [==============================] - 51s 26s/step - loss: 0.7517 - accuracy: 0.7031 - val_loss: 0.8619 - val_accuracy: 0.7812\n",
            "Epoch 14/100\n",
            "2/2 [==============================] - 51s 25s/step - loss: 0.6736 - accuracy: 0.7500 - val_loss: 0.7079 - val_accuracy: 0.7812\n",
            "Epoch 15/100\n",
            "2/2 [==============================] - 50s 25s/step - loss: 0.8675 - accuracy: 0.7812 - val_loss: 0.6128 - val_accuracy: 0.7188\n",
            "Epoch 16/100\n",
            "2/2 [==============================] - 37s 18s/step - loss: 0.8427 - accuracy: 0.7812 - val_loss: 0.4043 - val_accuracy: 0.7500\n",
            "Epoch 17/100\n",
            "2/2 [==============================] - 50s 25s/step - loss: 0.6514 - accuracy: 0.7812 - val_loss: 0.6954 - val_accuracy: 0.7812\n",
            "Epoch 18/100\n",
            "2/2 [==============================] - 51s 25s/step - loss: 0.7177 - accuracy: 0.8594 - val_loss: 1.0267 - val_accuracy: 0.6875\n",
            "Epoch 19/100\n",
            "2/2 [==============================] - 51s 25s/step - loss: 0.9273 - accuracy: 0.8281 - val_loss: 0.9797 - val_accuracy: 0.7500\n",
            "Epoch 20/100\n",
            "2/2 [==============================] - 38s 19s/step - loss: 0.4644 - accuracy: 0.8906 - val_loss: 0.0137 - val_accuracy: 1.0000\n",
            "Epoch 21/100\n",
            "2/2 [==============================] - 51s 25s/step - loss: 0.2843 - accuracy: 0.8750 - val_loss: 0.3513 - val_accuracy: 0.8750\n",
            "Epoch 22/100\n",
            "2/2 [==============================] - 51s 25s/step - loss: 0.2671 - accuracy: 0.8906 - val_loss: 0.5719 - val_accuracy: 0.8125\n",
            "Epoch 23/100\n",
            "2/2 [==============================] - 51s 25s/step - loss: 0.3586 - accuracy: 0.8438 - val_loss: 0.6416 - val_accuracy: 0.7812\n",
            "Epoch 24/100\n",
            "2/2 [==============================] - 38s 19s/step - loss: 0.5621 - accuracy: 0.8438 - val_loss: 1.0848 - val_accuracy: 0.7500\n",
            "Epoch 25/100\n",
            "2/2 [==============================] - 52s 26s/step - loss: 0.4006 - accuracy: 0.8594 - val_loss: 1.1302 - val_accuracy: 0.5938\n",
            "Epoch 26/100\n",
            "2/2 [==============================] - 51s 25s/step - loss: 0.3392 - accuracy: 0.9062 - val_loss: 0.1527 - val_accuracy: 0.9375\n",
            "Epoch 27/100\n",
            "2/2 [==============================] - 51s 25s/step - loss: 0.2883 - accuracy: 0.9062 - val_loss: 0.1742 - val_accuracy: 0.9688\n",
            "Epoch 28/100\n",
            "2/2 [==============================] - 37s 18s/step - loss: 0.0794 - accuracy: 1.0000 - val_loss: 1.4796 - val_accuracy: 0.5000\n",
            "Epoch 29/100\n",
            "2/2 [==============================] - 51s 25s/step - loss: 0.2829 - accuracy: 0.8750 - val_loss: 0.5559 - val_accuracy: 0.8125\n",
            "Epoch 30/100\n",
            "2/2 [==============================] - 51s 25s/step - loss: 0.1708 - accuracy: 0.9062 - val_loss: 0.9620 - val_accuracy: 0.8125\n",
            "Epoch 31/100\n",
            "2/2 [==============================] - 51s 26s/step - loss: 0.2320 - accuracy: 0.9531 - val_loss: 0.3500 - val_accuracy: 0.8125\n",
            "Epoch 32/100\n",
            "2/2 [==============================] - 37s 18s/step - loss: 0.2163 - accuracy: 0.8906 - val_loss: 0.8888 - val_accuracy: 0.7500\n",
            "Epoch 33/100\n",
            "2/2 [==============================] - 51s 25s/step - loss: 0.2931 - accuracy: 0.8594 - val_loss: 0.5908 - val_accuracy: 0.7812\n",
            "Epoch 34/100\n",
            "2/2 [==============================] - 51s 25s/step - loss: 0.1817 - accuracy: 0.9375 - val_loss: 0.5162 - val_accuracy: 0.8125\n",
            "Epoch 35/100\n",
            "2/2 [==============================] - 51s 25s/step - loss: 0.2154 - accuracy: 0.9062 - val_loss: 0.8337 - val_accuracy: 0.7812\n",
            "Epoch 36/100\n",
            "2/2 [==============================] - 37s 18s/step - loss: 0.1938 - accuracy: 0.9062 - val_loss: 4.3509e-05 - val_accuracy: 1.0000\n",
            "Epoch 37/100\n",
            "2/2 [==============================] - 52s 26s/step - loss: 0.1984 - accuracy: 0.9219 - val_loss: 0.5442 - val_accuracy: 0.8125\n",
            "Epoch 38/100\n",
            "2/2 [==============================] - 51s 26s/step - loss: 0.1852 - accuracy: 0.9062 - val_loss: 0.1629 - val_accuracy: 0.9062\n",
            "Epoch 39/100\n",
            "2/2 [==============================] - 51s 25s/step - loss: 0.2431 - accuracy: 0.8750 - val_loss: 0.5238 - val_accuracy: 0.7812\n",
            "Epoch 40/100\n",
            "2/2 [==============================] - 38s 19s/step - loss: 0.0925 - accuracy: 0.9688 - val_loss: 2.3770 - val_accuracy: 0.5000\n",
            "Epoch 41/100\n",
            "2/2 [==============================] - 51s 25s/step - loss: 0.0664 - accuracy: 0.9844 - val_loss: 0.1931 - val_accuracy: 0.9062\n",
            "Epoch 42/100\n",
            "2/2 [==============================] - 51s 25s/step - loss: 0.0625 - accuracy: 0.9844 - val_loss: 0.7514 - val_accuracy: 0.7500\n",
            "Epoch 43/100\n",
            "2/2 [==============================] - 51s 25s/step - loss: 0.1662 - accuracy: 0.9062 - val_loss: 0.4003 - val_accuracy: 0.7812\n",
            "Epoch 44/100\n",
            "2/2 [==============================] - 37s 19s/step - loss: 0.0320 - accuracy: 0.9844 - val_loss: 0.6841 - val_accuracy: 0.7500\n",
            "Epoch 45/100\n",
            "2/2 [==============================] - 51s 25s/step - loss: 0.1637 - accuracy: 0.9375 - val_loss: 0.2026 - val_accuracy: 0.9062\n",
            "Epoch 46/100\n",
            "2/2 [==============================] - 51s 25s/step - loss: 0.0336 - accuracy: 0.9844 - val_loss: 0.4265 - val_accuracy: 0.8438\n",
            "Epoch 47/100\n",
            "2/2 [==============================] - 52s 26s/step - loss: 0.0253 - accuracy: 1.0000 - val_loss: 1.0265 - val_accuracy: 0.6875\n",
            "Epoch 48/100\n",
            "2/2 [==============================] - 37s 18s/step - loss: 0.0648 - accuracy: 0.9688 - val_loss: 0.0235 - val_accuracy: 1.0000\n",
            "Epoch 49/100\n",
            "2/2 [==============================] - 51s 26s/step - loss: 0.0863 - accuracy: 0.9844 - val_loss: 0.6614 - val_accuracy: 0.7812\n",
            "Epoch 50/100\n",
            "2/2 [==============================] - 52s 26s/step - loss: 0.0768 - accuracy: 0.9531 - val_loss: 0.3375 - val_accuracy: 0.8750\n",
            "Epoch 51/100\n",
            "2/2 [==============================] - 51s 25s/step - loss: 0.0231 - accuracy: 1.0000 - val_loss: 0.5141 - val_accuracy: 0.8750\n",
            "Epoch 52/100\n",
            "2/2 [==============================] - 37s 18s/step - loss: 0.0858 - accuracy: 0.9531 - val_loss: 0.0037 - val_accuracy: 1.0000\n",
            "Epoch 53/100\n",
            "2/2 [==============================] - 51s 25s/step - loss: 0.0187 - accuracy: 1.0000 - val_loss: 0.5077 - val_accuracy: 0.7812\n",
            "Epoch 54/100\n",
            "2/2 [==============================] - 52s 26s/step - loss: 0.0207 - accuracy: 1.0000 - val_loss: 0.4191 - val_accuracy: 0.8438\n",
            "Epoch 55/100\n",
            "2/2 [==============================] - 51s 25s/step - loss: 0.0842 - accuracy: 0.9688 - val_loss: 0.8460 - val_accuracy: 0.8438\n",
            "Epoch 56/100\n",
            "2/2 [==============================] - 37s 19s/step - loss: 0.0101 - accuracy: 1.0000 - val_loss: 0.1406 - val_accuracy: 1.0000\n",
            "Epoch 57/100\n",
            "2/2 [==============================] - 51s 26s/step - loss: 0.0396 - accuracy: 0.9844 - val_loss: 0.2935 - val_accuracy: 0.9062\n",
            "Epoch 58/100\n",
            "2/2 [==============================] - 51s 25s/step - loss: 0.0166 - accuracy: 1.0000 - val_loss: 0.6200 - val_accuracy: 0.7812\n",
            "Epoch 59/100\n",
            "2/2 [==============================] - 51s 25s/step - loss: 0.0091 - accuracy: 1.0000 - val_loss: 0.2525 - val_accuracy: 0.9062\n",
            "Epoch 60/100\n",
            "2/2 [==============================] - 38s 19s/step - loss: 0.0235 - accuracy: 1.0000 - val_loss: 3.6176 - val_accuracy: 0.7500\n",
            "Epoch 61/100\n",
            "2/2 [==============================] - 51s 25s/step - loss: 0.0309 - accuracy: 0.9688 - val_loss: 0.6746 - val_accuracy: 0.8750\n",
            "Epoch 62/100\n",
            "2/2 [==============================] - 52s 26s/step - loss: 0.0163 - accuracy: 1.0000 - val_loss: 0.3623 - val_accuracy: 0.8750\n",
            "Epoch 63/100\n",
            "2/2 [==============================] - 51s 26s/step - loss: 0.0076 - accuracy: 1.0000 - val_loss: 0.6834 - val_accuracy: 0.8125\n",
            "Epoch 64/100\n",
            "2/2 [==============================] - 37s 18s/step - loss: 0.0036 - accuracy: 1.0000 - val_loss: 0.7778 - val_accuracy: 0.7500\n",
            "Epoch 65/100\n",
            "2/2 [==============================] - 51s 25s/step - loss: 0.0091 - accuracy: 1.0000 - val_loss: 0.4523 - val_accuracy: 0.8438\n",
            "Epoch 66/100\n",
            "2/2 [==============================] - 50s 25s/step - loss: 8.8608e-04 - accuracy: 1.0000 - val_loss: 0.3059 - val_accuracy: 0.8438\n",
            "Epoch 67/100\n",
            "2/2 [==============================] - 51s 26s/step - loss: 0.0018 - accuracy: 1.0000 - val_loss: 1.0890 - val_accuracy: 0.7812\n",
            "Epoch 68/100\n",
            "2/2 [==============================] - 37s 18s/step - loss: 0.0160 - accuracy: 1.0000 - val_loss: 0.0184 - val_accuracy: 1.0000\n",
            "Epoch 69/100\n",
            "2/2 [==============================] - 51s 25s/step - loss: 0.0031 - accuracy: 1.0000 - val_loss: 0.7045 - val_accuracy: 0.9062\n",
            "Epoch 70/100\n",
            "2/2 [==============================] - 51s 26s/step - loss: 0.0251 - accuracy: 0.9844 - val_loss: 0.5198 - val_accuracy: 0.8438\n",
            "Epoch 71/100\n",
            "2/2 [==============================] - 51s 25s/step - loss: 0.0060 - accuracy: 1.0000 - val_loss: 0.3509 - val_accuracy: 0.8438\n",
            "Epoch 72/100\n",
            "2/2 [==============================] - 37s 18s/step - loss: 0.0095 - accuracy: 1.0000 - val_loss: 0.3803 - val_accuracy: 0.7500\n",
            "Epoch 73/100\n",
            "2/2 [==============================] - 51s 26s/step - loss: 0.0023 - accuracy: 1.0000 - val_loss: 0.5837 - val_accuracy: 0.8750\n",
            "Epoch 74/100\n",
            "2/2 [==============================] - 51s 26s/step - loss: 0.0233 - accuracy: 0.9844 - val_loss: 0.5795 - val_accuracy: 0.8125\n",
            "Epoch 75/100\n",
            "2/2 [==============================] - 52s 26s/step - loss: 0.0257 - accuracy: 0.9844 - val_loss: 0.6530 - val_accuracy: 0.8438\n",
            "Epoch 76/100\n",
            "2/2 [==============================] - 37s 19s/step - loss: 0.0060 - accuracy: 1.0000 - val_loss: 0.0106 - val_accuracy: 1.0000\n",
            "Epoch 77/100\n",
            "2/2 [==============================] - 51s 25s/step - loss: 0.0018 - accuracy: 1.0000 - val_loss: 0.2424 - val_accuracy: 0.9062\n",
            "Epoch 78/100\n",
            "2/2 [==============================] - 51s 25s/step - loss: 0.0014 - accuracy: 1.0000 - val_loss: 1.0037 - val_accuracy: 0.8125\n",
            "Epoch 79/100\n",
            "2/2 [==============================] - 51s 25s/step - loss: 0.0059 - accuracy: 1.0000 - val_loss: 0.8279 - val_accuracy: 0.8438\n",
            "Epoch 80/100\n",
            "2/2 [==============================] - 38s 19s/step - loss: 9.1191e-04 - accuracy: 1.0000 - val_loss: 1.1668 - val_accuracy: 0.7500\n",
            "Epoch 81/100\n",
            "2/2 [==============================] - 51s 26s/step - loss: 0.0065 - accuracy: 1.0000 - val_loss: 1.1543 - val_accuracy: 0.7500\n",
            "Epoch 82/100\n",
            "2/2 [==============================] - 51s 25s/step - loss: 0.0059 - accuracy: 1.0000 - val_loss: 0.5324 - val_accuracy: 0.8750\n",
            "Epoch 83/100\n",
            "2/2 [==============================] - 52s 26s/step - loss: 2.4893e-04 - accuracy: 1.0000 - val_loss: 0.6097 - val_accuracy: 0.8750\n",
            "Epoch 84/100\n",
            "2/2 [==============================] - 37s 18s/step - loss: 0.0249 - accuracy: 0.9844 - val_loss: 0.0036 - val_accuracy: 1.0000\n",
            "Epoch 85/100\n",
            "2/2 [==============================] - 51s 25s/step - loss: 8.4633e-04 - accuracy: 1.0000 - val_loss: 0.7292 - val_accuracy: 0.8438\n",
            "Epoch 86/100\n",
            "2/2 [==============================] - 51s 25s/step - loss: 0.0510 - accuracy: 0.9688 - val_loss: 0.6736 - val_accuracy: 0.8438\n",
            "Epoch 87/100\n",
            "2/2 [==============================] - 51s 26s/step - loss: 0.0061 - accuracy: 1.0000 - val_loss: 1.5265 - val_accuracy: 0.8438\n",
            "Epoch 88/100\n",
            "2/2 [==============================] - 38s 19s/step - loss: 0.1161 - accuracy: 0.9531 - val_loss: 0.1442 - val_accuracy: 1.0000\n",
            "Epoch 89/100\n",
            "2/2 [==============================] - 51s 25s/step - loss: 0.0066 - accuracy: 1.0000 - val_loss: 2.4910 - val_accuracy: 0.7500\n",
            "Epoch 90/100\n",
            "2/2 [==============================] - 51s 26s/step - loss: 0.3230 - accuracy: 0.9219 - val_loss: 0.2110 - val_accuracy: 0.8750\n",
            "Epoch 91/100\n",
            "2/2 [==============================] - 51s 25s/step - loss: 0.2435 - accuracy: 0.9062 - val_loss: 1.3961 - val_accuracy: 0.8125\n",
            "2/2 [==============================] - 37s 18s/step - loss: 0.3290 - accuracy: 0.9375 - val_loss: 1.0252 - val_accuracy: 0.7500\n",
            "Epoch 93/100\n",
            "2/2 [==============================] - 51s 26s/step - loss: 0.6379 - accuracy: 0.8281 - val_loss: 0.6079 - val_accuracy: 0.8750\n",
            "Epoch 94/100\n",
            "2/2 [==============================] - 51s 25s/step - loss: 0.0476 - accuracy: 0.9844 - val_loss: 1.9903 - val_accuracy: 0.7500\n",
            "Epoch 95/100\n",
            "2/2 [==============================] - 51s 25s/step - loss: 0.6267 - accuracy: 0.8906 - val_loss: 0.6905 - val_accuracy: 0.8125\n",
            "Epoch 96/100\n",
            "2/2 [==============================] - 37s 19s/step - loss: 0.0215 - accuracy: 0.9844 - val_loss: 0.3512 - val_accuracy: 0.7500\n",
            "Epoch 97/100\n",
            "2/2 [==============================] - 51s 25s/step - loss: 0.1687 - accuracy: 0.9375 - val_loss: 0.6465 - val_accuracy: 0.8125\n",
            "Epoch 98/100\n",
            "2/2 [==============================] - 50s 25s/step - loss: 0.0148 - accuracy: 1.0000 - val_loss: 0.9026 - val_accuracy: 0.7188\n",
            "Epoch 99/100\n",
            "2/2 [==============================] - 50s 25s/step - loss: 0.0668 - accuracy: 0.9531 - val_loss: 0.6462 - val_accuracy: 0.8125\n",
            "Epoch 100/100\n",
            "2/2 [==============================] - 38s 19s/step - loss: 0.1302 - accuracy: 0.9531 - val_loss: 1.1400 - val_accuracy: 0.5000\n"
          ],
          "name": "stdout"
        }
      ]
    },
    {
      "cell_type": "code",
      "metadata": {
        "id": "YtQxWrIlPU_M",
        "colab_type": "code",
        "colab": {
          "base_uri": "https://localhost:8080/",
          "height": 295
        },
        "outputId": "f8f6a200-46d1-43c2-b9c5-77d27db4290b"
      },
      "source": [
        "import matplotlib.pyplot as plt\n",
        "plt.plot(hist.history[\"accuracy\"])\n",
        "plt.plot(hist.history['val_accuracy'])\n",
        "plt.plot(hist.history['loss'])\n",
        "plt.plot(hist.history['val_loss'])\n",
        "plt.title(\"model accuracy\")\n",
        "plt.ylabel(\"Accuracy\")\n",
        "plt.xlabel(\"Epoch\")\n",
        "plt.legend([\"Accuracy\",\"Validation Accuracy\",\"loss\",\"Validation Loss\"])\n",
        "plt.show()"
      ],
      "execution_count": 13,
      "outputs": [
        {
          "output_type": "display_data",
          "data": {
            "image/png": "[encoded data removed]",
            "text/plain": [
              "<Figure size 432x288 with 1 Axes>"
            ]
          },
          "metadata": {
            "tags": [],
            "needs_background": "light"
          }
        }
      ]
    },
    {
      "cell_type": "code",
      "metadata": {
        "id": "_2GdDycwS52M",
        "colab_type": "code",
        "colab": {}
      },
      "source": [
        "from keras.preprocessing.image import ImageDataGenerator\n",
        "from sklearn.metrics import classification_report, confusion_matrix\n",
        "\n",
        "test_datagen = ImageDataGenerator(rescale=1. / 255)"
      ],
      "execution_count": 14,
      "outputs": []
    },
    {
      "cell_type": "code",
      "metadata": {
        "id": "9-fknWZIS-CT",
        "colab_type": "code",
        "colab": {
          "base_uri": "https://localhost:8080/",
          "height": 34
        },
        "outputId": "ac5cb355-1495-46c7-bfae-f7a3ca002ed5"
      },
      "source": [
        "validation_generator = test_datagen.flow_from_directory('/content/drive/My Drive/data_ouput/test',\n",
        "                                                        target_size=(224, 224),\n",
        "                                                        batch_size=32,\n",
        "                                                        class_mode='categorical')"
      ],
      "execution_count": 15,
      "outputs": [
        {
          "output_type": "stream",
          "text": [
            "Found 100 images belonging to 4 classes.\n"
          ],
          "name": "stdout"
        }
      ]
    },
    {
      "cell_type": "code",
      "metadata": {
        "id": "RSoXpGKcTEnR",
        "colab_type": "code",
        "colab": {
          "base_uri": "https://localhost:8080/",
          "height": 360
        },
        "outputId": "07e5c7cb-bf74-42d5-cd06-bf9dd567d376"
      },
      "source": [
        "import numpy as np\n",
        "#Confution Matrix and Classification Report\n",
        "Y_pred = model_final.predict_generator(validation_generator)\n",
        "y_pred = np.argmax(Y_pred, axis=1)\n",
        "print('Confusion Matrix')\n",
        "print(confusion_matrix(validation_generator.classes, y_pred))\n",
        "print('Classification Report')\n",
        "target_names = ['grade0', 'grade1', 'grade2','grade3']\n",
        "print(classification_report(validation_generator.classes, y_pred, target_names=target_names))"
      ],
      "execution_count": 16,
      "outputs": [
        {
          "output_type": "stream",
          "text": [
            "Confusion Matrix\n",
            "[[25  0  0  0]\n",
            " [25  0  0  0]\n",
            " [25  0  0  0]\n",
            " [25  0  0  0]]\n",
            "Classification Report\n",
            "              precision    recall  f1-score   support\n",
            "\n",
            "      grade0       0.25      1.00      0.40        25\n",
            "      grade1       0.00      0.00      0.00        25\n",
            "      grade2       0.00      0.00      0.00        25\n",
            "      grade3       0.00      0.00      0.00        25\n",
            "\n",
            "    accuracy                           0.25       100\n",
            "   macro avg       0.06      0.25      0.10       100\n",
            "weighted avg       0.06      0.25      0.10       100\n",
            "\n"
          ],
          "name": "stdout"
        },
        {
          "output_type": "stream",
          "text": [
            "/usr/local/lib/python3.6/dist-packages/sklearn/metrics/_classification.py:1272: UndefinedMetricWarning: Precision and F-score are ill-defined and being set to 0.0 in labels with no predicted samples. Use `zero_division` parameter to control this behavior.\n",
            "  _warn_prf(average, modifier, msg_start, len(result))\n"
          ],
          "name": "stderr"
        }
      ]
    },
    {
      "cell_type": "code",
      "metadata": {
        "id": "B-E18MG6VMMN",
        "colab_type": "code",
        "colab": {
          "base_uri": "https://localhost:8080/",
          "height": 269
        },
        "outputId": "8c0ae71a-ba22-4184-8d98-d92a8028e198"
      },
      "source": [
        "from keras.preprocessing import image\n",
        "import matplotlib.pyplot as plt\n",
        "\n",
        "img = image.load_img(\"/content/drive/My Drive/data_ouput/val/grade2/grade2-130.jpg\",target_size=(224,224))\n",
        "img = np.asarray(img)\n",
        "plt.imshow(img)\n",
        "img = np.expand_dims(img, axis=0)"
      ],
      "execution_count": 17,
      "outputs": [
        {
          "output_type": "display_data",
          "data": {
            "image/png": "[encoded data removed]",
            "text/plain": [
              "<Figure size 432x288 with 1 Axes>"
            ]
          },
          "metadata": {
            "tags": [],
            "needs_background": "light"
          }
        }
      ]
    },
    {
      "cell_type": "code",
      "metadata": {
        "id": "Ux21nwVeV0mE",
        "colab_type": "code",
        "colab": {}
      },
      "source": [
        "output = model_final.predict(img)"
      ],
      "execution_count": 18,
      "outputs": []
    },
    {
      "cell_type": "code",
      "metadata": {
        "id": "crw2NNGyV7kN",
        "colab_type": "code",
        "colab": {
          "base_uri": "https://localhost:8080/",
          "height": 34
        },
        "outputId": "7ae64bb1-d822-4002-8d3f-b0d01eb777a4"
      },
      "source": [
        "output\n",
        "ans='grade'+str(np.argmax(output[0],axis=0))\n",
        "print(ans)"
      ],
      "execution_count": 19,
      "outputs": [
        {
          "output_type": "stream",
          "text": [
            "grade2\n"
          ],
          "name": "stdout"
        }
      ]
    },
    {
      "cell_type": "code",
      "metadata": {
        "id": "YbH-5BZmX-K4",
        "colab_type": "code",
        "colab": {
          "base_uri": "https://localhost:8080/",
          "height": 153
        },
        "outputId": "a06640e4-eb70-4043-aa83-3d101c1cdebc"
      },
      "source": [
        "import os\n",
        "data_path='/content/drive/My Drive/data_output/val'\n",
        "data_dir_list=os.listdir(data_path)\n",
        "for dataset in data_dir_list:\n",
        "  print(dataset)\n",
        "  img_list=os.listdir(data_path+'/'+dataset)\n",
        "  correctCount=0\n",
        "  wrongCount=0\n",
        "  for img in img_list:\n",
        "    img_path=data_path+'/'+dataset+'/'+img\n",
        "    input_image = image.load_img(img_path,target_size=(224,224))\n",
        "    input_image = np.asarray(input_image)\n",
        "    input_image = np.expand_dims(input_image, axis=0)\n",
        "    output = model_final.predict(input_image)\n",
        "    ans='grade'+str(np.argmax(output[0],axis=0))\n",
        "    if( ans in img):\n",
        "      correctCount+=1\n",
        "    else:\n",
        "      wrongCount+=1\n",
        "  print(\"correct Count {} WrongCount {}\".format(correctCount,wrongCount))\n",
        "\n",
        "\n"
      ],
      "execution_count": 20,
      "outputs": [
        {
          "output_type": "stream",
          "text": [
            "grade1\n",
            "correct Count 26 WrongCount 24\n",
            "grade0\n",
            "correct Count 49 WrongCount 1\n",
            "grade2\n",
            "correct Count 48 WrongCount 2\n",
            "grade3\n",
            "correct Count 39 WrongCount 11\n"
          ],
          "name": "stdout"
        }
      ]
    },
    {
      "cell_type": "code",
      "metadata": {
        "id": "PiiV053i4At7",
        "colab_type": "code",
        "colab": {}
      },
      "source": [
        "model_final.save('model.h5')"
      ],
      "execution_count": null,
      "outputs": []
    }
  ]
}