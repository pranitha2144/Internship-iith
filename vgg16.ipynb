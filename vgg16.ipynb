{
  "nbformat": 4,
  "nbformat_minor": 0,
  "metadata": {
    "colab": {
      "name": "vgg16",
      "provenance": [],
      "collapsed_sections": [],
      "mount_file_id": "1IhyoGy7EHEgj120Y7aEt15WFbYJP6aXH",
      "authorship_tag": "ABX9TyPn5IGWDJj0qb75czdhQ90C",
      "include_colab_link": true
    },
    "kernelspec": {
      "name": "python3",
      "display_name": "Python 3"
    }
  },
  "cells": [
    {
      "cell_type": "markdown",
      "metadata": {
        "id": "view-in-github",
        "colab_type": "text"
      },
      "source": [
        "<a href=\"https://colab.research.google.com/github/pranitha2144/Internship-iith/blob/Resnet/vgg16.ipynb\" target=\"_parent\"><img src=\"https://colab.research.google.com/assets/colab-badge.svg\" alt=\"Open In Colab\"/></a>"
      ]
    },
    {
      "cell_type": "code",
      "metadata": {
        "id": "PMu2eC3sYOxm",
        "colab_type": "code",
        "colab": {
          "base_uri": "https://localhost:8080/",
          "height": 34
        },
        "outputId": "f21f0009-f958-4841-e56b-72c890665202"
      },
      "source": [
        "import keras\n",
        "from keras.models import Model\n",
        "from keras.layers import Dense,Dropout\n",
        "from keras import optimizers\n",
        "from keras.preprocessing.image import ImageDataGenerator\n",
        "from keras.preprocessing import image\n",
        "from tensorflow.keras.applications.vgg16 import preprocess_input"
      ],
      "execution_count": 2,
      "outputs": [
        {
          "output_type": "stream",
          "text": [
            "Using TensorFlow backend.\n"
          ],
          "name": "stderr"
        }
      ]
    },
    {
      "cell_type": "code",
      "metadata": {
        "id": "p6rPAuwiYVPF",
        "colab_type": "code",
        "colab": {
          "base_uri": "https://localhost:8080/",
          "height": 51
        },
        "outputId": "cc9a99bf-371f-4098-fc21-68fec65ba40e"
      },
      "source": [
        "trdata = ImageDataGenerator(\n",
        "    )\n",
        "traindata = trdata.flow_from_directory(directory=\"/content/drive/My Drive/data_ouput/train\",target_size=(224,224))\n",
        "tsdata = ImageDataGenerator()\n",
        "testdata = tsdata.flow_from_directory(directory=\"/content/drive/My Drive/data_ouput/val\", target_size=(224,224))"
      ],
      "execution_count": 3,
      "outputs": [
        {
          "output_type": "stream",
          "text": [
            "Found 800 images belonging to 4 classes.\n",
            "Found 100 images belonging to 4 classes.\n"
          ],
          "name": "stdout"
        }
      ]
    },
    {
      "cell_type": "code",
      "metadata": {
        "id": "YEDviFOOYqSH",
        "colab_type": "code",
        "colab": {}
      },
      "source": [
        "from keras.applications.vgg16 import VGG16\n",
        "vggmodel = VGG16(weights='imagenet',include_top=True)"
      ],
      "execution_count": 55,
      "outputs": []
    },
    {
      "cell_type": "code",
      "metadata": {
        "id": "_DBVSTlUYwZt",
        "colab_type": "code",
        "colab": {
          "base_uri": "https://localhost:8080/",
          "height": 935
        },
        "outputId": "87ea73bd-0aba-4629-c56f-c85c01ccc445"
      },
      "source": [
        "vggmodel.summary()"
      ],
      "execution_count": 56,
      "outputs": [
        {
          "output_type": "stream",
          "text": [
            "Model: \"vgg16\"\n",
            "_________________________________________________________________\n",
            "Layer (type)                 Output Shape              Param #   \n",
            "=================================================================\n",
            "input_6 (InputLayer)         (None, 224, 224, 3)       0         \n",
            "_________________________________________________________________\n",
            "block1_conv1 (Conv2D)        (None, 224, 224, 64)      1792      \n",
            "_________________________________________________________________\n",
            "block1_conv2 (Conv2D)        (None, 224, 224, 64)      36928     \n",
            "_________________________________________________________________\n",
            "block1_pool (MaxPooling2D)   (None, 112, 112, 64)      0         \n",
            "_________________________________________________________________\n",
            "block2_conv1 (Conv2D)        (None, 112, 112, 128)     73856     \n",
            "_________________________________________________________________\n",
            "block2_conv2 (Conv2D)        (None, 112, 112, 128)     147584    \n",
            "_________________________________________________________________\n",
            "block2_pool (MaxPooling2D)   (None, 56, 56, 128)       0         \n",
            "_________________________________________________________________\n",
            "block3_conv1 (Conv2D)        (None, 56, 56, 256)       295168    \n",
            "_________________________________________________________________\n",
            "block3_conv2 (Conv2D)        (None, 56, 56, 256)       590080    \n",
            "_________________________________________________________________\n",
            "block3_conv3 (Conv2D)        (None, 56, 56, 256)       590080    \n",
            "_________________________________________________________________\n",
            "block3_pool (MaxPooling2D)   (None, 28, 28, 256)       0         \n",
            "_________________________________________________________________\n",
            "block4_conv1 (Conv2D)        (None, 28, 28, 512)       1180160   \n",
            "_________________________________________________________________\n",
            "block4_conv2 (Conv2D)        (None, 28, 28, 512)       2359808   \n",
            "_________________________________________________________________\n",
            "block4_conv3 (Conv2D)        (None, 28, 28, 512)       2359808   \n",
            "_________________________________________________________________\n",
            "block4_pool (MaxPooling2D)   (None, 14, 14, 512)       0         \n",
            "_________________________________________________________________\n",
            "block5_conv1 (Conv2D)        (None, 14, 14, 512)       2359808   \n",
            "_________________________________________________________________\n",
            "block5_conv2 (Conv2D)        (None, 14, 14, 512)       2359808   \n",
            "_________________________________________________________________\n",
            "block5_conv3 (Conv2D)        (None, 14, 14, 512)       2359808   \n",
            "_________________________________________________________________\n",
            "block5_pool (MaxPooling2D)   (None, 7, 7, 512)         0         \n",
            "_________________________________________________________________\n",
            "flatten (Flatten)            (None, 25088)             0         \n",
            "_________________________________________________________________\n",
            "fc1 (Dense)                  (None, 4096)              102764544 \n",
            "_________________________________________________________________\n",
            "fc2 (Dense)                  (None, 4096)              16781312  \n",
            "_________________________________________________________________\n",
            "predictions (Dense)          (None, 1000)              4097000   \n",
            "=================================================================\n",
            "Total params: 138,357,544\n",
            "Trainable params: 138,357,544\n",
            "Non-trainable params: 0\n",
            "_________________________________________________________________\n"
          ],
          "name": "stdout"
        }
      ]
    },
    {
      "cell_type": "code",
      "metadata": {
        "id": "K12OYHZlYzgM",
        "colab_type": "code",
        "colab": {
          "base_uri": "https://localhost:8080/",
          "height": 34
        },
        "outputId": "17e095c9-08a5-4e66-9eef-a84daa8a5aac"
      },
      "source": [
        "vggmodel.layers.pop()\n",
        "vggmodel.layers.pop()\n",
        "vggmodel.layers.pop()"
      ],
      "execution_count": 57,
      "outputs": [
        {
          "output_type": "execute_result",
          "data": {
            "text/plain": [
              "<keras.layers.core.Dense at 0x7fab6ce9de48>"
            ]
          },
          "metadata": {
            "tags": []
          },
          "execution_count": 57
        }
      ]
    },
    {
      "cell_type": "code",
      "metadata": {
        "id": "8LYBFIW-Y1vZ",
        "colab_type": "code",
        "colab": {
          "base_uri": "https://localhost:8080/",
          "height": 357
        },
        "outputId": "1330fa43-e9f3-41ff-df34-57667cc5f45a"
      },
      "source": [
        "for layers in (vggmodel.layers):\n",
        "    print(layers)\n",
        "    layers.trainable = False"
      ],
      "execution_count": 58,
      "outputs": [
        {
          "output_type": "stream",
          "text": [
            "<keras.engine.input_layer.InputLayer object at 0x7fab6cf2e630>\n",
            "<keras.layers.convolutional.Conv2D object at 0x7fab6cf2ecc0>\n",
            "<keras.layers.convolutional.Conv2D object at 0x7fab6cf2eb38>\n",
            "<keras.layers.pooling.MaxPooling2D object at 0x7fab6cf2ea90>\n",
            "<keras.layers.convolutional.Conv2D object at 0x7fab6cf2ef60>\n",
            "<keras.layers.convolutional.Conv2D object at 0x7fab6cec5e10>\n",
            "<keras.layers.pooling.MaxPooling2D object at 0x7fab6cef69b0>\n",
            "<keras.layers.convolutional.Conv2D object at 0x7fab6cef67f0>\n",
            "<keras.layers.convolutional.Conv2D object at 0x7fab6ce7b4e0>\n",
            "<keras.layers.convolutional.Conv2D object at 0x7fab6ce7bdd8>\n",
            "<keras.layers.pooling.MaxPooling2D object at 0x7fab6ce83b00>\n",
            "<keras.layers.convolutional.Conv2D object at 0x7fab6ce83940>\n",
            "<keras.layers.convolutional.Conv2D object at 0x7fab6ce89630>\n",
            "<keras.layers.convolutional.Conv2D object at 0x7fab6ce89dd8>\n",
            "<keras.layers.pooling.MaxPooling2D object at 0x7fab6ce90c50>\n",
            "<keras.layers.convolutional.Conv2D object at 0x7fab6ce90a90>\n",
            "<keras.layers.convolutional.Conv2D object at 0x7fab6ce986d8>\n",
            "<keras.layers.convolutional.Conv2D object at 0x7fab6ce9d358>\n",
            "<keras.layers.pooling.MaxPooling2D object at 0x7fab6ce9dda0>\n",
            "<keras.layers.core.Flatten object at 0x7fab6ce9dbe0>\n"
          ],
          "name": "stdout"
        }
      ]
    },
    {
      "cell_type": "code",
      "metadata": {
        "id": "spEfu2MIY3-9",
        "colab_type": "code",
        "colab": {
          "base_uri": "https://localhost:8080/",
          "height": 833
        },
        "outputId": "4e034b84-daf3-41a9-a598-32e79623155e"
      },
      "source": [
        "vggmodel.summary()"
      ],
      "execution_count": 59,
      "outputs": [
        {
          "output_type": "stream",
          "text": [
            "Model: \"vgg16\"\n",
            "_________________________________________________________________\n",
            "Layer (type)                 Output Shape              Param #   \n",
            "=================================================================\n",
            "input_6 (InputLayer)         (None, 224, 224, 3)       0         \n",
            "_________________________________________________________________\n",
            "block1_conv1 (Conv2D)        (None, 224, 224, 64)      1792      \n",
            "_________________________________________________________________\n",
            "block1_conv2 (Conv2D)        (None, 224, 224, 64)      36928     \n",
            "_________________________________________________________________\n",
            "block1_pool (MaxPooling2D)   (None, 112, 112, 64)      0         \n",
            "_________________________________________________________________\n",
            "block2_conv1 (Conv2D)        (None, 112, 112, 128)     73856     \n",
            "_________________________________________________________________\n",
            "block2_conv2 (Conv2D)        (None, 112, 112, 128)     147584    \n",
            "_________________________________________________________________\n",
            "block2_pool (MaxPooling2D)   (None, 56, 56, 128)       0         \n",
            "_________________________________________________________________\n",
            "block3_conv1 (Conv2D)        (None, 56, 56, 256)       295168    \n",
            "_________________________________________________________________\n",
            "block3_conv2 (Conv2D)        (None, 56, 56, 256)       590080    \n",
            "_________________________________________________________________\n",
            "block3_conv3 (Conv2D)        (None, 56, 56, 256)       590080    \n",
            "_________________________________________________________________\n",
            "block3_pool (MaxPooling2D)   (None, 28, 28, 256)       0         \n",
            "_________________________________________________________________\n",
            "block4_conv1 (Conv2D)        (None, 28, 28, 512)       1180160   \n",
            "_________________________________________________________________\n",
            "block4_conv2 (Conv2D)        (None, 28, 28, 512)       2359808   \n",
            "_________________________________________________________________\n",
            "block4_conv3 (Conv2D)        (None, 28, 28, 512)       2359808   \n",
            "_________________________________________________________________\n",
            "block4_pool (MaxPooling2D)   (None, 14, 14, 512)       0         \n",
            "_________________________________________________________________\n",
            "block5_conv1 (Conv2D)        (None, 14, 14, 512)       2359808   \n",
            "_________________________________________________________________\n",
            "block5_conv2 (Conv2D)        (None, 14, 14, 512)       2359808   \n",
            "_________________________________________________________________\n",
            "block5_conv3 (Conv2D)        (None, 14, 14, 512)       2359808   \n",
            "_________________________________________________________________\n",
            "block5_pool (MaxPooling2D)   (None, 7, 7, 512)         0         \n",
            "_________________________________________________________________\n",
            "flatten (Flatten)            (None, 25088)             0         \n",
            "=================================================================\n",
            "Total params: 14,714,688\n",
            "Trainable params: 0\n",
            "Non-trainable params: 14,714,688\n",
            "_________________________________________________________________\n"
          ],
          "name": "stdout"
        }
      ]
    },
    {
      "cell_type": "code",
      "metadata": {
        "id": "hRa7hR7-Y-XR",
        "colab_type": "code",
        "colab": {
          "base_uri": "https://localhost:8080/",
          "height": 71
        },
        "outputId": "4be887a2-3f59-4535-8bf2-c81482cfa078"
      },
      "source": [
        "from tensorflow.keras import regularizers\n",
        "X= vggmodel.layers[-1].output\n",
        "fc_1=Dense(4096,activation='relu')(X)\n",
        "dr_1=Dropout(0.5)(fc_1)\n",
        "fc_2=Dense(4096, activation='relu')(dr_1)\n",
        "dr_2=Dropout(0.5)(fc_2)\n",
        "predictions = Dense(4, activation=\"softmax\")(dr_2)\n",
        "model_final = Model(input = vggmodel.input, output = predictions)"
      ],
      "execution_count": 60,
      "outputs": [
        {
          "output_type": "stream",
          "text": [
            "/usr/local/lib/python3.6/dist-packages/ipykernel_launcher.py:8: UserWarning: Update your `Model` call to the Keras 2 API: `Model(inputs=Tensor(\"in..., outputs=Tensor(\"de...)`\n",
            "  \n"
          ],
          "name": "stderr"
        }
      ]
    },
    {
      "cell_type": "code",
      "metadata": {
        "id": "1mRS_nHaZBCL",
        "colab_type": "code",
        "colab": {
          "base_uri": "https://localhost:8080/",
          "height": 1000
        },
        "outputId": "070d629f-12df-40c1-e4da-7479a84ec535"
      },
      "source": [
        "model_final.summary()"
      ],
      "execution_count": 61,
      "outputs": [
        {
          "output_type": "stream",
          "text": [
            "Model: \"model_3\"\n",
            "_________________________________________________________________\n",
            "Layer (type)                 Output Shape              Param #   \n",
            "=================================================================\n",
            "input_6 (InputLayer)         (None, 224, 224, 3)       0         \n",
            "_________________________________________________________________\n",
            "block1_conv1 (Conv2D)        (None, 224, 224, 64)      1792      \n",
            "_________________________________________________________________\n",
            "block1_conv2 (Conv2D)        (None, 224, 224, 64)      36928     \n",
            "_________________________________________________________________\n",
            "block1_pool (MaxPooling2D)   (None, 112, 112, 64)      0         \n",
            "_________________________________________________________________\n",
            "block2_conv1 (Conv2D)        (None, 112, 112, 128)     73856     \n",
            "_________________________________________________________________\n",
            "block2_conv2 (Conv2D)        (None, 112, 112, 128)     147584    \n",
            "_________________________________________________________________\n",
            "block2_pool (MaxPooling2D)   (None, 56, 56, 128)       0         \n",
            "_________________________________________________________________\n",
            "block3_conv1 (Conv2D)        (None, 56, 56, 256)       295168    \n",
            "_________________________________________________________________\n",
            "block3_conv2 (Conv2D)        (None, 56, 56, 256)       590080    \n",
            "_________________________________________________________________\n",
            "block3_conv3 (Conv2D)        (None, 56, 56, 256)       590080    \n",
            "_________________________________________________________________\n",
            "block3_pool (MaxPooling2D)   (None, 28, 28, 256)       0         \n",
            "_________________________________________________________________\n",
            "block4_conv1 (Conv2D)        (None, 28, 28, 512)       1180160   \n",
            "_________________________________________________________________\n",
            "block4_conv2 (Conv2D)        (None, 28, 28, 512)       2359808   \n",
            "_________________________________________________________________\n",
            "block4_conv3 (Conv2D)        (None, 28, 28, 512)       2359808   \n",
            "_________________________________________________________________\n",
            "block4_pool (MaxPooling2D)   (None, 14, 14, 512)       0         \n",
            "_________________________________________________________________\n",
            "block5_conv1 (Conv2D)        (None, 14, 14, 512)       2359808   \n",
            "_________________________________________________________________\n",
            "block5_conv2 (Conv2D)        (None, 14, 14, 512)       2359808   \n",
            "_________________________________________________________________\n",
            "block5_conv3 (Conv2D)        (None, 14, 14, 512)       2359808   \n",
            "_________________________________________________________________\n",
            "block5_pool (MaxPooling2D)   (None, 7, 7, 512)         0         \n",
            "_________________________________________________________________\n",
            "flatten (Flatten)            (None, 25088)             0         \n",
            "_________________________________________________________________\n",
            "dense_7 (Dense)              (None, 4096)              102764544 \n",
            "_________________________________________________________________\n",
            "dropout_5 (Dropout)          (None, 4096)              0         \n",
            "_________________________________________________________________\n",
            "dense_8 (Dense)              (None, 4096)              16781312  \n",
            "_________________________________________________________________\n",
            "dropout_6 (Dropout)          (None, 4096)              0         \n",
            "_________________________________________________________________\n",
            "dense_9 (Dense)              (None, 4)                 16388     \n",
            "=================================================================\n",
            "Total params: 134,276,932\n",
            "Trainable params: 119,562,244\n",
            "Non-trainable params: 14,714,688\n",
            "_________________________________________________________________\n"
          ],
          "name": "stdout"
        }
      ]
    },
    {
      "cell_type": "code",
      "metadata": {
        "id": "WyzYX9WSZK0G",
        "colab_type": "code",
        "colab": {}
      },
      "source": [
        "model_final.compile(loss = \"categorical_crossentropy\", optimizer = keras.optimizers.Adam(lr=0.0001), metrics=[\"accuracy\"])"
      ],
      "execution_count": 62,
      "outputs": []
    },
    {
      "cell_type": "code",
      "metadata": {
        "id": "3JhPnTE8ZRmI",
        "colab_type": "code",
        "colab": {
          "base_uri": "https://localhost:8080/",
          "height": 1000
        },
        "outputId": "a494facf-8085-447a-dcd7-1afd6e07a5cd"
      },
      "source": [
        "model_final.summary()"
      ],
      "execution_count": 63,
      "outputs": [
        {
          "output_type": "stream",
          "text": [
            "Model: \"model_3\"\n",
            "_________________________________________________________________\n",
            "Layer (type)                 Output Shape              Param #   \n",
            "=================================================================\n",
            "input_6 (InputLayer)         (None, 224, 224, 3)       0         \n",
            "_________________________________________________________________\n",
            "block1_conv1 (Conv2D)        (None, 224, 224, 64)      1792      \n",
            "_________________________________________________________________\n",
            "block1_conv2 (Conv2D)        (None, 224, 224, 64)      36928     \n",
            "_________________________________________________________________\n",
            "block1_pool (MaxPooling2D)   (None, 112, 112, 64)      0         \n",
            "_________________________________________________________________\n",
            "block2_conv1 (Conv2D)        (None, 112, 112, 128)     73856     \n",
            "_________________________________________________________________\n",
            "block2_conv2 (Conv2D)        (None, 112, 112, 128)     147584    \n",
            "_________________________________________________________________\n",
            "block2_pool (MaxPooling2D)   (None, 56, 56, 128)       0         \n",
            "_________________________________________________________________\n",
            "block3_conv1 (Conv2D)        (None, 56, 56, 256)       295168    \n",
            "_________________________________________________________________\n",
            "block3_conv2 (Conv2D)        (None, 56, 56, 256)       590080    \n",
            "_________________________________________________________________\n",
            "block3_conv3 (Conv2D)        (None, 56, 56, 256)       590080    \n",
            "_________________________________________________________________\n",
            "block3_pool (MaxPooling2D)   (None, 28, 28, 256)       0         \n",
            "_________________________________________________________________\n",
            "block4_conv1 (Conv2D)        (None, 28, 28, 512)       1180160   \n",
            "_________________________________________________________________\n",
            "block4_conv2 (Conv2D)        (None, 28, 28, 512)       2359808   \n",
            "_________________________________________________________________\n",
            "block4_conv3 (Conv2D)        (None, 28, 28, 512)       2359808   \n",
            "_________________________________________________________________\n",
            "block4_pool (MaxPooling2D)   (None, 14, 14, 512)       0         \n",
            "_________________________________________________________________\n",
            "block5_conv1 (Conv2D)        (None, 14, 14, 512)       2359808   \n",
            "_________________________________________________________________\n",
            "block5_conv2 (Conv2D)        (None, 14, 14, 512)       2359808   \n",
            "_________________________________________________________________\n",
            "block5_conv3 (Conv2D)        (None, 14, 14, 512)       2359808   \n",
            "_________________________________________________________________\n",
            "block5_pool (MaxPooling2D)   (None, 7, 7, 512)         0         \n",
            "_________________________________________________________________\n",
            "flatten (Flatten)            (None, 25088)             0         \n",
            "_________________________________________________________________\n",
            "dense_7 (Dense)              (None, 4096)              102764544 \n",
            "_________________________________________________________________\n",
            "dropout_5 (Dropout)          (None, 4096)              0         \n",
            "_________________________________________________________________\n",
            "dense_8 (Dense)              (None, 4096)              16781312  \n",
            "_________________________________________________________________\n",
            "dropout_6 (Dropout)          (None, 4096)              0         \n",
            "_________________________________________________________________\n",
            "dense_9 (Dense)              (None, 4)                 16388     \n",
            "=================================================================\n",
            "Total params: 134,276,932\n",
            "Trainable params: 119,562,244\n",
            "Non-trainable params: 14,714,688\n",
            "_________________________________________________________________\n"
          ],
          "name": "stdout"
        }
      ]
    },
    {
      "cell_type": "code",
      "metadata": {
        "id": "H6dGNtWtZVuK",
        "colab_type": "code",
        "colab": {
          "base_uri": "https://localhost:8080/",
          "height": 1000
        },
        "outputId": "db68d83c-415f-4014-9dc1-0e63631a2b5c"
      },
      "source": [
        "from keras.callbacks import ModelCheckpoint, EarlyStopping\n",
        "checkpoint = ModelCheckpoint(\"/content/drive/My Drive/Best models/model_b_1.h5\", monitor='val_loss', verbose=1, save_best_only=True, save_weights_only=False, mode='auto', period=1)\n",
        "early = EarlyStopping(monitor='val_loss', min_delta=0, patience=40, verbose=1, mode='auto')\n",
        "hist=model_final.fit(traindata, steps_per_epoch= 2, epochs= 100, validation_data= testdata, validation_steps=1, callbacks=[checkpoint,early])"
      ],
      "execution_count": 64,
      "outputs": [
        {
          "output_type": "stream",
          "text": [
            "Epoch 1/100\n",
            "2/2 [==============================] - 54s 27s/step - loss: 5.0841 - accuracy: 0.3125 - val_loss: 3.8763 - val_accuracy: 0.5000\n",
            "\n",
            "Epoch 00001: val_loss improved from inf to 3.87634, saving model to /content/drive/My Drive/Best models/model_b_1.h5\n",
            "Epoch 2/100\n",
            "2/2 [==============================] - 59s 30s/step - loss: 6.0157 - accuracy: 0.2969 - val_loss: 1.3241 - val_accuracy: 0.5625\n",
            "\n",
            "Epoch 00002: val_loss improved from 3.87634 to 1.32414, saving model to /content/drive/My Drive/Best models/model_b_1.h5\n",
            "Epoch 3/100\n",
            "2/2 [==============================] - 59s 30s/step - loss: 1.8836 - accuracy: 0.5938 - val_loss: 1.2636 - val_accuracy: 0.5938\n",
            "\n",
            "Epoch 00003: val_loss improved from 1.32414 to 1.26359, saving model to /content/drive/My Drive/Best models/model_b_1.h5\n",
            "Epoch 4/100\n",
            "2/2 [==============================] - 44s 22s/step - loss: 1.5238 - accuracy: 0.7500 - val_loss: 1.7697 - val_accuracy: 0.5000\n",
            "\n",
            "Epoch 00004: val_loss did not improve from 1.26359\n",
            "Epoch 5/100\n",
            "2/2 [==============================] - 52s 26s/step - loss: 3.4542 - accuracy: 0.6250 - val_loss: 1.3223 - val_accuracy: 0.7500\n",
            "\n",
            "Epoch 00005: val_loss did not improve from 1.26359\n",
            "Epoch 6/100\n",
            "2/2 [==============================] - 51s 26s/step - loss: 2.0280 - accuracy: 0.6875 - val_loss: 0.8239 - val_accuracy: 0.8750\n",
            "\n",
            "Epoch 00006: val_loss improved from 1.26359 to 0.82395, saving model to /content/drive/My Drive/Best models/model_b_1.h5\n",
            "Epoch 7/100\n",
            "2/2 [==============================] - 59s 30s/step - loss: 2.0338 - accuracy: 0.6875 - val_loss: 0.9834 - val_accuracy: 0.8125\n",
            "\n",
            "Epoch 00007: val_loss did not improve from 0.82395\n",
            "Epoch 8/100\n",
            "2/2 [==============================] - 38s 19s/step - loss: 1.8165 - accuracy: 0.7500 - val_loss: 0.5230 - val_accuracy: 0.7500\n",
            "\n",
            "Epoch 00008: val_loss improved from 0.82395 to 0.52297, saving model to /content/drive/My Drive/Best models/model_b_1.h5\n",
            "Epoch 9/100\n",
            "2/2 [==============================] - 58s 29s/step - loss: 1.7241 - accuracy: 0.7188 - val_loss: 2.7010 - val_accuracy: 0.6875\n",
            "\n",
            "Epoch 00009: val_loss did not improve from 0.52297\n",
            "Epoch 10/100\n",
            "2/2 [==============================] - 52s 26s/step - loss: 1.9470 - accuracy: 0.6562 - val_loss: 0.7833 - val_accuracy: 0.8750\n",
            "\n",
            "Epoch 00010: val_loss did not improve from 0.52297\n",
            "Epoch 11/100\n",
            "2/2 [==============================] - 52s 26s/step - loss: 1.0197 - accuracy: 0.7500 - val_loss: 1.1718 - val_accuracy: 0.8125\n",
            "\n",
            "Epoch 00011: val_loss did not improve from 0.52297\n",
            "Epoch 12/100\n",
            "2/2 [==============================] - 37s 19s/step - loss: 0.7559 - accuracy: 0.7812 - val_loss: 0.1527 - val_accuracy: 1.0000\n",
            "\n",
            "Epoch 00012: val_loss improved from 0.52297 to 0.15270, saving model to /content/drive/My Drive/Best models/model_b_1.h5\n",
            "Epoch 13/100\n",
            "2/2 [==============================] - 60s 30s/step - loss: 1.7448 - accuracy: 0.7344 - val_loss: 1.3535 - val_accuracy: 0.8750\n",
            "\n",
            "Epoch 00013: val_loss did not improve from 0.15270\n",
            "Epoch 14/100\n",
            "2/2 [==============================] - 52s 26s/step - loss: 1.3113 - accuracy: 0.7812 - val_loss: 0.9643 - val_accuracy: 0.8125\n",
            "\n",
            "Epoch 00014: val_loss did not improve from 0.15270\n",
            "Epoch 15/100\n",
            "2/2 [==============================] - 52s 26s/step - loss: 1.4103 - accuracy: 0.7188 - val_loss: 1.1633 - val_accuracy: 0.8125\n",
            "\n",
            "Epoch 00015: val_loss did not improve from 0.15270\n",
            "Epoch 16/100\n",
            "2/2 [==============================] - 38s 19s/step - loss: 1.0941 - accuracy: 0.7812 - val_loss: 0.4454 - val_accuracy: 0.7500\n",
            "\n",
            "Epoch 00016: val_loss did not improve from 0.15270\n",
            "Epoch 17/100\n",
            "2/2 [==============================] - 51s 26s/step - loss: 1.4415 - accuracy: 0.7812 - val_loss: 1.5361 - val_accuracy: 0.7812\n",
            "\n",
            "Epoch 00017: val_loss did not improve from 0.15270\n",
            "Epoch 18/100\n",
            "2/2 [==============================] - 52s 26s/step - loss: 1.1003 - accuracy: 0.8594 - val_loss: 1.1431 - val_accuracy: 0.7500\n",
            "\n",
            "Epoch 00018: val_loss did not improve from 0.15270\n",
            "Epoch 19/100\n",
            "2/2 [==============================] - 52s 26s/step - loss: 0.8920 - accuracy: 0.7031 - val_loss: 1.2590 - val_accuracy: 0.7188\n",
            "\n",
            "Epoch 00019: val_loss did not improve from 0.15270\n",
            "Epoch 20/100\n",
            "2/2 [==============================] - 38s 19s/step - loss: 0.5728 - accuracy: 0.8438 - val_loss: 0.2858 - val_accuracy: 1.0000\n",
            "\n",
            "Epoch 00020: val_loss did not improve from 0.15270\n",
            "Epoch 21/100\n",
            "2/2 [==============================] - 51s 26s/step - loss: 0.8298 - accuracy: 0.8750 - val_loss: 0.8590 - val_accuracy: 0.8125\n",
            "\n",
            "Epoch 00021: val_loss did not improve from 0.15270\n",
            "Epoch 22/100\n",
            "2/2 [==============================] - 51s 26s/step - loss: 1.1625 - accuracy: 0.8281 - val_loss: 1.0504 - val_accuracy: 0.7812\n",
            "\n",
            "Epoch 00022: val_loss did not improve from 0.15270\n",
            "Epoch 23/100\n",
            "2/2 [==============================] - 51s 25s/step - loss: 0.8185 - accuracy: 0.8125 - val_loss: 1.2521 - val_accuracy: 0.6875\n",
            "\n",
            "Epoch 00023: val_loss did not improve from 0.15270\n",
            "Epoch 24/100\n",
            "2/2 [==============================] - 37s 19s/step - loss: 1.7241 - accuracy: 0.7344 - val_loss: 3.8480 - val_accuracy: 0.5000\n",
            "\n",
            "Epoch 00024: val_loss did not improve from 0.15270\n",
            "Epoch 25/100\n",
            "2/2 [==============================] - 52s 26s/step - loss: 1.4317 - accuracy: 0.7500 - val_loss: 1.6235 - val_accuracy: 0.7812\n",
            "\n",
            "Epoch 00025: val_loss did not improve from 0.15270\n",
            "Epoch 26/100\n",
            "2/2 [==============================] - 52s 26s/step - loss: 1.3571 - accuracy: 0.8125 - val_loss: 1.3776 - val_accuracy: 0.8750\n",
            "\n",
            "Epoch 00026: val_loss did not improve from 0.15270\n",
            "Epoch 27/100\n",
            "2/2 [==============================] - 52s 26s/step - loss: 1.5299 - accuracy: 0.7500 - val_loss: 1.2461 - val_accuracy: 0.6875\n",
            "\n",
            "Epoch 00027: val_loss did not improve from 0.15270\n",
            "Epoch 28/100\n",
            "2/2 [==============================] - 38s 19s/step - loss: 0.9348 - accuracy: 0.8438 - val_loss: 0.0101 - val_accuracy: 1.0000\n",
            "\n",
            "Epoch 00028: val_loss improved from 0.15270 to 0.01012, saving model to /content/drive/My Drive/Best models/model_b_1.h5\n",
            "Epoch 29/100\n",
            "2/2 [==============================] - 61s 30s/step - loss: 0.7315 - accuracy: 0.8125 - val_loss: 2.2769 - val_accuracy: 0.7188\n",
            "\n",
            "Epoch 00029: val_loss did not improve from 0.01012\n",
            "Epoch 30/100\n",
            "2/2 [==============================] - 52s 26s/step - loss: 1.1466 - accuracy: 0.8438 - val_loss: 2.1402 - val_accuracy: 0.7500\n",
            "\n",
            "Epoch 00030: val_loss did not improve from 0.01012\n",
            "Epoch 31/100\n",
            "2/2 [==============================] - 52s 26s/step - loss: 0.2777 - accuracy: 0.8906 - val_loss: 0.3838 - val_accuracy: 0.8125\n",
            "\n",
            "Epoch 00031: val_loss did not improve from 0.01012\n",
            "Epoch 32/100\n",
            "2/2 [==============================] - 38s 19s/step - loss: 0.8861 - accuracy: 0.8594 - val_loss: 6.2043e-04 - val_accuracy: 1.0000\n",
            "\n",
            "Epoch 00032: val_loss improved from 0.01012 to 0.00062, saving model to /content/drive/My Drive/Best models/model_b_1.h5\n",
            "Epoch 33/100\n",
            "2/2 [==============================] - 59s 29s/step - loss: 1.0034 - accuracy: 0.8750 - val_loss: 1.2354 - val_accuracy: 0.7812\n",
            "\n",
            "Epoch 00033: val_loss did not improve from 0.00062\n",
            "Epoch 34/100\n",
            "2/2 [==============================] - 52s 26s/step - loss: 0.5733 - accuracy: 0.8281 - val_loss: 1.1812 - val_accuracy: 0.7500\n",
            "\n",
            "Epoch 00034: val_loss did not improve from 0.00062\n",
            "Epoch 35/100\n",
            "2/2 [==============================] - 52s 26s/step - loss: 0.6923 - accuracy: 0.8906 - val_loss: 0.6825 - val_accuracy: 0.7500\n",
            "\n",
            "Epoch 00035: val_loss did not improve from 0.00062\n",
            "Epoch 36/100\n",
            "2/2 [==============================] - 38s 19s/step - loss: 1.4616 - accuracy: 0.8281 - val_loss: 0.2644 - val_accuracy: 0.7500\n",
            "\n",
            "Epoch 00036: val_loss did not improve from 0.00062\n",
            "Epoch 37/100\n",
            "2/2 [==============================] - 51s 26s/step - loss: 1.5300 - accuracy: 0.7656 - val_loss: 0.5730 - val_accuracy: 0.8750\n",
            "\n",
            "Epoch 00037: val_loss did not improve from 0.00062\n",
            "Epoch 38/100\n",
            "2/2 [==============================] - 52s 26s/step - loss: 0.4262 - accuracy: 0.9062 - val_loss: 0.9858 - val_accuracy: 0.8125\n",
            "\n",
            "Epoch 00038: val_loss did not improve from 0.00062\n",
            "Epoch 39/100\n",
            "2/2 [==============================] - 52s 26s/step - loss: 0.1685 - accuracy: 0.9219 - val_loss: 1.1858 - val_accuracy: 0.8438\n",
            "\n",
            "Epoch 00039: val_loss did not improve from 0.00062\n",
            "Epoch 40/100\n",
            "2/2 [==============================] - 38s 19s/step - loss: 1.1057 - accuracy: 0.8594 - val_loss: 3.9337 - val_accuracy: 0.5000\n",
            "\n",
            "Epoch 00040: val_loss did not improve from 0.00062\n",
            "Epoch 41/100\n",
            "2/2 [==============================] - 52s 26s/step - loss: 0.8887 - accuracy: 0.8281 - val_loss: 1.2810 - val_accuracy: 0.7188\n",
            "\n",
            "Epoch 00041: val_loss did not improve from 0.00062\n",
            "Epoch 42/100\n",
            "2/2 [==============================] - 52s 26s/step - loss: 0.3159 - accuracy: 0.9375 - val_loss: 1.3210 - val_accuracy: 0.6562\n",
            "\n",
            "Epoch 00042: val_loss did not improve from 0.00062\n",
            "Epoch 43/100\n",
            "2/2 [==============================] - 52s 26s/step - loss: 0.3869 - accuracy: 0.8906 - val_loss: 0.7535 - val_accuracy: 0.8438\n",
            "\n",
            "Epoch 00043: val_loss did not improve from 0.00062\n",
            "Epoch 44/100\n",
            "2/2 [==============================] - 37s 19s/step - loss: 1.0816 - accuracy: 0.7969 - val_loss: 0.0102 - val_accuracy: 1.0000\n",
            "\n",
            "Epoch 00044: val_loss did not improve from 0.00062\n",
            "Epoch 45/100\n",
            "2/2 [==============================] - 51s 26s/step - loss: 0.6686 - accuracy: 0.8750 - val_loss: 1.6322 - val_accuracy: 0.7500\n",
            "\n",
            "Epoch 00045: val_loss did not improve from 0.00062\n",
            "Epoch 46/100\n",
            "2/2 [==============================] - 51s 26s/step - loss: 1.1600 - accuracy: 0.8125 - val_loss: 0.6147 - val_accuracy: 0.8438\n",
            "\n",
            "Epoch 00046: val_loss did not improve from 0.00062\n",
            "Epoch 47/100\n",
            "2/2 [==============================] - 51s 26s/step - loss: 0.5671 - accuracy: 0.8594 - val_loss: 0.9300 - val_accuracy: 0.8750\n",
            "\n",
            "Epoch 00047: val_loss did not improve from 0.00062\n",
            "Epoch 48/100\n",
            "2/2 [==============================] - 37s 19s/step - loss: 0.8003 - accuracy: 0.8438 - val_loss: 0.9152 - val_accuracy: 0.7500\n",
            "\n",
            "Epoch 00048: val_loss did not improve from 0.00062\n",
            "Epoch 49/100\n",
            "2/2 [==============================] - 52s 26s/step - loss: 0.8609 - accuracy: 0.9062 - val_loss: 1.4592 - val_accuracy: 0.7188\n",
            "\n",
            "Epoch 00049: val_loss did not improve from 0.00062\n",
            "Epoch 50/100\n",
            "2/2 [==============================] - 52s 26s/step - loss: 0.4760 - accuracy: 0.8594 - val_loss: 2.5151 - val_accuracy: 0.7188\n",
            "\n",
            "Epoch 00050: val_loss did not improve from 0.00062\n",
            "Epoch 51/100\n",
            "2/2 [==============================] - 52s 26s/step - loss: 0.2195 - accuracy: 0.9219 - val_loss: 0.9618 - val_accuracy: 0.8750\n",
            "\n",
            "Epoch 00051: val_loss did not improve from 0.00062\n",
            "Epoch 52/100\n",
            "2/2 [==============================] - 38s 19s/step - loss: 0.5641 - accuracy: 0.8906 - val_loss: 0.0945 - val_accuracy: 1.0000\n",
            "\n",
            "Epoch 00052: val_loss did not improve from 0.00062\n",
            "Epoch 53/100\n",
            "2/2 [==============================] - 53s 27s/step - loss: 0.3916 - accuracy: 0.9062 - val_loss: 0.7761 - val_accuracy: 0.8438\n",
            "\n",
            "Epoch 00053: val_loss did not improve from 0.00062\n",
            "Epoch 54/100\n",
            "2/2 [==============================] - 51s 26s/step - loss: 0.5958 - accuracy: 0.9062 - val_loss: 0.6973 - val_accuracy: 0.7812\n",
            "\n",
            "Epoch 00054: val_loss did not improve from 0.00062\n",
            "Epoch 55/100\n",
            "2/2 [==============================] - 52s 26s/step - loss: 0.2067 - accuracy: 0.9531 - val_loss: 1.8684 - val_accuracy: 0.6250\n",
            "\n",
            "Epoch 00055: val_loss did not improve from 0.00062\n",
            "Epoch 56/100\n",
            "2/2 [==============================] - 38s 19s/step - loss: 0.6828 - accuracy: 0.8594 - val_loss: 0.0465 - val_accuracy: 1.0000\n",
            "\n",
            "Epoch 00056: val_loss did not improve from 0.00062\n",
            "Epoch 57/100\n",
            "2/2 [==============================] - 52s 26s/step - loss: 0.5842 - accuracy: 0.8438 - val_loss: 0.5805 - val_accuracy: 0.7812\n",
            "\n",
            "Epoch 00057: val_loss did not improve from 0.00062\n",
            "Epoch 58/100\n",
            "2/2 [==============================] - 52s 26s/step - loss: 0.4301 - accuracy: 0.8750 - val_loss: 1.2629 - val_accuracy: 0.8438\n",
            "\n",
            "Epoch 00058: val_loss did not improve from 0.00062\n",
            "Epoch 59/100\n",
            "2/2 [==============================] - 51s 26s/step - loss: 0.3722 - accuracy: 0.9062 - val_loss: 1.8860 - val_accuracy: 0.7188\n",
            "\n",
            "Epoch 00059: val_loss did not improve from 0.00062\n",
            "Epoch 60/100\n",
            "2/2 [==============================] - 37s 19s/step - loss: 0.7606 - accuracy: 0.8750 - val_loss: 1.7083 - val_accuracy: 0.7500\n",
            "\n",
            "Epoch 00060: val_loss did not improve from 0.00062\n",
            "Epoch 61/100\n",
            "2/2 [==============================] - 51s 26s/step - loss: 0.1484 - accuracy: 0.9688 - val_loss: 1.4635 - val_accuracy: 0.7500\n",
            "\n",
            "Epoch 00061: val_loss did not improve from 0.00062\n",
            "Epoch 62/100\n",
            "2/2 [==============================] - 51s 26s/step - loss: 0.2691 - accuracy: 0.9531 - val_loss: 1.0791 - val_accuracy: 0.8438\n",
            "\n",
            "Epoch 00062: val_loss did not improve from 0.00062\n",
            "Epoch 63/100\n",
            "2/2 [==============================] - 52s 26s/step - loss: 0.1314 - accuracy: 0.9375 - val_loss: 0.5924 - val_accuracy: 0.8750\n",
            "\n",
            "Epoch 00063: val_loss did not improve from 0.00062\n",
            "Epoch 64/100\n",
            "2/2 [==============================] - 38s 19s/step - loss: 0.4528 - accuracy: 0.8906 - val_loss: 2.1557 - val_accuracy: 0.7500\n",
            "\n",
            "Epoch 00064: val_loss did not improve from 0.00062\n",
            "Epoch 65/100\n",
            "2/2 [==============================] - 52s 26s/step - loss: 0.2376 - accuracy: 0.9531 - val_loss: 1.8249 - val_accuracy: 0.7188\n",
            "\n",
            "Epoch 00065: val_loss did not improve from 0.00062\n",
            "Epoch 66/100\n",
            "2/2 [==============================] - 52s 26s/step - loss: 0.2315 - accuracy: 0.9531 - val_loss: 0.3484 - val_accuracy: 0.9062\n",
            "\n",
            "Epoch 00066: val_loss did not improve from 0.00062\n",
            "Epoch 67/100\n",
            "2/2 [==============================] - 52s 26s/step - loss: 0.2411 - accuracy: 0.9375 - val_loss: 1.1316 - val_accuracy: 0.7500\n",
            "\n",
            "Epoch 00067: val_loss did not improve from 0.00062\n",
            "Epoch 68/100\n",
            "2/2 [==============================] - 38s 19s/step - loss: 0.2661 - accuracy: 0.9531 - val_loss: 4.3195 - val_accuracy: 0.7500\n",
            "\n",
            "Epoch 00068: val_loss did not improve from 0.00062\n",
            "Epoch 69/100\n",
            "2/2 [==============================] - 52s 26s/step - loss: 0.3408 - accuracy: 0.8906 - val_loss: 0.4874 - val_accuracy: 0.8438\n",
            "\n",
            "Epoch 00069: val_loss did not improve from 0.00062\n",
            "Epoch 70/100\n",
            "2/2 [==============================] - 52s 26s/step - loss: 0.2737 - accuracy: 0.9219 - val_loss: 0.8437 - val_accuracy: 0.8125\n",
            "\n",
            "Epoch 00070: val_loss did not improve from 0.00062\n",
            "Epoch 71/100\n",
            "2/2 [==============================] - 51s 26s/step - loss: 0.3833 - accuracy: 0.9219 - val_loss: 1.4142 - val_accuracy: 0.7188\n",
            "\n",
            "Epoch 00071: val_loss did not improve from 0.00062\n",
            "Epoch 72/100\n",
            "2/2 [==============================] - 38s 19s/step - loss: 0.7631 - accuracy: 0.8750 - val_loss: 1.3411e-06 - val_accuracy: 1.0000\n",
            "\n",
            "Epoch 00072: val_loss improved from 0.00062 to 0.00000, saving model to /content/drive/My Drive/Best models/model_b_1.h5\n",
            "Epoch 73/100\n",
            "2/2 [==============================] - 58s 29s/step - loss: 0.2413 - accuracy: 0.9375 - val_loss: 1.3361 - val_accuracy: 0.7500\n",
            "\n",
            "Epoch 00073: val_loss did not improve from 0.00000\n",
            "Epoch 74/100\n",
            "2/2 [==============================] - 52s 26s/step - loss: 0.2913 - accuracy: 0.9219 - val_loss: 1.8885 - val_accuracy: 0.8125\n",
            "\n",
            "Epoch 00074: val_loss did not improve from 0.00000\n",
            "Epoch 75/100\n",
            "2/2 [==============================] - 52s 26s/step - loss: 0.3386 - accuracy: 0.9062 - val_loss: 0.4523 - val_accuracy: 0.8750\n",
            "\n",
            "Epoch 00075: val_loss did not improve from 0.00000\n",
            "Epoch 76/100\n",
            "2/2 [==============================] - 38s 19s/step - loss: 0.0988 - accuracy: 0.9375 - val_loss: 0.3033 - val_accuracy: 0.7500\n",
            "\n",
            "Epoch 00076: val_loss did not improve from 0.00000\n",
            "Epoch 77/100\n",
            "2/2 [==============================] - 52s 26s/step - loss: 0.2931 - accuracy: 0.9062 - val_loss: 1.8129 - val_accuracy: 0.6562\n",
            "\n",
            "Epoch 00077: val_loss did not improve from 0.00000\n",
            "Epoch 78/100\n",
            "2/2 [==============================] - 52s 26s/step - loss: 0.4734 - accuracy: 0.9375 - val_loss: 0.2237 - val_accuracy: 0.9062\n",
            "\n",
            "Epoch 00078: val_loss did not improve from 0.00000\n",
            "Epoch 79/100\n",
            "2/2 [==============================] - 52s 26s/step - loss: 0.3000 - accuracy: 0.9375 - val_loss: 0.8854 - val_accuracy: 0.8438\n",
            "\n",
            "Epoch 00079: val_loss did not improve from 0.00000\n",
            "Epoch 80/100\n",
            "2/2 [==============================] - 39s 19s/step - loss: 0.4414 - accuracy: 0.9062 - val_loss: 4.2718 - val_accuracy: 0.7500\n",
            "\n",
            "Epoch 00080: val_loss did not improve from 0.00000\n",
            "Epoch 81/100\n",
            "2/2 [==============================] - 51s 26s/step - loss: 2.0734 - accuracy: 0.8125 - val_loss: 1.0751 - val_accuracy: 0.7500\n",
            "\n",
            "Epoch 00081: val_loss did not improve from 0.00000\n",
            "Epoch 82/100\n",
            "2/2 [==============================] - 52s 26s/step - loss: 0.6521 - accuracy: 0.9375 - val_loss: 1.5233 - val_accuracy: 0.6875\n",
            "\n",
            "Epoch 00082: val_loss did not improve from 0.00000\n",
            "Epoch 83/100\n",
            "2/2 [==============================] - 51s 26s/step - loss: 0.5438 - accuracy: 0.8594 - val_loss: 1.7380 - val_accuracy: 0.7812\n",
            "\n",
            "Epoch 00083: val_loss did not improve from 0.00000\n",
            "Epoch 84/100\n",
            "2/2 [==============================] - 38s 19s/step - loss: 0.6508 - accuracy: 0.8594 - val_loss: 6.1465 - val_accuracy: 0.7500\n",
            "\n",
            "Epoch 00084: val_loss did not improve from 0.00000\n",
            "Epoch 85/100\n",
            "2/2 [==============================] - 52s 26s/step - loss: 1.0330 - accuracy: 0.8125 - val_loss: 0.7614 - val_accuracy: 0.8438\n",
            "\n",
            "Epoch 00085: val_loss did not improve from 0.00000\n",
            "Epoch 86/100\n",
            "2/2 [==============================] - 52s 26s/step - loss: 0.4038 - accuracy: 0.8906 - val_loss: 1.5337 - val_accuracy: 0.7188\n",
            "\n",
            "Epoch 00086: val_loss did not improve from 0.00000\n",
            "Epoch 87/100\n",
            "2/2 [==============================] - 54s 27s/step - loss: 0.3893 - accuracy: 0.8906 - val_loss: 1.9853 - val_accuracy: 0.8125\n",
            "\n",
            "Epoch 00087: val_loss did not improve from 0.00000\n",
            "Epoch 88/100\n",
            "2/2 [==============================] - 38s 19s/step - loss: 0.6997 - accuracy: 0.8750 - val_loss: 0.5874 - val_accuracy: 0.7500\n",
            "\n",
            "Epoch 00088: val_loss did not improve from 0.00000\n",
            "Epoch 89/100\n",
            "2/2 [==============================] - 52s 26s/step - loss: 0.1749 - accuracy: 0.9062 - val_loss: 1.6252 - val_accuracy: 0.7812\n",
            "\n",
            "Epoch 00089: val_loss did not improve from 0.00000\n",
            "Epoch 90/100\n",
            "2/2 [==============================] - 53s 26s/step - loss: 0.2588 - accuracy: 0.8906 - val_loss: 0.9160 - val_accuracy: 0.8125\n",
            "\n",
            "Epoch 00090: val_loss did not improve from 0.00000\n",
            "Epoch 91/100\n",
            "2/2 [==============================] - 52s 26s/step - loss: 0.2463 - accuracy: 0.9062 - val_loss: 0.7729 - val_accuracy: 0.8750\n",
            "\n",
            "Epoch 00091: val_loss did not improve from 0.00000\n",
            "Epoch 92/100\n",
            "2/2 [==============================] - 38s 19s/step - loss: 0.0981 - accuracy: 0.9375 - val_loss: 3.5998 - val_accuracy: 0.5000\n",
            "\n",
            "Epoch 00092: val_loss did not improve from 0.00000\n",
            "Epoch 93/100\n",
            "2/2 [==============================] - 52s 26s/step - loss: 0.2654 - accuracy: 0.9375 - val_loss: 0.2342 - val_accuracy: 0.9062\n",
            "\n",
            "Epoch 00093: val_loss did not improve from 0.00000\n",
            "Epoch 94/100\n",
            "2/2 [==============================] - 53s 26s/step - loss: 0.2638 - accuracy: 0.9531 - val_loss: 1.8207 - val_accuracy: 0.7500\n",
            "\n",
            "Epoch 00094: val_loss did not improve from 0.00000\n",
            "Epoch 95/100\n",
            "2/2 [==============================] - 51s 26s/step - loss: 0.1676 - accuracy: 0.9531 - val_loss: 1.1649 - val_accuracy: 0.7500\n",
            "\n",
            "Epoch 00095: val_loss did not improve from 0.00000\n",
            "Epoch 96/100\n",
            "2/2 [==============================] - 37s 19s/step - loss: 0.2682 - accuracy: 0.9219 - val_loss: 2.2352e-06 - val_accuracy: 1.0000\n",
            "\n",
            "Epoch 00096: val_loss did not improve from 0.00000\n",
            "Epoch 97/100\n",
            "2/2 [==============================] - 53s 26s/step - loss: 0.3580 - accuracy: 0.9062 - val_loss: 2.1894 - val_accuracy: 0.7500\n",
            "\n",
            "Epoch 00097: val_loss did not improve from 0.00000\n",
            "Epoch 98/100\n",
            "2/2 [==============================] - 52s 26s/step - loss: 0.3672 - accuracy: 0.9219 - val_loss: 0.6661 - val_accuracy: 0.8125\n",
            "\n",
            "Epoch 00098: val_loss did not improve from 0.00000\n",
            "Epoch 99/100\n",
            "2/2 [==============================] - 52s 26s/step - loss: 0.1818 - accuracy: 0.9844 - val_loss: 0.5412 - val_accuracy: 0.8438\n",
            "\n",
            "Epoch 00099: val_loss did not improve from 0.00000\n",
            "Epoch 100/100\n",
            "2/2 [==============================] - 38s 19s/step - loss: 0.2244 - accuracy: 0.9688 - val_loss: 0.7693 - val_accuracy: 0.7500\n",
            "\n",
            "Epoch 00100: val_loss did not improve from 0.00000\n"
          ],
          "name": "stdout"
        }
      ]
    },
    {
      "cell_type": "code",
      "metadata": {
        "id": "HVTVRSV8ZlQb",
        "colab_type": "code",
        "colab": {
          "base_uri": "https://localhost:8080/",
          "height": 295
        },
        "outputId": "13345f0a-f597-4270-cf39-04035857027e"
      },
      "source": [
        "import matplotlib.pyplot as plt\n",
        "plt.plot(hist.history[\"accuracy\"])\n",
        "plt.plot(hist.history['val_accuracy'])\n",
        "\n",
        "plt.title(\"model accuracy\")\n",
        "plt.ylabel(\"Accuracy\")\n",
        "plt.xlabel(\"Epoch\")\n",
        "plt.legend([\"Accuracy\",\"Validation Accuracy\"])\n",
        "plt.show()"
      ],
      "execution_count": 65,
      "outputs": [
        {
          "output_type": "display_data",
          "data": {
            "image/png": "[encoded data removed]",
            "text/plain": [
              "<Figure size 432x288 with 1 Axes>"
            ]
          },
          "metadata": {
            "tags": [],
            "needs_background": "light"
          }
        }
      ]
    },
    {
      "cell_type": "code",
      "metadata": {
        "id": "S1zKuauZZnZF",
        "colab_type": "code",
        "colab": {
          "base_uri": "https://localhost:8080/",
          "height": 279
        },
        "outputId": "2bd7ee00-a58e-4a4f-fdf4-e6eea1c22cf3"
      },
      "source": [
        "plt.plot(hist.history['loss'])\n",
        "plt.plot(hist.history['val_loss'])\n",
        "plt.ylabel(\"Loss\")\n",
        "plt.xlabel(\"Epoch\")\n",
        "plt.legend([\"loss\",\"Validation Loss\"])\n",
        "plt.show()"
      ],
      "execution_count": 66,
      "outputs": [
        {
          "output_type": "display_data",
          "data": {
            "image/png": "[encoded data removed]",
            "text/plain": [
              "<Figure size 432x288 with 1 Axes>"
            ]
          },
          "metadata": {
            "tags": [],
            "needs_background": "light"
          }
        }
      ]
    },
    {
      "cell_type": "code",
      "metadata": {
        "id": "WwAzAbBdZulp",
        "colab_type": "code",
        "colab": {}
      },
      "source": [
        "from keras.preprocessing.image import ImageDataGenerator\n",
        "from sklearn.metrics import classification_report, confusion_matrix\n",
        "\n",
        "test_datagen = ImageDataGenerator()"
      ],
      "execution_count": 4,
      "outputs": []
    },
    {
      "cell_type": "code",
      "metadata": {
        "id": "GxVOVV3zZyE7",
        "colab_type": "code",
        "colab": {
          "base_uri": "https://localhost:8080/",
          "height": 34
        },
        "outputId": "a7b4b952-1b3a-4eb2-89e6-6b679c1a109e"
      },
      "source": [
        "validation_generator = test_datagen.flow_from_directory('/content/drive/My Drive/data_ouput/test',\n",
        "                                                        target_size=(224, 224))"
      ],
      "execution_count": 5,
      "outputs": [
        {
          "output_type": "stream",
          "text": [
            "Found 100 images belonging to 4 classes.\n"
          ],
          "name": "stdout"
        }
      ]
    },
    {
      "cell_type": "code",
      "metadata": {
        "id": "nCeG5IC_Z6kq",
        "colab_type": "code",
        "colab": {
          "base_uri": "https://localhost:8080/",
          "height": 153
        },
        "outputId": "1f4dccd7-c3c3-465b-915f-0997c9f92b3d"
      },
      "source": [
        "import os\n",
        "import numpy as np\n",
        "\n",
        "data_path='/content/drive/My Drive/data_ouput/test'\n",
        "data_dir_list=os.listdir(data_path)\n",
        "for dataset in data_dir_list:\n",
        "  print(dataset)\n",
        "  img_list=os.listdir(data_path+'/'+dataset)\n",
        "  correctCount=0\n",
        "  wrongCount=0\n",
        "  for img in img_list:\n",
        "    img_path=data_path+'/'+dataset+'/'+img\n",
        "    input_image = image.load_img(img_path,target_size=(224,224))\n",
        "    input_image = np.asarray(input_image)\n",
        "    input_image = np.expand_dims(input_image, axis=0)\n",
        "    output = model_final.predict(input_image)\n",
        "    ans='grade'+str(np.argmax(output[0],axis=0))\n",
        "    if( ans in img):\n",
        "      correctCount+=1\n",
        "    else:\n",
        "      wrongCount+=1\n",
        "  print(\"correct Count {} WrongCount {}\".format(correctCount,wrongCount))"
      ],
      "execution_count": 69,
      "outputs": [
        {
          "output_type": "stream",
          "text": [
            "grade1\n",
            "correct Count 16 WrongCount 9\n",
            "grade0\n",
            "correct Count 24 WrongCount 1\n",
            "grade2\n",
            "correct Count 22 WrongCount 3\n",
            "grade3\n",
            "correct Count 23 WrongCount 2\n"
          ],
          "name": "stdout"
        }
      ]
    },
    {
      "cell_type": "code",
      "metadata": {
        "id": "13hBXTUZwD52",
        "colab_type": "code",
        "colab": {
          "base_uri": "https://localhost:8080/",
          "height": 51
        },
        "outputId": "82865f1c-acf4-4afc-ce57-46212bb09b50"
      },
      "source": [
        "tr_loss,tr_acc=model_final.evaluate(validation_generator)\n",
        "tr_acc"
      ],
      "execution_count": 70,
      "outputs": [
        {
          "output_type": "stream",
          "text": [
            "4/4 [==============================] - 51s 13s/step\n"
          ],
          "name": "stdout"
        },
        {
          "output_type": "execute_result",
          "data": {
            "text/plain": [
              "0.8500000238418579"
            ]
          },
          "metadata": {
            "tags": []
          },
          "execution_count": 70
        }
      ]
    },
    {
      "cell_type": "code",
      "metadata": {
        "id": "ntwjv8i0wHmH",
        "colab_type": "code",
        "colab": {
          "base_uri": "https://localhost:8080/",
          "height": 51
        },
        "outputId": "0e4d1a1a-38a9-4c46-872d-074faf96af73"
      },
      "source": [
        "tr_loss,tr_acc=model_final.evaluate(traindata)\n",
        "tr_acc"
      ],
      "execution_count": 71,
      "outputs": [
        {
          "output_type": "stream",
          "text": [
            "25/25 [==============================] - 408s 16s/step\n"
          ],
          "name": "stdout"
        },
        {
          "output_type": "execute_result",
          "data": {
            "text/plain": [
              "0.9825000166893005"
            ]
          },
          "metadata": {
            "tags": []
          },
          "execution_count": 71
        }
      ]
    },
    {
      "cell_type": "code",
      "metadata": {
        "id": "1NOM-AafyXVT",
        "colab_type": "code",
        "colab": {
          "base_uri": "https://localhost:8080/",
          "height": 51
        },
        "outputId": "8be01d86-a282-44a4-9c4e-321490f3577c"
      },
      "source": [
        "tr_loss,tr_acc=model_final.evaluate(testdata)\n",
        "tr_acc"
      ],
      "execution_count": 72,
      "outputs": [
        {
          "output_type": "stream",
          "text": [
            "4/4 [==============================] - 51s 13s/step\n"
          ],
          "name": "stdout"
        },
        {
          "output_type": "execute_result",
          "data": {
            "text/plain": [
              "0.8199999928474426"
            ]
          },
          "metadata": {
            "tags": []
          },
          "execution_count": 72
        }
      ]
    },
    {
      "cell_type": "code",
      "metadata": {
        "id": "mTNWvGsEywGT",
        "colab_type": "code",
        "colab": {}
      },
      "source": [
        "saved_model=keras.models.load_model(\"/content/drive/My Drive/Best models/model_b_1.h5\")"
      ],
      "execution_count": 6,
      "outputs": []
    },
    {
      "cell_type": "code",
      "metadata": {
        "colab_type": "code",
        "id": "bIRR3fnFzXLD",
        "colab": {
          "base_uri": "https://localhost:8080/",
          "height": 51
        },
        "outputId": "5aefd0a9-747b-4672-a0a2-21c657172805"
      },
      "source": [
        "tr_loss,tr_acc=saved_model.evaluate(validation_generator)\n",
        "tr_acc"
      ],
      "execution_count": 7,
      "outputs": [
        {
          "output_type": "stream",
          "text": [
            "4/4 [==============================] - 51s 13s/step\n"
          ],
          "name": "stdout"
        },
        {
          "output_type": "execute_result",
          "data": {
            "text/plain": [
              "0.8799999952316284"
            ]
          },
          "metadata": {
            "tags": []
          },
          "execution_count": 7
        }
      ]
    },
    {
      "cell_type": "code",
      "metadata": {
        "id": "ihCmpaYAzgH4",
        "colab_type": "code",
        "colab": {}
      },
      "source": [
        ""
      ],
      "execution_count": null,
      "outputs": []
    },
    {
      "cell_type": "code",
      "metadata": {
        "colab_type": "code",
        "id": "EmEGMcRkzgyK",
        "colab": {
          "base_uri": "https://localhost:8080/",
          "height": 51
        },
        "outputId": "d6b9756c-a694-4f69-94aa-49497cdf7d05"
      },
      "source": [
        "tr_loss,tr_acc=saved_model.evaluate(testdata)\n",
        "tr_acc"
      ],
      "execution_count": 10,
      "outputs": [
        {
          "output_type": "stream",
          "text": [
            "4/4 [==============================] - 51s 13s/step\n"
          ],
          "name": "stdout"
        },
        {
          "output_type": "execute_result",
          "data": {
            "text/plain": [
              "0.7900000214576721"
            ]
          },
          "metadata": {
            "tags": []
          },
          "execution_count": 10
        }
      ]
    }
  ]
}