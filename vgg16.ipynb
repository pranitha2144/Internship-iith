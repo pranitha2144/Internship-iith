{
  "nbformat": 4,
  "nbformat_minor": 0,
  "metadata": {
    "colab": {
      "name": "vgg16",
      "provenance": [],
      "mount_file_id": "1IhyoGy7EHEgj120Y7aEt15WFbYJP6aXH",
      "authorship_tag": "ABX9TyOsKLuhMf/NuERkm1QC5lR5",
      "include_colab_link": true
    },
    "kernelspec": {
      "name": "python3",
      "display_name": "Python 3"
    }
  },
  "cells": [
    {
      "cell_type": "markdown",
      "metadata": {
        "id": "view-in-github",
        "colab_type": "text"
      },
      "source": [
        "<a href=\"https://colab.research.google.com/github/pranitha2144/Internship-iith/blob/Resnet/vgg16.ipynb\" target=\"_parent\"><img src=\"https://colab.research.google.com/assets/colab-badge.svg\" alt=\"Open In Colab\"/></a>"
      ]
    },
    {
      "cell_type": "code",
      "metadata": {
        "id": "3i-5qcxM7pSC",
        "colab_type": "code",
        "colab": {}
      },
      "source": [
        "import keras\n",
        "from keras.models import Model\n",
        "from keras.layers import Dense,Dropout\n",
        "from keras import optimizers\n",
        "from keras.preprocessing.image import ImageDataGenerator\n",
        "from keras.preprocessing import image"
      ],
      "execution_count": 2,
      "outputs": []
    },
    {
      "cell_type": "code",
      "metadata": {
        "id": "P_NCAugx70fs",
        "colab_type": "code",
        "colab": {
          "base_uri": "https://localhost:8080/",
          "height": 51
        },
        "outputId": "b7f5c2e4-584e-4869-9ae8-fa997d849769"
      },
      "source": [
        "trdata = ImageDataGenerator()\n",
        "traindata = trdata.flow_from_directory(directory=\"/content/drive/My Drive/data_ouput/train\",target_size=(224,224))\n",
        "tsdata = ImageDataGenerator()\n",
        "testdata = tsdata.flow_from_directory(directory=\"/content/drive/My Drive/data_ouput/val\", target_size=(224,224))"
      ],
      "execution_count": 3,
      "outputs": [
        {
          "output_type": "stream",
          "text": [
            "Found 800 images belonging to 4 classes.\n",
            "Found 100 images belonging to 4 classes.\n"
          ],
          "name": "stdout"
        }
      ]
    },
    {
      "cell_type": "code",
      "metadata": {
        "id": "rg_JdtWb8O00",
        "colab_type": "code",
        "colab": {
          "base_uri": "https://localhost:8080/",
          "height": 51
        },
        "outputId": "23523981-b0dd-45d7-e566-d84271bc26c4"
      },
      "source": [
        "from keras.applications.vgg16 import VGG16\n",
        "vggmodel = VGG16(weights='imagenet', include_top=True)"
      ],
      "execution_count": 4,
      "outputs": [
        {
          "output_type": "stream",
          "text": [
            "Downloading data from https://github.com/fchollet/deep-learning-models/releases/download/v0.1/vgg16_weights_tf_dim_ordering_tf_kernels.h5\n",
            "553467904/553467096 [==============================] - 37s 0us/step\n"
          ],
          "name": "stdout"
        }
      ]
    },
    {
      "cell_type": "code",
      "metadata": {
        "id": "PKuEFjHt8TfJ",
        "colab_type": "code",
        "colab": {
          "base_uri": "https://localhost:8080/",
          "height": 935
        },
        "outputId": "ab3fef7c-b19c-4ae0-9170-fd4ba3ac36ca"
      },
      "source": [
        "vggmodel.summary()"
      ],
      "execution_count": 5,
      "outputs": [
        {
          "output_type": "stream",
          "text": [
            "Model: \"vgg16\"\n",
            "_________________________________________________________________\n",
            "Layer (type)                 Output Shape              Param #   \n",
            "=================================================================\n",
            "input_1 (InputLayer)         (None, 224, 224, 3)       0         \n",
            "_________________________________________________________________\n",
            "block1_conv1 (Conv2D)        (None, 224, 224, 64)      1792      \n",
            "_________________________________________________________________\n",
            "block1_conv2 (Conv2D)        (None, 224, 224, 64)      36928     \n",
            "_________________________________________________________________\n",
            "block1_pool (MaxPooling2D)   (None, 112, 112, 64)      0         \n",
            "_________________________________________________________________\n",
            "block2_conv1 (Conv2D)        (None, 112, 112, 128)     73856     \n",
            "_________________________________________________________________\n",
            "block2_conv2 (Conv2D)        (None, 112, 112, 128)     147584    \n",
            "_________________________________________________________________\n",
            "block2_pool (MaxPooling2D)   (None, 56, 56, 128)       0         \n",
            "_________________________________________________________________\n",
            "block3_conv1 (Conv2D)        (None, 56, 56, 256)       295168    \n",
            "_________________________________________________________________\n",
            "block3_conv2 (Conv2D)        (None, 56, 56, 256)       590080    \n",
            "_________________________________________________________________\n",
            "block3_conv3 (Conv2D)        (None, 56, 56, 256)       590080    \n",
            "_________________________________________________________________\n",
            "block3_pool (MaxPooling2D)   (None, 28, 28, 256)       0         \n",
            "_________________________________________________________________\n",
            "block4_conv1 (Conv2D)        (None, 28, 28, 512)       1180160   \n",
            "_________________________________________________________________\n",
            "block4_conv2 (Conv2D)        (None, 28, 28, 512)       2359808   \n",
            "_________________________________________________________________\n",
            "block4_conv3 (Conv2D)        (None, 28, 28, 512)       2359808   \n",
            "_________________________________________________________________\n",
            "block4_pool (MaxPooling2D)   (None, 14, 14, 512)       0         \n",
            "_________________________________________________________________\n",
            "block5_conv1 (Conv2D)        (None, 14, 14, 512)       2359808   \n",
            "_________________________________________________________________\n",
            "block5_conv2 (Conv2D)        (None, 14, 14, 512)       2359808   \n",
            "_________________________________________________________________\n",
            "block5_conv3 (Conv2D)        (None, 14, 14, 512)       2359808   \n",
            "_________________________________________________________________\n",
            "block5_pool (MaxPooling2D)   (None, 7, 7, 512)         0         \n",
            "_________________________________________________________________\n",
            "flatten (Flatten)            (None, 25088)             0         \n",
            "_________________________________________________________________\n",
            "fc1 (Dense)                  (None, 4096)              102764544 \n",
            "_________________________________________________________________\n",
            "fc2 (Dense)                  (None, 4096)              16781312  \n",
            "_________________________________________________________________\n",
            "predictions (Dense)          (None, 1000)              4097000   \n",
            "=================================================================\n",
            "Total params: 138,357,544\n",
            "Trainable params: 138,357,544\n",
            "Non-trainable params: 0\n",
            "_________________________________________________________________\n"
          ],
          "name": "stdout"
        }
      ]
    },
    {
      "cell_type": "code",
      "metadata": {
        "id": "GG60hKI68aWo",
        "colab_type": "code",
        "colab": {
          "base_uri": "https://localhost:8080/",
          "height": 340
        },
        "outputId": "dbdcbb97-9e84-4c51-b378-69d8e1d5460b"
      },
      "source": [
        "for layers in (vggmodel.layers)[:19]:\n",
        "    print(layers)\n",
        "    layers.trainable = False"
      ],
      "execution_count": 6,
      "outputs": [
        {
          "output_type": "stream",
          "text": [
            "<keras.engine.input_layer.InputLayer object at 0x7fea9149f8d0>\n",
            "<keras.layers.convolutional.Conv2D object at 0x7fead401b4a8>\n",
            "<keras.layers.convolutional.Conv2D object at 0x7fead401b128>\n",
            "<keras.layers.pooling.MaxPooling2D object at 0x7fead401b7b8>\n",
            "<keras.layers.convolutional.Conv2D object at 0x7fea91a665c0>\n",
            "<keras.layers.convolutional.Conv2D object at 0x7fea914cfe80>\n",
            "<keras.layers.pooling.MaxPooling2D object at 0x7fea8f4494a8>\n",
            "<keras.layers.convolutional.Conv2D object at 0x7fea8f4492e8>\n",
            "<keras.layers.convolutional.Conv2D object at 0x7fea8f449fd0>\n",
            "<keras.layers.convolutional.Conv2D object at 0x7fea8af2db70>\n",
            "<keras.layers.pooling.MaxPooling2D object at 0x7fea8af325f8>\n",
            "<keras.layers.convolutional.Conv2D object at 0x7fea8af32438>\n",
            "<keras.layers.convolutional.Conv2D object at 0x7fea8af32f28>\n",
            "<keras.layers.convolutional.Conv2D object at 0x7fea8af3acc0>\n",
            "<keras.layers.pooling.MaxPooling2D object at 0x7fea8af40748>\n",
            "<keras.layers.convolutional.Conv2D object at 0x7fea8af40588>\n",
            "<keras.layers.convolutional.Conv2D object at 0x7fea8af469b0>\n",
            "<keras.layers.convolutional.Conv2D object at 0x7fea8af46e48>\n",
            "<keras.layers.pooling.MaxPooling2D object at 0x7fea8f44c908>\n"
          ],
          "name": "stdout"
        }
      ]
    },
    {
      "cell_type": "code",
      "metadata": {
        "id": "59taDHdJ8ikh",
        "colab_type": "code",
        "colab": {
          "base_uri": "https://localhost:8080/",
          "height": 71
        },
        "outputId": "85e07287-317b-4cf0-84ee-05cacf4d565f"
      },
      "source": [
        "X= vggmodel.layers[-2].output\n",
        "fc_1=Dense(64,activation='relu')(X)\n",
        "fc_2=Dense(128,activation='relu')(fc_1)\n",
        "predictions = Dense(4, activation=\"softmax\")(fc_2)\n",
        "model_final = Model(input = vggmodel.input, output = predictions)\n"
      ],
      "execution_count": 8,
      "outputs": [
        {
          "output_type": "stream",
          "text": [
            "/usr/local/lib/python3.6/dist-packages/ipykernel_launcher.py:5: UserWarning: Update your `Model` call to the Keras 2 API: `Model(inputs=Tensor(\"in..., outputs=Tensor(\"de...)`\n",
            "  \"\"\"\n"
          ],
          "name": "stderr"
        }
      ]
    },
    {
      "cell_type": "code",
      "metadata": {
        "id": "vFYbGbdq8vg8",
        "colab_type": "code",
        "colab": {}
      },
      "source": [
        "model_final.compile(loss = \"categorical_crossentropy\", optimizer = optimizers.Adam(lr=0.0001), metrics=[\"accuracy\"])"
      ],
      "execution_count": 9,
      "outputs": []
    },
    {
      "cell_type": "code",
      "metadata": {
        "id": "i6yUCcd08xum",
        "colab_type": "code",
        "colab": {
          "base_uri": "https://localhost:8080/",
          "height": 1000
        },
        "outputId": "4743b3f7-d47e-4233-9158-f108b38b9657"
      },
      "source": [
        "model_final.summary()"
      ],
      "execution_count": 10,
      "outputs": [
        {
          "output_type": "stream",
          "text": [
            "Model: \"model_1\"\n",
            "_________________________________________________________________\n",
            "Layer (type)                 Output Shape              Param #   \n",
            "=================================================================\n",
            "input_1 (InputLayer)         (None, 224, 224, 3)       0         \n",
            "_________________________________________________________________\n",
            "block1_conv1 (Conv2D)        (None, 224, 224, 64)      1792      \n",
            "_________________________________________________________________\n",
            "block1_conv2 (Conv2D)        (None, 224, 224, 64)      36928     \n",
            "_________________________________________________________________\n",
            "block1_pool (MaxPooling2D)   (None, 112, 112, 64)      0         \n",
            "_________________________________________________________________\n",
            "block2_conv1 (Conv2D)        (None, 112, 112, 128)     73856     \n",
            "_________________________________________________________________\n",
            "block2_conv2 (Conv2D)        (None, 112, 112, 128)     147584    \n",
            "_________________________________________________________________\n",
            "block2_pool (MaxPooling2D)   (None, 56, 56, 128)       0         \n",
            "_________________________________________________________________\n",
            "block3_conv1 (Conv2D)        (None, 56, 56, 256)       295168    \n",
            "_________________________________________________________________\n",
            "block3_conv2 (Conv2D)        (None, 56, 56, 256)       590080    \n",
            "_________________________________________________________________\n",
            "block3_conv3 (Conv2D)        (None, 56, 56, 256)       590080    \n",
            "_________________________________________________________________\n",
            "block3_pool (MaxPooling2D)   (None, 28, 28, 256)       0         \n",
            "_________________________________________________________________\n",
            "block4_conv1 (Conv2D)        (None, 28, 28, 512)       1180160   \n",
            "_________________________________________________________________\n",
            "block4_conv2 (Conv2D)        (None, 28, 28, 512)       2359808   \n",
            "_________________________________________________________________\n",
            "block4_conv3 (Conv2D)        (None, 28, 28, 512)       2359808   \n",
            "_________________________________________________________________\n",
            "block4_pool (MaxPooling2D)   (None, 14, 14, 512)       0         \n",
            "_________________________________________________________________\n",
            "block5_conv1 (Conv2D)        (None, 14, 14, 512)       2359808   \n",
            "_________________________________________________________________\n",
            "block5_conv2 (Conv2D)        (None, 14, 14, 512)       2359808   \n",
            "_________________________________________________________________\n",
            "block5_conv3 (Conv2D)        (None, 14, 14, 512)       2359808   \n",
            "_________________________________________________________________\n",
            "block5_pool (MaxPooling2D)   (None, 7, 7, 512)         0         \n",
            "_________________________________________________________________\n",
            "flatten (Flatten)            (None, 25088)             0         \n",
            "_________________________________________________________________\n",
            "fc1 (Dense)                  (None, 4096)              102764544 \n",
            "_________________________________________________________________\n",
            "fc2 (Dense)                  (None, 4096)              16781312  \n",
            "_________________________________________________________________\n",
            "dense_2 (Dense)              (None, 64)                262208    \n",
            "_________________________________________________________________\n",
            "dense_3 (Dense)              (None, 128)               8320      \n",
            "_________________________________________________________________\n",
            "dense_4 (Dense)              (None, 4)                 516       \n",
            "=================================================================\n",
            "Total params: 134,531,588\n",
            "Trainable params: 119,816,900\n",
            "Non-trainable params: 14,714,688\n",
            "_________________________________________________________________\n"
          ],
          "name": "stdout"
        }
      ]
    },
    {
      "cell_type": "code",
      "metadata": {
        "id": "UIV1Rie889QA",
        "colab_type": "code",
        "colab": {
          "base_uri": "https://localhost:8080/",
          "height": 1000
        },
        "outputId": "d9efe125-a12a-4bd5-b018-0c12c369f631"
      },
      "source": [
        "from keras.callbacks import ModelCheckpoint, EarlyStopping\n",
        "checkpoint = ModelCheckpoint(\"vgg16_1.h5\", monitor='val_accuracy', verbose=1, save_best_only=True, save_weights_only=False, mode='auto', period=1)\n",
        "early = EarlyStopping(monitor='val_acc', min_delta=0, patience=40, verbose=1, mode='auto')\n",
        "hist=model_final.fit(traindata, steps_per_epoch= 2, epochs= 100, validation_data= testdata, validation_steps=1, callbacks=[checkpoint,early])\n",
        "model_final.save_weights(\"vgg16_1.h5\")"
      ],
      "execution_count": 11,
      "outputs": [
        {
          "output_type": "stream",
          "text": [
            "Epoch 1/100\n",
            "2/2 [==============================] - 83s 41s/step - loss: 1.4122 - accuracy: 0.2188 - val_loss: 0.6886 - val_accuracy: 0.8438\n",
            "\n",
            "Epoch 00001: val_accuracy improved from -inf to 0.84375, saving model to vgg16_1.h5\n"
          ],
          "name": "stdout"
        },
        {
          "output_type": "stream",
          "text": [
            "/usr/local/lib/python3.6/dist-packages/keras/callbacks/callbacks.py:846: RuntimeWarning: Early stopping conditioned on metric `val_acc` which is not available. Available metrics are: val_loss,val_accuracy,loss,accuracy\n",
            "  (self.monitor, ','.join(list(logs.keys()))), RuntimeWarning\n"
          ],
          "name": "stderr"
        },
        {
          "output_type": "stream",
          "text": [
            "Epoch 2/100\n",
            "2/2 [==============================] - 46s 23s/step - loss: 0.8185 - accuracy: 0.7031 - val_loss: 0.5936 - val_accuracy: 0.7812\n",
            "\n",
            "Epoch 00002: val_accuracy did not improve from 0.84375\n",
            "Epoch 3/100\n",
            "2/2 [==============================] - 53s 26s/step - loss: 0.6200 - accuracy: 0.7500 - val_loss: 0.6948 - val_accuracy: 0.7188\n",
            "\n",
            "Epoch 00003: val_accuracy did not improve from 0.84375\n",
            "Epoch 4/100\n",
            "2/2 [==============================] - 39s 20s/step - loss: 0.4607 - accuracy: 0.8281 - val_loss: 0.8922 - val_accuracy: 0.7500\n",
            "\n",
            "Epoch 00004: val_accuracy did not improve from 0.84375\n",
            "Epoch 5/100\n",
            "2/2 [==============================] - 62s 31s/step - loss: 0.6981 - accuracy: 0.7656 - val_loss: 0.6097 - val_accuracy: 0.7188\n",
            "\n",
            "Epoch 00005: val_accuracy did not improve from 0.84375\n",
            "Epoch 6/100\n",
            "2/2 [==============================] - 49s 24s/step - loss: 0.5701 - accuracy: 0.7500 - val_loss: 0.6011 - val_accuracy: 0.7812\n",
            "\n",
            "Epoch 00006: val_accuracy did not improve from 0.84375\n",
            "Epoch 7/100\n",
            "2/2 [==============================] - 49s 24s/step - loss: 0.3777 - accuracy: 0.8438 - val_loss: 0.3725 - val_accuracy: 0.8438\n",
            "\n",
            "Epoch 00007: val_accuracy did not improve from 0.84375\n",
            "Epoch 8/100\n",
            "2/2 [==============================] - 36s 18s/step - loss: 0.4407 - accuracy: 0.8281 - val_loss: 0.0216 - val_accuracy: 1.0000\n",
            "\n",
            "Epoch 00008: val_accuracy improved from 0.84375 to 1.00000, saving model to vgg16_1.h5\n",
            "Epoch 9/100\n",
            "2/2 [==============================] - 61s 30s/step - loss: 0.5884 - accuracy: 0.8438 - val_loss: 0.3494 - val_accuracy: 0.8750\n",
            "\n",
            "Epoch 00009: val_accuracy did not improve from 1.00000\n",
            "Epoch 10/100\n",
            "2/2 [==============================] - 48s 24s/step - loss: 0.3608 - accuracy: 0.8906 - val_loss: 0.5089 - val_accuracy: 0.8438\n",
            "\n",
            "Epoch 00010: val_accuracy did not improve from 1.00000\n",
            "Epoch 11/100\n",
            "2/2 [==============================] - 48s 24s/step - loss: 0.4991 - accuracy: 0.8281 - val_loss: 0.5188 - val_accuracy: 0.8125\n",
            "\n",
            "Epoch 00011: val_accuracy did not improve from 1.00000\n",
            "Epoch 12/100\n",
            "2/2 [==============================] - 39s 20s/step - loss: 0.2613 - accuracy: 0.9219 - val_loss: 1.2614 - val_accuracy: 0.5000\n",
            "\n",
            "Epoch 00012: val_accuracy did not improve from 1.00000\n",
            "Epoch 13/100\n",
            "2/2 [==============================] - 54s 27s/step - loss: 0.4470 - accuracy: 0.8438 - val_loss: 0.7347 - val_accuracy: 0.6875\n",
            "\n",
            "Epoch 00013: val_accuracy did not improve from 1.00000\n",
            "Epoch 14/100\n",
            "2/2 [==============================] - 45s 23s/step - loss: 0.3314 - accuracy: 0.9375 - val_loss: 0.6180 - val_accuracy: 0.6875\n",
            "\n",
            "Epoch 00014: val_accuracy did not improve from 1.00000\n",
            "Epoch 15/100\n",
            "2/2 [==============================] - 45s 23s/step - loss: 0.2566 - accuracy: 0.8906 - val_loss: 0.3414 - val_accuracy: 0.8438\n",
            "\n",
            "Epoch 00015: val_accuracy did not improve from 1.00000\n",
            "Epoch 16/100\n",
            "2/2 [==============================] - 33s 16s/step - loss: 0.2258 - accuracy: 0.9219 - val_loss: 0.4310 - val_accuracy: 0.7500\n",
            "\n",
            "Epoch 00016: val_accuracy did not improve from 1.00000\n",
            "Epoch 17/100\n",
            "2/2 [==============================] - 45s 23s/step - loss: 0.1604 - accuracy: 0.9375 - val_loss: 0.6271 - val_accuracy: 0.7188\n",
            "\n",
            "Epoch 00017: val_accuracy did not improve from 1.00000\n",
            "Epoch 18/100\n",
            "2/2 [==============================] - 45s 23s/step - loss: 0.3853 - accuracy: 0.8281 - val_loss: 0.4941 - val_accuracy: 0.8438\n",
            "\n",
            "Epoch 00018: val_accuracy did not improve from 1.00000\n",
            "Epoch 19/100\n",
            "2/2 [==============================] - 45s 23s/step - loss: 0.4966 - accuracy: 0.7500 - val_loss: 0.2844 - val_accuracy: 0.9062\n",
            "\n",
            "Epoch 00019: val_accuracy did not improve from 1.00000\n",
            "Epoch 20/100\n",
            "2/2 [==============================] - 33s 16s/step - loss: 0.1811 - accuracy: 0.9219 - val_loss: 0.2761 - val_accuracy: 1.0000\n",
            "\n",
            "Epoch 00020: val_accuracy did not improve from 1.00000\n",
            "Epoch 21/100\n",
            "2/2 [==============================] - 45s 23s/step - loss: 0.1360 - accuracy: 0.9531 - val_loss: 0.4999 - val_accuracy: 0.8125\n",
            "\n",
            "Epoch 00021: val_accuracy did not improve from 1.00000\n",
            "Epoch 22/100\n",
            "2/2 [==============================] - 45s 23s/step - loss: 0.2696 - accuracy: 0.8906 - val_loss: 0.5304 - val_accuracy: 0.7812\n",
            "\n",
            "Epoch 00022: val_accuracy did not improve from 1.00000\n",
            "Epoch 23/100\n",
            "2/2 [==============================] - 45s 22s/step - loss: 0.3547 - accuracy: 0.8906 - val_loss: 0.4296 - val_accuracy: 0.9062\n",
            "\n",
            "Epoch 00023: val_accuracy did not improve from 1.00000\n",
            "Epoch 24/100\n",
            "2/2 [==============================] - 33s 16s/step - loss: 0.1586 - accuracy: 0.9219 - val_loss: 0.2213 - val_accuracy: 0.7500\n",
            "\n",
            "Epoch 00024: val_accuracy did not improve from 1.00000\n",
            "Epoch 25/100\n",
            "2/2 [==============================] - 45s 23s/step - loss: 0.2300 - accuracy: 0.9219 - val_loss: 0.4654 - val_accuracy: 0.7812\n",
            "\n",
            "Epoch 00025: val_accuracy did not improve from 1.00000\n",
            "Epoch 26/100\n",
            "2/2 [==============================] - 45s 22s/step - loss: 0.1242 - accuracy: 0.9531 - val_loss: 0.3915 - val_accuracy: 0.8750\n",
            "\n",
            "Epoch 00026: val_accuracy did not improve from 1.00000\n",
            "Epoch 27/100\n",
            "2/2 [==============================] - 45s 23s/step - loss: 0.2067 - accuracy: 0.9375 - val_loss: 0.3406 - val_accuracy: 0.8125\n",
            "\n",
            "Epoch 00027: val_accuracy did not improve from 1.00000\n",
            "Epoch 28/100\n",
            "2/2 [==============================] - 33s 17s/step - loss: 0.2521 - accuracy: 0.8906 - val_loss: 1.1154 - val_accuracy: 0.7500\n",
            "\n",
            "Epoch 00028: val_accuracy did not improve from 1.00000\n",
            "Epoch 29/100\n",
            "2/2 [==============================] - 45s 23s/step - loss: 0.0553 - accuracy: 1.0000 - val_loss: 0.2858 - val_accuracy: 0.9062\n",
            "\n",
            "Epoch 00029: val_accuracy did not improve from 1.00000\n",
            "Epoch 30/100\n",
            "2/2 [==============================] - 45s 22s/step - loss: 0.2098 - accuracy: 0.9219 - val_loss: 0.4439 - val_accuracy: 0.7812\n",
            "\n",
            "Epoch 00030: val_accuracy did not improve from 1.00000\n",
            "Epoch 31/100\n",
            "2/2 [==============================] - 45s 22s/step - loss: 0.2015 - accuracy: 0.9375 - val_loss: 0.6461 - val_accuracy: 0.7500\n",
            "\n",
            "Epoch 00031: val_accuracy did not improve from 1.00000\n",
            "Epoch 32/100\n",
            "2/2 [==============================] - 33s 16s/step - loss: 0.1030 - accuracy: 0.9688 - val_loss: 0.2006 - val_accuracy: 1.0000\n",
            "\n",
            "Epoch 00032: val_accuracy did not improve from 1.00000\n",
            "Epoch 33/100\n",
            "2/2 [==============================] - 45s 23s/step - loss: 0.0871 - accuracy: 0.9844 - val_loss: 0.3367 - val_accuracy: 0.7812\n",
            "\n",
            "Epoch 00033: val_accuracy did not improve from 1.00000\n",
            "Epoch 34/100\n",
            "2/2 [==============================] - 45s 22s/step - loss: 0.0659 - accuracy: 0.9844 - val_loss: 0.1374 - val_accuracy: 0.9375\n",
            "\n",
            "Epoch 00034: val_accuracy did not improve from 1.00000\n",
            "Epoch 35/100\n",
            "2/2 [==============================] - 45s 22s/step - loss: 0.1246 - accuracy: 0.9375 - val_loss: 0.6608 - val_accuracy: 0.6875\n",
            "\n",
            "Epoch 00035: val_accuracy did not improve from 1.00000\n",
            "Epoch 36/100\n",
            "2/2 [==============================] - 33s 16s/step - loss: 0.1075 - accuracy: 0.9531 - val_loss: 0.0084 - val_accuracy: 1.0000\n",
            "\n",
            "Epoch 00036: val_accuracy did not improve from 1.00000\n",
            "Epoch 37/100\n",
            "2/2 [==============================] - 45s 22s/step - loss: 0.0534 - accuracy: 1.0000 - val_loss: 0.4547 - val_accuracy: 0.7812\n",
            "\n",
            "Epoch 00037: val_accuracy did not improve from 1.00000\n",
            "Epoch 38/100\n",
            "2/2 [==============================] - 45s 23s/step - loss: 0.0922 - accuracy: 0.9688 - val_loss: 0.4393 - val_accuracy: 0.8125\n",
            "\n",
            "Epoch 00038: val_accuracy did not improve from 1.00000\n",
            "Epoch 39/100\n",
            "2/2 [==============================] - 45s 23s/step - loss: 0.0235 - accuracy: 1.0000 - val_loss: 0.4375 - val_accuracy: 0.8750\n",
            "\n",
            "Epoch 00039: val_accuracy did not improve from 1.00000\n",
            "Epoch 40/100\n",
            "2/2 [==============================] - 33s 16s/step - loss: 0.1041 - accuracy: 0.9688 - val_loss: 0.0701 - val_accuracy: 1.0000\n",
            "\n",
            "Epoch 00040: val_accuracy did not improve from 1.00000\n",
            "Epoch 41/100\n",
            "2/2 [==============================] - 45s 22s/step - loss: 0.0632 - accuracy: 0.9688 - val_loss: 0.4491 - val_accuracy: 0.8125\n",
            "\n",
            "Epoch 00041: val_accuracy did not improve from 1.00000\n",
            "Epoch 42/100\n",
            "2/2 [==============================] - 46s 23s/step - loss: 0.0647 - accuracy: 0.9844 - val_loss: 0.3300 - val_accuracy: 0.8125\n",
            "\n",
            "Epoch 00042: val_accuracy did not improve from 1.00000\n",
            "Epoch 43/100\n",
            "2/2 [==============================] - 45s 22s/step - loss: 0.0082 - accuracy: 1.0000 - val_loss: 0.4356 - val_accuracy: 0.8125\n",
            "\n",
            "Epoch 00043: val_accuracy did not improve from 1.00000\n",
            "Epoch 44/100\n",
            "2/2 [==============================] - 33s 17s/step - loss: 0.0340 - accuracy: 1.0000 - val_loss: 0.0356 - val_accuracy: 1.0000\n",
            "\n",
            "Epoch 00044: val_accuracy did not improve from 1.00000\n",
            "Epoch 45/100\n",
            "2/2 [==============================] - 45s 22s/step - loss: 0.0165 - accuracy: 1.0000 - val_loss: 0.5093 - val_accuracy: 0.8125\n",
            "\n",
            "Epoch 00045: val_accuracy did not improve from 1.00000\n",
            "Epoch 46/100\n",
            "2/2 [==============================] - 45s 22s/step - loss: 0.0765 - accuracy: 0.9531 - val_loss: 0.3535 - val_accuracy: 0.8438\n",
            "\n",
            "Epoch 00046: val_accuracy did not improve from 1.00000\n",
            "Epoch 47/100\n",
            "2/2 [==============================] - 45s 23s/step - loss: 0.1262 - accuracy: 0.9531 - val_loss: 0.4036 - val_accuracy: 0.8438\n",
            "\n",
            "Epoch 00047: val_accuracy did not improve from 1.00000\n",
            "Epoch 48/100\n",
            "2/2 [==============================] - 33s 16s/step - loss: 0.0360 - accuracy: 1.0000 - val_loss: 0.9082 - val_accuracy: 0.5000\n",
            "\n",
            "Epoch 00048: val_accuracy did not improve from 1.00000\n",
            "Epoch 49/100\n",
            "2/2 [==============================] - 46s 23s/step - loss: 0.0647 - accuracy: 0.9688 - val_loss: 0.2184 - val_accuracy: 0.9062\n",
            "\n",
            "Epoch 00049: val_accuracy did not improve from 1.00000\n",
            "Epoch 50/100\n",
            "2/2 [==============================] - 46s 23s/step - loss: 0.0104 - accuracy: 1.0000 - val_loss: 0.4502 - val_accuracy: 0.7812\n",
            "\n",
            "Epoch 00050: val_accuracy did not improve from 1.00000\n",
            "Epoch 51/100\n",
            "2/2 [==============================] - 45s 23s/step - loss: 0.0160 - accuracy: 1.0000 - val_loss: 0.6477 - val_accuracy: 0.7500\n",
            "\n",
            "Epoch 00051: val_accuracy did not improve from 1.00000\n",
            "Epoch 52/100\n",
            "2/2 [==============================] - 33s 16s/step - loss: 0.0234 - accuracy: 1.0000 - val_loss: 0.0654 - val_accuracy: 1.0000\n",
            "\n",
            "Epoch 00052: val_accuracy did not improve from 1.00000\n",
            "Epoch 53/100\n",
            "2/2 [==============================] - 45s 23s/step - loss: 0.0135 - accuracy: 1.0000 - val_loss: 0.5512 - val_accuracy: 0.8438\n",
            "\n",
            "Epoch 00053: val_accuracy did not improve from 1.00000\n",
            "Epoch 54/100\n",
            "2/2 [==============================] - 45s 23s/step - loss: 0.0044 - accuracy: 1.0000 - val_loss: 0.3025 - val_accuracy: 0.8438\n",
            "\n",
            "Epoch 00054: val_accuracy did not improve from 1.00000\n",
            "Epoch 55/100\n",
            "2/2 [==============================] - 45s 23s/step - loss: 0.0109 - accuracy: 1.0000 - val_loss: 0.3885 - val_accuracy: 0.8438\n",
            "\n",
            "Epoch 00055: val_accuracy did not improve from 1.00000\n",
            "Epoch 56/100\n",
            "2/2 [==============================] - 33s 16s/step - loss: 0.0084 - accuracy: 1.0000 - val_loss: 0.5278 - val_accuracy: 0.7500\n",
            "\n",
            "Epoch 00056: val_accuracy did not improve from 1.00000\n",
            "Epoch 57/100\n",
            "2/2 [==============================] - 45s 23s/step - loss: 0.0044 - accuracy: 1.0000 - val_loss: 0.4567 - val_accuracy: 0.9062\n",
            "\n",
            "Epoch 00057: val_accuracy did not improve from 1.00000\n",
            "Epoch 58/100\n",
            "2/2 [==============================] - 45s 22s/step - loss: 0.0164 - accuracy: 1.0000 - val_loss: 0.4483 - val_accuracy: 0.8438\n",
            "\n",
            "Epoch 00058: val_accuracy did not improve from 1.00000\n",
            "Epoch 59/100\n",
            "2/2 [==============================] - 45s 23s/step - loss: 0.0141 - accuracy: 1.0000 - val_loss: 0.5025 - val_accuracy: 0.8125\n",
            "\n",
            "Epoch 00059: val_accuracy did not improve from 1.00000\n",
            "Epoch 60/100\n",
            "2/2 [==============================] - 33s 16s/step - loss: 0.0336 - accuracy: 0.9844 - val_loss: 0.4352 - val_accuracy: 0.7500\n",
            "\n",
            "Epoch 00060: val_accuracy did not improve from 1.00000\n",
            "Epoch 61/100\n",
            "2/2 [==============================] - 45s 23s/step - loss: 0.0190 - accuracy: 1.0000 - val_loss: 0.3089 - val_accuracy: 0.8438\n",
            "\n",
            "Epoch 00061: val_accuracy did not improve from 1.00000\n",
            "Epoch 62/100\n",
            "2/2 [==============================] - 45s 23s/step - loss: 0.0102 - accuracy: 1.0000 - val_loss: 0.3773 - val_accuracy: 0.9062\n",
            "\n",
            "Epoch 00062: val_accuracy did not improve from 1.00000\n",
            "Epoch 63/100\n",
            "2/2 [==============================] - 46s 23s/step - loss: 0.0087 - accuracy: 1.0000 - val_loss: 0.5586 - val_accuracy: 0.8125\n",
            "\n",
            "Epoch 00063: val_accuracy did not improve from 1.00000\n",
            "Epoch 64/100\n",
            "2/2 [==============================] - 33s 17s/step - loss: 0.0018 - accuracy: 1.0000 - val_loss: 0.4871 - val_accuracy: 0.7500\n",
            "\n",
            "Epoch 00064: val_accuracy did not improve from 1.00000\n",
            "Epoch 65/100\n",
            "2/2 [==============================] - 45s 23s/step - loss: 0.0046 - accuracy: 1.0000 - val_loss: 0.3944 - val_accuracy: 0.9062\n",
            "\n",
            "Epoch 00065: val_accuracy did not improve from 1.00000\n",
            "Epoch 66/100\n",
            "2/2 [==============================] - 45s 23s/step - loss: 0.0026 - accuracy: 1.0000 - val_loss: 0.5186 - val_accuracy: 0.8125\n",
            "\n",
            "Epoch 00066: val_accuracy did not improve from 1.00000\n",
            "Epoch 67/100\n",
            "2/2 [==============================] - 45s 23s/step - loss: 0.0027 - accuracy: 1.0000 - val_loss: 0.3591 - val_accuracy: 0.8750\n",
            "\n",
            "Epoch 00067: val_accuracy did not improve from 1.00000\n",
            "Epoch 68/100\n",
            "2/2 [==============================] - 33s 16s/step - loss: 0.0074 - accuracy: 1.0000 - val_loss: 0.9047 - val_accuracy: 0.5000\n",
            "\n",
            "Epoch 00068: val_accuracy did not improve from 1.00000\n",
            "Epoch 69/100\n",
            "2/2 [==============================] - 45s 22s/step - loss: 0.0063 - accuracy: 1.0000 - val_loss: 0.2608 - val_accuracy: 0.8750\n",
            "\n",
            "Epoch 00069: val_accuracy did not improve from 1.00000\n",
            "Epoch 70/100\n",
            "2/2 [==============================] - 45s 23s/step - loss: 0.0033 - accuracy: 1.0000 - val_loss: 0.2458 - val_accuracy: 0.8125\n",
            "\n",
            "Epoch 00070: val_accuracy did not improve from 1.00000\n",
            "Epoch 71/100\n",
            "2/2 [==============================] - 46s 23s/step - loss: 0.0058 - accuracy: 1.0000 - val_loss: 0.7190 - val_accuracy: 0.7812\n",
            "\n",
            "Epoch 00071: val_accuracy did not improve from 1.00000\n",
            "Epoch 72/100\n",
            "2/2 [==============================] - 33s 16s/step - loss: 0.0025 - accuracy: 1.0000 - val_loss: 0.6316 - val_accuracy: 0.7500\n",
            "\n",
            "Epoch 00072: val_accuracy did not improve from 1.00000\n",
            "Epoch 73/100\n",
            "2/2 [==============================] - 45s 23s/step - loss: 0.0013 - accuracy: 1.0000 - val_loss: 0.5729 - val_accuracy: 0.8438\n",
            "\n",
            "Epoch 00073: val_accuracy did not improve from 1.00000\n",
            "Epoch 74/100\n",
            "2/2 [==============================] - 45s 23s/step - loss: 0.0028 - accuracy: 1.0000 - val_loss: 0.4225 - val_accuracy: 0.8750\n",
            "\n",
            "Epoch 00074: val_accuracy did not improve from 1.00000\n",
            "Epoch 75/100\n",
            "2/2 [==============================] - 45s 23s/step - loss: 0.0028 - accuracy: 1.0000 - val_loss: 0.3877 - val_accuracy: 0.8750\n",
            "\n",
            "Epoch 00075: val_accuracy did not improve from 1.00000\n",
            "Epoch 76/100\n",
            "2/2 [==============================] - 33s 17s/step - loss: 0.0016 - accuracy: 1.0000 - val_loss: 0.0010 - val_accuracy: 1.0000\n",
            "\n",
            "Epoch 00076: val_accuracy did not improve from 1.00000\n",
            "Epoch 77/100\n",
            "2/2 [==============================] - 45s 23s/step - loss: 0.0032 - accuracy: 1.0000 - val_loss: 0.3771 - val_accuracy: 0.8750\n",
            "\n",
            "Epoch 00077: val_accuracy did not improve from 1.00000\n",
            "Epoch 78/100\n",
            "2/2 [==============================] - 45s 23s/step - loss: 0.0014 - accuracy: 1.0000 - val_loss: 0.6481 - val_accuracy: 0.8125\n",
            "\n",
            "Epoch 00078: val_accuracy did not improve from 1.00000\n",
            "Epoch 79/100\n",
            "2/2 [==============================] - 45s 23s/step - loss: 0.0013 - accuracy: 1.0000 - val_loss: 0.4316 - val_accuracy: 0.8438\n",
            "\n",
            "Epoch 00079: val_accuracy did not improve from 1.00000\n",
            "Epoch 80/100\n",
            "2/2 [==============================] - 33s 16s/step - loss: 0.0014 - accuracy: 1.0000 - val_loss: 0.2287 - val_accuracy: 0.7500\n",
            "\n",
            "Epoch 00080: val_accuracy did not improve from 1.00000\n",
            "Epoch 81/100\n",
            "2/2 [==============================] - 45s 23s/step - loss: 9.7965e-04 - accuracy: 1.0000 - val_loss: 0.3168 - val_accuracy: 0.8438\n",
            "\n",
            "Epoch 00081: val_accuracy did not improve from 1.00000\n",
            "Epoch 82/100\n",
            "2/2 [==============================] - 45s 23s/step - loss: 7.8009e-04 - accuracy: 1.0000 - val_loss: 0.4519 - val_accuracy: 0.8750\n",
            "\n",
            "Epoch 00082: val_accuracy did not improve from 1.00000\n",
            "Epoch 83/100\n",
            "2/2 [==============================] - 45s 23s/step - loss: 0.0016 - accuracy: 1.0000 - val_loss: 0.6795 - val_accuracy: 0.8125\n",
            "\n",
            "Epoch 00083: val_accuracy did not improve from 1.00000\n",
            "Epoch 84/100\n",
            "2/2 [==============================] - 33s 16s/step - loss: 0.0013 - accuracy: 1.0000 - val_loss: 0.0726 - val_accuracy: 1.0000\n",
            "\n",
            "Epoch 00084: val_accuracy did not improve from 1.00000\n",
            "Epoch 85/100\n",
            "2/2 [==============================] - 45s 23s/step - loss: 7.5355e-04 - accuracy: 1.0000 - val_loss: 0.4943 - val_accuracy: 0.8125\n",
            "\n",
            "Epoch 00085: val_accuracy did not improve from 1.00000\n",
            "Epoch 86/100\n",
            "2/2 [==============================] - 45s 23s/step - loss: 0.0012 - accuracy: 1.0000 - val_loss: 0.2048 - val_accuracy: 0.9062\n",
            "\n",
            "Epoch 00086: val_accuracy did not improve from 1.00000\n",
            "Epoch 87/100\n",
            "2/2 [==============================] - 45s 23s/step - loss: 0.0023 - accuracy: 1.0000 - val_loss: 0.4074 - val_accuracy: 0.8750\n",
            "\n",
            "Epoch 00087: val_accuracy did not improve from 1.00000\n",
            "Epoch 88/100\n",
            "2/2 [==============================] - 33s 17s/step - loss: 0.0010 - accuracy: 1.0000 - val_loss: 2.8711 - val_accuracy: 0.5000\n",
            "\n",
            "Epoch 00088: val_accuracy did not improve from 1.00000\n",
            "Epoch 89/100\n",
            "2/2 [==============================] - 45s 23s/step - loss: 0.0016 - accuracy: 1.0000 - val_loss: 0.5384 - val_accuracy: 0.8750\n",
            "\n",
            "Epoch 00089: val_accuracy did not improve from 1.00000\n",
            "Epoch 90/100\n",
            "2/2 [==============================] - 45s 23s/step - loss: 8.7795e-04 - accuracy: 1.0000 - val_loss: 0.7230 - val_accuracy: 0.7500\n",
            "\n",
            "Epoch 00090: val_accuracy did not improve from 1.00000\n",
            "Epoch 91/100\n",
            "2/2 [==============================] - 45s 22s/step - loss: 5.0825e-04 - accuracy: 1.0000 - val_loss: 0.2244 - val_accuracy: 0.8750\n",
            "\n",
            "Epoch 00091: val_accuracy did not improve from 1.00000\n",
            "Epoch 92/100\n",
            "2/2 [==============================] - 33s 16s/step - loss: 0.0013 - accuracy: 1.0000 - val_loss: 0.0180 - val_accuracy: 1.0000\n",
            "\n",
            "Epoch 00092: val_accuracy did not improve from 1.00000\n",
            "Epoch 93/100\n",
            "2/2 [==============================] - 46s 23s/step - loss: 6.1913e-04 - accuracy: 1.0000 - val_loss: 0.5691 - val_accuracy: 0.8438\n",
            "\n",
            "Epoch 00093: val_accuracy did not improve from 1.00000\n",
            "Epoch 94/100\n",
            "2/2 [==============================] - 45s 23s/step - loss: 7.8152e-04 - accuracy: 1.0000 - val_loss: 0.3731 - val_accuracy: 0.8125\n",
            "\n",
            "Epoch 00094: val_accuracy did not improve from 1.00000\n",
            "Epoch 95/100\n",
            "2/2 [==============================] - 45s 23s/step - loss: 8.5600e-04 - accuracy: 1.0000 - val_loss: 0.5680 - val_accuracy: 0.8750\n",
            "\n",
            "Epoch 00095: val_accuracy did not improve from 1.00000\n",
            "Epoch 96/100\n",
            "2/2 [==============================] - 33s 16s/step - loss: 9.0212e-04 - accuracy: 1.0000 - val_loss: 0.1930 - val_accuracy: 1.0000\n",
            "\n",
            "Epoch 00096: val_accuracy did not improve from 1.00000\n",
            "Epoch 97/100\n",
            "2/2 [==============================] - 45s 22s/step - loss: 8.8785e-04 - accuracy: 1.0000 - val_loss: 0.2086 - val_accuracy: 0.9062\n",
            "\n",
            "Epoch 00097: val_accuracy did not improve from 1.00000\n",
            "Epoch 98/100\n",
            "2/2 [==============================] - 45s 22s/step - loss: 0.0014 - accuracy: 1.0000 - val_loss: 0.4625 - val_accuracy: 0.8438\n",
            "\n",
            "Epoch 00098: val_accuracy did not improve from 1.00000\n",
            "Epoch 99/100\n",
            "2/2 [==============================] - 45s 23s/step - loss: 4.6041e-04 - accuracy: 1.0000 - val_loss: 0.8239 - val_accuracy: 0.8125\n",
            "\n",
            "Epoch 00099: val_accuracy did not improve from 1.00000\n",
            "Epoch 100/100\n",
            "2/2 [==============================] - 33s 17s/step - loss: 8.9111e-04 - accuracy: 1.0000 - val_loss: 0.2846 - val_accuracy: 0.7500\n",
            "\n",
            "Epoch 00100: val_accuracy did not improve from 1.00000\n"
          ],
          "name": "stdout"
        }
      ]
    },
    {
      "cell_type": "code",
      "metadata": {
        "id": "YtQxWrIlPU_M",
        "colab_type": "code",
        "colab": {
          "base_uri": "https://localhost:8080/",
          "height": 295
        },
        "outputId": "23142da3-7b9b-45dd-f570-8822380c7303"
      },
      "source": [
        "import matplotlib.pyplot as plt\n",
        "plt.plot(hist.history[\"accuracy\"])\n",
        "plt.plot(hist.history['val_accuracy'])\n",
        "\n",
        "plt.title(\"model accuracy\")\n",
        "plt.ylabel(\"Accuracy\")\n",
        "plt.xlabel(\"Epoch\")\n",
        "plt.legend([\"Accuracy\",\"Validation Accuracy\"])\n",
        "plt.show()"
      ],
      "execution_count": 12,
      "outputs": [
        {
          "output_type": "display_data",
          "data": {
            "image/png": "[encoded data removed]",
            "text/plain": [
              "<Figure size 432x288 with 1 Axes>"
            ]
          },
          "metadata": {
            "tags": [],
            "needs_background": "light"
          }
        }
      ]
    },
    {
      "cell_type": "code",
      "metadata": {
        "id": "EsjZHi9jaU4Y",
        "colab_type": "code",
        "colab": {
          "base_uri": "https://localhost:8080/",
          "height": 282
        },
        "outputId": "f119f840-327a-4d8f-957c-f70767d682f0"
      },
      "source": [
        "plt.plot(hist.history['loss'])\n",
        "plt.plot(hist.history['val_loss'])\n",
        "plt.ylabel(\"Loss\")\n",
        "plt.xlabel(\"Epoch\")\n",
        "plt.legend([\"loss\",\"Validation Loss\"])\n",
        "plt.show()"
      ],
      "execution_count": 13,
      "outputs": [
        {
          "output_type": "display_data",
          "data": {
            "image/png": "[encoded data removed]",
            "text/plain": [
              "<Figure size 432x288 with 1 Axes>"
            ]
          },
          "metadata": {
            "tags": [],
            "needs_background": "light"
          }
        }
      ]
    },
    {
      "cell_type": "code",
      "metadata": {
        "id": "_2GdDycwS52M",
        "colab_type": "code",
        "colab": {}
      },
      "source": [
        "from keras.preprocessing.image import ImageDataGenerator\n",
        "from sklearn.metrics import classification_report, confusion_matrix\n",
        "\n",
        "test_datagen = ImageDataGenerator()"
      ],
      "execution_count": 14,
      "outputs": []
    },
    {
      "cell_type": "code",
      "metadata": {
        "id": "9-fknWZIS-CT",
        "colab_type": "code",
        "colab": {
          "base_uri": "https://localhost:8080/",
          "height": 34
        },
        "outputId": "1a68e1a0-396e-4ebf-9d02-839a3101fb41"
      },
      "source": [
        "validation_generator = test_datagen.flow_from_directory('/content/drive/My Drive/data_ouput/test',\n",
        "                                                        target_size=(224, 224),\n",
        "                                                        batch_size=32,\n",
        "                                                        class_mode='categorical')"
      ],
      "execution_count": 15,
      "outputs": [
        {
          "output_type": "stream",
          "text": [
            "Found 100 images belonging to 4 classes.\n"
          ],
          "name": "stdout"
        }
      ]
    },
    {
      "cell_type": "code",
      "metadata": {
        "id": "RSoXpGKcTEnR",
        "colab_type": "code",
        "colab": {
          "base_uri": "https://localhost:8080/",
          "height": 306
        },
        "outputId": "ee1b594a-e5fa-403f-c4a3-42098d819fc8"
      },
      "source": [
        "import numpy as np\n",
        "#Confution Matrix and Classification Report\n",
        "Y_pred = model_final.predict_generator(validation_generator)\n",
        "y_pred = np.argmax(Y_pred, axis=1)\n",
        "print('Confusion Matrix')\n",
        "print(confusion_matrix(validation_generator.classes, y_pred))\n",
        "print('Classification Report')\n",
        "target_names = ['grade0', 'grade1', 'grade2','grade3']\n",
        "print(classification_report(validation_generator.classes, y_pred, target_names=target_names))"
      ],
      "execution_count": 16,
      "outputs": [
        {
          "output_type": "stream",
          "text": [
            "Confusion Matrix\n",
            "[[ 6  7  5  7]\n",
            " [ 4  6 10  5]\n",
            " [ 9  5  6  5]\n",
            " [ 5  8  4  8]]\n",
            "Classification Report\n",
            "              precision    recall  f1-score   support\n",
            "\n",
            "      grade0       0.25      0.24      0.24        25\n",
            "      grade1       0.23      0.24      0.24        25\n",
            "      grade2       0.24      0.24      0.24        25\n",
            "      grade3       0.32      0.32      0.32        25\n",
            "\n",
            "    accuracy                           0.26       100\n",
            "   macro avg       0.26      0.26      0.26       100\n",
            "weighted avg       0.26      0.26      0.26       100\n",
            "\n"
          ],
          "name": "stdout"
        }
      ]
    },
    {
      "cell_type": "code",
      "metadata": {
        "id": "B-E18MG6VMMN",
        "colab_type": "code",
        "colab": {
          "base_uri": "https://localhost:8080/",
          "height": 269
        },
        "outputId": "2c6cec66-fb2d-4768-c75f-b7088bdaba37"
      },
      "source": [
        "from keras.preprocessing import image\n",
        "import matplotlib.pyplot as plt\n",
        "\n",
        "img = image.load_img(\"/content/drive/My Drive/data_ouput/test/grade1/grade1-079.jpg\",target_size=(224,224))\n",
        "img = np.asarray(img)\n",
        "plt.imshow(img)\n",
        "img = np.expand_dims(img, axis=0)"
      ],
      "execution_count": 17,
      "outputs": [
        {
          "output_type": "display_data",
          "data": {
            "image/png": "[encoded data removed]",
            "text/plain": [
              "<Figure size 432x288 with 1 Axes>"
            ]
          },
          "metadata": {
            "tags": [],
            "needs_background": "light"
          }
        }
      ]
    },
    {
      "cell_type": "code",
      "metadata": {
        "id": "Ux21nwVeV0mE",
        "colab_type": "code",
        "colab": {}
      },
      "source": [
        "output = model_final.predict(img)"
      ],
      "execution_count": 18,
      "outputs": []
    },
    {
      "cell_type": "code",
      "metadata": {
        "id": "crw2NNGyV7kN",
        "colab_type": "code",
        "colab": {
          "base_uri": "https://localhost:8080/",
          "height": 34
        },
        "outputId": "e0412f1a-42e7-48ae-a986-7d728e0bc62b"
      },
      "source": [
        "output\n",
        "ans='grade'+str(np.argmax(output[0],axis=0))\n",
        "print(ans)"
      ],
      "execution_count": 19,
      "outputs": [
        {
          "output_type": "stream",
          "text": [
            "grade1\n"
          ],
          "name": "stdout"
        }
      ]
    },
    {
      "cell_type": "code",
      "metadata": {
        "id": "YbH-5BZmX-K4",
        "colab_type": "code",
        "colab": {
          "base_uri": "https://localhost:8080/",
          "height": 153
        },
        "outputId": "3dc020af-a159-49d0-8339-1ff3f2739a20"
      },
      "source": [
        "import os\n",
        "data_path='/content/drive/My Drive/data_ouput/test'\n",
        "data_dir_list=os.listdir(data_path)\n",
        "for dataset in data_dir_list:\n",
        "  print(dataset)\n",
        "  img_list=os.listdir(data_path+'/'+dataset)\n",
        "  correctCount=0\n",
        "  wrongCount=0\n",
        "  for img in img_list:\n",
        "    img_path=data_path+'/'+dataset+'/'+img\n",
        "    input_image = image.load_img(img_path,target_size=(224,224))\n",
        "    input_image = np.asarray(input_image)\n",
        "    input_image = np.expand_dims(input_image, axis=0)\n",
        "    output = model_final.predict(input_image)\n",
        "    ans='grade'+str(np.argmax(output[0],axis=0))\n",
        "    if( ans in img):\n",
        "      correctCount+=1\n",
        "    else:\n",
        "      wrongCount+=1\n",
        "  print(\"correct Count {} WrongCount {}\".format(correctCount,wrongCount))\n",
        "\n",
        "\n"
      ],
      "execution_count": 20,
      "outputs": [
        {
          "output_type": "stream",
          "text": [
            "grade1\n",
            "correct Count 21 WrongCount 4\n",
            "grade0\n",
            "correct Count 23 WrongCount 2\n",
            "grade2\n",
            "correct Count 23 WrongCount 2\n",
            "grade3\n",
            "correct Count 23 WrongCount 2\n"
          ],
          "name": "stdout"
        }
      ]
    },
    {
      "cell_type": "code",
      "metadata": {
        "id": "Ml4QAr_Avw2T",
        "colab_type": "code",
        "colab": {
          "base_uri": "https://localhost:8080/",
          "height": 51
        },
        "outputId": "07bba150-b411-4914-f37d-bda3fa724f76"
      },
      "source": [
        "tr_loss,tr_acc=model_final.evaluate(validation_generator)\n",
        "tr_acc"
      ],
      "execution_count": 21,
      "outputs": [
        {
          "output_type": "stream",
          "text": [
            "4/4 [==============================] - 46s 11s/step\n"
          ],
          "name": "stdout"
        },
        {
          "output_type": "execute_result",
          "data": {
            "text/plain": [
              "0.8999999761581421"
            ]
          },
          "metadata": {
            "tags": []
          },
          "execution_count": 21
        }
      ]
    },
    {
      "cell_type": "code",
      "metadata": {
        "id": "R6Fx71JwgONy",
        "colab_type": "code",
        "colab": {}
      },
      "source": [
        ""
      ],
      "execution_count": null,
      "outputs": []
    },
    {
      "cell_type": "code",
      "metadata": {
        "id": "PiiV053i4At7",
        "colab_type": "code",
        "colab": {}
      },
      "source": [
        "model_final.save('/content/drive/My Drive/Best models/modelbest.h5')"
      ],
      "execution_count": null,
      "outputs": []
    }
  ]
}