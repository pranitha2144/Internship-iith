{
  "nbformat": 4,
  "nbformat_minor": 0,
  "metadata": {
    "colab": {
      "name": "vgg16",
      "provenance": [],
      "mount_file_id": "1IhyoGy7EHEgj120Y7aEt15WFbYJP6aXH",
      "authorship_tag": "ABX9TyN5DgIvV8Wi9Be6/WwG/6A3",
      "include_colab_link": true
    },
    "kernelspec": {
      "name": "python3",
      "display_name": "Python 3"
    }
  },
  "cells": [
    {
      "cell_type": "markdown",
      "metadata": {
        "id": "view-in-github",
        "colab_type": "text"
      },
      "source": [
        "<a href=\"https://colab.research.google.com/github/pranitha2144/Internship-iith/blob/Resnet/vgg16.ipynb\" target=\"_parent\"><img src=\"https://colab.research.google.com/assets/colab-badge.svg\" alt=\"Open In Colab\"/></a>"
      ]
    },
    {
      "cell_type": "code",
      "metadata": {
        "id": "3i-5qcxM7pSC",
        "colab_type": "code",
        "colab": {}
      },
      "source": [
        "import keras\n",
        "from keras.models import Model\n",
        "from keras.layers import Dense,Dropout\n",
        "from keras import optimizers\n",
        "from keras.preprocessing.image import ImageDataGenerator\n",
        "from keras.preprocessing import image"
      ],
      "execution_count": 34,
      "outputs": []
    },
    {
      "cell_type": "code",
      "metadata": {
        "id": "P_NCAugx70fs",
        "colab_type": "code",
        "colab": {
          "base_uri": "https://localhost:8080/",
          "height": 51
        },
        "outputId": "7a7c0637-4168-4d19-c498-0914b3064eb4"
      },
      "source": [
        "trdata = ImageDataGenerator()\n",
        "traindata = trdata.flow_from_directory(directory=\"/content/drive/My Drive/data_ouput/train\",target_size=(224,224))\n",
        "tsdata = ImageDataGenerator()\n",
        "testdata = tsdata.flow_from_directory(directory=\"/content/drive/My Drive/data_ouput/val\", target_size=(224,224))"
      ],
      "execution_count": 25,
      "outputs": [
        {
          "output_type": "stream",
          "text": [
            "Found 800 images belonging to 4 classes.\n",
            "Found 100 images belonging to 4 classes.\n"
          ],
          "name": "stdout"
        }
      ]
    },
    {
      "cell_type": "code",
      "metadata": {
        "id": "rg_JdtWb8O00",
        "colab_type": "code",
        "colab": {}
      },
      "source": [
        "from keras.applications.vgg16 import VGG16\n",
        "vggmodel = VGG16(weights='imagenet', include_top=True)"
      ],
      "execution_count": 26,
      "outputs": []
    },
    {
      "cell_type": "code",
      "metadata": {
        "id": "PKuEFjHt8TfJ",
        "colab_type": "code",
        "colab": {
          "base_uri": "https://localhost:8080/",
          "height": 935
        },
        "outputId": "7c17eae1-1018-4718-b8a9-ff4914812a87"
      },
      "source": [
        "vggmodel.summary()"
      ],
      "execution_count": 27,
      "outputs": [
        {
          "output_type": "stream",
          "text": [
            "Model: \"vgg16\"\n",
            "_________________________________________________________________\n",
            "Layer (type)                 Output Shape              Param #   \n",
            "=================================================================\n",
            "input_2 (InputLayer)         (None, 224, 224, 3)       0         \n",
            "_________________________________________________________________\n",
            "block1_conv1 (Conv2D)        (None, 224, 224, 64)      1792      \n",
            "_________________________________________________________________\n",
            "block1_conv2 (Conv2D)        (None, 224, 224, 64)      36928     \n",
            "_________________________________________________________________\n",
            "block1_pool (MaxPooling2D)   (None, 112, 112, 64)      0         \n",
            "_________________________________________________________________\n",
            "block2_conv1 (Conv2D)        (None, 112, 112, 128)     73856     \n",
            "_________________________________________________________________\n",
            "block2_conv2 (Conv2D)        (None, 112, 112, 128)     147584    \n",
            "_________________________________________________________________\n",
            "block2_pool (MaxPooling2D)   (None, 56, 56, 128)       0         \n",
            "_________________________________________________________________\n",
            "block3_conv1 (Conv2D)        (None, 56, 56, 256)       295168    \n",
            "_________________________________________________________________\n",
            "block3_conv2 (Conv2D)        (None, 56, 56, 256)       590080    \n",
            "_________________________________________________________________\n",
            "block3_conv3 (Conv2D)        (None, 56, 56, 256)       590080    \n",
            "_________________________________________________________________\n",
            "block3_pool (MaxPooling2D)   (None, 28, 28, 256)       0         \n",
            "_________________________________________________________________\n",
            "block4_conv1 (Conv2D)        (None, 28, 28, 512)       1180160   \n",
            "_________________________________________________________________\n",
            "block4_conv2 (Conv2D)        (None, 28, 28, 512)       2359808   \n",
            "_________________________________________________________________\n",
            "block4_conv3 (Conv2D)        (None, 28, 28, 512)       2359808   \n",
            "_________________________________________________________________\n",
            "block4_pool (MaxPooling2D)   (None, 14, 14, 512)       0         \n",
            "_________________________________________________________________\n",
            "block5_conv1 (Conv2D)        (None, 14, 14, 512)       2359808   \n",
            "_________________________________________________________________\n",
            "block5_conv2 (Conv2D)        (None, 14, 14, 512)       2359808   \n",
            "_________________________________________________________________\n",
            "block5_conv3 (Conv2D)        (None, 14, 14, 512)       2359808   \n",
            "_________________________________________________________________\n",
            "block5_pool (MaxPooling2D)   (None, 7, 7, 512)         0         \n",
            "_________________________________________________________________\n",
            "flatten (Flatten)            (None, 25088)             0         \n",
            "_________________________________________________________________\n",
            "fc1 (Dense)                  (None, 4096)              102764544 \n",
            "_________________________________________________________________\n",
            "fc2 (Dense)                  (None, 4096)              16781312  \n",
            "_________________________________________________________________\n",
            "predictions (Dense)          (None, 1000)              4097000   \n",
            "=================================================================\n",
            "Total params: 138,357,544\n",
            "Trainable params: 138,357,544\n",
            "Non-trainable params: 0\n",
            "_________________________________________________________________\n"
          ],
          "name": "stdout"
        }
      ]
    },
    {
      "cell_type": "code",
      "metadata": {
        "id": "GG60hKI68aWo",
        "colab_type": "code",
        "colab": {
          "base_uri": "https://localhost:8080/",
          "height": 340
        },
        "outputId": "9684287e-ec9e-4fb6-d13a-1856d47b23c2"
      },
      "source": [
        "for layers in (vggmodel.layers)[:19]:\n",
        "    print(layers)\n",
        "    layers.trainable = False"
      ],
      "execution_count": 28,
      "outputs": [
        {
          "output_type": "stream",
          "text": [
            "<keras.engine.input_layer.InputLayer object at 0x7fc6d5822630>\n",
            "<keras.layers.convolutional.Conv2D object at 0x7fc6dc6beeb8>\n",
            "<keras.layers.convolutional.Conv2D object at 0x7fc6d57dc2e8>\n",
            "<keras.layers.pooling.MaxPooling2D object at 0x7fc6d57dc908>\n",
            "<keras.layers.convolutional.Conv2D object at 0x7fc6d582d5c0>\n",
            "<keras.layers.convolutional.Conv2D object at 0x7fc6d57844a8>\n",
            "<keras.layers.pooling.MaxPooling2D object at 0x7fc6d5784fd0>\n",
            "<keras.layers.convolutional.Conv2D object at 0x7fc6d5784e10>\n",
            "<keras.layers.convolutional.Conv2D object at 0x7fc6d5704b70>\n",
            "<keras.layers.convolutional.Conv2D object at 0x7fc6d570b710>\n",
            "<keras.layers.pooling.MaxPooling2D object at 0x7fc6d570bf28>\n",
            "<keras.layers.convolutional.Conv2D object at 0x7fc6d570bfd0>\n",
            "<keras.layers.convolutional.Conv2D object at 0x7fc6d570fcc0>\n",
            "<keras.layers.convolutional.Conv2D object at 0x7fc6d5716860>\n",
            "<keras.layers.pooling.MaxPooling2D object at 0x7fc6d571c2e8>\n",
            "<keras.layers.convolutional.Conv2D object at 0x7fc6d571c128>\n",
            "<keras.layers.convolutional.Conv2D object at 0x7fc6d571ce10>\n",
            "<keras.layers.convolutional.Conv2D object at 0x7fc6d57239b0>\n",
            "<keras.layers.pooling.MaxPooling2D object at 0x7fc6d572c438>\n"
          ],
          "name": "stdout"
        }
      ]
    },
    {
      "cell_type": "code",
      "metadata": {
        "id": "59taDHdJ8ikh",
        "colab_type": "code",
        "colab": {
          "base_uri": "https://localhost:8080/",
          "height": 71
        },
        "outputId": "94546efc-1a08-4c3d-d847-595333b47e1c"
      },
      "source": [
        "X= vggmodel.layers[-2].output\n",
        "fc_1=Dropout(0.3)(X)\n",
        "fc_2=Dropout(0.6)(fc_1)\n",
        "predictions = Dense(4, activation=\"softmax\")(fc_2)\n",
        "model_final = Model(input = vggmodel.input, output = predictions)\n"
      ],
      "execution_count": 59,
      "outputs": [
        {
          "output_type": "stream",
          "text": [
            "/usr/local/lib/python3.6/dist-packages/ipykernel_launcher.py:5: UserWarning: Update your `Model` call to the Keras 2 API: `Model(inputs=Tensor(\"in..., outputs=Tensor(\"de...)`\n",
            "  \"\"\"\n"
          ],
          "name": "stderr"
        }
      ]
    },
    {
      "cell_type": "code",
      "metadata": {
        "id": "vFYbGbdq8vg8",
        "colab_type": "code",
        "colab": {}
      },
      "source": [
        "model_final.compile(loss = \"categorical_crossentropy\", optimizer = optimizers.Adam(lr=0.0001), metrics=[\"accuracy\"])"
      ],
      "execution_count": 60,
      "outputs": []
    },
    {
      "cell_type": "code",
      "metadata": {
        "id": "i6yUCcd08xum",
        "colab_type": "code",
        "colab": {
          "base_uri": "https://localhost:8080/",
          "height": 1000
        },
        "outputId": "30bd4abb-60ac-4361-e4cf-b7f460654bce"
      },
      "source": [
        "model_final.summary()"
      ],
      "execution_count": 61,
      "outputs": [
        {
          "output_type": "stream",
          "text": [
            "Model: \"model_5\"\n",
            "_________________________________________________________________\n",
            "Layer (type)                 Output Shape              Param #   \n",
            "=================================================================\n",
            "input_2 (InputLayer)         (None, 224, 224, 3)       0         \n",
            "_________________________________________________________________\n",
            "block1_conv1 (Conv2D)        (None, 224, 224, 64)      1792      \n",
            "_________________________________________________________________\n",
            "block1_conv2 (Conv2D)        (None, 224, 224, 64)      36928     \n",
            "_________________________________________________________________\n",
            "block1_pool (MaxPooling2D)   (None, 112, 112, 64)      0         \n",
            "_________________________________________________________________\n",
            "block2_conv1 (Conv2D)        (None, 112, 112, 128)     73856     \n",
            "_________________________________________________________________\n",
            "block2_conv2 (Conv2D)        (None, 112, 112, 128)     147584    \n",
            "_________________________________________________________________\n",
            "block2_pool (MaxPooling2D)   (None, 56, 56, 128)       0         \n",
            "_________________________________________________________________\n",
            "block3_conv1 (Conv2D)        (None, 56, 56, 256)       295168    \n",
            "_________________________________________________________________\n",
            "block3_conv2 (Conv2D)        (None, 56, 56, 256)       590080    \n",
            "_________________________________________________________________\n",
            "block3_conv3 (Conv2D)        (None, 56, 56, 256)       590080    \n",
            "_________________________________________________________________\n",
            "block3_pool (MaxPooling2D)   (None, 28, 28, 256)       0         \n",
            "_________________________________________________________________\n",
            "block4_conv1 (Conv2D)        (None, 28, 28, 512)       1180160   \n",
            "_________________________________________________________________\n",
            "block4_conv2 (Conv2D)        (None, 28, 28, 512)       2359808   \n",
            "_________________________________________________________________\n",
            "block4_conv3 (Conv2D)        (None, 28, 28, 512)       2359808   \n",
            "_________________________________________________________________\n",
            "block4_pool (MaxPooling2D)   (None, 14, 14, 512)       0         \n",
            "_________________________________________________________________\n",
            "block5_conv1 (Conv2D)        (None, 14, 14, 512)       2359808   \n",
            "_________________________________________________________________\n",
            "block5_conv2 (Conv2D)        (None, 14, 14, 512)       2359808   \n",
            "_________________________________________________________________\n",
            "block5_conv3 (Conv2D)        (None, 14, 14, 512)       2359808   \n",
            "_________________________________________________________________\n",
            "block5_pool (MaxPooling2D)   (None, 7, 7, 512)         0         \n",
            "_________________________________________________________________\n",
            "flatten (Flatten)            (None, 25088)             0         \n",
            "_________________________________________________________________\n",
            "fc1 (Dense)                  (None, 4096)              102764544 \n",
            "_________________________________________________________________\n",
            "fc2 (Dense)                  (None, 4096)              16781312  \n",
            "_________________________________________________________________\n",
            "dropout_4 (Dropout)          (None, 4096)              0         \n",
            "_________________________________________________________________\n",
            "dropout_5 (Dropout)          (None, 4096)              0         \n",
            "_________________________________________________________________\n",
            "dense_7 (Dense)              (None, 4)                 16388     \n",
            "=================================================================\n",
            "Total params: 134,276,932\n",
            "Trainable params: 119,562,244\n",
            "Non-trainable params: 14,714,688\n",
            "_________________________________________________________________\n"
          ],
          "name": "stdout"
        }
      ]
    },
    {
      "cell_type": "code",
      "metadata": {
        "id": "UIV1Rie889QA",
        "colab_type": "code",
        "colab": {
          "base_uri": "https://localhost:8080/",
          "height": 1000
        },
        "outputId": "a34058a9-6edf-4644-8bf4-b7aa3df02f96"
      },
      "source": [
        "from keras.callbacks import ModelCheckpoint, EarlyStopping\n",
        "checkpoint = ModelCheckpoint(\"vgg16_1.h5\", monitor='val_accuracy', verbose=1, save_best_only=True, save_weights_only=False, mode='auto', period=1)\n",
        "early = EarlyStopping(monitor='val_acc', min_delta=0, patience=40, verbose=1, mode='auto')\n",
        "hist=model_final.fit(traindata, steps_per_epoch= 2, epochs= 100, validation_data= testdata, validation_steps=1, callbacks=[checkpoint,early])\n",
        "model_final.save_weights(\"vgg16_1.h5\")"
      ],
      "execution_count": 62,
      "outputs": [
        {
          "output_type": "stream",
          "text": [
            "Epoch 1/100\n",
            "2/2 [==============================] - 54s 27s/step - loss: 1.9204 - accuracy: 0.4531 - val_loss: 0.8075 - val_accuracy: 0.6875\n",
            "\n",
            "Epoch 00001: val_accuracy improved from -inf to 0.68750, saving model to vgg16_1.h5\n"
          ],
          "name": "stdout"
        },
        {
          "output_type": "stream",
          "text": [
            "/usr/local/lib/python3.6/dist-packages/keras/callbacks/callbacks.py:846: RuntimeWarning: Early stopping conditioned on metric `val_acc` which is not available. Available metrics are: val_loss,val_accuracy,loss,accuracy\n",
            "  (self.monitor, ','.join(list(logs.keys()))), RuntimeWarning\n"
          ],
          "name": "stderr"
        },
        {
          "output_type": "stream",
          "text": [
            "Epoch 2/100\n",
            "2/2 [==============================] - 51s 26s/step - loss: 0.7507 - accuracy: 0.7344 - val_loss: 0.5398 - val_accuracy: 0.6562\n",
            "\n",
            "Epoch 00002: val_accuracy did not improve from 0.68750\n",
            "Epoch 3/100\n",
            "2/2 [==============================] - 51s 26s/step - loss: 0.4502 - accuracy: 0.8438 - val_loss: 0.3630 - val_accuracy: 0.8438\n",
            "\n",
            "Epoch 00003: val_accuracy improved from 0.68750 to 0.84375, saving model to vgg16_1.h5\n",
            "Epoch 4/100\n",
            "2/2 [==============================] - 37s 19s/step - loss: 0.3116 - accuracy: 0.8594 - val_loss: 0.4154 - val_accuracy: 0.7500\n",
            "\n",
            "Epoch 00004: val_accuracy did not improve from 0.84375\n",
            "Epoch 5/100\n",
            "2/2 [==============================] - 51s 26s/step - loss: 0.6104 - accuracy: 0.7969 - val_loss: 0.3598 - val_accuracy: 0.8438\n",
            "\n",
            "Epoch 00005: val_accuracy did not improve from 0.84375\n",
            "Epoch 6/100\n",
            "2/2 [==============================] - 51s 26s/step - loss: 0.1839 - accuracy: 0.9375 - val_loss: 0.3714 - val_accuracy: 0.8125\n",
            "\n",
            "Epoch 00006: val_accuracy did not improve from 0.84375\n",
            "Epoch 7/100\n",
            "2/2 [==============================] - 51s 26s/step - loss: 0.1989 - accuracy: 0.9219 - val_loss: 0.8275 - val_accuracy: 0.7500\n",
            "\n",
            "Epoch 00007: val_accuracy did not improve from 0.84375\n",
            "Epoch 8/100\n",
            "2/2 [==============================] - 37s 19s/step - loss: 0.2781 - accuracy: 0.9062 - val_loss: 0.4229 - val_accuracy: 0.7500\n",
            "\n",
            "Epoch 00008: val_accuracy did not improve from 0.84375\n",
            "Epoch 9/100\n",
            "2/2 [==============================] - 51s 25s/step - loss: 0.2535 - accuracy: 0.8906 - val_loss: 0.7004 - val_accuracy: 0.7812\n",
            "\n",
            "Epoch 00009: val_accuracy did not improve from 0.84375\n",
            "Epoch 10/100\n",
            "2/2 [==============================] - 51s 26s/step - loss: 0.1273 - accuracy: 0.9531 - val_loss: 0.4216 - val_accuracy: 0.7812\n",
            "\n",
            "Epoch 00010: val_accuracy did not improve from 0.84375\n",
            "Epoch 11/100\n",
            "2/2 [==============================] - 51s 25s/step - loss: 0.2017 - accuracy: 0.9062 - val_loss: 0.2852 - val_accuracy: 0.9062\n",
            "\n",
            "Epoch 00011: val_accuracy improved from 0.84375 to 0.90625, saving model to vgg16_1.h5\n",
            "Epoch 12/100\n",
            "2/2 [==============================] - 37s 19s/step - loss: 0.1043 - accuracy: 0.9531 - val_loss: 0.4113 - val_accuracy: 0.7500\n",
            "\n",
            "Epoch 00012: val_accuracy did not improve from 0.90625\n",
            "Epoch 13/100\n",
            "2/2 [==============================] - 52s 26s/step - loss: 0.1027 - accuracy: 0.9688 - val_loss: 0.4878 - val_accuracy: 0.8438\n",
            "\n",
            "Epoch 00013: val_accuracy did not improve from 0.90625\n",
            "Epoch 14/100\n",
            "2/2 [==============================] - 51s 26s/step - loss: 0.0461 - accuracy: 1.0000 - val_loss: 0.2047 - val_accuracy: 0.8750\n",
            "\n",
            "Epoch 00014: val_accuracy did not improve from 0.90625\n",
            "Epoch 15/100\n",
            "2/2 [==============================] - 51s 26s/step - loss: 0.0444 - accuracy: 1.0000 - val_loss: 0.2645 - val_accuracy: 0.8438\n",
            "\n",
            "Epoch 00015: val_accuracy did not improve from 0.90625\n",
            "Epoch 16/100\n",
            "2/2 [==============================] - 37s 19s/step - loss: 0.0348 - accuracy: 1.0000 - val_loss: 1.3274 - val_accuracy: 0.5000\n",
            "\n",
            "Epoch 00016: val_accuracy did not improve from 0.90625\n",
            "Epoch 17/100\n",
            "2/2 [==============================] - 52s 26s/step - loss: 0.0771 - accuracy: 0.9531 - val_loss: 0.2774 - val_accuracy: 0.9062\n",
            "\n",
            "Epoch 00017: val_accuracy did not improve from 0.90625\n",
            "Epoch 18/100\n",
            "2/2 [==============================] - 53s 26s/step - loss: 0.0713 - accuracy: 0.9688 - val_loss: 0.8668 - val_accuracy: 0.7188\n",
            "\n",
            "Epoch 00018: val_accuracy did not improve from 0.90625\n",
            "Epoch 19/100\n",
            "2/2 [==============================] - 51s 25s/step - loss: 0.0117 - accuracy: 1.0000 - val_loss: 0.1986 - val_accuracy: 0.9688\n",
            "\n",
            "Epoch 00019: val_accuracy improved from 0.90625 to 0.96875, saving model to vgg16_1.h5\n",
            "Epoch 20/100\n",
            "2/2 [==============================] - 38s 19s/step - loss: 0.0366 - accuracy: 1.0000 - val_loss: 0.4197 - val_accuracy: 0.7500\n",
            "\n",
            "Epoch 00020: val_accuracy did not improve from 0.96875\n",
            "Epoch 21/100\n",
            "2/2 [==============================] - 51s 25s/step - loss: 0.0113 - accuracy: 1.0000 - val_loss: 0.4387 - val_accuracy: 0.8750\n",
            "\n",
            "Epoch 00021: val_accuracy did not improve from 0.96875\n",
            "Epoch 22/100\n",
            "2/2 [==============================] - 51s 25s/step - loss: 0.0076 - accuracy: 1.0000 - val_loss: 0.6775 - val_accuracy: 0.8125\n",
            "\n",
            "Epoch 00022: val_accuracy did not improve from 0.96875\n",
            "Epoch 23/100\n",
            "2/2 [==============================] - 51s 25s/step - loss: 0.0199 - accuracy: 1.0000 - val_loss: 0.4470 - val_accuracy: 0.9062\n",
            "\n",
            "Epoch 00023: val_accuracy did not improve from 0.96875\n",
            "Epoch 24/100\n",
            "2/2 [==============================] - 37s 19s/step - loss: 0.0646 - accuracy: 0.9844 - val_loss: 0.1632 - val_accuracy: 1.0000\n",
            "\n",
            "Epoch 00024: val_accuracy improved from 0.96875 to 1.00000, saving model to vgg16_1.h5\n",
            "Epoch 25/100\n",
            "2/2 [==============================] - 52s 26s/step - loss: 0.0242 - accuracy: 1.0000 - val_loss: 0.2889 - val_accuracy: 0.9062\n",
            "\n",
            "Epoch 00025: val_accuracy did not improve from 1.00000\n",
            "Epoch 26/100\n",
            "2/2 [==============================] - 51s 26s/step - loss: 0.0105 - accuracy: 1.0000 - val_loss: 0.8452 - val_accuracy: 0.7812\n",
            "\n",
            "Epoch 00026: val_accuracy did not improve from 1.00000\n",
            "Epoch 27/100\n",
            "2/2 [==============================] - 51s 26s/step - loss: 0.0188 - accuracy: 1.0000 - val_loss: 0.2727 - val_accuracy: 0.8750\n",
            "\n",
            "Epoch 00027: val_accuracy did not improve from 1.00000\n",
            "Epoch 28/100\n",
            "2/2 [==============================] - 37s 19s/step - loss: 0.0457 - accuracy: 0.9688 - val_loss: 3.3497e-04 - val_accuracy: 1.0000\n",
            "\n",
            "Epoch 00028: val_accuracy did not improve from 1.00000\n",
            "Epoch 29/100\n",
            "2/2 [==============================] - 51s 25s/step - loss: 0.0130 - accuracy: 1.0000 - val_loss: 0.4990 - val_accuracy: 0.8125\n",
            "\n",
            "Epoch 00029: val_accuracy did not improve from 1.00000\n",
            "Epoch 30/100\n",
            "2/2 [==============================] - 51s 26s/step - loss: 0.0191 - accuracy: 1.0000 - val_loss: 0.4743 - val_accuracy: 0.8438\n",
            "\n",
            "Epoch 00030: val_accuracy did not improve from 1.00000\n",
            "Epoch 31/100\n",
            "2/2 [==============================] - 51s 25s/step - loss: 0.0717 - accuracy: 0.9688 - val_loss: 0.5009 - val_accuracy: 0.9062\n",
            "\n",
            "Epoch 00031: val_accuracy did not improve from 1.00000\n",
            "Epoch 32/100\n",
            "2/2 [==============================] - 37s 19s/step - loss: 0.0062 - accuracy: 1.0000 - val_loss: 0.0488 - val_accuracy: 1.0000\n",
            "\n",
            "Epoch 00032: val_accuracy did not improve from 1.00000\n",
            "Epoch 33/100\n",
            "2/2 [==============================] - 51s 26s/step - loss: 0.0225 - accuracy: 1.0000 - val_loss: 0.9989 - val_accuracy: 0.7188\n",
            "\n",
            "Epoch 00033: val_accuracy did not improve from 1.00000\n",
            "Epoch 34/100\n",
            "2/2 [==============================] - 51s 25s/step - loss: 0.0518 - accuracy: 0.9844 - val_loss: 0.6027 - val_accuracy: 0.8438\n",
            "\n",
            "Epoch 00034: val_accuracy did not improve from 1.00000\n",
            "Epoch 35/100\n",
            "2/2 [==============================] - 51s 26s/step - loss: 0.0028 - accuracy: 1.0000 - val_loss: 0.5265 - val_accuracy: 0.8438\n",
            "\n",
            "Epoch 00035: val_accuracy did not improve from 1.00000\n",
            "Epoch 36/100\n",
            "2/2 [==============================] - 37s 19s/step - loss: 0.0105 - accuracy: 1.0000 - val_loss: 2.2621e-04 - val_accuracy: 1.0000\n",
            "\n",
            "Epoch 00036: val_accuracy did not improve from 1.00000\n",
            "Epoch 37/100\n",
            "2/2 [==============================] - 51s 26s/step - loss: 0.0682 - accuracy: 0.9844 - val_loss: 0.8407 - val_accuracy: 0.7188\n",
            "\n",
            "Epoch 00037: val_accuracy did not improve from 1.00000\n",
            "Epoch 38/100\n",
            "2/2 [==============================] - 52s 26s/step - loss: 0.0390 - accuracy: 0.9844 - val_loss: 0.2495 - val_accuracy: 0.9375\n",
            "\n",
            "Epoch 00038: val_accuracy did not improve from 1.00000\n",
            "Epoch 39/100\n",
            "2/2 [==============================] - 51s 26s/step - loss: 0.0026 - accuracy: 1.0000 - val_loss: 0.4657 - val_accuracy: 0.8438\n",
            "\n",
            "Epoch 00039: val_accuracy did not improve from 1.00000\n",
            "Epoch 40/100\n",
            "2/2 [==============================] - 37s 19s/step - loss: 0.0137 - accuracy: 1.0000 - val_loss: 6.7424e-04 - val_accuracy: 1.0000\n",
            "\n",
            "Epoch 00040: val_accuracy did not improve from 1.00000\n",
            "Epoch 41/100\n",
            "2/2 [==============================] - 51s 25s/step - loss: 0.0211 - accuracy: 1.0000 - val_loss: 0.5849 - val_accuracy: 0.8125\n",
            "\n",
            "Epoch 00041: val_accuracy did not improve from 1.00000\n",
            "Epoch 42/100\n",
            "2/2 [==============================] - 51s 26s/step - loss: 0.0148 - accuracy: 1.0000 - val_loss: 0.4379 - val_accuracy: 0.8750\n",
            "\n",
            "Epoch 00042: val_accuracy did not improve from 1.00000\n",
            "Epoch 43/100\n",
            "2/2 [==============================] - 51s 26s/step - loss: 0.0134 - accuracy: 1.0000 - val_loss: 0.3974 - val_accuracy: 0.8438\n",
            "\n",
            "Epoch 00043: val_accuracy did not improve from 1.00000\n",
            "Epoch 44/100\n",
            "2/2 [==============================] - 37s 19s/step - loss: 0.0108 - accuracy: 1.0000 - val_loss: 6.0385e-04 - val_accuracy: 1.0000\n",
            "\n",
            "Epoch 00044: val_accuracy did not improve from 1.00000\n",
            "Epoch 45/100\n",
            "2/2 [==============================] - 51s 26s/step - loss: 0.0014 - accuracy: 1.0000 - val_loss: 0.6042 - val_accuracy: 0.8750\n",
            "\n",
            "Epoch 00045: val_accuracy did not improve from 1.00000\n",
            "Epoch 46/100\n",
            "2/2 [==============================] - 51s 25s/step - loss: 0.0582 - accuracy: 0.9844 - val_loss: 0.2713 - val_accuracy: 0.9062\n",
            "\n",
            "Epoch 00046: val_accuracy did not improve from 1.00000\n",
            "Epoch 47/100\n",
            "2/2 [==============================] - 51s 25s/step - loss: 0.0105 - accuracy: 1.0000 - val_loss: 0.4961 - val_accuracy: 0.8125\n",
            "\n",
            "Epoch 00047: val_accuracy did not improve from 1.00000\n",
            "Epoch 48/100\n",
            "2/2 [==============================] - 37s 19s/step - loss: 0.0050 - accuracy: 1.0000 - val_loss: 2.0632 - val_accuracy: 0.5000\n",
            "\n",
            "Epoch 00048: val_accuracy did not improve from 1.00000\n",
            "Epoch 49/100\n",
            "2/2 [==============================] - 51s 25s/step - loss: 0.0153 - accuracy: 1.0000 - val_loss: 0.5605 - val_accuracy: 0.8125\n",
            "\n",
            "Epoch 00049: val_accuracy did not improve from 1.00000\n",
            "Epoch 50/100\n",
            "2/2 [==============================] - 52s 26s/step - loss: 0.0031 - accuracy: 1.0000 - val_loss: 0.4588 - val_accuracy: 0.8438\n",
            "\n",
            "Epoch 00050: val_accuracy did not improve from 1.00000\n",
            "Epoch 51/100\n",
            "2/2 [==============================] - 51s 25s/step - loss: 0.0014 - accuracy: 1.0000 - val_loss: 0.4631 - val_accuracy: 0.8438\n",
            "\n",
            "Epoch 00051: val_accuracy did not improve from 1.00000\n",
            "Epoch 52/100\n",
            "2/2 [==============================] - 38s 19s/step - loss: 0.0030 - accuracy: 1.0000 - val_loss: 1.1193 - val_accuracy: 0.7500\n",
            "\n",
            "Epoch 00052: val_accuracy did not improve from 1.00000\n",
            "Epoch 53/100\n",
            "2/2 [==============================] - 51s 25s/step - loss: 0.0038 - accuracy: 1.0000 - val_loss: 0.3392 - val_accuracy: 0.8750\n",
            "\n",
            "Epoch 00053: val_accuracy did not improve from 1.00000\n",
            "Epoch 54/100\n",
            "2/2 [==============================] - 51s 25s/step - loss: 0.0046 - accuracy: 1.0000 - val_loss: 0.4578 - val_accuracy: 0.8438\n",
            "\n",
            "Epoch 00054: val_accuracy did not improve from 1.00000\n",
            "Epoch 55/100\n",
            "2/2 [==============================] - 51s 25s/step - loss: 0.0032 - accuracy: 1.0000 - val_loss: 0.6660 - val_accuracy: 0.8125\n",
            "\n",
            "Epoch 00055: val_accuracy did not improve from 1.00000\n",
            "Epoch 56/100\n",
            "2/2 [==============================] - 38s 19s/step - loss: 0.0019 - accuracy: 1.0000 - val_loss: 0.1945 - val_accuracy: 0.7500\n",
            "\n",
            "Epoch 00056: val_accuracy did not improve from 1.00000\n",
            "Epoch 57/100\n",
            "2/2 [==============================] - 51s 26s/step - loss: 0.0026 - accuracy: 1.0000 - val_loss: 0.3746 - val_accuracy: 0.8125\n",
            "\n",
            "Epoch 00057: val_accuracy did not improve from 1.00000\n",
            "Epoch 58/100\n",
            "2/2 [==============================] - 51s 25s/step - loss: 0.0028 - accuracy: 1.0000 - val_loss: 0.7508 - val_accuracy: 0.8438\n",
            "\n",
            "Epoch 00058: val_accuracy did not improve from 1.00000\n",
            "Epoch 59/100\n",
            "2/2 [==============================] - 51s 26s/step - loss: 0.0018 - accuracy: 1.0000 - val_loss: 0.4291 - val_accuracy: 0.8125\n",
            "\n",
            "Epoch 00059: val_accuracy did not improve from 1.00000\n",
            "Epoch 60/100\n",
            "2/2 [==============================] - 37s 18s/step - loss: 0.0056 - accuracy: 1.0000 - val_loss: 0.1091 - val_accuracy: 1.0000\n",
            "\n",
            "Epoch 00060: val_accuracy did not improve from 1.00000\n",
            "Epoch 61/100\n",
            "2/2 [==============================] - 51s 25s/step - loss: 0.0140 - accuracy: 1.0000 - val_loss: 0.5385 - val_accuracy: 0.8125\n",
            "\n",
            "Epoch 00061: val_accuracy did not improve from 1.00000\n",
            "Epoch 62/100\n",
            "2/2 [==============================] - 51s 26s/step - loss: 0.0088 - accuracy: 1.0000 - val_loss: 0.3424 - val_accuracy: 0.9062\n",
            "\n",
            "Epoch 00062: val_accuracy did not improve from 1.00000\n",
            "Epoch 63/100\n",
            "2/2 [==============================] - 52s 26s/step - loss: 0.0018 - accuracy: 1.0000 - val_loss: 0.7089 - val_accuracy: 0.8125\n",
            "\n",
            "Epoch 00063: val_accuracy did not improve from 1.00000\n",
            "Epoch 64/100\n",
            "2/2 [==============================] - 37s 19s/step - loss: 0.0054 - accuracy: 1.0000 - val_loss: 1.3710 - val_accuracy: 0.7500\n",
            "\n",
            "Epoch 00064: val_accuracy did not improve from 1.00000\n",
            "Epoch 65/100\n",
            "2/2 [==============================] - 51s 26s/step - loss: 0.0015 - accuracy: 1.0000 - val_loss: 0.4707 - val_accuracy: 0.8438\n",
            "\n",
            "Epoch 00065: val_accuracy did not improve from 1.00000\n",
            "Epoch 66/100\n",
            "2/2 [==============================] - 51s 26s/step - loss: 5.5116e-04 - accuracy: 1.0000 - val_loss: 0.3963 - val_accuracy: 0.9062\n",
            "\n",
            "Epoch 00066: val_accuracy did not improve from 1.00000\n",
            "Epoch 67/100\n",
            "2/2 [==============================] - 51s 26s/step - loss: 0.0044 - accuracy: 1.0000 - val_loss: 0.6010 - val_accuracy: 0.8750\n",
            "\n",
            "Epoch 00067: val_accuracy did not improve from 1.00000\n",
            "Epoch 68/100\n",
            "2/2 [==============================] - 37s 19s/step - loss: 6.7742e-04 - accuracy: 1.0000 - val_loss: 8.2253e-06 - val_accuracy: 1.0000\n",
            "\n",
            "Epoch 00068: val_accuracy did not improve from 1.00000\n",
            "Epoch 69/100\n",
            "2/2 [==============================] - 51s 26s/step - loss: 0.0065 - accuracy: 1.0000 - val_loss: 0.7669 - val_accuracy: 0.7812\n",
            "\n",
            "Epoch 00069: val_accuracy did not improve from 1.00000\n",
            "Epoch 70/100\n",
            "2/2 [==============================] - 51s 26s/step - loss: 7.5397e-04 - accuracy: 1.0000 - val_loss: 0.3189 - val_accuracy: 0.8750\n",
            "\n",
            "Epoch 00070: val_accuracy did not improve from 1.00000\n",
            "Epoch 71/100\n",
            "2/2 [==============================] - 51s 25s/step - loss: 0.0016 - accuracy: 1.0000 - val_loss: 0.4570 - val_accuracy: 0.8750\n",
            "\n",
            "Epoch 00071: val_accuracy did not improve from 1.00000\n",
            "Epoch 72/100\n",
            "2/2 [==============================] - 37s 18s/step - loss: 0.0037 - accuracy: 1.0000 - val_loss: 0.0063 - val_accuracy: 1.0000\n",
            "\n",
            "Epoch 00072: val_accuracy did not improve from 1.00000\n",
            "Epoch 73/100\n",
            "2/2 [==============================] - 51s 25s/step - loss: 0.0014 - accuracy: 1.0000 - val_loss: 0.7987 - val_accuracy: 0.7812\n",
            "\n",
            "Epoch 00073: val_accuracy did not improve from 1.00000\n",
            "Epoch 74/100\n",
            "2/2 [==============================] - 51s 25s/step - loss: 5.2723e-04 - accuracy: 1.0000 - val_loss: 0.4287 - val_accuracy: 0.8750\n",
            "\n",
            "Epoch 00074: val_accuracy did not improve from 1.00000\n",
            "Epoch 75/100\n",
            "2/2 [==============================] - 51s 26s/step - loss: 8.3309e-04 - accuracy: 1.0000 - val_loss: 0.2778 - val_accuracy: 0.8750\n",
            "\n",
            "Epoch 00075: val_accuracy did not improve from 1.00000\n",
            "Epoch 76/100\n",
            "2/2 [==============================] - 37s 19s/step - loss: 9.2746e-04 - accuracy: 1.0000 - val_loss: 4.9137e-04 - val_accuracy: 1.0000\n",
            "\n",
            "Epoch 00076: val_accuracy did not improve from 1.00000\n",
            "Epoch 77/100\n",
            "2/2 [==============================] - 51s 25s/step - loss: 0.0011 - accuracy: 1.0000 - val_loss: 0.2538 - val_accuracy: 0.8750\n",
            "\n",
            "Epoch 00077: val_accuracy did not improve from 1.00000\n",
            "Epoch 78/100\n",
            "2/2 [==============================] - 51s 25s/step - loss: 0.0012 - accuracy: 1.0000 - val_loss: 0.5684 - val_accuracy: 0.8125\n",
            "\n",
            "Epoch 00078: val_accuracy did not improve from 1.00000\n",
            "Epoch 79/100\n",
            "2/2 [==============================] - 51s 25s/step - loss: 0.0016 - accuracy: 1.0000 - val_loss: 0.7609 - val_accuracy: 0.8438\n",
            "\n",
            "Epoch 00079: val_accuracy did not improve from 1.00000\n",
            "Epoch 80/100\n",
            "2/2 [==============================] - 37s 18s/step - loss: 4.1022e-04 - accuracy: 1.0000 - val_loss: 0.0187 - val_accuracy: 1.0000\n",
            "\n",
            "Epoch 00080: val_accuracy did not improve from 1.00000\n",
            "Epoch 81/100\n",
            "2/2 [==============================] - 51s 25s/step - loss: 8.6725e-04 - accuracy: 1.0000 - val_loss: 0.5627 - val_accuracy: 0.8438\n",
            "\n",
            "Epoch 00081: val_accuracy did not improve from 1.00000\n",
            "Epoch 82/100\n",
            "2/2 [==============================] - 50s 25s/step - loss: 8.3063e-04 - accuracy: 1.0000 - val_loss: 0.4751 - val_accuracy: 0.8750\n",
            "\n",
            "Epoch 00082: val_accuracy did not improve from 1.00000\n",
            "Epoch 83/100\n",
            "2/2 [==============================] - 51s 25s/step - loss: 0.0018 - accuracy: 1.0000 - val_loss: 0.6684 - val_accuracy: 0.8125\n",
            "\n",
            "Epoch 00083: val_accuracy did not improve from 1.00000\n",
            "Epoch 84/100\n",
            "2/2 [==============================] - 37s 18s/step - loss: 0.0066 - accuracy: 1.0000 - val_loss: 0.0121 - val_accuracy: 1.0000\n",
            "\n",
            "Epoch 00084: val_accuracy did not improve from 1.00000\n",
            "Epoch 85/100\n",
            "2/2 [==============================] - 51s 25s/step - loss: 0.0014 - accuracy: 1.0000 - val_loss: 0.8120 - val_accuracy: 0.8125\n",
            "\n",
            "Epoch 00085: val_accuracy did not improve from 1.00000\n",
            "Epoch 86/100\n",
            "2/2 [==============================] - 51s 25s/step - loss: 9.5981e-04 - accuracy: 1.0000 - val_loss: 0.2262 - val_accuracy: 0.9375\n",
            "\n",
            "Epoch 00086: val_accuracy did not improve from 1.00000\n",
            "Epoch 87/100\n",
            "2/2 [==============================] - 51s 25s/step - loss: 6.6624e-04 - accuracy: 1.0000 - val_loss: 0.4029 - val_accuracy: 0.8438\n",
            "\n",
            "Epoch 00087: val_accuracy did not improve from 1.00000\n",
            "Epoch 88/100\n",
            "2/2 [==============================] - 38s 19s/step - loss: 0.0122 - accuracy: 1.0000 - val_loss: 7.3188e-05 - val_accuracy: 1.0000\n",
            "\n",
            "Epoch 00088: val_accuracy did not improve from 1.00000\n",
            "Epoch 89/100\n",
            "2/2 [==============================] - 51s 25s/step - loss: 2.1413e-04 - accuracy: 1.0000 - val_loss: 0.3621 - val_accuracy: 0.8750\n",
            "\n",
            "Epoch 00089: val_accuracy did not improve from 1.00000\n",
            "Epoch 90/100\n",
            "2/2 [==============================] - 51s 26s/step - loss: 0.0022 - accuracy: 1.0000 - val_loss: 0.6198 - val_accuracy: 0.8750\n",
            "\n",
            "Epoch 00090: val_accuracy did not improve from 1.00000\n",
            "Epoch 91/100\n",
            "2/2 [==============================] - 51s 25s/step - loss: 0.0022 - accuracy: 1.0000 - val_loss: 0.6559 - val_accuracy: 0.8125\n",
            "\n",
            "Epoch 00091: val_accuracy did not improve from 1.00000\n",
            "Epoch 92/100\n",
            "2/2 [==============================] - 37s 18s/step - loss: 0.0010 - accuracy: 1.0000 - val_loss: 2.7686e-04 - val_accuracy: 1.0000\n",
            "\n",
            "Epoch 00092: val_accuracy did not improve from 1.00000\n",
            "Epoch 93/100\n",
            "2/2 [==============================] - 51s 25s/step - loss: 0.0042 - accuracy: 1.0000 - val_loss: 0.3366 - val_accuracy: 0.9062\n",
            "\n",
            "Epoch 00093: val_accuracy did not improve from 1.00000\n",
            "Epoch 94/100\n",
            "2/2 [==============================] - 51s 25s/step - loss: 0.0015 - accuracy: 1.0000 - val_loss: 0.7707 - val_accuracy: 0.8438\n",
            "\n",
            "Epoch 00094: val_accuracy did not improve from 1.00000\n",
            "Epoch 95/100\n",
            "2/2 [==============================] - 51s 26s/step - loss: 3.6795e-04 - accuracy: 1.0000 - val_loss: 0.7261 - val_accuracy: 0.7812\n",
            "\n",
            "Epoch 00095: val_accuracy did not improve from 1.00000\n",
            "Epoch 96/100\n",
            "2/2 [==============================] - 37s 18s/step - loss: 0.0019 - accuracy: 1.0000 - val_loss: 3.6955e-06 - val_accuracy: 1.0000\n",
            "\n",
            "Epoch 00096: val_accuracy did not improve from 1.00000\n",
            "Epoch 97/100\n",
            "2/2 [==============================] - 51s 25s/step - loss: 7.4401e-04 - accuracy: 1.0000 - val_loss: 0.4972 - val_accuracy: 0.8125\n",
            "\n",
            "Epoch 00097: val_accuracy did not improve from 1.00000\n",
            "Epoch 98/100\n",
            "2/2 [==============================] - 51s 25s/step - loss: 3.4456e-04 - accuracy: 1.0000 - val_loss: 0.4123 - val_accuracy: 0.9062\n",
            "\n",
            "Epoch 00098: val_accuracy did not improve from 1.00000\n",
            "Epoch 99/100\n",
            "2/2 [==============================] - 51s 25s/step - loss: 9.4633e-04 - accuracy: 1.0000 - val_loss: 0.9383 - val_accuracy: 0.8438\n",
            "\n",
            "Epoch 00099: val_accuracy did not improve from 1.00000\n",
            "Epoch 100/100\n",
            "2/2 [==============================] - 37s 19s/step - loss: 8.0872e-04 - accuracy: 1.0000 - val_loss: 8.2896e-05 - val_accuracy: 1.0000\n",
            "\n",
            "Epoch 00100: val_accuracy did not improve from 1.00000\n"
          ],
          "name": "stdout"
        }
      ]
    },
    {
      "cell_type": "code",
      "metadata": {
        "id": "YtQxWrIlPU_M",
        "colab_type": "code",
        "colab": {
          "base_uri": "https://localhost:8080/",
          "height": 295
        },
        "outputId": "5be76ecf-a111-4ef0-e7b5-f232d315c99c"
      },
      "source": [
        "import matplotlib.pyplot as plt\n",
        "plt.plot(hist.history[\"accuracy\"])\n",
        "plt.plot(hist.history['val_accuracy'])\n",
        "\n",
        "plt.title(\"model accuracy\")\n",
        "plt.ylabel(\"Accuracy\")\n",
        "plt.xlabel(\"Epoch\")\n",
        "plt.legend([\"Accuracy\",\"Validation Accuracy\"])\n",
        "plt.show()"
      ],
      "execution_count": 63,
      "outputs": [
        {
          "output_type": "display_data",
          "data": {
            "image/png": "[encoded data removed]",
            "text/plain": [
              "<Figure size 432x288 with 1 Axes>"
            ]
          },
          "metadata": {
            "tags": [],
            "needs_background": "light"
          }
        }
      ]
    },
    {
      "cell_type": "code",
      "metadata": {
        "id": "EsjZHi9jaU4Y",
        "colab_type": "code",
        "colab": {
          "base_uri": "https://localhost:8080/",
          "height": 279
        },
        "outputId": "3d4fdd7f-beef-49de-81cf-61540013c250"
      },
      "source": [
        "plt.plot(hist.history['loss'])\n",
        "plt.plot(hist.history['val_loss'])\n",
        "plt.ylabel(\"Loss\")\n",
        "plt.xlabel(\"Epoch\")\n",
        "plt.legend([\"loss\",\"Validation Loss\"])\n",
        "plt.show()"
      ],
      "execution_count": 64,
      "outputs": [
        {
          "output_type": "display_data",
          "data": {
            "image/png": "[encoded data removed]",
            "text/plain": [
              "<Figure size 432x288 with 1 Axes>"
            ]
          },
          "metadata": {
            "tags": [],
            "needs_background": "light"
          }
        }
      ]
    },
    {
      "cell_type": "code",
      "metadata": {
        "id": "_2GdDycwS52M",
        "colab_type": "code",
        "colab": {}
      },
      "source": [
        "from keras.preprocessing.image import ImageDataGenerator\n",
        "from sklearn.metrics import classification_report, confusion_matrix\n",
        "\n",
        "test_datagen = ImageDataGenerator()"
      ],
      "execution_count": 65,
      "outputs": []
    },
    {
      "cell_type": "code",
      "metadata": {
        "id": "9-fknWZIS-CT",
        "colab_type": "code",
        "colab": {
          "base_uri": "https://localhost:8080/",
          "height": 34
        },
        "outputId": "c920a2ff-3fc8-4bd9-8445-68c1069c1cd7"
      },
      "source": [
        "validation_generator = test_datagen.flow_from_directory('/content/drive/My Drive/data_ouput/test',\n",
        "                                                        target_size=(224, 224),\n",
        "                                                        batch_size=32,\n",
        "                                                        class_mode='categorical')"
      ],
      "execution_count": 66,
      "outputs": [
        {
          "output_type": "stream",
          "text": [
            "Found 100 images belonging to 4 classes.\n"
          ],
          "name": "stdout"
        }
      ]
    },
    {
      "cell_type": "code",
      "metadata": {
        "id": "RSoXpGKcTEnR",
        "colab_type": "code",
        "colab": {
          "base_uri": "https://localhost:8080/",
          "height": 306
        },
        "outputId": "32486af1-4fcf-42fc-f3ff-19fafc091b57"
      },
      "source": [
        "import numpy as np\n",
        "#Confution Matrix and Classification Report\n",
        "Y_pred = model_final.predict_generator(validation_generator)\n",
        "y_pred = np.argmax(Y_pred, axis=1)\n",
        "print('Confusion Matrix')\n",
        "print(confusion_matrix(validation_generator.classes, y_pred))\n",
        "print('Classification Report')\n",
        "target_names = ['grade0', 'grade1', 'grade2','grade3']\n",
        "print(classification_report(validation_generator.classes, y_pred, target_names=target_names))"
      ],
      "execution_count": 67,
      "outputs": [
        {
          "output_type": "stream",
          "text": [
            "Confusion Matrix\n",
            "[[ 4  5  8  8]\n",
            " [ 4  6  6  9]\n",
            " [ 5 11  5  4]\n",
            " [10  5  5  5]]\n",
            "Classification Report\n",
            "              precision    recall  f1-score   support\n",
            "\n",
            "      grade0       0.17      0.16      0.17        25\n",
            "      grade1       0.22      0.24      0.23        25\n",
            "      grade2       0.21      0.20      0.20        25\n",
            "      grade3       0.19      0.20      0.20        25\n",
            "\n",
            "    accuracy                           0.20       100\n",
            "   macro avg       0.20      0.20      0.20       100\n",
            "weighted avg       0.20      0.20      0.20       100\n",
            "\n"
          ],
          "name": "stdout"
        }
      ]
    },
    {
      "cell_type": "code",
      "metadata": {
        "id": "B-E18MG6VMMN",
        "colab_type": "code",
        "colab": {
          "base_uri": "https://localhost:8080/",
          "height": 269
        },
        "outputId": "8c2e0646-7c1d-48ad-b2db-c44c9103be07"
      },
      "source": [
        "from keras.preprocessing import image\n",
        "import matplotlib.pyplot as plt\n",
        "\n",
        "img = image.load_img(\"/content/drive/My Drive/data_ouput/test/grade1/grade1-079.jpg\",target_size=(224,224))\n",
        "img = np.asarray(img)\n",
        "plt.imshow(img)\n",
        "img = np.expand_dims(img, axis=0)"
      ],
      "execution_count": 68,
      "outputs": [
        {
          "output_type": "display_data",
          "data": {
            "image/png": "[encoded data removed]",
            "text/plain": [
              "<Figure size 432x288 with 1 Axes>"
            ]
          },
          "metadata": {
            "tags": [],
            "needs_background": "light"
          }
        }
      ]
    },
    {
      "cell_type": "code",
      "metadata": {
        "id": "Ux21nwVeV0mE",
        "colab_type": "code",
        "colab": {}
      },
      "source": [
        "output = model_final.predict(img)"
      ],
      "execution_count": 69,
      "outputs": []
    },
    {
      "cell_type": "code",
      "metadata": {
        "id": "crw2NNGyV7kN",
        "colab_type": "code",
        "colab": {
          "base_uri": "https://localhost:8080/",
          "height": 34
        },
        "outputId": "f42be5c4-cb99-488c-9d22-fcc76d77d457"
      },
      "source": [
        "output\n",
        "ans='grade'+str(np.argmax(output[0],axis=0))\n",
        "print(ans)"
      ],
      "execution_count": 70,
      "outputs": [
        {
          "output_type": "stream",
          "text": [
            "grade1\n"
          ],
          "name": "stdout"
        }
      ]
    },
    {
      "cell_type": "code",
      "metadata": {
        "id": "YbH-5BZmX-K4",
        "colab_type": "code",
        "colab": {
          "base_uri": "https://localhost:8080/",
          "height": 153
        },
        "outputId": "a4078e2f-2b24-4800-af3b-8fee3d4ac241"
      },
      "source": [
        "import os\n",
        "data_path='/content/drive/My Drive/data_ouput/test'\n",
        "data_dir_list=os.listdir(data_path)\n",
        "for dataset in data_dir_list:\n",
        "  print(dataset)\n",
        "  img_list=os.listdir(data_path+'/'+dataset)\n",
        "  correctCount=0\n",
        "  wrongCount=0\n",
        "  for img in img_list:\n",
        "    img_path=data_path+'/'+dataset+'/'+img\n",
        "    input_image = image.load_img(img_path,target_size=(224,224))\n",
        "    input_image = np.asarray(input_image)\n",
        "    input_image = np.expand_dims(input_image, axis=0)\n",
        "    output = model_final.predict(input_image)\n",
        "    ans='grade'+str(np.argmax(output[0],axis=0))\n",
        "    if( ans in img):\n",
        "      correctCount+=1\n",
        "    else:\n",
        "      wrongCount+=1\n",
        "  print(\"correct Count {} WrongCount {}\".format(correctCount,wrongCount))\n",
        "\n",
        "\n"
      ],
      "execution_count": 71,
      "outputs": [
        {
          "output_type": "stream",
          "text": [
            "grade1\n",
            "correct Count 21 WrongCount 4\n",
            "grade0\n",
            "correct Count 22 WrongCount 3\n",
            "grade2\n",
            "correct Count 22 WrongCount 3\n",
            "grade3\n",
            "correct Count 23 WrongCount 2\n"
          ],
          "name": "stdout"
        }
      ]
    },
    {
      "cell_type": "code",
      "metadata": {
        "id": "Ml4QAr_Avw2T",
        "colab_type": "code",
        "colab": {
          "base_uri": "https://localhost:8080/",
          "height": 51
        },
        "outputId": "12f15c02-6b12-48ad-ad28-a3ef29e71778"
      },
      "source": [
        "tr_loss,tr_acc=model_final.evaluate(validation_generator)\n",
        "tr_acc"
      ],
      "execution_count": 72,
      "outputs": [
        {
          "output_type": "stream",
          "text": [
            "4/4 [==============================] - 51s 13s/step\n"
          ],
          "name": "stdout"
        },
        {
          "output_type": "execute_result",
          "data": {
            "text/plain": [
              "0.8799999952316284"
            ]
          },
          "metadata": {
            "tags": []
          },
          "execution_count": 72
        }
      ]
    },
    {
      "cell_type": "code",
      "metadata": {
        "id": "R6Fx71JwgONy",
        "colab_type": "code",
        "colab": {}
      },
      "source": [
        ""
      ],
      "execution_count": null,
      "outputs": []
    },
    {
      "cell_type": "code",
      "metadata": {
        "id": "PiiV053i4At7",
        "colab_type": "code",
        "colab": {}
      },
      "source": [
        "model_final.save('/content/drive/My Drive/Best models/modelbest.h5')"
      ],
      "execution_count": 55,
      "outputs": []
    }
  ]
}