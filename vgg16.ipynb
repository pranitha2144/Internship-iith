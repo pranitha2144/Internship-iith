{
  "nbformat": 4,
  "nbformat_minor": 0,
  "metadata": {
    "colab": {
      "name": "vgg16",
      "provenance": [],
      "mount_file_id": "1IhyoGy7EHEgj120Y7aEt15WFbYJP6aXH",
      "authorship_tag": "ABX9TyMx21sMOy5KR9/PUip48gTG",
      "include_colab_link": true
    },
    "kernelspec": {
      "name": "python3",
      "display_name": "Python 3"
    }
  },
  "cells": [
    {
      "cell_type": "markdown",
      "metadata": {
        "id": "view-in-github",
        "colab_type": "text"
      },
      "source": [
        "<a href=\"https://colab.research.google.com/github/pranitha2144/Internship-iith/blob/Resnet/vgg16.ipynb\" target=\"_parent\"><img src=\"https://colab.research.google.com/assets/colab-badge.svg\" alt=\"Open In Colab\"/></a>"
      ]
    },
    {
      "cell_type": "code",
      "metadata": {
        "id": "3i-5qcxM7pSC",
        "colab_type": "code",
        "colab": {}
      },
      "source": [
        "import keras\n",
        "from keras.models import Model\n",
        "from keras.layers import Dense,Dropout\n",
        "from keras import optimizers\n",
        "from keras.preprocessing.image import ImageDataGenerator\n",
        "from keras.preprocessing import image"
      ],
      "execution_count": 22,
      "outputs": []
    },
    {
      "cell_type": "code",
      "metadata": {
        "id": "P_NCAugx70fs",
        "colab_type": "code",
        "colab": {
          "base_uri": "https://localhost:8080/",
          "height": 51
        },
        "outputId": "5b439ca5-5f2b-4919-d3a4-3f465ac206ff"
      },
      "source": [
        "trdata = ImageDataGenerator()\n",
        "traindata = trdata.flow_from_directory(directory=\"/content/drive/My Drive/data_ouput/train\",target_size=(224,224))\n",
        "tsdata = ImageDataGenerator()\n",
        "testdata = tsdata.flow_from_directory(directory=\"/content/drive/My Drive/data_ouput/val\", target_size=(224,224))"
      ],
      "execution_count": 23,
      "outputs": [
        {
          "output_type": "stream",
          "text": [
            "Found 800 images belonging to 4 classes.\n",
            "Found 100 images belonging to 4 classes.\n"
          ],
          "name": "stdout"
        }
      ]
    },
    {
      "cell_type": "code",
      "metadata": {
        "id": "rg_JdtWb8O00",
        "colab_type": "code",
        "colab": {}
      },
      "source": [
        "from keras.applications.vgg16 import VGG16\n",
        "vggmodel = VGG16(weights='imagenet', include_top=True)"
      ],
      "execution_count": 24,
      "outputs": []
    },
    {
      "cell_type": "code",
      "metadata": {
        "id": "PKuEFjHt8TfJ",
        "colab_type": "code",
        "colab": {
          "base_uri": "https://localhost:8080/",
          "height": 935
        },
        "outputId": "835da3c0-57bd-448d-fff8-26684c1631d1"
      },
      "source": [
        "vggmodel.summary()"
      ],
      "execution_count": 25,
      "outputs": [
        {
          "output_type": "stream",
          "text": [
            "Model: \"vgg16\"\n",
            "_________________________________________________________________\n",
            "Layer (type)                 Output Shape              Param #   \n",
            "=================================================================\n",
            "input_2 (InputLayer)         (None, 224, 224, 3)       0         \n",
            "_________________________________________________________________\n",
            "block1_conv1 (Conv2D)        (None, 224, 224, 64)      1792      \n",
            "_________________________________________________________________\n",
            "block1_conv2 (Conv2D)        (None, 224, 224, 64)      36928     \n",
            "_________________________________________________________________\n",
            "block1_pool (MaxPooling2D)   (None, 112, 112, 64)      0         \n",
            "_________________________________________________________________\n",
            "block2_conv1 (Conv2D)        (None, 112, 112, 128)     73856     \n",
            "_________________________________________________________________\n",
            "block2_conv2 (Conv2D)        (None, 112, 112, 128)     147584    \n",
            "_________________________________________________________________\n",
            "block2_pool (MaxPooling2D)   (None, 56, 56, 128)       0         \n",
            "_________________________________________________________________\n",
            "block3_conv1 (Conv2D)        (None, 56, 56, 256)       295168    \n",
            "_________________________________________________________________\n",
            "block3_conv2 (Conv2D)        (None, 56, 56, 256)       590080    \n",
            "_________________________________________________________________\n",
            "block3_conv3 (Conv2D)        (None, 56, 56, 256)       590080    \n",
            "_________________________________________________________________\n",
            "block3_pool (MaxPooling2D)   (None, 28, 28, 256)       0         \n",
            "_________________________________________________________________\n",
            "block4_conv1 (Conv2D)        (None, 28, 28, 512)       1180160   \n",
            "_________________________________________________________________\n",
            "block4_conv2 (Conv2D)        (None, 28, 28, 512)       2359808   \n",
            "_________________________________________________________________\n",
            "block4_conv3 (Conv2D)        (None, 28, 28, 512)       2359808   \n",
            "_________________________________________________________________\n",
            "block4_pool (MaxPooling2D)   (None, 14, 14, 512)       0         \n",
            "_________________________________________________________________\n",
            "block5_conv1 (Conv2D)        (None, 14, 14, 512)       2359808   \n",
            "_________________________________________________________________\n",
            "block5_conv2 (Conv2D)        (None, 14, 14, 512)       2359808   \n",
            "_________________________________________________________________\n",
            "block5_conv3 (Conv2D)        (None, 14, 14, 512)       2359808   \n",
            "_________________________________________________________________\n",
            "block5_pool (MaxPooling2D)   (None, 7, 7, 512)         0         \n",
            "_________________________________________________________________\n",
            "flatten (Flatten)            (None, 25088)             0         \n",
            "_________________________________________________________________\n",
            "fc1 (Dense)                  (None, 4096)              102764544 \n",
            "_________________________________________________________________\n",
            "fc2 (Dense)                  (None, 4096)              16781312  \n",
            "_________________________________________________________________\n",
            "predictions (Dense)          (None, 1000)              4097000   \n",
            "=================================================================\n",
            "Total params: 138,357,544\n",
            "Trainable params: 138,357,544\n",
            "Non-trainable params: 0\n",
            "_________________________________________________________________\n"
          ],
          "name": "stdout"
        }
      ]
    },
    {
      "cell_type": "code",
      "metadata": {
        "id": "GG60hKI68aWo",
        "colab_type": "code",
        "colab": {
          "base_uri": "https://localhost:8080/",
          "height": 340
        },
        "outputId": "cb6c9154-78dc-40e7-9b6e-26dbeae14a75"
      },
      "source": [
        "for layers in (vggmodel.layers)[:19]:\n",
        "    print(layers)\n",
        "    layers.trainable = False"
      ],
      "execution_count": 26,
      "outputs": [
        {
          "output_type": "stream",
          "text": [
            "<keras.engine.input_layer.InputLayer object at 0x7fea8a830e10>\n",
            "<keras.layers.convolutional.Conv2D object at 0x7fea8866b518>\n",
            "<keras.layers.convolutional.Conv2D object at 0x7fea8866b550>\n",
            "<keras.layers.pooling.MaxPooling2D object at 0x7fea8862d160>\n",
            "<keras.layers.convolutional.Conv2D object at 0x7fea8862d3c8>\n",
            "<keras.layers.convolutional.Conv2D object at 0x7fea886837f0>\n",
            "<keras.layers.pooling.MaxPooling2D object at 0x7fea885f25f8>\n",
            "<keras.layers.convolutional.Conv2D object at 0x7fea885f2438>\n",
            "<keras.layers.convolutional.Conv2D object at 0x7fea88632c50>\n",
            "<keras.layers.convolutional.Conv2D object at 0x7fea885f2e10>\n",
            "<keras.layers.pooling.MaxPooling2D object at 0x7fea885fbbe0>\n",
            "<keras.layers.convolutional.Conv2D object at 0x7fea885fba20>\n",
            "<keras.layers.convolutional.Conv2D object at 0x7fea885ff710>\n",
            "<keras.layers.convolutional.Conv2D object at 0x7fea886042e8>\n",
            "<keras.layers.pooling.MaxPooling2D object at 0x7fea88604d30>\n",
            "<keras.layers.convolutional.Conv2D object at 0x7fea88604b70>\n",
            "<keras.layers.convolutional.Conv2D object at 0x7fea886085f8>\n",
            "<keras.layers.convolutional.Conv2D object at 0x7fea88611438>\n",
            "<keras.layers.pooling.MaxPooling2D object at 0x7fea88611e80>\n"
          ],
          "name": "stdout"
        }
      ]
    },
    {
      "cell_type": "code",
      "metadata": {
        "id": "59taDHdJ8ikh",
        "colab_type": "code",
        "colab": {
          "base_uri": "https://localhost:8080/",
          "height": 71
        },
        "outputId": "be9d0a29-7f3a-40fd-9caf-942a75b5e492"
      },
      "source": [
        "X= vggmodel.layers[-2].output\n",
        "\n",
        "predictions = Dense(4, activation=\"softmax\")(X)\n",
        "model_final = Model(input = vggmodel.input, output = predictions)\n"
      ],
      "execution_count": 27,
      "outputs": [
        {
          "output_type": "stream",
          "text": [
            "/usr/local/lib/python3.6/dist-packages/ipykernel_launcher.py:4: UserWarning: Update your `Model` call to the Keras 2 API: `Model(inputs=Tensor(\"in..., outputs=Tensor(\"de...)`\n",
            "  after removing the cwd from sys.path.\n"
          ],
          "name": "stderr"
        }
      ]
    },
    {
      "cell_type": "code",
      "metadata": {
        "id": "vFYbGbdq8vg8",
        "colab_type": "code",
        "colab": {}
      },
      "source": [
        "model_final.compile(loss = \"categorical_crossentropy\", optimizer = optimizers.Adam(lr=0.0001), metrics=[\"accuracy\"])"
      ],
      "execution_count": 28,
      "outputs": []
    },
    {
      "cell_type": "code",
      "metadata": {
        "id": "i6yUCcd08xum",
        "colab_type": "code",
        "colab": {
          "base_uri": "https://localhost:8080/",
          "height": 935
        },
        "outputId": "c002d6b9-435d-4d14-9169-5b2fbd2608d8"
      },
      "source": [
        "model_final.summary()"
      ],
      "execution_count": 29,
      "outputs": [
        {
          "output_type": "stream",
          "text": [
            "Model: \"model_2\"\n",
            "_________________________________________________________________\n",
            "Layer (type)                 Output Shape              Param #   \n",
            "=================================================================\n",
            "input_2 (InputLayer)         (None, 224, 224, 3)       0         \n",
            "_________________________________________________________________\n",
            "block1_conv1 (Conv2D)        (None, 224, 224, 64)      1792      \n",
            "_________________________________________________________________\n",
            "block1_conv2 (Conv2D)        (None, 224, 224, 64)      36928     \n",
            "_________________________________________________________________\n",
            "block1_pool (MaxPooling2D)   (None, 112, 112, 64)      0         \n",
            "_________________________________________________________________\n",
            "block2_conv1 (Conv2D)        (None, 112, 112, 128)     73856     \n",
            "_________________________________________________________________\n",
            "block2_conv2 (Conv2D)        (None, 112, 112, 128)     147584    \n",
            "_________________________________________________________________\n",
            "block2_pool (MaxPooling2D)   (None, 56, 56, 128)       0         \n",
            "_________________________________________________________________\n",
            "block3_conv1 (Conv2D)        (None, 56, 56, 256)       295168    \n",
            "_________________________________________________________________\n",
            "block3_conv2 (Conv2D)        (None, 56, 56, 256)       590080    \n",
            "_________________________________________________________________\n",
            "block3_conv3 (Conv2D)        (None, 56, 56, 256)       590080    \n",
            "_________________________________________________________________\n",
            "block3_pool (MaxPooling2D)   (None, 28, 28, 256)       0         \n",
            "_________________________________________________________________\n",
            "block4_conv1 (Conv2D)        (None, 28, 28, 512)       1180160   \n",
            "_________________________________________________________________\n",
            "block4_conv2 (Conv2D)        (None, 28, 28, 512)       2359808   \n",
            "_________________________________________________________________\n",
            "block4_conv3 (Conv2D)        (None, 28, 28, 512)       2359808   \n",
            "_________________________________________________________________\n",
            "block4_pool (MaxPooling2D)   (None, 14, 14, 512)       0         \n",
            "_________________________________________________________________\n",
            "block5_conv1 (Conv2D)        (None, 14, 14, 512)       2359808   \n",
            "_________________________________________________________________\n",
            "block5_conv2 (Conv2D)        (None, 14, 14, 512)       2359808   \n",
            "_________________________________________________________________\n",
            "block5_conv3 (Conv2D)        (None, 14, 14, 512)       2359808   \n",
            "_________________________________________________________________\n",
            "block5_pool (MaxPooling2D)   (None, 7, 7, 512)         0         \n",
            "_________________________________________________________________\n",
            "flatten (Flatten)            (None, 25088)             0         \n",
            "_________________________________________________________________\n",
            "fc1 (Dense)                  (None, 4096)              102764544 \n",
            "_________________________________________________________________\n",
            "fc2 (Dense)                  (None, 4096)              16781312  \n",
            "_________________________________________________________________\n",
            "dense_5 (Dense)              (None, 4)                 16388     \n",
            "=================================================================\n",
            "Total params: 134,276,932\n",
            "Trainable params: 119,562,244\n",
            "Non-trainable params: 14,714,688\n",
            "_________________________________________________________________\n"
          ],
          "name": "stdout"
        }
      ]
    },
    {
      "cell_type": "code",
      "metadata": {
        "id": "UIV1Rie889QA",
        "colab_type": "code",
        "colab": {
          "base_uri": "https://localhost:8080/",
          "height": 1000
        },
        "outputId": "934f03ad-b3de-4a8d-a089-ffcea4c778e6"
      },
      "source": [
        "from keras.callbacks import ModelCheckpoint, EarlyStopping\n",
        "checkpoint = ModelCheckpoint(\"vgg16_1.h5\", monitor='val_accuracy', verbose=1, save_best_only=True, save_weights_only=False, mode='auto', period=1)\n",
        "early = EarlyStopping(monitor='val_acc', min_delta=0, patience=40, verbose=1, mode='auto')\n",
        "hist=model_final.fit(traindata, steps_per_epoch= 2, epochs= 100, validation_data= testdata, validation_steps=1, callbacks=[checkpoint,early])\n",
        "model_final.save_weights(\"vgg16_1.h5\")"
      ],
      "execution_count": 30,
      "outputs": [
        {
          "output_type": "stream",
          "text": [
            "Epoch 1/100\n",
            "2/2 [==============================] - 47s 24s/step - loss: 2.3059 - accuracy: 0.4844 - val_loss: 1.8400 - val_accuracy: 0.6875\n",
            "\n",
            "Epoch 00001: val_accuracy improved from -inf to 0.68750, saving model to vgg16_1.h5\n"
          ],
          "name": "stdout"
        },
        {
          "output_type": "stream",
          "text": [
            "/usr/local/lib/python3.6/dist-packages/keras/callbacks/callbacks.py:846: RuntimeWarning: Early stopping conditioned on metric `val_acc` which is not available. Available metrics are: val_loss,val_accuracy,loss,accuracy\n",
            "  (self.monitor, ','.join(list(logs.keys()))), RuntimeWarning\n"
          ],
          "name": "stderr"
        },
        {
          "output_type": "stream",
          "text": [
            "Epoch 2/100\n",
            "2/2 [==============================] - 46s 23s/step - loss: 1.1480 - accuracy: 0.7188 - val_loss: 0.6944 - val_accuracy: 0.6875\n",
            "\n",
            "Epoch 00002: val_accuracy did not improve from 0.68750\n",
            "Epoch 3/100\n",
            "2/2 [==============================] - 46s 23s/step - loss: 0.7666 - accuracy: 0.7188 - val_loss: 0.5533 - val_accuracy: 0.7812\n",
            "\n",
            "Epoch 00003: val_accuracy improved from 0.68750 to 0.78125, saving model to vgg16_1.h5\n",
            "Epoch 4/100\n",
            "2/2 [==============================] - 34s 17s/step - loss: 0.7177 - accuracy: 0.8125 - val_loss: 0.6221 - val_accuracy: 0.7500\n",
            "\n",
            "Epoch 00004: val_accuracy did not improve from 0.78125\n",
            "Epoch 5/100\n",
            "2/2 [==============================] - 45s 23s/step - loss: 0.6446 - accuracy: 0.7500 - val_loss: 0.5162 - val_accuracy: 0.8438\n",
            "\n",
            "Epoch 00005: val_accuracy improved from 0.78125 to 0.84375, saving model to vgg16_1.h5\n",
            "Epoch 6/100\n",
            "2/2 [==============================] - 46s 23s/step - loss: 0.4995 - accuracy: 0.7969 - val_loss: 0.5963 - val_accuracy: 0.6875\n",
            "\n",
            "Epoch 00006: val_accuracy did not improve from 0.84375\n",
            "Epoch 7/100\n",
            "2/2 [==============================] - 46s 23s/step - loss: 0.5808 - accuracy: 0.7188 - val_loss: 0.6478 - val_accuracy: 0.6562\n",
            "\n",
            "Epoch 00007: val_accuracy did not improve from 0.84375\n",
            "Epoch 8/100\n",
            "2/2 [==============================] - 33s 17s/step - loss: 0.6087 - accuracy: 0.7656 - val_loss: 0.2462 - val_accuracy: 1.0000\n",
            "\n",
            "Epoch 00008: val_accuracy improved from 0.84375 to 1.00000, saving model to vgg16_1.h5\n",
            "Epoch 9/100\n",
            "2/2 [==============================] - 45s 23s/step - loss: 0.4056 - accuracy: 0.8594 - val_loss: 0.6028 - val_accuracy: 0.7188\n",
            "\n",
            "Epoch 00009: val_accuracy did not improve from 1.00000\n",
            "Epoch 10/100\n",
            "2/2 [==============================] - 46s 23s/step - loss: 0.2370 - accuracy: 0.9688 - val_loss: 0.3858 - val_accuracy: 0.8438\n",
            "\n",
            "Epoch 00010: val_accuracy did not improve from 1.00000\n",
            "Epoch 11/100\n",
            "2/2 [==============================] - 45s 23s/step - loss: 0.4700 - accuracy: 0.7812 - val_loss: 0.3387 - val_accuracy: 0.8438\n",
            "\n",
            "Epoch 00011: val_accuracy did not improve from 1.00000\n",
            "Epoch 12/100\n",
            "2/2 [==============================] - 33s 17s/step - loss: 0.2573 - accuracy: 0.9062 - val_loss: 0.3313 - val_accuracy: 0.7500\n",
            "\n",
            "Epoch 00012: val_accuracy did not improve from 1.00000\n",
            "Epoch 13/100\n",
            "2/2 [==============================] - 47s 23s/step - loss: 0.1389 - accuracy: 0.9844 - val_loss: 0.5902 - val_accuracy: 0.7188\n",
            "\n",
            "Epoch 00013: val_accuracy did not improve from 1.00000\n",
            "Epoch 14/100\n",
            "2/2 [==============================] - 46s 23s/step - loss: 0.2232 - accuracy: 0.8906 - val_loss: 0.4649 - val_accuracy: 0.7812\n",
            "\n",
            "Epoch 00014: val_accuracy did not improve from 1.00000\n",
            "Epoch 15/100\n",
            "2/2 [==============================] - 47s 23s/step - loss: 0.3720 - accuracy: 0.8594 - val_loss: 0.3650 - val_accuracy: 0.8438\n",
            "\n",
            "Epoch 00015: val_accuracy did not improve from 1.00000\n",
            "Epoch 16/100\n",
            "2/2 [==============================] - 33s 17s/step - loss: 0.2559 - accuracy: 0.9062 - val_loss: 0.1798 - val_accuracy: 1.0000\n",
            "\n",
            "Epoch 00016: val_accuracy did not improve from 1.00000\n",
            "Epoch 17/100\n",
            "2/2 [==============================] - 46s 23s/step - loss: 0.1873 - accuracy: 0.9531 - val_loss: 0.3233 - val_accuracy: 0.8438\n",
            "\n",
            "Epoch 00017: val_accuracy did not improve from 1.00000\n",
            "Epoch 18/100\n",
            "2/2 [==============================] - 48s 24s/step - loss: 0.2410 - accuracy: 0.9531 - val_loss: 0.5148 - val_accuracy: 0.8125\n",
            "\n",
            "Epoch 00018: val_accuracy did not improve from 1.00000\n",
            "Epoch 19/100\n",
            "2/2 [==============================] - 48s 24s/step - loss: 0.2541 - accuracy: 0.9062 - val_loss: 0.5378 - val_accuracy: 0.8125\n",
            "\n",
            "Epoch 00019: val_accuracy did not improve from 1.00000\n",
            "Epoch 20/100\n",
            "2/2 [==============================] - 33s 17s/step - loss: 0.1686 - accuracy: 0.9375 - val_loss: 0.0641 - val_accuracy: 1.0000\n",
            "\n",
            "Epoch 00020: val_accuracy did not improve from 1.00000\n",
            "Epoch 21/100\n",
            "2/2 [==============================] - 46s 23s/step - loss: 0.2807 - accuracy: 0.8906 - val_loss: 0.1781 - val_accuracy: 0.9688\n",
            "\n",
            "Epoch 00021: val_accuracy did not improve from 1.00000\n",
            "Epoch 22/100\n",
            "2/2 [==============================] - 46s 23s/step - loss: 0.1862 - accuracy: 0.9531 - val_loss: 0.4923 - val_accuracy: 0.7812\n",
            "\n",
            "Epoch 00022: val_accuracy did not improve from 1.00000\n",
            "Epoch 23/100\n",
            "2/2 [==============================] - 45s 23s/step - loss: 0.2034 - accuracy: 0.9219 - val_loss: 0.4629 - val_accuracy: 0.8125\n",
            "\n",
            "Epoch 00023: val_accuracy did not improve from 1.00000\n",
            "Epoch 24/100\n",
            "2/2 [==============================] - 33s 17s/step - loss: 0.2378 - accuracy: 0.8906 - val_loss: 0.3753 - val_accuracy: 0.7500\n",
            "\n",
            "Epoch 00024: val_accuracy did not improve from 1.00000\n",
            "Epoch 25/100\n",
            "2/2 [==============================] - 46s 23s/step - loss: 0.1796 - accuracy: 0.9219 - val_loss: 0.2883 - val_accuracy: 0.8750\n",
            "\n",
            "Epoch 00025: val_accuracy did not improve from 1.00000\n",
            "Epoch 26/100\n",
            "2/2 [==============================] - 46s 23s/step - loss: 0.0674 - accuracy: 0.9688 - val_loss: 0.5561 - val_accuracy: 0.6875\n",
            "\n",
            "Epoch 00026: val_accuracy did not improve from 1.00000\n",
            "Epoch 27/100\n",
            "2/2 [==============================] - 46s 23s/step - loss: 0.1008 - accuracy: 0.9688 - val_loss: 0.3033 - val_accuracy: 0.9062\n",
            "\n",
            "Epoch 00027: val_accuracy did not improve from 1.00000\n",
            "Epoch 28/100\n",
            "2/2 [==============================] - 33s 17s/step - loss: 0.1126 - accuracy: 0.9688 - val_loss: 0.0740 - val_accuracy: 1.0000\n",
            "\n",
            "Epoch 00028: val_accuracy did not improve from 1.00000\n",
            "Epoch 29/100\n",
            "2/2 [==============================] - 45s 23s/step - loss: 0.1022 - accuracy: 0.9688 - val_loss: 0.5349 - val_accuracy: 0.8125\n",
            "\n",
            "Epoch 00029: val_accuracy did not improve from 1.00000\n",
            "Epoch 30/100\n",
            "2/2 [==============================] - 46s 23s/step - loss: 0.0582 - accuracy: 0.9844 - val_loss: 0.3401 - val_accuracy: 0.8125\n",
            "\n",
            "Epoch 00030: val_accuracy did not improve from 1.00000\n",
            "Epoch 31/100\n",
            "2/2 [==============================] - 46s 23s/step - loss: 0.1096 - accuracy: 0.9375 - val_loss: 0.6073 - val_accuracy: 0.7188\n",
            "\n",
            "Epoch 00031: val_accuracy did not improve from 1.00000\n",
            "Epoch 32/100\n",
            "2/2 [==============================] - 33s 17s/step - loss: 0.0934 - accuracy: 0.9688 - val_loss: 0.1196 - val_accuracy: 1.0000\n",
            "\n",
            "Epoch 00032: val_accuracy did not improve from 1.00000\n",
            "Epoch 33/100\n",
            "2/2 [==============================] - 45s 23s/step - loss: 0.0538 - accuracy: 0.9844 - val_loss: 0.3302 - val_accuracy: 0.8125\n",
            "\n",
            "Epoch 00033: val_accuracy did not improve from 1.00000\n",
            "Epoch 34/100\n",
            "2/2 [==============================] - 45s 23s/step - loss: 0.0433 - accuracy: 0.9844 - val_loss: 0.5955 - val_accuracy: 0.7812\n",
            "\n",
            "Epoch 00034: val_accuracy did not improve from 1.00000\n",
            "Epoch 35/100\n",
            "2/2 [==============================] - 46s 23s/step - loss: 0.0552 - accuracy: 0.9688 - val_loss: 0.5491 - val_accuracy: 0.8125\n",
            "\n",
            "Epoch 00035: val_accuracy did not improve from 1.00000\n",
            "Epoch 36/100\n",
            "2/2 [==============================] - 33s 17s/step - loss: 0.1183 - accuracy: 0.9375 - val_loss: 0.5348 - val_accuracy: 0.7500\n",
            "\n",
            "Epoch 00036: val_accuracy did not improve from 1.00000\n",
            "Epoch 37/100\n",
            "2/2 [==============================] - 46s 23s/step - loss: 0.0413 - accuracy: 0.9688 - val_loss: 0.7266 - val_accuracy: 0.7812\n",
            "\n",
            "Epoch 00037: val_accuracy did not improve from 1.00000\n",
            "Epoch 38/100\n",
            "2/2 [==============================] - 46s 23s/step - loss: 0.2137 - accuracy: 0.9219 - val_loss: 0.4085 - val_accuracy: 0.9375\n",
            "\n",
            "Epoch 00038: val_accuracy did not improve from 1.00000\n",
            "Epoch 39/100\n",
            "2/2 [==============================] - 46s 23s/step - loss: 0.0725 - accuracy: 0.9844 - val_loss: 0.5321 - val_accuracy: 0.8125\n",
            "\n",
            "Epoch 00039: val_accuracy did not improve from 1.00000\n",
            "Epoch 40/100\n",
            "2/2 [==============================] - 35s 18s/step - loss: 0.1268 - accuracy: 0.9531 - val_loss: 0.0493 - val_accuracy: 1.0000\n",
            "\n",
            "Epoch 00040: val_accuracy did not improve from 1.00000\n",
            "Epoch 41/100\n",
            "2/2 [==============================] - 46s 23s/step - loss: 0.0291 - accuracy: 0.9844 - val_loss: 0.5552 - val_accuracy: 0.8125\n",
            "\n",
            "Epoch 00041: val_accuracy did not improve from 1.00000\n",
            "Epoch 42/100\n",
            "2/2 [==============================] - 46s 23s/step - loss: 0.0752 - accuracy: 0.9688 - val_loss: 0.3307 - val_accuracy: 0.8750\n",
            "\n",
            "Epoch 00042: val_accuracy did not improve from 1.00000\n",
            "Epoch 43/100\n",
            "2/2 [==============================] - 46s 23s/step - loss: 0.0660 - accuracy: 0.9688 - val_loss: 0.4691 - val_accuracy: 0.8125\n",
            "\n",
            "Epoch 00043: val_accuracy did not improve from 1.00000\n",
            "Epoch 44/100\n",
            "2/2 [==============================] - 33s 17s/step - loss: 0.0642 - accuracy: 0.9844 - val_loss: 2.4039 - val_accuracy: 0.5000\n",
            "\n",
            "Epoch 00044: val_accuracy did not improve from 1.00000\n",
            "Epoch 45/100\n",
            "2/2 [==============================] - 46s 23s/step - loss: 0.0601 - accuracy: 0.9688 - val_loss: 0.6612 - val_accuracy: 0.8438\n",
            "\n",
            "Epoch 00045: val_accuracy did not improve from 1.00000\n",
            "Epoch 46/100\n",
            "2/2 [==============================] - 46s 23s/step - loss: 0.0155 - accuracy: 1.0000 - val_loss: 0.3323 - val_accuracy: 0.8438\n",
            "\n",
            "Epoch 00046: val_accuracy did not improve from 1.00000\n",
            "Epoch 47/100\n",
            "2/2 [==============================] - 45s 23s/step - loss: 0.0295 - accuracy: 1.0000 - val_loss: 0.2054 - val_accuracy: 0.9062\n",
            "\n",
            "Epoch 00047: val_accuracy did not improve from 1.00000\n",
            "Epoch 48/100\n",
            "2/2 [==============================] - 33s 17s/step - loss: 0.0875 - accuracy: 0.9531 - val_loss: 0.0563 - val_accuracy: 1.0000\n",
            "\n",
            "Epoch 00048: val_accuracy did not improve from 1.00000\n",
            "Epoch 49/100\n",
            "2/2 [==============================] - 45s 23s/step - loss: 0.0234 - accuracy: 1.0000 - val_loss: 0.4171 - val_accuracy: 0.8125\n",
            "\n",
            "Epoch 00049: val_accuracy did not improve from 1.00000\n",
            "Epoch 50/100\n",
            "2/2 [==============================] - 46s 23s/step - loss: 0.0522 - accuracy: 0.9844 - val_loss: 0.3651 - val_accuracy: 0.8438\n",
            "\n",
            "Epoch 00050: val_accuracy did not improve from 1.00000\n",
            "Epoch 51/100\n",
            "2/2 [==============================] - 45s 23s/step - loss: 0.0152 - accuracy: 1.0000 - val_loss: 0.3856 - val_accuracy: 0.8438\n",
            "\n",
            "Epoch 00051: val_accuracy did not improve from 1.00000\n",
            "Epoch 52/100\n",
            "2/2 [==============================] - 33s 17s/step - loss: 0.0108 - accuracy: 1.0000 - val_loss: 0.1488 - val_accuracy: 1.0000\n",
            "\n",
            "Epoch 00052: val_accuracy did not improve from 1.00000\n",
            "Epoch 53/100\n",
            "2/2 [==============================] - 45s 23s/step - loss: 0.0160 - accuracy: 1.0000 - val_loss: 0.5915 - val_accuracy: 0.8125\n",
            "\n",
            "Epoch 00053: val_accuracy did not improve from 1.00000\n",
            "Epoch 54/100\n",
            "2/2 [==============================] - 46s 23s/step - loss: 0.0331 - accuracy: 0.9844 - val_loss: 0.2992 - val_accuracy: 0.8750\n",
            "\n",
            "Epoch 00054: val_accuracy did not improve from 1.00000\n",
            "Epoch 55/100\n",
            "2/2 [==============================] - 46s 23s/step - loss: 0.0106 - accuracy: 1.0000 - val_loss: 0.3995 - val_accuracy: 0.8750\n",
            "\n",
            "Epoch 00055: val_accuracy did not improve from 1.00000\n",
            "Epoch 56/100\n",
            "2/2 [==============================] - 34s 17s/step - loss: 0.0119 - accuracy: 1.0000 - val_loss: 0.0349 - val_accuracy: 1.0000\n",
            "\n",
            "Epoch 00056: val_accuracy did not improve from 1.00000\n",
            "Epoch 57/100\n",
            "2/2 [==============================] - 46s 23s/step - loss: 0.0357 - accuracy: 0.9844 - val_loss: 0.1625 - val_accuracy: 0.8750\n",
            "\n",
            "Epoch 00057: val_accuracy did not improve from 1.00000\n",
            "Epoch 58/100\n",
            "2/2 [==============================] - 46s 23s/step - loss: 0.0123 - accuracy: 1.0000 - val_loss: 0.5438 - val_accuracy: 0.8125\n",
            "\n",
            "Epoch 00058: val_accuracy did not improve from 1.00000\n",
            "Epoch 59/100\n",
            "2/2 [==============================] - 46s 23s/step - loss: 0.0039 - accuracy: 1.0000 - val_loss: 0.4665 - val_accuracy: 0.8125\n",
            "\n",
            "Epoch 00059: val_accuracy did not improve from 1.00000\n",
            "Epoch 60/100\n",
            "2/2 [==============================] - 34s 17s/step - loss: 0.0100 - accuracy: 1.0000 - val_loss: 0.8409 - val_accuracy: 0.5000\n",
            "\n",
            "Epoch 00060: val_accuracy did not improve from 1.00000\n",
            "Epoch 61/100\n",
            "2/2 [==============================] - 50s 25s/step - loss: 0.0178 - accuracy: 0.9844 - val_loss: 0.5272 - val_accuracy: 0.8438\n",
            "\n",
            "Epoch 00061: val_accuracy did not improve from 1.00000\n",
            "Epoch 62/100\n",
            "2/2 [==============================] - 46s 23s/step - loss: 0.0043 - accuracy: 1.0000 - val_loss: 0.5024 - val_accuracy: 0.7812\n",
            "\n",
            "Epoch 00062: val_accuracy did not improve from 1.00000\n",
            "Epoch 63/100\n",
            "2/2 [==============================] - 47s 23s/step - loss: 0.0069 - accuracy: 1.0000 - val_loss: 0.2855 - val_accuracy: 0.8750\n",
            "\n",
            "Epoch 00063: val_accuracy did not improve from 1.00000\n",
            "Epoch 64/100\n",
            "2/2 [==============================] - 33s 17s/step - loss: 0.0130 - accuracy: 1.0000 - val_loss: 0.0037 - val_accuracy: 1.0000\n",
            "\n",
            "Epoch 00064: val_accuracy did not improve from 1.00000\n",
            "Epoch 65/100\n",
            "2/2 [==============================] - 46s 23s/step - loss: 0.0178 - accuracy: 0.9844 - val_loss: 0.1471 - val_accuracy: 0.9062\n",
            "\n",
            "Epoch 00065: val_accuracy did not improve from 1.00000\n",
            "Epoch 66/100\n",
            "2/2 [==============================] - 47s 23s/step - loss: 0.0038 - accuracy: 1.0000 - val_loss: 0.8239 - val_accuracy: 0.7812\n",
            "\n",
            "Epoch 00066: val_accuracy did not improve from 1.00000\n",
            "Epoch 67/100\n",
            "2/2 [==============================] - 46s 23s/step - loss: 0.0050 - accuracy: 1.0000 - val_loss: 0.4676 - val_accuracy: 0.8125\n",
            "\n",
            "Epoch 00067: val_accuracy did not improve from 1.00000\n",
            "Epoch 68/100\n",
            "2/2 [==============================] - 34s 17s/step - loss: 0.0018 - accuracy: 1.0000 - val_loss: 0.0433 - val_accuracy: 1.0000\n",
            "\n",
            "Epoch 00068: val_accuracy did not improve from 1.00000\n",
            "Epoch 69/100\n",
            "2/2 [==============================] - 47s 23s/step - loss: 0.0071 - accuracy: 1.0000 - val_loss: 0.4874 - val_accuracy: 0.9062\n",
            "\n",
            "Epoch 00069: val_accuracy did not improve from 1.00000\n",
            "Epoch 70/100\n",
            "2/2 [==============================] - 46s 23s/step - loss: 0.0024 - accuracy: 1.0000 - val_loss: 0.2858 - val_accuracy: 0.8750\n",
            "\n",
            "Epoch 00070: val_accuracy did not improve from 1.00000\n",
            "Epoch 71/100\n",
            "2/2 [==============================] - 46s 23s/step - loss: 0.0069 - accuracy: 1.0000 - val_loss: 0.5077 - val_accuracy: 0.7812\n",
            "\n",
            "Epoch 00071: val_accuracy did not improve from 1.00000\n",
            "Epoch 72/100\n",
            "2/2 [==============================] - 34s 17s/step - loss: 0.0027 - accuracy: 1.0000 - val_loss: 0.0344 - val_accuracy: 1.0000\n",
            "\n",
            "Epoch 00072: val_accuracy did not improve from 1.00000\n",
            "Epoch 73/100\n",
            "2/2 [==============================] - 47s 23s/step - loss: 0.0046 - accuracy: 1.0000 - val_loss: 0.8102 - val_accuracy: 0.6875\n",
            "\n",
            "Epoch 00073: val_accuracy did not improve from 1.00000\n",
            "Epoch 74/100\n",
            "2/2 [==============================] - 47s 23s/step - loss: 0.0046 - accuracy: 1.0000 - val_loss: 0.2390 - val_accuracy: 0.9062\n",
            "\n",
            "Epoch 00074: val_accuracy did not improve from 1.00000\n",
            "Epoch 75/100\n",
            "2/2 [==============================] - 46s 23s/step - loss: 0.0074 - accuracy: 1.0000 - val_loss: 0.2178 - val_accuracy: 0.9062\n",
            "\n",
            "Epoch 00075: val_accuracy did not improve from 1.00000\n",
            "Epoch 76/100\n",
            "2/2 [==============================] - 34s 17s/step - loss: 0.0050 - accuracy: 1.0000 - val_loss: 0.1590 - val_accuracy: 1.0000\n",
            "\n",
            "Epoch 00076: val_accuracy did not improve from 1.00000\n",
            "Epoch 77/100\n",
            "2/2 [==============================] - 47s 23s/step - loss: 0.0028 - accuracy: 1.0000 - val_loss: 0.4882 - val_accuracy: 0.8438\n",
            "\n",
            "Epoch 00077: val_accuracy did not improve from 1.00000\n",
            "Epoch 78/100\n",
            "2/2 [==============================] - 46s 23s/step - loss: 0.0014 - accuracy: 1.0000 - val_loss: 0.2999 - val_accuracy: 0.8438\n",
            "\n",
            "Epoch 00078: val_accuracy did not improve from 1.00000\n",
            "Epoch 79/100\n",
            "2/2 [==============================] - 46s 23s/step - loss: 0.0014 - accuracy: 1.0000 - val_loss: 0.5545 - val_accuracy: 0.8438\n",
            "\n",
            "Epoch 00079: val_accuracy did not improve from 1.00000\n",
            "Epoch 80/100\n",
            "2/2 [==============================] - 34s 17s/step - loss: 0.0015 - accuracy: 1.0000 - val_loss: 0.0114 - val_accuracy: 1.0000\n",
            "\n",
            "Epoch 00080: val_accuracy did not improve from 1.00000\n",
            "Epoch 81/100\n",
            "2/2 [==============================] - 46s 23s/step - loss: 0.0010 - accuracy: 1.0000 - val_loss: 0.5924 - val_accuracy: 0.8438\n",
            "\n",
            "Epoch 00081: val_accuracy did not improve from 1.00000\n",
            "Epoch 82/100\n",
            "2/2 [==============================] - 49s 24s/step - loss: 0.0019 - accuracy: 1.0000 - val_loss: 0.2374 - val_accuracy: 0.9062\n",
            "\n",
            "Epoch 00082: val_accuracy did not improve from 1.00000\n",
            "Epoch 83/100\n",
            "2/2 [==============================] - 48s 24s/step - loss: 0.0027 - accuracy: 1.0000 - val_loss: 0.3990 - val_accuracy: 0.7812\n",
            "\n",
            "Epoch 00083: val_accuracy did not improve from 1.00000\n",
            "Epoch 84/100\n",
            "2/2 [==============================] - 34s 17s/step - loss: 8.8732e-04 - accuracy: 1.0000 - val_loss: 0.8833 - val_accuracy: 0.7500\n",
            "\n",
            "Epoch 00084: val_accuracy did not improve from 1.00000\n",
            "Epoch 85/100\n",
            "2/2 [==============================] - 47s 23s/step - loss: 0.0020 - accuracy: 1.0000 - val_loss: 0.2772 - val_accuracy: 0.8750\n",
            "\n",
            "Epoch 00085: val_accuracy did not improve from 1.00000\n",
            "Epoch 86/100\n",
            "2/2 [==============================] - 46s 23s/step - loss: 0.0010 - accuracy: 1.0000 - val_loss: 0.5781 - val_accuracy: 0.7188\n",
            "\n",
            "Epoch 00086: val_accuracy did not improve from 1.00000\n",
            "Epoch 87/100\n",
            "2/2 [==============================] - 47s 23s/step - loss: 0.0012 - accuracy: 1.0000 - val_loss: 0.5206 - val_accuracy: 0.9062\n",
            "\n",
            "Epoch 00087: val_accuracy did not improve from 1.00000\n",
            "Epoch 88/100\n",
            "2/2 [==============================] - 34s 17s/step - loss: 0.0032 - accuracy: 1.0000 - val_loss: 2.4140e-06 - val_accuracy: 1.0000\n",
            "\n",
            "Epoch 00088: val_accuracy did not improve from 1.00000\n",
            "Epoch 89/100\n",
            "2/2 [==============================] - 46s 23s/step - loss: 0.0012 - accuracy: 1.0000 - val_loss: 0.4432 - val_accuracy: 0.8125\n",
            "\n",
            "Epoch 00089: val_accuracy did not improve from 1.00000\n",
            "Epoch 90/100\n",
            "2/2 [==============================] - 46s 23s/step - loss: 7.7314e-04 - accuracy: 1.0000 - val_loss: 0.2429 - val_accuracy: 0.9062\n",
            "\n",
            "Epoch 00090: val_accuracy did not improve from 1.00000\n",
            "Epoch 91/100\n",
            "2/2 [==============================] - 46s 23s/step - loss: 5.3823e-04 - accuracy: 1.0000 - val_loss: 0.5823 - val_accuracy: 0.8125\n",
            "\n",
            "Epoch 00091: val_accuracy did not improve from 1.00000\n",
            "Epoch 92/100\n",
            "2/2 [==============================] - 33s 17s/step - loss: 9.0766e-04 - accuracy: 1.0000 - val_loss: 0.0456 - val_accuracy: 1.0000\n",
            "\n",
            "Epoch 00092: val_accuracy did not improve from 1.00000\n",
            "Epoch 93/100\n",
            "2/2 [==============================] - 46s 23s/step - loss: 0.0012 - accuracy: 1.0000 - val_loss: 0.6813 - val_accuracy: 0.8438\n",
            "\n",
            "Epoch 00093: val_accuracy did not improve from 1.00000\n",
            "Epoch 94/100\n",
            "2/2 [==============================] - 46s 23s/step - loss: 7.0673e-04 - accuracy: 1.0000 - val_loss: 0.3084 - val_accuracy: 0.8438\n",
            "\n",
            "Epoch 00094: val_accuracy did not improve from 1.00000\n",
            "Epoch 95/100\n",
            "2/2 [==============================] - 46s 23s/step - loss: 0.0013 - accuracy: 1.0000 - val_loss: 0.3220 - val_accuracy: 0.8750\n",
            "\n",
            "Epoch 00095: val_accuracy did not improve from 1.00000\n",
            "Epoch 96/100\n",
            "2/2 [==============================] - 33s 17s/step - loss: 0.0011 - accuracy: 1.0000 - val_loss: 0.4126 - val_accuracy: 0.7500\n",
            "\n",
            "Epoch 00096: val_accuracy did not improve from 1.00000\n",
            "Epoch 97/100\n",
            "2/2 [==============================] - 46s 23s/step - loss: 4.4823e-04 - accuracy: 1.0000 - val_loss: 0.4028 - val_accuracy: 0.8750\n",
            "\n",
            "Epoch 00097: val_accuracy did not improve from 1.00000\n",
            "Epoch 98/100\n",
            "2/2 [==============================] - 46s 23s/step - loss: 0.0010 - accuracy: 1.0000 - val_loss: 0.5266 - val_accuracy: 0.8750\n",
            "\n",
            "Epoch 00098: val_accuracy did not improve from 1.00000\n",
            "Epoch 99/100\n",
            "2/2 [==============================] - 46s 23s/step - loss: 9.1957e-04 - accuracy: 1.0000 - val_loss: 0.4630 - val_accuracy: 0.8125\n",
            "\n",
            "Epoch 00099: val_accuracy did not improve from 1.00000\n",
            "Epoch 100/100\n",
            "2/2 [==============================] - 34s 17s/step - loss: 7.2415e-04 - accuracy: 1.0000 - val_loss: 1.2077e-04 - val_accuracy: 1.0000\n",
            "\n",
            "Epoch 00100: val_accuracy did not improve from 1.00000\n"
          ],
          "name": "stdout"
        }
      ]
    },
    {
      "cell_type": "code",
      "metadata": {
        "id": "YtQxWrIlPU_M",
        "colab_type": "code",
        "colab": {
          "base_uri": "https://localhost:8080/",
          "height": 295
        },
        "outputId": "044c3d79-2cde-4bef-fe83-8c005c78b284"
      },
      "source": [
        "import matplotlib.pyplot as plt\n",
        "plt.plot(hist.history[\"accuracy\"])\n",
        "plt.plot(hist.history['val_accuracy'])\n",
        "\n",
        "plt.title(\"model accuracy\")\n",
        "plt.ylabel(\"Accuracy\")\n",
        "plt.xlabel(\"Epoch\")\n",
        "plt.legend([\"Accuracy\",\"Validation Accuracy\"])\n",
        "plt.show()"
      ],
      "execution_count": 31,
      "outputs": [
        {
          "output_type": "display_data",
          "data": {
            "image/png": "[encoded data removed]",
            "text/plain": [
              "<Figure size 432x288 with 1 Axes>"
            ]
          },
          "metadata": {
            "tags": [],
            "needs_background": "light"
          }
        }
      ]
    },
    {
      "cell_type": "code",
      "metadata": {
        "id": "EsjZHi9jaU4Y",
        "colab_type": "code",
        "colab": {
          "base_uri": "https://localhost:8080/",
          "height": 281
        },
        "outputId": "6fafe0b5-11b3-4396-c971-26eccbfdb4a0"
      },
      "source": [
        "plt.plot(hist.history['loss'])\n",
        "plt.plot(hist.history['val_loss'])\n",
        "plt.ylabel(\"Loss\")\n",
        "plt.xlabel(\"Epoch\")\n",
        "plt.legend([\"loss\",\"Validation Loss\"])\n",
        "plt.show()"
      ],
      "execution_count": 32,
      "outputs": [
        {
          "output_type": "display_data",
          "data": {
            "image/png": "[encoded data removed]",
            "text/plain": [
              "<Figure size 432x288 with 1 Axes>"
            ]
          },
          "metadata": {
            "tags": [],
            "needs_background": "light"
          }
        }
      ]
    },
    {
      "cell_type": "code",
      "metadata": {
        "id": "_2GdDycwS52M",
        "colab_type": "code",
        "colab": {}
      },
      "source": [
        "from keras.preprocessing.image import ImageDataGenerator\n",
        "from sklearn.metrics import classification_report, confusion_matrix\n",
        "\n",
        "test_datagen = ImageDataGenerator()"
      ],
      "execution_count": 33,
      "outputs": []
    },
    {
      "cell_type": "code",
      "metadata": {
        "id": "9-fknWZIS-CT",
        "colab_type": "code",
        "colab": {
          "base_uri": "https://localhost:8080/",
          "height": 34
        },
        "outputId": "82f974f6-a781-4750-eb7a-99d3676af6e7"
      },
      "source": [
        "validation_generator = test_datagen.flow_from_directory('/content/drive/My Drive/data_ouput/test',\n",
        "                                                        target_size=(224, 224),\n",
        "                                                        batch_size=32,\n",
        "                                                        class_mode='categorical')"
      ],
      "execution_count": 34,
      "outputs": [
        {
          "output_type": "stream",
          "text": [
            "Found 100 images belonging to 4 classes.\n"
          ],
          "name": "stdout"
        }
      ]
    },
    {
      "cell_type": "code",
      "metadata": {
        "id": "RSoXpGKcTEnR",
        "colab_type": "code",
        "colab": {
          "base_uri": "https://localhost:8080/",
          "height": 306
        },
        "outputId": "3cd0b9b8-c724-4d12-957c-8c4df30268bd"
      },
      "source": [
        "import numpy as np\n",
        "#Confution Matrix and Classification Report\n",
        "Y_pred = model_final.predict_generator(validation_generator)\n",
        "y_pred = np.argmax(Y_pred, axis=1)\n",
        "print('Confusion Matrix')\n",
        "print(confusion_matrix(validation_generator.classes, y_pred))\n",
        "print('Classification Report')\n",
        "target_names = ['grade0', 'grade1', 'grade2','grade3']\n",
        "print(classification_report(validation_generator.classes, y_pred, target_names=target_names))"
      ],
      "execution_count": 35,
      "outputs": [
        {
          "output_type": "stream",
          "text": [
            "Confusion Matrix\n",
            "[[5 7 5 8]\n",
            " [7 7 5 6]\n",
            " [4 7 9 5]\n",
            " [8 6 6 5]]\n",
            "Classification Report\n",
            "              precision    recall  f1-score   support\n",
            "\n",
            "      grade0       0.21      0.20      0.20        25\n",
            "      grade1       0.26      0.28      0.27        25\n",
            "      grade2       0.36      0.36      0.36        25\n",
            "      grade3       0.21      0.20      0.20        25\n",
            "\n",
            "    accuracy                           0.26       100\n",
            "   macro avg       0.26      0.26      0.26       100\n",
            "weighted avg       0.26      0.26      0.26       100\n",
            "\n"
          ],
          "name": "stdout"
        }
      ]
    },
    {
      "cell_type": "code",
      "metadata": {
        "id": "B-E18MG6VMMN",
        "colab_type": "code",
        "colab": {
          "base_uri": "https://localhost:8080/",
          "height": 269
        },
        "outputId": "7d8ae3c4-f971-49e7-ef9f-1e2ab61f7e01"
      },
      "source": [
        "from keras.preprocessing import image\n",
        "import matplotlib.pyplot as plt\n",
        "\n",
        "img = image.load_img(\"/content/drive/My Drive/data_ouput/test/grade1/grade1-079.jpg\",target_size=(224,224))\n",
        "img = np.asarray(img)\n",
        "plt.imshow(img)\n",
        "img = np.expand_dims(img, axis=0)"
      ],
      "execution_count": 36,
      "outputs": [
        {
          "output_type": "display_data",
          "data": {
            "image/png": "[encoded data removed]",
            "text/plain": [
              "<Figure size 432x288 with 1 Axes>"
            ]
          },
          "metadata": {
            "tags": [],
            "needs_background": "light"
          }
        }
      ]
    },
    {
      "cell_type": "code",
      "metadata": {
        "id": "Ux21nwVeV0mE",
        "colab_type": "code",
        "colab": {}
      },
      "source": [
        "output = model_final.predict(img)"
      ],
      "execution_count": 37,
      "outputs": []
    },
    {
      "cell_type": "code",
      "metadata": {
        "id": "crw2NNGyV7kN",
        "colab_type": "code",
        "colab": {
          "base_uri": "https://localhost:8080/",
          "height": 34
        },
        "outputId": "c5083765-ea89-4d7b-a1c4-79288be78111"
      },
      "source": [
        "output\n",
        "ans='grade'+str(np.argmax(output[0],axis=0))\n",
        "print(ans)"
      ],
      "execution_count": 38,
      "outputs": [
        {
          "output_type": "stream",
          "text": [
            "grade1\n"
          ],
          "name": "stdout"
        }
      ]
    },
    {
      "cell_type": "code",
      "metadata": {
        "id": "YbH-5BZmX-K4",
        "colab_type": "code",
        "colab": {
          "base_uri": "https://localhost:8080/",
          "height": 153
        },
        "outputId": "4a9223ab-76db-4e79-f099-52ccf25d263c"
      },
      "source": [
        "import os\n",
        "data_path='/content/drive/My Drive/data_ouput/test'\n",
        "data_dir_list=os.listdir(data_path)\n",
        "for dataset in data_dir_list:\n",
        "  print(dataset)\n",
        "  img_list=os.listdir(data_path+'/'+dataset)\n",
        "  correctCount=0\n",
        "  wrongCount=0\n",
        "  for img in img_list:\n",
        "    img_path=data_path+'/'+dataset+'/'+img\n",
        "    input_image = image.load_img(img_path,target_size=(224,224))\n",
        "    input_image = np.asarray(input_image)\n",
        "    input_image = np.expand_dims(input_image, axis=0)\n",
        "    output = model_final.predict(input_image)\n",
        "    ans='grade'+str(np.argmax(output[0],axis=0))\n",
        "    if( ans in img):\n",
        "      correctCount+=1\n",
        "    else:\n",
        "      wrongCount+=1\n",
        "  print(\"correct Count {} WrongCount {}\".format(correctCount,wrongCount))\n",
        "\n",
        "\n"
      ],
      "execution_count": 39,
      "outputs": [
        {
          "output_type": "stream",
          "text": [
            "grade1\n",
            "correct Count 21 WrongCount 4\n",
            "grade0\n",
            "correct Count 23 WrongCount 2\n",
            "grade2\n",
            "correct Count 23 WrongCount 2\n",
            "grade3\n",
            "correct Count 22 WrongCount 3\n"
          ],
          "name": "stdout"
        }
      ]
    },
    {
      "cell_type": "code",
      "metadata": {
        "id": "Ml4QAr_Avw2T",
        "colab_type": "code",
        "colab": {
          "base_uri": "https://localhost:8080/",
          "height": 51
        },
        "outputId": "1beffcc2-0e83-4873-ff80-2aa604578fcd"
      },
      "source": [
        "tr_loss,tr_acc=model_final.evaluate(validation_generator)\n",
        "tr_acc"
      ],
      "execution_count": 40,
      "outputs": [
        {
          "output_type": "stream",
          "text": [
            "4/4 [==============================] - 45s 11s/step\n"
          ],
          "name": "stdout"
        },
        {
          "output_type": "execute_result",
          "data": {
            "text/plain": [
              "0.8899999856948853"
            ]
          },
          "metadata": {
            "tags": []
          },
          "execution_count": 40
        }
      ]
    },
    {
      "cell_type": "code",
      "metadata": {
        "id": "R6Fx71JwgONy",
        "colab_type": "code",
        "colab": {}
      },
      "source": [
        ""
      ],
      "execution_count": null,
      "outputs": []
    },
    {
      "cell_type": "code",
      "metadata": {
        "id": "PiiV053i4At7",
        "colab_type": "code",
        "colab": {}
      },
      "source": [
        "model_final.save('/content/drive/My Drive/Best models/modelbest.h5')"
      ],
      "execution_count": null,
      "outputs": []
    }
  ]
}