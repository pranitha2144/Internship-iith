{
  "nbformat": 4,
  "nbformat_minor": 0,
  "metadata": {
    "colab": {
      "name": "vgg16",
      "provenance": [],
      "collapsed_sections": [],
      "mount_file_id": "1IhyoGy7EHEgj120Y7aEt15WFbYJP6aXH",
      "authorship_tag": "ABX9TyNoEJs5KFJ3t3eFsNdjuRWD",
      "include_colab_link": true
    },
    "kernelspec": {
      "name": "python3",
      "display_name": "Python 3"
    }
  },
  "cells": [
    {
      "cell_type": "markdown",
      "metadata": {
        "id": "view-in-github",
        "colab_type": "text"
      },
      "source": [
        "<a href=\"https://colab.research.google.com/github/pranitha2144/Internship-iith/blob/Resnet/vgg16.ipynb\" target=\"_parent\"><img src=\"https://colab.research.google.com/assets/colab-badge.svg\" alt=\"Open In Colab\"/></a>"
      ]
    },
    {
      "cell_type": "code",
      "metadata": {
        "id": "3i-5qcxM7pSC",
        "colab_type": "code",
        "colab": {}
      },
      "source": [
        "import keras\n",
        "from keras.models import Model\n",
        "from keras.layers import Dense,Dropout\n",
        "from keras import optimizers\n",
        "from keras.preprocessing.image import ImageDataGenerator\n",
        "from keras.preprocessing import image"
      ],
      "execution_count": 2,
      "outputs": []
    },
    {
      "cell_type": "code",
      "metadata": {
        "id": "JKBtzsJojptA",
        "colab_type": "code",
        "colab": {}
      },
      "source": [
        "#!pip install split_folders"
      ],
      "execution_count": null,
      "outputs": []
    },
    {
      "cell_type": "code",
      "metadata": {
        "id": "hzM7ojOkjaiK",
        "colab_type": "code",
        "colab": {}
      },
      "source": [
        "import split_folders\n",
        "\n",
        "# Split with a ratio.\n",
        "# To only split into training and validation set, set a tuple to `ratio`, i.e, `(.8, .2)`.\n",
        "#split_folders.ratio('/content/drive/My Drive/data-liverdisease', output=\"/content/drive/My Drive/data_output1\", seed=1337, ratio=(.7, .2,.1)) # default values\n"
      ],
      "execution_count": null,
      "outputs": []
    },
    {
      "cell_type": "code",
      "metadata": {
        "id": "P_NCAugx70fs",
        "colab_type": "code",
        "colab": {
          "base_uri": "https://localhost:8080/",
          "height": 51
        },
        "outputId": "6b3c78d4-2d21-4cdf-a539-159509c08c11"
      },
      "source": [
        "trdata = ImageDataGenerator()\n",
        "traindata = trdata.flow_from_directory(directory=\"/content/drive/My Drive/data_ouput/train\",target_size=(224,224))\n",
        "tsdata = ImageDataGenerator()\n",
        "testdata = tsdata.flow_from_directory(directory=\"/content/drive/My Drive/data_ouput/val\", target_size=(224,224))"
      ],
      "execution_count": 3,
      "outputs": [
        {
          "output_type": "stream",
          "text": [
            "Found 800 images belonging to 4 classes.\n",
            "Found 100 images belonging to 4 classes.\n"
          ],
          "name": "stdout"
        }
      ]
    },
    {
      "cell_type": "code",
      "metadata": {
        "id": "rg_JdtWb8O00",
        "colab_type": "code",
        "colab": {}
      },
      "source": [
        "from keras.applications.vgg16 import VGG16\n",
        "vggmodel = VGG16(weights='imagenet',include_top=True)"
      ],
      "execution_count": 6,
      "outputs": []
    },
    {
      "cell_type": "code",
      "metadata": {
        "id": "PKuEFjHt8TfJ",
        "colab_type": "code",
        "colab": {
          "base_uri": "https://localhost:8080/",
          "height": 935
        },
        "outputId": "380cbd83-8695-4a26-cc13-d1d8b29d2702"
      },
      "source": [
        "vggmodel.summary()"
      ],
      "execution_count": 7,
      "outputs": [
        {
          "output_type": "stream",
          "text": [
            "Model: \"vgg16\"\n",
            "_________________________________________________________________\n",
            "Layer (type)                 Output Shape              Param #   \n",
            "=================================================================\n",
            "input_2 (InputLayer)         (None, 224, 224, 3)       0         \n",
            "_________________________________________________________________\n",
            "block1_conv1 (Conv2D)        (None, 224, 224, 64)      1792      \n",
            "_________________________________________________________________\n",
            "block1_conv2 (Conv2D)        (None, 224, 224, 64)      36928     \n",
            "_________________________________________________________________\n",
            "block1_pool (MaxPooling2D)   (None, 112, 112, 64)      0         \n",
            "_________________________________________________________________\n",
            "block2_conv1 (Conv2D)        (None, 112, 112, 128)     73856     \n",
            "_________________________________________________________________\n",
            "block2_conv2 (Conv2D)        (None, 112, 112, 128)     147584    \n",
            "_________________________________________________________________\n",
            "block2_pool (MaxPooling2D)   (None, 56, 56, 128)       0         \n",
            "_________________________________________________________________\n",
            "block3_conv1 (Conv2D)        (None, 56, 56, 256)       295168    \n",
            "_________________________________________________________________\n",
            "block3_conv2 (Conv2D)        (None, 56, 56, 256)       590080    \n",
            "_________________________________________________________________\n",
            "block3_conv3 (Conv2D)        (None, 56, 56, 256)       590080    \n",
            "_________________________________________________________________\n",
            "block3_pool (MaxPooling2D)   (None, 28, 28, 256)       0         \n",
            "_________________________________________________________________\n",
            "block4_conv1 (Conv2D)        (None, 28, 28, 512)       1180160   \n",
            "_________________________________________________________________\n",
            "block4_conv2 (Conv2D)        (None, 28, 28, 512)       2359808   \n",
            "_________________________________________________________________\n",
            "block4_conv3 (Conv2D)        (None, 28, 28, 512)       2359808   \n",
            "_________________________________________________________________\n",
            "block4_pool (MaxPooling2D)   (None, 14, 14, 512)       0         \n",
            "_________________________________________________________________\n",
            "block5_conv1 (Conv2D)        (None, 14, 14, 512)       2359808   \n",
            "_________________________________________________________________\n",
            "block5_conv2 (Conv2D)        (None, 14, 14, 512)       2359808   \n",
            "_________________________________________________________________\n",
            "block5_conv3 (Conv2D)        (None, 14, 14, 512)       2359808   \n",
            "_________________________________________________________________\n",
            "block5_pool (MaxPooling2D)   (None, 7, 7, 512)         0         \n",
            "_________________________________________________________________\n",
            "flatten (Flatten)            (None, 25088)             0         \n",
            "_________________________________________________________________\n",
            "fc1 (Dense)                  (None, 4096)              102764544 \n",
            "_________________________________________________________________\n",
            "fc2 (Dense)                  (None, 4096)              16781312  \n",
            "_________________________________________________________________\n",
            "predictions (Dense)          (None, 1000)              4097000   \n",
            "=================================================================\n",
            "Total params: 138,357,544\n",
            "Trainable params: 138,357,544\n",
            "Non-trainable params: 0\n",
            "_________________________________________________________________\n"
          ],
          "name": "stdout"
        }
      ]
    },
    {
      "cell_type": "code",
      "metadata": {
        "id": "82_pWv5ammho",
        "colab_type": "code",
        "colab": {
          "base_uri": "https://localhost:8080/",
          "height": 34
        },
        "outputId": "9a6ea256-8d56-4bfd-a82d-49bd886afe7d"
      },
      "source": [
        "type(vggmodel)"
      ],
      "execution_count": 8,
      "outputs": [
        {
          "output_type": "execute_result",
          "data": {
            "text/plain": [
              "keras.engine.training.Model"
            ]
          },
          "metadata": {
            "tags": []
          },
          "execution_count": 8
        }
      ]
    },
    {
      "cell_type": "code",
      "metadata": {
        "id": "GG60hKI68aWo",
        "colab_type": "code",
        "colab": {
          "base_uri": "https://localhost:8080/",
          "height": 442
        },
        "outputId": "95b0e062-d4f9-4068-830a-9f8a018dbd4c"
      },
      "source": [
        "'''for layers in (vggmodel.layers)[:-1]:\n",
        "    print(layers)\n",
        "    layers.trainable = False'''"
      ],
      "execution_count": null,
      "outputs": [
        {
          "output_type": "stream",
          "text": [
            "<keras.engine.input_layer.InputLayer object at 0x7f5fbb69a6d8>\n",
            "<keras.layers.convolutional.Conv2D object at 0x7f5fbb69ad68>\n",
            "<keras.layers.convolutional.Conv2D object at 0x7f5fbb674438>\n",
            "<keras.layers.pooling.MaxPooling2D object at 0x7f5fbb69a828>\n",
            "<keras.layers.convolutional.Conv2D object at 0x7f5f78b1e7b8>\n",
            "<keras.layers.convolutional.Conv2D object at 0x7f5f77a94668>\n",
            "<keras.layers.pooling.MaxPooling2D object at 0x7f5f77a94e10>\n",
            "<keras.layers.convolutional.Conv2D object at 0x7f5f77a9d208>\n",
            "<keras.layers.convolutional.Conv2D object at 0x7f5f77a9dda0>\n",
            "<keras.layers.convolutional.Conv2D object at 0x7f5f77aa2978>\n",
            "<keras.layers.convolutional.Conv2D object at 0x7f5f77aa7438>\n",
            "<keras.layers.pooling.MaxPooling2D object at 0x7f5f77aa7eb8>\n",
            "<keras.layers.convolutional.Conv2D object at 0x7f5f77aa7cc0>\n",
            "<keras.layers.convolutional.Conv2D object at 0x7f5f77aaef98>\n",
            "<keras.layers.convolutional.Conv2D object at 0x7f5f77ab6630>\n",
            "<keras.layers.convolutional.Conv2D object at 0x7f5f77ab6e48>\n",
            "<keras.layers.pooling.MaxPooling2D object at 0x7f5f77abeb70>\n",
            "<keras.layers.convolutional.Conv2D object at 0x7f5f77abe978>\n",
            "<keras.layers.convolutional.Conv2D object at 0x7f5f77ac46d8>\n",
            "<keras.layers.convolutional.Conv2D object at 0x7f5f77ac4e80>\n",
            "<keras.layers.convolutional.Conv2D object at 0x7f5f77accd68>\n",
            "<keras.layers.pooling.MaxPooling2D object at 0x7f5f77a52828>\n",
            "<keras.layers.core.Flatten object at 0x7f5f77a52630>\n",
            "<keras.layers.core.Dense object at 0x7f5f77a528d0>\n",
            "<keras.layers.core.Dense object at 0x7f5f77a672b0>\n"
          ],
          "name": "stdout"
        }
      ]
    },
    {
      "cell_type": "code",
      "metadata": {
        "id": "IGKyayZrnBcc",
        "colab_type": "code",
        "colab": {
          "base_uri": "https://localhost:8080/",
          "height": 34
        },
        "outputId": "ba94901c-b05f-446f-e28b-9216594dee39"
      },
      "source": [
        "vggmodel.layers.pop()\n",
        "vggmodel.layers.pop()\n",
        "vggmodel.layers.pop()"
      ],
      "execution_count": 9,
      "outputs": [
        {
          "output_type": "execute_result",
          "data": {
            "text/plain": [
              "<keras.layers.core.Dense at 0x7f170ec73d30>"
            ]
          },
          "metadata": {
            "tags": []
          },
          "execution_count": 9
        }
      ]
    },
    {
      "cell_type": "code",
      "metadata": {
        "id": "DcSuJhHsnW_L",
        "colab_type": "code",
        "colab": {
          "base_uri": "https://localhost:8080/",
          "height": 357
        },
        "outputId": "816be6af-1fee-4b7b-d51d-583346e9d663"
      },
      "source": [
        "for layers in (vggmodel.layers):\n",
        "    print(layers)\n",
        "    layers.trainable = False"
      ],
      "execution_count": 10,
      "outputs": [
        {
          "output_type": "stream",
          "text": [
            "<keras.engine.input_layer.InputLayer object at 0x7f170ed1ba58>\n",
            "<keras.layers.convolutional.Conv2D object at 0x7f170ed23e80>\n",
            "<keras.layers.convolutional.Conv2D object at 0x7f170ecae518>\n",
            "<keras.layers.pooling.MaxPooling2D object at 0x7f170ecaea58>\n",
            "<keras.layers.convolutional.Conv2D object at 0x7f170ecae898>\n",
            "<keras.layers.convolutional.Conv2D object at 0x7f170ecb8588>\n",
            "<keras.layers.pooling.MaxPooling2D object at 0x7f170ecb8e80>\n",
            "<keras.layers.convolutional.Conv2D object at 0x7f170ecb8fd0>\n",
            "<keras.layers.convolutional.Conv2D object at 0x7f170ecc8c88>\n",
            "<keras.layers.convolutional.Conv2D object at 0x7f170ecd0828>\n",
            "<keras.layers.pooling.MaxPooling2D object at 0x7f170ecd72b0>\n",
            "<keras.layers.convolutional.Conv2D object at 0x7f170ecd70f0>\n",
            "<keras.layers.convolutional.Conv2D object at 0x7f170ecd7dd8>\n",
            "<keras.layers.convolutional.Conv2D object at 0x7f170ecde978>\n",
            "<keras.layers.pooling.MaxPooling2D object at 0x7f170ece5400>\n",
            "<keras.layers.convolutional.Conv2D object at 0x7f170ece5240>\n",
            "<keras.layers.convolutional.Conv2D object at 0x7f170ece5f28>\n",
            "<keras.layers.convolutional.Conv2D object at 0x7f170ec6cac8>\n",
            "<keras.layers.pooling.MaxPooling2D object at 0x7f170ec73550>\n",
            "<keras.layers.core.Flatten object at 0x7f170ec73390>\n"
          ],
          "name": "stdout"
        }
      ]
    },
    {
      "cell_type": "code",
      "metadata": {
        "id": "3y43Fuj5nLmi",
        "colab_type": "code",
        "colab": {
          "base_uri": "https://localhost:8080/",
          "height": 833
        },
        "outputId": "49f66fa9-66c9-47d8-9d68-cf64656086cd"
      },
      "source": [
        "vggmodel.summary()"
      ],
      "execution_count": 11,
      "outputs": [
        {
          "output_type": "stream",
          "text": [
            "Model: \"vgg16\"\n",
            "_________________________________________________________________\n",
            "Layer (type)                 Output Shape              Param #   \n",
            "=================================================================\n",
            "input_2 (InputLayer)         (None, 224, 224, 3)       0         \n",
            "_________________________________________________________________\n",
            "block1_conv1 (Conv2D)        (None, 224, 224, 64)      1792      \n",
            "_________________________________________________________________\n",
            "block1_conv2 (Conv2D)        (None, 224, 224, 64)      36928     \n",
            "_________________________________________________________________\n",
            "block1_pool (MaxPooling2D)   (None, 112, 112, 64)      0         \n",
            "_________________________________________________________________\n",
            "block2_conv1 (Conv2D)        (None, 112, 112, 128)     73856     \n",
            "_________________________________________________________________\n",
            "block2_conv2 (Conv2D)        (None, 112, 112, 128)     147584    \n",
            "_________________________________________________________________\n",
            "block2_pool (MaxPooling2D)   (None, 56, 56, 128)       0         \n",
            "_________________________________________________________________\n",
            "block3_conv1 (Conv2D)        (None, 56, 56, 256)       295168    \n",
            "_________________________________________________________________\n",
            "block3_conv2 (Conv2D)        (None, 56, 56, 256)       590080    \n",
            "_________________________________________________________________\n",
            "block3_conv3 (Conv2D)        (None, 56, 56, 256)       590080    \n",
            "_________________________________________________________________\n",
            "block3_pool (MaxPooling2D)   (None, 28, 28, 256)       0         \n",
            "_________________________________________________________________\n",
            "block4_conv1 (Conv2D)        (None, 28, 28, 512)       1180160   \n",
            "_________________________________________________________________\n",
            "block4_conv2 (Conv2D)        (None, 28, 28, 512)       2359808   \n",
            "_________________________________________________________________\n",
            "block4_conv3 (Conv2D)        (None, 28, 28, 512)       2359808   \n",
            "_________________________________________________________________\n",
            "block4_pool (MaxPooling2D)   (None, 14, 14, 512)       0         \n",
            "_________________________________________________________________\n",
            "block5_conv1 (Conv2D)        (None, 14, 14, 512)       2359808   \n",
            "_________________________________________________________________\n",
            "block5_conv2 (Conv2D)        (None, 14, 14, 512)       2359808   \n",
            "_________________________________________________________________\n",
            "block5_conv3 (Conv2D)        (None, 14, 14, 512)       2359808   \n",
            "_________________________________________________________________\n",
            "block5_pool (MaxPooling2D)   (None, 7, 7, 512)         0         \n",
            "_________________________________________________________________\n",
            "flatten (Flatten)            (None, 25088)             0         \n",
            "=================================================================\n",
            "Total params: 14,714,688\n",
            "Trainable params: 0\n",
            "Non-trainable params: 14,714,688\n",
            "_________________________________________________________________\n"
          ],
          "name": "stdout"
        }
      ]
    },
    {
      "cell_type": "code",
      "metadata": {
        "id": "59taDHdJ8ikh",
        "colab_type": "code",
        "colab": {
          "base_uri": "https://localhost:8080/",
          "height": 71
        },
        "outputId": "6a77d6d7-191e-431a-e170-5855529ddfb0"
      },
      "source": [
        "from tensorflow.keras import regularizers\n",
        "X= vggmodel.layers[-1].output\n",
        "dropout_1=Dropout(0.5)(X)\n",
        "fc_1=Dense(4096,activation='relu')(dropout_1)\n",
        "\n",
        "predictions = Dense(4, activation=\"softmax\")(fc_1)\n",
        "model_final = Model(input = vggmodel.input, output = predictions)\n"
      ],
      "execution_count": 12,
      "outputs": [
        {
          "output_type": "stream",
          "text": [
            "/usr/local/lib/python3.6/dist-packages/ipykernel_launcher.py:7: UserWarning: Update your `Model` call to the Keras 2 API: `Model(inputs=Tensor(\"in..., outputs=Tensor(\"de...)`\n",
            "  import sys\n"
          ],
          "name": "stderr"
        }
      ]
    },
    {
      "cell_type": "code",
      "metadata": {
        "id": "cNCno2TsnpGB",
        "colab_type": "code",
        "colab": {
          "base_uri": "https://localhost:8080/",
          "height": 935
        },
        "outputId": "d3000f25-c584-44a7-b25a-ff753a7575f9"
      },
      "source": [
        "model_final.summary()"
      ],
      "execution_count": 13,
      "outputs": [
        {
          "output_type": "stream",
          "text": [
            "Model: \"model_1\"\n",
            "_________________________________________________________________\n",
            "Layer (type)                 Output Shape              Param #   \n",
            "=================================================================\n",
            "input_2 (InputLayer)         (None, 224, 224, 3)       0         \n",
            "_________________________________________________________________\n",
            "block1_conv1 (Conv2D)        (None, 224, 224, 64)      1792      \n",
            "_________________________________________________________________\n",
            "block1_conv2 (Conv2D)        (None, 224, 224, 64)      36928     \n",
            "_________________________________________________________________\n",
            "block1_pool (MaxPooling2D)   (None, 112, 112, 64)      0         \n",
            "_________________________________________________________________\n",
            "block2_conv1 (Conv2D)        (None, 112, 112, 128)     73856     \n",
            "_________________________________________________________________\n",
            "block2_conv2 (Conv2D)        (None, 112, 112, 128)     147584    \n",
            "_________________________________________________________________\n",
            "block2_pool (MaxPooling2D)   (None, 56, 56, 128)       0         \n",
            "_________________________________________________________________\n",
            "block3_conv1 (Conv2D)        (None, 56, 56, 256)       295168    \n",
            "_________________________________________________________________\n",
            "block3_conv2 (Conv2D)        (None, 56, 56, 256)       590080    \n",
            "_________________________________________________________________\n",
            "block3_conv3 (Conv2D)        (None, 56, 56, 256)       590080    \n",
            "_________________________________________________________________\n",
            "block3_pool (MaxPooling2D)   (None, 28, 28, 256)       0         \n",
            "_________________________________________________________________\n",
            "block4_conv1 (Conv2D)        (None, 28, 28, 512)       1180160   \n",
            "_________________________________________________________________\n",
            "block4_conv2 (Conv2D)        (None, 28, 28, 512)       2359808   \n",
            "_________________________________________________________________\n",
            "block4_conv3 (Conv2D)        (None, 28, 28, 512)       2359808   \n",
            "_________________________________________________________________\n",
            "block4_pool (MaxPooling2D)   (None, 14, 14, 512)       0         \n",
            "_________________________________________________________________\n",
            "block5_conv1 (Conv2D)        (None, 14, 14, 512)       2359808   \n",
            "_________________________________________________________________\n",
            "block5_conv2 (Conv2D)        (None, 14, 14, 512)       2359808   \n",
            "_________________________________________________________________\n",
            "block5_conv3 (Conv2D)        (None, 14, 14, 512)       2359808   \n",
            "_________________________________________________________________\n",
            "block5_pool (MaxPooling2D)   (None, 7, 7, 512)         0         \n",
            "_________________________________________________________________\n",
            "flatten (Flatten)            (None, 25088)             0         \n",
            "_________________________________________________________________\n",
            "dropout_1 (Dropout)          (None, 25088)             0         \n",
            "_________________________________________________________________\n",
            "dense_1 (Dense)              (None, 4096)              102764544 \n",
            "_________________________________________________________________\n",
            "dense_2 (Dense)              (None, 4)                 16388     \n",
            "=================================================================\n",
            "Total params: 117,495,620\n",
            "Trainable params: 102,780,932\n",
            "Non-trainable params: 14,714,688\n",
            "_________________________________________________________________\n"
          ],
          "name": "stdout"
        }
      ]
    },
    {
      "cell_type": "code",
      "metadata": {
        "id": "4ZRoo4eZIZMv",
        "colab_type": "code",
        "colab": {
          "base_uri": "https://localhost:8080/",
          "height": 408
        },
        "outputId": "ded01f7d-48fc-46ef-dd76-77d4a614b9de"
      },
      "source": [
        "for i in model_final.layers:\n",
        "  print(i.trainable)"
      ],
      "execution_count": 14,
      "outputs": [
        {
          "output_type": "stream",
          "text": [
            "False\n",
            "False\n",
            "False\n",
            "False\n",
            "False\n",
            "False\n",
            "False\n",
            "False\n",
            "False\n",
            "False\n",
            "False\n",
            "False\n",
            "False\n",
            "False\n",
            "False\n",
            "False\n",
            "False\n",
            "False\n",
            "False\n",
            "False\n",
            "True\n",
            "True\n",
            "True\n"
          ],
          "name": "stdout"
        }
      ]
    },
    {
      "cell_type": "code",
      "metadata": {
        "id": "vFYbGbdq8vg8",
        "colab_type": "code",
        "colab": {}
      },
      "source": [
        "model_final.compile(loss = \"categorical_crossentropy\", optimizer = keras.optimizers.Adam(lr=0.0001), metrics=[\"accuracy\"])"
      ],
      "execution_count": 15,
      "outputs": []
    },
    {
      "cell_type": "code",
      "metadata": {
        "id": "i6yUCcd08xum",
        "colab_type": "code",
        "colab": {
          "base_uri": "https://localhost:8080/",
          "height": 935
        },
        "outputId": "e1f2b553-f275-4d94-f755-c6c41cc11da8"
      },
      "source": [
        "model_final.summary()"
      ],
      "execution_count": 16,
      "outputs": [
        {
          "output_type": "stream",
          "text": [
            "Model: \"model_1\"\n",
            "_________________________________________________________________\n",
            "Layer (type)                 Output Shape              Param #   \n",
            "=================================================================\n",
            "input_2 (InputLayer)         (None, 224, 224, 3)       0         \n",
            "_________________________________________________________________\n",
            "block1_conv1 (Conv2D)        (None, 224, 224, 64)      1792      \n",
            "_________________________________________________________________\n",
            "block1_conv2 (Conv2D)        (None, 224, 224, 64)      36928     \n",
            "_________________________________________________________________\n",
            "block1_pool (MaxPooling2D)   (None, 112, 112, 64)      0         \n",
            "_________________________________________________________________\n",
            "block2_conv1 (Conv2D)        (None, 112, 112, 128)     73856     \n",
            "_________________________________________________________________\n",
            "block2_conv2 (Conv2D)        (None, 112, 112, 128)     147584    \n",
            "_________________________________________________________________\n",
            "block2_pool (MaxPooling2D)   (None, 56, 56, 128)       0         \n",
            "_________________________________________________________________\n",
            "block3_conv1 (Conv2D)        (None, 56, 56, 256)       295168    \n",
            "_________________________________________________________________\n",
            "block3_conv2 (Conv2D)        (None, 56, 56, 256)       590080    \n",
            "_________________________________________________________________\n",
            "block3_conv3 (Conv2D)        (None, 56, 56, 256)       590080    \n",
            "_________________________________________________________________\n",
            "block3_pool (MaxPooling2D)   (None, 28, 28, 256)       0         \n",
            "_________________________________________________________________\n",
            "block4_conv1 (Conv2D)        (None, 28, 28, 512)       1180160   \n",
            "_________________________________________________________________\n",
            "block4_conv2 (Conv2D)        (None, 28, 28, 512)       2359808   \n",
            "_________________________________________________________________\n",
            "block4_conv3 (Conv2D)        (None, 28, 28, 512)       2359808   \n",
            "_________________________________________________________________\n",
            "block4_pool (MaxPooling2D)   (None, 14, 14, 512)       0         \n",
            "_________________________________________________________________\n",
            "block5_conv1 (Conv2D)        (None, 14, 14, 512)       2359808   \n",
            "_________________________________________________________________\n",
            "block5_conv2 (Conv2D)        (None, 14, 14, 512)       2359808   \n",
            "_________________________________________________________________\n",
            "block5_conv3 (Conv2D)        (None, 14, 14, 512)       2359808   \n",
            "_________________________________________________________________\n",
            "block5_pool (MaxPooling2D)   (None, 7, 7, 512)         0         \n",
            "_________________________________________________________________\n",
            "flatten (Flatten)            (None, 25088)             0         \n",
            "_________________________________________________________________\n",
            "dropout_1 (Dropout)          (None, 25088)             0         \n",
            "_________________________________________________________________\n",
            "dense_1 (Dense)              (None, 4096)              102764544 \n",
            "_________________________________________________________________\n",
            "dense_2 (Dense)              (None, 4)                 16388     \n",
            "=================================================================\n",
            "Total params: 117,495,620\n",
            "Trainable params: 102,780,932\n",
            "Non-trainable params: 14,714,688\n",
            "_________________________________________________________________\n"
          ],
          "name": "stdout"
        }
      ]
    },
    {
      "cell_type": "code",
      "metadata": {
        "id": "UIV1Rie889QA",
        "colab_type": "code",
        "colab": {
          "base_uri": "https://localhost:8080/",
          "height": 1000
        },
        "outputId": "cccabb62-d6c8-4db1-c321-70f1ea47db01"
      },
      "source": [
        "from keras.callbacks import ModelCheckpoint, EarlyStopping\n",
        "checkpoint = ModelCheckpoint(\"vgg16_1.h5\", monitor='val_accuracy', verbose=1, save_best_only=True, save_weights_only=False, mode='auto', period=1)\n",
        "early = EarlyStopping(monitor='val_acc', min_delta=0, patience=40, verbose=1, mode='auto')\n",
        "hist=model_final.fit(traindata, steps_per_epoch= 5,epochs= 50, validation_data= testdata, validation_steps=2, callbacks=[checkpoint,early])\n",
        "model_final.save_weights(\"vgg16_1.h5\")"
      ],
      "execution_count": 17,
      "outputs": [
        {
          "output_type": "stream",
          "text": [
            "Epoch 1/50\n",
            "5/5 [==============================] - 123s 25s/step - loss: 3.1415 - accuracy: 0.4938 - val_loss: 2.7915 - val_accuracy: 0.5938\n",
            "\n",
            "Epoch 00001: val_accuracy improved from -inf to 0.59375, saving model to vgg16_1.h5\n"
          ],
          "name": "stdout"
        },
        {
          "output_type": "stream",
          "text": [
            "/usr/local/lib/python3.6/dist-packages/keras/callbacks/callbacks.py:846: RuntimeWarning: Early stopping conditioned on metric `val_acc` which is not available. Available metrics are: val_loss,val_accuracy,loss,accuracy\n",
            "  (self.monitor, ','.join(list(logs.keys()))), RuntimeWarning\n"
          ],
          "name": "stderr"
        },
        {
          "output_type": "stream",
          "text": [
            "Epoch 2/50\n",
            "5/5 [==============================] - 104s 21s/step - loss: 1.7854 - accuracy: 0.7125 - val_loss: 1.3451 - val_accuracy: 0.7222\n",
            "\n",
            "Epoch 00002: val_accuracy improved from 0.59375 to 0.72222, saving model to vgg16_1.h5\n",
            "Epoch 3/50\n",
            "5/5 [==============================] - 121s 24s/step - loss: 2.4973 - accuracy: 0.7750 - val_loss: 1.3632 - val_accuracy: 0.7812\n",
            "\n",
            "Epoch 00003: val_accuracy improved from 0.72222 to 0.78125, saving model to vgg16_1.h5\n",
            "Epoch 4/50\n",
            "5/5 [==============================] - 104s 21s/step - loss: 1.7115 - accuracy: 0.7812 - val_loss: 2.2364 - val_accuracy: 0.6389\n",
            "\n",
            "Epoch 00004: val_accuracy did not improve from 0.78125\n",
            "Epoch 5/50\n",
            "5/5 [==============================] - 120s 24s/step - loss: 2.1446 - accuracy: 0.7500 - val_loss: 1.2452 - val_accuracy: 0.8281\n",
            "\n",
            "Epoch 00005: val_accuracy improved from 0.78125 to 0.82812, saving model to vgg16_1.h5\n",
            "Epoch 6/50\n",
            "5/5 [==============================] - 106s 21s/step - loss: 1.1536 - accuracy: 0.8500 - val_loss: 0.0598 - val_accuracy: 0.7500\n",
            "\n",
            "Epoch 00006: val_accuracy did not improve from 0.82812\n",
            "Epoch 7/50\n",
            "5/5 [==============================] - 118s 24s/step - loss: 0.5179 - accuracy: 0.8813 - val_loss: 3.1582 - val_accuracy: 0.8125\n",
            "\n",
            "Epoch 00007: val_accuracy did not improve from 0.82812\n",
            "Epoch 8/50\n",
            "5/5 [==============================] - 105s 21s/step - loss: 1.0694 - accuracy: 0.7875 - val_loss: 7.3628 - val_accuracy: 0.7778\n",
            "\n",
            "Epoch 00008: val_accuracy did not improve from 0.82812\n",
            "Epoch 9/50\n",
            "5/5 [==============================] - 119s 24s/step - loss: 0.6654 - accuracy: 0.8813 - val_loss: 0.9120 - val_accuracy: 0.8125\n",
            "\n",
            "Epoch 00009: val_accuracy did not improve from 0.82812\n",
            "Epoch 10/50\n",
            "5/5 [==============================] - 104s 21s/step - loss: 1.0806 - accuracy: 0.8375 - val_loss: 3.0360 - val_accuracy: 0.6944\n",
            "\n",
            "Epoch 00010: val_accuracy did not improve from 0.82812\n",
            "Epoch 11/50\n",
            "5/5 [==============================] - 118s 24s/step - loss: 0.4847 - accuracy: 0.9187 - val_loss: 3.0816 - val_accuracy: 0.7500\n",
            "\n",
            "Epoch 00011: val_accuracy did not improve from 0.82812\n",
            "Epoch 12/50\n",
            "5/5 [==============================] - 106s 21s/step - loss: 0.7537 - accuracy: 0.9125 - val_loss: 0.4151 - val_accuracy: 0.8056\n",
            "\n",
            "Epoch 00012: val_accuracy did not improve from 0.82812\n",
            "Epoch 13/50\n",
            "5/5 [==============================] - 119s 24s/step - loss: 0.4765 - accuracy: 0.9125 - val_loss: 2.7434 - val_accuracy: 0.7812\n",
            "\n",
            "Epoch 00013: val_accuracy did not improve from 0.82812\n",
            "Epoch 14/50\n",
            "5/5 [==============================] - 105s 21s/step - loss: 0.3488 - accuracy: 0.9062 - val_loss: 1.8577 - val_accuracy: 0.8056\n",
            "\n",
            "Epoch 00014: val_accuracy did not improve from 0.82812\n",
            "Epoch 15/50\n",
            "5/5 [==============================] - 119s 24s/step - loss: 0.4848 - accuracy: 0.9187 - val_loss: 1.7045 - val_accuracy: 0.7812\n",
            "\n",
            "Epoch 00015: val_accuracy did not improve from 0.82812\n",
            "Epoch 16/50\n",
            "5/5 [==============================] - 105s 21s/step - loss: 0.2612 - accuracy: 0.9438 - val_loss: 0.0203 - val_accuracy: 0.8056\n",
            "\n",
            "Epoch 00016: val_accuracy did not improve from 0.82812\n",
            "Epoch 17/50\n",
            "5/5 [==============================] - 118s 24s/step - loss: 0.3317 - accuracy: 0.9312 - val_loss: 0.6859 - val_accuracy: 0.8438\n",
            "\n",
            "Epoch 00017: val_accuracy improved from 0.82812 to 0.84375, saving model to vgg16_1.h5\n",
            "Epoch 18/50\n",
            "5/5 [==============================] - 105s 21s/step - loss: 0.4188 - accuracy: 0.9062 - val_loss: 0.0693 - val_accuracy: 0.8333\n",
            "\n",
            "Epoch 00018: val_accuracy did not improve from 0.84375\n",
            "Epoch 19/50\n",
            "5/5 [==============================] - 118s 24s/step - loss: 0.3279 - accuracy: 0.9375 - val_loss: 0.7880 - val_accuracy: 0.7812\n",
            "\n",
            "Epoch 00019: val_accuracy did not improve from 0.84375\n",
            "Epoch 20/50\n",
            "5/5 [==============================] - 105s 21s/step - loss: 0.3992 - accuracy: 0.9250 - val_loss: 2.4759 - val_accuracy: 0.8056\n",
            "\n",
            "Epoch 00020: val_accuracy did not improve from 0.84375\n",
            "Epoch 21/50\n",
            "5/5 [==============================] - 120s 24s/step - loss: 0.5502 - accuracy: 0.8750 - val_loss: 1.9036 - val_accuracy: 0.8438\n",
            "\n",
            "Epoch 00021: val_accuracy did not improve from 0.84375\n",
            "Epoch 22/50\n",
            "5/5 [==============================] - 105s 21s/step - loss: 0.4282 - accuracy: 0.9250 - val_loss: 2.9087 - val_accuracy: 0.7222\n",
            "\n",
            "Epoch 00022: val_accuracy did not improve from 0.84375\n",
            "Epoch 23/50\n",
            "5/5 [==============================] - 118s 24s/step - loss: 0.1709 - accuracy: 0.9500 - val_loss: 1.0403 - val_accuracy: 0.7812\n",
            "\n",
            "Epoch 00023: val_accuracy did not improve from 0.84375\n",
            "Epoch 24/50\n",
            "5/5 [==============================] - 105s 21s/step - loss: 0.5086 - accuracy: 0.9000 - val_loss: 1.6825 - val_accuracy: 0.7778\n",
            "\n",
            "Epoch 00024: val_accuracy did not improve from 0.84375\n",
            "Epoch 25/50\n",
            "5/5 [==============================] - 118s 24s/step - loss: 0.1983 - accuracy: 0.9563 - val_loss: 1.3045 - val_accuracy: 0.8750\n",
            "\n",
            "Epoch 00025: val_accuracy improved from 0.84375 to 0.87500, saving model to vgg16_1.h5\n",
            "Epoch 26/50\n",
            "5/5 [==============================] - 104s 21s/step - loss: 0.2492 - accuracy: 0.9500 - val_loss: 0.0012 - val_accuracy: 0.5833\n",
            "\n",
            "Epoch 00026: val_accuracy did not improve from 0.87500\n",
            "Epoch 27/50\n",
            "5/5 [==============================] - 118s 24s/step - loss: 0.5018 - accuracy: 0.9250 - val_loss: 2.4162 - val_accuracy: 0.7500\n",
            "\n",
            "Epoch 00027: val_accuracy did not improve from 0.87500\n",
            "Epoch 28/50\n",
            "5/5 [==============================] - 104s 21s/step - loss: 0.5037 - accuracy: 0.9250 - val_loss: 0.9305 - val_accuracy: 0.7222\n",
            "\n",
            "Epoch 00028: val_accuracy did not improve from 0.87500\n",
            "Epoch 29/50\n",
            "5/5 [==============================] - 118s 24s/step - loss: 0.0917 - accuracy: 0.9812 - val_loss: 1.7052 - val_accuracy: 0.7969\n",
            "\n",
            "Epoch 00029: val_accuracy did not improve from 0.87500\n",
            "Epoch 30/50\n",
            "5/5 [==============================] - 104s 21s/step - loss: 0.1598 - accuracy: 0.9563 - val_loss: 0.0171 - val_accuracy: 0.8056\n",
            "\n",
            "Epoch 00030: val_accuracy did not improve from 0.87500\n",
            "Epoch 31/50\n",
            "5/5 [==============================] - 120s 24s/step - loss: 0.2468 - accuracy: 0.9500 - val_loss: 2.8074 - val_accuracy: 0.7344\n",
            "\n",
            "Epoch 00031: val_accuracy did not improve from 0.87500\n",
            "Epoch 32/50\n",
            "5/5 [==============================] - 104s 21s/step - loss: 0.2696 - accuracy: 0.9250 - val_loss: 1.8554 - val_accuracy: 0.8333\n",
            "\n",
            "Epoch 00032: val_accuracy did not improve from 0.87500\n",
            "Epoch 33/50\n",
            "5/5 [==============================] - 118s 24s/step - loss: 0.1054 - accuracy: 0.9563 - val_loss: 1.2927 - val_accuracy: 0.8594\n",
            "\n",
            "Epoch 00033: val_accuracy did not improve from 0.87500\n",
            "Epoch 34/50\n",
            "5/5 [==============================] - 104s 21s/step - loss: 0.1277 - accuracy: 0.9625 - val_loss: 0.0110 - val_accuracy: 0.7500\n",
            "\n",
            "Epoch 00034: val_accuracy did not improve from 0.87500\n",
            "Epoch 35/50\n",
            "5/5 [==============================] - 120s 24s/step - loss: 0.3640 - accuracy: 0.9438 - val_loss: 0.6339 - val_accuracy: 0.9219\n",
            "\n",
            "Epoch 00035: val_accuracy improved from 0.87500 to 0.92188, saving model to vgg16_1.h5\n",
            "Epoch 36/50\n",
            "5/5 [==============================] - 105s 21s/step - loss: 0.1507 - accuracy: 0.9500 - val_loss: 0.1051 - val_accuracy: 0.8056\n",
            "\n",
            "Epoch 00036: val_accuracy did not improve from 0.92188\n",
            "Epoch 37/50\n",
            "5/5 [==============================] - 118s 24s/step - loss: 0.2755 - accuracy: 0.9500 - val_loss: 1.6268 - val_accuracy: 0.7500\n",
            "\n",
            "Epoch 00037: val_accuracy did not improve from 0.92188\n",
            "Epoch 38/50\n",
            "5/5 [==============================] - 111s 22s/step - loss: 0.1194 - accuracy: 0.9563 - val_loss: 0.2816 - val_accuracy: 0.7778\n",
            "\n",
            "Epoch 00038: val_accuracy did not improve from 0.92188\n",
            "Epoch 39/50\n",
            "5/5 [==============================] - 117s 23s/step - loss: 0.1721 - accuracy: 0.9563 - val_loss: 0.3787 - val_accuracy: 0.8125\n",
            "\n",
            "Epoch 00039: val_accuracy did not improve from 0.92188\n",
            "Epoch 40/50\n",
            "5/5 [==============================] - 104s 21s/step - loss: 0.2485 - accuracy: 0.9500 - val_loss: 3.6468 - val_accuracy: 0.7500\n",
            "\n",
            "Epoch 00040: val_accuracy did not improve from 0.92188\n",
            "Epoch 41/50\n",
            "5/5 [==============================] - 118s 24s/step - loss: 0.1865 - accuracy: 0.9500 - val_loss: 2.4646 - val_accuracy: 0.7344\n",
            "\n",
            "Epoch 00041: val_accuracy did not improve from 0.92188\n",
            "Epoch 42/50\n",
            "5/5 [==============================] - 104s 21s/step - loss: 0.1829 - accuracy: 0.9625 - val_loss: 3.9724 - val_accuracy: 0.7778\n",
            "\n",
            "Epoch 00042: val_accuracy did not improve from 0.92188\n",
            "Epoch 43/50\n",
            "5/5 [==============================] - 118s 24s/step - loss: 0.0467 - accuracy: 0.9750 - val_loss: 1.2065 - val_accuracy: 0.8125\n",
            "\n",
            "Epoch 00043: val_accuracy did not improve from 0.92188\n",
            "Epoch 44/50\n",
            "5/5 [==============================] - 106s 21s/step - loss: 0.1479 - accuracy: 0.9563 - val_loss: 2.6211 - val_accuracy: 0.7778\n",
            "\n",
            "Epoch 00044: val_accuracy did not improve from 0.92188\n",
            "Epoch 45/50\n",
            "5/5 [==============================] - 118s 24s/step - loss: 0.2118 - accuracy: 0.9563 - val_loss: 0.4728 - val_accuracy: 0.7812\n",
            "\n",
            "Epoch 00045: val_accuracy did not improve from 0.92188\n",
            "Epoch 46/50\n",
            "5/5 [==============================] - 107s 21s/step - loss: 0.2426 - accuracy: 0.9563 - val_loss: 0.0029 - val_accuracy: 0.9167\n",
            "\n",
            "Epoch 00046: val_accuracy did not improve from 0.92188\n",
            "Epoch 47/50\n",
            "5/5 [==============================] - 118s 24s/step - loss: 0.1884 - accuracy: 0.9375 - val_loss: 1.0893 - val_accuracy: 0.8281\n",
            "\n",
            "Epoch 00047: val_accuracy did not improve from 0.92188\n",
            "Epoch 48/50\n",
            "5/5 [==============================] - 104s 21s/step - loss: 0.1008 - accuracy: 0.9500 - val_loss: 0.6355 - val_accuracy: 0.6944\n",
            "\n",
            "Epoch 00048: val_accuracy did not improve from 0.92188\n",
            "Epoch 49/50\n",
            "5/5 [==============================] - 118s 24s/step - loss: 0.3424 - accuracy: 0.9187 - val_loss: 1.0391 - val_accuracy: 0.8750\n",
            "\n",
            "Epoch 00049: val_accuracy did not improve from 0.92188\n",
            "Epoch 50/50\n",
            "5/5 [==============================] - 104s 21s/step - loss: 0.1465 - accuracy: 0.9563 - val_loss: 2.1532 - val_accuracy: 0.8056\n",
            "\n",
            "Epoch 00050: val_accuracy did not improve from 0.92188\n"
          ],
          "name": "stdout"
        }
      ]
    },
    {
      "cell_type": "markdown",
      "metadata": {
        "id": "ED7u_hcD3h4c",
        "colab_type": "text"
      },
      "source": [
        ""
      ]
    },
    {
      "cell_type": "code",
      "metadata": {
        "id": "YtQxWrIlPU_M",
        "colab_type": "code",
        "colab": {
          "base_uri": "https://localhost:8080/",
          "height": 231
        },
        "outputId": "0245f084-0cb7-4588-c671-1f12b60bcdb7"
      },
      "source": [
        "import matplotlib.pyplot as plt\n",
        "plt.plot(hist.history[\"accuracy\"])\n",
        "plt.plot(hist.history['val_accuracy'])\n",
        "\n",
        "plt.title(\"model accuracy\")\n",
        "plt.ylabel(\"Accuracy\")\n",
        "plt.xlabel(\"Epoch\")\n",
        "plt.legend([\"Accuracy\",\"Validation Accuracy\"])\n",
        "plt.show()"
      ],
      "execution_count": 1,
      "outputs": [
        {
          "output_type": "error",
          "ename": "NameError",
          "evalue": "ignored",
          "traceback": [
            "\u001b[0;31m---------------------------------------------------------------------------\u001b[0m",
            "\u001b[0;31mNameError\u001b[0m                                 Traceback (most recent call last)",
            "\u001b[0;32m<ipython-input-1-075b81657a5b>\u001b[0m in \u001b[0;36m<module>\u001b[0;34m()\u001b[0m\n\u001b[1;32m      1\u001b[0m \u001b[0;32mimport\u001b[0m \u001b[0mmatplotlib\u001b[0m\u001b[0;34m.\u001b[0m\u001b[0mpyplot\u001b[0m \u001b[0;32mas\u001b[0m \u001b[0mplt\u001b[0m\u001b[0;34m\u001b[0m\u001b[0;34m\u001b[0m\u001b[0m\n\u001b[0;32m----> 2\u001b[0;31m \u001b[0mplt\u001b[0m\u001b[0;34m.\u001b[0m\u001b[0mplot\u001b[0m\u001b[0;34m(\u001b[0m\u001b[0mhist\u001b[0m\u001b[0;34m.\u001b[0m\u001b[0mhistory\u001b[0m\u001b[0;34m[\u001b[0m\u001b[0;34m\"accuracy\"\u001b[0m\u001b[0;34m]\u001b[0m\u001b[0;34m)\u001b[0m\u001b[0;34m\u001b[0m\u001b[0;34m\u001b[0m\u001b[0m\n\u001b[0m\u001b[1;32m      3\u001b[0m \u001b[0mplt\u001b[0m\u001b[0;34m.\u001b[0m\u001b[0mplot\u001b[0m\u001b[0;34m(\u001b[0m\u001b[0mhist\u001b[0m\u001b[0;34m.\u001b[0m\u001b[0mhistory\u001b[0m\u001b[0;34m[\u001b[0m\u001b[0;34m'val_accuracy'\u001b[0m\u001b[0;34m]\u001b[0m\u001b[0;34m)\u001b[0m\u001b[0;34m\u001b[0m\u001b[0;34m\u001b[0m\u001b[0m\n\u001b[1;32m      4\u001b[0m \u001b[0;34m\u001b[0m\u001b[0m\n\u001b[1;32m      5\u001b[0m \u001b[0mplt\u001b[0m\u001b[0;34m.\u001b[0m\u001b[0mtitle\u001b[0m\u001b[0;34m(\u001b[0m\u001b[0;34m\"model accuracy\"\u001b[0m\u001b[0;34m)\u001b[0m\u001b[0;34m\u001b[0m\u001b[0;34m\u001b[0m\u001b[0m\n",
            "\u001b[0;31mNameError\u001b[0m: name 'hist' is not defined"
          ]
        }
      ]
    },
    {
      "cell_type": "code",
      "metadata": {
        "id": "EsjZHi9jaU4Y",
        "colab_type": "code",
        "colab": {
          "base_uri": "https://localhost:8080/",
          "height": 279
        },
        "outputId": "e1d31da1-8bbc-4dc4-e19e-b22d2ea21713"
      },
      "source": [
        "plt.plot(hist.history['loss'])\n",
        "plt.plot(hist.history['val_loss'])\n",
        "plt.ylabel(\"Loss\")\n",
        "plt.xlabel(\"Epoch\")\n",
        "plt.legend([\"loss\",\"Validation Loss\"])\n",
        "plt.show()"
      ],
      "execution_count": 107,
      "outputs": [
        {
          "output_type": "display_data",
          "data": {
            "image/png": "[encoded data removed]",
            "text/plain": [
              "<Figure size 432x288 with 1 Axes>"
            ]
          },
          "metadata": {
            "tags": [],
            "needs_background": "light"
          }
        }
      ]
    },
    {
      "cell_type": "code",
      "metadata": {
        "id": "_2GdDycwS52M",
        "colab_type": "code",
        "colab": {}
      },
      "source": [
        "from keras.preprocessing.image import ImageDataGenerator\n",
        "from sklearn.metrics import classification_report, confusion_matrix\n",
        "\n",
        "test_datagen = ImageDataGenerator()"
      ],
      "execution_count": 108,
      "outputs": []
    },
    {
      "cell_type": "code",
      "metadata": {
        "id": "9-fknWZIS-CT",
        "colab_type": "code",
        "colab": {
          "base_uri": "https://localhost:8080/",
          "height": 34
        },
        "outputId": "6155851a-0a4e-4973-b784-85ec7ecf0ef7"
      },
      "source": [
        "validation_generator = test_datagen.flow_from_directory('/content/drive/My Drive/data_ouput/test',\n",
        "                                                        target_size=(224, 224),\n",
        "                                                        batch_size=32,\n",
        "                                                        class_mode='categorical')"
      ],
      "execution_count": 109,
      "outputs": [
        {
          "output_type": "stream",
          "text": [
            "Found 100 images belonging to 4 classes.\n"
          ],
          "name": "stdout"
        }
      ]
    },
    {
      "cell_type": "code",
      "metadata": {
        "id": "RSoXpGKcTEnR",
        "colab_type": "code",
        "colab": {
          "base_uri": "https://localhost:8080/",
          "height": 306
        },
        "outputId": "944ad7e8-f89c-405d-ed17-2122f3615638"
      },
      "source": [
        "import numpy as np\n",
        "#Confution Matrix and Classification Report\n",
        "Y_pred = model_final.predict_generator(validation_generator)\n",
        "y_pred = np.argmax(Y_pred, axis=1)\n",
        "print('Confusion Matrix')\n",
        "print(confusion_matrix(validation_generator.classes, y_pred))\n",
        "print('Classification Report')\n",
        "target_names = ['grade0', 'grade1', 'grade2','grade3']\n",
        "print(classification_report(validation_generator.classes, y_pred, target_names=target_names))"
      ],
      "execution_count": 110,
      "outputs": [
        {
          "output_type": "stream",
          "text": [
            "Confusion Matrix\n",
            "[[11  5  8  1]\n",
            " [ 5 11  3  6]\n",
            " [ 5  4  5 11]\n",
            " [ 3  6 10  6]]\n",
            "Classification Report\n",
            "              precision    recall  f1-score   support\n",
            "\n",
            "      grade0       0.46      0.44      0.45        25\n",
            "      grade1       0.42      0.44      0.43        25\n",
            "      grade2       0.19      0.20      0.20        25\n",
            "      grade3       0.25      0.24      0.24        25\n",
            "\n",
            "    accuracy                           0.33       100\n",
            "   macro avg       0.33      0.33      0.33       100\n",
            "weighted avg       0.33      0.33      0.33       100\n",
            "\n"
          ],
          "name": "stdout"
        }
      ]
    },
    {
      "cell_type": "code",
      "metadata": {
        "id": "B-E18MG6VMMN",
        "colab_type": "code",
        "colab": {
          "base_uri": "https://localhost:8080/",
          "height": 269
        },
        "outputId": "57650897-b527-47fc-bbda-5220e9022fd4"
      },
      "source": [
        "from keras.preprocessing import image\n",
        "import matplotlib.pyplot as plt\n",
        "\n",
        "img = image.load_img(\"/content/drive/My Drive/data_ouput/test/grade1/grade1-079.jpg\",target_size=(224,224))\n",
        "img = np.asarray(img)\n",
        "plt.imshow(img)\n",
        "img = np.expand_dims(img, axis=0)"
      ],
      "execution_count": 111,
      "outputs": [
        {
          "output_type": "display_data",
          "data": {
            "image/png": "[encoded data removed]",
            "text/plain": [
              "<Figure size 432x288 with 1 Axes>"
            ]
          },
          "metadata": {
            "tags": [],
            "needs_background": "light"
          }
        }
      ]
    },
    {
      "cell_type": "code",
      "metadata": {
        "id": "Ux21nwVeV0mE",
        "colab_type": "code",
        "colab": {}
      },
      "source": [
        "output = model_final.predict(img)"
      ],
      "execution_count": 112,
      "outputs": []
    },
    {
      "cell_type": "code",
      "metadata": {
        "id": "crw2NNGyV7kN",
        "colab_type": "code",
        "colab": {
          "base_uri": "https://localhost:8080/",
          "height": 34
        },
        "outputId": "e2b9e9a4-c244-40ab-926d-8246d5c1eb97"
      },
      "source": [
        "output\n",
        "ans='grade'+str(np.argmax(output[0],axis=0))\n",
        "print(ans)"
      ],
      "execution_count": 113,
      "outputs": [
        {
          "output_type": "stream",
          "text": [
            "grade1\n"
          ],
          "name": "stdout"
        }
      ]
    },
    {
      "cell_type": "code",
      "metadata": {
        "id": "YbH-5BZmX-K4",
        "colab_type": "code",
        "colab": {
          "base_uri": "https://localhost:8080/",
          "height": 153
        },
        "outputId": "1cf44e49-e924-4a5b-dd03-c6910999b715"
      },
      "source": [
        "import os\n",
        "data_path='/content/drive/My Drive/data_ouput/test'\n",
        "data_dir_list=os.listdir(data_path)\n",
        "for dataset in data_dir_list:\n",
        "  print(dataset)\n",
        "  img_list=os.listdir(data_path+'/'+dataset)\n",
        "  correctCount=0\n",
        "  wrongCount=0\n",
        "  for img in img_list:\n",
        "    img_path=data_path+'/'+dataset+'/'+img\n",
        "    input_image = image.load_img(img_path,target_size=(224,224))\n",
        "    input_image = np.asarray(input_image)\n",
        "    input_image = np.expand_dims(input_image, axis=0)\n",
        "    output = model_final.predict(input_image)\n",
        "    ans='grade'+str(np.argmax(output[0],axis=0))\n",
        "    if( ans in img):\n",
        "      correctCount+=1\n",
        "    else:\n",
        "      wrongCount+=1\n",
        "  print(\"correct Count {} WrongCount {}\".format(correctCount,wrongCount))\n",
        "\n",
        "\n"
      ],
      "execution_count": 114,
      "outputs": [
        {
          "output_type": "stream",
          "text": [
            "grade1\n",
            "correct Count 21 WrongCount 4\n",
            "grade0\n",
            "correct Count 23 WrongCount 2\n",
            "grade2\n",
            "correct Count 22 WrongCount 3\n",
            "grade3\n",
            "correct Count 22 WrongCount 3\n"
          ],
          "name": "stdout"
        }
      ]
    },
    {
      "cell_type": "code",
      "metadata": {
        "id": "Ml4QAr_Avw2T",
        "colab_type": "code",
        "colab": {
          "base_uri": "https://localhost:8080/",
          "height": 51
        },
        "outputId": "d3595ccd-cfc2-4554-941b-6e00f43adb96"
      },
      "source": [
        "tr_loss,tr_acc=model_final.evaluate(validation_generator)\n",
        "tr_acc"
      ],
      "execution_count": 115,
      "outputs": [
        {
          "output_type": "stream",
          "text": [
            "4/4 [==============================] - 51s 13s/step\n"
          ],
          "name": "stdout"
        },
        {
          "output_type": "execute_result",
          "data": {
            "text/plain": [
              "0.8799999952316284"
            ]
          },
          "metadata": {
            "tags": []
          },
          "execution_count": 115
        }
      ]
    },
    {
      "cell_type": "code",
      "metadata": {
        "id": "uQ_U_O6XcOQY",
        "colab_type": "code",
        "colab": {}
      },
      "source": [
        ""
      ],
      "execution_count": null,
      "outputs": []
    },
    {
      "cell_type": "code",
      "metadata": {
        "id": "R6Fx71JwgONy",
        "colab_type": "code",
        "colab": {}
      },
      "source": [
        ""
      ],
      "execution_count": null,
      "outputs": []
    },
    {
      "cell_type": "code",
      "metadata": {
        "id": "PiiV053i4At7",
        "colab_type": "code",
        "colab": {}
      },
      "source": [
        "model_final.save('/content/drive/My Drive/Best models/modelbest.h5')"
      ],
      "execution_count": null,
      "outputs": []
    }
  ]
}