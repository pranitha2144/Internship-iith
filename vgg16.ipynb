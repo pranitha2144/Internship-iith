{
  "nbformat": 4,
  "nbformat_minor": 0,
  "metadata": {
    "colab": {
      "name": "vgg16",
      "provenance": [],
      "mount_file_id": "1IhyoGy7EHEgj120Y7aEt15WFbYJP6aXH",
      "authorship_tag": "ABX9TyN9qQctW15R+07/v4wBruT7",
      "include_colab_link": true
    },
    "kernelspec": {
      "name": "python3",
      "display_name": "Python 3"
    }
  },
  "cells": [
    {
      "cell_type": "markdown",
      "metadata": {
        "id": "view-in-github",
        "colab_type": "text"
      },
      "source": [
        "<a href=\"https://colab.research.google.com/github/pranitha2144/Internship-iith/blob/Resnet/vgg16.ipynb\" target=\"_parent\"><img src=\"https://colab.research.google.com/assets/colab-badge.svg\" alt=\"Open In Colab\"/></a>"
      ]
    },
    {
      "cell_type": "code",
      "metadata": {
        "id": "3i-5qcxM7pSC",
        "colab_type": "code",
        "colab": {}
      },
      "source": [
        "import keras\n",
        "from keras.models import Model\n",
        "from keras.layers import Dense\n",
        "from keras import optimizers\n",
        "from keras.preprocessing.image import ImageDataGenerator\n",
        "from keras.preprocessing import image"
      ],
      "execution_count": 2,
      "outputs": []
    },
    {
      "cell_type": "code",
      "metadata": {
        "id": "P_NCAugx70fs",
        "colab_type": "code",
        "colab": {
          "base_uri": "https://localhost:8080/",
          "height": 51
        },
        "outputId": "80dfa7ea-2c54-4b0b-a8f6-5fefb2355cb8"
      },
      "source": [
        "trdata = ImageDataGenerator(brightness_range=[1,1.5])\n",
        "traindata = trdata.flow_from_directory(directory=\"/content/drive/My Drive/data_ouput/train\",shuffle=True,target_size=(224,224))\n",
        "tsdata = ImageDataGenerator()\n",
        "testdata = tsdata.flow_from_directory(directory=\"/content/drive/My Drive/data_ouput/val\",shuffle=True, target_size=(224,224))"
      ],
      "execution_count": 6,
      "outputs": [
        {
          "output_type": "stream",
          "text": [
            "Found 800 images belonging to 4 classes.\n",
            "Found 100 images belonging to 4 classes.\n"
          ],
          "name": "stdout"
        }
      ]
    },
    {
      "cell_type": "code",
      "metadata": {
        "id": "rg_JdtWb8O00",
        "colab_type": "code",
        "colab": {
          "base_uri": "https://localhost:8080/",
          "height": 51
        },
        "outputId": "baff2bae-e5c1-4a3e-c31f-facc6ced9472"
      },
      "source": [
        "from keras.applications.vgg16 import VGG16\n",
        "vggmodel = VGG16(weights='imagenet', include_top=True)"
      ],
      "execution_count": 7,
      "outputs": [
        {
          "output_type": "stream",
          "text": [
            "Downloading data from https://github.com/fchollet/deep-learning-models/releases/download/v0.1/vgg16_weights_tf_dim_ordering_tf_kernels.h5\n",
            "553467904/553467096 [==============================] - 6s 0us/step\n"
          ],
          "name": "stdout"
        }
      ]
    },
    {
      "cell_type": "code",
      "metadata": {
        "id": "PKuEFjHt8TfJ",
        "colab_type": "code",
        "colab": {
          "base_uri": "https://localhost:8080/",
          "height": 935
        },
        "outputId": "2c6004d9-ab0a-4366-ea3a-5dfdd36c4ba3"
      },
      "source": [
        "vggmodel.summary()"
      ],
      "execution_count": 8,
      "outputs": [
        {
          "output_type": "stream",
          "text": [
            "Model: \"vgg16\"\n",
            "_________________________________________________________________\n",
            "Layer (type)                 Output Shape              Param #   \n",
            "=================================================================\n",
            "input_1 (InputLayer)         (None, 224, 224, 3)       0         \n",
            "_________________________________________________________________\n",
            "block1_conv1 (Conv2D)        (None, 224, 224, 64)      1792      \n",
            "_________________________________________________________________\n",
            "block1_conv2 (Conv2D)        (None, 224, 224, 64)      36928     \n",
            "_________________________________________________________________\n",
            "block1_pool (MaxPooling2D)   (None, 112, 112, 64)      0         \n",
            "_________________________________________________________________\n",
            "block2_conv1 (Conv2D)        (None, 112, 112, 128)     73856     \n",
            "_________________________________________________________________\n",
            "block2_conv2 (Conv2D)        (None, 112, 112, 128)     147584    \n",
            "_________________________________________________________________\n",
            "block2_pool (MaxPooling2D)   (None, 56, 56, 128)       0         \n",
            "_________________________________________________________________\n",
            "block3_conv1 (Conv2D)        (None, 56, 56, 256)       295168    \n",
            "_________________________________________________________________\n",
            "block3_conv2 (Conv2D)        (None, 56, 56, 256)       590080    \n",
            "_________________________________________________________________\n",
            "block3_conv3 (Conv2D)        (None, 56, 56, 256)       590080    \n",
            "_________________________________________________________________\n",
            "block3_pool (MaxPooling2D)   (None, 28, 28, 256)       0         \n",
            "_________________________________________________________________\n",
            "block4_conv1 (Conv2D)        (None, 28, 28, 512)       1180160   \n",
            "_________________________________________________________________\n",
            "block4_conv2 (Conv2D)        (None, 28, 28, 512)       2359808   \n",
            "_________________________________________________________________\n",
            "block4_conv3 (Conv2D)        (None, 28, 28, 512)       2359808   \n",
            "_________________________________________________________________\n",
            "block4_pool (MaxPooling2D)   (None, 14, 14, 512)       0         \n",
            "_________________________________________________________________\n",
            "block5_conv1 (Conv2D)        (None, 14, 14, 512)       2359808   \n",
            "_________________________________________________________________\n",
            "block5_conv2 (Conv2D)        (None, 14, 14, 512)       2359808   \n",
            "_________________________________________________________________\n",
            "block5_conv3 (Conv2D)        (None, 14, 14, 512)       2359808   \n",
            "_________________________________________________________________\n",
            "block5_pool (MaxPooling2D)   (None, 7, 7, 512)         0         \n",
            "_________________________________________________________________\n",
            "flatten (Flatten)            (None, 25088)             0         \n",
            "_________________________________________________________________\n",
            "fc1 (Dense)                  (None, 4096)              102764544 \n",
            "_________________________________________________________________\n",
            "fc2 (Dense)                  (None, 4096)              16781312  \n",
            "_________________________________________________________________\n",
            "predictions (Dense)          (None, 1000)              4097000   \n",
            "=================================================================\n",
            "Total params: 138,357,544\n",
            "Trainable params: 138,357,544\n",
            "Non-trainable params: 0\n",
            "_________________________________________________________________\n"
          ],
          "name": "stdout"
        }
      ]
    },
    {
      "cell_type": "code",
      "metadata": {
        "id": "GG60hKI68aWo",
        "colab_type": "code",
        "colab": {
          "base_uri": "https://localhost:8080/",
          "height": 340
        },
        "outputId": "dddff91f-b987-4dcf-a5b8-01c659bff194"
      },
      "source": [
        "for layers in (vggmodel.layers)[:19]:\n",
        "    print(layers)\n",
        "    layers.trainable = False"
      ],
      "execution_count": 9,
      "outputs": [
        {
          "output_type": "stream",
          "text": [
            "<keras.engine.input_layer.InputLayer object at 0x7fc6dddc5208>\n",
            "<keras.layers.convolutional.Conv2D object at 0x7fc72115a710>\n",
            "<keras.layers.convolutional.Conv2D object at 0x7fc6ddc83048>\n",
            "<keras.layers.pooling.MaxPooling2D object at 0x7fc6ddc83da0>\n",
            "<keras.layers.convolutional.Conv2D object at 0x7fc6ddc836d8>\n",
            "<keras.layers.convolutional.Conv2D object at 0x7fc6dcbc5470>\n",
            "<keras.layers.pooling.MaxPooling2D object at 0x7fc6dcbc5fd0>\n",
            "<keras.layers.convolutional.Conv2D object at 0x7fc6dcbc5e10>\n",
            "<keras.layers.convolutional.Conv2D object at 0x7fc6dcbc9b70>\n",
            "<keras.layers.convolutional.Conv2D object at 0x7fc6dcbcf710>\n",
            "<keras.layers.pooling.MaxPooling2D object at 0x7fc6dcbcff28>\n",
            "<keras.layers.convolutional.Conv2D object at 0x7fc6dcbcffd0>\n",
            "<keras.layers.convolutional.Conv2D object at 0x7fc6dcb56cc0>\n",
            "<keras.layers.convolutional.Conv2D object at 0x7fc6dcb5c860>\n",
            "<keras.layers.pooling.MaxPooling2D object at 0x7fc6dcb642e8>\n",
            "<keras.layers.convolutional.Conv2D object at 0x7fc6dcb64128>\n",
            "<keras.layers.convolutional.Conv2D object at 0x7fc6dcb64e10>\n",
            "<keras.layers.convolutional.Conv2D object at 0x7fc6dcb6b9b0>\n",
            "<keras.layers.pooling.MaxPooling2D object at 0x7fc6dcb72438>\n"
          ],
          "name": "stdout"
        }
      ]
    },
    {
      "cell_type": "code",
      "metadata": {
        "id": "59taDHdJ8ikh",
        "colab_type": "code",
        "colab": {
          "base_uri": "https://localhost:8080/",
          "height": 71
        },
        "outputId": "89325034-d4b8-4696-f808-fb5da67c1b07"
      },
      "source": [
        "X= vggmodel.layers[-2].output\n",
        "predictions = Dense(4, activation=\"softmax\")(X)\n",
        "model_final = Model(input = vggmodel.input, output = predictions)\n"
      ],
      "execution_count": 10,
      "outputs": [
        {
          "output_type": "stream",
          "text": [
            "/usr/local/lib/python3.6/dist-packages/ipykernel_launcher.py:3: UserWarning: Update your `Model` call to the Keras 2 API: `Model(inputs=Tensor(\"in..., outputs=Tensor(\"de...)`\n",
            "  This is separate from the ipykernel package so we can avoid doing imports until\n"
          ],
          "name": "stderr"
        }
      ]
    },
    {
      "cell_type": "code",
      "metadata": {
        "id": "vFYbGbdq8vg8",
        "colab_type": "code",
        "colab": {}
      },
      "source": [
        "model_final.compile(loss = \"categorical_crossentropy\", optimizer = optimizers.Adam(lr=0.0001), metrics=[\"accuracy\"])"
      ],
      "execution_count": 11,
      "outputs": []
    },
    {
      "cell_type": "code",
      "metadata": {
        "id": "i6yUCcd08xum",
        "colab_type": "code",
        "colab": {
          "base_uri": "https://localhost:8080/",
          "height": 935
        },
        "outputId": "7e118bcc-0b10-46e9-8a18-f96f36466faf"
      },
      "source": [
        "model_final.summary()"
      ],
      "execution_count": 12,
      "outputs": [
        {
          "output_type": "stream",
          "text": [
            "Model: \"model_1\"\n",
            "_________________________________________________________________\n",
            "Layer (type)                 Output Shape              Param #   \n",
            "=================================================================\n",
            "input_1 (InputLayer)         (None, 224, 224, 3)       0         \n",
            "_________________________________________________________________\n",
            "block1_conv1 (Conv2D)        (None, 224, 224, 64)      1792      \n",
            "_________________________________________________________________\n",
            "block1_conv2 (Conv2D)        (None, 224, 224, 64)      36928     \n",
            "_________________________________________________________________\n",
            "block1_pool (MaxPooling2D)   (None, 112, 112, 64)      0         \n",
            "_________________________________________________________________\n",
            "block2_conv1 (Conv2D)        (None, 112, 112, 128)     73856     \n",
            "_________________________________________________________________\n",
            "block2_conv2 (Conv2D)        (None, 112, 112, 128)     147584    \n",
            "_________________________________________________________________\n",
            "block2_pool (MaxPooling2D)   (None, 56, 56, 128)       0         \n",
            "_________________________________________________________________\n",
            "block3_conv1 (Conv2D)        (None, 56, 56, 256)       295168    \n",
            "_________________________________________________________________\n",
            "block3_conv2 (Conv2D)        (None, 56, 56, 256)       590080    \n",
            "_________________________________________________________________\n",
            "block3_conv3 (Conv2D)        (None, 56, 56, 256)       590080    \n",
            "_________________________________________________________________\n",
            "block3_pool (MaxPooling2D)   (None, 28, 28, 256)       0         \n",
            "_________________________________________________________________\n",
            "block4_conv1 (Conv2D)        (None, 28, 28, 512)       1180160   \n",
            "_________________________________________________________________\n",
            "block4_conv2 (Conv2D)        (None, 28, 28, 512)       2359808   \n",
            "_________________________________________________________________\n",
            "block4_conv3 (Conv2D)        (None, 28, 28, 512)       2359808   \n",
            "_________________________________________________________________\n",
            "block4_pool (MaxPooling2D)   (None, 14, 14, 512)       0         \n",
            "_________________________________________________________________\n",
            "block5_conv1 (Conv2D)        (None, 14, 14, 512)       2359808   \n",
            "_________________________________________________________________\n",
            "block5_conv2 (Conv2D)        (None, 14, 14, 512)       2359808   \n",
            "_________________________________________________________________\n",
            "block5_conv3 (Conv2D)        (None, 14, 14, 512)       2359808   \n",
            "_________________________________________________________________\n",
            "block5_pool (MaxPooling2D)   (None, 7, 7, 512)         0         \n",
            "_________________________________________________________________\n",
            "flatten (Flatten)            (None, 25088)             0         \n",
            "_________________________________________________________________\n",
            "fc1 (Dense)                  (None, 4096)              102764544 \n",
            "_________________________________________________________________\n",
            "fc2 (Dense)                  (None, 4096)              16781312  \n",
            "_________________________________________________________________\n",
            "dense_1 (Dense)              (None, 4)                 16388     \n",
            "=================================================================\n",
            "Total params: 134,276,932\n",
            "Trainable params: 119,562,244\n",
            "Non-trainable params: 14,714,688\n",
            "_________________________________________________________________\n"
          ],
          "name": "stdout"
        }
      ]
    },
    {
      "cell_type": "code",
      "metadata": {
        "id": "UIV1Rie889QA",
        "colab_type": "code",
        "colab": {
          "base_uri": "https://localhost:8080/",
          "height": 1000
        },
        "outputId": "10519478-4179-45b2-f547-2a132ff8a8fa"
      },
      "source": [
        "from keras.callbacks import ModelCheckpoint, EarlyStopping\n",
        "checkpoint = ModelCheckpoint(\"vgg16_1.h5\", monitor='val_accuracy', verbose=1, save_best_only=True, save_weights_only=False, mode='auto', period=1)\n",
        "early = EarlyStopping(monitor='val_acc', min_delta=0, patience=40, verbose=1, mode='auto')\n",
        "hist=model_final.fit(traindata, steps_per_epoch= 2, epochs= 100, validation_data= testdata, validation_steps=1, callbacks=[checkpoint,early])\n",
        "model_final.save_weights(\"vgg16_1.h5\")"
      ],
      "execution_count": 13,
      "outputs": [
        {
          "output_type": "stream",
          "text": [
            "Epoch 1/100\n",
            "2/2 [==============================] - 60s 30s/step - loss: 4.3740 - accuracy: 0.3438 - val_loss: 4.1408 - val_accuracy: 0.2812\n",
            "\n",
            "Epoch 00001: val_accuracy improved from -inf to 0.28125, saving model to vgg16_1.h5\n"
          ],
          "name": "stdout"
        },
        {
          "output_type": "stream",
          "text": [
            "/usr/local/lib/python3.6/dist-packages/keras/callbacks/callbacks.py:846: RuntimeWarning: Early stopping conditioned on metric `val_acc` which is not available. Available metrics are: val_loss,val_accuracy,loss,accuracy\n",
            "  (self.monitor, ','.join(list(logs.keys()))), RuntimeWarning\n"
          ],
          "name": "stderr"
        },
        {
          "output_type": "stream",
          "text": [
            "Epoch 2/100\n",
            "2/2 [==============================] - 51s 26s/step - loss: 3.5149 - accuracy: 0.4688 - val_loss: 1.5708 - val_accuracy: 0.5312\n",
            "\n",
            "Epoch 00002: val_accuracy improved from 0.28125 to 0.53125, saving model to vgg16_1.h5\n",
            "Epoch 3/100\n",
            "2/2 [==============================] - 51s 25s/step - loss: 1.9803 - accuracy: 0.4219 - val_loss: 1.1832 - val_accuracy: 0.6250\n",
            "\n",
            "Epoch 00003: val_accuracy improved from 0.53125 to 0.62500, saving model to vgg16_1.h5\n",
            "Epoch 4/100\n",
            "2/2 [==============================] - 37s 18s/step - loss: 0.7965 - accuracy: 0.7031 - val_loss: 1.1589 - val_accuracy: 0.5000\n",
            "\n",
            "Epoch 00004: val_accuracy did not improve from 0.62500\n",
            "Epoch 5/100\n",
            "2/2 [==============================] - 50s 25s/step - loss: 0.8155 - accuracy: 0.6719 - val_loss: 1.5419 - val_accuracy: 0.4062\n",
            "\n",
            "Epoch 00005: val_accuracy did not improve from 0.62500\n",
            "Epoch 6/100\n",
            "2/2 [==============================] - 50s 25s/step - loss: 0.8070 - accuracy: 0.5625 - val_loss: 1.3672 - val_accuracy: 0.4375\n",
            "\n",
            "Epoch 00006: val_accuracy did not improve from 0.62500\n",
            "Epoch 7/100\n",
            "2/2 [==============================] - 50s 25s/step - loss: 0.7984 - accuracy: 0.6562 - val_loss: 0.7812 - val_accuracy: 0.6875\n",
            "\n",
            "Epoch 00007: val_accuracy improved from 0.62500 to 0.68750, saving model to vgg16_1.h5\n",
            "Epoch 8/100\n",
            "2/2 [==============================] - 36s 18s/step - loss: 0.7042 - accuracy: 0.7188 - val_loss: 0.6097 - val_accuracy: 0.7500\n",
            "\n",
            "Epoch 00008: val_accuracy improved from 0.68750 to 0.75000, saving model to vgg16_1.h5\n",
            "Epoch 9/100\n",
            "2/2 [==============================] - 50s 25s/step - loss: 0.6978 - accuracy: 0.7344 - val_loss: 0.9965 - val_accuracy: 0.5625\n",
            "\n",
            "Epoch 00009: val_accuracy did not improve from 0.75000\n",
            "Epoch 10/100\n",
            "2/2 [==============================] - 50s 25s/step - loss: 0.6092 - accuracy: 0.7812 - val_loss: 1.1246 - val_accuracy: 0.5625\n",
            "\n",
            "Epoch 00010: val_accuracy did not improve from 0.75000\n",
            "Epoch 11/100\n",
            "2/2 [==============================] - 50s 25s/step - loss: 0.3832 - accuracy: 0.8281 - val_loss: 1.0244 - val_accuracy: 0.5938\n",
            "\n",
            "Epoch 00011: val_accuracy did not improve from 0.75000\n",
            "Epoch 12/100\n",
            "2/2 [==============================] - 37s 18s/step - loss: 0.5913 - accuracy: 0.7500 - val_loss: 2.7669 - val_accuracy: 0.5000\n",
            "\n",
            "Epoch 00012: val_accuracy did not improve from 0.75000\n",
            "Epoch 13/100\n",
            "2/2 [==============================] - 52s 26s/step - loss: 0.3377 - accuracy: 0.8750 - val_loss: 1.0064 - val_accuracy: 0.5312\n",
            "\n",
            "Epoch 00013: val_accuracy did not improve from 0.75000\n",
            "Epoch 14/100\n",
            "2/2 [==============================] - 50s 25s/step - loss: 0.3532 - accuracy: 0.8906 - val_loss: 1.6920 - val_accuracy: 0.4375\n",
            "\n",
            "Epoch 00014: val_accuracy did not improve from 0.75000\n",
            "Epoch 15/100\n",
            "2/2 [==============================] - 50s 25s/step - loss: 0.4587 - accuracy: 0.8750 - val_loss: 1.0609 - val_accuracy: 0.5312\n",
            "\n",
            "Epoch 00015: val_accuracy did not improve from 0.75000\n",
            "Epoch 16/100\n",
            "2/2 [==============================] - 36s 18s/step - loss: 0.4422 - accuracy: 0.8281 - val_loss: 1.8859 - val_accuracy: 0.2500\n",
            "\n",
            "Epoch 00016: val_accuracy did not improve from 0.75000\n",
            "Epoch 17/100\n",
            "2/2 [==============================] - 50s 25s/step - loss: 0.3403 - accuracy: 0.8750 - val_loss: 0.8793 - val_accuracy: 0.5625\n",
            "\n",
            "Epoch 00017: val_accuracy did not improve from 0.75000\n",
            "Epoch 18/100\n",
            "2/2 [==============================] - 50s 25s/step - loss: 0.3038 - accuracy: 0.8906 - val_loss: 1.1323 - val_accuracy: 0.5625\n",
            "\n",
            "Epoch 00018: val_accuracy did not improve from 0.75000\n",
            "Epoch 19/100\n",
            "2/2 [==============================] - 50s 25s/step - loss: 0.3540 - accuracy: 0.8750 - val_loss: 1.3714 - val_accuracy: 0.4375\n",
            "\n",
            "Epoch 00019: val_accuracy did not improve from 0.75000\n",
            "Epoch 20/100\n",
            "2/2 [==============================] - 36s 18s/step - loss: 0.2360 - accuracy: 0.9062 - val_loss: 1.7881 - val_accuracy: 0.5000\n",
            "\n",
            "Epoch 00020: val_accuracy did not improve from 0.75000\n",
            "Epoch 21/100\n",
            "2/2 [==============================] - 50s 25s/step - loss: 0.2256 - accuracy: 0.9219 - val_loss: 1.4272 - val_accuracy: 0.4375\n",
            "\n",
            "Epoch 00021: val_accuracy did not improve from 0.75000\n",
            "Epoch 22/100\n",
            "2/2 [==============================] - 50s 25s/step - loss: 0.2879 - accuracy: 0.8906 - val_loss: 1.3587 - val_accuracy: 0.5000\n",
            "\n",
            "Epoch 00022: val_accuracy did not improve from 0.75000\n",
            "Epoch 23/100\n",
            "2/2 [==============================] - 50s 25s/step - loss: 0.2721 - accuracy: 0.8594 - val_loss: 1.0493 - val_accuracy: 0.6250\n",
            "\n",
            "Epoch 00023: val_accuracy did not improve from 0.75000\n",
            "Epoch 24/100\n",
            "2/2 [==============================] - 36s 18s/step - loss: 0.2224 - accuracy: 0.9219 - val_loss: 2.7262 - val_accuracy: 0.2500\n",
            "\n",
            "Epoch 00024: val_accuracy did not improve from 0.75000\n",
            "Epoch 25/100\n",
            "2/2 [==============================] - 51s 25s/step - loss: 0.3008 - accuracy: 0.8438 - val_loss: 0.9813 - val_accuracy: 0.5312\n",
            "\n",
            "Epoch 00025: val_accuracy did not improve from 0.75000\n",
            "Epoch 26/100\n",
            "2/2 [==============================] - 50s 25s/step - loss: 0.1561 - accuracy: 0.9375 - val_loss: 1.4531 - val_accuracy: 0.3750\n",
            "\n",
            "Epoch 00026: val_accuracy did not improve from 0.75000\n",
            "Epoch 27/100\n",
            "2/2 [==============================] - 50s 25s/step - loss: 0.0985 - accuracy: 1.0000 - val_loss: 1.0620 - val_accuracy: 0.5625\n",
            "\n",
            "Epoch 00027: val_accuracy did not improve from 0.75000\n",
            "Epoch 28/100\n",
            "2/2 [==============================] - 36s 18s/step - loss: 0.1285 - accuracy: 0.9844 - val_loss: 1.1427 - val_accuracy: 0.7500\n",
            "\n",
            "Epoch 00028: val_accuracy did not improve from 0.75000\n",
            "Epoch 29/100\n",
            "2/2 [==============================] - 50s 25s/step - loss: 0.1314 - accuracy: 0.9844 - val_loss: 1.8233 - val_accuracy: 0.3750\n",
            "\n",
            "Epoch 00029: val_accuracy did not improve from 0.75000\n",
            "Epoch 30/100\n",
            "2/2 [==============================] - 50s 25s/step - loss: 0.2090 - accuracy: 0.9219 - val_loss: 1.0322 - val_accuracy: 0.5938\n",
            "\n",
            "Epoch 00030: val_accuracy did not improve from 0.75000\n",
            "Epoch 31/100\n",
            "2/2 [==============================] - 50s 25s/step - loss: 0.0941 - accuracy: 0.9844 - val_loss: 1.4938 - val_accuracy: 0.5625\n",
            "\n",
            "Epoch 00031: val_accuracy did not improve from 0.75000\n",
            "Epoch 32/100\n",
            "2/2 [==============================] - 36s 18s/step - loss: 0.1666 - accuracy: 0.9531 - val_loss: 0.4376 - val_accuracy: 0.7500\n",
            "\n",
            "Epoch 00032: val_accuracy did not improve from 0.75000\n",
            "Epoch 33/100\n",
            "2/2 [==============================] - 50s 25s/step - loss: 0.0748 - accuracy: 0.9844 - val_loss: 1.7136 - val_accuracy: 0.4062\n",
            "\n",
            "Epoch 00033: val_accuracy did not improve from 0.75000\n",
            "Epoch 34/100\n",
            "2/2 [==============================] - 50s 25s/step - loss: 0.1582 - accuracy: 0.9219 - val_loss: 1.4174 - val_accuracy: 0.4375\n",
            "\n",
            "Epoch 00034: val_accuracy did not improve from 0.75000\n",
            "Epoch 35/100\n",
            "2/2 [==============================] - 50s 25s/step - loss: 0.2126 - accuracy: 0.9062 - val_loss: 1.0261 - val_accuracy: 0.7188\n",
            "\n",
            "Epoch 00035: val_accuracy did not improve from 0.75000\n",
            "Epoch 36/100\n",
            "2/2 [==============================] - 36s 18s/step - loss: 0.1379 - accuracy: 0.9062 - val_loss: 1.4684 - val_accuracy: 0.7500\n",
            "\n",
            "Epoch 00036: val_accuracy did not improve from 0.75000\n",
            "Epoch 37/100\n",
            "2/2 [==============================] - 50s 25s/step - loss: 0.1287 - accuracy: 0.9688 - val_loss: 1.3085 - val_accuracy: 0.5625\n",
            "\n",
            "Epoch 00037: val_accuracy did not improve from 0.75000\n",
            "Epoch 38/100\n",
            "2/2 [==============================] - 51s 26s/step - loss: 0.2022 - accuracy: 0.9219 - val_loss: 1.8504 - val_accuracy: 0.3438\n",
            "\n",
            "Epoch 00038: val_accuracy did not improve from 0.75000\n",
            "Epoch 39/100\n",
            "2/2 [==============================] - 50s 25s/step - loss: 0.0573 - accuracy: 0.9844 - val_loss: 1.6054 - val_accuracy: 0.4688\n",
            "\n",
            "Epoch 00039: val_accuracy did not improve from 0.75000\n",
            "Epoch 40/100\n",
            "2/2 [==============================] - 36s 18s/step - loss: 0.0372 - accuracy: 1.0000 - val_loss: 1.5933 - val_accuracy: 0.5000\n",
            "\n",
            "Epoch 00040: val_accuracy did not improve from 0.75000\n",
            "Epoch 41/100\n",
            "2/2 [==============================] - 50s 25s/step - loss: 0.1095 - accuracy: 0.9844 - val_loss: 2.4684 - val_accuracy: 0.3125\n",
            "\n",
            "Epoch 00041: val_accuracy did not improve from 0.75000\n",
            "Epoch 42/100\n",
            "2/2 [==============================] - 50s 25s/step - loss: 0.0545 - accuracy: 0.9688 - val_loss: 0.8991 - val_accuracy: 0.5312\n",
            "\n",
            "Epoch 00042: val_accuracy did not improve from 0.75000\n",
            "Epoch 43/100\n",
            "2/2 [==============================] - 50s 25s/step - loss: 0.0340 - accuracy: 1.0000 - val_loss: 1.3777 - val_accuracy: 0.4688\n",
            "\n",
            "Epoch 00043: val_accuracy did not improve from 0.75000\n",
            "Epoch 44/100\n",
            "2/2 [==============================] - 37s 19s/step - loss: 0.0552 - accuracy: 1.0000 - val_loss: 0.9619 - val_accuracy: 0.7500\n",
            "\n",
            "Epoch 00044: val_accuracy did not improve from 0.75000\n",
            "Epoch 45/100\n",
            "2/2 [==============================] - 51s 25s/step - loss: 0.0326 - accuracy: 1.0000 - val_loss: 2.3617 - val_accuracy: 0.4375\n",
            "\n",
            "Epoch 00045: val_accuracy did not improve from 0.75000\n",
            "Epoch 46/100\n",
            "2/2 [==============================] - 50s 25s/step - loss: 0.0586 - accuracy: 0.9844 - val_loss: 2.0157 - val_accuracy: 0.5000\n",
            "\n",
            "Epoch 00046: val_accuracy did not improve from 0.75000\n",
            "Epoch 47/100\n",
            "2/2 [==============================] - 50s 25s/step - loss: 0.0363 - accuracy: 1.0000 - val_loss: 1.9701 - val_accuracy: 0.5000\n",
            "\n",
            "Epoch 00047: val_accuracy did not improve from 0.75000\n",
            "Epoch 48/100\n",
            "2/2 [==============================] - 36s 18s/step - loss: 0.0640 - accuracy: 0.9844 - val_loss: 1.8757 - val_accuracy: 0.5000\n",
            "\n",
            "Epoch 00048: val_accuracy did not improve from 0.75000\n",
            "Epoch 49/100\n",
            "2/2 [==============================] - 50s 25s/step - loss: 0.0386 - accuracy: 0.9844 - val_loss: 2.4489 - val_accuracy: 0.4062\n",
            "\n",
            "Epoch 00049: val_accuracy did not improve from 0.75000\n",
            "Epoch 50/100\n",
            "2/2 [==============================] - 51s 25s/step - loss: 0.0376 - accuracy: 1.0000 - val_loss: 2.7494 - val_accuracy: 0.4375\n",
            "\n",
            "Epoch 00050: val_accuracy did not improve from 0.75000\n",
            "Epoch 51/100\n",
            "2/2 [==============================] - 50s 25s/step - loss: 0.0884 - accuracy: 0.9844 - val_loss: 2.0250 - val_accuracy: 0.5938\n",
            "\n",
            "Epoch 00051: val_accuracy did not improve from 0.75000\n",
            "Epoch 52/100\n",
            "2/2 [==============================] - 37s 18s/step - loss: 0.0126 - accuracy: 1.0000 - val_loss: 1.2490 - val_accuracy: 0.2500\n",
            "\n",
            "Epoch 00052: val_accuracy did not improve from 0.75000\n",
            "Epoch 53/100\n",
            "2/2 [==============================] - 51s 25s/step - loss: 0.0345 - accuracy: 0.9844 - val_loss: 1.7492 - val_accuracy: 0.5000\n",
            "\n",
            "Epoch 00053: val_accuracy did not improve from 0.75000\n",
            "Epoch 54/100\n",
            "2/2 [==============================] - 50s 25s/step - loss: 0.0795 - accuracy: 0.9688 - val_loss: 1.8780 - val_accuracy: 0.4375\n",
            "\n",
            "Epoch 00054: val_accuracy did not improve from 0.75000\n",
            "Epoch 55/100\n",
            "2/2 [==============================] - 50s 25s/step - loss: 0.0094 - accuracy: 1.0000 - val_loss: 1.6297 - val_accuracy: 0.5000\n",
            "\n",
            "Epoch 00055: val_accuracy did not improve from 0.75000\n",
            "Epoch 56/100\n",
            "2/2 [==============================] - 37s 18s/step - loss: 0.0318 - accuracy: 0.9844 - val_loss: 1.2294 - val_accuracy: 0.5000\n",
            "\n",
            "Epoch 00056: val_accuracy did not improve from 0.75000\n",
            "Epoch 57/100\n",
            "2/2 [==============================] - 50s 25s/step - loss: 0.0394 - accuracy: 0.9844 - val_loss: 1.7633 - val_accuracy: 0.5000\n",
            "\n",
            "Epoch 00057: val_accuracy did not improve from 0.75000\n",
            "Epoch 58/100\n",
            "2/2 [==============================] - 50s 25s/step - loss: 0.0305 - accuracy: 0.9844 - val_loss: 2.4298 - val_accuracy: 0.2500\n",
            "\n",
            "Epoch 00058: val_accuracy did not improve from 0.75000\n",
            "Epoch 59/100\n",
            "2/2 [==============================] - 50s 25s/step - loss: 0.0492 - accuracy: 0.9844 - val_loss: 0.8459 - val_accuracy: 0.7188\n",
            "\n",
            "Epoch 00059: val_accuracy did not improve from 0.75000\n",
            "Epoch 60/100\n",
            "2/2 [==============================] - 36s 18s/step - loss: 0.0163 - accuracy: 1.0000 - val_loss: 0.9788 - val_accuracy: 0.5000\n",
            "\n",
            "Epoch 00060: val_accuracy did not improve from 0.75000\n",
            "Epoch 61/100\n",
            "2/2 [==============================] - 50s 25s/step - loss: 0.0093 - accuracy: 1.0000 - val_loss: 1.0857 - val_accuracy: 0.5625\n",
            "\n",
            "Epoch 00061: val_accuracy did not improve from 0.75000\n",
            "Epoch 62/100\n",
            "2/2 [==============================] - 50s 25s/step - loss: 0.0224 - accuracy: 1.0000 - val_loss: 1.3807 - val_accuracy: 0.5938\n",
            "\n",
            "Epoch 00062: val_accuracy did not improve from 0.75000\n",
            "Epoch 63/100\n",
            "2/2 [==============================] - 51s 26s/step - loss: 0.0203 - accuracy: 1.0000 - val_loss: 2.4909 - val_accuracy: 0.4375\n",
            "\n",
            "Epoch 00063: val_accuracy did not improve from 0.75000\n",
            "Epoch 64/100\n",
            "2/2 [==============================] - 37s 18s/step - loss: 0.0103 - accuracy: 1.0000 - val_loss: 0.9812 - val_accuracy: 0.5000\n",
            "\n",
            "Epoch 00064: val_accuracy did not improve from 0.75000\n",
            "Epoch 65/100\n",
            "2/2 [==============================] - 50s 25s/step - loss: 0.0141 - accuracy: 1.0000 - val_loss: 2.5678 - val_accuracy: 0.4062\n",
            "\n",
            "Epoch 00065: val_accuracy did not improve from 0.75000\n",
            "Epoch 66/100\n",
            "2/2 [==============================] - 50s 25s/step - loss: 0.0076 - accuracy: 1.0000 - val_loss: 1.5955 - val_accuracy: 0.5312\n",
            "\n",
            "Epoch 00066: val_accuracy did not improve from 0.75000\n",
            "Epoch 67/100\n",
            "2/2 [==============================] - 50s 25s/step - loss: 0.0091 - accuracy: 1.0000 - val_loss: 1.9600 - val_accuracy: 0.5000\n",
            "\n",
            "Epoch 00067: val_accuracy did not improve from 0.75000\n",
            "Epoch 68/100\n",
            "2/2 [==============================] - 37s 18s/step - loss: 0.0281 - accuracy: 1.0000 - val_loss: 3.1106 - val_accuracy: 0.0000e+00\n",
            "\n",
            "Epoch 00068: val_accuracy did not improve from 0.75000\n",
            "Epoch 69/100\n",
            "2/2 [==============================] - 50s 25s/step - loss: 0.0094 - accuracy: 1.0000 - val_loss: 2.0699 - val_accuracy: 0.3750\n",
            "\n",
            "Epoch 00069: val_accuracy did not improve from 0.75000\n",
            "Epoch 70/100\n",
            "2/2 [==============================] - 50s 25s/step - loss: 0.0231 - accuracy: 0.9844 - val_loss: 1.4159 - val_accuracy: 0.5938\n",
            "\n",
            "Epoch 00070: val_accuracy did not improve from 0.75000\n",
            "Epoch 71/100\n",
            "2/2 [==============================] - 50s 25s/step - loss: 0.0069 - accuracy: 1.0000 - val_loss: 2.0352 - val_accuracy: 0.5000\n",
            "\n",
            "Epoch 00071: val_accuracy did not improve from 0.75000\n",
            "Epoch 72/100\n",
            "2/2 [==============================] - 37s 18s/step - loss: 0.0088 - accuracy: 1.0000 - val_loss: 2.3262 - val_accuracy: 0.5000\n",
            "\n",
            "Epoch 00072: val_accuracy did not improve from 0.75000\n",
            "Epoch 73/100\n",
            "2/2 [==============================] - 50s 25s/step - loss: 0.0222 - accuracy: 1.0000 - val_loss: 2.1817 - val_accuracy: 0.5625\n",
            "\n",
            "Epoch 00073: val_accuracy did not improve from 0.75000\n",
            "Epoch 74/100\n",
            "2/2 [==============================] - 50s 25s/step - loss: 0.0049 - accuracy: 1.0000 - val_loss: 1.8703 - val_accuracy: 0.5000\n",
            "\n",
            "Epoch 00074: val_accuracy did not improve from 0.75000\n",
            "Epoch 75/100\n",
            "2/2 [==============================] - 51s 25s/step - loss: 0.0251 - accuracy: 1.0000 - val_loss: 3.9112 - val_accuracy: 0.3125\n",
            "\n",
            "Epoch 00075: val_accuracy did not improve from 0.75000\n",
            "Epoch 76/100\n",
            "2/2 [==============================] - 37s 18s/step - loss: 0.0087 - accuracy: 1.0000 - val_loss: 0.1534 - val_accuracy: 1.0000\n",
            "\n",
            "Epoch 00076: val_accuracy improved from 0.75000 to 1.00000, saving model to vgg16_1.h5\n",
            "Epoch 77/100\n",
            "2/2 [==============================] - 50s 25s/step - loss: 0.0159 - accuracy: 1.0000 - val_loss: 1.9580 - val_accuracy: 0.4688\n",
            "\n",
            "Epoch 00077: val_accuracy did not improve from 1.00000\n",
            "Epoch 78/100\n",
            "2/2 [==============================] - 50s 25s/step - loss: 0.0240 - accuracy: 1.0000 - val_loss: 1.3437 - val_accuracy: 0.5000\n",
            "\n",
            "Epoch 00078: val_accuracy did not improve from 1.00000\n",
            "Epoch 79/100\n",
            "2/2 [==============================] - 50s 25s/step - loss: 0.0100 - accuracy: 1.0000 - val_loss: 2.0373 - val_accuracy: 0.4375\n",
            "\n",
            "Epoch 00079: val_accuracy did not improve from 1.00000\n",
            "Epoch 80/100\n",
            "2/2 [==============================] - 37s 18s/step - loss: 0.0029 - accuracy: 1.0000 - val_loss: 4.5936 - val_accuracy: 0.5000\n",
            "\n",
            "Epoch 00080: val_accuracy did not improve from 1.00000\n",
            "Epoch 81/100\n",
            "2/2 [==============================] - 50s 25s/step - loss: 0.0024 - accuracy: 1.0000 - val_loss: 2.2321 - val_accuracy: 0.5312\n",
            "\n",
            "Epoch 00081: val_accuracy did not improve from 1.00000\n",
            "Epoch 82/100\n",
            "2/2 [==============================] - 50s 25s/step - loss: 0.0164 - accuracy: 1.0000 - val_loss: 2.3096 - val_accuracy: 0.3438\n",
            "\n",
            "Epoch 00082: val_accuracy did not improve from 1.00000\n",
            "Epoch 83/100\n",
            "2/2 [==============================] - 50s 25s/step - loss: 0.0226 - accuracy: 1.0000 - val_loss: 2.0796 - val_accuracy: 0.5938\n",
            "\n",
            "Epoch 00083: val_accuracy did not improve from 1.00000\n",
            "Epoch 84/100\n",
            "2/2 [==============================] - 37s 18s/step - loss: 0.0056 - accuracy: 1.0000 - val_loss: 0.5340 - val_accuracy: 0.5000\n",
            "\n",
            "Epoch 00084: val_accuracy did not improve from 1.00000\n",
            "Epoch 85/100\n",
            "2/2 [==============================] - 50s 25s/step - loss: 0.0170 - accuracy: 1.0000 - val_loss: 2.2948 - val_accuracy: 0.4688\n",
            "\n",
            "Epoch 00085: val_accuracy did not improve from 1.00000\n",
            "Epoch 86/100\n",
            "2/2 [==============================] - 50s 25s/step - loss: 0.0072 - accuracy: 1.0000 - val_loss: 1.5216 - val_accuracy: 0.5000\n",
            "\n",
            "Epoch 00086: val_accuracy did not improve from 1.00000\n",
            "Epoch 87/100\n",
            "2/2 [==============================] - 50s 25s/step - loss: 0.0104 - accuracy: 1.0000 - val_loss: 1.7926 - val_accuracy: 0.5938\n",
            "\n",
            "Epoch 00087: val_accuracy did not improve from 1.00000\n",
            "Epoch 88/100\n",
            "2/2 [==============================] - 38s 19s/step - loss: 0.0052 - accuracy: 1.0000 - val_loss: 5.0679 - val_accuracy: 0.2500\n",
            "\n",
            "Epoch 00088: val_accuracy did not improve from 1.00000\n",
            "Epoch 89/100\n",
            "2/2 [==============================] - 50s 25s/step - loss: 0.0057 - accuracy: 1.0000 - val_loss: 3.6201 - val_accuracy: 0.4688\n",
            "\n",
            "Epoch 00089: val_accuracy did not improve from 1.00000\n",
            "Epoch 90/100\n",
            "2/2 [==============================] - 50s 25s/step - loss: 0.0118 - accuracy: 1.0000 - val_loss: 2.7347 - val_accuracy: 0.3750\n",
            "\n",
            "Epoch 00090: val_accuracy did not improve from 1.00000\n",
            "Epoch 91/100\n",
            "2/2 [==============================] - 51s 25s/step - loss: 0.0020 - accuracy: 1.0000 - val_loss: 2.2468 - val_accuracy: 0.4688\n",
            "\n",
            "Epoch 00091: val_accuracy did not improve from 1.00000\n",
            "Epoch 92/100\n",
            "2/2 [==============================] - 37s 18s/step - loss: 0.0025 - accuracy: 1.0000 - val_loss: 0.2401 - val_accuracy: 1.0000\n",
            "\n",
            "Epoch 00092: val_accuracy did not improve from 1.00000\n",
            "Epoch 93/100\n",
            "2/2 [==============================] - 50s 25s/step - loss: 0.0076 - accuracy: 1.0000 - val_loss: 1.3117 - val_accuracy: 0.5625\n",
            "\n",
            "Epoch 00093: val_accuracy did not improve from 1.00000\n",
            "Epoch 94/100\n",
            "2/2 [==============================] - 50s 25s/step - loss: 0.0016 - accuracy: 1.0000 - val_loss: 2.3683 - val_accuracy: 0.4688\n",
            "\n",
            "Epoch 00094: val_accuracy did not improve from 1.00000\n",
            "Epoch 95/100\n",
            "2/2 [==============================] - 50s 25s/step - loss: 0.0018 - accuracy: 1.0000 - val_loss: 1.8206 - val_accuracy: 0.4375\n",
            "\n",
            "Epoch 00095: val_accuracy did not improve from 1.00000\n",
            "Epoch 96/100\n",
            "2/2 [==============================] - 36s 18s/step - loss: 0.0024 - accuracy: 1.0000 - val_loss: 0.4882 - val_accuracy: 0.7500\n",
            "\n",
            "Epoch 00096: val_accuracy did not improve from 1.00000\n",
            "Epoch 97/100\n",
            "2/2 [==============================] - 50s 25s/step - loss: 0.0028 - accuracy: 1.0000 - val_loss: 1.6505 - val_accuracy: 0.5625\n",
            "\n",
            "Epoch 00097: val_accuracy did not improve from 1.00000\n",
            "Epoch 98/100\n",
            "2/2 [==============================] - 50s 25s/step - loss: 0.0018 - accuracy: 1.0000 - val_loss: 2.7298 - val_accuracy: 0.3750\n",
            "\n",
            "Epoch 00098: val_accuracy did not improve from 1.00000\n",
            "Epoch 99/100\n",
            "2/2 [==============================] - 50s 25s/step - loss: 0.0032 - accuracy: 1.0000 - val_loss: 1.2586 - val_accuracy: 0.6250\n",
            "\n",
            "Epoch 00099: val_accuracy did not improve from 1.00000\n",
            "Epoch 100/100\n",
            "2/2 [==============================] - 37s 19s/step - loss: 0.0193 - accuracy: 0.9844 - val_loss: 1.9592 - val_accuracy: 0.2500\n",
            "\n",
            "Epoch 00100: val_accuracy did not improve from 1.00000\n"
          ],
          "name": "stdout"
        }
      ]
    },
    {
      "cell_type": "code",
      "metadata": {
        "id": "YtQxWrIlPU_M",
        "colab_type": "code",
        "colab": {
          "base_uri": "https://localhost:8080/",
          "height": 295
        },
        "outputId": "b29551b1-2faa-4e6d-a5c6-6d3c60f58e08"
      },
      "source": [
        "import matplotlib.pyplot as plt\n",
        "plt.plot(hist.history[\"accuracy\"])\n",
        "plt.plot(hist.history['val_accuracy'])\n",
        "\n",
        "plt.title(\"model accuracy\")\n",
        "plt.ylabel(\"Accuracy\")\n",
        "plt.xlabel(\"Epoch\")\n",
        "plt.legend([\"Accuracy\",\"Validation Accuracy\"])\n",
        "plt.show()"
      ],
      "execution_count": 14,
      "outputs": [
        {
          "output_type": "display_data",
          "data": {
            "image/png": "[encoded data removed]",
            "text/plain": [
              "<Figure size 432x288 with 1 Axes>"
            ]
          },
          "metadata": {
            "tags": [],
            "needs_background": "light"
          }
        }
      ]
    },
    {
      "cell_type": "code",
      "metadata": {
        "id": "EsjZHi9jaU4Y",
        "colab_type": "code",
        "colab": {
          "base_uri": "https://localhost:8080/",
          "height": 279
        },
        "outputId": "84ee46dc-673f-49b2-c33c-d307c17af121"
      },
      "source": [
        "plt.plot(hist.history['loss'])\n",
        "plt.plot(hist.history['val_loss'])\n",
        "plt.ylabel(\"Loss\")\n",
        "plt.xlabel(\"Epoch\")\n",
        "plt.legend([\"loss\",\"Validation Loss\"])\n",
        "plt.show()"
      ],
      "execution_count": 15,
      "outputs": [
        {
          "output_type": "display_data",
          "data": {
            "image/png": "[encoded data removed]",
            "text/plain": [
              "<Figure size 432x288 with 1 Axes>"
            ]
          },
          "metadata": {
            "tags": [],
            "needs_background": "light"
          }
        }
      ]
    },
    {
      "cell_type": "code",
      "metadata": {
        "id": "_2GdDycwS52M",
        "colab_type": "code",
        "colab": {}
      },
      "source": [
        "from keras.preprocessing.image import ImageDataGenerator\n",
        "from sklearn.metrics import classification_report, confusion_matrix\n",
        "\n",
        "test_datagen = ImageDataGenerator()"
      ],
      "execution_count": 24,
      "outputs": []
    },
    {
      "cell_type": "code",
      "metadata": {
        "id": "9-fknWZIS-CT",
        "colab_type": "code",
        "colab": {
          "base_uri": "https://localhost:8080/",
          "height": 34
        },
        "outputId": "71e9abce-1b08-4214-a1fa-46c2d58cff6f"
      },
      "source": [
        "validation_generator = test_datagen.flow_from_directory('/content/drive/My Drive/data_ouput/test',\n",
        "                                                        target_size=(224, 224),\n",
        "                                                        batch_size=32,\n",
        "                                                        class_mode='categorical')"
      ],
      "execution_count": 17,
      "outputs": [
        {
          "output_type": "stream",
          "text": [
            "Found 100 images belonging to 4 classes.\n"
          ],
          "name": "stdout"
        }
      ]
    },
    {
      "cell_type": "code",
      "metadata": {
        "id": "RSoXpGKcTEnR",
        "colab_type": "code",
        "colab": {
          "base_uri": "https://localhost:8080/",
          "height": 306
        },
        "outputId": "3e373525-f854-4811-b000-edc955aa9d16"
      },
      "source": [
        "import numpy as np\n",
        "#Confution Matrix and Classification Report\n",
        "Y_pred = model_final.predict_generator(validation_generator)\n",
        "y_pred = np.argmax(Y_pred, axis=1)\n",
        "print('Confusion Matrix')\n",
        "print(confusion_matrix(validation_generator.classes, y_pred))\n",
        "print('Classification Report')\n",
        "target_names = ['grade0', 'grade1', 'grade2','grade3']\n",
        "print(classification_report(validation_generator.classes, y_pred, target_names=target_names))"
      ],
      "execution_count": 18,
      "outputs": [
        {
          "output_type": "stream",
          "text": [
            "Confusion Matrix\n",
            "[[ 5 14  2  4]\n",
            " [ 7 10  6  2]\n",
            " [ 4 15  2  4]\n",
            " [ 4 15  1  5]]\n",
            "Classification Report\n",
            "              precision    recall  f1-score   support\n",
            "\n",
            "      grade0       0.25      0.20      0.22        25\n",
            "      grade1       0.19      0.40      0.25        25\n",
            "      grade2       0.18      0.08      0.11        25\n",
            "      grade3       0.33      0.20      0.25        25\n",
            "\n",
            "    accuracy                           0.22       100\n",
            "   macro avg       0.24      0.22      0.21       100\n",
            "weighted avg       0.24      0.22      0.21       100\n",
            "\n"
          ],
          "name": "stdout"
        }
      ]
    },
    {
      "cell_type": "code",
      "metadata": {
        "id": "B-E18MG6VMMN",
        "colab_type": "code",
        "colab": {
          "base_uri": "https://localhost:8080/",
          "height": 269
        },
        "outputId": "37da49ef-558e-4919-e8f3-a2c4aae25825"
      },
      "source": [
        "from keras.preprocessing import image\n",
        "import matplotlib.pyplot as plt\n",
        "\n",
        "img = image.load_img(\"/content/drive/My Drive/data_ouput/test/grade1/grade1-079.jpg\",target_size=(224,224))\n",
        "img = np.asarray(img)\n",
        "plt.imshow(img)\n",
        "img = np.expand_dims(img, axis=0)"
      ],
      "execution_count": 19,
      "outputs": [
        {
          "output_type": "display_data",
          "data": {
            "image/png": "[encoded data removed]",
            "text/plain": [
              "<Figure size 432x288 with 1 Axes>"
            ]
          },
          "metadata": {
            "tags": [],
            "needs_background": "light"
          }
        }
      ]
    },
    {
      "cell_type": "code",
      "metadata": {
        "id": "Ux21nwVeV0mE",
        "colab_type": "code",
        "colab": {}
      },
      "source": [
        "output = model_final.predict(img)"
      ],
      "execution_count": 20,
      "outputs": []
    },
    {
      "cell_type": "code",
      "metadata": {
        "id": "crw2NNGyV7kN",
        "colab_type": "code",
        "colab": {
          "base_uri": "https://localhost:8080/",
          "height": 34
        },
        "outputId": "a2ec7387-08ee-422d-da95-30de6cca3c62"
      },
      "source": [
        "output\n",
        "ans='grade'+str(np.argmax(output[0],axis=0))\n",
        "print(ans)"
      ],
      "execution_count": 21,
      "outputs": [
        {
          "output_type": "stream",
          "text": [
            "grade1\n"
          ],
          "name": "stdout"
        }
      ]
    },
    {
      "cell_type": "code",
      "metadata": {
        "id": "YbH-5BZmX-K4",
        "colab_type": "code",
        "colab": {
          "base_uri": "https://localhost:8080/",
          "height": 153
        },
        "outputId": "851b37ad-8c2a-4246-d3f3-3f36197050bf"
      },
      "source": [
        "import os\n",
        "data_path='/content/drive/My Drive/data_ouput/test'\n",
        "data_dir_list=os.listdir(data_path)\n",
        "for dataset in data_dir_list:\n",
        "  print(dataset)\n",
        "  img_list=os.listdir(data_path+'/'+dataset)\n",
        "  correctCount=0\n",
        "  wrongCount=0\n",
        "  for img in img_list:\n",
        "    img_path=data_path+'/'+dataset+'/'+img\n",
        "    input_image = image.load_img(img_path,target_size=(224,224))\n",
        "    input_image = np.asarray(input_image)\n",
        "    input_image = np.expand_dims(input_image, axis=0)\n",
        "    output = model_final.predict(input_image)\n",
        "    ans='grade'+str(np.argmax(output[0],axis=0))\n",
        "    if( ans in img):\n",
        "      correctCount+=1\n",
        "    else:\n",
        "      wrongCount+=1\n",
        "  print(\"correct Count {} WrongCount {}\".format(correctCount,wrongCount))\n",
        "\n",
        "\n"
      ],
      "execution_count": 22,
      "outputs": [
        {
          "output_type": "stream",
          "text": [
            "grade1\n",
            "correct Count 23 WrongCount 2\n",
            "grade0\n",
            "correct Count 20 WrongCount 5\n",
            "grade2\n",
            "correct Count 10 WrongCount 15\n",
            "grade3\n",
            "correct Count 8 WrongCount 17\n"
          ],
          "name": "stdout"
        }
      ]
    },
    {
      "cell_type": "code",
      "metadata": {
        "id": "Ml4QAr_Avw2T",
        "colab_type": "code",
        "colab": {
          "base_uri": "https://localhost:8080/",
          "height": 51
        },
        "outputId": "33bc56de-a98c-4ff8-cbb8-4be32661f900"
      },
      "source": [
        "tr_acc,tr_loss=model_final.evaluate(validation_generator)\n",
        "tr_acc"
      ],
      "execution_count": 23,
      "outputs": [
        {
          "output_type": "stream",
          "text": [
            "4/4 [==============================] - 50s 12s/step\n"
          ],
          "name": "stdout"
        },
        {
          "output_type": "execute_result",
          "data": {
            "text/plain": [
              "0.5988369584083557"
            ]
          },
          "metadata": {
            "tags": []
          },
          "execution_count": 23
        }
      ]
    },
    {
      "cell_type": "code",
      "metadata": {
        "id": "PiiV053i4At7",
        "colab_type": "code",
        "colab": {}
      },
      "source": [
        "model_final.save('/content/drive/My Drive/Best models/modelbest.h5')"
      ],
      "execution_count": null,
      "outputs": []
    }
  ]
}