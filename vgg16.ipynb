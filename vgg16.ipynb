{
  "nbformat": 4,
  "nbformat_minor": 0,
  "metadata": {
    "colab": {
      "name": "vgg16",
      "provenance": [],
      "mount_file_id": "1IhyoGy7EHEgj120Y7aEt15WFbYJP6aXH",
      "authorship_tag": "ABX9TyP2KG1x+J370oTHjP9pQwfB",
      "include_colab_link": true
    },
    "kernelspec": {
      "name": "python3",
      "display_name": "Python 3"
    }
  },
  "cells": [
    {
      "cell_type": "markdown",
      "metadata": {
        "id": "view-in-github",
        "colab_type": "text"
      },
      "source": [
        "<a href=\"https://colab.research.google.com/github/pranitha2144/Internship-iith/blob/Resnet/vgg16.ipynb\" target=\"_parent\"><img src=\"https://colab.research.google.com/assets/colab-badge.svg\" alt=\"Open In Colab\"/></a>"
      ]
    },
    {
      "cell_type": "code",
      "metadata": {
        "id": "3i-5qcxM7pSC",
        "colab_type": "code",
        "colab": {}
      },
      "source": [
        "import keras\n",
        "from keras.models import Model\n",
        "from keras.layers import Dense\n",
        "from keras import optimizers\n",
        "from keras.preprocessing.image import ImageDataGenerator\n",
        "from keras.preprocessing import image"
      ],
      "execution_count": 21,
      "outputs": []
    },
    {
      "cell_type": "code",
      "metadata": {
        "id": "P_NCAugx70fs",
        "colab_type": "code",
        "colab": {
          "base_uri": "https://localhost:8080/",
          "height": 51
        },
        "outputId": "13053323-18c1-43f4-daee-dcdca79d7616"
      },
      "source": [
        "trdata = ImageDataGenerator(\n",
        "    \n",
        "    )\n",
        "traindata = trdata.flow_from_directory(directory=\"/content/drive/My Drive/data_ouput/train\",target_size=(224,224))\n",
        "tsdata = ImageDataGenerator()\n",
        "testdata = tsdata.flow_from_directory(directory=\"/content/drive/My Drive/data_ouput/val\", target_size=(224,224))"
      ],
      "execution_count": 22,
      "outputs": [
        {
          "output_type": "stream",
          "text": [
            "Found 800 images belonging to 4 classes.\n",
            "Found 100 images belonging to 4 classes.\n"
          ],
          "name": "stdout"
        }
      ]
    },
    {
      "cell_type": "code",
      "metadata": {
        "id": "rg_JdtWb8O00",
        "colab_type": "code",
        "colab": {}
      },
      "source": [
        "from keras.applications.vgg16 import VGG16\n",
        "vggmodel = VGG16(weights='imagenet', include_top=True)"
      ],
      "execution_count": 23,
      "outputs": []
    },
    {
      "cell_type": "code",
      "metadata": {
        "id": "PKuEFjHt8TfJ",
        "colab_type": "code",
        "colab": {
          "base_uri": "https://localhost:8080/",
          "height": 935
        },
        "outputId": "1038fd3b-eccd-47af-fd82-81a567edda03"
      },
      "source": [
        "vggmodel.summary()"
      ],
      "execution_count": 24,
      "outputs": [
        {
          "output_type": "stream",
          "text": [
            "Model: \"vgg16\"\n",
            "_________________________________________________________________\n",
            "Layer (type)                 Output Shape              Param #   \n",
            "=================================================================\n",
            "input_2 (InputLayer)         (None, 224, 224, 3)       0         \n",
            "_________________________________________________________________\n",
            "block1_conv1 (Conv2D)        (None, 224, 224, 64)      1792      \n",
            "_________________________________________________________________\n",
            "block1_conv2 (Conv2D)        (None, 224, 224, 64)      36928     \n",
            "_________________________________________________________________\n",
            "block1_pool (MaxPooling2D)   (None, 112, 112, 64)      0         \n",
            "_________________________________________________________________\n",
            "block2_conv1 (Conv2D)        (None, 112, 112, 128)     73856     \n",
            "_________________________________________________________________\n",
            "block2_conv2 (Conv2D)        (None, 112, 112, 128)     147584    \n",
            "_________________________________________________________________\n",
            "block2_pool (MaxPooling2D)   (None, 56, 56, 128)       0         \n",
            "_________________________________________________________________\n",
            "block3_conv1 (Conv2D)        (None, 56, 56, 256)       295168    \n",
            "_________________________________________________________________\n",
            "block3_conv2 (Conv2D)        (None, 56, 56, 256)       590080    \n",
            "_________________________________________________________________\n",
            "block3_conv3 (Conv2D)        (None, 56, 56, 256)       590080    \n",
            "_________________________________________________________________\n",
            "block3_pool (MaxPooling2D)   (None, 28, 28, 256)       0         \n",
            "_________________________________________________________________\n",
            "block4_conv1 (Conv2D)        (None, 28, 28, 512)       1180160   \n",
            "_________________________________________________________________\n",
            "block4_conv2 (Conv2D)        (None, 28, 28, 512)       2359808   \n",
            "_________________________________________________________________\n",
            "block4_conv3 (Conv2D)        (None, 28, 28, 512)       2359808   \n",
            "_________________________________________________________________\n",
            "block4_pool (MaxPooling2D)   (None, 14, 14, 512)       0         \n",
            "_________________________________________________________________\n",
            "block5_conv1 (Conv2D)        (None, 14, 14, 512)       2359808   \n",
            "_________________________________________________________________\n",
            "block5_conv2 (Conv2D)        (None, 14, 14, 512)       2359808   \n",
            "_________________________________________________________________\n",
            "block5_conv3 (Conv2D)        (None, 14, 14, 512)       2359808   \n",
            "_________________________________________________________________\n",
            "block5_pool (MaxPooling2D)   (None, 7, 7, 512)         0         \n",
            "_________________________________________________________________\n",
            "flatten (Flatten)            (None, 25088)             0         \n",
            "_________________________________________________________________\n",
            "fc1 (Dense)                  (None, 4096)              102764544 \n",
            "_________________________________________________________________\n",
            "fc2 (Dense)                  (None, 4096)              16781312  \n",
            "_________________________________________________________________\n",
            "predictions (Dense)          (None, 1000)              4097000   \n",
            "=================================================================\n",
            "Total params: 138,357,544\n",
            "Trainable params: 138,357,544\n",
            "Non-trainable params: 0\n",
            "_________________________________________________________________\n"
          ],
          "name": "stdout"
        }
      ]
    },
    {
      "cell_type": "code",
      "metadata": {
        "id": "GG60hKI68aWo",
        "colab_type": "code",
        "colab": {
          "base_uri": "https://localhost:8080/",
          "height": 340
        },
        "outputId": "fdbafab3-83f2-4fcc-e9fc-593e39bb99aa"
      },
      "source": [
        "for layers in (vggmodel.layers)[:19]:\n",
        "    print(layers)\n",
        "    layers.trainable = False"
      ],
      "execution_count": 27,
      "outputs": [
        {
          "output_type": "stream",
          "text": [
            "<keras.engine.input_layer.InputLayer object at 0x7f31311b39b0>\n",
            "<keras.layers.convolutional.Conv2D object at 0x7f3131166908>\n",
            "<keras.layers.convolutional.Conv2D object at 0x7f3131166400>\n",
            "<keras.layers.pooling.MaxPooling2D object at 0x7f3138767a90>\n",
            "<keras.layers.convolutional.Conv2D object at 0x7f31310f8a90>\n",
            "<keras.layers.convolutional.Conv2D object at 0x7f3131170198>\n",
            "<keras.layers.pooling.MaxPooling2D object at 0x7f3131101470>\n",
            "<keras.layers.convolutional.Conv2D object at 0x7f31311010f0>\n",
            "<keras.layers.convolutional.Conv2D object at 0x7f31310bb438>\n",
            "<keras.layers.convolutional.Conv2D object at 0x7f31310bbe10>\n",
            "<keras.layers.pooling.MaxPooling2D object at 0x7f3132cb9940>\n",
            "<keras.layers.convolutional.Conv2D object at 0x7f3133160cc0>\n",
            "<keras.layers.convolutional.Conv2D object at 0x7f31310c6c50>\n",
            "<keras.layers.convolutional.Conv2D object at 0x7f31310c87f0>\n",
            "<keras.layers.pooling.MaxPooling2D object at 0x7f31310d0278>\n",
            "<keras.layers.convolutional.Conv2D object at 0x7f31310d00b8>\n",
            "<keras.layers.convolutional.Conv2D object at 0x7f31310d0da0>\n",
            "<keras.layers.convolutional.Conv2D object at 0x7f31310d4940>\n",
            "<keras.layers.pooling.MaxPooling2D object at 0x7f31310dd3c8>\n"
          ],
          "name": "stdout"
        }
      ]
    },
    {
      "cell_type": "code",
      "metadata": {
        "id": "59taDHdJ8ikh",
        "colab_type": "code",
        "colab": {
          "base_uri": "https://localhost:8080/",
          "height": 71
        },
        "outputId": "ba4a4552-5977-43be-8947-6923a7bc0504"
      },
      "source": [
        "X= vggmodel.layers[-2].output\n",
        "predictions = Dense(4, activation=\"softmax\")(X)\n",
        "model_final = Model(input = vggmodel.input, output = predictions)\n"
      ],
      "execution_count": 28,
      "outputs": [
        {
          "output_type": "stream",
          "text": [
            "/usr/local/lib/python3.6/dist-packages/ipykernel_launcher.py:3: UserWarning: Update your `Model` call to the Keras 2 API: `Model(inputs=Tensor(\"in..., outputs=Tensor(\"de...)`\n",
            "  This is separate from the ipykernel package so we can avoid doing imports until\n"
          ],
          "name": "stderr"
        }
      ]
    },
    {
      "cell_type": "code",
      "metadata": {
        "id": "vFYbGbdq8vg8",
        "colab_type": "code",
        "colab": {}
      },
      "source": [
        "model_final.compile(loss = \"categorical_crossentropy\", optimizer = optimizers.Adam(lr=0.00001), metrics=[\"accuracy\"])"
      ],
      "execution_count": 29,
      "outputs": []
    },
    {
      "cell_type": "code",
      "metadata": {
        "id": "i6yUCcd08xum",
        "colab_type": "code",
        "colab": {
          "base_uri": "https://localhost:8080/",
          "height": 935
        },
        "outputId": "d91b419e-6ddf-4f2b-cabb-565684b3ca39"
      },
      "source": [
        "model_final.summary()"
      ],
      "execution_count": 30,
      "outputs": [
        {
          "output_type": "stream",
          "text": [
            "Model: \"model_3\"\n",
            "_________________________________________________________________\n",
            "Layer (type)                 Output Shape              Param #   \n",
            "=================================================================\n",
            "input_2 (InputLayer)         (None, 224, 224, 3)       0         \n",
            "_________________________________________________________________\n",
            "block1_conv1 (Conv2D)        (None, 224, 224, 64)      1792      \n",
            "_________________________________________________________________\n",
            "block1_conv2 (Conv2D)        (None, 224, 224, 64)      36928     \n",
            "_________________________________________________________________\n",
            "block1_pool (MaxPooling2D)   (None, 112, 112, 64)      0         \n",
            "_________________________________________________________________\n",
            "block2_conv1 (Conv2D)        (None, 112, 112, 128)     73856     \n",
            "_________________________________________________________________\n",
            "block2_conv2 (Conv2D)        (None, 112, 112, 128)     147584    \n",
            "_________________________________________________________________\n",
            "block2_pool (MaxPooling2D)   (None, 56, 56, 128)       0         \n",
            "_________________________________________________________________\n",
            "block3_conv1 (Conv2D)        (None, 56, 56, 256)       295168    \n",
            "_________________________________________________________________\n",
            "block3_conv2 (Conv2D)        (None, 56, 56, 256)       590080    \n",
            "_________________________________________________________________\n",
            "block3_conv3 (Conv2D)        (None, 56, 56, 256)       590080    \n",
            "_________________________________________________________________\n",
            "block3_pool (MaxPooling2D)   (None, 28, 28, 256)       0         \n",
            "_________________________________________________________________\n",
            "block4_conv1 (Conv2D)        (None, 28, 28, 512)       1180160   \n",
            "_________________________________________________________________\n",
            "block4_conv2 (Conv2D)        (None, 28, 28, 512)       2359808   \n",
            "_________________________________________________________________\n",
            "block4_conv3 (Conv2D)        (None, 28, 28, 512)       2359808   \n",
            "_________________________________________________________________\n",
            "block4_pool (MaxPooling2D)   (None, 14, 14, 512)       0         \n",
            "_________________________________________________________________\n",
            "block5_conv1 (Conv2D)        (None, 14, 14, 512)       2359808   \n",
            "_________________________________________________________________\n",
            "block5_conv2 (Conv2D)        (None, 14, 14, 512)       2359808   \n",
            "_________________________________________________________________\n",
            "block5_conv3 (Conv2D)        (None, 14, 14, 512)       2359808   \n",
            "_________________________________________________________________\n",
            "block5_pool (MaxPooling2D)   (None, 7, 7, 512)         0         \n",
            "_________________________________________________________________\n",
            "flatten (Flatten)            (None, 25088)             0         \n",
            "_________________________________________________________________\n",
            "fc1 (Dense)                  (None, 4096)              102764544 \n",
            "_________________________________________________________________\n",
            "fc2 (Dense)                  (None, 4096)              16781312  \n",
            "_________________________________________________________________\n",
            "dense_3 (Dense)              (None, 4)                 16388     \n",
            "=================================================================\n",
            "Total params: 134,276,932\n",
            "Trainable params: 119,562,244\n",
            "Non-trainable params: 14,714,688\n",
            "_________________________________________________________________\n"
          ],
          "name": "stdout"
        }
      ]
    },
    {
      "cell_type": "code",
      "metadata": {
        "id": "UIV1Rie889QA",
        "colab_type": "code",
        "colab": {
          "base_uri": "https://localhost:8080/",
          "height": 1000
        },
        "outputId": "457f1fba-0bb6-44e6-b00e-781bc157fe99"
      },
      "source": [
        "from keras.callbacks import ModelCheckpoint, EarlyStopping\n",
        "checkpoint = ModelCheckpoint(\"vgg16_1.h5\", monitor='val_acc', verbose=1, save_best_only=True, save_weights_only=False, mode='auto', period=1)\n",
        "early = EarlyStopping(monitor='val_acc', min_delta=0, patience=40, verbose=1, mode='auto')\n",
        "hist=model_final.fit_generator(generator= traindata, steps_per_epoch= 2, epochs= 100, validation_data= testdata, validation_steps=1, callbacks=[checkpoint,early])\n",
        "model_final.save_weights(\"vgg16_1.h5\")"
      ],
      "execution_count": 31,
      "outputs": [
        {
          "output_type": "stream",
          "text": [
            "Epoch 1/100\n",
            "2/2 [==============================] - 53s 26s/step - loss: 1.9455 - accuracy: 0.3125 - val_loss: 1.2244 - val_accuracy: 0.4062\n",
            "Epoch 2/100\n"
          ],
          "name": "stdout"
        },
        {
          "output_type": "stream",
          "text": [
            "/usr/local/lib/python3.6/dist-packages/keras/callbacks/callbacks.py:707: RuntimeWarning: Can save best model only with val_acc available, skipping.\n",
            "  'skipping.' % (self.monitor), RuntimeWarning)\n",
            "/usr/local/lib/python3.6/dist-packages/keras/callbacks/callbacks.py:846: RuntimeWarning: Early stopping conditioned on metric `val_acc` which is not available. Available metrics are: val_loss,val_accuracy,loss,accuracy\n",
            "  (self.monitor, ','.join(list(logs.keys()))), RuntimeWarning\n"
          ],
          "name": "stderr"
        },
        {
          "output_type": "stream",
          "text": [
            "2/2 [==============================] - 51s 25s/step - loss: 1.2074 - accuracy: 0.4688 - val_loss: 1.0213 - val_accuracy: 0.6875\n",
            "Epoch 3/100\n",
            "2/2 [==============================] - 51s 25s/step - loss: 1.1987 - accuracy: 0.5938 - val_loss: 0.8804 - val_accuracy: 0.7188\n",
            "Epoch 4/100\n",
            "2/2 [==============================] - 38s 19s/step - loss: 0.9152 - accuracy: 0.6719 - val_loss: 0.6431 - val_accuracy: 0.7500\n",
            "Epoch 5/100\n",
            "2/2 [==============================] - 51s 26s/step - loss: 0.6605 - accuracy: 0.7344 - val_loss: 0.4794 - val_accuracy: 0.8750\n",
            "Epoch 6/100\n",
            "2/2 [==============================] - 51s 26s/step - loss: 0.5302 - accuracy: 0.7812 - val_loss: 0.6541 - val_accuracy: 0.7188\n",
            "Epoch 7/100\n",
            "2/2 [==============================] - 51s 25s/step - loss: 0.4723 - accuracy: 0.8281 - val_loss: 0.7016 - val_accuracy: 0.5938\n",
            "Epoch 8/100\n",
            "2/2 [==============================] - 37s 18s/step - loss: 0.4671 - accuracy: 0.8125 - val_loss: 0.7438 - val_accuracy: 0.7500\n",
            "Epoch 9/100\n",
            "2/2 [==============================] - 51s 25s/step - loss: 0.4527 - accuracy: 0.7969 - val_loss: 0.4364 - val_accuracy: 0.8125\n",
            "Epoch 10/100\n",
            "2/2 [==============================] - 51s 25s/step - loss: 0.4715 - accuracy: 0.7969 - val_loss: 0.6047 - val_accuracy: 0.7500\n",
            "Epoch 11/100\n",
            "2/2 [==============================] - 51s 26s/step - loss: 0.3545 - accuracy: 0.8750 - val_loss: 0.5178 - val_accuracy: 0.7500\n",
            "Epoch 12/100\n",
            "2/2 [==============================] - 37s 18s/step - loss: 0.4629 - accuracy: 0.8125 - val_loss: 0.0383 - val_accuracy: 1.0000\n",
            "Epoch 13/100\n",
            "2/2 [==============================] - 51s 25s/step - loss: 0.4625 - accuracy: 0.7812 - val_loss: 0.4546 - val_accuracy: 0.7500\n",
            "Epoch 14/100\n",
            "2/2 [==============================] - 51s 25s/step - loss: 0.3511 - accuracy: 0.8594 - val_loss: 0.3997 - val_accuracy: 0.8438\n",
            "Epoch 15/100\n",
            "2/2 [==============================] - 51s 25s/step - loss: 0.2994 - accuracy: 0.8438 - val_loss: 0.5019 - val_accuracy: 0.7812\n",
            "Epoch 16/100\n",
            "2/2 [==============================] - 37s 18s/step - loss: 0.4257 - accuracy: 0.8125 - val_loss: 0.6125 - val_accuracy: 0.5000\n",
            "Epoch 17/100\n",
            "2/2 [==============================] - 52s 26s/step - loss: 0.2014 - accuracy: 0.9219 - val_loss: 0.4025 - val_accuracy: 0.7812\n",
            "Epoch 18/100\n",
            "2/2 [==============================] - 52s 26s/step - loss: 0.5339 - accuracy: 0.8281 - val_loss: 0.3675 - val_accuracy: 0.7812\n",
            "Epoch 19/100\n",
            "2/2 [==============================] - 51s 25s/step - loss: 0.2180 - accuracy: 0.9062 - val_loss: 0.4314 - val_accuracy: 0.8125\n",
            "Epoch 20/100\n",
            "2/2 [==============================] - 37s 18s/step - loss: 0.2394 - accuracy: 0.9219 - val_loss: 1.3039 - val_accuracy: 0.7500\n",
            "Epoch 21/100\n",
            "2/2 [==============================] - 51s 26s/step - loss: 0.3735 - accuracy: 0.8438 - val_loss: 0.4682 - val_accuracy: 0.7812\n",
            "Epoch 22/100\n",
            "2/2 [==============================] - 51s 25s/step - loss: 0.2271 - accuracy: 0.9062 - val_loss: 0.3574 - val_accuracy: 0.8750\n",
            "Epoch 23/100\n",
            "2/2 [==============================] - 51s 25s/step - loss: 0.4181 - accuracy: 0.8281 - val_loss: 0.5084 - val_accuracy: 0.7812\n",
            "Epoch 24/100\n",
            "2/2 [==============================] - 38s 19s/step - loss: 0.3583 - accuracy: 0.8906 - val_loss: 0.4781 - val_accuracy: 0.7500\n",
            "Epoch 25/100\n",
            "2/2 [==============================] - 51s 26s/step - loss: 0.2497 - accuracy: 0.9219 - val_loss: 0.2871 - val_accuracy: 0.9062\n",
            "Epoch 26/100\n",
            "2/2 [==============================] - 51s 25s/step - loss: 0.2460 - accuracy: 0.9219 - val_loss: 0.4932 - val_accuracy: 0.7812\n",
            "Epoch 27/100\n",
            "2/2 [==============================] - 51s 25s/step - loss: 0.3953 - accuracy: 0.8281 - val_loss: 0.4661 - val_accuracy: 0.7500\n",
            "Epoch 28/100\n",
            "2/2 [==============================] - 37s 19s/step - loss: 0.1709 - accuracy: 0.9531 - val_loss: 0.1472 - val_accuracy: 1.0000\n",
            "Epoch 29/100\n",
            "2/2 [==============================] - 51s 26s/step - loss: 0.1458 - accuracy: 0.9531 - val_loss: 0.3930 - val_accuracy: 0.8438\n",
            "Epoch 30/100\n",
            "2/2 [==============================] - 51s 26s/step - loss: 0.1775 - accuracy: 0.9531 - val_loss: 0.3459 - val_accuracy: 0.9062\n",
            "Epoch 31/100\n",
            "2/2 [==============================] - 53s 27s/step - loss: 0.2371 - accuracy: 0.9375 - val_loss: 0.4603 - val_accuracy: 0.7812\n",
            "Epoch 32/100\n",
            "2/2 [==============================] - 38s 19s/step - loss: 0.1930 - accuracy: 0.9531 - val_loss: 0.5062 - val_accuracy: 0.7500\n",
            "Epoch 33/100\n",
            "2/2 [==============================] - 51s 26s/step - loss: 0.2137 - accuracy: 0.9062 - val_loss: 0.4559 - val_accuracy: 0.7188\n",
            "Epoch 34/100\n",
            "2/2 [==============================] - 51s 25s/step - loss: 0.2447 - accuracy: 0.9375 - val_loss: 0.2396 - val_accuracy: 0.9062\n",
            "Epoch 35/100\n",
            "2/2 [==============================] - 51s 25s/step - loss: 0.4923 - accuracy: 0.8281 - val_loss: 0.4343 - val_accuracy: 0.8125\n",
            "Epoch 36/100\n",
            "2/2 [==============================] - 37s 18s/step - loss: 0.2759 - accuracy: 0.8594 - val_loss: 0.4739 - val_accuracy: 0.7500\n",
            "Epoch 37/100\n",
            "2/2 [==============================] - 51s 25s/step - loss: 0.1921 - accuracy: 0.9531 - val_loss: 0.3157 - val_accuracy: 0.8438\n",
            "Epoch 38/100\n",
            "2/2 [==============================] - 52s 26s/step - loss: 0.2095 - accuracy: 0.9375 - val_loss: 0.4369 - val_accuracy: 0.8750\n",
            "Epoch 39/100\n",
            "2/2 [==============================] - 51s 25s/step - loss: 0.1331 - accuracy: 0.9844 - val_loss: 0.3101 - val_accuracy: 0.8125\n",
            "Epoch 40/100\n",
            "2/2 [==============================] - 37s 19s/step - loss: 0.2320 - accuracy: 0.9219 - val_loss: 0.6335 - val_accuracy: 0.7500\n",
            "Epoch 41/100\n",
            "2/2 [==============================] - 52s 26s/step - loss: 0.1665 - accuracy: 0.9219 - val_loss: 0.2552 - val_accuracy: 0.8750\n",
            "Epoch 42/100\n",
            "2/2 [==============================] - 51s 26s/step - loss: 0.2220 - accuracy: 0.9219 - val_loss: 0.3518 - val_accuracy: 0.8750\n",
            "Epoch 43/100\n",
            "2/2 [==============================] - 51s 26s/step - loss: 0.1940 - accuracy: 0.9844 - val_loss: 0.5510 - val_accuracy: 0.7188\n",
            "Epoch 44/100\n",
            "2/2 [==============================] - 39s 19s/step - loss: 0.2133 - accuracy: 0.9375 - val_loss: 0.6897 - val_accuracy: 0.7500\n",
            "Epoch 45/100\n",
            "2/2 [==============================] - 51s 25s/step - loss: 0.1859 - accuracy: 0.9219 - val_loss: 0.3254 - val_accuracy: 0.8750\n",
            "Epoch 46/100\n",
            "2/2 [==============================] - 51s 26s/step - loss: 0.0891 - accuracy: 1.0000 - val_loss: 0.2774 - val_accuracy: 0.8125\n",
            "Epoch 47/100\n",
            "2/2 [==============================] - 51s 26s/step - loss: 0.1955 - accuracy: 0.9219 - val_loss: 0.5120 - val_accuracy: 0.7812\n",
            "Epoch 48/100\n",
            "2/2 [==============================] - 37s 19s/step - loss: 0.1893 - accuracy: 0.9531 - val_loss: 0.2983 - val_accuracy: 0.7500\n",
            "Epoch 49/100\n",
            "2/2 [==============================] - 51s 26s/step - loss: 0.1906 - accuracy: 0.9219 - val_loss: 0.3365 - val_accuracy: 0.8438\n",
            "Epoch 50/100\n",
            "2/2 [==============================] - 52s 26s/step - loss: 0.2163 - accuracy: 0.9375 - val_loss: 0.3244 - val_accuracy: 0.9375\n",
            "Epoch 51/100\n",
            "2/2 [==============================] - 54s 27s/step - loss: 0.1271 - accuracy: 0.9688 - val_loss: 0.4562 - val_accuracy: 0.7500\n",
            "Epoch 52/100\n",
            "2/2 [==============================] - 37s 19s/step - loss: 0.2078 - accuracy: 0.9219 - val_loss: 0.2639 - val_accuracy: 0.7500\n",
            "Epoch 53/100\n",
            "2/2 [==============================] - 51s 26s/step - loss: 0.1279 - accuracy: 0.9688 - val_loss: 0.4339 - val_accuracy: 0.8438\n",
            "Epoch 54/100\n",
            "2/2 [==============================] - 51s 26s/step - loss: 0.1351 - accuracy: 0.9688 - val_loss: 0.2402 - val_accuracy: 0.9062\n",
            "Epoch 55/100\n",
            "2/2 [==============================] - 51s 26s/step - loss: 0.1274 - accuracy: 0.9688 - val_loss: 0.4384 - val_accuracy: 0.7812\n",
            "Epoch 56/100\n",
            "2/2 [==============================] - 37s 19s/step - loss: 0.2150 - accuracy: 0.9219 - val_loss: 0.1863 - val_accuracy: 1.0000\n",
            "Epoch 57/100\n",
            "2/2 [==============================] - 52s 26s/step - loss: 0.0921 - accuracy: 0.9688 - val_loss: 0.5527 - val_accuracy: 0.7188\n",
            "Epoch 58/100\n",
            "2/2 [==============================] - 51s 26s/step - loss: 0.1328 - accuracy: 0.9531 - val_loss: 0.3424 - val_accuracy: 0.8125\n",
            "Epoch 59/100\n",
            "2/2 [==============================] - 51s 25s/step - loss: 0.1282 - accuracy: 0.9531 - val_loss: 0.1304 - val_accuracy: 0.9375\n",
            "Epoch 60/100\n",
            "2/2 [==============================] - 37s 19s/step - loss: 0.1830 - accuracy: 0.9219 - val_loss: 0.2520 - val_accuracy: 0.7500\n",
            "Epoch 61/100\n",
            "2/2 [==============================] - 51s 25s/step - loss: 0.1008 - accuracy: 0.9688 - val_loss: 0.3923 - val_accuracy: 0.8125\n",
            "Epoch 62/100\n",
            "2/2 [==============================] - 51s 26s/step - loss: 0.1065 - accuracy: 0.9844 - val_loss: 0.3752 - val_accuracy: 0.8125\n",
            "Epoch 63/100\n",
            "2/2 [==============================] - 52s 26s/step - loss: 0.1392 - accuracy: 0.9531 - val_loss: 0.2713 - val_accuracy: 0.9375\n",
            "Epoch 64/100\n",
            "2/2 [==============================] - 38s 19s/step - loss: 0.1144 - accuracy: 0.9688 - val_loss: 0.4250 - val_accuracy: 0.7500\n",
            "Epoch 65/100\n",
            "2/2 [==============================] - 51s 25s/step - loss: 0.1252 - accuracy: 0.9375 - val_loss: 0.2865 - val_accuracy: 0.8125\n",
            "Epoch 66/100\n",
            "2/2 [==============================] - 51s 26s/step - loss: 0.0866 - accuracy: 0.9844 - val_loss: 0.3009 - val_accuracy: 0.8438\n",
            "Epoch 67/100\n",
            "2/2 [==============================] - 51s 26s/step - loss: 0.1551 - accuracy: 0.9375 - val_loss: 0.4481 - val_accuracy: 0.7812\n",
            "Epoch 68/100\n",
            "2/2 [==============================] - 37s 19s/step - loss: 0.0889 - accuracy: 0.9844 - val_loss: 0.7171 - val_accuracy: 0.7500\n",
            "Epoch 69/100\n",
            "2/2 [==============================] - 51s 26s/step - loss: 0.1427 - accuracy: 0.9375 - val_loss: 0.2175 - val_accuracy: 0.8750\n",
            "Epoch 70/100\n",
            "2/2 [==============================] - 52s 26s/step - loss: 0.0811 - accuracy: 1.0000 - val_loss: 0.3154 - val_accuracy: 0.8125\n",
            "Epoch 71/100\n",
            "2/2 [==============================] - 51s 26s/step - loss: 0.0746 - accuracy: 1.0000 - val_loss: 0.5184 - val_accuracy: 0.8125\n",
            "Epoch 72/100\n",
            "2/2 [==============================] - 37s 19s/step - loss: 0.0850 - accuracy: 1.0000 - val_loss: 0.2722 - val_accuracy: 1.0000\n",
            "Epoch 73/100\n",
            "2/2 [==============================] - 51s 25s/step - loss: 0.0489 - accuracy: 1.0000 - val_loss: 0.1862 - val_accuracy: 0.9375\n",
            "Epoch 74/100\n",
            "2/2 [==============================] - 51s 25s/step - loss: 0.1403 - accuracy: 0.9219 - val_loss: 0.5564 - val_accuracy: 0.7188\n",
            "Epoch 75/100\n",
            "2/2 [==============================] - 51s 26s/step - loss: 0.1063 - accuracy: 0.9844 - val_loss: 0.3178 - val_accuracy: 0.8125\n",
            "Epoch 76/100\n",
            "2/2 [==============================] - 37s 19s/step - loss: 0.0719 - accuracy: 1.0000 - val_loss: 0.1854 - val_accuracy: 1.0000\n",
            "Epoch 77/100\n",
            "2/2 [==============================] - 52s 26s/step - loss: 0.0574 - accuracy: 1.0000 - val_loss: 0.4621 - val_accuracy: 0.7812\n",
            "Epoch 78/100\n",
            "2/2 [==============================] - 51s 26s/step - loss: 0.0478 - accuracy: 1.0000 - val_loss: 0.2287 - val_accuracy: 0.8750\n",
            "Epoch 79/100\n",
            "2/2 [==============================] - 51s 25s/step - loss: 0.0672 - accuracy: 0.9844 - val_loss: 0.2814 - val_accuracy: 0.8125\n",
            "Epoch 80/100\n",
            "2/2 [==============================] - 37s 18s/step - loss: 0.0899 - accuracy: 0.9844 - val_loss: 0.5376 - val_accuracy: 0.7500\n",
            "Epoch 81/100\n",
            "2/2 [==============================] - 52s 26s/step - loss: 0.0499 - accuracy: 1.0000 - val_loss: 0.4438 - val_accuracy: 0.8125\n",
            "Epoch 82/100\n",
            "2/2 [==============================] - 51s 25s/step - loss: 0.1024 - accuracy: 0.9688 - val_loss: 0.2736 - val_accuracy: 0.8750\n",
            "Epoch 83/100\n",
            "2/2 [==============================] - 51s 26s/step - loss: 0.0773 - accuracy: 0.9844 - val_loss: 0.2992 - val_accuracy: 0.8750\n",
            "Epoch 84/100\n",
            "2/2 [==============================] - 38s 19s/step - loss: 0.0691 - accuracy: 1.0000 - val_loss: 0.1021 - val_accuracy: 1.0000\n",
            "Epoch 85/100\n",
            "2/2 [==============================] - 51s 25s/step - loss: 0.1006 - accuracy: 0.9688 - val_loss: 0.4034 - val_accuracy: 0.8125\n",
            "Epoch 86/100\n",
            "2/2 [==============================] - 51s 25s/step - loss: 0.0578 - accuracy: 1.0000 - val_loss: 0.2417 - val_accuracy: 0.9062\n",
            "Epoch 87/100\n",
            "2/2 [==============================] - 51s 25s/step - loss: 0.0597 - accuracy: 0.9844 - val_loss: 0.3055 - val_accuracy: 0.9062\n",
            "Epoch 88/100\n",
            "2/2 [==============================] - 38s 19s/step - loss: 0.0996 - accuracy: 0.9688 - val_loss: 1.1139 - val_accuracy: 0.7500\n",
            "Epoch 89/100\n",
            "2/2 [==============================] - 51s 26s/step - loss: 0.0366 - accuracy: 1.0000 - val_loss: 0.3003 - val_accuracy: 0.8750\n",
            "Epoch 90/100\n",
            "2/2 [==============================] - 51s 25s/step - loss: 0.0478 - accuracy: 1.0000 - val_loss: 0.4090 - val_accuracy: 0.8438\n",
            "Epoch 91/100\n",
            "2/2 [==============================] - 52s 26s/step - loss: 0.0567 - accuracy: 0.9844 - val_loss: 0.3401 - val_accuracy: 0.8125\n",
            "Epoch 92/100\n",
            "2/2 [==============================] - 37s 19s/step - loss: 0.0535 - accuracy: 1.0000 - val_loss: 0.0181 - val_accuracy: 1.0000\n",
            "Epoch 93/100\n",
            "2/2 [==============================] - 51s 26s/step - loss: 0.0770 - accuracy: 0.9688 - val_loss: 0.2718 - val_accuracy: 0.9062\n",
            "Epoch 94/100\n",
            "2/2 [==============================] - 52s 26s/step - loss: 0.0641 - accuracy: 0.9844 - val_loss: 0.2219 - val_accuracy: 0.8438\n",
            "Epoch 95/100\n",
            "2/2 [==============================] - 51s 25s/step - loss: 0.0692 - accuracy: 1.0000 - val_loss: 0.4819 - val_accuracy: 0.6875\n",
            "Epoch 96/100\n",
            "2/2 [==============================] - 37s 19s/step - loss: 0.0763 - accuracy: 0.9844 - val_loss: 0.0869 - val_accuracy: 1.0000\n",
            "Epoch 97/100\n",
            "2/2 [==============================] - 51s 25s/step - loss: 0.0579 - accuracy: 1.0000 - val_loss: 0.3024 - val_accuracy: 0.8438\n",
            "Epoch 98/100\n",
            "2/2 [==============================] - 51s 25s/step - loss: 0.0426 - accuracy: 1.0000 - val_loss: 0.3464 - val_accuracy: 0.8750\n",
            "Epoch 99/100\n",
            "2/2 [==============================] - 51s 25s/step - loss: 0.0428 - accuracy: 1.0000 - val_loss: 0.3439 - val_accuracy: 0.8125\n",
            "Epoch 100/100\n",
            "2/2 [==============================] - 37s 19s/step - loss: 0.0444 - accuracy: 1.0000 - val_loss: 0.1645 - val_accuracy: 1.0000\n"
          ],
          "name": "stdout"
        }
      ]
    },
    {
      "cell_type": "code",
      "metadata": {
        "id": "YtQxWrIlPU_M",
        "colab_type": "code",
        "colab": {
          "base_uri": "https://localhost:8080/",
          "height": 295
        },
        "outputId": "762ae0a3-1d1c-479d-804d-8f6c775fb208"
      },
      "source": [
        "import matplotlib.pyplot as plt\n",
        "plt.plot(hist.history[\"accuracy\"])\n",
        "plt.plot(hist.history['val_accuracy'])\n",
        "plt.plot(hist.history['loss'])\n",
        "plt.plot(hist.history['val_loss'])\n",
        "plt.title(\"model accuracy\")\n",
        "plt.ylabel(\"Accuracy\")\n",
        "plt.xlabel(\"Epoch\")\n",
        "plt.legend([\"Accuracy\",\"Validation Accuracy\",\"loss\",\"Validation Loss\"])\n",
        "plt.show()"
      ],
      "execution_count": 32,
      "outputs": [
        {
          "output_type": "display_data",
          "data": {
            "image/png": "[encoded data removed]",
            "text/plain": [
              "<Figure size 432x288 with 1 Axes>"
            ]
          },
          "metadata": {
            "tags": [],
            "needs_background": "light"
          }
        }
      ]
    },
    {
      "cell_type": "code",
      "metadata": {
        "id": "_2GdDycwS52M",
        "colab_type": "code",
        "colab": {}
      },
      "source": [
        "from keras.preprocessing.image import ImageDataGenerator\n",
        "from sklearn.metrics import classification_report, confusion_matrix\n",
        "\n",
        "test_datagen = ImageDataGenerator()"
      ],
      "execution_count": 35,
      "outputs": []
    },
    {
      "cell_type": "code",
      "metadata": {
        "id": "9-fknWZIS-CT",
        "colab_type": "code",
        "colab": {
          "base_uri": "https://localhost:8080/",
          "height": 34
        },
        "outputId": "6b7ad7b4-091e-4a63-a181-ff62ee885b72"
      },
      "source": [
        "validation_generator = test_datagen.flow_from_directory('/content/drive/My Drive/data_ouput/test',\n",
        "                                                        target_size=(224, 224),\n",
        "                                                        batch_size=32,\n",
        "                                                        class_mode='categorical')"
      ],
      "execution_count": 36,
      "outputs": [
        {
          "output_type": "stream",
          "text": [
            "Found 100 images belonging to 4 classes.\n"
          ],
          "name": "stdout"
        }
      ]
    },
    {
      "cell_type": "code",
      "metadata": {
        "id": "RSoXpGKcTEnR",
        "colab_type": "code",
        "colab": {
          "base_uri": "https://localhost:8080/",
          "height": 306
        },
        "outputId": "bdbf880a-7c52-4a25-8a7b-b14192cc21b3"
      },
      "source": [
        "import numpy as np\n",
        "#Confution Matrix and Classification Report\n",
        "Y_pred = model_final.predict_generator(validation_generator)\n",
        "y_pred = np.argmax(Y_pred, axis=1)\n",
        "print('Confusion Matrix')\n",
        "print(confusion_matrix(validation_generator.classes, y_pred))\n",
        "print('Classification Report')\n",
        "target_names = ['grade0', 'grade1', 'grade2','grade3']\n",
        "print(classification_report(validation_generator.classes, y_pred, target_names=target_names))"
      ],
      "execution_count": 37,
      "outputs": [
        {
          "output_type": "stream",
          "text": [
            "Confusion Matrix\n",
            "[[ 7 10  2  6]\n",
            " [ 8  2  7  8]\n",
            " [ 3  9  7  6]\n",
            " [ 5  6  9  5]]\n",
            "Classification Report\n",
            "              precision    recall  f1-score   support\n",
            "\n",
            "      grade0       0.30      0.28      0.29        25\n",
            "      grade1       0.07      0.08      0.08        25\n",
            "      grade2       0.28      0.28      0.28        25\n",
            "      grade3       0.20      0.20      0.20        25\n",
            "\n",
            "    accuracy                           0.21       100\n",
            "   macro avg       0.21      0.21      0.21       100\n",
            "weighted avg       0.21      0.21      0.21       100\n",
            "\n"
          ],
          "name": "stdout"
        }
      ]
    },
    {
      "cell_type": "code",
      "metadata": {
        "id": "B-E18MG6VMMN",
        "colab_type": "code",
        "colab": {
          "base_uri": "https://localhost:8080/",
          "height": 269
        },
        "outputId": "0ea1297e-86dc-43b4-d111-4b71393a886e"
      },
      "source": [
        "from keras.preprocessing import image\n",
        "import matplotlib.pyplot as plt\n",
        "\n",
        "img = image.load_img(\"/content/drive/My Drive/data_ouput/val/grade2/grade2-130.jpg\",target_size=(224,224))\n",
        "img = np.asarray(img)\n",
        "plt.imshow(img)\n",
        "img = np.expand_dims(img, axis=0)"
      ],
      "execution_count": 38,
      "outputs": [
        {
          "output_type": "display_data",
          "data": {
            "image/png": "[encoded data removed]",
            "text/plain": [
              "<Figure size 432x288 with 1 Axes>"
            ]
          },
          "metadata": {
            "tags": [],
            "needs_background": "light"
          }
        }
      ]
    },
    {
      "cell_type": "code",
      "metadata": {
        "id": "Ux21nwVeV0mE",
        "colab_type": "code",
        "colab": {}
      },
      "source": [
        "output = model_final.predict(img)"
      ],
      "execution_count": 39,
      "outputs": []
    },
    {
      "cell_type": "code",
      "metadata": {
        "id": "crw2NNGyV7kN",
        "colab_type": "code",
        "colab": {
          "base_uri": "https://localhost:8080/",
          "height": 34
        },
        "outputId": "e860ccea-fd87-435b-bc45-8cb97c565754"
      },
      "source": [
        "output\n",
        "ans='grade'+str(np.argmax(output[0],axis=0))\n",
        "print(ans)"
      ],
      "execution_count": 40,
      "outputs": [
        {
          "output_type": "stream",
          "text": [
            "grade2\n"
          ],
          "name": "stdout"
        }
      ]
    },
    {
      "cell_type": "code",
      "metadata": {
        "id": "YbH-5BZmX-K4",
        "colab_type": "code",
        "colab": {
          "base_uri": "https://localhost:8080/",
          "height": 153
        },
        "outputId": "e9934dc7-08b7-450d-86b0-7a7822b21ff9"
      },
      "source": [
        "import os\n",
        "data_path='/content/drive/My Drive/data_ouput/val'\n",
        "data_dir_list=os.listdir(data_path)\n",
        "for dataset in data_dir_list:\n",
        "  print(dataset)\n",
        "  img_list=os.listdir(data_path+'/'+dataset)\n",
        "  correctCount=0\n",
        "  wrongCount=0\n",
        "  for img in img_list:\n",
        "    img_path=data_path+'/'+dataset+'/'+img\n",
        "    input_image = image.load_img(img_path,target_size=(224,224))\n",
        "    input_image = np.asarray(input_image)\n",
        "    input_image = np.expand_dims(input_image, axis=0)\n",
        "    output = model_final.predict(input_image)\n",
        "    ans='grade'+str(np.argmax(output[0],axis=0))\n",
        "    if( ans in img):\n",
        "      correctCount+=1\n",
        "    else:\n",
        "      wrongCount+=1\n",
        "  print(\"correct Count {} WrongCount {}\".format(correctCount,wrongCount))\n",
        "\n",
        "\n"
      ],
      "execution_count": 43,
      "outputs": [
        {
          "output_type": "stream",
          "text": [
            "grade1\n",
            "correct Count 18 WrongCount 7\n",
            "grade0\n",
            "correct Count 21 WrongCount 4\n",
            "grade2\n",
            "correct Count 25 WrongCount 0\n",
            "grade3\n",
            "correct Count 21 WrongCount 4\n"
          ],
          "name": "stdout"
        }
      ]
    },
    {
      "cell_type": "code",
      "metadata": {
        "id": "PiiV053i4At7",
        "colab_type": "code",
        "colab": {}
      },
      "source": [
        "model_final.save('modelbest.h5')"
      ],
      "execution_count": 42,
      "outputs": []
    }
  ]
}