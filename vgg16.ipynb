{
  "nbformat": 4,
  "nbformat_minor": 0,
  "metadata": {
    "colab": {
      "name": "vgg16",
      "provenance": [],
      "collapsed_sections": [],
      "mount_file_id": "1IhyoGy7EHEgj120Y7aEt15WFbYJP6aXH",
      "authorship_tag": "ABX9TyMKbLSzxlBYFlsLTfZQdsbu",
      "include_colab_link": true
    },
    "kernelspec": {
      "name": "python3",
      "display_name": "Python 3"
    }
  },
  "cells": [
    {
      "cell_type": "markdown",
      "metadata": {
        "id": "view-in-github",
        "colab_type": "text"
      },
      "source": [
        "<a href=\"https://colab.research.google.com/github/pranitha2144/Internship-iith/blob/Resnet/vgg16.ipynb\" target=\"_parent\"><img src=\"https://colab.research.google.com/assets/colab-badge.svg\" alt=\"Open In Colab\"/></a>"
      ]
    },
    {
      "cell_type": "code",
      "metadata": {
        "id": "3i-5qcxM7pSC",
        "colab_type": "code",
        "colab": {}
      },
      "source": [
        "import keras\n",
        "from keras.models import Model\n",
        "from keras.layers import Dense,Dropout\n",
        "from keras import optimizers\n",
        "from keras.preprocessing.image import ImageDataGenerator\n",
        "from keras.preprocessing import image\n",
        "from tensorflow.keras.applications.vgg16 import preprocess_input"
      ],
      "execution_count": 43,
      "outputs": []
    },
    {
      "cell_type": "code",
      "metadata": {
        "id": "JKBtzsJojptA",
        "colab_type": "code",
        "colab": {}
      },
      "source": [
        "#!pip install split_folders"
      ],
      "execution_count": null,
      "outputs": []
    },
    {
      "cell_type": "code",
      "metadata": {
        "id": "hzM7ojOkjaiK",
        "colab_type": "code",
        "colab": {}
      },
      "source": [
        "import split_folders\n",
        "\n",
        "# Split with a ratio.\n",
        "# To only split into training and validation set, set a tuple to `ratio`, i.e, `(.8, .2)`.\n",
        "#split_folders.ratio('/content/drive/My Drive/data-liverdisease', output=\"/content/drive/My Drive/data_output1\", seed=1337, ratio=(.7, .2,.1)) # default values\n"
      ],
      "execution_count": null,
      "outputs": []
    },
    {
      "cell_type": "code",
      "metadata": {
        "id": "P_NCAugx70fs",
        "colab_type": "code",
        "colab": {
          "base_uri": "https://localhost:8080/",
          "height": 51
        },
        "outputId": "bba0d473-36ee-4d11-89df-0c9a63618198"
      },
      "source": [
        "trdata = ImageDataGenerator(preprocessing_function=preprocess_input)\n",
        "traindata = trdata.flow_from_directory(directory=\"/content/drive/My Drive/data_ouput/train\",target_size=(224,224))\n",
        "tsdata = ImageDataGenerator(preprocessing_function=preprocess_input)\n",
        "testdata = tsdata.flow_from_directory(directory=\"/content/drive/My Drive/data_ouput/val\", target_size=(224,224))"
      ],
      "execution_count": 44,
      "outputs": [
        {
          "output_type": "stream",
          "text": [
            "Found 800 images belonging to 4 classes.\n",
            "Found 100 images belonging to 4 classes.\n"
          ],
          "name": "stdout"
        }
      ]
    },
    {
      "cell_type": "code",
      "metadata": {
        "id": "rg_JdtWb8O00",
        "colab_type": "code",
        "colab": {}
      },
      "source": [
        "from keras.applications.vgg16 import VGG16\n",
        "vggmodel = VGG16(weights='imagenet',include_top=True)"
      ],
      "execution_count": 45,
      "outputs": []
    },
    {
      "cell_type": "code",
      "metadata": {
        "id": "PKuEFjHt8TfJ",
        "colab_type": "code",
        "colab": {
          "base_uri": "https://localhost:8080/",
          "height": 935
        },
        "outputId": "7c8b0b29-dddf-424d-aeb7-419977672fdc"
      },
      "source": [
        "vggmodel.summary()"
      ],
      "execution_count": 48,
      "outputs": [
        {
          "output_type": "stream",
          "text": [
            "Model: \"vgg16\"\n",
            "_________________________________________________________________\n",
            "Layer (type)                 Output Shape              Param #   \n",
            "=================================================================\n",
            "input_4 (InputLayer)         (None, 224, 224, 3)       0         \n",
            "_________________________________________________________________\n",
            "block1_conv1 (Conv2D)        (None, 224, 224, 64)      1792      \n",
            "_________________________________________________________________\n",
            "block1_conv2 (Conv2D)        (None, 224, 224, 64)      36928     \n",
            "_________________________________________________________________\n",
            "block1_pool (MaxPooling2D)   (None, 112, 112, 64)      0         \n",
            "_________________________________________________________________\n",
            "block2_conv1 (Conv2D)        (None, 112, 112, 128)     73856     \n",
            "_________________________________________________________________\n",
            "block2_conv2 (Conv2D)        (None, 112, 112, 128)     147584    \n",
            "_________________________________________________________________\n",
            "block2_pool (MaxPooling2D)   (None, 56, 56, 128)       0         \n",
            "_________________________________________________________________\n",
            "block3_conv1 (Conv2D)        (None, 56, 56, 256)       295168    \n",
            "_________________________________________________________________\n",
            "block3_conv2 (Conv2D)        (None, 56, 56, 256)       590080    \n",
            "_________________________________________________________________\n",
            "block3_conv3 (Conv2D)        (None, 56, 56, 256)       590080    \n",
            "_________________________________________________________________\n",
            "block3_pool (MaxPooling2D)   (None, 28, 28, 256)       0         \n",
            "_________________________________________________________________\n",
            "block4_conv1 (Conv2D)        (None, 28, 28, 512)       1180160   \n",
            "_________________________________________________________________\n",
            "block4_conv2 (Conv2D)        (None, 28, 28, 512)       2359808   \n",
            "_________________________________________________________________\n",
            "block4_conv3 (Conv2D)        (None, 28, 28, 512)       2359808   \n",
            "_________________________________________________________________\n",
            "block4_pool (MaxPooling2D)   (None, 14, 14, 512)       0         \n",
            "_________________________________________________________________\n",
            "block5_conv1 (Conv2D)        (None, 14, 14, 512)       2359808   \n",
            "_________________________________________________________________\n",
            "block5_conv2 (Conv2D)        (None, 14, 14, 512)       2359808   \n",
            "_________________________________________________________________\n",
            "block5_conv3 (Conv2D)        (None, 14, 14, 512)       2359808   \n",
            "_________________________________________________________________\n",
            "block5_pool (MaxPooling2D)   (None, 7, 7, 512)         0         \n",
            "_________________________________________________________________\n",
            "flatten (Flatten)            (None, 25088)             0         \n",
            "_________________________________________________________________\n",
            "fc1 (Dense)                  (None, 4096)              102764544 \n",
            "_________________________________________________________________\n",
            "fc2 (Dense)                  (None, 4096)              16781312  \n",
            "_________________________________________________________________\n",
            "predictions (Dense)          (None, 1000)              4097000   \n",
            "=================================================================\n",
            "Total params: 138,357,544\n",
            "Trainable params: 138,357,544\n",
            "Non-trainable params: 0\n",
            "_________________________________________________________________\n"
          ],
          "name": "stdout"
        }
      ]
    },
    {
      "cell_type": "code",
      "metadata": {
        "id": "82_pWv5ammho",
        "colab_type": "code",
        "colab": {
          "base_uri": "https://localhost:8080/",
          "height": 34
        },
        "outputId": "58309d80-0ac6-45f7-cefc-cf6b7a6ebcdf"
      },
      "source": [
        "type(vggmodel)"
      ],
      "execution_count": 49,
      "outputs": [
        {
          "output_type": "execute_result",
          "data": {
            "text/plain": [
              "keras.engine.training.Model"
            ]
          },
          "metadata": {
            "tags": []
          },
          "execution_count": 49
        }
      ]
    },
    {
      "cell_type": "code",
      "metadata": {
        "id": "GG60hKI68aWo",
        "colab_type": "code",
        "colab": {
          "base_uri": "https://localhost:8080/",
          "height": 442
        },
        "outputId": "95b0e062-d4f9-4068-830a-9f8a018dbd4c"
      },
      "source": [
        "'''for layers in (vggmodel.layers)[:-1]:\n",
        "    print(layers)\n",
        "    layers.trainable = False'''"
      ],
      "execution_count": null,
      "outputs": [
        {
          "output_type": "stream",
          "text": [
            "<keras.engine.input_layer.InputLayer object at 0x7f5fbb69a6d8>\n",
            "<keras.layers.convolutional.Conv2D object at 0x7f5fbb69ad68>\n",
            "<keras.layers.convolutional.Conv2D object at 0x7f5fbb674438>\n",
            "<keras.layers.pooling.MaxPooling2D object at 0x7f5fbb69a828>\n",
            "<keras.layers.convolutional.Conv2D object at 0x7f5f78b1e7b8>\n",
            "<keras.layers.convolutional.Conv2D object at 0x7f5f77a94668>\n",
            "<keras.layers.pooling.MaxPooling2D object at 0x7f5f77a94e10>\n",
            "<keras.layers.convolutional.Conv2D object at 0x7f5f77a9d208>\n",
            "<keras.layers.convolutional.Conv2D object at 0x7f5f77a9dda0>\n",
            "<keras.layers.convolutional.Conv2D object at 0x7f5f77aa2978>\n",
            "<keras.layers.convolutional.Conv2D object at 0x7f5f77aa7438>\n",
            "<keras.layers.pooling.MaxPooling2D object at 0x7f5f77aa7eb8>\n",
            "<keras.layers.convolutional.Conv2D object at 0x7f5f77aa7cc0>\n",
            "<keras.layers.convolutional.Conv2D object at 0x7f5f77aaef98>\n",
            "<keras.layers.convolutional.Conv2D object at 0x7f5f77ab6630>\n",
            "<keras.layers.convolutional.Conv2D object at 0x7f5f77ab6e48>\n",
            "<keras.layers.pooling.MaxPooling2D object at 0x7f5f77abeb70>\n",
            "<keras.layers.convolutional.Conv2D object at 0x7f5f77abe978>\n",
            "<keras.layers.convolutional.Conv2D object at 0x7f5f77ac46d8>\n",
            "<keras.layers.convolutional.Conv2D object at 0x7f5f77ac4e80>\n",
            "<keras.layers.convolutional.Conv2D object at 0x7f5f77accd68>\n",
            "<keras.layers.pooling.MaxPooling2D object at 0x7f5f77a52828>\n",
            "<keras.layers.core.Flatten object at 0x7f5f77a52630>\n",
            "<keras.layers.core.Dense object at 0x7f5f77a528d0>\n",
            "<keras.layers.core.Dense object at 0x7f5f77a672b0>\n"
          ],
          "name": "stdout"
        }
      ]
    },
    {
      "cell_type": "code",
      "metadata": {
        "id": "IGKyayZrnBcc",
        "colab_type": "code",
        "colab": {
          "base_uri": "https://localhost:8080/",
          "height": 34
        },
        "outputId": "25489db6-7621-4f3e-d712-60668c301bfb"
      },
      "source": [
        "vggmodel.layers.pop()\n"
      ],
      "execution_count": 50,
      "outputs": [
        {
          "output_type": "execute_result",
          "data": {
            "text/plain": [
              "<keras.layers.core.Dense at 0x7fb90c3a4438>"
            ]
          },
          "metadata": {
            "tags": []
          },
          "execution_count": 50
        }
      ]
    },
    {
      "cell_type": "code",
      "metadata": {
        "id": "DcSuJhHsnW_L",
        "colab_type": "code",
        "colab": {
          "base_uri": "https://localhost:8080/",
          "height": 391
        },
        "outputId": "a1a3ca44-aaf6-4521-da35-43ef9b13dff7"
      },
      "source": [
        "for layers in (vggmodel.layers):\n",
        "    print(layers)\n",
        "    layers.trainable = False"
      ],
      "execution_count": 51,
      "outputs": [
        {
          "output_type": "stream",
          "text": [
            "<keras.engine.input_layer.InputLayer object at 0x7fb90cbb9f28>\n",
            "<keras.layers.convolutional.Conv2D object at 0x7fb90bbfbe48>\n",
            "<keras.layers.convolutional.Conv2D object at 0x7fb90d7435c0>\n",
            "<keras.layers.pooling.MaxPooling2D object at 0x7fb90cc49e48>\n",
            "<keras.layers.convolutional.Conv2D object at 0x7fb90cc29d30>\n",
            "<keras.layers.convolutional.Conv2D object at 0x7fb90cbb2dd8>\n",
            "<keras.layers.pooling.MaxPooling2D object at 0x7fb90cbb0550>\n",
            "<keras.layers.convolutional.Conv2D object at 0x7fb90cbb0d68>\n",
            "<keras.layers.convolutional.Conv2D object at 0x7fb90cc496a0>\n",
            "<keras.layers.convolutional.Conv2D object at 0x7fb90cbb2128>\n",
            "<keras.layers.pooling.MaxPooling2D object at 0x7fb90c380d30>\n",
            "<keras.layers.convolutional.Conv2D object at 0x7fb90c380b70>\n",
            "<keras.layers.convolutional.Conv2D object at 0x7fb90c3855f8>\n",
            "<keras.layers.convolutional.Conv2D object at 0x7fb90c38a438>\n",
            "<keras.layers.pooling.MaxPooling2D object at 0x7fb90c38ae80>\n",
            "<keras.layers.convolutional.Conv2D object at 0x7fb90c38acc0>\n",
            "<keras.layers.convolutional.Conv2D object at 0x7fb90c38ff28>\n",
            "<keras.layers.convolutional.Conv2D object at 0x7fb90c396588>\n",
            "<keras.layers.pooling.MaxPooling2D object at 0x7fb90c396e10>\n",
            "<keras.layers.core.Flatten object at 0x7fb90c396dd8>\n",
            "<keras.layers.core.Dense object at 0x7fb90c396f98>\n",
            "<keras.layers.core.Dense object at 0x7fb90c3a4cc0>\n"
          ],
          "name": "stdout"
        }
      ]
    },
    {
      "cell_type": "code",
      "metadata": {
        "id": "3y43Fuj5nLmi",
        "colab_type": "code",
        "colab": {
          "base_uri": "https://localhost:8080/",
          "height": 901
        },
        "outputId": "e81b0f35-1bb3-4881-fd34-412d975c3756"
      },
      "source": [
        "vggmodel.summary()"
      ],
      "execution_count": 52,
      "outputs": [
        {
          "output_type": "stream",
          "text": [
            "Model: \"vgg16\"\n",
            "_________________________________________________________________\n",
            "Layer (type)                 Output Shape              Param #   \n",
            "=================================================================\n",
            "input_4 (InputLayer)         (None, 224, 224, 3)       0         \n",
            "_________________________________________________________________\n",
            "block1_conv1 (Conv2D)        (None, 224, 224, 64)      1792      \n",
            "_________________________________________________________________\n",
            "block1_conv2 (Conv2D)        (None, 224, 224, 64)      36928     \n",
            "_________________________________________________________________\n",
            "block1_pool (MaxPooling2D)   (None, 112, 112, 64)      0         \n",
            "_________________________________________________________________\n",
            "block2_conv1 (Conv2D)        (None, 112, 112, 128)     73856     \n",
            "_________________________________________________________________\n",
            "block2_conv2 (Conv2D)        (None, 112, 112, 128)     147584    \n",
            "_________________________________________________________________\n",
            "block2_pool (MaxPooling2D)   (None, 56, 56, 128)       0         \n",
            "_________________________________________________________________\n",
            "block3_conv1 (Conv2D)        (None, 56, 56, 256)       295168    \n",
            "_________________________________________________________________\n",
            "block3_conv2 (Conv2D)        (None, 56, 56, 256)       590080    \n",
            "_________________________________________________________________\n",
            "block3_conv3 (Conv2D)        (None, 56, 56, 256)       590080    \n",
            "_________________________________________________________________\n",
            "block3_pool (MaxPooling2D)   (None, 28, 28, 256)       0         \n",
            "_________________________________________________________________\n",
            "block4_conv1 (Conv2D)        (None, 28, 28, 512)       1180160   \n",
            "_________________________________________________________________\n",
            "block4_conv2 (Conv2D)        (None, 28, 28, 512)       2359808   \n",
            "_________________________________________________________________\n",
            "block4_conv3 (Conv2D)        (None, 28, 28, 512)       2359808   \n",
            "_________________________________________________________________\n",
            "block4_pool (MaxPooling2D)   (None, 14, 14, 512)       0         \n",
            "_________________________________________________________________\n",
            "block5_conv1 (Conv2D)        (None, 14, 14, 512)       2359808   \n",
            "_________________________________________________________________\n",
            "block5_conv2 (Conv2D)        (None, 14, 14, 512)       2359808   \n",
            "_________________________________________________________________\n",
            "block5_conv3 (Conv2D)        (None, 14, 14, 512)       2359808   \n",
            "_________________________________________________________________\n",
            "block5_pool (MaxPooling2D)   (None, 7, 7, 512)         0         \n",
            "_________________________________________________________________\n",
            "flatten (Flatten)            (None, 25088)             0         \n",
            "_________________________________________________________________\n",
            "fc1 (Dense)                  (None, 4096)              102764544 \n",
            "_________________________________________________________________\n",
            "fc2 (Dense)                  (None, 4096)              16781312  \n",
            "=================================================================\n",
            "Total params: 134,260,544\n",
            "Trainable params: 0\n",
            "Non-trainable params: 134,260,544\n",
            "_________________________________________________________________\n"
          ],
          "name": "stdout"
        }
      ]
    },
    {
      "cell_type": "code",
      "metadata": {
        "id": "59taDHdJ8ikh",
        "colab_type": "code",
        "colab": {
          "base_uri": "https://localhost:8080/",
          "height": 71
        },
        "outputId": "eeed5cfd-3072-4c9b-f458-a8d8141e77a2"
      },
      "source": [
        "from tensorflow.keras import regularizers\n",
        "X= vggmodel.layers[-1].output\n",
        "predictions = Dense(4, activation=\"softmax\")(X)\n",
        "model_final = Model(input = vggmodel.input, output = predictions)\n"
      ],
      "execution_count": 53,
      "outputs": [
        {
          "output_type": "stream",
          "text": [
            "/usr/local/lib/python3.6/dist-packages/ipykernel_launcher.py:4: UserWarning: Update your `Model` call to the Keras 2 API: `Model(inputs=Tensor(\"in..., outputs=Tensor(\"de...)`\n",
            "  after removing the cwd from sys.path.\n"
          ],
          "name": "stderr"
        }
      ]
    },
    {
      "cell_type": "code",
      "metadata": {
        "id": "cNCno2TsnpGB",
        "colab_type": "code",
        "colab": {
          "base_uri": "https://localhost:8080/",
          "height": 935
        },
        "outputId": "4efa5140-d1cc-487c-f4a8-99753e8227dc"
      },
      "source": [
        "model_final.summary()"
      ],
      "execution_count": 54,
      "outputs": [
        {
          "output_type": "stream",
          "text": [
            "Model: \"model_4\"\n",
            "_________________________________________________________________\n",
            "Layer (type)                 Output Shape              Param #   \n",
            "=================================================================\n",
            "input_4 (InputLayer)         (None, 224, 224, 3)       0         \n",
            "_________________________________________________________________\n",
            "block1_conv1 (Conv2D)        (None, 224, 224, 64)      1792      \n",
            "_________________________________________________________________\n",
            "block1_conv2 (Conv2D)        (None, 224, 224, 64)      36928     \n",
            "_________________________________________________________________\n",
            "block1_pool (MaxPooling2D)   (None, 112, 112, 64)      0         \n",
            "_________________________________________________________________\n",
            "block2_conv1 (Conv2D)        (None, 112, 112, 128)     73856     \n",
            "_________________________________________________________________\n",
            "block2_conv2 (Conv2D)        (None, 112, 112, 128)     147584    \n",
            "_________________________________________________________________\n",
            "block2_pool (MaxPooling2D)   (None, 56, 56, 128)       0         \n",
            "_________________________________________________________________\n",
            "block3_conv1 (Conv2D)        (None, 56, 56, 256)       295168    \n",
            "_________________________________________________________________\n",
            "block3_conv2 (Conv2D)        (None, 56, 56, 256)       590080    \n",
            "_________________________________________________________________\n",
            "block3_conv3 (Conv2D)        (None, 56, 56, 256)       590080    \n",
            "_________________________________________________________________\n",
            "block3_pool (MaxPooling2D)   (None, 28, 28, 256)       0         \n",
            "_________________________________________________________________\n",
            "block4_conv1 (Conv2D)        (None, 28, 28, 512)       1180160   \n",
            "_________________________________________________________________\n",
            "block4_conv2 (Conv2D)        (None, 28, 28, 512)       2359808   \n",
            "_________________________________________________________________\n",
            "block4_conv3 (Conv2D)        (None, 28, 28, 512)       2359808   \n",
            "_________________________________________________________________\n",
            "block4_pool (MaxPooling2D)   (None, 14, 14, 512)       0         \n",
            "_________________________________________________________________\n",
            "block5_conv1 (Conv2D)        (None, 14, 14, 512)       2359808   \n",
            "_________________________________________________________________\n",
            "block5_conv2 (Conv2D)        (None, 14, 14, 512)       2359808   \n",
            "_________________________________________________________________\n",
            "block5_conv3 (Conv2D)        (None, 14, 14, 512)       2359808   \n",
            "_________________________________________________________________\n",
            "block5_pool (MaxPooling2D)   (None, 7, 7, 512)         0         \n",
            "_________________________________________________________________\n",
            "flatten (Flatten)            (None, 25088)             0         \n",
            "_________________________________________________________________\n",
            "fc1 (Dense)                  (None, 4096)              102764544 \n",
            "_________________________________________________________________\n",
            "fc2 (Dense)                  (None, 4096)              16781312  \n",
            "_________________________________________________________________\n",
            "dense_7 (Dense)              (None, 4)                 16388     \n",
            "=================================================================\n",
            "Total params: 134,276,932\n",
            "Trainable params: 16,388\n",
            "Non-trainable params: 134,260,544\n",
            "_________________________________________________________________\n"
          ],
          "name": "stdout"
        }
      ]
    },
    {
      "cell_type": "code",
      "metadata": {
        "id": "4ZRoo4eZIZMv",
        "colab_type": "code",
        "colab": {
          "base_uri": "https://localhost:8080/",
          "height": 408
        },
        "outputId": "a23595a8-e711-43a4-ea64-7791056d642e"
      },
      "source": [
        "for i in model_final.layers:\n",
        "  print(i.trainable)"
      ],
      "execution_count": 55,
      "outputs": [
        {
          "output_type": "stream",
          "text": [
            "False\n",
            "False\n",
            "False\n",
            "False\n",
            "False\n",
            "False\n",
            "False\n",
            "False\n",
            "False\n",
            "False\n",
            "False\n",
            "False\n",
            "False\n",
            "False\n",
            "False\n",
            "False\n",
            "False\n",
            "False\n",
            "False\n",
            "False\n",
            "False\n",
            "False\n",
            "True\n"
          ],
          "name": "stdout"
        }
      ]
    },
    {
      "cell_type": "code",
      "metadata": {
        "id": "vFYbGbdq8vg8",
        "colab_type": "code",
        "colab": {}
      },
      "source": [
        "model_final.compile(loss = \"categorical_crossentropy\", optimizer = keras.optimizers.Adam(lr=0.0001), metrics=[\"accuracy\"])"
      ],
      "execution_count": 56,
      "outputs": []
    },
    {
      "cell_type": "code",
      "metadata": {
        "id": "i6yUCcd08xum",
        "colab_type": "code",
        "colab": {
          "base_uri": "https://localhost:8080/",
          "height": 935
        },
        "outputId": "160a44c1-2fe3-4897-8c19-3721b8b034e2"
      },
      "source": [
        "model_final.summary()"
      ],
      "execution_count": 57,
      "outputs": [
        {
          "output_type": "stream",
          "text": [
            "Model: \"model_4\"\n",
            "_________________________________________________________________\n",
            "Layer (type)                 Output Shape              Param #   \n",
            "=================================================================\n",
            "input_4 (InputLayer)         (None, 224, 224, 3)       0         \n",
            "_________________________________________________________________\n",
            "block1_conv1 (Conv2D)        (None, 224, 224, 64)      1792      \n",
            "_________________________________________________________________\n",
            "block1_conv2 (Conv2D)        (None, 224, 224, 64)      36928     \n",
            "_________________________________________________________________\n",
            "block1_pool (MaxPooling2D)   (None, 112, 112, 64)      0         \n",
            "_________________________________________________________________\n",
            "block2_conv1 (Conv2D)        (None, 112, 112, 128)     73856     \n",
            "_________________________________________________________________\n",
            "block2_conv2 (Conv2D)        (None, 112, 112, 128)     147584    \n",
            "_________________________________________________________________\n",
            "block2_pool (MaxPooling2D)   (None, 56, 56, 128)       0         \n",
            "_________________________________________________________________\n",
            "block3_conv1 (Conv2D)        (None, 56, 56, 256)       295168    \n",
            "_________________________________________________________________\n",
            "block3_conv2 (Conv2D)        (None, 56, 56, 256)       590080    \n",
            "_________________________________________________________________\n",
            "block3_conv3 (Conv2D)        (None, 56, 56, 256)       590080    \n",
            "_________________________________________________________________\n",
            "block3_pool (MaxPooling2D)   (None, 28, 28, 256)       0         \n",
            "_________________________________________________________________\n",
            "block4_conv1 (Conv2D)        (None, 28, 28, 512)       1180160   \n",
            "_________________________________________________________________\n",
            "block4_conv2 (Conv2D)        (None, 28, 28, 512)       2359808   \n",
            "_________________________________________________________________\n",
            "block4_conv3 (Conv2D)        (None, 28, 28, 512)       2359808   \n",
            "_________________________________________________________________\n",
            "block4_pool (MaxPooling2D)   (None, 14, 14, 512)       0         \n",
            "_________________________________________________________________\n",
            "block5_conv1 (Conv2D)        (None, 14, 14, 512)       2359808   \n",
            "_________________________________________________________________\n",
            "block5_conv2 (Conv2D)        (None, 14, 14, 512)       2359808   \n",
            "_________________________________________________________________\n",
            "block5_conv3 (Conv2D)        (None, 14, 14, 512)       2359808   \n",
            "_________________________________________________________________\n",
            "block5_pool (MaxPooling2D)   (None, 7, 7, 512)         0         \n",
            "_________________________________________________________________\n",
            "flatten (Flatten)            (None, 25088)             0         \n",
            "_________________________________________________________________\n",
            "fc1 (Dense)                  (None, 4096)              102764544 \n",
            "_________________________________________________________________\n",
            "fc2 (Dense)                  (None, 4096)              16781312  \n",
            "_________________________________________________________________\n",
            "dense_7 (Dense)              (None, 4)                 16388     \n",
            "=================================================================\n",
            "Total params: 134,276,932\n",
            "Trainable params: 16,388\n",
            "Non-trainable params: 134,260,544\n",
            "_________________________________________________________________\n"
          ],
          "name": "stdout"
        }
      ]
    },
    {
      "cell_type": "code",
      "metadata": {
        "id": "UIV1Rie889QA",
        "colab_type": "code",
        "colab": {
          "base_uri": "https://localhost:8080/",
          "height": 1000
        },
        "outputId": "96623be0-2600-45f8-ee47-6f03abfda3aa"
      },
      "source": [
        "from keras.callbacks import ModelCheckpoint, EarlyStopping\n",
        "checkpoint = ModelCheckpoint(\"vgg16_1.h5\", monitor='val_accuracy', verbose=1, save_best_only=True, save_weights_only=False, mode='auto', period=1)\n",
        "early = EarlyStopping(monitor='val_acc', min_delta=0, patience=40, verbose=1, mode='auto')\n",
        "hist=model_final.fit(traindata, steps_per_epoch= 2, epochs= 100, validation_data= testdata, validation_steps=1, callbacks=[checkpoint,early])\n",
        "model_final.save_weights(\"vgg16_1.h5\")"
      ],
      "execution_count": 58,
      "outputs": [
        {
          "output_type": "stream",
          "text": [
            "Epoch 1/100\n",
            "2/2 [==============================] - 49s 24s/step - loss: 1.6951 - accuracy: 0.2344 - val_loss: 1.6378 - val_accuracy: 0.2188\n",
            "\n",
            "Epoch 00001: val_accuracy improved from -inf to 0.21875, saving model to vgg16_1.h5\n"
          ],
          "name": "stdout"
        },
        {
          "output_type": "stream",
          "text": [
            "/usr/local/lib/python3.6/dist-packages/keras/callbacks/callbacks.py:846: RuntimeWarning: Early stopping conditioned on metric `val_acc` which is not available. Available metrics are: val_loss,val_accuracy,loss,accuracy\n",
            "  (self.monitor, ','.join(list(logs.keys()))), RuntimeWarning\n"
          ],
          "name": "stderr"
        },
        {
          "output_type": "stream",
          "text": [
            "Epoch 2/100\n",
            "2/2 [==============================] - 48s 24s/step - loss: 1.6660 - accuracy: 0.1719 - val_loss: 1.5819 - val_accuracy: 0.2812\n",
            "\n",
            "Epoch 00002: val_accuracy improved from 0.21875 to 0.28125, saving model to vgg16_1.h5\n",
            "Epoch 3/100\n",
            "2/2 [==============================] - 48s 24s/step - loss: 1.6299 - accuracy: 0.1406 - val_loss: 1.3916 - val_accuracy: 0.3750\n",
            "\n",
            "Epoch 00003: val_accuracy improved from 0.28125 to 0.37500, saving model to vgg16_1.h5\n",
            "Epoch 4/100\n",
            "2/2 [==============================] - 34s 17s/step - loss: 1.5157 - accuracy: 0.2031 - val_loss: 1.4980 - val_accuracy: 0.0000e+00\n",
            "\n",
            "Epoch 00004: val_accuracy did not improve from 0.37500\n",
            "Epoch 5/100\n",
            "2/2 [==============================] - 48s 24s/step - loss: 1.3716 - accuracy: 0.2812 - val_loss: 1.3001 - val_accuracy: 0.3750\n",
            "\n",
            "Epoch 00005: val_accuracy did not improve from 0.37500\n",
            "Epoch 6/100\n",
            "2/2 [==============================] - 49s 24s/step - loss: 1.3377 - accuracy: 0.3594 - val_loss: 1.2359 - val_accuracy: 0.4375\n",
            "\n",
            "Epoch 00006: val_accuracy improved from 0.37500 to 0.43750, saving model to vgg16_1.h5\n",
            "Epoch 7/100\n",
            "2/2 [==============================] - 48s 24s/step - loss: 1.2878 - accuracy: 0.3438 - val_loss: 1.3523 - val_accuracy: 0.2812\n",
            "\n",
            "Epoch 00007: val_accuracy did not improve from 0.43750\n",
            "Epoch 8/100\n",
            "2/2 [==============================] - 34s 17s/step - loss: 1.2244 - accuracy: 0.4844 - val_loss: 1.2229 - val_accuracy: 0.5000\n",
            "\n",
            "Epoch 00008: val_accuracy improved from 0.43750 to 0.50000, saving model to vgg16_1.h5\n",
            "Epoch 9/100\n",
            "2/2 [==============================] - 48s 24s/step - loss: 1.1990 - accuracy: 0.5625 - val_loss: 1.1550 - val_accuracy: 0.5312\n",
            "\n",
            "Epoch 00009: val_accuracy improved from 0.50000 to 0.53125, saving model to vgg16_1.h5\n",
            "Epoch 10/100\n",
            "2/2 [==============================] - 48s 24s/step - loss: 1.1207 - accuracy: 0.6094 - val_loss: 1.0772 - val_accuracy: 0.6250\n",
            "\n",
            "Epoch 00010: val_accuracy improved from 0.53125 to 0.62500, saving model to vgg16_1.h5\n",
            "Epoch 11/100\n",
            "2/2 [==============================] - 48s 24s/step - loss: 1.0964 - accuracy: 0.6406 - val_loss: 1.1333 - val_accuracy: 0.5312\n",
            "\n",
            "Epoch 00011: val_accuracy did not improve from 0.62500\n",
            "Epoch 12/100\n",
            "2/2 [==============================] - 35s 17s/step - loss: 1.1155 - accuracy: 0.5938 - val_loss: 1.0319 - val_accuracy: 0.7500\n",
            "\n",
            "Epoch 00012: val_accuracy improved from 0.62500 to 0.75000, saving model to vgg16_1.h5\n",
            "Epoch 13/100\n",
            "2/2 [==============================] - 49s 24s/step - loss: 1.0729 - accuracy: 0.6250 - val_loss: 1.0920 - val_accuracy: 0.5312\n",
            "\n",
            "Epoch 00013: val_accuracy did not improve from 0.75000\n",
            "Epoch 14/100\n",
            "2/2 [==============================] - 48s 24s/step - loss: 1.0796 - accuracy: 0.5781 - val_loss: 0.8944 - val_accuracy: 0.7188\n",
            "\n",
            "Epoch 00014: val_accuracy did not improve from 0.75000\n",
            "Epoch 15/100\n",
            "2/2 [==============================] - 48s 24s/step - loss: 0.9450 - accuracy: 0.7031 - val_loss: 1.0079 - val_accuracy: 0.5938\n",
            "\n",
            "Epoch 00015: val_accuracy did not improve from 0.75000\n",
            "Epoch 16/100\n",
            "2/2 [==============================] - 34s 17s/step - loss: 0.9993 - accuracy: 0.6562 - val_loss: 0.8972 - val_accuracy: 0.7500\n",
            "\n",
            "Epoch 00016: val_accuracy did not improve from 0.75000\n",
            "Epoch 17/100\n",
            "2/2 [==============================] - 48s 24s/step - loss: 0.9543 - accuracy: 0.6719 - val_loss: 0.9127 - val_accuracy: 0.6875\n",
            "\n",
            "Epoch 00017: val_accuracy did not improve from 0.75000\n",
            "Epoch 18/100\n",
            "2/2 [==============================] - 48s 24s/step - loss: 0.8536 - accuracy: 0.7344 - val_loss: 0.8961 - val_accuracy: 0.7500\n",
            "\n",
            "Epoch 00018: val_accuracy did not improve from 0.75000\n",
            "Epoch 19/100\n",
            "2/2 [==============================] - 48s 24s/step - loss: 0.8487 - accuracy: 0.7188 - val_loss: 0.9027 - val_accuracy: 0.6250\n",
            "\n",
            "Epoch 00019: val_accuracy did not improve from 0.75000\n",
            "Epoch 20/100\n",
            "2/2 [==============================] - 34s 17s/step - loss: 0.8883 - accuracy: 0.7031 - val_loss: 0.6788 - val_accuracy: 0.7500\n",
            "\n",
            "Epoch 00020: val_accuracy did not improve from 0.75000\n",
            "Epoch 21/100\n",
            "2/2 [==============================] - 48s 24s/step - loss: 0.8343 - accuracy: 0.7188 - val_loss: 0.8332 - val_accuracy: 0.7188\n",
            "\n",
            "Epoch 00021: val_accuracy did not improve from 0.75000\n",
            "Epoch 22/100\n",
            "2/2 [==============================] - 48s 24s/step - loss: 0.8584 - accuracy: 0.7031 - val_loss: 0.8748 - val_accuracy: 0.6562\n",
            "\n",
            "Epoch 00022: val_accuracy did not improve from 0.75000\n",
            "Epoch 23/100\n",
            "2/2 [==============================] - 48s 24s/step - loss: 0.8458 - accuracy: 0.7500 - val_loss: 0.6988 - val_accuracy: 0.8125\n",
            "\n",
            "Epoch 00023: val_accuracy improved from 0.75000 to 0.81250, saving model to vgg16_1.h5\n",
            "Epoch 24/100\n",
            "2/2 [==============================] - 34s 17s/step - loss: 0.7630 - accuracy: 0.7500 - val_loss: 1.1133 - val_accuracy: 0.2500\n",
            "\n",
            "Epoch 00024: val_accuracy did not improve from 0.81250\n",
            "Epoch 25/100\n",
            "2/2 [==============================] - 48s 24s/step - loss: 0.7277 - accuracy: 0.7188 - val_loss: 0.7320 - val_accuracy: 0.7188\n",
            "\n",
            "Epoch 00025: val_accuracy did not improve from 0.81250\n",
            "Epoch 26/100\n",
            "2/2 [==============================] - 48s 24s/step - loss: 0.7494 - accuracy: 0.7812 - val_loss: 0.7001 - val_accuracy: 0.8125\n",
            "\n",
            "Epoch 00026: val_accuracy did not improve from 0.81250\n",
            "Epoch 27/100\n",
            "2/2 [==============================] - 48s 24s/step - loss: 0.7441 - accuracy: 0.7969 - val_loss: 0.7773 - val_accuracy: 0.6250\n",
            "\n",
            "Epoch 00027: val_accuracy did not improve from 0.81250\n",
            "Epoch 28/100\n",
            "2/2 [==============================] - 34s 17s/step - loss: 0.7151 - accuracy: 0.7812 - val_loss: 1.1294 - val_accuracy: 0.5000\n",
            "\n",
            "Epoch 00028: val_accuracy did not improve from 0.81250\n",
            "Epoch 29/100\n",
            "2/2 [==============================] - 48s 24s/step - loss: 0.7800 - accuracy: 0.7031 - val_loss: 0.8927 - val_accuracy: 0.5938\n",
            "\n",
            "Epoch 00029: val_accuracy did not improve from 0.81250\n",
            "Epoch 30/100\n",
            "2/2 [==============================] - 48s 24s/step - loss: 0.7061 - accuracy: 0.8438 - val_loss: 0.6200 - val_accuracy: 0.8750\n",
            "\n",
            "Epoch 00030: val_accuracy improved from 0.81250 to 0.87500, saving model to vgg16_1.h5\n",
            "Epoch 31/100\n",
            "2/2 [==============================] - 48s 24s/step - loss: 0.6961 - accuracy: 0.7500 - val_loss: 0.6002 - val_accuracy: 0.7812\n",
            "\n",
            "Epoch 00031: val_accuracy did not improve from 0.87500\n",
            "Epoch 32/100\n",
            "2/2 [==============================] - 34s 17s/step - loss: 0.7537 - accuracy: 0.7500 - val_loss: 0.7718 - val_accuracy: 0.7500\n",
            "\n",
            "Epoch 00032: val_accuracy did not improve from 0.87500\n",
            "Epoch 33/100\n",
            "2/2 [==============================] - 48s 24s/step - loss: 0.6411 - accuracy: 0.8906 - val_loss: 0.7577 - val_accuracy: 0.7500\n",
            "\n",
            "Epoch 00033: val_accuracy did not improve from 0.87500\n",
            "Epoch 34/100\n",
            "2/2 [==============================] - 48s 24s/step - loss: 0.6501 - accuracy: 0.7969 - val_loss: 0.6508 - val_accuracy: 0.8125\n",
            "\n",
            "Epoch 00034: val_accuracy did not improve from 0.87500\n",
            "Epoch 35/100\n",
            "2/2 [==============================] - 48s 24s/step - loss: 0.7082 - accuracy: 0.7656 - val_loss: 0.6116 - val_accuracy: 0.7812\n",
            "\n",
            "Epoch 00035: val_accuracy did not improve from 0.87500\n",
            "Epoch 36/100\n",
            "2/2 [==============================] - 34s 17s/step - loss: 0.6782 - accuracy: 0.7812 - val_loss: 0.6030 - val_accuracy: 0.7500\n",
            "\n",
            "Epoch 00036: val_accuracy did not improve from 0.87500\n",
            "Epoch 37/100\n",
            "2/2 [==============================] - 48s 24s/step - loss: 0.5557 - accuracy: 0.8750 - val_loss: 0.6330 - val_accuracy: 0.6875\n",
            "\n",
            "Epoch 00037: val_accuracy did not improve from 0.87500\n",
            "Epoch 38/100\n",
            "2/2 [==============================] - 48s 24s/step - loss: 0.6163 - accuracy: 0.7344 - val_loss: 0.5861 - val_accuracy: 0.8125\n",
            "\n",
            "Epoch 00038: val_accuracy did not improve from 0.87500\n",
            "Epoch 39/100\n",
            "2/2 [==============================] - 48s 24s/step - loss: 0.6151 - accuracy: 0.7969 - val_loss: 0.6848 - val_accuracy: 0.8438\n",
            "\n",
            "Epoch 00039: val_accuracy did not improve from 0.87500\n",
            "Epoch 40/100\n",
            "2/2 [==============================] - 34s 17s/step - loss: 0.6070 - accuracy: 0.8594 - val_loss: 0.7251 - val_accuracy: 0.7500\n",
            "\n",
            "Epoch 00040: val_accuracy did not improve from 0.87500\n",
            "Epoch 41/100\n",
            "2/2 [==============================] - 48s 24s/step - loss: 0.6156 - accuracy: 0.7344 - val_loss: 0.6163 - val_accuracy: 0.7812\n",
            "\n",
            "Epoch 00041: val_accuracy did not improve from 0.87500\n",
            "Epoch 42/100\n",
            "2/2 [==============================] - 48s 24s/step - loss: 0.6844 - accuracy: 0.7812 - val_loss: 0.6160 - val_accuracy: 0.8438\n",
            "\n",
            "Epoch 00042: val_accuracy did not improve from 0.87500\n",
            "Epoch 43/100\n",
            "2/2 [==============================] - 48s 24s/step - loss: 0.5638 - accuracy: 0.8125 - val_loss: 0.5991 - val_accuracy: 0.7812\n",
            "\n",
            "Epoch 00043: val_accuracy did not improve from 0.87500\n",
            "Epoch 44/100\n",
            "2/2 [==============================] - 34s 17s/step - loss: 0.6575 - accuracy: 0.7969 - val_loss: 0.7452 - val_accuracy: 0.7500\n",
            "\n",
            "Epoch 00044: val_accuracy did not improve from 0.87500\n",
            "Epoch 45/100\n",
            "2/2 [==============================] - 48s 24s/step - loss: 0.6649 - accuracy: 0.7344 - val_loss: 0.6359 - val_accuracy: 0.7812\n",
            "\n",
            "Epoch 00045: val_accuracy did not improve from 0.87500\n",
            "Epoch 46/100\n",
            "2/2 [==============================] - 48s 24s/step - loss: 0.7031 - accuracy: 0.7344 - val_loss: 0.5408 - val_accuracy: 0.8125\n",
            "\n",
            "Epoch 00046: val_accuracy did not improve from 0.87500\n",
            "Epoch 47/100\n",
            "2/2 [==============================] - 48s 24s/step - loss: 0.5673 - accuracy: 0.8125 - val_loss: 0.6291 - val_accuracy: 0.7500\n",
            "\n",
            "Epoch 00047: val_accuracy did not improve from 0.87500\n",
            "Epoch 48/100\n",
            "2/2 [==============================] - 34s 17s/step - loss: 0.5562 - accuracy: 0.8438 - val_loss: 0.4375 - val_accuracy: 1.0000\n",
            "\n",
            "Epoch 00048: val_accuracy improved from 0.87500 to 1.00000, saving model to vgg16_1.h5\n",
            "Epoch 49/100\n",
            "2/2 [==============================] - 48s 24s/step - loss: 0.5429 - accuracy: 0.8594 - val_loss: 0.5337 - val_accuracy: 0.8125\n",
            "\n",
            "Epoch 00049: val_accuracy did not improve from 1.00000\n",
            "Epoch 50/100\n",
            "2/2 [==============================] - 50s 25s/step - loss: 0.4398 - accuracy: 0.9375 - val_loss: 0.6514 - val_accuracy: 0.7500\n",
            "\n",
            "Epoch 00050: val_accuracy did not improve from 1.00000\n",
            "Epoch 51/100\n",
            "2/2 [==============================] - 48s 24s/step - loss: 0.6001 - accuracy: 0.7188 - val_loss: 0.5578 - val_accuracy: 0.7812\n",
            "\n",
            "Epoch 00051: val_accuracy did not improve from 1.00000\n",
            "Epoch 52/100\n",
            "2/2 [==============================] - 35s 17s/step - loss: 0.5942 - accuracy: 0.7656 - val_loss: 0.3834 - val_accuracy: 1.0000\n",
            "\n",
            "Epoch 00052: val_accuracy did not improve from 1.00000\n",
            "Epoch 53/100\n",
            "2/2 [==============================] - 48s 24s/step - loss: 0.4961 - accuracy: 0.8750 - val_loss: 0.6020 - val_accuracy: 0.7188\n",
            "\n",
            "Epoch 00053: val_accuracy did not improve from 1.00000\n",
            "Epoch 54/100\n",
            "2/2 [==============================] - 48s 24s/step - loss: 0.5150 - accuracy: 0.8594 - val_loss: 0.5557 - val_accuracy: 0.9062\n",
            "\n",
            "Epoch 00054: val_accuracy did not improve from 1.00000\n",
            "Epoch 55/100\n",
            "2/2 [==============================] - 48s 24s/step - loss: 0.5777 - accuracy: 0.8125 - val_loss: 0.5312 - val_accuracy: 0.7500\n",
            "\n",
            "Epoch 00055: val_accuracy did not improve from 1.00000\n",
            "Epoch 56/100\n",
            "2/2 [==============================] - 34s 17s/step - loss: 0.6139 - accuracy: 0.7812 - val_loss: 0.5474 - val_accuracy: 0.7500\n",
            "\n",
            "Epoch 00056: val_accuracy did not improve from 1.00000\n",
            "Epoch 57/100\n",
            "2/2 [==============================] - 48s 24s/step - loss: 0.6525 - accuracy: 0.7500 - val_loss: 0.5089 - val_accuracy: 0.8125\n",
            "\n",
            "Epoch 00057: val_accuracy did not improve from 1.00000\n",
            "Epoch 58/100\n",
            "2/2 [==============================] - 48s 24s/step - loss: 0.5040 - accuracy: 0.8438 - val_loss: 0.5959 - val_accuracy: 0.7188\n",
            "\n",
            "Epoch 00058: val_accuracy did not improve from 1.00000\n",
            "Epoch 59/100\n",
            "2/2 [==============================] - 48s 24s/step - loss: 0.5462 - accuracy: 0.8125 - val_loss: 0.5589 - val_accuracy: 0.8750\n",
            "\n",
            "Epoch 00059: val_accuracy did not improve from 1.00000\n",
            "Epoch 60/100\n",
            "2/2 [==============================] - 34s 17s/step - loss: 0.5418 - accuracy: 0.8438 - val_loss: 0.3197 - val_accuracy: 0.7500\n",
            "\n",
            "Epoch 00060: val_accuracy did not improve from 1.00000\n",
            "Epoch 61/100\n",
            "2/2 [==============================] - 48s 24s/step - loss: 0.4602 - accuracy: 0.9062 - val_loss: 0.5479 - val_accuracy: 0.8750\n",
            "\n",
            "Epoch 00061: val_accuracy did not improve from 1.00000\n",
            "Epoch 62/100\n",
            "2/2 [==============================] - 48s 24s/step - loss: 0.4995 - accuracy: 0.8125 - val_loss: 0.5756 - val_accuracy: 0.7188\n",
            "\n",
            "Epoch 00062: val_accuracy did not improve from 1.00000\n",
            "Epoch 63/100\n",
            "2/2 [==============================] - 48s 24s/step - loss: 0.4781 - accuracy: 0.8281 - val_loss: 0.4719 - val_accuracy: 0.8438\n",
            "\n",
            "Epoch 00063: val_accuracy did not improve from 1.00000\n",
            "Epoch 64/100\n",
            "2/2 [==============================] - 34s 17s/step - loss: 0.5369 - accuracy: 0.7656 - val_loss: 0.5351 - val_accuracy: 0.7500\n",
            "\n",
            "Epoch 00064: val_accuracy did not improve from 1.00000\n",
            "Epoch 65/100\n",
            "2/2 [==============================] - 48s 24s/step - loss: 0.5097 - accuracy: 0.8594 - val_loss: 0.5013 - val_accuracy: 0.7812\n",
            "\n",
            "Epoch 00065: val_accuracy did not improve from 1.00000\n",
            "Epoch 66/100\n",
            "2/2 [==============================] - 48s 24s/step - loss: 0.4766 - accuracy: 0.8125 - val_loss: 0.4604 - val_accuracy: 0.8125\n",
            "\n",
            "Epoch 00066: val_accuracy did not improve from 1.00000\n",
            "Epoch 67/100\n",
            "2/2 [==============================] - 48s 24s/step - loss: 0.5883 - accuracy: 0.7812 - val_loss: 0.5782 - val_accuracy: 0.7812\n",
            "\n",
            "Epoch 00067: val_accuracy did not improve from 1.00000\n",
            "Epoch 68/100\n",
            "2/2 [==============================] - 34s 17s/step - loss: 0.5137 - accuracy: 0.8281 - val_loss: 0.5937 - val_accuracy: 1.0000\n",
            "\n",
            "Epoch 00068: val_accuracy did not improve from 1.00000\n",
            "Epoch 69/100\n",
            "2/2 [==============================] - 48s 24s/step - loss: 0.5520 - accuracy: 0.8281 - val_loss: 0.5008 - val_accuracy: 0.8438\n",
            "\n",
            "Epoch 00069: val_accuracy did not improve from 1.00000\n",
            "Epoch 70/100\n",
            "2/2 [==============================] - 48s 24s/step - loss: 0.4716 - accuracy: 0.9062 - val_loss: 0.5094 - val_accuracy: 0.8125\n",
            "\n",
            "Epoch 00070: val_accuracy did not improve from 1.00000\n",
            "Epoch 71/100\n",
            "2/2 [==============================] - 48s 24s/step - loss: 0.5106 - accuracy: 0.8750 - val_loss: 0.5242 - val_accuracy: 0.8438\n",
            "\n",
            "Epoch 00071: val_accuracy did not improve from 1.00000\n",
            "Epoch 72/100\n",
            "2/2 [==============================] - 34s 17s/step - loss: 0.5645 - accuracy: 0.7969 - val_loss: 0.4509 - val_accuracy: 0.7500\n",
            "\n",
            "Epoch 00072: val_accuracy did not improve from 1.00000\n",
            "Epoch 73/100\n",
            "2/2 [==============================] - 48s 24s/step - loss: 0.4365 - accuracy: 0.8750 - val_loss: 0.4914 - val_accuracy: 0.8125\n",
            "\n",
            "Epoch 00073: val_accuracy did not improve from 1.00000\n",
            "Epoch 74/100\n",
            "2/2 [==============================] - 48s 24s/step - loss: 0.4428 - accuracy: 0.8438 - val_loss: 0.5481 - val_accuracy: 0.7812\n",
            "\n",
            "Epoch 00074: val_accuracy did not improve from 1.00000\n",
            "Epoch 75/100\n",
            "2/2 [==============================] - 48s 24s/step - loss: 0.4372 - accuracy: 0.8750 - val_loss: 0.5155 - val_accuracy: 0.8125\n",
            "\n",
            "Epoch 00075: val_accuracy did not improve from 1.00000\n",
            "Epoch 76/100\n",
            "2/2 [==============================] - 34s 17s/step - loss: 0.4660 - accuracy: 0.8438 - val_loss: 0.0775 - val_accuracy: 1.0000\n",
            "\n",
            "Epoch 00076: val_accuracy did not improve from 1.00000\n",
            "Epoch 77/100\n",
            "2/2 [==============================] - 48s 24s/step - loss: 0.5075 - accuracy: 0.8125 - val_loss: 0.4648 - val_accuracy: 0.8438\n",
            "\n",
            "Epoch 00077: val_accuracy did not improve from 1.00000\n",
            "Epoch 78/100\n",
            "2/2 [==============================] - 48s 24s/step - loss: 0.4265 - accuracy: 0.8594 - val_loss: 0.4370 - val_accuracy: 0.8750\n",
            "\n",
            "Epoch 00078: val_accuracy did not improve from 1.00000\n",
            "Epoch 79/100\n",
            "2/2 [==============================] - 48s 24s/step - loss: 0.3992 - accuracy: 0.8906 - val_loss: 0.5556 - val_accuracy: 0.7500\n",
            "\n",
            "Epoch 00079: val_accuracy did not improve from 1.00000\n",
            "Epoch 80/100\n",
            "2/2 [==============================] - 34s 17s/step - loss: 0.5185 - accuracy: 0.7969 - val_loss: 0.6317 - val_accuracy: 0.7500\n",
            "\n",
            "Epoch 00080: val_accuracy did not improve from 1.00000\n",
            "Epoch 81/100\n",
            "2/2 [==============================] - 48s 24s/step - loss: 0.5169 - accuracy: 0.7656 - val_loss: 0.5363 - val_accuracy: 0.7188\n",
            "\n",
            "Epoch 00081: val_accuracy did not improve from 1.00000\n",
            "Epoch 82/100\n",
            "2/2 [==============================] - 49s 24s/step - loss: 0.4721 - accuracy: 0.8281 - val_loss: 0.4076 - val_accuracy: 0.8438\n",
            "\n",
            "Epoch 00082: val_accuracy did not improve from 1.00000\n",
            "Epoch 83/100\n",
            "2/2 [==============================] - 48s 24s/step - loss: 0.4343 - accuracy: 0.8125 - val_loss: 0.5044 - val_accuracy: 0.8438\n",
            "\n",
            "Epoch 00083: val_accuracy did not improve from 1.00000\n",
            "Epoch 84/100\n",
            "2/2 [==============================] - 34s 17s/step - loss: 0.5118 - accuracy: 0.8281 - val_loss: 0.4530 - val_accuracy: 1.0000\n",
            "\n",
            "Epoch 00084: val_accuracy did not improve from 1.00000\n",
            "Epoch 85/100\n",
            "2/2 [==============================] - 48s 24s/step - loss: 0.5014 - accuracy: 0.8125 - val_loss: 0.4994 - val_accuracy: 0.7812\n",
            "\n",
            "Epoch 00085: val_accuracy did not improve from 1.00000\n",
            "Epoch 86/100\n",
            "2/2 [==============================] - 48s 24s/step - loss: 0.4875 - accuracy: 0.8281 - val_loss: 0.4507 - val_accuracy: 0.8438\n",
            "\n",
            "Epoch 00086: val_accuracy did not improve from 1.00000\n",
            "Epoch 87/100\n",
            "2/2 [==============================] - 48s 24s/step - loss: 0.4418 - accuracy: 0.8750 - val_loss: 0.4829 - val_accuracy: 0.8438\n",
            "\n",
            "Epoch 00087: val_accuracy did not improve from 1.00000\n",
            "Epoch 88/100\n",
            "2/2 [==============================] - 35s 17s/step - loss: 0.4165 - accuracy: 0.8906 - val_loss: 0.4525 - val_accuracy: 1.0000\n",
            "\n",
            "Epoch 00088: val_accuracy did not improve from 1.00000\n",
            "Epoch 89/100\n",
            "2/2 [==============================] - 48s 24s/step - loss: 0.4683 - accuracy: 0.8281 - val_loss: 0.4526 - val_accuracy: 0.8125\n",
            "\n",
            "Epoch 00089: val_accuracy did not improve from 1.00000\n",
            "Epoch 90/100\n",
            "2/2 [==============================] - 48s 24s/step - loss: 0.4323 - accuracy: 0.9062 - val_loss: 0.4979 - val_accuracy: 0.7812\n",
            "\n",
            "Epoch 00090: val_accuracy did not improve from 1.00000\n",
            "Epoch 91/100\n",
            "2/2 [==============================] - 48s 24s/step - loss: 0.4656 - accuracy: 0.8438 - val_loss: 0.4604 - val_accuracy: 0.8750\n",
            "\n",
            "Epoch 00091: val_accuracy did not improve from 1.00000\n",
            "Epoch 92/100\n",
            "2/2 [==============================] - 34s 17s/step - loss: 0.4530 - accuracy: 0.8438 - val_loss: 0.4554 - val_accuracy: 0.7500\n",
            "\n",
            "Epoch 00092: val_accuracy did not improve from 1.00000\n",
            "Epoch 93/100\n",
            "2/2 [==============================] - 48s 24s/step - loss: 0.4414 - accuracy: 0.8594 - val_loss: 0.4376 - val_accuracy: 0.8438\n",
            "\n",
            "Epoch 00093: val_accuracy did not improve from 1.00000\n",
            "Epoch 94/100\n",
            "2/2 [==============================] - 48s 24s/step - loss: 0.3795 - accuracy: 0.8906 - val_loss: 0.5046 - val_accuracy: 0.7812\n",
            "\n",
            "Epoch 00094: val_accuracy did not improve from 1.00000\n",
            "Epoch 95/100\n",
            "2/2 [==============================] - 48s 24s/step - loss: 0.5617 - accuracy: 0.7969 - val_loss: 0.4381 - val_accuracy: 0.8438\n",
            "\n",
            "Epoch 00095: val_accuracy did not improve from 1.00000\n",
            "Epoch 96/100\n",
            "2/2 [==============================] - 34s 17s/step - loss: 0.4328 - accuracy: 0.8594 - val_loss: 0.4210 - val_accuracy: 1.0000\n",
            "\n",
            "Epoch 00096: val_accuracy did not improve from 1.00000\n",
            "Epoch 97/100\n",
            "2/2 [==============================] - 48s 24s/step - loss: 0.4439 - accuracy: 0.8281 - val_loss: 0.4115 - val_accuracy: 0.9062\n",
            "\n",
            "Epoch 00097: val_accuracy did not improve from 1.00000\n",
            "Epoch 98/100\n",
            "2/2 [==============================] - 48s 24s/step - loss: 0.4011 - accuracy: 0.8594 - val_loss: 0.4492 - val_accuracy: 0.7500\n",
            "\n",
            "Epoch 00098: val_accuracy did not improve from 1.00000\n",
            "Epoch 99/100\n",
            "2/2 [==============================] - 48s 24s/step - loss: 0.4215 - accuracy: 0.8281 - val_loss: 0.4881 - val_accuracy: 0.8750\n",
            "\n",
            "Epoch 00099: val_accuracy did not improve from 1.00000\n",
            "Epoch 100/100\n",
            "2/2 [==============================] - 35s 17s/step - loss: 0.5884 - accuracy: 0.7812 - val_loss: 0.5414 - val_accuracy: 0.7500\n",
            "\n",
            "Epoch 00100: val_accuracy did not improve from 1.00000\n"
          ],
          "name": "stdout"
        }
      ]
    },
    {
      "cell_type": "markdown",
      "metadata": {
        "id": "ED7u_hcD3h4c",
        "colab_type": "text"
      },
      "source": [
        ""
      ]
    },
    {
      "cell_type": "code",
      "metadata": {
        "id": "YtQxWrIlPU_M",
        "colab_type": "code",
        "colab": {
          "base_uri": "https://localhost:8080/",
          "height": 295
        },
        "outputId": "429e6771-dd0e-4d5b-ad00-f38832475c1c"
      },
      "source": [
        "import matplotlib.pyplot as plt\n",
        "plt.plot(hist.history[\"accuracy\"])\n",
        "plt.plot(hist.history['val_accuracy'])\n",
        "\n",
        "plt.title(\"model accuracy\")\n",
        "plt.ylabel(\"Accuracy\")\n",
        "plt.xlabel(\"Epoch\")\n",
        "plt.legend([\"Accuracy\",\"Validation Accuracy\"])\n",
        "plt.show()"
      ],
      "execution_count": 59,
      "outputs": [
        {
          "output_type": "display_data",
          "data": {
            "image/png": "[encoded data removed]",
            "text/plain": [
              "<Figure size 432x288 with 1 Axes>"
            ]
          },
          "metadata": {
            "tags": [],
            "needs_background": "light"
          }
        }
      ]
    },
    {
      "cell_type": "code",
      "metadata": {
        "id": "EsjZHi9jaU4Y",
        "colab_type": "code",
        "colab": {
          "base_uri": "https://localhost:8080/",
          "height": 279
        },
        "outputId": "76e62895-2d28-44ee-dc24-9dff712ba6ee"
      },
      "source": [
        "plt.plot(hist.history['loss'])\n",
        "plt.plot(hist.history['val_loss'])\n",
        "plt.ylabel(\"Loss\")\n",
        "plt.xlabel(\"Epoch\")\n",
        "plt.legend([\"loss\",\"Validation Loss\"])\n",
        "plt.show()"
      ],
      "execution_count": 60,
      "outputs": [
        {
          "output_type": "display_data",
          "data": {
            "image/png": "[encoded data removed]",
            "text/plain": [
              "<Figure size 432x288 with 1 Axes>"
            ]
          },
          "metadata": {
            "tags": [],
            "needs_background": "light"
          }
        }
      ]
    },
    {
      "cell_type": "code",
      "metadata": {
        "id": "_2GdDycwS52M",
        "colab_type": "code",
        "colab": {}
      },
      "source": [
        "from keras.preprocessing.image import ImageDataGenerator\n",
        "from sklearn.metrics import classification_report, confusion_matrix\n",
        "\n",
        "test_datagen = ImageDataGenerator()"
      ],
      "execution_count": 61,
      "outputs": []
    },
    {
      "cell_type": "code",
      "metadata": {
        "id": "9-fknWZIS-CT",
        "colab_type": "code",
        "colab": {
          "base_uri": "https://localhost:8080/",
          "height": 34
        },
        "outputId": "4cb1cf17-080e-4bd4-8d74-3cc455990730"
      },
      "source": [
        "validation_generator = test_datagen.flow_from_directory('/content/drive/My Drive/data_ouput/test',\n",
        "                                                        target_size=(224, 224),\n",
        "                                                        batch_size=32,\n",
        "                                                        class_mode='categorical')"
      ],
      "execution_count": 62,
      "outputs": [
        {
          "output_type": "stream",
          "text": [
            "Found 100 images belonging to 4 classes.\n"
          ],
          "name": "stdout"
        }
      ]
    },
    {
      "cell_type": "code",
      "metadata": {
        "id": "RSoXpGKcTEnR",
        "colab_type": "code",
        "colab": {
          "base_uri": "https://localhost:8080/",
          "height": 360
        },
        "outputId": "5cdabe28-a8a5-4c04-c6b0-a03100b2fefb"
      },
      "source": [
        "import numpy as np\n",
        "#Confution Matrix and Classification Report\n",
        "Y_pred = model_final.predict_generator(validation_generator)\n",
        "y_pred = np.argmax(Y_pred, axis=1)\n",
        "print('Confusion Matrix')\n",
        "print(confusion_matrix(validation_generator.classes, y_pred))\n",
        "print('Classification Report')\n",
        "target_names = ['grade0', 'grade1', 'grade2','grade3']\n",
        "print(classification_report(validation_generator.classes, y_pred, target_names=target_names))"
      ],
      "execution_count": 63,
      "outputs": [
        {
          "output_type": "stream",
          "text": [
            "Confusion Matrix\n",
            "[[ 0  0  5 20]\n",
            " [ 2  0  6 17]\n",
            " [ 0  0  9 16]\n",
            " [ 1  0  5 19]]\n",
            "Classification Report\n",
            "              precision    recall  f1-score   support\n",
            "\n",
            "      grade0       0.00      0.00      0.00        25\n",
            "      grade1       0.00      0.00      0.00        25\n",
            "      grade2       0.36      0.36      0.36        25\n",
            "      grade3       0.26      0.76      0.39        25\n",
            "\n",
            "    accuracy                           0.28       100\n",
            "   macro avg       0.16      0.28      0.19       100\n",
            "weighted avg       0.16      0.28      0.19       100\n",
            "\n"
          ],
          "name": "stdout"
        },
        {
          "output_type": "stream",
          "text": [
            "/usr/local/lib/python3.6/dist-packages/sklearn/metrics/_classification.py:1272: UndefinedMetricWarning: Precision and F-score are ill-defined and being set to 0.0 in labels with no predicted samples. Use `zero_division` parameter to control this behavior.\n",
            "  _warn_prf(average, modifier, msg_start, len(result))\n"
          ],
          "name": "stderr"
        }
      ]
    },
    {
      "cell_type": "code",
      "metadata": {
        "id": "B-E18MG6VMMN",
        "colab_type": "code",
        "colab": {
          "base_uri": "https://localhost:8080/",
          "height": 269
        },
        "outputId": "f5556ef4-a089-4faf-e58e-b551330e04bf"
      },
      "source": [
        "from keras.preprocessing import image\n",
        "import matplotlib.pyplot as plt\n",
        "\n",
        "img = image.load_img(\"/content/drive/My Drive/data_ouput/test/grade1/grade1-079.jpg\",target_size=(224,224))\n",
        "img = np.asarray(img)\n",
        "plt.imshow(img)\n",
        "img = np.expand_dims(img, axis=0)"
      ],
      "execution_count": 64,
      "outputs": [
        {
          "output_type": "display_data",
          "data": {
            "image/png": "[encoded data removed]",
            "text/plain": [
              "<Figure size 432x288 with 1 Axes>"
            ]
          },
          "metadata": {
            "tags": [],
            "needs_background": "light"
          }
        }
      ]
    },
    {
      "cell_type": "code",
      "metadata": {
        "id": "Ux21nwVeV0mE",
        "colab_type": "code",
        "colab": {}
      },
      "source": [
        "output = model_final.predict(img)"
      ],
      "execution_count": 65,
      "outputs": []
    },
    {
      "cell_type": "code",
      "metadata": {
        "id": "crw2NNGyV7kN",
        "colab_type": "code",
        "colab": {
          "base_uri": "https://localhost:8080/",
          "height": 34
        },
        "outputId": "83c47522-7880-415e-f2ef-cac6353c6116"
      },
      "source": [
        "output\n",
        "ans='grade'+str(np.argmax(output[0],axis=0))\n",
        "print(ans)"
      ],
      "execution_count": 66,
      "outputs": [
        {
          "output_type": "stream",
          "text": [
            "grade3\n"
          ],
          "name": "stdout"
        }
      ]
    },
    {
      "cell_type": "code",
      "metadata": {
        "id": "YbH-5BZmX-K4",
        "colab_type": "code",
        "colab": {
          "base_uri": "https://localhost:8080/",
          "height": 153
        },
        "outputId": "60af67f9-5db1-44c7-81a7-b43a234ce55b"
      },
      "source": [
        "import os\n",
        "data_path='/content/drive/My Drive/data_ouput/test'\n",
        "data_dir_list=os.listdir(data_path)\n",
        "for dataset in data_dir_list:\n",
        "  print(dataset)\n",
        "  img_list=os.listdir(data_path+'/'+dataset)\n",
        "  correctCount=0\n",
        "  wrongCount=0\n",
        "  for img in img_list:\n",
        "    img_path=data_path+'/'+dataset+'/'+img\n",
        "    input_image = image.load_img(img_path,target_size=(224,224))\n",
        "    input_image = np.asarray(input_image)\n",
        "    input_image = np.expand_dims(input_image, axis=0)\n",
        "    output = model_final.predict(input_image)\n",
        "    ans='grade'+str(np.argmax(output[0],axis=0))\n",
        "    if( ans in img):\n",
        "      correctCount+=1\n",
        "    else:\n",
        "      wrongCount+=1\n",
        "  print(\"correct Count {} WrongCount {}\".format(correctCount,wrongCount))\n",
        "\n",
        "\n"
      ],
      "execution_count": 67,
      "outputs": [
        {
          "output_type": "stream",
          "text": [
            "grade1\n",
            "correct Count 0 WrongCount 25\n",
            "grade0\n",
            "correct Count 3 WrongCount 22\n",
            "grade2\n",
            "correct Count 11 WrongCount 14\n",
            "grade3\n",
            "correct Count 24 WrongCount 1\n"
          ],
          "name": "stdout"
        }
      ]
    },
    {
      "cell_type": "code",
      "metadata": {
        "id": "Ml4QAr_Avw2T",
        "colab_type": "code",
        "colab": {
          "base_uri": "https://localhost:8080/",
          "height": 51
        },
        "outputId": "ce2682b5-6198-4074-f05e-aa7df927b82b"
      },
      "source": [
        "tr_loss,tr_acc=model_final.evaluate(validation_generator)\n",
        "tr_acc"
      ],
      "execution_count": 68,
      "outputs": [
        {
          "output_type": "stream",
          "text": [
            "4/4 [==============================] - 50s 12s/step\n"
          ],
          "name": "stdout"
        },
        {
          "output_type": "execute_result",
          "data": {
            "text/plain": [
              "0.3799999952316284"
            ]
          },
          "metadata": {
            "tags": []
          },
          "execution_count": 68
        }
      ]
    },
    {
      "cell_type": "code",
      "metadata": {
        "id": "uQ_U_O6XcOQY",
        "colab_type": "code",
        "colab": {}
      },
      "source": [
        ""
      ],
      "execution_count": null,
      "outputs": []
    },
    {
      "cell_type": "code",
      "metadata": {
        "id": "R6Fx71JwgONy",
        "colab_type": "code",
        "colab": {}
      },
      "source": [
        ""
      ],
      "execution_count": null,
      "outputs": []
    },
    {
      "cell_type": "code",
      "metadata": {
        "id": "PiiV053i4At7",
        "colab_type": "code",
        "colab": {}
      },
      "source": [
        "model_final.save('/content/drive/My Drive/Best models/modelbest.h5')"
      ],
      "execution_count": null,
      "outputs": []
    }
  ]
}