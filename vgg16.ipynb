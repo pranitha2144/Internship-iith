{
  "nbformat": 4,
  "nbformat_minor": 0,
  "metadata": {
    "colab": {
      "name": "vgg16",
      "provenance": [],
      "collapsed_sections": [],
      "mount_file_id": "1IhyoGy7EHEgj120Y7aEt15WFbYJP6aXH",
      "authorship_tag": "ABX9TyMZ1QXjeQnXscsSYnedAM4u",
      "include_colab_link": true
    },
    "kernelspec": {
      "name": "python3",
      "display_name": "Python 3"
    }
  },
  "cells": [
    {
      "cell_type": "markdown",
      "metadata": {
        "id": "view-in-github",
        "colab_type": "text"
      },
      "source": [
        "<a href=\"https://colab.research.google.com/github/pranitha2144/Internship-iith/blob/Resnet/vgg16.ipynb\" target=\"_parent\"><img src=\"https://colab.research.google.com/assets/colab-badge.svg\" alt=\"Open In Colab\"/></a>"
      ]
    },
    {
      "cell_type": "code",
      "metadata": {
        "id": "rWTXB3jkEwTZ",
        "colab_type": "code",
        "colab": {}
      },
      "source": [
        "import keras\n",
        "from keras.models import Model\n",
        "from keras.layers import Dense,Dropout\n",
        "from keras import optimizers\n",
        "from keras.preprocessing.image import ImageDataGenerator\n",
        "from keras.preprocessing import image\n",
        "from tensorflow.keras.applications.vgg16 import preprocess_input"
      ],
      "execution_count": 44,
      "outputs": []
    },
    {
      "cell_type": "code",
      "metadata": {
        "id": "QPOQU3c5E3x9",
        "colab_type": "code",
        "colab": {
          "base_uri": "https://localhost:8080/",
          "height": 51
        },
        "outputId": "93089e20-a3d1-44d3-89c6-76acb8b96473"
      },
      "source": [
        "trdata = ImageDataGenerator()\n",
        "traindata = trdata.flow_from_directory(directory=\"/content/drive/My Drive/data_ouput/train\",target_size=(224,224))\n",
        "tsdata = ImageDataGenerator()\n",
        "testdata = tsdata.flow_from_directory(directory=\"/content/drive/My Drive/data_ouput/val\", target_size=(224,224))"
      ],
      "execution_count": 45,
      "outputs": [
        {
          "output_type": "stream",
          "text": [
            "Found 800 images belonging to 4 classes.\n",
            "Found 100 images belonging to 4 classes.\n"
          ],
          "name": "stdout"
        }
      ]
    },
    {
      "cell_type": "code",
      "metadata": {
        "id": "SIwXu9HSE-sD",
        "colab_type": "code",
        "colab": {}
      },
      "source": [
        "from keras.applications.vgg16 import VGG16\n",
        "vggmodel = VGG16(weights='imagenet',include_top=True)"
      ],
      "execution_count": 46,
      "outputs": []
    },
    {
      "cell_type": "code",
      "metadata": {
        "id": "yfbg7qlwFBkG",
        "colab_type": "code",
        "colab": {
          "base_uri": "https://localhost:8080/",
          "height": 935
        },
        "outputId": "f82eb340-bda1-4c06-f3d0-58e6dbc4143e"
      },
      "source": [
        "vggmodel.summary()"
      ],
      "execution_count": 47,
      "outputs": [
        {
          "output_type": "stream",
          "text": [
            "Model: \"vgg16\"\n",
            "_________________________________________________________________\n",
            "Layer (type)                 Output Shape              Param #   \n",
            "=================================================================\n",
            "input_3 (InputLayer)         (None, 224, 224, 3)       0         \n",
            "_________________________________________________________________\n",
            "block1_conv1 (Conv2D)        (None, 224, 224, 64)      1792      \n",
            "_________________________________________________________________\n",
            "block1_conv2 (Conv2D)        (None, 224, 224, 64)      36928     \n",
            "_________________________________________________________________\n",
            "block1_pool (MaxPooling2D)   (None, 112, 112, 64)      0         \n",
            "_________________________________________________________________\n",
            "block2_conv1 (Conv2D)        (None, 112, 112, 128)     73856     \n",
            "_________________________________________________________________\n",
            "block2_conv2 (Conv2D)        (None, 112, 112, 128)     147584    \n",
            "_________________________________________________________________\n",
            "block2_pool (MaxPooling2D)   (None, 56, 56, 128)       0         \n",
            "_________________________________________________________________\n",
            "block3_conv1 (Conv2D)        (None, 56, 56, 256)       295168    \n",
            "_________________________________________________________________\n",
            "block3_conv2 (Conv2D)        (None, 56, 56, 256)       590080    \n",
            "_________________________________________________________________\n",
            "block3_conv3 (Conv2D)        (None, 56, 56, 256)       590080    \n",
            "_________________________________________________________________\n",
            "block3_pool (MaxPooling2D)   (None, 28, 28, 256)       0         \n",
            "_________________________________________________________________\n",
            "block4_conv1 (Conv2D)        (None, 28, 28, 512)       1180160   \n",
            "_________________________________________________________________\n",
            "block4_conv2 (Conv2D)        (None, 28, 28, 512)       2359808   \n",
            "_________________________________________________________________\n",
            "block4_conv3 (Conv2D)        (None, 28, 28, 512)       2359808   \n",
            "_________________________________________________________________\n",
            "block4_pool (MaxPooling2D)   (None, 14, 14, 512)       0         \n",
            "_________________________________________________________________\n",
            "block5_conv1 (Conv2D)        (None, 14, 14, 512)       2359808   \n",
            "_________________________________________________________________\n",
            "block5_conv2 (Conv2D)        (None, 14, 14, 512)       2359808   \n",
            "_________________________________________________________________\n",
            "block5_conv3 (Conv2D)        (None, 14, 14, 512)       2359808   \n",
            "_________________________________________________________________\n",
            "block5_pool (MaxPooling2D)   (None, 7, 7, 512)         0         \n",
            "_________________________________________________________________\n",
            "flatten (Flatten)            (None, 25088)             0         \n",
            "_________________________________________________________________\n",
            "fc1 (Dense)                  (None, 4096)              102764544 \n",
            "_________________________________________________________________\n",
            "fc2 (Dense)                  (None, 4096)              16781312  \n",
            "_________________________________________________________________\n",
            "predictions (Dense)          (None, 1000)              4097000   \n",
            "=================================================================\n",
            "Total params: 138,357,544\n",
            "Trainable params: 138,357,544\n",
            "Non-trainable params: 0\n",
            "_________________________________________________________________\n"
          ],
          "name": "stdout"
        }
      ]
    },
    {
      "cell_type": "code",
      "metadata": {
        "id": "KTUeNavkFEv5",
        "colab_type": "code",
        "colab": {
          "base_uri": "https://localhost:8080/",
          "height": 34
        },
        "outputId": "6933f5a7-0122-4d8b-d895-5ce9a19260e2"
      },
      "source": [
        "type(vggmodel)"
      ],
      "execution_count": 48,
      "outputs": [
        {
          "output_type": "execute_result",
          "data": {
            "text/plain": [
              "keras.engine.training.Model"
            ]
          },
          "metadata": {
            "tags": []
          },
          "execution_count": 48
        }
      ]
    },
    {
      "cell_type": "code",
      "metadata": {
        "id": "LK2efF4yFKMw",
        "colab_type": "code",
        "colab": {
          "base_uri": "https://localhost:8080/",
          "height": 34
        },
        "outputId": "5a63be51-ac12-4aa4-b083-aa112c72a1d7"
      },
      "source": [
        "vggmodel.layers.pop()\n",
        "vggmodel.layers.pop()\n",
        "vggmodel.layers.pop()"
      ],
      "execution_count": 49,
      "outputs": [
        {
          "output_type": "execute_result",
          "data": {
            "text/plain": [
              "<keras.layers.core.Dense at 0x7f4ca32c6cf8>"
            ]
          },
          "metadata": {
            "tags": []
          },
          "execution_count": 49
        }
      ]
    },
    {
      "cell_type": "code",
      "metadata": {
        "id": "0YuQqGIXFPUL",
        "colab_type": "code",
        "colab": {
          "base_uri": "https://localhost:8080/",
          "height": 357
        },
        "outputId": "bcd2761f-b127-4d9c-e37a-fe17d2ab19fd"
      },
      "source": [
        "for layers in (vggmodel.layers):\n",
        "    print(layers)\n",
        "    layers.trainable = False"
      ],
      "execution_count": 50,
      "outputs": [
        {
          "output_type": "stream",
          "text": [
            "<keras.engine.input_layer.InputLayer object at 0x7f4ca3219d30>\n",
            "<keras.layers.convolutional.Conv2D object at 0x7f4ca3219a58>\n",
            "<keras.layers.convolutional.Conv2D object at 0x7f4ca3219630>\n",
            "<keras.layers.pooling.MaxPooling2D object at 0x7f4ca3219390>\n",
            "<keras.layers.convolutional.Conv2D object at 0x7f4ca31e5dd8>\n",
            "<keras.layers.convolutional.Conv2D object at 0x7f4ca3208630>\n",
            "<keras.layers.pooling.MaxPooling2D object at 0x7f4ca31c0470>\n",
            "<keras.layers.convolutional.Conv2D object at 0x7f4ca31c02b0>\n",
            "<keras.layers.convolutional.Conv2D object at 0x7f4ca31c0f98>\n",
            "<keras.layers.convolutional.Conv2D object at 0x7f4ca31c8b38>\n",
            "<keras.layers.pooling.MaxPooling2D object at 0x7f4ca31cf5c0>\n",
            "<keras.layers.convolutional.Conv2D object at 0x7f4ca31cf400>\n",
            "<keras.layers.convolutional.Conv2D object at 0x7f4ca31cfe48>\n",
            "<keras.layers.convolutional.Conv2D object at 0x7f4ca31d4c88>\n",
            "<keras.layers.pooling.MaxPooling2D object at 0x7f4ca3315080>\n",
            "<keras.layers.convolutional.Conv2D object at 0x7f4ca315c7b8>\n",
            "<keras.layers.convolutional.Conv2D object at 0x7f4ca315cfd0>\n",
            "<keras.layers.convolutional.Conv2D object at 0x7f4ca315fa90>\n",
            "<keras.layers.pooling.MaxPooling2D object at 0x7f4ca32c6518>\n",
            "<keras.layers.core.Flatten object at 0x7f4ca32c6358>\n"
          ],
          "name": "stdout"
        }
      ]
    },
    {
      "cell_type": "code",
      "metadata": {
        "id": "lhSlpNoqFSX5",
        "colab_type": "code",
        "colab": {
          "base_uri": "https://localhost:8080/",
          "height": 833
        },
        "outputId": "dd0bebad-be00-4064-b04e-a326258396b4"
      },
      "source": [
        "vggmodel.summary()"
      ],
      "execution_count": 51,
      "outputs": [
        {
          "output_type": "stream",
          "text": [
            "Model: \"vgg16\"\n",
            "_________________________________________________________________\n",
            "Layer (type)                 Output Shape              Param #   \n",
            "=================================================================\n",
            "input_3 (InputLayer)         (None, 224, 224, 3)       0         \n",
            "_________________________________________________________________\n",
            "block1_conv1 (Conv2D)        (None, 224, 224, 64)      1792      \n",
            "_________________________________________________________________\n",
            "block1_conv2 (Conv2D)        (None, 224, 224, 64)      36928     \n",
            "_________________________________________________________________\n",
            "block1_pool (MaxPooling2D)   (None, 112, 112, 64)      0         \n",
            "_________________________________________________________________\n",
            "block2_conv1 (Conv2D)        (None, 112, 112, 128)     73856     \n",
            "_________________________________________________________________\n",
            "block2_conv2 (Conv2D)        (None, 112, 112, 128)     147584    \n",
            "_________________________________________________________________\n",
            "block2_pool (MaxPooling2D)   (None, 56, 56, 128)       0         \n",
            "_________________________________________________________________\n",
            "block3_conv1 (Conv2D)        (None, 56, 56, 256)       295168    \n",
            "_________________________________________________________________\n",
            "block3_conv2 (Conv2D)        (None, 56, 56, 256)       590080    \n",
            "_________________________________________________________________\n",
            "block3_conv3 (Conv2D)        (None, 56, 56, 256)       590080    \n",
            "_________________________________________________________________\n",
            "block3_pool (MaxPooling2D)   (None, 28, 28, 256)       0         \n",
            "_________________________________________________________________\n",
            "block4_conv1 (Conv2D)        (None, 28, 28, 512)       1180160   \n",
            "_________________________________________________________________\n",
            "block4_conv2 (Conv2D)        (None, 28, 28, 512)       2359808   \n",
            "_________________________________________________________________\n",
            "block4_conv3 (Conv2D)        (None, 28, 28, 512)       2359808   \n",
            "_________________________________________________________________\n",
            "block4_pool (MaxPooling2D)   (None, 14, 14, 512)       0         \n",
            "_________________________________________________________________\n",
            "block5_conv1 (Conv2D)        (None, 14, 14, 512)       2359808   \n",
            "_________________________________________________________________\n",
            "block5_conv2 (Conv2D)        (None, 14, 14, 512)       2359808   \n",
            "_________________________________________________________________\n",
            "block5_conv3 (Conv2D)        (None, 14, 14, 512)       2359808   \n",
            "_________________________________________________________________\n",
            "block5_pool (MaxPooling2D)   (None, 7, 7, 512)         0         \n",
            "_________________________________________________________________\n",
            "flatten (Flatten)            (None, 25088)             0         \n",
            "=================================================================\n",
            "Total params: 14,714,688\n",
            "Trainable params: 0\n",
            "Non-trainable params: 14,714,688\n",
            "_________________________________________________________________\n"
          ],
          "name": "stdout"
        }
      ]
    },
    {
      "cell_type": "code",
      "metadata": {
        "id": "XwQJhKivFVnU",
        "colab_type": "code",
        "colab": {
          "base_uri": "https://localhost:8080/",
          "height": 71
        },
        "outputId": "63e6f5c5-3ad2-4fee-875a-6bc7c8d4f28d"
      },
      "source": [
        "from tensorflow.keras import regularizers\n",
        "X= vggmodel.layers[-1].output\n",
        "fc_1=Dense(4096,activation='relu')(X)\n",
        "dr_1=Dropout(0.6)(fc_1)\n",
        "fc_2=Dense(4096, activation='relu')(dr_1)\n",
        "dr_2=Dropout(0.4)(fc_2)\n",
        "predictions = Dense(4, activation=\"softmax\")(dr_2)\n",
        "model_final = Model(input = vggmodel.input, output = predictions)"
      ],
      "execution_count": 59,
      "outputs": [
        {
          "output_type": "stream",
          "text": [
            "/usr/local/lib/python3.6/dist-packages/ipykernel_launcher.py:8: UserWarning: Update your `Model` call to the Keras 2 API: `Model(inputs=Tensor(\"in..., outputs=Tensor(\"de...)`\n",
            "  \n"
          ],
          "name": "stderr"
        }
      ]
    },
    {
      "cell_type": "code",
      "metadata": {
        "id": "GQbWFlYSFYoW",
        "colab_type": "code",
        "colab": {
          "base_uri": "https://localhost:8080/",
          "height": 1000
        },
        "outputId": "b43b46e5-87d8-4615-b2c6-f46ff7fc9319"
      },
      "source": [
        "model_final.summary()"
      ],
      "execution_count": 60,
      "outputs": [
        {
          "output_type": "stream",
          "text": [
            "Model: \"model_6\"\n",
            "_________________________________________________________________\n",
            "Layer (type)                 Output Shape              Param #   \n",
            "=================================================================\n",
            "input_3 (InputLayer)         (None, 224, 224, 3)       0         \n",
            "_________________________________________________________________\n",
            "block1_conv1 (Conv2D)        (None, 224, 224, 64)      1792      \n",
            "_________________________________________________________________\n",
            "block1_conv2 (Conv2D)        (None, 224, 224, 64)      36928     \n",
            "_________________________________________________________________\n",
            "block1_pool (MaxPooling2D)   (None, 112, 112, 64)      0         \n",
            "_________________________________________________________________\n",
            "block2_conv1 (Conv2D)        (None, 112, 112, 128)     73856     \n",
            "_________________________________________________________________\n",
            "block2_conv2 (Conv2D)        (None, 112, 112, 128)     147584    \n",
            "_________________________________________________________________\n",
            "block2_pool (MaxPooling2D)   (None, 56, 56, 128)       0         \n",
            "_________________________________________________________________\n",
            "block3_conv1 (Conv2D)        (None, 56, 56, 256)       295168    \n",
            "_________________________________________________________________\n",
            "block3_conv2 (Conv2D)        (None, 56, 56, 256)       590080    \n",
            "_________________________________________________________________\n",
            "block3_conv3 (Conv2D)        (None, 56, 56, 256)       590080    \n",
            "_________________________________________________________________\n",
            "block3_pool (MaxPooling2D)   (None, 28, 28, 256)       0         \n",
            "_________________________________________________________________\n",
            "block4_conv1 (Conv2D)        (None, 28, 28, 512)       1180160   \n",
            "_________________________________________________________________\n",
            "block4_conv2 (Conv2D)        (None, 28, 28, 512)       2359808   \n",
            "_________________________________________________________________\n",
            "block4_conv3 (Conv2D)        (None, 28, 28, 512)       2359808   \n",
            "_________________________________________________________________\n",
            "block4_pool (MaxPooling2D)   (None, 14, 14, 512)       0         \n",
            "_________________________________________________________________\n",
            "block5_conv1 (Conv2D)        (None, 14, 14, 512)       2359808   \n",
            "_________________________________________________________________\n",
            "block5_conv2 (Conv2D)        (None, 14, 14, 512)       2359808   \n",
            "_________________________________________________________________\n",
            "block5_conv3 (Conv2D)        (None, 14, 14, 512)       2359808   \n",
            "_________________________________________________________________\n",
            "block5_pool (MaxPooling2D)   (None, 7, 7, 512)         0         \n",
            "_________________________________________________________________\n",
            "flatten (Flatten)            (None, 25088)             0         \n",
            "_________________________________________________________________\n",
            "dense_13 (Dense)             (None, 4096)              102764544 \n",
            "_________________________________________________________________\n",
            "dropout_8 (Dropout)          (None, 4096)              0         \n",
            "_________________________________________________________________\n",
            "dense_14 (Dense)             (None, 4096)              16781312  \n",
            "_________________________________________________________________\n",
            "dropout_9 (Dropout)          (None, 4096)              0         \n",
            "_________________________________________________________________\n",
            "dense_15 (Dense)             (None, 4)                 16388     \n",
            "=================================================================\n",
            "Total params: 134,276,932\n",
            "Trainable params: 119,562,244\n",
            "Non-trainable params: 14,714,688\n",
            "_________________________________________________________________\n"
          ],
          "name": "stdout"
        }
      ]
    },
    {
      "cell_type": "code",
      "metadata": {
        "id": "ICVzgPGwFbBm",
        "colab_type": "code",
        "colab": {
          "base_uri": "https://localhost:8080/",
          "height": 442
        },
        "outputId": "800d8452-aba5-4b1a-cc01-4545f50ecb7f"
      },
      "source": [
        "for i in model_final.layers:\n",
        "  print(i.trainable)"
      ],
      "execution_count": 61,
      "outputs": [
        {
          "output_type": "stream",
          "text": [
            "False\n",
            "False\n",
            "False\n",
            "False\n",
            "False\n",
            "False\n",
            "False\n",
            "False\n",
            "False\n",
            "False\n",
            "False\n",
            "False\n",
            "False\n",
            "False\n",
            "False\n",
            "False\n",
            "False\n",
            "False\n",
            "False\n",
            "False\n",
            "True\n",
            "True\n",
            "True\n",
            "True\n",
            "True\n"
          ],
          "name": "stdout"
        }
      ]
    },
    {
      "cell_type": "code",
      "metadata": {
        "id": "fOEPHCWtFeIb",
        "colab_type": "code",
        "colab": {}
      },
      "source": [
        "model_final.compile(loss = \"categorical_crossentropy\", optimizer = keras.optimizers.Adam(lr=0.0001), metrics=[\"accuracy\"])"
      ],
      "execution_count": 62,
      "outputs": []
    },
    {
      "cell_type": "code",
      "metadata": {
        "id": "PwkBTyWbFgkk",
        "colab_type": "code",
        "colab": {
          "base_uri": "https://localhost:8080/",
          "height": 1000
        },
        "outputId": "8dc7c01f-aa6e-40d2-8bf1-9dd147af8514"
      },
      "source": [
        "model_final.summary()"
      ],
      "execution_count": 63,
      "outputs": [
        {
          "output_type": "stream",
          "text": [
            "Model: \"model_6\"\n",
            "_________________________________________________________________\n",
            "Layer (type)                 Output Shape              Param #   \n",
            "=================================================================\n",
            "input_3 (InputLayer)         (None, 224, 224, 3)       0         \n",
            "_________________________________________________________________\n",
            "block1_conv1 (Conv2D)        (None, 224, 224, 64)      1792      \n",
            "_________________________________________________________________\n",
            "block1_conv2 (Conv2D)        (None, 224, 224, 64)      36928     \n",
            "_________________________________________________________________\n",
            "block1_pool (MaxPooling2D)   (None, 112, 112, 64)      0         \n",
            "_________________________________________________________________\n",
            "block2_conv1 (Conv2D)        (None, 112, 112, 128)     73856     \n",
            "_________________________________________________________________\n",
            "block2_conv2 (Conv2D)        (None, 112, 112, 128)     147584    \n",
            "_________________________________________________________________\n",
            "block2_pool (MaxPooling2D)   (None, 56, 56, 128)       0         \n",
            "_________________________________________________________________\n",
            "block3_conv1 (Conv2D)        (None, 56, 56, 256)       295168    \n",
            "_________________________________________________________________\n",
            "block3_conv2 (Conv2D)        (None, 56, 56, 256)       590080    \n",
            "_________________________________________________________________\n",
            "block3_conv3 (Conv2D)        (None, 56, 56, 256)       590080    \n",
            "_________________________________________________________________\n",
            "block3_pool (MaxPooling2D)   (None, 28, 28, 256)       0         \n",
            "_________________________________________________________________\n",
            "block4_conv1 (Conv2D)        (None, 28, 28, 512)       1180160   \n",
            "_________________________________________________________________\n",
            "block4_conv2 (Conv2D)        (None, 28, 28, 512)       2359808   \n",
            "_________________________________________________________________\n",
            "block4_conv3 (Conv2D)        (None, 28, 28, 512)       2359808   \n",
            "_________________________________________________________________\n",
            "block4_pool (MaxPooling2D)   (None, 14, 14, 512)       0         \n",
            "_________________________________________________________________\n",
            "block5_conv1 (Conv2D)        (None, 14, 14, 512)       2359808   \n",
            "_________________________________________________________________\n",
            "block5_conv2 (Conv2D)        (None, 14, 14, 512)       2359808   \n",
            "_________________________________________________________________\n",
            "block5_conv3 (Conv2D)        (None, 14, 14, 512)       2359808   \n",
            "_________________________________________________________________\n",
            "block5_pool (MaxPooling2D)   (None, 7, 7, 512)         0         \n",
            "_________________________________________________________________\n",
            "flatten (Flatten)            (None, 25088)             0         \n",
            "_________________________________________________________________\n",
            "dense_13 (Dense)             (None, 4096)              102764544 \n",
            "_________________________________________________________________\n",
            "dropout_8 (Dropout)          (None, 4096)              0         \n",
            "_________________________________________________________________\n",
            "dense_14 (Dense)             (None, 4096)              16781312  \n",
            "_________________________________________________________________\n",
            "dropout_9 (Dropout)          (None, 4096)              0         \n",
            "_________________________________________________________________\n",
            "dense_15 (Dense)             (None, 4)                 16388     \n",
            "=================================================================\n",
            "Total params: 134,276,932\n",
            "Trainable params: 119,562,244\n",
            "Non-trainable params: 14,714,688\n",
            "_________________________________________________________________\n"
          ],
          "name": "stdout"
        }
      ]
    },
    {
      "cell_type": "code",
      "metadata": {
        "id": "a_dUHIkNFkcD",
        "colab_type": "code",
        "colab": {
          "base_uri": "https://localhost:8080/",
          "height": 1000
        },
        "outputId": "70efcb8c-25a7-43be-c948-a63b4372ce97"
      },
      "source": [
        "from keras.callbacks import ModelCheckpoint, EarlyStopping\n",
        "checkpoint = ModelCheckpoint(\"vgg16_1.h5\", monitor='val_accuracy', verbose=1, save_best_only=True, save_weights_only=False, mode='auto', period=1)\n",
        "early = EarlyStopping(monitor='val_acc', min_delta=0, patience=40, verbose=1, mode='auto')\n",
        "hist=model_final.fit(traindata, steps_per_epoch= 2,shuffle=True, epochs= 100, validation_data= testdata, validation_steps=1, callbacks=[checkpoint,early])\n",
        "model_final.save_weights(\"vgg16_1.h5\")"
      ],
      "execution_count": 64,
      "outputs": [
        {
          "output_type": "stream",
          "text": [
            "Epoch 1/100\n",
            "2/2 [==============================] - 52s 26s/step - loss: 4.9273 - accuracy: 0.3281 - val_loss: 2.0320 - val_accuracy: 0.6562\n",
            "\n",
            "Epoch 00001: val_accuracy improved from -inf to 0.65625, saving model to vgg16_1.h5\n"
          ],
          "name": "stdout"
        },
        {
          "output_type": "stream",
          "text": [
            "/usr/local/lib/python3.6/dist-packages/keras/callbacks/callbacks.py:846: RuntimeWarning: Early stopping conditioned on metric `val_acc` which is not available. Available metrics are: val_loss,val_accuracy,loss,accuracy\n",
            "  (self.monitor, ','.join(list(logs.keys()))), RuntimeWarning\n"
          ],
          "name": "stderr"
        },
        {
          "output_type": "stream",
          "text": [
            "Epoch 2/100\n",
            "2/2 [==============================] - 52s 26s/step - loss: 3.6231 - accuracy: 0.4531 - val_loss: 1.4304 - val_accuracy: 0.5312\n",
            "\n",
            "Epoch 00002: val_accuracy did not improve from 0.65625\n",
            "Epoch 3/100\n",
            "2/2 [==============================] - 51s 25s/step - loss: 1.9768 - accuracy: 0.5781 - val_loss: 0.6996 - val_accuracy: 0.6875\n",
            "\n",
            "Epoch 00003: val_accuracy improved from 0.65625 to 0.68750, saving model to vgg16_1.h5\n",
            "Epoch 4/100\n",
            "2/2 [==============================] - 37s 19s/step - loss: 2.0149 - accuracy: 0.6875 - val_loss: 3.1794 - val_accuracy: 0.5000\n",
            "\n",
            "Epoch 00004: val_accuracy did not improve from 0.68750\n",
            "Epoch 5/100\n",
            "2/2 [==============================] - 51s 26s/step - loss: 1.9023 - accuracy: 0.7031 - val_loss: 1.2849 - val_accuracy: 0.7812\n",
            "\n",
            "Epoch 00005: val_accuracy improved from 0.68750 to 0.78125, saving model to vgg16_1.h5\n",
            "Epoch 6/100\n",
            "2/2 [==============================] - 51s 26s/step - loss: 1.7880 - accuracy: 0.7656 - val_loss: 0.6336 - val_accuracy: 0.7812\n",
            "\n",
            "Epoch 00006: val_accuracy did not improve from 0.78125\n",
            "Epoch 7/100\n",
            "2/2 [==============================] - 51s 25s/step - loss: 1.7389 - accuracy: 0.7500 - val_loss: 1.2441 - val_accuracy: 0.6875\n",
            "\n",
            "Epoch 00007: val_accuracy did not improve from 0.78125\n",
            "Epoch 8/100\n",
            "2/2 [==============================] - 37s 19s/step - loss: 1.7245 - accuracy: 0.7812 - val_loss: 2.7223 - val_accuracy: 0.5000\n",
            "\n",
            "Epoch 00008: val_accuracy did not improve from 0.78125\n",
            "Epoch 9/100\n",
            "2/2 [==============================] - 50s 25s/step - loss: 1.8613 - accuracy: 0.7031 - val_loss: 1.0692 - val_accuracy: 0.7812\n",
            "\n",
            "Epoch 00009: val_accuracy did not improve from 0.78125\n",
            "Epoch 10/100\n",
            "2/2 [==============================] - 51s 25s/step - loss: 1.8537 - accuracy: 0.7031 - val_loss: 1.0181 - val_accuracy: 0.8125\n",
            "\n",
            "Epoch 00010: val_accuracy improved from 0.78125 to 0.81250, saving model to vgg16_1.h5\n",
            "Epoch 11/100\n",
            "2/2 [==============================] - 51s 25s/step - loss: 1.5664 - accuracy: 0.7812 - val_loss: 1.1348 - val_accuracy: 0.7500\n",
            "\n",
            "Epoch 00011: val_accuracy did not improve from 0.81250\n",
            "Epoch 12/100\n",
            "2/2 [==============================] - 37s 18s/step - loss: 2.1017 - accuracy: 0.7031 - val_loss: 0.5746 - val_accuracy: 0.7500\n",
            "\n",
            "Epoch 00012: val_accuracy did not improve from 0.81250\n",
            "Epoch 13/100\n",
            "2/2 [==============================] - 51s 26s/step - loss: 1.7214 - accuracy: 0.7344 - val_loss: 1.6082 - val_accuracy: 0.7812\n",
            "\n",
            "Epoch 00013: val_accuracy did not improve from 0.81250\n",
            "Epoch 14/100\n",
            "2/2 [==============================] - 51s 25s/step - loss: 1.4713 - accuracy: 0.7656 - val_loss: 0.8590 - val_accuracy: 0.8438\n",
            "\n",
            "Epoch 00014: val_accuracy improved from 0.81250 to 0.84375, saving model to vgg16_1.h5\n",
            "Epoch 15/100\n",
            "2/2 [==============================] - 51s 26s/step - loss: 0.7825 - accuracy: 0.8281 - val_loss: 1.0973 - val_accuracy: 0.7500\n",
            "\n",
            "Epoch 00015: val_accuracy did not improve from 0.84375\n",
            "Epoch 16/100\n",
            "2/2 [==============================] - 37s 18s/step - loss: 1.7403 - accuracy: 0.7500 - val_loss: 3.1981 - val_accuracy: 0.5000\n",
            "\n",
            "Epoch 00016: val_accuracy did not improve from 0.84375\n",
            "Epoch 17/100\n",
            "2/2 [==============================] - 51s 25s/step - loss: 1.2886 - accuracy: 0.7656 - val_loss: 0.5031 - val_accuracy: 0.8438\n",
            "\n",
            "Epoch 00017: val_accuracy did not improve from 0.84375\n",
            "Epoch 18/100\n",
            "2/2 [==============================] - 51s 25s/step - loss: 1.0535 - accuracy: 0.8125 - val_loss: 2.2306 - val_accuracy: 0.6562\n",
            "\n",
            "Epoch 00018: val_accuracy did not improve from 0.84375\n",
            "Epoch 19/100\n",
            "2/2 [==============================] - 51s 25s/step - loss: 1.6770 - accuracy: 0.7500 - val_loss: 1.3920 - val_accuracy: 0.7812\n",
            "\n",
            "Epoch 00019: val_accuracy did not improve from 0.84375\n",
            "Epoch 20/100\n",
            "2/2 [==============================] - 37s 18s/step - loss: 0.9945 - accuracy: 0.8594 - val_loss: 2.7720 - val_accuracy: 0.7500\n",
            "\n",
            "Epoch 00020: val_accuracy did not improve from 0.84375\n",
            "Epoch 21/100\n",
            "2/2 [==============================] - 51s 25s/step - loss: 1.2825 - accuracy: 0.8281 - val_loss: 0.9700 - val_accuracy: 0.8125\n",
            "\n",
            "Epoch 00021: val_accuracy did not improve from 0.84375\n",
            "Epoch 22/100\n",
            "2/2 [==============================] - 51s 26s/step - loss: 1.1205 - accuracy: 0.8281 - val_loss: 1.2659 - val_accuracy: 0.8438\n",
            "\n",
            "Epoch 00022: val_accuracy did not improve from 0.84375\n",
            "Epoch 23/100\n",
            "2/2 [==============================] - 51s 25s/step - loss: 1.0915 - accuracy: 0.7812 - val_loss: 1.2172 - val_accuracy: 0.7812\n",
            "\n",
            "Epoch 00023: val_accuracy did not improve from 0.84375\n",
            "Epoch 24/100\n",
            "2/2 [==============================] - 37s 18s/step - loss: 1.5061 - accuracy: 0.8125 - val_loss: 1.2946 - val_accuracy: 0.7500\n",
            "\n",
            "Epoch 00024: val_accuracy did not improve from 0.84375\n",
            "Epoch 25/100\n",
            "2/2 [==============================] - 51s 25s/step - loss: 1.8473 - accuracy: 0.7031 - val_loss: 1.3735 - val_accuracy: 0.7188\n",
            "\n",
            "Epoch 00025: val_accuracy did not improve from 0.84375\n",
            "Epoch 26/100\n",
            "2/2 [==============================] - 51s 25s/step - loss: 0.8322 - accuracy: 0.8750 - val_loss: 2.1051 - val_accuracy: 0.7812\n",
            "\n",
            "Epoch 00026: val_accuracy did not improve from 0.84375\n",
            "Epoch 27/100\n",
            "2/2 [==============================] - 51s 25s/step - loss: 0.9759 - accuracy: 0.7812 - val_loss: 0.5002 - val_accuracy: 0.8438\n",
            "\n",
            "Epoch 00027: val_accuracy did not improve from 0.84375\n",
            "Epoch 28/100\n",
            "2/2 [==============================] - 38s 19s/step - loss: 1.2553 - accuracy: 0.7812 - val_loss: 1.7136 - val_accuracy: 0.7500\n",
            "\n",
            "Epoch 00028: val_accuracy did not improve from 0.84375\n",
            "Epoch 29/100\n",
            "2/2 [==============================] - 51s 25s/step - loss: 0.6046 - accuracy: 0.8438 - val_loss: 1.6051 - val_accuracy: 0.6875\n",
            "\n",
            "Epoch 00029: val_accuracy did not improve from 0.84375\n",
            "Epoch 30/100\n",
            "2/2 [==============================] - 51s 25s/step - loss: 0.8911 - accuracy: 0.7969 - val_loss: 0.8401 - val_accuracy: 0.8750\n",
            "\n",
            "Epoch 00030: val_accuracy improved from 0.84375 to 0.87500, saving model to vgg16_1.h5\n",
            "Epoch 31/100\n",
            "2/2 [==============================] - 51s 26s/step - loss: 1.7513 - accuracy: 0.7812 - val_loss: 2.7921 - val_accuracy: 0.6562\n",
            "\n",
            "Epoch 00031: val_accuracy did not improve from 0.87500\n",
            "Epoch 32/100\n",
            "2/2 [==============================] - 37s 18s/step - loss: 1.0635 - accuracy: 0.8281 - val_loss: 1.1785 - val_accuracy: 0.7500\n",
            "\n",
            "Epoch 00032: val_accuracy did not improve from 0.87500\n",
            "Epoch 33/100\n",
            "2/2 [==============================] - 51s 25s/step - loss: 0.5459 - accuracy: 0.8281 - val_loss: 0.4558 - val_accuracy: 0.8438\n",
            "\n",
            "Epoch 00033: val_accuracy did not improve from 0.87500\n",
            "Epoch 34/100\n",
            "2/2 [==============================] - 51s 25s/step - loss: 0.8410 - accuracy: 0.8594 - val_loss: 2.9079 - val_accuracy: 0.6562\n",
            "\n",
            "Epoch 00034: val_accuracy did not improve from 0.87500\n",
            "Epoch 35/100\n",
            "2/2 [==============================] - 51s 25s/step - loss: 1.5937 - accuracy: 0.7969 - val_loss: 1.1509 - val_accuracy: 0.8438\n",
            "\n",
            "Epoch 00035: val_accuracy did not improve from 0.87500\n",
            "Epoch 36/100\n",
            "2/2 [==============================] - 37s 19s/step - loss: 0.8196 - accuracy: 0.7969 - val_loss: 0.2194 - val_accuracy: 0.7500\n",
            "\n",
            "Epoch 00036: val_accuracy did not improve from 0.87500\n",
            "Epoch 37/100\n",
            "2/2 [==============================] - 51s 25s/step - loss: 0.9677 - accuracy: 0.8125 - val_loss: 1.6023 - val_accuracy: 0.7500\n",
            "\n",
            "Epoch 00037: val_accuracy did not improve from 0.87500\n",
            "Epoch 38/100\n",
            "2/2 [==============================] - 51s 26s/step - loss: 1.7187 - accuracy: 0.7344 - val_loss: 1.6997 - val_accuracy: 0.7812\n",
            "\n",
            "Epoch 00038: val_accuracy did not improve from 0.87500\n",
            "Epoch 39/100\n",
            "2/2 [==============================] - 51s 25s/step - loss: 1.0387 - accuracy: 0.8906 - val_loss: 0.1857 - val_accuracy: 0.9062\n",
            "\n",
            "Epoch 00039: val_accuracy improved from 0.87500 to 0.90625, saving model to vgg16_1.h5\n",
            "Epoch 40/100\n",
            "2/2 [==============================] - 37s 19s/step - loss: 0.7512 - accuracy: 0.8438 - val_loss: 3.2027e-04 - val_accuracy: 1.0000\n",
            "\n",
            "Epoch 00040: val_accuracy improved from 0.90625 to 1.00000, saving model to vgg16_1.h5\n",
            "Epoch 41/100\n",
            "2/2 [==============================] - 52s 26s/step - loss: 0.7911 - accuracy: 0.8438 - val_loss: 1.6725 - val_accuracy: 0.7188\n",
            "\n",
            "Epoch 00041: val_accuracy did not improve from 1.00000\n",
            "Epoch 42/100\n",
            "2/2 [==============================] - 51s 25s/step - loss: 0.8065 - accuracy: 0.8125 - val_loss: 0.7410 - val_accuracy: 0.8438\n",
            "\n",
            "Epoch 00042: val_accuracy did not improve from 1.00000\n",
            "Epoch 43/100\n",
            "2/2 [==============================] - 51s 25s/step - loss: 0.3222 - accuracy: 0.8906 - val_loss: 1.3996 - val_accuracy: 0.8438\n",
            "\n",
            "Epoch 00043: val_accuracy did not improve from 1.00000\n",
            "Epoch 44/100\n",
            "2/2 [==============================] - 37s 18s/step - loss: 0.6612 - accuracy: 0.8594 - val_loss: 0.6378 - val_accuracy: 0.7500\n",
            "\n",
            "Epoch 00044: val_accuracy did not improve from 1.00000\n",
            "Epoch 45/100\n",
            "2/2 [==============================] - 51s 25s/step - loss: 0.2239 - accuracy: 0.9219 - val_loss: 0.7364 - val_accuracy: 0.8438\n",
            "\n",
            "Epoch 00045: val_accuracy did not improve from 1.00000\n",
            "Epoch 46/100\n",
            "2/2 [==============================] - 51s 25s/step - loss: 1.1246 - accuracy: 0.8125 - val_loss: 1.1628 - val_accuracy: 0.7500\n",
            "\n",
            "Epoch 00046: val_accuracy did not improve from 1.00000\n",
            "Epoch 47/100\n",
            "2/2 [==============================] - 51s 25s/step - loss: 0.7459 - accuracy: 0.9062 - val_loss: 1.1000 - val_accuracy: 0.8438\n",
            "\n",
            "Epoch 00047: val_accuracy did not improve from 1.00000\n",
            "Epoch 48/100\n",
            "2/2 [==============================] - 37s 18s/step - loss: 0.6507 - accuracy: 0.9062 - val_loss: 1.7646 - val_accuracy: 0.5000\n",
            "\n",
            "Epoch 00048: val_accuracy did not improve from 1.00000\n",
            "Epoch 49/100\n",
            "2/2 [==============================] - 51s 25s/step - loss: 0.8090 - accuracy: 0.8906 - val_loss: 2.2556 - val_accuracy: 0.7500\n",
            "\n",
            "Epoch 00049: val_accuracy did not improve from 1.00000\n",
            "Epoch 50/100\n",
            "2/2 [==============================] - 51s 26s/step - loss: 1.2648 - accuracy: 0.8281 - val_loss: 0.8635 - val_accuracy: 0.7812\n",
            "\n",
            "Epoch 00050: val_accuracy did not improve from 1.00000\n",
            "Epoch 51/100\n",
            "2/2 [==============================] - 51s 25s/step - loss: 1.0384 - accuracy: 0.8750 - val_loss: 0.9588 - val_accuracy: 0.8125\n",
            "\n",
            "Epoch 00051: val_accuracy did not improve from 1.00000\n",
            "Epoch 52/100\n",
            "2/2 [==============================] - 37s 18s/step - loss: 0.4208 - accuracy: 0.9531 - val_loss: 0.0327 - val_accuracy: 1.0000\n",
            "\n",
            "Epoch 00052: val_accuracy did not improve from 1.00000\n",
            "Epoch 53/100\n",
            "2/2 [==============================] - 51s 26s/step - loss: 0.7575 - accuracy: 0.8594 - val_loss: 1.2466 - val_accuracy: 0.8125\n",
            "\n",
            "Epoch 00053: val_accuracy did not improve from 1.00000\n",
            "Epoch 54/100\n",
            "2/2 [==============================] - 51s 25s/step - loss: 0.3387 - accuracy: 0.9375 - val_loss: 1.3780 - val_accuracy: 0.6562\n",
            "\n",
            "Epoch 00054: val_accuracy did not improve from 1.00000\n",
            "Epoch 55/100\n",
            "2/2 [==============================] - 51s 25s/step - loss: 0.6161 - accuracy: 0.9062 - val_loss: 0.4014 - val_accuracy: 0.9062\n",
            "\n",
            "Epoch 00055: val_accuracy did not improve from 1.00000\n",
            "Epoch 56/100\n",
            "2/2 [==============================] - 37s 18s/step - loss: 0.6902 - accuracy: 0.8906 - val_loss: 0.2581 - val_accuracy: 0.7500\n",
            "\n",
            "Epoch 00056: val_accuracy did not improve from 1.00000\n",
            "Epoch 57/100\n",
            "2/2 [==============================] - 50s 25s/step - loss: 1.0671 - accuracy: 0.8438 - val_loss: 0.4318 - val_accuracy: 0.8438\n",
            "\n",
            "Epoch 00057: val_accuracy did not improve from 1.00000\n",
            "Epoch 58/100\n",
            "2/2 [==============================] - 51s 25s/step - loss: 0.5426 - accuracy: 0.8906 - val_loss: 2.1413 - val_accuracy: 0.7812\n",
            "\n",
            "Epoch 00058: val_accuracy did not improve from 1.00000\n",
            "Epoch 59/100\n",
            "2/2 [==============================] - 51s 25s/step - loss: 1.3049 - accuracy: 0.8438 - val_loss: 1.9332 - val_accuracy: 0.7188\n",
            "\n",
            "Epoch 00059: val_accuracy did not improve from 1.00000\n",
            "Epoch 60/100\n",
            "2/2 [==============================] - 37s 18s/step - loss: 0.1463 - accuracy: 0.9531 - val_loss: 0.0162 - val_accuracy: 1.0000\n",
            "\n",
            "Epoch 00060: val_accuracy did not improve from 1.00000\n",
            "Epoch 61/100\n",
            "2/2 [==============================] - 55s 27s/step - loss: 0.4077 - accuracy: 0.8906 - val_loss: 1.4059 - val_accuracy: 0.7500\n",
            "\n",
            "Epoch 00061: val_accuracy did not improve from 1.00000\n",
            "Epoch 62/100\n",
            "2/2 [==============================] - 51s 25s/step - loss: 1.1503 - accuracy: 0.7969 - val_loss: 0.7157 - val_accuracy: 0.8438\n",
            "\n",
            "Epoch 00062: val_accuracy did not improve from 1.00000\n",
            "Epoch 63/100\n",
            "2/2 [==============================] - 51s 26s/step - loss: 0.4910 - accuracy: 0.8750 - val_loss: 2.7773 - val_accuracy: 0.6875\n",
            "\n",
            "Epoch 00063: val_accuracy did not improve from 1.00000\n",
            "Epoch 64/100\n",
            "2/2 [==============================] - 37s 18s/step - loss: 0.5196 - accuracy: 0.8750 - val_loss: 0.1511 - val_accuracy: 1.0000\n",
            "\n",
            "Epoch 00064: val_accuracy did not improve from 1.00000\n",
            "Epoch 65/100\n",
            "2/2 [==============================] - 51s 25s/step - loss: 1.6550 - accuracy: 0.7969 - val_loss: 2.7952 - val_accuracy: 0.7500\n",
            "\n",
            "Epoch 00065: val_accuracy did not improve from 1.00000\n",
            "Epoch 66/100\n",
            "2/2 [==============================] - 51s 25s/step - loss: 0.7359 - accuracy: 0.9062 - val_loss: 0.5323 - val_accuracy: 0.8125\n",
            "\n",
            "Epoch 00066: val_accuracy did not improve from 1.00000\n",
            "Epoch 67/100\n",
            "2/2 [==============================] - 51s 25s/step - loss: 0.2779 - accuracy: 0.9219 - val_loss: 0.9363 - val_accuracy: 0.8125\n",
            "\n",
            "Epoch 00067: val_accuracy did not improve from 1.00000\n",
            "Epoch 68/100\n",
            "2/2 [==============================] - 37s 19s/step - loss: 0.4718 - accuracy: 0.9219 - val_loss: 2.3483e-05 - val_accuracy: 1.0000\n",
            "\n",
            "Epoch 00068: val_accuracy did not improve from 1.00000\n",
            "Epoch 69/100\n",
            "2/2 [==============================] - 51s 25s/step - loss: 0.1468 - accuracy: 0.9688 - val_loss: 2.0718 - val_accuracy: 0.7500\n",
            "\n",
            "Epoch 00069: val_accuracy did not improve from 1.00000\n",
            "Epoch 70/100\n",
            "2/2 [==============================] - 51s 25s/step - loss: 0.4273 - accuracy: 0.9375 - val_loss: 1.1306 - val_accuracy: 0.8125\n",
            "\n",
            "Epoch 00070: val_accuracy did not improve from 1.00000\n",
            "Epoch 71/100\n",
            "2/2 [==============================] - 50s 25s/step - loss: 0.2373 - accuracy: 0.9219 - val_loss: 0.4979 - val_accuracy: 0.8750\n",
            "\n",
            "Epoch 00071: val_accuracy did not improve from 1.00000\n",
            "Epoch 72/100\n",
            "2/2 [==============================] - 37s 19s/step - loss: 0.4102 - accuracy: 0.9375 - val_loss: 0.3656 - val_accuracy: 0.7500\n",
            "\n",
            "Epoch 00072: val_accuracy did not improve from 1.00000\n",
            "Epoch 73/100\n",
            "2/2 [==============================] - 50s 25s/step - loss: 0.1222 - accuracy: 0.9531 - val_loss: 1.3728 - val_accuracy: 0.7812\n",
            "\n",
            "Epoch 00073: val_accuracy did not improve from 1.00000\n",
            "Epoch 74/100\n",
            "2/2 [==============================] - 51s 25s/step - loss: 0.2123 - accuracy: 0.9531 - val_loss: 0.6375 - val_accuracy: 0.8438\n",
            "\n",
            "Epoch 00074: val_accuracy did not improve from 1.00000\n",
            "Epoch 75/100\n",
            "2/2 [==============================] - 51s 26s/step - loss: 1.4232 - accuracy: 0.8125 - val_loss: 1.6806 - val_accuracy: 0.7188\n",
            "\n",
            "Epoch 00075: val_accuracy did not improve from 1.00000\n",
            "Epoch 76/100\n",
            "2/2 [==============================] - 37s 18s/step - loss: 0.3602 - accuracy: 0.9219 - val_loss: 0.9033 - val_accuracy: 0.7500\n",
            "\n",
            "Epoch 00076: val_accuracy did not improve from 1.00000\n",
            "Epoch 77/100\n",
            "2/2 [==============================] - 51s 25s/step - loss: 0.2900 - accuracy: 0.9375 - val_loss: 1.0255 - val_accuracy: 0.7500\n",
            "\n",
            "Epoch 00077: val_accuracy did not improve from 1.00000\n",
            "Epoch 78/100\n",
            "2/2 [==============================] - 51s 25s/step - loss: 0.0225 - accuracy: 0.9844 - val_loss: 0.8616 - val_accuracy: 0.8438\n",
            "\n",
            "Epoch 00078: val_accuracy did not improve from 1.00000\n",
            "Epoch 79/100\n",
            "2/2 [==============================] - 51s 25s/step - loss: 0.2361 - accuracy: 0.9531 - val_loss: 1.1330 - val_accuracy: 0.7500\n",
            "\n",
            "Epoch 00079: val_accuracy did not improve from 1.00000\n",
            "Epoch 80/100\n",
            "2/2 [==============================] - 37s 18s/step - loss: 0.1397 - accuracy: 0.9688 - val_loss: 0.0136 - val_accuracy: 1.0000\n",
            "\n",
            "Epoch 00080: val_accuracy did not improve from 1.00000\n",
            "Epoch 81/100\n",
            "2/2 [==============================] - 51s 26s/step - loss: 0.0721 - accuracy: 0.9844 - val_loss: 0.9894 - val_accuracy: 0.8438\n",
            "\n",
            "Epoch 00081: val_accuracy did not improve from 1.00000\n",
            "Epoch 82/100\n",
            "2/2 [==============================] - 50s 25s/step - loss: 0.3066 - accuracy: 0.9062 - val_loss: 1.3659 - val_accuracy: 0.7188\n",
            "\n",
            "Epoch 00082: val_accuracy did not improve from 1.00000\n",
            "Epoch 83/100\n",
            "2/2 [==============================] - 51s 25s/step - loss: 0.2065 - accuracy: 0.9219 - val_loss: 1.0771 - val_accuracy: 0.8125\n",
            "\n",
            "Epoch 00083: val_accuracy did not improve from 1.00000\n",
            "Epoch 84/100\n",
            "2/2 [==============================] - 37s 18s/step - loss: 1.2191 - accuracy: 0.8594 - val_loss: 0.0896 - val_accuracy: 1.0000\n",
            "\n",
            "Epoch 00084: val_accuracy did not improve from 1.00000\n",
            "Epoch 85/100\n",
            "2/2 [==============================] - 51s 25s/step - loss: 0.2257 - accuracy: 0.9375 - val_loss: 0.9268 - val_accuracy: 0.8438\n",
            "\n",
            "Epoch 00085: val_accuracy did not improve from 1.00000\n",
            "Epoch 86/100\n",
            "2/2 [==============================] - 51s 25s/step - loss: 0.5886 - accuracy: 0.8438 - val_loss: 0.1338 - val_accuracy: 0.9062\n",
            "\n",
            "Epoch 00086: val_accuracy did not improve from 1.00000\n",
            "Epoch 87/100\n",
            "2/2 [==============================] - 50s 25s/step - loss: 0.4260 - accuracy: 0.8750 - val_loss: 1.9389 - val_accuracy: 0.6250\n",
            "\n",
            "Epoch 00087: val_accuracy did not improve from 1.00000\n",
            "Epoch 88/100\n",
            "2/2 [==============================] - 38s 19s/step - loss: 0.1179 - accuracy: 0.9688 - val_loss: 2.6823e-04 - val_accuracy: 1.0000\n",
            "\n",
            "Epoch 00088: val_accuracy did not improve from 1.00000\n",
            "Epoch 89/100\n",
            "2/2 [==============================] - 51s 25s/step - loss: 0.7508 - accuracy: 0.8750 - val_loss: 2.3894 - val_accuracy: 0.6562\n",
            "\n",
            "Epoch 00089: val_accuracy did not improve from 1.00000\n",
            "Epoch 90/100\n",
            "2/2 [==============================] - 51s 25s/step - loss: 0.6087 - accuracy: 0.9375 - val_loss: 2.0869 - val_accuracy: 0.7188\n",
            "\n",
            "Epoch 00090: val_accuracy did not improve from 1.00000\n",
            "Epoch 91/100\n",
            "2/2 [==============================] - 51s 26s/step - loss: 0.5916 - accuracy: 0.8906 - val_loss: 1.3755 - val_accuracy: 0.8750\n",
            "\n",
            "Epoch 00091: val_accuracy did not improve from 1.00000\n",
            "Epoch 92/100\n",
            "2/2 [==============================] - 37s 18s/step - loss: 0.2398 - accuracy: 0.9219 - val_loss: 0.7755 - val_accuracy: 0.7500\n",
            "\n",
            "Epoch 00092: val_accuracy did not improve from 1.00000\n",
            "Epoch 93/100\n",
            "2/2 [==============================] - 50s 25s/step - loss: 0.1546 - accuracy: 0.9531 - val_loss: 0.6740 - val_accuracy: 0.8125\n",
            "\n",
            "Epoch 00093: val_accuracy did not improve from 1.00000\n",
            "Epoch 94/100\n",
            "2/2 [==============================] - 51s 25s/step - loss: 0.1074 - accuracy: 0.9688 - val_loss: 2.3828 - val_accuracy: 0.7500\n",
            "\n",
            "Epoch 00094: val_accuracy did not improve from 1.00000\n",
            "Epoch 95/100\n",
            "2/2 [==============================] - 51s 25s/step - loss: 0.3694 - accuracy: 0.9375 - val_loss: 0.7657 - val_accuracy: 0.8438\n",
            "\n",
            "Epoch 00095: val_accuracy did not improve from 1.00000\n",
            "Epoch 96/100\n",
            "2/2 [==============================] - 37s 18s/step - loss: 0.6546 - accuracy: 0.9062 - val_loss: 2.7232 - val_accuracy: 0.7500\n",
            "\n",
            "Epoch 00096: val_accuracy did not improve from 1.00000\n",
            "Epoch 97/100\n",
            "2/2 [==============================] - 50s 25s/step - loss: 0.2744 - accuracy: 0.9375 - val_loss: 0.2968 - val_accuracy: 0.8750\n",
            "\n",
            "Epoch 00097: val_accuracy did not improve from 1.00000\n",
            "Epoch 98/100\n",
            "2/2 [==============================] - 51s 25s/step - loss: 0.3656 - accuracy: 0.9219 - val_loss: 1.0635 - val_accuracy: 0.8125\n",
            "\n",
            "Epoch 00098: val_accuracy did not improve from 1.00000\n",
            "Epoch 99/100\n",
            "2/2 [==============================] - 51s 25s/step - loss: 0.5424 - accuracy: 0.9062 - val_loss: 2.7577 - val_accuracy: 0.6875\n",
            "\n",
            "Epoch 00099: val_accuracy did not improve from 1.00000\n",
            "Epoch 100/100\n",
            "2/2 [==============================] - 38s 19s/step - loss: 0.8845 - accuracy: 0.9062 - val_loss: 2.3774e-04 - val_accuracy: 1.0000\n",
            "\n",
            "Epoch 00100: val_accuracy did not improve from 1.00000\n"
          ],
          "name": "stdout"
        }
      ]
    },
    {
      "cell_type": "code",
      "metadata": {
        "id": "ncWv7jybFpJH",
        "colab_type": "code",
        "colab": {
          "base_uri": "https://localhost:8080/",
          "height": 295
        },
        "outputId": "b56b7b47-9c69-41ab-af6e-0e76ee6a0a22"
      },
      "source": [
        "import matplotlib.pyplot as plt\n",
        "plt.plot(hist.history[\"accuracy\"])\n",
        "plt.plot(hist.history['val_accuracy'])\n",
        "\n",
        "plt.title(\"model accuracy\")\n",
        "plt.ylabel(\"Accuracy\")\n",
        "plt.xlabel(\"Epoch\")\n",
        "plt.legend([\"Accuracy\",\"Validation Accuracy\"])\n",
        "plt.show()"
      ],
      "execution_count": 65,
      "outputs": [
        {
          "output_type": "display_data",
          "data": {
            "image/png": "[encoded data removed]",
            "text/plain": [
              "<Figure size 432x288 with 1 Axes>"
            ]
          },
          "metadata": {
            "tags": [],
            "needs_background": "light"
          }
        }
      ]
    },
    {
      "cell_type": "code",
      "metadata": {
        "id": "tbElZyN7FsdV",
        "colab_type": "code",
        "colab": {
          "base_uri": "https://localhost:8080/",
          "height": 279
        },
        "outputId": "6d28d568-3ece-4f53-ef66-43e2f6871c71"
      },
      "source": [
        "plt.plot(hist.history['loss'])\n",
        "plt.plot(hist.history['val_loss'])\n",
        "plt.ylabel(\"Loss\")\n",
        "plt.xlabel(\"Epoch\")\n",
        "plt.legend([\"loss\",\"Validation Loss\"])\n",
        "plt.show()"
      ],
      "execution_count": 66,
      "outputs": [
        {
          "output_type": "display_data",
          "data": {
            "image/png": "[encoded data removed]",
            "text/plain": [
              "<Figure size 432x288 with 1 Axes>"
            ]
          },
          "metadata": {
            "tags": [],
            "needs_background": "light"
          }
        }
      ]
    },
    {
      "cell_type": "code",
      "metadata": {
        "id": "af0po5MVFvA7",
        "colab_type": "code",
        "colab": {}
      },
      "source": [
        "from keras.preprocessing.image import ImageDataGenerator\n",
        "from sklearn.metrics import classification_report, confusion_matrix\n",
        "\n",
        "test_datagen = ImageDataGenerator()"
      ],
      "execution_count": 67,
      "outputs": []
    },
    {
      "cell_type": "code",
      "metadata": {
        "id": "r7_-07qfFzWg",
        "colab_type": "code",
        "colab": {
          "base_uri": "https://localhost:8080/",
          "height": 34
        },
        "outputId": "511f6c71-d6ee-4a90-8c4d-62f6d3ff90a6"
      },
      "source": [
        "test_generator = test_datagen.flow_from_directory('/content/drive/My Drive/data_ouput/test',\n",
        "                                                        target_size=(224, 224),\n",
        "                                                        batch_size=32,\n",
        "                                                        class_mode='categorical')"
      ],
      "execution_count": 68,
      "outputs": [
        {
          "output_type": "stream",
          "text": [
            "Found 100 images belonging to 4 classes.\n"
          ],
          "name": "stdout"
        }
      ]
    },
    {
      "cell_type": "code",
      "metadata": {
        "id": "4Z6btHxVF2g_",
        "colab_type": "code",
        "colab": {
          "base_uri": "https://localhost:8080/",
          "height": 306
        },
        "outputId": "e5304bd2-f452-47a7-adc2-c749308783d8"
      },
      "source": [
        "import numpy as np\n",
        "#Confution Matrix and Classification Report\n",
        "Y_pred = model_final.predict_generator(validation_generator)\n",
        "y_pred = np.argmax(Y_pred, axis=1)\n",
        "print('Confusion Matrix')\n",
        "print(confusion_matrix(validation_generator.classes, y_pred))\n",
        "print('Classification Report')\n",
        "target_names = ['grade0', 'grade1', 'grade2','grade3']\n",
        "print(classification_report(validation_generator.classes, y_pred, target_names=target_names))"
      ],
      "execution_count": 69,
      "outputs": [
        {
          "output_type": "stream",
          "text": [
            "Confusion Matrix\n",
            "[[ 4 10  4  7]\n",
            " [ 5  4  9  7]\n",
            " [ 3  6  6 10]\n",
            " [ 6  3  5 11]]\n",
            "Classification Report\n",
            "              precision    recall  f1-score   support\n",
            "\n",
            "      grade0       0.22      0.16      0.19        25\n",
            "      grade1       0.17      0.16      0.17        25\n",
            "      grade2       0.25      0.24      0.24        25\n",
            "      grade3       0.31      0.44      0.37        25\n",
            "\n",
            "    accuracy                           0.25       100\n",
            "   macro avg       0.24      0.25      0.24       100\n",
            "weighted avg       0.24      0.25      0.24       100\n",
            "\n"
          ],
          "name": "stdout"
        }
      ]
    },
    {
      "cell_type": "code",
      "metadata": {
        "id": "GM4VcgRrGFoH",
        "colab_type": "code",
        "colab": {
          "base_uri": "https://localhost:8080/",
          "height": 153
        },
        "outputId": "53c9fda2-f817-4ed4-8652-462629b3836f"
      },
      "source": [
        "import os\n",
        "data_path='/content/drive/My Drive/data_ouput/test'\n",
        "data_dir_list=os.listdir(data_path)\n",
        "for dataset in data_dir_list:\n",
        "  print(dataset)\n",
        "  img_list=os.listdir(data_path+'/'+dataset)\n",
        "  correctCount=0\n",
        "  wrongCount=0\n",
        "  for img in img_list:\n",
        "    img_path=data_path+'/'+dataset+'/'+img\n",
        "    input_image = image.load_img(img_path,target_size=(224,224))\n",
        "    input_image = np.asarray(input_image)\n",
        "    input_image = np.expand_dims(input_image, axis=0)\n",
        "    output = model_final.predict(input_image)\n",
        "    ans='grade'+str(np.argmax(output[0],axis=0))\n",
        "    if( ans in img):\n",
        "      correctCount+=1\n",
        "    else:\n",
        "      wrongCount+=1\n",
        "  print(\"correct Count {} WrongCount {}\".format(correctCount,wrongCount))"
      ],
      "execution_count": 70,
      "outputs": [
        {
          "output_type": "stream",
          "text": [
            "grade1\n",
            "correct Count 14 WrongCount 11\n",
            "grade0\n",
            "correct Count 18 WrongCount 7\n",
            "grade2\n",
            "correct Count 22 WrongCount 3\n",
            "grade3\n",
            "correct Count 23 WrongCount 2\n"
          ],
          "name": "stdout"
        }
      ]
    },
    {
      "cell_type": "code",
      "metadata": {
        "id": "lr2nvInpGKZj",
        "colab_type": "code",
        "colab": {
          "base_uri": "https://localhost:8080/",
          "height": 51
        },
        "outputId": "f80f647e-0fc2-433a-ca2e-8e04d4e36ae7"
      },
      "source": [
        "loss,acc=model_final.evaluate(test_generator)\n",
        "acc"
      ],
      "execution_count": 71,
      "outputs": [
        {
          "output_type": "stream",
          "text": [
            "4/4 [==============================] - 50s 13s/step\n"
          ],
          "name": "stdout"
        },
        {
          "output_type": "execute_result",
          "data": {
            "text/plain": [
              "0.7699999809265137"
            ]
          },
          "metadata": {
            "tags": []
          },
          "execution_count": 71
        }
      ]
    },
    {
      "cell_type": "code",
      "metadata": {
        "id": "K8rupFG-GOWZ",
        "colab_type": "code",
        "colab": {
          "base_uri": "https://localhost:8080/",
          "height": 51
        },
        "outputId": "647ba2a2-9b48-4382-ce2c-9ad4693d9919"
      },
      "source": [
        "loss,acc=model_final.evaluate(traindata)\n",
        "acc"
      ],
      "execution_count": 72,
      "outputs": [
        {
          "output_type": "stream",
          "text": [
            "25/25 [==============================] - 400s 16s/step\n"
          ],
          "name": "stdout"
        },
        {
          "output_type": "execute_result",
          "data": {
            "text/plain": [
              "0.9337499737739563"
            ]
          },
          "metadata": {
            "tags": []
          },
          "execution_count": 72
        }
      ]
    },
    {
      "cell_type": "code",
      "metadata": {
        "id": "lYL4xTI_Gh_3",
        "colab_type": "code",
        "colab": {
          "base_uri": "https://localhost:8080/",
          "height": 51
        },
        "outputId": "aac575fa-a739-4b40-eee1-3b2c251642cf"
      },
      "source": [
        "loss,acc=model_final.evaluate(testdata)\n",
        "acc"
      ],
      "execution_count": 73,
      "outputs": [
        {
          "output_type": "stream",
          "text": [
            "4/4 [==============================] - 50s 13s/step\n"
          ],
          "name": "stdout"
        },
        {
          "output_type": "execute_result",
          "data": {
            "text/plain": [
              "0.7799999713897705"
            ]
          },
          "metadata": {
            "tags": []
          },
          "execution_count": 73
        }
      ]
    },
    {
      "cell_type": "code",
      "metadata": {
        "id": "scQ7EfAcGnex",
        "colab_type": "code",
        "colab": {}
      },
      "source": [
        "model_final.save('/content/drive/My Drive/Best models/modelbest.h5')"
      ],
      "execution_count": null,
      "outputs": []
    }
  ]
}