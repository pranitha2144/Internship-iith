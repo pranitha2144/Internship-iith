{
  "nbformat": 4,
  "nbformat_minor": 0,
  "metadata": {
    "colab": {
      "name": "Untitled",
      "provenance": [],
      "mount_file_id": "1IhyoGy7EHEgj120Y7aEt15WFbYJP6aXH",
      "authorship_tag": "ABX9TyMGClsbLBSdk1MURIeFxvLF",
      "include_colab_link": true
    },
    "kernelspec": {
      "name": "python3",
      "display_name": "Python 3"
    }
  },
  "cells": [
    {
      "cell_type": "markdown",
      "metadata": {
        "id": "view-in-github",
        "colab_type": "text"
      },
      "source": [
        "<a href=\"https://colab.research.google.com/github/pranitha2144/Internship-iith/blob/Resnet/vgg16.ipynb\" target=\"_parent\"><img src=\"https://colab.research.google.com/assets/colab-badge.svg\" alt=\"Open In Colab\"/></a>"
      ]
    },
    {
      "cell_type": "code",
      "metadata": {
        "id": "3i-5qcxM7pSC",
        "colab_type": "code",
        "colab": {}
      },
      "source": [
        "import keras\n",
        "from keras.models import Model\n",
        "from keras.layers import Dense\n",
        "from keras import optimizers\n",
        "from keras.preprocessing.image import ImageDataGenerator\n",
        "from keras.preprocessing import image"
      ],
      "execution_count": null,
      "outputs": []
    },
    {
      "cell_type": "code",
      "metadata": {
        "id": "P_NCAugx70fs",
        "colab_type": "code",
        "colab": {
          "base_uri": "https://localhost:8080/",
          "height": 51
        },
        "outputId": "6702a77d-35bf-473e-df97-5c35a71d3701"
      },
      "source": [
        "trdata = ImageDataGenerator(\n",
        "    rescale=1./255,\n",
        "    width_shift_range=0.2,\n",
        "    height_shift_range=0.2,\n",
        "    shear_range=0.2,\n",
        "    zoom_range=0.2,\n",
        "    horizontal_flip=True,\n",
        "    vertical_flip=True,\n",
        "    )\n",
        "traindata = trdata.flow_from_directory(directory=\"/content/drive/My Drive/data_ouput/train\",target_size=(224,224))\n",
        "tsdata = ImageDataGenerator(rescale=1./255)\n",
        "testdata = tsdata.flow_from_directory(directory=\"/content/drive/My Drive/data_ouput/val\", target_size=(224,224))"
      ],
      "execution_count": null,
      "outputs": [
        {
          "output_type": "stream",
          "text": [
            "Found 800 images belonging to 4 classes.\n",
            "Found 100 images belonging to 4 classes.\n"
          ],
          "name": "stdout"
        }
      ]
    },
    {
      "cell_type": "code",
      "metadata": {
        "id": "rg_JdtWb8O00",
        "colab_type": "code",
        "colab": {}
      },
      "source": [
        "from keras.applications.vgg16 import VGG16\n",
        "vggmodel = VGG16(weights='imagenet', include_top=True)"
      ],
      "execution_count": null,
      "outputs": []
    },
    {
      "cell_type": "code",
      "metadata": {
        "id": "PKuEFjHt8TfJ",
        "colab_type": "code",
        "colab": {
          "base_uri": "https://localhost:8080/",
          "height": 935
        },
        "outputId": "b2810698-3453-4f2b-bc88-c252957199b8"
      },
      "source": [
        "vggmodel.summary()"
      ],
      "execution_count": null,
      "outputs": [
        {
          "output_type": "stream",
          "text": [
            "Model: \"vgg16\"\n",
            "_________________________________________________________________\n",
            "Layer (type)                 Output Shape              Param #   \n",
            "=================================================================\n",
            "input_2 (InputLayer)         (None, 224, 224, 3)       0         \n",
            "_________________________________________________________________\n",
            "block1_conv1 (Conv2D)        (None, 224, 224, 64)      1792      \n",
            "_________________________________________________________________\n",
            "block1_conv2 (Conv2D)        (None, 224, 224, 64)      36928     \n",
            "_________________________________________________________________\n",
            "block1_pool (MaxPooling2D)   (None, 112, 112, 64)      0         \n",
            "_________________________________________________________________\n",
            "block2_conv1 (Conv2D)        (None, 112, 112, 128)     73856     \n",
            "_________________________________________________________________\n",
            "block2_conv2 (Conv2D)        (None, 112, 112, 128)     147584    \n",
            "_________________________________________________________________\n",
            "block2_pool (MaxPooling2D)   (None, 56, 56, 128)       0         \n",
            "_________________________________________________________________\n",
            "block3_conv1 (Conv2D)        (None, 56, 56, 256)       295168    \n",
            "_________________________________________________________________\n",
            "block3_conv2 (Conv2D)        (None, 56, 56, 256)       590080    \n",
            "_________________________________________________________________\n",
            "block3_conv3 (Conv2D)        (None, 56, 56, 256)       590080    \n",
            "_________________________________________________________________\n",
            "block3_pool (MaxPooling2D)   (None, 28, 28, 256)       0         \n",
            "_________________________________________________________________\n",
            "block4_conv1 (Conv2D)        (None, 28, 28, 512)       1180160   \n",
            "_________________________________________________________________\n",
            "block4_conv2 (Conv2D)        (None, 28, 28, 512)       2359808   \n",
            "_________________________________________________________________\n",
            "block4_conv3 (Conv2D)        (None, 28, 28, 512)       2359808   \n",
            "_________________________________________________________________\n",
            "block4_pool (MaxPooling2D)   (None, 14, 14, 512)       0         \n",
            "_________________________________________________________________\n",
            "block5_conv1 (Conv2D)        (None, 14, 14, 512)       2359808   \n",
            "_________________________________________________________________\n",
            "block5_conv2 (Conv2D)        (None, 14, 14, 512)       2359808   \n",
            "_________________________________________________________________\n",
            "block5_conv3 (Conv2D)        (None, 14, 14, 512)       2359808   \n",
            "_________________________________________________________________\n",
            "block5_pool (MaxPooling2D)   (None, 7, 7, 512)         0         \n",
            "_________________________________________________________________\n",
            "flatten (Flatten)            (None, 25088)             0         \n",
            "_________________________________________________________________\n",
            "fc1 (Dense)                  (None, 4096)              102764544 \n",
            "_________________________________________________________________\n",
            "fc2 (Dense)                  (None, 4096)              16781312  \n",
            "_________________________________________________________________\n",
            "predictions (Dense)          (None, 1000)              4097000   \n",
            "=================================================================\n",
            "Total params: 138,357,544\n",
            "Trainable params: 138,357,544\n",
            "Non-trainable params: 0\n",
            "_________________________________________________________________\n"
          ],
          "name": "stdout"
        }
      ]
    },
    {
      "cell_type": "code",
      "metadata": {
        "id": "GG60hKI68aWo",
        "colab_type": "code",
        "colab": {
          "base_uri": "https://localhost:8080/",
          "height": 340
        },
        "outputId": "b786797b-6e15-4d3e-a398-379108c2ccf0"
      },
      "source": [
        "for layers in (vggmodel.layers)[:19]:\n",
        "    print(layers)\n",
        "    layers.trainable = False"
      ],
      "execution_count": null,
      "outputs": [
        {
          "output_type": "stream",
          "text": [
            "<keras.engine.input_layer.InputLayer object at 0x7fd3d09d66d8>\n",
            "<keras.layers.convolutional.Conv2D object at 0x7fd3d09d6080>\n",
            "<keras.layers.convolutional.Conv2D object at 0x7fd3d09d6048>\n",
            "<keras.layers.pooling.MaxPooling2D object at 0x7fd3d09d69b0>\n",
            "<keras.layers.convolutional.Conv2D object at 0x7fd3d09d6198>\n",
            "<keras.layers.convolutional.Conv2D object at 0x7fd3d09d1128>\n",
            "<keras.layers.pooling.MaxPooling2D object at 0x7fd3d09c6390>\n",
            "<keras.layers.convolutional.Conv2D object at 0x7fd3d09c6278>\n",
            "<keras.layers.convolutional.Conv2D object at 0x7fd3d09a6c18>\n",
            "<keras.layers.convolutional.Conv2D object at 0x7fd3d09ab7b8>\n",
            "<keras.layers.pooling.MaxPooling2D object at 0x7fd3d09ab668>\n",
            "<keras.layers.convolutional.Conv2D object at 0x7fd3d09b0208>\n",
            "<keras.layers.convolutional.Conv2D object at 0x7fd3d09b0d68>\n",
            "<keras.layers.convolutional.Conv2D object at 0x7fd3d09b4908>\n",
            "<keras.layers.pooling.MaxPooling2D object at 0x7fd3d09bc390>\n",
            "<keras.layers.convolutional.Conv2D object at 0x7fd3d09bc1d0>\n",
            "<keras.layers.convolutional.Conv2D object at 0x7fd3d09bceb8>\n",
            "<keras.layers.convolutional.Conv2D object at 0x7fd3d0944a58>\n",
            "<keras.layers.pooling.MaxPooling2D object at 0x7fd3d094d4e0>\n"
          ],
          "name": "stdout"
        }
      ]
    },
    {
      "cell_type": "code",
      "metadata": {
        "id": "59taDHdJ8ikh",
        "colab_type": "code",
        "colab": {
          "base_uri": "https://localhost:8080/",
          "height": 71
        },
        "outputId": "81caa83a-f8dd-4a72-fbae-c08dc44fc294"
      },
      "source": [
        "X= vggmodel.layers[-2].output\n",
        "predictions = Dense(4, activation=\"softmax\")(X)\n",
        "model_final = Model(input = vggmodel.input, output = predictions)\n"
      ],
      "execution_count": null,
      "outputs": [
        {
          "output_type": "stream",
          "text": [
            "/usr/local/lib/python3.6/dist-packages/ipykernel_launcher.py:3: UserWarning: Update your `Model` call to the Keras 2 API: `Model(inputs=Tensor(\"in..., outputs=Tensor(\"de...)`\n",
            "  This is separate from the ipykernel package so we can avoid doing imports until\n"
          ],
          "name": "stderr"
        }
      ]
    },
    {
      "cell_type": "code",
      "metadata": {
        "id": "vFYbGbdq8vg8",
        "colab_type": "code",
        "colab": {}
      },
      "source": [
        "model_final.compile(loss = \"categorical_crossentropy\", optimizer = optimizers.Adam(lr=0.0001), metrics=[\"accuracy\"])"
      ],
      "execution_count": null,
      "outputs": []
    },
    {
      "cell_type": "code",
      "metadata": {
        "id": "i6yUCcd08xum",
        "colab_type": "code",
        "colab": {
          "base_uri": "https://localhost:8080/",
          "height": 935
        },
        "outputId": "e6b11435-6996-40e6-fa08-ad8482f55016"
      },
      "source": [
        "model_final.summary()"
      ],
      "execution_count": null,
      "outputs": [
        {
          "output_type": "stream",
          "text": [
            "Model: \"model_4\"\n",
            "_________________________________________________________________\n",
            "Layer (type)                 Output Shape              Param #   \n",
            "=================================================================\n",
            "input_2 (InputLayer)         (None, 224, 224, 3)       0         \n",
            "_________________________________________________________________\n",
            "block1_conv1 (Conv2D)        (None, 224, 224, 64)      1792      \n",
            "_________________________________________________________________\n",
            "block1_conv2 (Conv2D)        (None, 224, 224, 64)      36928     \n",
            "_________________________________________________________________\n",
            "block1_pool (MaxPooling2D)   (None, 112, 112, 64)      0         \n",
            "_________________________________________________________________\n",
            "block2_conv1 (Conv2D)        (None, 112, 112, 128)     73856     \n",
            "_________________________________________________________________\n",
            "block2_conv2 (Conv2D)        (None, 112, 112, 128)     147584    \n",
            "_________________________________________________________________\n",
            "block2_pool (MaxPooling2D)   (None, 56, 56, 128)       0         \n",
            "_________________________________________________________________\n",
            "block3_conv1 (Conv2D)        (None, 56, 56, 256)       295168    \n",
            "_________________________________________________________________\n",
            "block3_conv2 (Conv2D)        (None, 56, 56, 256)       590080    \n",
            "_________________________________________________________________\n",
            "block3_conv3 (Conv2D)        (None, 56, 56, 256)       590080    \n",
            "_________________________________________________________________\n",
            "block3_pool (MaxPooling2D)   (None, 28, 28, 256)       0         \n",
            "_________________________________________________________________\n",
            "block4_conv1 (Conv2D)        (None, 28, 28, 512)       1180160   \n",
            "_________________________________________________________________\n",
            "block4_conv2 (Conv2D)        (None, 28, 28, 512)       2359808   \n",
            "_________________________________________________________________\n",
            "block4_conv3 (Conv2D)        (None, 28, 28, 512)       2359808   \n",
            "_________________________________________________________________\n",
            "block4_pool (MaxPooling2D)   (None, 14, 14, 512)       0         \n",
            "_________________________________________________________________\n",
            "block5_conv1 (Conv2D)        (None, 14, 14, 512)       2359808   \n",
            "_________________________________________________________________\n",
            "block5_conv2 (Conv2D)        (None, 14, 14, 512)       2359808   \n",
            "_________________________________________________________________\n",
            "block5_conv3 (Conv2D)        (None, 14, 14, 512)       2359808   \n",
            "_________________________________________________________________\n",
            "block5_pool (MaxPooling2D)   (None, 7, 7, 512)         0         \n",
            "_________________________________________________________________\n",
            "flatten (Flatten)            (None, 25088)             0         \n",
            "_________________________________________________________________\n",
            "fc1 (Dense)                  (None, 4096)              102764544 \n",
            "_________________________________________________________________\n",
            "fc2 (Dense)                  (None, 4096)              16781312  \n",
            "_________________________________________________________________\n",
            "dense_4 (Dense)              (None, 4)                 16388     \n",
            "=================================================================\n",
            "Total params: 134,276,932\n",
            "Trainable params: 119,562,244\n",
            "Non-trainable params: 14,714,688\n",
            "_________________________________________________________________\n"
          ],
          "name": "stdout"
        }
      ]
    },
    {
      "cell_type": "code",
      "metadata": {
        "id": "UIV1Rie889QA",
        "colab_type": "code",
        "colab": {
          "base_uri": "https://localhost:8080/",
          "height": 1000
        },
        "outputId": "0a4ab104-e865-405e-ae7b-5be73666f205"
      },
      "source": [
        "from keras.callbacks import ModelCheckpoint, EarlyStopping\n",
        "checkpoint = ModelCheckpoint(\"vgg16_1.h5\", monitor='val_acc', verbose=1, save_best_only=True, save_weights_only=False, mode='auto', period=1)\n",
        "early = EarlyStopping(monitor='val_acc', min_delta=0, patience=40, verbose=1, mode='auto')\n",
        "hist=model_final.fit_generator(generator= traindata, steps_per_epoch= 2, epochs= 100, validation_data= testdata, validation_steps=1, callbacks=[checkpoint,early])\n",
        "model_final.save_weights(\"vgg16_1.h5\")"
      ],
      "execution_count": null,
      "outputs": [
        {
          "output_type": "stream",
          "text": [
            "Epoch 1/100\n",
            "2/2 [==============================] - 56s 28s/step - loss: 6.9939 - accuracy: 0.2656 - val_loss: 3.0456 - val_accuracy: 0.2500\n",
            "Epoch 2/100\n"
          ],
          "name": "stdout"
        },
        {
          "output_type": "stream",
          "text": [
            "/usr/local/lib/python3.6/dist-packages/keras/callbacks/callbacks.py:707: RuntimeWarning: Can save best model only with val_acc available, skipping.\n",
            "  'skipping.' % (self.monitor), RuntimeWarning)\n",
            "/usr/local/lib/python3.6/dist-packages/keras/callbacks/callbacks.py:846: RuntimeWarning: Early stopping conditioned on metric `val_acc` which is not available. Available metrics are: val_loss,val_accuracy,loss,accuracy\n",
            "  (self.monitor, ','.join(list(logs.keys()))), RuntimeWarning\n"
          ],
          "name": "stderr"
        },
        {
          "output_type": "stream",
          "text": [
            "2/2 [==============================] - 51s 25s/step - loss: 3.9151 - accuracy: 0.2031 - val_loss: 4.2204 - val_accuracy: 0.2188\n",
            "Epoch 3/100\n",
            "2/2 [==============================] - 51s 26s/step - loss: 4.4651 - accuracy: 0.2500 - val_loss: 3.6001 - val_accuracy: 0.2188\n",
            "Epoch 4/100\n",
            "2/2 [==============================] - 38s 19s/step - loss: 3.5922 - accuracy: 0.1406 - val_loss: 1.1157 - val_accuracy: 0.2500\n",
            "Epoch 5/100\n",
            "2/2 [==============================] - 51s 26s/step - loss: 1.4530 - accuracy: 0.3125 - val_loss: 1.4323 - val_accuracy: 0.3750\n",
            "Epoch 6/100\n",
            "2/2 [==============================] - 51s 26s/step - loss: 1.4599 - accuracy: 0.2500 - val_loss: 1.5109 - val_accuracy: 0.2188\n",
            "Epoch 7/100\n",
            "2/2 [==============================] - 52s 26s/step - loss: 1.3771 - accuracy: 0.3281 - val_loss: 1.3785 - val_accuracy: 0.2812\n",
            "Epoch 8/100\n",
            "2/2 [==============================] - 37s 18s/step - loss: 1.4316 - accuracy: 0.2031 - val_loss: 1.2052 - val_accuracy: 0.7500\n",
            "Epoch 9/100\n",
            "2/2 [==============================] - 50s 25s/step - loss: 1.3783 - accuracy: 0.2656 - val_loss: 1.3338 - val_accuracy: 0.3125\n",
            "Epoch 10/100\n",
            "2/2 [==============================] - 50s 25s/step - loss: 1.3720 - accuracy: 0.3438 - val_loss: 1.3409 - val_accuracy: 0.4375\n",
            "Epoch 11/100\n",
            "2/2 [==============================] - 50s 25s/step - loss: 1.3405 - accuracy: 0.3438 - val_loss: 1.3220 - val_accuracy: 0.4062\n",
            "Epoch 12/100\n",
            "2/2 [==============================] - 37s 18s/step - loss: 1.3246 - accuracy: 0.2969 - val_loss: 1.3587 - val_accuracy: 0.2500\n",
            "Epoch 13/100\n",
            "2/2 [==============================] - 54s 27s/step - loss: 1.3298 - accuracy: 0.3594 - val_loss: 1.3030 - val_accuracy: 0.5625\n",
            "Epoch 14/100\n",
            "2/2 [==============================] - 51s 25s/step - loss: 1.3131 - accuracy: 0.5000 - val_loss: 1.2936 - val_accuracy: 0.4688\n",
            "Epoch 15/100\n",
            "2/2 [==============================] - 51s 25s/step - loss: 1.3090 - accuracy: 0.3906 - val_loss: 1.3079 - val_accuracy: 0.2500\n",
            "Epoch 16/100\n",
            "2/2 [==============================] - 38s 19s/step - loss: 1.3003 - accuracy: 0.3281 - val_loss: 1.4872 - val_accuracy: 0.0000e+00\n",
            "Epoch 17/100\n",
            "2/2 [==============================] - 51s 25s/step - loss: 1.3029 - accuracy: 0.3125 - val_loss: 1.3933 - val_accuracy: 0.0938\n",
            "Epoch 18/100\n",
            "2/2 [==============================] - 51s 25s/step - loss: 1.3153 - accuracy: 0.3438 - val_loss: 1.2240 - val_accuracy: 0.3438\n",
            "Epoch 19/100\n",
            "2/2 [==============================] - 51s 25s/step - loss: 1.3658 - accuracy: 0.2969 - val_loss: 1.2315 - val_accuracy: 0.3750\n",
            "Epoch 20/100\n",
            "2/2 [==============================] - 37s 19s/step - loss: 1.2838 - accuracy: 0.4531 - val_loss: 1.1196 - val_accuracy: 0.5000\n",
            "Epoch 21/100\n",
            "2/2 [==============================] - 50s 25s/step - loss: 1.2015 - accuracy: 0.4844 - val_loss: 1.3488 - val_accuracy: 0.3438\n",
            "Epoch 22/100\n",
            "2/2 [==============================] - 50s 25s/step - loss: 1.3401 - accuracy: 0.2188 - val_loss: 1.3263 - val_accuracy: 0.3750\n",
            "Epoch 23/100\n",
            "2/2 [==============================] - 50s 25s/step - loss: 1.3226 - accuracy: 0.3750 - val_loss: 1.1812 - val_accuracy: 0.5000\n",
            "Epoch 24/100\n",
            "2/2 [==============================] - 36s 18s/step - loss: 1.2722 - accuracy: 0.4375 - val_loss: 1.2994 - val_accuracy: 0.2500\n",
            "Epoch 25/100\n",
            "2/2 [==============================] - 54s 27s/step - loss: 1.2156 - accuracy: 0.3750 - val_loss: 1.2119 - val_accuracy: 0.4062\n",
            "Epoch 26/100\n",
            "2/2 [==============================] - 51s 25s/step - loss: 1.2680 - accuracy: 0.4375 - val_loss: 1.2019 - val_accuracy: 0.5938\n",
            "Epoch 27/100\n",
            "2/2 [==============================] - 51s 25s/step - loss: 1.2126 - accuracy: 0.5938 - val_loss: 1.1960 - val_accuracy: 0.6250\n",
            "Epoch 28/100\n",
            "2/2 [==============================] - 37s 19s/step - loss: 1.2071 - accuracy: 0.6250 - val_loss: 1.0983 - val_accuracy: 0.7500\n",
            "Epoch 29/100\n",
            "2/2 [==============================] - 51s 25s/step - loss: 1.1744 - accuracy: 0.5312 - val_loss: 1.2543 - val_accuracy: 0.4062\n",
            "Epoch 30/100\n",
            "2/2 [==============================] - 51s 25s/step - loss: 1.2189 - accuracy: 0.3906 - val_loss: 1.0627 - val_accuracy: 0.6250\n",
            "Epoch 31/100\n",
            "2/2 [==============================] - 51s 25s/step - loss: 1.1797 - accuracy: 0.5938 - val_loss: 1.1256 - val_accuracy: 0.6250\n",
            "Epoch 32/100\n",
            "2/2 [==============================] - 37s 19s/step - loss: 1.1180 - accuracy: 0.6250 - val_loss: 1.1361 - val_accuracy: 0.7500\n",
            "Epoch 33/100\n",
            "2/2 [==============================] - 50s 25s/step - loss: 1.1633 - accuracy: 0.4688 - val_loss: 1.0352 - val_accuracy: 0.7188\n",
            "Epoch 34/100\n",
            "2/2 [==============================] - 50s 25s/step - loss: 1.2073 - accuracy: 0.5000 - val_loss: 1.3221 - val_accuracy: 0.4375\n",
            "Epoch 35/100\n",
            "2/2 [==============================] - 50s 25s/step - loss: 1.1036 - accuracy: 0.5625 - val_loss: 1.0758 - val_accuracy: 0.5625\n",
            "Epoch 36/100\n",
            "2/2 [==============================] - 37s 18s/step - loss: 1.1767 - accuracy: 0.5469 - val_loss: 1.2311 - val_accuracy: 0.5000\n",
            "Epoch 37/100\n",
            "2/2 [==============================] - 50s 25s/step - loss: 1.0968 - accuracy: 0.5469 - val_loss: 1.0988 - val_accuracy: 0.5312\n",
            "Epoch 38/100\n",
            "2/2 [==============================] - 54s 27s/step - loss: 1.1461 - accuracy: 0.5000 - val_loss: 1.0583 - val_accuracy: 0.6250\n",
            "Epoch 39/100\n",
            "2/2 [==============================] - 51s 25s/step - loss: 1.0875 - accuracy: 0.5938 - val_loss: 1.1467 - val_accuracy: 0.4688\n",
            "Epoch 40/100\n",
            "2/2 [==============================] - 37s 19s/step - loss: 1.1504 - accuracy: 0.3281 - val_loss: 0.9780 - val_accuracy: 0.7500\n",
            "Epoch 41/100\n",
            "2/2 [==============================] - 51s 25s/step - loss: 1.0871 - accuracy: 0.5000 - val_loss: 1.0879 - val_accuracy: 0.3750\n",
            "Epoch 42/100\n",
            "2/2 [==============================] - 51s 25s/step - loss: 1.1126 - accuracy: 0.5000 - val_loss: 1.0164 - val_accuracy: 0.5938\n",
            "Epoch 43/100\n",
            "2/2 [==============================] - 51s 25s/step - loss: 1.0105 - accuracy: 0.6094 - val_loss: 1.0475 - val_accuracy: 0.6250\n",
            "Epoch 44/100\n",
            "2/2 [==============================] - 37s 18s/step - loss: 0.9864 - accuracy: 0.6094 - val_loss: 0.6877 - val_accuracy: 0.7500\n",
            "Epoch 45/100\n",
            "2/2 [==============================] - 51s 25s/step - loss: 1.1260 - accuracy: 0.6094 - val_loss: 0.9668 - val_accuracy: 0.6875\n",
            "Epoch 46/100\n",
            "2/2 [==============================] - 50s 25s/step - loss: 1.1811 - accuracy: 0.5156 - val_loss: 1.0108 - val_accuracy: 0.5312\n",
            "Epoch 47/100\n",
            "2/2 [==============================] - 51s 25s/step - loss: 1.0349 - accuracy: 0.6562 - val_loss: 1.0068 - val_accuracy: 0.5938\n",
            "Epoch 48/100\n",
            "2/2 [==============================] - 36s 18s/step - loss: 0.9457 - accuracy: 0.6250 - val_loss: 1.5440 - val_accuracy: 0.5000\n",
            "Epoch 49/100\n",
            "2/2 [==============================] - 50s 25s/step - loss: 0.9441 - accuracy: 0.6094 - val_loss: 1.0091 - val_accuracy: 0.4375\n",
            "Epoch 50/100\n",
            "2/2 [==============================] - 54s 27s/step - loss: 0.9977 - accuracy: 0.4688 - val_loss: 1.0283 - val_accuracy: 0.4688\n",
            "Epoch 51/100\n",
            "2/2 [==============================] - 51s 25s/step - loss: 1.0052 - accuracy: 0.6406 - val_loss: 0.8715 - val_accuracy: 0.6875\n",
            "Epoch 52/100\n",
            "2/2 [==============================] - 37s 19s/step - loss: 1.0174 - accuracy: 0.5938 - val_loss: 1.3650 - val_accuracy: 0.2500\n",
            "Epoch 53/100\n",
            "2/2 [==============================] - 51s 25s/step - loss: 0.9867 - accuracy: 0.5000 - val_loss: 0.9205 - val_accuracy: 0.5938\n",
            "Epoch 54/100\n",
            "2/2 [==============================] - 51s 25s/step - loss: 0.9812 - accuracy: 0.5312 - val_loss: 1.0447 - val_accuracy: 0.7188\n",
            "Epoch 55/100\n",
            "2/2 [==============================] - 54s 27s/step - loss: 1.0356 - accuracy: 0.5938 - val_loss: 0.9313 - val_accuracy: 0.5625\n",
            "Epoch 56/100\n",
            "2/2 [==============================] - 37s 19s/step - loss: 0.9832 - accuracy: 0.6562 - val_loss: 1.0103 - val_accuracy: 0.5000\n",
            "Epoch 57/100\n",
            "2/2 [==============================] - 51s 25s/step - loss: 0.9607 - accuracy: 0.6406 - val_loss: 0.8684 - val_accuracy: 0.5938\n",
            "Epoch 58/100\n",
            "2/2 [==============================] - 50s 25s/step - loss: 0.9990 - accuracy: 0.5781 - val_loss: 0.9002 - val_accuracy: 0.7188\n",
            "Epoch 59/100\n",
            "2/2 [==============================] - 50s 25s/step - loss: 0.9763 - accuracy: 0.5000 - val_loss: 0.9270 - val_accuracy: 0.5625\n",
            "Epoch 60/100\n",
            "2/2 [==============================] - 36s 18s/step - loss: 0.9261 - accuracy: 0.5469 - val_loss: 1.2936 - val_accuracy: 0.7500\n",
            "Epoch 61/100\n",
            "2/2 [==============================] - 50s 25s/step - loss: 1.0094 - accuracy: 0.6094 - val_loss: 0.8587 - val_accuracy: 0.4688\n",
            "Epoch 62/100\n",
            "2/2 [==============================] - 50s 25s/step - loss: 0.8112 - accuracy: 0.7031 - val_loss: 1.0307 - val_accuracy: 0.5938\n",
            "Epoch 63/100\n",
            "2/2 [==============================] - 54s 27s/step - loss: 0.9590 - accuracy: 0.5625 - val_loss: 0.8443 - val_accuracy: 0.7188\n",
            "Epoch 64/100\n",
            "2/2 [==============================] - 37s 19s/step - loss: 1.0056 - accuracy: 0.5312 - val_loss: 0.5426 - val_accuracy: 1.0000\n",
            "Epoch 65/100\n",
            "2/2 [==============================] - 51s 25s/step - loss: 1.0200 - accuracy: 0.5625 - val_loss: 0.9959 - val_accuracy: 0.6250\n",
            "Epoch 66/100\n",
            "2/2 [==============================] - 51s 25s/step - loss: 0.9479 - accuracy: 0.6406 - val_loss: 0.8465 - val_accuracy: 0.5625\n",
            "Epoch 67/100\n",
            "2/2 [==============================] - 51s 25s/step - loss: 0.8241 - accuracy: 0.6250 - val_loss: 0.8978 - val_accuracy: 0.5312\n",
            "Epoch 68/100\n",
            "2/2 [==============================] - 37s 19s/step - loss: 0.9895 - accuracy: 0.5469 - val_loss: 0.6311 - val_accuracy: 0.7500\n",
            "Epoch 69/100\n",
            "2/2 [==============================] - 51s 25s/step - loss: 0.9993 - accuracy: 0.5469 - val_loss: 0.7805 - val_accuracy: 0.7188\n",
            "Epoch 70/100\n",
            "2/2 [==============================] - 50s 25s/step - loss: 0.8548 - accuracy: 0.6562 - val_loss: 0.7733 - val_accuracy: 0.7500\n",
            "Epoch 71/100\n",
            "2/2 [==============================] - 50s 25s/step - loss: 0.7769 - accuracy: 0.7031 - val_loss: 0.9584 - val_accuracy: 0.5938\n",
            "Epoch 72/100\n",
            "2/2 [==============================] - 37s 19s/step - loss: 0.8928 - accuracy: 0.6406 - val_loss: 0.4637 - val_accuracy: 1.0000\n",
            "Epoch 73/100\n",
            "2/2 [==============================] - 50s 25s/step - loss: 0.8663 - accuracy: 0.7188 - val_loss: 0.8700 - val_accuracy: 0.6875\n",
            "Epoch 74/100\n",
            "2/2 [==============================] - 50s 25s/step - loss: 1.0954 - accuracy: 0.5156 - val_loss: 0.8808 - val_accuracy: 0.5938\n",
            "Epoch 75/100\n",
            "2/2 [==============================] - 54s 27s/step - loss: 0.8597 - accuracy: 0.6562 - val_loss: 0.8180 - val_accuracy: 0.6250\n",
            "Epoch 76/100\n",
            "2/2 [==============================] - 37s 19s/step - loss: 1.0116 - accuracy: 0.4844 - val_loss: 0.4844 - val_accuracy: 0.7500\n",
            "Epoch 77/100\n",
            "2/2 [==============================] - 51s 25s/step - loss: 0.8788 - accuracy: 0.5469 - val_loss: 0.6941 - val_accuracy: 0.6562\n",
            "Epoch 78/100\n",
            "2/2 [==============================] - 51s 25s/step - loss: 0.8491 - accuracy: 0.5625 - val_loss: 0.9141 - val_accuracy: 0.4375\n",
            "Epoch 79/100\n",
            "2/2 [==============================] - 51s 25s/step - loss: 0.9375 - accuracy: 0.5312 - val_loss: 0.8537 - val_accuracy: 0.5625\n",
            "Epoch 80/100\n",
            "2/2 [==============================] - 37s 19s/step - loss: 0.8649 - accuracy: 0.6094 - val_loss: 1.8465 - val_accuracy: 0.2500\n",
            "Epoch 81/100\n",
            "2/2 [==============================] - 51s 25s/step - loss: 0.8446 - accuracy: 0.6875 - val_loss: 0.8696 - val_accuracy: 0.6250\n",
            "Epoch 82/100\n",
            "2/2 [==============================] - 51s 25s/step - loss: 0.7293 - accuracy: 0.7031 - val_loss: 0.6864 - val_accuracy: 0.7500\n",
            "Epoch 83/100\n",
            "2/2 [==============================] - 50s 25s/step - loss: 0.8899 - accuracy: 0.6719 - val_loss: 0.7952 - val_accuracy: 0.6562\n",
            "Epoch 84/100\n",
            "2/2 [==============================] - 37s 18s/step - loss: 0.7048 - accuracy: 0.7344 - val_loss: 0.4815 - val_accuracy: 1.0000\n",
            "Epoch 85/100\n",
            "2/2 [==============================] - 50s 25s/step - loss: 0.9361 - accuracy: 0.6250 - val_loss: 0.8634 - val_accuracy: 0.6250\n",
            "Epoch 86/100\n",
            "2/2 [==============================] - 50s 25s/step - loss: 0.8341 - accuracy: 0.6250 - val_loss: 0.7202 - val_accuracy: 0.6562\n",
            "Epoch 87/100\n",
            "2/2 [==============================] - 50s 25s/step - loss: 0.7359 - accuracy: 0.6719 - val_loss: 0.7736 - val_accuracy: 0.6875\n",
            "Epoch 88/100\n",
            "2/2 [==============================] - 41s 20s/step - loss: 0.8337 - accuracy: 0.7188 - val_loss: 0.7320 - val_accuracy: 0.7500\n",
            "Epoch 89/100\n",
            "2/2 [==============================] - 51s 25s/step - loss: 0.9295 - accuracy: 0.7031 - val_loss: 0.7913 - val_accuracy: 0.7812\n",
            "Epoch 90/100\n",
            "2/2 [==============================] - 51s 25s/step - loss: 0.7579 - accuracy: 0.6719 - val_loss: 0.7113 - val_accuracy: 0.6875\n",
            "Epoch 91/100\n",
            "2/2 [==============================] - 51s 25s/step - loss: 0.8557 - accuracy: 0.6250 - val_loss: 0.6965 - val_accuracy: 0.6875\n",
            "Epoch 92/100\n",
            "2/2 [==============================] - 37s 18s/step - loss: 0.7502 - accuracy: 0.6562 - val_loss: 0.6115 - val_accuracy: 0.7500\n",
            "Epoch 93/100\n",
            "2/2 [==============================] - 51s 25s/step - loss: 0.7642 - accuracy: 0.6719 - val_loss: 0.8829 - val_accuracy: 0.5938\n",
            "Epoch 94/100\n",
            "2/2 [==============================] - 51s 25s/step - loss: 0.6752 - accuracy: 0.7188 - val_loss: 0.5516 - val_accuracy: 0.8125\n",
            "Epoch 95/100\n",
            "2/2 [==============================] - 50s 25s/step - loss: 0.7733 - accuracy: 0.7344 - val_loss: 0.7820 - val_accuracy: 0.7500\n",
            "Epoch 96/100\n",
            "2/2 [==============================] - 36s 18s/step - loss: 0.7920 - accuracy: 0.6562 - val_loss: 0.6935 - val_accuracy: 0.5000\n",
            "Epoch 97/100\n",
            "2/2 [==============================] - 50s 25s/step - loss: 0.8279 - accuracy: 0.6406 - val_loss: 0.6070 - val_accuracy: 0.8125\n",
            "Epoch 98/100\n",
            "2/2 [==============================] - 50s 25s/step - loss: 0.8170 - accuracy: 0.6250 - val_loss: 0.7298 - val_accuracy: 0.7812\n",
            "Epoch 99/100\n",
            "2/2 [==============================] - 50s 25s/step - loss: 0.7499 - accuracy: 0.7188 - val_loss: 0.8617 - val_accuracy: 0.5938\n",
            "Epoch 100/100\n",
            "2/2 [==============================] - 40s 20s/step - loss: 0.7810 - accuracy: 0.5938 - val_loss: 0.5375 - val_accuracy: 0.7500\n"
          ],
          "name": "stdout"
        }
      ]
    },
    {
      "cell_type": "code",
      "metadata": {
        "id": "YtQxWrIlPU_M",
        "colab_type": "code",
        "colab": {
          "base_uri": "https://localhost:8080/",
          "height": 295
        },
        "outputId": "2e857ebb-922c-449e-de18-8a2a89ab9d80"
      },
      "source": [
        "import matplotlib.pyplot as plt\n",
        "plt.plot(hist.history[\"accuracy\"])\n",
        "plt.plot(hist.history['val_accuracy'])\n",
        "plt.plot(hist.history['loss'])\n",
        "plt.plot(hist.history['val_loss'])\n",
        "plt.title(\"model accuracy\")\n",
        "plt.ylabel(\"Accuracy\")\n",
        "plt.xlabel(\"Epoch\")\n",
        "plt.legend([\"Accuracy\",\"Validation Accuracy\",\"loss\",\"Validation Loss\"])\n",
        "plt.show()"
      ],
      "execution_count": 100,
      "outputs": [
        {
          "output_type": "display_data",
          "data": {
            "image/png": "[encoded data removed]",
            "text/plain": [
              "<Figure size 432x288 with 1 Axes>"
            ]
          },
          "metadata": {
            "tags": [],
            "needs_background": "light"
          }
        }
      ]
    },
    {
      "cell_type": "code",
      "metadata": {
        "id": "_2GdDycwS52M",
        "colab_type": "code",
        "colab": {}
      },
      "source": [
        "from keras.preprocessing.image import ImageDataGenerator\n",
        "from sklearn.metrics import classification_report, confusion_matrix\n",
        "\n",
        "test_datagen = ImageDataGenerator(rescale=1. / 255)"
      ],
      "execution_count": 101,
      "outputs": []
    },
    {
      "cell_type": "code",
      "metadata": {
        "id": "9-fknWZIS-CT",
        "colab_type": "code",
        "colab": {
          "base_uri": "https://localhost:8080/",
          "height": 34
        },
        "outputId": "ed300b5b-a58f-4bf9-a66c-af20335093be"
      },
      "source": [
        "validation_generator = test_datagen.flow_from_directory('/content/drive/My Drive/data_ouput/test',\n",
        "                                                        target_size=(224, 224),\n",
        "                                                        batch_size=32,\n",
        "                                                        class_mode='categorical')"
      ],
      "execution_count": 102,
      "outputs": [
        {
          "output_type": "stream",
          "text": [
            "Found 100 images belonging to 4 classes.\n"
          ],
          "name": "stdout"
        }
      ]
    },
    {
      "cell_type": "code",
      "metadata": {
        "id": "RSoXpGKcTEnR",
        "colab_type": "code",
        "colab": {
          "base_uri": "https://localhost:8080/",
          "height": 306
        },
        "outputId": "8e39a1af-2b39-4acd-9442-b60dd97575cf"
      },
      "source": [
        "import numpy as np\n",
        "#Confution Matrix and Classification Report\n",
        "Y_pred = model_final.predict_generator(validation_generator)\n",
        "y_pred = np.argmax(Y_pred, axis=1)\n",
        "print('Confusion Matrix')\n",
        "print(confusion_matrix(validation_generator.classes, y_pred))\n",
        "print('Classification Report')\n",
        "target_names = ['grade0', 'grade1', 'grade2','grade3']\n",
        "print(classification_report(validation_generator.classes, y_pred, target_names=target_names))"
      ],
      "execution_count": 104,
      "outputs": [
        {
          "output_type": "stream",
          "text": [
            "Confusion Matrix\n",
            "[[ 6  4  5 10]\n",
            " [ 3  3  7 12]\n",
            " [ 8  2  6  9]\n",
            " [ 4  2  7 12]]\n",
            "Classification Report\n",
            "              precision    recall  f1-score   support\n",
            "\n",
            "      grade0       0.29      0.24      0.26        25\n",
            "      grade1       0.27      0.12      0.17        25\n",
            "      grade2       0.24      0.24      0.24        25\n",
            "      grade3       0.28      0.48      0.35        25\n",
            "\n",
            "    accuracy                           0.27       100\n",
            "   macro avg       0.27      0.27      0.26       100\n",
            "weighted avg       0.27      0.27      0.26       100\n",
            "\n"
          ],
          "name": "stdout"
        }
      ]
    },
    {
      "cell_type": "code",
      "metadata": {
        "id": "B-E18MG6VMMN",
        "colab_type": "code",
        "colab": {
          "base_uri": "https://localhost:8080/",
          "height": 269
        },
        "outputId": "129f55b2-dea7-4588-a3bb-e309fbc41056"
      },
      "source": [
        "from keras.preprocessing import image\n",
        "import matplotlib.pyplot as plt\n",
        "\n",
        "img = image.load_img(\"/content/drive/My Drive/data_ouput/val/grade2/grade2-130.jpg\",target_size=(224,224))\n",
        "img = np.asarray(img)\n",
        "plt.imshow(img)\n",
        "img = np.expand_dims(img, axis=0)"
      ],
      "execution_count": 105,
      "outputs": [
        {
          "output_type": "display_data",
          "data": {
            "image/png": "[encoded data removed]",
            "text/plain": [
              "<Figure size 432x288 with 1 Axes>"
            ]
          },
          "metadata": {
            "tags": [],
            "needs_background": "light"
          }
        }
      ]
    },
    {
      "cell_type": "code",
      "metadata": {
        "id": "Ux21nwVeV0mE",
        "colab_type": "code",
        "colab": {}
      },
      "source": [
        "output = model_final.predict(img)"
      ],
      "execution_count": 106,
      "outputs": []
    },
    {
      "cell_type": "code",
      "metadata": {
        "id": "crw2NNGyV7kN",
        "colab_type": "code",
        "colab": {
          "base_uri": "https://localhost:8080/",
          "height": 34
        },
        "outputId": "553c3470-c939-4b50-890e-d94b3672bbeb"
      },
      "source": [
        "output\n",
        "ans='grade'+str(np.argmax(output[0],axis=0))\n",
        "print(ans)"
      ],
      "execution_count": 107,
      "outputs": [
        {
          "output_type": "stream",
          "text": [
            "grade2\n"
          ],
          "name": "stdout"
        }
      ]
    },
    {
      "cell_type": "code",
      "metadata": {
        "id": "YbH-5BZmX-K4",
        "colab_type": "code",
        "colab": {
          "base_uri": "https://localhost:8080/",
          "height": 153
        },
        "outputId": "4ad0c59a-1307-42d0-aa95-71bbe46e1ec9"
      },
      "source": [
        "import os\n",
        "data_path='/content/drive/My Drive/data_output/val'\n",
        "data_dir_list=os.listdir(data_path)\n",
        "for dataset in data_dir_list:\n",
        "  print(dataset)\n",
        "  img_list=os.listdir(data_path+'/'+dataset)\n",
        "  correctCount=0\n",
        "  wrongCount=0\n",
        "  for img in img_list:\n",
        "    img_path=data_path+'/'+dataset+'/'+img\n",
        "    input_image = image.load_img(img_path,target_size=(224,224))\n",
        "    input_image = np.asarray(input_image)\n",
        "    input_image = np.expand_dims(input_image, axis=0)\n",
        "    output = model_final.predict(input_image)\n",
        "    ans='grade'+str(np.argmax(output[0],axis=0))\n",
        "    if( ans in img):\n",
        "      correctCount+=1\n",
        "    else:\n",
        "      wrongCount+=1\n",
        "  print(\"correct Count {} WrongCount {}\".format(correctCount,wrongCount))\n",
        "\n",
        "\n"
      ],
      "execution_count": 109,
      "outputs": [
        {
          "output_type": "stream",
          "text": [
            "grade1\n",
            "correct Count 0 WrongCount 50\n",
            "grade0\n",
            "correct Count 28 WrongCount 22\n",
            "grade2\n",
            "correct Count 44 WrongCount 6\n",
            "grade3\n",
            "correct Count 0 WrongCount 50\n"
          ],
          "name": "stdout"
        }
      ]
    },
    {
      "cell_type": "code",
      "metadata": {
        "id": "PiiV053i4At7",
        "colab_type": "code",
        "colab": {}
      },
      "source": [
        "model_final.save('model.h5')"
      ],
      "execution_count": null,
      "outputs": []
    }
  ]
}