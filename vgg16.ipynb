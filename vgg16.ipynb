{
  "nbformat": 4,
  "nbformat_minor": 0,
  "metadata": {
    "colab": {
      "name": "vgg16",
      "provenance": [],
      "mount_file_id": "1IhyoGy7EHEgj120Y7aEt15WFbYJP6aXH",
      "authorship_tag": "ABX9TyNj6jU2Vt+N1pW8se90w4AK",
      "include_colab_link": true
    },
    "kernelspec": {
      "name": "python3",
      "display_name": "Python 3"
    }
  },
  "cells": [
    {
      "cell_type": "markdown",
      "metadata": {
        "id": "view-in-github",
        "colab_type": "text"
      },
      "source": [
        "<a href=\"https://colab.research.google.com/github/pranitha2144/Internship-iith/blob/Resnet/vgg16.ipynb\" target=\"_parent\"><img src=\"https://colab.research.google.com/assets/colab-badge.svg\" alt=\"Open In Colab\"/></a>"
      ]
    },
    {
      "cell_type": "code",
      "metadata": {
        "id": "3i-5qcxM7pSC",
        "colab_type": "code",
        "colab": {}
      },
      "source": [
        "import keras\n",
        "from keras.models import Model\n",
        "from keras.layers import Dense\n",
        "from keras import optimizers\n",
        "from keras.preprocessing.image import ImageDataGenerator\n",
        "from keras.preprocessing import image"
      ],
      "execution_count": null,
      "outputs": []
    },
    {
      "cell_type": "code",
      "metadata": {
        "id": "P_NCAugx70fs",
        "colab_type": "code",
        "colab": {
          "base_uri": "https://localhost:8080/",
          "height": 51
        },
        "outputId": "04265fba-d1df-41bf-947d-3d76efae2071"
      },
      "source": [
        "trdata = ImageDataGenerator(\n",
        "    width_shift_range=0.2,\n",
        "    height_shift_range=0.2,\n",
        "    shear_range=0.2,\n",
        "    zoom_range=0.2,\n",
        "    horizontal_flip=True,\n",
        "    vertical_flip=True,\n",
        "    )\n",
        "traindata = trdata.flow_from_directory(directory=\"/content/drive/My Drive/data_ouput/train\",target_size=(224,224))\n",
        "tsdata = ImageDataGenerator()\n",
        "testdata = tsdata.flow_from_directory(directory=\"/content/drive/My Drive/data_ouput/val\", target_size=(224,224))"
      ],
      "execution_count": 113,
      "outputs": [
        {
          "output_type": "stream",
          "text": [
            "Found 800 images belonging to 4 classes.\n",
            "Found 100 images belonging to 4 classes.\n"
          ],
          "name": "stdout"
        }
      ]
    },
    {
      "cell_type": "code",
      "metadata": {
        "id": "rg_JdtWb8O00",
        "colab_type": "code",
        "colab": {}
      },
      "source": [
        "from keras.applications.vgg16 import VGG16\n",
        "vggmodel = VGG16(weights='imagenet', include_top=True)"
      ],
      "execution_count": 114,
      "outputs": []
    },
    {
      "cell_type": "code",
      "metadata": {
        "id": "PKuEFjHt8TfJ",
        "colab_type": "code",
        "colab": {
          "base_uri": "https://localhost:8080/",
          "height": 935
        },
        "outputId": "47f34ba7-3ad6-45ac-bd51-1390cd5c973e"
      },
      "source": [
        "vggmodel.summary()"
      ],
      "execution_count": 115,
      "outputs": [
        {
          "output_type": "stream",
          "text": [
            "Model: \"vgg16\"\n",
            "_________________________________________________________________\n",
            "Layer (type)                 Output Shape              Param #   \n",
            "=================================================================\n",
            "input_3 (InputLayer)         (None, 224, 224, 3)       0         \n",
            "_________________________________________________________________\n",
            "block1_conv1 (Conv2D)        (None, 224, 224, 64)      1792      \n",
            "_________________________________________________________________\n",
            "block1_conv2 (Conv2D)        (None, 224, 224, 64)      36928     \n",
            "_________________________________________________________________\n",
            "block1_pool (MaxPooling2D)   (None, 112, 112, 64)      0         \n",
            "_________________________________________________________________\n",
            "block2_conv1 (Conv2D)        (None, 112, 112, 128)     73856     \n",
            "_________________________________________________________________\n",
            "block2_conv2 (Conv2D)        (None, 112, 112, 128)     147584    \n",
            "_________________________________________________________________\n",
            "block2_pool (MaxPooling2D)   (None, 56, 56, 128)       0         \n",
            "_________________________________________________________________\n",
            "block3_conv1 (Conv2D)        (None, 56, 56, 256)       295168    \n",
            "_________________________________________________________________\n",
            "block3_conv2 (Conv2D)        (None, 56, 56, 256)       590080    \n",
            "_________________________________________________________________\n",
            "block3_conv3 (Conv2D)        (None, 56, 56, 256)       590080    \n",
            "_________________________________________________________________\n",
            "block3_pool (MaxPooling2D)   (None, 28, 28, 256)       0         \n",
            "_________________________________________________________________\n",
            "block4_conv1 (Conv2D)        (None, 28, 28, 512)       1180160   \n",
            "_________________________________________________________________\n",
            "block4_conv2 (Conv2D)        (None, 28, 28, 512)       2359808   \n",
            "_________________________________________________________________\n",
            "block4_conv3 (Conv2D)        (None, 28, 28, 512)       2359808   \n",
            "_________________________________________________________________\n",
            "block4_pool (MaxPooling2D)   (None, 14, 14, 512)       0         \n",
            "_________________________________________________________________\n",
            "block5_conv1 (Conv2D)        (None, 14, 14, 512)       2359808   \n",
            "_________________________________________________________________\n",
            "block5_conv2 (Conv2D)        (None, 14, 14, 512)       2359808   \n",
            "_________________________________________________________________\n",
            "block5_conv3 (Conv2D)        (None, 14, 14, 512)       2359808   \n",
            "_________________________________________________________________\n",
            "block5_pool (MaxPooling2D)   (None, 7, 7, 512)         0         \n",
            "_________________________________________________________________\n",
            "flatten (Flatten)            (None, 25088)             0         \n",
            "_________________________________________________________________\n",
            "fc1 (Dense)                  (None, 4096)              102764544 \n",
            "_________________________________________________________________\n",
            "fc2 (Dense)                  (None, 4096)              16781312  \n",
            "_________________________________________________________________\n",
            "predictions (Dense)          (None, 1000)              4097000   \n",
            "=================================================================\n",
            "Total params: 138,357,544\n",
            "Trainable params: 138,357,544\n",
            "Non-trainable params: 0\n",
            "_________________________________________________________________\n"
          ],
          "name": "stdout"
        }
      ]
    },
    {
      "cell_type": "code",
      "metadata": {
        "id": "GG60hKI68aWo",
        "colab_type": "code",
        "colab": {
          "base_uri": "https://localhost:8080/",
          "height": 340
        },
        "outputId": "ea088587-10d1-4739-d4fa-579f7e1caaac"
      },
      "source": [
        "for layers in (vggmodel.layers)[:19]:\n",
        "    print(layers)\n",
        "    layers.trainable = False"
      ],
      "execution_count": 116,
      "outputs": [
        {
          "output_type": "stream",
          "text": [
            "<keras.engine.input_layer.InputLayer object at 0x7fd3cfd3ba20>\n",
            "<keras.layers.convolutional.Conv2D object at 0x7fd3cfd3b9b0>\n",
            "<keras.layers.convolutional.Conv2D object at 0x7fd3d09d1da0>\n",
            "<keras.layers.pooling.MaxPooling2D object at 0x7fd3cfdb3a20>\n",
            "<keras.layers.convolutional.Conv2D object at 0x7fd3cfd98d68>\n",
            "<keras.layers.convolutional.Conv2D object at 0x7fd3cfd4fac8>\n",
            "<keras.layers.pooling.MaxPooling2D object at 0x7fd3cfdb3128>\n",
            "<keras.layers.convolutional.Conv2D object at 0x7fd3cfd8bac8>\n",
            "<keras.layers.convolutional.Conv2D object at 0x7fd3cfdb1be0>\n",
            "<keras.layers.convolutional.Conv2D object at 0x7fd3cfdda240>\n",
            "<keras.layers.pooling.MaxPooling2D object at 0x7fd3cfcb49e8>\n",
            "<keras.layers.convolutional.Conv2D object at 0x7fd3cfcb4828>\n",
            "<keras.layers.convolutional.Conv2D object at 0x7fd3cfd6d518>\n",
            "<keras.layers.convolutional.Conv2D object at 0x7fd3cfd6de10>\n",
            "<keras.layers.pooling.MaxPooling2D object at 0x7fd3cfd68b38>\n",
            "<keras.layers.convolutional.Conv2D object at 0x7fd3cfd68978>\n",
            "<keras.layers.convolutional.Conv2D object at 0x7fd3cfd64668>\n",
            "<keras.layers.convolutional.Conv2D object at 0x7fd3cfd64e10>\n",
            "<keras.layers.pooling.MaxPooling2D object at 0x7fd3cfcefc88>\n"
          ],
          "name": "stdout"
        }
      ]
    },
    {
      "cell_type": "code",
      "metadata": {
        "id": "59taDHdJ8ikh",
        "colab_type": "code",
        "colab": {
          "base_uri": "https://localhost:8080/",
          "height": 71
        },
        "outputId": "e4b562dc-f869-4c4d-98d4-88464ff09af2"
      },
      "source": [
        "X= vggmodel.layers[-2].output\n",
        "predictions = Dense(4, activation=\"softmax\")(X)\n",
        "model_final = Model(input = vggmodel.input, output = predictions)\n"
      ],
      "execution_count": 117,
      "outputs": [
        {
          "output_type": "stream",
          "text": [
            "/usr/local/lib/python3.6/dist-packages/ipykernel_launcher.py:3: UserWarning: Update your `Model` call to the Keras 2 API: `Model(inputs=Tensor(\"in..., outputs=Tensor(\"de...)`\n",
            "  This is separate from the ipykernel package so we can avoid doing imports until\n"
          ],
          "name": "stderr"
        }
      ]
    },
    {
      "cell_type": "code",
      "metadata": {
        "id": "vFYbGbdq8vg8",
        "colab_type": "code",
        "colab": {}
      },
      "source": [
        "model_final.compile(loss = \"categorical_crossentropy\", optimizer = optimizers.Adam(lr=0.0001), metrics=[\"accuracy\"])"
      ],
      "execution_count": 118,
      "outputs": []
    },
    {
      "cell_type": "code",
      "metadata": {
        "id": "i6yUCcd08xum",
        "colab_type": "code",
        "colab": {
          "base_uri": "https://localhost:8080/",
          "height": 935
        },
        "outputId": "c94c4dea-b7d1-4714-a84f-623bda41ffce"
      },
      "source": [
        "model_final.summary()"
      ],
      "execution_count": 119,
      "outputs": [
        {
          "output_type": "stream",
          "text": [
            "Model: \"model_5\"\n",
            "_________________________________________________________________\n",
            "Layer (type)                 Output Shape              Param #   \n",
            "=================================================================\n",
            "input_3 (InputLayer)         (None, 224, 224, 3)       0         \n",
            "_________________________________________________________________\n",
            "block1_conv1 (Conv2D)        (None, 224, 224, 64)      1792      \n",
            "_________________________________________________________________\n",
            "block1_conv2 (Conv2D)        (None, 224, 224, 64)      36928     \n",
            "_________________________________________________________________\n",
            "block1_pool (MaxPooling2D)   (None, 112, 112, 64)      0         \n",
            "_________________________________________________________________\n",
            "block2_conv1 (Conv2D)        (None, 112, 112, 128)     73856     \n",
            "_________________________________________________________________\n",
            "block2_conv2 (Conv2D)        (None, 112, 112, 128)     147584    \n",
            "_________________________________________________________________\n",
            "block2_pool (MaxPooling2D)   (None, 56, 56, 128)       0         \n",
            "_________________________________________________________________\n",
            "block3_conv1 (Conv2D)        (None, 56, 56, 256)       295168    \n",
            "_________________________________________________________________\n",
            "block3_conv2 (Conv2D)        (None, 56, 56, 256)       590080    \n",
            "_________________________________________________________________\n",
            "block3_conv3 (Conv2D)        (None, 56, 56, 256)       590080    \n",
            "_________________________________________________________________\n",
            "block3_pool (MaxPooling2D)   (None, 28, 28, 256)       0         \n",
            "_________________________________________________________________\n",
            "block4_conv1 (Conv2D)        (None, 28, 28, 512)       1180160   \n",
            "_________________________________________________________________\n",
            "block4_conv2 (Conv2D)        (None, 28, 28, 512)       2359808   \n",
            "_________________________________________________________________\n",
            "block4_conv3 (Conv2D)        (None, 28, 28, 512)       2359808   \n",
            "_________________________________________________________________\n",
            "block4_pool (MaxPooling2D)   (None, 14, 14, 512)       0         \n",
            "_________________________________________________________________\n",
            "block5_conv1 (Conv2D)        (None, 14, 14, 512)       2359808   \n",
            "_________________________________________________________________\n",
            "block5_conv2 (Conv2D)        (None, 14, 14, 512)       2359808   \n",
            "_________________________________________________________________\n",
            "block5_conv3 (Conv2D)        (None, 14, 14, 512)       2359808   \n",
            "_________________________________________________________________\n",
            "block5_pool (MaxPooling2D)   (None, 7, 7, 512)         0         \n",
            "_________________________________________________________________\n",
            "flatten (Flatten)            (None, 25088)             0         \n",
            "_________________________________________________________________\n",
            "fc1 (Dense)                  (None, 4096)              102764544 \n",
            "_________________________________________________________________\n",
            "fc2 (Dense)                  (None, 4096)              16781312  \n",
            "_________________________________________________________________\n",
            "dense_5 (Dense)              (None, 4)                 16388     \n",
            "=================================================================\n",
            "Total params: 134,276,932\n",
            "Trainable params: 119,562,244\n",
            "Non-trainable params: 14,714,688\n",
            "_________________________________________________________________\n"
          ],
          "name": "stdout"
        }
      ]
    },
    {
      "cell_type": "code",
      "metadata": {
        "id": "UIV1Rie889QA",
        "colab_type": "code",
        "colab": {
          "base_uri": "https://localhost:8080/",
          "height": 1000
        },
        "outputId": "ea999a86-e79f-4952-8a32-a42d74dbe99b"
      },
      "source": [
        "from keras.callbacks import ModelCheckpoint, EarlyStopping\n",
        "checkpoint = ModelCheckpoint(\"vgg16_1.h5\", monitor='val_acc', verbose=1, save_best_only=True, save_weights_only=False, mode='auto', period=1)\n",
        "early = EarlyStopping(monitor='val_acc', min_delta=0, patience=40, verbose=1, mode='auto')\n",
        "hist=model_final.fit_generator(generator= traindata, steps_per_epoch= 2, epochs= 100, validation_data= testdata, validation_steps=1, callbacks=[checkpoint,early])\n",
        "model_final.save_weights(\"vgg16_1.h5\")"
      ],
      "execution_count": 120,
      "outputs": [
        {
          "output_type": "stream",
          "text": [
            "Epoch 1/100\n",
            "2/2 [==============================] - 56s 28s/step - loss: 2.8292 - accuracy: 0.2656 - val_loss: 5.2262 - val_accuracy: 0.3438\n",
            "Epoch 2/100\n"
          ],
          "name": "stdout"
        },
        {
          "output_type": "stream",
          "text": [
            "/usr/local/lib/python3.6/dist-packages/keras/callbacks/callbacks.py:707: RuntimeWarning: Can save best model only with val_acc available, skipping.\n",
            "  'skipping.' % (self.monitor), RuntimeWarning)\n",
            "/usr/local/lib/python3.6/dist-packages/keras/callbacks/callbacks.py:846: RuntimeWarning: Early stopping conditioned on metric `val_acc` which is not available. Available metrics are: val_loss,val_accuracy,loss,accuracy\n",
            "  (self.monitor, ','.join(list(logs.keys()))), RuntimeWarning\n"
          ],
          "name": "stderr"
        },
        {
          "output_type": "stream",
          "text": [
            "2/2 [==============================] - 51s 26s/step - loss: 3.6435 - accuracy: 0.4531 - val_loss: 1.5536 - val_accuracy: 0.4062\n",
            "Epoch 3/100\n",
            "2/2 [==============================] - 51s 26s/step - loss: 1.4359 - accuracy: 0.4375 - val_loss: 1.7615 - val_accuracy: 0.2500\n",
            "Epoch 4/100\n",
            "2/2 [==============================] - 37s 19s/step - loss: 1.1902 - accuracy: 0.4844 - val_loss: 1.6782 - val_accuracy: 0.5000\n",
            "Epoch 5/100\n",
            "2/2 [==============================] - 51s 26s/step - loss: 1.1190 - accuracy: 0.5156 - val_loss: 0.8182 - val_accuracy: 0.6562\n",
            "Epoch 6/100\n",
            "2/2 [==============================] - 51s 26s/step - loss: 0.7197 - accuracy: 0.6719 - val_loss: 0.9864 - val_accuracy: 0.6562\n",
            "Epoch 7/100\n",
            "2/2 [==============================] - 51s 26s/step - loss: 0.9472 - accuracy: 0.5469 - val_loss: 0.7276 - val_accuracy: 0.7500\n",
            "Epoch 8/100\n",
            "2/2 [==============================] - 37s 18s/step - loss: 0.7288 - accuracy: 0.7031 - val_loss: 0.5818 - val_accuracy: 0.7500\n",
            "Epoch 9/100\n",
            "2/2 [==============================] - 50s 25s/step - loss: 0.8653 - accuracy: 0.7031 - val_loss: 0.9264 - val_accuracy: 0.5938\n",
            "Epoch 10/100\n",
            "2/2 [==============================] - 50s 25s/step - loss: 0.7451 - accuracy: 0.6406 - val_loss: 0.7341 - val_accuracy: 0.6562\n",
            "Epoch 11/100\n",
            "2/2 [==============================] - 50s 25s/step - loss: 0.7222 - accuracy: 0.6094 - val_loss: 0.4462 - val_accuracy: 0.8125\n",
            "Epoch 12/100\n",
            "2/2 [==============================] - 37s 18s/step - loss: 0.7750 - accuracy: 0.6094 - val_loss: 0.5778 - val_accuracy: 0.7500\n",
            "Epoch 13/100\n",
            "2/2 [==============================] - 55s 27s/step - loss: 0.5551 - accuracy: 0.7812 - val_loss: 0.6699 - val_accuracy: 0.6562\n",
            "Epoch 14/100\n",
            "2/2 [==============================] - 51s 26s/step - loss: 0.6747 - accuracy: 0.7812 - val_loss: 0.6763 - val_accuracy: 0.6562\n",
            "Epoch 15/100\n",
            "2/2 [==============================] - 51s 25s/step - loss: 0.6029 - accuracy: 0.7812 - val_loss: 0.6024 - val_accuracy: 0.7188\n",
            "Epoch 16/100\n",
            "2/2 [==============================] - 37s 19s/step - loss: 0.5365 - accuracy: 0.7656 - val_loss: 0.4734 - val_accuracy: 0.7500\n",
            "Epoch 17/100\n",
            "2/2 [==============================] - 51s 26s/step - loss: 0.5156 - accuracy: 0.7812 - val_loss: 0.5860 - val_accuracy: 0.8125\n",
            "Epoch 18/100\n",
            "2/2 [==============================] - 51s 26s/step - loss: 0.7184 - accuracy: 0.7656 - val_loss: 0.3238 - val_accuracy: 0.8438\n",
            "Epoch 19/100\n",
            "2/2 [==============================] - 51s 26s/step - loss: 0.8038 - accuracy: 0.7031 - val_loss: 0.6435 - val_accuracy: 0.7188\n",
            "Epoch 20/100\n",
            "2/2 [==============================] - 37s 19s/step - loss: 0.4107 - accuracy: 0.8125 - val_loss: 0.7253 - val_accuracy: 0.7500\n",
            "Epoch 21/100\n",
            "2/2 [==============================] - 50s 25s/step - loss: 0.6973 - accuracy: 0.7500 - val_loss: 0.4662 - val_accuracy: 0.8125\n",
            "Epoch 22/100\n",
            "2/2 [==============================] - 50s 25s/step - loss: 0.5424 - accuracy: 0.7812 - val_loss: 0.5584 - val_accuracy: 0.8438\n",
            "Epoch 23/100\n",
            "2/2 [==============================] - 50s 25s/step - loss: 0.5427 - accuracy: 0.7500 - val_loss: 0.9598 - val_accuracy: 0.6562\n",
            "Epoch 24/100\n",
            "2/2 [==============================] - 37s 18s/step - loss: 0.6344 - accuracy: 0.8281 - val_loss: 0.3389 - val_accuracy: 1.0000\n",
            "Epoch 25/100\n",
            "2/2 [==============================] - 53s 27s/step - loss: 0.4834 - accuracy: 0.8438 - val_loss: 0.7553 - val_accuracy: 0.7188\n",
            "Epoch 26/100\n",
            "2/2 [==============================] - 51s 25s/step - loss: 0.5374 - accuracy: 0.7344 - val_loss: 0.5143 - val_accuracy: 0.8125\n",
            "Epoch 27/100\n",
            "2/2 [==============================] - 51s 25s/step - loss: 0.4383 - accuracy: 0.8125 - val_loss: 0.6876 - val_accuracy: 0.7188\n",
            "Epoch 28/100\n",
            "2/2 [==============================] - 37s 19s/step - loss: 0.4410 - accuracy: 0.8594 - val_loss: 0.5413 - val_accuracy: 0.7500\n",
            "Epoch 29/100\n",
            "2/2 [==============================] - 51s 25s/step - loss: 0.7158 - accuracy: 0.8125 - val_loss: 0.4787 - val_accuracy: 0.8125\n",
            "Epoch 30/100\n",
            "2/2 [==============================] - 51s 25s/step - loss: 0.4838 - accuracy: 0.8438 - val_loss: 0.7605 - val_accuracy: 0.6875\n",
            "Epoch 31/100\n",
            "2/2 [==============================] - 51s 26s/step - loss: 0.4469 - accuracy: 0.7812 - val_loss: 0.6194 - val_accuracy: 0.7500\n",
            "Epoch 32/100\n",
            "2/2 [==============================] - 37s 19s/step - loss: 0.4996 - accuracy: 0.7656 - val_loss: 0.6861 - val_accuracy: 0.7500\n",
            "Epoch 33/100\n",
            "2/2 [==============================] - 50s 25s/step - loss: 0.7537 - accuracy: 0.7188 - val_loss: 0.5547 - val_accuracy: 0.7188\n",
            "Epoch 34/100\n",
            "2/2 [==============================] - 51s 25s/step - loss: 0.5733 - accuracy: 0.7812 - val_loss: 0.6240 - val_accuracy: 0.7188\n",
            "Epoch 35/100\n",
            "2/2 [==============================] - 50s 25s/step - loss: 0.3880 - accuracy: 0.7812 - val_loss: 0.3210 - val_accuracy: 0.8750\n",
            "Epoch 36/100\n",
            "2/2 [==============================] - 37s 18s/step - loss: 0.7876 - accuracy: 0.7031 - val_loss: 1.1619 - val_accuracy: 0.5000\n",
            "Epoch 37/100\n",
            "2/2 [==============================] - 50s 25s/step - loss: 0.5958 - accuracy: 0.8125 - val_loss: 0.6626 - val_accuracy: 0.7500\n",
            "Epoch 38/100\n",
            "2/2 [==============================] - 54s 27s/step - loss: 0.7161 - accuracy: 0.7500 - val_loss: 0.3820 - val_accuracy: 0.8125\n",
            "Epoch 39/100\n",
            "2/2 [==============================] - 52s 26s/step - loss: 0.4586 - accuracy: 0.8281 - val_loss: 0.6519 - val_accuracy: 0.7812\n",
            "Epoch 40/100\n",
            "2/2 [==============================] - 37s 19s/step - loss: 0.5526 - accuracy: 0.7656 - val_loss: 0.2948 - val_accuracy: 0.7500\n",
            "Epoch 41/100\n",
            "2/2 [==============================] - 51s 26s/step - loss: 0.3983 - accuracy: 0.8125 - val_loss: 0.7537 - val_accuracy: 0.7812\n",
            "Epoch 42/100\n",
            "2/2 [==============================] - 51s 26s/step - loss: 0.7133 - accuracy: 0.7344 - val_loss: 0.7006 - val_accuracy: 0.7812\n",
            "Epoch 43/100\n",
            "2/2 [==============================] - 51s 26s/step - loss: 0.6587 - accuracy: 0.7031 - val_loss: 0.3440 - val_accuracy: 0.8750\n",
            "Epoch 44/100\n",
            "2/2 [==============================] - 38s 19s/step - loss: 0.4852 - accuracy: 0.8438 - val_loss: 0.5446 - val_accuracy: 0.7500\n",
            "Epoch 45/100\n",
            "2/2 [==============================] - 51s 25s/step - loss: 0.5270 - accuracy: 0.7656 - val_loss: 0.5225 - val_accuracy: 0.7812\n",
            "Epoch 46/100\n",
            "2/2 [==============================] - 50s 25s/step - loss: 0.4197 - accuracy: 0.8281 - val_loss: 0.7417 - val_accuracy: 0.7500\n",
            "Epoch 47/100\n",
            "2/2 [==============================] - 50s 25s/step - loss: 0.5364 - accuracy: 0.7188 - val_loss: 0.3690 - val_accuracy: 0.8438\n",
            "Epoch 48/100\n",
            "2/2 [==============================] - 37s 18s/step - loss: 0.4667 - accuracy: 0.8281 - val_loss: 0.1775 - val_accuracy: 1.0000\n",
            "Epoch 49/100\n",
            "2/2 [==============================] - 50s 25s/step - loss: 0.6901 - accuracy: 0.7344 - val_loss: 0.4923 - val_accuracy: 0.7500\n",
            "Epoch 50/100\n",
            "2/2 [==============================] - 54s 27s/step - loss: 0.7182 - accuracy: 0.6562 - val_loss: 0.7015 - val_accuracy: 0.6875\n",
            "Epoch 51/100\n",
            "2/2 [==============================] - 51s 26s/step - loss: 0.4721 - accuracy: 0.7969 - val_loss: 0.5175 - val_accuracy: 0.7188\n",
            "Epoch 52/100\n",
            "2/2 [==============================] - 38s 19s/step - loss: 0.4192 - accuracy: 0.8438 - val_loss: 0.4123 - val_accuracy: 0.7500\n",
            "Epoch 53/100\n",
            "2/2 [==============================] - 51s 26s/step - loss: 0.5243 - accuracy: 0.7969 - val_loss: 0.3719 - val_accuracy: 0.7812\n",
            "Epoch 54/100\n",
            "2/2 [==============================] - 51s 26s/step - loss: 0.4371 - accuracy: 0.8281 - val_loss: 0.4141 - val_accuracy: 0.8125\n",
            "Epoch 55/100\n",
            "2/2 [==============================] - 51s 26s/step - loss: 0.5761 - accuracy: 0.7969 - val_loss: 0.6491 - val_accuracy: 0.6562\n",
            "Epoch 56/100\n",
            "2/2 [==============================] - 38s 19s/step - loss: 0.4961 - accuracy: 0.8125 - val_loss: 0.2487 - val_accuracy: 1.0000\n",
            "Epoch 57/100\n",
            "2/2 [==============================] - 51s 25s/step - loss: 0.5257 - accuracy: 0.8438 - val_loss: 0.4775 - val_accuracy: 0.7812\n",
            "Epoch 58/100\n",
            "2/2 [==============================] - 50s 25s/step - loss: 0.3945 - accuracy: 0.8125 - val_loss: 0.2474 - val_accuracy: 0.9375\n",
            "Epoch 59/100\n",
            "2/2 [==============================] - 51s 25s/step - loss: 0.4829 - accuracy: 0.7969 - val_loss: 0.5375 - val_accuracy: 0.7188\n",
            "Epoch 60/100\n",
            "2/2 [==============================] - 37s 18s/step - loss: 0.3900 - accuracy: 0.8906 - val_loss: 0.6802 - val_accuracy: 0.7500\n",
            "Epoch 61/100\n",
            "2/2 [==============================] - 50s 25s/step - loss: 0.5732 - accuracy: 0.8281 - val_loss: 0.6883 - val_accuracy: 0.6250\n",
            "Epoch 62/100\n",
            "2/2 [==============================] - 51s 25s/step - loss: 0.4518 - accuracy: 0.7969 - val_loss: 0.3737 - val_accuracy: 0.8750\n",
            "Epoch 63/100\n",
            "2/2 [==============================] - 55s 27s/step - loss: 0.5138 - accuracy: 0.7969 - val_loss: 0.3949 - val_accuracy: 0.8438\n",
            "Epoch 64/100\n",
            "2/2 [==============================] - 38s 19s/step - loss: 0.4883 - accuracy: 0.7812 - val_loss: 0.1727 - val_accuracy: 1.0000\n",
            "Epoch 65/100\n",
            "2/2 [==============================] - 51s 26s/step - loss: 0.5415 - accuracy: 0.7500 - val_loss: 0.3678 - val_accuracy: 0.8750\n",
            "Epoch 66/100\n",
            "2/2 [==============================] - 51s 26s/step - loss: 0.8069 - accuracy: 0.7812 - val_loss: 0.5482 - val_accuracy: 0.7812\n",
            "Epoch 67/100\n",
            "2/2 [==============================] - 51s 26s/step - loss: 0.4810 - accuracy: 0.7656 - val_loss: 0.6248 - val_accuracy: 0.6562\n",
            "Epoch 68/100\n",
            "2/2 [==============================] - 37s 19s/step - loss: 0.6410 - accuracy: 0.6875 - val_loss: 0.0961 - val_accuracy: 1.0000\n",
            "Epoch 69/100\n",
            "2/2 [==============================] - 51s 26s/step - loss: 0.5437 - accuracy: 0.7969 - val_loss: 0.4384 - val_accuracy: 0.8125\n",
            "Epoch 70/100\n",
            "2/2 [==============================] - 51s 25s/step - loss: 0.4669 - accuracy: 0.7656 - val_loss: 0.6874 - val_accuracy: 0.6562\n",
            "Epoch 71/100\n",
            "2/2 [==============================] - 51s 25s/step - loss: 0.5115 - accuracy: 0.7812 - val_loss: 0.6873 - val_accuracy: 0.7500\n",
            "Epoch 72/100\n",
            "2/2 [==============================] - 37s 18s/step - loss: 0.7168 - accuracy: 0.7031 - val_loss: 0.8112 - val_accuracy: 0.7500\n",
            "Epoch 73/100\n",
            "2/2 [==============================] - 50s 25s/step - loss: 0.5042 - accuracy: 0.7812 - val_loss: 0.5127 - val_accuracy: 0.7812\n",
            "Epoch 74/100\n",
            "2/2 [==============================] - 51s 25s/step - loss: 0.3871 - accuracy: 0.8438 - val_loss: 0.6512 - val_accuracy: 0.6562\n",
            "Epoch 75/100\n",
            "2/2 [==============================] - 54s 27s/step - loss: 0.7711 - accuracy: 0.7344 - val_loss: 0.4464 - val_accuracy: 0.7812\n",
            "Epoch 76/100\n",
            "2/2 [==============================] - 37s 19s/step - loss: 0.5942 - accuracy: 0.7344 - val_loss: 0.1203 - val_accuracy: 1.0000\n",
            "Epoch 77/100\n",
            "2/2 [==============================] - 51s 26s/step - loss: 0.4963 - accuracy: 0.7500 - val_loss: 0.4630 - val_accuracy: 0.7500\n",
            "Epoch 78/100\n",
            "2/2 [==============================] - 51s 26s/step - loss: 0.4931 - accuracy: 0.7969 - val_loss: 0.5231 - val_accuracy: 0.7812\n",
            "Epoch 79/100\n",
            "2/2 [==============================] - 52s 26s/step - loss: 0.4263 - accuracy: 0.8438 - val_loss: 0.4832 - val_accuracy: 0.8750\n",
            "Epoch 80/100\n",
            "2/2 [==============================] - 37s 19s/step - loss: 0.7116 - accuracy: 0.7969 - val_loss: 0.6155 - val_accuracy: 0.7500\n",
            "Epoch 81/100\n",
            "2/2 [==============================] - 51s 26s/step - loss: 0.5179 - accuracy: 0.7812 - val_loss: 0.4220 - val_accuracy: 0.8125\n",
            "Epoch 82/100\n",
            "2/2 [==============================] - 51s 26s/step - loss: 0.4019 - accuracy: 0.8281 - val_loss: 0.5040 - val_accuracy: 0.7188\n",
            "Epoch 83/100\n",
            "2/2 [==============================] - 50s 25s/step - loss: 0.4828 - accuracy: 0.8125 - val_loss: 0.5080 - val_accuracy: 0.7812\n",
            "Epoch 84/100\n",
            "2/2 [==============================] - 36s 18s/step - loss: 0.5216 - accuracy: 0.8125 - val_loss: 0.0759 - val_accuracy: 1.0000\n",
            "Epoch 85/100\n",
            "2/2 [==============================] - 50s 25s/step - loss: 0.3751 - accuracy: 0.7812 - val_loss: 0.7660 - val_accuracy: 0.6250\n",
            "Epoch 86/100\n",
            "2/2 [==============================] - 50s 25s/step - loss: 0.5198 - accuracy: 0.7344 - val_loss: 0.2685 - val_accuracy: 0.8750\n",
            "Epoch 87/100\n",
            "2/2 [==============================] - 50s 25s/step - loss: 0.3225 - accuracy: 0.8750 - val_loss: 0.4177 - val_accuracy: 0.8125\n",
            "Epoch 88/100\n",
            "2/2 [==============================] - 40s 20s/step - loss: 0.5839 - accuracy: 0.7812 - val_loss: 0.3181 - val_accuracy: 0.7500\n",
            "Epoch 89/100\n",
            "2/2 [==============================] - 51s 25s/step - loss: 0.6097 - accuracy: 0.7500 - val_loss: 0.6225 - val_accuracy: 0.7500\n",
            "Epoch 90/100\n",
            "2/2 [==============================] - 51s 26s/step - loss: 0.5103 - accuracy: 0.8125 - val_loss: 0.2263 - val_accuracy: 0.9375\n",
            "Epoch 91/100\n",
            "2/2 [==============================] - 51s 25s/step - loss: 0.4464 - accuracy: 0.8594 - val_loss: 0.5636 - val_accuracy: 0.6875\n",
            "Epoch 92/100\n",
            "2/2 [==============================] - 37s 19s/step - loss: 0.4514 - accuracy: 0.7344 - val_loss: 0.2857 - val_accuracy: 0.7500\n",
            "Epoch 93/100\n",
            "2/2 [==============================] - 51s 25s/step - loss: 0.3857 - accuracy: 0.8281 - val_loss: 0.6372 - val_accuracy: 0.7500\n",
            "Epoch 94/100\n",
            "2/2 [==============================] - 51s 26s/step - loss: 0.4734 - accuracy: 0.8438 - val_loss: 0.3292 - val_accuracy: 0.9375\n",
            "Epoch 95/100\n",
            "2/2 [==============================] - 51s 25s/step - loss: 0.4335 - accuracy: 0.8281 - val_loss: 0.4248 - val_accuracy: 0.7812\n",
            "Epoch 96/100\n",
            "2/2 [==============================] - 37s 18s/step - loss: 0.3858 - accuracy: 0.7969 - val_loss: 0.1608 - val_accuracy: 1.0000\n",
            "Epoch 97/100\n",
            "2/2 [==============================] - 50s 25s/step - loss: 0.3931 - accuracy: 0.8594 - val_loss: 0.4264 - val_accuracy: 0.7812\n",
            "Epoch 98/100\n",
            "2/2 [==============================] - 50s 25s/step - loss: 0.4336 - accuracy: 0.8281 - val_loss: 0.4899 - val_accuracy: 0.8750\n",
            "Epoch 99/100\n",
            "2/2 [==============================] - 51s 25s/step - loss: 0.3646 - accuracy: 0.8438 - val_loss: 0.5781 - val_accuracy: 0.7188\n",
            "Epoch 100/100\n",
            "2/2 [==============================] - 40s 20s/step - loss: 0.2280 - accuracy: 0.9219 - val_loss: 0.0969 - val_accuracy: 1.0000\n"
          ],
          "name": "stdout"
        }
      ]
    },
    {
      "cell_type": "code",
      "metadata": {
        "id": "YtQxWrIlPU_M",
        "colab_type": "code",
        "colab": {
          "base_uri": "https://localhost:8080/",
          "height": 295
        },
        "outputId": "8a6f290e-3980-48ad-a75a-ba311e0d8853"
      },
      "source": [
        "import matplotlib.pyplot as plt\n",
        "plt.plot(hist.history[\"accuracy\"])\n",
        "plt.plot(hist.history['val_accuracy'])\n",
        "plt.plot(hist.history['loss'])\n",
        "plt.plot(hist.history['val_loss'])\n",
        "plt.title(\"model accuracy\")\n",
        "plt.ylabel(\"Accuracy\")\n",
        "plt.xlabel(\"Epoch\")\n",
        "plt.legend([\"Accuracy\",\"Validation Accuracy\",\"loss\",\"Validation Loss\"])\n",
        "plt.show()"
      ],
      "execution_count": 122,
      "outputs": [
        {
          "output_type": "display_data",
          "data": {
            "image/png": "[encoded data removed]",
            "text/plain": [
              "<Figure size 432x288 with 1 Axes>"
            ]
          },
          "metadata": {
            "tags": [],
            "needs_background": "light"
          }
        }
      ]
    },
    {
      "cell_type": "code",
      "metadata": {
        "id": "_2GdDycwS52M",
        "colab_type": "code",
        "colab": {}
      },
      "source": [
        "from keras.preprocessing.image import ImageDataGenerator\n",
        "from sklearn.metrics import classification_report, confusion_matrix\n",
        "\n",
        "test_datagen = ImageDataGenerator(rescale=1. / 255)"
      ],
      "execution_count": 123,
      "outputs": []
    },
    {
      "cell_type": "code",
      "metadata": {
        "id": "9-fknWZIS-CT",
        "colab_type": "code",
        "colab": {
          "base_uri": "https://localhost:8080/",
          "height": 34
        },
        "outputId": "f8e853b1-7226-48f4-c22b-e1f13ebdcebf"
      },
      "source": [
        "validation_generator = test_datagen.flow_from_directory('/content/drive/My Drive/data_ouput/test',\n",
        "                                                        target_size=(224, 224),\n",
        "                                                        batch_size=32,\n",
        "                                                        class_mode='categorical')"
      ],
      "execution_count": 124,
      "outputs": [
        {
          "output_type": "stream",
          "text": [
            "Found 100 images belonging to 4 classes.\n"
          ],
          "name": "stdout"
        }
      ]
    },
    {
      "cell_type": "code",
      "metadata": {
        "id": "RSoXpGKcTEnR",
        "colab_type": "code",
        "colab": {
          "base_uri": "https://localhost:8080/",
          "height": 360
        },
        "outputId": "ca66bcc1-c087-4563-f8bf-da77a5feaa6d"
      },
      "source": [
        "import numpy as np\n",
        "#Confution Matrix and Classification Report\n",
        "Y_pred = model_final.predict_generator(validation_generator)\n",
        "y_pred = np.argmax(Y_pred, axis=1)\n",
        "print('Confusion Matrix')\n",
        "print(confusion_matrix(validation_generator.classes, y_pred))\n",
        "print('Classification Report')\n",
        "target_names = ['grade0', 'grade1', 'grade2','grade3']\n",
        "print(classification_report(validation_generator.classes, y_pred, target_names=target_names))"
      ],
      "execution_count": 126,
      "outputs": [
        {
          "output_type": "stream",
          "text": [
            "Confusion Matrix\n",
            "[[25  0  0  0]\n",
            " [25  0  0  0]\n",
            " [25  0  0  0]\n",
            " [25  0  0  0]]\n",
            "Classification Report\n",
            "              precision    recall  f1-score   support\n",
            "\n",
            "      grade0       0.25      1.00      0.40        25\n",
            "      grade1       0.00      0.00      0.00        25\n",
            "      grade2       0.00      0.00      0.00        25\n",
            "      grade3       0.00      0.00      0.00        25\n",
            "\n",
            "    accuracy                           0.25       100\n",
            "   macro avg       0.06      0.25      0.10       100\n",
            "weighted avg       0.06      0.25      0.10       100\n",
            "\n"
          ],
          "name": "stdout"
        },
        {
          "output_type": "stream",
          "text": [
            "/usr/local/lib/python3.6/dist-packages/sklearn/metrics/_classification.py:1272: UndefinedMetricWarning: Precision and F-score are ill-defined and being set to 0.0 in labels with no predicted samples. Use `zero_division` parameter to control this behavior.\n",
            "  _warn_prf(average, modifier, msg_start, len(result))\n"
          ],
          "name": "stderr"
        }
      ]
    },
    {
      "cell_type": "code",
      "metadata": {
        "id": "B-E18MG6VMMN",
        "colab_type": "code",
        "colab": {
          "base_uri": "https://localhost:8080/",
          "height": 269
        },
        "outputId": "3d00c47a-699f-4414-c04a-b4fbfb88567a"
      },
      "source": [
        "from keras.preprocessing import image\n",
        "import matplotlib.pyplot as plt\n",
        "\n",
        "img = image.load_img(\"/content/drive/My Drive/data_ouput/val/grade2/grade2-130.jpg\",target_size=(224,224))\n",
        "img = np.asarray(img)\n",
        "plt.imshow(img)\n",
        "img = np.expand_dims(img, axis=0)"
      ],
      "execution_count": 127,
      "outputs": [
        {
          "output_type": "display_data",
          "data": {
            "image/png": "[encoded data removed]",
            "text/plain": [
              "<Figure size 432x288 with 1 Axes>"
            ]
          },
          "metadata": {
            "tags": [],
            "needs_background": "light"
          }
        }
      ]
    },
    {
      "cell_type": "code",
      "metadata": {
        "id": "Ux21nwVeV0mE",
        "colab_type": "code",
        "colab": {}
      },
      "source": [
        "output = model_final.predict(img)"
      ],
      "execution_count": 128,
      "outputs": []
    },
    {
      "cell_type": "code",
      "metadata": {
        "id": "crw2NNGyV7kN",
        "colab_type": "code",
        "colab": {
          "base_uri": "https://localhost:8080/",
          "height": 34
        },
        "outputId": "539f4fb1-e194-481d-9ae2-93d9a3556f2d"
      },
      "source": [
        "output\n",
        "ans='grade'+str(np.argmax(output[0],axis=0))\n",
        "print(ans)"
      ],
      "execution_count": 129,
      "outputs": [
        {
          "output_type": "stream",
          "text": [
            "grade2\n"
          ],
          "name": "stdout"
        }
      ]
    },
    {
      "cell_type": "code",
      "metadata": {
        "id": "YbH-5BZmX-K4",
        "colab_type": "code",
        "colab": {
          "base_uri": "https://localhost:8080/",
          "height": 153
        },
        "outputId": "299150f5-69fe-4ca1-c5e6-c1a68fafb167"
      },
      "source": [
        "import os\n",
        "data_path='/content/drive/My Drive/data_output/val'\n",
        "data_dir_list=os.listdir(data_path)\n",
        "for dataset in data_dir_list:\n",
        "  print(dataset)\n",
        "  img_list=os.listdir(data_path+'/'+dataset)\n",
        "  correctCount=0\n",
        "  wrongCount=0\n",
        "  for img in img_list:\n",
        "    img_path=data_path+'/'+dataset+'/'+img\n",
        "    input_image = image.load_img(img_path,target_size=(224,224))\n",
        "    input_image = np.asarray(input_image)\n",
        "    input_image = np.expand_dims(input_image, axis=0)\n",
        "    output = model_final.predict(input_image)\n",
        "    ans='grade'+str(np.argmax(output[0],axis=0))\n",
        "    if( ans in img):\n",
        "      correctCount+=1\n",
        "    else:\n",
        "      wrongCount+=1\n",
        "  print(\"correct Count {} WrongCount {}\".format(correctCount,wrongCount))\n",
        "\n",
        "\n"
      ],
      "execution_count": 130,
      "outputs": [
        {
          "output_type": "stream",
          "text": [
            "grade1\n",
            "correct Count 38 WrongCount 12\n",
            "grade0\n",
            "correct Count 45 WrongCount 5\n",
            "grade2\n",
            "correct Count 49 WrongCount 1\n",
            "grade3\n",
            "correct Count 26 WrongCount 24\n"
          ],
          "name": "stdout"
        }
      ]
    },
    {
      "cell_type": "code",
      "metadata": {
        "id": "PiiV053i4At7",
        "colab_type": "code",
        "colab": {}
      },
      "source": [
        "model_final.save('model.h5')"
      ],
      "execution_count": null,
      "outputs": []
    }
  ]
}