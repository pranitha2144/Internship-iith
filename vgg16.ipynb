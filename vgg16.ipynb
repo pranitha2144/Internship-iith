{
  "nbformat": 4,
  "nbformat_minor": 0,
  "metadata": {
    "colab": {
      "name": "vgg16",
      "provenance": [],
      "collapsed_sections": [],
      "mount_file_id": "1IhyoGy7EHEgj120Y7aEt15WFbYJP6aXH",
      "authorship_tag": "ABX9TyNrjJPdSnG8K6hnouC09mxl",
      "include_colab_link": true
    },
    "kernelspec": {
      "name": "python3",
      "display_name": "Python 3"
    }
  },
  "cells": [
    {
      "cell_type": "markdown",
      "metadata": {
        "id": "view-in-github",
        "colab_type": "text"
      },
      "source": [
        "<a href=\"https://colab.research.google.com/github/pranitha2144/Internship-iith/blob/Resnet/vgg16.ipynb\" target=\"_parent\"><img src=\"https://colab.research.google.com/assets/colab-badge.svg\" alt=\"Open In Colab\"/></a>"
      ]
    },
    {
      "cell_type": "code",
      "metadata": {
        "id": "rWTXB3jkEwTZ",
        "colab_type": "code",
        "colab": {}
      },
      "source": [
        "import keras\n",
        "from keras.models import Model\n",
        "from keras.layers import Dense,Dropout\n",
        "from keras import optimizers\n",
        "from keras.preprocessing.image import ImageDataGenerator\n",
        "from keras.preprocessing import image\n",
        "from tensorflow.keras.applications.vgg16 import preprocess_input"
      ],
      "execution_count": 18,
      "outputs": []
    },
    {
      "cell_type": "code",
      "metadata": {
        "id": "QPOQU3c5E3x9",
        "colab_type": "code",
        "colab": {
          "base_uri": "https://localhost:8080/",
          "height": 51
        },
        "outputId": "f38d4eaf-245e-426e-ed18-8dd536a758b1"
      },
      "source": [
        "trdata = ImageDataGenerator()\n",
        "traindata = trdata.flow_from_directory(directory=\"/content/drive/My Drive/data_ouput/train\",target_size=(224,224))\n",
        "tsdata = ImageDataGenerator()\n",
        "testdata = tsdata.flow_from_directory(directory=\"/content/drive/My Drive/data_ouput/val\", target_size=(224,224))"
      ],
      "execution_count": 19,
      "outputs": [
        {
          "output_type": "stream",
          "text": [
            "Found 800 images belonging to 4 classes.\n",
            "Found 100 images belonging to 4 classes.\n"
          ],
          "name": "stdout"
        }
      ]
    },
    {
      "cell_type": "code",
      "metadata": {
        "id": "SIwXu9HSE-sD",
        "colab_type": "code",
        "colab": {}
      },
      "source": [
        "from keras.applications.vgg16 import VGG16\n",
        "vggmodel = VGG16(weights='imagenet',include_top=True)"
      ],
      "execution_count": 20,
      "outputs": []
    },
    {
      "cell_type": "code",
      "metadata": {
        "id": "yfbg7qlwFBkG",
        "colab_type": "code",
        "colab": {
          "base_uri": "https://localhost:8080/",
          "height": 935
        },
        "outputId": "a78e5a4a-3c65-44c8-e0bc-abf3d06182be"
      },
      "source": [
        "vggmodel.summary()"
      ],
      "execution_count": 21,
      "outputs": [
        {
          "output_type": "stream",
          "text": [
            "Model: \"vgg16\"\n",
            "_________________________________________________________________\n",
            "Layer (type)                 Output Shape              Param #   \n",
            "=================================================================\n",
            "input_2 (InputLayer)         (None, 224, 224, 3)       0         \n",
            "_________________________________________________________________\n",
            "block1_conv1 (Conv2D)        (None, 224, 224, 64)      1792      \n",
            "_________________________________________________________________\n",
            "block1_conv2 (Conv2D)        (None, 224, 224, 64)      36928     \n",
            "_________________________________________________________________\n",
            "block1_pool (MaxPooling2D)   (None, 112, 112, 64)      0         \n",
            "_________________________________________________________________\n",
            "block2_conv1 (Conv2D)        (None, 112, 112, 128)     73856     \n",
            "_________________________________________________________________\n",
            "block2_conv2 (Conv2D)        (None, 112, 112, 128)     147584    \n",
            "_________________________________________________________________\n",
            "block2_pool (MaxPooling2D)   (None, 56, 56, 128)       0         \n",
            "_________________________________________________________________\n",
            "block3_conv1 (Conv2D)        (None, 56, 56, 256)       295168    \n",
            "_________________________________________________________________\n",
            "block3_conv2 (Conv2D)        (None, 56, 56, 256)       590080    \n",
            "_________________________________________________________________\n",
            "block3_conv3 (Conv2D)        (None, 56, 56, 256)       590080    \n",
            "_________________________________________________________________\n",
            "block3_pool (MaxPooling2D)   (None, 28, 28, 256)       0         \n",
            "_________________________________________________________________\n",
            "block4_conv1 (Conv2D)        (None, 28, 28, 512)       1180160   \n",
            "_________________________________________________________________\n",
            "block4_conv2 (Conv2D)        (None, 28, 28, 512)       2359808   \n",
            "_________________________________________________________________\n",
            "block4_conv3 (Conv2D)        (None, 28, 28, 512)       2359808   \n",
            "_________________________________________________________________\n",
            "block4_pool (MaxPooling2D)   (None, 14, 14, 512)       0         \n",
            "_________________________________________________________________\n",
            "block5_conv1 (Conv2D)        (None, 14, 14, 512)       2359808   \n",
            "_________________________________________________________________\n",
            "block5_conv2 (Conv2D)        (None, 14, 14, 512)       2359808   \n",
            "_________________________________________________________________\n",
            "block5_conv3 (Conv2D)        (None, 14, 14, 512)       2359808   \n",
            "_________________________________________________________________\n",
            "block5_pool (MaxPooling2D)   (None, 7, 7, 512)         0         \n",
            "_________________________________________________________________\n",
            "flatten (Flatten)            (None, 25088)             0         \n",
            "_________________________________________________________________\n",
            "fc1 (Dense)                  (None, 4096)              102764544 \n",
            "_________________________________________________________________\n",
            "fc2 (Dense)                  (None, 4096)              16781312  \n",
            "_________________________________________________________________\n",
            "predictions (Dense)          (None, 1000)              4097000   \n",
            "=================================================================\n",
            "Total params: 138,357,544\n",
            "Trainable params: 138,357,544\n",
            "Non-trainable params: 0\n",
            "_________________________________________________________________\n"
          ],
          "name": "stdout"
        }
      ]
    },
    {
      "cell_type": "code",
      "metadata": {
        "id": "KTUeNavkFEv5",
        "colab_type": "code",
        "colab": {
          "base_uri": "https://localhost:8080/",
          "height": 34
        },
        "outputId": "e9628368-eb59-4b57-ac3c-fe57c98a3b36"
      },
      "source": [
        "type(vggmodel)"
      ],
      "execution_count": 22,
      "outputs": [
        {
          "output_type": "execute_result",
          "data": {
            "text/plain": [
              "keras.engine.training.Model"
            ]
          },
          "metadata": {
            "tags": []
          },
          "execution_count": 22
        }
      ]
    },
    {
      "cell_type": "code",
      "metadata": {
        "id": "LK2efF4yFKMw",
        "colab_type": "code",
        "colab": {
          "base_uri": "https://localhost:8080/",
          "height": 34
        },
        "outputId": "b1ea42be-aafe-4fc6-b2de-9b61c986418a"
      },
      "source": [
        "vggmodel.layers.pop()\n",
        "vggmodel.layers.pop()\n",
        "vggmodel.layers.pop()"
      ],
      "execution_count": 23,
      "outputs": [
        {
          "output_type": "execute_result",
          "data": {
            "text/plain": [
              "<keras.layers.core.Dense at 0x7ff7a4545e80>"
            ]
          },
          "metadata": {
            "tags": []
          },
          "execution_count": 23
        }
      ]
    },
    {
      "cell_type": "code",
      "metadata": {
        "id": "0YuQqGIXFPUL",
        "colab_type": "code",
        "colab": {
          "base_uri": "https://localhost:8080/",
          "height": 357
        },
        "outputId": "55e6a637-4cdf-40c3-d59e-8d53b94dc230"
      },
      "source": [
        "for layers in (vggmodel.layers):\n",
        "    print(layers)\n",
        "    layers.trainable = False"
      ],
      "execution_count": 24,
      "outputs": [
        {
          "output_type": "stream",
          "text": [
            "<keras.engine.input_layer.InputLayer object at 0x7ff7a55e3a58>\n",
            "<keras.layers.convolutional.Conv2D object at 0x7ff7a55e37b8>\n",
            "<keras.layers.convolutional.Conv2D object at 0x7ff7a55e3860>\n",
            "<keras.layers.pooling.MaxPooling2D object at 0x7ff7a56b65f8>\n",
            "<keras.layers.convolutional.Conv2D object at 0x7ff7a56b4128>\n",
            "<keras.layers.convolutional.Conv2D object at 0x7ff7a4d6d470>\n",
            "<keras.layers.pooling.MaxPooling2D object at 0x7ff7a4d6de80>\n",
            "<keras.layers.convolutional.Conv2D object at 0x7ff7a4d9f278>\n",
            "<keras.layers.convolutional.Conv2D object at 0x7ff7a4d9fdd8>\n",
            "<keras.layers.convolutional.Conv2D object at 0x7ff7a4da4978>\n",
            "<keras.layers.pooling.MaxPooling2D object at 0x7ff7a4528400>\n",
            "<keras.layers.convolutional.Conv2D object at 0x7ff7a4528240>\n",
            "<keras.layers.convolutional.Conv2D object at 0x7ff7a4528f28>\n",
            "<keras.layers.convolutional.Conv2D object at 0x7ff7a452eac8>\n",
            "<keras.layers.pooling.MaxPooling2D object at 0x7ff7a4537550>\n",
            "<keras.layers.convolutional.Conv2D object at 0x7ff7a4537390>\n",
            "<keras.layers.convolutional.Conv2D object at 0x7ff7a4537f98>\n",
            "<keras.layers.convolutional.Conv2D object at 0x7ff7a453dc18>\n",
            "<keras.layers.pooling.MaxPooling2D object at 0x7ff7a45456a0>\n",
            "<keras.layers.core.Flatten object at 0x7ff7a45454e0>\n"
          ],
          "name": "stdout"
        }
      ]
    },
    {
      "cell_type": "code",
      "metadata": {
        "id": "lhSlpNoqFSX5",
        "colab_type": "code",
        "colab": {
          "base_uri": "https://localhost:8080/",
          "height": 833
        },
        "outputId": "eb255a65-a09d-4478-8d1d-ebe2acda6f03"
      },
      "source": [
        "vggmodel.summary()"
      ],
      "execution_count": 25,
      "outputs": [
        {
          "output_type": "stream",
          "text": [
            "Model: \"vgg16\"\n",
            "_________________________________________________________________\n",
            "Layer (type)                 Output Shape              Param #   \n",
            "=================================================================\n",
            "input_2 (InputLayer)         (None, 224, 224, 3)       0         \n",
            "_________________________________________________________________\n",
            "block1_conv1 (Conv2D)        (None, 224, 224, 64)      1792      \n",
            "_________________________________________________________________\n",
            "block1_conv2 (Conv2D)        (None, 224, 224, 64)      36928     \n",
            "_________________________________________________________________\n",
            "block1_pool (MaxPooling2D)   (None, 112, 112, 64)      0         \n",
            "_________________________________________________________________\n",
            "block2_conv1 (Conv2D)        (None, 112, 112, 128)     73856     \n",
            "_________________________________________________________________\n",
            "block2_conv2 (Conv2D)        (None, 112, 112, 128)     147584    \n",
            "_________________________________________________________________\n",
            "block2_pool (MaxPooling2D)   (None, 56, 56, 128)       0         \n",
            "_________________________________________________________________\n",
            "block3_conv1 (Conv2D)        (None, 56, 56, 256)       295168    \n",
            "_________________________________________________________________\n",
            "block3_conv2 (Conv2D)        (None, 56, 56, 256)       590080    \n",
            "_________________________________________________________________\n",
            "block3_conv3 (Conv2D)        (None, 56, 56, 256)       590080    \n",
            "_________________________________________________________________\n",
            "block3_pool (MaxPooling2D)   (None, 28, 28, 256)       0         \n",
            "_________________________________________________________________\n",
            "block4_conv1 (Conv2D)        (None, 28, 28, 512)       1180160   \n",
            "_________________________________________________________________\n",
            "block4_conv2 (Conv2D)        (None, 28, 28, 512)       2359808   \n",
            "_________________________________________________________________\n",
            "block4_conv3 (Conv2D)        (None, 28, 28, 512)       2359808   \n",
            "_________________________________________________________________\n",
            "block4_pool (MaxPooling2D)   (None, 14, 14, 512)       0         \n",
            "_________________________________________________________________\n",
            "block5_conv1 (Conv2D)        (None, 14, 14, 512)       2359808   \n",
            "_________________________________________________________________\n",
            "block5_conv2 (Conv2D)        (None, 14, 14, 512)       2359808   \n",
            "_________________________________________________________________\n",
            "block5_conv3 (Conv2D)        (None, 14, 14, 512)       2359808   \n",
            "_________________________________________________________________\n",
            "block5_pool (MaxPooling2D)   (None, 7, 7, 512)         0         \n",
            "_________________________________________________________________\n",
            "flatten (Flatten)            (None, 25088)             0         \n",
            "=================================================================\n",
            "Total params: 14,714,688\n",
            "Trainable params: 0\n",
            "Non-trainable params: 14,714,688\n",
            "_________________________________________________________________\n"
          ],
          "name": "stdout"
        }
      ]
    },
    {
      "cell_type": "code",
      "metadata": {
        "id": "XwQJhKivFVnU",
        "colab_type": "code",
        "colab": {
          "base_uri": "https://localhost:8080/",
          "height": 71
        },
        "outputId": "3b8b3e51-bd09-4551-beb4-f933056dde96"
      },
      "source": [
        "from tensorflow.keras import regularizers\n",
        "X= vggmodel.layers[-1].output\n",
        "fc_1=Dense(4096,activation='relu')(X)\n",
        "dr_1=Dropout(0.6)(fc_1)\n",
        "fc_2=Dense(4096, activation='relu')(dr_1)\n",
        "dr_2=Dropout(0.4)(fc_2)\n",
        "predictions = Dense(4, activation=\"softmax\")(dr_2)\n",
        "model_final = Model(input = vggmodel.input, output = predictions)"
      ],
      "execution_count": 26,
      "outputs": [
        {
          "output_type": "stream",
          "text": [
            "/usr/local/lib/python3.6/dist-packages/ipykernel_launcher.py:8: UserWarning: Update your `Model` call to the Keras 2 API: `Model(inputs=Tensor(\"in..., outputs=Tensor(\"de...)`\n",
            "  \n"
          ],
          "name": "stderr"
        }
      ]
    },
    {
      "cell_type": "code",
      "metadata": {
        "id": "GQbWFlYSFYoW",
        "colab_type": "code",
        "colab": {
          "base_uri": "https://localhost:8080/",
          "height": 1000
        },
        "outputId": "d951235f-65c0-458c-d735-03e56bc40182"
      },
      "source": [
        "model_final.summary()"
      ],
      "execution_count": 27,
      "outputs": [
        {
          "output_type": "stream",
          "text": [
            "Model: \"model_2\"\n",
            "_________________________________________________________________\n",
            "Layer (type)                 Output Shape              Param #   \n",
            "=================================================================\n",
            "input_2 (InputLayer)         (None, 224, 224, 3)       0         \n",
            "_________________________________________________________________\n",
            "block1_conv1 (Conv2D)        (None, 224, 224, 64)      1792      \n",
            "_________________________________________________________________\n",
            "block1_conv2 (Conv2D)        (None, 224, 224, 64)      36928     \n",
            "_________________________________________________________________\n",
            "block1_pool (MaxPooling2D)   (None, 112, 112, 64)      0         \n",
            "_________________________________________________________________\n",
            "block2_conv1 (Conv2D)        (None, 112, 112, 128)     73856     \n",
            "_________________________________________________________________\n",
            "block2_conv2 (Conv2D)        (None, 112, 112, 128)     147584    \n",
            "_________________________________________________________________\n",
            "block2_pool (MaxPooling2D)   (None, 56, 56, 128)       0         \n",
            "_________________________________________________________________\n",
            "block3_conv1 (Conv2D)        (None, 56, 56, 256)       295168    \n",
            "_________________________________________________________________\n",
            "block3_conv2 (Conv2D)        (None, 56, 56, 256)       590080    \n",
            "_________________________________________________________________\n",
            "block3_conv3 (Conv2D)        (None, 56, 56, 256)       590080    \n",
            "_________________________________________________________________\n",
            "block3_pool (MaxPooling2D)   (None, 28, 28, 256)       0         \n",
            "_________________________________________________________________\n",
            "block4_conv1 (Conv2D)        (None, 28, 28, 512)       1180160   \n",
            "_________________________________________________________________\n",
            "block4_conv2 (Conv2D)        (None, 28, 28, 512)       2359808   \n",
            "_________________________________________________________________\n",
            "block4_conv3 (Conv2D)        (None, 28, 28, 512)       2359808   \n",
            "_________________________________________________________________\n",
            "block4_pool (MaxPooling2D)   (None, 14, 14, 512)       0         \n",
            "_________________________________________________________________\n",
            "block5_conv1 (Conv2D)        (None, 14, 14, 512)       2359808   \n",
            "_________________________________________________________________\n",
            "block5_conv2 (Conv2D)        (None, 14, 14, 512)       2359808   \n",
            "_________________________________________________________________\n",
            "block5_conv3 (Conv2D)        (None, 14, 14, 512)       2359808   \n",
            "_________________________________________________________________\n",
            "block5_pool (MaxPooling2D)   (None, 7, 7, 512)         0         \n",
            "_________________________________________________________________\n",
            "flatten (Flatten)            (None, 25088)             0         \n",
            "_________________________________________________________________\n",
            "dense_4 (Dense)              (None, 4096)              102764544 \n",
            "_________________________________________________________________\n",
            "dropout_3 (Dropout)          (None, 4096)              0         \n",
            "_________________________________________________________________\n",
            "dense_5 (Dense)              (None, 4096)              16781312  \n",
            "_________________________________________________________________\n",
            "dropout_4 (Dropout)          (None, 4096)              0         \n",
            "_________________________________________________________________\n",
            "dense_6 (Dense)              (None, 4)                 16388     \n",
            "=================================================================\n",
            "Total params: 134,276,932\n",
            "Trainable params: 119,562,244\n",
            "Non-trainable params: 14,714,688\n",
            "_________________________________________________________________\n"
          ],
          "name": "stdout"
        }
      ]
    },
    {
      "cell_type": "code",
      "metadata": {
        "id": "ICVzgPGwFbBm",
        "colab_type": "code",
        "colab": {
          "base_uri": "https://localhost:8080/",
          "height": 442
        },
        "outputId": "025e0089-0786-439d-8a5b-d17fb411bdd6"
      },
      "source": [
        "for i in model_final.layers:\n",
        "  print(i.trainable)"
      ],
      "execution_count": 28,
      "outputs": [
        {
          "output_type": "stream",
          "text": [
            "False\n",
            "False\n",
            "False\n",
            "False\n",
            "False\n",
            "False\n",
            "False\n",
            "False\n",
            "False\n",
            "False\n",
            "False\n",
            "False\n",
            "False\n",
            "False\n",
            "False\n",
            "False\n",
            "False\n",
            "False\n",
            "False\n",
            "False\n",
            "True\n",
            "True\n",
            "True\n",
            "True\n",
            "True\n"
          ],
          "name": "stdout"
        }
      ]
    },
    {
      "cell_type": "code",
      "metadata": {
        "id": "fOEPHCWtFeIb",
        "colab_type": "code",
        "colab": {}
      },
      "source": [
        "model_final.compile(loss = \"categorical_crossentropy\", optimizer = keras.optimizers.Adam(lr=0.0001), metrics=[\"accuracy\"])"
      ],
      "execution_count": 29,
      "outputs": []
    },
    {
      "cell_type": "code",
      "metadata": {
        "id": "PwkBTyWbFgkk",
        "colab_type": "code",
        "colab": {
          "base_uri": "https://localhost:8080/",
          "height": 1000
        },
        "outputId": "58cff18f-e03e-45e9-cca4-28c6aec49142"
      },
      "source": [
        "model_final.summary()"
      ],
      "execution_count": 30,
      "outputs": [
        {
          "output_type": "stream",
          "text": [
            "Model: \"model_2\"\n",
            "_________________________________________________________________\n",
            "Layer (type)                 Output Shape              Param #   \n",
            "=================================================================\n",
            "input_2 (InputLayer)         (None, 224, 224, 3)       0         \n",
            "_________________________________________________________________\n",
            "block1_conv1 (Conv2D)        (None, 224, 224, 64)      1792      \n",
            "_________________________________________________________________\n",
            "block1_conv2 (Conv2D)        (None, 224, 224, 64)      36928     \n",
            "_________________________________________________________________\n",
            "block1_pool (MaxPooling2D)   (None, 112, 112, 64)      0         \n",
            "_________________________________________________________________\n",
            "block2_conv1 (Conv2D)        (None, 112, 112, 128)     73856     \n",
            "_________________________________________________________________\n",
            "block2_conv2 (Conv2D)        (None, 112, 112, 128)     147584    \n",
            "_________________________________________________________________\n",
            "block2_pool (MaxPooling2D)   (None, 56, 56, 128)       0         \n",
            "_________________________________________________________________\n",
            "block3_conv1 (Conv2D)        (None, 56, 56, 256)       295168    \n",
            "_________________________________________________________________\n",
            "block3_conv2 (Conv2D)        (None, 56, 56, 256)       590080    \n",
            "_________________________________________________________________\n",
            "block3_conv3 (Conv2D)        (None, 56, 56, 256)       590080    \n",
            "_________________________________________________________________\n",
            "block3_pool (MaxPooling2D)   (None, 28, 28, 256)       0         \n",
            "_________________________________________________________________\n",
            "block4_conv1 (Conv2D)        (None, 28, 28, 512)       1180160   \n",
            "_________________________________________________________________\n",
            "block4_conv2 (Conv2D)        (None, 28, 28, 512)       2359808   \n",
            "_________________________________________________________________\n",
            "block4_conv3 (Conv2D)        (None, 28, 28, 512)       2359808   \n",
            "_________________________________________________________________\n",
            "block4_pool (MaxPooling2D)   (None, 14, 14, 512)       0         \n",
            "_________________________________________________________________\n",
            "block5_conv1 (Conv2D)        (None, 14, 14, 512)       2359808   \n",
            "_________________________________________________________________\n",
            "block5_conv2 (Conv2D)        (None, 14, 14, 512)       2359808   \n",
            "_________________________________________________________________\n",
            "block5_conv3 (Conv2D)        (None, 14, 14, 512)       2359808   \n",
            "_________________________________________________________________\n",
            "block5_pool (MaxPooling2D)   (None, 7, 7, 512)         0         \n",
            "_________________________________________________________________\n",
            "flatten (Flatten)            (None, 25088)             0         \n",
            "_________________________________________________________________\n",
            "dense_4 (Dense)              (None, 4096)              102764544 \n",
            "_________________________________________________________________\n",
            "dropout_3 (Dropout)          (None, 4096)              0         \n",
            "_________________________________________________________________\n",
            "dense_5 (Dense)              (None, 4096)              16781312  \n",
            "_________________________________________________________________\n",
            "dropout_4 (Dropout)          (None, 4096)              0         \n",
            "_________________________________________________________________\n",
            "dense_6 (Dense)              (None, 4)                 16388     \n",
            "=================================================================\n",
            "Total params: 134,276,932\n",
            "Trainable params: 119,562,244\n",
            "Non-trainable params: 14,714,688\n",
            "_________________________________________________________________\n"
          ],
          "name": "stdout"
        }
      ]
    },
    {
      "cell_type": "code",
      "metadata": {
        "id": "a_dUHIkNFkcD",
        "colab_type": "code",
        "colab": {
          "base_uri": "https://localhost:8080/",
          "height": 1000
        },
        "outputId": "ec774b5c-f593-4a36-d5e3-d18a644ba053"
      },
      "source": [
        "from keras.callbacks import ModelCheckpoint, EarlyStopping\n",
        "checkpoint = ModelCheckpoint(\"vgg16_1.h5\", monitor='val_accuracy', verbose=1, save_best_only=True, save_weights_only=False, mode='auto', period=1)\n",
        "early = EarlyStopping(monitor='val_acc', min_delta=0, patience=40, verbose=1, mode='auto')\n",
        "hist=model_final.fit(traindata, steps_per_epoch= 2, epochs= 200, validation_data= testdata, validation_steps=1, callbacks=[checkpoint,early])\n",
        "model_final.save_weights(\"vgg16_1.h5\")"
      ],
      "execution_count": 31,
      "outputs": [
        {
          "output_type": "stream",
          "text": [
            "Epoch 1/200\n",
            "2/2 [==============================] - 53s 26s/step - loss: 4.5869 - accuracy: 0.3281 - val_loss: 4.7878 - val_accuracy: 0.2500\n",
            "\n",
            "Epoch 00001: val_accuracy improved from -inf to 0.25000, saving model to vgg16_1.h5\n"
          ],
          "name": "stdout"
        },
        {
          "output_type": "stream",
          "text": [
            "/usr/local/lib/python3.6/dist-packages/keras/callbacks/callbacks.py:846: RuntimeWarning: Early stopping conditioned on metric `val_acc` which is not available. Available metrics are: val_loss,val_accuracy,loss,accuracy\n",
            "  (self.monitor, ','.join(list(logs.keys()))), RuntimeWarning\n"
          ],
          "name": "stderr"
        },
        {
          "output_type": "stream",
          "text": [
            "Epoch 2/200\n",
            "2/2 [==============================] - 51s 26s/step - loss: 4.7727 - accuracy: 0.3281 - val_loss: 0.9484 - val_accuracy: 0.5000\n",
            "\n",
            "Epoch 00002: val_accuracy improved from 0.25000 to 0.50000, saving model to vgg16_1.h5\n",
            "Epoch 3/200\n",
            "2/2 [==============================] - 51s 26s/step - loss: 1.5821 - accuracy: 0.6094 - val_loss: 2.7161 - val_accuracy: 0.6562\n",
            "\n",
            "Epoch 00003: val_accuracy improved from 0.50000 to 0.65625, saving model to vgg16_1.h5\n",
            "Epoch 4/200\n",
            "2/2 [==============================] - 37s 19s/step - loss: 3.5257 - accuracy: 0.5625 - val_loss: 1.1359 - val_accuracy: 0.7500\n",
            "\n",
            "Epoch 00004: val_accuracy improved from 0.65625 to 0.75000, saving model to vgg16_1.h5\n",
            "Epoch 5/200\n",
            "2/2 [==============================] - 52s 26s/step - loss: 2.8179 - accuracy: 0.6719 - val_loss: 1.1566 - val_accuracy: 0.7500\n",
            "\n",
            "Epoch 00005: val_accuracy did not improve from 0.75000\n",
            "Epoch 6/200\n",
            "2/2 [==============================] - 51s 26s/step - loss: 3.4271 - accuracy: 0.7344 - val_loss: 2.7109 - val_accuracy: 0.5625\n",
            "\n",
            "Epoch 00006: val_accuracy did not improve from 0.75000\n",
            "Epoch 7/200\n",
            "2/2 [==============================] - 51s 25s/step - loss: 1.3354 - accuracy: 0.7031 - val_loss: 1.9060 - val_accuracy: 0.7500\n",
            "\n",
            "Epoch 00007: val_accuracy did not improve from 0.75000\n",
            "Epoch 8/200\n",
            "2/2 [==============================] - 37s 19s/step - loss: 2.4329 - accuracy: 0.7812 - val_loss: 0.5232 - val_accuracy: 0.7500\n",
            "\n",
            "Epoch 00008: val_accuracy did not improve from 0.75000\n",
            "Epoch 9/200\n",
            "2/2 [==============================] - 51s 25s/step - loss: 1.4439 - accuracy: 0.7656 - val_loss: 1.7816 - val_accuracy: 0.7500\n",
            "\n",
            "Epoch 00009: val_accuracy did not improve from 0.75000\n",
            "Epoch 10/200\n",
            "2/2 [==============================] - 51s 25s/step - loss: 2.2275 - accuracy: 0.7344 - val_loss: 1.2787 - val_accuracy: 0.8750\n",
            "\n",
            "Epoch 00010: val_accuracy improved from 0.75000 to 0.87500, saving model to vgg16_1.h5\n",
            "Epoch 11/200\n",
            "2/2 [==============================] - 51s 26s/step - loss: 2.1307 - accuracy: 0.5938 - val_loss: 1.5801 - val_accuracy: 0.6875\n",
            "\n",
            "Epoch 00011: val_accuracy did not improve from 0.87500\n",
            "Epoch 12/200\n",
            "2/2 [==============================] - 37s 19s/step - loss: 0.7794 - accuracy: 0.8125 - val_loss: 3.7656 - val_accuracy: 0.5000\n",
            "\n",
            "Epoch 00012: val_accuracy did not improve from 0.87500\n",
            "Epoch 13/200\n",
            "2/2 [==============================] - 52s 26s/step - loss: 1.4210 - accuracy: 0.7812 - val_loss: 1.0547 - val_accuracy: 0.7812\n",
            "\n",
            "Epoch 00013: val_accuracy did not improve from 0.87500\n",
            "Epoch 14/200\n",
            "2/2 [==============================] - 51s 26s/step - loss: 0.5336 - accuracy: 0.8125 - val_loss: 0.7968 - val_accuracy: 0.8438\n",
            "\n",
            "Epoch 00014: val_accuracy did not improve from 0.87500\n",
            "Epoch 15/200\n",
            "2/2 [==============================] - 52s 26s/step - loss: 0.6657 - accuracy: 0.8438 - val_loss: 1.4913 - val_accuracy: 0.7188\n",
            "\n",
            "Epoch 00015: val_accuracy did not improve from 0.87500\n",
            "Epoch 16/200\n",
            "2/2 [==============================] - 37s 19s/step - loss: 0.8658 - accuracy: 0.8594 - val_loss: 0.0154 - val_accuracy: 1.0000\n",
            "\n",
            "Epoch 00016: val_accuracy improved from 0.87500 to 1.00000, saving model to vgg16_1.h5\n",
            "Epoch 17/200\n",
            "2/2 [==============================] - 52s 26s/step - loss: 1.3757 - accuracy: 0.7812 - val_loss: 1.5986 - val_accuracy: 0.7188\n",
            "\n",
            "Epoch 00017: val_accuracy did not improve from 1.00000\n",
            "Epoch 18/200\n",
            "2/2 [==============================] - 51s 26s/step - loss: 0.7150 - accuracy: 0.8594 - val_loss: 1.7511 - val_accuracy: 0.6562\n",
            "\n",
            "Epoch 00018: val_accuracy did not improve from 1.00000\n",
            "Epoch 19/200\n",
            "2/2 [==============================] - 52s 26s/step - loss: 1.5205 - accuracy: 0.7812 - val_loss: 0.4234 - val_accuracy: 0.8750\n",
            "\n",
            "Epoch 00019: val_accuracy did not improve from 1.00000\n",
            "Epoch 20/200\n",
            "2/2 [==============================] - 37s 19s/step - loss: 1.4223 - accuracy: 0.7969 - val_loss: 0.0234 - val_accuracy: 1.0000\n",
            "\n",
            "Epoch 00020: val_accuracy did not improve from 1.00000\n",
            "Epoch 21/200\n",
            "2/2 [==============================] - 51s 25s/step - loss: 1.6624 - accuracy: 0.8281 - val_loss: 2.9889 - val_accuracy: 0.7188\n",
            "\n",
            "Epoch 00021: val_accuracy did not improve from 1.00000\n",
            "Epoch 22/200\n",
            "2/2 [==============================] - 51s 25s/step - loss: 1.6474 - accuracy: 0.7812 - val_loss: 0.6658 - val_accuracy: 0.8438\n",
            "\n",
            "Epoch 00022: val_accuracy did not improve from 1.00000\n",
            "Epoch 23/200\n",
            "2/2 [==============================] - 51s 25s/step - loss: 0.7346 - accuracy: 0.8594 - val_loss: 0.9504 - val_accuracy: 0.7812\n",
            "\n",
            "Epoch 00023: val_accuracy did not improve from 1.00000\n",
            "Epoch 24/200\n",
            "2/2 [==============================] - 37s 19s/step - loss: 0.9311 - accuracy: 0.8281 - val_loss: 1.9836 - val_accuracy: 0.7500\n",
            "\n",
            "Epoch 00024: val_accuracy did not improve from 1.00000\n",
            "Epoch 25/200\n",
            "2/2 [==============================] - 52s 26s/step - loss: 1.6934 - accuracy: 0.7656 - val_loss: 0.4496 - val_accuracy: 0.7500\n",
            "\n",
            "Epoch 00025: val_accuracy did not improve from 1.00000\n",
            "Epoch 26/200\n",
            "2/2 [==============================] - 51s 26s/step - loss: 0.5479 - accuracy: 0.8750 - val_loss: 1.1048 - val_accuracy: 0.8125\n",
            "\n",
            "Epoch 00026: val_accuracy did not improve from 1.00000\n",
            "Epoch 27/200\n",
            "2/2 [==============================] - 51s 26s/step - loss: 0.6860 - accuracy: 0.8906 - val_loss: 1.7396 - val_accuracy: 0.6875\n",
            "\n",
            "Epoch 00027: val_accuracy did not improve from 1.00000\n",
            "Epoch 28/200\n",
            "2/2 [==============================] - 37s 19s/step - loss: 0.7810 - accuracy: 0.8125 - val_loss: 0.8789 - val_accuracy: 0.7500\n",
            "\n",
            "Epoch 00028: val_accuracy did not improve from 1.00000\n",
            "Epoch 29/200\n",
            "2/2 [==============================] - 51s 26s/step - loss: 1.0185 - accuracy: 0.7656 - val_loss: 1.0396 - val_accuracy: 0.7812\n",
            "\n",
            "Epoch 00029: val_accuracy did not improve from 1.00000\n",
            "Epoch 30/200\n",
            "2/2 [==============================] - 52s 26s/step - loss: 1.0900 - accuracy: 0.7969 - val_loss: 1.4731 - val_accuracy: 0.8125\n",
            "\n",
            "Epoch 00030: val_accuracy did not improve from 1.00000\n",
            "Epoch 31/200\n",
            "2/2 [==============================] - 51s 25s/step - loss: 1.5739 - accuracy: 0.6719 - val_loss: 0.8755 - val_accuracy: 0.8125\n",
            "\n",
            "Epoch 00031: val_accuracy did not improve from 1.00000\n",
            "Epoch 32/200\n",
            "2/2 [==============================] - 37s 19s/step - loss: 0.7716 - accuracy: 0.8750 - val_loss: 1.4538 - val_accuracy: 0.5000\n",
            "\n",
            "Epoch 00032: val_accuracy did not improve from 1.00000\n",
            "Epoch 33/200\n",
            "2/2 [==============================] - 51s 26s/step - loss: 0.5282 - accuracy: 0.8438 - val_loss: 1.4224 - val_accuracy: 0.7188\n",
            "\n",
            "Epoch 00033: val_accuracy did not improve from 1.00000\n",
            "Epoch 34/200\n",
            "2/2 [==============================] - 56s 28s/step - loss: 1.2700 - accuracy: 0.8281 - val_loss: 0.8320 - val_accuracy: 0.7812\n",
            "\n",
            "Epoch 00034: val_accuracy did not improve from 1.00000\n",
            "Epoch 35/200\n",
            "2/2 [==============================] - 52s 26s/step - loss: 1.2018 - accuracy: 0.8125 - val_loss: 1.3200 - val_accuracy: 0.7812\n",
            "\n",
            "Epoch 00035: val_accuracy did not improve from 1.00000\n",
            "Epoch 36/200\n",
            "2/2 [==============================] - 37s 19s/step - loss: 1.1217 - accuracy: 0.8281 - val_loss: 3.7083 - val_accuracy: 0.5000\n",
            "\n",
            "Epoch 00036: val_accuracy did not improve from 1.00000\n",
            "Epoch 37/200\n",
            "2/2 [==============================] - 51s 25s/step - loss: 0.7924 - accuracy: 0.8281 - val_loss: 0.9139 - val_accuracy: 0.7812\n",
            "\n",
            "Epoch 00037: val_accuracy did not improve from 1.00000\n",
            "Epoch 38/200\n",
            "2/2 [==============================] - 52s 26s/step - loss: 1.5387 - accuracy: 0.7188 - val_loss: 0.8071 - val_accuracy: 0.9062\n",
            "\n",
            "Epoch 00038: val_accuracy did not improve from 1.00000\n",
            "Epoch 39/200\n",
            "2/2 [==============================] - 51s 25s/step - loss: 0.4508 - accuracy: 0.8750 - val_loss: 2.4877 - val_accuracy: 0.6250\n",
            "\n",
            "Epoch 00039: val_accuracy did not improve from 1.00000\n",
            "Epoch 40/200\n",
            "2/2 [==============================] - 37s 19s/step - loss: 2.0757 - accuracy: 0.7500 - val_loss: 0.5272 - val_accuracy: 0.7500\n",
            "\n",
            "Epoch 00040: val_accuracy did not improve from 1.00000\n",
            "Epoch 41/200\n",
            "2/2 [==============================] - 51s 25s/step - loss: 1.3031 - accuracy: 0.7812 - val_loss: 1.8633 - val_accuracy: 0.6562\n",
            "\n",
            "Epoch 00041: val_accuracy did not improve from 1.00000\n",
            "Epoch 42/200\n",
            "2/2 [==============================] - 51s 26s/step - loss: 1.0735 - accuracy: 0.7969 - val_loss: 0.4762 - val_accuracy: 0.8125\n",
            "\n",
            "Epoch 00042: val_accuracy did not improve from 1.00000\n",
            "Epoch 43/200\n",
            "2/2 [==============================] - 52s 26s/step - loss: 0.5338 - accuracy: 0.8594 - val_loss: 0.9844 - val_accuracy: 0.7500\n",
            "\n",
            "Epoch 00043: val_accuracy did not improve from 1.00000\n",
            "Epoch 44/200\n",
            "2/2 [==============================] - 37s 19s/step - loss: 1.4205 - accuracy: 0.7812 - val_loss: 0.8501 - val_accuracy: 0.5000\n",
            "\n",
            "Epoch 00044: val_accuracy did not improve from 1.00000\n",
            "Epoch 45/200\n",
            "2/2 [==============================] - 51s 26s/step - loss: 0.8076 - accuracy: 0.8750 - val_loss: 1.2489 - val_accuracy: 0.8125\n",
            "\n",
            "Epoch 00045: val_accuracy did not improve from 1.00000\n",
            "Epoch 46/200\n",
            "2/2 [==============================] - 51s 25s/step - loss: 0.6595 - accuracy: 0.9062 - val_loss: 1.4904 - val_accuracy: 0.7500\n",
            "\n",
            "Epoch 00046: val_accuracy did not improve from 1.00000\n",
            "Epoch 47/200\n",
            "2/2 [==============================] - 51s 25s/step - loss: 0.8751 - accuracy: 0.8594 - val_loss: 0.7408 - val_accuracy: 0.8125\n",
            "\n",
            "Epoch 00047: val_accuracy did not improve from 1.00000\n",
            "Epoch 48/200\n",
            "2/2 [==============================] - 37s 18s/step - loss: 0.7651 - accuracy: 0.9062 - val_loss: 0.0122 - val_accuracy: 1.0000\n",
            "\n",
            "Epoch 00048: val_accuracy did not improve from 1.00000\n",
            "Epoch 49/200\n",
            "2/2 [==============================] - 51s 25s/step - loss: 0.9189 - accuracy: 0.8750 - val_loss: 0.9786 - val_accuracy: 0.7812\n",
            "\n",
            "Epoch 00049: val_accuracy did not improve from 1.00000\n",
            "Epoch 50/200\n",
            "2/2 [==============================] - 51s 26s/step - loss: 0.1473 - accuracy: 0.9219 - val_loss: 2.6087 - val_accuracy: 0.7812\n",
            "\n",
            "Epoch 00050: val_accuracy did not improve from 1.00000\n",
            "Epoch 51/200\n",
            "2/2 [==============================] - 51s 25s/step - loss: 0.3713 - accuracy: 0.9375 - val_loss: 1.2890 - val_accuracy: 0.8125\n",
            "\n",
            "Epoch 00051: val_accuracy did not improve from 1.00000\n",
            "Epoch 52/200\n",
            "2/2 [==============================] - 37s 18s/step - loss: 0.5040 - accuracy: 0.9219 - val_loss: 0.1452 - val_accuracy: 1.0000\n",
            "\n",
            "Epoch 00052: val_accuracy did not improve from 1.00000\n",
            "Epoch 53/200\n",
            "2/2 [==============================] - 51s 25s/step - loss: 0.6058 - accuracy: 0.8750 - val_loss: 0.5197 - val_accuracy: 0.8438\n",
            "\n",
            "Epoch 00053: val_accuracy did not improve from 1.00000\n",
            "Epoch 54/200\n",
            "2/2 [==============================] - 52s 26s/step - loss: 0.5710 - accuracy: 0.8906 - val_loss: 0.5644 - val_accuracy: 0.8750\n",
            "\n",
            "Epoch 00054: val_accuracy did not improve from 1.00000\n",
            "Epoch 55/200\n",
            "2/2 [==============================] - 51s 25s/step - loss: 0.5529 - accuracy: 0.8906 - val_loss: 0.9175 - val_accuracy: 0.8438\n",
            "\n",
            "Epoch 00055: val_accuracy did not improve from 1.00000\n",
            "Epoch 56/200\n",
            "2/2 [==============================] - 37s 18s/step - loss: 0.3069 - accuracy: 0.8906 - val_loss: 2.4893 - val_accuracy: 0.7500\n",
            "\n",
            "Epoch 00056: val_accuracy did not improve from 1.00000\n",
            "Epoch 57/200\n",
            "2/2 [==============================] - 51s 25s/step - loss: 1.5377 - accuracy: 0.7969 - val_loss: 1.0100 - val_accuracy: 0.8750\n",
            "\n",
            "Epoch 00057: val_accuracy did not improve from 1.00000\n",
            "Epoch 58/200\n",
            "2/2 [==============================] - 51s 25s/step - loss: 0.7386 - accuracy: 0.8125 - val_loss: 0.6000 - val_accuracy: 0.8750\n",
            "\n",
            "Epoch 00058: val_accuracy did not improve from 1.00000\n",
            "Epoch 59/200\n",
            "2/2 [==============================] - 51s 25s/step - loss: 0.5979 - accuracy: 0.9062 - val_loss: 1.7480 - val_accuracy: 0.7812\n",
            "\n",
            "Epoch 00059: val_accuracy did not improve from 1.00000\n",
            "Epoch 60/200\n",
            "2/2 [==============================] - 37s 18s/step - loss: 0.7459 - accuracy: 0.8906 - val_loss: 9.4770e-06 - val_accuracy: 1.0000\n",
            "\n",
            "Epoch 00060: val_accuracy did not improve from 1.00000\n",
            "Epoch 61/200\n",
            "2/2 [==============================] - 51s 25s/step - loss: 0.4065 - accuracy: 0.8906 - val_loss: 0.7597 - val_accuracy: 0.8438\n",
            "\n",
            "Epoch 00061: val_accuracy did not improve from 1.00000\n",
            "Epoch 62/200\n",
            "2/2 [==============================] - 51s 25s/step - loss: 0.7092 - accuracy: 0.8594 - val_loss: 1.3889 - val_accuracy: 0.7500\n",
            "\n",
            "Epoch 00062: val_accuracy did not improve from 1.00000\n",
            "Epoch 63/200\n",
            "2/2 [==============================] - 52s 26s/step - loss: 0.4258 - accuracy: 0.8594 - val_loss: 1.0323 - val_accuracy: 0.8125\n",
            "\n",
            "Epoch 00063: val_accuracy did not improve from 1.00000\n",
            "Epoch 64/200\n",
            "2/2 [==============================] - 37s 19s/step - loss: 0.6891 - accuracy: 0.8125 - val_loss: 1.5487 - val_accuracy: 0.5000\n",
            "\n",
            "Epoch 00064: val_accuracy did not improve from 1.00000\n",
            "Epoch 65/200\n",
            "2/2 [==============================] - 51s 26s/step - loss: 0.4223 - accuracy: 0.9062 - val_loss: 1.0209 - val_accuracy: 0.8125\n",
            "\n",
            "Epoch 00065: val_accuracy did not improve from 1.00000\n",
            "Epoch 66/200\n",
            "2/2 [==============================] - 51s 26s/step - loss: 0.3295 - accuracy: 0.9219 - val_loss: 0.4870 - val_accuracy: 0.8438\n",
            "\n",
            "Epoch 00066: val_accuracy did not improve from 1.00000\n",
            "Epoch 67/200\n",
            "2/2 [==============================] - 51s 25s/step - loss: 0.3594 - accuracy: 0.9219 - val_loss: 1.8675 - val_accuracy: 0.7812\n",
            "\n",
            "Epoch 00067: val_accuracy did not improve from 1.00000\n",
            "Epoch 68/200\n",
            "2/2 [==============================] - 38s 19s/step - loss: 0.7913 - accuracy: 0.8750 - val_loss: 0.5135 - val_accuracy: 0.7500\n",
            "\n",
            "Epoch 00068: val_accuracy did not improve from 1.00000\n",
            "Epoch 69/200\n",
            "2/2 [==============================] - 51s 26s/step - loss: 0.3764 - accuracy: 0.9375 - val_loss: 1.5998 - val_accuracy: 0.7500\n",
            "\n",
            "Epoch 00069: val_accuracy did not improve from 1.00000\n",
            "Epoch 70/200\n",
            "2/2 [==============================] - 51s 26s/step - loss: 0.2697 - accuracy: 0.9219 - val_loss: 1.5112 - val_accuracy: 0.6875\n",
            "\n",
            "Epoch 00070: val_accuracy did not improve from 1.00000\n",
            "Epoch 71/200\n",
            "2/2 [==============================] - 51s 25s/step - loss: 1.4628 - accuracy: 0.8438 - val_loss: 1.3654 - val_accuracy: 0.8125\n",
            "\n",
            "Epoch 00071: val_accuracy did not improve from 1.00000\n",
            "Epoch 72/200\n",
            "2/2 [==============================] - 38s 19s/step - loss: 0.2258 - accuracy: 0.9375 - val_loss: 0.2182 - val_accuracy: 0.7500\n",
            "\n",
            "Epoch 00072: val_accuracy did not improve from 1.00000\n",
            "Epoch 73/200\n",
            "2/2 [==============================] - 51s 26s/step - loss: 0.2966 - accuracy: 0.9062 - val_loss: 3.1757 - val_accuracy: 0.6562\n",
            "\n",
            "Epoch 00073: val_accuracy did not improve from 1.00000\n",
            "Epoch 74/200\n",
            "2/2 [==============================] - 51s 26s/step - loss: 0.8012 - accuracy: 0.9062 - val_loss: 0.2564 - val_accuracy: 0.8750\n",
            "\n",
            "Epoch 00074: val_accuracy did not improve from 1.00000\n",
            "Epoch 75/200\n",
            "2/2 [==============================] - 53s 26s/step - loss: 0.7229 - accuracy: 0.9219 - val_loss: 1.2998 - val_accuracy: 0.6875\n",
            "\n",
            "Epoch 00075: val_accuracy did not improve from 1.00000\n",
            "Epoch 76/200\n",
            "2/2 [==============================] - 37s 19s/step - loss: 0.2140 - accuracy: 0.9375 - val_loss: 0.0143 - val_accuracy: 1.0000\n",
            "\n",
            "Epoch 00076: val_accuracy did not improve from 1.00000\n",
            "Epoch 77/200\n",
            "2/2 [==============================] - 51s 25s/step - loss: 0.5445 - accuracy: 0.8750 - val_loss: 0.7315 - val_accuracy: 0.8125\n",
            "\n",
            "Epoch 00077: val_accuracy did not improve from 1.00000\n",
            "Epoch 78/200\n",
            "2/2 [==============================] - 51s 26s/step - loss: 0.3443 - accuracy: 0.8750 - val_loss: 2.0205 - val_accuracy: 0.7812\n",
            "\n",
            "Epoch 00078: val_accuracy did not improve from 1.00000\n",
            "Epoch 79/200\n",
            "2/2 [==============================] - 52s 26s/step - loss: 0.7783 - accuracy: 0.8438 - val_loss: 1.4456 - val_accuracy: 0.6875\n",
            "\n",
            "Epoch 00079: val_accuracy did not improve from 1.00000\n",
            "Epoch 80/200\n",
            "2/2 [==============================] - 37s 19s/step - loss: 1.6768 - accuracy: 0.7500 - val_loss: 0.0000e+00 - val_accuracy: 1.0000\n",
            "\n",
            "Epoch 00080: val_accuracy did not improve from 1.00000\n",
            "Epoch 81/200\n",
            "2/2 [==============================] - 51s 26s/step - loss: 0.2529 - accuracy: 0.9219 - val_loss: 2.7073 - val_accuracy: 0.7188\n",
            "\n",
            "Epoch 00081: val_accuracy did not improve from 1.00000\n",
            "Epoch 82/200\n",
            "2/2 [==============================] - 51s 26s/step - loss: 0.2778 - accuracy: 0.9375 - val_loss: 3.0067 - val_accuracy: 0.6562\n",
            "\n",
            "Epoch 00082: val_accuracy did not improve from 1.00000\n",
            "Epoch 83/200\n",
            "2/2 [==============================] - 51s 25s/step - loss: 1.2323 - accuracy: 0.8750 - val_loss: 0.2182 - val_accuracy: 0.9062\n",
            "\n",
            "Epoch 00083: val_accuracy did not improve from 1.00000\n",
            "Epoch 84/200\n",
            "2/2 [==============================] - 37s 18s/step - loss: 0.4057 - accuracy: 0.9531 - val_loss: 0.0081 - val_accuracy: 1.0000\n",
            "\n",
            "Epoch 00084: val_accuracy did not improve from 1.00000\n",
            "Epoch 85/200\n",
            "2/2 [==============================] - 51s 25s/step - loss: 0.6507 - accuracy: 0.9219 - val_loss: 2.3845 - val_accuracy: 0.7188\n",
            "\n",
            "Epoch 00085: val_accuracy did not improve from 1.00000\n",
            "Epoch 86/200\n",
            "2/2 [==============================] - 51s 26s/step - loss: 1.4853 - accuracy: 0.8281 - val_loss: 0.8673 - val_accuracy: 0.7812\n",
            "\n",
            "Epoch 00086: val_accuracy did not improve from 1.00000\n",
            "Epoch 87/200\n",
            "2/2 [==============================] - 51s 25s/step - loss: 0.2163 - accuracy: 0.9219 - val_loss: 0.4541 - val_accuracy: 0.8438\n",
            "\n",
            "Epoch 00087: val_accuracy did not improve from 1.00000\n",
            "Epoch 88/200\n",
            "2/2 [==============================] - 38s 19s/step - loss: 0.1391 - accuracy: 0.9531 - val_loss: 7.0244 - val_accuracy: 0.5000\n",
            "\n",
            "Epoch 00088: val_accuracy did not improve from 1.00000\n",
            "Epoch 89/200\n",
            "2/2 [==============================] - 51s 25s/step - loss: 0.2644 - accuracy: 0.9375 - val_loss: 0.8435 - val_accuracy: 0.7812\n",
            "\n",
            "Epoch 00089: val_accuracy did not improve from 1.00000\n",
            "Epoch 90/200\n",
            "2/2 [==============================] - 51s 26s/step - loss: 0.0286 - accuracy: 0.9844 - val_loss: 1.4789 - val_accuracy: 0.7812\n",
            "\n",
            "Epoch 00090: val_accuracy did not improve from 1.00000\n",
            "Epoch 91/200\n",
            "2/2 [==============================] - 51s 26s/step - loss: 0.2747 - accuracy: 0.9219 - val_loss: 1.9525 - val_accuracy: 0.7812\n",
            "\n",
            "Epoch 00091: val_accuracy did not improve from 1.00000\n",
            "Epoch 92/200\n",
            "2/2 [==============================] - 38s 19s/step - loss: 0.1096 - accuracy: 0.9844 - val_loss: 0.0030 - val_accuracy: 1.0000\n",
            "\n",
            "Epoch 00092: val_accuracy did not improve from 1.00000\n",
            "Epoch 93/200\n",
            "2/2 [==============================] - 51s 26s/step - loss: 0.3656 - accuracy: 0.9375 - val_loss: 0.8353 - val_accuracy: 0.8125\n",
            "\n",
            "Epoch 00093: val_accuracy did not improve from 1.00000\n",
            "Epoch 94/200\n",
            "2/2 [==============================] - 52s 26s/step - loss: 0.8018 - accuracy: 0.8906 - val_loss: 0.9078 - val_accuracy: 0.7500\n",
            "\n",
            "Epoch 00094: val_accuracy did not improve from 1.00000\n",
            "Epoch 95/200\n",
            "2/2 [==============================] - 51s 26s/step - loss: 0.0680 - accuracy: 0.9531 - val_loss: 2.1608 - val_accuracy: 0.6875\n",
            "\n",
            "Epoch 00095: val_accuracy did not improve from 1.00000\n",
            "Epoch 96/200\n",
            "2/2 [==============================] - 37s 19s/step - loss: 0.2680 - accuracy: 0.9531 - val_loss: 4.9313 - val_accuracy: 0.2500\n",
            "\n",
            "Epoch 00096: val_accuracy did not improve from 1.00000\n",
            "Epoch 97/200\n",
            "2/2 [==============================] - 51s 26s/step - loss: 0.3291 - accuracy: 0.8906 - val_loss: 1.6175 - val_accuracy: 0.7188\n",
            "\n",
            "Epoch 00097: val_accuracy did not improve from 1.00000\n",
            "Epoch 98/200\n",
            "2/2 [==============================] - 52s 26s/step - loss: 0.5182 - accuracy: 0.8906 - val_loss: 0.3775 - val_accuracy: 0.9375\n",
            "\n",
            "Epoch 00098: val_accuracy did not improve from 1.00000\n",
            "Epoch 99/200\n",
            "2/2 [==============================] - 51s 26s/step - loss: 0.2782 - accuracy: 0.9062 - val_loss: 1.9519 - val_accuracy: 0.6562\n",
            "\n",
            "Epoch 00099: val_accuracy did not improve from 1.00000\n",
            "Epoch 100/200\n",
            "2/2 [==============================] - 38s 19s/step - loss: 0.6821 - accuracy: 0.8750 - val_loss: 0.4480 - val_accuracy: 0.7500\n",
            "\n",
            "Epoch 00100: val_accuracy did not improve from 1.00000\n",
            "Epoch 101/200\n",
            "2/2 [==============================] - 52s 26s/step - loss: 0.7666 - accuracy: 0.8594 - val_loss: 0.3912 - val_accuracy: 0.8750\n",
            "\n",
            "Epoch 00101: val_accuracy did not improve from 1.00000\n",
            "Epoch 102/200\n",
            "2/2 [==============================] - 51s 25s/step - loss: 0.1146 - accuracy: 0.9688 - val_loss: 0.9043 - val_accuracy: 0.8438\n",
            "\n",
            "Epoch 00102: val_accuracy did not improve from 1.00000\n",
            "Epoch 103/200\n",
            "2/2 [==============================] - 52s 26s/step - loss: 0.3792 - accuracy: 0.8594 - val_loss: 1.9229 - val_accuracy: 0.6875\n",
            "\n",
            "Epoch 00103: val_accuracy did not improve from 1.00000\n",
            "Epoch 104/200\n",
            "2/2 [==============================] - 37s 19s/step - loss: 0.2652 - accuracy: 0.9375 - val_loss: 0.0383 - val_accuracy: 1.0000\n",
            "\n",
            "Epoch 00104: val_accuracy did not improve from 1.00000\n",
            "Epoch 105/200\n",
            "2/2 [==============================] - 51s 26s/step - loss: 0.2826 - accuracy: 0.9531 - val_loss: 1.6563 - val_accuracy: 0.7188\n",
            "\n",
            "Epoch 00105: val_accuracy did not improve from 1.00000\n",
            "Epoch 106/200\n",
            "2/2 [==============================] - 52s 26s/step - loss: 0.5272 - accuracy: 0.8906 - val_loss: 1.5015 - val_accuracy: 0.8750\n",
            "\n",
            "Epoch 00106: val_accuracy did not improve from 1.00000\n",
            "Epoch 107/200\n",
            "2/2 [==============================] - 51s 26s/step - loss: 0.1419 - accuracy: 0.9375 - val_loss: 0.3706 - val_accuracy: 0.8438\n",
            "\n",
            "Epoch 00107: val_accuracy did not improve from 1.00000\n",
            "Epoch 108/200\n",
            "2/2 [==============================] - 37s 19s/step - loss: 0.1616 - accuracy: 0.9375 - val_loss: 9.0895e-06 - val_accuracy: 1.0000\n",
            "\n",
            "Epoch 00108: val_accuracy did not improve from 1.00000\n",
            "Epoch 109/200\n",
            "2/2 [==============================] - 51s 25s/step - loss: 0.5861 - accuracy: 0.8594 - val_loss: 1.7938 - val_accuracy: 0.7500\n",
            "\n",
            "Epoch 00109: val_accuracy did not improve from 1.00000\n",
            "Epoch 110/200\n",
            "2/2 [==============================] - 51s 25s/step - loss: 0.2593 - accuracy: 0.9219 - val_loss: 0.5654 - val_accuracy: 0.8125\n",
            "\n",
            "Epoch 00110: val_accuracy did not improve from 1.00000\n",
            "Epoch 111/200\n",
            "2/2 [==============================] - 51s 25s/step - loss: 0.4408 - accuracy: 0.9219 - val_loss: 1.0954 - val_accuracy: 0.7500\n",
            "\n",
            "Epoch 00111: val_accuracy did not improve from 1.00000\n",
            "Epoch 112/200\n",
            "2/2 [==============================] - 41s 20s/step - loss: 0.5840 - accuracy: 0.8750 - val_loss: 1.4386 - val_accuracy: 0.7500\n",
            "\n",
            "Epoch 00112: val_accuracy did not improve from 1.00000\n",
            "Epoch 113/200\n",
            "2/2 [==============================] - 51s 26s/step - loss: 0.1146 - accuracy: 0.9688 - val_loss: 0.7230 - val_accuracy: 0.8125\n",
            "\n",
            "Epoch 00113: val_accuracy did not improve from 1.00000\n",
            "Epoch 114/200\n",
            "2/2 [==============================] - 51s 26s/step - loss: 0.1192 - accuracy: 0.9531 - val_loss: 0.3588 - val_accuracy: 0.9062\n",
            "\n",
            "Epoch 00114: val_accuracy did not improve from 1.00000\n",
            "Epoch 115/200\n",
            "2/2 [==============================] - 51s 25s/step - loss: 0.0267 - accuracy: 0.9844 - val_loss: 1.4167 - val_accuracy: 0.7500\n",
            "\n",
            "Epoch 00115: val_accuracy did not improve from 1.00000\n",
            "Epoch 116/200\n",
            "2/2 [==============================] - 37s 19s/step - loss: 0.1539 - accuracy: 0.9844 - val_loss: 0.2711 - val_accuracy: 0.7500\n",
            "\n",
            "Epoch 00116: val_accuracy did not improve from 1.00000\n",
            "Epoch 117/200\n",
            "2/2 [==============================] - 51s 25s/step - loss: 0.4250 - accuracy: 0.9375 - val_loss: 0.8965 - val_accuracy: 0.7500\n",
            "\n",
            "Epoch 00117: val_accuracy did not improve from 1.00000\n",
            "Epoch 118/200\n",
            "2/2 [==============================] - 51s 25s/step - loss: 0.0709 - accuracy: 0.9531 - val_loss: 0.3547 - val_accuracy: 0.8750\n",
            "\n",
            "Epoch 00118: val_accuracy did not improve from 1.00000\n",
            "Epoch 119/200\n",
            "2/2 [==============================] - 52s 26s/step - loss: 0.1441 - accuracy: 0.9688 - val_loss: 1.6094 - val_accuracy: 0.7812\n",
            "\n",
            "Epoch 00119: val_accuracy did not improve from 1.00000\n",
            "Epoch 120/200\n",
            "2/2 [==============================] - 37s 18s/step - loss: 0.1813 - accuracy: 0.9531 - val_loss: 0.0012 - val_accuracy: 1.0000\n",
            "\n",
            "Epoch 00120: val_accuracy did not improve from 1.00000\n",
            "Epoch 121/200\n",
            "2/2 [==============================] - 51s 25s/step - loss: 0.0240 - accuracy: 0.9844 - val_loss: 1.8628 - val_accuracy: 0.7812\n",
            "\n",
            "Epoch 00121: val_accuracy did not improve from 1.00000\n",
            "Epoch 122/200\n",
            "2/2 [==============================] - 51s 25s/step - loss: 0.1659 - accuracy: 0.9375 - val_loss: 0.8021 - val_accuracy: 0.8125\n",
            "\n",
            "Epoch 00122: val_accuracy did not improve from 1.00000\n",
            "Epoch 123/200\n",
            "2/2 [==============================] - 51s 26s/step - loss: 0.0735 - accuracy: 0.9844 - val_loss: 0.6441 - val_accuracy: 0.8750\n",
            "\n",
            "Epoch 00123: val_accuracy did not improve from 1.00000\n",
            "Epoch 124/200\n",
            "2/2 [==============================] - 37s 18s/step - loss: 0.2571 - accuracy: 0.9375 - val_loss: 2.9588 - val_accuracy: 0.7500\n",
            "\n",
            "Epoch 00124: val_accuracy did not improve from 1.00000\n",
            "Epoch 125/200\n",
            "2/2 [==============================] - 52s 26s/step - loss: 0.1403 - accuracy: 0.9688 - val_loss: 0.8282 - val_accuracy: 0.8438\n",
            "\n",
            "Epoch 00125: val_accuracy did not improve from 1.00000\n",
            "Epoch 126/200\n",
            "2/2 [==============================] - 51s 25s/step - loss: 0.2640 - accuracy: 0.9531 - val_loss: 1.2993 - val_accuracy: 0.8125\n",
            "\n",
            "Epoch 00126: val_accuracy did not improve from 1.00000\n",
            "Epoch 127/200\n",
            "2/2 [==============================] - 51s 26s/step - loss: 0.0749 - accuracy: 0.9688 - val_loss: 1.2327 - val_accuracy: 0.7812\n",
            "\n",
            "Epoch 00127: val_accuracy did not improve from 1.00000\n",
            "Epoch 128/200\n",
            "2/2 [==============================] - 37s 18s/step - loss: 0.1427 - accuracy: 0.9375 - val_loss: 0.0000e+00 - val_accuracy: 1.0000\n",
            "\n",
            "Epoch 00128: val_accuracy did not improve from 1.00000\n",
            "Epoch 129/200\n",
            "2/2 [==============================] - 51s 25s/step - loss: 0.1320 - accuracy: 0.9531 - val_loss: 1.2828 - val_accuracy: 0.7812\n",
            "\n",
            "Epoch 00129: val_accuracy did not improve from 1.00000\n",
            "Epoch 130/200\n",
            "2/2 [==============================] - 51s 25s/step - loss: 0.1242 - accuracy: 0.9688 - val_loss: 2.2470 - val_accuracy: 0.7500\n",
            "\n",
            "Epoch 00130: val_accuracy did not improve from 1.00000\n",
            "Epoch 131/200\n",
            "2/2 [==============================] - 51s 25s/step - loss: 0.0631 - accuracy: 0.9688 - val_loss: 1.3523 - val_accuracy: 0.7500\n",
            "\n",
            "Epoch 00131: val_accuracy did not improve from 1.00000\n",
            "Epoch 132/200\n",
            "2/2 [==============================] - 39s 19s/step - loss: 0.4510 - accuracy: 0.9062 - val_loss: 0.1991 - val_accuracy: 0.7500\n",
            "\n",
            "Epoch 00132: val_accuracy did not improve from 1.00000\n",
            "Epoch 133/200\n",
            "2/2 [==============================] - 51s 25s/step - loss: 0.2368 - accuracy: 0.9531 - val_loss: 1.0046 - val_accuracy: 0.7812\n",
            "\n",
            "Epoch 00133: val_accuracy did not improve from 1.00000\n",
            "Epoch 134/200\n",
            "2/2 [==============================] - 51s 25s/step - loss: 0.2659 - accuracy: 0.9688 - val_loss: 0.8449 - val_accuracy: 0.8438\n",
            "\n",
            "Epoch 00134: val_accuracy did not improve from 1.00000\n",
            "Epoch 135/200\n",
            "2/2 [==============================] - 51s 25s/step - loss: 0.3175 - accuracy: 0.8906 - val_loss: 1.8164 - val_accuracy: 0.7812\n",
            "\n",
            "Epoch 00135: val_accuracy did not improve from 1.00000\n",
            "Epoch 136/200\n",
            "2/2 [==============================] - 37s 19s/step - loss: 0.0172 - accuracy: 0.9844 - val_loss: 0.6965 - val_accuracy: 0.7500\n",
            "\n",
            "Epoch 00136: val_accuracy did not improve from 1.00000\n",
            "Epoch 137/200\n",
            "2/2 [==============================] - 50s 25s/step - loss: 0.1234 - accuracy: 0.9688 - val_loss: 1.4096 - val_accuracy: 0.7812\n",
            "\n",
            "Epoch 00137: val_accuracy did not improve from 1.00000\n",
            "Epoch 138/200\n",
            "2/2 [==============================] - 51s 26s/step - loss: 0.1757 - accuracy: 0.9688 - val_loss: 1.4089 - val_accuracy: 0.7812\n",
            "\n",
            "Epoch 00138: val_accuracy did not improve from 1.00000\n",
            "Epoch 139/200\n",
            "2/2 [==============================] - 51s 25s/step - loss: 0.4918 - accuracy: 0.9375 - val_loss: 0.6806 - val_accuracy: 0.9062\n",
            "\n",
            "Epoch 00139: val_accuracy did not improve from 1.00000\n",
            "Epoch 140/200\n",
            "2/2 [==============================] - 37s 18s/step - loss: 0.0464 - accuracy: 0.9844 - val_loss: 0.0974 - val_accuracy: 1.0000\n",
            "\n",
            "Epoch 00140: val_accuracy did not improve from 1.00000\n",
            "Epoch 141/200\n",
            "2/2 [==============================] - 51s 25s/step - loss: 0.0590 - accuracy: 0.9844 - val_loss: 1.1788 - val_accuracy: 0.8438\n",
            "\n",
            "Epoch 00141: val_accuracy did not improve from 1.00000\n",
            "Epoch 142/200\n",
            "2/2 [==============================] - 50s 25s/step - loss: 0.0251 - accuracy: 0.9844 - val_loss: 1.1684 - val_accuracy: 0.7500\n",
            "\n",
            "Epoch 00142: val_accuracy did not improve from 1.00000\n",
            "Epoch 143/200\n",
            "2/2 [==============================] - 51s 25s/step - loss: 0.0321 - accuracy: 0.9844 - val_loss: 1.8329 - val_accuracy: 0.8125\n",
            "\n",
            "Epoch 00143: val_accuracy did not improve from 1.00000\n",
            "Epoch 144/200\n",
            "2/2 [==============================] - 37s 18s/step - loss: 0.3315 - accuracy: 0.9688 - val_loss: 0.3630 - val_accuracy: 0.7500\n",
            "\n",
            "Epoch 00144: val_accuracy did not improve from 1.00000\n",
            "Epoch 145/200\n",
            "2/2 [==============================] - 51s 26s/step - loss: 0.1253 - accuracy: 0.9688 - val_loss: 1.5942 - val_accuracy: 0.8438\n",
            "\n",
            "Epoch 00145: val_accuracy did not improve from 1.00000\n",
            "Epoch 146/200\n",
            "2/2 [==============================] - 51s 25s/step - loss: 0.2084 - accuracy: 0.9531 - val_loss: 0.7590 - val_accuracy: 0.8438\n",
            "\n",
            "Epoch 00146: val_accuracy did not improve from 1.00000\n",
            "Epoch 147/200\n",
            "2/2 [==============================] - 51s 25s/step - loss: 0.2738 - accuracy: 0.9375 - val_loss: 1.0813 - val_accuracy: 0.8438\n",
            "\n",
            "Epoch 00147: val_accuracy did not improve from 1.00000\n",
            "Epoch 148/200\n",
            "2/2 [==============================] - 37s 18s/step - loss: 0.0407 - accuracy: 0.9844 - val_loss: 0.8053 - val_accuracy: 0.7500\n",
            "\n",
            "Epoch 00148: val_accuracy did not improve from 1.00000\n",
            "Epoch 149/200\n",
            "2/2 [==============================] - 51s 25s/step - loss: 0.0869 - accuracy: 0.9688 - val_loss: 0.7688 - val_accuracy: 0.7188\n",
            "\n",
            "Epoch 00149: val_accuracy did not improve from 1.00000\n",
            "Epoch 150/200\n",
            "2/2 [==============================] - 51s 26s/step - loss: 0.4989 - accuracy: 0.9219 - val_loss: 1.0723 - val_accuracy: 0.9062\n",
            "\n",
            "Epoch 00150: val_accuracy did not improve from 1.00000\n",
            "Epoch 151/200\n",
            "2/2 [==============================] - 51s 26s/step - loss: 0.2996 - accuracy: 0.9688 - val_loss: 0.2832 - val_accuracy: 0.9375\n",
            "\n",
            "Epoch 00151: val_accuracy did not improve from 1.00000\n",
            "Epoch 152/200\n",
            "2/2 [==============================] - 37s 19s/step - loss: 0.1983 - accuracy: 0.9375 - val_loss: 0.1433 - val_accuracy: 1.0000\n",
            "\n",
            "Epoch 00152: val_accuracy did not improve from 1.00000\n",
            "Epoch 153/200\n",
            "2/2 [==============================] - 51s 25s/step - loss: 0.7710 - accuracy: 0.9531 - val_loss: 1.3124 - val_accuracy: 0.7500\n",
            "\n",
            "Epoch 00153: val_accuracy did not improve from 1.00000\n",
            "Epoch 154/200\n",
            "2/2 [==============================] - 51s 25s/step - loss: 0.0226 - accuracy: 1.0000 - val_loss: 0.9929 - val_accuracy: 0.8438\n",
            "\n",
            "Epoch 00154: val_accuracy did not improve from 1.00000\n",
            "Epoch 155/200\n",
            "2/2 [==============================] - 51s 25s/step - loss: 0.1223 - accuracy: 0.9531 - val_loss: 1.4910 - val_accuracy: 0.8438\n",
            "\n",
            "Epoch 00155: val_accuracy did not improve from 1.00000\n",
            "Epoch 156/200\n",
            "2/2 [==============================] - 37s 18s/step - loss: 0.0459 - accuracy: 0.9688 - val_loss: 0.6212 - val_accuracy: 0.7500\n",
            "\n",
            "Epoch 00156: val_accuracy did not improve from 1.00000\n",
            "Epoch 157/200\n",
            "2/2 [==============================] - 51s 25s/step - loss: 0.0319 - accuracy: 0.9844 - val_loss: 0.8188 - val_accuracy: 0.8438\n",
            "\n",
            "Epoch 00157: val_accuracy did not improve from 1.00000\n",
            "Epoch 158/200\n",
            "2/2 [==============================] - 51s 26s/step - loss: 0.0429 - accuracy: 0.9688 - val_loss: 1.1661 - val_accuracy: 0.8125\n",
            "\n",
            "Epoch 00158: val_accuracy did not improve from 1.00000\n",
            "Epoch 159/200\n",
            "2/2 [==============================] - 51s 25s/step - loss: 0.2068 - accuracy: 0.9531 - val_loss: 0.8093 - val_accuracy: 0.8125\n",
            "\n",
            "Epoch 00159: val_accuracy did not improve from 1.00000\n",
            "Epoch 160/200\n",
            "2/2 [==============================] - 37s 18s/step - loss: 0.0931 - accuracy: 0.9531 - val_loss: 0.0628 - val_accuracy: 1.0000\n",
            "\n",
            "Epoch 00160: val_accuracy did not improve from 1.00000\n",
            "Epoch 161/200\n",
            "2/2 [==============================] - 51s 25s/step - loss: 0.0718 - accuracy: 0.9844 - val_loss: 0.3393 - val_accuracy: 0.8750\n",
            "\n",
            "Epoch 00161: val_accuracy did not improve from 1.00000\n",
            "Epoch 162/200\n",
            "2/2 [==============================] - 51s 25s/step - loss: 0.2543 - accuracy: 0.9219 - val_loss: 1.8081 - val_accuracy: 0.7812\n",
            "\n",
            "Epoch 00162: val_accuracy did not improve from 1.00000\n",
            "Epoch 163/200\n",
            "2/2 [==============================] - 51s 26s/step - loss: 0.2323 - accuracy: 0.9531 - val_loss: 0.6655 - val_accuracy: 0.7812\n",
            "\n",
            "Epoch 00163: val_accuracy did not improve from 1.00000\n",
            "Epoch 164/200\n",
            "2/2 [==============================] - 37s 19s/step - loss: 0.0140 - accuracy: 1.0000 - val_loss: 0.0238 - val_accuracy: 1.0000\n",
            "\n",
            "Epoch 00164: val_accuracy did not improve from 1.00000\n",
            "Epoch 165/200\n",
            "2/2 [==============================] - 51s 25s/step - loss: 0.4314 - accuracy: 0.9062 - val_loss: 1.3293 - val_accuracy: 0.8438\n",
            "\n",
            "Epoch 00165: val_accuracy did not improve from 1.00000\n",
            "Epoch 166/200\n",
            "2/2 [==============================] - 51s 25s/step - loss: 0.1337 - accuracy: 0.9844 - val_loss: 0.8525 - val_accuracy: 0.8125\n",
            "\n",
            "Epoch 00166: val_accuracy did not improve from 1.00000\n",
            "Epoch 167/200\n",
            "2/2 [==============================] - 51s 25s/step - loss: 0.2843 - accuracy: 0.9531 - val_loss: 0.9407 - val_accuracy: 0.8125\n",
            "\n",
            "Epoch 00167: val_accuracy did not improve from 1.00000\n",
            "Epoch 168/200\n",
            "2/2 [==============================] - 37s 18s/step - loss: 0.1298 - accuracy: 0.9844 - val_loss: 2.4843 - val_accuracy: 0.7500\n",
            "\n",
            "Epoch 00168: val_accuracy did not improve from 1.00000\n",
            "Epoch 169/200\n",
            "2/2 [==============================] - 51s 25s/step - loss: 0.0752 - accuracy: 0.9688 - val_loss: 1.0621 - val_accuracy: 0.8125\n",
            "\n",
            "Epoch 00169: val_accuracy did not improve from 1.00000\n",
            "Epoch 170/200\n",
            "2/2 [==============================] - 51s 25s/step - loss: 0.1848 - accuracy: 0.9375 - val_loss: 1.3556 - val_accuracy: 0.8750\n",
            "\n",
            "Epoch 00170: val_accuracy did not improve from 1.00000\n",
            "Epoch 171/200\n",
            "2/2 [==============================] - 51s 26s/step - loss: 0.0670 - accuracy: 0.9688 - val_loss: 0.7067 - val_accuracy: 0.8125\n",
            "\n",
            "Epoch 00171: val_accuracy did not improve from 1.00000\n",
            "Epoch 172/200\n",
            "2/2 [==============================] - 37s 19s/step - loss: 0.1617 - accuracy: 0.9531 - val_loss: 0.1737 - val_accuracy: 0.7500\n",
            "\n",
            "Epoch 00172: val_accuracy did not improve from 1.00000\n",
            "Epoch 173/200\n",
            "2/2 [==============================] - 51s 25s/step - loss: 0.0520 - accuracy: 0.9688 - val_loss: 0.4785 - val_accuracy: 0.8438\n",
            "\n",
            "Epoch 00173: val_accuracy did not improve from 1.00000\n",
            "Epoch 174/200\n",
            "2/2 [==============================] - 51s 25s/step - loss: 0.2880 - accuracy: 0.9531 - val_loss: 1.0990 - val_accuracy: 0.7500\n",
            "\n",
            "Epoch 00174: val_accuracy did not improve from 1.00000\n",
            "Epoch 175/200\n",
            "2/2 [==============================] - 51s 26s/step - loss: 0.0256 - accuracy: 0.9844 - val_loss: 0.8114 - val_accuracy: 0.9062\n",
            "\n",
            "Epoch 00175: val_accuracy did not improve from 1.00000\n",
            "Epoch 176/200\n",
            "2/2 [==============================] - 37s 18s/step - loss: 0.1697 - accuracy: 0.9844 - val_loss: 0.2211 - val_accuracy: 0.7500\n",
            "\n",
            "Epoch 00176: val_accuracy did not improve from 1.00000\n",
            "Epoch 177/200\n",
            "2/2 [==============================] - 51s 25s/step - loss: 0.1426 - accuracy: 0.9375 - val_loss: 1.4786 - val_accuracy: 0.8438\n",
            "\n",
            "Epoch 00177: val_accuracy did not improve from 1.00000\n",
            "Epoch 178/200\n",
            "2/2 [==============================] - 51s 25s/step - loss: 0.1059 - accuracy: 0.9375 - val_loss: 0.6975 - val_accuracy: 0.7812\n",
            "\n",
            "Epoch 00178: val_accuracy did not improve from 1.00000\n",
            "Epoch 179/200\n",
            "2/2 [==============================] - 51s 25s/step - loss: 0.0067 - accuracy: 1.0000 - val_loss: 0.3531 - val_accuracy: 0.8750\n",
            "\n",
            "Epoch 00179: val_accuracy did not improve from 1.00000\n",
            "Epoch 180/200\n",
            "2/2 [==============================] - 37s 18s/step - loss: 0.0584 - accuracy: 0.9844 - val_loss: 0.4977 - val_accuracy: 0.7500\n",
            "\n",
            "Epoch 00180: val_accuracy did not improve from 1.00000\n",
            "Epoch 181/200\n",
            "2/2 [==============================] - 51s 25s/step - loss: 0.0618 - accuracy: 0.9844 - val_loss: 1.8632 - val_accuracy: 0.7188\n",
            "\n",
            "Epoch 00181: val_accuracy did not improve from 1.00000\n",
            "Epoch 182/200\n",
            "2/2 [==============================] - 51s 25s/step - loss: 0.0427 - accuracy: 0.9844 - val_loss: 0.5530 - val_accuracy: 0.8438\n",
            "\n",
            "Epoch 00182: val_accuracy did not improve from 1.00000\n",
            "Epoch 183/200\n",
            "2/2 [==============================] - 51s 26s/step - loss: 0.1060 - accuracy: 0.9531 - val_loss: 0.4324 - val_accuracy: 0.9062\n",
            "\n",
            "Epoch 00183: val_accuracy did not improve from 1.00000\n",
            "Epoch 184/200\n",
            "2/2 [==============================] - 37s 18s/step - loss: 0.0958 - accuracy: 0.9688 - val_loss: 0.0363 - val_accuracy: 1.0000\n",
            "\n",
            "Epoch 00184: val_accuracy did not improve from 1.00000\n",
            "Epoch 185/200\n",
            "2/2 [==============================] - 51s 25s/step - loss: 0.0052 - accuracy: 1.0000 - val_loss: 0.8793 - val_accuracy: 0.8125\n",
            "\n",
            "Epoch 00185: val_accuracy did not improve from 1.00000\n",
            "Epoch 186/200\n",
            "2/2 [==============================] - 50s 25s/step - loss: 0.0661 - accuracy: 0.9688 - val_loss: 1.4995 - val_accuracy: 0.9062\n",
            "\n",
            "Epoch 00186: val_accuracy did not improve from 1.00000\n",
            "Epoch 187/200\n",
            "2/2 [==============================] - 51s 25s/step - loss: 0.0546 - accuracy: 0.9844 - val_loss: 0.8227 - val_accuracy: 0.7500\n",
            "\n",
            "Epoch 00187: val_accuracy did not improve from 1.00000\n",
            "Epoch 188/200\n",
            "2/2 [==============================] - 37s 19s/step - loss: 0.0600 - accuracy: 0.9688 - val_loss: 0.0067 - val_accuracy: 1.0000\n",
            "\n",
            "Epoch 00188: val_accuracy did not improve from 1.00000\n",
            "Epoch 189/200\n",
            "2/2 [==============================] - 51s 25s/step - loss: 0.0172 - accuracy: 0.9844 - val_loss: 0.9016 - val_accuracy: 0.7812\n",
            "\n",
            "Epoch 00189: val_accuracy did not improve from 1.00000\n",
            "Epoch 190/200\n",
            "2/2 [==============================] - 51s 25s/step - loss: 0.0041 - accuracy: 1.0000 - val_loss: 1.5453 - val_accuracy: 0.8438\n",
            "\n",
            "Epoch 00190: val_accuracy did not improve from 1.00000\n",
            "Epoch 191/200\n",
            "2/2 [==============================] - 51s 26s/step - loss: 0.0801 - accuracy: 0.9844 - val_loss: 0.3805 - val_accuracy: 0.9375\n",
            "\n",
            "Epoch 00191: val_accuracy did not improve from 1.00000\n",
            "Epoch 192/200\n",
            "2/2 [==============================] - 37s 19s/step - loss: 0.1193 - accuracy: 0.9688 - val_loss: 5.7220e-06 - val_accuracy: 1.0000\n",
            "\n",
            "Epoch 00192: val_accuracy did not improve from 1.00000\n",
            "Epoch 193/200\n",
            "2/2 [==============================] - 51s 25s/step - loss: 0.0370 - accuracy: 0.9688 - val_loss: 0.5579 - val_accuracy: 0.8438\n",
            "\n",
            "Epoch 00193: val_accuracy did not improve from 1.00000\n",
            "Epoch 194/200\n",
            "2/2 [==============================] - 51s 25s/step - loss: 0.0414 - accuracy: 0.9844 - val_loss: 1.7739 - val_accuracy: 0.8125\n",
            "\n",
            "Epoch 00194: val_accuracy did not improve from 1.00000\n",
            "Epoch 195/200\n",
            "2/2 [==============================] - 51s 25s/step - loss: 0.0479 - accuracy: 0.9844 - val_loss: 0.8639 - val_accuracy: 0.7500\n",
            "\n",
            "Epoch 00195: val_accuracy did not improve from 1.00000\n",
            "Epoch 196/200\n",
            "2/2 [==============================] - 37s 18s/step - loss: 0.1853 - accuracy: 0.9531 - val_loss: 1.2696 - val_accuracy: 0.7500\n",
            "\n",
            "Epoch 00196: val_accuracy did not improve from 1.00000\n",
            "Epoch 197/200\n",
            "2/2 [==============================] - 51s 25s/step - loss: 0.3490 - accuracy: 0.9219 - val_loss: 1.2517 - val_accuracy: 0.9062\n",
            "\n",
            "Epoch 00197: val_accuracy did not improve from 1.00000\n",
            "Epoch 198/200\n",
            "2/2 [==============================] - 51s 26s/step - loss: 0.1207 - accuracy: 0.9688 - val_loss: 0.5332 - val_accuracy: 0.8438\n",
            "\n",
            "Epoch 00198: val_accuracy did not improve from 1.00000\n",
            "Epoch 199/200\n",
            "2/2 [==============================] - 51s 26s/step - loss: 0.0858 - accuracy: 0.9531 - val_loss: 1.5360 - val_accuracy: 0.7188\n",
            "\n",
            "Epoch 00199: val_accuracy did not improve from 1.00000\n",
            "Epoch 200/200\n",
            "2/2 [==============================] - 37s 19s/step - loss: 0.1890 - accuracy: 0.9844 - val_loss: 1.9718 - val_accuracy: 0.7500\n",
            "\n",
            "Epoch 00200: val_accuracy did not improve from 1.00000\n"
          ],
          "name": "stdout"
        }
      ]
    },
    {
      "cell_type": "code",
      "metadata": {
        "id": "ncWv7jybFpJH",
        "colab_type": "code",
        "colab": {
          "base_uri": "https://localhost:8080/",
          "height": 295
        },
        "outputId": "4cefa1bb-3087-4c9c-fd3b-6352c16db0cd"
      },
      "source": [
        "import matplotlib.pyplot as plt\n",
        "plt.plot(hist.history[\"accuracy\"])\n",
        "plt.plot(hist.history['val_accuracy'])\n",
        "\n",
        "plt.title(\"model accuracy\")\n",
        "plt.ylabel(\"Accuracy\")\n",
        "plt.xlabel(\"Epoch\")\n",
        "plt.legend([\"Accuracy\",\"Validation Accuracy\"])\n",
        "plt.show()"
      ],
      "execution_count": 32,
      "outputs": [
        {
          "output_type": "display_data",
          "data": {
            "image/png": "[encoded data removed]",
            "text/plain": [
              "<Figure size 432x288 with 1 Axes>"
            ]
          },
          "metadata": {
            "tags": [],
            "needs_background": "light"
          }
        }
      ]
    },
    {
      "cell_type": "code",
      "metadata": {
        "id": "tbElZyN7FsdV",
        "colab_type": "code",
        "colab": {
          "base_uri": "https://localhost:8080/",
          "height": 279
        },
        "outputId": "4d6b5b02-39d1-4624-dc59-7e77fdf81312"
      },
      "source": [
        "plt.plot(hist.history['loss'])\n",
        "plt.plot(hist.history['val_loss'])\n",
        "plt.ylabel(\"Loss\")\n",
        "plt.xlabel(\"Epoch\")\n",
        "plt.legend([\"loss\",\"Validation Loss\"])\n",
        "plt.show()"
      ],
      "execution_count": 33,
      "outputs": [
        {
          "output_type": "display_data",
          "data": {
            "image/png": "[encoded data removed]",
            "text/plain": [
              "<Figure size 432x288 with 1 Axes>"
            ]
          },
          "metadata": {
            "tags": [],
            "needs_background": "light"
          }
        }
      ]
    },
    {
      "cell_type": "code",
      "metadata": {
        "id": "af0po5MVFvA7",
        "colab_type": "code",
        "colab": {}
      },
      "source": [
        "from keras.preprocessing.image import ImageDataGenerator\n",
        "from sklearn.metrics import classification_report, confusion_matrix\n",
        "\n",
        "test_datagen = ImageDataGenerator()"
      ],
      "execution_count": 34,
      "outputs": []
    },
    {
      "cell_type": "code",
      "metadata": {
        "id": "r7_-07qfFzWg",
        "colab_type": "code",
        "colab": {
          "base_uri": "https://localhost:8080/",
          "height": 34
        },
        "outputId": "7ebbccfe-71e0-48cc-a751-c9456f9b762e"
      },
      "source": [
        "test_generator = test_datagen.flow_from_directory('/content/drive/My Drive/data_ouput/test',\n",
        "                                                        target_size=(224, 224),\n",
        "                                                        class_mode='categorical')"
      ],
      "execution_count": 35,
      "outputs": [
        {
          "output_type": "stream",
          "text": [
            "Found 100 images belonging to 4 classes.\n"
          ],
          "name": "stdout"
        }
      ]
    },
    {
      "cell_type": "code",
      "metadata": {
        "id": "4Z6btHxVF2g_",
        "colab_type": "code",
        "colab": {
          "base_uri": "https://localhost:8080/",
          "height": 306
        },
        "outputId": "5c17862b-4070-45cf-8920-683b89f32100"
      },
      "source": [
        "import numpy as np\n",
        "#Confution Matrix and Classification Report\n",
        "Y_pred = model_final.predict_generator(test_generator)\n",
        "y_pred = np.argmax(Y_pred, axis=1)\n",
        "print('Confusion Matrix')\n",
        "print(confusion_matrix(test_generator.classes, y_pred))\n",
        "print('Classification Report')\n",
        "target_names = ['grade0', 'grade1', 'grade2','grade3']\n",
        "print(classification_report(test_generator.classes, y_pred, target_names=target_names))"
      ],
      "execution_count": 36,
      "outputs": [
        {
          "output_type": "stream",
          "text": [
            "Confusion Matrix\n",
            "[[5 6 7 7]\n",
            " [8 5 4 8]\n",
            " [6 9 4 6]\n",
            " [5 4 9 7]]\n",
            "Classification Report\n",
            "              precision    recall  f1-score   support\n",
            "\n",
            "      grade0       0.21      0.20      0.20        25\n",
            "      grade1       0.21      0.20      0.20        25\n",
            "      grade2       0.17      0.16      0.16        25\n",
            "      grade3       0.25      0.28      0.26        25\n",
            "\n",
            "    accuracy                           0.21       100\n",
            "   macro avg       0.21      0.21      0.21       100\n",
            "weighted avg       0.21      0.21      0.21       100\n",
            "\n"
          ],
          "name": "stdout"
        }
      ]
    },
    {
      "cell_type": "code",
      "metadata": {
        "id": "GM4VcgRrGFoH",
        "colab_type": "code",
        "colab": {
          "base_uri": "https://localhost:8080/",
          "height": 153
        },
        "outputId": "767ec2d4-46f9-4697-e13c-39440f42389c"
      },
      "source": [
        "import os\n",
        "data_path='/content/drive/My Drive/data_ouput/test'\n",
        "data_dir_list=os.listdir(data_path)\n",
        "for dataset in data_dir_list:\n",
        "  print(dataset)\n",
        "  img_list=os.listdir(data_path+'/'+dataset)\n",
        "  correctCount=0\n",
        "  wrongCount=0\n",
        "  for img in img_list:\n",
        "    img_path=data_path+'/'+dataset+'/'+img\n",
        "    input_image = image.load_img(img_path,target_size=(224,224))\n",
        "    input_image = np.asarray(input_image)\n",
        "    input_image = np.expand_dims(input_image, axis=0)\n",
        "    output = model_final.predict(input_image)\n",
        "    ans='grade'+str(np.argmax(output[0],axis=0))\n",
        "    if( ans in img):\n",
        "      correctCount+=1\n",
        "    else:\n",
        "      wrongCount+=1\n",
        "  print(\"correct Count {} WrongCount {}\".format(correctCount,wrongCount))"
      ],
      "execution_count": 37,
      "outputs": [
        {
          "output_type": "stream",
          "text": [
            "grade1\n",
            "correct Count 19 WrongCount 6\n",
            "grade0\n",
            "correct Count 22 WrongCount 3\n",
            "grade2\n",
            "correct Count 22 WrongCount 3\n",
            "grade3\n",
            "correct Count 23 WrongCount 2\n"
          ],
          "name": "stdout"
        }
      ]
    },
    {
      "cell_type": "code",
      "metadata": {
        "id": "lr2nvInpGKZj",
        "colab_type": "code",
        "colab": {
          "base_uri": "https://localhost:8080/",
          "height": 51
        },
        "outputId": "a632f829-6f13-4047-a17f-3ec6b6e20861"
      },
      "source": [
        "loss,acc=model_final.evaluate(test_generator)\n",
        "acc"
      ],
      "execution_count": 38,
      "outputs": [
        {
          "output_type": "stream",
          "text": [
            "4/4 [==============================] - 51s 13s/step\n"
          ],
          "name": "stdout"
        },
        {
          "output_type": "execute_result",
          "data": {
            "text/plain": [
              "0.8600000143051147"
            ]
          },
          "metadata": {
            "tags": []
          },
          "execution_count": 38
        }
      ]
    },
    {
      "cell_type": "code",
      "metadata": {
        "id": "K8rupFG-GOWZ",
        "colab_type": "code",
        "colab": {
          "base_uri": "https://localhost:8080/",
          "height": 51
        },
        "outputId": "d8d6d2a6-63e8-43fe-fe8c-fa1b8cd46075"
      },
      "source": [
        "loss,acc=model_final.evaluate(traindata)\n",
        "acc"
      ],
      "execution_count": 39,
      "outputs": [
        {
          "output_type": "stream",
          "text": [
            "25/25 [==============================] - 404s 16s/step\n"
          ],
          "name": "stdout"
        },
        {
          "output_type": "execute_result",
          "data": {
            "text/plain": [
              "1.0"
            ]
          },
          "metadata": {
            "tags": []
          },
          "execution_count": 39
        }
      ]
    },
    {
      "cell_type": "code",
      "metadata": {
        "id": "lYL4xTI_Gh_3",
        "colab_type": "code",
        "colab": {
          "base_uri": "https://localhost:8080/",
          "height": 51
        },
        "outputId": "f4a0aea2-4a1a-4571-a2ed-88d302952f70"
      },
      "source": [
        "loss,acc=model_final.evaluate(testdata)\n",
        "acc"
      ],
      "execution_count": 40,
      "outputs": [
        {
          "output_type": "stream",
          "text": [
            "4/4 [==============================] - 50s 13s/step\n"
          ],
          "name": "stdout"
        },
        {
          "output_type": "execute_result",
          "data": {
            "text/plain": [
              "0.8399999737739563"
            ]
          },
          "metadata": {
            "tags": []
          },
          "execution_count": 40
        }
      ]
    },
    {
      "cell_type": "code",
      "metadata": {
        "id": "uMd6qXthZ-XI",
        "colab_type": "code",
        "colab": {}
      },
      "source": [
        ""
      ],
      "execution_count": null,
      "outputs": []
    },
    {
      "cell_type": "code",
      "metadata": {
        "id": "scQ7EfAcGnex",
        "colab_type": "code",
        "colab": {}
      },
      "source": [
        "model_final.save('/content/drive/My Drive/Best models/modelbest.h5')"
      ],
      "execution_count": null,
      "outputs": []
    }
  ]
}