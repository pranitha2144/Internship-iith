{
  "nbformat": 4,
  "nbformat_minor": 0,
  "metadata": {
    "colab": {
      "name": "vgg16",
      "provenance": [],
      "mount_file_id": "1IhyoGy7EHEgj120Y7aEt15WFbYJP6aXH",
      "authorship_tag": "ABX9TyMMIQKpD9cGO5dv2Yg91oE4",
      "include_colab_link": true
    },
    "kernelspec": {
      "name": "python3",
      "display_name": "Python 3"
    }
  },
  "cells": [
    {
      "cell_type": "markdown",
      "metadata": {
        "id": "view-in-github",
        "colab_type": "text"
      },
      "source": [
        "<a href=\"https://colab.research.google.com/github/pranitha2144/Internship-iith/blob/Resnet/vgg16.ipynb\" target=\"_parent\"><img src=\"https://colab.research.google.com/assets/colab-badge.svg\" alt=\"Open In Colab\"/></a>"
      ]
    },
    {
      "cell_type": "code",
      "metadata": {
        "id": "3i-5qcxM7pSC",
        "colab_type": "code",
        "colab": {}
      },
      "source": [
        "import keras\n",
        "from keras.models import Model\n",
        "from keras.layers import Dense\n",
        "from keras import optimizers\n",
        "from keras.preprocessing.image import ImageDataGenerator\n",
        "from keras.preprocessing import image"
      ],
      "execution_count": 44,
      "outputs": []
    },
    {
      "cell_type": "code",
      "metadata": {
        "id": "P_NCAugx70fs",
        "colab_type": "code",
        "colab": {
          "base_uri": "https://localhost:8080/",
          "height": 51
        },
        "outputId": "f66c983d-8abb-4a87-d3ae-a84305e039ae"
      },
      "source": [
        "trdata = ImageDataGenerator(\n",
        "    \n",
        "    )\n",
        "traindata = trdata.flow_from_directory(directory=\"/content/drive/My Drive/data_ouput/train\",target_size=(224,224))\n",
        "tsdata = ImageDataGenerator()\n",
        "testdata = tsdata.flow_from_directory(directory=\"/content/drive/My Drive/data_ouput/val\", target_size=(224,224))"
      ],
      "execution_count": 45,
      "outputs": [
        {
          "output_type": "stream",
          "text": [
            "Found 800 images belonging to 4 classes.\n",
            "Found 100 images belonging to 4 classes.\n"
          ],
          "name": "stdout"
        }
      ]
    },
    {
      "cell_type": "code",
      "metadata": {
        "id": "rg_JdtWb8O00",
        "colab_type": "code",
        "colab": {}
      },
      "source": [
        "from keras.applications.vgg16 import VGG16\n",
        "vggmodel = VGG16(weights='imagenet', include_top=True)"
      ],
      "execution_count": 46,
      "outputs": []
    },
    {
      "cell_type": "code",
      "metadata": {
        "id": "PKuEFjHt8TfJ",
        "colab_type": "code",
        "colab": {
          "base_uri": "https://localhost:8080/",
          "height": 935
        },
        "outputId": "4eec505f-8f60-41df-a988-6860c33597f1"
      },
      "source": [
        "vggmodel.summary()"
      ],
      "execution_count": 47,
      "outputs": [
        {
          "output_type": "stream",
          "text": [
            "Model: \"vgg16\"\n",
            "_________________________________________________________________\n",
            "Layer (type)                 Output Shape              Param #   \n",
            "=================================================================\n",
            "input_3 (InputLayer)         (None, 224, 224, 3)       0         \n",
            "_________________________________________________________________\n",
            "block1_conv1 (Conv2D)        (None, 224, 224, 64)      1792      \n",
            "_________________________________________________________________\n",
            "block1_conv2 (Conv2D)        (None, 224, 224, 64)      36928     \n",
            "_________________________________________________________________\n",
            "block1_pool (MaxPooling2D)   (None, 112, 112, 64)      0         \n",
            "_________________________________________________________________\n",
            "block2_conv1 (Conv2D)        (None, 112, 112, 128)     73856     \n",
            "_________________________________________________________________\n",
            "block2_conv2 (Conv2D)        (None, 112, 112, 128)     147584    \n",
            "_________________________________________________________________\n",
            "block2_pool (MaxPooling2D)   (None, 56, 56, 128)       0         \n",
            "_________________________________________________________________\n",
            "block3_conv1 (Conv2D)        (None, 56, 56, 256)       295168    \n",
            "_________________________________________________________________\n",
            "block3_conv2 (Conv2D)        (None, 56, 56, 256)       590080    \n",
            "_________________________________________________________________\n",
            "block3_conv3 (Conv2D)        (None, 56, 56, 256)       590080    \n",
            "_________________________________________________________________\n",
            "block3_pool (MaxPooling2D)   (None, 28, 28, 256)       0         \n",
            "_________________________________________________________________\n",
            "block4_conv1 (Conv2D)        (None, 28, 28, 512)       1180160   \n",
            "_________________________________________________________________\n",
            "block4_conv2 (Conv2D)        (None, 28, 28, 512)       2359808   \n",
            "_________________________________________________________________\n",
            "block4_conv3 (Conv2D)        (None, 28, 28, 512)       2359808   \n",
            "_________________________________________________________________\n",
            "block4_pool (MaxPooling2D)   (None, 14, 14, 512)       0         \n",
            "_________________________________________________________________\n",
            "block5_conv1 (Conv2D)        (None, 14, 14, 512)       2359808   \n",
            "_________________________________________________________________\n",
            "block5_conv2 (Conv2D)        (None, 14, 14, 512)       2359808   \n",
            "_________________________________________________________________\n",
            "block5_conv3 (Conv2D)        (None, 14, 14, 512)       2359808   \n",
            "_________________________________________________________________\n",
            "block5_pool (MaxPooling2D)   (None, 7, 7, 512)         0         \n",
            "_________________________________________________________________\n",
            "flatten (Flatten)            (None, 25088)             0         \n",
            "_________________________________________________________________\n",
            "fc1 (Dense)                  (None, 4096)              102764544 \n",
            "_________________________________________________________________\n",
            "fc2 (Dense)                  (None, 4096)              16781312  \n",
            "_________________________________________________________________\n",
            "predictions (Dense)          (None, 1000)              4097000   \n",
            "=================================================================\n",
            "Total params: 138,357,544\n",
            "Trainable params: 138,357,544\n",
            "Non-trainable params: 0\n",
            "_________________________________________________________________\n"
          ],
          "name": "stdout"
        }
      ]
    },
    {
      "cell_type": "code",
      "metadata": {
        "id": "GG60hKI68aWo",
        "colab_type": "code",
        "colab": {
          "base_uri": "https://localhost:8080/",
          "height": 340
        },
        "outputId": "b2516274-a8e8-4b18-c4ed-c27be5c6f15c"
      },
      "source": [
        "for layers in (vggmodel.layers)[:19]:\n",
        "    print(layers)\n",
        "    layers.trainable = False"
      ],
      "execution_count": 48,
      "outputs": [
        {
          "output_type": "stream",
          "text": [
            "<keras.engine.input_layer.InputLayer object at 0x7f3130da2940>\n",
            "<keras.layers.convolutional.Conv2D object at 0x7f3130da2ba8>\n",
            "<keras.layers.convolutional.Conv2D object at 0x7f3130da2cf8>\n",
            "<keras.layers.pooling.MaxPooling2D object at 0x7f3130da2208>\n",
            "<keras.layers.convolutional.Conv2D object at 0x7f31310775c0>\n",
            "<keras.layers.convolutional.Conv2D object at 0x7f3131081780>\n",
            "<keras.layers.pooling.MaxPooling2D object at 0x7f3130dac198>\n",
            "<keras.layers.convolutional.Conv2D object at 0x7f3130dace48>\n",
            "<keras.layers.convolutional.Conv2D object at 0x7f3130d95978>\n",
            "<keras.layers.convolutional.Conv2D object at 0x7f3130d646d8>\n",
            "<keras.layers.pooling.MaxPooling2D object at 0x7f3130d64ef0>\n",
            "<keras.layers.convolutional.Conv2D object at 0x7f3130d64fd0>\n",
            "<keras.layers.convolutional.Conv2D object at 0x7f3130d67c88>\n",
            "<keras.layers.convolutional.Conv2D object at 0x7f3130d6a828>\n",
            "<keras.layers.pooling.MaxPooling2D object at 0x7f3130d732b0>\n",
            "<keras.layers.convolutional.Conv2D object at 0x7f3130d730f0>\n",
            "<keras.layers.convolutional.Conv2D object at 0x7f3130d73dd8>\n",
            "<keras.layers.convolutional.Conv2D object at 0x7f3130cf7978>\n",
            "<keras.layers.pooling.MaxPooling2D object at 0x7f3130cfd400>\n"
          ],
          "name": "stdout"
        }
      ]
    },
    {
      "cell_type": "code",
      "metadata": {
        "id": "59taDHdJ8ikh",
        "colab_type": "code",
        "colab": {
          "base_uri": "https://localhost:8080/",
          "height": 71
        },
        "outputId": "323557c0-92db-43b5-b519-94d173f95e7e"
      },
      "source": [
        "X= vggmodel.layers[-2].output\n",
        "predictions = Dense(4, activation=\"softmax\")(X)\n",
        "model_final = Model(input = vggmodel.input, output = predictions)\n"
      ],
      "execution_count": 49,
      "outputs": [
        {
          "output_type": "stream",
          "text": [
            "/usr/local/lib/python3.6/dist-packages/ipykernel_launcher.py:3: UserWarning: Update your `Model` call to the Keras 2 API: `Model(inputs=Tensor(\"in..., outputs=Tensor(\"de...)`\n",
            "  This is separate from the ipykernel package so we can avoid doing imports until\n"
          ],
          "name": "stderr"
        }
      ]
    },
    {
      "cell_type": "code",
      "metadata": {
        "id": "vFYbGbdq8vg8",
        "colab_type": "code",
        "colab": {}
      },
      "source": [
        "model_final.compile(loss = \"categorical_crossentropy\", optimizer = optimizers.RMSprop(lr=0.00001), metrics=[\"accuracy\"])"
      ],
      "execution_count": 51,
      "outputs": []
    },
    {
      "cell_type": "code",
      "metadata": {
        "id": "i6yUCcd08xum",
        "colab_type": "code",
        "colab": {
          "base_uri": "https://localhost:8080/",
          "height": 935
        },
        "outputId": "ef9f7d1d-0449-41a7-aa05-e90bd675e4bf"
      },
      "source": [
        "model_final.summary()"
      ],
      "execution_count": 52,
      "outputs": [
        {
          "output_type": "stream",
          "text": [
            "Model: \"model_4\"\n",
            "_________________________________________________________________\n",
            "Layer (type)                 Output Shape              Param #   \n",
            "=================================================================\n",
            "input_3 (InputLayer)         (None, 224, 224, 3)       0         \n",
            "_________________________________________________________________\n",
            "block1_conv1 (Conv2D)        (None, 224, 224, 64)      1792      \n",
            "_________________________________________________________________\n",
            "block1_conv2 (Conv2D)        (None, 224, 224, 64)      36928     \n",
            "_________________________________________________________________\n",
            "block1_pool (MaxPooling2D)   (None, 112, 112, 64)      0         \n",
            "_________________________________________________________________\n",
            "block2_conv1 (Conv2D)        (None, 112, 112, 128)     73856     \n",
            "_________________________________________________________________\n",
            "block2_conv2 (Conv2D)        (None, 112, 112, 128)     147584    \n",
            "_________________________________________________________________\n",
            "block2_pool (MaxPooling2D)   (None, 56, 56, 128)       0         \n",
            "_________________________________________________________________\n",
            "block3_conv1 (Conv2D)        (None, 56, 56, 256)       295168    \n",
            "_________________________________________________________________\n",
            "block3_conv2 (Conv2D)        (None, 56, 56, 256)       590080    \n",
            "_________________________________________________________________\n",
            "block3_conv3 (Conv2D)        (None, 56, 56, 256)       590080    \n",
            "_________________________________________________________________\n",
            "block3_pool (MaxPooling2D)   (None, 28, 28, 256)       0         \n",
            "_________________________________________________________________\n",
            "block4_conv1 (Conv2D)        (None, 28, 28, 512)       1180160   \n",
            "_________________________________________________________________\n",
            "block4_conv2 (Conv2D)        (None, 28, 28, 512)       2359808   \n",
            "_________________________________________________________________\n",
            "block4_conv3 (Conv2D)        (None, 28, 28, 512)       2359808   \n",
            "_________________________________________________________________\n",
            "block4_pool (MaxPooling2D)   (None, 14, 14, 512)       0         \n",
            "_________________________________________________________________\n",
            "block5_conv1 (Conv2D)        (None, 14, 14, 512)       2359808   \n",
            "_________________________________________________________________\n",
            "block5_conv2 (Conv2D)        (None, 14, 14, 512)       2359808   \n",
            "_________________________________________________________________\n",
            "block5_conv3 (Conv2D)        (None, 14, 14, 512)       2359808   \n",
            "_________________________________________________________________\n",
            "block5_pool (MaxPooling2D)   (None, 7, 7, 512)         0         \n",
            "_________________________________________________________________\n",
            "flatten (Flatten)            (None, 25088)             0         \n",
            "_________________________________________________________________\n",
            "fc1 (Dense)                  (None, 4096)              102764544 \n",
            "_________________________________________________________________\n",
            "fc2 (Dense)                  (None, 4096)              16781312  \n",
            "_________________________________________________________________\n",
            "dense_4 (Dense)              (None, 4)                 16388     \n",
            "=================================================================\n",
            "Total params: 134,276,932\n",
            "Trainable params: 119,562,244\n",
            "Non-trainable params: 14,714,688\n",
            "_________________________________________________________________\n"
          ],
          "name": "stdout"
        }
      ]
    },
    {
      "cell_type": "code",
      "metadata": {
        "id": "UIV1Rie889QA",
        "colab_type": "code",
        "colab": {
          "base_uri": "https://localhost:8080/",
          "height": 1000
        },
        "outputId": "d7e4b8a2-6358-43e7-9cac-d93433ebbfa7"
      },
      "source": [
        "from keras.callbacks import ModelCheckpoint, EarlyStopping\n",
        "checkpoint = ModelCheckpoint(\"vgg16_1.h5\", monitor='val_acc', verbose=1, save_best_only=True, save_weights_only=False, mode='auto', period=1)\n",
        "early = EarlyStopping(monitor='val_acc', min_delta=0, patience=40, verbose=1, mode='auto')\n",
        "hist=model_final.fit_generator(generator= traindata, steps_per_epoch= 2, epochs= 100, validation_data= testdata, validation_steps=1, callbacks=[checkpoint,early])\n",
        "model_final.save_weights(\"vgg16_1.h5\")"
      ],
      "execution_count": 53,
      "outputs": [
        {
          "output_type": "stream",
          "text": [
            "Epoch 1/100\n",
            "2/2 [==============================] - 52s 26s/step - loss: 1.9646 - accuracy: 0.3438 - val_loss: 1.3302 - val_accuracy: 0.4375\n",
            "Epoch 2/100\n"
          ],
          "name": "stdout"
        },
        {
          "output_type": "stream",
          "text": [
            "/usr/local/lib/python3.6/dist-packages/keras/callbacks/callbacks.py:707: RuntimeWarning: Can save best model only with val_acc available, skipping.\n",
            "  'skipping.' % (self.monitor), RuntimeWarning)\n",
            "/usr/local/lib/python3.6/dist-packages/keras/callbacks/callbacks.py:846: RuntimeWarning: Early stopping conditioned on metric `val_acc` which is not available. Available metrics are: val_loss,val_accuracy,loss,accuracy\n",
            "  (self.monitor, ','.join(list(logs.keys()))), RuntimeWarning\n"
          ],
          "name": "stderr"
        },
        {
          "output_type": "stream",
          "text": [
            "2/2 [==============================] - 51s 25s/step - loss: 1.1143 - accuracy: 0.5156 - val_loss: 0.8289 - val_accuracy: 0.6562\n",
            "Epoch 3/100\n",
            "2/2 [==============================] - 51s 25s/step - loss: 0.7560 - accuracy: 0.6250 - val_loss: 0.7570 - val_accuracy: 0.6875\n",
            "Epoch 4/100\n",
            "2/2 [==============================] - 37s 18s/step - loss: 0.7555 - accuracy: 0.7188 - val_loss: 0.5743 - val_accuracy: 0.7500\n",
            "Epoch 5/100\n",
            "2/2 [==============================] - 50s 25s/step - loss: 0.5036 - accuracy: 0.8594 - val_loss: 0.7221 - val_accuracy: 0.5938\n",
            "Epoch 6/100\n",
            "2/2 [==============================] - 52s 26s/step - loss: 0.5130 - accuracy: 0.8281 - val_loss: 0.5219 - val_accuracy: 0.7500\n",
            "Epoch 7/100\n",
            "2/2 [==============================] - 50s 25s/step - loss: 0.5439 - accuracy: 0.8125 - val_loss: 0.4165 - val_accuracy: 0.8438\n",
            "Epoch 8/100\n",
            "2/2 [==============================] - 36s 18s/step - loss: 0.5285 - accuracy: 0.8281 - val_loss: 0.8262 - val_accuracy: 0.5000\n",
            "Epoch 9/100\n",
            "2/2 [==============================] - 51s 25s/step - loss: 0.5272 - accuracy: 0.8125 - val_loss: 0.5143 - val_accuracy: 0.8438\n",
            "Epoch 10/100\n",
            "2/2 [==============================] - 50s 25s/step - loss: 0.4820 - accuracy: 0.8281 - val_loss: 0.4377 - val_accuracy: 0.7500\n",
            "Epoch 11/100\n",
            "2/2 [==============================] - 51s 25s/step - loss: 0.6145 - accuracy: 0.7188 - val_loss: 0.7336 - val_accuracy: 0.5938\n",
            "Epoch 12/100\n",
            "2/2 [==============================] - 37s 18s/step - loss: 0.3952 - accuracy: 0.8594 - val_loss: 0.1324 - val_accuracy: 1.0000\n",
            "Epoch 13/100\n",
            "2/2 [==============================] - 52s 26s/step - loss: 0.3849 - accuracy: 0.8750 - val_loss: 0.6044 - val_accuracy: 0.7812\n",
            "Epoch 14/100\n",
            "2/2 [==============================] - 50s 25s/step - loss: 0.4180 - accuracy: 0.8281 - val_loss: 0.6664 - val_accuracy: 0.6875\n",
            "Epoch 15/100\n",
            "2/2 [==============================] - 51s 25s/step - loss: 0.3273 - accuracy: 0.8906 - val_loss: 0.4324 - val_accuracy: 0.8438\n",
            "Epoch 16/100\n",
            "2/2 [==============================] - 37s 18s/step - loss: 0.3436 - accuracy: 0.8906 - val_loss: 0.2596 - val_accuracy: 1.0000\n",
            "Epoch 17/100\n",
            "2/2 [==============================] - 50s 25s/step - loss: 0.3063 - accuracy: 0.8750 - val_loss: 0.4859 - val_accuracy: 0.7500\n",
            "Epoch 18/100\n",
            "2/2 [==============================] - 50s 25s/step - loss: 0.3668 - accuracy: 0.8594 - val_loss: 0.4551 - val_accuracy: 0.7500\n",
            "Epoch 19/100\n",
            "2/2 [==============================] - 51s 25s/step - loss: 0.3894 - accuracy: 0.8438 - val_loss: 0.3761 - val_accuracy: 0.8125\n",
            "Epoch 20/100\n",
            "2/2 [==============================] - 37s 19s/step - loss: 0.3523 - accuracy: 0.8125 - val_loss: 1.3786 - val_accuracy: 0.5000\n",
            "Epoch 21/100\n",
            "2/2 [==============================] - 51s 25s/step - loss: 0.4220 - accuracy: 0.8281 - val_loss: 0.6796 - val_accuracy: 0.5938\n",
            "Epoch 22/100\n",
            "2/2 [==============================] - 51s 25s/step - loss: 0.3378 - accuracy: 0.8750 - val_loss: 0.4015 - val_accuracy: 0.8125\n",
            "Epoch 23/100\n",
            "2/2 [==============================] - 50s 25s/step - loss: 0.2762 - accuracy: 0.9062 - val_loss: 0.3645 - val_accuracy: 0.8438\n",
            "Epoch 24/100\n",
            "2/2 [==============================] - 36s 18s/step - loss: 0.3638 - accuracy: 0.8281 - val_loss: 0.1042 - val_accuracy: 1.0000\n",
            "Epoch 25/100\n",
            "2/2 [==============================] - 51s 26s/step - loss: 0.2430 - accuracy: 0.9062 - val_loss: 0.6939 - val_accuracy: 0.8125\n",
            "Epoch 26/100\n",
            "2/2 [==============================] - 51s 26s/step - loss: 0.2979 - accuracy: 0.8906 - val_loss: 0.3172 - val_accuracy: 0.8750\n",
            "Epoch 27/100\n",
            "2/2 [==============================] - 50s 25s/step - loss: 0.2091 - accuracy: 0.9375 - val_loss: 0.4441 - val_accuracy: 0.7188\n",
            "Epoch 28/100\n",
            "2/2 [==============================] - 37s 18s/step - loss: 0.2750 - accuracy: 0.9219 - val_loss: 0.2251 - val_accuracy: 1.0000\n",
            "Epoch 29/100\n",
            "2/2 [==============================] - 51s 25s/step - loss: 0.2966 - accuracy: 0.8594 - val_loss: 0.6438 - val_accuracy: 0.8125\n",
            "Epoch 30/100\n",
            "2/2 [==============================] - 50s 25s/step - loss: 0.1958 - accuracy: 0.9375 - val_loss: 0.2572 - val_accuracy: 0.9062\n",
            "Epoch 31/100\n",
            "2/2 [==============================] - 51s 25s/step - loss: 0.2871 - accuracy: 0.9062 - val_loss: 0.2160 - val_accuracy: 0.9062\n",
            "Epoch 32/100\n",
            "2/2 [==============================] - 36s 18s/step - loss: 0.1499 - accuracy: 0.9688 - val_loss: 0.2212 - val_accuracy: 1.0000\n",
            "Epoch 33/100\n",
            "2/2 [==============================] - 51s 25s/step - loss: 0.2185 - accuracy: 0.9062 - val_loss: 0.5747 - val_accuracy: 0.7188\n",
            "Epoch 34/100\n",
            "2/2 [==============================] - 51s 25s/step - loss: 0.2783 - accuracy: 0.8750 - val_loss: 0.3986 - val_accuracy: 0.8125\n",
            "Epoch 35/100\n",
            "2/2 [==============================] - 50s 25s/step - loss: 0.2569 - accuracy: 0.9219 - val_loss: 0.4528 - val_accuracy: 0.8125\n",
            "Epoch 36/100\n",
            "2/2 [==============================] - 36s 18s/step - loss: 0.5258 - accuracy: 0.7656 - val_loss: 0.0097 - val_accuracy: 1.0000\n",
            "Epoch 37/100\n",
            "2/2 [==============================] - 50s 25s/step - loss: 0.3903 - accuracy: 0.8438 - val_loss: 0.3315 - val_accuracy: 0.7812\n",
            "Epoch 38/100\n",
            "2/2 [==============================] - 51s 25s/step - loss: 0.3239 - accuracy: 0.9062 - val_loss: 0.4529 - val_accuracy: 0.8438\n",
            "Epoch 39/100\n",
            "2/2 [==============================] - 50s 25s/step - loss: 0.1704 - accuracy: 0.9375 - val_loss: 0.4800 - val_accuracy: 0.8438\n",
            "Epoch 40/100\n",
            "2/2 [==============================] - 37s 19s/step - loss: 0.2028 - accuracy: 0.9375 - val_loss: 0.5453 - val_accuracy: 0.5000\n",
            "Epoch 41/100\n",
            "2/2 [==============================] - 51s 25s/step - loss: 0.2179 - accuracy: 0.9375 - val_loss: 0.3499 - val_accuracy: 0.9062\n",
            "Epoch 42/100\n",
            "2/2 [==============================] - 51s 25s/step - loss: 0.1853 - accuracy: 0.9219 - val_loss: 0.4115 - val_accuracy: 0.8438\n",
            "Epoch 43/100\n",
            "2/2 [==============================] - 51s 25s/step - loss: 0.1218 - accuracy: 0.9844 - val_loss: 0.3639 - val_accuracy: 0.7812\n",
            "Epoch 44/100\n",
            "2/2 [==============================] - 37s 18s/step - loss: 0.2333 - accuracy: 0.9062 - val_loss: 0.2198 - val_accuracy: 1.0000\n",
            "Epoch 45/100\n",
            "2/2 [==============================] - 50s 25s/step - loss: 0.2097 - accuracy: 0.9219 - val_loss: 0.5260 - val_accuracy: 0.8438\n",
            "Epoch 46/100\n",
            "2/2 [==============================] - 51s 25s/step - loss: 0.1477 - accuracy: 0.9531 - val_loss: 0.2985 - val_accuracy: 0.9062\n",
            "Epoch 47/100\n",
            "2/2 [==============================] - 51s 25s/step - loss: 0.2406 - accuracy: 0.8750 - val_loss: 0.4342 - val_accuracy: 0.8125\n",
            "Epoch 48/100\n",
            "2/2 [==============================] - 37s 18s/step - loss: 0.2090 - accuracy: 0.9062 - val_loss: 0.4408 - val_accuracy: 0.7500\n",
            "Epoch 49/100\n",
            "2/2 [==============================] - 50s 25s/step - loss: 0.1973 - accuracy: 0.9688 - val_loss: 0.3372 - val_accuracy: 0.8125\n",
            "Epoch 50/100\n",
            "2/2 [==============================] - 51s 25s/step - loss: 0.1707 - accuracy: 0.9375 - val_loss: 0.2593 - val_accuracy: 0.9375\n",
            "Epoch 51/100\n",
            "2/2 [==============================] - 51s 25s/step - loss: 0.1380 - accuracy: 0.9688 - val_loss: 0.6754 - val_accuracy: 0.7188\n",
            "Epoch 52/100\n",
            "2/2 [==============================] - 37s 18s/step - loss: 0.1680 - accuracy: 0.9375 - val_loss: 0.8187 - val_accuracy: 0.7500\n",
            "Epoch 53/100\n",
            "2/2 [==============================] - 51s 26s/step - loss: 0.1527 - accuracy: 0.9375 - val_loss: 0.3498 - val_accuracy: 0.7500\n",
            "Epoch 54/100\n",
            "2/2 [==============================] - 51s 26s/step - loss: 0.1775 - accuracy: 0.9531 - val_loss: 0.3586 - val_accuracy: 0.8438\n",
            "Epoch 55/100\n",
            "2/2 [==============================] - 50s 25s/step - loss: 0.1514 - accuracy: 0.9688 - val_loss: 0.4075 - val_accuracy: 0.8438\n",
            "Epoch 56/100\n",
            "2/2 [==============================] - 36s 18s/step - loss: 0.1649 - accuracy: 0.9375 - val_loss: 0.9571 - val_accuracy: 0.5000\n",
            "Epoch 57/100\n",
            "2/2 [==============================] - 50s 25s/step - loss: 0.1434 - accuracy: 0.9375 - val_loss: 0.4027 - val_accuracy: 0.8438\n",
            "Epoch 58/100\n",
            "2/2 [==============================] - 50s 25s/step - loss: 0.1673 - accuracy: 0.9219 - val_loss: 0.4524 - val_accuracy: 0.7500\n",
            "Epoch 59/100\n",
            "2/2 [==============================] - 50s 25s/step - loss: 0.1188 - accuracy: 0.9688 - val_loss: 0.3695 - val_accuracy: 0.8125\n",
            "Epoch 60/100\n",
            "2/2 [==============================] - 37s 19s/step - loss: 0.1386 - accuracy: 0.9375 - val_loss: 0.0948 - val_accuracy: 1.0000\n",
            "Epoch 61/100\n",
            "2/2 [==============================] - 50s 25s/step - loss: 0.3117 - accuracy: 0.8906 - val_loss: 1.1025 - val_accuracy: 0.5938\n",
            "Epoch 62/100\n",
            "2/2 [==============================] - 50s 25s/step - loss: 0.2499 - accuracy: 0.8906 - val_loss: 0.8487 - val_accuracy: 0.6562\n",
            "Epoch 63/100\n",
            "2/2 [==============================] - 51s 25s/step - loss: 0.1713 - accuracy: 0.9219 - val_loss: 0.1599 - val_accuracy: 0.9375\n",
            "Epoch 64/100\n",
            "2/2 [==============================] - 37s 18s/step - loss: 0.0775 - accuracy: 1.0000 - val_loss: 0.6074 - val_accuracy: 0.7500\n",
            "Epoch 65/100\n",
            "2/2 [==============================] - 51s 25s/step - loss: 0.1140 - accuracy: 0.9531 - val_loss: 0.3926 - val_accuracy: 0.8125\n",
            "Epoch 66/100\n",
            "2/2 [==============================] - 50s 25s/step - loss: 0.1231 - accuracy: 0.9688 - val_loss: 0.5081 - val_accuracy: 0.7812\n",
            "Epoch 67/100\n",
            "2/2 [==============================] - 51s 26s/step - loss: 0.0591 - accuracy: 0.9844 - val_loss: 0.1315 - val_accuracy: 0.9375\n",
            "Epoch 68/100\n",
            "2/2 [==============================] - 36s 18s/step - loss: 0.1157 - accuracy: 0.9688 - val_loss: 1.3950 - val_accuracy: 0.2500\n",
            "Epoch 69/100\n",
            "2/2 [==============================] - 50s 25s/step - loss: 0.2721 - accuracy: 0.8750 - val_loss: 0.3148 - val_accuracy: 0.9375\n",
            "Epoch 70/100\n",
            "2/2 [==============================] - 50s 25s/step - loss: 0.0817 - accuracy: 0.9844 - val_loss: 0.3508 - val_accuracy: 0.8750\n",
            "Epoch 71/100\n",
            "2/2 [==============================] - 50s 25s/step - loss: 0.0779 - accuracy: 0.9844 - val_loss: 0.3838 - val_accuracy: 0.7500\n",
            "Epoch 72/100\n",
            "2/2 [==============================] - 36s 18s/step - loss: 0.1644 - accuracy: 0.9375 - val_loss: 0.0115 - val_accuracy: 1.0000\n",
            "Epoch 73/100\n",
            "2/2 [==============================] - 51s 25s/step - loss: 0.0939 - accuracy: 0.9844 - val_loss: 0.4440 - val_accuracy: 0.7812\n",
            "Epoch 74/100\n",
            "2/2 [==============================] - 51s 25s/step - loss: 0.1810 - accuracy: 0.8906 - val_loss: 0.5130 - val_accuracy: 0.8750\n",
            "Epoch 75/100\n",
            "2/2 [==============================] - 51s 25s/step - loss: 0.1871 - accuracy: 0.9062 - val_loss: 0.2330 - val_accuracy: 0.8750\n",
            "Epoch 76/100\n",
            "2/2 [==============================] - 37s 18s/step - loss: 0.0770 - accuracy: 0.9688 - val_loss: 0.4091 - val_accuracy: 0.7500\n",
            "Epoch 77/100\n",
            "2/2 [==============================] - 51s 25s/step - loss: 0.0713 - accuracy: 0.9844 - val_loss: 0.4349 - val_accuracy: 0.8438\n",
            "Epoch 78/100\n",
            "2/2 [==============================] - 50s 25s/step - loss: 0.1167 - accuracy: 0.9688 - val_loss: 0.4443 - val_accuracy: 0.8438\n",
            "Epoch 79/100\n",
            "2/2 [==============================] - 51s 25s/step - loss: 0.2016 - accuracy: 0.9062 - val_loss: 0.2767 - val_accuracy: 0.8750\n",
            "Epoch 80/100\n",
            "2/2 [==============================] - 37s 19s/step - loss: 0.0487 - accuracy: 1.0000 - val_loss: 0.0101 - val_accuracy: 1.0000\n",
            "Epoch 81/100\n",
            "2/2 [==============================] - 51s 26s/step - loss: 0.0354 - accuracy: 1.0000 - val_loss: 0.1597 - val_accuracy: 0.9375\n",
            "Epoch 82/100\n",
            "2/2 [==============================] - 50s 25s/step - loss: 0.0571 - accuracy: 0.9844 - val_loss: 0.5391 - val_accuracy: 0.7812\n",
            "Epoch 83/100\n",
            "2/2 [==============================] - 50s 25s/step - loss: 0.1122 - accuracy: 0.9375 - val_loss: 0.5637 - val_accuracy: 0.7812\n",
            "Epoch 84/100\n",
            "2/2 [==============================] - 36s 18s/step - loss: 0.1173 - accuracy: 0.9531 - val_loss: 0.2414 - val_accuracy: 1.0000\n",
            "Epoch 85/100\n",
            "2/2 [==============================] - 50s 25s/step - loss: 0.0931 - accuracy: 0.9844 - val_loss: 0.4780 - val_accuracy: 0.8438\n",
            "Epoch 86/100\n",
            "2/2 [==============================] - 50s 25s/step - loss: 0.1114 - accuracy: 0.9531 - val_loss: 0.4026 - val_accuracy: 0.7812\n",
            "Epoch 87/100\n",
            "2/2 [==============================] - 53s 26s/step - loss: 0.0671 - accuracy: 0.9844 - val_loss: 0.3123 - val_accuracy: 0.8125\n",
            "Epoch 88/100\n",
            "2/2 [==============================] - 37s 18s/step - loss: 0.0982 - accuracy: 0.9844 - val_loss: 0.2511 - val_accuracy: 0.7500\n",
            "Epoch 89/100\n",
            "2/2 [==============================] - 50s 25s/step - loss: 0.0569 - accuracy: 0.9844 - val_loss: 0.4084 - val_accuracy: 0.8438\n",
            "Epoch 90/100\n",
            "2/2 [==============================] - 51s 26s/step - loss: 0.0439 - accuracy: 0.9844 - val_loss: 0.2090 - val_accuracy: 0.8750\n",
            "Epoch 91/100\n",
            "2/2 [==============================] - 52s 26s/step - loss: 0.0466 - accuracy: 1.0000 - val_loss: 0.5340 - val_accuracy: 0.8125\n",
            "Epoch 92/100\n",
            "2/2 [==============================] - 37s 19s/step - loss: 0.1340 - accuracy: 0.9062 - val_loss: 0.4006 - val_accuracy: 0.7500\n",
            "Epoch 93/100\n",
            "2/2 [==============================] - 51s 25s/step - loss: 0.2027 - accuracy: 0.8906 - val_loss: 0.5087 - val_accuracy: 0.7812\n",
            "Epoch 94/100\n",
            "2/2 [==============================] - 51s 26s/step - loss: 0.2008 - accuracy: 0.9375 - val_loss: 0.2209 - val_accuracy: 0.8750\n",
            "Epoch 95/100\n",
            "2/2 [==============================] - 50s 25s/step - loss: 0.0446 - accuracy: 0.9844 - val_loss: 0.4082 - val_accuracy: 0.8750\n",
            "Epoch 96/100\n",
            "2/2 [==============================] - 36s 18s/step - loss: 0.0620 - accuracy: 0.9688 - val_loss: 0.2019 - val_accuracy: 1.0000\n",
            "Epoch 97/100\n",
            "2/2 [==============================] - 50s 25s/step - loss: 0.0429 - accuracy: 1.0000 - val_loss: 0.5220 - val_accuracy: 0.8125\n",
            "Epoch 98/100\n",
            "2/2 [==============================] - 50s 25s/step - loss: 0.0457 - accuracy: 0.9844 - val_loss: 0.3851 - val_accuracy: 0.8125\n",
            "Epoch 99/100\n",
            "2/2 [==============================] - 50s 25s/step - loss: 0.0588 - accuracy: 1.0000 - val_loss: 0.2225 - val_accuracy: 0.9375\n",
            "Epoch 100/100\n",
            "2/2 [==============================] - 38s 19s/step - loss: 0.1942 - accuracy: 0.9219 - val_loss: 0.0494 - val_accuracy: 1.0000\n"
          ],
          "name": "stdout"
        }
      ]
    },
    {
      "cell_type": "code",
      "metadata": {
        "id": "YtQxWrIlPU_M",
        "colab_type": "code",
        "colab": {
          "base_uri": "https://localhost:8080/",
          "height": 295
        },
        "outputId": "acfaefc7-1261-4acc-ce9b-3fa5fe79a6a4"
      },
      "source": [
        "import matplotlib.pyplot as plt\n",
        "plt.plot(hist.history[\"accuracy\"])\n",
        "plt.plot(hist.history['val_accuracy'])\n",
        "plt.plot(hist.history['loss'])\n",
        "plt.plot(hist.history['val_loss'])\n",
        "plt.title(\"model accuracy\")\n",
        "plt.ylabel(\"Accuracy\")\n",
        "plt.xlabel(\"Epoch\")\n",
        "plt.legend([\"Accuracy\",\"Validation Accuracy\",\"loss\",\"Validation Loss\"])\n",
        "plt.show()"
      ],
      "execution_count": 54,
      "outputs": [
        {
          "output_type": "display_data",
          "data": {
            "image/png": "[encoded data removed]",
            "text/plain": [
              "<Figure size 432x288 with 1 Axes>"
            ]
          },
          "metadata": {
            "tags": [],
            "needs_background": "light"
          }
        }
      ]
    },
    {
      "cell_type": "code",
      "metadata": {
        "id": "_2GdDycwS52M",
        "colab_type": "code",
        "colab": {}
      },
      "source": [
        "from keras.preprocessing.image import ImageDataGenerator\n",
        "from sklearn.metrics import classification_report, confusion_matrix\n",
        "\n",
        "test_datagen = ImageDataGenerator()"
      ],
      "execution_count": 55,
      "outputs": []
    },
    {
      "cell_type": "code",
      "metadata": {
        "id": "9-fknWZIS-CT",
        "colab_type": "code",
        "colab": {
          "base_uri": "https://localhost:8080/",
          "height": 34
        },
        "outputId": "a24386b3-bcfb-4d99-adfc-2d90e116a723"
      },
      "source": [
        "validation_generator = test_datagen.flow_from_directory('/content/drive/My Drive/data_ouput/test',\n",
        "                                                        target_size=(224, 224),\n",
        "                                                        batch_size=32,\n",
        "                                                        class_mode='categorical')"
      ],
      "execution_count": 56,
      "outputs": [
        {
          "output_type": "stream",
          "text": [
            "Found 100 images belonging to 4 classes.\n"
          ],
          "name": "stdout"
        }
      ]
    },
    {
      "cell_type": "code",
      "metadata": {
        "id": "RSoXpGKcTEnR",
        "colab_type": "code",
        "colab": {
          "base_uri": "https://localhost:8080/",
          "height": 306
        },
        "outputId": "610ac2eb-5095-48a2-ae8e-d546a851aaf9"
      },
      "source": [
        "import numpy as np\n",
        "#Confution Matrix and Classification Report\n",
        "Y_pred = model_final.predict_generator(validation_generator)\n",
        "y_pred = np.argmax(Y_pred, axis=1)\n",
        "print('Confusion Matrix')\n",
        "print(confusion_matrix(validation_generator.classes, y_pred))\n",
        "print('Classification Report')\n",
        "target_names = ['grade0', 'grade1', 'grade2','grade3']\n",
        "print(classification_report(validation_generator.classes, y_pred, target_names=target_names))"
      ],
      "execution_count": 57,
      "outputs": [
        {
          "output_type": "stream",
          "text": [
            "Confusion Matrix\n",
            "[[ 7  8  8  2]\n",
            " [ 2 14  5  4]\n",
            " [ 5  9  7  4]\n",
            " [ 7 10  5  3]]\n",
            "Classification Report\n",
            "              precision    recall  f1-score   support\n",
            "\n",
            "      grade0       0.33      0.28      0.30        25\n",
            "      grade1       0.34      0.56      0.42        25\n",
            "      grade2       0.28      0.28      0.28        25\n",
            "      grade3       0.23      0.12      0.16        25\n",
            "\n",
            "    accuracy                           0.31       100\n",
            "   macro avg       0.30      0.31      0.29       100\n",
            "weighted avg       0.30      0.31      0.29       100\n",
            "\n"
          ],
          "name": "stdout"
        }
      ]
    },
    {
      "cell_type": "code",
      "metadata": {
        "id": "B-E18MG6VMMN",
        "colab_type": "code",
        "colab": {
          "base_uri": "https://localhost:8080/",
          "height": 269
        },
        "outputId": "bf259e70-2f58-41e0-a052-5ff32a896125"
      },
      "source": [
        "from keras.preprocessing import image\n",
        "import matplotlib.pyplot as plt\n",
        "\n",
        "img = image.load_img(\"/content/drive/My Drive/data_ouput/test/grade1/grade1-079.jpg\",target_size=(224,224))\n",
        "img = np.asarray(img)\n",
        "plt.imshow(img)\n",
        "img = np.expand_dims(img, axis=0)"
      ],
      "execution_count": 61,
      "outputs": [
        {
          "output_type": "display_data",
          "data": {
            "image/png": "[encoded data removed]",
            "text/plain": [
              "<Figure size 432x288 with 1 Axes>"
            ]
          },
          "metadata": {
            "tags": [],
            "needs_background": "light"
          }
        }
      ]
    },
    {
      "cell_type": "code",
      "metadata": {
        "id": "Ux21nwVeV0mE",
        "colab_type": "code",
        "colab": {}
      },
      "source": [
        "output = model_final.predict(img)"
      ],
      "execution_count": 62,
      "outputs": []
    },
    {
      "cell_type": "code",
      "metadata": {
        "id": "crw2NNGyV7kN",
        "colab_type": "code",
        "colab": {
          "base_uri": "https://localhost:8080/",
          "height": 34
        },
        "outputId": "2775846b-a170-4fe0-e2b6-6f24db7310aa"
      },
      "source": [
        "output\n",
        "ans='grade'+str(np.argmax(output[0],axis=0))\n",
        "print(ans)"
      ],
      "execution_count": 63,
      "outputs": [
        {
          "output_type": "stream",
          "text": [
            "grade1\n"
          ],
          "name": "stdout"
        }
      ]
    },
    {
      "cell_type": "code",
      "metadata": {
        "id": "YbH-5BZmX-K4",
        "colab_type": "code",
        "colab": {
          "base_uri": "https://localhost:8080/",
          "height": 153
        },
        "outputId": "fe186a87-877b-4141-a8e9-2b2da6fe36f3"
      },
      "source": [
        "import os\n",
        "data_path='/content/drive/My Drive/data_ouput/test'\n",
        "data_dir_list=os.listdir(data_path)\n",
        "for dataset in data_dir_list:\n",
        "  print(dataset)\n",
        "  img_list=os.listdir(data_path+'/'+dataset)\n",
        "  correctCount=0\n",
        "  wrongCount=0\n",
        "  for img in img_list:\n",
        "    img_path=data_path+'/'+dataset+'/'+img\n",
        "    input_image = image.load_img(img_path,target_size=(224,224))\n",
        "    input_image = np.asarray(input_image)\n",
        "    input_image = np.expand_dims(input_image, axis=0)\n",
        "    output = model_final.predict(input_image)\n",
        "    ans='grade'+str(np.argmax(output[0],axis=0))\n",
        "    if( ans in img):\n",
        "      correctCount+=1\n",
        "    else:\n",
        "      wrongCount+=1\n",
        "  print(\"correct Count {} WrongCount {}\".format(correctCount,wrongCount))\n",
        "\n",
        "\n"
      ],
      "execution_count": 65,
      "outputs": [
        {
          "output_type": "stream",
          "text": [
            "grade1\n",
            "correct Count 24 WrongCount 1\n",
            "grade0\n",
            "correct Count 21 WrongCount 4\n",
            "grade2\n",
            "correct Count 23 WrongCount 2\n",
            "grade3\n",
            "correct Count 13 WrongCount 12\n"
          ],
          "name": "stdout"
        }
      ]
    },
    {
      "cell_type": "code",
      "metadata": {
        "id": "PiiV053i4At7",
        "colab_type": "code",
        "colab": {}
      },
      "source": [
        "model_final.save('modelbest.h5')"
      ],
      "execution_count": 42,
      "outputs": []
    }
  ]
}