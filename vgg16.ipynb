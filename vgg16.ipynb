{
  "nbformat": 4,
  "nbformat_minor": 0,
  "metadata": {
    "colab": {
      "name": "vgg16",
      "provenance": [],
      "collapsed_sections": [],
      "mount_file_id": "1IhyoGy7EHEgj120Y7aEt15WFbYJP6aXH",
      "authorship_tag": "ABX9TyME95ayDfCA+LG1fdfXaf8a",
      "include_colab_link": true
    },
    "kernelspec": {
      "name": "python3",
      "display_name": "Python 3"
    }
  },
  "cells": [
    {
      "cell_type": "markdown",
      "metadata": {
        "id": "view-in-github",
        "colab_type": "text"
      },
      "source": [
        "<a href=\"https://colab.research.google.com/github/pranitha2144/Internship-iith/blob/Resnet/vgg16.ipynb\" target=\"_parent\"><img src=\"https://colab.research.google.com/assets/colab-badge.svg\" alt=\"Open In Colab\"/></a>"
      ]
    },
    {
      "cell_type": "code",
      "metadata": {
        "id": "PMu2eC3sYOxm",
        "colab_type": "code",
        "colab": {}
      },
      "source": [
        "import keras\n",
        "from keras.models import Model\n",
        "from keras.layers import Dense,Dropout\n",
        "from keras import optimizers\n",
        "from keras.preprocessing.image import ImageDataGenerator\n",
        "from keras.preprocessing import image\n",
        "from tensorflow.keras.applications.vgg16 import preprocess_input"
      ],
      "execution_count": 17,
      "outputs": []
    },
    {
      "cell_type": "code",
      "metadata": {
        "id": "tt31HsJODZjq",
        "colab_type": "code",
        "colab": {
          "base_uri": "https://localhost:8080/",
          "height": 105
        },
        "outputId": "4e56992b-e1bf-4cb6-aa88-5ae610ecd299"
      },
      "source": [
        "!pip install split-folders"
      ],
      "execution_count": 18,
      "outputs": [
        {
          "output_type": "stream",
          "text": [
            "Collecting split-folders\n",
            "  Downloading https://files.pythonhosted.org/packages/20/67/29dda743e6d23ac1ea3d16704d8bbb48d65faf3f1b1eaf53153b3da56c56/split_folders-0.3.1-py3-none-any.whl\n",
            "Installing collected packages: split-folders\n",
            "Successfully installed split-folders-0.3.1\n"
          ],
          "name": "stdout"
        }
      ]
    },
    {
      "cell_type": "code",
      "metadata": {
        "id": "pvSxWo5oDev7",
        "colab_type": "code",
        "colab": {
          "base_uri": "https://localhost:8080/",
          "height": 34
        },
        "outputId": "c8e0d0db-055a-45f6-c4c1-26b6a1c0dc9a"
      },
      "source": [
        "import split_folders\n",
        "\n",
        "# Split with a ratio.\n",
        "# To only split into training and validation set, set a tuple to `ratio`, i.e, `(.8, .2)`.\n",
        "split_folders.ratio('/content/drive/My Drive/data-liverdisease', output=\"/content/drive/My Drive/data-liverd\", seed=1337, ratio=(.8, .2)) # default values"
      ],
      "execution_count": 19,
      "outputs": [
        {
          "output_type": "stream",
          "text": [
            "Copying files: 1000 files [06:15,  2.66 files/s]\n"
          ],
          "name": "stderr"
        }
      ]
    },
    {
      "cell_type": "code",
      "metadata": {
        "id": "p6rPAuwiYVPF",
        "colab_type": "code",
        "colab": {
          "base_uri": "https://localhost:8080/",
          "height": 51
        },
        "outputId": "1284bd2c-f172-4b42-8481-ab8b079148f2"
      },
      "source": [
        "trdata = ImageDataGenerator(zoom_range=0.2,horizontal_flip=True)\n",
        "traindata = trdata.flow_from_directory(directory=\"/content/drive/My Drive/data-liverd/train\",target_size=(224,224))\n",
        "tsdata = ImageDataGenerator()\n",
        "testdata = tsdata.flow_from_directory(directory=\"/content/drive/My Drive/data-liverd/val\", target_size=(224,224))"
      ],
      "execution_count": 21,
      "outputs": [
        {
          "output_type": "stream",
          "text": [
            "Found 800 images belonging to 4 classes.\n",
            "Found 200 images belonging to 4 classes.\n"
          ],
          "name": "stdout"
        }
      ]
    },
    {
      "cell_type": "code",
      "metadata": {
        "id": "YEDviFOOYqSH",
        "colab_type": "code",
        "colab": {}
      },
      "source": [
        "from keras.applications.vgg16 import VGG16\n",
        "vggmodel = VGG16(weights='imagenet',include_top=True)"
      ],
      "execution_count": 22,
      "outputs": []
    },
    {
      "cell_type": "code",
      "metadata": {
        "id": "_DBVSTlUYwZt",
        "colab_type": "code",
        "colab": {
          "base_uri": "https://localhost:8080/",
          "height": 935
        },
        "outputId": "ffcd2c01-b08f-4e95-ea45-6c1fb8fbbe10"
      },
      "source": [
        "vggmodel.summary()"
      ],
      "execution_count": 23,
      "outputs": [
        {
          "output_type": "stream",
          "text": [
            "Model: \"vgg16\"\n",
            "_________________________________________________________________\n",
            "Layer (type)                 Output Shape              Param #   \n",
            "=================================================================\n",
            "input_2 (InputLayer)         (None, 224, 224, 3)       0         \n",
            "_________________________________________________________________\n",
            "block1_conv1 (Conv2D)        (None, 224, 224, 64)      1792      \n",
            "_________________________________________________________________\n",
            "block1_conv2 (Conv2D)        (None, 224, 224, 64)      36928     \n",
            "_________________________________________________________________\n",
            "block1_pool (MaxPooling2D)   (None, 112, 112, 64)      0         \n",
            "_________________________________________________________________\n",
            "block2_conv1 (Conv2D)        (None, 112, 112, 128)     73856     \n",
            "_________________________________________________________________\n",
            "block2_conv2 (Conv2D)        (None, 112, 112, 128)     147584    \n",
            "_________________________________________________________________\n",
            "block2_pool (MaxPooling2D)   (None, 56, 56, 128)       0         \n",
            "_________________________________________________________________\n",
            "block3_conv1 (Conv2D)        (None, 56, 56, 256)       295168    \n",
            "_________________________________________________________________\n",
            "block3_conv2 (Conv2D)        (None, 56, 56, 256)       590080    \n",
            "_________________________________________________________________\n",
            "block3_conv3 (Conv2D)        (None, 56, 56, 256)       590080    \n",
            "_________________________________________________________________\n",
            "block3_pool (MaxPooling2D)   (None, 28, 28, 256)       0         \n",
            "_________________________________________________________________\n",
            "block4_conv1 (Conv2D)        (None, 28, 28, 512)       1180160   \n",
            "_________________________________________________________________\n",
            "block4_conv2 (Conv2D)        (None, 28, 28, 512)       2359808   \n",
            "_________________________________________________________________\n",
            "block4_conv3 (Conv2D)        (None, 28, 28, 512)       2359808   \n",
            "_________________________________________________________________\n",
            "block4_pool (MaxPooling2D)   (None, 14, 14, 512)       0         \n",
            "_________________________________________________________________\n",
            "block5_conv1 (Conv2D)        (None, 14, 14, 512)       2359808   \n",
            "_________________________________________________________________\n",
            "block5_conv2 (Conv2D)        (None, 14, 14, 512)       2359808   \n",
            "_________________________________________________________________\n",
            "block5_conv3 (Conv2D)        (None, 14, 14, 512)       2359808   \n",
            "_________________________________________________________________\n",
            "block5_pool (MaxPooling2D)   (None, 7, 7, 512)         0         \n",
            "_________________________________________________________________\n",
            "flatten (Flatten)            (None, 25088)             0         \n",
            "_________________________________________________________________\n",
            "fc1 (Dense)                  (None, 4096)              102764544 \n",
            "_________________________________________________________________\n",
            "fc2 (Dense)                  (None, 4096)              16781312  \n",
            "_________________________________________________________________\n",
            "predictions (Dense)          (None, 1000)              4097000   \n",
            "=================================================================\n",
            "Total params: 138,357,544\n",
            "Trainable params: 138,357,544\n",
            "Non-trainable params: 0\n",
            "_________________________________________________________________\n"
          ],
          "name": "stdout"
        }
      ]
    },
    {
      "cell_type": "code",
      "metadata": {
        "id": "Z2zOGRgPsiS8",
        "colab_type": "code",
        "colab": {
          "base_uri": "https://localhost:8080/",
          "height": 34
        },
        "outputId": "3c4a966c-79fc-4238-edee-9b1985a1dc12"
      },
      "source": [
        "vggmodel.layers.pop()\n",
        "vggmodel.layers.pop()\n",
        "vggmodel.layers.pop()"
      ],
      "execution_count": 24,
      "outputs": [
        {
          "output_type": "execute_result",
          "data": {
            "text/plain": [
              "<keras.layers.core.Dense at 0x7ff0d38f7c88>"
            ]
          },
          "metadata": {
            "tags": []
          },
          "execution_count": 24
        }
      ]
    },
    {
      "cell_type": "code",
      "metadata": {
        "id": "8LYBFIW-Y1vZ",
        "colab_type": "code",
        "colab": {
          "base_uri": "https://localhost:8080/",
          "height": 357
        },
        "outputId": "c42211b3-717c-423b-b654-12801dc09cc3"
      },
      "source": [
        "for layers in (vggmodel.layers)[:]:\n",
        "    print(layers)\n",
        "    layers.trainable = False"
      ],
      "execution_count": 25,
      "outputs": [
        {
          "output_type": "stream",
          "text": [
            "<keras.engine.input_layer.InputLayer object at 0x7ff13e9e17f0>\n",
            "<keras.layers.convolutional.Conv2D object at 0x7ff13e9e1828>\n",
            "<keras.layers.convolutional.Conv2D object at 0x7ff13e9e19b0>\n",
            "<keras.layers.pooling.MaxPooling2D object at 0x7ff13e9e1518>\n",
            "<keras.layers.convolutional.Conv2D object at 0x7ff13e9e1da0>\n",
            "<keras.layers.convolutional.Conv2D object at 0x7ff0d3922c50>\n",
            "<keras.layers.pooling.MaxPooling2D object at 0x7ff0d39577f0>\n",
            "<keras.layers.convolutional.Conv2D object at 0x7ff0d3957630>\n",
            "<keras.layers.convolutional.Conv2D object at 0x7ff0d38dd320>\n",
            "<keras.layers.convolutional.Conv2D object at 0x7ff0d38ddeb8>\n",
            "<keras.layers.pooling.MaxPooling2D object at 0x7ff0d38e1940>\n",
            "<keras.layers.convolutional.Conv2D object at 0x7ff0d38e1780>\n",
            "<keras.layers.convolutional.Conv2D object at 0x7ff0d38e4470>\n",
            "<keras.layers.convolutional.Conv2D object at 0x7ff0d38e4fd0>\n",
            "<keras.layers.pooling.MaxPooling2D object at 0x7ff0d38eba90>\n",
            "<keras.layers.convolutional.Conv2D object at 0x7ff0d38eb8d0>\n",
            "<keras.layers.convolutional.Conv2D object at 0x7ff0d38f15c0>\n",
            "<keras.layers.convolutional.Conv2D object at 0x7ff0d38f1eb8>\n",
            "<keras.layers.pooling.MaxPooling2D object at 0x7ff0d38f7be0>\n",
            "<keras.layers.core.Flatten object at 0x7ff0d38f7a20>\n"
          ],
          "name": "stdout"
        }
      ]
    },
    {
      "cell_type": "code",
      "metadata": {
        "id": "spEfu2MIY3-9",
        "colab_type": "code",
        "colab": {
          "base_uri": "https://localhost:8080/",
          "height": 833
        },
        "outputId": "1adc2c27-77a9-4680-bff3-0dad79dddd8e"
      },
      "source": [
        "vggmodel.summary()"
      ],
      "execution_count": 26,
      "outputs": [
        {
          "output_type": "stream",
          "text": [
            "Model: \"vgg16\"\n",
            "_________________________________________________________________\n",
            "Layer (type)                 Output Shape              Param #   \n",
            "=================================================================\n",
            "input_2 (InputLayer)         (None, 224, 224, 3)       0         \n",
            "_________________________________________________________________\n",
            "block1_conv1 (Conv2D)        (None, 224, 224, 64)      1792      \n",
            "_________________________________________________________________\n",
            "block1_conv2 (Conv2D)        (None, 224, 224, 64)      36928     \n",
            "_________________________________________________________________\n",
            "block1_pool (MaxPooling2D)   (None, 112, 112, 64)      0         \n",
            "_________________________________________________________________\n",
            "block2_conv1 (Conv2D)        (None, 112, 112, 128)     73856     \n",
            "_________________________________________________________________\n",
            "block2_conv2 (Conv2D)        (None, 112, 112, 128)     147584    \n",
            "_________________________________________________________________\n",
            "block2_pool (MaxPooling2D)   (None, 56, 56, 128)       0         \n",
            "_________________________________________________________________\n",
            "block3_conv1 (Conv2D)        (None, 56, 56, 256)       295168    \n",
            "_________________________________________________________________\n",
            "block3_conv2 (Conv2D)        (None, 56, 56, 256)       590080    \n",
            "_________________________________________________________________\n",
            "block3_conv3 (Conv2D)        (None, 56, 56, 256)       590080    \n",
            "_________________________________________________________________\n",
            "block3_pool (MaxPooling2D)   (None, 28, 28, 256)       0         \n",
            "_________________________________________________________________\n",
            "block4_conv1 (Conv2D)        (None, 28, 28, 512)       1180160   \n",
            "_________________________________________________________________\n",
            "block4_conv2 (Conv2D)        (None, 28, 28, 512)       2359808   \n",
            "_________________________________________________________________\n",
            "block4_conv3 (Conv2D)        (None, 28, 28, 512)       2359808   \n",
            "_________________________________________________________________\n",
            "block4_pool (MaxPooling2D)   (None, 14, 14, 512)       0         \n",
            "_________________________________________________________________\n",
            "block5_conv1 (Conv2D)        (None, 14, 14, 512)       2359808   \n",
            "_________________________________________________________________\n",
            "block5_conv2 (Conv2D)        (None, 14, 14, 512)       2359808   \n",
            "_________________________________________________________________\n",
            "block5_conv3 (Conv2D)        (None, 14, 14, 512)       2359808   \n",
            "_________________________________________________________________\n",
            "block5_pool (MaxPooling2D)   (None, 7, 7, 512)         0         \n",
            "_________________________________________________________________\n",
            "flatten (Flatten)            (None, 25088)             0         \n",
            "=================================================================\n",
            "Total params: 14,714,688\n",
            "Trainable params: 0\n",
            "Non-trainable params: 14,714,688\n",
            "_________________________________________________________________\n"
          ],
          "name": "stdout"
        }
      ]
    },
    {
      "cell_type": "code",
      "metadata": {
        "id": "hRa7hR7-Y-XR",
        "colab_type": "code",
        "colab": {
          "base_uri": "https://localhost:8080/",
          "height": 71
        },
        "outputId": "6d2b6b46-4011-4162-ff0f-80b1ccac99cc"
      },
      "source": [
        "from tensorflow.keras import regularizers\n",
        "X= vggmodel.layers[-1].output\n",
        "fc_1=Dense(4096,activation='relu')(X)\n",
        "dr_1=Dropout(0.2)(fc_1)\n",
        "fc_2=Dense(4096, activation='relu')(dr_1)\n",
        "dr_2=Dropout(0.2)(fc_2)\n",
        "fc_3=Dense(4096,activation='relu')(dr_2)\n",
        "fc_4=Dense(2048,activation='relu')(fc_3)\n",
        "fc_5=Dense(1024,activation='relu')(fc_4)\n",
        "fc_6=Dense(512,activation='relu')(fc_5)\n",
        "predictions = Dense(4, activation=\"softmax\")(fc_3)\n",
        "model_final = Model(input = vggmodel.input, output = predictions)"
      ],
      "execution_count": 27,
      "outputs": [
        {
          "output_type": "stream",
          "text": [
            "/usr/local/lib/python3.6/dist-packages/ipykernel_launcher.py:12: UserWarning: Update your `Model` call to the Keras 2 API: `Model(inputs=Tensor(\"in..., outputs=Tensor(\"de...)`\n",
            "  if sys.path[0] == '':\n"
          ],
          "name": "stderr"
        }
      ]
    },
    {
      "cell_type": "code",
      "metadata": {
        "id": "1mRS_nHaZBCL",
        "colab_type": "code",
        "colab": {
          "base_uri": "https://localhost:8080/",
          "height": 1000
        },
        "outputId": "ebf7660c-33d1-4eec-9078-780a85a42ad7"
      },
      "source": [
        "model_final.summary()"
      ],
      "execution_count": 28,
      "outputs": [
        {
          "output_type": "stream",
          "text": [
            "Model: \"model_4\"\n",
            "_________________________________________________________________\n",
            "Layer (type)                 Output Shape              Param #   \n",
            "=================================================================\n",
            "input_2 (InputLayer)         (None, 224, 224, 3)       0         \n",
            "_________________________________________________________________\n",
            "block1_conv1 (Conv2D)        (None, 224, 224, 64)      1792      \n",
            "_________________________________________________________________\n",
            "block1_conv2 (Conv2D)        (None, 224, 224, 64)      36928     \n",
            "_________________________________________________________________\n",
            "block1_pool (MaxPooling2D)   (None, 112, 112, 64)      0         \n",
            "_________________________________________________________________\n",
            "block2_conv1 (Conv2D)        (None, 112, 112, 128)     73856     \n",
            "_________________________________________________________________\n",
            "block2_conv2 (Conv2D)        (None, 112, 112, 128)     147584    \n",
            "_________________________________________________________________\n",
            "block2_pool (MaxPooling2D)   (None, 56, 56, 128)       0         \n",
            "_________________________________________________________________\n",
            "block3_conv1 (Conv2D)        (None, 56, 56, 256)       295168    \n",
            "_________________________________________________________________\n",
            "block3_conv2 (Conv2D)        (None, 56, 56, 256)       590080    \n",
            "_________________________________________________________________\n",
            "block3_conv3 (Conv2D)        (None, 56, 56, 256)       590080    \n",
            "_________________________________________________________________\n",
            "block3_pool (MaxPooling2D)   (None, 28, 28, 256)       0         \n",
            "_________________________________________________________________\n",
            "block4_conv1 (Conv2D)        (None, 28, 28, 512)       1180160   \n",
            "_________________________________________________________________\n",
            "block4_conv2 (Conv2D)        (None, 28, 28, 512)       2359808   \n",
            "_________________________________________________________________\n",
            "block4_conv3 (Conv2D)        (None, 28, 28, 512)       2359808   \n",
            "_________________________________________________________________\n",
            "block4_pool (MaxPooling2D)   (None, 14, 14, 512)       0         \n",
            "_________________________________________________________________\n",
            "block5_conv1 (Conv2D)        (None, 14, 14, 512)       2359808   \n",
            "_________________________________________________________________\n",
            "block5_conv2 (Conv2D)        (None, 14, 14, 512)       2359808   \n",
            "_________________________________________________________________\n",
            "block5_conv3 (Conv2D)        (None, 14, 14, 512)       2359808   \n",
            "_________________________________________________________________\n",
            "block5_pool (MaxPooling2D)   (None, 7, 7, 512)         0         \n",
            "_________________________________________________________________\n",
            "flatten (Flatten)            (None, 25088)             0         \n",
            "_________________________________________________________________\n",
            "dense_22 (Dense)             (None, 4096)              102764544 \n",
            "_________________________________________________________________\n",
            "dropout_1 (Dropout)          (None, 4096)              0         \n",
            "_________________________________________________________________\n",
            "dense_23 (Dense)             (None, 4096)              16781312  \n",
            "_________________________________________________________________\n",
            "dropout_2 (Dropout)          (None, 4096)              0         \n",
            "_________________________________________________________________\n",
            "dense_24 (Dense)             (None, 4096)              16781312  \n",
            "_________________________________________________________________\n",
            "dense_28 (Dense)             (None, 4)                 16388     \n",
            "=================================================================\n",
            "Total params: 151,058,244\n",
            "Trainable params: 136,343,556\n",
            "Non-trainable params: 14,714,688\n",
            "_________________________________________________________________\n"
          ],
          "name": "stdout"
        }
      ]
    },
    {
      "cell_type": "code",
      "metadata": {
        "id": "WyzYX9WSZK0G",
        "colab_type": "code",
        "colab": {}
      },
      "source": [
        "model_final.compile(loss = \"categorical_crossentropy\", optimizer = keras.optimizers.Adam(lr=0.0001), metrics=[\"accuracy\"])"
      ],
      "execution_count": 29,
      "outputs": []
    },
    {
      "cell_type": "code",
      "metadata": {
        "id": "3JhPnTE8ZRmI",
        "colab_type": "code",
        "colab": {
          "base_uri": "https://localhost:8080/",
          "height": 1000
        },
        "outputId": "35bb487d-2b6e-4fe3-c21b-c1da6fcf9fa7"
      },
      "source": [
        "model_final.summary()"
      ],
      "execution_count": 30,
      "outputs": [
        {
          "output_type": "stream",
          "text": [
            "Model: \"model_4\"\n",
            "_________________________________________________________________\n",
            "Layer (type)                 Output Shape              Param #   \n",
            "=================================================================\n",
            "input_2 (InputLayer)         (None, 224, 224, 3)       0         \n",
            "_________________________________________________________________\n",
            "block1_conv1 (Conv2D)        (None, 224, 224, 64)      1792      \n",
            "_________________________________________________________________\n",
            "block1_conv2 (Conv2D)        (None, 224, 224, 64)      36928     \n",
            "_________________________________________________________________\n",
            "block1_pool (MaxPooling2D)   (None, 112, 112, 64)      0         \n",
            "_________________________________________________________________\n",
            "block2_conv1 (Conv2D)        (None, 112, 112, 128)     73856     \n",
            "_________________________________________________________________\n",
            "block2_conv2 (Conv2D)        (None, 112, 112, 128)     147584    \n",
            "_________________________________________________________________\n",
            "block2_pool (MaxPooling2D)   (None, 56, 56, 128)       0         \n",
            "_________________________________________________________________\n",
            "block3_conv1 (Conv2D)        (None, 56, 56, 256)       295168    \n",
            "_________________________________________________________________\n",
            "block3_conv2 (Conv2D)        (None, 56, 56, 256)       590080    \n",
            "_________________________________________________________________\n",
            "block3_conv3 (Conv2D)        (None, 56, 56, 256)       590080    \n",
            "_________________________________________________________________\n",
            "block3_pool (MaxPooling2D)   (None, 28, 28, 256)       0         \n",
            "_________________________________________________________________\n",
            "block4_conv1 (Conv2D)        (None, 28, 28, 512)       1180160   \n",
            "_________________________________________________________________\n",
            "block4_conv2 (Conv2D)        (None, 28, 28, 512)       2359808   \n",
            "_________________________________________________________________\n",
            "block4_conv3 (Conv2D)        (None, 28, 28, 512)       2359808   \n",
            "_________________________________________________________________\n",
            "block4_pool (MaxPooling2D)   (None, 14, 14, 512)       0         \n",
            "_________________________________________________________________\n",
            "block5_conv1 (Conv2D)        (None, 14, 14, 512)       2359808   \n",
            "_________________________________________________________________\n",
            "block5_conv2 (Conv2D)        (None, 14, 14, 512)       2359808   \n",
            "_________________________________________________________________\n",
            "block5_conv3 (Conv2D)        (None, 14, 14, 512)       2359808   \n",
            "_________________________________________________________________\n",
            "block5_pool (MaxPooling2D)   (None, 7, 7, 512)         0         \n",
            "_________________________________________________________________\n",
            "flatten (Flatten)            (None, 25088)             0         \n",
            "_________________________________________________________________\n",
            "dense_22 (Dense)             (None, 4096)              102764544 \n",
            "_________________________________________________________________\n",
            "dropout_1 (Dropout)          (None, 4096)              0         \n",
            "_________________________________________________________________\n",
            "dense_23 (Dense)             (None, 4096)              16781312  \n",
            "_________________________________________________________________\n",
            "dropout_2 (Dropout)          (None, 4096)              0         \n",
            "_________________________________________________________________\n",
            "dense_24 (Dense)             (None, 4096)              16781312  \n",
            "_________________________________________________________________\n",
            "dense_28 (Dense)             (None, 4)                 16388     \n",
            "=================================================================\n",
            "Total params: 151,058,244\n",
            "Trainable params: 136,343,556\n",
            "Non-trainable params: 14,714,688\n",
            "_________________________________________________________________\n"
          ],
          "name": "stdout"
        }
      ]
    },
    {
      "cell_type": "code",
      "metadata": {
        "id": "H6dGNtWtZVuK",
        "colab_type": "code",
        "colab": {
          "base_uri": "https://localhost:8080/",
          "height": 1000
        },
        "outputId": "d6f95954-89d7-45a2-ebea-e1c3ba29ed3c"
      },
      "source": [
        "from keras.callbacks import ModelCheckpoint, EarlyStopping\n",
        "checkpoint = ModelCheckpoint(\"/content/drive/My Drive/Best models/model_m_1.h5\", monitor='val_accuracy', verbose=1, save_best_only=True, save_weights_only=False, mode='auto', period=1)\n",
        "early = EarlyStopping(monitor='val_acc', min_delta=0, patience=10, verbose=1, mode='auto')\n",
        "hist=model_final.fit_generator(traindata, steps_per_epoch=5,epochs= 100, validation_data= testdata,validation_steps=2, callbacks=[checkpoint,early])"
      ],
      "execution_count": 40,
      "outputs": [
        {
          "output_type": "stream",
          "text": [
            "Epoch 1/100\n",
            "5/5 [==============================] - 129s 26s/step - loss: 0.7526 - accuracy: 0.7625 - val_loss: 0.6761 - val_accuracy: 0.7500\n",
            "\n",
            "Epoch 00001: val_accuracy improved from -inf to 0.75000, saving model to /content/drive/My Drive/Best models/model_m_1.h5\n"
          ],
          "name": "stdout"
        },
        {
          "output_type": "stream",
          "text": [
            "/usr/local/lib/python3.6/dist-packages/keras/callbacks/callbacks.py:846: RuntimeWarning: Early stopping conditioned on metric `val_acc` which is not available. Available metrics are: val_loss,val_accuracy,loss,accuracy\n",
            "  (self.monitor, ','.join(list(logs.keys()))), RuntimeWarning\n"
          ],
          "name": "stderr"
        },
        {
          "output_type": "stream",
          "text": [
            "Epoch 2/100\n",
            "5/5 [==============================] - 132s 26s/step - loss: 0.7215 - accuracy: 0.8313 - val_loss: 0.3303 - val_accuracy: 0.8281\n",
            "\n",
            "Epoch 00002: val_accuracy improved from 0.75000 to 0.82812, saving model to /content/drive/My Drive/Best models/model_m_1.h5\n",
            "Epoch 3/100\n",
            "5/5 [==============================] - 132s 26s/step - loss: 0.5294 - accuracy: 0.8250 - val_loss: 0.6346 - val_accuracy: 0.8125\n",
            "\n",
            "Epoch 00003: val_accuracy did not improve from 0.82812\n",
            "Epoch 4/100\n",
            "5/5 [==============================] - 110s 22s/step - loss: 0.5387 - accuracy: 0.8062 - val_loss: 0.7510 - val_accuracy: 0.7000\n",
            "\n",
            "Epoch 00004: val_accuracy did not improve from 0.82812\n",
            "Epoch 5/100\n",
            "5/5 [==============================] - 126s 25s/step - loss: 0.6618 - accuracy: 0.7812 - val_loss: 0.4431 - val_accuracy: 0.8750\n",
            "\n",
            "Epoch 00005: val_accuracy improved from 0.82812 to 0.87500, saving model to /content/drive/My Drive/Best models/model_m_1.h5\n",
            "Epoch 6/100\n",
            "5/5 [==============================] - 133s 27s/step - loss: 0.4198 - accuracy: 0.8625 - val_loss: 0.5313 - val_accuracy: 0.8594\n",
            "\n",
            "Epoch 00006: val_accuracy did not improve from 0.87500\n",
            "Epoch 7/100\n",
            "5/5 [==============================] - 112s 22s/step - loss: 0.6161 - accuracy: 0.8188 - val_loss: 0.3387 - val_accuracy: 0.6750\n",
            "\n",
            "Epoch 00007: val_accuracy did not improve from 0.87500\n",
            "Epoch 8/100\n",
            "5/5 [==============================] - 123s 25s/step - loss: 0.7004 - accuracy: 0.7625 - val_loss: 1.0468 - val_accuracy: 0.7656\n",
            "\n",
            "Epoch 00008: val_accuracy did not improve from 0.87500\n",
            "Epoch 9/100\n",
            "5/5 [==============================] - 122s 24s/step - loss: 0.5389 - accuracy: 0.8125 - val_loss: 0.5223 - val_accuracy: 0.7500\n",
            "\n",
            "Epoch 00009: val_accuracy did not improve from 0.87500\n",
            "Epoch 10/100\n",
            "5/5 [==============================] - 125s 25s/step - loss: 0.7036 - accuracy: 0.7625 - val_loss: 0.4061 - val_accuracy: 0.7969\n",
            "\n",
            "Epoch 00010: val_accuracy did not improve from 0.87500\n",
            "Epoch 11/100\n",
            "5/5 [==============================] - 113s 23s/step - loss: 0.6524 - accuracy: 0.8000 - val_loss: 0.2966 - val_accuracy: 0.9500\n",
            "\n",
            "Epoch 00011: val_accuracy improved from 0.87500 to 0.95000, saving model to /content/drive/My Drive/Best models/model_m_1.h5\n",
            "Epoch 12/100\n",
            "5/5 [==============================] - 132s 26s/step - loss: 0.5351 - accuracy: 0.7875 - val_loss: 0.4379 - val_accuracy: 0.7500\n",
            "\n",
            "Epoch 00012: val_accuracy did not improve from 0.95000\n",
            "Epoch 13/100\n",
            "5/5 [==============================] - 125s 25s/step - loss: 0.5111 - accuracy: 0.8375 - val_loss: 0.3774 - val_accuracy: 0.8594\n",
            "\n",
            "Epoch 00013: val_accuracy did not improve from 0.95000\n",
            "Epoch 14/100\n",
            "5/5 [==============================] - 110s 22s/step - loss: 0.4076 - accuracy: 0.8562 - val_loss: 0.2770 - val_accuracy: 0.8000\n",
            "\n",
            "Epoch 00014: val_accuracy did not improve from 0.95000\n",
            "Epoch 15/100\n",
            "5/5 [==============================] - 126s 25s/step - loss: 0.4963 - accuracy: 0.8125 - val_loss: 0.4033 - val_accuracy: 0.8594\n",
            "\n",
            "Epoch 00015: val_accuracy did not improve from 0.95000\n",
            "Epoch 16/100\n",
            "5/5 [==============================] - 125s 25s/step - loss: 0.6191 - accuracy: 0.8062 - val_loss: 0.3673 - val_accuracy: 0.8281\n",
            "\n",
            "Epoch 00016: val_accuracy did not improve from 0.95000\n",
            "Epoch 17/100\n",
            "5/5 [==============================] - 124s 25s/step - loss: 0.4826 - accuracy: 0.8125 - val_loss: 0.9088 - val_accuracy: 0.7031\n",
            "\n",
            "Epoch 00017: val_accuracy did not improve from 0.95000\n",
            "Epoch 18/100\n",
            "5/5 [==============================] - 111s 22s/step - loss: 0.5362 - accuracy: 0.8250 - val_loss: 0.5127 - val_accuracy: 0.7250\n",
            "\n",
            "Epoch 00018: val_accuracy did not improve from 0.95000\n",
            "Epoch 19/100\n",
            "5/5 [==============================] - 122s 24s/step - loss: 0.5687 - accuracy: 0.7812 - val_loss: 0.4568 - val_accuracy: 0.8125\n",
            "\n",
            "Epoch 00019: val_accuracy did not improve from 0.95000\n",
            "Epoch 20/100\n",
            "5/5 [==============================] - 125s 25s/step - loss: 0.6422 - accuracy: 0.8250 - val_loss: 0.3675 - val_accuracy: 0.8906\n",
            "\n",
            "Epoch 00020: val_accuracy did not improve from 0.95000\n",
            "Epoch 21/100\n",
            "5/5 [==============================] - 112s 22s/step - loss: 0.3514 - accuracy: 0.8875 - val_loss: 0.1346 - val_accuracy: 0.6750\n",
            "\n",
            "Epoch 00021: val_accuracy did not improve from 0.95000\n",
            "Epoch 22/100\n",
            "5/5 [==============================] - 122s 24s/step - loss: 0.6073 - accuracy: 0.8000 - val_loss: 0.5655 - val_accuracy: 0.8125\n",
            "\n",
            "Epoch 00022: val_accuracy did not improve from 0.95000\n",
            "Epoch 23/100\n",
            "5/5 [==============================] - 123s 25s/step - loss: 0.5466 - accuracy: 0.8000 - val_loss: 0.5267 - val_accuracy: 0.8125\n",
            "\n",
            "Epoch 00023: val_accuracy did not improve from 0.95000\n",
            "Epoch 24/100\n",
            "5/5 [==============================] - 125s 25s/step - loss: 0.5424 - accuracy: 0.8188 - val_loss: 0.7497 - val_accuracy: 0.7969\n",
            "\n",
            "Epoch 00024: val_accuracy did not improve from 0.95000\n",
            "Epoch 25/100\n",
            "5/5 [==============================] - 113s 23s/step - loss: 0.4788 - accuracy: 0.8062 - val_loss: 0.4216 - val_accuracy: 0.8000\n",
            "\n",
            "Epoch 00025: val_accuracy did not improve from 0.95000\n",
            "Epoch 26/100\n",
            "5/5 [==============================] - 124s 25s/step - loss: 0.5845 - accuracy: 0.8250 - val_loss: 0.4220 - val_accuracy: 0.7969\n",
            "\n",
            "Epoch 00026: val_accuracy did not improve from 0.95000\n",
            "Epoch 27/100\n",
            "5/5 [==============================] - 123s 25s/step - loss: 0.5363 - accuracy: 0.8250 - val_loss: 0.3016 - val_accuracy: 0.8438\n",
            "\n",
            "Epoch 00027: val_accuracy did not improve from 0.95000\n",
            "Epoch 28/100\n",
            "5/5 [==============================] - 111s 22s/step - loss: 0.7032 - accuracy: 0.7875 - val_loss: 0.3438 - val_accuracy: 0.7500\n",
            "\n",
            "Epoch 00028: val_accuracy did not improve from 0.95000\n",
            "Epoch 29/100\n",
            "5/5 [==============================] - 122s 24s/step - loss: 0.5038 - accuracy: 0.8438 - val_loss: 0.7057 - val_accuracy: 0.7188\n",
            "\n",
            "Epoch 00029: val_accuracy did not improve from 0.95000\n",
            "Epoch 30/100\n",
            "5/5 [==============================] - 125s 25s/step - loss: 0.5834 - accuracy: 0.7812 - val_loss: 0.4553 - val_accuracy: 0.8281\n",
            "\n",
            "Epoch 00030: val_accuracy did not improve from 0.95000\n",
            "Epoch 31/100\n",
            "5/5 [==============================] - 123s 25s/step - loss: 0.5850 - accuracy: 0.8000 - val_loss: 0.4419 - val_accuracy: 0.7969\n",
            "\n",
            "Epoch 00031: val_accuracy did not improve from 0.95000\n",
            "Epoch 32/100\n",
            "5/5 [==============================] - 111s 22s/step - loss: 0.4716 - accuracy: 0.8188 - val_loss: 0.4991 - val_accuracy: 0.8000\n",
            "\n",
            "Epoch 00032: val_accuracy did not improve from 0.95000\n",
            "Epoch 33/100\n",
            "5/5 [==============================] - 122s 24s/step - loss: 0.3664 - accuracy: 0.8687 - val_loss: 0.5283 - val_accuracy: 0.7969\n",
            "\n",
            "Epoch 00033: val_accuracy did not improve from 0.95000\n",
            "Epoch 34/100\n",
            "5/5 [==============================] - 121s 24s/step - loss: 0.3290 - accuracy: 0.8813 - val_loss: 0.5625 - val_accuracy: 0.8594\n",
            "\n",
            "Epoch 00034: val_accuracy did not improve from 0.95000\n",
            "Epoch 35/100\n",
            "5/5 [==============================] - 113s 23s/step - loss: 0.4743 - accuracy: 0.8062 - val_loss: 0.3777 - val_accuracy: 0.8000\n",
            "\n",
            "Epoch 00035: val_accuracy did not improve from 0.95000\n",
            "Epoch 36/100\n",
            "5/5 [==============================] - 122s 24s/step - loss: 0.6720 - accuracy: 0.8188 - val_loss: 0.3213 - val_accuracy: 0.9062\n",
            "\n",
            "Epoch 00036: val_accuracy did not improve from 0.95000\n",
            "Epoch 37/100\n",
            "5/5 [==============================] - 123s 25s/step - loss: 0.5139 - accuracy: 0.8500 - val_loss: 0.5777 - val_accuracy: 0.8281\n",
            "\n",
            "Epoch 00037: val_accuracy did not improve from 0.95000\n",
            "Epoch 38/100\n",
            "5/5 [==============================] - 123s 25s/step - loss: 0.5038 - accuracy: 0.8438 - val_loss: 0.3549 - val_accuracy: 0.8750\n",
            "\n",
            "Epoch 00038: val_accuracy did not improve from 0.95000\n",
            "Epoch 39/100\n",
            "5/5 [==============================] - 109s 22s/step - loss: 0.2752 - accuracy: 0.9125 - val_loss: 0.7074 - val_accuracy: 0.8250\n",
            "\n",
            "Epoch 00039: val_accuracy did not improve from 0.95000\n",
            "Epoch 40/100\n",
            "5/5 [==============================] - 128s 26s/step - loss: 0.5779 - accuracy: 0.8313 - val_loss: 0.3577 - val_accuracy: 0.8906\n",
            "\n",
            "Epoch 00040: val_accuracy did not improve from 0.95000\n",
            "Epoch 41/100\n",
            "5/5 [==============================] - 122s 24s/step - loss: 0.2922 - accuracy: 0.8938 - val_loss: 0.3139 - val_accuracy: 0.7812\n",
            "\n",
            "Epoch 00041: val_accuracy did not improve from 0.95000\n",
            "Epoch 42/100\n",
            "5/5 [==============================] - 111s 22s/step - loss: 0.4176 - accuracy: 0.8375 - val_loss: 0.7464 - val_accuracy: 0.8000\n",
            "\n",
            "Epoch 00042: val_accuracy did not improve from 0.95000\n",
            "Epoch 43/100\n",
            "5/5 [==============================] - 123s 25s/step - loss: 0.2937 - accuracy: 0.8562 - val_loss: 0.2972 - val_accuracy: 0.8906\n",
            "\n",
            "Epoch 00043: val_accuracy did not improve from 0.95000\n",
            "Epoch 44/100\n",
            "5/5 [==============================] - 121s 24s/step - loss: 0.3688 - accuracy: 0.8750 - val_loss: 0.3599 - val_accuracy: 0.8281\n",
            "\n",
            "Epoch 00044: val_accuracy did not improve from 0.95000\n",
            "Epoch 45/100\n",
            "5/5 [==============================] - 126s 25s/step - loss: 0.3397 - accuracy: 0.8750 - val_loss: 0.8400 - val_accuracy: 0.7812\n",
            "\n",
            "Epoch 00045: val_accuracy did not improve from 0.95000\n",
            "Epoch 46/100\n",
            "5/5 [==============================] - 111s 22s/step - loss: 0.4260 - accuracy: 0.8375 - val_loss: 0.1573 - val_accuracy: 0.9000\n",
            "\n",
            "Epoch 00046: val_accuracy did not improve from 0.95000\n",
            "Epoch 47/100\n",
            "5/5 [==============================] - 125s 25s/step - loss: 0.4610 - accuracy: 0.8625 - val_loss: 0.7619 - val_accuracy: 0.8281\n",
            "\n",
            "Epoch 00047: val_accuracy did not improve from 0.95000\n",
            "Epoch 48/100\n",
            "5/5 [==============================] - 123s 25s/step - loss: 0.4696 - accuracy: 0.8125 - val_loss: 0.4330 - val_accuracy: 0.7812\n",
            "\n",
            "Epoch 00048: val_accuracy did not improve from 0.95000\n",
            "Epoch 49/100\n",
            "5/5 [==============================] - 109s 22s/step - loss: 0.3748 - accuracy: 0.8813 - val_loss: 0.5084 - val_accuracy: 0.8500\n",
            "\n",
            "Epoch 00049: val_accuracy did not improve from 0.95000\n",
            "Epoch 50/100\n",
            "5/5 [==============================] - 125s 25s/step - loss: 0.6022 - accuracy: 0.8188 - val_loss: 0.2836 - val_accuracy: 0.8281\n",
            "\n",
            "Epoch 00050: val_accuracy did not improve from 0.95000\n",
            "Epoch 51/100\n",
            "5/5 [==============================] - 122s 24s/step - loss: 0.3782 - accuracy: 0.8687 - val_loss: 0.2937 - val_accuracy: 0.8125\n",
            "\n",
            "Epoch 00051: val_accuracy did not improve from 0.95000\n",
            "Epoch 52/100\n",
            "5/5 [==============================] - 122s 24s/step - loss: 0.5168 - accuracy: 0.8500 - val_loss: 0.2684 - val_accuracy: 0.8906\n",
            "\n",
            "Epoch 00052: val_accuracy did not improve from 0.95000\n",
            "Epoch 53/100\n",
            "5/5 [==============================] - 112s 22s/step - loss: 0.5132 - accuracy: 0.8313 - val_loss: 0.5619 - val_accuracy: 0.7250\n",
            "\n",
            "Epoch 00053: val_accuracy did not improve from 0.95000\n",
            "Epoch 54/100\n",
            "5/5 [==============================] - 121s 24s/step - loss: 0.4192 - accuracy: 0.8500 - val_loss: 0.2827 - val_accuracy: 0.7812\n",
            "\n",
            "Epoch 00054: val_accuracy did not improve from 0.95000\n",
            "Epoch 55/100\n",
            "5/5 [==============================] - 124s 25s/step - loss: 0.2796 - accuracy: 0.9062 - val_loss: 0.3362 - val_accuracy: 0.8125\n",
            "\n",
            "Epoch 00055: val_accuracy did not improve from 0.95000\n",
            "Epoch 56/100\n",
            "5/5 [==============================] - 111s 22s/step - loss: 0.3231 - accuracy: 0.8875 - val_loss: 0.8264 - val_accuracy: 0.8000\n",
            "\n",
            "Epoch 00056: val_accuracy did not improve from 0.95000\n",
            "Epoch 57/100\n",
            "5/5 [==============================] - 122s 24s/step - loss: 0.4252 - accuracy: 0.8687 - val_loss: 0.3106 - val_accuracy: 0.8594\n",
            "\n",
            "Epoch 00057: val_accuracy did not improve from 0.95000\n",
            "Epoch 58/100\n",
            "5/5 [==============================] - 122s 24s/step - loss: 0.3436 - accuracy: 0.8562 - val_loss: 0.4805 - val_accuracy: 0.7969\n",
            "\n",
            "Epoch 00058: val_accuracy did not improve from 0.95000\n",
            "Epoch 59/100\n",
            "5/5 [==============================] - 123s 25s/step - loss: 0.3791 - accuracy: 0.8750 - val_loss: 0.5078 - val_accuracy: 0.7969\n",
            "\n",
            "Epoch 00059: val_accuracy did not improve from 0.95000\n",
            "Epoch 60/100\n",
            "5/5 [==============================] - 112s 22s/step - loss: 0.4548 - accuracy: 0.8813 - val_loss: 0.6092 - val_accuracy: 0.8000\n",
            "\n",
            "Epoch 00060: val_accuracy did not improve from 0.95000\n",
            "Epoch 61/100\n",
            "5/5 [==============================] - 122s 24s/step - loss: 0.4738 - accuracy: 0.8125 - val_loss: 0.5057 - val_accuracy: 0.7500\n",
            "\n",
            "Epoch 00061: val_accuracy did not improve from 0.95000\n",
            "Epoch 62/100\n",
            "5/5 [==============================] - 122s 24s/step - loss: 0.4921 - accuracy: 0.8438 - val_loss: 0.4451 - val_accuracy: 0.8594\n",
            "\n",
            "Epoch 00062: val_accuracy did not improve from 0.95000\n",
            "Epoch 63/100\n",
            "5/5 [==============================] - 110s 22s/step - loss: 0.3927 - accuracy: 0.8250 - val_loss: 0.5199 - val_accuracy: 0.8000\n",
            "\n",
            "Epoch 00063: val_accuracy did not improve from 0.95000\n",
            "Epoch 64/100\n",
            "5/5 [==============================] - 120s 24s/step - loss: 0.4559 - accuracy: 0.8375 - val_loss: 0.8409 - val_accuracy: 0.7656\n",
            "\n",
            "Epoch 00064: val_accuracy did not improve from 0.95000\n",
            "Epoch 65/100\n",
            "5/5 [==============================] - 124s 25s/step - loss: 0.2844 - accuracy: 0.8813 - val_loss: 0.5590 - val_accuracy: 0.7656\n",
            "\n",
            "Epoch 00065: val_accuracy did not improve from 0.95000\n",
            "Epoch 66/100\n",
            "5/5 [==============================] - 122s 24s/step - loss: 0.3121 - accuracy: 0.8625 - val_loss: 0.4763 - val_accuracy: 0.8438\n",
            "\n",
            "Epoch 00066: val_accuracy did not improve from 0.95000\n",
            "Epoch 67/100\n",
            "5/5 [==============================] - 110s 22s/step - loss: 0.3393 - accuracy: 0.8625 - val_loss: 0.2901 - val_accuracy: 0.9000\n",
            "\n",
            "Epoch 00067: val_accuracy did not improve from 0.95000\n",
            "Epoch 68/100\n",
            "5/5 [==============================] - 121s 24s/step - loss: 0.2648 - accuracy: 0.8938 - val_loss: 0.8462 - val_accuracy: 0.7656\n",
            "\n",
            "Epoch 00068: val_accuracy did not improve from 0.95000\n",
            "Epoch 69/100\n",
            "5/5 [==============================] - 120s 24s/step - loss: 0.2171 - accuracy: 0.9312 - val_loss: 0.2962 - val_accuracy: 0.8906\n",
            "\n",
            "Epoch 00069: val_accuracy did not improve from 0.95000\n",
            "Epoch 70/100\n",
            "5/5 [==============================] - 112s 22s/step - loss: 0.2957 - accuracy: 0.9000 - val_loss: 0.6634 - val_accuracy: 0.7000\n",
            "\n",
            "Epoch 00070: val_accuracy did not improve from 0.95000\n",
            "Epoch 71/100\n",
            "5/5 [==============================] - 122s 24s/step - loss: 0.2414 - accuracy: 0.9062 - val_loss: 0.3186 - val_accuracy: 0.8594\n",
            "\n",
            "Epoch 00071: val_accuracy did not improve from 0.95000\n",
            "Epoch 72/100\n",
            "5/5 [==============================] - 122s 24s/step - loss: 0.3389 - accuracy: 0.9187 - val_loss: 0.4428 - val_accuracy: 0.8438\n",
            "\n",
            "Epoch 00072: val_accuracy did not improve from 0.95000\n",
            "Epoch 73/100\n",
            "5/5 [==============================] - 122s 24s/step - loss: 0.2411 - accuracy: 0.8938 - val_loss: 0.3642 - val_accuracy: 0.8438\n",
            "\n",
            "Epoch 00073: val_accuracy did not improve from 0.95000\n",
            "Epoch 74/100\n",
            "5/5 [==============================] - 109s 22s/step - loss: 0.3891 - accuracy: 0.8750 - val_loss: 0.2993 - val_accuracy: 0.8500\n",
            "\n",
            "Epoch 00074: val_accuracy did not improve from 0.95000\n",
            "Epoch 75/100\n",
            "5/5 [==============================] - 125s 25s/step - loss: 0.2682 - accuracy: 0.9187 - val_loss: 0.2128 - val_accuracy: 0.8906\n",
            "\n",
            "Epoch 00075: val_accuracy did not improve from 0.95000\n",
            "Epoch 76/100\n",
            "5/5 [==============================] - 122s 24s/step - loss: 0.2157 - accuracy: 0.9250 - val_loss: 0.6383 - val_accuracy: 0.7031\n",
            "\n",
            "Epoch 00076: val_accuracy did not improve from 0.95000\n",
            "Epoch 77/100\n",
            "5/5 [==============================] - 112s 22s/step - loss: 0.2452 - accuracy: 0.8938 - val_loss: 1.0106 - val_accuracy: 0.8250\n",
            "\n",
            "Epoch 00077: val_accuracy did not improve from 0.95000\n",
            "Epoch 78/100\n",
            "5/5 [==============================] - 123s 25s/step - loss: 0.2402 - accuracy: 0.9062 - val_loss: 0.5897 - val_accuracy: 0.8750\n",
            "\n",
            "Epoch 00078: val_accuracy did not improve from 0.95000\n",
            "Epoch 79/100\n",
            "5/5 [==============================] - 122s 24s/step - loss: 0.3669 - accuracy: 0.8562 - val_loss: 0.1758 - val_accuracy: 0.9062\n",
            "\n",
            "Epoch 00079: val_accuracy did not improve from 0.95000\n",
            "Epoch 80/100\n",
            "5/5 [==============================] - 126s 25s/step - loss: 0.3448 - accuracy: 0.8813 - val_loss: 0.5460 - val_accuracy: 0.7969\n",
            "\n",
            "Epoch 00080: val_accuracy did not improve from 0.95000\n",
            "Epoch 81/100\n",
            "5/5 [==============================] - 111s 22s/step - loss: 0.2225 - accuracy: 0.9000 - val_loss: 0.3835 - val_accuracy: 0.8750\n",
            "\n",
            "Epoch 00081: val_accuracy did not improve from 0.95000\n",
            "Epoch 82/100\n",
            "5/5 [==============================] - 123s 25s/step - loss: 0.3468 - accuracy: 0.8938 - val_loss: 0.6217 - val_accuracy: 0.8281\n",
            "\n",
            "Epoch 00082: val_accuracy did not improve from 0.95000\n",
            "Epoch 83/100\n",
            "5/5 [==============================] - 123s 25s/step - loss: 0.1842 - accuracy: 0.9187 - val_loss: 0.1982 - val_accuracy: 0.8594\n",
            "\n",
            "Epoch 00083: val_accuracy did not improve from 0.95000\n",
            "Epoch 84/100\n",
            "5/5 [==============================] - 109s 22s/step - loss: 0.3018 - accuracy: 0.9062 - val_loss: 0.6267 - val_accuracy: 0.8250\n",
            "\n",
            "Epoch 00084: val_accuracy did not improve from 0.95000\n",
            "Epoch 85/100\n",
            "5/5 [==============================] - 126s 25s/step - loss: 0.3785 - accuracy: 0.8562 - val_loss: 0.5215 - val_accuracy: 0.8438\n",
            "\n",
            "Epoch 00085: val_accuracy did not improve from 0.95000\n",
            "Epoch 86/100\n",
            "5/5 [==============================] - 123s 25s/step - loss: 0.1937 - accuracy: 0.9062 - val_loss: 0.0943 - val_accuracy: 0.8750\n",
            "\n",
            "Epoch 00086: val_accuracy did not improve from 0.95000\n",
            "Epoch 87/100\n",
            "5/5 [==============================] - 122s 24s/step - loss: 0.2724 - accuracy: 0.9000 - val_loss: 0.1507 - val_accuracy: 0.9062\n",
            "\n",
            "Epoch 00087: val_accuracy did not improve from 0.95000\n",
            "Epoch 88/100\n",
            "5/5 [==============================] - 111s 22s/step - loss: 0.2610 - accuracy: 0.8813 - val_loss: 0.5253 - val_accuracy: 0.7750\n",
            "\n",
            "Epoch 00088: val_accuracy did not improve from 0.95000\n",
            "Epoch 89/100\n",
            "5/5 [==============================] - 121s 24s/step - loss: 0.3419 - accuracy: 0.8813 - val_loss: 0.2760 - val_accuracy: 0.8594\n",
            "\n",
            "Epoch 00089: val_accuracy did not improve from 0.95000\n",
            "Epoch 90/100\n",
            "5/5 [==============================] - 125s 25s/step - loss: 0.3310 - accuracy: 0.9000 - val_loss: 0.3450 - val_accuracy: 0.9062\n",
            "\n",
            "Epoch 00090: val_accuracy did not improve from 0.95000\n",
            "Epoch 91/100\n",
            "5/5 [==============================] - 110s 22s/step - loss: 0.2751 - accuracy: 0.8875 - val_loss: 0.0682 - val_accuracy: 0.9000\n",
            "\n",
            "Epoch 00091: val_accuracy did not improve from 0.95000\n",
            "Epoch 92/100\n",
            "5/5 [==============================] - 122s 24s/step - loss: 0.2357 - accuracy: 0.9375 - val_loss: 0.1690 - val_accuracy: 0.8281\n",
            "\n",
            "Epoch 00092: val_accuracy did not improve from 0.95000\n",
            "Epoch 93/100\n",
            "5/5 [==============================] - 122s 24s/step - loss: 0.3256 - accuracy: 0.8813 - val_loss: 0.4407 - val_accuracy: 0.8281\n",
            "\n",
            "Epoch 00093: val_accuracy did not improve from 0.95000\n",
            "Epoch 94/100\n",
            "5/5 [==============================] - 120s 24s/step - loss: 0.1886 - accuracy: 0.9375 - val_loss: 0.3754 - val_accuracy: 0.8281\n",
            "\n",
            "Epoch 00094: val_accuracy did not improve from 0.95000\n",
            "Epoch 95/100\n",
            "5/5 [==============================] - 112s 22s/step - loss: 0.2081 - accuracy: 0.9125 - val_loss: 0.3045 - val_accuracy: 0.8000\n",
            "\n",
            "Epoch 00095: val_accuracy did not improve from 0.95000\n",
            "Epoch 96/100\n",
            "5/5 [==============================] - 123s 25s/step - loss: 0.2714 - accuracy: 0.8938 - val_loss: 0.6416 - val_accuracy: 0.7500\n",
            "\n",
            "Epoch 00096: val_accuracy did not improve from 0.95000\n",
            "Epoch 97/100\n",
            "5/5 [==============================] - 123s 25s/step - loss: 0.2505 - accuracy: 0.9125 - val_loss: 0.1725 - val_accuracy: 0.9062\n",
            "\n",
            "Epoch 00097: val_accuracy did not improve from 0.95000\n",
            "Epoch 98/100\n",
            "5/5 [==============================] - 110s 22s/step - loss: 0.2648 - accuracy: 0.9000 - val_loss: 0.1739 - val_accuracy: 0.9000\n",
            "\n",
            "Epoch 00098: val_accuracy did not improve from 0.95000\n",
            "Epoch 99/100\n",
            "5/5 [==============================] - 121s 24s/step - loss: 0.2377 - accuracy: 0.8938 - val_loss: 0.3092 - val_accuracy: 0.8594\n",
            "\n",
            "Epoch 00099: val_accuracy did not improve from 0.95000\n",
            "Epoch 100/100\n",
            "5/5 [==============================] - 124s 25s/step - loss: 0.2363 - accuracy: 0.9250 - val_loss: 0.6570 - val_accuracy: 0.8438\n",
            "\n",
            "Epoch 00100: val_accuracy did not improve from 0.95000\n"
          ],
          "name": "stdout"
        }
      ]
    },
    {
      "cell_type": "code",
      "metadata": {
        "id": "HVTVRSV8ZlQb",
        "colab_type": "code",
        "colab": {
          "base_uri": "https://localhost:8080/",
          "height": 295
        },
        "outputId": "60bd5b6a-f57b-4bff-98ef-6a82ba5e20c6"
      },
      "source": [
        "import matplotlib.pyplot as plt\n",
        "plt.plot(hist.history[\"accuracy\"])\n",
        "plt.plot(hist.history['val_accuracy'])\n",
        "\n",
        "plt.title(\"model accuracy\")\n",
        "plt.ylabel(\"Accuracy\")\n",
        "plt.xlabel(\"Epoch\")\n",
        "plt.legend([\"Accuracy\",\"Validation Accuracy\"])\n",
        "plt.show()"
      ],
      "execution_count": 41,
      "outputs": [
        {
          "output_type": "display_data",
          "data": {
            "image/png": "[encoded data removed]",
            "text/plain": [
              "<Figure size 432x288 with 1 Axes>"
            ]
          },
          "metadata": {
            "tags": [],
            "needs_background": "light"
          }
        }
      ]
    },
    {
      "cell_type": "code",
      "metadata": {
        "id": "S1zKuauZZnZF",
        "colab_type": "code",
        "colab": {
          "base_uri": "https://localhost:8080/",
          "height": 279
        },
        "outputId": "a9c91b4c-5376-4fcd-85c2-eb3f7f785093"
      },
      "source": [
        "plt.plot(hist.history['loss'])\n",
        "plt.plot(hist.history['val_loss'])\n",
        "plt.ylabel(\"Loss\")\n",
        "plt.xlabel(\"Epoch\")\n",
        "plt.legend([\"loss\",\"Validation Loss\"])\n",
        "plt.show()"
      ],
      "execution_count": 42,
      "outputs": [
        {
          "output_type": "display_data",
          "data": {
            "image/png": "[encoded data removed]",
            "text/plain": [
              "<Figure size 432x288 with 1 Axes>"
            ]
          },
          "metadata": {
            "tags": [],
            "needs_background": "light"
          }
        }
      ]
    },
    {
      "cell_type": "code",
      "metadata": {
        "id": "mscgt0FiIA3D",
        "colab_type": "code",
        "colab": {}
      },
      "source": [
        "model_final.save(\"/content/drive/My Drive/Best models/model1_1.h5\")"
      ],
      "execution_count": null,
      "outputs": []
    },
    {
      "cell_type": "code",
      "metadata": {
        "id": "1E7hce4INlu7",
        "colab_type": "code",
        "colab": {}
      },
      "source": [
        "model_cnn=keras.models.load_model(\"/content/drive/My Drive/Best models/model_m_1.h5\")"
      ],
      "execution_count": 43,
      "outputs": []
    },
    {
      "cell_type": "code",
      "metadata": {
        "id": "WwAzAbBdZulp",
        "colab_type": "code",
        "colab": {}
      },
      "source": [
        "from keras.preprocessing.image import ImageDataGenerator\n",
        "from sklearn.metrics import classification_report, confusion_matrix\n",
        "\n",
        "test_datagen = ImageDataGenerator()"
      ],
      "execution_count": null,
      "outputs": []
    },
    {
      "cell_type": "code",
      "metadata": {
        "id": "GxVOVV3zZyE7",
        "colab_type": "code",
        "colab": {}
      },
      "source": [
        "validation_generator = test_datagen.flow_from_directory('/content/drive/My Drive/data_liver/test',\n",
        "                                                        target_size=(224, 224))"
      ],
      "execution_count": null,
      "outputs": []
    },
    {
      "cell_type": "code",
      "metadata": {
        "id": "eAMUtksqjslN",
        "colab_type": "code",
        "colab": {}
      },
      "source": [
        "import numpy as np\n",
        "#Confution Matrix and Classification Report\n",
        "Y_pred = model_cnn.predict_generator(validation_generator)\n",
        "y_pred = np.argmax(Y_pred, axis=1)\n",
        "print('Confusion Matrix')\n",
        "print(confusion_matrix(validation_generator.classes, y_pred))\n",
        "print('Classification Report')\n",
        "#target_names = ['grade1', 'grade0', 'grade2','grade3']\n",
        "print(classification_report(validation_generator.classes, y_pred))"
      ],
      "execution_count": null,
      "outputs": []
    },
    {
      "cell_type": "code",
      "metadata": {
        "id": "nCeG5IC_Z6kq",
        "colab_type": "code",
        "colab": {
          "base_uri": "https://localhost:8080/",
          "height": 153
        },
        "outputId": "0ef293ee-71a8-469c-fe36-88c0855f11ce"
      },
      "source": [
        "import os\n",
        "import numpy as np\n",
        "actual=[]\n",
        "predicted=[]\n",
        "data_path='/content/drive/My Drive/data-liverd/val'\n",
        "data_dir_list=os.listdir(data_path)\n",
        "for dataset in data_dir_list:\n",
        "  print(dataset)\n",
        "  img_list=os.listdir(data_path+'/'+dataset)\n",
        "  correctCount=0\n",
        "  wrongCount=0\n",
        "  for img in img_list:\n",
        "    img_path=data_path+'/'+dataset+'/'+img\n",
        "    input_image = image.load_img(img_path,target_size=(224,224))\n",
        "    input_image = np.asarray(input_image)\n",
        "    input_image = np.expand_dims(input_image, axis=0)\n",
        "    output = model_cnn.predict(input_image)\n",
        "    ans='grade'+str(np.argmax(output[0],axis=0))\n",
        "    if( ans in img):\n",
        "      correctCount+=1\n",
        "    else:\n",
        "      wrongCount+=1\n",
        "    actual.append(img[:6])\n",
        "    predicted.append(ans)\n",
        "  print(\"correct Count {} WrongCount {}\".format(correctCount,wrongCount))"
      ],
      "execution_count": 44,
      "outputs": [
        {
          "output_type": "stream",
          "text": [
            "grade1\n",
            "correct Count 24 WrongCount 26\n",
            "grade0\n",
            "correct Count 42 WrongCount 8\n",
            "grade2\n",
            "correct Count 48 WrongCount 2\n",
            "grade3\n",
            "correct Count 46 WrongCount 4\n"
          ],
          "name": "stdout"
        }
      ]
    },
    {
      "cell_type": "code",
      "metadata": {
        "id": "6Y1TLJJcXt63",
        "colab_type": "code",
        "colab": {
          "base_uri": "https://localhost:8080/",
          "height": 323
        },
        "outputId": "62651002-f5ea-42d1-a095-d2f21e9ff86e"
      },
      "source": [
        "# Python script for confusion matrix creation. \n",
        "from sklearn.metrics import confusion_matrix \n",
        "from sklearn.metrics import accuracy_score \n",
        "from sklearn.metrics import classification_report \n",
        "results = confusion_matrix(actual, predicted) \n",
        "\n",
        "print ('Confusion Matrix :')\n",
        "print(results) \n",
        "print ('Accuracy Score :',accuracy_score(actual, predicted)) \n",
        "print ('Report : ')\n",
        "print (classification_report(actual, predicted)) \n"
      ],
      "execution_count": 45,
      "outputs": [
        {
          "output_type": "stream",
          "text": [
            "Confusion Matrix :\n",
            "[[42  7  0  1]\n",
            " [ 0 24  4 22]\n",
            " [ 0  2 48  0]\n",
            " [ 0  3  1 46]]\n",
            "Accuracy Score : 0.8\n",
            "Report : \n",
            "              precision    recall  f1-score   support\n",
            "\n",
            "      grade0       1.00      0.84      0.91        50\n",
            "      grade1       0.67      0.48      0.56        50\n",
            "      grade2       0.91      0.96      0.93        50\n",
            "      grade3       0.67      0.92      0.77        50\n",
            "\n",
            "    accuracy                           0.80       200\n",
            "   macro avg       0.81      0.80      0.79       200\n",
            "weighted avg       0.81      0.80      0.79       200\n",
            "\n"
          ],
          "name": "stdout"
        }
      ]
    },
    {
      "cell_type": "code",
      "metadata": {
        "colab_type": "code",
        "id": "YNa87qHtw8fM",
        "colab": {
          "base_uri": "https://localhost:8080/",
          "height": 153
        },
        "outputId": "0d6825ca-e835-4131-eb48-f52148e830d3"
      },
      "source": [
        "import os\n",
        "import numpy as np\n",
        "actual=[]\n",
        "predicted=[]\n",
        "data_path='/content/drive/My Drive/data-liverd/val'\n",
        "data_dir_list=os.listdir(data_path)\n",
        "for dataset in data_dir_list:\n",
        "  print(dataset)\n",
        "  img_list=os.listdir(data_path+'/'+dataset)\n",
        "  correctCount=0\n",
        "  wrongCount=0\n",
        "  for img in img_list:\n",
        "    img_path=data_path+'/'+dataset+'/'+img\n",
        "    input_image = image.load_img(img_path,target_size=(224,224))\n",
        "    input_image = np.asarray(input_image)\n",
        "    input_image = np.expand_dims(input_image, axis=0)\n",
        "    output = model_final.predict(input_image)\n",
        "    ans='grade'+str(np.argmax(output[0],axis=0))\n",
        "    if( ans in img):\n",
        "      correctCount+=1\n",
        "    else:\n",
        "      wrongCount+=1\n",
        "    actual.append(img[:6])\n",
        "    predicted.append(ans)\n",
        "  print(\"correct Count {} WrongCount {}\".format(correctCount,wrongCount))"
      ],
      "execution_count": 46,
      "outputs": [
        {
          "output_type": "stream",
          "text": [
            "grade1\n",
            "correct Count 37 WrongCount 13\n",
            "grade0\n",
            "correct Count 47 WrongCount 3\n",
            "grade2\n",
            "correct Count 48 WrongCount 2\n",
            "grade3\n",
            "correct Count 38 WrongCount 12\n"
          ],
          "name": "stdout"
        }
      ]
    },
    {
      "cell_type": "code",
      "metadata": {
        "id": "z5Nn1DC7w70r",
        "colab_type": "code",
        "colab": {}
      },
      "source": [
        ""
      ],
      "execution_count": null,
      "outputs": []
    },
    {
      "cell_type": "code",
      "metadata": {
        "colab_type": "code",
        "id": "Wq3VzWFExC1o",
        "colab": {
          "base_uri": "https://localhost:8080/",
          "height": 323
        },
        "outputId": "0bdca464-e955-4440-b1df-cdad189a873c"
      },
      "source": [
        "# Python script for confusion matrix creation. \n",
        "from sklearn.metrics import confusion_matrix \n",
        "from sklearn.metrics import accuracy_score \n",
        "from sklearn.metrics import classification_report \n",
        "results = confusion_matrix(actual, predicted) \n",
        "\n",
        "print ('Confusion Matrix :')\n",
        "print(results) \n",
        "print ('Accuracy Score :',accuracy_score(actual, predicted)) \n",
        "print ('Report : ')\n",
        "print (classification_report(actual, predicted)) \n"
      ],
      "execution_count": 47,
      "outputs": [
        {
          "output_type": "stream",
          "text": [
            "Confusion Matrix :\n",
            "[[47  2  0  1]\n",
            " [ 6 37  3  4]\n",
            " [ 1  1 48  0]\n",
            " [ 0  9  3 38]]\n",
            "Accuracy Score : 0.85\n",
            "Report : \n",
            "              precision    recall  f1-score   support\n",
            "\n",
            "      grade0       0.87      0.94      0.90        50\n",
            "      grade1       0.76      0.74      0.75        50\n",
            "      grade2       0.89      0.96      0.92        50\n",
            "      grade3       0.88      0.76      0.82        50\n",
            "\n",
            "    accuracy                           0.85       200\n",
            "   macro avg       0.85      0.85      0.85       200\n",
            "weighted avg       0.85      0.85      0.85       200\n",
            "\n"
          ],
          "name": "stdout"
        }
      ]
    },
    {
      "cell_type": "code",
      "metadata": {
        "id": "13hBXTUZwD52",
        "colab_type": "code",
        "colab": {}
      },
      "source": [
        "tr_loss,tr_acc=model_final.evaluate(validation_generator)\n",
        "tr_acc"
      ],
      "execution_count": null,
      "outputs": []
    },
    {
      "cell_type": "code",
      "metadata": {
        "id": "ntwjv8i0wHmH",
        "colab_type": "code",
        "colab": {}
      },
      "source": [
        "tr_loss,tr_acc=model_final.evaluate(traindata)\n",
        "tr_acc"
      ],
      "execution_count": null,
      "outputs": []
    },
    {
      "cell_type": "code",
      "metadata": {
        "id": "1NOM-AafyXVT",
        "colab_type": "code",
        "colab": {}
      },
      "source": [
        "tr_loss,tr_acc=model_cnn.evaluate(testdata)\n",
        "tr_acc"
      ],
      "execution_count": null,
      "outputs": []
    },
    {
      "cell_type": "code",
      "metadata": {
        "id": "mTNWvGsEywGT",
        "colab_type": "code",
        "colab": {}
      },
      "source": [
        "saved_model=keras.models.load_model(\"/content/drive/My Drive/Best models/model_b_1.h5\")"
      ],
      "execution_count": null,
      "outputs": []
    },
    {
      "cell_type": "code",
      "metadata": {
        "colab_type": "code",
        "id": "bIRR3fnFzXLD",
        "colab": {}
      },
      "source": [
        "tr_loss,tr_acc=saved_model.evaluate(validation_generator)\n",
        "tr_acc"
      ],
      "execution_count": null,
      "outputs": []
    },
    {
      "cell_type": "code",
      "metadata": {
        "id": "ihCmpaYAzgH4",
        "colab_type": "code",
        "colab": {}
      },
      "source": [
        ""
      ],
      "execution_count": null,
      "outputs": []
    },
    {
      "cell_type": "code",
      "metadata": {
        "colab_type": "code",
        "id": "EmEGMcRkzgyK",
        "colab": {}
      },
      "source": [
        "tr_loss,tr_acc=saved_model.evaluate(testdata)\n",
        "tr_acc"
      ],
      "execution_count": null,
      "outputs": []
    },
    {
      "cell_type": "code",
      "metadata": {
        "id": "rtN1rqlVp7ll",
        "colab_type": "code",
        "colab": {}
      },
      "source": [
        "model_final=keras.models.load_model(\"/content/drive/My Drive/Best models/model_f_1.h5\")"
      ],
      "execution_count": null,
      "outputs": []
    }
  ]
}