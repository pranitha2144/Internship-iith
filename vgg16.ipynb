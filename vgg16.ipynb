{
  "nbformat": 4,
  "nbformat_minor": 0,
  "metadata": {
    "colab": {
      "name": "vgg16",
      "provenance": [],
      "mount_file_id": "1IhyoGy7EHEgj120Y7aEt15WFbYJP6aXH",
      "authorship_tag": "ABX9TyN961wG3t8uY/6/rqvE5u6X",
      "include_colab_link": true
    },
    "kernelspec": {
      "name": "python3",
      "display_name": "Python 3"
    }
  },
  "cells": [
    {
      "cell_type": "markdown",
      "metadata": {
        "id": "view-in-github",
        "colab_type": "text"
      },
      "source": [
        "<a href=\"https://colab.research.google.com/github/pranitha2144/Internship-iith/blob/Resnet/vgg16.ipynb\" target=\"_parent\"><img src=\"https://colab.research.google.com/assets/colab-badge.svg\" alt=\"Open In Colab\"/></a>"
      ]
    },
    {
      "cell_type": "code",
      "metadata": {
        "id": "3i-5qcxM7pSC",
        "colab_type": "code",
        "colab": {
          "base_uri": "https://localhost:8080/",
          "height": 34
        },
        "outputId": "6898d846-7aec-4325-d72f-cd3e3c1ab626"
      },
      "source": [
        "import keras\n",
        "from keras.models import Model\n",
        "from keras.layers import Dense\n",
        "from keras import optimizers\n",
        "from keras.preprocessing.image import ImageDataGenerator\n",
        "from keras.preprocessing import image"
      ],
      "execution_count": 1,
      "outputs": [
        {
          "output_type": "stream",
          "text": [
            "Using TensorFlow backend.\n"
          ],
          "name": "stderr"
        }
      ]
    },
    {
      "cell_type": "code",
      "metadata": {
        "id": "P_NCAugx70fs",
        "colab_type": "code",
        "colab": {
          "base_uri": "https://localhost:8080/",
          "height": 51
        },
        "outputId": "772e42af-3dbf-48ca-a582-7df012380cb2"
      },
      "source": [
        "trdata = ImageDataGenerator(\n",
        "    \n",
        "    )\n",
        "traindata = trdata.flow_from_directory(directory=\"/content/drive/My Drive/data_ouput/train\",target_size=(224,224))\n",
        "tsdata = ImageDataGenerator()\n",
        "testdata = tsdata.flow_from_directory(directory=\"/content/drive/My Drive/data_ouput/val\", target_size=(224,224))"
      ],
      "execution_count": 2,
      "outputs": [
        {
          "output_type": "stream",
          "text": [
            "Found 800 images belonging to 4 classes.\n",
            "Found 100 images belonging to 4 classes.\n"
          ],
          "name": "stdout"
        }
      ]
    },
    {
      "cell_type": "code",
      "metadata": {
        "id": "rg_JdtWb8O00",
        "colab_type": "code",
        "colab": {
          "base_uri": "https://localhost:8080/",
          "height": 51
        },
        "outputId": "3603844e-6627-4592-cc2b-66cbc46bd655"
      },
      "source": [
        "from keras.applications.vgg16 import VGG16\n",
        "vggmodel = VGG16(weights='imagenet', include_top=True)"
      ],
      "execution_count": 3,
      "outputs": [
        {
          "output_type": "stream",
          "text": [
            "Downloading data from https://github.com/fchollet/deep-learning-models/releases/download/v0.1/vgg16_weights_tf_dim_ordering_tf_kernels.h5\n",
            "553467904/553467096 [==============================] - 34s 0us/step\n"
          ],
          "name": "stdout"
        }
      ]
    },
    {
      "cell_type": "code",
      "metadata": {
        "id": "PKuEFjHt8TfJ",
        "colab_type": "code",
        "colab": {
          "base_uri": "https://localhost:8080/",
          "height": 935
        },
        "outputId": "300ddaf0-c727-43f6-e83b-3fcbe0d07551"
      },
      "source": [
        "vggmodel.summary()"
      ],
      "execution_count": 4,
      "outputs": [
        {
          "output_type": "stream",
          "text": [
            "Model: \"vgg16\"\n",
            "_________________________________________________________________\n",
            "Layer (type)                 Output Shape              Param #   \n",
            "=================================================================\n",
            "input_1 (InputLayer)         (None, 224, 224, 3)       0         \n",
            "_________________________________________________________________\n",
            "block1_conv1 (Conv2D)        (None, 224, 224, 64)      1792      \n",
            "_________________________________________________________________\n",
            "block1_conv2 (Conv2D)        (None, 224, 224, 64)      36928     \n",
            "_________________________________________________________________\n",
            "block1_pool (MaxPooling2D)   (None, 112, 112, 64)      0         \n",
            "_________________________________________________________________\n",
            "block2_conv1 (Conv2D)        (None, 112, 112, 128)     73856     \n",
            "_________________________________________________________________\n",
            "block2_conv2 (Conv2D)        (None, 112, 112, 128)     147584    \n",
            "_________________________________________________________________\n",
            "block2_pool (MaxPooling2D)   (None, 56, 56, 128)       0         \n",
            "_________________________________________________________________\n",
            "block3_conv1 (Conv2D)        (None, 56, 56, 256)       295168    \n",
            "_________________________________________________________________\n",
            "block3_conv2 (Conv2D)        (None, 56, 56, 256)       590080    \n",
            "_________________________________________________________________\n",
            "block3_conv3 (Conv2D)        (None, 56, 56, 256)       590080    \n",
            "_________________________________________________________________\n",
            "block3_pool (MaxPooling2D)   (None, 28, 28, 256)       0         \n",
            "_________________________________________________________________\n",
            "block4_conv1 (Conv2D)        (None, 28, 28, 512)       1180160   \n",
            "_________________________________________________________________\n",
            "block4_conv2 (Conv2D)        (None, 28, 28, 512)       2359808   \n",
            "_________________________________________________________________\n",
            "block4_conv3 (Conv2D)        (None, 28, 28, 512)       2359808   \n",
            "_________________________________________________________________\n",
            "block4_pool (MaxPooling2D)   (None, 14, 14, 512)       0         \n",
            "_________________________________________________________________\n",
            "block5_conv1 (Conv2D)        (None, 14, 14, 512)       2359808   \n",
            "_________________________________________________________________\n",
            "block5_conv2 (Conv2D)        (None, 14, 14, 512)       2359808   \n",
            "_________________________________________________________________\n",
            "block5_conv3 (Conv2D)        (None, 14, 14, 512)       2359808   \n",
            "_________________________________________________________________\n",
            "block5_pool (MaxPooling2D)   (None, 7, 7, 512)         0         \n",
            "_________________________________________________________________\n",
            "flatten (Flatten)            (None, 25088)             0         \n",
            "_________________________________________________________________\n",
            "fc1 (Dense)                  (None, 4096)              102764544 \n",
            "_________________________________________________________________\n",
            "fc2 (Dense)                  (None, 4096)              16781312  \n",
            "_________________________________________________________________\n",
            "predictions (Dense)          (None, 1000)              4097000   \n",
            "=================================================================\n",
            "Total params: 138,357,544\n",
            "Trainable params: 138,357,544\n",
            "Non-trainable params: 0\n",
            "_________________________________________________________________\n"
          ],
          "name": "stdout"
        }
      ]
    },
    {
      "cell_type": "code",
      "metadata": {
        "id": "GG60hKI68aWo",
        "colab_type": "code",
        "colab": {
          "base_uri": "https://localhost:8080/",
          "height": 340
        },
        "outputId": "e92cbec1-4f87-4f31-a040-162f981dcfe5"
      },
      "source": [
        "for layers in (vggmodel.layers)[:19]:\n",
        "    print(layers)\n",
        "    layers.trainable = False"
      ],
      "execution_count": 5,
      "outputs": [
        {
          "output_type": "stream",
          "text": [
            "<keras.engine.input_layer.InputLayer object at 0x7fc65581e278>\n",
            "<keras.layers.convolutional.Conv2D object at 0x7fc65581eb00>\n",
            "<keras.layers.convolutional.Conv2D object at 0x7fc612ca0518>\n",
            "<keras.layers.pooling.MaxPooling2D object at 0x7fc612ca08d0>\n",
            "<keras.layers.convolutional.Conv2D object at 0x7fc612ca0ba8>\n",
            "<keras.layers.convolutional.Conv2D object at 0x7fc611482630>\n",
            "<keras.layers.pooling.MaxPooling2D object at 0x7fc611c8c470>\n",
            "<keras.layers.convolutional.Conv2D object at 0x7fc611c8c2b0>\n",
            "<keras.layers.convolutional.Conv2D object at 0x7fc611c8cf98>\n",
            "<keras.layers.convolutional.Conv2D object at 0x7fc611c11b38>\n",
            "<keras.layers.pooling.MaxPooling2D object at 0x7fc611c165c0>\n",
            "<keras.layers.convolutional.Conv2D object at 0x7fc611c16400>\n",
            "<keras.layers.convolutional.Conv2D object at 0x7fc611c16e48>\n",
            "<keras.layers.convolutional.Conv2D object at 0x7fc611c1ec88>\n",
            "<keras.layers.pooling.MaxPooling2D object at 0x7fc611c25748>\n",
            "<keras.layers.convolutional.Conv2D object at 0x7fc611c25550>\n",
            "<keras.layers.convolutional.Conv2D object at 0x7fc611c299e8>\n",
            "<keras.layers.convolutional.Conv2D object at 0x7fc611c29e80>\n",
            "<keras.layers.pooling.MaxPooling2D object at 0x7fc611c31940>\n"
          ],
          "name": "stdout"
        }
      ]
    },
    {
      "cell_type": "code",
      "metadata": {
        "id": "59taDHdJ8ikh",
        "colab_type": "code",
        "colab": {
          "base_uri": "https://localhost:8080/",
          "height": 71
        },
        "outputId": "1b21446d-0c47-4fa5-f01f-0952c7421a09"
      },
      "source": [
        "X= vggmodel.layers[-2].output\n",
        "predictions = Dense(4, activation=\"softmax\")(X)\n",
        "model_final = Model(input = vggmodel.input, output = predictions)\n"
      ],
      "execution_count": 6,
      "outputs": [
        {
          "output_type": "stream",
          "text": [
            "/usr/local/lib/python3.6/dist-packages/ipykernel_launcher.py:3: UserWarning: Update your `Model` call to the Keras 2 API: `Model(inputs=Tensor(\"in..., outputs=Tensor(\"de...)`\n",
            "  This is separate from the ipykernel package so we can avoid doing imports until\n"
          ],
          "name": "stderr"
        }
      ]
    },
    {
      "cell_type": "code",
      "metadata": {
        "id": "vFYbGbdq8vg8",
        "colab_type": "code",
        "colab": {}
      },
      "source": [
        "model_final.compile(loss = \"mse\", optimizer = optimizers.Adam(lr=0.0001), metrics=[\"accuracy\"])"
      ],
      "execution_count": 7,
      "outputs": []
    },
    {
      "cell_type": "code",
      "metadata": {
        "id": "i6yUCcd08xum",
        "colab_type": "code",
        "colab": {
          "base_uri": "https://localhost:8080/",
          "height": 935
        },
        "outputId": "78795f16-7a7d-4b1e-a86b-7cbf53f28d65"
      },
      "source": [
        "model_final.summary()"
      ],
      "execution_count": 8,
      "outputs": [
        {
          "output_type": "stream",
          "text": [
            "Model: \"model_1\"\n",
            "_________________________________________________________________\n",
            "Layer (type)                 Output Shape              Param #   \n",
            "=================================================================\n",
            "input_1 (InputLayer)         (None, 224, 224, 3)       0         \n",
            "_________________________________________________________________\n",
            "block1_conv1 (Conv2D)        (None, 224, 224, 64)      1792      \n",
            "_________________________________________________________________\n",
            "block1_conv2 (Conv2D)        (None, 224, 224, 64)      36928     \n",
            "_________________________________________________________________\n",
            "block1_pool (MaxPooling2D)   (None, 112, 112, 64)      0         \n",
            "_________________________________________________________________\n",
            "block2_conv1 (Conv2D)        (None, 112, 112, 128)     73856     \n",
            "_________________________________________________________________\n",
            "block2_conv2 (Conv2D)        (None, 112, 112, 128)     147584    \n",
            "_________________________________________________________________\n",
            "block2_pool (MaxPooling2D)   (None, 56, 56, 128)       0         \n",
            "_________________________________________________________________\n",
            "block3_conv1 (Conv2D)        (None, 56, 56, 256)       295168    \n",
            "_________________________________________________________________\n",
            "block3_conv2 (Conv2D)        (None, 56, 56, 256)       590080    \n",
            "_________________________________________________________________\n",
            "block3_conv3 (Conv2D)        (None, 56, 56, 256)       590080    \n",
            "_________________________________________________________________\n",
            "block3_pool (MaxPooling2D)   (None, 28, 28, 256)       0         \n",
            "_________________________________________________________________\n",
            "block4_conv1 (Conv2D)        (None, 28, 28, 512)       1180160   \n",
            "_________________________________________________________________\n",
            "block4_conv2 (Conv2D)        (None, 28, 28, 512)       2359808   \n",
            "_________________________________________________________________\n",
            "block4_conv3 (Conv2D)        (None, 28, 28, 512)       2359808   \n",
            "_________________________________________________________________\n",
            "block4_pool (MaxPooling2D)   (None, 14, 14, 512)       0         \n",
            "_________________________________________________________________\n",
            "block5_conv1 (Conv2D)        (None, 14, 14, 512)       2359808   \n",
            "_________________________________________________________________\n",
            "block5_conv2 (Conv2D)        (None, 14, 14, 512)       2359808   \n",
            "_________________________________________________________________\n",
            "block5_conv3 (Conv2D)        (None, 14, 14, 512)       2359808   \n",
            "_________________________________________________________________\n",
            "block5_pool (MaxPooling2D)   (None, 7, 7, 512)         0         \n",
            "_________________________________________________________________\n",
            "flatten (Flatten)            (None, 25088)             0         \n",
            "_________________________________________________________________\n",
            "fc1 (Dense)                  (None, 4096)              102764544 \n",
            "_________________________________________________________________\n",
            "fc2 (Dense)                  (None, 4096)              16781312  \n",
            "_________________________________________________________________\n",
            "dense_1 (Dense)              (None, 4)                 16388     \n",
            "=================================================================\n",
            "Total params: 134,276,932\n",
            "Trainable params: 119,562,244\n",
            "Non-trainable params: 14,714,688\n",
            "_________________________________________________________________\n"
          ],
          "name": "stdout"
        }
      ]
    },
    {
      "cell_type": "code",
      "metadata": {
        "id": "UIV1Rie889QA",
        "colab_type": "code",
        "colab": {
          "base_uri": "https://localhost:8080/",
          "height": 1000
        },
        "outputId": "01446c8f-db7f-4179-b975-371376ae95bb"
      },
      "source": [
        "from keras.callbacks import ModelCheckpoint, EarlyStopping\n",
        "checkpoint = ModelCheckpoint(\"vgg16_1.h5\", monitor='val_accuracy', verbose=1, save_best_only=True, save_weights_only=False, mode='auto', period=1)\n",
        "early = EarlyStopping(monitor='val_acc', min_delta=0, patience=40, verbose=1, mode='auto')\n",
        "hist=model_final.fit(traindata, steps_per_epoch= 2, epochs= 100, validation_data= testdata, validation_steps=1, callbacks=[checkpoint,early])\n",
        "model_final.save_weights(\"vgg16_1.h5\")"
      ],
      "execution_count": 9,
      "outputs": [
        {
          "output_type": "stream",
          "text": [
            "Epoch 1/100\n",
            "2/2 [==============================] - 82s 41s/step - loss: 0.2773 - accuracy: 0.2344 - val_loss: 0.3478 - val_accuracy: 0.2812\n",
            "\n",
            "Epoch 00001: val_accuracy improved from -inf to 0.28125, saving model to vgg16_1.h5\n"
          ],
          "name": "stdout"
        },
        {
          "output_type": "stream",
          "text": [
            "/usr/local/lib/python3.6/dist-packages/keras/callbacks/callbacks.py:846: RuntimeWarning: Early stopping conditioned on metric `val_acc` which is not available. Available metrics are: val_loss,val_accuracy,loss,accuracy\n",
            "  (self.monitor, ','.join(list(logs.keys()))), RuntimeWarning\n"
          ],
          "name": "stderr"
        },
        {
          "output_type": "stream",
          "text": [
            "Epoch 2/100\n",
            "2/2 [==============================] - 52s 26s/step - loss: 0.2806 - accuracy: 0.3906 - val_loss: 0.3642 - val_accuracy: 0.2188\n",
            "\n",
            "Epoch 00002: val_accuracy did not improve from 0.28125\n",
            "Epoch 3/100\n",
            "2/2 [==============================] - 50s 25s/step - loss: 0.2701 - accuracy: 0.4062 - val_loss: 0.2925 - val_accuracy: 0.4062\n",
            "\n",
            "Epoch 00003: val_accuracy improved from 0.28125 to 0.40625, saving model to vgg16_1.h5\n",
            "Epoch 4/100\n",
            "2/2 [==============================] - 36s 18s/step - loss: 0.2944 - accuracy: 0.3750 - val_loss: 0.2500 - val_accuracy: 0.5000\n",
            "\n",
            "Epoch 00004: val_accuracy improved from 0.40625 to 0.50000, saving model to vgg16_1.h5\n",
            "Epoch 5/100\n",
            "2/2 [==============================] - 63s 31s/step - loss: 0.3191 - accuracy: 0.3438 - val_loss: 0.2705 - val_accuracy: 0.4688\n",
            "\n",
            "Epoch 00005: val_accuracy did not improve from 0.50000\n",
            "Epoch 6/100\n",
            "2/2 [==============================] - 49s 24s/step - loss: 0.3419 - accuracy: 0.3125 - val_loss: 0.2654 - val_accuracy: 0.4688\n",
            "\n",
            "Epoch 00006: val_accuracy did not improve from 0.50000\n",
            "Epoch 7/100\n",
            "2/2 [==============================] - 54s 27s/step - loss: 0.2988 - accuracy: 0.3906 - val_loss: 0.2936 - val_accuracy: 0.4062\n",
            "\n",
            "Epoch 00007: val_accuracy did not improve from 0.50000\n",
            "Epoch 8/100\n",
            "2/2 [==============================] - 60s 30s/step - loss: 0.3127 - accuracy: 0.3750 - val_loss: 0.2500 - val_accuracy: 0.5000\n",
            "\n",
            "Epoch 00008: val_accuracy did not improve from 0.50000\n",
            "Epoch 9/100\n",
            "2/2 [==============================] - 62s 31s/step - loss: 0.2601 - accuracy: 0.4688 - val_loss: 0.2743 - val_accuracy: 0.4375\n",
            "\n",
            "Epoch 00009: val_accuracy did not improve from 0.50000\n",
            "Epoch 10/100\n",
            "2/2 [==============================] - 50s 25s/step - loss: 0.2874 - accuracy: 0.4219 - val_loss: 0.2659 - val_accuracy: 0.4688\n",
            "\n",
            "Epoch 00010: val_accuracy did not improve from 0.50000\n",
            "Epoch 11/100\n",
            "2/2 [==============================] - 51s 25s/step - loss: 0.2796 - accuracy: 0.4375 - val_loss: 0.2813 - val_accuracy: 0.4375\n",
            "\n",
            "Epoch 00011: val_accuracy did not improve from 0.50000\n",
            "Epoch 12/100\n",
            "2/2 [==============================] - 41s 20s/step - loss: 0.2591 - accuracy: 0.4844 - val_loss: 0.1250 - val_accuracy: 0.7500\n",
            "\n",
            "Epoch 00012: val_accuracy improved from 0.50000 to 0.75000, saving model to vgg16_1.h5\n",
            "Epoch 13/100\n",
            "2/2 [==============================] - 54s 27s/step - loss: 0.2969 - accuracy: 0.4062 - val_loss: 0.2969 - val_accuracy: 0.4062\n",
            "\n",
            "Epoch 00013: val_accuracy did not improve from 0.75000\n",
            "Epoch 14/100\n",
            "2/2 [==============================] - 46s 23s/step - loss: 0.3198 - accuracy: 0.3594 - val_loss: 0.2344 - val_accuracy: 0.5312\n",
            "\n",
            "Epoch 00014: val_accuracy did not improve from 0.75000\n",
            "Epoch 15/100\n",
            "2/2 [==============================] - 46s 23s/step - loss: 0.3125 - accuracy: 0.3750 - val_loss: 0.3121 - val_accuracy: 0.3750\n",
            "\n",
            "Epoch 00015: val_accuracy did not improve from 0.75000\n",
            "Epoch 16/100\n",
            "2/2 [==============================] - 34s 17s/step - loss: 0.2969 - accuracy: 0.4062 - val_loss: 2.9854e-25 - val_accuracy: 1.0000\n",
            "\n",
            "Epoch 00016: val_accuracy improved from 0.75000 to 1.00000, saving model to vgg16_1.h5\n",
            "Epoch 17/100\n",
            "2/2 [==============================] - 47s 24s/step - loss: 0.2726 - accuracy: 0.4375 - val_loss: 0.2813 - val_accuracy: 0.4375\n",
            "\n",
            "Epoch 00017: val_accuracy did not improve from 1.00000\n",
            "Epoch 18/100\n",
            "2/2 [==============================] - 47s 23s/step - loss: 0.2912 - accuracy: 0.4219 - val_loss: 0.2686 - val_accuracy: 0.4688\n",
            "\n",
            "Epoch 00018: val_accuracy did not improve from 1.00000\n",
            "Epoch 19/100\n",
            "2/2 [==============================] - 47s 23s/step - loss: 0.2731 - accuracy: 0.4531 - val_loss: 0.2344 - val_accuracy: 0.5312\n",
            "\n",
            "Epoch 00019: val_accuracy did not improve from 1.00000\n",
            "Epoch 20/100\n",
            "2/2 [==============================] - 34s 17s/step - loss: 0.2366 - accuracy: 0.5156 - val_loss: 0.3750 - val_accuracy: 0.2500\n",
            "\n",
            "Epoch 00020: val_accuracy did not improve from 1.00000\n",
            "Epoch 21/100\n",
            "2/2 [==============================] - 47s 23s/step - loss: 0.2276 - accuracy: 0.5469 - val_loss: 0.2849 - val_accuracy: 0.4375\n",
            "\n",
            "Epoch 00021: val_accuracy did not improve from 1.00000\n",
            "Epoch 22/100\n",
            "2/2 [==============================] - 46s 23s/step - loss: 0.1952 - accuracy: 0.6094 - val_loss: 0.2656 - val_accuracy: 0.4688\n",
            "\n",
            "Epoch 00022: val_accuracy did not improve from 1.00000\n",
            "Epoch 23/100\n",
            "2/2 [==============================] - 46s 23s/step - loss: 0.2422 - accuracy: 0.5156 - val_loss: 0.2321 - val_accuracy: 0.5312\n",
            "\n",
            "Epoch 00023: val_accuracy did not improve from 1.00000\n",
            "Epoch 24/100\n",
            "2/2 [==============================] - 34s 17s/step - loss: 0.3016 - accuracy: 0.3906 - val_loss: 0.5000 - val_accuracy: 0.0000e+00\n",
            "\n",
            "Epoch 00024: val_accuracy did not improve from 1.00000\n",
            "Epoch 25/100\n",
            "2/2 [==============================] - 47s 24s/step - loss: 0.2812 - accuracy: 0.4375 - val_loss: 0.2485 - val_accuracy: 0.5000\n",
            "\n",
            "Epoch 00025: val_accuracy did not improve from 1.00000\n",
            "Epoch 26/100\n",
            "2/2 [==============================] - 47s 23s/step - loss: 0.2808 - accuracy: 0.4375 - val_loss: 0.2344 - val_accuracy: 0.5312\n",
            "\n",
            "Epoch 00026: val_accuracy did not improve from 1.00000\n",
            "Epoch 27/100\n",
            "2/2 [==============================] - 46s 23s/step - loss: 0.2483 - accuracy: 0.5000 - val_loss: 0.3256 - val_accuracy: 0.3438\n",
            "\n",
            "Epoch 00027: val_accuracy did not improve from 1.00000\n",
            "Epoch 28/100\n",
            "2/2 [==============================] - 34s 17s/step - loss: 0.2970 - accuracy: 0.4062 - val_loss: 0.2500 - val_accuracy: 0.5000\n",
            "\n",
            "Epoch 00028: val_accuracy did not improve from 1.00000\n",
            "Epoch 29/100\n",
            "2/2 [==============================] - 46s 23s/step - loss: 0.2597 - accuracy: 0.4844 - val_loss: 0.3008 - val_accuracy: 0.3750\n",
            "\n",
            "Epoch 00029: val_accuracy did not improve from 1.00000\n",
            "Epoch 30/100\n",
            "2/2 [==============================] - 47s 23s/step - loss: 0.3125 - accuracy: 0.3750 - val_loss: 0.2387 - val_accuracy: 0.5000\n",
            "\n",
            "Epoch 00030: val_accuracy did not improve from 1.00000\n",
            "Epoch 31/100\n",
            "2/2 [==============================] - 47s 23s/step - loss: 0.2875 - accuracy: 0.4219 - val_loss: 0.3125 - val_accuracy: 0.3750\n",
            "\n",
            "Epoch 00031: val_accuracy did not improve from 1.00000\n",
            "Epoch 32/100\n",
            "2/2 [==============================] - 34s 17s/step - loss: 0.2420 - accuracy: 0.5156 - val_loss: 0.2500 - val_accuracy: 0.5000\n",
            "\n",
            "Epoch 00032: val_accuracy did not improve from 1.00000\n",
            "Epoch 33/100\n",
            "2/2 [==============================] - 46s 23s/step - loss: 0.2578 - accuracy: 0.4844 - val_loss: 0.2968 - val_accuracy: 0.4062\n",
            "\n",
            "Epoch 00033: val_accuracy did not improve from 1.00000\n",
            "Epoch 34/100\n",
            "2/2 [==============================] - 46s 23s/step - loss: 0.2502 - accuracy: 0.5000 - val_loss: 0.2969 - val_accuracy: 0.4062\n",
            "\n",
            "Epoch 00034: val_accuracy did not improve from 1.00000\n",
            "Epoch 35/100\n",
            "2/2 [==============================] - 47s 24s/step - loss: 0.2659 - accuracy: 0.4688 - val_loss: 0.2656 - val_accuracy: 0.4688\n",
            "\n",
            "Epoch 00035: val_accuracy did not improve from 1.00000\n",
            "Epoch 36/100\n",
            "2/2 [==============================] - 34s 17s/step - loss: 0.2501 - accuracy: 0.5000 - val_loss: 0.2500 - val_accuracy: 0.5000\n",
            "\n",
            "Epoch 00036: val_accuracy did not improve from 1.00000\n",
            "Epoch 37/100\n",
            "2/2 [==============================] - 47s 23s/step - loss: 0.2812 - accuracy: 0.4375 - val_loss: 0.2906 - val_accuracy: 0.4062\n",
            "\n",
            "Epoch 00037: val_accuracy did not improve from 1.00000\n",
            "Epoch 38/100\n",
            "2/2 [==============================] - 46s 23s/step - loss: 0.2585 - accuracy: 0.4844 - val_loss: 0.2824 - val_accuracy: 0.4375\n",
            "\n",
            "Epoch 00038: val_accuracy did not improve from 1.00000\n",
            "Epoch 39/100\n",
            "2/2 [==============================] - 47s 23s/step - loss: 0.2811 - accuracy: 0.4375 - val_loss: 0.2509 - val_accuracy: 0.5000\n",
            "\n",
            "Epoch 00039: val_accuracy did not improve from 1.00000\n",
            "Epoch 40/100\n",
            "2/2 [==============================] - 34s 17s/step - loss: 0.2903 - accuracy: 0.4219 - val_loss: 0.0366 - val_accuracy: 0.7500\n",
            "\n",
            "Epoch 00040: val_accuracy did not improve from 1.00000\n",
            "Epoch 41/100\n",
            "2/2 [==============================] - 47s 23s/step - loss: 0.3043 - accuracy: 0.3906 - val_loss: 0.3361 - val_accuracy: 0.2812\n",
            "\n",
            "Epoch 00041: val_accuracy did not improve from 1.00000\n",
            "Epoch 42/100\n",
            "2/2 [==============================] - 47s 24s/step - loss: 0.2947 - accuracy: 0.4062 - val_loss: 0.2525 - val_accuracy: 0.5000\n",
            "\n",
            "Epoch 00042: val_accuracy did not improve from 1.00000\n",
            "Epoch 43/100\n",
            "2/2 [==============================] - 47s 23s/step - loss: 0.3129 - accuracy: 0.3594 - val_loss: 0.3240 - val_accuracy: 0.3438\n",
            "\n",
            "Epoch 00043: val_accuracy did not improve from 1.00000\n",
            "Epoch 44/100\n",
            "2/2 [==============================] - 34s 17s/step - loss: 0.3055 - accuracy: 0.3750 - val_loss: 0.5000 - val_accuracy: 0.0000e+00\n",
            "\n",
            "Epoch 00044: val_accuracy did not improve from 1.00000\n",
            "Epoch 45/100\n",
            "2/2 [==============================] - 46s 23s/step - loss: 0.2682 - accuracy: 0.4531 - val_loss: 0.2081 - val_accuracy: 0.5625\n",
            "\n",
            "Epoch 00045: val_accuracy did not improve from 1.00000\n",
            "Epoch 46/100\n",
            "2/2 [==============================] - 46s 23s/step - loss: 0.2335 - accuracy: 0.5312 - val_loss: 0.3089 - val_accuracy: 0.3750\n",
            "\n",
            "Epoch 00046: val_accuracy did not improve from 1.00000\n",
            "Epoch 47/100\n",
            "2/2 [==============================] - 47s 24s/step - loss: 0.2656 - accuracy: 0.4688 - val_loss: 0.2812 - val_accuracy: 0.4375\n",
            "\n",
            "Epoch 00047: val_accuracy did not improve from 1.00000\n",
            "Epoch 48/100\n",
            "2/2 [==============================] - 34s 17s/step - loss: 0.2964 - accuracy: 0.4062 - val_loss: 0.2500 - val_accuracy: 0.5000\n",
            "\n",
            "Epoch 00048: val_accuracy did not improve from 1.00000\n",
            "Epoch 49/100\n",
            "2/2 [==============================] - 47s 23s/step - loss: 0.2946 - accuracy: 0.4062 - val_loss: 0.2175 - val_accuracy: 0.5625\n",
            "\n",
            "Epoch 00049: val_accuracy did not improve from 1.00000\n",
            "Epoch 50/100\n",
            "2/2 [==============================] - 47s 24s/step - loss: 0.2480 - accuracy: 0.5000 - val_loss: 0.2672 - val_accuracy: 0.4688\n",
            "\n",
            "Epoch 00050: val_accuracy did not improve from 1.00000\n",
            "Epoch 51/100\n",
            "2/2 [==============================] - 46s 23s/step - loss: 0.2486 - accuracy: 0.5000 - val_loss: 0.2969 - val_accuracy: 0.4062\n",
            "\n",
            "Epoch 00051: val_accuracy did not improve from 1.00000\n",
            "Epoch 52/100\n",
            "2/2 [==============================] - 34s 17s/step - loss: 0.2500 - accuracy: 0.5000 - val_loss: 0.2500 - val_accuracy: 0.5000\n",
            "\n",
            "Epoch 00052: val_accuracy did not improve from 1.00000\n",
            "Epoch 53/100\n",
            "2/2 [==============================] - 47s 23s/step - loss: 0.2500 - accuracy: 0.5000 - val_loss: 0.2657 - val_accuracy: 0.4688\n",
            "\n",
            "Epoch 00053: val_accuracy did not improve from 1.00000\n",
            "Epoch 54/100\n",
            "2/2 [==============================] - 47s 23s/step - loss: 0.2898 - accuracy: 0.4219 - val_loss: 0.2812 - val_accuracy: 0.4375\n",
            "\n",
            "Epoch 00054: val_accuracy did not improve from 1.00000\n",
            "Epoch 55/100\n",
            "2/2 [==============================] - 47s 23s/step - loss: 0.2648 - accuracy: 0.4688 - val_loss: 0.2656 - val_accuracy: 0.4688\n",
            "\n",
            "Epoch 00055: val_accuracy did not improve from 1.00000\n",
            "Epoch 56/100\n",
            "2/2 [==============================] - 34s 17s/step - loss: 0.2318 - accuracy: 0.5312 - val_loss: 0.2500 - val_accuracy: 0.5000\n",
            "\n",
            "Epoch 00056: val_accuracy did not improve from 1.00000\n",
            "Epoch 57/100\n",
            "2/2 [==============================] - 48s 24s/step - loss: 0.2889 - accuracy: 0.4219 - val_loss: 0.2500 - val_accuracy: 0.5000\n",
            "\n",
            "Epoch 00057: val_accuracy did not improve from 1.00000\n",
            "Epoch 58/100\n",
            "2/2 [==============================] - 46s 23s/step - loss: 0.2500 - accuracy: 0.5000 - val_loss: 0.2816 - val_accuracy: 0.4375\n",
            "\n",
            "Epoch 00058: val_accuracy did not improve from 1.00000\n",
            "Epoch 59/100\n",
            "2/2 [==============================] - 46s 23s/step - loss: 0.2578 - accuracy: 0.4844 - val_loss: 0.2656 - val_accuracy: 0.4688\n",
            "\n",
            "Epoch 00059: val_accuracy did not improve from 1.00000\n",
            "Epoch 60/100\n",
            "2/2 [==============================] - 34s 17s/step - loss: 0.2290 - accuracy: 0.5312 - val_loss: 0.5000 - val_accuracy: 0.0000e+00\n",
            "\n",
            "Epoch 00060: val_accuracy did not improve from 1.00000\n",
            "Epoch 61/100\n",
            "2/2 [==============================] - 47s 23s/step - loss: 0.2812 - accuracy: 0.4375 - val_loss: 0.2812 - val_accuracy: 0.4375\n",
            "\n",
            "Epoch 00061: val_accuracy did not improve from 1.00000\n",
            "Epoch 62/100\n",
            "2/2 [==============================] - 47s 23s/step - loss: 0.2735 - accuracy: 0.4531 - val_loss: 0.3125 - val_accuracy: 0.3750\n",
            "\n",
            "Epoch 00062: val_accuracy did not improve from 1.00000\n",
            "Epoch 63/100\n",
            "2/2 [==============================] - 47s 24s/step - loss: 0.2890 - accuracy: 0.4219 - val_loss: 0.2500 - val_accuracy: 0.5000\n",
            "\n",
            "Epoch 00063: val_accuracy did not improve from 1.00000\n",
            "Epoch 64/100\n",
            "2/2 [==============================] - 34s 17s/step - loss: 0.3125 - accuracy: 0.3750 - val_loss: 3.4558e-10 - val_accuracy: 1.0000\n",
            "\n",
            "Epoch 00064: val_accuracy did not improve from 1.00000\n",
            "Epoch 65/100\n",
            "2/2 [==============================] - 47s 23s/step - loss: 0.2656 - accuracy: 0.4688 - val_loss: 0.2812 - val_accuracy: 0.4375\n",
            "\n",
            "Epoch 00065: val_accuracy did not improve from 1.00000\n",
            "Epoch 66/100\n",
            "2/2 [==============================] - 47s 23s/step - loss: 0.2265 - accuracy: 0.5469 - val_loss: 0.2511 - val_accuracy: 0.5000\n",
            "\n",
            "Epoch 00066: val_accuracy did not improve from 1.00000\n",
            "Epoch 67/100\n",
            "2/2 [==============================] - 47s 23s/step - loss: 0.2680 - accuracy: 0.4531 - val_loss: 0.2501 - val_accuracy: 0.5000\n",
            "\n",
            "Epoch 00067: val_accuracy did not improve from 1.00000\n",
            "Epoch 68/100\n",
            "2/2 [==============================] - 34s 17s/step - loss: 0.2977 - accuracy: 0.4062 - val_loss: 0.3747 - val_accuracy: 0.2500\n",
            "\n",
            "Epoch 00068: val_accuracy did not improve from 1.00000\n",
            "Epoch 69/100\n",
            "2/2 [==============================] - 46s 23s/step - loss: 0.2578 - accuracy: 0.4844 - val_loss: 0.2031 - val_accuracy: 0.5938\n",
            "\n",
            "Epoch 00069: val_accuracy did not improve from 1.00000\n",
            "Epoch 70/100\n",
            "2/2 [==============================] - 47s 23s/step - loss: 0.2422 - accuracy: 0.5156 - val_loss: 0.2344 - val_accuracy: 0.5312\n",
            "\n",
            "Epoch 00070: val_accuracy did not improve from 1.00000\n",
            "Epoch 71/100\n",
            "2/2 [==============================] - 47s 23s/step - loss: 0.2344 - accuracy: 0.5312 - val_loss: 0.3598 - val_accuracy: 0.2812\n",
            "\n",
            "Epoch 00071: val_accuracy did not improve from 1.00000\n",
            "Epoch 72/100\n",
            "2/2 [==============================] - 34s 17s/step - loss: 0.2266 - accuracy: 0.5469 - val_loss: 0.3750 - val_accuracy: 0.2500\n",
            "\n",
            "Epoch 00072: val_accuracy did not improve from 1.00000\n",
            "Epoch 73/100\n",
            "2/2 [==============================] - 46s 23s/step - loss: 0.2499 - accuracy: 0.5000 - val_loss: 0.2655 - val_accuracy: 0.4688\n",
            "\n",
            "Epoch 00073: val_accuracy did not improve from 1.00000\n",
            "Epoch 74/100\n",
            "2/2 [==============================] - 46s 23s/step - loss: 0.2883 - accuracy: 0.4219 - val_loss: 0.2302 - val_accuracy: 0.5312\n",
            "\n",
            "Epoch 00074: val_accuracy did not improve from 1.00000\n",
            "Epoch 75/100\n",
            "2/2 [==============================] - 47s 24s/step - loss: 0.2578 - accuracy: 0.4844 - val_loss: 0.3594 - val_accuracy: 0.2812\n",
            "\n",
            "Epoch 00075: val_accuracy did not improve from 1.00000\n",
            "Epoch 76/100\n",
            "2/2 [==============================] - 34s 17s/step - loss: 0.2969 - accuracy: 0.4062 - val_loss: 0.2500 - val_accuracy: 0.5000\n",
            "\n",
            "Epoch 00076: val_accuracy did not improve from 1.00000\n",
            "Epoch 77/100\n",
            "2/2 [==============================] - 47s 23s/step - loss: 0.2109 - accuracy: 0.5781 - val_loss: 0.2031 - val_accuracy: 0.5938\n",
            "\n",
            "Epoch 00077: val_accuracy did not improve from 1.00000\n",
            "Epoch 78/100\n",
            "2/2 [==============================] - 47s 24s/step - loss: 0.3349 - accuracy: 0.3281 - val_loss: 0.2969 - val_accuracy: 0.4062\n",
            "\n",
            "Epoch 00078: val_accuracy did not improve from 1.00000\n",
            "Epoch 79/100\n",
            "2/2 [==============================] - 46s 23s/step - loss: 0.2266 - accuracy: 0.5469 - val_loss: 0.3281 - val_accuracy: 0.3438\n",
            "\n",
            "Epoch 00079: val_accuracy did not improve from 1.00000\n",
            "Epoch 80/100\n",
            "2/2 [==============================] - 34s 17s/step - loss: 0.2422 - accuracy: 0.5156 - val_loss: 0.1250 - val_accuracy: 0.7500\n",
            "\n",
            "Epoch 00080: val_accuracy did not improve from 1.00000\n",
            "Epoch 81/100\n",
            "2/2 [==============================] - 46s 23s/step - loss: 0.2266 - accuracy: 0.5469 - val_loss: 0.2812 - val_accuracy: 0.4375\n",
            "\n",
            "Epoch 00081: val_accuracy did not improve from 1.00000\n",
            "Epoch 82/100\n",
            "2/2 [==============================] - 47s 23s/step - loss: 0.2799 - accuracy: 0.4375 - val_loss: 0.2810 - val_accuracy: 0.4375\n",
            "\n",
            "Epoch 00082: val_accuracy did not improve from 1.00000\n",
            "Epoch 83/100\n",
            "2/2 [==============================] - 46s 23s/step - loss: 0.2658 - accuracy: 0.4688 - val_loss: 0.2656 - val_accuracy: 0.4688\n",
            "\n",
            "Epoch 00083: val_accuracy did not improve from 1.00000\n",
            "Epoch 84/100\n",
            "2/2 [==============================] - 34s 17s/step - loss: 0.2653 - accuracy: 0.4688 - val_loss: 0.2500 - val_accuracy: 0.5000\n",
            "\n",
            "Epoch 00084: val_accuracy did not improve from 1.00000\n",
            "Epoch 85/100\n",
            "2/2 [==============================] - 46s 23s/step - loss: 0.2505 - accuracy: 0.5000 - val_loss: 0.2969 - val_accuracy: 0.4062\n",
            "\n",
            "Epoch 00085: val_accuracy did not improve from 1.00000\n",
            "Epoch 86/100\n",
            "2/2 [==============================] - 46s 23s/step - loss: 0.2602 - accuracy: 0.4688 - val_loss: 0.2812 - val_accuracy: 0.4375\n",
            "\n",
            "Epoch 00086: val_accuracy did not improve from 1.00000\n",
            "Epoch 87/100\n",
            "2/2 [==============================] - 46s 23s/step - loss: 0.2889 - accuracy: 0.4219 - val_loss: 0.2812 - val_accuracy: 0.4375\n",
            "\n",
            "Epoch 00087: val_accuracy did not improve from 1.00000\n",
            "Epoch 88/100\n",
            "2/2 [==============================] - 34s 17s/step - loss: 0.2552 - accuracy: 0.4844 - val_loss: 0.1250 - val_accuracy: 0.7500\n",
            "\n",
            "Epoch 00088: val_accuracy did not improve from 1.00000\n",
            "Epoch 89/100\n",
            "2/2 [==============================] - 47s 23s/step - loss: 0.2516 - accuracy: 0.5000 - val_loss: 0.2812 - val_accuracy: 0.4375\n",
            "\n",
            "Epoch 00089: val_accuracy did not improve from 1.00000\n",
            "Epoch 90/100\n",
            "2/2 [==============================] - 46s 23s/step - loss: 0.2266 - accuracy: 0.5469 - val_loss: 0.2812 - val_accuracy: 0.4375\n",
            "\n",
            "Epoch 00090: val_accuracy did not improve from 1.00000\n",
            "Epoch 91/100\n",
            "2/2 [==============================] - 46s 23s/step - loss: 0.2734 - accuracy: 0.4531 - val_loss: 0.2564 - val_accuracy: 0.4688\n",
            "\n",
            "Epoch 00091: val_accuracy did not improve from 1.00000\n",
            "Epoch 92/100\n",
            "2/2 [==============================] - 34s 17s/step - loss: 0.2656 - accuracy: 0.4688 - val_loss: 0.3747 - val_accuracy: 0.2500\n",
            "\n",
            "Epoch 00092: val_accuracy did not improve from 1.00000\n",
            "Epoch 93/100\n",
            "2/2 [==============================] - 46s 23s/step - loss: 0.2890 - accuracy: 0.4219 - val_loss: 0.1875 - val_accuracy: 0.6250\n",
            "\n",
            "Epoch 00093: val_accuracy did not improve from 1.00000\n",
            "Epoch 94/100\n",
            "2/2 [==============================] - 46s 23s/step - loss: 0.2579 - accuracy: 0.4844 - val_loss: 0.3243 - val_accuracy: 0.3438\n",
            "\n",
            "Epoch 00094: val_accuracy did not improve from 1.00000\n",
            "Epoch 95/100\n",
            "2/2 [==============================] - 47s 23s/step - loss: 0.2278 - accuracy: 0.5469 - val_loss: 0.3131 - val_accuracy: 0.3750\n",
            "\n",
            "Epoch 00095: val_accuracy did not improve from 1.00000\n",
            "Epoch 96/100\n",
            "2/2 [==============================] - 34s 17s/step - loss: 0.2668 - accuracy: 0.4688 - val_loss: 0.2500 - val_accuracy: 0.5000\n",
            "\n",
            "Epoch 00096: val_accuracy did not improve from 1.00000\n",
            "Epoch 97/100\n",
            "2/2 [==============================] - 47s 23s/step - loss: 0.2422 - accuracy: 0.5156 - val_loss: 0.3281 - val_accuracy: 0.3438\n",
            "\n",
            "Epoch 00097: val_accuracy did not improve from 1.00000\n",
            "Epoch 98/100\n",
            "2/2 [==============================] - 47s 23s/step - loss: 0.2578 - accuracy: 0.4844 - val_loss: 0.2188 - val_accuracy: 0.5625\n",
            "\n",
            "Epoch 00098: val_accuracy did not improve from 1.00000\n",
            "Epoch 99/100\n",
            "2/2 [==============================] - 47s 24s/step - loss: 0.2578 - accuracy: 0.4844 - val_loss: 0.2526 - val_accuracy: 0.5000\n",
            "\n",
            "Epoch 00099: val_accuracy did not improve from 1.00000\n",
            "Epoch 100/100\n",
            "2/2 [==============================] - 35s 17s/step - loss: 0.3109 - accuracy: 0.3750 - val_loss: 0.3750 - val_accuracy: 0.2500\n",
            "\n",
            "Epoch 00100: val_accuracy did not improve from 1.00000\n"
          ],
          "name": "stdout"
        }
      ]
    },
    {
      "cell_type": "code",
      "metadata": {
        "id": "YtQxWrIlPU_M",
        "colab_type": "code",
        "colab": {
          "base_uri": "https://localhost:8080/",
          "height": 295
        },
        "outputId": "7e577bc0-a310-4a25-9579-7862d30f9c7b"
      },
      "source": [
        "import matplotlib.pyplot as plt\n",
        "plt.plot(hist.history[\"accuracy\"])\n",
        "plt.plot(hist.history['val_accuracy'])\n",
        "plt.plot(hist.history['loss'])\n",
        "plt.plot(hist.history['val_loss'])\n",
        "plt.title(\"model accuracy\")\n",
        "plt.ylabel(\"Accuracy\")\n",
        "plt.xlabel(\"Epoch\")\n",
        "plt.legend([\"Accuracy\",\"Validation Accuracy\",\"loss\",\"Validation Loss\"])\n",
        "plt.show()"
      ],
      "execution_count": 10,
      "outputs": [
        {
          "output_type": "display_data",
          "data": {
            "image/png": "[encoded data removed]",
            "text/plain": [
              "<Figure size 432x288 with 1 Axes>"
            ]
          },
          "metadata": {
            "tags": [],
            "needs_background": "light"
          }
        }
      ]
    },
    {
      "cell_type": "code",
      "metadata": {
        "id": "_2GdDycwS52M",
        "colab_type": "code",
        "colab": {}
      },
      "source": [
        "from keras.preprocessing.image import ImageDataGenerator\n",
        "from sklearn.metrics import classification_report, confusion_matrix\n",
        "\n",
        "test_datagen = ImageDataGenerator()"
      ],
      "execution_count": 11,
      "outputs": []
    },
    {
      "cell_type": "code",
      "metadata": {
        "id": "9-fknWZIS-CT",
        "colab_type": "code",
        "colab": {
          "base_uri": "https://localhost:8080/",
          "height": 34
        },
        "outputId": "179b6204-5a12-4cc5-f343-c484d9175b64"
      },
      "source": [
        "validation_generator = test_datagen.flow_from_directory('/content/drive/My Drive/data_ouput/test',\n",
        "                                                        target_size=(224, 224),\n",
        "                                                        batch_size=32,\n",
        "                                                        class_mode='categorical')"
      ],
      "execution_count": 12,
      "outputs": [
        {
          "output_type": "stream",
          "text": [
            "Found 100 images belonging to 4 classes.\n"
          ],
          "name": "stdout"
        }
      ]
    },
    {
      "cell_type": "code",
      "metadata": {
        "id": "RSoXpGKcTEnR",
        "colab_type": "code",
        "colab": {
          "base_uri": "https://localhost:8080/",
          "height": 360
        },
        "outputId": "5587c3e6-1d26-4ea2-cff4-22ac7d65d291"
      },
      "source": [
        "import numpy as np\n",
        "#Confution Matrix and Classification Report\n",
        "Y_pred = model_final.predict_generator(validation_generator)\n",
        "y_pred = np.argmax(Y_pred, axis=1)\n",
        "print('Confusion Matrix')\n",
        "print(confusion_matrix(validation_generator.classes, y_pred))\n",
        "print('Classification Report')\n",
        "target_names = ['grade0', 'grade1', 'grade2','grade3']\n",
        "print(classification_report(validation_generator.classes, y_pred, target_names=target_names))"
      ],
      "execution_count": 13,
      "outputs": [
        {
          "output_type": "stream",
          "text": [
            "Confusion Matrix\n",
            "[[ 7 18  0  0]\n",
            " [ 5 20  0  0]\n",
            " [ 6 19  0  0]\n",
            " [ 4 21  0  0]]\n",
            "Classification Report\n",
            "              precision    recall  f1-score   support\n",
            "\n",
            "      grade0       0.32      0.28      0.30        25\n",
            "      grade1       0.26      0.80      0.39        25\n",
            "      grade2       0.00      0.00      0.00        25\n",
            "      grade3       0.00      0.00      0.00        25\n",
            "\n",
            "    accuracy                           0.27       100\n",
            "   macro avg       0.14      0.27      0.17       100\n",
            "weighted avg       0.14      0.27      0.17       100\n",
            "\n"
          ],
          "name": "stdout"
        },
        {
          "output_type": "stream",
          "text": [
            "/usr/local/lib/python3.6/dist-packages/sklearn/metrics/_classification.py:1272: UndefinedMetricWarning: Precision and F-score are ill-defined and being set to 0.0 in labels with no predicted samples. Use `zero_division` parameter to control this behavior.\n",
            "  _warn_prf(average, modifier, msg_start, len(result))\n"
          ],
          "name": "stderr"
        }
      ]
    },
    {
      "cell_type": "code",
      "metadata": {
        "id": "B-E18MG6VMMN",
        "colab_type": "code",
        "colab": {
          "base_uri": "https://localhost:8080/",
          "height": 269
        },
        "outputId": "6b343208-5580-46be-bf01-b38058f832af"
      },
      "source": [
        "from keras.preprocessing import image\n",
        "import matplotlib.pyplot as plt\n",
        "\n",
        "img = image.load_img(\"/content/drive/My Drive/data_ouput/test/grade1/grade1-079.jpg\",target_size=(224,224))\n",
        "img = np.asarray(img)\n",
        "plt.imshow(img)\n",
        "img = np.expand_dims(img, axis=0)"
      ],
      "execution_count": 14,
      "outputs": [
        {
          "output_type": "display_data",
          "data": {
            "image/png": "[encoded data removed]",
            "text/plain": [
              "<Figure size 432x288 with 1 Axes>"
            ]
          },
          "metadata": {
            "tags": [],
            "needs_background": "light"
          }
        }
      ]
    },
    {
      "cell_type": "code",
      "metadata": {
        "id": "Ux21nwVeV0mE",
        "colab_type": "code",
        "colab": {}
      },
      "source": [
        "output = model_final.predict(img)"
      ],
      "execution_count": 16,
      "outputs": []
    },
    {
      "cell_type": "code",
      "metadata": {
        "id": "crw2NNGyV7kN",
        "colab_type": "code",
        "colab": {
          "base_uri": "https://localhost:8080/",
          "height": 34
        },
        "outputId": "d8e7af77-24f6-4cd7-8a9c-fa6246e71bef"
      },
      "source": [
        "output\n",
        "ans='grade'+str(np.argmax(output[0],axis=0))\n",
        "print(ans)"
      ],
      "execution_count": 17,
      "outputs": [
        {
          "output_type": "stream",
          "text": [
            "grade1\n"
          ],
          "name": "stdout"
        }
      ]
    },
    {
      "cell_type": "code",
      "metadata": {
        "id": "YbH-5BZmX-K4",
        "colab_type": "code",
        "colab": {
          "base_uri": "https://localhost:8080/",
          "height": 153
        },
        "outputId": "d7565c4a-aac1-400c-9ccb-97cc66f01a12"
      },
      "source": [
        "import os\n",
        "data_path='/content/drive/My Drive/data_ouput/test'\n",
        "data_dir_list=os.listdir(data_path)\n",
        "for dataset in data_dir_list:\n",
        "  print(dataset)\n",
        "  img_list=os.listdir(data_path+'/'+dataset)\n",
        "  correctCount=0\n",
        "  wrongCount=0\n",
        "  for img in img_list:\n",
        "    img_path=data_path+'/'+dataset+'/'+img\n",
        "    input_image = image.load_img(img_path,target_size=(224,224))\n",
        "    input_image = np.asarray(input_image)\n",
        "    input_image = np.expand_dims(input_image, axis=0)\n",
        "    output = model_final.predict(input_image)\n",
        "    ans='grade'+str(np.argmax(output[0],axis=0))\n",
        "    if( ans in img):\n",
        "      correctCount+=1\n",
        "    else:\n",
        "      wrongCount+=1\n",
        "  print(\"correct Count {} WrongCount {}\".format(correctCount,wrongCount))\n",
        "\n",
        "\n"
      ],
      "execution_count": 18,
      "outputs": [
        {
          "output_type": "stream",
          "text": [
            "grade1\n",
            "correct Count 25 WrongCount 0\n",
            "grade0\n",
            "correct Count 22 WrongCount 3\n",
            "grade2\n",
            "correct Count 0 WrongCount 25\n",
            "grade3\n",
            "correct Count 0 WrongCount 25\n"
          ],
          "name": "stdout"
        }
      ]
    },
    {
      "cell_type": "code",
      "metadata": {
        "id": "PiiV053i4At7",
        "colab_type": "code",
        "colab": {}
      },
      "source": [
        "model_final.save('/content/drive/My Drive/Best models/modelbest.h5')"
      ],
      "execution_count": null,
      "outputs": []
    }
  ]
}