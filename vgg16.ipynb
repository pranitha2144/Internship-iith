{
  "nbformat": 4,
  "nbformat_minor": 0,
  "metadata": {
    "colab": {
      "name": "vgg16",
      "provenance": [],
      "collapsed_sections": [],
      "mount_file_id": "1IhyoGy7EHEgj120Y7aEt15WFbYJP6aXH",
      "authorship_tag": "ABX9TyPzGWWeDGj7/ybzYlZacDjm",
      "include_colab_link": true
    },
    "kernelspec": {
      "name": "python3",
      "display_name": "Python 3"
    }
  },
  "cells": [
    {
      "cell_type": "markdown",
      "metadata": {
        "id": "view-in-github",
        "colab_type": "text"
      },
      "source": [
        "<a href=\"https://colab.research.google.com/github/pranitha2144/Internship-iith/blob/Resnet/vgg16.ipynb\" target=\"_parent\"><img src=\"https://colab.research.google.com/assets/colab-badge.svg\" alt=\"Open In Colab\"/></a>"
      ]
    },
    {
      "cell_type": "code",
      "metadata": {
        "id": "PMu2eC3sYOxm",
        "colab_type": "code",
        "colab": {}
      },
      "source": [
        "import keras\n",
        "from keras.models import Model\n",
        "from keras.layers import Dense,Dropout\n",
        "from keras import optimizers\n",
        "from keras.preprocessing.image import ImageDataGenerator\n",
        "from keras.preprocessing import image\n",
        "from tensorflow.keras.applications.vgg16 import preprocess_input"
      ],
      "execution_count": 10,
      "outputs": []
    },
    {
      "cell_type": "code",
      "metadata": {
        "id": "7eszHQOmkqxF",
        "colab_type": "code",
        "colab": {
          "base_uri": "https://localhost:8080/",
          "height": 105
        },
        "outputId": "01dbc51f-d582-4e31-8e15-a26a0160063f"
      },
      "source": [
        "pip install split_folders\n"
      ],
      "execution_count": 35,
      "outputs": [
        {
          "output_type": "stream",
          "text": [
            "Collecting split_folders\n",
            "  Downloading https://files.pythonhosted.org/packages/20/67/29dda743e6d23ac1ea3d16704d8bbb48d65faf3f1b1eaf53153b3da56c56/split_folders-0.3.1-py3-none-any.whl\n",
            "Installing collected packages: split-folders\n",
            "Successfully installed split-folders-0.3.1\n"
          ],
          "name": "stdout"
        }
      ]
    },
    {
      "cell_type": "code",
      "metadata": {
        "id": "sbs8-eDRk8TB",
        "colab_type": "code",
        "colab": {
          "base_uri": "https://localhost:8080/",
          "height": 34
        },
        "outputId": "aa0c61b0-cf66-45d7-ad61-436cd18eea63"
      },
      "source": [
        "import split_folders\n",
        "\n",
        " #Split with a ratio.To only split into training and validation set, set a tuple to `ratio`, i.e, `(.8, .2)`.\n",
        "split_folders.ratio('/content/drive/My Drive/data-liverdisease', output=\"/content/drive/My Drive/data_liver\", seed=1337, ratio=(.7,.1,.2)) # default values"
      ],
      "execution_count": 39,
      "outputs": [
        {
          "output_type": "stream",
          "text": [
            "Copying files: 1000 files [06:07,  2.72 files/s]\n"
          ],
          "name": "stderr"
        }
      ]
    },
    {
      "cell_type": "code",
      "metadata": {
        "id": "p6rPAuwiYVPF",
        "colab_type": "code",
        "colab": {
          "base_uri": "https://localhost:8080/",
          "height": 51
        },
        "outputId": "5faa962a-7089-401a-9b8b-48f8466b7bf6"
      },
      "source": [
        "trdata = ImageDataGenerator()\n",
        "traindata = trdata.flow_from_directory(directory=\"/content/drive/My Drive/data_liver/train\",target_size=(224,224))\n",
        "tsdata = ImageDataGenerator()\n",
        "testdata = tsdata.flow_from_directory(directory=\"/content/drive/My Drive/data_liver/val\", target_size=(224,224))"
      ],
      "execution_count": 11,
      "outputs": [
        {
          "output_type": "stream",
          "text": [
            "Found 700 images belonging to 4 classes.\n",
            "Found 100 images belonging to 4 classes.\n"
          ],
          "name": "stdout"
        }
      ]
    },
    {
      "cell_type": "code",
      "metadata": {
        "id": "YEDviFOOYqSH",
        "colab_type": "code",
        "colab": {
          "base_uri": "https://localhost:8080/",
          "height": 71
        },
        "outputId": "dfd743aa-442c-4acd-f071-0c6e0ba3c464"
      },
      "source": [
        "from keras.applications.vgg16 import VGG16\n",
        "vggmodel = VGG16(weights='imagenet',include_top=True)"
      ],
      "execution_count": 12,
      "outputs": [
        {
          "output_type": "stream",
          "text": [
            "Downloading data from https://github.com/fchollet/deep-learning-models/releases/download/v0.1/vgg16_weights_tf_dim_ordering_tf_kernels.h5\n",
            "553467904/553467096 [==============================] - 6s 0us/step\n"
          ],
          "name": "stdout"
        }
      ]
    },
    {
      "cell_type": "code",
      "metadata": {
        "id": "_DBVSTlUYwZt",
        "colab_type": "code",
        "colab": {
          "base_uri": "https://localhost:8080/",
          "height": 935
        },
        "outputId": "7f0fe6d9-69b5-479b-ceb4-675a860ace22"
      },
      "source": [
        "vggmodel.summary()"
      ],
      "execution_count": 13,
      "outputs": [
        {
          "output_type": "stream",
          "text": [
            "Model: \"vgg16\"\n",
            "_________________________________________________________________\n",
            "Layer (type)                 Output Shape              Param #   \n",
            "=================================================================\n",
            "input_1 (InputLayer)         (None, 224, 224, 3)       0         \n",
            "_________________________________________________________________\n",
            "block1_conv1 (Conv2D)        (None, 224, 224, 64)      1792      \n",
            "_________________________________________________________________\n",
            "block1_conv2 (Conv2D)        (None, 224, 224, 64)      36928     \n",
            "_________________________________________________________________\n",
            "block1_pool (MaxPooling2D)   (None, 112, 112, 64)      0         \n",
            "_________________________________________________________________\n",
            "block2_conv1 (Conv2D)        (None, 112, 112, 128)     73856     \n",
            "_________________________________________________________________\n",
            "block2_conv2 (Conv2D)        (None, 112, 112, 128)     147584    \n",
            "_________________________________________________________________\n",
            "block2_pool (MaxPooling2D)   (None, 56, 56, 128)       0         \n",
            "_________________________________________________________________\n",
            "block3_conv1 (Conv2D)        (None, 56, 56, 256)       295168    \n",
            "_________________________________________________________________\n",
            "block3_conv2 (Conv2D)        (None, 56, 56, 256)       590080    \n",
            "_________________________________________________________________\n",
            "block3_conv3 (Conv2D)        (None, 56, 56, 256)       590080    \n",
            "_________________________________________________________________\n",
            "block3_pool (MaxPooling2D)   (None, 28, 28, 256)       0         \n",
            "_________________________________________________________________\n",
            "block4_conv1 (Conv2D)        (None, 28, 28, 512)       1180160   \n",
            "_________________________________________________________________\n",
            "block4_conv2 (Conv2D)        (None, 28, 28, 512)       2359808   \n",
            "_________________________________________________________________\n",
            "block4_conv3 (Conv2D)        (None, 28, 28, 512)       2359808   \n",
            "_________________________________________________________________\n",
            "block4_pool (MaxPooling2D)   (None, 14, 14, 512)       0         \n",
            "_________________________________________________________________\n",
            "block5_conv1 (Conv2D)        (None, 14, 14, 512)       2359808   \n",
            "_________________________________________________________________\n",
            "block5_conv2 (Conv2D)        (None, 14, 14, 512)       2359808   \n",
            "_________________________________________________________________\n",
            "block5_conv3 (Conv2D)        (None, 14, 14, 512)       2359808   \n",
            "_________________________________________________________________\n",
            "block5_pool (MaxPooling2D)   (None, 7, 7, 512)         0         \n",
            "_________________________________________________________________\n",
            "flatten (Flatten)            (None, 25088)             0         \n",
            "_________________________________________________________________\n",
            "fc1 (Dense)                  (None, 4096)              102764544 \n",
            "_________________________________________________________________\n",
            "fc2 (Dense)                  (None, 4096)              16781312  \n",
            "_________________________________________________________________\n",
            "predictions (Dense)          (None, 1000)              4097000   \n",
            "=================================================================\n",
            "Total params: 138,357,544\n",
            "Trainable params: 138,357,544\n",
            "Non-trainable params: 0\n",
            "_________________________________________________________________\n"
          ],
          "name": "stdout"
        }
      ]
    },
    {
      "cell_type": "code",
      "metadata": {
        "id": "K12OYHZlYzgM",
        "colab_type": "code",
        "colab": {
          "base_uri": "https://localhost:8080/",
          "height": 34
        },
        "outputId": "5ccba35e-0311-47ed-aaf0-621913d229cf"
      },
      "source": [
        "vggmodel.layers.pop()\n",
        "vggmodel.layers.pop()\n",
        "vggmodel.layers.pop()"
      ],
      "execution_count": 14,
      "outputs": [
        {
          "output_type": "execute_result",
          "data": {
            "text/plain": [
              "<keras.layers.core.Dense at 0x7f0f67b86be0>"
            ]
          },
          "metadata": {
            "tags": []
          },
          "execution_count": 14
        }
      ]
    },
    {
      "cell_type": "code",
      "metadata": {
        "id": "8LYBFIW-Y1vZ",
        "colab_type": "code",
        "colab": {
          "base_uri": "https://localhost:8080/",
          "height": 357
        },
        "outputId": "d0c3cac1-0398-4c69-cbd9-a19cffffd163"
      },
      "source": [
        "for layers in (vggmodel.layers):\n",
        "    print(layers)\n",
        "    layers.trainable = False"
      ],
      "execution_count": 15,
      "outputs": [
        {
          "output_type": "stream",
          "text": [
            "<keras.engine.input_layer.InputLayer object at 0x7f0f66340748>\n",
            "<keras.layers.convolutional.Conv2D object at 0x7f0f663406a0>\n",
            "<keras.layers.convolutional.Conv2D object at 0x7f0f66340a20>\n",
            "<keras.layers.pooling.MaxPooling2D object at 0x7f0f66340978>\n",
            "<keras.layers.convolutional.Conv2D object at 0x7f0f663392b0>\n",
            "<keras.layers.convolutional.Conv2D object at 0x7f0f65a7d9e8>\n",
            "<keras.layers.pooling.MaxPooling2D object at 0x7f0f683b41d0>\n",
            "<keras.layers.convolutional.Conv2D object at 0x7f0f683b47b8>\n",
            "<keras.layers.convolutional.Conv2D object at 0x7f0f683b7128>\n",
            "<keras.layers.convolutional.Conv2D object at 0x7f0f67b6f6d8>\n",
            "<keras.layers.pooling.MaxPooling2D object at 0x7f0f67b6fef0>\n",
            "<keras.layers.convolutional.Conv2D object at 0x7f0f67b6ffd0>\n",
            "<keras.layers.convolutional.Conv2D object at 0x7f0f683b9c88>\n",
            "<keras.layers.convolutional.Conv2D object at 0x7f0f67b75828>\n",
            "<keras.layers.pooling.MaxPooling2D object at 0x7f0f67b792b0>\n",
            "<keras.layers.convolutional.Conv2D object at 0x7f0f67b790f0>\n",
            "<keras.layers.convolutional.Conv2D object at 0x7f0f67b79dd8>\n",
            "<keras.layers.convolutional.Conv2D object at 0x7f0f67b7f978>\n",
            "<keras.layers.pooling.MaxPooling2D object at 0x7f0f67b86400>\n",
            "<keras.layers.core.Flatten object at 0x7f0f67b86240>\n"
          ],
          "name": "stdout"
        }
      ]
    },
    {
      "cell_type": "code",
      "metadata": {
        "id": "spEfu2MIY3-9",
        "colab_type": "code",
        "colab": {
          "base_uri": "https://localhost:8080/",
          "height": 833
        },
        "outputId": "1205e6dd-a762-45a3-e377-e42e95361d2c"
      },
      "source": [
        "vggmodel.summary()"
      ],
      "execution_count": 16,
      "outputs": [
        {
          "output_type": "stream",
          "text": [
            "Model: \"vgg16\"\n",
            "_________________________________________________________________\n",
            "Layer (type)                 Output Shape              Param #   \n",
            "=================================================================\n",
            "input_1 (InputLayer)         (None, 224, 224, 3)       0         \n",
            "_________________________________________________________________\n",
            "block1_conv1 (Conv2D)        (None, 224, 224, 64)      1792      \n",
            "_________________________________________________________________\n",
            "block1_conv2 (Conv2D)        (None, 224, 224, 64)      36928     \n",
            "_________________________________________________________________\n",
            "block1_pool (MaxPooling2D)   (None, 112, 112, 64)      0         \n",
            "_________________________________________________________________\n",
            "block2_conv1 (Conv2D)        (None, 112, 112, 128)     73856     \n",
            "_________________________________________________________________\n",
            "block2_conv2 (Conv2D)        (None, 112, 112, 128)     147584    \n",
            "_________________________________________________________________\n",
            "block2_pool (MaxPooling2D)   (None, 56, 56, 128)       0         \n",
            "_________________________________________________________________\n",
            "block3_conv1 (Conv2D)        (None, 56, 56, 256)       295168    \n",
            "_________________________________________________________________\n",
            "block3_conv2 (Conv2D)        (None, 56, 56, 256)       590080    \n",
            "_________________________________________________________________\n",
            "block3_conv3 (Conv2D)        (None, 56, 56, 256)       590080    \n",
            "_________________________________________________________________\n",
            "block3_pool (MaxPooling2D)   (None, 28, 28, 256)       0         \n",
            "_________________________________________________________________\n",
            "block4_conv1 (Conv2D)        (None, 28, 28, 512)       1180160   \n",
            "_________________________________________________________________\n",
            "block4_conv2 (Conv2D)        (None, 28, 28, 512)       2359808   \n",
            "_________________________________________________________________\n",
            "block4_conv3 (Conv2D)        (None, 28, 28, 512)       2359808   \n",
            "_________________________________________________________________\n",
            "block4_pool (MaxPooling2D)   (None, 14, 14, 512)       0         \n",
            "_________________________________________________________________\n",
            "block5_conv1 (Conv2D)        (None, 14, 14, 512)       2359808   \n",
            "_________________________________________________________________\n",
            "block5_conv2 (Conv2D)        (None, 14, 14, 512)       2359808   \n",
            "_________________________________________________________________\n",
            "block5_conv3 (Conv2D)        (None, 14, 14, 512)       2359808   \n",
            "_________________________________________________________________\n",
            "block5_pool (MaxPooling2D)   (None, 7, 7, 512)         0         \n",
            "_________________________________________________________________\n",
            "flatten (Flatten)            (None, 25088)             0         \n",
            "=================================================================\n",
            "Total params: 14,714,688\n",
            "Trainable params: 0\n",
            "Non-trainable params: 14,714,688\n",
            "_________________________________________________________________\n"
          ],
          "name": "stdout"
        }
      ]
    },
    {
      "cell_type": "code",
      "metadata": {
        "id": "hRa7hR7-Y-XR",
        "colab_type": "code",
        "colab": {
          "base_uri": "https://localhost:8080/",
          "height": 71
        },
        "outputId": "81bf831e-dc4e-48db-c979-23adf86decb5"
      },
      "source": [
        "from tensorflow.keras import regularizers\n",
        "X= vggmodel.layers[-1].output\n",
        "fc_1=Dense(4096,activation='relu')(X)\n",
        "dr_1=Dropout(0.5)(fc_1)\n",
        "fc_2=Dense(4096, activation='relu')(dr_1)\n",
        "dr_2=Dropout(0.5)(fc_2)\n",
        "predictions = Dense(4, activation=\"softmax\")(dr_2)\n",
        "model_final = Model(input = vggmodel.input, output = predictions)"
      ],
      "execution_count": 17,
      "outputs": [
        {
          "output_type": "stream",
          "text": [
            "/usr/local/lib/python3.6/dist-packages/ipykernel_launcher.py:8: UserWarning: Update your `Model` call to the Keras 2 API: `Model(inputs=Tensor(\"in..., outputs=Tensor(\"de...)`\n",
            "  \n"
          ],
          "name": "stderr"
        }
      ]
    },
    {
      "cell_type": "code",
      "metadata": {
        "id": "1mRS_nHaZBCL",
        "colab_type": "code",
        "colab": {
          "base_uri": "https://localhost:8080/",
          "height": 1000
        },
        "outputId": "fc4a487e-c490-4e0c-d4a0-f1dff3f1a21c"
      },
      "source": [
        "model_final.summary()"
      ],
      "execution_count": 18,
      "outputs": [
        {
          "output_type": "stream",
          "text": [
            "Model: \"model_1\"\n",
            "_________________________________________________________________\n",
            "Layer (type)                 Output Shape              Param #   \n",
            "=================================================================\n",
            "input_1 (InputLayer)         (None, 224, 224, 3)       0         \n",
            "_________________________________________________________________\n",
            "block1_conv1 (Conv2D)        (None, 224, 224, 64)      1792      \n",
            "_________________________________________________________________\n",
            "block1_conv2 (Conv2D)        (None, 224, 224, 64)      36928     \n",
            "_________________________________________________________________\n",
            "block1_pool (MaxPooling2D)   (None, 112, 112, 64)      0         \n",
            "_________________________________________________________________\n",
            "block2_conv1 (Conv2D)        (None, 112, 112, 128)     73856     \n",
            "_________________________________________________________________\n",
            "block2_conv2 (Conv2D)        (None, 112, 112, 128)     147584    \n",
            "_________________________________________________________________\n",
            "block2_pool (MaxPooling2D)   (None, 56, 56, 128)       0         \n",
            "_________________________________________________________________\n",
            "block3_conv1 (Conv2D)        (None, 56, 56, 256)       295168    \n",
            "_________________________________________________________________\n",
            "block3_conv2 (Conv2D)        (None, 56, 56, 256)       590080    \n",
            "_________________________________________________________________\n",
            "block3_conv3 (Conv2D)        (None, 56, 56, 256)       590080    \n",
            "_________________________________________________________________\n",
            "block3_pool (MaxPooling2D)   (None, 28, 28, 256)       0         \n",
            "_________________________________________________________________\n",
            "block4_conv1 (Conv2D)        (None, 28, 28, 512)       1180160   \n",
            "_________________________________________________________________\n",
            "block4_conv2 (Conv2D)        (None, 28, 28, 512)       2359808   \n",
            "_________________________________________________________________\n",
            "block4_conv3 (Conv2D)        (None, 28, 28, 512)       2359808   \n",
            "_________________________________________________________________\n",
            "block4_pool (MaxPooling2D)   (None, 14, 14, 512)       0         \n",
            "_________________________________________________________________\n",
            "block5_conv1 (Conv2D)        (None, 14, 14, 512)       2359808   \n",
            "_________________________________________________________________\n",
            "block5_conv2 (Conv2D)        (None, 14, 14, 512)       2359808   \n",
            "_________________________________________________________________\n",
            "block5_conv3 (Conv2D)        (None, 14, 14, 512)       2359808   \n",
            "_________________________________________________________________\n",
            "block5_pool (MaxPooling2D)   (None, 7, 7, 512)         0         \n",
            "_________________________________________________________________\n",
            "flatten (Flatten)            (None, 25088)             0         \n",
            "_________________________________________________________________\n",
            "dense_1 (Dense)              (None, 4096)              102764544 \n",
            "_________________________________________________________________\n",
            "dropout_1 (Dropout)          (None, 4096)              0         \n",
            "_________________________________________________________________\n",
            "dense_2 (Dense)              (None, 4096)              16781312  \n",
            "_________________________________________________________________\n",
            "dropout_2 (Dropout)          (None, 4096)              0         \n",
            "_________________________________________________________________\n",
            "dense_3 (Dense)              (None, 4)                 16388     \n",
            "=================================================================\n",
            "Total params: 134,276,932\n",
            "Trainable params: 119,562,244\n",
            "Non-trainable params: 14,714,688\n",
            "_________________________________________________________________\n"
          ],
          "name": "stdout"
        }
      ]
    },
    {
      "cell_type": "code",
      "metadata": {
        "id": "WyzYX9WSZK0G",
        "colab_type": "code",
        "colab": {}
      },
      "source": [
        "model_final.compile(loss = \"categorical_crossentropy\", optimizer = keras.optimizers.Adam(lr=0.00001), metrics=[\"accuracy\"])"
      ],
      "execution_count": 19,
      "outputs": []
    },
    {
      "cell_type": "code",
      "metadata": {
        "id": "3JhPnTE8ZRmI",
        "colab_type": "code",
        "colab": {
          "base_uri": "https://localhost:8080/",
          "height": 1000
        },
        "outputId": "3b71c767-0feb-490e-ebf9-f486b73c1d50"
      },
      "source": [
        "model_final.summary()"
      ],
      "execution_count": 20,
      "outputs": [
        {
          "output_type": "stream",
          "text": [
            "Model: \"model_1\"\n",
            "_________________________________________________________________\n",
            "Layer (type)                 Output Shape              Param #   \n",
            "=================================================================\n",
            "input_1 (InputLayer)         (None, 224, 224, 3)       0         \n",
            "_________________________________________________________________\n",
            "block1_conv1 (Conv2D)        (None, 224, 224, 64)      1792      \n",
            "_________________________________________________________________\n",
            "block1_conv2 (Conv2D)        (None, 224, 224, 64)      36928     \n",
            "_________________________________________________________________\n",
            "block1_pool (MaxPooling2D)   (None, 112, 112, 64)      0         \n",
            "_________________________________________________________________\n",
            "block2_conv1 (Conv2D)        (None, 112, 112, 128)     73856     \n",
            "_________________________________________________________________\n",
            "block2_conv2 (Conv2D)        (None, 112, 112, 128)     147584    \n",
            "_________________________________________________________________\n",
            "block2_pool (MaxPooling2D)   (None, 56, 56, 128)       0         \n",
            "_________________________________________________________________\n",
            "block3_conv1 (Conv2D)        (None, 56, 56, 256)       295168    \n",
            "_________________________________________________________________\n",
            "block3_conv2 (Conv2D)        (None, 56, 56, 256)       590080    \n",
            "_________________________________________________________________\n",
            "block3_conv3 (Conv2D)        (None, 56, 56, 256)       590080    \n",
            "_________________________________________________________________\n",
            "block3_pool (MaxPooling2D)   (None, 28, 28, 256)       0         \n",
            "_________________________________________________________________\n",
            "block4_conv1 (Conv2D)        (None, 28, 28, 512)       1180160   \n",
            "_________________________________________________________________\n",
            "block4_conv2 (Conv2D)        (None, 28, 28, 512)       2359808   \n",
            "_________________________________________________________________\n",
            "block4_conv3 (Conv2D)        (None, 28, 28, 512)       2359808   \n",
            "_________________________________________________________________\n",
            "block4_pool (MaxPooling2D)   (None, 14, 14, 512)       0         \n",
            "_________________________________________________________________\n",
            "block5_conv1 (Conv2D)        (None, 14, 14, 512)       2359808   \n",
            "_________________________________________________________________\n",
            "block5_conv2 (Conv2D)        (None, 14, 14, 512)       2359808   \n",
            "_________________________________________________________________\n",
            "block5_conv3 (Conv2D)        (None, 14, 14, 512)       2359808   \n",
            "_________________________________________________________________\n",
            "block5_pool (MaxPooling2D)   (None, 7, 7, 512)         0         \n",
            "_________________________________________________________________\n",
            "flatten (Flatten)            (None, 25088)             0         \n",
            "_________________________________________________________________\n",
            "dense_1 (Dense)              (None, 4096)              102764544 \n",
            "_________________________________________________________________\n",
            "dropout_1 (Dropout)          (None, 4096)              0         \n",
            "_________________________________________________________________\n",
            "dense_2 (Dense)              (None, 4096)              16781312  \n",
            "_________________________________________________________________\n",
            "dropout_2 (Dropout)          (None, 4096)              0         \n",
            "_________________________________________________________________\n",
            "dense_3 (Dense)              (None, 4)                 16388     \n",
            "=================================================================\n",
            "Total params: 134,276,932\n",
            "Trainable params: 119,562,244\n",
            "Non-trainable params: 14,714,688\n",
            "_________________________________________________________________\n"
          ],
          "name": "stdout"
        }
      ]
    },
    {
      "cell_type": "code",
      "metadata": {
        "id": "H6dGNtWtZVuK",
        "colab_type": "code",
        "colab": {
          "base_uri": "https://localhost:8080/",
          "height": 1000
        },
        "outputId": "47409a51-a919-4b9d-8221-0ae65f539cdf"
      },
      "source": [
        "from keras.callbacks import ModelCheckpoint, EarlyStopping\n",
        "checkpoint = ModelCheckpoint(\"/content/drive/My Drive/Best models/model_l_1.h5\", monitor='val_accuracy', verbose=1, save_best_only=True, save_weights_only=False, mode='auto', period=1)\n",
        "early = EarlyStopping(monitor='val_acc', min_delta=0, patience=10, verbose=1, mode='auto')\n",
        "hist=model_final.fit(traindata, steps_per_epoch= 32, epochs= 50, validation_data= testdata, validation_steps=10, callbacks=[checkpoint,early])"
      ],
      "execution_count": 21,
      "outputs": [
        {
          "output_type": "stream",
          "text": [
            "Epoch 1/50\n",
            "32/32 [==============================] - 691s 22s/step - loss: 2.6110 - accuracy: 0.4657 - val_loss: 1.3638 - val_accuracy: 0.7311\n",
            "\n",
            "Epoch 00001: val_accuracy improved from -inf to 0.73106, saving model to /content/drive/My Drive/Best models/model_l_1.h5\n"
          ],
          "name": "stdout"
        },
        {
          "output_type": "stream",
          "text": [
            "/usr/local/lib/python3.6/dist-packages/keras/callbacks/callbacks.py:846: RuntimeWarning: Early stopping conditioned on metric `val_acc` which is not available. Available metrics are: val_loss,val_accuracy,loss,accuracy\n",
            "  (self.monitor, ','.join(list(logs.keys()))), RuntimeWarning\n"
          ],
          "name": "stderr"
        },
        {
          "output_type": "stream",
          "text": [
            "Epoch 2/50\n",
            "32/32 [==============================] - 674s 21s/step - loss: 1.3588 - accuracy: 0.6673 - val_loss: 0.3101 - val_accuracy: 0.7288\n",
            "\n",
            "Epoch 00002: val_accuracy did not improve from 0.73106\n",
            "Epoch 3/50\n",
            "32/32 [==============================] - 681s 21s/step - loss: 1.0611 - accuracy: 0.7382 - val_loss: 0.4450 - val_accuracy: 0.8030\n",
            "\n",
            "Epoch 00003: val_accuracy improved from 0.73106 to 0.80303, saving model to /content/drive/My Drive/Best models/model_l_1.h5\n",
            "Epoch 4/50\n",
            "32/32 [==============================] - 671s 21s/step - loss: 0.7821 - accuracy: 0.7853 - val_loss: 0.0339 - val_accuracy: 0.7924\n",
            "\n",
            "Epoch 00004: val_accuracy did not improve from 0.80303\n",
            "Epoch 5/50\n",
            "32/32 [==============================] - 684s 21s/step - loss: 0.6660 - accuracy: 0.8098 - val_loss: 0.9551 - val_accuracy: 0.8144\n",
            "\n",
            "Epoch 00005: val_accuracy improved from 0.80303 to 0.81439, saving model to /content/drive/My Drive/Best models/model_l_1.h5\n",
            "Epoch 6/50\n",
            "32/32 [==============================] - 670s 21s/step - loss: 0.6031 - accuracy: 0.8209 - val_loss: 0.1018 - val_accuracy: 0.8051\n",
            "\n",
            "Epoch 00006: val_accuracy did not improve from 0.81439\n",
            "Epoch 7/50\n",
            "32/32 [==============================] - 684s 21s/step - loss: 0.5155 - accuracy: 0.8431 - val_loss: 1.1097 - val_accuracy: 0.8106\n",
            "\n",
            "Epoch 00007: val_accuracy did not improve from 0.81439\n",
            "Epoch 8/50\n",
            "32/32 [==============================] - 668s 21s/step - loss: 0.5499 - accuracy: 0.8431 - val_loss: 1.0710 - val_accuracy: 0.8178\n",
            "\n",
            "Epoch 00008: val_accuracy improved from 0.81439 to 0.81780, saving model to /content/drive/My Drive/Best models/model_l_1.h5\n",
            "Epoch 9/50\n",
            "32/32 [==============================] - 692s 22s/step - loss: 0.3490 - accuracy: 0.8829 - val_loss: 0.2784 - val_accuracy: 0.8674\n",
            "\n",
            "Epoch 00009: val_accuracy improved from 0.81780 to 0.86742, saving model to /content/drive/My Drive/Best models/model_l_1.h5\n",
            "Epoch 10/50\n",
            "32/32 [==============================] - 676s 21s/step - loss: 0.2959 - accuracy: 0.8941 - val_loss: 0.1318 - val_accuracy: 0.8305\n",
            "\n",
            "Epoch 00010: val_accuracy did not improve from 0.86742\n",
            "Epoch 11/50\n",
            "32/32 [==============================] - 705s 22s/step - loss: 0.3203 - accuracy: 0.8917 - val_loss: 1.5709 - val_accuracy: 0.8371\n",
            "\n",
            "Epoch 00011: val_accuracy did not improve from 0.86742\n",
            "Epoch 12/50\n",
            "32/32 [==============================] - 676s 21s/step - loss: 0.2737 - accuracy: 0.9098 - val_loss: 0.0310 - val_accuracy: 0.8305\n",
            "\n",
            "Epoch 00012: val_accuracy did not improve from 0.86742\n",
            "Epoch 13/50\n",
            "32/32 [==============================] - 692s 22s/step - loss: 0.2339 - accuracy: 0.9262 - val_loss: 0.6844 - val_accuracy: 0.8295\n",
            "\n",
            "Epoch 00013: val_accuracy did not improve from 0.86742\n",
            "Epoch 14/50\n",
            "32/32 [==============================] - 697s 22s/step - loss: 0.2063 - accuracy: 0.9186 - val_loss: 0.0630 - val_accuracy: 0.8263\n",
            "\n",
            "Epoch 00014: val_accuracy did not improve from 0.86742\n",
            "Epoch 15/50\n",
            "32/32 [==============================] - 708s 22s/step - loss: 0.1350 - accuracy: 0.9518 - val_loss: 0.2635 - val_accuracy: 0.8561\n",
            "\n",
            "Epoch 00015: val_accuracy did not improve from 0.86742\n",
            "Epoch 16/50\n",
            "32/32 [==============================] - 702s 22s/step - loss: 0.1613 - accuracy: 0.9490 - val_loss: 8.2292e-04 - val_accuracy: 0.8347\n",
            "\n",
            "Epoch 00016: val_accuracy did not improve from 0.86742\n",
            "Epoch 17/50\n",
            "32/32 [==============================] - 709s 22s/step - loss: 0.1673 - accuracy: 0.9400 - val_loss: 1.0797 - val_accuracy: 0.8409\n",
            "\n",
            "Epoch 00017: val_accuracy did not improve from 0.86742\n",
            "Epoch 18/50\n",
            "32/32 [==============================] - 667s 21s/step - loss: 0.1403 - accuracy: 0.9608 - val_loss: 0.8224 - val_accuracy: 0.8517\n",
            "\n",
            "Epoch 00018: val_accuracy did not improve from 0.86742\n",
            "Epoch 19/50\n",
            "32/32 [==============================] - 679s 21s/step - loss: 0.1416 - accuracy: 0.9478 - val_loss: 0.3185 - val_accuracy: 0.8523\n",
            "\n",
            "Epoch 00019: val_accuracy did not improve from 0.86742\n",
            "Epoch 20/50\n",
            "32/32 [==============================] - 671s 21s/step - loss: 0.0886 - accuracy: 0.9696 - val_loss: 0.4106 - val_accuracy: 0.8686\n",
            "\n",
            "Epoch 00020: val_accuracy improved from 0.86742 to 0.86864, saving model to /content/drive/My Drive/Best models/model_l_1.h5\n",
            "Epoch 21/50\n",
            "32/32 [==============================] - 688s 22s/step - loss: 0.0825 - accuracy: 0.9685 - val_loss: 0.4580 - val_accuracy: 0.8561\n",
            "\n",
            "Epoch 00021: val_accuracy did not improve from 0.86864\n",
            "Epoch 22/50\n",
            "32/32 [==============================] - 669s 21s/step - loss: 0.1151 - accuracy: 0.9588 - val_loss: 0.1993 - val_accuracy: 0.8729\n",
            "\n",
            "Epoch 00022: val_accuracy improved from 0.86864 to 0.87288, saving model to /content/drive/My Drive/Best models/model_l_1.h5\n",
            "Epoch 23/50\n",
            "32/32 [==============================] - 687s 21s/step - loss: 0.0861 - accuracy: 0.9754 - val_loss: 0.9448 - val_accuracy: 0.8447\n",
            "\n",
            "Epoch 00023: val_accuracy did not improve from 0.87288\n",
            "Epoch 24/50\n",
            "32/32 [==============================] - 669s 21s/step - loss: 0.0729 - accuracy: 0.9735 - val_loss: 0.7037 - val_accuracy: 0.8559\n",
            "\n",
            "Epoch 00024: val_accuracy did not improve from 0.87288\n",
            "Epoch 25/50\n",
            "32/32 [==============================] - 683s 21s/step - loss: 0.0805 - accuracy: 0.9716 - val_loss: 1.2070 - val_accuracy: 0.8674\n",
            "\n",
            "Epoch 00025: val_accuracy did not improve from 0.87288\n",
            "Epoch 26/50\n",
            "32/32 [==============================] - 667s 21s/step - loss: 0.0538 - accuracy: 0.9783 - val_loss: 0.0063 - val_accuracy: 0.8559\n",
            "\n",
            "Epoch 00026: val_accuracy did not improve from 0.87288\n",
            "Epoch 27/50\n",
            "32/32 [==============================] - 685s 21s/step - loss: 0.0545 - accuracy: 0.9764 - val_loss: 0.4099 - val_accuracy: 0.8674\n",
            "\n",
            "Epoch 00027: val_accuracy did not improve from 0.87288\n",
            "Epoch 28/50\n",
            "32/32 [==============================] - 675s 21s/step - loss: 0.0427 - accuracy: 0.9804 - val_loss: 1.6314 - val_accuracy: 0.8644\n",
            "\n",
            "Epoch 00028: val_accuracy did not improve from 0.87288\n",
            "Epoch 29/50\n",
            "32/32 [==============================] - 686s 21s/step - loss: 0.0373 - accuracy: 0.9853 - val_loss: 1.2068 - val_accuracy: 0.8371\n",
            "\n",
            "Epoch 00029: val_accuracy did not improve from 0.87288\n",
            "Epoch 30/50\n",
            "32/32 [==============================] - 670s 21s/step - loss: 0.0494 - accuracy: 0.9882 - val_loss: 0.0056 - val_accuracy: 0.8814\n",
            "\n",
            "Epoch 00030: val_accuracy improved from 0.87288 to 0.88136, saving model to /content/drive/My Drive/Best models/model_l_1.h5\n",
            "Epoch 31/50\n",
            "32/32 [==============================] - 692s 22s/step - loss: 0.0538 - accuracy: 0.9843 - val_loss: 1.2275 - val_accuracy: 0.8447\n",
            "\n",
            "Epoch 00031: val_accuracy did not improve from 0.88136\n",
            "Epoch 32/50\n",
            "32/32 [==============================] - 668s 21s/step - loss: 0.0433 - accuracy: 0.9892 - val_loss: 0.6083 - val_accuracy: 0.8941\n",
            "\n",
            "Epoch 00032: val_accuracy improved from 0.88136 to 0.89407, saving model to /content/drive/My Drive/Best models/model_l_1.h5\n",
            "Epoch 33/50\n",
            "32/32 [==============================] - 688s 22s/step - loss: 0.0307 - accuracy: 0.9902 - val_loss: 1.3408 - val_accuracy: 0.8409\n",
            "\n",
            "Epoch 00033: val_accuracy did not improve from 0.89407\n",
            "Epoch 34/50\n",
            "32/32 [==============================] - 668s 21s/step - loss: 0.0593 - accuracy: 0.9783 - val_loss: 4.6254 - val_accuracy: 0.8602\n",
            "\n",
            "Epoch 00034: val_accuracy did not improve from 0.89407\n",
            "Epoch 35/50\n",
            "32/32 [==============================] - 684s 21s/step - loss: 0.0401 - accuracy: 0.9853 - val_loss: 0.0986 - val_accuracy: 0.8636\n",
            "\n",
            "Epoch 00035: val_accuracy did not improve from 0.89407\n",
            "Epoch 36/50\n",
            "32/32 [==============================] - 670s 21s/step - loss: 0.0293 - accuracy: 0.9911 - val_loss: 0.4393 - val_accuracy: 0.8771\n",
            "\n",
            "Epoch 00036: val_accuracy did not improve from 0.89407\n",
            "Epoch 37/50\n",
            "32/32 [==============================] - 684s 21s/step - loss: 0.0354 - accuracy: 0.9863 - val_loss: 1.2485 - val_accuracy: 0.8523\n",
            "\n",
            "Epoch 00037: val_accuracy did not improve from 0.89407\n",
            "Epoch 38/50\n",
            "32/32 [==============================] - 672s 21s/step - loss: 0.0329 - accuracy: 0.9873 - val_loss: 0.6419 - val_accuracy: 0.8729\n",
            "\n",
            "Epoch 00038: val_accuracy did not improve from 0.89407\n",
            "Epoch 39/50\n",
            "32/32 [==============================] - 690s 22s/step - loss: 0.0421 - accuracy: 0.9853 - val_loss: 0.0712 - val_accuracy: 0.8750\n",
            "\n",
            "Epoch 00039: val_accuracy did not improve from 0.89407\n",
            "Epoch 40/50\n",
            "32/32 [==============================] - 679s 21s/step - loss: 0.0289 - accuracy: 0.9911 - val_loss: 0.0017 - val_accuracy: 0.8814\n",
            "\n",
            "Epoch 00040: val_accuracy did not improve from 0.89407\n",
            "Epoch 41/50\n",
            "32/32 [==============================] - 686s 21s/step - loss: 0.0200 - accuracy: 0.9931 - val_loss: 0.0602 - val_accuracy: 0.8750\n",
            "\n",
            "Epoch 00041: val_accuracy did not improve from 0.89407\n",
            "Epoch 42/50\n",
            "32/32 [==============================] - 675s 21s/step - loss: 0.0341 - accuracy: 0.9902 - val_loss: 0.8454 - val_accuracy: 0.8432\n",
            "\n",
            "Epoch 00042: val_accuracy did not improve from 0.89407\n",
            "Epoch 43/50\n",
            "32/32 [==============================] - 684s 21s/step - loss: 0.0193 - accuracy: 0.9951 - val_loss: 0.8053 - val_accuracy: 0.8674\n",
            "\n",
            "Epoch 00043: val_accuracy did not improve from 0.89407\n",
            "Epoch 44/50\n",
            "32/32 [==============================] - 675s 21s/step - loss: 0.0191 - accuracy: 0.9941 - val_loss: 1.0282 - val_accuracy: 0.8517\n",
            "\n",
            "Epoch 00044: val_accuracy did not improve from 0.89407\n",
            "Epoch 45/50\n",
            "32/32 [==============================] - 686s 21s/step - loss: 0.0329 - accuracy: 0.9882 - val_loss: 1.2187 - val_accuracy: 0.8485\n",
            "\n",
            "Epoch 00045: val_accuracy did not improve from 0.89407\n",
            "Epoch 46/50\n",
            "32/32 [==============================] - 671s 21s/step - loss: 0.0211 - accuracy: 0.9931 - val_loss: 0.7083 - val_accuracy: 0.8898\n",
            "\n",
            "Epoch 00046: val_accuracy did not improve from 0.89407\n",
            "Epoch 47/50\n",
            "32/32 [==============================] - 685s 21s/step - loss: 0.0143 - accuracy: 0.9951 - val_loss: 1.0623 - val_accuracy: 0.8447\n",
            "\n",
            "Epoch 00047: val_accuracy did not improve from 0.89407\n",
            "Epoch 48/50\n",
            "32/32 [==============================] - 670s 21s/step - loss: 0.0107 - accuracy: 0.9980 - val_loss: 0.3971 - val_accuracy: 0.8644\n",
            "\n",
            "Epoch 00048: val_accuracy did not improve from 0.89407\n",
            "Epoch 49/50\n",
            "32/32 [==============================] - 685s 21s/step - loss: 0.0149 - accuracy: 0.9971 - val_loss: 0.3632 - val_accuracy: 0.8636\n",
            "\n",
            "Epoch 00049: val_accuracy did not improve from 0.89407\n",
            "Epoch 50/50\n",
            "32/32 [==============================] - 671s 21s/step - loss: 0.0117 - accuracy: 0.9970 - val_loss: 2.3560 - val_accuracy: 0.8856\n",
            "\n",
            "Epoch 00050: val_accuracy did not improve from 0.89407\n"
          ],
          "name": "stdout"
        }
      ]
    },
    {
      "cell_type": "code",
      "metadata": {
        "id": "HVTVRSV8ZlQb",
        "colab_type": "code",
        "colab": {
          "base_uri": "https://localhost:8080/",
          "height": 295
        },
        "outputId": "99bd3393-b9bc-4d0f-8810-32c8931f7d24"
      },
      "source": [
        "import matplotlib.pyplot as plt\n",
        "plt.plot(hist.history[\"accuracy\"])\n",
        "plt.plot(hist.history['val_accuracy'])\n",
        "\n",
        "plt.title(\"model accuracy\")\n",
        "plt.ylabel(\"Accuracy\")\n",
        "plt.xlabel(\"Epoch\")\n",
        "plt.legend([\"Accuracy\",\"Validation Accuracy\"])\n",
        "plt.show()"
      ],
      "execution_count": 22,
      "outputs": [
        {
          "output_type": "display_data",
          "data": {
            "image/png": "[encoded data removed]",
            "text/plain": [
              "<Figure size 432x288 with 1 Axes>"
            ]
          },
          "metadata": {
            "tags": [],
            "needs_background": "light"
          }
        }
      ]
    },
    {
      "cell_type": "code",
      "metadata": {
        "id": "S1zKuauZZnZF",
        "colab_type": "code",
        "colab": {
          "base_uri": "https://localhost:8080/",
          "height": 279
        },
        "outputId": "b3c91f87-6d9e-483f-9739-a2f17b490020"
      },
      "source": [
        "plt.plot(hist.history['loss'])\n",
        "plt.plot(hist.history['val_loss'])\n",
        "plt.ylabel(\"Loss\")\n",
        "plt.xlabel(\"Epoch\")\n",
        "plt.legend([\"loss\",\"Validation Loss\"])\n",
        "plt.show()"
      ],
      "execution_count": 23,
      "outputs": [
        {
          "output_type": "display_data",
          "data": {
            "image/png": "[encoded data removed]",
            "text/plain": [
              "<Figure size 432x288 with 1 Axes>"
            ]
          },
          "metadata": {
            "tags": [],
            "needs_background": "light"
          }
        }
      ]
    },
    {
      "cell_type": "code",
      "metadata": {
        "id": "mscgt0FiIA3D",
        "colab_type": "code",
        "colab": {}
      },
      "source": [
        "model_final.save(\"/content/drive/My Drive/Best models/model_m_1.h5\")"
      ],
      "execution_count": 24,
      "outputs": []
    },
    {
      "cell_type": "code",
      "metadata": {
        "id": "1E7hce4INlu7",
        "colab_type": "code",
        "colab": {}
      },
      "source": [
        "model_cnn=keras.models.load_model(\"/content/drive/My Drive/Best models/model_l_1.h5\")"
      ],
      "execution_count": 27,
      "outputs": []
    },
    {
      "cell_type": "code",
      "metadata": {
        "id": "WwAzAbBdZulp",
        "colab_type": "code",
        "colab": {}
      },
      "source": [
        "from keras.preprocessing.image import ImageDataGenerator\n",
        "from sklearn.metrics import classification_report, confusion_matrix\n",
        "\n",
        "test_datagen = ImageDataGenerator()"
      ],
      "execution_count": 4,
      "outputs": []
    },
    {
      "cell_type": "code",
      "metadata": {
        "id": "GxVOVV3zZyE7",
        "colab_type": "code",
        "colab": {
          "base_uri": "https://localhost:8080/",
          "height": 34
        },
        "outputId": "e9eba605-00a1-4ca0-9520-b5315b004767"
      },
      "source": [
        "validation_generator = test_datagen.flow_from_directory('/content/drive/My Drive/data_liver/test',\n",
        "                                                        target_size=(224, 224))"
      ],
      "execution_count": 5,
      "outputs": [
        {
          "output_type": "stream",
          "text": [
            "Found 200 images belonging to 4 classes.\n"
          ],
          "name": "stdout"
        }
      ]
    },
    {
      "cell_type": "code",
      "metadata": {
        "id": "eAMUtksqjslN",
        "colab_type": "code",
        "colab": {
          "base_uri": "https://localhost:8080/",
          "height": 306
        },
        "outputId": "b99a0133-3101-40cf-9345-abba9f20fe12"
      },
      "source": [
        "import numpy as np\n",
        "#Confution Matrix and Classification Report\n",
        "Y_pred = model_cnn.predict_generator(validation_generator)\n",
        "y_pred = np.argmax(Y_pred, axis=1)\n",
        "print('Confusion Matrix')\n",
        "print(confusion_matrix(validation_generator.classes, y_pred))\n",
        "print('Classification Report')\n",
        "#target_names = ['grade1', 'grade0', 'grade2','grade3']\n",
        "print(classification_report(validation_generator.classes, y_pred))"
      ],
      "execution_count": 7,
      "outputs": [
        {
          "output_type": "stream",
          "text": [
            "Confusion Matrix\n",
            "[[ 7 11 18 14]\n",
            " [12 11 17 10]\n",
            " [14 16  9 11]\n",
            " [13 11 10 16]]\n",
            "Classification Report\n",
            "              precision    recall  f1-score   support\n",
            "\n",
            "           0       0.15      0.14      0.15        50\n",
            "           1       0.22      0.22      0.22        50\n",
            "           2       0.17      0.18      0.17        50\n",
            "           3       0.31      0.32      0.32        50\n",
            "\n",
            "    accuracy                           0.21       200\n",
            "   macro avg       0.21      0.22      0.21       200\n",
            "weighted avg       0.21      0.21      0.21       200\n",
            "\n"
          ],
          "name": "stdout"
        }
      ]
    },
    {
      "cell_type": "code",
      "metadata": {
        "id": "nCeG5IC_Z6kq",
        "colab_type": "code",
        "colab": {
          "base_uri": "https://localhost:8080/",
          "height": 153
        },
        "outputId": "c9e8524d-84b5-4b57-b69d-849b68b224ce"
      },
      "source": [
        "import os\n",
        "import numpy as np\n",
        "actual=[]\n",
        "predicted=[]\n",
        "data_path='/content/drive/My Drive/data_liver/test'\n",
        "data_dir_list=os.listdir(data_path)\n",
        "for dataset in data_dir_list:\n",
        "  print(dataset)\n",
        "  img_list=os.listdir(data_path+'/'+dataset)\n",
        "  correctCount=0\n",
        "  wrongCount=0\n",
        "  for img in img_list:\n",
        "    img_path=data_path+'/'+dataset+'/'+img\n",
        "    input_image = image.load_img(img_path,target_size=(224,224))\n",
        "    input_image = np.asarray(input_image)\n",
        "    input_image = np.expand_dims(input_image, axis=0)\n",
        "    output = model_final.predict(input_image)\n",
        "    ans='grade'+str(np.argmax(output[0],axis=0))\n",
        "    if( ans in img):\n",
        "      correctCount+=1\n",
        "    else:\n",
        "      wrongCount+=1\n",
        "    actual.append(img[:6])\n",
        "    predicted.append(ans)\n",
        "  print(\"correct Count {} WrongCount {}\".format(correctCount,wrongCount))"
      ],
      "execution_count": 28,
      "outputs": [
        {
          "output_type": "stream",
          "text": [
            "grade1\n",
            "correct Count 41 WrongCount 9\n",
            "grade0\n",
            "correct Count 43 WrongCount 7\n",
            "grade2\n",
            "correct Count 47 WrongCount 3\n",
            "grade3\n",
            "correct Count 43 WrongCount 7\n"
          ],
          "name": "stdout"
        }
      ]
    },
    {
      "cell_type": "code",
      "metadata": {
        "id": "0eHZ5upnSGVd",
        "colab_type": "code",
        "colab": {
          "base_uri": "https://localhost:8080/",
          "height": 1000
        },
        "outputId": "1e587cae-c3fc-4642-ad10-58ec0ddde36a"
      },
      "source": [
        "actual"
      ],
      "execution_count": 18,
      "outputs": [
        {
          "output_type": "execute_result",
          "data": {
            "text/plain": [
              "['grade1',\n",
              " 'grade1',\n",
              " 'grade1',\n",
              " 'grade1',\n",
              " 'grade1',\n",
              " 'grade1',\n",
              " 'grade1',\n",
              " 'grade1',\n",
              " 'grade1',\n",
              " 'grade1',\n",
              " 'grade1',\n",
              " 'grade1',\n",
              " 'grade1',\n",
              " 'grade1',\n",
              " 'grade1',\n",
              " 'grade1',\n",
              " 'grade1',\n",
              " 'grade1',\n",
              " 'grade1',\n",
              " 'grade1',\n",
              " 'grade1',\n",
              " 'grade1',\n",
              " 'grade1',\n",
              " 'grade1',\n",
              " 'grade1',\n",
              " 'grade1',\n",
              " 'grade1',\n",
              " 'grade1',\n",
              " 'grade1',\n",
              " 'grade1',\n",
              " 'grade1',\n",
              " 'grade1',\n",
              " 'grade1',\n",
              " 'grade1',\n",
              " 'grade1',\n",
              " 'grade1',\n",
              " 'grade1',\n",
              " 'grade1',\n",
              " 'grade1',\n",
              " 'grade1',\n",
              " 'grade1',\n",
              " 'grade1',\n",
              " 'grade1',\n",
              " 'grade1',\n",
              " 'grade1',\n",
              " 'grade1',\n",
              " 'grade1',\n",
              " 'grade1',\n",
              " 'grade1',\n",
              " 'grade1',\n",
              " 'grade0',\n",
              " 'grade0',\n",
              " 'grade0',\n",
              " 'grade0',\n",
              " 'grade0',\n",
              " 'grade0',\n",
              " 'grade0',\n",
              " 'grade0',\n",
              " 'grade0',\n",
              " 'grade0',\n",
              " 'grade0',\n",
              " 'grade0',\n",
              " 'grade0',\n",
              " 'grade0',\n",
              " 'grade0',\n",
              " 'grade0',\n",
              " 'grade0',\n",
              " 'grade0',\n",
              " 'grade0',\n",
              " 'grade0',\n",
              " 'grade0',\n",
              " 'grade0',\n",
              " 'grade0',\n",
              " 'grade0',\n",
              " 'grade0',\n",
              " 'grade0',\n",
              " 'grade0',\n",
              " 'grade0',\n",
              " 'grade0',\n",
              " 'grade0',\n",
              " 'grade0',\n",
              " 'grade0',\n",
              " 'grade0',\n",
              " 'grade0',\n",
              " 'grade0',\n",
              " 'grade0',\n",
              " 'grade0',\n",
              " 'grade0',\n",
              " 'grade0',\n",
              " 'grade0',\n",
              " 'grade0',\n",
              " 'grade0',\n",
              " 'grade0',\n",
              " 'grade0',\n",
              " 'grade0',\n",
              " 'grade0',\n",
              " 'grade0',\n",
              " 'grade0',\n",
              " 'grade0',\n",
              " 'grade0',\n",
              " 'grade2',\n",
              " 'grade2',\n",
              " 'grade2',\n",
              " 'grade2',\n",
              " 'grade2',\n",
              " 'grade2',\n",
              " 'grade2',\n",
              " 'grade2',\n",
              " 'grade2',\n",
              " 'grade2',\n",
              " 'grade2',\n",
              " 'grade2',\n",
              " 'grade2',\n",
              " 'grade2',\n",
              " 'grade2',\n",
              " 'grade2',\n",
              " 'grade2',\n",
              " 'grade2',\n",
              " 'grade2',\n",
              " 'grade2',\n",
              " 'grade2',\n",
              " 'grade2',\n",
              " 'grade2',\n",
              " 'grade2',\n",
              " 'grade2',\n",
              " 'grade2',\n",
              " 'grade2',\n",
              " 'grade2',\n",
              " 'grade2',\n",
              " 'grade2',\n",
              " 'grade2',\n",
              " 'grade2',\n",
              " 'grade2',\n",
              " 'grade2',\n",
              " 'grade2',\n",
              " 'grade2',\n",
              " 'grade2',\n",
              " 'grade2',\n",
              " 'grade2',\n",
              " 'grade2',\n",
              " 'grade2',\n",
              " 'grade2',\n",
              " 'grade2',\n",
              " 'grade2',\n",
              " 'grade2',\n",
              " 'grade2',\n",
              " 'grade2',\n",
              " 'grade2',\n",
              " 'grade2',\n",
              " 'grade2',\n",
              " 'grade3',\n",
              " 'grade3',\n",
              " 'grade3',\n",
              " 'grade3',\n",
              " 'grade3',\n",
              " 'grade3',\n",
              " 'grade3',\n",
              " 'grade3',\n",
              " 'grade3',\n",
              " 'grade3',\n",
              " 'grade3',\n",
              " 'grade3',\n",
              " 'grade3',\n",
              " 'grade3',\n",
              " 'grade3',\n",
              " 'grade3',\n",
              " 'grade3',\n",
              " 'grade3',\n",
              " 'grade3',\n",
              " 'grade3',\n",
              " 'grade3',\n",
              " 'grade3',\n",
              " 'grade3',\n",
              " 'grade3',\n",
              " 'grade3',\n",
              " 'grade3',\n",
              " 'grade3',\n",
              " 'grade3',\n",
              " 'grade3',\n",
              " 'grade3',\n",
              " 'grade3',\n",
              " 'grade3',\n",
              " 'grade3',\n",
              " 'grade3',\n",
              " 'grade3',\n",
              " 'grade3',\n",
              " 'grade3',\n",
              " 'grade3',\n",
              " 'grade3',\n",
              " 'grade3',\n",
              " 'grade3',\n",
              " 'grade3',\n",
              " 'grade3',\n",
              " 'grade3',\n",
              " 'grade3',\n",
              " 'grade3',\n",
              " 'grade3',\n",
              " 'grade3',\n",
              " 'grade3',\n",
              " 'grade3']"
            ]
          },
          "metadata": {
            "tags": []
          },
          "execution_count": 18
        }
      ]
    },
    {
      "cell_type": "code",
      "metadata": {
        "id": "6Y1TLJJcXt63",
        "colab_type": "code",
        "colab": {
          "base_uri": "https://localhost:8080/",
          "height": 323
        },
        "outputId": "9cb1ce4c-0083-4609-dff3-8a3dc820419e"
      },
      "source": [
        "# Python script for confusion matrix creation. \n",
        "from sklearn.metrics import confusion_matrix \n",
        "from sklearn.metrics import accuracy_score \n",
        "from sklearn.metrics import classification_report \n",
        "results = confusion_matrix(actual, predicted) \n",
        "\n",
        "print ('Confusion Matrix :')\n",
        "print(results) \n",
        "print ('Accuracy Score :',accuracy_score(actual, predicted)) \n",
        "print ('Report : ')\n",
        "print (classification_report(actual, predicted)) \n"
      ],
      "execution_count": 29,
      "outputs": [
        {
          "output_type": "stream",
          "text": [
            "Confusion Matrix :\n",
            "[[43  7  0  0]\n",
            " [ 2 41  2  5]\n",
            " [ 1  1 47  1]\n",
            " [ 0  5  2 43]]\n",
            "Accuracy Score : 0.87\n",
            "Report : \n",
            "              precision    recall  f1-score   support\n",
            "\n",
            "      grade0       0.93      0.86      0.90        50\n",
            "      grade1       0.76      0.82      0.79        50\n",
            "      grade2       0.92      0.94      0.93        50\n",
            "      grade3       0.88      0.86      0.87        50\n",
            "\n",
            "    accuracy                           0.87       200\n",
            "   macro avg       0.87      0.87      0.87       200\n",
            "weighted avg       0.87      0.87      0.87       200\n",
            "\n"
          ],
          "name": "stdout"
        }
      ]
    },
    {
      "cell_type": "code",
      "metadata": {
        "id": "13hBXTUZwD52",
        "colab_type": "code",
        "colab": {
          "base_uri": "https://localhost:8080/",
          "height": 51
        },
        "outputId": "9ea93925-e7db-4496-f5f7-1914f79cc08b"
      },
      "source": [
        "tr_loss,tr_acc=model_final.evaluate(validation_generator)\n",
        "tr_acc"
      ],
      "execution_count": 31,
      "outputs": [
        {
          "output_type": "stream",
          "text": [
            "7/7 [==============================] - 101s 14s/step\n"
          ],
          "name": "stdout"
        },
        {
          "output_type": "execute_result",
          "data": {
            "text/plain": [
              "0.8550000190734863"
            ]
          },
          "metadata": {
            "tags": []
          },
          "execution_count": 31
        }
      ]
    },
    {
      "cell_type": "code",
      "metadata": {
        "id": "ntwjv8i0wHmH",
        "colab_type": "code",
        "colab": {
          "base_uri": "https://localhost:8080/",
          "height": 51
        },
        "outputId": "f7e9718e-70aa-497c-9b4c-206f6dd816dc"
      },
      "source": [
        "tr_loss,tr_acc=model_final.evaluate(traindata)\n",
        "tr_acc"
      ],
      "execution_count": 9,
      "outputs": [
        {
          "output_type": "stream",
          "text": [
            "22/22 [==============================] - 358s 16s/step\n"
          ],
          "name": "stdout"
        },
        {
          "output_type": "execute_result",
          "data": {
            "text/plain": [
              "1.0"
            ]
          },
          "metadata": {
            "tags": []
          },
          "execution_count": 9
        }
      ]
    },
    {
      "cell_type": "code",
      "metadata": {
        "id": "1NOM-AafyXVT",
        "colab_type": "code",
        "colab": {
          "base_uri": "https://localhost:8080/",
          "height": 51
        },
        "outputId": "ada257b9-cc56-46da-9b9c-ccc4cfac21a5"
      },
      "source": [
        "tr_loss,tr_acc=model_final.evaluate(testdata)\n",
        "tr_acc"
      ],
      "execution_count": 11,
      "outputs": [
        {
          "output_type": "stream",
          "text": [
            "4/4 [==============================] - 58s 15s/step\n"
          ],
          "name": "stdout"
        },
        {
          "output_type": "execute_result",
          "data": {
            "text/plain": [
              "0.8999999761581421"
            ]
          },
          "metadata": {
            "tags": []
          },
          "execution_count": 11
        }
      ]
    },
    {
      "cell_type": "code",
      "metadata": {
        "id": "mTNWvGsEywGT",
        "colab_type": "code",
        "colab": {}
      },
      "source": [
        "saved_model=keras.models.load_model(\"/content/drive/My Drive/Best models/model_b_1.h5\")"
      ],
      "execution_count": 6,
      "outputs": []
    },
    {
      "cell_type": "code",
      "metadata": {
        "colab_type": "code",
        "id": "bIRR3fnFzXLD",
        "colab": {
          "base_uri": "https://localhost:8080/",
          "height": 51
        },
        "outputId": "5aefd0a9-747b-4672-a0a2-21c657172805"
      },
      "source": [
        "tr_loss,tr_acc=saved_model.evaluate(validation_generator)\n",
        "tr_acc"
      ],
      "execution_count": 7,
      "outputs": [
        {
          "output_type": "stream",
          "text": [
            "4/4 [==============================] - 51s 13s/step\n"
          ],
          "name": "stdout"
        },
        {
          "output_type": "execute_result",
          "data": {
            "text/plain": [
              "0.8799999952316284"
            ]
          },
          "metadata": {
            "tags": []
          },
          "execution_count": 7
        }
      ]
    },
    {
      "cell_type": "code",
      "metadata": {
        "id": "ihCmpaYAzgH4",
        "colab_type": "code",
        "colab": {}
      },
      "source": [
        ""
      ],
      "execution_count": null,
      "outputs": []
    },
    {
      "cell_type": "code",
      "metadata": {
        "colab_type": "code",
        "id": "EmEGMcRkzgyK",
        "colab": {
          "base_uri": "https://localhost:8080/",
          "height": 51
        },
        "outputId": "d6b9756c-a694-4f69-94aa-49497cdf7d05"
      },
      "source": [
        "tr_loss,tr_acc=saved_model.evaluate(testdata)\n",
        "tr_acc"
      ],
      "execution_count": 10,
      "outputs": [
        {
          "output_type": "stream",
          "text": [
            "4/4 [==============================] - 51s 13s/step\n"
          ],
          "name": "stdout"
        },
        {
          "output_type": "execute_result",
          "data": {
            "text/plain": [
              "0.7900000214576721"
            ]
          },
          "metadata": {
            "tags": []
          },
          "execution_count": 10
        }
      ]
    },
    {
      "cell_type": "code",
      "metadata": {
        "id": "rtN1rqlVp7ll",
        "colab_type": "code",
        "colab": {}
      },
      "source": [
        "model_final=keras.models.load_model(\"/content/drive/My Drive/Best models/model_f_1.h5\")"
      ],
      "execution_count": 32,
      "outputs": []
    }
  ]
}