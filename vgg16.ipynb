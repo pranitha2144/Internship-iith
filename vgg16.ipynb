{
  "nbformat": 4,
  "nbformat_minor": 0,
  "metadata": {
    "colab": {
      "name": "vgg16",
      "provenance": [],
      "mount_file_id": "1IhyoGy7EHEgj120Y7aEt15WFbYJP6aXH",
      "authorship_tag": "ABX9TyNbnEVHmWht8iICsQG1MYaw",
      "include_colab_link": true
    },
    "kernelspec": {
      "name": "python3",
      "display_name": "Python 3"
    }
  },
  "cells": [
    {
      "cell_type": "markdown",
      "metadata": {
        "id": "view-in-github",
        "colab_type": "text"
      },
      "source": [
        "<a href=\"https://colab.research.google.com/github/pranitha2144/Internship-iith/blob/Resnet/vgg16.ipynb\" target=\"_parent\"><img src=\"https://colab.research.google.com/assets/colab-badge.svg\" alt=\"Open In Colab\"/></a>"
      ]
    },
    {
      "cell_type": "code",
      "metadata": {
        "id": "3i-5qcxM7pSC",
        "colab_type": "code",
        "colab": {}
      },
      "source": [
        "import keras\n",
        "from keras.models import Model\n",
        "from keras.layers import Dense\n",
        "from keras import optimizers\n",
        "from keras.preprocessing.image import ImageDataGenerator\n",
        "from keras.preprocessing import image"
      ],
      "execution_count": 31,
      "outputs": []
    },
    {
      "cell_type": "code",
      "metadata": {
        "id": "P_NCAugx70fs",
        "colab_type": "code",
        "colab": {
          "base_uri": "https://localhost:8080/",
          "height": 51
        },
        "outputId": "9bcab0d0-85e4-463b-8a93-8952cc9715ba"
      },
      "source": [
        "trdata = ImageDataGenerator(\n",
        "    \n",
        "    )\n",
        "traindata = trdata.flow_from_directory(directory=\"/content/drive/My Drive/data_ouput/train\",target_size=(224,224))\n",
        "tsdata = ImageDataGenerator()\n",
        "testdata = tsdata.flow_from_directory(directory=\"/content/drive/My Drive/data_ouput/val\", target_size=(224,224))"
      ],
      "execution_count": 21,
      "outputs": [
        {
          "output_type": "stream",
          "text": [
            "Found 800 images belonging to 4 classes.\n",
            "Found 100 images belonging to 4 classes.\n"
          ],
          "name": "stdout"
        }
      ]
    },
    {
      "cell_type": "code",
      "metadata": {
        "id": "rg_JdtWb8O00",
        "colab_type": "code",
        "colab": {}
      },
      "source": [
        "from keras.applications.vgg16 import VGG16\n",
        "vggmodel = VGG16(weights='imagenet', include_top=True)"
      ],
      "execution_count": 22,
      "outputs": []
    },
    {
      "cell_type": "code",
      "metadata": {
        "id": "PKuEFjHt8TfJ",
        "colab_type": "code",
        "colab": {
          "base_uri": "https://localhost:8080/",
          "height": 935
        },
        "outputId": "74689cec-ed98-48da-b1b6-bd4592af1daa"
      },
      "source": [
        "vggmodel.summary()"
      ],
      "execution_count": 23,
      "outputs": [
        {
          "output_type": "stream",
          "text": [
            "Model: \"vgg16\"\n",
            "_________________________________________________________________\n",
            "Layer (type)                 Output Shape              Param #   \n",
            "=================================================================\n",
            "input_2 (InputLayer)         (None, 224, 224, 3)       0         \n",
            "_________________________________________________________________\n",
            "block1_conv1 (Conv2D)        (None, 224, 224, 64)      1792      \n",
            "_________________________________________________________________\n",
            "block1_conv2 (Conv2D)        (None, 224, 224, 64)      36928     \n",
            "_________________________________________________________________\n",
            "block1_pool (MaxPooling2D)   (None, 112, 112, 64)      0         \n",
            "_________________________________________________________________\n",
            "block2_conv1 (Conv2D)        (None, 112, 112, 128)     73856     \n",
            "_________________________________________________________________\n",
            "block2_conv2 (Conv2D)        (None, 112, 112, 128)     147584    \n",
            "_________________________________________________________________\n",
            "block2_pool (MaxPooling2D)   (None, 56, 56, 128)       0         \n",
            "_________________________________________________________________\n",
            "block3_conv1 (Conv2D)        (None, 56, 56, 256)       295168    \n",
            "_________________________________________________________________\n",
            "block3_conv2 (Conv2D)        (None, 56, 56, 256)       590080    \n",
            "_________________________________________________________________\n",
            "block3_conv3 (Conv2D)        (None, 56, 56, 256)       590080    \n",
            "_________________________________________________________________\n",
            "block3_pool (MaxPooling2D)   (None, 28, 28, 256)       0         \n",
            "_________________________________________________________________\n",
            "block4_conv1 (Conv2D)        (None, 28, 28, 512)       1180160   \n",
            "_________________________________________________________________\n",
            "block4_conv2 (Conv2D)        (None, 28, 28, 512)       2359808   \n",
            "_________________________________________________________________\n",
            "block4_conv3 (Conv2D)        (None, 28, 28, 512)       2359808   \n",
            "_________________________________________________________________\n",
            "block4_pool (MaxPooling2D)   (None, 14, 14, 512)       0         \n",
            "_________________________________________________________________\n",
            "block5_conv1 (Conv2D)        (None, 14, 14, 512)       2359808   \n",
            "_________________________________________________________________\n",
            "block5_conv2 (Conv2D)        (None, 14, 14, 512)       2359808   \n",
            "_________________________________________________________________\n",
            "block5_conv3 (Conv2D)        (None, 14, 14, 512)       2359808   \n",
            "_________________________________________________________________\n",
            "block5_pool (MaxPooling2D)   (None, 7, 7, 512)         0         \n",
            "_________________________________________________________________\n",
            "flatten (Flatten)            (None, 25088)             0         \n",
            "_________________________________________________________________\n",
            "fc1 (Dense)                  (None, 4096)              102764544 \n",
            "_________________________________________________________________\n",
            "fc2 (Dense)                  (None, 4096)              16781312  \n",
            "_________________________________________________________________\n",
            "predictions (Dense)          (None, 1000)              4097000   \n",
            "=================================================================\n",
            "Total params: 138,357,544\n",
            "Trainable params: 138,357,544\n",
            "Non-trainable params: 0\n",
            "_________________________________________________________________\n"
          ],
          "name": "stdout"
        }
      ]
    },
    {
      "cell_type": "code",
      "metadata": {
        "id": "GG60hKI68aWo",
        "colab_type": "code",
        "colab": {
          "base_uri": "https://localhost:8080/",
          "height": 340
        },
        "outputId": "aa826824-a9bd-4526-bb44-eb88f541b89c"
      },
      "source": [
        "for layers in (vggmodel.layers)[:19]:\n",
        "    print(layers)\n",
        "    layers.trainable = False"
      ],
      "execution_count": 24,
      "outputs": [
        {
          "output_type": "stream",
          "text": [
            "<keras.engine.input_layer.InputLayer object at 0x7fc60875fe10>\n",
            "<keras.layers.convolutional.Conv2D object at 0x7fc60875f4e0>\n",
            "<keras.layers.convolutional.Conv2D object at 0x7fc60875f588>\n",
            "<keras.layers.pooling.MaxPooling2D object at 0x7fc6087319e8>\n",
            "<keras.layers.convolutional.Conv2D object at 0x7fc6087317b8>\n",
            "<keras.layers.convolutional.Conv2D object at 0x7fc608753550>\n",
            "<keras.layers.pooling.MaxPooling2D object at 0x7fc608766f98>\n",
            "<keras.layers.convolutional.Conv2D object at 0x7fc60875b128>\n",
            "<keras.layers.convolutional.Conv2D object at 0x7fc60875b7b8>\n",
            "<keras.layers.convolutional.Conv2D object at 0x7fc60875f240>\n",
            "<keras.layers.pooling.MaxPooling2D object at 0x7fc607eda3c8>\n",
            "<keras.layers.convolutional.Conv2D object at 0x7fc607eda208>\n",
            "<keras.layers.convolutional.Conv2D object at 0x7fc607edaef0>\n",
            "<keras.layers.convolutional.Conv2D object at 0x7fc607edfa90>\n",
            "<keras.layers.pooling.MaxPooling2D object at 0x7fc607ee6518>\n",
            "<keras.layers.convolutional.Conv2D object at 0x7fc607ee6358>\n",
            "<keras.layers.convolutional.Conv2D object at 0x7fc607ee6f60>\n",
            "<keras.layers.convolutional.Conv2D object at 0x7fc6086adbe0>\n",
            "<keras.layers.pooling.MaxPooling2D object at 0x7fc6086b4668>\n"
          ],
          "name": "stdout"
        }
      ]
    },
    {
      "cell_type": "code",
      "metadata": {
        "id": "59taDHdJ8ikh",
        "colab_type": "code",
        "colab": {
          "base_uri": "https://localhost:8080/",
          "height": 71
        },
        "outputId": "67ff600a-d5f8-4f00-d0f0-b574258ef885"
      },
      "source": [
        "X= vggmodel.layers[-2].output\n",
        "predictions = Dense(4, activation=\"softmax\")(X)\n",
        "model_final = Model(input = vggmodel.input, output = predictions)\n"
      ],
      "execution_count": 26,
      "outputs": [
        {
          "output_type": "stream",
          "text": [
            "/usr/local/lib/python3.6/dist-packages/ipykernel_launcher.py:3: UserWarning: Update your `Model` call to the Keras 2 API: `Model(inputs=Tensor(\"in..., outputs=Tensor(\"de...)`\n",
            "  This is separate from the ipykernel package so we can avoid doing imports until\n"
          ],
          "name": "stderr"
        }
      ]
    },
    {
      "cell_type": "code",
      "metadata": {
        "id": "vFYbGbdq8vg8",
        "colab_type": "code",
        "colab": {}
      },
      "source": [
        "model_final.compile(loss = \"categorical_crossentropy\", optimizer = optimizers.Adam(lr=1e-6), metrics=[\"accuracy\"])"
      ],
      "execution_count": 28,
      "outputs": []
    },
    {
      "cell_type": "code",
      "metadata": {
        "id": "i6yUCcd08xum",
        "colab_type": "code",
        "colab": {
          "base_uri": "https://localhost:8080/",
          "height": 935
        },
        "outputId": "ec98776a-3f55-4641-961e-ec6a8fdc7685"
      },
      "source": [
        "model_final.summary()"
      ],
      "execution_count": 29,
      "outputs": [
        {
          "output_type": "stream",
          "text": [
            "Model: \"model_3\"\n",
            "_________________________________________________________________\n",
            "Layer (type)                 Output Shape              Param #   \n",
            "=================================================================\n",
            "input_2 (InputLayer)         (None, 224, 224, 3)       0         \n",
            "_________________________________________________________________\n",
            "block1_conv1 (Conv2D)        (None, 224, 224, 64)      1792      \n",
            "_________________________________________________________________\n",
            "block1_conv2 (Conv2D)        (None, 224, 224, 64)      36928     \n",
            "_________________________________________________________________\n",
            "block1_pool (MaxPooling2D)   (None, 112, 112, 64)      0         \n",
            "_________________________________________________________________\n",
            "block2_conv1 (Conv2D)        (None, 112, 112, 128)     73856     \n",
            "_________________________________________________________________\n",
            "block2_conv2 (Conv2D)        (None, 112, 112, 128)     147584    \n",
            "_________________________________________________________________\n",
            "block2_pool (MaxPooling2D)   (None, 56, 56, 128)       0         \n",
            "_________________________________________________________________\n",
            "block3_conv1 (Conv2D)        (None, 56, 56, 256)       295168    \n",
            "_________________________________________________________________\n",
            "block3_conv2 (Conv2D)        (None, 56, 56, 256)       590080    \n",
            "_________________________________________________________________\n",
            "block3_conv3 (Conv2D)        (None, 56, 56, 256)       590080    \n",
            "_________________________________________________________________\n",
            "block3_pool (MaxPooling2D)   (None, 28, 28, 256)       0         \n",
            "_________________________________________________________________\n",
            "block4_conv1 (Conv2D)        (None, 28, 28, 512)       1180160   \n",
            "_________________________________________________________________\n",
            "block4_conv2 (Conv2D)        (None, 28, 28, 512)       2359808   \n",
            "_________________________________________________________________\n",
            "block4_conv3 (Conv2D)        (None, 28, 28, 512)       2359808   \n",
            "_________________________________________________________________\n",
            "block4_pool (MaxPooling2D)   (None, 14, 14, 512)       0         \n",
            "_________________________________________________________________\n",
            "block5_conv1 (Conv2D)        (None, 14, 14, 512)       2359808   \n",
            "_________________________________________________________________\n",
            "block5_conv2 (Conv2D)        (None, 14, 14, 512)       2359808   \n",
            "_________________________________________________________________\n",
            "block5_conv3 (Conv2D)        (None, 14, 14, 512)       2359808   \n",
            "_________________________________________________________________\n",
            "block5_pool (MaxPooling2D)   (None, 7, 7, 512)         0         \n",
            "_________________________________________________________________\n",
            "flatten (Flatten)            (None, 25088)             0         \n",
            "_________________________________________________________________\n",
            "fc1 (Dense)                  (None, 4096)              102764544 \n",
            "_________________________________________________________________\n",
            "fc2 (Dense)                  (None, 4096)              16781312  \n",
            "_________________________________________________________________\n",
            "dense_3 (Dense)              (None, 4)                 16388     \n",
            "=================================================================\n",
            "Total params: 134,276,932\n",
            "Trainable params: 119,562,244\n",
            "Non-trainable params: 14,714,688\n",
            "_________________________________________________________________\n"
          ],
          "name": "stdout"
        }
      ]
    },
    {
      "cell_type": "code",
      "metadata": {
        "id": "UIV1Rie889QA",
        "colab_type": "code",
        "colab": {
          "base_uri": "https://localhost:8080/",
          "height": 1000
        },
        "outputId": "53d763a6-8e64-44ad-c715-ce0f3e3a1899"
      },
      "source": [
        "from keras.callbacks import ModelCheckpoint, EarlyStopping\n",
        "checkpoint = ModelCheckpoint(\"vgg16_1.h5\", monitor='val_accuracy', verbose=1, save_best_only=True, save_weights_only=False, mode='auto', period=1)\n",
        "early = EarlyStopping(monitor='val_acc', min_delta=0, patience=40, verbose=1, mode='auto')\n",
        "hist=model_final.fit(traindata, steps_per_epoch= 2, epochs= 100, validation_data= testdata, validation_steps=1, callbacks=[checkpoint,early])\n",
        "model_final.save_weights(\"vgg16_1.h5\")"
      ],
      "execution_count": 30,
      "outputs": [
        {
          "output_type": "stream",
          "text": [
            "Epoch 1/100\n",
            "2/2 [==============================] - 49s 24s/step - loss: 1.7697 - accuracy: 0.2500 - val_loss: 1.9571 - val_accuracy: 0.1562\n",
            "\n",
            "Epoch 00001: val_accuracy improved from -inf to 0.15625, saving model to vgg16_1.h5\n"
          ],
          "name": "stdout"
        },
        {
          "output_type": "stream",
          "text": [
            "/usr/local/lib/python3.6/dist-packages/keras/callbacks/callbacks.py:846: RuntimeWarning: Early stopping conditioned on metric `val_acc` which is not available. Available metrics are: val_loss,val_accuracy,loss,accuracy\n",
            "  (self.monitor, ','.join(list(logs.keys()))), RuntimeWarning\n"
          ],
          "name": "stderr"
        },
        {
          "output_type": "stream",
          "text": [
            "Epoch 2/100\n",
            "2/2 [==============================] - 47s 24s/step - loss: 1.6556 - accuracy: 0.2969 - val_loss: 1.4926 - val_accuracy: 0.3750\n",
            "\n",
            "Epoch 00002: val_accuracy improved from 0.15625 to 0.37500, saving model to vgg16_1.h5\n",
            "Epoch 3/100\n",
            "2/2 [==============================] - 47s 23s/step - loss: 1.5476 - accuracy: 0.3594 - val_loss: 1.4114 - val_accuracy: 0.3125\n",
            "\n",
            "Epoch 00003: val_accuracy did not improve from 0.37500\n",
            "Epoch 4/100\n",
            "2/2 [==============================] - 34s 17s/step - loss: 1.4378 - accuracy: 0.3750 - val_loss: 0.8774 - val_accuracy: 0.5000\n",
            "\n",
            "Epoch 00004: val_accuracy improved from 0.37500 to 0.50000, saving model to vgg16_1.h5\n",
            "Epoch 5/100\n",
            "2/2 [==============================] - 50s 25s/step - loss: 1.4183 - accuracy: 0.3906 - val_loss: 1.1403 - val_accuracy: 0.5625\n",
            "\n",
            "Epoch 00005: val_accuracy improved from 0.50000 to 0.56250, saving model to vgg16_1.h5\n",
            "Epoch 6/100\n",
            "2/2 [==============================] - 47s 24s/step - loss: 1.3011 - accuracy: 0.4219 - val_loss: 1.3043 - val_accuracy: 0.3438\n",
            "\n",
            "Epoch 00006: val_accuracy did not improve from 0.56250\n",
            "Epoch 7/100\n",
            "2/2 [==============================] - 47s 23s/step - loss: 1.2636 - accuracy: 0.4688 - val_loss: 1.2737 - val_accuracy: 0.3125\n",
            "\n",
            "Epoch 00007: val_accuracy did not improve from 0.56250\n",
            "Epoch 8/100\n",
            "2/2 [==============================] - 34s 17s/step - loss: 1.1361 - accuracy: 0.5156 - val_loss: 1.1949 - val_accuracy: 0.5000\n",
            "\n",
            "Epoch 00008: val_accuracy did not improve from 0.56250\n",
            "Epoch 9/100\n",
            "2/2 [==============================] - 47s 24s/step - loss: 1.1391 - accuracy: 0.5312 - val_loss: 1.0438 - val_accuracy: 0.5625\n",
            "\n",
            "Epoch 00009: val_accuracy did not improve from 0.56250\n",
            "Epoch 10/100\n",
            "2/2 [==============================] - 47s 23s/step - loss: 1.1578 - accuracy: 0.5625 - val_loss: 1.1447 - val_accuracy: 0.4688\n",
            "\n",
            "Epoch 00010: val_accuracy did not improve from 0.56250\n",
            "Epoch 11/100\n",
            "2/2 [==============================] - 47s 24s/step - loss: 1.0592 - accuracy: 0.6719 - val_loss: 0.9916 - val_accuracy: 0.6562\n",
            "\n",
            "Epoch 00011: val_accuracy improved from 0.56250 to 0.65625, saving model to vgg16_1.h5\n",
            "Epoch 12/100\n",
            "2/2 [==============================] - 35s 17s/step - loss: 1.0636 - accuracy: 0.5938 - val_loss: 0.9004 - val_accuracy: 1.0000\n",
            "\n",
            "Epoch 00012: val_accuracy improved from 0.65625 to 1.00000, saving model to vgg16_1.h5\n",
            "Epoch 13/100\n",
            "2/2 [==============================] - 48s 24s/step - loss: 0.8537 - accuracy: 0.8125 - val_loss: 0.9556 - val_accuracy: 0.7188\n",
            "\n",
            "Epoch 00013: val_accuracy did not improve from 1.00000\n",
            "Epoch 14/100\n",
            "2/2 [==============================] - 47s 24s/step - loss: 0.9396 - accuracy: 0.6719 - val_loss: 1.0066 - val_accuracy: 0.5625\n",
            "\n",
            "Epoch 00014: val_accuracy did not improve from 1.00000\n",
            "Epoch 15/100\n",
            "2/2 [==============================] - 47s 24s/step - loss: 0.8892 - accuracy: 0.7344 - val_loss: 0.7853 - val_accuracy: 0.7812\n",
            "\n",
            "Epoch 00015: val_accuracy did not improve from 1.00000\n",
            "Epoch 16/100\n",
            "2/2 [==============================] - 35s 17s/step - loss: 0.9920 - accuracy: 0.6406 - val_loss: 0.8626 - val_accuracy: 1.0000\n",
            "\n",
            "Epoch 00016: val_accuracy did not improve from 1.00000\n",
            "Epoch 17/100\n",
            "2/2 [==============================] - 47s 24s/step - loss: 0.7409 - accuracy: 0.8125 - val_loss: 0.7508 - val_accuracy: 0.8438\n",
            "\n",
            "Epoch 00017: val_accuracy did not improve from 1.00000\n",
            "Epoch 18/100\n",
            "2/2 [==============================] - 47s 23s/step - loss: 0.8152 - accuracy: 0.7344 - val_loss: 0.9042 - val_accuracy: 0.6562\n",
            "\n",
            "Epoch 00018: val_accuracy did not improve from 1.00000\n",
            "Epoch 19/100\n",
            "2/2 [==============================] - 47s 24s/step - loss: 0.7400 - accuracy: 0.7969 - val_loss: 0.8094 - val_accuracy: 0.7188\n",
            "\n",
            "Epoch 00019: val_accuracy did not improve from 1.00000\n",
            "Epoch 20/100\n",
            "2/2 [==============================] - 34s 17s/step - loss: 0.8939 - accuracy: 0.7188 - val_loss: 0.6902 - val_accuracy: 1.0000\n",
            "\n",
            "Epoch 00020: val_accuracy did not improve from 1.00000\n",
            "Epoch 21/100\n",
            "2/2 [==============================] - 47s 23s/step - loss: 0.7163 - accuracy: 0.7812 - val_loss: 0.8642 - val_accuracy: 0.6875\n",
            "\n",
            "Epoch 00021: val_accuracy did not improve from 1.00000\n",
            "Epoch 22/100\n",
            "2/2 [==============================] - 47s 24s/step - loss: 0.8088 - accuracy: 0.7031 - val_loss: 0.6356 - val_accuracy: 0.9062\n",
            "\n",
            "Epoch 00022: val_accuracy did not improve from 1.00000\n",
            "Epoch 23/100\n",
            "2/2 [==============================] - 47s 23s/step - loss: 0.7451 - accuracy: 0.7812 - val_loss: 0.7631 - val_accuracy: 0.7188\n",
            "\n",
            "Epoch 00023: val_accuracy did not improve from 1.00000\n",
            "Epoch 24/100\n",
            "2/2 [==============================] - 34s 17s/step - loss: 0.6084 - accuracy: 0.7656 - val_loss: 0.4281 - val_accuracy: 1.0000\n",
            "\n",
            "Epoch 00024: val_accuracy did not improve from 1.00000\n",
            "Epoch 25/100\n",
            "2/2 [==============================] - 48s 24s/step - loss: 0.6066 - accuracy: 0.8438 - val_loss: 0.6911 - val_accuracy: 0.7812\n",
            "\n",
            "Epoch 00025: val_accuracy did not improve from 1.00000\n",
            "Epoch 26/100\n",
            "2/2 [==============================] - 47s 24s/step - loss: 0.7111 - accuracy: 0.7812 - val_loss: 0.6771 - val_accuracy: 0.8125\n",
            "\n",
            "Epoch 00026: val_accuracy did not improve from 1.00000\n",
            "Epoch 27/100\n",
            "2/2 [==============================] - 48s 24s/step - loss: 0.6890 - accuracy: 0.7656 - val_loss: 0.6918 - val_accuracy: 0.7500\n",
            "\n",
            "Epoch 00027: val_accuracy did not improve from 1.00000\n",
            "Epoch 28/100\n",
            "2/2 [==============================] - 34s 17s/step - loss: 0.7176 - accuracy: 0.7656 - val_loss: 0.7931 - val_accuracy: 0.7500\n",
            "\n",
            "Epoch 00028: val_accuracy did not improve from 1.00000\n",
            "Epoch 29/100\n",
            "2/2 [==============================] - 47s 24s/step - loss: 0.5710 - accuracy: 0.7812 - val_loss: 0.5939 - val_accuracy: 0.8750\n",
            "\n",
            "Epoch 00029: val_accuracy did not improve from 1.00000\n",
            "Epoch 30/100\n",
            "2/2 [==============================] - 47s 24s/step - loss: 0.5749 - accuracy: 0.8125 - val_loss: 0.7346 - val_accuracy: 0.7188\n",
            "\n",
            "Epoch 00030: val_accuracy did not improve from 1.00000\n",
            "Epoch 31/100\n",
            "2/2 [==============================] - 47s 23s/step - loss: 0.6524 - accuracy: 0.7812 - val_loss: 0.6237 - val_accuracy: 0.8125\n",
            "\n",
            "Epoch 00031: val_accuracy did not improve from 1.00000\n",
            "Epoch 32/100\n",
            "2/2 [==============================] - 34s 17s/step - loss: 0.5594 - accuracy: 0.8125 - val_loss: 0.7004 - val_accuracy: 0.5000\n",
            "\n",
            "Epoch 00032: val_accuracy did not improve from 1.00000\n",
            "Epoch 33/100\n",
            "2/2 [==============================] - 47s 24s/step - loss: 0.5863 - accuracy: 0.8750 - val_loss: 0.6551 - val_accuracy: 0.7500\n",
            "\n",
            "Epoch 00033: val_accuracy did not improve from 1.00000\n",
            "Epoch 34/100\n",
            "2/2 [==============================] - 47s 24s/step - loss: 0.5673 - accuracy: 0.8125 - val_loss: 0.6539 - val_accuracy: 0.7500\n",
            "\n",
            "Epoch 00034: val_accuracy did not improve from 1.00000\n",
            "Epoch 35/100\n",
            "2/2 [==============================] - 47s 23s/step - loss: 0.5841 - accuracy: 0.8125 - val_loss: 0.5715 - val_accuracy: 0.8125\n",
            "\n",
            "Epoch 00035: val_accuracy did not improve from 1.00000\n",
            "Epoch 36/100\n",
            "2/2 [==============================] - 35s 17s/step - loss: 0.5684 - accuracy: 0.8594 - val_loss: 0.4703 - val_accuracy: 0.7500\n",
            "\n",
            "Epoch 00036: val_accuracy did not improve from 1.00000\n",
            "Epoch 37/100\n",
            "2/2 [==============================] - 47s 23s/step - loss: 0.5310 - accuracy: 0.8750 - val_loss: 0.6877 - val_accuracy: 0.6875\n",
            "\n",
            "Epoch 00037: val_accuracy did not improve from 1.00000\n",
            "Epoch 38/100\n",
            "2/2 [==============================] - 48s 24s/step - loss: 0.6302 - accuracy: 0.7812 - val_loss: 0.5063 - val_accuracy: 0.8750\n",
            "\n",
            "Epoch 00038: val_accuracy did not improve from 1.00000\n",
            "Epoch 39/100\n",
            "2/2 [==============================] - 47s 24s/step - loss: 0.5550 - accuracy: 0.8594 - val_loss: 0.6276 - val_accuracy: 0.7500\n",
            "\n",
            "Epoch 00039: val_accuracy did not improve from 1.00000\n",
            "Epoch 40/100\n",
            "2/2 [==============================] - 35s 17s/step - loss: 0.5178 - accuracy: 0.8906 - val_loss: 0.4260 - val_accuracy: 0.7500\n",
            "\n",
            "Epoch 00040: val_accuracy did not improve from 1.00000\n",
            "Epoch 41/100\n",
            "2/2 [==============================] - 47s 24s/step - loss: 0.5671 - accuracy: 0.7656 - val_loss: 0.5740 - val_accuracy: 0.7812\n",
            "\n",
            "Epoch 00041: val_accuracy did not improve from 1.00000\n",
            "Epoch 42/100\n",
            "2/2 [==============================] - 46s 23s/step - loss: 0.4661 - accuracy: 0.8438 - val_loss: 0.6064 - val_accuracy: 0.7188\n",
            "\n",
            "Epoch 00042: val_accuracy did not improve from 1.00000\n",
            "Epoch 43/100\n",
            "2/2 [==============================] - 47s 24s/step - loss: 0.3931 - accuracy: 0.8906 - val_loss: 0.5819 - val_accuracy: 0.7812\n",
            "\n",
            "Epoch 00043: val_accuracy did not improve from 1.00000\n",
            "Epoch 44/100\n",
            "2/2 [==============================] - 35s 17s/step - loss: 0.5706 - accuracy: 0.8125 - val_loss: 0.3517 - val_accuracy: 1.0000\n",
            "\n",
            "Epoch 00044: val_accuracy did not improve from 1.00000\n",
            "Epoch 45/100\n",
            "2/2 [==============================] - 47s 24s/step - loss: 0.6328 - accuracy: 0.7969 - val_loss: 0.5779 - val_accuracy: 0.7500\n",
            "\n",
            "Epoch 00045: val_accuracy did not improve from 1.00000\n",
            "Epoch 46/100\n",
            "2/2 [==============================] - 47s 23s/step - loss: 0.4680 - accuracy: 0.8125 - val_loss: 0.5115 - val_accuracy: 0.8750\n",
            "\n",
            "Epoch 00046: val_accuracy did not improve from 1.00000\n",
            "Epoch 47/100\n",
            "2/2 [==============================] - 47s 24s/step - loss: 0.5513 - accuracy: 0.8125 - val_loss: 0.5762 - val_accuracy: 0.7500\n",
            "\n",
            "Epoch 00047: val_accuracy did not improve from 1.00000\n",
            "Epoch 48/100\n",
            "2/2 [==============================] - 34s 17s/step - loss: 0.5833 - accuracy: 0.8125 - val_loss: 0.7285 - val_accuracy: 0.7500\n",
            "\n",
            "Epoch 00048: val_accuracy did not improve from 1.00000\n",
            "Epoch 49/100\n",
            "2/2 [==============================] - 47s 24s/step - loss: 0.5225 - accuracy: 0.8594 - val_loss: 0.4693 - val_accuracy: 0.8438\n",
            "\n",
            "Epoch 00049: val_accuracy did not improve from 1.00000\n",
            "Epoch 50/100\n",
            "2/2 [==============================] - 48s 24s/step - loss: 0.5061 - accuracy: 0.8281 - val_loss: 0.5219 - val_accuracy: 0.7812\n",
            "\n",
            "Epoch 00050: val_accuracy did not improve from 1.00000\n",
            "Epoch 51/100\n",
            "2/2 [==============================] - 47s 24s/step - loss: 0.3787 - accuracy: 0.8906 - val_loss: 0.6820 - val_accuracy: 0.6875\n",
            "\n",
            "Epoch 00051: val_accuracy did not improve from 1.00000\n",
            "Epoch 52/100\n",
            "2/2 [==============================] - 35s 17s/step - loss: 0.4356 - accuracy: 0.8281 - val_loss: 0.2755 - val_accuracy: 1.0000\n",
            "\n",
            "Epoch 00052: val_accuracy did not improve from 1.00000\n",
            "Epoch 53/100\n",
            "2/2 [==============================] - 47s 23s/step - loss: 0.4699 - accuracy: 0.8594 - val_loss: 0.5224 - val_accuracy: 0.7500\n",
            "\n",
            "Epoch 00053: val_accuracy did not improve from 1.00000\n",
            "Epoch 54/100\n",
            "2/2 [==============================] - 47s 24s/step - loss: 0.4567 - accuracy: 0.8594 - val_loss: 0.4566 - val_accuracy: 0.8750\n",
            "\n",
            "Epoch 00054: val_accuracy did not improve from 1.00000\n",
            "Epoch 55/100\n",
            "2/2 [==============================] - 47s 24s/step - loss: 0.4942 - accuracy: 0.8125 - val_loss: 0.5752 - val_accuracy: 0.7188\n",
            "\n",
            "Epoch 00055: val_accuracy did not improve from 1.00000\n",
            "Epoch 56/100\n",
            "2/2 [==============================] - 34s 17s/step - loss: 0.4405 - accuracy: 0.8594 - val_loss: 0.9337 - val_accuracy: 0.5000\n",
            "\n",
            "Epoch 00056: val_accuracy did not improve from 1.00000\n",
            "Epoch 57/100\n",
            "2/2 [==============================] - 47s 24s/step - loss: 0.4737 - accuracy: 0.8125 - val_loss: 0.5006 - val_accuracy: 0.7500\n",
            "\n",
            "Epoch 00057: val_accuracy did not improve from 1.00000\n",
            "Epoch 58/100\n",
            "2/2 [==============================] - 47s 24s/step - loss: 0.5081 - accuracy: 0.8438 - val_loss: 0.5311 - val_accuracy: 0.7500\n",
            "\n",
            "Epoch 00058: val_accuracy did not improve from 1.00000\n",
            "Epoch 59/100\n",
            "2/2 [==============================] - 47s 24s/step - loss: 0.4229 - accuracy: 0.8906 - val_loss: 0.5606 - val_accuracy: 0.8125\n",
            "\n",
            "Epoch 00059: val_accuracy did not improve from 1.00000\n",
            "Epoch 60/100\n",
            "2/2 [==============================] - 34s 17s/step - loss: 0.4952 - accuracy: 0.8906 - val_loss: 0.2019 - val_accuracy: 1.0000\n",
            "\n",
            "Epoch 00060: val_accuracy did not improve from 1.00000\n",
            "Epoch 61/100\n",
            "2/2 [==============================] - 47s 23s/step - loss: 0.5010 - accuracy: 0.7656 - val_loss: 0.4316 - val_accuracy: 0.8438\n",
            "\n",
            "Epoch 00061: val_accuracy did not improve from 1.00000\n",
            "Epoch 62/100\n",
            "2/2 [==============================] - 47s 23s/step - loss: 0.5263 - accuracy: 0.8438 - val_loss: 0.5799 - val_accuracy: 0.7188\n",
            "\n",
            "Epoch 00062: val_accuracy did not improve from 1.00000\n",
            "Epoch 63/100\n",
            "2/2 [==============================] - 48s 24s/step - loss: 0.5582 - accuracy: 0.7969 - val_loss: 0.4910 - val_accuracy: 0.8125\n",
            "\n",
            "Epoch 00063: val_accuracy did not improve from 1.00000\n",
            "Epoch 64/100\n",
            "2/2 [==============================] - 34s 17s/step - loss: 0.3977 - accuracy: 0.8594 - val_loss: 0.7381 - val_accuracy: 0.5000\n",
            "\n",
            "Epoch 00064: val_accuracy did not improve from 1.00000\n",
            "Epoch 65/100\n",
            "2/2 [==============================] - 47s 23s/step - loss: 0.3858 - accuracy: 0.8906 - val_loss: 0.6496 - val_accuracy: 0.6875\n",
            "\n",
            "Epoch 00065: val_accuracy did not improve from 1.00000\n",
            "Epoch 66/100\n",
            "2/2 [==============================] - 47s 23s/step - loss: 0.4168 - accuracy: 0.9219 - val_loss: 0.5110 - val_accuracy: 0.7812\n",
            "\n",
            "Epoch 00066: val_accuracy did not improve from 1.00000\n",
            "Epoch 67/100\n",
            "2/2 [==============================] - 47s 24s/step - loss: 0.4717 - accuracy: 0.8906 - val_loss: 0.3427 - val_accuracy: 0.9375\n",
            "\n",
            "Epoch 00067: val_accuracy did not improve from 1.00000\n",
            "Epoch 68/100\n",
            "2/2 [==============================] - 34s 17s/step - loss: 0.3883 - accuracy: 0.8594 - val_loss: 0.5529 - val_accuracy: 0.5000\n",
            "\n",
            "Epoch 00068: val_accuracy did not improve from 1.00000\n",
            "Epoch 69/100\n",
            "2/2 [==============================] - 46s 23s/step - loss: 0.4222 - accuracy: 0.8125 - val_loss: 0.4791 - val_accuracy: 0.8438\n",
            "\n",
            "Epoch 00069: val_accuracy did not improve from 1.00000\n",
            "Epoch 70/100\n",
            "2/2 [==============================] - 46s 23s/step - loss: 0.4556 - accuracy: 0.8594 - val_loss: 0.3342 - val_accuracy: 0.9062\n",
            "\n",
            "Epoch 00070: val_accuracy did not improve from 1.00000\n",
            "Epoch 71/100\n",
            "2/2 [==============================] - 46s 23s/step - loss: 0.3232 - accuracy: 0.9219 - val_loss: 0.6564 - val_accuracy: 0.6875\n",
            "\n",
            "Epoch 00071: val_accuracy did not improve from 1.00000\n",
            "Epoch 72/100\n",
            "2/2 [==============================] - 34s 17s/step - loss: 0.3819 - accuracy: 0.8594 - val_loss: 0.6347 - val_accuracy: 0.7500\n",
            "\n",
            "Epoch 00072: val_accuracy did not improve from 1.00000\n",
            "Epoch 73/100\n",
            "2/2 [==============================] - 46s 23s/step - loss: 0.5020 - accuracy: 0.8125 - val_loss: 0.2730 - val_accuracy: 0.9688\n",
            "\n",
            "Epoch 00073: val_accuracy did not improve from 1.00000\n",
            "Epoch 74/100\n",
            "2/2 [==============================] - 47s 23s/step - loss: 0.5644 - accuracy: 0.8125 - val_loss: 0.4371 - val_accuracy: 0.8438\n",
            "\n",
            "Epoch 00074: val_accuracy did not improve from 1.00000\n",
            "Epoch 75/100\n",
            "2/2 [==============================] - 47s 23s/step - loss: 0.4092 - accuracy: 0.8750 - val_loss: 0.6017 - val_accuracy: 0.7188\n",
            "\n",
            "Epoch 00075: val_accuracy did not improve from 1.00000\n",
            "Epoch 76/100\n",
            "2/2 [==============================] - 34s 17s/step - loss: 0.3746 - accuracy: 0.9375 - val_loss: 1.6488 - val_accuracy: 0.2500\n",
            "\n",
            "Epoch 00076: val_accuracy did not improve from 1.00000\n",
            "Epoch 77/100\n",
            "2/2 [==============================] - 47s 24s/step - loss: 0.4571 - accuracy: 0.8594 - val_loss: 0.5699 - val_accuracy: 0.7812\n",
            "\n",
            "Epoch 00077: val_accuracy did not improve from 1.00000\n",
            "Epoch 78/100\n",
            "2/2 [==============================] - 48s 24s/step - loss: 0.4031 - accuracy: 0.9375 - val_loss: 0.4263 - val_accuracy: 0.8438\n",
            "\n",
            "Epoch 00078: val_accuracy did not improve from 1.00000\n",
            "Epoch 79/100\n",
            "2/2 [==============================] - 47s 24s/step - loss: 0.4031 - accuracy: 0.8594 - val_loss: 0.4189 - val_accuracy: 0.8125\n",
            "\n",
            "Epoch 00079: val_accuracy did not improve from 1.00000\n",
            "Epoch 80/100\n",
            "2/2 [==============================] - 34s 17s/step - loss: 0.3646 - accuracy: 0.9375 - val_loss: 0.6420 - val_accuracy: 0.5000\n",
            "\n",
            "Epoch 00080: val_accuracy did not improve from 1.00000\n",
            "Epoch 81/100\n",
            "2/2 [==============================] - 46s 23s/step - loss: 0.3962 - accuracy: 0.8281 - val_loss: 0.5710 - val_accuracy: 0.7188\n",
            "\n",
            "Epoch 00081: val_accuracy did not improve from 1.00000\n",
            "Epoch 82/100\n",
            "2/2 [==============================] - 46s 23s/step - loss: 0.3933 - accuracy: 0.8750 - val_loss: 0.5420 - val_accuracy: 0.7188\n",
            "\n",
            "Epoch 00082: val_accuracy did not improve from 1.00000\n",
            "Epoch 83/100\n",
            "2/2 [==============================] - 46s 23s/step - loss: 0.3394 - accuracy: 0.9062 - val_loss: 0.3146 - val_accuracy: 0.9375\n",
            "\n",
            "Epoch 00083: val_accuracy did not improve from 1.00000\n",
            "Epoch 84/100\n",
            "2/2 [==============================] - 34s 17s/step - loss: 0.4189 - accuracy: 0.8906 - val_loss: 0.4889 - val_accuracy: 0.7500\n",
            "\n",
            "Epoch 00084: val_accuracy did not improve from 1.00000\n",
            "Epoch 85/100\n",
            "2/2 [==============================] - 47s 23s/step - loss: 0.3671 - accuracy: 0.8125 - val_loss: 0.4168 - val_accuracy: 0.8438\n",
            "\n",
            "Epoch 00085: val_accuracy did not improve from 1.00000\n",
            "Epoch 86/100\n",
            "2/2 [==============================] - 47s 23s/step - loss: 0.3984 - accuracy: 0.8750 - val_loss: 0.5470 - val_accuracy: 0.8125\n",
            "\n",
            "Epoch 00086: val_accuracy did not improve from 1.00000\n",
            "Epoch 87/100\n",
            "2/2 [==============================] - 46s 23s/step - loss: 0.4808 - accuracy: 0.8438 - val_loss: 0.4408 - val_accuracy: 0.8438\n",
            "\n",
            "Epoch 00087: val_accuracy did not improve from 1.00000\n",
            "Epoch 88/100\n",
            "2/2 [==============================] - 35s 17s/step - loss: 0.3889 - accuracy: 0.8906 - val_loss: 0.3816 - val_accuracy: 0.7500\n",
            "\n",
            "Epoch 00088: val_accuracy did not improve from 1.00000\n",
            "Epoch 89/100\n",
            "2/2 [==============================] - 47s 23s/step - loss: 0.4737 - accuracy: 0.8281 - val_loss: 0.4284 - val_accuracy: 0.8438\n",
            "\n",
            "Epoch 00089: val_accuracy did not improve from 1.00000\n",
            "Epoch 90/100\n",
            "2/2 [==============================] - 47s 23s/step - loss: 0.3864 - accuracy: 0.9375 - val_loss: 0.4827 - val_accuracy: 0.8438\n",
            "\n",
            "Epoch 00090: val_accuracy did not improve from 1.00000\n",
            "Epoch 91/100\n",
            "2/2 [==============================] - 47s 24s/step - loss: 0.3050 - accuracy: 0.9375 - val_loss: 0.4327 - val_accuracy: 0.7500\n",
            "\n",
            "Epoch 00091: val_accuracy did not improve from 1.00000\n",
            "Epoch 92/100\n",
            "2/2 [==============================] - 34s 17s/step - loss: 0.3625 - accuracy: 0.8594 - val_loss: 0.8812 - val_accuracy: 0.5000\n",
            "\n",
            "Epoch 00092: val_accuracy did not improve from 1.00000\n",
            "Epoch 93/100\n",
            "2/2 [==============================] - 47s 24s/step - loss: 0.3197 - accuracy: 0.9219 - val_loss: 0.4598 - val_accuracy: 0.7812\n",
            "\n",
            "Epoch 00093: val_accuracy did not improve from 1.00000\n",
            "Epoch 94/100\n",
            "2/2 [==============================] - 47s 23s/step - loss: 0.3775 - accuracy: 0.9062 - val_loss: 0.4992 - val_accuracy: 0.7812\n",
            "\n",
            "Epoch 00094: val_accuracy did not improve from 1.00000\n",
            "Epoch 95/100\n",
            "2/2 [==============================] - 46s 23s/step - loss: 0.3715 - accuracy: 0.8750 - val_loss: 0.4595 - val_accuracy: 0.8750\n",
            "\n",
            "Epoch 00095: val_accuracy did not improve from 1.00000\n",
            "Epoch 96/100\n",
            "2/2 [==============================] - 34s 17s/step - loss: 0.3366 - accuracy: 0.8906 - val_loss: 0.1844 - val_accuracy: 1.0000\n",
            "\n",
            "Epoch 00096: val_accuracy did not improve from 1.00000\n",
            "Epoch 97/100\n",
            "2/2 [==============================] - 47s 23s/step - loss: 0.4859 - accuracy: 0.8125 - val_loss: 0.4448 - val_accuracy: 0.7812\n",
            "\n",
            "Epoch 00097: val_accuracy did not improve from 1.00000\n",
            "Epoch 98/100\n",
            "2/2 [==============================] - 47s 23s/step - loss: 0.3907 - accuracy: 0.8750 - val_loss: 0.5238 - val_accuracy: 0.8125\n",
            "\n",
            "Epoch 00098: val_accuracy did not improve from 1.00000\n",
            "Epoch 99/100\n",
            "2/2 [==============================] - 47s 23s/step - loss: 0.3330 - accuracy: 0.8750 - val_loss: 0.4013 - val_accuracy: 0.8750\n",
            "\n",
            "Epoch 00099: val_accuracy did not improve from 1.00000\n",
            "Epoch 100/100\n",
            "2/2 [==============================] - 34s 17s/step - loss: 0.3432 - accuracy: 0.8906 - val_loss: 0.4040 - val_accuracy: 0.7500\n",
            "\n",
            "Epoch 00100: val_accuracy did not improve from 1.00000\n"
          ],
          "name": "stdout"
        }
      ]
    },
    {
      "cell_type": "code",
      "metadata": {
        "id": "YtQxWrIlPU_M",
        "colab_type": "code",
        "colab": {
          "base_uri": "https://localhost:8080/",
          "height": 295
        },
        "outputId": "13d6774e-0b51-40a2-ae23-f9e40f1b8791"
      },
      "source": [
        "import matplotlib.pyplot as plt\n",
        "plt.plot(hist.history[\"accuracy\"])\n",
        "plt.plot(hist.history['val_accuracy'])\n",
        "plt.plot(hist.history['loss'])\n",
        "plt.plot(hist.history['val_loss'])\n",
        "plt.title(\"model accuracy\")\n",
        "plt.ylabel(\"Accuracy\")\n",
        "plt.xlabel(\"Epoch\")\n",
        "plt.legend([\"Accuracy\",\"Validation Accuracy\",\"loss\",\"Validation Loss\"])\n",
        "plt.show()"
      ],
      "execution_count": 32,
      "outputs": [
        {
          "output_type": "display_data",
          "data": {
            "image/png": "[encoded data removed]",
            "text/plain": [
              "<Figure size 432x288 with 1 Axes>"
            ]
          },
          "metadata": {
            "tags": [],
            "needs_background": "light"
          }
        }
      ]
    },
    {
      "cell_type": "code",
      "metadata": {
        "id": "_2GdDycwS52M",
        "colab_type": "code",
        "colab": {}
      },
      "source": [
        "from keras.preprocessing.image import ImageDataGenerator\n",
        "from sklearn.metrics import classification_report, confusion_matrix\n",
        "\n",
        "test_datagen = ImageDataGenerator()"
      ],
      "execution_count": 33,
      "outputs": []
    },
    {
      "cell_type": "code",
      "metadata": {
        "id": "9-fknWZIS-CT",
        "colab_type": "code",
        "colab": {
          "base_uri": "https://localhost:8080/",
          "height": 34
        },
        "outputId": "acb7cd3c-3acc-401d-86ca-5fd4cd06ac7d"
      },
      "source": [
        "validation_generator = test_datagen.flow_from_directory('/content/drive/My Drive/data_ouput/test',\n",
        "                                                        target_size=(224, 224),\n",
        "                                                        batch_size=32,\n",
        "                                                        class_mode='categorical')"
      ],
      "execution_count": 34,
      "outputs": [
        {
          "output_type": "stream",
          "text": [
            "Found 100 images belonging to 4 classes.\n"
          ],
          "name": "stdout"
        }
      ]
    },
    {
      "cell_type": "code",
      "metadata": {
        "id": "RSoXpGKcTEnR",
        "colab_type": "code",
        "colab": {
          "base_uri": "https://localhost:8080/",
          "height": 306
        },
        "outputId": "dfbb4de5-3119-46f5-8aaf-f59926d56faa"
      },
      "source": [
        "import numpy as np\n",
        "#Confution Matrix and Classification Report\n",
        "Y_pred = model_final.predict_generator(validation_generator)\n",
        "y_pred = np.argmax(Y_pred, axis=1)\n",
        "print('Confusion Matrix')\n",
        "print(confusion_matrix(validation_generator.classes, y_pred))\n",
        "print('Classification Report')\n",
        "target_names = ['grade0', 'grade1', 'grade2','grade3']\n",
        "print(classification_report(validation_generator.classes, y_pred, target_names=target_names))"
      ],
      "execution_count": 35,
      "outputs": [
        {
          "output_type": "stream",
          "text": [
            "Confusion Matrix\n",
            "[[ 3  6  9  7]\n",
            " [ 6  8  4  7]\n",
            " [ 5 12  5  3]\n",
            " [ 7  5  7  6]]\n",
            "Classification Report\n",
            "              precision    recall  f1-score   support\n",
            "\n",
            "      grade0       0.14      0.12      0.13        25\n",
            "      grade1       0.26      0.32      0.29        25\n",
            "      grade2       0.20      0.20      0.20        25\n",
            "      grade3       0.26      0.24      0.25        25\n",
            "\n",
            "    accuracy                           0.22       100\n",
            "   macro avg       0.22      0.22      0.22       100\n",
            "weighted avg       0.22      0.22      0.22       100\n",
            "\n"
          ],
          "name": "stdout"
        }
      ]
    },
    {
      "cell_type": "code",
      "metadata": {
        "id": "B-E18MG6VMMN",
        "colab_type": "code",
        "colab": {
          "base_uri": "https://localhost:8080/",
          "height": 269
        },
        "outputId": "0d0975c0-846c-492d-ff27-7a67ba6a8f3e"
      },
      "source": [
        "from keras.preprocessing import image\n",
        "import matplotlib.pyplot as plt\n",
        "\n",
        "img = image.load_img(\"/content/drive/My Drive/data_ouput/test/grade1/grade1-079.jpg\",target_size=(224,224))\n",
        "img = np.asarray(img)\n",
        "plt.imshow(img)\n",
        "img = np.expand_dims(img, axis=0)"
      ],
      "execution_count": 36,
      "outputs": [
        {
          "output_type": "display_data",
          "data": {
            "image/png": "[encoded data removed]",
            "text/plain": [
              "<Figure size 432x288 with 1 Axes>"
            ]
          },
          "metadata": {
            "tags": [],
            "needs_background": "light"
          }
        }
      ]
    },
    {
      "cell_type": "code",
      "metadata": {
        "id": "Ux21nwVeV0mE",
        "colab_type": "code",
        "colab": {}
      },
      "source": [
        "output = model_final.predict(img)"
      ],
      "execution_count": 37,
      "outputs": []
    },
    {
      "cell_type": "code",
      "metadata": {
        "id": "crw2NNGyV7kN",
        "colab_type": "code",
        "colab": {
          "base_uri": "https://localhost:8080/",
          "height": 34
        },
        "outputId": "0b4b2cdb-010b-44a5-b765-8a783eb443f7"
      },
      "source": [
        "output\n",
        "ans='grade'+str(np.argmax(output[0],axis=0))\n",
        "print(ans)"
      ],
      "execution_count": 38,
      "outputs": [
        {
          "output_type": "stream",
          "text": [
            "grade1\n"
          ],
          "name": "stdout"
        }
      ]
    },
    {
      "cell_type": "code",
      "metadata": {
        "id": "YbH-5BZmX-K4",
        "colab_type": "code",
        "colab": {
          "base_uri": "https://localhost:8080/",
          "height": 153
        },
        "outputId": "3a333e55-0164-4e33-9c9a-7632a38bf5ab"
      },
      "source": [
        "import os\n",
        "data_path='/content/drive/My Drive/data_ouput/test'\n",
        "data_dir_list=os.listdir(data_path)\n",
        "for dataset in data_dir_list:\n",
        "  print(dataset)\n",
        "  img_list=os.listdir(data_path+'/'+dataset)\n",
        "  correctCount=0\n",
        "  wrongCount=0\n",
        "  for img in img_list:\n",
        "    img_path=data_path+'/'+dataset+'/'+img\n",
        "    input_image = image.load_img(img_path,target_size=(224,224))\n",
        "    input_image = np.asarray(input_image)\n",
        "    input_image = np.expand_dims(input_image, axis=0)\n",
        "    output = model_final.predict(input_image)\n",
        "    ans='grade'+str(np.argmax(output[0],axis=0))\n",
        "    if( ans in img):\n",
        "      correctCount+=1\n",
        "    else:\n",
        "      wrongCount+=1\n",
        "  print(\"correct Count {} WrongCount {}\".format(correctCount,wrongCount))\n",
        "\n",
        "\n"
      ],
      "execution_count": 39,
      "outputs": [
        {
          "output_type": "stream",
          "text": [
            "grade1\n",
            "correct Count 21 WrongCount 4\n",
            "grade0\n",
            "correct Count 21 WrongCount 4\n",
            "grade2\n",
            "correct Count 23 WrongCount 2\n",
            "grade3\n",
            "correct Count 20 WrongCount 5\n"
          ],
          "name": "stdout"
        }
      ]
    },
    {
      "cell_type": "code",
      "metadata": {
        "id": "PiiV053i4At7",
        "colab_type": "code",
        "colab": {}
      },
      "source": [
        "model_final.save('/content/drive/My Drive/Best models/modelbest.h5')"
      ],
      "execution_count": null,
      "outputs": []
    }
  ]
}