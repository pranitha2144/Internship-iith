{
  "nbformat": 4,
  "nbformat_minor": 0,
  "metadata": {
    "colab": {
      "name": "vgg16",
      "provenance": [],
      "collapsed_sections": [],
      "mount_file_id": "1IhyoGy7EHEgj120Y7aEt15WFbYJP6aXH",
      "authorship_tag": "ABX9TyPRYsQpPBzEPIN1/gF2rZhs",
      "include_colab_link": true
    },
    "kernelspec": {
      "name": "python3",
      "display_name": "Python 3"
    }
  },
  "cells": [
    {
      "cell_type": "markdown",
      "metadata": {
        "id": "view-in-github",
        "colab_type": "text"
      },
      "source": [
        "<a href=\"https://colab.research.google.com/github/pranitha2144/Internship-iith/blob/Resnet/vgg16.ipynb\" target=\"_parent\"><img src=\"https://colab.research.google.com/assets/colab-badge.svg\" alt=\"Open In Colab\"/></a>"
      ]
    },
    {
      "cell_type": "code",
      "metadata": {
        "id": "3i-5qcxM7pSC",
        "colab_type": "code",
        "colab": {
          "base_uri": "https://localhost:8080/",
          "height": 34
        },
        "outputId": "f6ab51f8-3ccf-49a6-8ace-429cb135318a"
      },
      "source": [
        "import keras\n",
        "from keras.models import Model\n",
        "from keras.layers import Dense,Dropout\n",
        "from keras import optimizers\n",
        "from keras.preprocessing.image import ImageDataGenerator\n",
        "from keras.preprocessing import image"
      ],
      "execution_count": null,
      "outputs": [
        {
          "output_type": "stream",
          "text": [
            "Using TensorFlow backend.\n"
          ],
          "name": "stderr"
        }
      ]
    },
    {
      "cell_type": "code",
      "metadata": {
        "id": "JKBtzsJojptA",
        "colab_type": "code",
        "colab": {
          "base_uri": "https://localhost:8080/",
          "height": 105
        },
        "outputId": "7b464c53-dc53-495f-9ad2-bdedc7f446d2"
      },
      "source": [
        "!pip install split_folders"
      ],
      "execution_count": null,
      "outputs": [
        {
          "output_type": "stream",
          "text": [
            "Collecting split_folders\n",
            "  Downloading https://files.pythonhosted.org/packages/20/67/29dda743e6d23ac1ea3d16704d8bbb48d65faf3f1b1eaf53153b3da56c56/split_folders-0.3.1-py3-none-any.whl\n",
            "Installing collected packages: split-folders\n",
            "Successfully installed split-folders-0.3.1\n"
          ],
          "name": "stdout"
        }
      ]
    },
    {
      "cell_type": "code",
      "metadata": {
        "id": "hzM7ojOkjaiK",
        "colab_type": "code",
        "colab": {
          "base_uri": "https://localhost:8080/",
          "height": 387
        },
        "outputId": "dc753673-3f35-4f87-9596-baf1742db8e1"
      },
      "source": [
        "import split_folders\n",
        "\n",
        "# Split with a ratio.\n",
        "# To only split into training and validation set, set a tuple to `ratio`, i.e, `(.8, .2)`.\n",
        "#split_folders.ratio('/content/drive/My Drive/data-liverdisease', output=\"/content/drive/My Drive/data_output1\", seed=1337, ratio=(.7, .2,.1)) # default values\n"
      ],
      "execution_count": null,
      "outputs": [
        {
          "output_type": "error",
          "ename": "ModuleNotFoundError",
          "evalue": "ignored",
          "traceback": [
            "\u001b[0;31m---------------------------------------------------------------------------\u001b[0m",
            "\u001b[0;31mModuleNotFoundError\u001b[0m                       Traceback (most recent call last)",
            "\u001b[0;32m<ipython-input-22-1e2d4348afb7>\u001b[0m in \u001b[0;36m<module>\u001b[0;34m()\u001b[0m\n\u001b[0;32m----> 1\u001b[0;31m \u001b[0;32mimport\u001b[0m \u001b[0msplit_folders\u001b[0m\u001b[0;34m\u001b[0m\u001b[0;34m\u001b[0m\u001b[0m\n\u001b[0m\u001b[1;32m      2\u001b[0m \u001b[0;34m\u001b[0m\u001b[0m\n\u001b[1;32m      3\u001b[0m \u001b[0;31m# Split with a ratio.\u001b[0m\u001b[0;34m\u001b[0m\u001b[0;34m\u001b[0m\u001b[0;34m\u001b[0m\u001b[0m\n\u001b[1;32m      4\u001b[0m \u001b[0;31m# To only split into training and validation set, set a tuple to `ratio`, i.e, `(.8, .2)`.\u001b[0m\u001b[0;34m\u001b[0m\u001b[0;34m\u001b[0m\u001b[0;34m\u001b[0m\u001b[0m\n\u001b[1;32m      5\u001b[0m \u001b[0;31m#split_folders.ratio('/content/drive/My Drive/data-liverdisease', output=\"/content/drive/My Drive/data_output1\", seed=1337, ratio=(.7, .2,.1)) # default values\u001b[0m\u001b[0;34m\u001b[0m\u001b[0;34m\u001b[0m\u001b[0;34m\u001b[0m\u001b[0m\n",
            "\u001b[0;31mModuleNotFoundError\u001b[0m: No module named 'split_folders'",
            "",
            "\u001b[0;31m---------------------------------------------------------------------------\u001b[0;32m\nNOTE: If your import is failing due to a missing package, you can\nmanually install dependencies using either !pip or !apt.\n\nTo view examples of installing some common dependencies, click the\n\"Open Examples\" button below.\n\u001b[0;31m---------------------------------------------------------------------------\u001b[0m\n"
          ]
        }
      ]
    },
    {
      "cell_type": "code",
      "metadata": {
        "id": "P_NCAugx70fs",
        "colab_type": "code",
        "colab": {
          "base_uri": "https://localhost:8080/",
          "height": 51
        },
        "outputId": "5f1c6aa2-a824-4f03-8ea5-7f0c4fc4eb58"
      },
      "source": [
        "trdata = ImageDataGenerator()\n",
        "traindata = trdata.flow_from_directory(directory=\"/content/drive/My Drive/data_ouput/train\",target_size=(224,224))\n",
        "tsdata = ImageDataGenerator()\n",
        "testdata = tsdata.flow_from_directory(directory=\"/content/drive/My Drive/data_ouput/val\", target_size=(224,224))"
      ],
      "execution_count": null,
      "outputs": [
        {
          "output_type": "stream",
          "text": [
            "Found 800 images belonging to 4 classes.\n",
            "Found 100 images belonging to 4 classes.\n"
          ],
          "name": "stdout"
        }
      ]
    },
    {
      "cell_type": "code",
      "metadata": {
        "id": "rg_JdtWb8O00",
        "colab_type": "code",
        "colab": {
          "base_uri": "https://localhost:8080/",
          "height": 51
        },
        "outputId": "9df0e2db-946c-4f0b-d06d-05a81ad943b9"
      },
      "source": [
        "from keras.applications.vgg19 import VGG19\n",
        "vggmodel = VGG19(weights='imagenet', include_top=True)"
      ],
      "execution_count": null,
      "outputs": [
        {
          "output_type": "stream",
          "text": [
            "Downloading data from https://github.com/fchollet/deep-learning-models/releases/download/v0.1/vgg19_weights_tf_dim_ordering_tf_kernels.h5\n",
            "574717952/574710816 [==============================] - 12s 0us/step\n"
          ],
          "name": "stdout"
        }
      ]
    },
    {
      "cell_type": "code",
      "metadata": {
        "id": "PKuEFjHt8TfJ",
        "colab_type": "code",
        "colab": {
          "base_uri": "https://localhost:8080/",
          "height": 1000
        },
        "outputId": "245770a8-dea0-4a42-fb06-e6bc914faaeb"
      },
      "source": [
        "vggmodel.summary()"
      ],
      "execution_count": null,
      "outputs": [
        {
          "output_type": "stream",
          "text": [
            "Model: \"vgg19\"\n",
            "_________________________________________________________________\n",
            "Layer (type)                 Output Shape              Param #   \n",
            "=================================================================\n",
            "input_1 (InputLayer)         (None, 224, 224, 3)       0         \n",
            "_________________________________________________________________\n",
            "block1_conv1 (Conv2D)        (None, 224, 224, 64)      1792      \n",
            "_________________________________________________________________\n",
            "block1_conv2 (Conv2D)        (None, 224, 224, 64)      36928     \n",
            "_________________________________________________________________\n",
            "block1_pool (MaxPooling2D)   (None, 112, 112, 64)      0         \n",
            "_________________________________________________________________\n",
            "block2_conv1 (Conv2D)        (None, 112, 112, 128)     73856     \n",
            "_________________________________________________________________\n",
            "block2_conv2 (Conv2D)        (None, 112, 112, 128)     147584    \n",
            "_________________________________________________________________\n",
            "block2_pool (MaxPooling2D)   (None, 56, 56, 128)       0         \n",
            "_________________________________________________________________\n",
            "block3_conv1 (Conv2D)        (None, 56, 56, 256)       295168    \n",
            "_________________________________________________________________\n",
            "block3_conv2 (Conv2D)        (None, 56, 56, 256)       590080    \n",
            "_________________________________________________________________\n",
            "block3_conv3 (Conv2D)        (None, 56, 56, 256)       590080    \n",
            "_________________________________________________________________\n",
            "block3_conv4 (Conv2D)        (None, 56, 56, 256)       590080    \n",
            "_________________________________________________________________\n",
            "block3_pool (MaxPooling2D)   (None, 28, 28, 256)       0         \n",
            "_________________________________________________________________\n",
            "block4_conv1 (Conv2D)        (None, 28, 28, 512)       1180160   \n",
            "_________________________________________________________________\n",
            "block4_conv2 (Conv2D)        (None, 28, 28, 512)       2359808   \n",
            "_________________________________________________________________\n",
            "block4_conv3 (Conv2D)        (None, 28, 28, 512)       2359808   \n",
            "_________________________________________________________________\n",
            "block4_conv4 (Conv2D)        (None, 28, 28, 512)       2359808   \n",
            "_________________________________________________________________\n",
            "block4_pool (MaxPooling2D)   (None, 14, 14, 512)       0         \n",
            "_________________________________________________________________\n",
            "block5_conv1 (Conv2D)        (None, 14, 14, 512)       2359808   \n",
            "_________________________________________________________________\n",
            "block5_conv2 (Conv2D)        (None, 14, 14, 512)       2359808   \n",
            "_________________________________________________________________\n",
            "block5_conv3 (Conv2D)        (None, 14, 14, 512)       2359808   \n",
            "_________________________________________________________________\n",
            "block5_conv4 (Conv2D)        (None, 14, 14, 512)       2359808   \n",
            "_________________________________________________________________\n",
            "block5_pool (MaxPooling2D)   (None, 7, 7, 512)         0         \n",
            "_________________________________________________________________\n",
            "flatten (Flatten)            (None, 25088)             0         \n",
            "_________________________________________________________________\n",
            "fc1 (Dense)                  (None, 4096)              102764544 \n",
            "_________________________________________________________________\n",
            "fc2 (Dense)                  (None, 4096)              16781312  \n",
            "_________________________________________________________________\n",
            "predictions (Dense)          (None, 1000)              4097000   \n",
            "=================================================================\n",
            "Total params: 143,667,240\n",
            "Trainable params: 143,667,240\n",
            "Non-trainable params: 0\n",
            "_________________________________________________________________\n"
          ],
          "name": "stdout"
        }
      ]
    },
    {
      "cell_type": "code",
      "metadata": {
        "id": "GG60hKI68aWo",
        "colab_type": "code",
        "colab": {
          "base_uri": "https://localhost:8080/",
          "height": 442
        },
        "outputId": "95b0e062-d4f9-4068-830a-9f8a018dbd4c"
      },
      "source": [
        "for layers in (vggmodel.layers)[:-1]:\n",
        "    print(layers)\n",
        "    layers.trainable = False"
      ],
      "execution_count": null,
      "outputs": [
        {
          "output_type": "stream",
          "text": [
            "<keras.engine.input_layer.InputLayer object at 0x7f5fbb69a6d8>\n",
            "<keras.layers.convolutional.Conv2D object at 0x7f5fbb69ad68>\n",
            "<keras.layers.convolutional.Conv2D object at 0x7f5fbb674438>\n",
            "<keras.layers.pooling.MaxPooling2D object at 0x7f5fbb69a828>\n",
            "<keras.layers.convolutional.Conv2D object at 0x7f5f78b1e7b8>\n",
            "<keras.layers.convolutional.Conv2D object at 0x7f5f77a94668>\n",
            "<keras.layers.pooling.MaxPooling2D object at 0x7f5f77a94e10>\n",
            "<keras.layers.convolutional.Conv2D object at 0x7f5f77a9d208>\n",
            "<keras.layers.convolutional.Conv2D object at 0x7f5f77a9dda0>\n",
            "<keras.layers.convolutional.Conv2D object at 0x7f5f77aa2978>\n",
            "<keras.layers.convolutional.Conv2D object at 0x7f5f77aa7438>\n",
            "<keras.layers.pooling.MaxPooling2D object at 0x7f5f77aa7eb8>\n",
            "<keras.layers.convolutional.Conv2D object at 0x7f5f77aa7cc0>\n",
            "<keras.layers.convolutional.Conv2D object at 0x7f5f77aaef98>\n",
            "<keras.layers.convolutional.Conv2D object at 0x7f5f77ab6630>\n",
            "<keras.layers.convolutional.Conv2D object at 0x7f5f77ab6e48>\n",
            "<keras.layers.pooling.MaxPooling2D object at 0x7f5f77abeb70>\n",
            "<keras.layers.convolutional.Conv2D object at 0x7f5f77abe978>\n",
            "<keras.layers.convolutional.Conv2D object at 0x7f5f77ac46d8>\n",
            "<keras.layers.convolutional.Conv2D object at 0x7f5f77ac4e80>\n",
            "<keras.layers.convolutional.Conv2D object at 0x7f5f77accd68>\n",
            "<keras.layers.pooling.MaxPooling2D object at 0x7f5f77a52828>\n",
            "<keras.layers.core.Flatten object at 0x7f5f77a52630>\n",
            "<keras.layers.core.Dense object at 0x7f5f77a528d0>\n",
            "<keras.layers.core.Dense object at 0x7f5f77a672b0>\n"
          ],
          "name": "stdout"
        }
      ]
    },
    {
      "cell_type": "code",
      "metadata": {
        "id": "59taDHdJ8ikh",
        "colab_type": "code",
        "colab": {
          "base_uri": "https://localhost:8080/",
          "height": 71
        },
        "outputId": "81f893f4-590d-4e96-a3d7-e5eaf81ca6df"
      },
      "source": [
        "from tensorflow.keras import regularizers\n",
        "X= vggmodel.layers[-2].output\n",
        "\n",
        "predictions = Dense(4, activation=\"softmax\")(X)\n",
        "model_final = Model(input = vggmodel.input, output = predictions)\n"
      ],
      "execution_count": null,
      "outputs": [
        {
          "output_type": "stream",
          "text": [
            "/usr/local/lib/python3.6/dist-packages/ipykernel_launcher.py:5: UserWarning: Update your `Model` call to the Keras 2 API: `Model(inputs=Tensor(\"in..., outputs=Tensor(\"de...)`\n",
            "  \"\"\"\n"
          ],
          "name": "stderr"
        }
      ]
    },
    {
      "cell_type": "code",
      "metadata": {
        "id": "4ZRoo4eZIZMv",
        "colab_type": "code",
        "colab": {
          "base_uri": "https://localhost:8080/",
          "height": 459
        },
        "outputId": "29edc6b9-25ba-4148-943d-9012c87e490b"
      },
      "source": [
        "for i in vggmodel.layers:\n",
        "  print(i.trainable)"
      ],
      "execution_count": null,
      "outputs": [
        {
          "output_type": "stream",
          "text": [
            "False\n",
            "False\n",
            "False\n",
            "False\n",
            "False\n",
            "False\n",
            "False\n",
            "False\n",
            "False\n",
            "False\n",
            "False\n",
            "False\n",
            "False\n",
            "False\n",
            "False\n",
            "False\n",
            "False\n",
            "False\n",
            "False\n",
            "False\n",
            "False\n",
            "False\n",
            "False\n",
            "False\n",
            "False\n",
            "True\n"
          ],
          "name": "stdout"
        }
      ]
    },
    {
      "cell_type": "code",
      "metadata": {
        "id": "vFYbGbdq8vg8",
        "colab_type": "code",
        "colab": {}
      },
      "source": [
        "model_final.compile(loss = \"categorical_crossentropy\", optimizer = keras.optimizers.Adam(lr=0.0001), metrics=[\"accuracy\"])"
      ],
      "execution_count": 24,
      "outputs": []
    },
    {
      "cell_type": "code",
      "metadata": {
        "id": "i6yUCcd08xum",
        "colab_type": "code",
        "colab": {
          "base_uri": "https://localhost:8080/",
          "height": 1000
        },
        "outputId": "29ffe95f-69f3-497e-c5fc-d8dbbeb84e44"
      },
      "source": [
        "model_final.summary()"
      ],
      "execution_count": null,
      "outputs": [
        {
          "output_type": "stream",
          "text": [
            "Model: \"model_1\"\n",
            "_________________________________________________________________\n",
            "Layer (type)                 Output Shape              Param #   \n",
            "=================================================================\n",
            "input_1 (InputLayer)         (None, 224, 224, 3)       0         \n",
            "_________________________________________________________________\n",
            "block1_conv1 (Conv2D)        (None, 224, 224, 64)      1792      \n",
            "_________________________________________________________________\n",
            "block1_conv2 (Conv2D)        (None, 224, 224, 64)      36928     \n",
            "_________________________________________________________________\n",
            "block1_pool (MaxPooling2D)   (None, 112, 112, 64)      0         \n",
            "_________________________________________________________________\n",
            "block2_conv1 (Conv2D)        (None, 112, 112, 128)     73856     \n",
            "_________________________________________________________________\n",
            "block2_conv2 (Conv2D)        (None, 112, 112, 128)     147584    \n",
            "_________________________________________________________________\n",
            "block2_pool (MaxPooling2D)   (None, 56, 56, 128)       0         \n",
            "_________________________________________________________________\n",
            "block3_conv1 (Conv2D)        (None, 56, 56, 256)       295168    \n",
            "_________________________________________________________________\n",
            "block3_conv2 (Conv2D)        (None, 56, 56, 256)       590080    \n",
            "_________________________________________________________________\n",
            "block3_conv3 (Conv2D)        (None, 56, 56, 256)       590080    \n",
            "_________________________________________________________________\n",
            "block3_conv4 (Conv2D)        (None, 56, 56, 256)       590080    \n",
            "_________________________________________________________________\n",
            "block3_pool (MaxPooling2D)   (None, 28, 28, 256)       0         \n",
            "_________________________________________________________________\n",
            "block4_conv1 (Conv2D)        (None, 28, 28, 512)       1180160   \n",
            "_________________________________________________________________\n",
            "block4_conv2 (Conv2D)        (None, 28, 28, 512)       2359808   \n",
            "_________________________________________________________________\n",
            "block4_conv3 (Conv2D)        (None, 28, 28, 512)       2359808   \n",
            "_________________________________________________________________\n",
            "block4_conv4 (Conv2D)        (None, 28, 28, 512)       2359808   \n",
            "_________________________________________________________________\n",
            "block4_pool (MaxPooling2D)   (None, 14, 14, 512)       0         \n",
            "_________________________________________________________________\n",
            "block5_conv1 (Conv2D)        (None, 14, 14, 512)       2359808   \n",
            "_________________________________________________________________\n",
            "block5_conv2 (Conv2D)        (None, 14, 14, 512)       2359808   \n",
            "_________________________________________________________________\n",
            "block5_conv3 (Conv2D)        (None, 14, 14, 512)       2359808   \n",
            "_________________________________________________________________\n",
            "block5_conv4 (Conv2D)        (None, 14, 14, 512)       2359808   \n",
            "_________________________________________________________________\n",
            "block5_pool (MaxPooling2D)   (None, 7, 7, 512)         0         \n",
            "_________________________________________________________________\n",
            "flatten (Flatten)            (None, 25088)             0         \n",
            "_________________________________________________________________\n",
            "fc1 (Dense)                  (None, 4096)              102764544 \n",
            "_________________________________________________________________\n",
            "fc2 (Dense)                  (None, 4096)              16781312  \n",
            "_________________________________________________________________\n",
            "dense_1 (Dense)              (None, 4)                 16388     \n",
            "=================================================================\n",
            "Total params: 139,586,628\n",
            "Trainable params: 16,388\n",
            "Non-trainable params: 139,570,240\n",
            "_________________________________________________________________\n"
          ],
          "name": "stdout"
        }
      ]
    },
    {
      "cell_type": "code",
      "metadata": {
        "id": "UIV1Rie889QA",
        "colab_type": "code",
        "colab": {
          "base_uri": "https://localhost:8080/",
          "height": 1000
        },
        "outputId": "b309fbd0-8eed-424d-85c2-e402825278c0"
      },
      "source": [
        "from keras.callbacks import ModelCheckpoint, EarlyStopping\n",
        "checkpoint = ModelCheckpoint(\"vgg19_1.h5\", monitor='val_accuracy', verbose=1, save_best_only=True, save_weights_only=False, mode='auto', period=1)\n",
        "early = EarlyStopping(monitor='val_acc', min_delta=0, patience=40, verbose=1, mode='auto')\n",
        "hist=model_final.fit(traindata, steps_per_epoch= 2, epochs= 100, validation_data= testdata, validation_steps=1, callbacks=[checkpoint,early])\n",
        "model_final.save_weights(\"vgg19_1.h5\")"
      ],
      "execution_count": 25,
      "outputs": [
        {
          "output_type": "stream",
          "text": [
            "Epoch 1/100\n",
            "2/2 [==============================] - 60s 30s/step - loss: 0.5385 - accuracy: 0.8906 - val_loss: 0.6745 - val_accuracy: 0.7812\n",
            "\n",
            "Epoch 00001: val_accuracy improved from -inf to 0.78125, saving model to vgg19_1.h5\n"
          ],
          "name": "stdout"
        },
        {
          "output_type": "stream",
          "text": [
            "/usr/local/lib/python3.6/dist-packages/keras/callbacks/callbacks.py:846: RuntimeWarning: Early stopping conditioned on metric `val_acc` which is not available. Available metrics are: val_loss,val_accuracy,loss,accuracy\n",
            "  (self.monitor, ','.join(list(logs.keys()))), RuntimeWarning\n"
          ],
          "name": "stderr"
        },
        {
          "output_type": "stream",
          "text": [
            "Epoch 2/100\n",
            "2/2 [==============================] - 60s 30s/step - loss: 0.6611 - accuracy: 0.7344 - val_loss: 0.5859 - val_accuracy: 0.8438\n",
            "\n",
            "Epoch 00002: val_accuracy improved from 0.78125 to 0.84375, saving model to vgg19_1.h5\n",
            "Epoch 3/100\n",
            "2/2 [==============================] - 61s 31s/step - loss: 0.5810 - accuracy: 0.7812 - val_loss: 0.6413 - val_accuracy: 0.7812\n",
            "\n",
            "Epoch 00003: val_accuracy did not improve from 0.84375\n",
            "Epoch 4/100\n",
            "2/2 [==============================] - 42s 21s/step - loss: 0.6544 - accuracy: 0.7969 - val_loss: 0.4891 - val_accuracy: 1.0000\n",
            "\n",
            "Epoch 00004: val_accuracy improved from 0.84375 to 1.00000, saving model to vgg19_1.h5\n",
            "Epoch 5/100\n",
            "2/2 [==============================] - 60s 30s/step - loss: 0.4907 - accuracy: 0.8438 - val_loss: 0.6932 - val_accuracy: 0.6562\n",
            "\n",
            "Epoch 00005: val_accuracy did not improve from 1.00000\n",
            "Epoch 6/100\n",
            "2/2 [==============================] - 60s 30s/step - loss: 0.5421 - accuracy: 0.8438 - val_loss: 0.5224 - val_accuracy: 0.9062\n",
            "\n",
            "Epoch 00006: val_accuracy did not improve from 1.00000\n",
            "Epoch 7/100\n",
            "2/2 [==============================] - 60s 30s/step - loss: 0.7292 - accuracy: 0.7812 - val_loss: 0.5390 - val_accuracy: 0.8750\n",
            "\n",
            "Epoch 00007: val_accuracy did not improve from 1.00000\n",
            "Epoch 8/100\n",
            "2/2 [==============================] - 42s 21s/step - loss: 0.6226 - accuracy: 0.7812 - val_loss: 0.8573 - val_accuracy: 0.5000\n",
            "\n",
            "Epoch 00008: val_accuracy did not improve from 1.00000\n",
            "Epoch 9/100\n",
            "2/2 [==============================] - 60s 30s/step - loss: 0.5389 - accuracy: 0.8594 - val_loss: 0.6708 - val_accuracy: 0.7500\n",
            "\n",
            "Epoch 00009: val_accuracy did not improve from 1.00000\n",
            "Epoch 10/100\n",
            "2/2 [==============================] - 60s 30s/step - loss: 0.6488 - accuracy: 0.8125 - val_loss: 0.5609 - val_accuracy: 0.7812\n",
            "\n",
            "Epoch 00010: val_accuracy did not improve from 1.00000\n",
            "Epoch 11/100\n",
            "2/2 [==============================] - 60s 30s/step - loss: 0.6580 - accuracy: 0.7969 - val_loss: 0.5107 - val_accuracy: 0.8125\n",
            "\n",
            "Epoch 00011: val_accuracy did not improve from 1.00000\n",
            "Epoch 12/100\n",
            "2/2 [==============================] - 42s 21s/step - loss: 0.5437 - accuracy: 0.8750 - val_loss: 0.3618 - val_accuracy: 1.0000\n",
            "\n",
            "Epoch 00012: val_accuracy did not improve from 1.00000\n",
            "Epoch 13/100\n",
            "2/2 [==============================] - 60s 30s/step - loss: 0.5461 - accuracy: 0.7812 - val_loss: 0.6198 - val_accuracy: 0.7500\n",
            "\n",
            "Epoch 00013: val_accuracy did not improve from 1.00000\n",
            "Epoch 14/100\n",
            "2/2 [==============================] - 61s 31s/step - loss: 0.5618 - accuracy: 0.7969 - val_loss: 0.5544 - val_accuracy: 0.8438\n",
            "\n",
            "Epoch 00014: val_accuracy did not improve from 1.00000\n",
            "Epoch 15/100\n",
            "2/2 [==============================] - 60s 30s/step - loss: 0.4891 - accuracy: 0.8125 - val_loss: 0.4958 - val_accuracy: 0.8438\n",
            "\n",
            "Epoch 00015: val_accuracy did not improve from 1.00000\n",
            "Epoch 16/100\n",
            "2/2 [==============================] - 42s 21s/step - loss: 0.5175 - accuracy: 0.8438 - val_loss: 0.4313 - val_accuracy: 0.7500\n",
            "\n",
            "Epoch 00016: val_accuracy did not improve from 1.00000\n",
            "Epoch 17/100\n",
            "2/2 [==============================] - 60s 30s/step - loss: 0.4624 - accuracy: 0.9219 - val_loss: 0.6264 - val_accuracy: 0.7500\n",
            "\n",
            "Epoch 00017: val_accuracy did not improve from 1.00000\n",
            "Epoch 18/100\n",
            "2/2 [==============================] - 60s 30s/step - loss: 0.5202 - accuracy: 0.8125 - val_loss: 0.3968 - val_accuracy: 0.9062\n",
            "\n",
            "Epoch 00018: val_accuracy did not improve from 1.00000\n",
            "Epoch 19/100\n",
            "2/2 [==============================] - 60s 30s/step - loss: 0.6065 - accuracy: 0.7500 - val_loss: 0.5888 - val_accuracy: 0.7812\n",
            "\n",
            "Epoch 00019: val_accuracy did not improve from 1.00000\n",
            "Epoch 20/100\n",
            "2/2 [==============================] - 42s 21s/step - loss: 0.5032 - accuracy: 0.8594 - val_loss: 0.5165 - val_accuracy: 0.7500\n",
            "\n",
            "Epoch 00020: val_accuracy did not improve from 1.00000\n",
            "Epoch 21/100\n",
            "2/2 [==============================] - 60s 30s/step - loss: 0.4598 - accuracy: 0.8125 - val_loss: 0.4717 - val_accuracy: 0.8438\n",
            "\n",
            "Epoch 00021: val_accuracy did not improve from 1.00000\n",
            "Epoch 22/100\n",
            "2/2 [==============================] - 60s 30s/step - loss: 0.4590 - accuracy: 0.8906 - val_loss: 0.4493 - val_accuracy: 0.8750\n",
            "\n",
            "Epoch 00022: val_accuracy did not improve from 1.00000\n",
            "Epoch 23/100\n",
            "2/2 [==============================] - 60s 30s/step - loss: 0.6370 - accuracy: 0.7812 - val_loss: 0.6359 - val_accuracy: 0.7812\n",
            "\n",
            "Epoch 00023: val_accuracy did not improve from 1.00000\n",
            "Epoch 24/100\n",
            "2/2 [==============================] - 43s 22s/step - loss: 0.5381 - accuracy: 0.8594 - val_loss: 0.6172 - val_accuracy: 0.7500\n",
            "\n",
            "Epoch 00024: val_accuracy did not improve from 1.00000\n",
            "Epoch 25/100\n",
            "2/2 [==============================] - 61s 31s/step - loss: 0.5393 - accuracy: 0.8125 - val_loss: 0.4184 - val_accuracy: 0.9375\n",
            "\n",
            "Epoch 00025: val_accuracy did not improve from 1.00000\n",
            "Epoch 26/100\n",
            "2/2 [==============================] - 60s 30s/step - loss: 0.4675 - accuracy: 0.8281 - val_loss: 0.5763 - val_accuracy: 0.7188\n",
            "\n",
            "Epoch 00026: val_accuracy did not improve from 1.00000\n",
            "Epoch 27/100\n",
            "2/2 [==============================] - 60s 30s/step - loss: 0.4806 - accuracy: 0.8438 - val_loss: 0.5205 - val_accuracy: 0.7812\n",
            "\n",
            "Epoch 00027: val_accuracy did not improve from 1.00000\n",
            "Epoch 28/100\n",
            "2/2 [==============================] - 42s 21s/step - loss: 0.5177 - accuracy: 0.7812 - val_loss: 0.6608 - val_accuracy: 0.7500\n",
            "\n",
            "Epoch 00028: val_accuracy did not improve from 1.00000\n",
            "Epoch 29/100\n",
            "2/2 [==============================] - 60s 30s/step - loss: 0.4628 - accuracy: 0.8281 - val_loss: 0.4461 - val_accuracy: 0.9062\n",
            "\n",
            "Epoch 00029: val_accuracy did not improve from 1.00000\n",
            "Epoch 30/100\n",
            "2/2 [==============================] - 60s 30s/step - loss: 0.4532 - accuracy: 0.7969 - val_loss: 0.4865 - val_accuracy: 0.7812\n",
            "\n",
            "Epoch 00030: val_accuracy did not improve from 1.00000\n",
            "Epoch 31/100\n",
            "2/2 [==============================] - 60s 30s/step - loss: 0.4528 - accuracy: 0.8281 - val_loss: 0.5945 - val_accuracy: 0.7188\n",
            "\n",
            "Epoch 00031: val_accuracy did not improve from 1.00000\n",
            "Epoch 32/100\n",
            "2/2 [==============================] - 43s 21s/step - loss: 0.4237 - accuracy: 0.8594 - val_loss: 0.4008 - val_accuracy: 0.7500\n",
            "\n",
            "Epoch 00032: val_accuracy did not improve from 1.00000\n",
            "Epoch 33/100\n",
            "2/2 [==============================] - 60s 30s/step - loss: 0.4629 - accuracy: 0.8594 - val_loss: 0.5370 - val_accuracy: 0.7188\n",
            "\n",
            "Epoch 00033: val_accuracy did not improve from 1.00000\n",
            "Epoch 34/100\n",
            "2/2 [==============================] - 60s 30s/step - loss: 0.5592 - accuracy: 0.8281 - val_loss: 0.5423 - val_accuracy: 0.8125\n",
            "\n",
            "Epoch 00034: val_accuracy did not improve from 1.00000\n",
            "Epoch 35/100\n",
            "2/2 [==============================] - 60s 30s/step - loss: 0.5864 - accuracy: 0.8125 - val_loss: 0.4257 - val_accuracy: 0.8750\n",
            "\n",
            "Epoch 00035: val_accuracy did not improve from 1.00000\n",
            "Epoch 36/100\n",
            "2/2 [==============================] - 42s 21s/step - loss: 0.5173 - accuracy: 0.8594 - val_loss: 0.2194 - val_accuracy: 1.0000\n",
            "\n",
            "Epoch 00036: val_accuracy did not improve from 1.00000\n",
            "Epoch 37/100\n",
            "2/2 [==============================] - 61s 31s/step - loss: 0.4423 - accuracy: 0.8438 - val_loss: 0.3601 - val_accuracy: 0.8750\n",
            "\n",
            "Epoch 00037: val_accuracy did not improve from 1.00000\n",
            "Epoch 38/100\n",
            "2/2 [==============================] - 60s 30s/step - loss: 0.4809 - accuracy: 0.7969 - val_loss: 0.5013 - val_accuracy: 0.8438\n",
            "\n",
            "Epoch 00038: val_accuracy did not improve from 1.00000\n",
            "Epoch 39/100\n",
            "2/2 [==============================] - 60s 30s/step - loss: 0.3619 - accuracy: 0.9375 - val_loss: 0.5434 - val_accuracy: 0.7188\n",
            "\n",
            "Epoch 00039: val_accuracy did not improve from 1.00000\n",
            "Epoch 40/100\n",
            "2/2 [==============================] - 43s 21s/step - loss: 0.5383 - accuracy: 0.7812 - val_loss: 0.8887 - val_accuracy: 0.7500\n",
            "\n",
            "Epoch 00040: val_accuracy did not improve from 1.00000\n",
            "Epoch 41/100\n",
            "2/2 [==============================] - 60s 30s/step - loss: 0.3812 - accuracy: 0.8750 - val_loss: 0.5338 - val_accuracy: 0.7812\n",
            "\n",
            "Epoch 00041: val_accuracy did not improve from 1.00000\n",
            "Epoch 42/100\n",
            "2/2 [==============================] - 60s 30s/step - loss: 0.4245 - accuracy: 0.8750 - val_loss: 0.4513 - val_accuracy: 0.8750\n",
            "\n",
            "Epoch 00042: val_accuracy did not improve from 1.00000\n",
            "Epoch 43/100\n",
            "2/2 [==============================] - 59s 30s/step - loss: 0.4864 - accuracy: 0.8281 - val_loss: 0.4598 - val_accuracy: 0.8125\n",
            "\n",
            "Epoch 00043: val_accuracy did not improve from 1.00000\n",
            "Epoch 44/100\n",
            "2/2 [==============================] - 42s 21s/step - loss: 0.5081 - accuracy: 0.7500 - val_loss: 0.4885 - val_accuracy: 0.7500\n",
            "\n",
            "Epoch 00044: val_accuracy did not improve from 1.00000\n",
            "Epoch 45/100\n",
            "2/2 [==============================] - 59s 30s/step - loss: 0.4733 - accuracy: 0.8594 - val_loss: 0.4250 - val_accuracy: 0.7812\n",
            "\n",
            "Epoch 00045: val_accuracy did not improve from 1.00000\n",
            "Epoch 46/100\n",
            "2/2 [==============================] - 60s 30s/step - loss: 0.3961 - accuracy: 0.9062 - val_loss: 0.5753 - val_accuracy: 0.7188\n",
            "\n",
            "Epoch 00046: val_accuracy did not improve from 1.00000\n",
            "Epoch 47/100\n",
            "2/2 [==============================] - 61s 31s/step - loss: 0.5282 - accuracy: 0.7812 - val_loss: 0.4445 - val_accuracy: 0.8125\n",
            "\n",
            "Epoch 00047: val_accuracy did not improve from 1.00000\n",
            "Epoch 48/100\n",
            "2/2 [==============================] - 42s 21s/step - loss: 0.5443 - accuracy: 0.7969 - val_loss: 0.6234 - val_accuracy: 0.7500\n",
            "\n",
            "Epoch 00048: val_accuracy did not improve from 1.00000\n",
            "Epoch 49/100\n",
            "2/2 [==============================] - 59s 30s/step - loss: 0.5179 - accuracy: 0.8125 - val_loss: 0.5525 - val_accuracy: 0.7500\n",
            "\n",
            "Epoch 00049: val_accuracy did not improve from 1.00000\n",
            "Epoch 50/100\n",
            "2/2 [==============================] - 60s 30s/step - loss: 0.4931 - accuracy: 0.7656 - val_loss: 0.4412 - val_accuracy: 0.8125\n",
            "\n",
            "Epoch 00050: val_accuracy did not improve from 1.00000\n",
            "Epoch 51/100\n",
            "2/2 [==============================] - 60s 30s/step - loss: 0.4341 - accuracy: 0.8750 - val_loss: 0.4431 - val_accuracy: 0.7500\n",
            "\n",
            "Epoch 00051: val_accuracy did not improve from 1.00000\n",
            "Epoch 52/100\n",
            "2/2 [==============================] - 42s 21s/step - loss: 0.3849 - accuracy: 0.8750 - val_loss: 0.3761 - val_accuracy: 1.0000\n",
            "\n",
            "Epoch 00052: val_accuracy did not improve from 1.00000\n",
            "Epoch 53/100\n",
            "2/2 [==============================] - 60s 30s/step - loss: 0.4735 - accuracy: 0.7969 - val_loss: 0.3663 - val_accuracy: 0.9062\n",
            "\n",
            "Epoch 00053: val_accuracy did not improve from 1.00000\n",
            "Epoch 54/100\n",
            "2/2 [==============================] - 60s 30s/step - loss: 0.4361 - accuracy: 0.8594 - val_loss: 0.5832 - val_accuracy: 0.6875\n",
            "\n",
            "Epoch 00054: val_accuracy did not improve from 1.00000\n",
            "Epoch 55/100\n",
            "2/2 [==============================] - 60s 30s/step - loss: 0.4615 - accuracy: 0.7969 - val_loss: 0.4292 - val_accuracy: 0.8438\n",
            "\n",
            "Epoch 00055: val_accuracy did not improve from 1.00000\n",
            "Epoch 56/100\n",
            "2/2 [==============================] - 42s 21s/step - loss: 0.4470 - accuracy: 0.8281 - val_loss: 0.3695 - val_accuracy: 0.7500\n",
            "\n",
            "Epoch 00056: val_accuracy did not improve from 1.00000\n",
            "Epoch 57/100\n",
            "2/2 [==============================] - 60s 30s/step - loss: 0.3925 - accuracy: 0.8906 - val_loss: 0.3744 - val_accuracy: 0.8438\n",
            "\n",
            "Epoch 00057: val_accuracy did not improve from 1.00000\n",
            "Epoch 58/100\n",
            "2/2 [==============================] - 61s 31s/step - loss: 0.3879 - accuracy: 0.8281 - val_loss: 0.4177 - val_accuracy: 0.8438\n",
            "\n",
            "Epoch 00058: val_accuracy did not improve from 1.00000\n",
            "Epoch 59/100\n",
            "2/2 [==============================] - 60s 30s/step - loss: 0.5331 - accuracy: 0.6875 - val_loss: 0.4408 - val_accuracy: 0.7812\n",
            "\n",
            "Epoch 00059: val_accuracy did not improve from 1.00000\n",
            "Epoch 60/100\n",
            "2/2 [==============================] - 42s 21s/step - loss: 0.4537 - accuracy: 0.8281 - val_loss: 1.5133 - val_accuracy: 0.0000e+00\n",
            "\n",
            "Epoch 00060: val_accuracy did not improve from 1.00000\n",
            "Epoch 61/100\n",
            "2/2 [==============================] - 60s 30s/step - loss: 0.4014 - accuracy: 0.8594 - val_loss: 0.5749 - val_accuracy: 0.6875\n",
            "\n",
            "Epoch 00061: val_accuracy did not improve from 1.00000\n",
            "Epoch 62/100\n",
            "2/2 [==============================] - 60s 30s/step - loss: 0.4598 - accuracy: 0.8438 - val_loss: 0.3479 - val_accuracy: 0.8750\n",
            "\n",
            "Epoch 00062: val_accuracy did not improve from 1.00000\n",
            "Epoch 63/100\n",
            "2/2 [==============================] - 60s 30s/step - loss: 0.4249 - accuracy: 0.8438 - val_loss: 0.4251 - val_accuracy: 0.8750\n",
            "\n",
            "Epoch 00063: val_accuracy did not improve from 1.00000\n",
            "Epoch 64/100\n",
            "2/2 [==============================] - 42s 21s/step - loss: 0.4460 - accuracy: 0.7969 - val_loss: 0.4782 - val_accuracy: 0.7500\n",
            "\n",
            "Epoch 00064: val_accuracy did not improve from 1.00000\n",
            "Epoch 65/100\n",
            "2/2 [==============================] - 60s 30s/step - loss: 0.3723 - accuracy: 0.8438 - val_loss: 0.5310 - val_accuracy: 0.7812\n",
            "\n",
            "Epoch 00065: val_accuracy did not improve from 1.00000\n",
            "Epoch 66/100\n",
            "2/2 [==============================] - 60s 30s/step - loss: 0.3796 - accuracy: 0.8594 - val_loss: 0.3813 - val_accuracy: 0.7812\n",
            "\n",
            "Epoch 00066: val_accuracy did not improve from 1.00000\n",
            "Epoch 67/100\n",
            "2/2 [==============================] - 60s 30s/step - loss: 0.4246 - accuracy: 0.8750 - val_loss: 0.4499 - val_accuracy: 0.8125\n",
            "\n",
            "Epoch 00067: val_accuracy did not improve from 1.00000\n",
            "Epoch 68/100\n",
            "2/2 [==============================] - 43s 21s/step - loss: 0.5819 - accuracy: 0.8125 - val_loss: 0.2354 - val_accuracy: 1.0000\n",
            "\n",
            "Epoch 00068: val_accuracy did not improve from 1.00000\n",
            "Epoch 69/100\n",
            "2/2 [==============================] - 61s 31s/step - loss: 0.4190 - accuracy: 0.8750 - val_loss: 0.4833 - val_accuracy: 0.8125\n",
            "\n",
            "Epoch 00069: val_accuracy did not improve from 1.00000\n",
            "Epoch 70/100\n",
            "2/2 [==============================] - 60s 30s/step - loss: 0.4176 - accuracy: 0.8125 - val_loss: 0.4293 - val_accuracy: 0.8750\n",
            "\n",
            "Epoch 00070: val_accuracy did not improve from 1.00000\n",
            "Epoch 71/100\n",
            "2/2 [==============================] - 60s 30s/step - loss: 0.3345 - accuracy: 0.9062 - val_loss: 0.4431 - val_accuracy: 0.8125\n",
            "\n",
            "Epoch 00071: val_accuracy did not improve from 1.00000\n",
            "Epoch 72/100\n",
            "2/2 [==============================] - 42s 21s/step - loss: 0.5122 - accuracy: 0.7812 - val_loss: 0.3431 - val_accuracy: 0.7500\n",
            "\n",
            "Epoch 00072: val_accuracy did not improve from 1.00000\n",
            "Epoch 73/100\n",
            "2/2 [==============================] - 59s 30s/step - loss: 0.3862 - accuracy: 0.9062 - val_loss: 0.3774 - val_accuracy: 0.9062\n",
            "\n",
            "Epoch 00073: val_accuracy did not improve from 1.00000\n",
            "Epoch 74/100\n",
            "2/2 [==============================] - 60s 30s/step - loss: 0.4906 - accuracy: 0.7969 - val_loss: 0.3617 - val_accuracy: 0.8438\n",
            "\n",
            "Epoch 00074: val_accuracy did not improve from 1.00000\n",
            "Epoch 75/100\n",
            "2/2 [==============================] - 60s 30s/step - loss: 0.3773 - accuracy: 0.8750 - val_loss: 0.5729 - val_accuracy: 0.7500\n",
            "\n",
            "Epoch 00075: val_accuracy did not improve from 1.00000\n",
            "Epoch 76/100\n",
            "2/2 [==============================] - 42s 21s/step - loss: 0.4681 - accuracy: 0.8281 - val_loss: 0.5057 - val_accuracy: 0.7500\n",
            "\n",
            "Epoch 00076: val_accuracy did not improve from 1.00000\n",
            "Epoch 77/100\n",
            "2/2 [==============================] - 59s 30s/step - loss: 0.4398 - accuracy: 0.7969 - val_loss: 0.4692 - val_accuracy: 0.7812\n",
            "\n",
            "Epoch 00077: val_accuracy did not improve from 1.00000\n",
            "Epoch 78/100\n",
            "2/2 [==============================] - 60s 30s/step - loss: 0.4936 - accuracy: 0.7969 - val_loss: 0.4253 - val_accuracy: 0.7812\n",
            "\n",
            "Epoch 00078: val_accuracy did not improve from 1.00000\n",
            "Epoch 79/100\n",
            "2/2 [==============================] - 60s 30s/step - loss: 0.4809 - accuracy: 0.7969 - val_loss: 0.4245 - val_accuracy: 0.8438\n",
            "\n",
            "Epoch 00079: val_accuracy did not improve from 1.00000\n",
            "Epoch 80/100\n",
            "2/2 [==============================] - 43s 21s/step - loss: 0.3772 - accuracy: 0.8125 - val_loss: 0.4368 - val_accuracy: 0.7500\n",
            "\n",
            "Epoch 00080: val_accuracy did not improve from 1.00000\n",
            "Epoch 81/100\n",
            "2/2 [==============================] - 62s 31s/step - loss: 0.4303 - accuracy: 0.8906 - val_loss: 0.4081 - val_accuracy: 0.8125\n",
            "\n",
            "Epoch 00081: val_accuracy did not improve from 1.00000\n",
            "Epoch 82/100\n",
            "2/2 [==============================] - 60s 30s/step - loss: 0.4168 - accuracy: 0.8125 - val_loss: 0.5458 - val_accuracy: 0.7500\n",
            "\n",
            "Epoch 00082: val_accuracy did not improve from 1.00000\n",
            "Epoch 83/100\n",
            "2/2 [==============================] - 60s 30s/step - loss: 0.4137 - accuracy: 0.8281 - val_loss: 0.2578 - val_accuracy: 0.9062\n",
            "\n",
            "Epoch 00083: val_accuracy did not improve from 1.00000\n",
            "Epoch 84/100\n",
            "2/2 [==============================] - 42s 21s/step - loss: 0.3788 - accuracy: 0.8438 - val_loss: 1.0291 - val_accuracy: 0.5000\n",
            "\n",
            "Epoch 00084: val_accuracy did not improve from 1.00000\n",
            "Epoch 85/100\n",
            "2/2 [==============================] - 60s 30s/step - loss: 0.2612 - accuracy: 0.9219 - val_loss: 0.3802 - val_accuracy: 0.7812\n",
            "\n",
            "Epoch 00085: val_accuracy did not improve from 1.00000\n",
            "Epoch 86/100\n",
            "2/2 [==============================] - 60s 30s/step - loss: 0.4471 - accuracy: 0.7969 - val_loss: 0.4732 - val_accuracy: 0.8125\n",
            "\n",
            "Epoch 00086: val_accuracy did not improve from 1.00000\n",
            "Epoch 87/100\n",
            "2/2 [==============================] - 60s 30s/step - loss: 0.3277 - accuracy: 0.8750 - val_loss: 0.3986 - val_accuracy: 0.8750\n",
            "\n",
            "Epoch 00087: val_accuracy did not improve from 1.00000\n",
            "Epoch 88/100\n",
            "2/2 [==============================] - 43s 22s/step - loss: 0.3551 - accuracy: 0.9219 - val_loss: 0.6294 - val_accuracy: 0.5000\n",
            "\n",
            "Epoch 00088: val_accuracy did not improve from 1.00000\n",
            "Epoch 89/100\n",
            "2/2 [==============================] - 60s 30s/step - loss: 0.3435 - accuracy: 0.8906 - val_loss: 0.4617 - val_accuracy: 0.8125\n",
            "\n",
            "Epoch 00089: val_accuracy did not improve from 1.00000\n",
            "Epoch 90/100\n",
            "2/2 [==============================] - 60s 30s/step - loss: 0.3943 - accuracy: 0.8594 - val_loss: 0.3472 - val_accuracy: 0.9062\n",
            "\n",
            "Epoch 00090: val_accuracy did not improve from 1.00000\n",
            "Epoch 91/100\n",
            "2/2 [==============================] - 62s 31s/step - loss: 0.4395 - accuracy: 0.8438 - val_loss: 0.4764 - val_accuracy: 0.7188\n",
            "\n",
            "Epoch 00091: val_accuracy did not improve from 1.00000\n",
            "Epoch 92/100\n",
            "2/2 [==============================] - 42s 21s/step - loss: 0.4161 - accuracy: 0.8125 - val_loss: 0.3285 - val_accuracy: 1.0000\n",
            "\n",
            "Epoch 00092: val_accuracy did not improve from 1.00000\n",
            "Epoch 93/100\n",
            "2/2 [==============================] - 60s 30s/step - loss: 0.5320 - accuracy: 0.8125 - val_loss: 0.4321 - val_accuracy: 0.8125\n",
            "\n",
            "Epoch 00093: val_accuracy did not improve from 1.00000\n",
            "Epoch 94/100\n",
            "2/2 [==============================] - 60s 30s/step - loss: 0.4183 - accuracy: 0.8750 - val_loss: 0.3630 - val_accuracy: 0.8125\n",
            "\n",
            "Epoch 00094: val_accuracy did not improve from 1.00000\n",
            "Epoch 95/100\n",
            "2/2 [==============================] - 60s 30s/step - loss: 0.3879 - accuracy: 0.8438 - val_loss: 0.5085 - val_accuracy: 0.7500\n",
            "\n",
            "Epoch 00095: val_accuracy did not improve from 1.00000\n",
            "Epoch 96/100\n",
            "2/2 [==============================] - 43s 21s/step - loss: 0.4083 - accuracy: 0.8438 - val_loss: 0.1539 - val_accuracy: 1.0000\n",
            "\n",
            "Epoch 00096: val_accuracy did not improve from 1.00000\n",
            "Epoch 97/100\n",
            "2/2 [==============================] - 60s 30s/step - loss: 0.3707 - accuracy: 0.8906 - val_loss: 0.3534 - val_accuracy: 0.8438\n",
            "\n",
            "Epoch 00097: val_accuracy did not improve from 1.00000\n",
            "Epoch 98/100\n",
            "2/2 [==============================] - 60s 30s/step - loss: 0.3057 - accuracy: 0.9219 - val_loss: 0.4750 - val_accuracy: 0.7500\n",
            "\n",
            "Epoch 00098: val_accuracy did not improve from 1.00000\n",
            "Epoch 99/100\n",
            "2/2 [==============================] - 60s 30s/step - loss: 0.3419 - accuracy: 0.8594 - val_loss: 0.4530 - val_accuracy: 0.7812\n",
            "\n",
            "Epoch 00099: val_accuracy did not improve from 1.00000\n",
            "Epoch 100/100\n",
            "2/2 [==============================] - 43s 22s/step - loss: 0.4314 - accuracy: 0.7656 - val_loss: 0.2460 - val_accuracy: 1.0000\n",
            "\n",
            "Epoch 00100: val_accuracy did not improve from 1.00000\n"
          ],
          "name": "stdout"
        }
      ]
    },
    {
      "cell_type": "markdown",
      "metadata": {
        "id": "ED7u_hcD3h4c",
        "colab_type": "text"
      },
      "source": [
        ""
      ]
    },
    {
      "cell_type": "code",
      "metadata": {
        "id": "YtQxWrIlPU_M",
        "colab_type": "code",
        "colab": {
          "base_uri": "https://localhost:8080/",
          "height": 295
        },
        "outputId": "593e4bf9-7232-4f35-d608-d32601b5fff9"
      },
      "source": [
        "import matplotlib.pyplot as plt\n",
        "plt.plot(hist.history[\"accuracy\"])\n",
        "plt.plot(hist.history['val_accuracy'])\n",
        "\n",
        "plt.title(\"model accuracy\")\n",
        "plt.ylabel(\"Accuracy\")\n",
        "plt.xlabel(\"Epoch\")\n",
        "plt.legend([\"Accuracy\",\"Validation Accuracy\"])\n",
        "plt.show()"
      ],
      "execution_count": 26,
      "outputs": [
        {
          "output_type": "display_data",
          "data": {
            "image/png": "[encoded data removed]",
            "text/plain": [
              "<Figure size 432x288 with 1 Axes>"
            ]
          },
          "metadata": {
            "tags": [],
            "needs_background": "light"
          }
        }
      ]
    },
    {
      "cell_type": "code",
      "metadata": {
        "id": "EsjZHi9jaU4Y",
        "colab_type": "code",
        "colab": {
          "base_uri": "https://localhost:8080/",
          "height": 279
        },
        "outputId": "a6f410db-b8f9-48b3-dd9e-e9781f7866fe"
      },
      "source": [
        "plt.plot(hist.history['loss'])\n",
        "plt.plot(hist.history['val_loss'])\n",
        "plt.ylabel(\"Loss\")\n",
        "plt.xlabel(\"Epoch\")\n",
        "plt.legend([\"loss\",\"Validation Loss\"])\n",
        "plt.show()"
      ],
      "execution_count": 27,
      "outputs": [
        {
          "output_type": "display_data",
          "data": {
            "image/png": "[encoded data removed]",
            "text/plain": [
              "<Figure size 432x288 with 1 Axes>"
            ]
          },
          "metadata": {
            "tags": [],
            "needs_background": "light"
          }
        }
      ]
    },
    {
      "cell_type": "code",
      "metadata": {
        "id": "_2GdDycwS52M",
        "colab_type": "code",
        "colab": {}
      },
      "source": [
        "from keras.preprocessing.image import ImageDataGenerator\n",
        "from sklearn.metrics import classification_report, confusion_matrix\n",
        "\n",
        "test_datagen = ImageDataGenerator()"
      ],
      "execution_count": 28,
      "outputs": []
    },
    {
      "cell_type": "code",
      "metadata": {
        "id": "9-fknWZIS-CT",
        "colab_type": "code",
        "colab": {
          "base_uri": "https://localhost:8080/",
          "height": 34
        },
        "outputId": "6132af62-ba5f-4c4f-9e35-c0c93c725799"
      },
      "source": [
        "validation_generator = test_datagen.flow_from_directory('/content/drive/My Drive/data_ouput/test',\n",
        "                                                        target_size=(224, 224),\n",
        "                                                        batch_size=32,\n",
        "                                                        class_mode='categorical')"
      ],
      "execution_count": 29,
      "outputs": [
        {
          "output_type": "stream",
          "text": [
            "Found 100 images belonging to 4 classes.\n"
          ],
          "name": "stdout"
        }
      ]
    },
    {
      "cell_type": "code",
      "metadata": {
        "id": "RSoXpGKcTEnR",
        "colab_type": "code",
        "colab": {
          "base_uri": "https://localhost:8080/",
          "height": 306
        },
        "outputId": "6f5eb485-a947-41b8-a483-6c07d2afb317"
      },
      "source": [
        "import numpy as np\n",
        "#Confution Matrix and Classification Report\n",
        "Y_pred = model_final.predict_generator(validation_generator)\n",
        "y_pred = np.argmax(Y_pred, axis=1)\n",
        "print('Confusion Matrix')\n",
        "print(confusion_matrix(validation_generator.classes, y_pred))\n",
        "print('Classification Report')\n",
        "target_names = ['grade0', 'grade1', 'grade2','grade3']\n",
        "print(classification_report(validation_generator.classes, y_pred, target_names=target_names))"
      ],
      "execution_count": 30,
      "outputs": [
        {
          "output_type": "stream",
          "text": [
            "Confusion Matrix\n",
            "[[ 1  9  7  8]\n",
            " [12  8  4  1]\n",
            " [ 4  7  8  6]\n",
            " [ 2 10  7  6]]\n",
            "Classification Report\n",
            "              precision    recall  f1-score   support\n",
            "\n",
            "      grade0       0.05      0.04      0.05        25\n",
            "      grade1       0.24      0.32      0.27        25\n",
            "      grade2       0.31      0.32      0.31        25\n",
            "      grade3       0.29      0.24      0.26        25\n",
            "\n",
            "    accuracy                           0.23       100\n",
            "   macro avg       0.22      0.23      0.22       100\n",
            "weighted avg       0.22      0.23      0.22       100\n",
            "\n"
          ],
          "name": "stdout"
        }
      ]
    },
    {
      "cell_type": "code",
      "metadata": {
        "id": "B-E18MG6VMMN",
        "colab_type": "code",
        "colab": {
          "base_uri": "https://localhost:8080/",
          "height": 269
        },
        "outputId": "b6d9678e-929d-4a26-939c-6ade1c0420d6"
      },
      "source": [
        "from keras.preprocessing import image\n",
        "import matplotlib.pyplot as plt\n",
        "\n",
        "img = image.load_img(\"/content/drive/My Drive/data_ouput/test/grade1/grade1-079.jpg\",target_size=(224,224))\n",
        "img = np.asarray(img)\n",
        "plt.imshow(img)\n",
        "img = np.expand_dims(img, axis=0)"
      ],
      "execution_count": 31,
      "outputs": [
        {
          "output_type": "display_data",
          "data": {
            "image/png": "[encoded data removed]",
            "text/plain": [
              "<Figure size 432x288 with 1 Axes>"
            ]
          },
          "metadata": {
            "tags": [],
            "needs_background": "light"
          }
        }
      ]
    },
    {
      "cell_type": "code",
      "metadata": {
        "id": "Ux21nwVeV0mE",
        "colab_type": "code",
        "colab": {}
      },
      "source": [
        "output = model_final.predict(img)"
      ],
      "execution_count": 32,
      "outputs": []
    },
    {
      "cell_type": "code",
      "metadata": {
        "id": "crw2NNGyV7kN",
        "colab_type": "code",
        "colab": {
          "base_uri": "https://localhost:8080/",
          "height": 34
        },
        "outputId": "cbc63d2e-8a60-4276-8598-3c44c6562632"
      },
      "source": [
        "output\n",
        "ans='grade'+str(np.argmax(output[0],axis=0))\n",
        "print(ans)"
      ],
      "execution_count": 33,
      "outputs": [
        {
          "output_type": "stream",
          "text": [
            "grade1\n"
          ],
          "name": "stdout"
        }
      ]
    },
    {
      "cell_type": "code",
      "metadata": {
        "id": "YbH-5BZmX-K4",
        "colab_type": "code",
        "colab": {
          "base_uri": "https://localhost:8080/",
          "height": 153
        },
        "outputId": "8c206b01-c0b5-4013-e4ba-15961d3ce3b5"
      },
      "source": [
        "import os\n",
        "data_path='/content/drive/My Drive/data_ouput/test'\n",
        "data_dir_list=os.listdir(data_path)\n",
        "for dataset in data_dir_list:\n",
        "  print(dataset)\n",
        "  img_list=os.listdir(data_path+'/'+dataset)\n",
        "  correctCount=0\n",
        "  wrongCount=0\n",
        "  for img in img_list:\n",
        "    img_path=data_path+'/'+dataset+'/'+img\n",
        "    input_image = image.load_img(img_path,target_size=(224,224))\n",
        "    input_image = np.asarray(input_image)\n",
        "    input_image = np.expand_dims(input_image, axis=0)\n",
        "    output = model_final.predict(input_image)\n",
        "    ans='grade'+str(np.argmax(output[0],axis=0))\n",
        "    if( ans in img):\n",
        "      correctCount+=1\n",
        "    else:\n",
        "      wrongCount+=1\n",
        "  print(\"correct Count {} WrongCount {}\".format(correctCount,wrongCount))\n",
        "\n",
        "\n"
      ],
      "execution_count": 34,
      "outputs": [
        {
          "output_type": "stream",
          "text": [
            "grade1\n",
            "correct Count 21 WrongCount 4\n",
            "grade0\n",
            "correct Count 19 WrongCount 6\n",
            "grade2\n",
            "correct Count 23 WrongCount 2\n",
            "grade3\n",
            "correct Count 17 WrongCount 8\n"
          ],
          "name": "stdout"
        }
      ]
    },
    {
      "cell_type": "code",
      "metadata": {
        "id": "Ml4QAr_Avw2T",
        "colab_type": "code",
        "colab": {
          "base_uri": "https://localhost:8080/",
          "height": 51
        },
        "outputId": "ed35dda5-9bfd-4fdc-cd71-bda5e105cd0b"
      },
      "source": [
        "tr_loss,tr_acc=model_final.evaluate(validation_generator)\n",
        "tr_acc"
      ],
      "execution_count": 35,
      "outputs": [
        {
          "output_type": "stream",
          "text": [
            "4/4 [==============================] - 63s 16s/step\n"
          ],
          "name": "stdout"
        },
        {
          "output_type": "execute_result",
          "data": {
            "text/plain": [
              "0.800000011920929"
            ]
          },
          "metadata": {
            "tags": []
          },
          "execution_count": 35
        }
      ]
    },
    {
      "cell_type": "code",
      "metadata": {
        "id": "uQ_U_O6XcOQY",
        "colab_type": "code",
        "colab": {}
      },
      "source": [
        ""
      ],
      "execution_count": null,
      "outputs": []
    },
    {
      "cell_type": "code",
      "metadata": {
        "id": "R6Fx71JwgONy",
        "colab_type": "code",
        "colab": {}
      },
      "source": [
        ""
      ],
      "execution_count": null,
      "outputs": []
    },
    {
      "cell_type": "code",
      "metadata": {
        "id": "PiiV053i4At7",
        "colab_type": "code",
        "colab": {}
      },
      "source": [
        "model_final.save('/content/drive/My Drive/Best models/modelbest.h5')"
      ],
      "execution_count": null,
      "outputs": []
    }
  ]
}