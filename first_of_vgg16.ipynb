{
  "nbformat": 4,
  "nbformat_minor": 0,
  "metadata": {
    "colab": {
      "name": "first of vgg16",
      "provenance": [],
      "collapsed_sections": [],
      "mount_file_id": "1z9pGTRdnt9jYLqRxUDQ-fmCM5K51duG1",
      "authorship_tag": "ABX9TyP1c/26uhEsEIgihcfkgwzP",
      "include_colab_link": true
    },
    "kernelspec": {
      "name": "python3",
      "display_name": "Python 3"
    }
  },
  "cells": [
    {
      "cell_type": "markdown",
      "metadata": {
        "id": "view-in-github",
        "colab_type": "text"
      },
      "source": [
        "<a href=\"https://colab.research.google.com/github/pranitha2144/Internship-iith/blob/Resnet/first_of_vgg16.ipynb\" target=\"_parent\"><img src=\"https://colab.research.google.com/assets/colab-badge.svg\" alt=\"Open In Colab\"/></a>"
      ]
    },
    {
      "cell_type": "code",
      "metadata": {
        "id": "PMu2eC3sYOxm",
        "colab_type": "code",
        "colab": {}
      },
      "source": [
        "import keras\n",
        "from keras.models import Model\n",
        "from keras.layers import Dense,Dropout,Conv2D,Flatten,MaxPooling2D\n",
        "from keras import optimizers\n",
        "from keras.preprocessing.image import ImageDataGenerator\n",
        "from keras.preprocessing import image\n",
        "from tensorflow.keras.applications.vgg16 import preprocess_input"
      ],
      "execution_count": 4,
      "outputs": []
    },
    {
      "cell_type": "code",
      "metadata": {
        "id": "p6rPAuwiYVPF",
        "colab_type": "code",
        "colab": {
          "base_uri": "https://localhost:8080/",
          "height": 51
        },
        "outputId": "7f0b3eca-028c-4b66-acf7-ba42db7e9b14"
      },
      "source": [
        "trdata = ImageDataGenerator(zoom_range=0.2,shear_range=0.2,rotation_range=20,height_shift_range=0.2,fill_mode='nearest', width_shift_range=0.2,horizontal_flip=True)\n",
        "traindata = trdata.flow_from_directory(directory=\"/content/drive/My Drive/data-liverd/train\",target_size=(224,224),class_mode='categorical')\n",
        "tsdata = ImageDataGenerator()\n",
        "testdata = tsdata.flow_from_directory(directory=\"/content/drive/My Drive/data-liverd/val\", target_size=(224,224),class_mode='categorical')"
      ],
      "execution_count": 6,
      "outputs": [
        {
          "output_type": "stream",
          "text": [
            "Found 800 images belonging to 4 classes.\n",
            "Found 200 images belonging to 4 classes.\n"
          ],
          "name": "stdout"
        }
      ]
    },
    {
      "cell_type": "code",
      "metadata": {
        "id": "YEDviFOOYqSH",
        "colab_type": "code",
        "colab": {
          "base_uri": "https://localhost:8080/",
          "height": 71
        },
        "outputId": "927b328c-2100-4386-ec98-e17bbd65af9a"
      },
      "source": [
        "from keras.applications.vgg16 import VGG16\n",
        "vggmodel = VGG16(weights='imagenet',include_top=True)"
      ],
      "execution_count": 7,
      "outputs": [
        {
          "output_type": "stream",
          "text": [
            "Downloading data from https://github.com/fchollet/deep-learning-models/releases/download/v0.1/vgg16_weights_tf_dim_ordering_tf_kernels.h5\n",
            "553467904/553467096 [==============================] - 55s 0us/step\n"
          ],
          "name": "stdout"
        }
      ]
    },
    {
      "cell_type": "code",
      "metadata": {
        "id": "_DBVSTlUYwZt",
        "colab_type": "code",
        "colab": {
          "base_uri": "https://localhost:8080/",
          "height": 935
        },
        "outputId": "c19dc102-ddae-40ee-97c5-a71f16f7c00c"
      },
      "source": [
        "vggmodel.summary()"
      ],
      "execution_count": 8,
      "outputs": [
        {
          "output_type": "stream",
          "text": [
            "Model: \"vgg16\"\n",
            "_________________________________________________________________\n",
            "Layer (type)                 Output Shape              Param #   \n",
            "=================================================================\n",
            "input_1 (InputLayer)         (None, 224, 224, 3)       0         \n",
            "_________________________________________________________________\n",
            "block1_conv1 (Conv2D)        (None, 224, 224, 64)      1792      \n",
            "_________________________________________________________________\n",
            "block1_conv2 (Conv2D)        (None, 224, 224, 64)      36928     \n",
            "_________________________________________________________________\n",
            "block1_pool (MaxPooling2D)   (None, 112, 112, 64)      0         \n",
            "_________________________________________________________________\n",
            "block2_conv1 (Conv2D)        (None, 112, 112, 128)     73856     \n",
            "_________________________________________________________________\n",
            "block2_conv2 (Conv2D)        (None, 112, 112, 128)     147584    \n",
            "_________________________________________________________________\n",
            "block2_pool (MaxPooling2D)   (None, 56, 56, 128)       0         \n",
            "_________________________________________________________________\n",
            "block3_conv1 (Conv2D)        (None, 56, 56, 256)       295168    \n",
            "_________________________________________________________________\n",
            "block3_conv2 (Conv2D)        (None, 56, 56, 256)       590080    \n",
            "_________________________________________________________________\n",
            "block3_conv3 (Conv2D)        (None, 56, 56, 256)       590080    \n",
            "_________________________________________________________________\n",
            "block3_pool (MaxPooling2D)   (None, 28, 28, 256)       0         \n",
            "_________________________________________________________________\n",
            "block4_conv1 (Conv2D)        (None, 28, 28, 512)       1180160   \n",
            "_________________________________________________________________\n",
            "block4_conv2 (Conv2D)        (None, 28, 28, 512)       2359808   \n",
            "_________________________________________________________________\n",
            "block4_conv3 (Conv2D)        (None, 28, 28, 512)       2359808   \n",
            "_________________________________________________________________\n",
            "block4_pool (MaxPooling2D)   (None, 14, 14, 512)       0         \n",
            "_________________________________________________________________\n",
            "block5_conv1 (Conv2D)        (None, 14, 14, 512)       2359808   \n",
            "_________________________________________________________________\n",
            "block5_conv2 (Conv2D)        (None, 14, 14, 512)       2359808   \n",
            "_________________________________________________________________\n",
            "block5_conv3 (Conv2D)        (None, 14, 14, 512)       2359808   \n",
            "_________________________________________________________________\n",
            "block5_pool (MaxPooling2D)   (None, 7, 7, 512)         0         \n",
            "_________________________________________________________________\n",
            "flatten (Flatten)            (None, 25088)             0         \n",
            "_________________________________________________________________\n",
            "fc1 (Dense)                  (None, 4096)              102764544 \n",
            "_________________________________________________________________\n",
            "fc2 (Dense)                  (None, 4096)              16781312  \n",
            "_________________________________________________________________\n",
            "predictions (Dense)          (None, 1000)              4097000   \n",
            "=================================================================\n",
            "Total params: 138,357,544\n",
            "Trainable params: 138,357,544\n",
            "Non-trainable params: 0\n",
            "_________________________________________________________________\n"
          ],
          "name": "stdout"
        }
      ]
    },
    {
      "cell_type": "code",
      "metadata": {
        "id": "UWtbL-_x7GDK",
        "colab_type": "code",
        "colab": {
          "base_uri": "https://localhost:8080/",
          "height": 34
        },
        "outputId": "21bd8575-b1ed-4d6a-d981-74f32573dc9f"
      },
      "source": [
        "#execute this cell 3 times\n",
        "vggmodel.layers.pop()"
      ],
      "execution_count": null,
      "outputs": [
        {
          "output_type": "execute_result",
          "data": {
            "text/plain": [
              "<keras.layers.core.Dense at 0x7fd41e783f28>"
            ]
          },
          "metadata": {
            "tags": []
          },
          "execution_count": 7
        }
      ]
    },
    {
      "cell_type": "code",
      "metadata": {
        "id": "8LYBFIW-Y1vZ",
        "colab_type": "code",
        "colab": {
          "base_uri": "https://localhost:8080/",
          "height": 340
        },
        "outputId": "7e355d79-d4d9-441b-a34d-183c34fce1a9"
      },
      "source": [
        "for layers in (vggmodel.layers)[:19]:\n",
        "    print(layers)\n",
        "    layers.trainable = False"
      ],
      "execution_count": 9,
      "outputs": [
        {
          "output_type": "stream",
          "text": [
            "<keras.engine.input_layer.InputLayer object at 0x7f32156fa828>\n",
            "<keras.layers.convolutional.Conv2D object at 0x7f3215681240>\n",
            "<keras.layers.convolutional.Conv2D object at 0x7f325f6382b0>\n",
            "<keras.layers.pooling.MaxPooling2D object at 0x7f3257a7ac50>\n",
            "<keras.layers.convolutional.Conv2D object at 0x7f3257a7a7f0>\n",
            "<keras.layers.convolutional.Conv2D object at 0x7f320e870e48>\n",
            "<keras.layers.pooling.MaxPooling2D object at 0x7f320e8754e0>\n",
            "<keras.layers.convolutional.Conv2D object at 0x7f320e8752e8>\n",
            "<keras.layers.convolutional.Conv2D object at 0x7f320e875f60>\n",
            "<keras.layers.convolutional.Conv2D object at 0x7f320e878c18>\n",
            "<keras.layers.pooling.MaxPooling2D object at 0x7f320e87e6d8>\n",
            "<keras.layers.convolutional.Conv2D object at 0x7f320e87e4e0>\n",
            "<keras.layers.convolutional.Conv2D object at 0x7f320e882a58>\n",
            "<keras.layers.convolutional.Conv2D object at 0x7f320e882e10>\n",
            "<keras.layers.pooling.MaxPooling2D object at 0x7f320e8868d0>\n",
            "<keras.layers.convolutional.Conv2D object at 0x7f320e8866d8>\n",
            "<keras.layers.convolutional.Conv2D object at 0x7f320e88c438>\n",
            "<keras.layers.convolutional.Conv2D object at 0x7f320e88cfd0>\n",
            "<keras.layers.pooling.MaxPooling2D object at 0x7f320e890ac8>\n"
          ],
          "name": "stdout"
        }
      ]
    },
    {
      "cell_type": "code",
      "metadata": {
        "id": "spEfu2MIY3-9",
        "colab_type": "code",
        "colab": {
          "base_uri": "https://localhost:8080/",
          "height": 935
        },
        "outputId": "d1793b64-19ba-4de3-ce23-a0bd5f035383"
      },
      "source": [
        "vggmodel.summary()"
      ],
      "execution_count": 10,
      "outputs": [
        {
          "output_type": "stream",
          "text": [
            "Model: \"vgg16\"\n",
            "_________________________________________________________________\n",
            "Layer (type)                 Output Shape              Param #   \n",
            "=================================================================\n",
            "input_1 (InputLayer)         (None, 224, 224, 3)       0         \n",
            "_________________________________________________________________\n",
            "block1_conv1 (Conv2D)        (None, 224, 224, 64)      1792      \n",
            "_________________________________________________________________\n",
            "block1_conv2 (Conv2D)        (None, 224, 224, 64)      36928     \n",
            "_________________________________________________________________\n",
            "block1_pool (MaxPooling2D)   (None, 112, 112, 64)      0         \n",
            "_________________________________________________________________\n",
            "block2_conv1 (Conv2D)        (None, 112, 112, 128)     73856     \n",
            "_________________________________________________________________\n",
            "block2_conv2 (Conv2D)        (None, 112, 112, 128)     147584    \n",
            "_________________________________________________________________\n",
            "block2_pool (MaxPooling2D)   (None, 56, 56, 128)       0         \n",
            "_________________________________________________________________\n",
            "block3_conv1 (Conv2D)        (None, 56, 56, 256)       295168    \n",
            "_________________________________________________________________\n",
            "block3_conv2 (Conv2D)        (None, 56, 56, 256)       590080    \n",
            "_________________________________________________________________\n",
            "block3_conv3 (Conv2D)        (None, 56, 56, 256)       590080    \n",
            "_________________________________________________________________\n",
            "block3_pool (MaxPooling2D)   (None, 28, 28, 256)       0         \n",
            "_________________________________________________________________\n",
            "block4_conv1 (Conv2D)        (None, 28, 28, 512)       1180160   \n",
            "_________________________________________________________________\n",
            "block4_conv2 (Conv2D)        (None, 28, 28, 512)       2359808   \n",
            "_________________________________________________________________\n",
            "block4_conv3 (Conv2D)        (None, 28, 28, 512)       2359808   \n",
            "_________________________________________________________________\n",
            "block4_pool (MaxPooling2D)   (None, 14, 14, 512)       0         \n",
            "_________________________________________________________________\n",
            "block5_conv1 (Conv2D)        (None, 14, 14, 512)       2359808   \n",
            "_________________________________________________________________\n",
            "block5_conv2 (Conv2D)        (None, 14, 14, 512)       2359808   \n",
            "_________________________________________________________________\n",
            "block5_conv3 (Conv2D)        (None, 14, 14, 512)       2359808   \n",
            "_________________________________________________________________\n",
            "block5_pool (MaxPooling2D)   (None, 7, 7, 512)         0         \n",
            "_________________________________________________________________\n",
            "flatten (Flatten)            (None, 25088)             0         \n",
            "_________________________________________________________________\n",
            "fc1 (Dense)                  (None, 4096)              102764544 \n",
            "_________________________________________________________________\n",
            "fc2 (Dense)                  (None, 4096)              16781312  \n",
            "_________________________________________________________________\n",
            "predictions (Dense)          (None, 1000)              4097000   \n",
            "=================================================================\n",
            "Total params: 138,357,544\n",
            "Trainable params: 123,642,856\n",
            "Non-trainable params: 14,714,688\n",
            "_________________________________________________________________\n"
          ],
          "name": "stdout"
        }
      ]
    },
    {
      "cell_type": "code",
      "metadata": {
        "id": "hRa7hR7-Y-XR",
        "colab_type": "code",
        "colab": {
          "base_uri": "https://localhost:8080/",
          "height": 71
        },
        "outputId": "8c606dd4-3732-4a13-810b-2b5afb44f326"
      },
      "source": [
        "from tensorflow.keras import regularizers\n",
        "X= vggmodel.layers[-2].output\n",
        "fc_1=Dense(4096,activation='relu')(X)\n",
        "dr_1=Dropout(0.1)(fc_1)\n",
        "fc_2=Dense(4096, activation='relu')(dr_1)\n",
        "dr_2=Dropout(0.1)(fc_2)\n",
        "fc_3=Dense(4096,activation='relu')(dr_2)\n",
        "dr_3=Dropout(0.2)(fc_3)\n",
        "fc_4=Dense(4096,activation='relu')(dr_3)\n",
        "dr_4=Dropout(0.2)(fc_4)\n",
        "predictions = Dense(4, activation=\"softmax\")(dr_4)\n",
        "model_final = Model(input = vggmodel.input, output = predictions)"
      ],
      "execution_count": 11,
      "outputs": [
        {
          "output_type": "stream",
          "text": [
            "/usr/local/lib/python3.6/dist-packages/ipykernel_launcher.py:12: UserWarning: Update your `Model` call to the Keras 2 API: `Model(inputs=Tensor(\"in..., outputs=Tensor(\"de...)`\n",
            "  if sys.path[0] == '':\n"
          ],
          "name": "stderr"
        }
      ]
    },
    {
      "cell_type": "code",
      "metadata": {
        "id": "1mRS_nHaZBCL",
        "colab_type": "code",
        "colab": {
          "base_uri": "https://localhost:8080/",
          "height": 1000
        },
        "outputId": "0818e3a5-135f-4563-dc23-34a0f5cb6903"
      },
      "source": [
        "model_final.summary()"
      ],
      "execution_count": 12,
      "outputs": [
        {
          "output_type": "stream",
          "text": [
            "Model: \"model_1\"\n",
            "_________________________________________________________________\n",
            "Layer (type)                 Output Shape              Param #   \n",
            "=================================================================\n",
            "input_1 (InputLayer)         (None, 224, 224, 3)       0         \n",
            "_________________________________________________________________\n",
            "block1_conv1 (Conv2D)        (None, 224, 224, 64)      1792      \n",
            "_________________________________________________________________\n",
            "block1_conv2 (Conv2D)        (None, 224, 224, 64)      36928     \n",
            "_________________________________________________________________\n",
            "block1_pool (MaxPooling2D)   (None, 112, 112, 64)      0         \n",
            "_________________________________________________________________\n",
            "block2_conv1 (Conv2D)        (None, 112, 112, 128)     73856     \n",
            "_________________________________________________________________\n",
            "block2_conv2 (Conv2D)        (None, 112, 112, 128)     147584    \n",
            "_________________________________________________________________\n",
            "block2_pool (MaxPooling2D)   (None, 56, 56, 128)       0         \n",
            "_________________________________________________________________\n",
            "block3_conv1 (Conv2D)        (None, 56, 56, 256)       295168    \n",
            "_________________________________________________________________\n",
            "block3_conv2 (Conv2D)        (None, 56, 56, 256)       590080    \n",
            "_________________________________________________________________\n",
            "block3_conv3 (Conv2D)        (None, 56, 56, 256)       590080    \n",
            "_________________________________________________________________\n",
            "block3_pool (MaxPooling2D)   (None, 28, 28, 256)       0         \n",
            "_________________________________________________________________\n",
            "block4_conv1 (Conv2D)        (None, 28, 28, 512)       1180160   \n",
            "_________________________________________________________________\n",
            "block4_conv2 (Conv2D)        (None, 28, 28, 512)       2359808   \n",
            "_________________________________________________________________\n",
            "block4_conv3 (Conv2D)        (None, 28, 28, 512)       2359808   \n",
            "_________________________________________________________________\n",
            "block4_pool (MaxPooling2D)   (None, 14, 14, 512)       0         \n",
            "_________________________________________________________________\n",
            "block5_conv1 (Conv2D)        (None, 14, 14, 512)       2359808   \n",
            "_________________________________________________________________\n",
            "block5_conv2 (Conv2D)        (None, 14, 14, 512)       2359808   \n",
            "_________________________________________________________________\n",
            "block5_conv3 (Conv2D)        (None, 14, 14, 512)       2359808   \n",
            "_________________________________________________________________\n",
            "block5_pool (MaxPooling2D)   (None, 7, 7, 512)         0         \n",
            "_________________________________________________________________\n",
            "flatten (Flatten)            (None, 25088)             0         \n",
            "_________________________________________________________________\n",
            "fc1 (Dense)                  (None, 4096)              102764544 \n",
            "_________________________________________________________________\n",
            "fc2 (Dense)                  (None, 4096)              16781312  \n",
            "_________________________________________________________________\n",
            "dense_1 (Dense)              (None, 4096)              16781312  \n",
            "_________________________________________________________________\n",
            "dropout_1 (Dropout)          (None, 4096)              0         \n",
            "_________________________________________________________________\n",
            "dense_2 (Dense)              (None, 4096)              16781312  \n",
            "_________________________________________________________________\n",
            "dropout_2 (Dropout)          (None, 4096)              0         \n",
            "_________________________________________________________________\n",
            "dense_3 (Dense)              (None, 4096)              16781312  \n",
            "_________________________________________________________________\n",
            "dropout_3 (Dropout)          (None, 4096)              0         \n",
            "_________________________________________________________________\n",
            "dense_4 (Dense)              (None, 4096)              16781312  \n",
            "_________________________________________________________________\n",
            "dropout_4 (Dropout)          (None, 4096)              0         \n",
            "_________________________________________________________________\n",
            "dense_5 (Dense)              (None, 4)                 16388     \n",
            "=================================================================\n",
            "Total params: 201,402,180\n",
            "Trainable params: 186,687,492\n",
            "Non-trainable params: 14,714,688\n",
            "_________________________________________________________________\n"
          ],
          "name": "stdout"
        }
      ]
    },
    {
      "cell_type": "code",
      "metadata": {
        "id": "dVV7AalX1UWN",
        "colab_type": "code",
        "colab": {
          "base_uri": "https://localhost:8080/",
          "height": 360
        },
        "outputId": "08bd2174-ba0f-41f8-b09b-fbc2a75cd90c"
      },
      "source": [
        "#Confution Matrix and Classification Report\n",
        "from sklearn.metrics import classification_report, confusion_matrix\n",
        "import numpy as np\n",
        "Y_pred = model_final.predict_generator(testdata)\n",
        "y_pred = np.argmax(Y_pred, axis=1)\n",
        "print('Confusion Matrix')\n",
        "print(confusion_matrix(testdata.classes, y_pred))\n",
        "print('Classification Report')\n",
        "target_names = ['grade0', 'grade1', 'grade2','grade3']\n",
        "print(classification_report(testdata.classes, y_pred, target_names=target_names))"
      ],
      "execution_count": null,
      "outputs": [
        {
          "output_type": "stream",
          "text": [
            "Confusion Matrix\n",
            "[[44  0  0  6]\n",
            " [39  0  0 11]\n",
            " [43  0  0  7]\n",
            " [40  0  0 10]]\n",
            "Classification Report\n",
            "              precision    recall  f1-score   support\n",
            "\n",
            "      grade0       0.27      0.88      0.41        50\n",
            "      grade1       0.00      0.00      0.00        50\n",
            "      grade2       0.00      0.00      0.00        50\n",
            "      grade3       0.29      0.20      0.24        50\n",
            "\n",
            "    accuracy                           0.27       200\n",
            "   macro avg       0.14      0.27      0.16       200\n",
            "weighted avg       0.14      0.27      0.16       200\n",
            "\n"
          ],
          "name": "stdout"
        },
        {
          "output_type": "stream",
          "text": [
            "/usr/local/lib/python3.6/dist-packages/sklearn/metrics/_classification.py:1272: UndefinedMetricWarning: Precision and F-score are ill-defined and being set to 0.0 in labels with no predicted samples. Use `zero_division` parameter to control this behavior.\n",
            "  _warn_prf(average, modifier, msg_start, len(result))\n"
          ],
          "name": "stderr"
        }
      ]
    },
    {
      "cell_type": "code",
      "metadata": {
        "id": "WyzYX9WSZK0G",
        "colab_type": "code",
        "colab": {}
      },
      "source": [
        "model_final.compile(loss = \"categorical_crossentropy\", optimizer = keras.optimizers.Adam(lr=0.0001), metrics=[\"accuracy\"])"
      ],
      "execution_count": 13,
      "outputs": []
    },
    {
      "cell_type": "code",
      "metadata": {
        "id": "3JhPnTE8ZRmI",
        "colab_type": "code",
        "colab": {
          "base_uri": "https://localhost:8080/",
          "height": 1000
        },
        "outputId": "066f70c7-1b7e-4abb-de10-85254289d2ea"
      },
      "source": [
        "model_final.summary()"
      ],
      "execution_count": 14,
      "outputs": [
        {
          "output_type": "stream",
          "text": [
            "Model: \"model_1\"\n",
            "_________________________________________________________________\n",
            "Layer (type)                 Output Shape              Param #   \n",
            "=================================================================\n",
            "input_1 (InputLayer)         (None, 224, 224, 3)       0         \n",
            "_________________________________________________________________\n",
            "block1_conv1 (Conv2D)        (None, 224, 224, 64)      1792      \n",
            "_________________________________________________________________\n",
            "block1_conv2 (Conv2D)        (None, 224, 224, 64)      36928     \n",
            "_________________________________________________________________\n",
            "block1_pool (MaxPooling2D)   (None, 112, 112, 64)      0         \n",
            "_________________________________________________________________\n",
            "block2_conv1 (Conv2D)        (None, 112, 112, 128)     73856     \n",
            "_________________________________________________________________\n",
            "block2_conv2 (Conv2D)        (None, 112, 112, 128)     147584    \n",
            "_________________________________________________________________\n",
            "block2_pool (MaxPooling2D)   (None, 56, 56, 128)       0         \n",
            "_________________________________________________________________\n",
            "block3_conv1 (Conv2D)        (None, 56, 56, 256)       295168    \n",
            "_________________________________________________________________\n",
            "block3_conv2 (Conv2D)        (None, 56, 56, 256)       590080    \n",
            "_________________________________________________________________\n",
            "block3_conv3 (Conv2D)        (None, 56, 56, 256)       590080    \n",
            "_________________________________________________________________\n",
            "block3_pool (MaxPooling2D)   (None, 28, 28, 256)       0         \n",
            "_________________________________________________________________\n",
            "block4_conv1 (Conv2D)        (None, 28, 28, 512)       1180160   \n",
            "_________________________________________________________________\n",
            "block4_conv2 (Conv2D)        (None, 28, 28, 512)       2359808   \n",
            "_________________________________________________________________\n",
            "block4_conv3 (Conv2D)        (None, 28, 28, 512)       2359808   \n",
            "_________________________________________________________________\n",
            "block4_pool (MaxPooling2D)   (None, 14, 14, 512)       0         \n",
            "_________________________________________________________________\n",
            "block5_conv1 (Conv2D)        (None, 14, 14, 512)       2359808   \n",
            "_________________________________________________________________\n",
            "block5_conv2 (Conv2D)        (None, 14, 14, 512)       2359808   \n",
            "_________________________________________________________________\n",
            "block5_conv3 (Conv2D)        (None, 14, 14, 512)       2359808   \n",
            "_________________________________________________________________\n",
            "block5_pool (MaxPooling2D)   (None, 7, 7, 512)         0         \n",
            "_________________________________________________________________\n",
            "flatten (Flatten)            (None, 25088)             0         \n",
            "_________________________________________________________________\n",
            "fc1 (Dense)                  (None, 4096)              102764544 \n",
            "_________________________________________________________________\n",
            "fc2 (Dense)                  (None, 4096)              16781312  \n",
            "_________________________________________________________________\n",
            "dense_1 (Dense)              (None, 4096)              16781312  \n",
            "_________________________________________________________________\n",
            "dropout_1 (Dropout)          (None, 4096)              0         \n",
            "_________________________________________________________________\n",
            "dense_2 (Dense)              (None, 4096)              16781312  \n",
            "_________________________________________________________________\n",
            "dropout_2 (Dropout)          (None, 4096)              0         \n",
            "_________________________________________________________________\n",
            "dense_3 (Dense)              (None, 4096)              16781312  \n",
            "_________________________________________________________________\n",
            "dropout_3 (Dropout)          (None, 4096)              0         \n",
            "_________________________________________________________________\n",
            "dense_4 (Dense)              (None, 4096)              16781312  \n",
            "_________________________________________________________________\n",
            "dropout_4 (Dropout)          (None, 4096)              0         \n",
            "_________________________________________________________________\n",
            "dense_5 (Dense)              (None, 4)                 16388     \n",
            "=================================================================\n",
            "Total params: 201,402,180\n",
            "Trainable params: 186,687,492\n",
            "Non-trainable params: 14,714,688\n",
            "_________________________________________________________________\n"
          ],
          "name": "stdout"
        }
      ]
    },
    {
      "cell_type": "code",
      "metadata": {
        "id": "H6dGNtWtZVuK",
        "colab_type": "code",
        "colab": {
          "base_uri": "https://localhost:8080/",
          "height": 1000
        },
        "outputId": "2fa69a21-0071-49ff-f8a2-92e502ccdedc"
      },
      "source": [
        "from keras.callbacks import ModelCheckpoint, EarlyStopping\n",
        "checkpoint = ModelCheckpoint(\"/content/drive/My Drive/Best models/model_m_1.h5\", monitor='val_accuracy', verbose=1, save_best_only=True, save_weights_only=False, mode='auto', period=1)\n",
        "early = EarlyStopping(monitor='val_acc', min_delta=0, patience=10, verbose=1, mode='auto')\n",
        "hist=model_final.fit_generator(traindata, steps_per_epoch=2,epochs= 200, validation_data= testdata,validation_steps=1, callbacks=[checkpoint,early])"
      ],
      "execution_count": 15,
      "outputs": [
        {
          "output_type": "stream",
          "text": [
            "Epoch 1/200\n",
            "2/2 [==============================] - 71s 36s/step - loss: 2.4322 - accuracy: 0.2656 - val_loss: 1.5340 - val_accuracy: 0.3750\n",
            "\n",
            "Epoch 00001: val_accuracy improved from -inf to 0.37500, saving model to /content/drive/My Drive/Best models/model_m_1.h5\n"
          ],
          "name": "stdout"
        },
        {
          "output_type": "stream",
          "text": [
            "/usr/local/lib/python3.6/dist-packages/keras/callbacks/callbacks.py:846: RuntimeWarning: Early stopping conditioned on metric `val_acc` which is not available. Available metrics are: val_loss,val_accuracy,loss,accuracy\n",
            "  (self.monitor, ','.join(list(logs.keys()))), RuntimeWarning\n"
          ],
          "name": "stderr"
        },
        {
          "output_type": "stream",
          "text": [
            "Epoch 2/200\n",
            "2/2 [==============================] - 57s 29s/step - loss: 1.2598 - accuracy: 0.4375 - val_loss: 1.2089 - val_accuracy: 0.5625\n",
            "\n",
            "Epoch 00002: val_accuracy improved from 0.37500 to 0.56250, saving model to /content/drive/My Drive/Best models/model_m_1.h5\n",
            "Epoch 3/200\n",
            "2/2 [==============================] - 58s 29s/step - loss: 1.4402 - accuracy: 0.3750 - val_loss: 1.2338 - val_accuracy: 0.4688\n",
            "\n",
            "Epoch 00003: val_accuracy did not improve from 0.56250\n",
            "Epoch 4/200\n",
            "2/2 [==============================] - 51s 25s/step - loss: 1.2448 - accuracy: 0.5000 - val_loss: 1.3112 - val_accuracy: 0.4062\n",
            "\n",
            "Epoch 00004: val_accuracy did not improve from 0.56250\n",
            "Epoch 5/200\n",
            "2/2 [==============================] - 51s 25s/step - loss: 1.1049 - accuracy: 0.5312 - val_loss: 0.8800 - val_accuracy: 0.5000\n",
            "\n",
            "Epoch 00005: val_accuracy did not improve from 0.56250\n",
            "Epoch 6/200\n",
            "2/2 [==============================] - 52s 26s/step - loss: 0.9003 - accuracy: 0.6875 - val_loss: 0.8140 - val_accuracy: 0.6250\n",
            "\n",
            "Epoch 00006: val_accuracy improved from 0.56250 to 0.62500, saving model to /content/drive/My Drive/Best models/model_m_1.h5\n",
            "Epoch 7/200\n",
            "2/2 [==============================] - 46s 23s/step - loss: 0.8346 - accuracy: 0.5781 - val_loss: 1.2759 - val_accuracy: 0.5000\n",
            "\n",
            "Epoch 00007: val_accuracy did not improve from 0.62500\n",
            "Epoch 8/200\n",
            "2/2 [==============================] - 50s 25s/step - loss: 0.9674 - accuracy: 0.6406 - val_loss: 1.5993 - val_accuracy: 0.4062\n",
            "\n",
            "Epoch 00008: val_accuracy did not improve from 0.62500\n",
            "Epoch 9/200\n",
            "2/2 [==============================] - 49s 25s/step - loss: 0.9643 - accuracy: 0.6250 - val_loss: 0.8346 - val_accuracy: 0.6562\n",
            "\n",
            "Epoch 00009: val_accuracy improved from 0.62500 to 0.65625, saving model to /content/drive/My Drive/Best models/model_m_1.h5\n",
            "Epoch 10/200\n",
            "2/2 [==============================] - 56s 28s/step - loss: 0.5917 - accuracy: 0.7969 - val_loss: 0.5399 - val_accuracy: 0.7188\n",
            "\n",
            "Epoch 00010: val_accuracy improved from 0.65625 to 0.71875, saving model to /content/drive/My Drive/Best models/model_m_1.h5\n",
            "Epoch 11/200\n",
            "2/2 [==============================] - 57s 28s/step - loss: 0.6198 - accuracy: 0.7188 - val_loss: 1.1274 - val_accuracy: 0.5938\n",
            "\n",
            "Epoch 00011: val_accuracy did not improve from 0.71875\n",
            "Epoch 12/200\n",
            "2/2 [==============================] - 49s 25s/step - loss: 0.5514 - accuracy: 0.7812 - val_loss: 0.8672 - val_accuracy: 0.5938\n",
            "\n",
            "Epoch 00012: val_accuracy did not improve from 0.71875\n",
            "Epoch 13/200\n",
            "2/2 [==============================] - 54s 27s/step - loss: 0.7828 - accuracy: 0.6562 - val_loss: 0.6777 - val_accuracy: 0.6875\n",
            "\n",
            "Epoch 00013: val_accuracy did not improve from 0.71875\n",
            "Epoch 14/200\n",
            "2/2 [==============================] - 39s 20s/step - loss: 0.7384 - accuracy: 0.7188 - val_loss: 0.4072 - val_accuracy: 0.7500\n",
            "\n",
            "Epoch 00014: val_accuracy improved from 0.71875 to 0.75000, saving model to /content/drive/My Drive/Best models/model_m_1.h5\n",
            "Epoch 15/200\n",
            "2/2 [==============================] - 57s 29s/step - loss: 0.7886 - accuracy: 0.6875 - val_loss: 0.7267 - val_accuracy: 0.6562\n",
            "\n",
            "Epoch 00015: val_accuracy did not improve from 0.75000\n",
            "Epoch 16/200\n",
            "2/2 [==============================] - 50s 25s/step - loss: 0.7635 - accuracy: 0.6719 - val_loss: 1.1435 - val_accuracy: 0.4688\n",
            "\n",
            "Epoch 00016: val_accuracy did not improve from 0.75000\n",
            "Epoch 17/200\n",
            "2/2 [==============================] - 50s 25s/step - loss: 0.8141 - accuracy: 0.6250 - val_loss: 0.8412 - val_accuracy: 0.5625\n",
            "\n",
            "Epoch 00017: val_accuracy did not improve from 0.75000\n",
            "Epoch 18/200\n",
            "2/2 [==============================] - 50s 25s/step - loss: 0.6543 - accuracy: 0.6250 - val_loss: 0.5150 - val_accuracy: 0.8125\n",
            "\n",
            "Epoch 00018: val_accuracy improved from 0.75000 to 0.81250, saving model to /content/drive/My Drive/Best models/model_m_1.h5\n",
            "Epoch 19/200\n",
            "2/2 [==============================] - 57s 28s/step - loss: 0.5112 - accuracy: 0.8438 - val_loss: 0.5868 - val_accuracy: 0.8438\n",
            "\n",
            "Epoch 00019: val_accuracy improved from 0.81250 to 0.84375, saving model to /content/drive/My Drive/Best models/model_m_1.h5\n",
            "Epoch 20/200\n",
            "2/2 [==============================] - 59s 30s/step - loss: 0.8379 - accuracy: 0.6406 - val_loss: 0.7842 - val_accuracy: 0.6250\n",
            "\n",
            "Epoch 00020: val_accuracy did not improve from 0.84375\n",
            "Epoch 21/200\n",
            "2/2 [==============================] - 39s 20s/step - loss: 0.7918 - accuracy: 0.6875 - val_loss: 0.6899 - val_accuracy: 0.7500\n",
            "\n",
            "Epoch 00021: val_accuracy did not improve from 0.84375\n",
            "Epoch 22/200\n",
            "2/2 [==============================] - 49s 25s/step - loss: 0.7815 - accuracy: 0.6094 - val_loss: 0.6701 - val_accuracy: 0.7188\n",
            "\n",
            "Epoch 00022: val_accuracy did not improve from 0.84375\n",
            "Epoch 23/200\n",
            "2/2 [==============================] - 49s 25s/step - loss: 0.6445 - accuracy: 0.7344 - val_loss: 0.6440 - val_accuracy: 0.7812\n",
            "\n",
            "Epoch 00023: val_accuracy did not improve from 0.84375\n",
            "Epoch 24/200\n",
            "2/2 [==============================] - 49s 25s/step - loss: 0.7263 - accuracy: 0.7031 - val_loss: 0.4611 - val_accuracy: 0.8438\n",
            "\n",
            "Epoch 00024: val_accuracy did not improve from 0.84375\n",
            "Epoch 25/200\n",
            "2/2 [==============================] - 53s 27s/step - loss: 0.5797 - accuracy: 0.7969 - val_loss: 0.5683 - val_accuracy: 0.7500\n",
            "\n",
            "Epoch 00025: val_accuracy did not improve from 0.84375\n",
            "Epoch 26/200\n",
            "2/2 [==============================] - 50s 25s/step - loss: 0.5861 - accuracy: 0.7656 - val_loss: 0.9537 - val_accuracy: 0.6562\n",
            "\n",
            "Epoch 00026: val_accuracy did not improve from 0.84375\n",
            "Epoch 27/200\n",
            "2/2 [==============================] - 51s 25s/step - loss: 0.6652 - accuracy: 0.7031 - val_loss: 0.7869 - val_accuracy: 0.7500\n",
            "\n",
            "Epoch 00027: val_accuracy did not improve from 0.84375\n",
            "Epoch 28/200\n",
            "2/2 [==============================] - 40s 20s/step - loss: 0.4630 - accuracy: 0.8125 - val_loss: 1.1178 - val_accuracy: 0.5000\n",
            "\n",
            "Epoch 00028: val_accuracy did not improve from 0.84375\n",
            "Epoch 29/200\n",
            "2/2 [==============================] - 50s 25s/step - loss: 0.4785 - accuracy: 0.7969 - val_loss: 0.8500 - val_accuracy: 0.6875\n",
            "\n",
            "Epoch 00029: val_accuracy did not improve from 0.84375\n",
            "Epoch 30/200\n",
            "2/2 [==============================] - 50s 25s/step - loss: 0.5876 - accuracy: 0.8125 - val_loss: 0.4306 - val_accuracy: 0.9062\n",
            "\n",
            "Epoch 00030: val_accuracy improved from 0.84375 to 0.90625, saving model to /content/drive/My Drive/Best models/model_m_1.h5\n",
            "Epoch 31/200\n",
            "2/2 [==============================] - 56s 28s/step - loss: 0.6799 - accuracy: 0.7812 - val_loss: 0.5141 - val_accuracy: 0.8125\n",
            "\n",
            "Epoch 00031: val_accuracy did not improve from 0.90625\n",
            "Epoch 32/200\n",
            "2/2 [==============================] - 50s 25s/step - loss: 0.5654 - accuracy: 0.8438 - val_loss: 0.4793 - val_accuracy: 0.7812\n",
            "\n",
            "Epoch 00032: val_accuracy did not improve from 0.90625\n",
            "Epoch 33/200\n",
            "2/2 [==============================] - 49s 25s/step - loss: 0.6912 - accuracy: 0.7656 - val_loss: 0.7264 - val_accuracy: 0.8125\n",
            "\n",
            "Epoch 00033: val_accuracy did not improve from 0.90625\n",
            "Epoch 34/200\n",
            "2/2 [==============================] - 49s 25s/step - loss: 0.5861 - accuracy: 0.7812 - val_loss: 0.8677 - val_accuracy: 0.7812\n",
            "\n",
            "Epoch 00034: val_accuracy did not improve from 0.90625\n",
            "Epoch 35/200\n",
            "2/2 [==============================] - 39s 19s/step - loss: 0.9176 - accuracy: 0.6719 - val_loss: 1.5759 - val_accuracy: 0.5000\n",
            "\n",
            "Epoch 00035: val_accuracy did not improve from 0.90625\n",
            "Epoch 36/200\n",
            "2/2 [==============================] - 49s 25s/step - loss: 0.6054 - accuracy: 0.7500 - val_loss: 0.6162 - val_accuracy: 0.7500\n",
            "\n",
            "Epoch 00036: val_accuracy did not improve from 0.90625\n",
            "Epoch 37/200\n",
            "2/2 [==============================] - 50s 25s/step - loss: 0.7038 - accuracy: 0.7031 - val_loss: 0.5097 - val_accuracy: 0.7812\n",
            "\n",
            "Epoch 00037: val_accuracy did not improve from 0.90625\n",
            "Epoch 38/200\n",
            "2/2 [==============================] - 59s 30s/step - loss: 0.5912 - accuracy: 0.7500 - val_loss: 0.8122 - val_accuracy: 0.7188\n",
            "\n",
            "Epoch 00038: val_accuracy did not improve from 0.90625\n",
            "Epoch 39/200\n",
            "2/2 [==============================] - 50s 25s/step - loss: 0.5238 - accuracy: 0.7500 - val_loss: 0.4895 - val_accuracy: 0.7812\n",
            "\n",
            "Epoch 00039: val_accuracy did not improve from 0.90625\n",
            "Epoch 40/200\n",
            "2/2 [==============================] - 50s 25s/step - loss: 0.5169 - accuracy: 0.7656 - val_loss: 0.4550 - val_accuracy: 0.7188\n",
            "\n",
            "Epoch 00040: val_accuracy did not improve from 0.90625\n",
            "Epoch 41/200\n",
            "2/2 [==============================] - 50s 25s/step - loss: 0.6437 - accuracy: 0.7188 - val_loss: 0.7395 - val_accuracy: 0.8125\n",
            "\n",
            "Epoch 00041: val_accuracy did not improve from 0.90625\n",
            "Epoch 42/200\n",
            "2/2 [==============================] - 39s 20s/step - loss: 0.4871 - accuracy: 0.7344 - val_loss: 0.0633 - val_accuracy: 1.0000\n",
            "\n",
            "Epoch 00042: val_accuracy improved from 0.90625 to 1.00000, saving model to /content/drive/My Drive/Best models/model_m_1.h5\n",
            "Epoch 43/200\n",
            "2/2 [==============================] - 57s 28s/step - loss: 0.5747 - accuracy: 0.7812 - val_loss: 0.7455 - val_accuracy: 0.7188\n",
            "\n",
            "Epoch 00043: val_accuracy did not improve from 1.00000\n",
            "Epoch 44/200\n",
            "2/2 [==============================] - 50s 25s/step - loss: 0.5708 - accuracy: 0.7812 - val_loss: 0.5309 - val_accuracy: 0.8125\n",
            "\n",
            "Epoch 00044: val_accuracy did not improve from 1.00000\n",
            "Epoch 45/200\n",
            "2/2 [==============================] - 50s 25s/step - loss: 0.3558 - accuracy: 0.8594 - val_loss: 0.4378 - val_accuracy: 0.7812\n",
            "\n",
            "Epoch 00045: val_accuracy did not improve from 1.00000\n",
            "Epoch 46/200\n",
            "2/2 [==============================] - 49s 25s/step - loss: 0.6024 - accuracy: 0.7656 - val_loss: 0.3497 - val_accuracy: 0.8438\n",
            "\n",
            "Epoch 00046: val_accuracy did not improve from 1.00000\n",
            "Epoch 47/200\n",
            "2/2 [==============================] - 49s 25s/step - loss: 0.6592 - accuracy: 0.7969 - val_loss: 0.5939 - val_accuracy: 0.8125\n",
            "\n",
            "Epoch 00047: val_accuracy did not improve from 1.00000\n",
            "Epoch 48/200\n",
            "2/2 [==============================] - 50s 25s/step - loss: 0.5198 - accuracy: 0.7344 - val_loss: 0.5715 - val_accuracy: 0.7500\n",
            "\n",
            "Epoch 00048: val_accuracy did not improve from 1.00000\n",
            "Epoch 49/200\n",
            "2/2 [==============================] - 40s 20s/step - loss: 0.4609 - accuracy: 0.7969 - val_loss: 0.3773 - val_accuracy: 0.8750\n",
            "\n",
            "Epoch 00049: val_accuracy did not improve from 1.00000\n",
            "Epoch 50/200\n",
            "2/2 [==============================] - 53s 27s/step - loss: 0.7970 - accuracy: 0.6875 - val_loss: 0.5497 - val_accuracy: 0.8125\n",
            "\n",
            "Epoch 00050: val_accuracy did not improve from 1.00000\n",
            "Epoch 51/200\n",
            "2/2 [==============================] - 50s 25s/step - loss: 0.4951 - accuracy: 0.7812 - val_loss: 0.6000 - val_accuracy: 0.8438\n",
            "\n",
            "Epoch 00051: val_accuracy did not improve from 1.00000\n",
            "Epoch 52/200\n",
            "2/2 [==============================] - 50s 25s/step - loss: 0.5330 - accuracy: 0.7500 - val_loss: 0.3665 - val_accuracy: 0.9062\n",
            "\n",
            "Epoch 00052: val_accuracy did not improve from 1.00000\n",
            "Epoch 53/200\n",
            "2/2 [==============================] - 50s 25s/step - loss: 0.5306 - accuracy: 0.8750 - val_loss: 0.6614 - val_accuracy: 0.6250\n",
            "\n",
            "Epoch 00053: val_accuracy did not improve from 1.00000\n",
            "Epoch 54/200\n",
            "2/2 [==============================] - 51s 25s/step - loss: 0.5699 - accuracy: 0.7031 - val_loss: 0.5075 - val_accuracy: 0.9062\n",
            "\n",
            "Epoch 00054: val_accuracy did not improve from 1.00000\n",
            "Epoch 55/200\n",
            "2/2 [==============================] - 52s 26s/step - loss: 0.4779 - accuracy: 0.7812 - val_loss: 0.5725 - val_accuracy: 0.7500\n",
            "\n",
            "Epoch 00055: val_accuracy did not improve from 1.00000\n",
            "Epoch 56/200\n",
            "2/2 [==============================] - 41s 21s/step - loss: 0.4047 - accuracy: 0.8906 - val_loss: 0.1942 - val_accuracy: 0.8750\n",
            "\n",
            "Epoch 00056: val_accuracy did not improve from 1.00000\n",
            "Epoch 57/200\n",
            "2/2 [==============================] - 51s 25s/step - loss: 0.5855 - accuracy: 0.7812 - val_loss: 0.6688 - val_accuracy: 0.8125\n",
            "\n",
            "Epoch 00057: val_accuracy did not improve from 1.00000\n",
            "Epoch 58/200\n",
            "2/2 [==============================] - 50s 25s/step - loss: 0.5922 - accuracy: 0.7656 - val_loss: 0.4046 - val_accuracy: 0.8750\n",
            "\n",
            "Epoch 00058: val_accuracy did not improve from 1.00000\n",
            "Epoch 59/200\n",
            "2/2 [==============================] - 50s 25s/step - loss: 0.5994 - accuracy: 0.7500 - val_loss: 0.4421 - val_accuracy: 0.8125\n",
            "\n",
            "Epoch 00059: val_accuracy did not improve from 1.00000\n",
            "Epoch 60/200\n",
            "2/2 [==============================] - 50s 25s/step - loss: 0.6805 - accuracy: 0.7344 - val_loss: 0.6287 - val_accuracy: 0.7500\n",
            "\n",
            "Epoch 00060: val_accuracy did not improve from 1.00000\n",
            "Epoch 61/200\n",
            "2/2 [==============================] - 50s 25s/step - loss: 0.5805 - accuracy: 0.7500 - val_loss: 0.7037 - val_accuracy: 0.6875\n",
            "\n",
            "Epoch 00061: val_accuracy did not improve from 1.00000\n",
            "Epoch 62/200\n",
            "2/2 [==============================] - 50s 25s/step - loss: 0.4966 - accuracy: 0.8281 - val_loss: 0.3636 - val_accuracy: 0.8750\n",
            "\n",
            "Epoch 00062: val_accuracy did not improve from 1.00000\n",
            "Epoch 63/200\n",
            "2/2 [==============================] - 43s 22s/step - loss: 0.5596 - accuracy: 0.7656 - val_loss: 0.2182 - val_accuracy: 1.0000\n",
            "\n",
            "Epoch 00063: val_accuracy did not improve from 1.00000\n",
            "Epoch 64/200\n",
            "2/2 [==============================] - 50s 25s/step - loss: 0.6557 - accuracy: 0.7188 - val_loss: 0.5402 - val_accuracy: 0.7812\n",
            "\n",
            "Epoch 00064: val_accuracy did not improve from 1.00000\n",
            "Epoch 65/200\n",
            "2/2 [==============================] - 50s 25s/step - loss: 0.5525 - accuracy: 0.8438 - val_loss: 0.6234 - val_accuracy: 0.7500\n",
            "\n",
            "Epoch 00065: val_accuracy did not improve from 1.00000\n",
            "Epoch 66/200\n",
            "2/2 [==============================] - 51s 25s/step - loss: 0.6493 - accuracy: 0.6250 - val_loss: 0.5434 - val_accuracy: 0.7188\n",
            "\n",
            "Epoch 00066: val_accuracy did not improve from 1.00000\n",
            "Epoch 67/200\n",
            "2/2 [==============================] - 50s 25s/step - loss: 0.6709 - accuracy: 0.7344 - val_loss: 0.4363 - val_accuracy: 0.8438\n",
            "\n",
            "Epoch 00067: val_accuracy did not improve from 1.00000\n",
            "Epoch 68/200\n",
            "2/2 [==============================] - 50s 25s/step - loss: 0.4200 - accuracy: 0.8438 - val_loss: 0.5633 - val_accuracy: 0.7500\n",
            "\n",
            "Epoch 00068: val_accuracy did not improve from 1.00000\n",
            "Epoch 69/200\n",
            "2/2 [==============================] - 50s 25s/step - loss: 0.4938 - accuracy: 0.7656 - val_loss: 0.4965 - val_accuracy: 0.8750\n",
            "\n",
            "Epoch 00069: val_accuracy did not improve from 1.00000\n",
            "Epoch 70/200\n",
            "2/2 [==============================] - 39s 19s/step - loss: 0.3445 - accuracy: 0.8594 - val_loss: 0.2403 - val_accuracy: 0.8750\n",
            "\n",
            "Epoch 00070: val_accuracy did not improve from 1.00000\n",
            "Epoch 71/200\n",
            "2/2 [==============================] - 49s 25s/step - loss: 0.2716 - accuracy: 0.9062 - val_loss: 0.5447 - val_accuracy: 0.7188\n",
            "\n",
            "Epoch 00071: val_accuracy did not improve from 1.00000\n",
            "Epoch 72/200\n",
            "2/2 [==============================] - 49s 25s/step - loss: 0.4080 - accuracy: 0.7969 - val_loss: 0.7571 - val_accuracy: 0.8125\n",
            "\n",
            "Epoch 00072: val_accuracy did not improve from 1.00000\n",
            "Epoch 73/200\n",
            "2/2 [==============================] - 49s 25s/step - loss: 0.4332 - accuracy: 0.8125 - val_loss: 0.8762 - val_accuracy: 0.6875\n",
            "\n",
            "Epoch 00073: val_accuracy did not improve from 1.00000\n",
            "Epoch 74/200\n",
            "2/2 [==============================] - 49s 25s/step - loss: 0.6812 - accuracy: 0.7812 - val_loss: 0.7124 - val_accuracy: 0.7812\n",
            "\n",
            "Epoch 00074: val_accuracy did not improve from 1.00000\n",
            "Epoch 75/200\n",
            "2/2 [==============================] - 55s 27s/step - loss: 0.5458 - accuracy: 0.8281 - val_loss: 0.2527 - val_accuracy: 0.9062\n",
            "\n",
            "Epoch 00075: val_accuracy did not improve from 1.00000\n",
            "Epoch 76/200\n",
            "2/2 [==============================] - 50s 25s/step - loss: 0.4504 - accuracy: 0.7812 - val_loss: 0.4245 - val_accuracy: 0.9062\n",
            "\n",
            "Epoch 00076: val_accuracy did not improve from 1.00000\n",
            "Epoch 77/200\n",
            "2/2 [==============================] - 39s 20s/step - loss: 0.6572 - accuracy: 0.6719 - val_loss: 0.8234 - val_accuracy: 0.8750\n",
            "\n",
            "Epoch 00077: val_accuracy did not improve from 1.00000\n",
            "Epoch 78/200\n",
            "2/2 [==============================] - 51s 26s/step - loss: 0.5535 - accuracy: 0.7656 - val_loss: 0.4755 - val_accuracy: 0.7500\n",
            "\n",
            "Epoch 00078: val_accuracy did not improve from 1.00000\n",
            "Epoch 79/200\n",
            "2/2 [==============================] - 50s 25s/step - loss: 0.5858 - accuracy: 0.7656 - val_loss: 0.5302 - val_accuracy: 0.8438\n",
            "\n",
            "Epoch 00079: val_accuracy did not improve from 1.00000\n",
            "Epoch 80/200\n",
            "2/2 [==============================] - 50s 25s/step - loss: 0.6365 - accuracy: 0.7031 - val_loss: 0.4978 - val_accuracy: 0.7500\n",
            "\n",
            "Epoch 00080: val_accuracy did not improve from 1.00000\n",
            "Epoch 81/200\n",
            "2/2 [==============================] - 51s 25s/step - loss: 0.5533 - accuracy: 0.7031 - val_loss: 0.6041 - val_accuracy: 0.6875\n",
            "\n",
            "Epoch 00081: val_accuracy did not improve from 1.00000\n",
            "Epoch 82/200\n",
            "2/2 [==============================] - 51s 25s/step - loss: 0.7074 - accuracy: 0.7500 - val_loss: 0.4489 - val_accuracy: 0.8125\n",
            "\n",
            "Epoch 00082: val_accuracy did not improve from 1.00000\n",
            "Epoch 83/200\n",
            "2/2 [==============================] - 49s 25s/step - loss: 0.4958 - accuracy: 0.7656 - val_loss: 0.6084 - val_accuracy: 0.6875\n",
            "\n",
            "Epoch 00083: val_accuracy did not improve from 1.00000\n",
            "Epoch 84/200\n",
            "2/2 [==============================] - 39s 19s/step - loss: 0.5948 - accuracy: 0.7188 - val_loss: 1.1524 - val_accuracy: 0.8750\n",
            "\n",
            "Epoch 00084: val_accuracy did not improve from 1.00000\n",
            "Epoch 85/200\n",
            "2/2 [==============================] - 50s 25s/step - loss: 0.3923 - accuracy: 0.8438 - val_loss: 0.3642 - val_accuracy: 0.7812\n",
            "\n",
            "Epoch 00085: val_accuracy did not improve from 1.00000\n",
            "Epoch 86/200\n",
            "2/2 [==============================] - 49s 25s/step - loss: 0.4419 - accuracy: 0.8125 - val_loss: 0.4683 - val_accuracy: 0.7812\n",
            "\n",
            "Epoch 00086: val_accuracy did not improve from 1.00000\n",
            "Epoch 87/200\n",
            "2/2 [==============================] - 50s 25s/step - loss: 0.3896 - accuracy: 0.8125 - val_loss: 0.6755 - val_accuracy: 0.6875\n",
            "\n",
            "Epoch 00087: val_accuracy did not improve from 1.00000\n",
            "Epoch 88/200\n",
            "2/2 [==============================] - 54s 27s/step - loss: 0.3528 - accuracy: 0.8750 - val_loss: 0.3685 - val_accuracy: 0.8750\n",
            "\n",
            "Epoch 00088: val_accuracy did not improve from 1.00000\n",
            "Epoch 89/200\n",
            "2/2 [==============================] - 50s 25s/step - loss: 0.5393 - accuracy: 0.8125 - val_loss: 0.6285 - val_accuracy: 0.6875\n",
            "\n",
            "Epoch 00089: val_accuracy did not improve from 1.00000\n",
            "Epoch 90/200\n",
            "2/2 [==============================] - 50s 25s/step - loss: 0.4087 - accuracy: 0.8594 - val_loss: 0.7773 - val_accuracy: 0.8438\n",
            "\n",
            "Epoch 00090: val_accuracy did not improve from 1.00000\n",
            "Epoch 91/200\n",
            "2/2 [==============================] - 40s 20s/step - loss: 0.4241 - accuracy: 0.8750 - val_loss: 0.0893 - val_accuracy: 1.0000\n",
            "\n",
            "Epoch 00091: val_accuracy did not improve from 1.00000\n",
            "Epoch 92/200\n",
            "2/2 [==============================] - 50s 25s/step - loss: 0.4931 - accuracy: 0.8125 - val_loss: 0.3822 - val_accuracy: 0.9062\n",
            "\n",
            "Epoch 00092: val_accuracy did not improve from 1.00000\n",
            "Epoch 93/200\n",
            "2/2 [==============================] - 50s 25s/step - loss: 0.5053 - accuracy: 0.8281 - val_loss: 0.4592 - val_accuracy: 0.7812\n",
            "\n",
            "Epoch 00093: val_accuracy did not improve from 1.00000\n",
            "Epoch 94/200\n",
            "2/2 [==============================] - 51s 26s/step - loss: 0.3261 - accuracy: 0.8906 - val_loss: 0.3442 - val_accuracy: 0.8750\n",
            "\n",
            "Epoch 00094: val_accuracy did not improve from 1.00000\n",
            "Epoch 95/200\n",
            "2/2 [==============================] - 50s 25s/step - loss: 0.5639 - accuracy: 0.7969 - val_loss: 0.4733 - val_accuracy: 0.8438\n",
            "\n",
            "Epoch 00095: val_accuracy did not improve from 1.00000\n",
            "Epoch 96/200\n",
            "2/2 [==============================] - 49s 25s/step - loss: 0.4480 - accuracy: 0.8281 - val_loss: 0.9008 - val_accuracy: 0.7188\n",
            "\n",
            "Epoch 00096: val_accuracy did not improve from 1.00000\n",
            "Epoch 97/200\n",
            "2/2 [==============================] - 49s 25s/step - loss: 0.4424 - accuracy: 0.7969 - val_loss: 0.3705 - val_accuracy: 0.8438\n",
            "\n",
            "Epoch 00097: val_accuracy did not improve from 1.00000\n",
            "Epoch 98/200\n",
            "2/2 [==============================] - 39s 20s/step - loss: 0.4362 - accuracy: 0.8125 - val_loss: 0.9732 - val_accuracy: 0.6250\n",
            "\n",
            "Epoch 00098: val_accuracy did not improve from 1.00000\n",
            "Epoch 99/200\n",
            "2/2 [==============================] - 50s 25s/step - loss: 0.5314 - accuracy: 0.7812 - val_loss: 0.3000 - val_accuracy: 0.9062\n",
            "\n",
            "Epoch 00099: val_accuracy did not improve from 1.00000\n",
            "Epoch 100/200\n",
            "2/2 [==============================] - 54s 27s/step - loss: 0.2582 - accuracy: 0.9219 - val_loss: 0.7173 - val_accuracy: 0.7500\n",
            "\n",
            "Epoch 00100: val_accuracy did not improve from 1.00000\n",
            "Epoch 101/200\n",
            "2/2 [==============================] - 52s 26s/step - loss: 0.6312 - accuracy: 0.7656 - val_loss: 1.0157 - val_accuracy: 0.6562\n",
            "\n",
            "Epoch 00101: val_accuracy did not improve from 1.00000\n",
            "Epoch 102/200\n",
            "2/2 [==============================] - 51s 25s/step - loss: 0.5563 - accuracy: 0.7344 - val_loss: 0.3292 - val_accuracy: 0.9375\n",
            "\n",
            "Epoch 00102: val_accuracy did not improve from 1.00000\n",
            "Epoch 103/200\n",
            "2/2 [==============================] - 50s 25s/step - loss: 0.4232 - accuracy: 0.8438 - val_loss: 0.4170 - val_accuracy: 0.7188\n",
            "\n",
            "Epoch 00103: val_accuracy did not improve from 1.00000\n",
            "Epoch 104/200\n",
            "2/2 [==============================] - 51s 25s/step - loss: 0.6330 - accuracy: 0.7344 - val_loss: 0.7646 - val_accuracy: 0.8125\n",
            "\n",
            "Epoch 00104: val_accuracy did not improve from 1.00000\n",
            "Epoch 105/200\n",
            "2/2 [==============================] - 39s 20s/step - loss: 0.7032 - accuracy: 0.6562 - val_loss: 0.3737 - val_accuracy: 0.8750\n",
            "\n",
            "Epoch 00105: val_accuracy did not improve from 1.00000\n",
            "Epoch 106/200\n",
            "2/2 [==============================] - 50s 25s/step - loss: 0.5135 - accuracy: 0.7656 - val_loss: 0.4635 - val_accuracy: 0.8438\n",
            "\n",
            "Epoch 00106: val_accuracy did not improve from 1.00000\n",
            "Epoch 107/200\n",
            "2/2 [==============================] - 50s 25s/step - loss: 0.4709 - accuracy: 0.8594 - val_loss: 0.5517 - val_accuracy: 0.7188\n",
            "\n",
            "Epoch 00107: val_accuracy did not improve from 1.00000\n",
            "Epoch 108/200\n",
            "2/2 [==============================] - 50s 25s/step - loss: 0.6364 - accuracy: 0.7188 - val_loss: 0.6744 - val_accuracy: 0.7812\n",
            "\n",
            "Epoch 00108: val_accuracy did not improve from 1.00000\n",
            "Epoch 109/200\n",
            "2/2 [==============================] - 50s 25s/step - loss: 0.3285 - accuracy: 0.8281 - val_loss: 0.4540 - val_accuracy: 0.8438\n",
            "\n",
            "Epoch 00109: val_accuracy did not improve from 1.00000\n",
            "Epoch 110/200\n",
            "2/2 [==============================] - 50s 25s/step - loss: 0.7192 - accuracy: 0.6406 - val_loss: 0.5944 - val_accuracy: 0.7188\n",
            "\n",
            "Epoch 00110: val_accuracy did not improve from 1.00000\n",
            "Epoch 111/200\n",
            "2/2 [==============================] - 50s 25s/step - loss: 0.4210 - accuracy: 0.8125 - val_loss: 0.4242 - val_accuracy: 0.8438\n",
            "\n",
            "Epoch 00111: val_accuracy did not improve from 1.00000\n",
            "Epoch 112/200\n",
            "2/2 [==============================] - 39s 20s/step - loss: 0.3012 - accuracy: 0.9219 - val_loss: 0.4111 - val_accuracy: 0.7500\n",
            "\n",
            "Epoch 00112: val_accuracy did not improve from 1.00000\n",
            "Epoch 113/200\n",
            "2/2 [==============================] - 54s 27s/step - loss: 0.6788 - accuracy: 0.7188 - val_loss: 0.3527 - val_accuracy: 0.8125\n",
            "\n",
            "Epoch 00113: val_accuracy did not improve from 1.00000\n",
            "Epoch 114/200\n",
            "2/2 [==============================] - 50s 25s/step - loss: 0.4519 - accuracy: 0.8281 - val_loss: 0.4415 - val_accuracy: 0.8125\n",
            "\n",
            "Epoch 00114: val_accuracy did not improve from 1.00000\n",
            "Epoch 115/200\n",
            "2/2 [==============================] - 51s 25s/step - loss: 0.6274 - accuracy: 0.6406 - val_loss: 0.7173 - val_accuracy: 0.8125\n",
            "\n",
            "Epoch 00115: val_accuracy did not improve from 1.00000\n",
            "Epoch 116/200\n",
            "2/2 [==============================] - 50s 25s/step - loss: 0.3892 - accuracy: 0.8125 - val_loss: 0.5768 - val_accuracy: 0.7188\n",
            "\n",
            "Epoch 00116: val_accuracy did not improve from 1.00000\n",
            "Epoch 117/200\n",
            "2/2 [==============================] - 50s 25s/step - loss: 0.5191 - accuracy: 0.7500 - val_loss: 0.5951 - val_accuracy: 0.7500\n",
            "\n",
            "Epoch 00117: val_accuracy did not improve from 1.00000\n",
            "Epoch 118/200\n",
            "2/2 [==============================] - 50s 25s/step - loss: 0.5653 - accuracy: 0.8125 - val_loss: 0.5118 - val_accuracy: 0.8125\n",
            "\n",
            "Epoch 00118: val_accuracy did not improve from 1.00000\n",
            "Epoch 119/200\n",
            "2/2 [==============================] - 39s 20s/step - loss: 0.3165 - accuracy: 0.8906 - val_loss: 0.1398 - val_accuracy: 1.0000\n",
            "\n",
            "Epoch 00119: val_accuracy did not improve from 1.00000\n",
            "Epoch 120/200\n",
            "2/2 [==============================] - 50s 25s/step - loss: 0.4927 - accuracy: 0.7969 - val_loss: 0.6499 - val_accuracy: 0.8438\n",
            "\n",
            "Epoch 00120: val_accuracy did not improve from 1.00000\n",
            "Epoch 121/200\n",
            "2/2 [==============================] - 50s 25s/step - loss: 0.4387 - accuracy: 0.7969 - val_loss: 0.5261 - val_accuracy: 0.7188\n",
            "\n",
            "Epoch 00121: val_accuracy did not improve from 1.00000\n",
            "Epoch 122/200\n",
            "2/2 [==============================] - 50s 25s/step - loss: 0.4464 - accuracy: 0.8125 - val_loss: 0.7115 - val_accuracy: 0.7500\n",
            "\n",
            "Epoch 00122: val_accuracy did not improve from 1.00000\n",
            "Epoch 123/200\n",
            "2/2 [==============================] - 50s 25s/step - loss: 0.4106 - accuracy: 0.9062 - val_loss: 0.4774 - val_accuracy: 0.8438\n",
            "\n",
            "Epoch 00123: val_accuracy did not improve from 1.00000\n",
            "Epoch 124/200\n",
            "2/2 [==============================] - 50s 25s/step - loss: 0.2977 - accuracy: 0.8281 - val_loss: 0.6125 - val_accuracy: 0.8125\n",
            "\n",
            "Epoch 00124: val_accuracy did not improve from 1.00000\n",
            "Epoch 125/200\n",
            "2/2 [==============================] - 54s 27s/step - loss: 0.6734 - accuracy: 0.7500 - val_loss: 0.5633 - val_accuracy: 0.8125\n",
            "\n",
            "Epoch 00125: val_accuracy did not improve from 1.00000\n",
            "Epoch 126/200\n",
            "2/2 [==============================] - 39s 20s/step - loss: 0.3698 - accuracy: 0.8594 - val_loss: 0.9220 - val_accuracy: 0.7500\n",
            "\n",
            "Epoch 00126: val_accuracy did not improve from 1.00000\n",
            "Epoch 127/200\n",
            "2/2 [==============================] - 50s 25s/step - loss: 0.5564 - accuracy: 0.7656 - val_loss: 0.5460 - val_accuracy: 0.7812\n",
            "\n",
            "Epoch 00127: val_accuracy did not improve from 1.00000\n",
            "Epoch 128/200\n",
            "2/2 [==============================] - 51s 25s/step - loss: 0.7167 - accuracy: 0.7188 - val_loss: 0.6271 - val_accuracy: 0.7812\n",
            "\n",
            "Epoch 00128: val_accuracy did not improve from 1.00000\n",
            "Epoch 129/200\n",
            "2/2 [==============================] - 50s 25s/step - loss: 0.3955 - accuracy: 0.8125 - val_loss: 0.4237 - val_accuracy: 0.7500\n",
            "\n",
            "Epoch 00129: val_accuracy did not improve from 1.00000\n",
            "Epoch 130/200\n",
            "2/2 [==============================] - 50s 25s/step - loss: 0.4939 - accuracy: 0.7969 - val_loss: 0.4689 - val_accuracy: 0.8125\n",
            "\n",
            "Epoch 00130: val_accuracy did not improve from 1.00000\n",
            "Epoch 131/200\n",
            "2/2 [==============================] - 51s 25s/step - loss: 0.4795 - accuracy: 0.7656 - val_loss: 0.2857 - val_accuracy: 0.9062\n",
            "\n",
            "Epoch 00131: val_accuracy did not improve from 1.00000\n",
            "Epoch 132/200\n",
            "2/2 [==============================] - 51s 25s/step - loss: 0.5019 - accuracy: 0.7969 - val_loss: 0.5857 - val_accuracy: 0.7812\n",
            "\n",
            "Epoch 00132: val_accuracy did not improve from 1.00000\n",
            "Epoch 133/200\n",
            "2/2 [==============================] - 39s 19s/step - loss: 0.4700 - accuracy: 0.7969 - val_loss: 1.0703 - val_accuracy: 0.5000\n",
            "\n",
            "Epoch 00133: val_accuracy did not improve from 1.00000\n",
            "Epoch 134/200\n",
            "2/2 [==============================] - 50s 25s/step - loss: 0.5555 - accuracy: 0.7344 - val_loss: 0.2013 - val_accuracy: 0.9375\n",
            "\n",
            "Epoch 00134: val_accuracy did not improve from 1.00000\n",
            "Epoch 135/200\n",
            "2/2 [==============================] - 49s 25s/step - loss: 0.4447 - accuracy: 0.8281 - val_loss: 0.5054 - val_accuracy: 0.7188\n",
            "\n",
            "Epoch 00135: val_accuracy did not improve from 1.00000\n",
            "Epoch 136/200\n",
            "2/2 [==============================] - 49s 25s/step - loss: 0.3324 - accuracy: 0.8438 - val_loss: 0.5155 - val_accuracy: 0.8750\n",
            "\n",
            "Epoch 00136: val_accuracy did not improve from 1.00000\n",
            "Epoch 137/200\n",
            "2/2 [==============================] - 50s 25s/step - loss: 0.3759 - accuracy: 0.8125 - val_loss: 0.3145 - val_accuracy: 0.9062\n",
            "\n",
            "Epoch 00137: val_accuracy did not improve from 1.00000\n",
            "Epoch 138/200\n",
            "2/2 [==============================] - 53s 27s/step - loss: 0.3267 - accuracy: 0.8281 - val_loss: 0.6027 - val_accuracy: 0.8125\n",
            "\n",
            "Epoch 00138: val_accuracy did not improve from 1.00000\n",
            "Epoch 139/200\n",
            "2/2 [==============================] - 50s 25s/step - loss: 0.3943 - accuracy: 0.8281 - val_loss: 0.6691 - val_accuracy: 0.8125\n",
            "\n",
            "Epoch 00139: val_accuracy did not improve from 1.00000\n",
            "Epoch 140/200\n",
            "2/2 [==============================] - 39s 20s/step - loss: 0.3330 - accuracy: 0.8594 - val_loss: 0.1838 - val_accuracy: 0.8750\n",
            "\n",
            "Epoch 00140: val_accuracy did not improve from 1.00000\n",
            "Epoch 141/200\n",
            "2/2 [==============================] - 50s 25s/step - loss: 0.3424 - accuracy: 0.8438 - val_loss: 0.6155 - val_accuracy: 0.7812\n",
            "\n",
            "Epoch 00141: val_accuracy did not improve from 1.00000\n",
            "Epoch 142/200\n",
            "2/2 [==============================] - 50s 25s/step - loss: 0.4001 - accuracy: 0.8438 - val_loss: 0.5545 - val_accuracy: 0.8125\n",
            "\n",
            "Epoch 00142: val_accuracy did not improve from 1.00000\n",
            "Epoch 143/200\n",
            "2/2 [==============================] - 50s 25s/step - loss: 0.4239 - accuracy: 0.7969 - val_loss: 0.4499 - val_accuracy: 0.8438\n",
            "\n",
            "Epoch 00143: val_accuracy did not improve from 1.00000\n",
            "Epoch 144/200\n",
            "2/2 [==============================] - 50s 25s/step - loss: 0.4773 - accuracy: 0.8281 - val_loss: 0.6817 - val_accuracy: 0.7500\n",
            "\n",
            "Epoch 00144: val_accuracy did not improve from 1.00000\n",
            "Epoch 145/200\n",
            "2/2 [==============================] - 50s 25s/step - loss: 0.4669 - accuracy: 0.7500 - val_loss: 0.4025 - val_accuracy: 0.8125\n",
            "\n",
            "Epoch 00145: val_accuracy did not improve from 1.00000\n",
            "Epoch 146/200\n",
            "2/2 [==============================] - 49s 25s/step - loss: 0.4396 - accuracy: 0.8438 - val_loss: 0.4768 - val_accuracy: 0.7812\n",
            "\n",
            "Epoch 00146: val_accuracy did not improve from 1.00000\n",
            "Epoch 147/200\n",
            "2/2 [==============================] - 38s 19s/step - loss: 0.4452 - accuracy: 0.8438 - val_loss: 0.8719 - val_accuracy: 0.6250\n",
            "\n",
            "Epoch 00147: val_accuracy did not improve from 1.00000\n",
            "Epoch 148/200\n",
            "2/2 [==============================] - 50s 25s/step - loss: 0.5130 - accuracy: 0.7500 - val_loss: 0.5541 - val_accuracy: 0.7500\n",
            "\n",
            "Epoch 00148: val_accuracy did not improve from 1.00000\n",
            "Epoch 149/200\n",
            "2/2 [==============================] - 49s 25s/step - loss: 0.3275 - accuracy: 0.8125 - val_loss: 0.4504 - val_accuracy: 0.7812\n",
            "\n",
            "Epoch 00149: val_accuracy did not improve from 1.00000\n",
            "Epoch 150/200\n",
            "2/2 [==============================] - 54s 27s/step - loss: 0.4923 - accuracy: 0.7656 - val_loss: 0.4712 - val_accuracy: 0.8125\n",
            "\n",
            "Epoch 00150: val_accuracy did not improve from 1.00000\n",
            "Epoch 151/200\n",
            "2/2 [==============================] - 50s 25s/step - loss: 0.4025 - accuracy: 0.8750 - val_loss: 0.5838 - val_accuracy: 0.8125\n",
            "\n",
            "Epoch 00151: val_accuracy did not improve from 1.00000\n",
            "Epoch 152/200\n",
            "2/2 [==============================] - 50s 25s/step - loss: 0.2862 - accuracy: 0.9062 - val_loss: 0.5448 - val_accuracy: 0.7188\n",
            "\n",
            "Epoch 00152: val_accuracy did not improve from 1.00000\n",
            "Epoch 153/200\n",
            "2/2 [==============================] - 50s 25s/step - loss: 0.4809 - accuracy: 0.7969 - val_loss: 0.4066 - val_accuracy: 0.7812\n",
            "\n",
            "Epoch 00153: val_accuracy did not improve from 1.00000\n",
            "Epoch 154/200\n",
            "2/2 [==============================] - 39s 20s/step - loss: 0.3539 - accuracy: 0.8281 - val_loss: 0.5859 - val_accuracy: 0.7500\n",
            "\n",
            "Epoch 00154: val_accuracy did not improve from 1.00000\n",
            "Epoch 155/200\n",
            "2/2 [==============================] - 50s 25s/step - loss: 0.4099 - accuracy: 0.8281 - val_loss: 0.3359 - val_accuracy: 0.8438\n",
            "\n",
            "Epoch 00155: val_accuracy did not improve from 1.00000\n",
            "Epoch 156/200\n",
            "2/2 [==============================] - 50s 25s/step - loss: 0.4532 - accuracy: 0.8125 - val_loss: 0.9430 - val_accuracy: 0.7188\n",
            "\n",
            "Epoch 00156: val_accuracy did not improve from 1.00000\n",
            "Epoch 157/200\n",
            "2/2 [==============================] - 50s 25s/step - loss: 0.4825 - accuracy: 0.7812 - val_loss: 0.4917 - val_accuracy: 0.7500\n",
            "\n",
            "Epoch 00157: val_accuracy did not improve from 1.00000\n",
            "Epoch 158/200\n",
            "2/2 [==============================] - 49s 25s/step - loss: 0.4991 - accuracy: 0.8125 - val_loss: 0.9326 - val_accuracy: 0.6562\n",
            "\n",
            "Epoch 00158: val_accuracy did not improve from 1.00000\n",
            "Epoch 159/200\n",
            "2/2 [==============================] - 49s 25s/step - loss: 0.5029 - accuracy: 0.8438 - val_loss: 0.4397 - val_accuracy: 0.8125\n",
            "\n",
            "Epoch 00159: val_accuracy did not improve from 1.00000\n",
            "Epoch 160/200\n",
            "2/2 [==============================] - 49s 25s/step - loss: 0.4885 - accuracy: 0.7656 - val_loss: 0.4190 - val_accuracy: 0.8438\n",
            "\n",
            "Epoch 00160: val_accuracy did not improve from 1.00000\n",
            "Epoch 161/200\n",
            "2/2 [==============================] - 39s 20s/step - loss: 0.5401 - accuracy: 0.7656 - val_loss: 0.4669 - val_accuracy: 0.7500\n",
            "\n",
            "Epoch 00161: val_accuracy did not improve from 1.00000\n",
            "Epoch 162/200\n",
            "2/2 [==============================] - 50s 25s/step - loss: 0.4916 - accuracy: 0.7969 - val_loss: 0.4352 - val_accuracy: 0.8125\n",
            "\n",
            "Epoch 00162: val_accuracy did not improve from 1.00000\n",
            "Epoch 163/200\n",
            "2/2 [==============================] - 53s 27s/step - loss: 0.4230 - accuracy: 0.8594 - val_loss: 0.3380 - val_accuracy: 0.9062\n",
            "\n",
            "Epoch 00163: val_accuracy did not improve from 1.00000\n",
            "Epoch 164/200\n",
            "2/2 [==============================] - 50s 25s/step - loss: 0.3953 - accuracy: 0.8281 - val_loss: 0.4445 - val_accuracy: 0.8438\n",
            "\n",
            "Epoch 00164: val_accuracy did not improve from 1.00000\n",
            "Epoch 165/200\n",
            "2/2 [==============================] - 50s 25s/step - loss: 0.2198 - accuracy: 0.9375 - val_loss: 0.7633 - val_accuracy: 0.7188\n",
            "\n",
            "Epoch 00165: val_accuracy did not improve from 1.00000\n",
            "Epoch 166/200\n",
            "2/2 [==============================] - 50s 25s/step - loss: 0.4119 - accuracy: 0.8281 - val_loss: 0.3580 - val_accuracy: 0.8438\n",
            "\n",
            "Epoch 00166: val_accuracy did not improve from 1.00000\n",
            "Epoch 167/200\n",
            "2/2 [==============================] - 50s 25s/step - loss: 0.4821 - accuracy: 0.8125 - val_loss: 0.7636 - val_accuracy: 0.8438\n",
            "\n",
            "Epoch 00167: val_accuracy did not improve from 1.00000\n",
            "Epoch 168/200\n",
            "2/2 [==============================] - 39s 20s/step - loss: 0.2528 - accuracy: 0.8750 - val_loss: 0.2370 - val_accuracy: 0.8750\n",
            "\n",
            "Epoch 00168: val_accuracy did not improve from 1.00000\n",
            "Epoch 169/200\n",
            "2/2 [==============================] - 50s 25s/step - loss: 0.4629 - accuracy: 0.7812 - val_loss: 0.3714 - val_accuracy: 0.8125\n",
            "\n",
            "Epoch 00169: val_accuracy did not improve from 1.00000\n",
            "Epoch 170/200\n",
            "2/2 [==============================] - 50s 25s/step - loss: 0.5330 - accuracy: 0.7656 - val_loss: 0.1862 - val_accuracy: 0.9375\n",
            "\n",
            "Epoch 00170: val_accuracy did not improve from 1.00000\n",
            "Epoch 171/200\n",
            "2/2 [==============================] - 49s 25s/step - loss: 0.4129 - accuracy: 0.7969 - val_loss: 1.0474 - val_accuracy: 0.6562\n",
            "\n",
            "Epoch 00171: val_accuracy did not improve from 1.00000\n",
            "Epoch 172/200\n",
            "2/2 [==============================] - 49s 25s/step - loss: 0.4596 - accuracy: 0.8125 - val_loss: 0.4377 - val_accuracy: 0.8125\n",
            "\n",
            "Epoch 00172: val_accuracy did not improve from 1.00000\n",
            "Epoch 173/200\n",
            "2/2 [==============================] - 49s 25s/step - loss: 0.3290 - accuracy: 0.9219 - val_loss: 0.1837 - val_accuracy: 0.9375\n",
            "\n",
            "Epoch 00173: val_accuracy did not improve from 1.00000\n",
            "Epoch 174/200\n",
            "2/2 [==============================] - 50s 25s/step - loss: 0.3959 - accuracy: 0.8594 - val_loss: 0.4857 - val_accuracy: 0.8125\n",
            "\n",
            "Epoch 00174: val_accuracy did not improve from 1.00000\n",
            "Epoch 175/200\n",
            "2/2 [==============================] - 43s 21s/step - loss: 0.4274 - accuracy: 0.8281 - val_loss: 0.3869 - val_accuracy: 0.8750\n",
            "\n",
            "Epoch 00175: val_accuracy did not improve from 1.00000\n",
            "Epoch 176/200\n",
            "2/2 [==============================] - 50s 25s/step - loss: 0.4174 - accuracy: 0.8906 - val_loss: 0.6880 - val_accuracy: 0.7188\n",
            "\n",
            "Epoch 00176: val_accuracy did not improve from 1.00000\n",
            "Epoch 177/200\n",
            "2/2 [==============================] - 50s 25s/step - loss: 0.4153 - accuracy: 0.8594 - val_loss: 0.4462 - val_accuracy: 0.9062\n",
            "\n",
            "Epoch 00177: val_accuracy did not improve from 1.00000\n",
            "Epoch 178/200\n",
            "2/2 [==============================] - 50s 25s/step - loss: 0.3153 - accuracy: 0.8438 - val_loss: 0.2675 - val_accuracy: 0.9062\n",
            "\n",
            "Epoch 00178: val_accuracy did not improve from 1.00000\n",
            "Epoch 179/200\n",
            "2/2 [==============================] - 50s 25s/step - loss: 0.5377 - accuracy: 0.7344 - val_loss: 0.3468 - val_accuracy: 0.8438\n",
            "\n",
            "Epoch 00179: val_accuracy did not improve from 1.00000\n",
            "Epoch 180/200\n",
            "2/2 [==============================] - 50s 25s/step - loss: 0.4709 - accuracy: 0.7812 - val_loss: 0.3761 - val_accuracy: 0.8750\n",
            "\n",
            "Epoch 00180: val_accuracy did not improve from 1.00000\n",
            "Epoch 181/200\n",
            "2/2 [==============================] - 50s 25s/step - loss: 0.4200 - accuracy: 0.8125 - val_loss: 0.5523 - val_accuracy: 0.7500\n",
            "\n",
            "Epoch 00181: val_accuracy did not improve from 1.00000\n",
            "Epoch 182/200\n",
            "2/2 [==============================] - 40s 20s/step - loss: 0.3761 - accuracy: 0.8594 - val_loss: 0.1990 - val_accuracy: 1.0000\n",
            "\n",
            "Epoch 00182: val_accuracy did not improve from 1.00000\n",
            "Epoch 183/200\n",
            "2/2 [==============================] - 50s 25s/step - loss: 0.2485 - accuracy: 0.9219 - val_loss: 0.3567 - val_accuracy: 0.8750\n",
            "\n",
            "Epoch 00183: val_accuracy did not improve from 1.00000\n",
            "Epoch 184/200\n",
            "2/2 [==============================] - 49s 25s/step - loss: 0.5219 - accuracy: 0.8125 - val_loss: 0.6459 - val_accuracy: 0.7500\n",
            "\n",
            "Epoch 00184: val_accuracy did not improve from 1.00000\n",
            "Epoch 185/200\n",
            "2/2 [==============================] - 50s 25s/step - loss: 0.3366 - accuracy: 0.8438 - val_loss: 0.3971 - val_accuracy: 0.7812\n",
            "\n",
            "Epoch 00185: val_accuracy did not improve from 1.00000\n",
            "Epoch 186/200\n",
            "2/2 [==============================] - 49s 25s/step - loss: 0.4315 - accuracy: 0.8750 - val_loss: 0.6875 - val_accuracy: 0.7500\n",
            "\n",
            "Epoch 00186: val_accuracy did not improve from 1.00000\n",
            "Epoch 187/200\n",
            "2/2 [==============================] - 50s 25s/step - loss: 0.4629 - accuracy: 0.8594 - val_loss: 0.3023 - val_accuracy: 0.9062\n",
            "\n",
            "Epoch 00187: val_accuracy did not improve from 1.00000\n",
            "Epoch 188/200\n",
            "2/2 [==============================] - 53s 27s/step - loss: 0.2702 - accuracy: 0.8594 - val_loss: 0.4961 - val_accuracy: 0.8750\n",
            "\n",
            "Epoch 00188: val_accuracy did not improve from 1.00000\n",
            "Epoch 189/200\n",
            "2/2 [==============================] - 39s 20s/step - loss: 0.5886 - accuracy: 0.7656 - val_loss: 0.2201 - val_accuracy: 1.0000\n",
            "\n",
            "Epoch 00189: val_accuracy did not improve from 1.00000\n",
            "Epoch 190/200\n",
            "2/2 [==============================] - 50s 25s/step - loss: 0.5578 - accuracy: 0.7969 - val_loss: 0.3767 - val_accuracy: 0.8438\n",
            "\n",
            "Epoch 00190: val_accuracy did not improve from 1.00000\n",
            "Epoch 191/200\n",
            "2/2 [==============================] - 50s 25s/step - loss: 0.4399 - accuracy: 0.8438 - val_loss: 0.5755 - val_accuracy: 0.8125\n",
            "\n",
            "Epoch 00191: val_accuracy did not improve from 1.00000\n",
            "Epoch 192/200\n",
            "2/2 [==============================] - 50s 25s/step - loss: 0.4868 - accuracy: 0.7500 - val_loss: 0.4509 - val_accuracy: 0.8125\n",
            "\n",
            "Epoch 00192: val_accuracy did not improve from 1.00000\n",
            "Epoch 193/200\n",
            "2/2 [==============================] - 50s 25s/step - loss: 0.4137 - accuracy: 0.8281 - val_loss: 0.3924 - val_accuracy: 0.8125\n",
            "\n",
            "Epoch 00193: val_accuracy did not improve from 1.00000\n",
            "Epoch 194/200\n",
            "2/2 [==============================] - 51s 25s/step - loss: 0.4792 - accuracy: 0.8125 - val_loss: 0.7238 - val_accuracy: 0.6875\n",
            "\n",
            "Epoch 00194: val_accuracy did not improve from 1.00000\n",
            "Epoch 195/200\n",
            "2/2 [==============================] - 50s 25s/step - loss: 0.6071 - accuracy: 0.7656 - val_loss: 0.7196 - val_accuracy: 0.7188\n",
            "\n",
            "Epoch 00195: val_accuracy did not improve from 1.00000\n",
            "Epoch 196/200\n",
            "2/2 [==============================] - 38s 19s/step - loss: 0.3859 - accuracy: 0.8594 - val_loss: 0.1912 - val_accuracy: 0.8750\n",
            "\n",
            "Epoch 00196: val_accuracy did not improve from 1.00000\n",
            "Epoch 197/200\n",
            "2/2 [==============================] - 49s 25s/step - loss: 0.2978 - accuracy: 0.8906 - val_loss: 0.3955 - val_accuracy: 0.8125\n",
            "\n",
            "Epoch 00197: val_accuracy did not improve from 1.00000\n",
            "Epoch 198/200\n",
            "2/2 [==============================] - 49s 25s/step - loss: 0.4561 - accuracy: 0.8281 - val_loss: 0.2444 - val_accuracy: 0.9062\n",
            "\n",
            "Epoch 00198: val_accuracy did not improve from 1.00000\n",
            "Epoch 199/200\n",
            "2/2 [==============================] - 49s 25s/step - loss: 0.4964 - accuracy: 0.7656 - val_loss: 0.6590 - val_accuracy: 0.7812\n",
            "\n",
            "Epoch 00199: val_accuracy did not improve from 1.00000\n",
            "Epoch 200/200\n",
            "2/2 [==============================] - 54s 27s/step - loss: 0.4720 - accuracy: 0.7656 - val_loss: 0.4238 - val_accuracy: 0.8125\n",
            "\n",
            "Epoch 00200: val_accuracy did not improve from 1.00000\n"
          ],
          "name": "stdout"
        }
      ]
    },
    {
      "cell_type": "code",
      "metadata": {
        "id": "HVTVRSV8ZlQb",
        "colab_type": "code",
        "colab": {
          "base_uri": "https://localhost:8080/",
          "height": 295
        },
        "outputId": "bc6a684b-6aa9-477a-ea53-4f8a6545a010"
      },
      "source": [
        "import matplotlib.pyplot as plt\n",
        "plt.plot(hist.history[\"accuracy\"])\n",
        "plt.plot(hist.history['val_accuracy'])\n",
        "\n",
        "plt.title(\"model accuracy\")\n",
        "plt.ylabel(\"Accuracy\")\n",
        "plt.xlabel(\"Epoch\")\n",
        "plt.legend([\"Accuracy\",\"Validation Accuracy\"])\n",
        "plt.show()"
      ],
      "execution_count": 16,
      "outputs": [
        {
          "output_type": "display_data",
          "data": {
            "image/png": "[encoded data removed]",
            "text/plain": [
              "<Figure size 432x288 with 1 Axes>"
            ]
          },
          "metadata": {
            "tags": [],
            "needs_background": "light"
          }
        }
      ]
    },
    {
      "cell_type": "code",
      "metadata": {
        "id": "S1zKuauZZnZF",
        "colab_type": "code",
        "colab": {
          "base_uri": "https://localhost:8080/",
          "height": 279
        },
        "outputId": "16356239-18c9-4c4d-be74-072a64c7d505"
      },
      "source": [
        "plt.plot(hist.history['loss'])\n",
        "plt.plot(hist.history['val_loss'])\n",
        "plt.ylabel(\"Loss\")\n",
        "plt.xlabel(\"Epoch\")\n",
        "plt.legend([\"loss\",\"Validation Loss\"])\n",
        "plt.show()"
      ],
      "execution_count": 17,
      "outputs": [
        {
          "output_type": "display_data",
          "data": {
            "image/png": "[encoded data removed]",
            "text/plain": [
              "<Figure size 432x288 with 1 Axes>"
            ]
          },
          "metadata": {
            "tags": [],
            "needs_background": "light"
          }
        }
      ]
    },
    {
      "cell_type": "code",
      "metadata": {
        "id": "mscgt0FiIA3D",
        "colab_type": "code",
        "colab": {}
      },
      "source": [
        "model_final.save(\"/content/drive/My Drive/Best models/model1_1.h5\")"
      ],
      "execution_count": 18,
      "outputs": []
    },
    {
      "cell_type": "code",
      "metadata": {
        "id": "1E7hce4INlu7",
        "colab_type": "code",
        "colab": {}
      },
      "source": [
        "model_cnn=keras.models.load_model(\"/content/drive/My Drive/Best models/model_n_1.h5\")"
      ],
      "execution_count": 19,
      "outputs": []
    },
    {
      "cell_type": "code",
      "metadata": {
        "id": "MzvKc_3sDZ0v",
        "colab_type": "code",
        "colab": {}
      },
      "source": [
        ""
      ],
      "execution_count": null,
      "outputs": []
    },
    {
      "cell_type": "code",
      "metadata": {
        "colab_type": "code",
        "id": "Hw7iVVAxDaTf",
        "colab": {
          "base_uri": "https://localhost:8080/",
          "height": 306
        },
        "outputId": "b4844311-9709-4083-a9b3-078caca21a01"
      },
      "source": [
        "#Confution Matrix and Classification Report\n",
        "from sklearn.metrics import classification_report, confusion_matrix\n",
        "import numpy as np\n",
        "Y_pred = model_cnn.predict_generator(testdata)\n",
        "y_pred = np.argmax(Y_pred, axis=1)\n",
        "print('Confusion Matrix')\n",
        "print(confusion_matrix(testdata.classes, y_pred))\n",
        "print('Classification Report')\n",
        "target_names = ['grade0', 'grade1', 'grade2','grade3']\n",
        "print(classification_report(testdata.classes, y_pred, target_names=target_names))"
      ],
      "execution_count": null,
      "outputs": [
        {
          "output_type": "stream",
          "text": [
            "Confusion Matrix\n",
            "[[14 16 11  9]\n",
            " [11  8 15 16]\n",
            " [17  7 19  7]\n",
            " [15  8 16 11]]\n",
            "Classification Report\n",
            "              precision    recall  f1-score   support\n",
            "\n",
            "      grade0       0.25      0.28      0.26        50\n",
            "      grade1       0.21      0.16      0.18        50\n",
            "      grade2       0.31      0.38      0.34        50\n",
            "      grade3       0.26      0.22      0.24        50\n",
            "\n",
            "    accuracy                           0.26       200\n",
            "   macro avg       0.25      0.26      0.26       200\n",
            "weighted avg       0.25      0.26      0.26       200\n",
            "\n"
          ],
          "name": "stdout"
        }
      ]
    },
    {
      "cell_type": "code",
      "metadata": {
        "id": "WwAzAbBdZulp",
        "colab_type": "code",
        "colab": {}
      },
      "source": [
        "from keras.preprocessing.image import ImageDataGenerator\n",
        "from sklearn.metrics import classification_report, confusion_matrix\n",
        "\n",
        "test_datagen = ImageDataGenerator()"
      ],
      "execution_count": null,
      "outputs": []
    },
    {
      "cell_type": "code",
      "metadata": {
        "id": "GxVOVV3zZyE7",
        "colab_type": "code",
        "colab": {
          "base_uri": "https://localhost:8080/",
          "height": 34
        },
        "outputId": "80785201-f445-469b-a2f9-061b0a8e16fc"
      },
      "source": [
        "validation_generator = test_datagen.flow_from_directory('/content/drive/My Drive/data-liverd/val',\n",
        "                                                        target_size=(224, 224))"
      ],
      "execution_count": null,
      "outputs": [
        {
          "output_type": "stream",
          "text": [
            "Found 200 images belonging to 4 classes.\n"
          ],
          "name": "stdout"
        }
      ]
    },
    {
      "cell_type": "code",
      "metadata": {
        "id": "eAMUtksqjslN",
        "colab_type": "code",
        "colab": {
          "base_uri": "https://localhost:8080/",
          "height": 306
        },
        "outputId": "04ca9d69-e848-498a-c01a-65d85a36993f"
      },
      "source": [
        "import numpy as np\n",
        "#Confution Matrix and Classification Report\n",
        "Y_pred = model_cnn.predict_generator(validation_generator)\n",
        "y_pred = np.argmax(Y_pred, axis=1)\n",
        "print('Confusion Matrix')\n",
        "print(confusion_matrix(validation_generator.classes, y_pred))\n",
        "print('Classification Report')\n",
        "#target_names = ['grade1', 'grade0', 'grade2','grade3']\n",
        "print(classification_report(validation_generator.classes, y_pred))"
      ],
      "execution_count": null,
      "outputs": [
        {
          "output_type": "stream",
          "text": [
            "Confusion Matrix\n",
            "[[12  6 12 20]\n",
            " [ 8  6 19 17]\n",
            " [18  5 12 15]\n",
            " [13  5 11 21]]\n",
            "Classification Report\n",
            "              precision    recall  f1-score   support\n",
            "\n",
            "           0       0.24      0.24      0.24        50\n",
            "           1       0.27      0.12      0.17        50\n",
            "           2       0.22      0.24      0.23        50\n",
            "           3       0.29      0.42      0.34        50\n",
            "\n",
            "    accuracy                           0.26       200\n",
            "   macro avg       0.25      0.26      0.24       200\n",
            "weighted avg       0.25      0.26      0.24       200\n",
            "\n"
          ],
          "name": "stdout"
        }
      ]
    },
    {
      "cell_type": "code",
      "metadata": {
        "id": "nCeG5IC_Z6kq",
        "colab_type": "code",
        "colab": {
          "base_uri": "https://localhost:8080/",
          "height": 153
        },
        "outputId": "432c01bd-ec93-457d-ded9-722795352572"
      },
      "source": [
        "import os\n",
        "import numpy as np\n",
        "actual=[]\n",
        "predicted=[]\n",
        "data_path='/content/drive/My Drive/data-liverd/val'\n",
        "data_dir_list=os.listdir(data_path)\n",
        "for dataset in data_dir_list:\n",
        "  print(dataset)\n",
        "  img_list=os.listdir(data_path+'/'+dataset)\n",
        "  correctCount=0\n",
        "  wrongCount=0\n",
        "  for img in img_list:\n",
        "    img_path=data_path+'/'+dataset+'/'+img\n",
        "    input_image = image.load_img(img_path,target_size=(224,224))\n",
        "    input_image = np.asarray(input_image)\n",
        "    input_image = np.expand_dims(input_image, axis=0)\n",
        "    output = model_cnn.predict(input_image)\n",
        "    ans='grade'+str(np.argmax(output[0],axis=0))\n",
        "    if( ans in img):\n",
        "      correctCount+=1\n",
        "    else:\n",
        "      wrongCount+=1\n",
        "    actual.append(img[:6])\n",
        "    predicted.append(ans)\n",
        "  print(\"correct Count {} WrongCount {}\".format(correctCount,wrongCount))"
      ],
      "execution_count": 20,
      "outputs": [
        {
          "output_type": "stream",
          "text": [
            "grade1\n",
            "correct Count 45 WrongCount 5\n",
            "grade0\n",
            "correct Count 40 WrongCount 10\n",
            "grade2\n",
            "correct Count 47 WrongCount 3\n",
            "grade3\n",
            "correct Count 30 WrongCount 20\n"
          ],
          "name": "stdout"
        }
      ]
    },
    {
      "cell_type": "code",
      "metadata": {
        "id": "6Y1TLJJcXt63",
        "colab_type": "code",
        "colab": {
          "base_uri": "https://localhost:8080/",
          "height": 323
        },
        "outputId": "aa87fe7c-9701-4cb6-c30e-cf272f8ce8f5"
      },
      "source": [
        "# Python script for confusion matrix creation. \n",
        "from sklearn.metrics import confusion_matrix \n",
        "from sklearn.metrics import accuracy_score \n",
        "from sklearn.metrics import classification_report \n",
        "results = confusion_matrix(actual, predicted) \n",
        "\n",
        "print ('Confusion Matrix :')\n",
        "print(results) \n",
        "print ('Accuracy Score :',accuracy_score(actual, predicted)) \n",
        "print ('Report : ')\n",
        "print (classification_report(actual, predicted)) \n"
      ],
      "execution_count": 21,
      "outputs": [
        {
          "output_type": "stream",
          "text": [
            "Confusion Matrix :\n",
            "[[40 10  0  0]\n",
            " [ 0 45  2  3]\n",
            " [ 0  2 47  1]\n",
            " [ 0 19  1 30]]\n",
            "Accuracy Score : 0.81\n",
            "Report : \n",
            "              precision    recall  f1-score   support\n",
            "\n",
            "      grade0       1.00      0.80      0.89        50\n",
            "      grade1       0.59      0.90      0.71        50\n",
            "      grade2       0.94      0.94      0.94        50\n",
            "      grade3       0.88      0.60      0.71        50\n",
            "\n",
            "    accuracy                           0.81       200\n",
            "   macro avg       0.85      0.81      0.81       200\n",
            "weighted avg       0.85      0.81      0.81       200\n",
            "\n"
          ],
          "name": "stdout"
        }
      ]
    },
    {
      "cell_type": "code",
      "metadata": {
        "colab_type": "code",
        "id": "YNa87qHtw8fM",
        "colab": {
          "base_uri": "https://localhost:8080/",
          "height": 153
        },
        "outputId": "33c77a45-9e68-4e56-89bd-026065976bcc"
      },
      "source": [
        "import os\n",
        "import numpy as np\n",
        "actual=[]\n",
        "predicted=[]\n",
        "data_path='/content/drive/My Drive/data-liverd/val'\n",
        "data_dir_list=os.listdir(data_path)\n",
        "for dataset in data_dir_list:\n",
        "  print(dataset)\n",
        "  img_list=os.listdir(data_path+'/'+dataset)\n",
        "  correctCount=0\n",
        "  wrongCount=0\n",
        "  for img in img_list:\n",
        "    img_path=data_path+'/'+dataset+'/'+img\n",
        "    input_image = image.load_img(img_path,target_size=(224,224))\n",
        "    input_image = np.asarray(input_image)\n",
        "    input_image = np.expand_dims(input_image, axis=0)\n",
        "    output = model_final.predict(input_image)\n",
        "    ans='grade'+str(np.argmax(output[0],axis=0))\n",
        "    if( ans in img):\n",
        "      correctCount+=1\n",
        "    else:\n",
        "      wrongCount+=1\n",
        "    actual.append(img[:6])\n",
        "    predicted.append(ans)\n",
        "  print(\"correct Count {} WrongCount {}\".format(correctCount,wrongCount))"
      ],
      "execution_count": null,
      "outputs": [
        {
          "output_type": "stream",
          "text": [
            "grade1\n",
            "correct Count 17 WrongCount 33\n",
            "grade0\n",
            "correct Count 48 WrongCount 2\n",
            "grade2\n",
            "correct Count 47 WrongCount 3\n",
            "grade3\n",
            "correct Count 42 WrongCount 8\n"
          ],
          "name": "stdout"
        }
      ]
    },
    {
      "cell_type": "code",
      "metadata": {
        "id": "z5Nn1DC7w70r",
        "colab_type": "code",
        "colab": {}
      },
      "source": [
        ""
      ],
      "execution_count": null,
      "outputs": []
    },
    {
      "cell_type": "code",
      "metadata": {
        "colab_type": "code",
        "id": "Wq3VzWFExC1o",
        "colab": {
          "base_uri": "https://localhost:8080/",
          "height": 323
        },
        "outputId": "183770ae-d1c3-46ed-cd1d-bda2ef5197c1"
      },
      "source": [
        "# Python script for confusion matrix creation. \n",
        "from sklearn.metrics import confusion_matrix \n",
        "from sklearn.metrics import accuracy_score \n",
        "from sklearn.metrics import classification_report \n",
        "results = confusion_matrix(actual, predicted) \n",
        "\n",
        "print ('Confusion Matrix :')\n",
        "print(results) \n",
        "print ('Accuracy Score :',accuracy_score(actual, predicted)) \n",
        "print ('Report : ')\n",
        "print (classification_report(actual, predicted)) \n"
      ],
      "execution_count": null,
      "outputs": [
        {
          "output_type": "stream",
          "text": [
            "Confusion Matrix :\n",
            "[[48  2  0  0]\n",
            " [11 17  4 18]\n",
            " [ 1  0 47  2]\n",
            " [ 0  7  1 42]]\n",
            "Accuracy Score : 0.77\n",
            "Report : \n",
            "              precision    recall  f1-score   support\n",
            "\n",
            "      grade0       0.80      0.96      0.87        50\n",
            "      grade1       0.65      0.34      0.45        50\n",
            "      grade2       0.90      0.94      0.92        50\n",
            "      grade3       0.68      0.84      0.75        50\n",
            "\n",
            "    accuracy                           0.77       200\n",
            "   macro avg       0.76      0.77      0.75       200\n",
            "weighted avg       0.76      0.77      0.75       200\n",
            "\n"
          ],
          "name": "stdout"
        }
      ]
    },
    {
      "cell_type": "code",
      "metadata": {
        "id": "13hBXTUZwD52",
        "colab_type": "code",
        "colab": {
          "base_uri": "https://localhost:8080/",
          "height": 51
        },
        "outputId": "ed55c8f7-7c9f-4451-ce9c-0430197350e0"
      },
      "source": [
        "tr_loss,tr_acc=model_cnn.evaluate(testdata)\n",
        "tr_acc"
      ],
      "execution_count": null,
      "outputs": [
        {
          "output_type": "stream",
          "text": [
            "7/7 [==============================] - 103s 15s/step\n"
          ],
          "name": "stdout"
        },
        {
          "output_type": "execute_result",
          "data": {
            "text/plain": [
              "0.7850000262260437"
            ]
          },
          "metadata": {
            "tags": []
          },
          "execution_count": 23
        }
      ]
    },
    {
      "cell_type": "code",
      "metadata": {
        "id": "ntwjv8i0wHmH",
        "colab_type": "code",
        "colab": {
          "base_uri": "https://localhost:8080/",
          "height": 51
        },
        "outputId": "2c820795-3dc6-46da-fdcf-3371f01952e5"
      },
      "source": [
        "tr_loss,tr_acc=model_final.evaluate(traindata)\n",
        "tr_acc"
      ],
      "execution_count": null,
      "outputs": [
        {
          "output_type": "stream",
          "text": [
            "25/25 [==============================] - 407s 16s/step\n"
          ],
          "name": "stdout"
        },
        {
          "output_type": "execute_result",
          "data": {
            "text/plain": [
              "0.8199999928474426"
            ]
          },
          "metadata": {
            "tags": []
          },
          "execution_count": 24
        }
      ]
    },
    {
      "cell_type": "code",
      "metadata": {
        "id": "1NOM-AafyXVT",
        "colab_type": "code",
        "colab": {
          "base_uri": "https://localhost:8080/",
          "height": 51
        },
        "outputId": "d3c397d3-d5c8-48fa-849e-3c9e9df8526e"
      },
      "source": [
        "tr_loss,tr_acc=model_final.evaluate(testdata)\n",
        "tr_acc"
      ],
      "execution_count": null,
      "outputs": [
        {
          "output_type": "stream",
          "text": [
            "7/7 [==============================] - 102s 15s/step\n"
          ],
          "name": "stdout"
        },
        {
          "output_type": "execute_result",
          "data": {
            "text/plain": [
              "0.7850000262260437"
            ]
          },
          "metadata": {
            "tags": []
          },
          "execution_count": 25
        }
      ]
    },
    {
      "cell_type": "code",
      "metadata": {
        "id": "mTNWvGsEywGT",
        "colab_type": "code",
        "colab": {}
      },
      "source": [
        "saved_model=keras.models.load_model(\"/content/drive/My Drive/Best models/model_n_1.h5\")"
      ],
      "execution_count": null,
      "outputs": []
    },
    {
      "cell_type": "code",
      "metadata": {
        "colab_type": "code",
        "id": "bIRR3fnFzXLD",
        "colab": {
          "base_uri": "https://localhost:8080/",
          "height": 51
        },
        "outputId": "6466a041-e4d7-49ec-a0bd-ea2a53e42314"
      },
      "source": [
        "tr_loss,tr_acc=saved_model.evaluate(validation_generator)\n",
        "tr_acc"
      ],
      "execution_count": null,
      "outputs": [
        {
          "output_type": "stream",
          "text": [
            "7/7 [==============================] - 102s 15s/step\n"
          ],
          "name": "stdout"
        },
        {
          "output_type": "execute_result",
          "data": {
            "text/plain": [
              "0.7850000262260437"
            ]
          },
          "metadata": {
            "tags": []
          },
          "execution_count": 27
        }
      ]
    },
    {
      "cell_type": "code",
      "metadata": {
        "id": "ihCmpaYAzgH4",
        "colab_type": "code",
        "colab": {}
      },
      "source": [
        ""
      ],
      "execution_count": null,
      "outputs": []
    },
    {
      "cell_type": "code",
      "metadata": {
        "colab_type": "code",
        "id": "EmEGMcRkzgyK",
        "colab": {
          "base_uri": "https://localhost:8080/",
          "height": 51
        },
        "outputId": "1a84f522-dfc5-4b12-c192-e8f419067e39"
      },
      "source": [
        "tr_loss,tr_acc=saved_model.evaluate(testdata)\n",
        "tr_acc"
      ],
      "execution_count": null,
      "outputs": [
        {
          "output_type": "stream",
          "text": [
            "7/7 [==============================] - 103s 15s/step\n"
          ],
          "name": "stdout"
        },
        {
          "output_type": "execute_result",
          "data": {
            "text/plain": [
              "0.7850000262260437"
            ]
          },
          "metadata": {
            "tags": []
          },
          "execution_count": 28
        }
      ]
    },
    {
      "cell_type": "code",
      "metadata": {
        "id": "rtN1rqlVp7ll",
        "colab_type": "code",
        "colab": {
          "base_uri": "https://localhost:8080/",
          "height": 425
        },
        "outputId": "ec51e56c-9c8f-4417-d53f-61770440a845"
      },
      "source": [
        "model_final=keras.models.load_model(\"/content/drive/My Drive/Best models/model_f_1.h5\")"
      ],
      "execution_count": null,
      "outputs": [
        {
          "output_type": "error",
          "ename": "OSError",
          "evalue": "ignored",
          "traceback": [
            "\u001b[0;31m---------------------------------------------------------------------------\u001b[0m",
            "\u001b[0;31mOSError\u001b[0m                                   Traceback (most recent call last)",
            "\u001b[0;32m<ipython-input-29-0a30020277c3>\u001b[0m in \u001b[0;36m<module>\u001b[0;34m()\u001b[0m\n\u001b[0;32m----> 1\u001b[0;31m \u001b[0mmodel_final\u001b[0m\u001b[0;34m=\u001b[0m\u001b[0mkeras\u001b[0m\u001b[0;34m.\u001b[0m\u001b[0mmodels\u001b[0m\u001b[0;34m.\u001b[0m\u001b[0mload_model\u001b[0m\u001b[0;34m(\u001b[0m\u001b[0;34m\"/content/drive/My Drive/Best models/model_f_1.h5\"\u001b[0m\u001b[0;34m)\u001b[0m\u001b[0;34m\u001b[0m\u001b[0;34m\u001b[0m\u001b[0m\n\u001b[0m",
            "\u001b[0;32m/usr/local/lib/python3.6/dist-packages/keras/engine/saving.py\u001b[0m in \u001b[0;36mload_wrapper\u001b[0;34m(*args, **kwargs)\u001b[0m\n\u001b[1;32m    490\u001b[0m                 \u001b[0mos\u001b[0m\u001b[0;34m.\u001b[0m\u001b[0mremove\u001b[0m\u001b[0;34m(\u001b[0m\u001b[0mtmp_filepath\u001b[0m\u001b[0;34m)\u001b[0m\u001b[0;34m\u001b[0m\u001b[0;34m\u001b[0m\u001b[0m\n\u001b[1;32m    491\u001b[0m             \u001b[0;32mreturn\u001b[0m \u001b[0mres\u001b[0m\u001b[0;34m\u001b[0m\u001b[0;34m\u001b[0m\u001b[0m\n\u001b[0;32m--> 492\u001b[0;31m         \u001b[0;32mreturn\u001b[0m \u001b[0mload_function\u001b[0m\u001b[0;34m(\u001b[0m\u001b[0;34m*\u001b[0m\u001b[0margs\u001b[0m\u001b[0;34m,\u001b[0m \u001b[0;34m**\u001b[0m\u001b[0mkwargs\u001b[0m\u001b[0;34m)\u001b[0m\u001b[0;34m\u001b[0m\u001b[0;34m\u001b[0m\u001b[0m\n\u001b[0m\u001b[1;32m    493\u001b[0m \u001b[0;34m\u001b[0m\u001b[0m\n\u001b[1;32m    494\u001b[0m     \u001b[0;32mreturn\u001b[0m \u001b[0mload_wrapper\u001b[0m\u001b[0;34m\u001b[0m\u001b[0;34m\u001b[0m\u001b[0m\n",
            "\u001b[0;32m/usr/local/lib/python3.6/dist-packages/keras/engine/saving.py\u001b[0m in \u001b[0;36mload_model\u001b[0;34m(filepath, custom_objects, compile)\u001b[0m\n\u001b[1;32m    581\u001b[0m \u001b[0;34m\u001b[0m\u001b[0m\n\u001b[1;32m    582\u001b[0m     \u001b[0;32mif\u001b[0m \u001b[0mH5Dict\u001b[0m\u001b[0;34m.\u001b[0m\u001b[0mis_supported_type\u001b[0m\u001b[0;34m(\u001b[0m\u001b[0mfilepath\u001b[0m\u001b[0;34m)\u001b[0m\u001b[0;34m:\u001b[0m\u001b[0;34m\u001b[0m\u001b[0;34m\u001b[0m\u001b[0m\n\u001b[0;32m--> 583\u001b[0;31m         \u001b[0;32mwith\u001b[0m \u001b[0mH5Dict\u001b[0m\u001b[0;34m(\u001b[0m\u001b[0mfilepath\u001b[0m\u001b[0;34m,\u001b[0m \u001b[0mmode\u001b[0m\u001b[0;34m=\u001b[0m\u001b[0;34m'r'\u001b[0m\u001b[0;34m)\u001b[0m \u001b[0;32mas\u001b[0m \u001b[0mh5dict\u001b[0m\u001b[0;34m:\u001b[0m\u001b[0;34m\u001b[0m\u001b[0;34m\u001b[0m\u001b[0m\n\u001b[0m\u001b[1;32m    584\u001b[0m             \u001b[0mmodel\u001b[0m \u001b[0;34m=\u001b[0m \u001b[0m_deserialize_model\u001b[0m\u001b[0;34m(\u001b[0m\u001b[0mh5dict\u001b[0m\u001b[0;34m,\u001b[0m \u001b[0mcustom_objects\u001b[0m\u001b[0;34m,\u001b[0m \u001b[0mcompile\u001b[0m\u001b[0;34m)\u001b[0m\u001b[0;34m\u001b[0m\u001b[0;34m\u001b[0m\u001b[0m\n\u001b[1;32m    585\u001b[0m     \u001b[0;32melif\u001b[0m \u001b[0mhasattr\u001b[0m\u001b[0;34m(\u001b[0m\u001b[0mfilepath\u001b[0m\u001b[0;34m,\u001b[0m \u001b[0;34m'write'\u001b[0m\u001b[0;34m)\u001b[0m \u001b[0;32mand\u001b[0m \u001b[0mcallable\u001b[0m\u001b[0;34m(\u001b[0m\u001b[0mfilepath\u001b[0m\u001b[0;34m.\u001b[0m\u001b[0mwrite\u001b[0m\u001b[0;34m)\u001b[0m\u001b[0;34m:\u001b[0m\u001b[0;34m\u001b[0m\u001b[0;34m\u001b[0m\u001b[0m\n",
            "\u001b[0;32m/usr/local/lib/python3.6/dist-packages/keras/utils/io_utils.py\u001b[0m in \u001b[0;36m__init__\u001b[0;34m(self, path, mode)\u001b[0m\n\u001b[1;32m    189\u001b[0m             \u001b[0mself\u001b[0m\u001b[0;34m.\u001b[0m\u001b[0m_is_file\u001b[0m \u001b[0;34m=\u001b[0m \u001b[0;32mFalse\u001b[0m\u001b[0;34m\u001b[0m\u001b[0;34m\u001b[0m\u001b[0m\n\u001b[1;32m    190\u001b[0m         \u001b[0;32melif\u001b[0m \u001b[0misinstance\u001b[0m\u001b[0;34m(\u001b[0m\u001b[0mpath\u001b[0m\u001b[0;34m,\u001b[0m \u001b[0msix\u001b[0m\u001b[0;34m.\u001b[0m\u001b[0mstring_types\u001b[0m\u001b[0;34m)\u001b[0m \u001b[0;32mor\u001b[0m \u001b[0m_is_path_instance\u001b[0m\u001b[0;34m(\u001b[0m\u001b[0mpath\u001b[0m\u001b[0;34m)\u001b[0m\u001b[0;34m:\u001b[0m\u001b[0;34m\u001b[0m\u001b[0;34m\u001b[0m\u001b[0m\n\u001b[0;32m--> 191\u001b[0;31m             \u001b[0mself\u001b[0m\u001b[0;34m.\u001b[0m\u001b[0mdata\u001b[0m \u001b[0;34m=\u001b[0m \u001b[0mh5py\u001b[0m\u001b[0;34m.\u001b[0m\u001b[0mFile\u001b[0m\u001b[0;34m(\u001b[0m\u001b[0mpath\u001b[0m\u001b[0;34m,\u001b[0m \u001b[0mmode\u001b[0m\u001b[0;34m=\u001b[0m\u001b[0mmode\u001b[0m\u001b[0;34m)\u001b[0m\u001b[0;34m\u001b[0m\u001b[0;34m\u001b[0m\u001b[0m\n\u001b[0m\u001b[1;32m    192\u001b[0m             \u001b[0mself\u001b[0m\u001b[0;34m.\u001b[0m\u001b[0m_is_file\u001b[0m \u001b[0;34m=\u001b[0m \u001b[0;32mTrue\u001b[0m\u001b[0;34m\u001b[0m\u001b[0;34m\u001b[0m\u001b[0m\n\u001b[1;32m    193\u001b[0m         \u001b[0;32melif\u001b[0m \u001b[0misinstance\u001b[0m\u001b[0;34m(\u001b[0m\u001b[0mpath\u001b[0m\u001b[0;34m,\u001b[0m \u001b[0mdict\u001b[0m\u001b[0;34m)\u001b[0m\u001b[0;34m:\u001b[0m\u001b[0;34m\u001b[0m\u001b[0;34m\u001b[0m\u001b[0m\n",
            "\u001b[0;32m/usr/local/lib/python3.6/dist-packages/h5py/_hl/files.py\u001b[0m in \u001b[0;36m__init__\u001b[0;34m(self, name, mode, driver, libver, userblock_size, swmr, rdcc_nslots, rdcc_nbytes, rdcc_w0, track_order, **kwds)\u001b[0m\n\u001b[1;32m    406\u001b[0m                 fid = make_fid(name, mode, userblock_size,\n\u001b[1;32m    407\u001b[0m                                \u001b[0mfapl\u001b[0m\u001b[0;34m,\u001b[0m \u001b[0mfcpl\u001b[0m\u001b[0;34m=\u001b[0m\u001b[0mmake_fcpl\u001b[0m\u001b[0;34m(\u001b[0m\u001b[0mtrack_order\u001b[0m\u001b[0;34m=\u001b[0m\u001b[0mtrack_order\u001b[0m\u001b[0;34m)\u001b[0m\u001b[0;34m,\u001b[0m\u001b[0;34m\u001b[0m\u001b[0;34m\u001b[0m\u001b[0m\n\u001b[0;32m--> 408\u001b[0;31m                                swmr=swmr)\n\u001b[0m\u001b[1;32m    409\u001b[0m \u001b[0;34m\u001b[0m\u001b[0m\n\u001b[1;32m    410\u001b[0m             \u001b[0;32mif\u001b[0m \u001b[0misinstance\u001b[0m\u001b[0;34m(\u001b[0m\u001b[0mlibver\u001b[0m\u001b[0;34m,\u001b[0m \u001b[0mtuple\u001b[0m\u001b[0;34m)\u001b[0m\u001b[0;34m:\u001b[0m\u001b[0;34m\u001b[0m\u001b[0;34m\u001b[0m\u001b[0m\n",
            "\u001b[0;32m/usr/local/lib/python3.6/dist-packages/h5py/_hl/files.py\u001b[0m in \u001b[0;36mmake_fid\u001b[0;34m(name, mode, userblock_size, fapl, fcpl, swmr)\u001b[0m\n\u001b[1;32m    171\u001b[0m         \u001b[0;32mif\u001b[0m \u001b[0mswmr\u001b[0m \u001b[0;32mand\u001b[0m \u001b[0mswmr_support\u001b[0m\u001b[0;34m:\u001b[0m\u001b[0;34m\u001b[0m\u001b[0;34m\u001b[0m\u001b[0m\n\u001b[1;32m    172\u001b[0m             \u001b[0mflags\u001b[0m \u001b[0;34m|=\u001b[0m \u001b[0mh5f\u001b[0m\u001b[0;34m.\u001b[0m\u001b[0mACC_SWMR_READ\u001b[0m\u001b[0;34m\u001b[0m\u001b[0;34m\u001b[0m\u001b[0m\n\u001b[0;32m--> 173\u001b[0;31m         \u001b[0mfid\u001b[0m \u001b[0;34m=\u001b[0m \u001b[0mh5f\u001b[0m\u001b[0;34m.\u001b[0m\u001b[0mopen\u001b[0m\u001b[0;34m(\u001b[0m\u001b[0mname\u001b[0m\u001b[0;34m,\u001b[0m \u001b[0mflags\u001b[0m\u001b[0;34m,\u001b[0m \u001b[0mfapl\u001b[0m\u001b[0;34m=\u001b[0m\u001b[0mfapl\u001b[0m\u001b[0;34m)\u001b[0m\u001b[0;34m\u001b[0m\u001b[0;34m\u001b[0m\u001b[0m\n\u001b[0m\u001b[1;32m    174\u001b[0m     \u001b[0;32melif\u001b[0m \u001b[0mmode\u001b[0m \u001b[0;34m==\u001b[0m \u001b[0;34m'r+'\u001b[0m\u001b[0;34m:\u001b[0m\u001b[0;34m\u001b[0m\u001b[0;34m\u001b[0m\u001b[0m\n\u001b[1;32m    175\u001b[0m         \u001b[0mfid\u001b[0m \u001b[0;34m=\u001b[0m \u001b[0mh5f\u001b[0m\u001b[0;34m.\u001b[0m\u001b[0mopen\u001b[0m\u001b[0;34m(\u001b[0m\u001b[0mname\u001b[0m\u001b[0;34m,\u001b[0m \u001b[0mh5f\u001b[0m\u001b[0;34m.\u001b[0m\u001b[0mACC_RDWR\u001b[0m\u001b[0;34m,\u001b[0m \u001b[0mfapl\u001b[0m\u001b[0;34m=\u001b[0m\u001b[0mfapl\u001b[0m\u001b[0;34m)\u001b[0m\u001b[0;34m\u001b[0m\u001b[0;34m\u001b[0m\u001b[0m\n",
            "\u001b[0;32mh5py/_objects.pyx\u001b[0m in \u001b[0;36mh5py._objects.with_phil.wrapper\u001b[0;34m()\u001b[0m\n",
            "\u001b[0;32mh5py/_objects.pyx\u001b[0m in \u001b[0;36mh5py._objects.with_phil.wrapper\u001b[0;34m()\u001b[0m\n",
            "\u001b[0;32mh5py/h5f.pyx\u001b[0m in \u001b[0;36mh5py.h5f.open\u001b[0;34m()\u001b[0m\n",
            "\u001b[0;31mOSError\u001b[0m: Unable to open file (unable to open file: name = '/content/drive/My Drive/Best models/model_f_1.h5', errno = 2, error message = 'No such file or directory', flags = 0, o_flags = 0)"
          ]
        }
      ]
    }
  ]
}