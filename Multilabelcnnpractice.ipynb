{
  "nbformat": 4,
  "nbformat_minor": 0,
  "metadata": {
    "colab": {
      "name": "Multilabelcnnpractice.ipynb",
      "provenance": [],
      "collapsed_sections": [],
      "mount_file_id": "1O7yt_QtrKcfJWX9g4KWyfr0cBP3W__P1",
      "authorship_tag": "ABX9TyNvty7Anqs5LH3HuGqCuMYW",
      "include_colab_link": true
    },
    "kernelspec": {
      "name": "python3",
      "display_name": "Python 3"
    }
  },
  "cells": [
    {
      "cell_type": "markdown",
      "metadata": {
        "id": "view-in-github",
        "colab_type": "text"
      },
      "source": [
        "<a href=\"https://colab.research.google.com/github/pranitha2144/Internship-iith/blob/master/Multilabelcnnpractice.ipynb\" target=\"_parent\"><img src=\"https://colab.research.google.com/assets/colab-badge.svg\" alt=\"Open In Colab\"/></a>"
      ]
    },
    {
      "cell_type": "code",
      "metadata": {
        "id": "-oynNGxo81hr",
        "colab_type": "code",
        "outputId": "2684b4b8-fa17-4b75-fdff-5ae25bf35642",
        "colab": {
          "base_uri": "https://localhost:8080/",
          "height": 34
        }
      },
      "source": [
        "import tensorflow as tf\n",
        "from tensorflow.keras.models import Sequential\n",
        "from tensorflow.keras.layers import Dense, Conv2D, MaxPooling2D, Flatten\n",
        "import numpy as np\n",
        "import matplotlib.pyplot as plt\n",
        "import pandas as pd\n",
        "print(tf.__version__)"
      ],
      "execution_count": 3,
      "outputs": [
        {
          "output_type": "stream",
          "text": [
            "2.2.0\n"
          ],
          "name": "stdout"
        }
      ]
    },
    {
      "cell_type": "code",
      "metadata": {
        "id": "PHiRIxkNl1uW",
        "colab_type": "code",
        "colab": {}
      },
      "source": [
        "training_set = pd.read_csv(\"/content/drive/My Drive/catsanddogsdataset/train.csv\")\n",
        "\n",
        "training_imgs = [\"{}.jpg\".format(x) for x in list(training_set.id)]\n",
        "\n",
        "training_labels_1 = list(training_set['class_name'])\n",
        "training_labels_2 = list(training_set['breed'])\n",
        "training_set = pd.DataFrame( {'Images': training_imgs,'Animal': training_labels_1, 'Breed' : training_labels_2})\n",
        "\n",
        "#Changing the type  to str\n",
        "training_set.Animal = training_set.Animal.astype(str)\n",
        "training_set.Breed = training_set.Breed.astype(str)"
      ],
      "execution_count": 0,
      "outputs": []
    },
    {
      "cell_type": "code",
      "metadata": {
        "id": "Qif_Cp-0mtEg",
        "colab_type": "code",
        "colab": {}
      },
      "source": [
        "training_set['New_class'] = training_set['Animal'] + training_set['Breed']"
      ],
      "execution_count": 0,
      "outputs": []
    },
    {
      "cell_type": "code",
      "metadata": {
        "id": "8juchP7qpiJu",
        "colab_type": "code",
        "outputId": "2c8cedc6-f0cb-4fba-c915-269e0c632e03",
        "colab": {
          "base_uri": "https://localhost:8080/",
          "height": 119
        }
      },
      "source": [
        "print(training_set.head())"
      ],
      "execution_count": 6,
      "outputs": [
        {
          "output_type": "stream",
          "text": [
            "         Images Animal Breed New_class\n",
            "0  img_1313.jpg      1    11       111\n",
            "1  img_0642.jpg      2    21       221\n",
            "2  img_1450.jpg      1    11       111\n",
            "3  img_2201.jpg      1    12       112\n",
            "4  img_0964.jpg      2    21       221\n"
          ],
          "name": "stdout"
        }
      ]
    },
    {
      "cell_type": "code",
      "metadata": {
        "id": "gvXj8d9lmzAj",
        "colab_type": "code",
        "outputId": "2acdea2d-e5eb-4e59-a815-49b6e0a65a2a",
        "colab": {
          "base_uri": "https://localhost:8080/",
          "height": 34
        }
      },
      "source": [
        "from tensorflow.keras.preprocessing.image import ImageDataGenerator\n",
        "\n",
        "train_dataGen = ImageDataGenerator(rescale = 1./255,\n",
        "                                  shear_range = 0.2,\n",
        "                                  zoom_range = 0.2,\n",
        "                                  horizontal_flip = True,\n",
        "                                   rotation_range=40,\n",
        "                                   )\n",
        "\n",
        "train_generator = train_dataGen.flow_from_dataframe(\n",
        "                                        dataframe = training_set,\n",
        "                                        directory=\"/content/drive/My Drive/catsanddogsdataset/images_train\",x_col=\"Images\",\n",
        "                                        y_col=\"New_class\",\n",
        "                                        class_mode=\"categorical\",\n",
        "                                        target_size=(128,128),\n",
        "                                        batch_size=32)"
      ],
      "execution_count": 7,
      "outputs": [
        {
          "output_type": "stream",
          "text": [
            "Found 6206 validated image filenames belonging to 10 classes.\n"
          ],
          "name": "stdout"
        }
      ]
    },
    {
      "cell_type": "code",
      "metadata": {
        "id": "fAFDMqtyy66O",
        "colab_type": "code",
        "colab": {}
      },
      "source": [
        "classifier = Sequential([Conv2D(16,(3,3),activation='relu',input_shape=(128,128,3)),\n",
        "                         MaxPooling2D(2,2),\n",
        "                         Conv2D(32,(3,3),activation='relu'),\n",
        "                         MaxPooling2D(2,2),\n",
        "                         Conv2D(64,(3,3),activation='relu'),\n",
        "                         MaxPooling2D(2,2),\n",
        "                         Flatten(),\n",
        "                         Dense(256,activation='relu'),\n",
        "                         Dense(10,activation='softmax')\n",
        "\n",
        "\n",
        "\n",
        "])"
      ],
      "execution_count": 0,
      "outputs": []
    },
    {
      "cell_type": "code",
      "metadata": {
        "id": "pwasHO7wzkAE",
        "colab_type": "code",
        "colab": {}
      },
      "source": [
        "#First Convolutional layer\n",
        "classifier.add(Conv2D(filters = 56,kernel_size = (3,3), activation = 'relu', input_shape = (128,128,3)))"
      ],
      "execution_count": 0,
      "outputs": []
    },
    {
      "cell_type": "code",
      "metadata": {
        "id": "BvZYi3xqzttq",
        "colab_type": "code",
        "colab": {}
      },
      "source": [
        "classifier.add(MaxPooling2D(pool_size = (2,2)))"
      ],
      "execution_count": 0,
      "outputs": []
    },
    {
      "cell_type": "code",
      "metadata": {
        "id": "rWS-vLpYzypm",
        "colab_type": "code",
        "colab": {}
      },
      "source": [
        "#second Convolutional layer\n",
        "classifier.add(Conv2D(32,(3,3),activation = 'relu'))\n",
        "classifier.add(MaxPooling2D(pool_size = (2,2)))"
      ],
      "execution_count": 0,
      "outputs": []
    },
    {
      "cell_type": "code",
      "metadata": {
        "id": "t3vEDKzVz4gB",
        "colab_type": "code",
        "colab": {}
      },
      "source": [
        "#Flattening\n",
        "classifier.add(Flatten())"
      ],
      "execution_count": 0,
      "outputs": []
    },
    {
      "cell_type": "code",
      "metadata": {
        "id": "Nb-5qD810Aal",
        "colab_type": "code",
        "colab": {}
      },
      "source": [
        "#Hidden Layer\n",
        "classifier.add(Dense(units = 64, activation = 'relu'))\n",
        "\n",
        "#Output Layer\n",
        "classifier.add(Dense(units = 10 , activation = 'softmax'))"
      ],
      "execution_count": 0,
      "outputs": []
    },
    {
      "cell_type": "code",
      "metadata": {
        "id": "8ZbVEjJ-0FbV",
        "colab_type": "code",
        "colab": {}
      },
      "source": [
        "classifier.compile(optimizer = 'RMSprop', loss = 'categorical_crossentropy', metrics = ['categorical_accuracy','accuracy'])\n",
        "\n"
      ],
      "execution_count": 0,
      "outputs": []
    },
    {
      "cell_type": "code",
      "metadata": {
        "id": "G8mzhvJ-0Jdl",
        "colab_type": "code",
        "outputId": "a6b7b36f-ebb9-40c8-9cea-cc595f6c3a50",
        "colab": {
          "base_uri": "https://localhost:8080/",
          "height": 459
        }
      },
      "source": [
        "classifier.summary()"
      ],
      "execution_count": 17,
      "outputs": [
        {
          "output_type": "stream",
          "text": [
            "Model: \"sequential_3\"\n",
            "_________________________________________________________________\n",
            "Layer (type)                 Output Shape              Param #   \n",
            "=================================================================\n",
            "conv2d_9 (Conv2D)            (None, 126, 126, 16)      448       \n",
            "_________________________________________________________________\n",
            "max_pooling2d_9 (MaxPooling2 (None, 63, 63, 16)        0         \n",
            "_________________________________________________________________\n",
            "conv2d_10 (Conv2D)           (None, 61, 61, 32)        4640      \n",
            "_________________________________________________________________\n",
            "max_pooling2d_10 (MaxPooling (None, 30, 30, 32)        0         \n",
            "_________________________________________________________________\n",
            "conv2d_11 (Conv2D)           (None, 28, 28, 64)        18496     \n",
            "_________________________________________________________________\n",
            "max_pooling2d_11 (MaxPooling (None, 14, 14, 64)        0         \n",
            "_________________________________________________________________\n",
            "flatten_3 (Flatten)          (None, 12544)             0         \n",
            "_________________________________________________________________\n",
            "dense_6 (Dense)              (None, 256)               3211520   \n",
            "_________________________________________________________________\n",
            "dense_7 (Dense)              (None, 10)                2570      \n",
            "=================================================================\n",
            "Total params: 3,237,674\n",
            "Trainable params: 3,237,674\n",
            "Non-trainable params: 0\n",
            "_________________________________________________________________\n"
          ],
          "name": "stdout"
        }
      ]
    },
    {
      "cell_type": "code",
      "metadata": {
        "id": "99zletfD0ULd",
        "colab_type": "code",
        "outputId": "61038e32-3f1d-4943-f68a-01f9df5212e7",
        "colab": {
          "base_uri": "https://localhost:8080/",
          "height": 904
        }
      },
      "source": [
        "classifier.fit(train_generator, epochs = 25, steps_per_epoch = 25 )"
      ],
      "execution_count": 18,
      "outputs": [
        {
          "output_type": "stream",
          "text": [
            "Epoch 1/25\n",
            "25/25 [==============================] - 393s 16s/step - loss: 2.5814 - categorical_accuracy: 0.1125 - accuracy: 0.1125\n",
            "Epoch 2/25\n",
            "25/25 [==============================] - 323s 13s/step - loss: 2.2430 - categorical_accuracy: 0.1704 - accuracy: 0.1704\n",
            "Epoch 3/25\n",
            "25/25 [==============================] - 260s 10s/step - loss: 2.1205 - categorical_accuracy: 0.2325 - accuracy: 0.2325\n",
            "Epoch 4/25\n",
            "25/25 [==============================] - 237s 9s/step - loss: 1.9761 - categorical_accuracy: 0.2763 - accuracy: 0.2763\n",
            "Epoch 5/25\n",
            "25/25 [==============================] - 219s 9s/step - loss: 1.9636 - categorical_accuracy: 0.2937 - accuracy: 0.2937\n",
            "Epoch 6/25\n",
            "25/25 [==============================] - 175s 7s/step - loss: 1.9133 - categorical_accuracy: 0.3025 - accuracy: 0.3025\n",
            "Epoch 7/25\n",
            "25/25 [==============================] - 169s 7s/step - loss: 1.8487 - categorical_accuracy: 0.3275 - accuracy: 0.3275\n",
            "Epoch 8/25\n",
            "25/25 [==============================] - 156s 6s/step - loss: 1.8264 - categorical_accuracy: 0.3388 - accuracy: 0.3388\n",
            "Epoch 9/25\n",
            "25/25 [==============================] - 105s 4s/step - loss: 1.8262 - categorical_accuracy: 0.3487 - accuracy: 0.3487\n",
            "Epoch 10/25\n",
            "25/25 [==============================] - 101s 4s/step - loss: 1.7478 - categorical_accuracy: 0.3850 - accuracy: 0.3850\n",
            "Epoch 11/25\n",
            "25/25 [==============================] - 89s 4s/step - loss: 1.7596 - categorical_accuracy: 0.3688 - accuracy: 0.3688\n",
            "Epoch 12/25\n",
            "25/25 [==============================] - 87s 3s/step - loss: 1.7575 - categorical_accuracy: 0.3837 - accuracy: 0.3837\n",
            "Epoch 13/25\n",
            "25/25 [==============================] - 60s 2s/step - loss: 1.7052 - categorical_accuracy: 0.4075 - accuracy: 0.4075\n",
            "Epoch 14/25\n",
            "25/25 [==============================] - 69s 3s/step - loss: 1.7396 - categorical_accuracy: 0.3688 - accuracy: 0.3688\n",
            "Epoch 15/25\n",
            "25/25 [==============================] - 52s 2s/step - loss: 1.6822 - categorical_accuracy: 0.4038 - accuracy: 0.4038\n",
            "Epoch 16/25\n",
            "25/25 [==============================] - 52s 2s/step - loss: 1.6844 - categorical_accuracy: 0.3950 - accuracy: 0.3950\n",
            "Epoch 17/25\n",
            "25/25 [==============================] - 46s 2s/step - loss: 1.6088 - categorical_accuracy: 0.4137 - accuracy: 0.4137\n",
            "Epoch 18/25\n",
            "25/25 [==============================] - 43s 2s/step - loss: 1.6523 - categorical_accuracy: 0.3963 - accuracy: 0.3963\n",
            "Epoch 19/25\n",
            "25/25 [==============================] - 31s 1s/step - loss: 1.5806 - categorical_accuracy: 0.4613 - accuracy: 0.4613\n",
            "Epoch 20/25\n",
            "25/25 [==============================] - 35s 1s/step - loss: 1.6641 - categorical_accuracy: 0.3988 - accuracy: 0.3988\n",
            "Epoch 21/25\n",
            "25/25 [==============================] - 31s 1s/step - loss: 1.6529 - categorical_accuracy: 0.4212 - accuracy: 0.4212\n",
            "Epoch 22/25\n",
            "25/25 [==============================] - 30s 1s/step - loss: 1.5853 - categorical_accuracy: 0.4398 - accuracy: 0.4398\n",
            "Epoch 23/25\n",
            "25/25 [==============================] - 26s 1s/step - loss: 1.5592 - categorical_accuracy: 0.4387 - accuracy: 0.4387\n",
            "Epoch 24/25\n",
            "25/25 [==============================] - 25s 991ms/step - loss: 1.5414 - categorical_accuracy: 0.4525 - accuracy: 0.4525\n",
            "Epoch 25/25\n",
            "25/25 [==============================] - 19s 777ms/step - loss: 1.5062 - categorical_accuracy: 0.4538 - accuracy: 0.4538\n"
          ],
          "name": "stdout"
        },
        {
          "output_type": "execute_result",
          "data": {
            "text/plain": [
              "<tensorflow.python.keras.callbacks.History at 0x7fddb77893c8>"
            ]
          },
          "metadata": {
            "tags": []
          },
          "execution_count": 18
        }
      ]
    },
    {
      "cell_type": "code",
      "metadata": {
        "id": "BJb2eG4ZZtye",
        "colab_type": "code",
        "colab": {}
      },
      "source": [
        "test_set = pd.read_csv(\"/content/drive/My Drive/catsanddogsdataset/test.csv\")\n",
        "test_imgs = [\"/content/drive/My Drive/catsanddogsdataset/images_test/{}.jpg\".format(x) for x in list(test_set.id)]\n",
        "test_set = pd.DataFrame( {'Images': test_imgs })"
      ],
      "execution_count": 0,
      "outputs": []
    },
    {
      "cell_type": "code",
      "metadata": {
        "id": "T2BdaWdzaHio",
        "colab_type": "code",
        "outputId": "cf480487-4f7c-492d-b6e3-82bcf638d5ce",
        "colab": {
          "base_uri": "https://localhost:8080/",
          "height": 34
        }
      },
      "source": [
        "classes = train_generator.class_indices\n",
        "print(classes)"
      ],
      "execution_count": 20,
      "outputs": [
        {
          "output_type": "stream",
          "text": [
            "{'111': 0, '112': 1, '113': 2, '114': 3, '115': 4, '221': 5, '222': 6, '223': 7, '224': 8, '225': 9}\n"
          ],
          "name": "stdout"
        }
      ]
    },
    {
      "cell_type": "code",
      "metadata": {
        "id": "1el1dEfgaPB4",
        "colab_type": "code",
        "outputId": "3003912a-ddd7-4520-c10b-747636a6bfd5",
        "colab": {
          "base_uri": "https://localhost:8080/",
          "height": 34
        }
      },
      "source": [
        "inverted_classes = dict(map(reversed, classes.items()))\n",
        "print(inverted_classes)"
      ],
      "execution_count": 21,
      "outputs": [
        {
          "output_type": "stream",
          "text": [
            "{0: '111', 1: '112', 2: '113', 3: '114', 4: '115', 5: '221', 6: '222', 7: '223', 8: '224', 9: '225'}\n"
          ],
          "name": "stdout"
        }
      ]
    },
    {
      "cell_type": "code",
      "metadata": {
        "id": "XvF8DjwyaYST",
        "colab_type": "code",
        "colab": {}
      },
      "source": [
        "from keras.preprocessing import image\n",
        "\n",
        "Y_pred = []\n",
        "\n",
        "for i in range(len(test_set)):\n",
        "  img = image.load_img(path= test_set.Images[i],target_size=(128,128,3))\n",
        "  img = image.img_to_array(img)\n",
        "  test_img = img.reshape((1,128,128,3))\n",
        "  img_class = np.argmax(classifier.predict(test_img), axis=-1)\n",
        "  prediction = img_class[0]\n",
        "  Y_pred.append(prediction)"
      ],
      "execution_count": 0,
      "outputs": []
    },
    {
      "cell_type": "code",
      "metadata": {
        "id": "Yei9stgO7r2Z",
        "colab_type": "code",
        "colab": {
          "base_uri": "https://localhost:8080/",
          "height": 54
        },
        "outputId": "421bf26f-4f7d-4607-d414-4aab7e34966a"
      },
      "source": [
        "print(Y_pred)"
      ],
      "execution_count": 24,
      "outputs": [
        {
          "output_type": "stream",
          "text": [
            "[9, 3, 5, 1, 1, 9, 8, 7, 8, 1, 5, 8, 8, 5, 1, 7, 5, 7, 1, 0, 7, 8, 7, 6, 5, 6, 7, 1, 1, 7, 9, 1, 5, 9, 7, 8, 7, 7, 7, 2, 0, 1, 0, 2, 5, 5, 6, 9, 8, 1, 1, 7, 6, 8, 7, 1, 5, 5, 1, 7, 9, 8, 5, 9, 6, 8, 7, 9, 5, 6, 7, 9, 6, 9, 8, 1, 1, 1, 5, 6, 6, 8, 5, 7, 2, 7, 5, 7, 3, 9, 7, 5, 5, 7, 1, 9, 8, 7, 5, 0, 9, 8, 5, 7, 5, 8, 5, 9, 2, 7, 5, 8, 9, 7, 7, 5, 7, 5, 7, 8, 7, 5, 8, 9, 1, 6, 8, 1, 9, 7, 1, 7, 9, 5, 5, 7, 8, 5, 0, 1, 7, 8, 1, 7, 8, 5, 8, 5, 1, 8, 7, 7, 7, 7, 5, 6, 9, 1, 5, 1, 7, 1, 9, 0, 0, 1, 5, 8, 1, 5, 9, 9, 7, 7, 7, 5, 1, 8, 0, 1, 1, 7, 9, 7, 0, 5, 7, 7, 8, 8, 9, 8, 5, 7, 6, 7, 5, 7, 1, 5, 1, 9, 9, 6, 7, 7, 9, 9, 5, 8, 0, 7, 9, 5, 5, 7, 8, 7, 7, 5, 9, 5, 9, 0, 7, 8, 5, 9, 9, 5, 7, 1, 5, 9, 5, 6, 9, 7, 5, 7, 5, 5, 1, 5, 5, 8, 6, 8, 1, 5, 6, 1, 7, 9, 9, 5, 7, 7, 5, 5, 5, 8, 1, 5, 7, 9, 7, 5, 0, 7, 9, 5, 8, 5, 5, 7, 5, 7, 5, 7, 9, 1, 5, 1, 5, 5, 5, 7, 9, 7, 7, 9, 7, 1, 7, 6, 7, 5, 7, 7, 7, 8, 5, 7, 8, 0, 1, 5, 9, 9, 9, 8, 5, 5, 9, 1, 1, 7, 8, 5, 1, 9, 5, 7, 7, 7, 1, 8, 7, 7, 7, 7, 7, 7, 7, 1, 6, 9, 3, 1, 0, 1, 1, 7, 5, 5, 1, 1, 1, 9, 5, 9, 5, 9, 5, 7, 9, 7, 0, 7, 5, 7, 9, 7, 8, 0, 2, 6, 7, 7, 5, 7, 5, 5, 1, 5, 5, 8, 7, 5, 5, 7, 5, 6, 5, 5, 7, 7, 1, 7, 5, 7, 6, 7, 1, 5, 7, 5, 7, 2, 9, 9, 7, 6, 1, 7, 9, 7, 8, 9, 8, 9, 8, 6, 9, 7, 1, 7, 1, 1, 9, 7, 7, 7, 1, 9, 9, 0, 8, 9, 7, 1, 7, 5, 7, 7, 5, 8, 5, 7, 7, 9, 1, 7, 7, 7, 8, 7, 1, 0, 1, 1, 7, 7, 1, 1, 5, 9, 9, 5, 7, 7, 1, 0, 7, 7, 9, 7, 7, 9, 8, 1, 5, 7, 7, 9, 5, 9, 5, 0, 7, 5, 9, 5, 2, 7, 7, 1, 8, 9, 7, 7, 8, 0, 7, 1, 9, 7, 5, 5, 7, 7, 0, 9, 7, 7, 9, 9, 7, 7, 5, 8, 9, 9, 7, 5, 1, 1, 2, 7, 7, 9, 7, 8, 2, 8, 9, 5, 1, 9, 1, 1, 1, 0, 9, 9, 8, 7, 5, 1, 1, 8, 5, 5, 7, 5, 5, 1, 5, 1, 8, 9, 1, 7, 6, 9, 5, 9, 9, 1, 7, 0, 5, 1, 9, 9, 8, 9, 5, 1, 1, 9, 7, 1, 5, 5, 8, 1, 0, 9, 1, 9, 7, 8, 7, 5, 8, 1, 5, 5, 5, 1, 7, 9, 8, 5, 7, 8, 7, 1, 7, 5, 9, 7, 7, 9, 8, 7, 9, 5, 5, 9, 5, 9, 5, 7, 7, 9, 7, 5, 9, 7, 5, 5, 9, 9, 3, 9, 7, 9, 8, 7, 9, 3, 9, 0, 3, 7, 2, 9, 9, 0, 8, 5, 9, 7, 7, 7, 1, 5, 1, 5, 7, 5, 7, 9, 8, 9, 7, 7, 5, 5, 1, 9, 6, 9, 1, 1, 2, 7, 7, 1, 1, 7, 8, 7, 0, 7, 8, 5, 2, 7, 6, 8, 8, 7, 8, 8, 8, 5, 5, 9, 5, 9, 4, 5, 7, 7, 5, 0, 1, 9, 5, 9, 5, 8, 5, 5, 0, 9, 9, 9, 9, 8, 9, 8, 7, 9, 1, 7, 7, 5, 7, 9, 9, 8, 5, 5, 7, 0, 5, 9, 1, 7, 5, 9, 5, 7, 7, 5, 0, 7, 7, 8, 0, 8, 5, 7, 1, 7, 5, 9, 1, 1, 9, 6, 8, 7, 9, 3, 5, 9, 8, 5, 2, 7, 6, 9, 7, 7, 7, 9, 5, 7, 7, 7, 2, 1, 3, 5, 1, 1, 5, 9, 7, 7, 7, 7, 7, 5, 9, 7, 8, 7, 9, 5, 7, 1, 7, 5, 7, 1, 9, 8, 7, 1, 9, 9, 6, 7, 7, 7, 8, 7, 0, 7, 7, 7, 7, 1, 4, 8, 1, 1, 5, 3, 7, 9, 8, 9, 7, 6, 5, 9, 6, 3, 7, 7, 1, 1, 3, 0, 5, 5, 0, 9, 7, 8, 7, 8, 1, 5, 0, 7, 7, 5, 5, 8, 9, 7, 6, 0, 5, 9, 7, 5, 4, 7, 7, 7, 8, 9, 8, 1, 5, 9, 7, 5, 7, 5, 7, 7, 5, 3, 1, 6, 3, 9, 1, 5, 7, 7, 9, 6, 8, 9, 8, 9, 7, 5, 5, 7, 7, 1, 1, 9, 7, 5, 8, 5, 7, 7, 5, 5, 7, 7, 7, 5, 9, 9, 7, 7, 8, 9, 8, 9, 5, 1, 5, 1, 7, 6, 5, 9, 1, 7, 0, 5, 1, 9, 7, 5, 1, 5, 7, 8, 9, 8, 1, 7, 7, 9, 7, 9, 1, 7, 0, 1, 5, 5, 9, 1, 8, 9, 0, 7, 8, 1, 9, 9, 7, 5, 9, 9, 8, 9, 9, 7, 7, 7, 7, 5, 7, 8, 5, 5, 5, 7, 8, 8, 5, 5, 7, 1, 7, 1, 1, 8, 5, 8, 1, 7, 8, 5, 7, 5, 1, 1, 1, 2, 5, 0, 5, 8, 5, 7, 9, 5, 9, 5, 8, 2, 9, 8, 9, 1, 7, 9, 6, 5, 7, 5, 7, 8, 5, 5, 5, 7, 7, 1, 9, 5, 7, 7, 5, 1, 7, 5, 5, 7, 9, 7, 9, 1, 3, 7, 7, 5, 8, 9, 5, 8, 0, 6, 5, 8, 9, 1, 7, 7, 5, 6, 8, 7, 7, 0, 9, 1, 0, 9, 9, 7, 1, 9, 7, 7, 7, 8, 5, 9, 9, 5, 7, 7, 7, 2]\n"
          ],
          "name": "stdout"
        }
      ]
    },
    {
      "cell_type": "code",
      "metadata": {
        "id": "1dwP9xvH7x9R",
        "colab_type": "code",
        "colab": {}
      },
      "source": [
        "prediction_classes = [ inverted_classes.get(item,item) for item in Y_pred ]"
      ],
      "execution_count": 0,
      "outputs": []
    },
    {
      "cell_type": "code",
      "metadata": {
        "id": "F2PqyEj_74t5",
        "colab_type": "code",
        "colab": {}
      },
      "source": [
        "animal = []\n",
        "breed = []\n",
        "for i in prediction_classes:\n",
        "  animal.append(i[0]) # First character = class_name/Animal\n",
        "  breed.append(i[1:]) # Last 2 characters = breed/Breed"
      ],
      "execution_count": 0,
      "outputs": []
    },
    {
      "cell_type": "code",
      "metadata": {
        "id": "3917Rur278Xs",
        "colab_type": "code",
        "colab": {}
      },
      "source": [
        "predictions = {}\n",
        "predictions['class_name'] = animal\n",
        "predictions['breed'] = breed"
      ],
      "execution_count": 0,
      "outputs": []
    },
    {
      "cell_type": "code",
      "metadata": {
        "id": "nyLs0rsW8AT4",
        "colab_type": "code",
        "colab": {}
      },
      "source": [
        "#Writing to excel\n",
        "pd.DataFrame(predictions).to_excel(\"/content/drive/My Drive/catsanddogsdataset/sample_submission.xlsx\", index = False)"
      ],
      "execution_count": 0,
      "outputs": []
    }
  ]
}