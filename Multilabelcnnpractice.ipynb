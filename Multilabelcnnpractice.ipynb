{
  "nbformat": 4,
  "nbformat_minor": 0,
  "metadata": {
    "colab": {
      "name": "Multilabelcnnpractice.ipynb",
      "provenance": [],
      "collapsed_sections": [],
      "mount_file_id": "1O7yt_QtrKcfJWX9g4KWyfr0cBP3W__P1",
      "authorship_tag": "ABX9TyNOvY1hV7TDOtwLAjCLvfSW",
      "include_colab_link": true
    },
    "kernelspec": {
      "name": "python3",
      "display_name": "Python 3"
    }
  },
  "cells": [
    {
      "cell_type": "markdown",
      "metadata": {
        "id": "view-in-github",
        "colab_type": "text"
      },
      "source": [
        "<a href=\"https://colab.research.google.com/github/pranitha2144/Internship-iith/blob/master/Multilabelcnnpractice.ipynb\" target=\"_parent\"><img src=\"https://colab.research.google.com/assets/colab-badge.svg\" alt=\"Open In Colab\"/></a>"
      ]
    },
    {
      "cell_type": "code",
      "metadata": {
        "id": "-oynNGxo81hr",
        "colab_type": "code",
        "outputId": "3b2f8eb1-f4d8-49aa-b8e4-a41383f2d77b",
        "colab": {
          "base_uri": "https://localhost:8080/",
          "height": 34
        }
      },
      "source": [
        "import tensorflow as tf\n",
        "from tensorflow.keras.models import Sequential\n",
        "from tensorflow.keras.layers import Dense, Conv2D, MaxPooling2D, Flatten\n",
        "import numpy as np\n",
        "import matplotlib.pyplot as plt\n",
        "import pandas as pd\n",
        "print(tf.__version__)"
      ],
      "execution_count": 2,
      "outputs": [
        {
          "output_type": "stream",
          "text": [
            "2.2.0\n"
          ],
          "name": "stdout"
        }
      ]
    },
    {
      "cell_type": "code",
      "metadata": {
        "id": "PHiRIxkNl1uW",
        "colab_type": "code",
        "colab": {}
      },
      "source": [
        "training_set = pd.read_csv(\"/content/drive/My Drive/catsanddogsdataset/train.csv\")\n",
        "\n",
        "training_imgs = [\"{}.jpg\".format(x) for x in list(training_set.id)]\n",
        "\n",
        "training_labels_1 = list(training_set['class_name'])\n",
        "training_labels_2 = list(training_set['breed'])\n",
        "training_set = pd.DataFrame( {'Images': training_imgs,'Animal': training_labels_1, 'Breed' : training_labels_2})\n",
        "\n",
        "#Changing the type  to str\n",
        "training_set.Animal = training_set.Animal.astype(str)\n",
        "training_set.Breed = training_set.Breed.astype(str)"
      ],
      "execution_count": 0,
      "outputs": []
    },
    {
      "cell_type": "code",
      "metadata": {
        "id": "Qif_Cp-0mtEg",
        "colab_type": "code",
        "colab": {}
      },
      "source": [
        "training_set['New_class'] = training_set['Animal'] + training_set['Breed']"
      ],
      "execution_count": 0,
      "outputs": []
    },
    {
      "cell_type": "code",
      "metadata": {
        "id": "8juchP7qpiJu",
        "colab_type": "code",
        "outputId": "9d8c5702-0d04-4adc-e50d-dbcf6a6695a2",
        "colab": {
          "base_uri": "https://localhost:8080/",
          "height": 119
        }
      },
      "source": [
        "print(training_set.head())"
      ],
      "execution_count": 5,
      "outputs": [
        {
          "output_type": "stream",
          "text": [
            "         Images Animal Breed New_class\n",
            "0  img_1313.jpg      1    11       111\n",
            "1  img_0642.jpg      2    21       221\n",
            "2  img_1450.jpg      1    11       111\n",
            "3  img_2201.jpg      1    12       112\n",
            "4  img_0964.jpg      2    21       221\n"
          ],
          "name": "stdout"
        }
      ]
    },
    {
      "cell_type": "code",
      "metadata": {
        "id": "gvXj8d9lmzAj",
        "colab_type": "code",
        "outputId": "60dbb349-ce36-439f-c46a-cd4ed024c203",
        "colab": {
          "base_uri": "https://localhost:8080/",
          "height": 34
        }
      },
      "source": [
        "from tensorflow.keras.preprocessing.image import ImageDataGenerator\n",
        "\n",
        "train_dataGen = ImageDataGenerator(rescale = 1./255,\n",
        "                                  shear_range = 0.2,\n",
        "                                  zoom_range = 0.2,\n",
        "                                  horizontal_flip = True)\n",
        "\n",
        "train_generator = train_dataGen.flow_from_dataframe(\n",
        "                                        dataframe = training_set,\n",
        "                                        directory=\"/content/drive/My Drive/catsanddogsdataset/images_train\",x_col=\"Images\",\n",
        "                                        y_col=\"New_class\",\n",
        "                                        class_mode=\"categorical\",\n",
        "                                        target_size=(128,128),\n",
        "                                        batch_size=32)"
      ],
      "execution_count": 6,
      "outputs": [
        {
          "output_type": "stream",
          "text": [
            "Found 6206 validated image filenames belonging to 10 classes.\n"
          ],
          "name": "stdout"
        }
      ]
    },
    {
      "cell_type": "code",
      "metadata": {
        "id": "fAFDMqtyy66O",
        "colab_type": "code",
        "colab": {}
      },
      "source": [
        "classifier = Sequential()"
      ],
      "execution_count": 0,
      "outputs": []
    },
    {
      "cell_type": "code",
      "metadata": {
        "id": "pwasHO7wzkAE",
        "colab_type": "code",
        "colab": {}
      },
      "source": [
        "#First Convolutional layer\n",
        "classifier.add(Conv2D(filters = 56,kernel_size = (3,3), activation = 'relu', input_shape = (128,128,3)))"
      ],
      "execution_count": 0,
      "outputs": []
    },
    {
      "cell_type": "code",
      "metadata": {
        "id": "BvZYi3xqzttq",
        "colab_type": "code",
        "colab": {}
      },
      "source": [
        "classifier.add(MaxPooling2D(pool_size = (2,2)))"
      ],
      "execution_count": 0,
      "outputs": []
    },
    {
      "cell_type": "code",
      "metadata": {
        "id": "rWS-vLpYzypm",
        "colab_type": "code",
        "colab": {}
      },
      "source": [
        "#second Convolutional layer\n",
        "classifier.add(Conv2D(32,(3,3),activation = 'relu'))\n",
        "classifier.add(MaxPooling2D(pool_size = (2,2)))"
      ],
      "execution_count": 0,
      "outputs": []
    },
    {
      "cell_type": "code",
      "metadata": {
        "id": "t3vEDKzVz4gB",
        "colab_type": "code",
        "colab": {}
      },
      "source": [
        "#Flattening\n",
        "classifier.add(Flatten())"
      ],
      "execution_count": 0,
      "outputs": []
    },
    {
      "cell_type": "code",
      "metadata": {
        "id": "Nb-5qD810Aal",
        "colab_type": "code",
        "colab": {}
      },
      "source": [
        "#Hidden Layer\n",
        "classifier.add(Dense(units = 64, activation = 'relu'))\n",
        "\n",
        "#Output Layer\n",
        "classifier.add(Dense(units = 10 , activation = 'softmax'))"
      ],
      "execution_count": 0,
      "outputs": []
    },
    {
      "cell_type": "code",
      "metadata": {
        "id": "8ZbVEjJ-0FbV",
        "colab_type": "code",
        "colab": {}
      },
      "source": [
        "classifier.compile(optimizer = 'adam', loss = 'categorical_crossentropy', metrics = ['categorical_accuracy','accuracy'])\n",
        "\n"
      ],
      "execution_count": 0,
      "outputs": []
    },
    {
      "cell_type": "code",
      "metadata": {
        "id": "G8mzhvJ-0Jdl",
        "colab_type": "code",
        "outputId": "464be7a1-9b0f-40b5-919c-94c6729b9a01",
        "colab": {
          "base_uri": "https://localhost:8080/",
          "height": 391
        }
      },
      "source": [
        "classifier.summary()"
      ],
      "execution_count": 14,
      "outputs": [
        {
          "output_type": "stream",
          "text": [
            "Model: \"sequential\"\n",
            "_________________________________________________________________\n",
            "Layer (type)                 Output Shape              Param #   \n",
            "=================================================================\n",
            "conv2d (Conv2D)              (None, 126, 126, 56)      1568      \n",
            "_________________________________________________________________\n",
            "max_pooling2d (MaxPooling2D) (None, 63, 63, 56)        0         \n",
            "_________________________________________________________________\n",
            "conv2d_1 (Conv2D)            (None, 61, 61, 32)        16160     \n",
            "_________________________________________________________________\n",
            "max_pooling2d_1 (MaxPooling2 (None, 30, 30, 32)        0         \n",
            "_________________________________________________________________\n",
            "flatten (Flatten)            (None, 28800)             0         \n",
            "_________________________________________________________________\n",
            "dense (Dense)                (None, 64)                1843264   \n",
            "_________________________________________________________________\n",
            "dense_1 (Dense)              (None, 10)                650       \n",
            "=================================================================\n",
            "Total params: 1,861,642\n",
            "Trainable params: 1,861,642\n",
            "Non-trainable params: 0\n",
            "_________________________________________________________________\n"
          ],
          "name": "stdout"
        }
      ]
    },
    {
      "cell_type": "code",
      "metadata": {
        "id": "99zletfD0ULd",
        "colab_type": "code",
        "outputId": "9d43fa15-f2b3-4c85-b74b-f17a6caeb2d5",
        "colab": {
          "base_uri": "https://localhost:8080/",
          "height": 1000
        }
      },
      "source": [
        "classifier.fit(train_generator, epochs = 64, steps_per_epoch = 60 )"
      ],
      "execution_count": 15,
      "outputs": [
        {
          "output_type": "stream",
          "text": [
            "Epoch 1/64\n",
            "60/60 [==============================] - 1218s 20s/step - loss: 2.2995 - categorical_accuracy: 0.1406 - accuracy: 0.1406\n",
            "Epoch 2/64\n",
            "60/60 [==============================] - 825s 14s/step - loss: 2.0780 - categorical_accuracy: 0.2536 - accuracy: 0.2536\n",
            "Epoch 3/64\n",
            "60/60 [==============================] - 550s 9s/step - loss: 1.9404 - categorical_accuracy: 0.3029 - accuracy: 0.3029\n",
            "Epoch 4/64\n",
            "60/60 [==============================] - 369s 6s/step - loss: 1.8265 - categorical_accuracy: 0.3281 - accuracy: 0.3281\n",
            "Epoch 5/64\n",
            "60/60 [==============================] - 248s 4s/step - loss: 1.7886 - categorical_accuracy: 0.3688 - accuracy: 0.3688\n",
            "Epoch 6/64\n",
            "60/60 [==============================] - 228s 4s/step - loss: 1.7344 - categorical_accuracy: 0.3833 - accuracy: 0.3833\n",
            "Epoch 7/64\n",
            "60/60 [==============================] - 211s 4s/step - loss: 1.6561 - categorical_accuracy: 0.4098 - accuracy: 0.4098\n",
            "Epoch 8/64\n",
            "60/60 [==============================] - 89s 1s/step - loss: 1.6218 - categorical_accuracy: 0.4348 - accuracy: 0.4348\n",
            "Epoch 9/64\n",
            "60/60 [==============================] - 76s 1s/step - loss: 1.6043 - categorical_accuracy: 0.4318 - accuracy: 0.4318\n",
            "Epoch 10/64\n",
            "60/60 [==============================] - 91s 2s/step - loss: 1.5820 - categorical_accuracy: 0.4474 - accuracy: 0.4474\n",
            "Epoch 11/64\n",
            "60/60 [==============================] - 61s 1s/step - loss: 1.5408 - categorical_accuracy: 0.4760 - accuracy: 0.4760\n",
            "Epoch 12/64\n",
            "60/60 [==============================] - 55s 910ms/step - loss: 1.4976 - categorical_accuracy: 0.4812 - accuracy: 0.4812\n",
            "Epoch 13/64\n",
            "60/60 [==============================] - 52s 867ms/step - loss: 1.4895 - categorical_accuracy: 0.4807 - accuracy: 0.4807\n",
            "Epoch 14/64\n",
            "60/60 [==============================] - 52s 873ms/step - loss: 1.5082 - categorical_accuracy: 0.4833 - accuracy: 0.4833\n",
            "Epoch 15/64\n",
            "60/60 [==============================] - 52s 866ms/step - loss: 1.4832 - categorical_accuracy: 0.4854 - accuracy: 0.4854\n",
            "Epoch 16/64\n",
            "60/60 [==============================] - 80s 1s/step - loss: 1.4181 - categorical_accuracy: 0.5135 - accuracy: 0.5135\n",
            "Epoch 17/64\n",
            "60/60 [==============================] - 50s 837ms/step - loss: 1.3750 - categorical_accuracy: 0.5203 - accuracy: 0.5203\n",
            "Epoch 18/64\n",
            "60/60 [==============================] - 51s 851ms/step - loss: 1.3870 - categorical_accuracy: 0.5161 - accuracy: 0.5161\n",
            "Epoch 19/64\n",
            "60/60 [==============================] - 50s 830ms/step - loss: 1.3520 - categorical_accuracy: 0.5271 - accuracy: 0.5271\n",
            "Epoch 20/64\n",
            "60/60 [==============================] - 50s 840ms/step - loss: 1.3861 - categorical_accuracy: 0.5260 - accuracy: 0.5260\n",
            "Epoch 21/64\n",
            "60/60 [==============================] - 50s 829ms/step - loss: 1.3618 - categorical_accuracy: 0.5104 - accuracy: 0.5104\n",
            "Epoch 22/64\n",
            "60/60 [==============================] - 50s 830ms/step - loss: 1.3400 - categorical_accuracy: 0.5349 - accuracy: 0.5349\n",
            "Epoch 23/64\n",
            "60/60 [==============================] - 50s 831ms/step - loss: 1.2885 - categorical_accuracy: 0.5474 - accuracy: 0.5474\n",
            "Epoch 24/64\n",
            "60/60 [==============================] - 50s 832ms/step - loss: 1.3309 - categorical_accuracy: 0.5412 - accuracy: 0.5412\n",
            "Epoch 25/64\n",
            "60/60 [==============================] - 50s 835ms/step - loss: 1.2795 - categorical_accuracy: 0.5615 - accuracy: 0.5615\n",
            "Epoch 26/64\n",
            "60/60 [==============================] - 50s 831ms/step - loss: 1.2636 - categorical_accuracy: 0.5635 - accuracy: 0.5635\n",
            "Epoch 27/64\n",
            "60/60 [==============================] - 50s 829ms/step - loss: 1.2772 - categorical_accuracy: 0.5682 - accuracy: 0.5682\n",
            "Epoch 28/64\n",
            "60/60 [==============================] - 49s 825ms/step - loss: 1.2583 - categorical_accuracy: 0.5693 - accuracy: 0.5693\n",
            "Epoch 29/64\n",
            "60/60 [==============================] - 49s 819ms/step - loss: 1.2436 - categorical_accuracy: 0.5714 - accuracy: 0.5714\n",
            "Epoch 30/64\n",
            "60/60 [==============================] - 49s 816ms/step - loss: 1.2417 - categorical_accuracy: 0.5673 - accuracy: 0.5673\n",
            "Epoch 31/64\n",
            "60/60 [==============================] - 53s 891ms/step - loss: 1.1943 - categorical_accuracy: 0.6032 - accuracy: 0.6032\n",
            "Epoch 32/64\n",
            "60/60 [==============================] - 50s 828ms/step - loss: 1.1952 - categorical_accuracy: 0.5902 - accuracy: 0.5902\n",
            "Epoch 33/64\n",
            "60/60 [==============================] - 50s 833ms/step - loss: 1.1913 - categorical_accuracy: 0.5949 - accuracy: 0.5949\n",
            "Epoch 34/64\n",
            "60/60 [==============================] - 50s 833ms/step - loss: 1.1191 - categorical_accuracy: 0.6125 - accuracy: 0.6125\n",
            "Epoch 35/64\n",
            "60/60 [==============================] - 50s 829ms/step - loss: 1.1812 - categorical_accuracy: 0.5996 - accuracy: 0.5996\n",
            "Epoch 36/64\n",
            "60/60 [==============================] - 50s 825ms/step - loss: 1.1635 - categorical_accuracy: 0.6021 - accuracy: 0.6021\n",
            "Epoch 37/64\n",
            "60/60 [==============================] - 50s 832ms/step - loss: 1.1605 - categorical_accuracy: 0.5901 - accuracy: 0.5901\n",
            "Epoch 38/64\n",
            "60/60 [==============================] - 51s 854ms/step - loss: 1.1223 - categorical_accuracy: 0.6031 - accuracy: 0.6031\n",
            "Epoch 39/64\n",
            "60/60 [==============================] - 51s 854ms/step - loss: 1.1359 - categorical_accuracy: 0.6120 - accuracy: 0.6120\n",
            "Epoch 40/64\n",
            "60/60 [==============================] - 50s 827ms/step - loss: 1.1036 - categorical_accuracy: 0.6156 - accuracy: 0.6156\n",
            "Epoch 41/64\n",
            "60/60 [==============================] - 51s 842ms/step - loss: 1.0936 - categorical_accuracy: 0.6182 - accuracy: 0.6182\n",
            "Epoch 42/64\n",
            "60/60 [==============================] - 50s 837ms/step - loss: 1.0838 - categorical_accuracy: 0.6208 - accuracy: 0.6208\n",
            "Epoch 43/64\n",
            "60/60 [==============================] - 56s 940ms/step - loss: 1.0566 - categorical_accuracy: 0.6391 - accuracy: 0.6391\n",
            "Epoch 44/64\n",
            "60/60 [==============================] - 50s 840ms/step - loss: 1.0311 - categorical_accuracy: 0.6423 - accuracy: 0.6423\n",
            "Epoch 45/64\n",
            "60/60 [==============================] - 50s 835ms/step - loss: 1.0614 - categorical_accuracy: 0.6314 - accuracy: 0.6314\n",
            "Epoch 46/64\n",
            "60/60 [==============================] - 51s 842ms/step - loss: 1.0529 - categorical_accuracy: 0.6396 - accuracy: 0.6396\n",
            "Epoch 47/64\n",
            "60/60 [==============================] - 50s 827ms/step - loss: 1.0465 - categorical_accuracy: 0.6328 - accuracy: 0.6328\n",
            "Epoch 48/64\n",
            "60/60 [==============================] - 49s 824ms/step - loss: 1.0623 - categorical_accuracy: 0.6417 - accuracy: 0.6417\n",
            "Epoch 49/64\n",
            "60/60 [==============================] - 50s 831ms/step - loss: 0.9866 - categorical_accuracy: 0.6604 - accuracy: 0.6604\n",
            "Epoch 50/64\n",
            "60/60 [==============================] - 50s 830ms/step - loss: 1.0090 - categorical_accuracy: 0.6575 - accuracy: 0.6575\n",
            "Epoch 51/64\n",
            "60/60 [==============================] - 50s 833ms/step - loss: 0.9881 - categorical_accuracy: 0.6606 - accuracy: 0.6606\n",
            "Epoch 52/64\n",
            "60/60 [==============================] - 50s 830ms/step - loss: 1.0044 - categorical_accuracy: 0.6620 - accuracy: 0.6620\n",
            "Epoch 53/64\n",
            "60/60 [==============================] - 50s 833ms/step - loss: 0.9743 - categorical_accuracy: 0.6776 - accuracy: 0.6776\n",
            "Epoch 54/64\n",
            "60/60 [==============================] - 50s 828ms/step - loss: 0.9289 - categorical_accuracy: 0.6825 - accuracy: 0.6825\n",
            "Epoch 55/64\n",
            "60/60 [==============================] - 50s 828ms/step - loss: 0.9798 - categorical_accuracy: 0.6714 - accuracy: 0.6714\n",
            "Epoch 56/64\n",
            "60/60 [==============================] - 49s 823ms/step - loss: 0.9637 - categorical_accuracy: 0.6693 - accuracy: 0.6693\n",
            "Epoch 57/64\n",
            "60/60 [==============================] - 49s 821ms/step - loss: 0.9415 - categorical_accuracy: 0.6840 - accuracy: 0.6840\n",
            "Epoch 58/64\n",
            "60/60 [==============================] - 49s 817ms/step - loss: 0.9633 - categorical_accuracy: 0.6573 - accuracy: 0.6573\n",
            "Epoch 59/64\n",
            "60/60 [==============================] - 49s 816ms/step - loss: 0.9260 - categorical_accuracy: 0.6755 - accuracy: 0.6755\n",
            "Epoch 60/64\n",
            "60/60 [==============================] - 49s 813ms/step - loss: 0.9112 - categorical_accuracy: 0.6917 - accuracy: 0.6917\n",
            "Epoch 61/64\n",
            "60/60 [==============================] - 49s 814ms/step - loss: 0.9284 - categorical_accuracy: 0.6901 - accuracy: 0.6901\n",
            "Epoch 62/64\n",
            "60/60 [==============================] - 49s 820ms/step - loss: 0.8942 - categorical_accuracy: 0.6943 - accuracy: 0.6943\n",
            "Epoch 63/64\n",
            "60/60 [==============================] - 50s 825ms/step - loss: 0.9509 - categorical_accuracy: 0.6833 - accuracy: 0.6833\n",
            "Epoch 64/64\n",
            "60/60 [==============================] - 49s 822ms/step - loss: 0.9117 - categorical_accuracy: 0.6903 - accuracy: 0.6903\n"
          ],
          "name": "stdout"
        },
        {
          "output_type": "execute_result",
          "data": {
            "text/plain": [
              "<tensorflow.python.keras.callbacks.History at 0x7f7dec2ebe48>"
            ]
          },
          "metadata": {
            "tags": []
          },
          "execution_count": 15
        }
      ]
    }
  ]
}