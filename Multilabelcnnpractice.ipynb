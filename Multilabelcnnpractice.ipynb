{
  "nbformat": 4,
  "nbformat_minor": 0,
  "metadata": {
    "colab": {
      "name": "Multilabelcnnpractice.ipynb",
      "provenance": [],
      "collapsed_sections": [],
      "mount_file_id": "1O7yt_QtrKcfJWX9g4KWyfr0cBP3W__P1",
      "authorship_tag": "ABX9TyPfVhzKJMGSq2qHpdaif/48",
      "include_colab_link": true
    },
    "kernelspec": {
      "name": "python3",
      "display_name": "Python 3"
    }
  },
  "cells": [
    {
      "cell_type": "markdown",
      "metadata": {
        "id": "view-in-github",
        "colab_type": "text"
      },
      "source": [
        "<a href=\"https://colab.research.google.com/github/pranitha2144/Internship-iith/blob/master/Multilabelcnnpractice.ipynb\" target=\"_parent\"><img src=\"https://colab.research.google.com/assets/colab-badge.svg\" alt=\"Open In Colab\"/></a>"
      ]
    },
    {
      "cell_type": "code",
      "metadata": {
        "id": "-oynNGxo81hr",
        "colab_type": "code",
        "outputId": "e09d6693-e119-4c68-e0b9-986e63cdc8ce",
        "colab": {
          "base_uri": "https://localhost:8080/",
          "height": 34
        }
      },
      "source": [
        "import tensorflow as tf\n",
        "from tensorflow.keras.models import Sequential\n",
        "from tensorflow.keras.layers import Dense, Conv2D, MaxPooling2D, Flatten\n",
        "import numpy as np\n",
        "import matplotlib.pyplot as plt\n",
        "import pandas as pd\n",
        "print(tf.__version__)"
      ],
      "execution_count": 30,
      "outputs": [
        {
          "output_type": "stream",
          "text": [
            "2.2.0\n"
          ],
          "name": "stdout"
        }
      ]
    },
    {
      "cell_type": "code",
      "metadata": {
        "id": "PHiRIxkNl1uW",
        "colab_type": "code",
        "colab": {}
      },
      "source": [
        "training_set = pd.read_csv(\"/content/drive/My Drive/catsanddogsdataset/train.csv\")\n",
        "\n",
        "training_imgs = [\"{}.jpg\".format(x) for x in list(training_set.id)]\n",
        "\n",
        "training_labels_1 = list(training_set['class_name'])\n",
        "training_labels_2 = list(training_set['breed'])\n",
        "training_set = pd.DataFrame( {'Images': training_imgs,'Animal': training_labels_1, 'Breed' : training_labels_2})\n",
        "\n",
        "#Changing the type  to str\n",
        "training_set.Animal = training_set.Animal.astype(str)\n",
        "training_set.Breed = training_set.Breed.astype(str)"
      ],
      "execution_count": 0,
      "outputs": []
    },
    {
      "cell_type": "code",
      "metadata": {
        "id": "Qif_Cp-0mtEg",
        "colab_type": "code",
        "colab": {}
      },
      "source": [
        "training_set['New_class'] = training_set['Animal'] + training_set['Breed']"
      ],
      "execution_count": 0,
      "outputs": []
    },
    {
      "cell_type": "code",
      "metadata": {
        "id": "8juchP7qpiJu",
        "colab_type": "code",
        "outputId": "038dee67-bcff-42a1-aebd-31ab202baa2d",
        "colab": {
          "base_uri": "https://localhost:8080/",
          "height": 119
        }
      },
      "source": [
        "print(training_set.head())"
      ],
      "execution_count": 33,
      "outputs": [
        {
          "output_type": "stream",
          "text": [
            "         Images Animal Breed New_class\n",
            "0  img_1313.jpg      1    11       111\n",
            "1  img_0642.jpg      2    21       221\n",
            "2  img_1450.jpg      1    11       111\n",
            "3  img_2201.jpg      1    12       112\n",
            "4  img_0964.jpg      2    21       221\n"
          ],
          "name": "stdout"
        }
      ]
    },
    {
      "cell_type": "code",
      "metadata": {
        "id": "gvXj8d9lmzAj",
        "colab_type": "code",
        "outputId": "e1b6f092-a224-481a-e4c0-4cb56e044594",
        "colab": {
          "base_uri": "https://localhost:8080/",
          "height": 34
        }
      },
      "source": [
        "from tensorflow.keras.preprocessing.image import ImageDataGenerator\n",
        "\n",
        "train_dataGen = ImageDataGenerator(rescale = 1./255,\n",
        "                                  shear_range = 0.2,\n",
        "                                  zoom_range = 0.2,\n",
        "                                  horizontal_flip = True)\n",
        "\n",
        "train_generator = train_dataGen.flow_from_dataframe(\n",
        "                                        dataframe = training_set,\n",
        "                                        directory=\"/content/drive/My Drive/catsanddogsdataset/images_train\",x_col=\"Images\",\n",
        "                                        y_col=\"New_class\",\n",
        "                                        class_mode=\"categorical\",\n",
        "                                        target_size=(128,128),\n",
        "                                        batch_size=32)"
      ],
      "execution_count": 34,
      "outputs": [
        {
          "output_type": "stream",
          "text": [
            "Found 6206 validated image filenames belonging to 10 classes.\n"
          ],
          "name": "stdout"
        }
      ]
    },
    {
      "cell_type": "code",
      "metadata": {
        "id": "fAFDMqtyy66O",
        "colab_type": "code",
        "colab": {}
      },
      "source": [
        "classifier = Sequential([Conv2D(16,(3,3),activation='relu',input_shape=(128,128,3)),\n",
        "                         MaxPooling2D(2,2),\n",
        "                         Conv2D(32,(3,3),activation='relu'),\n",
        "                         MaxPooling2D(2,2),\n",
        "                         Conv2D(64,(3,3),activation='relu'),\n",
        "                         MaxPooling2D(2,2),\n",
        "                         Flatten(),\n",
        "                         Dense(512,activation='relu'),\n",
        "                         Dense(10,activation='softmax')\n",
        "\n",
        "\n",
        "\n",
        "])"
      ],
      "execution_count": 0,
      "outputs": []
    },
    {
      "cell_type": "code",
      "metadata": {
        "id": "pwasHO7wzkAE",
        "colab_type": "code",
        "colab": {}
      },
      "source": [
        "#First Convolutional layer\n",
        "classifier.add(Conv2D(filters = 56,kernel_size = (3,3), activation = 'relu', input_shape = (128,128,3)))"
      ],
      "execution_count": 0,
      "outputs": []
    },
    {
      "cell_type": "code",
      "metadata": {
        "id": "BvZYi3xqzttq",
        "colab_type": "code",
        "colab": {}
      },
      "source": [
        "classifier.add(MaxPooling2D(pool_size = (2,2)))"
      ],
      "execution_count": 0,
      "outputs": []
    },
    {
      "cell_type": "code",
      "metadata": {
        "id": "rWS-vLpYzypm",
        "colab_type": "code",
        "colab": {}
      },
      "source": [
        "#second Convolutional layer\n",
        "classifier.add(Conv2D(32,(3,3),activation = 'relu'))\n",
        "classifier.add(MaxPooling2D(pool_size = (2,2)))"
      ],
      "execution_count": 0,
      "outputs": []
    },
    {
      "cell_type": "code",
      "metadata": {
        "id": "t3vEDKzVz4gB",
        "colab_type": "code",
        "colab": {}
      },
      "source": [
        "#Flattening\n",
        "classifier.add(Flatten())"
      ],
      "execution_count": 0,
      "outputs": []
    },
    {
      "cell_type": "code",
      "metadata": {
        "id": "Nb-5qD810Aal",
        "colab_type": "code",
        "colab": {}
      },
      "source": [
        "#Hidden Layer\n",
        "classifier.add(Dense(units = 64, activation = 'relu'))\n",
        "\n",
        "#Output Layer\n",
        "classifier.add(Dense(units = 10 , activation = 'softmax'))"
      ],
      "execution_count": 0,
      "outputs": []
    },
    {
      "cell_type": "code",
      "metadata": {
        "id": "8ZbVEjJ-0FbV",
        "colab_type": "code",
        "colab": {}
      },
      "source": [
        "classifier.compile(optimizer = 'RMSprop', loss = 'categorical_crossentropy', metrics = ['categorical_accuracy','accuracy'])\n",
        "\n"
      ],
      "execution_count": 0,
      "outputs": []
    },
    {
      "cell_type": "code",
      "metadata": {
        "id": "G8mzhvJ-0Jdl",
        "colab_type": "code",
        "outputId": "84116ffc-3a2f-41c7-8bea-203d6dbb403d",
        "colab": {
          "base_uri": "https://localhost:8080/",
          "height": 459
        }
      },
      "source": [
        "classifier.summary()"
      ],
      "execution_count": 37,
      "outputs": [
        {
          "output_type": "stream",
          "text": [
            "Model: \"sequential_2\"\n",
            "_________________________________________________________________\n",
            "Layer (type)                 Output Shape              Param #   \n",
            "=================================================================\n",
            "conv2d_4 (Conv2D)            (None, 126, 126, 16)      448       \n",
            "_________________________________________________________________\n",
            "max_pooling2d_4 (MaxPooling2 (None, 63, 63, 16)        0         \n",
            "_________________________________________________________________\n",
            "conv2d_5 (Conv2D)            (None, 61, 61, 32)        4640      \n",
            "_________________________________________________________________\n",
            "max_pooling2d_5 (MaxPooling2 (None, 30, 30, 32)        0         \n",
            "_________________________________________________________________\n",
            "conv2d_6 (Conv2D)            (None, 28, 28, 64)        18496     \n",
            "_________________________________________________________________\n",
            "max_pooling2d_6 (MaxPooling2 (None, 14, 14, 64)        0         \n",
            "_________________________________________________________________\n",
            "flatten_2 (Flatten)          (None, 12544)             0         \n",
            "_________________________________________________________________\n",
            "dense_4 (Dense)              (None, 512)               6423040   \n",
            "_________________________________________________________________\n",
            "dense_5 (Dense)              (None, 10)                5130      \n",
            "=================================================================\n",
            "Total params: 6,451,754\n",
            "Trainable params: 6,451,754\n",
            "Non-trainable params: 0\n",
            "_________________________________________________________________\n"
          ],
          "name": "stdout"
        }
      ]
    },
    {
      "cell_type": "code",
      "metadata": {
        "id": "99zletfD0ULd",
        "colab_type": "code",
        "outputId": "54f49e31-6ddc-49c8-f99e-1893f122c587",
        "colab": {
          "base_uri": "https://localhost:8080/",
          "height": 884
        }
      },
      "source": [
        "classifier.fit(train_generator, epochs = 25, steps_per_epoch = 100 )"
      ],
      "execution_count": 38,
      "outputs": [
        {
          "output_type": "stream",
          "text": [
            "Epoch 1/25\n",
            "100/100 [==============================] - 62s 623ms/step - loss: 2.2688 - categorical_accuracy: 0.1948 - accuracy: 0.1948\n",
            "Epoch 2/25\n",
            "100/100 [==============================] - 62s 622ms/step - loss: 1.8984 - categorical_accuracy: 0.3155 - accuracy: 0.3155\n",
            "Epoch 3/25\n",
            "100/100 [==============================] - 67s 665ms/step - loss: 1.7486 - categorical_accuracy: 0.3772 - accuracy: 0.3772\n",
            "Epoch 4/25\n",
            "100/100 [==============================] - 62s 619ms/step - loss: 1.6688 - categorical_accuracy: 0.4144 - accuracy: 0.4144\n",
            "Epoch 5/25\n",
            "100/100 [==============================] - 62s 617ms/step - loss: 1.5401 - categorical_accuracy: 0.4606 - accuracy: 0.4606\n",
            "Epoch 6/25\n",
            "100/100 [==============================] - 62s 618ms/step - loss: 1.4758 - categorical_accuracy: 0.4819 - accuracy: 0.4819\n",
            "Epoch 7/25\n",
            "100/100 [==============================] - 62s 620ms/step - loss: 1.4050 - categorical_accuracy: 0.5097 - accuracy: 0.5097\n",
            "Epoch 8/25\n",
            "100/100 [==============================] - 62s 618ms/step - loss: 1.3460 - categorical_accuracy: 0.5266 - accuracy: 0.5266\n",
            "Epoch 9/25\n",
            "100/100 [==============================] - 62s 625ms/step - loss: 1.3004 - categorical_accuracy: 0.5482 - accuracy: 0.5482\n",
            "Epoch 10/25\n",
            "100/100 [==============================] - 62s 620ms/step - loss: 1.2278 - categorical_accuracy: 0.5772 - accuracy: 0.5772\n",
            "Epoch 11/25\n",
            "100/100 [==============================] - 62s 617ms/step - loss: 1.2044 - categorical_accuracy: 0.5863 - accuracy: 0.5863\n",
            "Epoch 12/25\n",
            "100/100 [==============================] - 67s 670ms/step - loss: 1.1581 - categorical_accuracy: 0.5994 - accuracy: 0.5994\n",
            "Epoch 13/25\n",
            "100/100 [==============================] - 62s 621ms/step - loss: 1.1195 - categorical_accuracy: 0.6153 - accuracy: 0.6153\n",
            "Epoch 14/25\n",
            "100/100 [==============================] - 62s 617ms/step - loss: 1.0757 - categorical_accuracy: 0.6256 - accuracy: 0.6256\n",
            "Epoch 15/25\n",
            "100/100 [==============================] - 62s 617ms/step - loss: 1.0249 - categorical_accuracy: 0.6519 - accuracy: 0.6519\n",
            "Epoch 16/25\n",
            "100/100 [==============================] - 62s 616ms/step - loss: 0.9623 - categorical_accuracy: 0.6706 - accuracy: 0.6706\n",
            "Epoch 17/25\n",
            "100/100 [==============================] - 62s 617ms/step - loss: 0.9187 - categorical_accuracy: 0.6839 - accuracy: 0.6839\n",
            "Epoch 18/25\n",
            "100/100 [==============================] - 62s 617ms/step - loss: 0.8508 - categorical_accuracy: 0.7011 - accuracy: 0.7011\n",
            "Epoch 19/25\n",
            "100/100 [==============================] - 62s 620ms/step - loss: 0.8406 - categorical_accuracy: 0.7131 - accuracy: 0.7131\n",
            "Epoch 20/25\n",
            "100/100 [==============================] - 62s 618ms/step - loss: 0.7866 - categorical_accuracy: 0.7361 - accuracy: 0.7361\n",
            "Epoch 21/25\n",
            "100/100 [==============================] - 62s 617ms/step - loss: 0.7310 - categorical_accuracy: 0.7592 - accuracy: 0.7592\n",
            "Epoch 22/25\n",
            "100/100 [==============================] - 66s 659ms/step - loss: 0.7079 - categorical_accuracy: 0.7628 - accuracy: 0.7628\n",
            "Epoch 23/25\n",
            "100/100 [==============================] - 62s 622ms/step - loss: 0.6657 - categorical_accuracy: 0.7764 - accuracy: 0.7764\n",
            "Epoch 24/25\n",
            "100/100 [==============================] - 62s 618ms/step - loss: 0.6548 - categorical_accuracy: 0.7816 - accuracy: 0.7816\n",
            "Epoch 25/25\n",
            "100/100 [==============================] - 62s 620ms/step - loss: 0.6368 - categorical_accuracy: 0.7986 - accuracy: 0.7986\n"
          ],
          "name": "stdout"
        },
        {
          "output_type": "execute_result",
          "data": {
            "text/plain": [
              "<tensorflow.python.keras.callbacks.History at 0x7f5226a292e8>"
            ]
          },
          "metadata": {
            "tags": []
          },
          "execution_count": 38
        }
      ]
    }
  ]
}