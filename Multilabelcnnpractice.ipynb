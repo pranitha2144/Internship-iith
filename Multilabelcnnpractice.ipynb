{
  "nbformat": 4,
  "nbformat_minor": 0,
  "metadata": {
    "colab": {
      "name": "Multilabelcnnpractice.ipynb",
      "provenance": [],
      "collapsed_sections": [],
      "mount_file_id": "1O7yt_QtrKcfJWX9g4KWyfr0cBP3W__P1",
      "authorship_tag": "ABX9TyNKbr5SCxa+UWmyk0eDBF+U",
      "include_colab_link": true
    },
    "kernelspec": {
      "name": "python3",
      "display_name": "Python 3"
    }
  },
  "cells": [
    {
      "cell_type": "markdown",
      "metadata": {
        "id": "view-in-github",
        "colab_type": "text"
      },
      "source": [
        "<a href=\"https://colab.research.google.com/github/pranitha2144/Internship-iith/blob/master/Multilabelcnnpractice.ipynb\" target=\"_parent\"><img src=\"https://colab.research.google.com/assets/colab-badge.svg\" alt=\"Open In Colab\"/></a>"
      ]
    },
    {
      "cell_type": "code",
      "metadata": {
        "id": "-oynNGxo81hr",
        "colab_type": "code",
        "outputId": "cd47e14a-b604-4dd1-f5f7-a56dc0baa731",
        "colab": {
          "base_uri": "https://localhost:8080/",
          "height": 34
        }
      },
      "source": [
        "import tensorflow as tf\n",
        "from tensorflow.keras.models import Sequential\n",
        "from tensorflow.keras.layers import Dense, Conv2D, MaxPooling2D, Flatten\n",
        "import numpy as np\n",
        "import matplotlib.pyplot as plt\n",
        "import pandas as pd\n",
        "print(tf.__version__)"
      ],
      "execution_count": 2,
      "outputs": [
        {
          "output_type": "stream",
          "text": [
            "2.2.0\n"
          ],
          "name": "stdout"
        }
      ]
    },
    {
      "cell_type": "code",
      "metadata": {
        "id": "PHiRIxkNl1uW",
        "colab_type": "code",
        "colab": {}
      },
      "source": [
        "training_set = pd.read_csv(\"/content/drive/My Drive/catsanddogsdataset/train.csv\")\n",
        "\n",
        "training_imgs = [\"{}.jpg\".format(x) for x in list(training_set.id)]\n",
        "\n",
        "training_labels_1 = list(training_set['class_name'])\n",
        "training_labels_2 = list(training_set['breed'])\n",
        "training_set = pd.DataFrame( {'Images': training_imgs,'Animal': training_labels_1, 'Breed' : training_labels_2})\n",
        "\n",
        "#Changing the type  to str\n",
        "training_set.Animal = training_set.Animal.astype(str)\n",
        "training_set.Breed = training_set.Breed.astype(str)"
      ],
      "execution_count": 0,
      "outputs": []
    },
    {
      "cell_type": "code",
      "metadata": {
        "id": "Qif_Cp-0mtEg",
        "colab_type": "code",
        "colab": {}
      },
      "source": [
        "training_set['New_class'] = training_set['Animal'] + training_set['Breed']"
      ],
      "execution_count": 0,
      "outputs": []
    },
    {
      "cell_type": "code",
      "metadata": {
        "id": "8juchP7qpiJu",
        "colab_type": "code",
        "outputId": "862d50b8-e31a-480b-951b-be0c8b0f1171",
        "colab": {
          "base_uri": "https://localhost:8080/",
          "height": 119
        }
      },
      "source": [
        "print(training_set.head())"
      ],
      "execution_count": 5,
      "outputs": [
        {
          "output_type": "stream",
          "text": [
            "         Images Animal Breed New_class\n",
            "0  img_1313.jpg      1    11       111\n",
            "1  img_0642.jpg      2    21       221\n",
            "2  img_1450.jpg      1    11       111\n",
            "3  img_2201.jpg      1    12       112\n",
            "4  img_0964.jpg      2    21       221\n"
          ],
          "name": "stdout"
        }
      ]
    },
    {
      "cell_type": "code",
      "metadata": {
        "id": "gvXj8d9lmzAj",
        "colab_type": "code",
        "outputId": "5840377f-c128-47c0-ca27-726c1d9a6a99",
        "colab": {
          "base_uri": "https://localhost:8080/",
          "height": 34
        }
      },
      "source": [
        "from tensorflow.keras.preprocessing.image import ImageDataGenerator\n",
        "\n",
        "train_dataGen = ImageDataGenerator(rescale = 1./255,\n",
        "                                  shear_range = 0.2,\n",
        "                                  zoom_range = 0.2,\n",
        "                                  horizontal_flip = True)\n",
        "\n",
        "train_generator = train_dataGen.flow_from_dataframe(\n",
        "                                        dataframe = training_set,\n",
        "                                        directory=\"/content/drive/My Drive/catsanddogsdataset/images_train\",x_col=\"Images\",\n",
        "                                        y_col=\"New_class\",\n",
        "                                        class_mode=\"categorical\",\n",
        "                                        target_size=(128,128),\n",
        "                                        batch_size=32)"
      ],
      "execution_count": 6,
      "outputs": [
        {
          "output_type": "stream",
          "text": [
            "Found 6206 validated image filenames belonging to 10 classes.\n"
          ],
          "name": "stdout"
        }
      ]
    },
    {
      "cell_type": "code",
      "metadata": {
        "id": "fAFDMqtyy66O",
        "colab_type": "code",
        "colab": {}
      },
      "source": [
        "classifier = Sequential()"
      ],
      "execution_count": 0,
      "outputs": []
    },
    {
      "cell_type": "code",
      "metadata": {
        "id": "pwasHO7wzkAE",
        "colab_type": "code",
        "colab": {}
      },
      "source": [
        "#First Convolutional layer\n",
        "classifier.add(Conv2D(filters = 56,kernel_size = (3,3), activation = 'relu', input_shape = (128,128,3)))"
      ],
      "execution_count": 0,
      "outputs": []
    },
    {
      "cell_type": "code",
      "metadata": {
        "id": "BvZYi3xqzttq",
        "colab_type": "code",
        "colab": {}
      },
      "source": [
        "classifier.add(MaxPooling2D(pool_size = (2,2)))"
      ],
      "execution_count": 0,
      "outputs": []
    },
    {
      "cell_type": "code",
      "metadata": {
        "id": "rWS-vLpYzypm",
        "colab_type": "code",
        "colab": {}
      },
      "source": [
        "#second Convolutional layer\n",
        "classifier.add(Conv2D(32,(3,3),activation = 'relu'))\n",
        "classifier.add(MaxPooling2D(pool_size = (2,2)))"
      ],
      "execution_count": 0,
      "outputs": []
    },
    {
      "cell_type": "code",
      "metadata": {
        "id": "t3vEDKzVz4gB",
        "colab_type": "code",
        "colab": {}
      },
      "source": [
        "#Flattening\n",
        "classifier.add(Flatten())"
      ],
      "execution_count": 0,
      "outputs": []
    },
    {
      "cell_type": "code",
      "metadata": {
        "id": "Nb-5qD810Aal",
        "colab_type": "code",
        "colab": {}
      },
      "source": [
        "#Hidden Layer\n",
        "classifier.add(Dense(units = 64, activation = 'relu'))\n",
        "\n",
        "#Output Layer\n",
        "classifier.add(Dense(units = 10 , activation = 'softmax'))"
      ],
      "execution_count": 0,
      "outputs": []
    },
    {
      "cell_type": "code",
      "metadata": {
        "id": "8ZbVEjJ-0FbV",
        "colab_type": "code",
        "colab": {}
      },
      "source": [
        "classifier.compile(optimizer = 'RMSprop', loss = 'categorical_crossentropy', metrics = ['categorical_accuracy','accuracy'])\n",
        "\n"
      ],
      "execution_count": 0,
      "outputs": []
    },
    {
      "cell_type": "code",
      "metadata": {
        "id": "G8mzhvJ-0Jdl",
        "colab_type": "code",
        "outputId": "67973068-a6ec-44f8-ac6d-4f9e7bd574ea",
        "colab": {
          "base_uri": "https://localhost:8080/",
          "height": 391
        }
      },
      "source": [
        "classifier.summary()"
      ],
      "execution_count": 14,
      "outputs": [
        {
          "output_type": "stream",
          "text": [
            "Model: \"sequential\"\n",
            "_________________________________________________________________\n",
            "Layer (type)                 Output Shape              Param #   \n",
            "=================================================================\n",
            "conv2d (Conv2D)              (None, 126, 126, 56)      1568      \n",
            "_________________________________________________________________\n",
            "max_pooling2d (MaxPooling2D) (None, 63, 63, 56)        0         \n",
            "_________________________________________________________________\n",
            "conv2d_1 (Conv2D)            (None, 61, 61, 32)        16160     \n",
            "_________________________________________________________________\n",
            "max_pooling2d_1 (MaxPooling2 (None, 30, 30, 32)        0         \n",
            "_________________________________________________________________\n",
            "flatten (Flatten)            (None, 28800)             0         \n",
            "_________________________________________________________________\n",
            "dense (Dense)                (None, 64)                1843264   \n",
            "_________________________________________________________________\n",
            "dense_1 (Dense)              (None, 10)                650       \n",
            "=================================================================\n",
            "Total params: 1,861,642\n",
            "Trainable params: 1,861,642\n",
            "Non-trainable params: 0\n",
            "_________________________________________________________________\n"
          ],
          "name": "stdout"
        }
      ]
    },
    {
      "cell_type": "code",
      "metadata": {
        "id": "99zletfD0ULd",
        "colab_type": "code",
        "outputId": "dad00061-4ff6-4a62-a5a0-a72df36c1e9d",
        "colab": {
          "base_uri": "https://localhost:8080/",
          "height": 714
        }
      },
      "source": [
        "classifier.fit(train_generator, epochs = 20, steps_per_epoch = 20 )"
      ],
      "execution_count": 15,
      "outputs": [
        {
          "output_type": "stream",
          "text": [
            "Epoch 1/20\n",
            "20/20 [==============================] - 17s 846ms/step - loss: 3.1986 - categorical_accuracy: 0.1234 - accuracy: 0.1234\n",
            "Epoch 2/20\n",
            "20/20 [==============================] - 17s 847ms/step - loss: 2.2838 - categorical_accuracy: 0.1484 - accuracy: 0.1484\n",
            "Epoch 3/20\n",
            "20/20 [==============================] - 17s 848ms/step - loss: 2.2630 - categorical_accuracy: 0.1531 - accuracy: 0.1531\n",
            "Epoch 4/20\n",
            "20/20 [==============================] - 17s 847ms/step - loss: 2.2001 - categorical_accuracy: 0.2109 - accuracy: 0.2109\n",
            "Epoch 5/20\n",
            "20/20 [==============================] - 17s 843ms/step - loss: 2.1838 - categorical_accuracy: 0.2141 - accuracy: 0.2141\n",
            "Epoch 6/20\n",
            "20/20 [==============================] - 17s 844ms/step - loss: 2.0350 - categorical_accuracy: 0.2484 - accuracy: 0.2484\n",
            "Epoch 7/20\n",
            "20/20 [==============================] - 17s 841ms/step - loss: 1.9750 - categorical_accuracy: 0.2750 - accuracy: 0.2750\n",
            "Epoch 8/20\n",
            "20/20 [==============================] - 17s 843ms/step - loss: 1.9233 - categorical_accuracy: 0.3047 - accuracy: 0.3047\n",
            "Epoch 9/20\n",
            "20/20 [==============================] - 17s 842ms/step - loss: 1.8428 - categorical_accuracy: 0.3469 - accuracy: 0.3469\n",
            "Epoch 10/20\n",
            "20/20 [==============================] - 17s 843ms/step - loss: 1.8787 - categorical_accuracy: 0.3469 - accuracy: 0.3469\n",
            "Epoch 11/20\n",
            "20/20 [==============================] - 17s 841ms/step - loss: 1.8409 - categorical_accuracy: 0.3422 - accuracy: 0.3422\n",
            "Epoch 12/20\n",
            "20/20 [==============================] - 17s 843ms/step - loss: 1.7772 - categorical_accuracy: 0.3688 - accuracy: 0.3688\n",
            "Epoch 13/20\n",
            "20/20 [==============================] - 17s 840ms/step - loss: 1.7594 - categorical_accuracy: 0.3438 - accuracy: 0.3438\n",
            "Epoch 14/20\n",
            "20/20 [==============================] - 17s 837ms/step - loss: 1.7848 - categorical_accuracy: 0.3297 - accuracy: 0.3297\n",
            "Epoch 15/20\n",
            "20/20 [==============================] - 17s 834ms/step - loss: 1.6948 - categorical_accuracy: 0.3922 - accuracy: 0.3922\n",
            "Epoch 16/20\n",
            "20/20 [==============================] - 17s 833ms/step - loss: 1.7226 - categorical_accuracy: 0.3938 - accuracy: 0.3938\n",
            "Epoch 17/20\n",
            "20/20 [==============================] - 17s 841ms/step - loss: 1.6394 - categorical_accuracy: 0.4016 - accuracy: 0.4016\n",
            "Epoch 18/20\n",
            "20/20 [==============================] - 17s 838ms/step - loss: 1.7097 - categorical_accuracy: 0.3688 - accuracy: 0.3688\n",
            "Epoch 19/20\n",
            "20/20 [==============================] - 17s 843ms/step - loss: 1.7461 - categorical_accuracy: 0.3875 - accuracy: 0.3875\n",
            "Epoch 20/20\n",
            "20/20 [==============================] - 17s 835ms/step - loss: 1.6897 - categorical_accuracy: 0.4266 - accuracy: 0.4266\n"
          ],
          "name": "stdout"
        },
        {
          "output_type": "execute_result",
          "data": {
            "text/plain": [
              "<tensorflow.python.keras.callbacks.History at 0x7f521f283ba8>"
            ]
          },
          "metadata": {
            "tags": []
          },
          "execution_count": 15
        }
      ]
    }
  ]
}