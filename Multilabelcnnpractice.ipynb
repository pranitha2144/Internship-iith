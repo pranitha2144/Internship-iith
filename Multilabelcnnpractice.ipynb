{
  "nbformat": 4,
  "nbformat_minor": 0,
  "metadata": {
    "colab": {
      "name": "Multilabelcnnpractice.ipynb",
      "provenance": [],
      "collapsed_sections": [],
      "mount_file_id": "1O7yt_QtrKcfJWX9g4KWyfr0cBP3W__P1",
      "authorship_tag": "ABX9TyPU8NpFXK6u40Uhn4VTgADe",
      "include_colab_link": true
    },
    "kernelspec": {
      "name": "python3",
      "display_name": "Python 3"
    }
  },
  "cells": [
    {
      "cell_type": "markdown",
      "metadata": {
        "id": "view-in-github",
        "colab_type": "text"
      },
      "source": [
        "<a href=\"https://colab.research.google.com/github/pranitha2144/Internship-iith/blob/master/Multilabelcnnpractice.ipynb\" target=\"_parent\"><img src=\"https://colab.research.google.com/assets/colab-badge.svg\" alt=\"Open In Colab\"/></a>"
      ]
    },
    {
      "cell_type": "code",
      "metadata": {
        "id": "-oynNGxo81hr",
        "colab_type": "code",
        "outputId": "73639a75-ea12-4d65-9f72-5b93d5692093",
        "colab": {
          "base_uri": "https://localhost:8080/",
          "height": 34
        }
      },
      "source": [
        "import tensorflow as tf\n",
        "from tensorflow.keras.models import Sequential\n",
        "from tensorflow.keras.layers import Dense, Conv2D, MaxPooling2D, Flatten\n",
        "import numpy as np\n",
        "import matplotlib.pyplot as plt\n",
        "import pandas as pd\n",
        "print(tf.__version__)"
      ],
      "execution_count": 16,
      "outputs": [
        {
          "output_type": "stream",
          "text": [
            "2.2.0\n"
          ],
          "name": "stdout"
        }
      ]
    },
    {
      "cell_type": "code",
      "metadata": {
        "id": "PHiRIxkNl1uW",
        "colab_type": "code",
        "colab": {}
      },
      "source": [
        "training_set = pd.read_csv(\"/content/drive/My Drive/catsanddogsdataset/train.csv\")\n",
        "\n",
        "training_imgs = [\"{}.jpg\".format(x) for x in list(training_set.id)]\n",
        "\n",
        "training_labels_1 = list(training_set['class_name'])\n",
        "training_labels_2 = list(training_set['breed'])\n",
        "training_set = pd.DataFrame( {'Images': training_imgs,'Animal': training_labels_1, 'Breed' : training_labels_2})\n",
        "\n",
        "#Changing the type  to str\n",
        "training_set.Animal = training_set.Animal.astype(str)\n",
        "training_set.Breed = training_set.Breed.astype(str)"
      ],
      "execution_count": 0,
      "outputs": []
    },
    {
      "cell_type": "code",
      "metadata": {
        "id": "Qif_Cp-0mtEg",
        "colab_type": "code",
        "colab": {}
      },
      "source": [
        "training_set['New_class'] = training_set['Animal'] + training_set['Breed']"
      ],
      "execution_count": 0,
      "outputs": []
    },
    {
      "cell_type": "code",
      "metadata": {
        "id": "8juchP7qpiJu",
        "colab_type": "code",
        "outputId": "9e692e47-004d-4ab9-afa3-06296521fb47",
        "colab": {
          "base_uri": "https://localhost:8080/",
          "height": 119
        }
      },
      "source": [
        "print(training_set.head())"
      ],
      "execution_count": 19,
      "outputs": [
        {
          "output_type": "stream",
          "text": [
            "         Images Animal Breed New_class\n",
            "0  img_1313.jpg      1    11       111\n",
            "1  img_0642.jpg      2    21       221\n",
            "2  img_1450.jpg      1    11       111\n",
            "3  img_2201.jpg      1    12       112\n",
            "4  img_0964.jpg      2    21       221\n"
          ],
          "name": "stdout"
        }
      ]
    },
    {
      "cell_type": "code",
      "metadata": {
        "id": "gvXj8d9lmzAj",
        "colab_type": "code",
        "outputId": "8bb1b962-6038-428b-a595-23ac05fa90f3",
        "colab": {
          "base_uri": "https://localhost:8080/",
          "height": 34
        }
      },
      "source": [
        "from tensorflow.keras.preprocessing.image import ImageDataGenerator\n",
        "\n",
        "train_dataGen = ImageDataGenerator(rescale = 1./255,\n",
        "                                  shear_range = 0.2,\n",
        "                                  zoom_range = 0.2,\n",
        "                                  horizontal_flip = True)\n",
        "\n",
        "train_generator = train_dataGen.flow_from_dataframe(\n",
        "                                        dataframe = training_set,\n",
        "                                        directory=\"/content/drive/My Drive/catsanddogsdataset/images_train\",x_col=\"Images\",\n",
        "                                        y_col=\"New_class\",\n",
        "                                        class_mode=\"categorical\",\n",
        "                                        target_size=(128,128),\n",
        "                                        batch_size=32)"
      ],
      "execution_count": 20,
      "outputs": [
        {
          "output_type": "stream",
          "text": [
            "Found 6206 validated image filenames belonging to 10 classes.\n"
          ],
          "name": "stdout"
        }
      ]
    },
    {
      "cell_type": "code",
      "metadata": {
        "id": "fAFDMqtyy66O",
        "colab_type": "code",
        "colab": {}
      },
      "source": [
        "classifier = Sequential()"
      ],
      "execution_count": 0,
      "outputs": []
    },
    {
      "cell_type": "code",
      "metadata": {
        "id": "pwasHO7wzkAE",
        "colab_type": "code",
        "colab": {}
      },
      "source": [
        "#First Convolutional layer\n",
        "classifier.add(Conv2D(filters = 56,kernel_size = (3,3), activation = 'relu', input_shape = (128,128,3)))"
      ],
      "execution_count": 0,
      "outputs": []
    },
    {
      "cell_type": "code",
      "metadata": {
        "id": "BvZYi3xqzttq",
        "colab_type": "code",
        "colab": {}
      },
      "source": [
        "classifier.add(MaxPooling2D(pool_size = (2,2)))"
      ],
      "execution_count": 0,
      "outputs": []
    },
    {
      "cell_type": "code",
      "metadata": {
        "id": "rWS-vLpYzypm",
        "colab_type": "code",
        "colab": {}
      },
      "source": [
        "#second Convolutional layer\n",
        "classifier.add(Conv2D(32,(3,3),activation = 'relu'))\n",
        "classifier.add(MaxPooling2D(pool_size = (2,2)))"
      ],
      "execution_count": 0,
      "outputs": []
    },
    {
      "cell_type": "code",
      "metadata": {
        "id": "t3vEDKzVz4gB",
        "colab_type": "code",
        "colab": {}
      },
      "source": [
        "#Flattening\n",
        "classifier.add(Flatten())"
      ],
      "execution_count": 0,
      "outputs": []
    },
    {
      "cell_type": "code",
      "metadata": {
        "id": "Nb-5qD810Aal",
        "colab_type": "code",
        "colab": {}
      },
      "source": [
        "#Hidden Layer\n",
        "classifier.add(Dense(units = 64, activation = 'relu'))\n",
        "\n",
        "#Output Layer\n",
        "classifier.add(Dense(units = 10 , activation = 'softmax'))"
      ],
      "execution_count": 0,
      "outputs": []
    },
    {
      "cell_type": "code",
      "metadata": {
        "id": "8ZbVEjJ-0FbV",
        "colab_type": "code",
        "colab": {}
      },
      "source": [
        "classifier.compile(optimizer = 'SGD', loss = 'categorical_crossentropy', metrics = ['categorical_accuracy','accuracy'])\n",
        "\n"
      ],
      "execution_count": 0,
      "outputs": []
    },
    {
      "cell_type": "code",
      "metadata": {
        "id": "G8mzhvJ-0Jdl",
        "colab_type": "code",
        "outputId": "20b4e192-f47b-4df6-b1ac-2b737dcfdfea",
        "colab": {
          "base_uri": "https://localhost:8080/",
          "height": 391
        }
      },
      "source": [
        "classifier.summary()"
      ],
      "execution_count": 28,
      "outputs": [
        {
          "output_type": "stream",
          "text": [
            "Model: \"sequential_1\"\n",
            "_________________________________________________________________\n",
            "Layer (type)                 Output Shape              Param #   \n",
            "=================================================================\n",
            "conv2d_2 (Conv2D)            (None, 126, 126, 56)      1568      \n",
            "_________________________________________________________________\n",
            "max_pooling2d_2 (MaxPooling2 (None, 63, 63, 56)        0         \n",
            "_________________________________________________________________\n",
            "conv2d_3 (Conv2D)            (None, 61, 61, 32)        16160     \n",
            "_________________________________________________________________\n",
            "max_pooling2d_3 (MaxPooling2 (None, 30, 30, 32)        0         \n",
            "_________________________________________________________________\n",
            "flatten_1 (Flatten)          (None, 28800)             0         \n",
            "_________________________________________________________________\n",
            "dense_2 (Dense)              (None, 64)                1843264   \n",
            "_________________________________________________________________\n",
            "dense_3 (Dense)              (None, 10)                650       \n",
            "=================================================================\n",
            "Total params: 1,861,642\n",
            "Trainable params: 1,861,642\n",
            "Non-trainable params: 0\n",
            "_________________________________________________________________\n"
          ],
          "name": "stdout"
        }
      ]
    },
    {
      "cell_type": "code",
      "metadata": {
        "id": "99zletfD0ULd",
        "colab_type": "code",
        "outputId": "ddb35b38-2a92-449e-a92b-ea652d960374",
        "colab": {
          "base_uri": "https://localhost:8080/",
          "height": 1000
        }
      },
      "source": [
        "classifier.fit(train_generator, epochs = 64, steps_per_epoch = 60 )"
      ],
      "execution_count": 29,
      "outputs": [
        {
          "output_type": "stream",
          "text": [
            "Epoch 1/64\n",
            "60/60 [==============================] - 52s 874ms/step - loss: 2.3027 - categorical_accuracy: 0.1052 - accuracy: 0.1052\n",
            "Epoch 2/64\n",
            "60/60 [==============================] - 52s 873ms/step - loss: 2.2941 - categorical_accuracy: 0.1224 - accuracy: 0.1224\n",
            "Epoch 3/64\n",
            "60/60 [==============================] - 52s 872ms/step - loss: 2.2831 - categorical_accuracy: 0.1349 - accuracy: 0.1349\n",
            "Epoch 4/64\n",
            "60/60 [==============================] - 52s 875ms/step - loss: 2.2535 - categorical_accuracy: 0.1604 - accuracy: 0.1604\n",
            "Epoch 5/64\n",
            "60/60 [==============================] - 52s 871ms/step - loss: 2.2103 - categorical_accuracy: 0.1859 - accuracy: 0.1859\n",
            "Epoch 6/64\n",
            "60/60 [==============================] - 52s 873ms/step - loss: 2.1573 - categorical_accuracy: 0.2143 - accuracy: 0.2143\n",
            "Epoch 7/64\n",
            "60/60 [==============================] - 53s 878ms/step - loss: 2.1089 - categorical_accuracy: 0.2344 - accuracy: 0.2344\n",
            "Epoch 8/64\n",
            "60/60 [==============================] - 53s 882ms/step - loss: 2.0679 - categorical_accuracy: 0.2565 - accuracy: 0.2565\n",
            "Epoch 9/64\n",
            "60/60 [==============================] - 53s 881ms/step - loss: 2.0567 - categorical_accuracy: 0.2500 - accuracy: 0.2500\n",
            "Epoch 10/64\n",
            "60/60 [==============================] - 53s 881ms/step - loss: 2.0121 - categorical_accuracy: 0.2703 - accuracy: 0.2703\n",
            "Epoch 11/64\n",
            "60/60 [==============================] - 53s 881ms/step - loss: 1.9936 - categorical_accuracy: 0.2781 - accuracy: 0.2781\n",
            "Epoch 12/64\n",
            "60/60 [==============================] - 53s 879ms/step - loss: 1.9760 - categorical_accuracy: 0.3000 - accuracy: 0.3000\n",
            "Epoch 13/64\n",
            "60/60 [==============================] - 53s 879ms/step - loss: 1.9505 - categorical_accuracy: 0.3000 - accuracy: 0.3000\n",
            "Epoch 14/64\n",
            "60/60 [==============================] - 53s 880ms/step - loss: 1.9178 - categorical_accuracy: 0.3342 - accuracy: 0.3342\n",
            "Epoch 15/64\n",
            "60/60 [==============================] - 53s 879ms/step - loss: 1.8784 - categorical_accuracy: 0.3318 - accuracy: 0.3318\n",
            "Epoch 16/64\n",
            "60/60 [==============================] - 53s 881ms/step - loss: 1.8672 - categorical_accuracy: 0.3326 - accuracy: 0.3326\n",
            "Epoch 17/64\n",
            "60/60 [==============================] - 53s 880ms/step - loss: 1.8487 - categorical_accuracy: 0.3332 - accuracy: 0.3332\n",
            "Epoch 18/64\n",
            "60/60 [==============================] - 53s 880ms/step - loss: 1.8590 - categorical_accuracy: 0.3385 - accuracy: 0.3385\n",
            "Epoch 19/64\n",
            "60/60 [==============================] - 53s 879ms/step - loss: 1.8227 - categorical_accuracy: 0.3469 - accuracy: 0.3469\n",
            "Epoch 20/64\n",
            "60/60 [==============================] - 53s 879ms/step - loss: 1.7939 - categorical_accuracy: 0.3615 - accuracy: 0.3615\n",
            "Epoch 21/64\n",
            "60/60 [==============================] - 52s 874ms/step - loss: 1.7758 - categorical_accuracy: 0.3801 - accuracy: 0.3801\n",
            "Epoch 22/64\n",
            "60/60 [==============================] - 52s 874ms/step - loss: 1.7945 - categorical_accuracy: 0.3573 - accuracy: 0.3573\n",
            "Epoch 23/64\n",
            "60/60 [==============================] - 52s 873ms/step - loss: 1.7635 - categorical_accuracy: 0.3807 - accuracy: 0.3807\n",
            "Epoch 24/64\n",
            "60/60 [==============================] - 52s 873ms/step - loss: 1.7247 - categorical_accuracy: 0.3790 - accuracy: 0.3790\n",
            "Epoch 25/64\n",
            "60/60 [==============================] - 52s 873ms/step - loss: 1.7269 - categorical_accuracy: 0.3948 - accuracy: 0.3948\n",
            "Epoch 26/64\n",
            "60/60 [==============================] - 57s 944ms/step - loss: 1.7138 - categorical_accuracy: 0.3849 - accuracy: 0.3849\n",
            "Epoch 27/64\n",
            "60/60 [==============================] - 52s 873ms/step - loss: 1.7095 - categorical_accuracy: 0.4089 - accuracy: 0.4089\n",
            "Epoch 28/64\n",
            "60/60 [==============================] - 52s 873ms/step - loss: 1.6926 - categorical_accuracy: 0.4167 - accuracy: 0.4167\n",
            "Epoch 29/64\n",
            "60/60 [==============================] - 52s 872ms/step - loss: 1.6722 - categorical_accuracy: 0.4078 - accuracy: 0.4078\n",
            "Epoch 30/64\n",
            "60/60 [==============================] - 52s 872ms/step - loss: 1.6652 - categorical_accuracy: 0.4057 - accuracy: 0.4057\n",
            "Epoch 31/64\n",
            "60/60 [==============================] - 53s 878ms/step - loss: 1.6257 - categorical_accuracy: 0.4448 - accuracy: 0.4448\n",
            "Epoch 32/64\n",
            "60/60 [==============================] - 52s 873ms/step - loss: 1.6791 - categorical_accuracy: 0.4082 - accuracy: 0.4082\n",
            "Epoch 33/64\n",
            "60/60 [==============================] - 53s 876ms/step - loss: 1.6372 - categorical_accuracy: 0.4203 - accuracy: 0.4203\n",
            "Epoch 34/64\n",
            "60/60 [==============================] - 52s 871ms/step - loss: 1.6424 - categorical_accuracy: 0.4271 - accuracy: 0.4271\n",
            "Epoch 35/64\n",
            "60/60 [==============================] - 52s 868ms/step - loss: 1.6238 - categorical_accuracy: 0.4177 - accuracy: 0.4177\n",
            "Epoch 36/64\n",
            "60/60 [==============================] - 52s 869ms/step - loss: 1.6163 - categorical_accuracy: 0.4234 - accuracy: 0.4234\n",
            "Epoch 37/64\n",
            "60/60 [==============================] - 58s 969ms/step - loss: 1.5944 - categorical_accuracy: 0.4380 - accuracy: 0.4380\n",
            "Epoch 38/64\n",
            "60/60 [==============================] - 52s 870ms/step - loss: 1.5867 - categorical_accuracy: 0.4448 - accuracy: 0.4448\n",
            "Epoch 39/64\n",
            "60/60 [==============================] - 52s 870ms/step - loss: 1.5763 - categorical_accuracy: 0.4505 - accuracy: 0.4505\n",
            "Epoch 40/64\n",
            "60/60 [==============================] - 52s 870ms/step - loss: 1.5766 - categorical_accuracy: 0.4619 - accuracy: 0.4619\n",
            "Epoch 41/64\n",
            "60/60 [==============================] - 52s 866ms/step - loss: 1.5828 - categorical_accuracy: 0.4307 - accuracy: 0.4307\n",
            "Epoch 42/64\n",
            "60/60 [==============================] - 52s 868ms/step - loss: 1.5677 - categorical_accuracy: 0.4464 - accuracy: 0.4464\n",
            "Epoch 43/64\n",
            "60/60 [==============================] - 52s 869ms/step - loss: 1.5574 - categorical_accuracy: 0.4645 - accuracy: 0.4645\n",
            "Epoch 44/64\n",
            "60/60 [==============================] - 52s 871ms/step - loss: 1.5223 - categorical_accuracy: 0.4651 - accuracy: 0.4651\n",
            "Epoch 45/64\n",
            "60/60 [==============================] - 52s 865ms/step - loss: 1.5472 - categorical_accuracy: 0.4619 - accuracy: 0.4619\n",
            "Epoch 46/64\n",
            "60/60 [==============================] - 52s 863ms/step - loss: 1.5269 - categorical_accuracy: 0.4698 - accuracy: 0.4698\n",
            "Epoch 47/64\n",
            "60/60 [==============================] - 52s 866ms/step - loss: 1.5147 - categorical_accuracy: 0.4760 - accuracy: 0.4760\n",
            "Epoch 48/64\n",
            "60/60 [==============================] - 52s 870ms/step - loss: 1.5077 - categorical_accuracy: 0.4536 - accuracy: 0.4536\n",
            "Epoch 49/64\n",
            "60/60 [==============================] - 52s 866ms/step - loss: 1.5093 - categorical_accuracy: 0.4635 - accuracy: 0.4635\n",
            "Epoch 50/64\n",
            "60/60 [==============================] - 52s 863ms/step - loss: 1.4907 - categorical_accuracy: 0.4708 - accuracy: 0.4708\n",
            "Epoch 51/64\n",
            "60/60 [==============================] - 53s 884ms/step - loss: 1.4939 - categorical_accuracy: 0.4797 - accuracy: 0.4797\n",
            "Epoch 52/64\n",
            "60/60 [==============================] - 52s 870ms/step - loss: 1.4716 - categorical_accuracy: 0.4875 - accuracy: 0.4875\n",
            "Epoch 53/64\n",
            "60/60 [==============================] - 52s 872ms/step - loss: 1.4549 - categorical_accuracy: 0.4995 - accuracy: 0.4995\n",
            "Epoch 54/64\n",
            "60/60 [==============================] - 53s 876ms/step - loss: 1.4735 - categorical_accuracy: 0.4901 - accuracy: 0.4901\n",
            "Epoch 55/64\n",
            "60/60 [==============================] - 53s 878ms/step - loss: 1.4444 - categorical_accuracy: 0.4932 - accuracy: 0.4932\n",
            "Epoch 56/64\n",
            "60/60 [==============================] - 52s 872ms/step - loss: 1.4697 - categorical_accuracy: 0.4870 - accuracy: 0.4870\n",
            "Epoch 57/64\n",
            "60/60 [==============================] - 53s 878ms/step - loss: 1.4633 - categorical_accuracy: 0.4807 - accuracy: 0.4807\n",
            "Epoch 58/64\n",
            "60/60 [==============================] - 53s 881ms/step - loss: 1.3757 - categorical_accuracy: 0.5120 - accuracy: 0.5120\n",
            "Epoch 59/64\n",
            "60/60 [==============================] - 53s 877ms/step - loss: 1.3861 - categorical_accuracy: 0.5188 - accuracy: 0.5188\n",
            "Epoch 60/64\n",
            "60/60 [==============================] - 53s 877ms/step - loss: 1.4203 - categorical_accuracy: 0.5063 - accuracy: 0.5063\n",
            "Epoch 61/64\n",
            "60/60 [==============================] - 52s 875ms/step - loss: 1.4310 - categorical_accuracy: 0.5047 - accuracy: 0.5047\n",
            "Epoch 62/64\n",
            "60/60 [==============================] - 52s 874ms/step - loss: 1.3812 - categorical_accuracy: 0.5172 - accuracy: 0.5172\n",
            "Epoch 63/64\n",
            "60/60 [==============================] - 52s 873ms/step - loss: 1.3811 - categorical_accuracy: 0.5172 - accuracy: 0.5172\n",
            "Epoch 64/64\n",
            "60/60 [==============================] - 52s 874ms/step - loss: 1.3573 - categorical_accuracy: 0.5234 - accuracy: 0.5234\n"
          ],
          "name": "stdout"
        },
        {
          "output_type": "execute_result",
          "data": {
            "text/plain": [
              "<tensorflow.python.keras.callbacks.History at 0x7f7de9aa6e10>"
            ]
          },
          "metadata": {
            "tags": []
          },
          "execution_count": 29
        }
      ]
    }
  ]
}