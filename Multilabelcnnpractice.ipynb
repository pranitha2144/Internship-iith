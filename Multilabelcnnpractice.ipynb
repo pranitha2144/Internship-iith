{
  "nbformat": 4,
  "nbformat_minor": 0,
  "metadata": {
    "colab": {
      "name": "Multilabelcnnpractice.ipynb",
      "provenance": [],
      "collapsed_sections": [],
      "mount_file_id": "1O7yt_QtrKcfJWX9g4KWyfr0cBP3W__P1",
      "authorship_tag": "ABX9TyP9fft88H7u/32bJmzaLF63",
      "include_colab_link": true
    },
    "kernelspec": {
      "name": "python3",
      "display_name": "Python 3"
    }
  },
  "cells": [
    {
      "cell_type": "markdown",
      "metadata": {
        "id": "view-in-github",
        "colab_type": "text"
      },
      "source": [
        "<a href=\"https://colab.research.google.com/github/pranitha2144/Internship-iith/blob/master/Multilabelcnnpractice.ipynb\" target=\"_parent\"><img src=\"https://colab.research.google.com/assets/colab-badge.svg\" alt=\"Open In Colab\"/></a>"
      ]
    },
    {
      "cell_type": "code",
      "metadata": {
        "id": "-oynNGxo81hr",
        "colab_type": "code",
        "outputId": "147674e4-9c78-40f7-b7d0-0d6cca3aa399",
        "colab": {
          "base_uri": "https://localhost:8080/",
          "height": 34
        }
      },
      "source": [
        "import tensorflow as tf\n",
        "from tensorflow.keras.models import Sequential\n",
        "from tensorflow.keras.layers import Dense, Conv2D, MaxPooling2D, Flatten\n",
        "import numpy as np\n",
        "import matplotlib.pyplot as plt\n",
        "import pandas as pd\n",
        "print(tf.__version__)"
      ],
      "execution_count": 16,
      "outputs": [
        {
          "output_type": "stream",
          "text": [
            "2.2.0\n"
          ],
          "name": "stdout"
        }
      ]
    },
    {
      "cell_type": "code",
      "metadata": {
        "id": "PHiRIxkNl1uW",
        "colab_type": "code",
        "colab": {}
      },
      "source": [
        "training_set = pd.read_csv(\"/content/drive/My Drive/catsanddogsdataset/train.csv\")\n",
        "\n",
        "training_imgs = [\"{}.jpg\".format(x) for x in list(training_set.id)]\n",
        "\n",
        "training_labels_1 = list(training_set['class_name'])\n",
        "training_labels_2 = list(training_set['breed'])\n",
        "training_set = pd.DataFrame( {'Images': training_imgs,'Animal': training_labels_1, 'Breed' : training_labels_2})\n",
        "\n",
        "#Changing the type  to str\n",
        "training_set.Animal = training_set.Animal.astype(str)\n",
        "training_set.Breed = training_set.Breed.astype(str)"
      ],
      "execution_count": 0,
      "outputs": []
    },
    {
      "cell_type": "code",
      "metadata": {
        "id": "Qif_Cp-0mtEg",
        "colab_type": "code",
        "colab": {}
      },
      "source": [
        "training_set['New_class'] = training_set['Animal'] + training_set['Breed']"
      ],
      "execution_count": 0,
      "outputs": []
    },
    {
      "cell_type": "code",
      "metadata": {
        "id": "8juchP7qpiJu",
        "colab_type": "code",
        "outputId": "29ef616c-2e13-4639-9f26-f290fd23734a",
        "colab": {
          "base_uri": "https://localhost:8080/",
          "height": 119
        }
      },
      "source": [
        "print(training_set.head())"
      ],
      "execution_count": 19,
      "outputs": [
        {
          "output_type": "stream",
          "text": [
            "         Images Animal Breed New_class\n",
            "0  img_1313.jpg      1    11       111\n",
            "1  img_0642.jpg      2    21       221\n",
            "2  img_1450.jpg      1    11       111\n",
            "3  img_2201.jpg      1    12       112\n",
            "4  img_0964.jpg      2    21       221\n"
          ],
          "name": "stdout"
        }
      ]
    },
    {
      "cell_type": "code",
      "metadata": {
        "id": "gvXj8d9lmzAj",
        "colab_type": "code",
        "outputId": "b96b835f-f2bd-476b-bbeb-1b886480807e",
        "colab": {
          "base_uri": "https://localhost:8080/",
          "height": 34
        }
      },
      "source": [
        "from tensorflow.keras.preprocessing.image import ImageDataGenerator\n",
        "\n",
        "train_dataGen = ImageDataGenerator(rescale = 1./255,\n",
        "                                  shear_range = 0.2,\n",
        "                                  zoom_range = 0.2,\n",
        "                                  horizontal_flip = True)\n",
        "\n",
        "train_generator = train_dataGen.flow_from_dataframe(\n",
        "                                        dataframe = training_set,\n",
        "                                        directory=\"/content/drive/My Drive/catsanddogsdataset/images_train\",x_col=\"Images\",\n",
        "                                        y_col=\"New_class\",\n",
        "                                        class_mode=\"categorical\",\n",
        "                                        target_size=(128,128),\n",
        "                                        batch_size=32)"
      ],
      "execution_count": 20,
      "outputs": [
        {
          "output_type": "stream",
          "text": [
            "Found 6206 validated image filenames belonging to 10 classes.\n"
          ],
          "name": "stdout"
        }
      ]
    },
    {
      "cell_type": "code",
      "metadata": {
        "id": "fAFDMqtyy66O",
        "colab_type": "code",
        "colab": {}
      },
      "source": [
        "classifier = Sequential()"
      ],
      "execution_count": 0,
      "outputs": []
    },
    {
      "cell_type": "code",
      "metadata": {
        "id": "pwasHO7wzkAE",
        "colab_type": "code",
        "colab": {}
      },
      "source": [
        "#First Convolutional layer\n",
        "classifier.add(Conv2D(filters = 56,kernel_size = (3,3), activation = 'relu', input_shape = (128,128,3)))"
      ],
      "execution_count": 0,
      "outputs": []
    },
    {
      "cell_type": "code",
      "metadata": {
        "id": "BvZYi3xqzttq",
        "colab_type": "code",
        "colab": {}
      },
      "source": [
        "classifier.add(MaxPooling2D(pool_size = (2,2)))"
      ],
      "execution_count": 0,
      "outputs": []
    },
    {
      "cell_type": "code",
      "metadata": {
        "id": "rWS-vLpYzypm",
        "colab_type": "code",
        "colab": {}
      },
      "source": [
        "#second Convolutional layer\n",
        "classifier.add(Conv2D(32,(3,3),activation = 'relu'))\n",
        "classifier.add(MaxPooling2D(pool_size = (2,2)))"
      ],
      "execution_count": 0,
      "outputs": []
    },
    {
      "cell_type": "code",
      "metadata": {
        "id": "t3vEDKzVz4gB",
        "colab_type": "code",
        "colab": {}
      },
      "source": [
        "#Flattening\n",
        "classifier.add(Flatten())"
      ],
      "execution_count": 0,
      "outputs": []
    },
    {
      "cell_type": "code",
      "metadata": {
        "id": "Nb-5qD810Aal",
        "colab_type": "code",
        "colab": {}
      },
      "source": [
        "#Hidden Layer\n",
        "classifier.add(Dense(units = 64, activation = 'relu'))\n",
        "\n",
        "#Output Layer\n",
        "classifier.add(Dense(units = 10 , activation = 'softmax'))"
      ],
      "execution_count": 0,
      "outputs": []
    },
    {
      "cell_type": "code",
      "metadata": {
        "id": "8ZbVEjJ-0FbV",
        "colab_type": "code",
        "colab": {}
      },
      "source": [
        "classifier.compile(optimizer = 'RMSprop', loss = 'categorical_crossentropy', metrics = ['categorical_accuracy','accuracy'])\n",
        "\n"
      ],
      "execution_count": 0,
      "outputs": []
    },
    {
      "cell_type": "code",
      "metadata": {
        "id": "G8mzhvJ-0Jdl",
        "colab_type": "code",
        "outputId": "b382be6f-91a6-41fc-aa41-c66c7210791f",
        "colab": {
          "base_uri": "https://localhost:8080/",
          "height": 391
        }
      },
      "source": [
        "classifier.summary()"
      ],
      "execution_count": 28,
      "outputs": [
        {
          "output_type": "stream",
          "text": [
            "Model: \"sequential_1\"\n",
            "_________________________________________________________________\n",
            "Layer (type)                 Output Shape              Param #   \n",
            "=================================================================\n",
            "conv2d_2 (Conv2D)            (None, 126, 126, 56)      1568      \n",
            "_________________________________________________________________\n",
            "max_pooling2d_2 (MaxPooling2 (None, 63, 63, 56)        0         \n",
            "_________________________________________________________________\n",
            "conv2d_3 (Conv2D)            (None, 61, 61, 32)        16160     \n",
            "_________________________________________________________________\n",
            "max_pooling2d_3 (MaxPooling2 (None, 30, 30, 32)        0         \n",
            "_________________________________________________________________\n",
            "flatten_1 (Flatten)          (None, 28800)             0         \n",
            "_________________________________________________________________\n",
            "dense_2 (Dense)              (None, 64)                1843264   \n",
            "_________________________________________________________________\n",
            "dense_3 (Dense)              (None, 10)                650       \n",
            "=================================================================\n",
            "Total params: 1,861,642\n",
            "Trainable params: 1,861,642\n",
            "Non-trainable params: 0\n",
            "_________________________________________________________________\n"
          ],
          "name": "stdout"
        }
      ]
    },
    {
      "cell_type": "code",
      "metadata": {
        "id": "99zletfD0ULd",
        "colab_type": "code",
        "outputId": "c52d2d3e-58c7-473c-d29c-d21b0454f05c",
        "colab": {
          "base_uri": "https://localhost:8080/",
          "height": 1000
        }
      },
      "source": [
        "classifier.fit(train_generator, epochs = 60, steps_per_epoch = 50 )"
      ],
      "execution_count": 29,
      "outputs": [
        {
          "output_type": "stream",
          "text": [
            "Epoch 1/60\n",
            "50/50 [==============================] - 44s 876ms/step - loss: 2.3010 - categorical_accuracy: 0.1475 - accuracy: 0.1475\n",
            "Epoch 2/60\n",
            "50/50 [==============================] - 43s 859ms/step - loss: 2.0768 - categorical_accuracy: 0.2519 - accuracy: 0.2519\n",
            "Epoch 3/60\n",
            "50/50 [==============================] - 43s 862ms/step - loss: 1.9462 - categorical_accuracy: 0.3031 - accuracy: 0.3031\n",
            "Epoch 4/60\n",
            "50/50 [==============================] - 43s 857ms/step - loss: 1.8661 - categorical_accuracy: 0.3250 - accuracy: 0.3250\n",
            "Epoch 5/60\n",
            "50/50 [==============================] - 43s 856ms/step - loss: 1.8497 - categorical_accuracy: 0.3413 - accuracy: 0.3413\n",
            "Epoch 6/60\n",
            "50/50 [==============================] - 43s 852ms/step - loss: 1.7740 - categorical_accuracy: 0.3700 - accuracy: 0.3700\n",
            "Epoch 7/60\n",
            "50/50 [==============================] - 43s 852ms/step - loss: 1.7673 - categorical_accuracy: 0.3694 - accuracy: 0.3694\n",
            "Epoch 8/60\n",
            "50/50 [==============================] - 43s 854ms/step - loss: 1.7163 - categorical_accuracy: 0.3961 - accuracy: 0.3961\n",
            "Epoch 9/60\n",
            "50/50 [==============================] - 43s 863ms/step - loss: 1.6972 - categorical_accuracy: 0.3969 - accuracy: 0.3969\n",
            "Epoch 10/60\n",
            "50/50 [==============================] - 43s 861ms/step - loss: 1.6974 - categorical_accuracy: 0.4038 - accuracy: 0.4038\n",
            "Epoch 11/60\n",
            "50/50 [==============================] - 43s 860ms/step - loss: 1.6245 - categorical_accuracy: 0.4313 - accuracy: 0.4313\n",
            "Epoch 12/60\n",
            "50/50 [==============================] - 43s 860ms/step - loss: 1.5713 - categorical_accuracy: 0.4475 - accuracy: 0.4475\n",
            "Epoch 13/60\n",
            "50/50 [==============================] - 43s 865ms/step - loss: 1.5955 - categorical_accuracy: 0.4425 - accuracy: 0.4425\n",
            "Epoch 14/60\n",
            "50/50 [==============================] - 43s 864ms/step - loss: 1.5853 - categorical_accuracy: 0.4531 - accuracy: 0.4531\n",
            "Epoch 15/60\n",
            "50/50 [==============================] - 48s 958ms/step - loss: 1.5558 - categorical_accuracy: 0.4638 - accuracy: 0.4638\n",
            "Epoch 16/60\n",
            "50/50 [==============================] - 44s 871ms/step - loss: 1.5210 - categorical_accuracy: 0.4731 - accuracy: 0.4731\n",
            "Epoch 17/60\n",
            "50/50 [==============================] - 43s 869ms/step - loss: 1.4926 - categorical_accuracy: 0.4875 - accuracy: 0.4875\n",
            "Epoch 18/60\n",
            "50/50 [==============================] - 43s 868ms/step - loss: 1.5137 - categorical_accuracy: 0.4800 - accuracy: 0.4800\n",
            "Epoch 19/60\n",
            "50/50 [==============================] - 43s 868ms/step - loss: 1.4696 - categorical_accuracy: 0.4856 - accuracy: 0.4856\n",
            "Epoch 20/60\n",
            "50/50 [==============================] - 43s 866ms/step - loss: 1.4734 - categorical_accuracy: 0.4919 - accuracy: 0.4919\n",
            "Epoch 21/60\n",
            "50/50 [==============================] - 44s 877ms/step - loss: 1.4403 - categorical_accuracy: 0.4900 - accuracy: 0.4900\n",
            "Epoch 22/60\n",
            "50/50 [==============================] - 44s 870ms/step - loss: 1.3952 - categorical_accuracy: 0.5038 - accuracy: 0.5038\n",
            "Epoch 23/60\n",
            "50/50 [==============================] - 43s 868ms/step - loss: 1.3414 - categorical_accuracy: 0.5319 - accuracy: 0.5319\n",
            "Epoch 24/60\n",
            "50/50 [==============================] - 43s 870ms/step - loss: 1.3568 - categorical_accuracy: 0.5294 - accuracy: 0.5294\n",
            "Epoch 25/60\n",
            "50/50 [==============================] - 43s 865ms/step - loss: 1.3893 - categorical_accuracy: 0.5231 - accuracy: 0.5231\n",
            "Epoch 26/60\n",
            "50/50 [==============================] - 44s 870ms/step - loss: 1.3493 - categorical_accuracy: 0.5425 - accuracy: 0.5425\n",
            "Epoch 27/60\n",
            "50/50 [==============================] - 44s 870ms/step - loss: 1.3575 - categorical_accuracy: 0.5294 - accuracy: 0.5294\n",
            "Epoch 28/60\n",
            "50/50 [==============================] - 43s 864ms/step - loss: 1.3617 - categorical_accuracy: 0.5225 - accuracy: 0.5225\n",
            "Epoch 29/60\n",
            "50/50 [==============================] - 49s 972ms/step - loss: 1.3243 - categorical_accuracy: 0.5544 - accuracy: 0.5544\n",
            "Epoch 30/60\n",
            "50/50 [==============================] - 43s 869ms/step - loss: 1.3125 - categorical_accuracy: 0.5444 - accuracy: 0.5444\n",
            "Epoch 31/60\n",
            "50/50 [==============================] - 43s 869ms/step - loss: 1.3117 - categorical_accuracy: 0.5375 - accuracy: 0.5375\n",
            "Epoch 32/60\n",
            "50/50 [==============================] - 44s 871ms/step - loss: 1.2804 - categorical_accuracy: 0.5619 - accuracy: 0.5619\n",
            "Epoch 33/60\n",
            "50/50 [==============================] - 43s 869ms/step - loss: 1.2366 - categorical_accuracy: 0.5701 - accuracy: 0.5701\n",
            "Epoch 34/60\n",
            "50/50 [==============================] - 43s 868ms/step - loss: 1.2351 - categorical_accuracy: 0.5713 - accuracy: 0.5713\n",
            "Epoch 35/60\n",
            "50/50 [==============================] - 43s 869ms/step - loss: 1.2235 - categorical_accuracy: 0.5501 - accuracy: 0.5501\n",
            "Epoch 36/60\n",
            "50/50 [==============================] - 44s 873ms/step - loss: 1.2172 - categorical_accuracy: 0.5806 - accuracy: 0.5806\n",
            "Epoch 37/60\n",
            "50/50 [==============================] - 44s 875ms/step - loss: 1.1877 - categorical_accuracy: 0.5888 - accuracy: 0.5888\n",
            "Epoch 38/60\n",
            "50/50 [==============================] - 44s 875ms/step - loss: 1.1735 - categorical_accuracy: 0.6006 - accuracy: 0.6006\n",
            "Epoch 39/60\n",
            "50/50 [==============================] - 44s 872ms/step - loss: 1.1633 - categorical_accuracy: 0.5900 - accuracy: 0.5900\n",
            "Epoch 40/60\n",
            "50/50 [==============================] - 44s 873ms/step - loss: 1.2101 - categorical_accuracy: 0.5888 - accuracy: 0.5888\n",
            "Epoch 41/60\n",
            "50/50 [==============================] - 44s 873ms/step - loss: 1.1648 - categorical_accuracy: 0.5975 - accuracy: 0.5975\n",
            "Epoch 42/60\n",
            "50/50 [==============================] - 49s 973ms/step - loss: 1.1040 - categorical_accuracy: 0.6263 - accuracy: 0.6263\n",
            "Epoch 43/60\n",
            "50/50 [==============================] - 44s 873ms/step - loss: 1.1185 - categorical_accuracy: 0.6100 - accuracy: 0.6100\n",
            "Epoch 44/60\n",
            "50/50 [==============================] - 44s 875ms/step - loss: 1.1430 - categorical_accuracy: 0.6164 - accuracy: 0.6164\n",
            "Epoch 45/60\n",
            "50/50 [==============================] - 43s 868ms/step - loss: 1.1141 - categorical_accuracy: 0.6087 - accuracy: 0.6087\n",
            "Epoch 46/60\n",
            "50/50 [==============================] - 44s 873ms/step - loss: 1.0744 - categorical_accuracy: 0.6363 - accuracy: 0.6363\n",
            "Epoch 47/60\n",
            "50/50 [==============================] - 43s 866ms/step - loss: 1.0927 - categorical_accuracy: 0.6252 - accuracy: 0.6252\n",
            "Epoch 48/60\n",
            "50/50 [==============================] - 44s 872ms/step - loss: 1.0180 - categorical_accuracy: 0.6408 - accuracy: 0.6408\n",
            "Epoch 49/60\n",
            "50/50 [==============================] - 43s 868ms/step - loss: 1.0664 - categorical_accuracy: 0.6439 - accuracy: 0.6439\n",
            "Epoch 50/60\n",
            "50/50 [==============================] - 44s 870ms/step - loss: 1.0788 - categorical_accuracy: 0.6369 - accuracy: 0.6369\n",
            "Epoch 51/60\n",
            "50/50 [==============================] - 44s 873ms/step - loss: 1.0395 - categorical_accuracy: 0.6519 - accuracy: 0.6519\n",
            "Epoch 52/60\n",
            "50/50 [==============================] - 44s 874ms/step - loss: 1.0462 - categorical_accuracy: 0.6400 - accuracy: 0.6400\n",
            "Epoch 53/60\n",
            "50/50 [==============================] - 44s 876ms/step - loss: 1.0514 - categorical_accuracy: 0.6344 - accuracy: 0.6344\n",
            "Epoch 54/60\n",
            "50/50 [==============================] - 44s 881ms/step - loss: 1.0091 - categorical_accuracy: 0.6677 - accuracy: 0.6677\n",
            "Epoch 55/60\n",
            "50/50 [==============================] - 44s 880ms/step - loss: 0.9867 - categorical_accuracy: 0.6527 - accuracy: 0.6527\n",
            "Epoch 56/60\n",
            "50/50 [==============================] - 49s 979ms/step - loss: 1.0175 - categorical_accuracy: 0.6519 - accuracy: 0.6519\n",
            "Epoch 57/60\n",
            "50/50 [==============================] - 44s 871ms/step - loss: 0.9897 - categorical_accuracy: 0.6596 - accuracy: 0.6596\n",
            "Epoch 58/60\n",
            "50/50 [==============================] - 44s 877ms/step - loss: 0.9376 - categorical_accuracy: 0.6719 - accuracy: 0.6719\n",
            "Epoch 59/60\n",
            "50/50 [==============================] - 44s 876ms/step - loss: 0.9583 - categorical_accuracy: 0.6594 - accuracy: 0.6594\n",
            "Epoch 60/60\n",
            "50/50 [==============================] - 44s 876ms/step - loss: 0.9685 - categorical_accuracy: 0.6575 - accuracy: 0.6575\n"
          ],
          "name": "stdout"
        },
        {
          "output_type": "execute_result",
          "data": {
            "text/plain": [
              "<tensorflow.python.keras.callbacks.History at 0x7f521ca49588>"
            ]
          },
          "metadata": {
            "tags": []
          },
          "execution_count": 29
        }
      ]
    }
  ]
}