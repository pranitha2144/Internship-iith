{
  "nbformat": 4,
  "nbformat_minor": 0,
  "metadata": {
    "colab": {
      "name": "vgg16fromscratch.ipynb",
      "provenance": [],
      "mount_file_id": "1IhyoGy7EHEgj120Y7aEt15WFbYJP6aXH",
      "authorship_tag": "ABX9TyPJ7I5Ovor/Gw4VmyG2/nlZ",
      "include_colab_link": true
    },
    "kernelspec": {
      "name": "python3",
      "display_name": "Python 3"
    }
  },
  "cells": [
    {
      "cell_type": "markdown",
      "metadata": {
        "id": "view-in-github",
        "colab_type": "text"
      },
      "source": [
        "<a href=\"https://colab.research.google.com/github/pranitha2144/Internship-iith/blob/Resnet/vgg16fromscratch.ipynb\" target=\"_parent\"><img src=\"https://colab.research.google.com/assets/colab-badge.svg\" alt=\"Open In Colab\"/></a>"
      ]
    },
    {
      "cell_type": "code",
      "metadata": {
        "id": "3i-5qcxM7pSC",
        "colab_type": "code",
        "colab": {
          "base_uri": "https://localhost:8080/",
          "height": 34
        },
        "outputId": "c73d7037-bfca-4997-f605-32118ed9f370"
      },
      "source": [
        "import keras\n",
        "from keras.models import Model\n",
        "from keras.layers import Dense\n",
        "from keras import optimizers\n",
        "from keras.preprocessing.image import ImageDataGenerator\n",
        "from keras.preprocessing import image"
      ],
      "execution_count": 2,
      "outputs": [
        {
          "output_type": "stream",
          "text": [
            "Using TensorFlow backend.\n"
          ],
          "name": "stderr"
        }
      ]
    },
    {
      "cell_type": "code",
      "metadata": {
        "id": "P_NCAugx70fs",
        "colab_type": "code",
        "colab": {
          "base_uri": "https://localhost:8080/",
          "height": 51
        },
        "outputId": "5977e2f6-a271-45c3-8bc5-244c4737c3ea"
      },
      "source": [
        "trdata = ImageDataGenerator()\n",
        "traindata = trdata.flow_from_directory(directory=\"/content/drive/My Drive/data_ouput/train\",target_size=(224,224))\n",
        "tsdata = ImageDataGenerator()\n",
        "testdata = tsdata.flow_from_directory(directory=\"/content/drive/My Drive/data_ouput/val\", target_size=(224,224))"
      ],
      "execution_count": 3,
      "outputs": [
        {
          "output_type": "stream",
          "text": [
            "Found 800 images belonging to 4 classes.\n",
            "Found 100 images belonging to 4 classes.\n"
          ],
          "name": "stdout"
        }
      ]
    },
    {
      "cell_type": "code",
      "metadata": {
        "id": "rg_JdtWb8O00",
        "colab_type": "code",
        "colab": {
          "base_uri": "https://localhost:8080/",
          "height": 71
        },
        "outputId": "a3de0d45-875c-4087-9086-8384b456cb3a"
      },
      "source": [
        "from keras.applications.vgg16 import VGG16\n",
        "vggmodel = VGG16(weights='imagenet', include_top=True)"
      ],
      "execution_count": 4,
      "outputs": [
        {
          "output_type": "stream",
          "text": [
            "Downloading data from https://github.com/fchollet/deep-learning-models/releases/download/v0.1/vgg16_weights_tf_dim_ordering_tf_kernels.h5\n",
            "553467904/553467096 [==============================] - 6s 0us/step\n"
          ],
          "name": "stdout"
        }
      ]
    },
    {
      "cell_type": "code",
      "metadata": {
        "id": "PKuEFjHt8TfJ",
        "colab_type": "code",
        "colab": {
          "base_uri": "https://localhost:8080/",
          "height": 935
        },
        "outputId": "042eaeaa-d771-452e-9271-5f21bf6a46bc"
      },
      "source": [
        "vggmodel.summary()"
      ],
      "execution_count": 5,
      "outputs": [
        {
          "output_type": "stream",
          "text": [
            "Model: \"vgg16\"\n",
            "_________________________________________________________________\n",
            "Layer (type)                 Output Shape              Param #   \n",
            "=================================================================\n",
            "input_1 (InputLayer)         (None, 224, 224, 3)       0         \n",
            "_________________________________________________________________\n",
            "block1_conv1 (Conv2D)        (None, 224, 224, 64)      1792      \n",
            "_________________________________________________________________\n",
            "block1_conv2 (Conv2D)        (None, 224, 224, 64)      36928     \n",
            "_________________________________________________________________\n",
            "block1_pool (MaxPooling2D)   (None, 112, 112, 64)      0         \n",
            "_________________________________________________________________\n",
            "block2_conv1 (Conv2D)        (None, 112, 112, 128)     73856     \n",
            "_________________________________________________________________\n",
            "block2_conv2 (Conv2D)        (None, 112, 112, 128)     147584    \n",
            "_________________________________________________________________\n",
            "block2_pool (MaxPooling2D)   (None, 56, 56, 128)       0         \n",
            "_________________________________________________________________\n",
            "block3_conv1 (Conv2D)        (None, 56, 56, 256)       295168    \n",
            "_________________________________________________________________\n",
            "block3_conv2 (Conv2D)        (None, 56, 56, 256)       590080    \n",
            "_________________________________________________________________\n",
            "block3_conv3 (Conv2D)        (None, 56, 56, 256)       590080    \n",
            "_________________________________________________________________\n",
            "block3_pool (MaxPooling2D)   (None, 28, 28, 256)       0         \n",
            "_________________________________________________________________\n",
            "block4_conv1 (Conv2D)        (None, 28, 28, 512)       1180160   \n",
            "_________________________________________________________________\n",
            "block4_conv2 (Conv2D)        (None, 28, 28, 512)       2359808   \n",
            "_________________________________________________________________\n",
            "block4_conv3 (Conv2D)        (None, 28, 28, 512)       2359808   \n",
            "_________________________________________________________________\n",
            "block4_pool (MaxPooling2D)   (None, 14, 14, 512)       0         \n",
            "_________________________________________________________________\n",
            "block5_conv1 (Conv2D)        (None, 14, 14, 512)       2359808   \n",
            "_________________________________________________________________\n",
            "block5_conv2 (Conv2D)        (None, 14, 14, 512)       2359808   \n",
            "_________________________________________________________________\n",
            "block5_conv3 (Conv2D)        (None, 14, 14, 512)       2359808   \n",
            "_________________________________________________________________\n",
            "block5_pool (MaxPooling2D)   (None, 7, 7, 512)         0         \n",
            "_________________________________________________________________\n",
            "flatten (Flatten)            (None, 25088)             0         \n",
            "_________________________________________________________________\n",
            "fc1 (Dense)                  (None, 4096)              102764544 \n",
            "_________________________________________________________________\n",
            "fc2 (Dense)                  (None, 4096)              16781312  \n",
            "_________________________________________________________________\n",
            "predictions (Dense)          (None, 1000)              4097000   \n",
            "=================================================================\n",
            "Total params: 138,357,544\n",
            "Trainable params: 138,357,544\n",
            "Non-trainable params: 0\n",
            "_________________________________________________________________\n"
          ],
          "name": "stdout"
        }
      ]
    },
    {
      "cell_type": "code",
      "metadata": {
        "id": "GG60hKI68aWo",
        "colab_type": "code",
        "colab": {
          "base_uri": "https://localhost:8080/",
          "height": 340
        },
        "outputId": "1b52a331-7763-47c4-92d5-43b80d55827e"
      },
      "source": [
        "for layers in (vggmodel.layers)[:19]:\n",
        "    print(layers)\n",
        "    layers.trainable = False"
      ],
      "execution_count": 6,
      "outputs": [
        {
          "output_type": "stream",
          "text": [
            "<keras.engine.input_layer.InputLayer object at 0x7fd3dabd2710>\n",
            "<keras.layers.convolutional.Conv2D object at 0x7fd3dabd2b38>\n",
            "<keras.layers.convolutional.Conv2D object at 0x7fd3dabd28d0>\n",
            "<keras.layers.pooling.MaxPooling2D object at 0x7fd41c672898>\n",
            "<keras.layers.convolutional.Conv2D object at 0x7fd41c6727b8>\n",
            "<keras.layers.convolutional.Conv2D object at 0x7fd3d92d7630>\n",
            "<keras.layers.pooling.MaxPooling2D object at 0x7fd3d92e0470>\n",
            "<keras.layers.convolutional.Conv2D object at 0x7fd3d92e02b0>\n",
            "<keras.layers.convolutional.Conv2D object at 0x7fd3d92e0f98>\n",
            "<keras.layers.convolutional.Conv2D object at 0x7fd3d92e5b38>\n",
            "<keras.layers.pooling.MaxPooling2D object at 0x7fd3d92ee5f8>\n",
            "<keras.layers.convolutional.Conv2D object at 0x7fd3d92ee400>\n",
            "<keras.layers.convolutional.Conv2D object at 0x7fd3d92eef28>\n",
            "<keras.layers.convolutional.Conv2D object at 0x7fd3d92f5d30>\n",
            "<keras.layers.pooling.MaxPooling2D object at 0x7fd3d92fb7f0>\n",
            "<keras.layers.convolutional.Conv2D object at 0x7fd3d92fb5f8>\n",
            "<keras.layers.convolutional.Conv2D object at 0x7fd3d9301358>\n",
            "<keras.layers.convolutional.Conv2D object at 0x7fd3d9301ef0>\n",
            "<keras.layers.pooling.MaxPooling2D object at 0x7fd3d93099e8>\n"
          ],
          "name": "stdout"
        }
      ]
    },
    {
      "cell_type": "code",
      "metadata": {
        "id": "59taDHdJ8ikh",
        "colab_type": "code",
        "colab": {
          "base_uri": "https://localhost:8080/",
          "height": 71
        },
        "outputId": "472bf0f2-742f-448e-8a85-ee1d9d233312"
      },
      "source": [
        "X= vggmodel.layers[-2].output\n",
        "predictions = Dense(4, activation=\"softmax\")(X)\n",
        "model_final = Model(input = vggmodel.input, output = predictions)\n"
      ],
      "execution_count": 8,
      "outputs": [
        {
          "output_type": "stream",
          "text": [
            "/usr/local/lib/python3.6/dist-packages/ipykernel_launcher.py:3: UserWarning: Update your `Model` call to the Keras 2 API: `Model(inputs=Tensor(\"in..., outputs=Tensor(\"de...)`\n",
            "  This is separate from the ipykernel package so we can avoid doing imports until\n"
          ],
          "name": "stderr"
        }
      ]
    },
    {
      "cell_type": "code",
      "metadata": {
        "id": "vFYbGbdq8vg8",
        "colab_type": "code",
        "colab": {}
      },
      "source": [
        "model_final.compile(loss = \"categorical_crossentropy\", optimizer = optimizers.SGD(lr=0.0001, momentum=0.9), metrics=[\"accuracy\"])"
      ],
      "execution_count": 9,
      "outputs": []
    },
    {
      "cell_type": "code",
      "metadata": {
        "id": "i6yUCcd08xum",
        "colab_type": "code",
        "colab": {
          "base_uri": "https://localhost:8080/",
          "height": 935
        },
        "outputId": "2d05b711-32f9-4750-f1cc-511da5920bca"
      },
      "source": [
        "model_final.summary()"
      ],
      "execution_count": 10,
      "outputs": [
        {
          "output_type": "stream",
          "text": [
            "Model: \"model_2\"\n",
            "_________________________________________________________________\n",
            "Layer (type)                 Output Shape              Param #   \n",
            "=================================================================\n",
            "input_1 (InputLayer)         (None, 224, 224, 3)       0         \n",
            "_________________________________________________________________\n",
            "block1_conv1 (Conv2D)        (None, 224, 224, 64)      1792      \n",
            "_________________________________________________________________\n",
            "block1_conv2 (Conv2D)        (None, 224, 224, 64)      36928     \n",
            "_________________________________________________________________\n",
            "block1_pool (MaxPooling2D)   (None, 112, 112, 64)      0         \n",
            "_________________________________________________________________\n",
            "block2_conv1 (Conv2D)        (None, 112, 112, 128)     73856     \n",
            "_________________________________________________________________\n",
            "block2_conv2 (Conv2D)        (None, 112, 112, 128)     147584    \n",
            "_________________________________________________________________\n",
            "block2_pool (MaxPooling2D)   (None, 56, 56, 128)       0         \n",
            "_________________________________________________________________\n",
            "block3_conv1 (Conv2D)        (None, 56, 56, 256)       295168    \n",
            "_________________________________________________________________\n",
            "block3_conv2 (Conv2D)        (None, 56, 56, 256)       590080    \n",
            "_________________________________________________________________\n",
            "block3_conv3 (Conv2D)        (None, 56, 56, 256)       590080    \n",
            "_________________________________________________________________\n",
            "block3_pool (MaxPooling2D)   (None, 28, 28, 256)       0         \n",
            "_________________________________________________________________\n",
            "block4_conv1 (Conv2D)        (None, 28, 28, 512)       1180160   \n",
            "_________________________________________________________________\n",
            "block4_conv2 (Conv2D)        (None, 28, 28, 512)       2359808   \n",
            "_________________________________________________________________\n",
            "block4_conv3 (Conv2D)        (None, 28, 28, 512)       2359808   \n",
            "_________________________________________________________________\n",
            "block4_pool (MaxPooling2D)   (None, 14, 14, 512)       0         \n",
            "_________________________________________________________________\n",
            "block5_conv1 (Conv2D)        (None, 14, 14, 512)       2359808   \n",
            "_________________________________________________________________\n",
            "block5_conv2 (Conv2D)        (None, 14, 14, 512)       2359808   \n",
            "_________________________________________________________________\n",
            "block5_conv3 (Conv2D)        (None, 14, 14, 512)       2359808   \n",
            "_________________________________________________________________\n",
            "block5_pool (MaxPooling2D)   (None, 7, 7, 512)         0         \n",
            "_________________________________________________________________\n",
            "flatten (Flatten)            (None, 25088)             0         \n",
            "_________________________________________________________________\n",
            "fc1 (Dense)                  (None, 4096)              102764544 \n",
            "_________________________________________________________________\n",
            "fc2 (Dense)                  (None, 4096)              16781312  \n",
            "_________________________________________________________________\n",
            "dense_2 (Dense)              (None, 4)                 16388     \n",
            "=================================================================\n",
            "Total params: 134,276,932\n",
            "Trainable params: 119,562,244\n",
            "Non-trainable params: 14,714,688\n",
            "_________________________________________________________________\n"
          ],
          "name": "stdout"
        }
      ]
    },
    {
      "cell_type": "code",
      "metadata": {
        "id": "UIV1Rie889QA",
        "colab_type": "code",
        "colab": {
          "base_uri": "https://localhost:8080/",
          "height": 1000
        },
        "outputId": "4121e38a-885f-455d-ee49-afdee1fa7264"
      },
      "source": [
        "from keras.callbacks import ModelCheckpoint, EarlyStopping\n",
        "checkpoint = ModelCheckpoint(\"vgg16_1.h5\", monitor='val_acc', verbose=1, save_best_only=True, save_weights_only=False, mode='auto', period=1)\n",
        "early = EarlyStopping(monitor='val_acc', min_delta=0, patience=40, verbose=1, mode='auto')\n",
        "model_final.fit_generator(generator= traindata, steps_per_epoch= 2, epochs= 100, validation_data= testdata, validation_steps=1, callbacks=[checkpoint,early])\n",
        "model_final.save_weights(\"vgg16_1.h5\")"
      ],
      "execution_count": 11,
      "outputs": [
        {
          "output_type": "stream",
          "text": [
            "Epoch 1/100\n",
            "2/2 [==============================] - 60s 30s/step - loss: 1.7550 - accuracy: 0.2656 - val_loss: 1.4530 - val_accuracy: 0.3125\n",
            "Epoch 2/100\n"
          ],
          "name": "stdout"
        },
        {
          "output_type": "stream",
          "text": [
            "/usr/local/lib/python3.6/dist-packages/keras/callbacks/callbacks.py:707: RuntimeWarning: Can save best model only with val_acc available, skipping.\n",
            "  'skipping.' % (self.monitor), RuntimeWarning)\n",
            "/usr/local/lib/python3.6/dist-packages/keras/callbacks/callbacks.py:846: RuntimeWarning: Early stopping conditioned on metric `val_acc` which is not available. Available metrics are: val_loss,val_accuracy,loss,accuracy\n",
            "  (self.monitor, ','.join(list(logs.keys()))), RuntimeWarning\n"
          ],
          "name": "stderr"
        },
        {
          "output_type": "stream",
          "text": [
            "2/2 [==============================] - 49s 25s/step - loss: 1.4109 - accuracy: 0.3281 - val_loss: 1.3198 - val_accuracy: 0.4062\n",
            "Epoch 3/100\n",
            "2/2 [==============================] - 49s 25s/step - loss: 1.0778 - accuracy: 0.5938 - val_loss: 1.3967 - val_accuracy: 0.4688\n",
            "Epoch 4/100\n",
            "2/2 [==============================] - 38s 19s/step - loss: 1.2669 - accuracy: 0.4375 - val_loss: 0.5711 - val_accuracy: 0.7500\n",
            "Epoch 5/100\n",
            "2/2 [==============================] - 49s 25s/step - loss: 0.9076 - accuracy: 0.6094 - val_loss: 0.6159 - val_accuracy: 0.7500\n",
            "Epoch 6/100\n",
            "2/2 [==============================] - 49s 24s/step - loss: 0.5841 - accuracy: 0.7812 - val_loss: 0.5961 - val_accuracy: 0.8125\n",
            "Epoch 7/100\n",
            "2/2 [==============================] - 49s 24s/step - loss: 0.4945 - accuracy: 0.8594 - val_loss: 0.6471 - val_accuracy: 0.7812\n",
            "Epoch 8/100\n",
            "2/2 [==============================] - 35s 17s/step - loss: 0.6860 - accuracy: 0.7500 - val_loss: 0.7547 - val_accuracy: 0.5000\n",
            "Epoch 9/100\n",
            "2/2 [==============================] - 49s 24s/step - loss: 0.5279 - accuracy: 0.7656 - val_loss: 0.5646 - val_accuracy: 0.7812\n",
            "Epoch 10/100\n",
            "2/2 [==============================] - 49s 24s/step - loss: 0.6773 - accuracy: 0.7031 - val_loss: 0.6248 - val_accuracy: 0.7500\n",
            "Epoch 11/100\n",
            "2/2 [==============================] - 49s 24s/step - loss: 0.5780 - accuracy: 0.8438 - val_loss: 0.6658 - val_accuracy: 0.7188\n",
            "Epoch 12/100\n",
            "2/2 [==============================] - 35s 18s/step - loss: 0.6641 - accuracy: 0.7188 - val_loss: 0.7145 - val_accuracy: 0.7500\n",
            "Epoch 13/100\n",
            "2/2 [==============================] - 49s 25s/step - loss: 0.5194 - accuracy: 0.7188 - val_loss: 0.6862 - val_accuracy: 0.6562\n",
            "Epoch 14/100\n",
            "2/2 [==============================] - 49s 24s/step - loss: 0.3744 - accuracy: 0.8438 - val_loss: 0.4295 - val_accuracy: 0.8750\n",
            "Epoch 15/100\n",
            "2/2 [==============================] - 49s 24s/step - loss: 0.5210 - accuracy: 0.7656 - val_loss: 0.3946 - val_accuracy: 0.8438\n",
            "Epoch 16/100\n",
            "2/2 [==============================] - 35s 18s/step - loss: 0.7298 - accuracy: 0.6406 - val_loss: 0.8003 - val_accuracy: 0.5000\n",
            "Epoch 17/100\n",
            "2/2 [==============================] - 49s 24s/step - loss: 0.3341 - accuracy: 0.8750 - val_loss: 0.7552 - val_accuracy: 0.6250\n",
            "Epoch 18/100\n",
            "2/2 [==============================] - 51s 26s/step - loss: 0.3862 - accuracy: 0.8750 - val_loss: 0.3051 - val_accuracy: 0.8438\n",
            "Epoch 19/100\n",
            "2/2 [==============================] - 49s 24s/step - loss: 0.4884 - accuracy: 0.8125 - val_loss: 0.5387 - val_accuracy: 0.8125\n",
            "Epoch 20/100\n",
            "2/2 [==============================] - 35s 18s/step - loss: 0.4622 - accuracy: 0.8438 - val_loss: 0.0996 - val_accuracy: 1.0000\n",
            "Epoch 21/100\n",
            "2/2 [==============================] - 49s 24s/step - loss: 0.4091 - accuracy: 0.7969 - val_loss: 0.4541 - val_accuracy: 0.8438\n",
            "Epoch 22/100\n",
            "2/2 [==============================] - 49s 24s/step - loss: 0.4721 - accuracy: 0.8906 - val_loss: 0.4746 - val_accuracy: 0.8125\n",
            "Epoch 23/100\n",
            "2/2 [==============================] - 49s 25s/step - loss: 0.3900 - accuracy: 0.8281 - val_loss: 0.4860 - val_accuracy: 0.8125\n",
            "Epoch 24/100\n",
            "2/2 [==============================] - 35s 18s/step - loss: 0.3974 - accuracy: 0.8594 - val_loss: 0.5372 - val_accuracy: 0.7500\n",
            "Epoch 25/100\n",
            "2/2 [==============================] - 49s 25s/step - loss: 0.3760 - accuracy: 0.9219 - val_loss: 0.5255 - val_accuracy: 0.7500\n",
            "Epoch 26/100\n",
            "2/2 [==============================] - 48s 24s/step - loss: 0.3074 - accuracy: 0.8438 - val_loss: 0.2853 - val_accuracy: 0.9062\n",
            "Epoch 27/100\n",
            "2/2 [==============================] - 49s 24s/step - loss: 0.4645 - accuracy: 0.8125 - val_loss: 0.3813 - val_accuracy: 0.8438\n",
            "Epoch 28/100\n",
            "2/2 [==============================] - 35s 17s/step - loss: 0.3617 - accuracy: 0.8594 - val_loss: 1.1100 - val_accuracy: 0.7500\n",
            "Epoch 29/100\n",
            "2/2 [==============================] - 49s 24s/step - loss: 0.3379 - accuracy: 0.8750 - val_loss: 0.4635 - val_accuracy: 0.7500\n",
            "Epoch 30/100\n",
            "2/2 [==============================] - 49s 24s/step - loss: 0.2864 - accuracy: 0.9062 - val_loss: 0.3631 - val_accuracy: 0.9062\n",
            "Epoch 31/100\n",
            "2/2 [==============================] - 51s 26s/step - loss: 0.4130 - accuracy: 0.8906 - val_loss: 0.5029 - val_accuracy: 0.8125\n",
            "Epoch 32/100\n",
            "2/2 [==============================] - 35s 17s/step - loss: 0.3071 - accuracy: 0.8906 - val_loss: 0.1066 - val_accuracy: 1.0000\n",
            "Epoch 33/100\n",
            "2/2 [==============================] - 49s 24s/step - loss: 0.4770 - accuracy: 0.8281 - val_loss: 0.4949 - val_accuracy: 0.7812\n",
            "Epoch 34/100\n",
            "2/2 [==============================] - 49s 24s/step - loss: 0.2046 - accuracy: 0.9375 - val_loss: 0.3436 - val_accuracy: 0.9062\n",
            "Epoch 35/100\n",
            "2/2 [==============================] - 48s 24s/step - loss: 0.3031 - accuracy: 0.8750 - val_loss: 0.4905 - val_accuracy: 0.8125\n",
            "Epoch 36/100\n",
            "2/2 [==============================] - 35s 17s/step - loss: 0.4278 - accuracy: 0.7812 - val_loss: 0.4285 - val_accuracy: 1.0000\n",
            "Epoch 37/100\n",
            "2/2 [==============================] - 48s 24s/step - loss: 0.3492 - accuracy: 0.9062 - val_loss: 0.4191 - val_accuracy: 0.7188\n",
            "Epoch 38/100\n",
            "2/2 [==============================] - 49s 24s/step - loss: 0.3900 - accuracy: 0.8594 - val_loss: 0.2990 - val_accuracy: 0.8438\n",
            "Epoch 39/100\n",
            "2/2 [==============================] - 49s 24s/step - loss: 0.2833 - accuracy: 0.9219 - val_loss: 0.5664 - val_accuracy: 0.7500\n",
            "Epoch 40/100\n",
            "2/2 [==============================] - 35s 17s/step - loss: 0.3783 - accuracy: 0.7969 - val_loss: 0.3710 - val_accuracy: 0.7500\n",
            "Epoch 41/100\n",
            "2/2 [==============================] - 49s 24s/step - loss: 0.2443 - accuracy: 0.9062 - val_loss: 0.5539 - val_accuracy: 0.7812\n",
            "Epoch 42/100\n",
            "2/2 [==============================] - 49s 24s/step - loss: 0.3144 - accuracy: 0.8750 - val_loss: 0.4949 - val_accuracy: 0.7812\n",
            "Epoch 43/100\n",
            "2/2 [==============================] - 49s 24s/step - loss: 0.3765 - accuracy: 0.8281 - val_loss: 0.2953 - val_accuracy: 0.9062\n",
            "Epoch 44/100\n",
            "2/2 [==============================] - 35s 17s/step - loss: 0.4306 - accuracy: 0.8125 - val_loss: 0.8810 - val_accuracy: 0.5000\n",
            "Epoch 45/100\n",
            "2/2 [==============================] - 51s 26s/step - loss: 0.4891 - accuracy: 0.7969 - val_loss: 0.4190 - val_accuracy: 0.7500\n",
            "Epoch 46/100\n",
            "2/2 [==============================] - 48s 24s/step - loss: 0.2860 - accuracy: 0.9375 - val_loss: 0.1605 - val_accuracy: 0.9375\n",
            "Epoch 47/100\n",
            "2/2 [==============================] - 49s 24s/step - loss: 0.3393 - accuracy: 0.8906 - val_loss: 0.5925 - val_accuracy: 0.6875\n",
            "Epoch 48/100\n",
            "2/2 [==============================] - 35s 18s/step - loss: 0.2402 - accuracy: 0.9219 - val_loss: 1.6313 - val_accuracy: 0.5000\n",
            "Epoch 49/100\n",
            "2/2 [==============================] - 49s 24s/step - loss: 0.3247 - accuracy: 0.8906 - val_loss: 0.4957 - val_accuracy: 0.8438\n",
            "Epoch 50/100\n",
            "2/2 [==============================] - 49s 25s/step - loss: 0.3526 - accuracy: 0.8750 - val_loss: 0.5664 - val_accuracy: 0.6875\n",
            "Epoch 51/100\n",
            "2/2 [==============================] - 49s 24s/step - loss: 0.4625 - accuracy: 0.7969 - val_loss: 0.3704 - val_accuracy: 0.7812\n",
            "Epoch 52/100\n",
            "2/2 [==============================] - 35s 18s/step - loss: 0.3674 - accuracy: 0.8750 - val_loss: 1.1998 - val_accuracy: 0.5000\n",
            "Epoch 53/100\n",
            "2/2 [==============================] - 49s 24s/step - loss: 0.2550 - accuracy: 0.8906 - val_loss: 0.2751 - val_accuracy: 0.9375\n",
            "Epoch 54/100\n",
            "2/2 [==============================] - 49s 24s/step - loss: 0.4281 - accuracy: 0.8438 - val_loss: 0.4220 - val_accuracy: 0.7188\n",
            "Epoch 55/100\n",
            "2/2 [==============================] - 49s 24s/step - loss: 0.3237 - accuracy: 0.8906 - val_loss: 0.6541 - val_accuracy: 0.6875\n",
            "Epoch 56/100\n",
            "2/2 [==============================] - 35s 17s/step - loss: 0.3871 - accuracy: 0.8750 - val_loss: 0.6485 - val_accuracy: 0.5000\n",
            "Epoch 57/100\n",
            "2/2 [==============================] - 49s 24s/step - loss: 0.2794 - accuracy: 0.9062 - val_loss: 0.3464 - val_accuracy: 0.9062\n",
            "Epoch 58/100\n",
            "2/2 [==============================] - 51s 26s/step - loss: 0.2906 - accuracy: 0.9219 - val_loss: 0.5849 - val_accuracy: 0.7500\n",
            "Epoch 59/100\n",
            "2/2 [==============================] - 49s 24s/step - loss: 0.2642 - accuracy: 0.9062 - val_loss: 0.3716 - val_accuracy: 0.9062\n",
            "Epoch 60/100\n",
            "2/2 [==============================] - 35s 17s/step - loss: 0.2847 - accuracy: 0.8750 - val_loss: 0.1793 - val_accuracy: 1.0000\n",
            "Epoch 61/100\n",
            "2/2 [==============================] - 49s 24s/step - loss: 0.2776 - accuracy: 0.8906 - val_loss: 0.2891 - val_accuracy: 0.9375\n",
            "Epoch 62/100\n",
            "2/2 [==============================] - 49s 24s/step - loss: 0.2469 - accuracy: 0.9062 - val_loss: 0.3436 - val_accuracy: 0.8438\n",
            "Epoch 63/100\n",
            "2/2 [==============================] - 49s 25s/step - loss: 0.3589 - accuracy: 0.8906 - val_loss: 0.5474 - val_accuracy: 0.6875\n",
            "Epoch 64/100\n",
            "2/2 [==============================] - 35s 18s/step - loss: 0.2559 - accuracy: 0.9219 - val_loss: 0.3514 - val_accuracy: 0.7500\n",
            "Epoch 65/100\n",
            "2/2 [==============================] - 49s 24s/step - loss: 0.2432 - accuracy: 0.9219 - val_loss: 0.3649 - val_accuracy: 0.8125\n",
            "Epoch 66/100\n",
            "2/2 [==============================] - 49s 24s/step - loss: 0.2298 - accuracy: 0.9219 - val_loss: 0.4550 - val_accuracy: 0.8125\n",
            "Epoch 67/100\n",
            "2/2 [==============================] - 49s 24s/step - loss: 0.3194 - accuracy: 0.8906 - val_loss: 0.4027 - val_accuracy: 0.8438\n",
            "Epoch 68/100\n",
            "2/2 [==============================] - 35s 18s/step - loss: 0.2852 - accuracy: 0.9062 - val_loss: 0.2802 - val_accuracy: 1.0000\n",
            "Epoch 69/100\n",
            "2/2 [==============================] - 49s 24s/step - loss: 0.3646 - accuracy: 0.8906 - val_loss: 0.4342 - val_accuracy: 0.8125\n",
            "Epoch 70/100\n",
            "2/2 [==============================] - 49s 24s/step - loss: 0.2332 - accuracy: 0.8750 - val_loss: 0.4548 - val_accuracy: 0.7812\n",
            "Epoch 71/100\n",
            "2/2 [==============================] - 51s 26s/step - loss: 0.2440 - accuracy: 0.9219 - val_loss: 0.3212 - val_accuracy: 0.8750\n",
            "Epoch 72/100\n",
            "2/2 [==============================] - 35s 18s/step - loss: 0.2210 - accuracy: 0.9375 - val_loss: 0.2744 - val_accuracy: 0.7500\n",
            "Epoch 73/100\n",
            "2/2 [==============================] - 49s 25s/step - loss: 0.2390 - accuracy: 0.9062 - val_loss: 0.4471 - val_accuracy: 0.7812\n",
            "Epoch 74/100\n",
            "2/2 [==============================] - 49s 24s/step - loss: 0.3485 - accuracy: 0.8750 - val_loss: 0.4084 - val_accuracy: 0.8438\n",
            "Epoch 75/100\n",
            "2/2 [==============================] - 50s 25s/step - loss: 0.2228 - accuracy: 0.9375 - val_loss: 0.2391 - val_accuracy: 0.9375\n",
            "Epoch 76/100\n",
            "2/2 [==============================] - 35s 18s/step - loss: 0.2874 - accuracy: 0.9219 - val_loss: 0.7804 - val_accuracy: 0.7500\n",
            "Epoch 77/100\n",
            "2/2 [==============================] - 49s 24s/step - loss: 0.2494 - accuracy: 0.8750 - val_loss: 0.2839 - val_accuracy: 0.9688\n",
            "Epoch 78/100\n",
            "2/2 [==============================] - 49s 24s/step - loss: 0.2995 - accuracy: 0.8906 - val_loss: 0.3935 - val_accuracy: 0.7812\n",
            "Epoch 79/100\n",
            "2/2 [==============================] - 49s 24s/step - loss: 0.2351 - accuracy: 0.9531 - val_loss: 0.4631 - val_accuracy: 0.6875\n",
            "Epoch 80/100\n",
            "2/2 [==============================] - 35s 18s/step - loss: 0.2192 - accuracy: 0.9219 - val_loss: 0.2727 - val_accuracy: 0.7500\n",
            "Epoch 81/100\n",
            "2/2 [==============================] - 49s 24s/step - loss: 0.3648 - accuracy: 0.8750 - val_loss: 0.3112 - val_accuracy: 0.8750\n",
            "Epoch 82/100\n",
            "2/2 [==============================] - 49s 24s/step - loss: 0.1987 - accuracy: 0.9219 - val_loss: 0.4240 - val_accuracy: 0.8750\n",
            "Epoch 83/100\n",
            "2/2 [==============================] - 49s 24s/step - loss: 0.3046 - accuracy: 0.8906 - val_loss: 0.4983 - val_accuracy: 0.7500\n",
            "Epoch 84/100\n",
            "2/2 [==============================] - 35s 17s/step - loss: 0.2223 - accuracy: 0.9375 - val_loss: 0.3433 - val_accuracy: 0.7500\n",
            "Epoch 85/100\n",
            "2/2 [==============================] - 50s 25s/step - loss: 0.2100 - accuracy: 0.9375 - val_loss: 0.3959 - val_accuracy: 0.8750\n",
            "Epoch 86/100\n",
            "2/2 [==============================] - 49s 24s/step - loss: 0.2785 - accuracy: 0.8750 - val_loss: 0.3752 - val_accuracy: 0.8125\n",
            "Epoch 87/100\n",
            "2/2 [==============================] - 49s 24s/step - loss: 0.2323 - accuracy: 0.9375 - val_loss: 0.3981 - val_accuracy: 0.7812\n",
            "Epoch 88/100\n",
            "2/2 [==============================] - 35s 18s/step - loss: 0.2460 - accuracy: 0.9219 - val_loss: 0.0219 - val_accuracy: 1.0000\n",
            "Epoch 89/100\n",
            "2/2 [==============================] - 49s 24s/step - loss: 0.2582 - accuracy: 0.9375 - val_loss: 0.4704 - val_accuracy: 0.7812\n",
            "Epoch 90/100\n",
            "2/2 [==============================] - 49s 24s/step - loss: 0.1581 - accuracy: 0.9688 - val_loss: 0.2503 - val_accuracy: 0.9375\n",
            "Epoch 91/100\n",
            "2/2 [==============================] - 49s 24s/step - loss: 0.1783 - accuracy: 0.9531 - val_loss: 0.3220 - val_accuracy: 0.8750\n",
            "Epoch 92/100\n",
            "2/2 [==============================] - 35s 18s/step - loss: 0.3014 - accuracy: 0.9062 - val_loss: 0.6568 - val_accuracy: 0.5000\n",
            "Epoch 93/100\n",
            "2/2 [==============================] - 49s 24s/step - loss: 0.2601 - accuracy: 0.8750 - val_loss: 0.3769 - val_accuracy: 0.8438\n",
            "Epoch 94/100\n",
            "2/2 [==============================] - 49s 24s/step - loss: 0.1948 - accuracy: 0.9219 - val_loss: 0.3867 - val_accuracy: 0.8125\n",
            "Epoch 95/100\n",
            "2/2 [==============================] - 49s 24s/step - loss: 0.2781 - accuracy: 0.9219 - val_loss: 0.3541 - val_accuracy: 0.8438\n",
            "Epoch 96/100\n",
            "2/2 [==============================] - 35s 17s/step - loss: 0.2710 - accuracy: 0.8750 - val_loss: 0.5071 - val_accuracy: 0.7500\n",
            "Epoch 97/100\n",
            "2/2 [==============================] - 49s 24s/step - loss: 0.2217 - accuracy: 0.9375 - val_loss: 0.2815 - val_accuracy: 0.9062\n",
            "Epoch 98/100\n",
            "2/2 [==============================] - 50s 25s/step - loss: 0.1743 - accuracy: 0.9844 - val_loss: 0.4005 - val_accuracy: 0.8125\n",
            "Epoch 99/100\n",
            "2/2 [==============================] - 49s 24s/step - loss: 0.3306 - accuracy: 0.8906 - val_loss: 0.4717 - val_accuracy: 0.7500\n",
            "Epoch 100/100\n",
            "2/2 [==============================] - 35s 18s/step - loss: 0.1885 - accuracy: 0.9531 - val_loss: 0.0066 - val_accuracy: 1.0000\n"
          ],
          "name": "stdout"
        }
      ]
    }
  ]
}