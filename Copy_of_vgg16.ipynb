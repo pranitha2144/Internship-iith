{
  "nbformat": 4,
  "nbformat_minor": 0,
  "metadata": {
    "colab": {
      "name": "Copy of vgg16",
      "provenance": [],
      "collapsed_sections": [],
      "mount_file_id": "1lSBDpEuLz-XBMkEJ6NzKP6_AQRL8hGpR",
      "authorship_tag": "ABX9TyNUBKDRyzgXsNX38xJZ6r8e",
      "include_colab_link": true
    },
    "kernelspec": {
      "name": "python3",
      "display_name": "Python 3"
    }
  },
  "cells": [
    {
      "cell_type": "markdown",
      "metadata": {
        "id": "view-in-github",
        "colab_type": "text"
      },
      "source": [
        "<a href=\"https://colab.research.google.com/github/pranitha2144/Internship-iith/blob/Resnet/Copy_of_vgg16.ipynb\" target=\"_parent\"><img src=\"https://colab.research.google.com/assets/colab-badge.svg\" alt=\"Open In Colab\"/></a>"
      ]
    },
    {
      "cell_type": "code",
      "metadata": {
        "id": "PMu2eC3sYOxm",
        "colab_type": "code",
        "colab": {}
      },
      "source": [
        "import keras\n",
        "from keras.models import Model\n",
        "from keras.layers import Dense,Dropout\n",
        "from keras import optimizers\n",
        "from keras.preprocessing.image import ImageDataGenerator\n",
        "from keras.preprocessing import image\n",
        "from tensorflow.keras.applications.vgg16 import preprocess_input"
      ],
      "execution_count": 10,
      "outputs": []
    },
    {
      "cell_type": "code",
      "metadata": {
        "id": "p6rPAuwiYVPF",
        "colab_type": "code",
        "colab": {
          "base_uri": "https://localhost:8080/",
          "height": 51
        },
        "outputId": "bd89a885-eb1b-4888-8ef0-80cb782c11c2"
      },
      "source": [
        "trdata = ImageDataGenerator()\n",
        "traindata = trdata.flow_from_directory(directory=\"/content/drive/My Drive/data-liverd/train\",target_size=(224,224),batch_size=32)\n",
        "tsdata = ImageDataGenerator()\n",
        "testdata = tsdata.flow_from_directory(directory=\"/content/drive/My Drive/data-liverd/val\", target_size=(224,224),batch_size=32)"
      ],
      "execution_count": 11,
      "outputs": [
        {
          "output_type": "stream",
          "text": [
            "Found 800 images belonging to 4 classes.\n",
            "Found 200 images belonging to 4 classes.\n"
          ],
          "name": "stdout"
        }
      ]
    },
    {
      "cell_type": "code",
      "metadata": {
        "id": "YEDviFOOYqSH",
        "colab_type": "code",
        "colab": {}
      },
      "source": [
        "from keras.applications.vgg16 import VGG16\n",
        "vggmodel = VGG16(weights='imagenet',include_top=True)"
      ],
      "execution_count": 12,
      "outputs": []
    },
    {
      "cell_type": "code",
      "metadata": {
        "id": "_DBVSTlUYwZt",
        "colab_type": "code",
        "colab": {}
      },
      "source": [
        "vggmodel.summary()"
      ],
      "execution_count": null,
      "outputs": []
    },
    {
      "cell_type": "code",
      "metadata": {
        "id": "8LYBFIW-Y1vZ",
        "colab_type": "code",
        "colab": {
          "base_uri": "https://localhost:8080/",
          "height": 340
        },
        "outputId": "db15d50f-fdcc-440a-e9ee-9fb9355d9f43"
      },
      "source": [
        "for layers in (vggmodel.layers)[:19]:\n",
        "    print(layers)\n",
        "    layers.trainable = False"
      ],
      "execution_count": 13,
      "outputs": [
        {
          "output_type": "stream",
          "text": [
            "<keras.engine.input_layer.InputLayer object at 0x7fbcd7030fd0>\n",
            "<keras.layers.convolutional.Conv2D object at 0x7fbcd7030f60>\n",
            "<keras.layers.convolutional.Conv2D object at 0x7fbcd88c62b0>\n",
            "<keras.layers.pooling.MaxPooling2D object at 0x7fbcd88c6748>\n",
            "<keras.layers.convolutional.Conv2D object at 0x7fbcd88c6588>\n",
            "<keras.layers.convolutional.Conv2D object at 0x7fbcd70664e0>\n",
            "<keras.layers.pooling.MaxPooling2D object at 0x7fbcd7066e10>\n",
            "<keras.layers.convolutional.Conv2D object at 0x7fbcd7066fd0>\n",
            "<keras.layers.convolutional.Conv2D object at 0x7fbcd8871be0>\n",
            "<keras.layers.convolutional.Conv2D object at 0x7fbcd8878748>\n",
            "<keras.layers.pooling.MaxPooling2D object at 0x7fbcd8878f60>\n",
            "<keras.layers.convolutional.Conv2D object at 0x7fbcd887d278>\n",
            "<keras.layers.convolutional.Conv2D object at 0x7fbcd887dcf8>\n",
            "<keras.layers.convolutional.Conv2D object at 0x7fbcd8885898>\n",
            "<keras.layers.pooling.MaxPooling2D object at 0x7fbcd888b320>\n",
            "<keras.layers.convolutional.Conv2D object at 0x7fbcd888b160>\n",
            "<keras.layers.convolutional.Conv2D object at 0x7fbcd888be48>\n",
            "<keras.layers.convolutional.Conv2D object at 0x7fbcd88959e8>\n",
            "<keras.layers.pooling.MaxPooling2D object at 0x7fbcd889b470>\n"
          ],
          "name": "stdout"
        }
      ]
    },
    {
      "cell_type": "code",
      "metadata": {
        "id": "spEfu2MIY3-9",
        "colab_type": "code",
        "colab": {
          "base_uri": "https://localhost:8080/",
          "height": 935
        },
        "outputId": "3bc2d571-3a1a-4d6c-acc2-ceb8dc4db1c9"
      },
      "source": [
        "vggmodel.summary()"
      ],
      "execution_count": 14,
      "outputs": [
        {
          "output_type": "stream",
          "text": [
            "Model: \"vgg16\"\n",
            "_________________________________________________________________\n",
            "Layer (type)                 Output Shape              Param #   \n",
            "=================================================================\n",
            "input_2 (InputLayer)         (None, 224, 224, 3)       0         \n",
            "_________________________________________________________________\n",
            "block1_conv1 (Conv2D)        (None, 224, 224, 64)      1792      \n",
            "_________________________________________________________________\n",
            "block1_conv2 (Conv2D)        (None, 224, 224, 64)      36928     \n",
            "_________________________________________________________________\n",
            "block1_pool (MaxPooling2D)   (None, 112, 112, 64)      0         \n",
            "_________________________________________________________________\n",
            "block2_conv1 (Conv2D)        (None, 112, 112, 128)     73856     \n",
            "_________________________________________________________________\n",
            "block2_conv2 (Conv2D)        (None, 112, 112, 128)     147584    \n",
            "_________________________________________________________________\n",
            "block2_pool (MaxPooling2D)   (None, 56, 56, 128)       0         \n",
            "_________________________________________________________________\n",
            "block3_conv1 (Conv2D)        (None, 56, 56, 256)       295168    \n",
            "_________________________________________________________________\n",
            "block3_conv2 (Conv2D)        (None, 56, 56, 256)       590080    \n",
            "_________________________________________________________________\n",
            "block3_conv3 (Conv2D)        (None, 56, 56, 256)       590080    \n",
            "_________________________________________________________________\n",
            "block3_pool (MaxPooling2D)   (None, 28, 28, 256)       0         \n",
            "_________________________________________________________________\n",
            "block4_conv1 (Conv2D)        (None, 28, 28, 512)       1180160   \n",
            "_________________________________________________________________\n",
            "block4_conv2 (Conv2D)        (None, 28, 28, 512)       2359808   \n",
            "_________________________________________________________________\n",
            "block4_conv3 (Conv2D)        (None, 28, 28, 512)       2359808   \n",
            "_________________________________________________________________\n",
            "block4_pool (MaxPooling2D)   (None, 14, 14, 512)       0         \n",
            "_________________________________________________________________\n",
            "block5_conv1 (Conv2D)        (None, 14, 14, 512)       2359808   \n",
            "_________________________________________________________________\n",
            "block5_conv2 (Conv2D)        (None, 14, 14, 512)       2359808   \n",
            "_________________________________________________________________\n",
            "block5_conv3 (Conv2D)        (None, 14, 14, 512)       2359808   \n",
            "_________________________________________________________________\n",
            "block5_pool (MaxPooling2D)   (None, 7, 7, 512)         0         \n",
            "_________________________________________________________________\n",
            "flatten (Flatten)            (None, 25088)             0         \n",
            "_________________________________________________________________\n",
            "fc1 (Dense)                  (None, 4096)              102764544 \n",
            "_________________________________________________________________\n",
            "fc2 (Dense)                  (None, 4096)              16781312  \n",
            "_________________________________________________________________\n",
            "predictions (Dense)          (None, 1000)              4097000   \n",
            "=================================================================\n",
            "Total params: 138,357,544\n",
            "Trainable params: 123,642,856\n",
            "Non-trainable params: 14,714,688\n",
            "_________________________________________________________________\n"
          ],
          "name": "stdout"
        }
      ]
    },
    {
      "cell_type": "code",
      "metadata": {
        "id": "hRa7hR7-Y-XR",
        "colab_type": "code",
        "colab": {
          "base_uri": "https://localhost:8080/",
          "height": 71
        },
        "outputId": "bd9c0b5a-b4b4-463a-8126-d8b082219c7d"
      },
      "source": [
        "from tensorflow.keras import regularizers\n",
        "X= vggmodel.layers[-2].output\n",
        "fc_1=Dense(4096,activation='relu')(X)\n",
        "dr_1=Dropout(0.1)(fc_1)\n",
        "fc_2=Dense(4096, activation='relu')(dr_1)\n",
        "dr_2=Dropout(0.1)(fc_2)\n",
        "fc_3=Dense(4096,activation='relu')(dr_2)\n",
        "dr_3=Dropout(0.1)(fc_3)\n",
        "predictions = Dense(4, activation=\"softmax\")(dr_3)\n",
        "model_final = Model(input = vggmodel.input, output = predictions)"
      ],
      "execution_count": 15,
      "outputs": [
        {
          "output_type": "stream",
          "text": [
            "/usr/local/lib/python3.6/dist-packages/ipykernel_launcher.py:10: UserWarning: Update your `Model` call to the Keras 2 API: `Model(inputs=Tensor(\"in..., outputs=Tensor(\"de...)`\n",
            "  # Remove the CWD from sys.path while we load stuff.\n"
          ],
          "name": "stderr"
        }
      ]
    },
    {
      "cell_type": "code",
      "metadata": {
        "id": "1mRS_nHaZBCL",
        "colab_type": "code",
        "colab": {
          "base_uri": "https://localhost:8080/",
          "height": 1000
        },
        "outputId": "f769ba6e-7cc3-4d14-ba13-c0e3a4b45e07"
      },
      "source": [
        "model_final.summary()"
      ],
      "execution_count": 16,
      "outputs": [
        {
          "output_type": "stream",
          "text": [
            "Model: \"model_1\"\n",
            "_________________________________________________________________\n",
            "Layer (type)                 Output Shape              Param #   \n",
            "=================================================================\n",
            "input_2 (InputLayer)         (None, 224, 224, 3)       0         \n",
            "_________________________________________________________________\n",
            "block1_conv1 (Conv2D)        (None, 224, 224, 64)      1792      \n",
            "_________________________________________________________________\n",
            "block1_conv2 (Conv2D)        (None, 224, 224, 64)      36928     \n",
            "_________________________________________________________________\n",
            "block1_pool (MaxPooling2D)   (None, 112, 112, 64)      0         \n",
            "_________________________________________________________________\n",
            "block2_conv1 (Conv2D)        (None, 112, 112, 128)     73856     \n",
            "_________________________________________________________________\n",
            "block2_conv2 (Conv2D)        (None, 112, 112, 128)     147584    \n",
            "_________________________________________________________________\n",
            "block2_pool (MaxPooling2D)   (None, 56, 56, 128)       0         \n",
            "_________________________________________________________________\n",
            "block3_conv1 (Conv2D)        (None, 56, 56, 256)       295168    \n",
            "_________________________________________________________________\n",
            "block3_conv2 (Conv2D)        (None, 56, 56, 256)       590080    \n",
            "_________________________________________________________________\n",
            "block3_conv3 (Conv2D)        (None, 56, 56, 256)       590080    \n",
            "_________________________________________________________________\n",
            "block3_pool (MaxPooling2D)   (None, 28, 28, 256)       0         \n",
            "_________________________________________________________________\n",
            "block4_conv1 (Conv2D)        (None, 28, 28, 512)       1180160   \n",
            "_________________________________________________________________\n",
            "block4_conv2 (Conv2D)        (None, 28, 28, 512)       2359808   \n",
            "_________________________________________________________________\n",
            "block4_conv3 (Conv2D)        (None, 28, 28, 512)       2359808   \n",
            "_________________________________________________________________\n",
            "block4_pool (MaxPooling2D)   (None, 14, 14, 512)       0         \n",
            "_________________________________________________________________\n",
            "block5_conv1 (Conv2D)        (None, 14, 14, 512)       2359808   \n",
            "_________________________________________________________________\n",
            "block5_conv2 (Conv2D)        (None, 14, 14, 512)       2359808   \n",
            "_________________________________________________________________\n",
            "block5_conv3 (Conv2D)        (None, 14, 14, 512)       2359808   \n",
            "_________________________________________________________________\n",
            "block5_pool (MaxPooling2D)   (None, 7, 7, 512)         0         \n",
            "_________________________________________________________________\n",
            "flatten (Flatten)            (None, 25088)             0         \n",
            "_________________________________________________________________\n",
            "fc1 (Dense)                  (None, 4096)              102764544 \n",
            "_________________________________________________________________\n",
            "fc2 (Dense)                  (None, 4096)              16781312  \n",
            "_________________________________________________________________\n",
            "dense_1 (Dense)              (None, 4096)              16781312  \n",
            "_________________________________________________________________\n",
            "dropout_1 (Dropout)          (None, 4096)              0         \n",
            "_________________________________________________________________\n",
            "dense_2 (Dense)              (None, 4096)              16781312  \n",
            "_________________________________________________________________\n",
            "dropout_2 (Dropout)          (None, 4096)              0         \n",
            "_________________________________________________________________\n",
            "dense_3 (Dense)              (None, 4096)              16781312  \n",
            "_________________________________________________________________\n",
            "dropout_3 (Dropout)          (None, 4096)              0         \n",
            "_________________________________________________________________\n",
            "dense_4 (Dense)              (None, 4)                 16388     \n",
            "=================================================================\n",
            "Total params: 184,620,868\n",
            "Trainable params: 169,906,180\n",
            "Non-trainable params: 14,714,688\n",
            "_________________________________________________________________\n"
          ],
          "name": "stdout"
        }
      ]
    },
    {
      "cell_type": "code",
      "metadata": {
        "id": "WyzYX9WSZK0G",
        "colab_type": "code",
        "colab": {}
      },
      "source": [
        "model_final.compile(loss = \"categorical_crossentropy\", optimizer = keras.optimizers.Adam(lr=0.00001), metrics=[\"accuracy\"])"
      ],
      "execution_count": 17,
      "outputs": []
    },
    {
      "cell_type": "code",
      "metadata": {
        "id": "3JhPnTE8ZRmI",
        "colab_type": "code",
        "colab": {
          "base_uri": "https://localhost:8080/",
          "height": 1000
        },
        "outputId": "352cb093-b029-4fbf-c8cc-23faf9b2e579"
      },
      "source": [
        "model_final.summary()"
      ],
      "execution_count": 18,
      "outputs": [
        {
          "output_type": "stream",
          "text": [
            "Model: \"model_1\"\n",
            "_________________________________________________________________\n",
            "Layer (type)                 Output Shape              Param #   \n",
            "=================================================================\n",
            "input_2 (InputLayer)         (None, 224, 224, 3)       0         \n",
            "_________________________________________________________________\n",
            "block1_conv1 (Conv2D)        (None, 224, 224, 64)      1792      \n",
            "_________________________________________________________________\n",
            "block1_conv2 (Conv2D)        (None, 224, 224, 64)      36928     \n",
            "_________________________________________________________________\n",
            "block1_pool (MaxPooling2D)   (None, 112, 112, 64)      0         \n",
            "_________________________________________________________________\n",
            "block2_conv1 (Conv2D)        (None, 112, 112, 128)     73856     \n",
            "_________________________________________________________________\n",
            "block2_conv2 (Conv2D)        (None, 112, 112, 128)     147584    \n",
            "_________________________________________________________________\n",
            "block2_pool (MaxPooling2D)   (None, 56, 56, 128)       0         \n",
            "_________________________________________________________________\n",
            "block3_conv1 (Conv2D)        (None, 56, 56, 256)       295168    \n",
            "_________________________________________________________________\n",
            "block3_conv2 (Conv2D)        (None, 56, 56, 256)       590080    \n",
            "_________________________________________________________________\n",
            "block3_conv3 (Conv2D)        (None, 56, 56, 256)       590080    \n",
            "_________________________________________________________________\n",
            "block3_pool (MaxPooling2D)   (None, 28, 28, 256)       0         \n",
            "_________________________________________________________________\n",
            "block4_conv1 (Conv2D)        (None, 28, 28, 512)       1180160   \n",
            "_________________________________________________________________\n",
            "block4_conv2 (Conv2D)        (None, 28, 28, 512)       2359808   \n",
            "_________________________________________________________________\n",
            "block4_conv3 (Conv2D)        (None, 28, 28, 512)       2359808   \n",
            "_________________________________________________________________\n",
            "block4_pool (MaxPooling2D)   (None, 14, 14, 512)       0         \n",
            "_________________________________________________________________\n",
            "block5_conv1 (Conv2D)        (None, 14, 14, 512)       2359808   \n",
            "_________________________________________________________________\n",
            "block5_conv2 (Conv2D)        (None, 14, 14, 512)       2359808   \n",
            "_________________________________________________________________\n",
            "block5_conv3 (Conv2D)        (None, 14, 14, 512)       2359808   \n",
            "_________________________________________________________________\n",
            "block5_pool (MaxPooling2D)   (None, 7, 7, 512)         0         \n",
            "_________________________________________________________________\n",
            "flatten (Flatten)            (None, 25088)             0         \n",
            "_________________________________________________________________\n",
            "fc1 (Dense)                  (None, 4096)              102764544 \n",
            "_________________________________________________________________\n",
            "fc2 (Dense)                  (None, 4096)              16781312  \n",
            "_________________________________________________________________\n",
            "dense_1 (Dense)              (None, 4096)              16781312  \n",
            "_________________________________________________________________\n",
            "dropout_1 (Dropout)          (None, 4096)              0         \n",
            "_________________________________________________________________\n",
            "dense_2 (Dense)              (None, 4096)              16781312  \n",
            "_________________________________________________________________\n",
            "dropout_2 (Dropout)          (None, 4096)              0         \n",
            "_________________________________________________________________\n",
            "dense_3 (Dense)              (None, 4096)              16781312  \n",
            "_________________________________________________________________\n",
            "dropout_3 (Dropout)          (None, 4096)              0         \n",
            "_________________________________________________________________\n",
            "dense_4 (Dense)              (None, 4)                 16388     \n",
            "=================================================================\n",
            "Total params: 184,620,868\n",
            "Trainable params: 169,906,180\n",
            "Non-trainable params: 14,714,688\n",
            "_________________________________________________________________\n"
          ],
          "name": "stdout"
        }
      ]
    },
    {
      "cell_type": "code",
      "metadata": {
        "id": "H6dGNtWtZVuK",
        "colab_type": "code",
        "colab": {
          "base_uri": "https://localhost:8080/",
          "height": 1000
        },
        "outputId": "2f0f70ab-468d-44c5-e41b-3a6f7b046610"
      },
      "source": [
        "from keras.callbacks import ModelCheckpoint, EarlyStopping\n",
        "checkpoint = ModelCheckpoint(\"/content/drive/My Drive/Best models/model_n_1.h5\", monitor='val_accuracy', verbose=1, save_best_only=True, save_weights_only=False, mode='auto', period=1)\n",
        "early = EarlyStopping(monitor='val_acc', min_delta=0, patience=10, verbose=1, mode='auto')\n",
        "hist=model_final.fit_generator(traindata,steps_per_epoch=5, epochs= 100, validation_data= testdata,validation_steps=2, callbacks=[checkpoint,early])"
      ],
      "execution_count": 24,
      "outputs": [
        {
          "output_type": "stream",
          "text": [
            "Epoch 1/100\n",
            "5/5 [==============================] - 126s 25s/step - loss: 0.2759 - accuracy: 0.8938 - val_loss: 0.3639 - val_accuracy: 0.8906\n",
            "\n",
            "Epoch 00001: val_accuracy improved from -inf to 0.89062, saving model to /content/drive/My Drive/Best models/model_n_1.h5\n"
          ],
          "name": "stdout"
        },
        {
          "output_type": "stream",
          "text": [
            "/usr/local/lib/python3.6/dist-packages/keras/callbacks/callbacks.py:846: RuntimeWarning: Early stopping conditioned on metric `val_acc` which is not available. Available metrics are: val_loss,val_accuracy,loss,accuracy\n",
            "  (self.monitor, ','.join(list(logs.keys()))), RuntimeWarning\n"
          ],
          "name": "stderr"
        },
        {
          "output_type": "stream",
          "text": [
            "Epoch 2/100\n",
            "5/5 [==============================] - 135s 27s/step - loss: 0.3210 - accuracy: 0.8875 - val_loss: 0.5763 - val_accuracy: 0.7969\n",
            "\n",
            "Epoch 00002: val_accuracy did not improve from 0.89062\n",
            "Epoch 3/100\n",
            "5/5 [==============================] - 126s 25s/step - loss: 0.3225 - accuracy: 0.8687 - val_loss: 0.5830 - val_accuracy: 0.7656\n",
            "\n",
            "Epoch 00003: val_accuracy did not improve from 0.89062\n",
            "Epoch 4/100\n",
            "5/5 [==============================] - 114s 23s/step - loss: 0.2834 - accuracy: 0.8562 - val_loss: 0.4825 - val_accuracy: 0.8250\n",
            "\n",
            "Epoch 00004: val_accuracy did not improve from 0.89062\n",
            "Epoch 5/100\n",
            "5/5 [==============================] - 130s 26s/step - loss: 0.2697 - accuracy: 0.9125 - val_loss: 0.4794 - val_accuracy: 0.7969\n",
            "\n",
            "Epoch 00005: val_accuracy did not improve from 0.89062\n",
            "Epoch 6/100\n",
            "5/5 [==============================] - 125s 25s/step - loss: 0.2961 - accuracy: 0.9000 - val_loss: 0.4906 - val_accuracy: 0.8438\n",
            "\n",
            "Epoch 00006: val_accuracy did not improve from 0.89062\n",
            "Epoch 7/100\n",
            "5/5 [==============================] - 113s 23s/step - loss: 0.1864 - accuracy: 0.9438 - val_loss: 0.4401 - val_accuracy: 0.8750\n",
            "\n",
            "Epoch 00007: val_accuracy did not improve from 0.89062\n",
            "Epoch 8/100\n",
            "5/5 [==============================] - 124s 25s/step - loss: 0.2397 - accuracy: 0.9250 - val_loss: 0.3444 - val_accuracy: 0.8594\n",
            "\n",
            "Epoch 00008: val_accuracy did not improve from 0.89062\n",
            "Epoch 9/100\n",
            "5/5 [==============================] - 124s 25s/step - loss: 0.1990 - accuracy: 0.9187 - val_loss: 0.3896 - val_accuracy: 0.8906\n",
            "\n",
            "Epoch 00009: val_accuracy did not improve from 0.89062\n",
            "Epoch 10/100\n",
            "5/5 [==============================] - 125s 25s/step - loss: 0.2331 - accuracy: 0.9187 - val_loss: 0.5971 - val_accuracy: 0.7656\n",
            "\n",
            "Epoch 00010: val_accuracy did not improve from 0.89062\n",
            "Epoch 11/100\n",
            "5/5 [==============================] - 112s 22s/step - loss: 0.1523 - accuracy: 0.9563 - val_loss: 0.4178 - val_accuracy: 0.8250\n",
            "\n",
            "Epoch 00011: val_accuracy did not improve from 0.89062\n",
            "Epoch 12/100\n",
            "5/5 [==============================] - 124s 25s/step - loss: 0.1915 - accuracy: 0.9187 - val_loss: 0.4116 - val_accuracy: 0.8594\n",
            "\n",
            "Epoch 00012: val_accuracy did not improve from 0.89062\n",
            "Epoch 13/100\n",
            "5/5 [==============================] - 126s 25s/step - loss: 0.1880 - accuracy: 0.9187 - val_loss: 0.4464 - val_accuracy: 0.8438\n",
            "\n",
            "Epoch 00013: val_accuracy did not improve from 0.89062\n",
            "Epoch 14/100\n",
            "5/5 [==============================] - 113s 23s/step - loss: 0.1767 - accuracy: 0.9187 - val_loss: 1.0617 - val_accuracy: 0.8750\n",
            "\n",
            "Epoch 00014: val_accuracy did not improve from 0.89062\n",
            "Epoch 15/100\n",
            "5/5 [==============================] - 126s 25s/step - loss: 0.1555 - accuracy: 0.9688 - val_loss: 0.2535 - val_accuracy: 0.7969\n",
            "\n",
            "Epoch 00015: val_accuracy did not improve from 0.89062\n",
            "Epoch 16/100\n",
            "5/5 [==============================] - 124s 25s/step - loss: 0.1380 - accuracy: 0.9563 - val_loss: 0.0781 - val_accuracy: 0.8906\n",
            "\n",
            "Epoch 00016: val_accuracy did not improve from 0.89062\n",
            "Epoch 17/100\n",
            "5/5 [==============================] - 126s 25s/step - loss: 0.1096 - accuracy: 0.9688 - val_loss: 0.7677 - val_accuracy: 0.7969\n",
            "\n",
            "Epoch 00017: val_accuracy did not improve from 0.89062\n",
            "Epoch 18/100\n",
            "5/5 [==============================] - 113s 23s/step - loss: 0.1533 - accuracy: 0.9500 - val_loss: 0.3131 - val_accuracy: 0.9250\n",
            "\n",
            "Epoch 00018: val_accuracy improved from 0.89062 to 0.92500, saving model to /content/drive/My Drive/Best models/model_n_1.h5\n",
            "Epoch 19/100\n",
            "5/5 [==============================] - 135s 27s/step - loss: 0.1179 - accuracy: 0.9750 - val_loss: 0.1700 - val_accuracy: 0.8750\n",
            "\n",
            "Epoch 00019: val_accuracy did not improve from 0.92500\n",
            "Epoch 20/100\n",
            "5/5 [==============================] - 128s 26s/step - loss: 0.0948 - accuracy: 0.9688 - val_loss: 0.5887 - val_accuracy: 0.7969\n",
            "\n",
            "Epoch 00020: val_accuracy did not improve from 0.92500\n",
            "Epoch 21/100\n",
            "5/5 [==============================] - 114s 23s/step - loss: 0.0904 - accuracy: 0.9688 - val_loss: 0.2741 - val_accuracy: 0.9000\n",
            "\n",
            "Epoch 00021: val_accuracy did not improve from 0.92500\n",
            "Epoch 22/100\n",
            "5/5 [==============================] - 126s 25s/step - loss: 0.1146 - accuracy: 0.9563 - val_loss: 0.2245 - val_accuracy: 0.8906\n",
            "\n",
            "Epoch 00022: val_accuracy did not improve from 0.92500\n",
            "Epoch 23/100\n",
            "5/5 [==============================] - 125s 25s/step - loss: 0.0931 - accuracy: 0.9625 - val_loss: 0.3510 - val_accuracy: 0.8906\n",
            "\n",
            "Epoch 00023: val_accuracy did not improve from 0.92500\n",
            "Epoch 24/100\n",
            "5/5 [==============================] - 125s 25s/step - loss: 0.0971 - accuracy: 0.9688 - val_loss: 0.3472 - val_accuracy: 0.8281\n",
            "\n",
            "Epoch 00024: val_accuracy did not improve from 0.92500\n",
            "Epoch 25/100\n",
            "5/5 [==============================] - 114s 23s/step - loss: 0.0553 - accuracy: 0.9937 - val_loss: 0.3580 - val_accuracy: 0.9250\n",
            "\n",
            "Epoch 00025: val_accuracy did not improve from 0.92500\n",
            "Epoch 26/100\n",
            "5/5 [==============================] - 125s 25s/step - loss: 0.0472 - accuracy: 0.9937 - val_loss: 0.4641 - val_accuracy: 0.8594\n",
            "\n",
            "Epoch 00026: val_accuracy did not improve from 0.92500\n",
            "Epoch 27/100\n",
            "5/5 [==============================] - 125s 25s/step - loss: 0.0485 - accuracy: 0.9937 - val_loss: 0.3639 - val_accuracy: 0.8438\n",
            "\n",
            "Epoch 00027: val_accuracy did not improve from 0.92500\n",
            "Epoch 28/100\n",
            "5/5 [==============================] - 114s 23s/step - loss: 0.0600 - accuracy: 0.9937 - val_loss: 0.2746 - val_accuracy: 0.8250\n",
            "\n",
            "Epoch 00028: val_accuracy did not improve from 0.92500\n",
            "Epoch 29/100\n",
            "5/5 [==============================] - 127s 25s/step - loss: 0.0454 - accuracy: 0.9812 - val_loss: 0.6763 - val_accuracy: 0.8750\n",
            "\n",
            "Epoch 00029: val_accuracy did not improve from 0.92500\n",
            "Epoch 30/100\n",
            "5/5 [==============================] - 125s 25s/step - loss: 0.0546 - accuracy: 0.9688 - val_loss: 0.3759 - val_accuracy: 0.9062\n",
            "\n",
            "Epoch 00030: val_accuracy did not improve from 0.92500\n",
            "Epoch 31/100\n",
            "5/5 [==============================] - 124s 25s/step - loss: 0.0430 - accuracy: 1.0000 - val_loss: 0.6681 - val_accuracy: 0.8594\n",
            "\n",
            "Epoch 00031: val_accuracy did not improve from 0.92500\n",
            "Epoch 32/100\n",
            "5/5 [==============================] - 113s 23s/step - loss: 0.0521 - accuracy: 0.9812 - val_loss: 0.3865 - val_accuracy: 0.8750\n",
            "\n",
            "Epoch 00032: val_accuracy did not improve from 0.92500\n",
            "Epoch 33/100\n",
            "5/5 [==============================] - 124s 25s/step - loss: 0.0335 - accuracy: 0.9937 - val_loss: 0.2966 - val_accuracy: 0.9062\n",
            "\n",
            "Epoch 00033: val_accuracy did not improve from 0.92500\n",
            "Epoch 34/100\n",
            "5/5 [==============================] - 124s 25s/step - loss: 0.0210 - accuracy: 1.0000 - val_loss: 0.4145 - val_accuracy: 0.9062\n",
            "\n",
            "Epoch 00034: val_accuracy did not improve from 0.92500\n",
            "Epoch 35/100\n",
            "5/5 [==============================] - 115s 23s/step - loss: 0.0241 - accuracy: 1.0000 - val_loss: 0.4662 - val_accuracy: 0.8250\n",
            "\n",
            "Epoch 00035: val_accuracy did not improve from 0.92500\n",
            "Epoch 36/100\n",
            "5/5 [==============================] - 124s 25s/step - loss: 0.0160 - accuracy: 1.0000 - val_loss: 0.3268 - val_accuracy: 0.8750\n",
            "\n",
            "Epoch 00036: val_accuracy did not improve from 0.92500\n",
            "Epoch 37/100\n",
            "5/5 [==============================] - 125s 25s/step - loss: 0.0174 - accuracy: 1.0000 - val_loss: 0.5167 - val_accuracy: 0.9062\n",
            "\n",
            "Epoch 00037: val_accuracy did not improve from 0.92500\n",
            "Epoch 38/100\n",
            "5/5 [==============================] - 124s 25s/step - loss: 0.0130 - accuracy: 1.0000 - val_loss: 0.1392 - val_accuracy: 0.8906\n",
            "\n",
            "Epoch 00038: val_accuracy did not improve from 0.92500\n",
            "Epoch 39/100\n",
            "5/5 [==============================] - 112s 22s/step - loss: 0.0302 - accuracy: 0.9937 - val_loss: 0.8645 - val_accuracy: 0.7500\n",
            "\n",
            "Epoch 00039: val_accuracy did not improve from 0.92500\n",
            "Epoch 40/100\n",
            "5/5 [==============================] - 124s 25s/step - loss: 0.0140 - accuracy: 1.0000 - val_loss: 0.5044 - val_accuracy: 0.9219\n",
            "\n",
            "Epoch 00040: val_accuracy did not improve from 0.92500\n",
            "Epoch 41/100\n",
            "5/5 [==============================] - 124s 25s/step - loss: 0.0131 - accuracy: 1.0000 - val_loss: 0.2835 - val_accuracy: 0.8750\n",
            "\n",
            "Epoch 00041: val_accuracy did not improve from 0.92500\n",
            "Epoch 42/100\n",
            "5/5 [==============================] - 113s 23s/step - loss: 0.0111 - accuracy: 1.0000 - val_loss: 0.3805 - val_accuracy: 0.9250\n",
            "\n",
            "Epoch 00042: val_accuracy did not improve from 0.92500\n",
            "Epoch 43/100\n",
            "5/5 [==============================] - 125s 25s/step - loss: 0.0122 - accuracy: 1.0000 - val_loss: 0.4764 - val_accuracy: 0.8906\n",
            "\n",
            "Epoch 00043: val_accuracy did not improve from 0.92500\n",
            "Epoch 44/100\n",
            "5/5 [==============================] - 125s 25s/step - loss: 0.0107 - accuracy: 1.0000 - val_loss: 0.5805 - val_accuracy: 0.8438\n",
            "\n",
            "Epoch 00044: val_accuracy did not improve from 0.92500\n",
            "Epoch 45/100\n",
            "5/5 [==============================] - 125s 25s/step - loss: 0.0073 - accuracy: 1.0000 - val_loss: 0.4271 - val_accuracy: 0.9062\n",
            "\n",
            "Epoch 00045: val_accuracy did not improve from 0.92500\n",
            "Epoch 46/100\n",
            "5/5 [==============================] - 112s 22s/step - loss: 0.0065 - accuracy: 1.0000 - val_loss: 0.3781 - val_accuracy: 0.9250\n",
            "\n",
            "Epoch 00046: val_accuracy did not improve from 0.92500\n",
            "Epoch 47/100\n",
            "5/5 [==============================] - 125s 25s/step - loss: 0.0060 - accuracy: 1.0000 - val_loss: 0.4711 - val_accuracy: 0.8906\n",
            "\n",
            "Epoch 00047: val_accuracy did not improve from 0.92500\n",
            "Epoch 48/100\n",
            "5/5 [==============================] - 127s 25s/step - loss: 0.0083 - accuracy: 1.0000 - val_loss: 0.7082 - val_accuracy: 0.8281\n",
            "\n",
            "Epoch 00048: val_accuracy did not improve from 0.92500\n",
            "Epoch 49/100\n",
            "5/5 [==============================] - 112s 22s/step - loss: 0.0078 - accuracy: 1.0000 - val_loss: 0.0011 - val_accuracy: 0.9000\n",
            "\n",
            "Epoch 00049: val_accuracy did not improve from 0.92500\n",
            "Epoch 50/100\n",
            "5/5 [==============================] - 126s 25s/step - loss: 0.0058 - accuracy: 1.0000 - val_loss: 0.2684 - val_accuracy: 0.9219\n",
            "\n",
            "Epoch 00050: val_accuracy did not improve from 0.92500\n",
            "Epoch 51/100\n",
            "5/5 [==============================] - 124s 25s/step - loss: 0.0076 - accuracy: 1.0000 - val_loss: 0.8296 - val_accuracy: 0.8906\n",
            "\n",
            "Epoch 00051: val_accuracy did not improve from 0.92500\n",
            "Epoch 52/100\n",
            "5/5 [==============================] - 124s 25s/step - loss: 0.0036 - accuracy: 1.0000 - val_loss: 1.3718 - val_accuracy: 0.7969\n",
            "\n",
            "Epoch 00052: val_accuracy did not improve from 0.92500\n",
            "Epoch 53/100\n",
            "5/5 [==============================] - 113s 23s/step - loss: 0.0054 - accuracy: 1.0000 - val_loss: 0.3817 - val_accuracy: 0.9000\n",
            "\n",
            "Epoch 00053: val_accuracy did not improve from 0.92500\n",
            "Epoch 54/100\n",
            "5/5 [==============================] - 123s 25s/step - loss: 0.0062 - accuracy: 1.0000 - val_loss: 0.5252 - val_accuracy: 0.8750\n",
            "\n",
            "Epoch 00054: val_accuracy did not improve from 0.92500\n",
            "Epoch 55/100\n",
            "5/5 [==============================] - 123s 25s/step - loss: 0.0036 - accuracy: 1.0000 - val_loss: 0.6061 - val_accuracy: 0.8594\n",
            "\n",
            "Epoch 00055: val_accuracy did not improve from 0.92500\n",
            "Epoch 56/100\n",
            "5/5 [==============================] - 111s 22s/step - loss: 0.0045 - accuracy: 1.0000 - val_loss: 0.0614 - val_accuracy: 0.9750\n",
            "\n",
            "Epoch 00056: val_accuracy improved from 0.92500 to 0.97500, saving model to /content/drive/My Drive/Best models/model_n_1.h5\n",
            "Epoch 57/100\n",
            "5/5 [==============================] - 135s 27s/step - loss: 0.0030 - accuracy: 1.0000 - val_loss: 0.4326 - val_accuracy: 0.9062\n",
            "\n",
            "Epoch 00057: val_accuracy did not improve from 0.97500\n",
            "Epoch 58/100\n",
            "5/5 [==============================] - 127s 25s/step - loss: 0.0032 - accuracy: 1.0000 - val_loss: 0.6734 - val_accuracy: 0.8438\n",
            "\n",
            "Epoch 00058: val_accuracy did not improve from 0.97500\n",
            "Epoch 59/100\n",
            "5/5 [==============================] - 127s 25s/step - loss: 0.0030 - accuracy: 1.0000 - val_loss: 0.5635 - val_accuracy: 0.8750\n",
            "\n",
            "Epoch 00059: val_accuracy did not improve from 0.97500\n",
            "Epoch 60/100\n",
            "5/5 [==============================] - 114s 23s/step - loss: 0.0034 - accuracy: 1.0000 - val_loss: 0.3605 - val_accuracy: 0.9500\n",
            "\n",
            "Epoch 00060: val_accuracy did not improve from 0.97500\n",
            "Epoch 61/100\n",
            "5/5 [==============================] - 125s 25s/step - loss: 0.0026 - accuracy: 1.0000 - val_loss: 0.4473 - val_accuracy: 0.9062\n",
            "\n",
            "Epoch 00061: val_accuracy did not improve from 0.97500\n",
            "Epoch 62/100\n",
            "5/5 [==============================] - 125s 25s/step - loss: 0.0028 - accuracy: 1.0000 - val_loss: 0.7250 - val_accuracy: 0.7969\n",
            "\n",
            "Epoch 00062: val_accuracy did not improve from 0.97500\n",
            "Epoch 63/100\n",
            "5/5 [==============================] - 112s 22s/step - loss: 0.0023 - accuracy: 1.0000 - val_loss: 0.1107 - val_accuracy: 0.9250\n",
            "\n",
            "Epoch 00063: val_accuracy did not improve from 0.97500\n",
            "Epoch 64/100\n",
            "5/5 [==============================] - 123s 25s/step - loss: 0.0023 - accuracy: 1.0000 - val_loss: 0.1770 - val_accuracy: 0.8750\n",
            "\n",
            "Epoch 00064: val_accuracy did not improve from 0.97500\n",
            "Epoch 65/100\n",
            "5/5 [==============================] - 125s 25s/step - loss: 0.0020 - accuracy: 1.0000 - val_loss: 0.3420 - val_accuracy: 0.8906\n",
            "\n",
            "Epoch 00065: val_accuracy did not improve from 0.97500\n",
            "Epoch 66/100\n",
            "5/5 [==============================] - 126s 25s/step - loss: 0.0026 - accuracy: 1.0000 - val_loss: 0.8397 - val_accuracy: 0.8906\n",
            "\n",
            "Epoch 00066: val_accuracy did not improve from 0.97500\n",
            "Epoch 67/100\n",
            "5/5 [==============================] - 113s 23s/step - loss: 0.0020 - accuracy: 1.0000 - val_loss: 0.5784 - val_accuracy: 0.9000\n",
            "\n",
            "Epoch 00067: val_accuracy did not improve from 0.97500\n",
            "Epoch 68/100\n",
            "5/5 [==============================] - 126s 25s/step - loss: 0.0026 - accuracy: 1.0000 - val_loss: 0.7085 - val_accuracy: 0.8594\n",
            "\n",
            "Epoch 00068: val_accuracy did not improve from 0.97500\n",
            "Epoch 69/100\n",
            "5/5 [==============================] - 126s 25s/step - loss: 0.0019 - accuracy: 1.0000 - val_loss: 0.3350 - val_accuracy: 0.8906\n",
            "\n",
            "Epoch 00069: val_accuracy did not improve from 0.97500\n",
            "Epoch 70/100\n",
            "5/5 [==============================] - 114s 23s/step - loss: 0.0020 - accuracy: 1.0000 - val_loss: 0.0198 - val_accuracy: 0.8750\n",
            "\n",
            "Epoch 00070: val_accuracy did not improve from 0.97500\n",
            "Epoch 71/100\n",
            "5/5 [==============================] - 125s 25s/step - loss: 0.0017 - accuracy: 1.0000 - val_loss: 0.1125 - val_accuracy: 0.8906\n",
            "\n",
            "Epoch 00071: val_accuracy did not improve from 0.97500\n",
            "Epoch 72/100\n",
            "5/5 [==============================] - 126s 25s/step - loss: 0.0020 - accuracy: 1.0000 - val_loss: 0.8114 - val_accuracy: 0.8594\n",
            "\n",
            "Epoch 00072: val_accuracy did not improve from 0.97500\n",
            "Epoch 73/100\n",
            "5/5 [==============================] - 125s 25s/step - loss: 0.0013 - accuracy: 1.0000 - val_loss: 0.9862 - val_accuracy: 0.8750\n",
            "\n",
            "Epoch 00073: val_accuracy did not improve from 0.97500\n",
            "Epoch 74/100\n",
            "5/5 [==============================] - 113s 23s/step - loss: 0.0017 - accuracy: 1.0000 - val_loss: 0.7034 - val_accuracy: 0.9000\n",
            "\n",
            "Epoch 00074: val_accuracy did not improve from 0.97500\n",
            "Epoch 75/100\n",
            "5/5 [==============================] - 125s 25s/step - loss: 0.0021 - accuracy: 1.0000 - val_loss: 0.3812 - val_accuracy: 0.9219\n",
            "\n",
            "Epoch 00075: val_accuracy did not improve from 0.97500\n",
            "Epoch 76/100\n",
            "5/5 [==============================] - 126s 25s/step - loss: 0.0014 - accuracy: 1.0000 - val_loss: 0.5596 - val_accuracy: 0.8438\n",
            "\n",
            "Epoch 00076: val_accuracy did not improve from 0.97500\n",
            "Epoch 77/100\n",
            "5/5 [==============================] - 114s 23s/step - loss: 0.0014 - accuracy: 1.0000 - val_loss: 0.9250 - val_accuracy: 0.8750\n",
            "\n",
            "Epoch 00077: val_accuracy did not improve from 0.97500\n",
            "Epoch 78/100\n",
            "5/5 [==============================] - 125s 25s/step - loss: 0.0017 - accuracy: 1.0000 - val_loss: 0.4635 - val_accuracy: 0.8438\n",
            "\n",
            "Epoch 00078: val_accuracy did not improve from 0.97500\n",
            "Epoch 79/100\n",
            "5/5 [==============================] - 123s 25s/step - loss: 0.0017 - accuracy: 1.0000 - val_loss: 0.4060 - val_accuracy: 0.8750\n",
            "\n",
            "Epoch 00079: val_accuracy did not improve from 0.97500\n",
            "Epoch 80/100\n",
            "5/5 [==============================] - 125s 25s/step - loss: 0.0015 - accuracy: 1.0000 - val_loss: 0.2629 - val_accuracy: 0.9219\n",
            "\n",
            "Epoch 00080: val_accuracy did not improve from 0.97500\n",
            "Epoch 81/100\n",
            "5/5 [==============================] - 113s 23s/step - loss: 0.0012 - accuracy: 1.0000 - val_loss: 0.3290 - val_accuracy: 0.9000\n",
            "\n",
            "Epoch 00081: val_accuracy did not improve from 0.97500\n",
            "Epoch 82/100\n",
            "5/5 [==============================] - 124s 25s/step - loss: 0.0020 - accuracy: 1.0000 - val_loss: 0.3379 - val_accuracy: 0.8281\n",
            "\n",
            "Epoch 00082: val_accuracy did not improve from 0.97500\n",
            "Epoch 83/100\n",
            "5/5 [==============================] - 125s 25s/step - loss: 0.0014 - accuracy: 1.0000 - val_loss: 0.3459 - val_accuracy: 0.8906\n",
            "\n",
            "Epoch 00083: val_accuracy did not improve from 0.97500\n",
            "Epoch 84/100\n",
            "5/5 [==============================] - 113s 23s/step - loss: 8.4363e-04 - accuracy: 1.0000 - val_loss: 0.8135 - val_accuracy: 0.9000\n",
            "\n",
            "Epoch 00084: val_accuracy did not improve from 0.97500\n",
            "Epoch 85/100\n",
            "5/5 [==============================] - 124s 25s/step - loss: 9.5956e-04 - accuracy: 1.0000 - val_loss: 0.9565 - val_accuracy: 0.8125\n",
            "\n",
            "Epoch 00085: val_accuracy did not improve from 0.97500\n",
            "Epoch 86/100\n",
            "5/5 [==============================] - 123s 25s/step - loss: 0.0010 - accuracy: 1.0000 - val_loss: 0.0272 - val_accuracy: 0.9531\n",
            "\n",
            "Epoch 00086: val_accuracy did not improve from 0.97500\n",
            "Epoch 87/100\n",
            "5/5 [==============================] - 123s 25s/step - loss: 0.0014 - accuracy: 1.0000 - val_loss: 0.6614 - val_accuracy: 0.8750\n",
            "\n",
            "Epoch 00087: val_accuracy did not improve from 0.97500\n",
            "Epoch 88/100\n",
            "5/5 [==============================] - 112s 22s/step - loss: 9.8632e-04 - accuracy: 1.0000 - val_loss: 0.5177 - val_accuracy: 0.9000\n",
            "\n",
            "Epoch 00088: val_accuracy did not improve from 0.97500\n",
            "Epoch 89/100\n",
            "5/5 [==============================] - 124s 25s/step - loss: 7.2262e-04 - accuracy: 1.0000 - val_loss: 0.6263 - val_accuracy: 0.8594\n",
            "\n",
            "Epoch 00089: val_accuracy did not improve from 0.97500\n",
            "Epoch 90/100\n",
            "5/5 [==============================] - 124s 25s/step - loss: 9.1937e-04 - accuracy: 1.0000 - val_loss: 0.5154 - val_accuracy: 0.9219\n",
            "\n",
            "Epoch 00090: val_accuracy did not improve from 0.97500\n",
            "Epoch 91/100\n",
            "5/5 [==============================] - 113s 23s/step - loss: 7.4873e-04 - accuracy: 1.0000 - val_loss: 0.4337 - val_accuracy: 0.8500\n",
            "\n",
            "Epoch 00091: val_accuracy did not improve from 0.97500\n",
            "Epoch 92/100\n",
            "5/5 [==============================] - 124s 25s/step - loss: 8.7771e-04 - accuracy: 1.0000 - val_loss: 0.0715 - val_accuracy: 0.8906\n",
            "\n",
            "Epoch 00092: val_accuracy did not improve from 0.97500\n",
            "Epoch 93/100\n",
            "5/5 [==============================] - 124s 25s/step - loss: 0.0013 - accuracy: 1.0000 - val_loss: 0.9414 - val_accuracy: 0.8438\n",
            "\n",
            "Epoch 00093: val_accuracy did not improve from 0.97500\n",
            "Epoch 94/100\n",
            "5/5 [==============================] - 124s 25s/step - loss: 7.7045e-04 - accuracy: 1.0000 - val_loss: 0.3526 - val_accuracy: 0.8906\n",
            "\n",
            "Epoch 00094: val_accuracy did not improve from 0.97500\n",
            "Epoch 95/100\n",
            "5/5 [==============================] - 113s 23s/step - loss: 6.7405e-04 - accuracy: 1.0000 - val_loss: 0.9197 - val_accuracy: 0.9000\n",
            "\n",
            "Epoch 00095: val_accuracy did not improve from 0.97500\n",
            "Epoch 96/100\n",
            "5/5 [==============================] - 124s 25s/step - loss: 6.2619e-04 - accuracy: 1.0000 - val_loss: 0.2830 - val_accuracy: 0.9062\n",
            "\n",
            "Epoch 00096: val_accuracy did not improve from 0.97500\n",
            "Epoch 97/100\n",
            "5/5 [==============================] - 124s 25s/step - loss: 8.3000e-04 - accuracy: 1.0000 - val_loss: 0.4121 - val_accuracy: 0.8438\n",
            "\n",
            "Epoch 00097: val_accuracy did not improve from 0.97500\n",
            "Epoch 98/100\n",
            "5/5 [==============================] - 113s 23s/step - loss: 8.2977e-04 - accuracy: 1.0000 - val_loss: 4.9721e-04 - val_accuracy: 0.9250\n",
            "\n",
            "Epoch 00098: val_accuracy did not improve from 0.97500\n",
            "Epoch 99/100\n",
            "5/5 [==============================] - 123s 25s/step - loss: 6.1547e-04 - accuracy: 1.0000 - val_loss: 0.0529 - val_accuracy: 0.8906\n",
            "\n",
            "Epoch 00099: val_accuracy did not improve from 0.97500\n",
            "Epoch 100/100\n",
            "5/5 [==============================] - 124s 25s/step - loss: 7.6942e-04 - accuracy: 1.0000 - val_loss: 0.4060 - val_accuracy: 0.8125\n",
            "\n",
            "Epoch 00100: val_accuracy did not improve from 0.97500\n"
          ],
          "name": "stdout"
        }
      ]
    },
    {
      "cell_type": "code",
      "metadata": {
        "id": "HVTVRSV8ZlQb",
        "colab_type": "code",
        "colab": {
          "base_uri": "https://localhost:8080/",
          "height": 295
        },
        "outputId": "33fad058-5d48-44ef-e43b-dfbc419e916f"
      },
      "source": [
        "import matplotlib.pyplot as plt\n",
        "plt.plot(hist.history[\"accuracy\"])\n",
        "plt.plot(hist.history['val_accuracy'])\n",
        "\n",
        "plt.title(\"model accuracy\")\n",
        "plt.ylabel(\"Accuracy\")\n",
        "plt.xlabel(\"Epoch\")\n",
        "plt.legend([\"Accuracy\",\"Validation Accuracy\"])\n",
        "plt.show()"
      ],
      "execution_count": 25,
      "outputs": [
        {
          "output_type": "display_data",
          "data": {
            "image/png": "[encoded data removed]",
            "text/plain": [
              "<Figure size 432x288 with 1 Axes>"
            ]
          },
          "metadata": {
            "tags": [],
            "needs_background": "light"
          }
        }
      ]
    },
    {
      "cell_type": "code",
      "metadata": {
        "id": "S1zKuauZZnZF",
        "colab_type": "code",
        "colab": {
          "base_uri": "https://localhost:8080/",
          "height": 279
        },
        "outputId": "b67a0289-c127-43b1-915a-fbb6fc683a23"
      },
      "source": [
        "plt.plot(hist.history['loss'])\n",
        "plt.plot(hist.history['val_loss'])\n",
        "plt.ylabel(\"Loss\")\n",
        "plt.xlabel(\"Epoch\")\n",
        "plt.legend([\"loss\",\"Validation Loss\"])\n",
        "plt.show()"
      ],
      "execution_count": 26,
      "outputs": [
        {
          "output_type": "display_data",
          "data": {
            "image/png": "[encoded data removed]",
            "text/plain": [
              "<Figure size 432x288 with 1 Axes>"
            ]
          },
          "metadata": {
            "tags": [],
            "needs_background": "light"
          }
        }
      ]
    },
    {
      "cell_type": "code",
      "metadata": {
        "id": "mscgt0FiIA3D",
        "colab_type": "code",
        "colab": {}
      },
      "source": [
        "model_final.save(\"/content/drive/My Drive/Best models/model1_1.h5\")"
      ],
      "execution_count": 27,
      "outputs": []
    },
    {
      "cell_type": "code",
      "metadata": {
        "id": "1E7hce4INlu7",
        "colab_type": "code",
        "colab": {}
      },
      "source": [
        "model_cnn=keras.models.load_model(\"/content/drive/My Drive/Best models/model_n_1.h5\")"
      ],
      "execution_count": 28,
      "outputs": []
    },
    {
      "cell_type": "code",
      "metadata": {
        "id": "WwAzAbBdZulp",
        "colab_type": "code",
        "colab": {}
      },
      "source": [
        "from keras.preprocessing.image import ImageDataGenerator\n",
        "from sklearn.metrics import classification_report, confusion_matrix\n",
        "\n",
        "test_datagen = ImageDataGenerator()"
      ],
      "execution_count": 7,
      "outputs": []
    },
    {
      "cell_type": "code",
      "metadata": {
        "id": "GxVOVV3zZyE7",
        "colab_type": "code",
        "colab": {
          "base_uri": "https://localhost:8080/",
          "height": 34
        },
        "outputId": "f0674746-e28f-4ef9-d8e4-68575d3ae4cc"
      },
      "source": [
        "validation_generator = test_datagen.flow_from_directory('/content/drive/My Drive/data-liverd/val',\n",
        "                                                        target_size=(224, 224))"
      ],
      "execution_count": 8,
      "outputs": [
        {
          "output_type": "stream",
          "text": [
            "Found 200 images belonging to 4 classes.\n"
          ],
          "name": "stdout"
        }
      ]
    },
    {
      "cell_type": "code",
      "metadata": {
        "id": "eAMUtksqjslN",
        "colab_type": "code",
        "colab": {}
      },
      "source": [
        "import numpy as np\n",
        "#Confution Matrix and Classification Report\n",
        "Y_pred = model_cnn.predict_generator(validation_generator)\n",
        "y_pred = np.argmax(Y_pred, axis=1)\n",
        "print('Confusion Matrix')\n",
        "print(confusion_matrix(validation_generator.classes, y_pred))\n",
        "print('Classification Report')\n",
        "#target_names = ['grade1', 'grade0', 'grade2','grade3']\n",
        "print(classification_report(validation_generator.classes, y_pred))"
      ],
      "execution_count": null,
      "outputs": []
    },
    {
      "cell_type": "code",
      "metadata": {
        "id": "nCeG5IC_Z6kq",
        "colab_type": "code",
        "colab": {
          "base_uri": "https://localhost:8080/",
          "height": 153
        },
        "outputId": "282c99ab-9661-4aad-c214-f2cd91208d99"
      },
      "source": [
        "import os\n",
        "import numpy as np\n",
        "actual=[]\n",
        "predicted=[]\n",
        "data_path='/content/drive/My Drive/data-liverd/val'\n",
        "data_dir_list=os.listdir(data_path)\n",
        "for dataset in data_dir_list:\n",
        "  print(dataset)\n",
        "  img_list=os.listdir(data_path+'/'+dataset)\n",
        "  correctCount=0\n",
        "  wrongCount=0\n",
        "  for img in img_list:\n",
        "    img_path=data_path+'/'+dataset+'/'+img\n",
        "    input_image = image.load_img(img_path,target_size=(224,224))\n",
        "    input_image = np.asarray(input_image)\n",
        "    input_image = np.expand_dims(input_image, axis=0)\n",
        "    output = model_cnn.predict(input_image)\n",
        "    ans='grade'+str(np.argmax(output[0],axis=0))\n",
        "    if( ans in img):\n",
        "      correctCount+=1\n",
        "    else:\n",
        "      wrongCount+=1\n",
        "    actual.append(img[:6])\n",
        "    predicted.append(ans)\n",
        "  print(\"correct Count {} WrongCount {}\".format(correctCount,wrongCount))"
      ],
      "execution_count": 29,
      "outputs": [
        {
          "output_type": "stream",
          "text": [
            "grade1\n",
            "correct Count 42 WrongCount 8\n",
            "grade0\n",
            "correct Count 44 WrongCount 6\n",
            "grade2\n",
            "correct Count 48 WrongCount 2\n",
            "grade3\n",
            "correct Count 42 WrongCount 8\n"
          ],
          "name": "stdout"
        }
      ]
    },
    {
      "cell_type": "code",
      "metadata": {
        "id": "6Y1TLJJcXt63",
        "colab_type": "code",
        "colab": {
          "base_uri": "https://localhost:8080/",
          "height": 323
        },
        "outputId": "3ed56799-918d-4d2e-e69d-f43cfe868697"
      },
      "source": [
        "# Python script for confusion matrix creation. \n",
        "from sklearn.metrics import confusion_matrix \n",
        "from sklearn.metrics import accuracy_score \n",
        "from sklearn.metrics import classification_report \n",
        "results = confusion_matrix(actual, predicted) \n",
        "\n",
        "print ('Confusion Matrix :')\n",
        "print(results) \n",
        "print ('Accuracy Score :',accuracy_score(actual, predicted)) \n",
        "print ('Report : ')\n",
        "print (classification_report(actual, predicted)) \n"
      ],
      "execution_count": 30,
      "outputs": [
        {
          "output_type": "stream",
          "text": [
            "Confusion Matrix :\n",
            "[[44  6  0  0]\n",
            " [ 1 42  2  5]\n",
            " [ 0  2 48  0]\n",
            " [ 0  7  1 42]]\n",
            "Accuracy Score : 0.88\n",
            "Report : \n",
            "              precision    recall  f1-score   support\n",
            "\n",
            "      grade0       0.98      0.88      0.93        50\n",
            "      grade1       0.74      0.84      0.79        50\n",
            "      grade2       0.94      0.96      0.95        50\n",
            "      grade3       0.89      0.84      0.87        50\n",
            "\n",
            "    accuracy                           0.88       200\n",
            "   macro avg       0.89      0.88      0.88       200\n",
            "weighted avg       0.89      0.88      0.88       200\n",
            "\n"
          ],
          "name": "stdout"
        }
      ]
    },
    {
      "cell_type": "code",
      "metadata": {
        "colab_type": "code",
        "id": "YNa87qHtw8fM",
        "colab": {
          "base_uri": "https://localhost:8080/",
          "height": 153
        },
        "outputId": "9b520957-cbc0-4a76-e7bd-ab77e6113aa1"
      },
      "source": [
        "import os\n",
        "import numpy as np\n",
        "actual=[]\n",
        "predicted=[]\n",
        "data_path='/content/drive/My Drive/data-liverd/val'\n",
        "data_dir_list=os.listdir(data_path)\n",
        "for dataset in data_dir_list:\n",
        "  print(dataset)\n",
        "  img_list=os.listdir(data_path+'/'+dataset)\n",
        "  correctCount=0\n",
        "  wrongCount=0\n",
        "  for img in img_list:\n",
        "    img_path=data_path+'/'+dataset+'/'+img\n",
        "    input_image = image.load_img(img_path,target_size=(224,224))\n",
        "    input_image = np.asarray(input_image)\n",
        "    input_image = np.expand_dims(input_image, axis=0)\n",
        "    output = model_final.predict(input_image)\n",
        "    ans='grade'+str(np.argmax(output[0],axis=0))\n",
        "    if( ans in img):\n",
        "      correctCount+=1\n",
        "    else:\n",
        "      wrongCount+=1\n",
        "    actual.append(img[:6])\n",
        "    predicted.append(ans)\n",
        "  print(\"correct Count {} WrongCount {}\".format(correctCount,wrongCount))"
      ],
      "execution_count": 31,
      "outputs": [
        {
          "output_type": "stream",
          "text": [
            "grade1\n",
            "correct Count 42 WrongCount 8\n",
            "grade0\n",
            "correct Count 44 WrongCount 6\n",
            "grade2\n",
            "correct Count 48 WrongCount 2\n",
            "grade3\n",
            "correct Count 42 WrongCount 8\n"
          ],
          "name": "stdout"
        }
      ]
    },
    {
      "cell_type": "code",
      "metadata": {
        "id": "z5Nn1DC7w70r",
        "colab_type": "code",
        "colab": {}
      },
      "source": [
        ""
      ],
      "execution_count": null,
      "outputs": []
    },
    {
      "cell_type": "code",
      "metadata": {
        "colab_type": "code",
        "id": "Wq3VzWFExC1o",
        "colab": {
          "base_uri": "https://localhost:8080/",
          "height": 323
        },
        "outputId": "b06588ce-4430-4263-aa15-6329516d5986"
      },
      "source": [
        "# Python script for confusion matrix creation. \n",
        "from sklearn.metrics import confusion_matrix \n",
        "from sklearn.metrics import accuracy_score \n",
        "from sklearn.metrics import classification_report \n",
        "results = confusion_matrix(actual, predicted) \n",
        "\n",
        "print ('Confusion Matrix :')\n",
        "print(results) \n",
        "print ('Accuracy Score :',accuracy_score(actual, predicted)) \n",
        "print ('Report : ')\n",
        "print (classification_report(actual, predicted)) \n"
      ],
      "execution_count": 32,
      "outputs": [
        {
          "output_type": "stream",
          "text": [
            "Confusion Matrix :\n",
            "[[44  6  0  0]\n",
            " [ 1 42  2  5]\n",
            " [ 0  2 48  0]\n",
            " [ 0  7  1 42]]\n",
            "Accuracy Score : 0.88\n",
            "Report : \n",
            "              precision    recall  f1-score   support\n",
            "\n",
            "      grade0       0.98      0.88      0.93        50\n",
            "      grade1       0.74      0.84      0.79        50\n",
            "      grade2       0.94      0.96      0.95        50\n",
            "      grade3       0.89      0.84      0.87        50\n",
            "\n",
            "    accuracy                           0.88       200\n",
            "   macro avg       0.89      0.88      0.88       200\n",
            "weighted avg       0.89      0.88      0.88       200\n",
            "\n"
          ],
          "name": "stdout"
        }
      ]
    },
    {
      "cell_type": "code",
      "metadata": {
        "id": "13hBXTUZwD52",
        "colab_type": "code",
        "colab": {
          "base_uri": "https://localhost:8080/",
          "height": 51
        },
        "outputId": "fff63d1e-46f6-4875-9caf-bf5e1526bf99"
      },
      "source": [
        "tr_loss,tr_acc=model_cnn.evaluate(testdata)\n",
        "tr_acc"
      ],
      "execution_count": 33,
      "outputs": [
        {
          "output_type": "stream",
          "text": [
            "7/7 [==============================] - 104s 15s/step\n"
          ],
          "name": "stdout"
        },
        {
          "output_type": "execute_result",
          "data": {
            "text/plain": [
              "0.8799999952316284"
            ]
          },
          "metadata": {
            "tags": []
          },
          "execution_count": 33
        }
      ]
    },
    {
      "cell_type": "code",
      "metadata": {
        "id": "ntwjv8i0wHmH",
        "colab_type": "code",
        "colab": {}
      },
      "source": [
        "tr_loss,tr_acc=model_final.evaluate(traindata)\n",
        "tr_acc"
      ],
      "execution_count": null,
      "outputs": []
    },
    {
      "cell_type": "code",
      "metadata": {
        "id": "1NOM-AafyXVT",
        "colab_type": "code",
        "colab": {}
      },
      "source": [
        "tr_loss,tr_acc=model_final.evaluate(testdata)\n",
        "tr_acc"
      ],
      "execution_count": null,
      "outputs": []
    },
    {
      "cell_type": "code",
      "metadata": {
        "id": "mTNWvGsEywGT",
        "colab_type": "code",
        "colab": {}
      },
      "source": [
        "saved_model=keras.models.load_model(\"/content/drive/My Drive/Best models/model_n_1.h5\")"
      ],
      "execution_count": null,
      "outputs": []
    },
    {
      "cell_type": "code",
      "metadata": {
        "colab_type": "code",
        "id": "bIRR3fnFzXLD",
        "colab": {}
      },
      "source": [
        "tr_loss,tr_acc=saved_model.evaluate(validation_generator)\n",
        "tr_acc"
      ],
      "execution_count": null,
      "outputs": []
    },
    {
      "cell_type": "code",
      "metadata": {
        "id": "ihCmpaYAzgH4",
        "colab_type": "code",
        "colab": {}
      },
      "source": [
        ""
      ],
      "execution_count": null,
      "outputs": []
    },
    {
      "cell_type": "code",
      "metadata": {
        "colab_type": "code",
        "id": "EmEGMcRkzgyK",
        "colab": {}
      },
      "source": [
        "tr_loss,tr_acc=saved_model.evaluate(testdata)\n",
        "tr_acc"
      ],
      "execution_count": null,
      "outputs": []
    },
    {
      "cell_type": "code",
      "metadata": {
        "id": "rtN1rqlVp7ll",
        "colab_type": "code",
        "colab": {}
      },
      "source": [
        "model_final=keras.models.load_model(\"/content/drive/My Drive/Best models/model_f_1.h5\")"
      ],
      "execution_count": null,
      "outputs": []
    }
  ]
}