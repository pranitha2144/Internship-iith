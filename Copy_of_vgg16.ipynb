{
  "nbformat": 4,
  "nbformat_minor": 0,
  "metadata": {
    "colab": {
      "name": "Copy of vgg16",
      "provenance": [],
      "collapsed_sections": [],
      "mount_file_id": "1lSBDpEuLz-XBMkEJ6NzKP6_AQRL8hGpR",
      "authorship_tag": "ABX9TyM/yOzYEqZG1myncBp30vW3",
      "include_colab_link": true
    },
    "kernelspec": {
      "name": "python3",
      "display_name": "Python 3"
    }
  },
  "cells": [
    {
      "cell_type": "markdown",
      "metadata": {
        "id": "view-in-github",
        "colab_type": "text"
      },
      "source": [
        "<a href=\"https://colab.research.google.com/github/pranitha2144/Internship-iith/blob/Resnet/Copy_of_vgg16.ipynb\" target=\"_parent\"><img src=\"https://colab.research.google.com/assets/colab-badge.svg\" alt=\"Open In Colab\"/></a>"
      ]
    },
    {
      "cell_type": "code",
      "metadata": {
        "id": "PMu2eC3sYOxm",
        "colab_type": "code",
        "colab": {}
      },
      "source": [
        "import keras\n",
        "from keras.models import Model\n",
        "from keras.layers import Dense,Dropout,Conv2D,Flatten,MaxPooling2D\n",
        "from keras import optimizers\n",
        "from keras.preprocessing.image import ImageDataGenerator\n",
        "from keras.preprocessing import image\n",
        "from tensorflow.keras.applications.vgg16 import preprocess_input\n",
        "from keras.regularizers import l2"
      ],
      "execution_count": null,
      "outputs": []
    },
    {
      "cell_type": "code",
      "metadata": {
        "id": "p6rPAuwiYVPF",
        "colab_type": "code",
        "colab": {
          "base_uri": "https://localhost:8080/",
          "height": 71
        },
        "outputId": "49179c76-a2fc-4eb1-a7b2-534582f639cf"
      },
      "source": [
        "trdata = ImageDataGenerator()\n",
        "traindata = trdata.flow_from_directory(directory=\"/content/drive/My Drive/data-liverd/train\",target_size=(224,224),class_mode='categorical')\n",
        "tsdata = ImageDataGenerator()\n",
        "testdata = tsdata.flow_from_directory(directory=\"/content/drive/My Drive/data-liverd/val\", target_size=(224,224),class_mode='categorical')"
      ],
      "execution_count": null,
      "outputs": [
        {
          "output_type": "stream",
          "text": [
            "Found 800 images belonging to 4 classes.\n",
            "Found 200 images belonging to 4 classes.\n"
          ],
          "name": "stdout"
        }
      ]
    },
    {
      "cell_type": "code",
      "metadata": {
        "id": "YEDviFOOYqSH",
        "colab_type": "code",
        "colab": {}
      },
      "source": [
        "from keras.applications.vgg16 import VGG16\n",
        "vggmodel = VGG16(weights='imagenet',include_top=True)"
      ],
      "execution_count": null,
      "outputs": []
    },
    {
      "cell_type": "code",
      "metadata": {
        "id": "_DBVSTlUYwZt",
        "colab_type": "code",
        "colab": {
          "base_uri": "https://localhost:8080/",
          "height": 973
        },
        "outputId": "8b6ed4ed-2f87-4fa5-e000-c57b463f36a1"
      },
      "source": [
        "vggmodel.summary()"
      ],
      "execution_count": null,
      "outputs": [
        {
          "output_type": "stream",
          "text": [
            "Model: \"vgg16\"\n",
            "_________________________________________________________________\n",
            "Layer (type)                 Output Shape              Param #   \n",
            "=================================================================\n",
            "input_1 (InputLayer)         (None, 224, 224, 3)       0         \n",
            "_________________________________________________________________\n",
            "block1_conv1 (Conv2D)        (None, 224, 224, 64)      1792      \n",
            "_________________________________________________________________\n",
            "block1_conv2 (Conv2D)        (None, 224, 224, 64)      36928     \n",
            "_________________________________________________________________\n",
            "block1_pool (MaxPooling2D)   (None, 112, 112, 64)      0         \n",
            "_________________________________________________________________\n",
            "block2_conv1 (Conv2D)        (None, 112, 112, 128)     73856     \n",
            "_________________________________________________________________\n",
            "block2_conv2 (Conv2D)        (None, 112, 112, 128)     147584    \n",
            "_________________________________________________________________\n",
            "block2_pool (MaxPooling2D)   (None, 56, 56, 128)       0         \n",
            "_________________________________________________________________\n",
            "block3_conv1 (Conv2D)        (None, 56, 56, 256)       295168    \n",
            "_________________________________________________________________\n",
            "block3_conv2 (Conv2D)        (None, 56, 56, 256)       590080    \n",
            "_________________________________________________________________\n",
            "block3_conv3 (Conv2D)        (None, 56, 56, 256)       590080    \n",
            "_________________________________________________________________\n",
            "block3_pool (MaxPooling2D)   (None, 28, 28, 256)       0         \n",
            "_________________________________________________________________\n",
            "block4_conv1 (Conv2D)        (None, 28, 28, 512)       1180160   \n",
            "_________________________________________________________________\n",
            "block4_conv2 (Conv2D)        (None, 28, 28, 512)       2359808   \n",
            "_________________________________________________________________\n",
            "block4_conv3 (Conv2D)        (None, 28, 28, 512)       2359808   \n",
            "_________________________________________________________________\n",
            "block4_pool (MaxPooling2D)   (None, 14, 14, 512)       0         \n",
            "_________________________________________________________________\n",
            "block5_conv1 (Conv2D)        (None, 14, 14, 512)       2359808   \n",
            "_________________________________________________________________\n",
            "block5_conv2 (Conv2D)        (None, 14, 14, 512)       2359808   \n",
            "_________________________________________________________________\n",
            "block5_conv3 (Conv2D)        (None, 14, 14, 512)       2359808   \n",
            "_________________________________________________________________\n",
            "block5_pool (MaxPooling2D)   (None, 7, 7, 512)         0         \n",
            "_________________________________________________________________\n",
            "flatten (Flatten)            (None, 25088)             0         \n",
            "_________________________________________________________________\n",
            "fc1 (Dense)                  (None, 4096)              102764544 \n",
            "_________________________________________________________________\n",
            "fc2 (Dense)                  (None, 4096)              16781312  \n",
            "_________________________________________________________________\n",
            "predictions (Dense)          (None, 1000)              4097000   \n",
            "=================================================================\n",
            "Total params: 138,357,544\n",
            "Trainable params: 138,357,544\n",
            "Non-trainable params: 0\n",
            "_________________________________________________________________\n"
          ],
          "name": "stdout"
        }
      ]
    },
    {
      "cell_type": "code",
      "metadata": {
        "id": "UWtbL-_x7GDK",
        "colab_type": "code",
        "colab": {
          "base_uri": "https://localhost:8080/",
          "height": 34
        },
        "outputId": "26d52d52-cadc-483c-e8c0-821075ac1ea7"
      },
      "source": [
        "#execute this cell 3 times\n",
        "vggmodel.layers.pop()"
      ],
      "execution_count": null,
      "outputs": [
        {
          "output_type": "execute_result",
          "data": {
            "text/plain": [
              "<keras.layers.core.Dense at 0x7f9ea6a77f60>"
            ]
          },
          "metadata": {
            "tags": []
          },
          "execution_count": 55
        }
      ]
    },
    {
      "cell_type": "code",
      "metadata": {
        "id": "8LYBFIW-Y1vZ",
        "colab_type": "code",
        "colab": {
          "base_uri": "https://localhost:8080/",
          "height": 366
        },
        "outputId": "1c6a5e90-0ed7-4f85-fd82-727ee37edd10"
      },
      "source": [
        "for layers in (vggmodel.layers)[:19]:\n",
        "    print(layers)\n",
        "    layers.trainable = False"
      ],
      "execution_count": null,
      "outputs": [
        {
          "output_type": "stream",
          "text": [
            "<keras.engine.input_layer.InputLayer object at 0x7f108e07cd30>\n",
            "<keras.layers.convolutional.Conv2D object at 0x7f104bd0c978>\n",
            "<keras.layers.convolutional.Conv2D object at 0x7f104bd0c438>\n",
            "<keras.layers.pooling.MaxPooling2D object at 0x7f103d0c78d0>\n",
            "<keras.layers.convolutional.Conv2D object at 0x7f103d0c7c50>\n",
            "<keras.layers.convolutional.Conv2D object at 0x7f103cc09588>\n",
            "<keras.layers.pooling.MaxPooling2D object at 0x7f103cc09eb8>\n",
            "<keras.layers.convolutional.Conv2D object at 0x7f103cc09fd0>\n",
            "<keras.layers.convolutional.Conv2D object at 0x7f103abc2c88>\n",
            "<keras.layers.convolutional.Conv2D object at 0x7f103abc9828>\n",
            "<keras.layers.pooling.MaxPooling2D object at 0x7f103abd12b0>\n",
            "<keras.layers.convolutional.Conv2D object at 0x7f103abd10f0>\n",
            "<keras.layers.convolutional.Conv2D object at 0x7f103abd1dd8>\n",
            "<keras.layers.convolutional.Conv2D object at 0x7f103abd7978>\n",
            "<keras.layers.pooling.MaxPooling2D object at 0x7f103abe0400>\n",
            "<keras.layers.convolutional.Conv2D object at 0x7f103abe0240>\n",
            "<keras.layers.convolutional.Conv2D object at 0x7f103abe0f28>\n",
            "<keras.layers.convolutional.Conv2D object at 0x7f103abe5ac8>\n",
            "<keras.layers.pooling.MaxPooling2D object at 0x7f103abed550>\n"
          ],
          "name": "stdout"
        }
      ]
    },
    {
      "cell_type": "code",
      "metadata": {
        "id": "spEfu2MIY3-9",
        "colab_type": "code",
        "colab": {
          "base_uri": "https://localhost:8080/",
          "height": 973
        },
        "outputId": "d5c6c8f4-5170-4a91-b515-7d2ec2e7d060"
      },
      "source": [
        "vggmodel.summary()"
      ],
      "execution_count": null,
      "outputs": [
        {
          "output_type": "stream",
          "text": [
            "Model: \"vgg16\"\n",
            "_________________________________________________________________\n",
            "Layer (type)                 Output Shape              Param #   \n",
            "=================================================================\n",
            "input_1 (InputLayer)         (None, 224, 224, 3)       0         \n",
            "_________________________________________________________________\n",
            "block1_conv1 (Conv2D)        (None, 224, 224, 64)      1792      \n",
            "_________________________________________________________________\n",
            "block1_conv2 (Conv2D)        (None, 224, 224, 64)      36928     \n",
            "_________________________________________________________________\n",
            "block1_pool (MaxPooling2D)   (None, 112, 112, 64)      0         \n",
            "_________________________________________________________________\n",
            "block2_conv1 (Conv2D)        (None, 112, 112, 128)     73856     \n",
            "_________________________________________________________________\n",
            "block2_conv2 (Conv2D)        (None, 112, 112, 128)     147584    \n",
            "_________________________________________________________________\n",
            "block2_pool (MaxPooling2D)   (None, 56, 56, 128)       0         \n",
            "_________________________________________________________________\n",
            "block3_conv1 (Conv2D)        (None, 56, 56, 256)       295168    \n",
            "_________________________________________________________________\n",
            "block3_conv2 (Conv2D)        (None, 56, 56, 256)       590080    \n",
            "_________________________________________________________________\n",
            "block3_conv3 (Conv2D)        (None, 56, 56, 256)       590080    \n",
            "_________________________________________________________________\n",
            "block3_pool (MaxPooling2D)   (None, 28, 28, 256)       0         \n",
            "_________________________________________________________________\n",
            "block4_conv1 (Conv2D)        (None, 28, 28, 512)       1180160   \n",
            "_________________________________________________________________\n",
            "block4_conv2 (Conv2D)        (None, 28, 28, 512)       2359808   \n",
            "_________________________________________________________________\n",
            "block4_conv3 (Conv2D)        (None, 28, 28, 512)       2359808   \n",
            "_________________________________________________________________\n",
            "block4_pool (MaxPooling2D)   (None, 14, 14, 512)       0         \n",
            "_________________________________________________________________\n",
            "block5_conv1 (Conv2D)        (None, 14, 14, 512)       2359808   \n",
            "_________________________________________________________________\n",
            "block5_conv2 (Conv2D)        (None, 14, 14, 512)       2359808   \n",
            "_________________________________________________________________\n",
            "block5_conv3 (Conv2D)        (None, 14, 14, 512)       2359808   \n",
            "_________________________________________________________________\n",
            "block5_pool (MaxPooling2D)   (None, 7, 7, 512)         0         \n",
            "_________________________________________________________________\n",
            "flatten (Flatten)            (None, 25088)             0         \n",
            "_________________________________________________________________\n",
            "fc1 (Dense)                  (None, 4096)              102764544 \n",
            "_________________________________________________________________\n",
            "fc2 (Dense)                  (None, 4096)              16781312  \n",
            "_________________________________________________________________\n",
            "predictions (Dense)          (None, 1000)              4097000   \n",
            "=================================================================\n",
            "Total params: 138,357,544\n",
            "Trainable params: 123,642,856\n",
            "Non-trainable params: 14,714,688\n",
            "_________________________________________________________________\n"
          ],
          "name": "stdout"
        }
      ]
    },
    {
      "cell_type": "code",
      "metadata": {
        "id": "hRa7hR7-Y-XR",
        "colab_type": "code",
        "colab": {
          "base_uri": "https://localhost:8080/",
          "height": 54
        },
        "outputId": "2926923e-5794-492e-966a-0944b43ae74b"
      },
      "source": [
        "from tensorflow.keras import regularizers\n",
        "X= vggmodel.layers[-2].output\n",
        "#fc_1=Dense(4096,activation='relu')(X)\n",
        "dr_1=Dropout(0.5)(X)\n",
        "dr_2=Dropout(0.8)(dr_1)\n",
        "'''fc_2=Dense(1024,activation='relu',kernel_regularizer=l2(0.01))(dr_1)\n",
        "dr_2=Dropout(0.5)(fc_2)\n",
        "fc_3=Dense(1024,activation='relu',kernel_regularizer=l2(0.01))(dr_2)\n",
        "dr_3=Dropout(0.3)(fc_3)\n",
        "fc_4=Dense(2048,activation='relu',kernel_regularizer=l2(0.01))(dr_3)\n",
        "dr_4=Dropout(0.5)(fc_4)\n",
        "fc_5=Dense(4096,activation='relu',kernel_regularizer=l2(0.01))(fc_4)\n",
        "fc_6=Dense(4096,activation='relu',kernel_regularizer=l2(0.01))(fc_5)\n",
        "fc_7=Dense(4096,activation='relu',kernel_regularizer=l2(0.01))(fc_6)\n",
        "fc_8=Dense(4096,activation='relu',kernel_regularizer=l2(0.01))(fc_7)'''\n",
        "predictions = Dense(4, activation=\"softmax\")(dr_2)\n",
        "model_final = Model(input = vggmodel.input, output = predictions)"
      ],
      "execution_count": null,
      "outputs": [
        {
          "output_type": "stream",
          "text": [
            "/usr/local/lib/python3.6/dist-packages/ipykernel_launcher.py:17: UserWarning: Update your `Model` call to the Keras 2 API: `Model(inputs=Tensor(\"in..., outputs=Tensor(\"de...)`\n"
          ],
          "name": "stderr"
        }
      ]
    },
    {
      "cell_type": "code",
      "metadata": {
        "id": "1mRS_nHaZBCL",
        "colab_type": "code",
        "colab": {
          "base_uri": "https://localhost:8080/",
          "height": 1000
        },
        "outputId": "58ac9bb2-1d78-42bc-c07e-c7e77ffed7e2"
      },
      "source": [
        "model_final.summary()"
      ],
      "execution_count": null,
      "outputs": [
        {
          "output_type": "stream",
          "text": [
            "Model: \"model_1\"\n",
            "_________________________________________________________________\n",
            "Layer (type)                 Output Shape              Param #   \n",
            "=================================================================\n",
            "input_1 (InputLayer)         (None, 224, 224, 3)       0         \n",
            "_________________________________________________________________\n",
            "block1_conv1 (Conv2D)        (None, 224, 224, 64)      1792      \n",
            "_________________________________________________________________\n",
            "block1_conv2 (Conv2D)        (None, 224, 224, 64)      36928     \n",
            "_________________________________________________________________\n",
            "block1_pool (MaxPooling2D)   (None, 112, 112, 64)      0         \n",
            "_________________________________________________________________\n",
            "block2_conv1 (Conv2D)        (None, 112, 112, 128)     73856     \n",
            "_________________________________________________________________\n",
            "block2_conv2 (Conv2D)        (None, 112, 112, 128)     147584    \n",
            "_________________________________________________________________\n",
            "block2_pool (MaxPooling2D)   (None, 56, 56, 128)       0         \n",
            "_________________________________________________________________\n",
            "block3_conv1 (Conv2D)        (None, 56, 56, 256)       295168    \n",
            "_________________________________________________________________\n",
            "block3_conv2 (Conv2D)        (None, 56, 56, 256)       590080    \n",
            "_________________________________________________________________\n",
            "block3_conv3 (Conv2D)        (None, 56, 56, 256)       590080    \n",
            "_________________________________________________________________\n",
            "block3_pool (MaxPooling2D)   (None, 28, 28, 256)       0         \n",
            "_________________________________________________________________\n",
            "block4_conv1 (Conv2D)        (None, 28, 28, 512)       1180160   \n",
            "_________________________________________________________________\n",
            "block4_conv2 (Conv2D)        (None, 28, 28, 512)       2359808   \n",
            "_________________________________________________________________\n",
            "block4_conv3 (Conv2D)        (None, 28, 28, 512)       2359808   \n",
            "_________________________________________________________________\n",
            "block4_pool (MaxPooling2D)   (None, 14, 14, 512)       0         \n",
            "_________________________________________________________________\n",
            "block5_conv1 (Conv2D)        (None, 14, 14, 512)       2359808   \n",
            "_________________________________________________________________\n",
            "block5_conv2 (Conv2D)        (None, 14, 14, 512)       2359808   \n",
            "_________________________________________________________________\n",
            "block5_conv3 (Conv2D)        (None, 14, 14, 512)       2359808   \n",
            "_________________________________________________________________\n",
            "block5_pool (MaxPooling2D)   (None, 7, 7, 512)         0         \n",
            "_________________________________________________________________\n",
            "flatten (Flatten)            (None, 25088)             0         \n",
            "_________________________________________________________________\n",
            "fc1 (Dense)                  (None, 4096)              102764544 \n",
            "_________________________________________________________________\n",
            "fc2 (Dense)                  (None, 4096)              16781312  \n",
            "_________________________________________________________________\n",
            "dropout_1 (Dropout)          (None, 4096)              0         \n",
            "_________________________________________________________________\n",
            "dropout_2 (Dropout)          (None, 4096)              0         \n",
            "_________________________________________________________________\n",
            "dense_1 (Dense)              (None, 4)                 16388     \n",
            "=================================================================\n",
            "Total params: 134,276,932\n",
            "Trainable params: 119,562,244\n",
            "Non-trainable params: 14,714,688\n",
            "_________________________________________________________________\n"
          ],
          "name": "stdout"
        }
      ]
    },
    {
      "cell_type": "code",
      "metadata": {
        "id": "dVV7AalX1UWN",
        "colab_type": "code",
        "colab": {}
      },
      "source": [
        "#Confution Matrix and Classification Report\n",
        "from sklearn.metrics import classification_report, confusion_matrix\n",
        "import numpy as np\n",
        "Y_pred = model_final.predict_generator(testdata)\n",
        "y_pred = np.argmax(Y_pred, axis=1)\n",
        "print('Confusion Matrix')\n",
        "print(confusion_matrix(testdata.classes, y_pred))\n",
        "print('Classification Report')\n",
        "target_names = ['grade0', 'grade1', 'grade2','grade3']\n",
        "print(classification_report(testdata.classes, y_pred, target_names=target_names))"
      ],
      "execution_count": null,
      "outputs": []
    },
    {
      "cell_type": "code",
      "metadata": {
        "id": "WyzYX9WSZK0G",
        "colab_type": "code",
        "colab": {}
      },
      "source": [
        "model_final.compile(loss = \"categorical_crossentropy\", optimizer = keras.optimizers.Adam(lr=0.0001), metrics=[\"accuracy\"])"
      ],
      "execution_count": null,
      "outputs": []
    },
    {
      "cell_type": "code",
      "metadata": {
        "id": "3JhPnTE8ZRmI",
        "colab_type": "code",
        "colab": {
          "base_uri": "https://localhost:8080/",
          "height": 1000
        },
        "outputId": "eb1e9191-85a2-4c62-ee90-474c5e4d1ac1"
      },
      "source": [
        "model_final.summary()"
      ],
      "execution_count": null,
      "outputs": [
        {
          "output_type": "stream",
          "text": [
            "Model: \"model_1\"\n",
            "_________________________________________________________________\n",
            "Layer (type)                 Output Shape              Param #   \n",
            "=================================================================\n",
            "input_1 (InputLayer)         (None, 224, 224, 3)       0         \n",
            "_________________________________________________________________\n",
            "block1_conv1 (Conv2D)        (None, 224, 224, 64)      1792      \n",
            "_________________________________________________________________\n",
            "block1_conv2 (Conv2D)        (None, 224, 224, 64)      36928     \n",
            "_________________________________________________________________\n",
            "block1_pool (MaxPooling2D)   (None, 112, 112, 64)      0         \n",
            "_________________________________________________________________\n",
            "block2_conv1 (Conv2D)        (None, 112, 112, 128)     73856     \n",
            "_________________________________________________________________\n",
            "block2_conv2 (Conv2D)        (None, 112, 112, 128)     147584    \n",
            "_________________________________________________________________\n",
            "block2_pool (MaxPooling2D)   (None, 56, 56, 128)       0         \n",
            "_________________________________________________________________\n",
            "block3_conv1 (Conv2D)        (None, 56, 56, 256)       295168    \n",
            "_________________________________________________________________\n",
            "block3_conv2 (Conv2D)        (None, 56, 56, 256)       590080    \n",
            "_________________________________________________________________\n",
            "block3_conv3 (Conv2D)        (None, 56, 56, 256)       590080    \n",
            "_________________________________________________________________\n",
            "block3_pool (MaxPooling2D)   (None, 28, 28, 256)       0         \n",
            "_________________________________________________________________\n",
            "block4_conv1 (Conv2D)        (None, 28, 28, 512)       1180160   \n",
            "_________________________________________________________________\n",
            "block4_conv2 (Conv2D)        (None, 28, 28, 512)       2359808   \n",
            "_________________________________________________________________\n",
            "block4_conv3 (Conv2D)        (None, 28, 28, 512)       2359808   \n",
            "_________________________________________________________________\n",
            "block4_pool (MaxPooling2D)   (None, 14, 14, 512)       0         \n",
            "_________________________________________________________________\n",
            "block5_conv1 (Conv2D)        (None, 14, 14, 512)       2359808   \n",
            "_________________________________________________________________\n",
            "block5_conv2 (Conv2D)        (None, 14, 14, 512)       2359808   \n",
            "_________________________________________________________________\n",
            "block5_conv3 (Conv2D)        (None, 14, 14, 512)       2359808   \n",
            "_________________________________________________________________\n",
            "block5_pool (MaxPooling2D)   (None, 7, 7, 512)         0         \n",
            "_________________________________________________________________\n",
            "flatten (Flatten)            (None, 25088)             0         \n",
            "_________________________________________________________________\n",
            "fc1 (Dense)                  (None, 4096)              102764544 \n",
            "_________________________________________________________________\n",
            "fc2 (Dense)                  (None, 4096)              16781312  \n",
            "_________________________________________________________________\n",
            "dropout_1 (Dropout)          (None, 4096)              0         \n",
            "_________________________________________________________________\n",
            "dropout_2 (Dropout)          (None, 4096)              0         \n",
            "_________________________________________________________________\n",
            "dense_1 (Dense)              (None, 4)                 16388     \n",
            "=================================================================\n",
            "Total params: 134,276,932\n",
            "Trainable params: 119,562,244\n",
            "Non-trainable params: 14,714,688\n",
            "_________________________________________________________________\n"
          ],
          "name": "stdout"
        }
      ]
    },
    {
      "cell_type": "code",
      "metadata": {
        "id": "H6dGNtWtZVuK",
        "colab_type": "code",
        "colab": {
          "base_uri": "https://localhost:8080/",
          "height": 1000
        },
        "outputId": "8deae697-8e5e-4eb7-b85b-8259b5e3bd44"
      },
      "source": [
        "from keras.callbacks import ModelCheckpoint, EarlyStopping\n",
        "checkpoint = ModelCheckpoint(\"/content/drive/My Drive/Best models/model_m_1.h5\", monitor='val_accuracy', verbose=1, save_best_only=True, save_weights_only=False, mode='auto', period=1)\n",
        "early = EarlyStopping(monitor='val_acc', min_delta=0, patience=10, verbose=1, mode='auto')\n",
        "hist=model_final.fit_generator(traindata, steps_per_epoch=10,epochs= 200, validation_data= testdata,validation_steps=10, callbacks=[checkpoint,early])"
      ],
      "execution_count": null,
      "outputs": [
        {
          "output_type": "stream",
          "text": [
            "Epoch 1/200\n",
            "10/10 [==============================] - 379s 38s/step - loss: 1.9599 - accuracy: 0.4938 - val_loss: 1.0354 - val_accuracy: 0.7365\n",
            "\n",
            "Epoch 00001: val_accuracy improved from -inf to 0.73649, saving model to /content/drive/My Drive/Best models/model_m_1.h5\n"
          ],
          "name": "stdout"
        },
        {
          "output_type": "stream",
          "text": [
            "/usr/local/lib/python3.6/dist-packages/keras/callbacks/callbacks.py:846: RuntimeWarning: Early stopping conditioned on metric `val_acc` which is not available. Available metrics are: val_loss,val_accuracy,loss,accuracy\n",
            "  (self.monitor, ','.join(list(logs.keys()))), RuntimeWarning\n"
          ],
          "name": "stderr"
        },
        {
          "output_type": "stream",
          "text": [
            "Epoch 2/200\n",
            "10/10 [==============================] - 295s 30s/step - loss: 1.2262 - accuracy: 0.6031 - val_loss: 0.8150 - val_accuracy: 0.7331\n",
            "\n",
            "Epoch 00002: val_accuracy did not improve from 0.73649\n",
            "Epoch 3/200\n",
            "10/10 [==============================] - 279s 28s/step - loss: 1.2363 - accuracy: 0.5844 - val_loss: 0.5233 - val_accuracy: 0.7022\n",
            "\n",
            "Epoch 00003: val_accuracy did not improve from 0.73649\n",
            "Epoch 4/200\n",
            "10/10 [==============================] - 289s 29s/step - loss: 0.7636 - accuracy: 0.7437 - val_loss: 0.6385 - val_accuracy: 0.7770\n",
            "\n",
            "Epoch 00004: val_accuracy improved from 0.73649 to 0.77703, saving model to /content/drive/My Drive/Best models/model_m_1.h5\n",
            "Epoch 5/200\n",
            "10/10 [==============================] - 287s 29s/step - loss: 0.7182 - accuracy: 0.7344 - val_loss: 0.6016 - val_accuracy: 0.7868\n",
            "\n",
            "Epoch 00005: val_accuracy improved from 0.77703 to 0.78676, saving model to /content/drive/My Drive/Best models/model_m_1.h5\n",
            "Epoch 6/200\n",
            "10/10 [==============================] - 295s 29s/step - loss: 0.6195 - accuracy: 0.7656 - val_loss: 0.6034 - val_accuracy: 0.8209\n",
            "\n",
            "Epoch 00006: val_accuracy improved from 0.78676 to 0.82095, saving model to /content/drive/My Drive/Best models/model_m_1.h5\n",
            "Epoch 7/200\n",
            "10/10 [==============================] - 284s 28s/step - loss: 0.5914 - accuracy: 0.7406 - val_loss: 0.1854 - val_accuracy: 0.7757\n",
            "\n",
            "Epoch 00007: val_accuracy did not improve from 0.82095\n",
            "Epoch 8/200\n",
            "10/10 [==============================] - 293s 29s/step - loss: 0.5252 - accuracy: 0.7906 - val_loss: 0.8217 - val_accuracy: 0.7973\n",
            "\n",
            "Epoch 00008: val_accuracy did not improve from 0.82095\n",
            "Epoch 9/200\n",
            "10/10 [==============================] - 291s 29s/step - loss: 0.4814 - accuracy: 0.8344 - val_loss: 0.4336 - val_accuracy: 0.8378\n",
            "\n",
            "Epoch 00009: val_accuracy improved from 0.82095 to 0.83784, saving model to /content/drive/My Drive/Best models/model_m_1.h5\n",
            "Epoch 10/200\n",
            "10/10 [==============================] - 284s 28s/step - loss: 0.4479 - accuracy: 0.8250 - val_loss: 0.4828 - val_accuracy: 0.7721\n",
            "\n",
            "Epoch 00010: val_accuracy did not improve from 0.83784\n",
            "Epoch 11/200\n",
            "10/10 [==============================] - 293s 29s/step - loss: 0.4410 - accuracy: 0.8219 - val_loss: 0.4614 - val_accuracy: 0.7905\n",
            "\n",
            "Epoch 00011: val_accuracy did not improve from 0.83784\n",
            "Epoch 12/200\n",
            "10/10 [==============================] - 280s 28s/step - loss: 0.3923 - accuracy: 0.8687 - val_loss: 0.4668 - val_accuracy: 0.8088\n",
            "\n",
            "Epoch 00012: val_accuracy did not improve from 0.83784\n",
            "Epoch 13/200\n",
            "10/10 [==============================] - 289s 29s/step - loss: 0.3834 - accuracy: 0.8406 - val_loss: 0.7399 - val_accuracy: 0.8378\n",
            "\n",
            "Epoch 00013: val_accuracy did not improve from 0.83784\n",
            "Epoch 14/200\n",
            "10/10 [==============================] - 279s 28s/step - loss: 0.3555 - accuracy: 0.8687 - val_loss: 0.1207 - val_accuracy: 0.8272\n",
            "\n",
            "Epoch 00014: val_accuracy did not improve from 0.83784\n",
            "Epoch 15/200\n",
            "10/10 [==============================] - 291s 29s/step - loss: 0.3107 - accuracy: 0.8813 - val_loss: 0.3750 - val_accuracy: 0.8615\n",
            "\n",
            "Epoch 00015: val_accuracy improved from 0.83784 to 0.86149, saving model to /content/drive/My Drive/Best models/model_m_1.h5\n",
            "Epoch 16/200\n",
            "10/10 [==============================] - 294s 29s/step - loss: 0.3309 - accuracy: 0.8906 - val_loss: 0.5331 - val_accuracy: 0.8378\n",
            "\n",
            "Epoch 00016: val_accuracy did not improve from 0.86149\n",
            "Epoch 17/200\n",
            "10/10 [==============================] - 280s 28s/step - loss: 0.2254 - accuracy: 0.9094 - val_loss: 0.3702 - val_accuracy: 0.8125\n",
            "\n",
            "Epoch 00017: val_accuracy did not improve from 0.86149\n",
            "Epoch 18/200\n",
            "10/10 [==============================] - 292s 29s/step - loss: 0.2783 - accuracy: 0.9125 - val_loss: 0.0953 - val_accuracy: 0.8547\n",
            "\n",
            "Epoch 00018: val_accuracy did not improve from 0.86149\n",
            "Epoch 19/200\n",
            "10/10 [==============================] - 281s 28s/step - loss: 0.1967 - accuracy: 0.9250 - val_loss: 0.7049 - val_accuracy: 0.8162\n",
            "\n",
            "Epoch 00019: val_accuracy did not improve from 0.86149\n",
            "Epoch 20/200\n",
            "10/10 [==============================] - 290s 29s/step - loss: 0.2489 - accuracy: 0.9125 - val_loss: 0.3561 - val_accuracy: 0.8480\n",
            "\n",
            "Epoch 00020: val_accuracy did not improve from 0.86149\n",
            "Epoch 21/200\n",
            "10/10 [==============================] - 279s 28s/step - loss: 0.1715 - accuracy: 0.9125 - val_loss: 0.1013 - val_accuracy: 0.8419\n",
            "\n",
            "Epoch 00021: val_accuracy did not improve from 0.86149\n",
            "Epoch 22/200\n",
            "10/10 [==============================] - 290s 29s/step - loss: 0.1946 - accuracy: 0.9344 - val_loss: 0.8204 - val_accuracy: 0.8311\n",
            "\n",
            "Epoch 00022: val_accuracy did not improve from 0.86149\n",
            "Epoch 23/200\n",
            "10/10 [==============================] - 289s 29s/step - loss: 0.1503 - accuracy: 0.9438 - val_loss: 0.1916 - val_accuracy: 0.8649\n",
            "\n",
            "Epoch 00023: val_accuracy improved from 0.86149 to 0.86486, saving model to /content/drive/My Drive/Best models/model_m_1.h5\n",
            "Epoch 24/200\n",
            "10/10 [==============================] - 285s 28s/step - loss: 0.1250 - accuracy: 0.9625 - val_loss: 0.3561 - val_accuracy: 0.8640\n",
            "\n",
            "Epoch 00024: val_accuracy did not improve from 0.86486\n",
            "Epoch 25/200\n",
            "10/10 [==============================] - 290s 29s/step - loss: 0.0919 - accuracy: 0.9656 - val_loss: 0.5657 - val_accuracy: 0.8480\n",
            "\n",
            "Epoch 00025: val_accuracy did not improve from 0.86486\n",
            "Epoch 26/200\n",
            "10/10 [==============================] - 280s 28s/step - loss: 0.0865 - accuracy: 0.9656 - val_loss: 0.1948 - val_accuracy: 0.8603\n",
            "\n",
            "Epoch 00026: val_accuracy did not improve from 0.86486\n",
            "Epoch 27/200\n",
            "10/10 [==============================] - 290s 29s/step - loss: 0.0513 - accuracy: 0.9844 - val_loss: 0.5202 - val_accuracy: 0.8378\n",
            "\n",
            "Epoch 00027: val_accuracy did not improve from 0.86486\n",
            "Epoch 28/200\n",
            "10/10 [==============================] - 281s 28s/step - loss: 0.0585 - accuracy: 0.9750 - val_loss: 0.2851 - val_accuracy: 0.8456\n",
            "\n",
            "Epoch 00028: val_accuracy did not improve from 0.86486\n",
            "Epoch 29/200\n",
            "10/10 [==============================] - 289s 29s/step - loss: 0.0547 - accuracy: 0.9688 - val_loss: 0.5776 - val_accuracy: 0.8446\n",
            "\n",
            "Epoch 00029: val_accuracy did not improve from 0.86486\n",
            "Epoch 30/200\n",
            "10/10 [==============================] - 290s 29s/step - loss: 0.0521 - accuracy: 0.9812 - val_loss: 0.7663 - val_accuracy: 0.8446\n",
            "\n",
            "Epoch 00030: val_accuracy did not improve from 0.86486\n",
            "Epoch 31/200\n",
            "10/10 [==============================] - 281s 28s/step - loss: 0.0518 - accuracy: 0.9812 - val_loss: 0.8647 - val_accuracy: 0.8382\n",
            "\n",
            "Epoch 00031: val_accuracy did not improve from 0.86486\n",
            "Epoch 32/200\n",
            "10/10 [==============================] - 292s 29s/step - loss: 0.0213 - accuracy: 0.9906 - val_loss: 0.5051 - val_accuracy: 0.8649\n",
            "\n",
            "Epoch 00032: val_accuracy did not improve from 0.86486\n",
            "Epoch 33/200\n",
            "10/10 [==============================] - 280s 28s/step - loss: 0.0293 - accuracy: 0.9812 - val_loss: 0.7477 - val_accuracy: 0.8456\n",
            "\n",
            "Epoch 00033: val_accuracy did not improve from 0.86486\n",
            "Epoch 34/200\n",
            "10/10 [==============================] - 292s 29s/step - loss: 0.0585 - accuracy: 0.9812 - val_loss: 0.8158 - val_accuracy: 0.8615\n",
            "\n",
            "Epoch 00034: val_accuracy did not improve from 0.86486\n",
            "Epoch 35/200\n",
            "10/10 [==============================] - 280s 28s/step - loss: 0.0326 - accuracy: 0.9844 - val_loss: 1.4810 - val_accuracy: 0.8640\n",
            "\n",
            "Epoch 00035: val_accuracy did not improve from 0.86486\n",
            "Epoch 36/200\n",
            "10/10 [==============================] - 292s 29s/step - loss: 0.0177 - accuracy: 0.9937 - val_loss: 0.7576 - val_accuracy: 0.8547\n",
            "\n",
            "Epoch 00036: val_accuracy did not improve from 0.86486\n",
            "Epoch 37/200\n",
            "10/10 [==============================] - 290s 29s/step - loss: 0.0118 - accuracy: 0.9969 - val_loss: 0.9097 - val_accuracy: 0.8615\n",
            "\n",
            "Epoch 00037: val_accuracy did not improve from 0.86486\n",
            "Epoch 38/200\n",
            "10/10 [==============================] - 280s 28s/step - loss: 0.0509 - accuracy: 0.9969 - val_loss: 0.5524 - val_accuracy: 0.8787\n",
            "\n",
            "Epoch 00038: val_accuracy improved from 0.86486 to 0.87868, saving model to /content/drive/My Drive/Best models/model_m_1.h5\n",
            "Epoch 39/200\n",
            "10/10 [==============================] - 296s 30s/step - loss: 0.0059 - accuracy: 0.9969 - val_loss: 0.8210 - val_accuracy: 0.8581\n",
            "\n",
            "Epoch 00039: val_accuracy did not improve from 0.87868\n",
            "Epoch 40/200\n",
            "10/10 [==============================] - 279s 28s/step - loss: 0.0110 - accuracy: 0.9969 - val_loss: 0.8865 - val_accuracy: 0.8676\n",
            "\n",
            "Epoch 00040: val_accuracy did not improve from 0.87868\n",
            "Epoch 41/200\n",
            "10/10 [==============================] - 290s 29s/step - loss: 0.0091 - accuracy: 0.9969 - val_loss: 0.9051 - val_accuracy: 0.8716\n",
            "\n",
            "Epoch 00041: val_accuracy did not improve from 0.87868\n",
            "Epoch 42/200\n",
            "10/10 [==============================] - 280s 28s/step - loss: 0.0032 - accuracy: 1.0000 - val_loss: 0.4268 - val_accuracy: 0.8860\n",
            "\n",
            "Epoch 00042: val_accuracy improved from 0.87868 to 0.88603, saving model to /content/drive/My Drive/Best models/model_m_1.h5\n",
            "Epoch 43/200\n",
            "10/10 [==============================] - 295s 30s/step - loss: 0.0081 - accuracy: 0.9969 - val_loss: 0.7316 - val_accuracy: 0.8682\n",
            "\n",
            "Epoch 00043: val_accuracy did not improve from 0.88603\n",
            "Epoch 44/200\n",
            "10/10 [==============================] - 291s 29s/step - loss: 0.0114 - accuracy: 0.9969 - val_loss: 0.9492 - val_accuracy: 0.8784\n",
            "\n",
            "Epoch 00044: val_accuracy did not improve from 0.88603\n",
            "Epoch 45/200\n",
            "10/10 [==============================] - 280s 28s/step - loss: 0.0097 - accuracy: 0.9937 - val_loss: 0.3568 - val_accuracy: 0.8713\n",
            "\n",
            "Epoch 00045: val_accuracy did not improve from 0.88603\n",
            "Epoch 46/200\n",
            "10/10 [==============================] - 291s 29s/step - loss: 0.0054 - accuracy: 1.0000 - val_loss: 0.8633 - val_accuracy: 0.8615\n",
            "\n",
            "Epoch 00046: val_accuracy did not improve from 0.88603\n",
            "Epoch 47/200\n",
            "10/10 [==============================] - 281s 28s/step - loss: 0.0024 - accuracy: 1.0000 - val_loss: 0.9182 - val_accuracy: 0.8382\n",
            "\n",
            "Epoch 00047: val_accuracy did not improve from 0.88603\n",
            "Epoch 48/200\n",
            "10/10 [==============================] - 292s 29s/step - loss: 0.0038 - accuracy: 0.9969 - val_loss: 1.3240 - val_accuracy: 0.8682\n",
            "\n",
            "Epoch 00048: val_accuracy did not improve from 0.88603\n",
            "Epoch 49/200\n",
            "10/10 [==============================] - 281s 28s/step - loss: 0.0074 - accuracy: 0.9969 - val_loss: 0.4887 - val_accuracy: 0.8750\n",
            "\n",
            "Epoch 00049: val_accuracy did not improve from 0.88603\n",
            "Epoch 50/200\n",
            "10/10 [==============================] - 292s 29s/step - loss: 0.0041 - accuracy: 1.0000 - val_loss: 0.3662 - val_accuracy: 0.8547\n",
            "\n",
            "Epoch 00050: val_accuracy did not improve from 0.88603\n",
            "Epoch 51/200\n",
            "10/10 [==============================] - 291s 29s/step - loss: 9.9464e-04 - accuracy: 1.0000 - val_loss: 0.8757 - val_accuracy: 0.8716\n",
            "\n",
            "Epoch 00051: val_accuracy did not improve from 0.88603\n",
            "Epoch 52/200\n",
            "10/10 [==============================] - 280s 28s/step - loss: 0.0021 - accuracy: 1.0000 - val_loss: 1.5470 - val_accuracy: 0.8566\n",
            "\n",
            "Epoch 00052: val_accuracy did not improve from 0.88603\n",
            "Epoch 53/200\n",
            "10/10 [==============================] - 290s 29s/step - loss: 0.0019 - accuracy: 1.0000 - val_loss: 0.6962 - val_accuracy: 0.8750\n",
            "\n",
            "Epoch 00053: val_accuracy did not improve from 0.88603\n",
            "Epoch 54/200\n",
            "10/10 [==============================] - 280s 28s/step - loss: 0.0015 - accuracy: 1.0000 - val_loss: 0.5811 - val_accuracy: 0.8603\n",
            "\n",
            "Epoch 00054: val_accuracy did not improve from 0.88603\n",
            "Epoch 55/200\n",
            "10/10 [==============================] - 292s 29s/step - loss: 0.0012 - accuracy: 1.0000 - val_loss: 0.4142 - val_accuracy: 0.8547\n",
            "\n",
            "Epoch 00055: val_accuracy did not improve from 0.88603\n",
            "Epoch 56/200\n",
            "10/10 [==============================] - 280s 28s/step - loss: 0.0031 - accuracy: 0.9969 - val_loss: 4.0496 - val_accuracy: 0.8676\n",
            "\n",
            "Epoch 00056: val_accuracy did not improve from 0.88603\n",
            "Epoch 57/200\n",
            "10/10 [==============================] - 290s 29s/step - loss: 0.0013 - accuracy: 1.0000 - val_loss: 0.6830 - val_accuracy: 0.8649\n",
            "\n",
            "Epoch 00057: val_accuracy did not improve from 0.88603\n",
            "Epoch 58/200\n",
            "10/10 [==============================] - 291s 29s/step - loss: 0.0033 - accuracy: 0.9969 - val_loss: 1.4293 - val_accuracy: 0.8514\n",
            "\n",
            "Epoch 00058: val_accuracy did not improve from 0.88603\n",
            "Epoch 59/200\n",
            "10/10 [==============================] - 280s 28s/step - loss: 0.0052 - accuracy: 0.9969 - val_loss: 0.6053 - val_accuracy: 0.8493\n",
            "\n",
            "Epoch 00059: val_accuracy did not improve from 0.88603\n",
            "Epoch 60/200\n",
            "10/10 [==============================] - 292s 29s/step - loss: 0.0034 - accuracy: 0.9969 - val_loss: 0.0795 - val_accuracy: 0.8581\n",
            "\n",
            "Epoch 00060: val_accuracy did not improve from 0.88603\n",
            "Epoch 61/200\n",
            "10/10 [==============================] - 281s 28s/step - loss: 0.0039 - accuracy: 1.0000 - val_loss: 0.8237 - val_accuracy: 0.8750\n",
            "\n",
            "Epoch 00061: val_accuracy did not improve from 0.88603\n",
            "Epoch 62/200\n",
            "10/10 [==============================] - 291s 29s/step - loss: 2.8345e-04 - accuracy: 1.0000 - val_loss: 0.2952 - val_accuracy: 0.8750\n",
            "\n",
            "Epoch 00062: val_accuracy did not improve from 0.88603\n",
            "Epoch 63/200\n",
            "10/10 [==============================] - 280s 28s/step - loss: 0.0024 - accuracy: 1.0000 - val_loss: 0.0044 - val_accuracy: 0.8603\n",
            "\n",
            "Epoch 00063: val_accuracy did not improve from 0.88603\n",
            "Epoch 64/200\n",
            "10/10 [==============================] - 290s 29s/step - loss: 7.8103e-04 - accuracy: 1.0000 - val_loss: 1.2233 - val_accuracy: 0.8581\n",
            "\n",
            "Epoch 00064: val_accuracy did not improve from 0.88603\n",
            "Epoch 65/200\n",
            "10/10 [==============================] - 290s 29s/step - loss: 5.9001e-04 - accuracy: 1.0000 - val_loss: 1.0199 - val_accuracy: 0.8750\n",
            "\n",
            "Epoch 00065: val_accuracy did not improve from 0.88603\n",
            "Epoch 66/200\n",
            "10/10 [==============================] - 279s 28s/step - loss: 2.0679e-04 - accuracy: 1.0000 - val_loss: 0.8327 - val_accuracy: 0.8750\n",
            "\n",
            "Epoch 00066: val_accuracy did not improve from 0.88603\n",
            "Epoch 67/200\n",
            "10/10 [==============================] - 290s 29s/step - loss: 2.2308e-04 - accuracy: 1.0000 - val_loss: 1.1324 - val_accuracy: 0.8750\n",
            "\n",
            "Epoch 00067: val_accuracy did not improve from 0.88603\n",
            "Epoch 68/200\n",
            "10/10 [==============================] - 280s 28s/step - loss: 1.6518e-04 - accuracy: 1.0000 - val_loss: 0.6791 - val_accuracy: 0.8566\n",
            "\n",
            "Epoch 00068: val_accuracy did not improve from 0.88603\n",
            "Epoch 69/200\n",
            "10/10 [==============================] - 291s 29s/step - loss: 3.1891e-04 - accuracy: 1.0000 - val_loss: 0.9155 - val_accuracy: 0.8615\n",
            "\n",
            "Epoch 00069: val_accuracy did not improve from 0.88603\n",
            "Epoch 70/200\n",
            "10/10 [==============================] - 281s 28s/step - loss: 1.3052e-04 - accuracy: 1.0000 - val_loss: 1.6923 - val_accuracy: 0.8860\n",
            "\n",
            "Epoch 00070: val_accuracy did not improve from 0.88603\n",
            "Epoch 71/200\n",
            "10/10 [==============================] - 291s 29s/step - loss: 3.4963e-04 - accuracy: 1.0000 - val_loss: 1.8175 - val_accuracy: 0.8514\n",
            "\n",
            "Epoch 00071: val_accuracy did not improve from 0.88603\n",
            "Epoch 72/200\n",
            "10/10 [==============================] - 292s 29s/step - loss: 1.8941e-04 - accuracy: 1.0000 - val_loss: 0.5524 - val_accuracy: 0.8986\n",
            "\n",
            "Epoch 00072: val_accuracy improved from 0.88603 to 0.89865, saving model to /content/drive/My Drive/Best models/model_m_1.h5\n",
            "Epoch 73/200\n",
            "10/10 [==============================] - 286s 29s/step - loss: 6.6026e-05 - accuracy: 1.0000 - val_loss: 0.5182 - val_accuracy: 0.8787\n",
            "\n",
            "Epoch 00073: val_accuracy did not improve from 0.89865\n",
            "Epoch 74/200\n",
            "10/10 [==============================] - 293s 29s/step - loss: 7.4938e-05 - accuracy: 1.0000 - val_loss: 1.1652 - val_accuracy: 0.8649\n",
            "\n",
            "Epoch 00074: val_accuracy did not improve from 0.89865\n",
            "Epoch 75/200\n",
            "10/10 [==============================] - 281s 28s/step - loss: 1.1409e-04 - accuracy: 1.0000 - val_loss: 0.4364 - val_accuracy: 0.8824\n",
            "\n",
            "Epoch 00075: val_accuracy did not improve from 0.89865\n",
            "Epoch 76/200\n",
            "10/10 [==============================] - 292s 29s/step - loss: 1.4372e-05 - accuracy: 1.0000 - val_loss: 0.2742 - val_accuracy: 0.8818\n",
            "\n",
            "Epoch 00076: val_accuracy did not improve from 0.89865\n",
            "Epoch 77/200\n",
            "10/10 [==============================] - 281s 28s/step - loss: 3.3956e-04 - accuracy: 1.0000 - val_loss: 0.6072 - val_accuracy: 0.8640\n",
            "\n",
            "Epoch 00077: val_accuracy did not improve from 0.89865\n",
            "Epoch 78/200\n",
            "10/10 [==============================] - 291s 29s/step - loss: 1.3817e-04 - accuracy: 1.0000 - val_loss: 0.2039 - val_accuracy: 0.8885\n",
            "\n",
            "Epoch 00078: val_accuracy did not improve from 0.89865\n",
            "Epoch 79/200\n",
            "10/10 [==============================] - 291s 29s/step - loss: 1.0334e-04 - accuracy: 1.0000 - val_loss: 0.8513 - val_accuracy: 0.8514\n",
            "\n",
            "Epoch 00079: val_accuracy did not improve from 0.89865\n",
            "Epoch 80/200\n",
            "10/10 [==============================] - 279s 28s/step - loss: 5.5554e-05 - accuracy: 1.0000 - val_loss: 0.8559 - val_accuracy: 0.8787\n",
            "\n",
            "Epoch 00080: val_accuracy did not improve from 0.89865\n",
            "Epoch 81/200\n",
            "10/10 [==============================] - 292s 29s/step - loss: 8.5605e-05 - accuracy: 1.0000 - val_loss: 0.9935 - val_accuracy: 0.8716\n",
            "\n",
            "Epoch 00081: val_accuracy did not improve from 0.89865\n",
            "Epoch 82/200\n",
            "10/10 [==============================] - 281s 28s/step - loss: 5.0549e-05 - accuracy: 1.0000 - val_loss: 1.5422 - val_accuracy: 0.8603\n",
            "\n",
            "Epoch 00082: val_accuracy did not improve from 0.89865\n",
            "Epoch 83/200\n",
            "10/10 [==============================] - 291s 29s/step - loss: 3.8653e-05 - accuracy: 1.0000 - val_loss: 0.9889 - val_accuracy: 0.8784\n",
            "\n",
            "Epoch 00083: val_accuracy did not improve from 0.89865\n",
            "Epoch 84/200\n",
            "10/10 [==============================] - 280s 28s/step - loss: 2.4809e-05 - accuracy: 1.0000 - val_loss: 0.0011 - val_accuracy: 0.8750\n",
            "\n",
            "Epoch 00084: val_accuracy did not improve from 0.89865\n",
            "Epoch 85/200\n",
            "10/10 [==============================] - 292s 29s/step - loss: 5.8903e-05 - accuracy: 1.0000 - val_loss: 1.0080 - val_accuracy: 0.8716\n",
            "\n",
            "Epoch 00085: val_accuracy did not improve from 0.89865\n",
            "Epoch 86/200\n",
            "10/10 [==============================] - 292s 29s/step - loss: 2.4756e-05 - accuracy: 1.0000 - val_loss: 0.6198 - val_accuracy: 0.8682\n",
            "\n",
            "Epoch 00086: val_accuracy did not improve from 0.89865\n",
            "Epoch 87/200\n",
            "10/10 [==============================] - 281s 28s/step - loss: 2.4743e-05 - accuracy: 1.0000 - val_loss: 0.2455 - val_accuracy: 0.8787\n",
            "\n",
            "Epoch 00087: val_accuracy did not improve from 0.89865\n",
            "Epoch 88/200\n",
            "10/10 [==============================] - 290s 29s/step - loss: 5.7168e-05 - accuracy: 1.0000 - val_loss: 0.5830 - val_accuracy: 0.8649\n",
            "\n",
            "Epoch 00088: val_accuracy did not improve from 0.89865\n",
            "Epoch 89/200\n",
            "10/10 [==============================] - 280s 28s/step - loss: 6.4342e-05 - accuracy: 1.0000 - val_loss: 1.7857 - val_accuracy: 0.8676\n",
            "\n",
            "Epoch 00089: val_accuracy did not improve from 0.89865\n",
            "Epoch 90/200\n",
            "10/10 [==============================] - 291s 29s/step - loss: 1.1358e-05 - accuracy: 1.0000 - val_loss: 1.8425 - val_accuracy: 0.8885\n",
            "\n",
            "Epoch 00090: val_accuracy did not improve from 0.89865\n",
            "Epoch 91/200\n",
            "10/10 [==============================] - 279s 28s/step - loss: 2.1767e-05 - accuracy: 1.0000 - val_loss: 1.2305 - val_accuracy: 0.8603\n",
            "\n",
            "Epoch 00091: val_accuracy did not improve from 0.89865\n",
            "Epoch 92/200\n",
            "10/10 [==============================] - 290s 29s/step - loss: 2.9976e-05 - accuracy: 1.0000 - val_loss: 1.6102 - val_accuracy: 0.8682\n",
            "\n",
            "Epoch 00092: val_accuracy did not improve from 0.89865\n",
            "Epoch 93/200\n",
            "10/10 [==============================] - 292s 29s/step - loss: 2.5617e-05 - accuracy: 1.0000 - val_loss: 0.7225 - val_accuracy: 0.8851\n",
            "\n",
            "Epoch 00093: val_accuracy did not improve from 0.89865\n",
            "Epoch 94/200\n",
            "10/10 [==============================] - 280s 28s/step - loss: 1.5104e-05 - accuracy: 1.0000 - val_loss: 0.0475 - val_accuracy: 0.8824\n",
            "\n",
            "Epoch 00094: val_accuracy did not improve from 0.89865\n",
            "Epoch 95/200\n",
            "10/10 [==============================] - 290s 29s/step - loss: 6.0134e-05 - accuracy: 1.0000 - val_loss: 0.9826 - val_accuracy: 0.8716\n",
            "\n",
            "Epoch 00095: val_accuracy did not improve from 0.89865\n",
            "Epoch 96/200\n",
            "10/10 [==============================] - 279s 28s/step - loss: 1.3351e-05 - accuracy: 1.0000 - val_loss: 1.2591 - val_accuracy: 0.8676\n",
            "\n",
            "Epoch 00096: val_accuracy did not improve from 0.89865\n",
            "Epoch 97/200\n",
            "10/10 [==============================] - 290s 29s/step - loss: 5.4187e-06 - accuracy: 1.0000 - val_loss: 1.3889 - val_accuracy: 0.8750\n",
            "\n",
            "Epoch 00097: val_accuracy did not improve from 0.89865\n",
            "Epoch 98/200\n",
            "10/10 [==============================] - 281s 28s/step - loss: 1.6704e-05 - accuracy: 1.0000 - val_loss: 1.9282 - val_accuracy: 0.8787\n",
            "\n",
            "Epoch 00098: val_accuracy did not improve from 0.89865\n",
            "Epoch 99/200\n",
            "10/10 [==============================] - 290s 29s/step - loss: 3.9314e-05 - accuracy: 1.0000 - val_loss: 0.7343 - val_accuracy: 0.8750\n",
            "\n",
            "Epoch 00099: val_accuracy did not improve from 0.89865\n",
            "Epoch 100/200\n",
            "10/10 [==============================] - 291s 29s/step - loss: 1.1807e-05 - accuracy: 1.0000 - val_loss: 1.4549 - val_accuracy: 0.8649\n",
            "\n",
            "Epoch 00100: val_accuracy did not improve from 0.89865\n",
            "Epoch 101/200\n",
            "10/10 [==============================] - 280s 28s/step - loss: 5.9439e-05 - accuracy: 1.0000 - val_loss: 0.6097 - val_accuracy: 0.8860\n",
            "\n",
            "Epoch 00101: val_accuracy did not improve from 0.89865\n",
            "Epoch 102/200\n",
            "10/10 [==============================] - 291s 29s/step - loss: 7.8712e-06 - accuracy: 1.0000 - val_loss: 0.5693 - val_accuracy: 0.8615\n",
            "\n",
            "Epoch 00102: val_accuracy did not improve from 0.89865\n",
            "Epoch 103/200\n",
            "10/10 [==============================] - 280s 28s/step - loss: 1.6168e-05 - accuracy: 1.0000 - val_loss: 0.5822 - val_accuracy: 0.8824\n",
            "\n",
            "Epoch 00103: val_accuracy did not improve from 0.89865\n",
            "Epoch 104/200\n",
            "10/10 [==============================] - 290s 29s/step - loss: 1.2762e-04 - accuracy: 1.0000 - val_loss: 1.2509 - val_accuracy: 0.8784\n",
            "\n",
            "Epoch 00104: val_accuracy did not improve from 0.89865\n",
            "Epoch 105/200\n",
            "10/10 [==============================] - 279s 28s/step - loss: 1.9966e-05 - accuracy: 1.0000 - val_loss: 0.0818 - val_accuracy: 0.9007\n",
            "\n",
            "Epoch 00105: val_accuracy improved from 0.89865 to 0.90074, saving model to /content/drive/My Drive/Best models/model_m_1.h5\n",
            "Epoch 106/200\n",
            "10/10 [==============================] - 295s 30s/step - loss: 5.9170e-05 - accuracy: 1.0000 - val_loss: 0.7530 - val_accuracy: 0.8682\n",
            "\n",
            "Epoch 00106: val_accuracy did not improve from 0.90074\n",
            "Epoch 107/200\n",
            "10/10 [==============================] - 291s 29s/step - loss: 2.9558e-05 - accuracy: 1.0000 - val_loss: 0.3541 - val_accuracy: 0.8682\n",
            "\n",
            "Epoch 00107: val_accuracy did not improve from 0.90074\n",
            "Epoch 108/200\n",
            "10/10 [==============================] - 280s 28s/step - loss: 7.3879e-06 - accuracy: 1.0000 - val_loss: 0.5571 - val_accuracy: 0.8787\n",
            "\n",
            "Epoch 00108: val_accuracy did not improve from 0.90074\n",
            "Epoch 109/200\n",
            " 9/10 [==========================>...] - ETA: 15s - loss: 1.7922e-04 - accuracy: 1.0000"
          ],
          "name": "stdout"
        }
      ]
    },
    {
      "cell_type": "code",
      "metadata": {
        "id": "HVTVRSV8ZlQb",
        "colab_type": "code",
        "colab": {}
      },
      "source": [
        "import matplotlib.pyplot as plt\n",
        "plt.plot(hist.history[\"accuracy\"])\n",
        "plt.plot(hist.history['val_accuracy'])\n",
        " \n",
        "plt.title(\"model accuracy\")\n",
        "plt.ylabel(\"Accuracy\")\n",
        "plt.xlabel(\"Epoch\")\n",
        "plt.legend([\"Accuracy\",\"Validation Accuracy\"])\n",
        "plt.show()"
      ],
      "execution_count": null,
      "outputs": []
    },
    {
      "cell_type": "code",
      "metadata": {
        "id": "S1zKuauZZnZF",
        "colab_type": "code",
        "colab": {}
      },
      "source": [
        "plt.plot(hist.history['loss'])\n",
        "plt.plot(hist.history['val_loss'])\n",
        "plt.ylabel(\"Loss\")\n",
        "plt.xlabel(\"Epoch\")\n",
        "plt.legend([\"loss\",\"Validation Loss\"])\n",
        "plt.show()"
      ],
      "execution_count": null,
      "outputs": []
    },
    {
      "cell_type": "code",
      "metadata": {
        "id": "mscgt0FiIA3D",
        "colab_type": "code",
        "colab": {}
      },
      "source": [
        "model_final.save(\"/content/drive/My Drive/Best models/model1_1.h5\")"
      ],
      "execution_count": null,
      "outputs": []
    },
    {
      "cell_type": "code",
      "metadata": {
        "id": "1E7hce4INlu7",
        "colab_type": "code",
        "colab": {}
      },
      "source": [
        "model_cnn=keras.models.load_model(\"/content/drive/My Drive/Best models/model_n_1.h5\")"
      ],
      "execution_count": null,
      "outputs": []
    },
    {
      "cell_type": "code",
      "metadata": {
        "id": "MzvKc_3sDZ0v",
        "colab_type": "code",
        "colab": {}
      },
      "source": [
        ""
      ],
      "execution_count": null,
      "outputs": []
    },
    {
      "cell_type": "code",
      "metadata": {
        "colab_type": "code",
        "id": "Hw7iVVAxDaTf",
        "colab": {}
      },
      "source": [
        "#Confution Matrix and Classification Report\n",
        "from sklearn.metrics import classification_report, confusion_matrix\n",
        "import numpy as np\n",
        "Y_pred = model_cnn.predict_generator(testdata)\n",
        "y_pred = np.argmax(Y_pred, axis=1)\n",
        "print('Confusion Matrix')\n",
        "print(confusion_matrix(testdata.classes, y_pred))\n",
        "print('Classification Report')\n",
        "target_names = ['grade0', 'grade1', 'grade2','grade3']\n",
        "print(classification_report(testdata.classes, y_pred, target_names=target_names))"
      ],
      "execution_count": null,
      "outputs": []
    },
    {
      "cell_type": "code",
      "metadata": {
        "id": "WwAzAbBdZulp",
        "colab_type": "code",
        "colab": {}
      },
      "source": [
        "from keras.preprocessing.image import ImageDataGenerator\n",
        "from sklearn.metrics import classification_report, confusion_matrix\n",
        "\n",
        "test_datagen = ImageDataGenerator()"
      ],
      "execution_count": null,
      "outputs": []
    },
    {
      "cell_type": "code",
      "metadata": {
        "id": "GxVOVV3zZyE7",
        "colab_type": "code",
        "colab": {}
      },
      "source": [
        "validation_generator = test_datagen.flow_from_directory('/content/drive/My Drive/data-liverd/val',\n",
        "                                                        target_size=(224, 224))"
      ],
      "execution_count": null,
      "outputs": []
    },
    {
      "cell_type": "code",
      "metadata": {
        "id": "eAMUtksqjslN",
        "colab_type": "code",
        "colab": {}
      },
      "source": [
        "import numpy as np\n",
        "#Confution Matrix and Classification Report\n",
        "Y_pred = model_cnn.predict_generator(validation_generator)\n",
        "y_pred = np.argmax(Y_pred, axis=1)\n",
        "print('Confusion Matrix')\n",
        "print(confusion_matrix(validation_generator.classes, y_pred))\n",
        "print('Classification Report')\n",
        "#target_names = ['grade1', 'grade0', 'grade2','grade3']\n",
        "print(classification_report(validation_generator.classes, y_pred))"
      ],
      "execution_count": null,
      "outputs": []
    },
    {
      "cell_type": "code",
      "metadata": {
        "id": "nCeG5IC_Z6kq",
        "colab_type": "code",
        "colab": {}
      },
      "source": [
        "import os\n",
        "import numpy as np\n",
        "actual=[]\n",
        "predicted=[]\n",
        "data_path='/content/drive/My Drive/data-liverd/val'\n",
        "data_dir_list=os.listdir(data_path)\n",
        "for dataset in data_dir_list:\n",
        "  print(dataset)\n",
        "  img_list=os.listdir(data_path+'/'+dataset)\n",
        "  correctCount=0\n",
        "  wrongCount=0\n",
        "  for img in img_list:\n",
        "    img_path=data_path+'/'+dataset+'/'+img\n",
        "    input_image = image.load_img(img_path,target_size=(224,224))\n",
        "    input_image = np.asarray(input_image)\n",
        "    input_image = np.expand_dims(input_image, axis=0)\n",
        "    output = model_cnn.predict(input_image)\n",
        "    ans='grade'+str(np.argmax(output[0],axis=0))\n",
        "    if( ans in img):\n",
        "      correctCount+=1\n",
        "    else:\n",
        "      wrongCount+=1\n",
        "    actual.append(img[:6])\n",
        "    predicted.append(ans)\n",
        "  print(\"correct Count {} WrongCount {}\".format(correctCount,wrongCount))"
      ],
      "execution_count": null,
      "outputs": []
    },
    {
      "cell_type": "code",
      "metadata": {
        "id": "6Y1TLJJcXt63",
        "colab_type": "code",
        "colab": {}
      },
      "source": [
        "# Python script for confusion matrix creation. \n",
        "from sklearn.metrics import confusion_matrix \n",
        "from sklearn.metrics import accuracy_score \n",
        "from sklearn.metrics import classification_report \n",
        "results = confusion_matrix(actual, predicted) \n",
        " \n",
        "print ('Confusion Matrix :')\n",
        "print(results) \n",
        "print ('Accuracy Score :',accuracy_score(actual, predicted)) \n",
        "print ('Report : ')\n",
        "print (classification_report(actual, predicted))"
      ],
      "execution_count": null,
      "outputs": []
    },
    {
      "cell_type": "code",
      "metadata": {
        "colab_type": "code",
        "id": "YNa87qHtw8fM",
        "colab": {}
      },
      "source": [
        "import os\n",
        "import numpy as np\n",
        "actual=[]\n",
        "predicted=[]\n",
        "data_path='/content/drive/My Drive/data-liverd/val'\n",
        "data_dir_list=os.listdir(data_path)\n",
        "for dataset in data_dir_list:\n",
        "  print(dataset)\n",
        "  img_list=os.listdir(data_path+'/'+dataset)\n",
        "  correctCount=0\n",
        "  wrongCount=0\n",
        "  for img in img_list:\n",
        "    img_path=data_path+'/'+dataset+'/'+img\n",
        "    input_image = image.load_img(img_path,target_size=(224,224))\n",
        "    input_image = np.asarray(input_image)\n",
        "    input_image = np.expand_dims(input_image, axis=0)\n",
        "    output = model_final.predict(input_image)\n",
        "    ans='grade'+str(np.argmax(output[0],axis=0))\n",
        "    if( ans in img):\n",
        "      correctCount+=1\n",
        "    else:\n",
        "      wrongCount+=1\n",
        "    actual.append(img[:6])\n",
        "    predicted.append(ans)\n",
        "  print(\"correct Count {} WrongCount {}\".format(correctCount,wrongCount))"
      ],
      "execution_count": null,
      "outputs": []
    },
    {
      "cell_type": "code",
      "metadata": {
        "id": "z5Nn1DC7w70r",
        "colab_type": "code",
        "colab": {}
      },
      "source": [
        ""
      ],
      "execution_count": null,
      "outputs": []
    },
    {
      "cell_type": "code",
      "metadata": {
        "colab_type": "code",
        "id": "Wq3VzWFExC1o",
        "colab": {}
      },
      "source": [
        "# Python script for confusion matrix creation. \n",
        "from sklearn.metrics import confusion_matrix \n",
        "from sklearn.metrics import accuracy_score \n",
        "from sklearn.metrics import classification_report \n",
        "results = confusion_matrix(actual, predicted) \n",
        "\n",
        "print ('Confusion Matrix :')\n",
        "print(results) \n",
        "print ('Accuracy Score :',accuracy_score(actual, predicted)) \n",
        "print ('Report : ')\n",
        "print (classification_report(actual, predicted)) \n"
      ],
      "execution_count": null,
      "outputs": []
    },
    {
      "cell_type": "code",
      "metadata": {
        "id": "13hBXTUZwD52",
        "colab_type": "code",
        "colab": {}
      },
      "source": [
        "tr_loss,tr_acc=model_cnn.evaluate(testdata)\n",
        "tr_acc"
      ],
      "execution_count": null,
      "outputs": []
    },
    {
      "cell_type": "code",
      "metadata": {
        "id": "ntwjv8i0wHmH",
        "colab_type": "code",
        "colab": {}
      },
      "source": [
        "tr_loss,tr_acc=model_final.evaluate(traindata)\n",
        "tr_acc"
      ],
      "execution_count": null,
      "outputs": []
    },
    {
      "cell_type": "code",
      "metadata": {
        "id": "1NOM-AafyXVT",
        "colab_type": "code",
        "colab": {}
      },
      "source": [
        "tr_loss,tr_acc=model_final.evaluate(testdata)\n",
        "tr_acc"
      ],
      "execution_count": null,
      "outputs": []
    },
    {
      "cell_type": "code",
      "metadata": {
        "id": "mTNWvGsEywGT",
        "colab_type": "code",
        "colab": {}
      },
      "source": [
        "saved_model=keras.models.load_model(\"/content/drive/My Drive/Best models/model_n_1.h5\")"
      ],
      "execution_count": null,
      "outputs": []
    },
    {
      "cell_type": "code",
      "metadata": {
        "colab_type": "code",
        "id": "bIRR3fnFzXLD",
        "colab": {}
      },
      "source": [
        "tr_loss,tr_acc=saved_model.evaluate(validation_generator)\n",
        "tr_acc"
      ],
      "execution_count": null,
      "outputs": []
    },
    {
      "cell_type": "code",
      "metadata": {
        "id": "ihCmpaYAzgH4",
        "colab_type": "code",
        "colab": {}
      },
      "source": [
        ""
      ],
      "execution_count": null,
      "outputs": []
    },
    {
      "cell_type": "code",
      "metadata": {
        "colab_type": "code",
        "id": "EmEGMcRkzgyK",
        "colab": {}
      },
      "source": [
        "tr_loss,tr_acc=saved_model.evaluate(testdata)\n",
        "tr_acc"
      ],
      "execution_count": null,
      "outputs": []
    },
    {
      "cell_type": "code",
      "metadata": {
        "id": "rtN1rqlVp7ll",
        "colab_type": "code",
        "colab": {}
      },
      "source": [
        "model_final=keras.models.load_model(\"/content/drive/My Drive/Best models/model_f_1.h5\")"
      ],
      "execution_count": null,
      "outputs": []
    }
  ]
}