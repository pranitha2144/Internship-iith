{
  "nbformat": 4,
  "nbformat_minor": 0,
  "metadata": {
    "colab": {
      "name": "Copy of vgg16",
      "provenance": [],
      "collapsed_sections": [],
      "mount_file_id": "1lSBDpEuLz-XBMkEJ6NzKP6_AQRL8hGpR",
      "authorship_tag": "ABX9TyMRBeDoIfBwM2c+2W5dn6H2",
      "include_colab_link": true
    },
    "kernelspec": {
      "name": "python3",
      "display_name": "Python 3"
    }
  },
  "cells": [
    {
      "cell_type": "markdown",
      "metadata": {
        "id": "view-in-github",
        "colab_type": "text"
      },
      "source": [
        "<a href=\"https://colab.research.google.com/github/pranitha2144/Internship-iith/blob/Resnet/Copy_of_vgg16.ipynb\" target=\"_parent\"><img src=\"https://colab.research.google.com/assets/colab-badge.svg\" alt=\"Open In Colab\"/></a>"
      ]
    },
    {
      "cell_type": "code",
      "metadata": {
        "id": "PMu2eC3sYOxm",
        "colab_type": "code",
        "colab": {}
      },
      "source": [
        "import keras\n",
        "from keras.models import Model\n",
        "from keras.layers import Dense,Dropout\n",
        "from keras import optimizers\n",
        "from keras.preprocessing.image import ImageDataGenerator\n",
        "from keras.preprocessing import image\n",
        "from tensorflow.keras.applications.vgg16 import preprocess_input"
      ],
      "execution_count": 2,
      "outputs": []
    },
    {
      "cell_type": "code",
      "metadata": {
        "id": "p6rPAuwiYVPF",
        "colab_type": "code",
        "colab": {
          "base_uri": "https://localhost:8080/",
          "height": 51
        },
        "outputId": "1c21075c-43de-42f9-c6da-a710348f6cac"
      },
      "source": [
        "trdata = ImageDataGenerator()\n",
        "traindata = trdata.flow_from_directory(directory=\"/content/drive/My Drive/data_liver/train\",target_size=(224,224),batch_size=32)\n",
        "tsdata = ImageDataGenerator()\n",
        "testdata = tsdata.flow_from_directory(directory=\"/content/drive/My Drive/data_liver/val\", target_size=(224,224),batch_size=32)"
      ],
      "execution_count": 3,
      "outputs": [
        {
          "output_type": "stream",
          "text": [
            "Found 700 images belonging to 4 classes.\n",
            "Found 100 images belonging to 4 classes.\n"
          ],
          "name": "stdout"
        }
      ]
    },
    {
      "cell_type": "code",
      "metadata": {
        "id": "YEDviFOOYqSH",
        "colab_type": "code",
        "colab": {}
      },
      "source": [
        "from keras.applications.vgg16 import VGG16\n",
        "vggmodel = VGG16(weights='imagenet',include_top=True)"
      ],
      "execution_count": 4,
      "outputs": []
    },
    {
      "cell_type": "code",
      "metadata": {
        "id": "_DBVSTlUYwZt",
        "colab_type": "code",
        "colab": {
          "base_uri": "https://localhost:8080/",
          "height": 935
        },
        "outputId": "844dc5c1-8094-447b-e1ad-21245fbd976e"
      },
      "source": [
        "vggmodel.summary()"
      ],
      "execution_count": 5,
      "outputs": [
        {
          "output_type": "stream",
          "text": [
            "Model: \"vgg16\"\n",
            "_________________________________________________________________\n",
            "Layer (type)                 Output Shape              Param #   \n",
            "=================================================================\n",
            "input_1 (InputLayer)         (None, 224, 224, 3)       0         \n",
            "_________________________________________________________________\n",
            "block1_conv1 (Conv2D)        (None, 224, 224, 64)      1792      \n",
            "_________________________________________________________________\n",
            "block1_conv2 (Conv2D)        (None, 224, 224, 64)      36928     \n",
            "_________________________________________________________________\n",
            "block1_pool (MaxPooling2D)   (None, 112, 112, 64)      0         \n",
            "_________________________________________________________________\n",
            "block2_conv1 (Conv2D)        (None, 112, 112, 128)     73856     \n",
            "_________________________________________________________________\n",
            "block2_conv2 (Conv2D)        (None, 112, 112, 128)     147584    \n",
            "_________________________________________________________________\n",
            "block2_pool (MaxPooling2D)   (None, 56, 56, 128)       0         \n",
            "_________________________________________________________________\n",
            "block3_conv1 (Conv2D)        (None, 56, 56, 256)       295168    \n",
            "_________________________________________________________________\n",
            "block3_conv2 (Conv2D)        (None, 56, 56, 256)       590080    \n",
            "_________________________________________________________________\n",
            "block3_conv3 (Conv2D)        (None, 56, 56, 256)       590080    \n",
            "_________________________________________________________________\n",
            "block3_pool (MaxPooling2D)   (None, 28, 28, 256)       0         \n",
            "_________________________________________________________________\n",
            "block4_conv1 (Conv2D)        (None, 28, 28, 512)       1180160   \n",
            "_________________________________________________________________\n",
            "block4_conv2 (Conv2D)        (None, 28, 28, 512)       2359808   \n",
            "_________________________________________________________________\n",
            "block4_conv3 (Conv2D)        (None, 28, 28, 512)       2359808   \n",
            "_________________________________________________________________\n",
            "block4_pool (MaxPooling2D)   (None, 14, 14, 512)       0         \n",
            "_________________________________________________________________\n",
            "block5_conv1 (Conv2D)        (None, 14, 14, 512)       2359808   \n",
            "_________________________________________________________________\n",
            "block5_conv2 (Conv2D)        (None, 14, 14, 512)       2359808   \n",
            "_________________________________________________________________\n",
            "block5_conv3 (Conv2D)        (None, 14, 14, 512)       2359808   \n",
            "_________________________________________________________________\n",
            "block5_pool (MaxPooling2D)   (None, 7, 7, 512)         0         \n",
            "_________________________________________________________________\n",
            "flatten (Flatten)            (None, 25088)             0         \n",
            "_________________________________________________________________\n",
            "fc1 (Dense)                  (None, 4096)              102764544 \n",
            "_________________________________________________________________\n",
            "fc2 (Dense)                  (None, 4096)              16781312  \n",
            "_________________________________________________________________\n",
            "predictions (Dense)          (None, 1000)              4097000   \n",
            "=================================================================\n",
            "Total params: 138,357,544\n",
            "Trainable params: 138,357,544\n",
            "Non-trainable params: 0\n",
            "_________________________________________________________________\n"
          ],
          "name": "stdout"
        }
      ]
    },
    {
      "cell_type": "code",
      "metadata": {
        "id": "8LYBFIW-Y1vZ",
        "colab_type": "code",
        "colab": {
          "base_uri": "https://localhost:8080/",
          "height": 340
        },
        "outputId": "dac17e73-3250-4164-8bb0-63767c3aacc3"
      },
      "source": [
        "for layers in (vggmodel.layers)[:19]:\n",
        "    print(layers)\n",
        "    layers.trainable = False"
      ],
      "execution_count": 6,
      "outputs": [
        {
          "output_type": "stream",
          "text": [
            "<keras.engine.input_layer.InputLayer object at 0x7f9b26354828>\n",
            "<keras.layers.convolutional.Conv2D object at 0x7f9b6865c1d0>\n",
            "<keras.layers.convolutional.Conv2D object at 0x7f9b686a00b8>\n",
            "<keras.layers.pooling.MaxPooling2D object at 0x7f9b268e80f0>\n",
            "<keras.layers.convolutional.Conv2D object at 0x7f9b68636b70>\n",
            "<keras.layers.convolutional.Conv2D object at 0x7f9b262b3fd0>\n",
            "<keras.layers.pooling.MaxPooling2D object at 0x7f9b251f4b70>\n",
            "<keras.layers.convolutional.Conv2D object at 0x7f9b251f49b0>\n",
            "<keras.layers.convolutional.Conv2D object at 0x7f9b251fa6d8>\n",
            "<keras.layers.convolutional.Conv2D object at 0x7f9b251fae80>\n",
            "<keras.layers.pooling.MaxPooling2D object at 0x7f9b25202d68>\n",
            "<keras.layers.convolutional.Conv2D object at 0x7f9b25202b70>\n",
            "<keras.layers.convolutional.Conv2D object at 0x7f9b25207e48>\n",
            "<keras.layers.convolutional.Conv2D object at 0x7f9b252104e0>\n",
            "<keras.layers.pooling.MaxPooling2D object at 0x7f9b25210d68>\n",
            "<keras.layers.convolutional.Conv2D object at 0x7f9b25210d30>\n",
            "<keras.layers.convolutional.Conv2D object at 0x7f9b25196b00>\n",
            "<keras.layers.convolutional.Conv2D object at 0x7f9b2519c6d8>\n",
            "<keras.layers.pooling.MaxPooling2D object at 0x7f9b2519cef0>\n"
          ],
          "name": "stdout"
        }
      ]
    },
    {
      "cell_type": "code",
      "metadata": {
        "id": "spEfu2MIY3-9",
        "colab_type": "code",
        "colab": {
          "base_uri": "https://localhost:8080/",
          "height": 935
        },
        "outputId": "841599c2-f7ec-4bb9-c095-58941f414810"
      },
      "source": [
        "vggmodel.summary()"
      ],
      "execution_count": 7,
      "outputs": [
        {
          "output_type": "stream",
          "text": [
            "Model: \"vgg16\"\n",
            "_________________________________________________________________\n",
            "Layer (type)                 Output Shape              Param #   \n",
            "=================================================================\n",
            "input_1 (InputLayer)         (None, 224, 224, 3)       0         \n",
            "_________________________________________________________________\n",
            "block1_conv1 (Conv2D)        (None, 224, 224, 64)      1792      \n",
            "_________________________________________________________________\n",
            "block1_conv2 (Conv2D)        (None, 224, 224, 64)      36928     \n",
            "_________________________________________________________________\n",
            "block1_pool (MaxPooling2D)   (None, 112, 112, 64)      0         \n",
            "_________________________________________________________________\n",
            "block2_conv1 (Conv2D)        (None, 112, 112, 128)     73856     \n",
            "_________________________________________________________________\n",
            "block2_conv2 (Conv2D)        (None, 112, 112, 128)     147584    \n",
            "_________________________________________________________________\n",
            "block2_pool (MaxPooling2D)   (None, 56, 56, 128)       0         \n",
            "_________________________________________________________________\n",
            "block3_conv1 (Conv2D)        (None, 56, 56, 256)       295168    \n",
            "_________________________________________________________________\n",
            "block3_conv2 (Conv2D)        (None, 56, 56, 256)       590080    \n",
            "_________________________________________________________________\n",
            "block3_conv3 (Conv2D)        (None, 56, 56, 256)       590080    \n",
            "_________________________________________________________________\n",
            "block3_pool (MaxPooling2D)   (None, 28, 28, 256)       0         \n",
            "_________________________________________________________________\n",
            "block4_conv1 (Conv2D)        (None, 28, 28, 512)       1180160   \n",
            "_________________________________________________________________\n",
            "block4_conv2 (Conv2D)        (None, 28, 28, 512)       2359808   \n",
            "_________________________________________________________________\n",
            "block4_conv3 (Conv2D)        (None, 28, 28, 512)       2359808   \n",
            "_________________________________________________________________\n",
            "block4_pool (MaxPooling2D)   (None, 14, 14, 512)       0         \n",
            "_________________________________________________________________\n",
            "block5_conv1 (Conv2D)        (None, 14, 14, 512)       2359808   \n",
            "_________________________________________________________________\n",
            "block5_conv2 (Conv2D)        (None, 14, 14, 512)       2359808   \n",
            "_________________________________________________________________\n",
            "block5_conv3 (Conv2D)        (None, 14, 14, 512)       2359808   \n",
            "_________________________________________________________________\n",
            "block5_pool (MaxPooling2D)   (None, 7, 7, 512)         0         \n",
            "_________________________________________________________________\n",
            "flatten (Flatten)            (None, 25088)             0         \n",
            "_________________________________________________________________\n",
            "fc1 (Dense)                  (None, 4096)              102764544 \n",
            "_________________________________________________________________\n",
            "fc2 (Dense)                  (None, 4096)              16781312  \n",
            "_________________________________________________________________\n",
            "predictions (Dense)          (None, 1000)              4097000   \n",
            "=================================================================\n",
            "Total params: 138,357,544\n",
            "Trainable params: 123,642,856\n",
            "Non-trainable params: 14,714,688\n",
            "_________________________________________________________________\n"
          ],
          "name": "stdout"
        }
      ]
    },
    {
      "cell_type": "code",
      "metadata": {
        "id": "hRa7hR7-Y-XR",
        "colab_type": "code",
        "colab": {
          "base_uri": "https://localhost:8080/",
          "height": 71
        },
        "outputId": "4dcf7bc3-006d-4f35-dbb6-c1b03f8c1fe3"
      },
      "source": [
        "from tensorflow.keras import regularizers\n",
        "X= vggmodel.layers[-2].output\n",
        "fc_1=Dense(4096,activation='relu')(X)\n",
        "dr_1=Dropout(0.1)(fc_1)\n",
        "fc_2=Dense(4096, activation='relu')(dr_1)\n",
        "dr_2=Dropout(0.1)(fc_2)\n",
        "fc_3=Dense(4096,activation='relu')(dr_2)\n",
        "\n",
        "predictions = Dense(4, activation=\"softmax\")(fc_3)\n",
        "model_final = Model(input = vggmodel.input, output = predictions)"
      ],
      "execution_count": 8,
      "outputs": [
        {
          "output_type": "stream",
          "text": [
            "/usr/local/lib/python3.6/dist-packages/ipykernel_launcher.py:10: UserWarning: Update your `Model` call to the Keras 2 API: `Model(inputs=Tensor(\"in..., outputs=Tensor(\"de...)`\n",
            "  # Remove the CWD from sys.path while we load stuff.\n"
          ],
          "name": "stderr"
        }
      ]
    },
    {
      "cell_type": "code",
      "metadata": {
        "id": "1mRS_nHaZBCL",
        "colab_type": "code",
        "colab": {
          "base_uri": "https://localhost:8080/",
          "height": 1000
        },
        "outputId": "19a45d1c-35d3-4f53-bce8-7fe0ce4d0b74"
      },
      "source": [
        "model_final.summary()"
      ],
      "execution_count": 9,
      "outputs": [
        {
          "output_type": "stream",
          "text": [
            "Model: \"model_1\"\n",
            "_________________________________________________________________\n",
            "Layer (type)                 Output Shape              Param #   \n",
            "=================================================================\n",
            "input_1 (InputLayer)         (None, 224, 224, 3)       0         \n",
            "_________________________________________________________________\n",
            "block1_conv1 (Conv2D)        (None, 224, 224, 64)      1792      \n",
            "_________________________________________________________________\n",
            "block1_conv2 (Conv2D)        (None, 224, 224, 64)      36928     \n",
            "_________________________________________________________________\n",
            "block1_pool (MaxPooling2D)   (None, 112, 112, 64)      0         \n",
            "_________________________________________________________________\n",
            "block2_conv1 (Conv2D)        (None, 112, 112, 128)     73856     \n",
            "_________________________________________________________________\n",
            "block2_conv2 (Conv2D)        (None, 112, 112, 128)     147584    \n",
            "_________________________________________________________________\n",
            "block2_pool (MaxPooling2D)   (None, 56, 56, 128)       0         \n",
            "_________________________________________________________________\n",
            "block3_conv1 (Conv2D)        (None, 56, 56, 256)       295168    \n",
            "_________________________________________________________________\n",
            "block3_conv2 (Conv2D)        (None, 56, 56, 256)       590080    \n",
            "_________________________________________________________________\n",
            "block3_conv3 (Conv2D)        (None, 56, 56, 256)       590080    \n",
            "_________________________________________________________________\n",
            "block3_pool (MaxPooling2D)   (None, 28, 28, 256)       0         \n",
            "_________________________________________________________________\n",
            "block4_conv1 (Conv2D)        (None, 28, 28, 512)       1180160   \n",
            "_________________________________________________________________\n",
            "block4_conv2 (Conv2D)        (None, 28, 28, 512)       2359808   \n",
            "_________________________________________________________________\n",
            "block4_conv3 (Conv2D)        (None, 28, 28, 512)       2359808   \n",
            "_________________________________________________________________\n",
            "block4_pool (MaxPooling2D)   (None, 14, 14, 512)       0         \n",
            "_________________________________________________________________\n",
            "block5_conv1 (Conv2D)        (None, 14, 14, 512)       2359808   \n",
            "_________________________________________________________________\n",
            "block5_conv2 (Conv2D)        (None, 14, 14, 512)       2359808   \n",
            "_________________________________________________________________\n",
            "block5_conv3 (Conv2D)        (None, 14, 14, 512)       2359808   \n",
            "_________________________________________________________________\n",
            "block5_pool (MaxPooling2D)   (None, 7, 7, 512)         0         \n",
            "_________________________________________________________________\n",
            "flatten (Flatten)            (None, 25088)             0         \n",
            "_________________________________________________________________\n",
            "fc1 (Dense)                  (None, 4096)              102764544 \n",
            "_________________________________________________________________\n",
            "fc2 (Dense)                  (None, 4096)              16781312  \n",
            "_________________________________________________________________\n",
            "dense_1 (Dense)              (None, 4096)              16781312  \n",
            "_________________________________________________________________\n",
            "dropout_1 (Dropout)          (None, 4096)              0         \n",
            "_________________________________________________________________\n",
            "dense_2 (Dense)              (None, 4096)              16781312  \n",
            "_________________________________________________________________\n",
            "dropout_2 (Dropout)          (None, 4096)              0         \n",
            "_________________________________________________________________\n",
            "dense_3 (Dense)              (None, 4096)              16781312  \n",
            "_________________________________________________________________\n",
            "dense_4 (Dense)              (None, 4)                 16388     \n",
            "=================================================================\n",
            "Total params: 184,620,868\n",
            "Trainable params: 169,906,180\n",
            "Non-trainable params: 14,714,688\n",
            "_________________________________________________________________\n"
          ],
          "name": "stdout"
        }
      ]
    },
    {
      "cell_type": "code",
      "metadata": {
        "id": "WyzYX9WSZK0G",
        "colab_type": "code",
        "colab": {}
      },
      "source": [
        "model_final.compile(loss = \"categorical_crossentropy\", optimizer = keras.optimizers.Adam(lr=0.00001), metrics=[\"accuracy\"])"
      ],
      "execution_count": 10,
      "outputs": []
    },
    {
      "cell_type": "code",
      "metadata": {
        "id": "3JhPnTE8ZRmI",
        "colab_type": "code",
        "colab": {
          "base_uri": "https://localhost:8080/",
          "height": 1000
        },
        "outputId": "75baf8f5-7320-4ae5-ef5a-3f68f0084666"
      },
      "source": [
        "model_final.summary()"
      ],
      "execution_count": 11,
      "outputs": [
        {
          "output_type": "stream",
          "text": [
            "Model: \"model_1\"\n",
            "_________________________________________________________________\n",
            "Layer (type)                 Output Shape              Param #   \n",
            "=================================================================\n",
            "input_1 (InputLayer)         (None, 224, 224, 3)       0         \n",
            "_________________________________________________________________\n",
            "block1_conv1 (Conv2D)        (None, 224, 224, 64)      1792      \n",
            "_________________________________________________________________\n",
            "block1_conv2 (Conv2D)        (None, 224, 224, 64)      36928     \n",
            "_________________________________________________________________\n",
            "block1_pool (MaxPooling2D)   (None, 112, 112, 64)      0         \n",
            "_________________________________________________________________\n",
            "block2_conv1 (Conv2D)        (None, 112, 112, 128)     73856     \n",
            "_________________________________________________________________\n",
            "block2_conv2 (Conv2D)        (None, 112, 112, 128)     147584    \n",
            "_________________________________________________________________\n",
            "block2_pool (MaxPooling2D)   (None, 56, 56, 128)       0         \n",
            "_________________________________________________________________\n",
            "block3_conv1 (Conv2D)        (None, 56, 56, 256)       295168    \n",
            "_________________________________________________________________\n",
            "block3_conv2 (Conv2D)        (None, 56, 56, 256)       590080    \n",
            "_________________________________________________________________\n",
            "block3_conv3 (Conv2D)        (None, 56, 56, 256)       590080    \n",
            "_________________________________________________________________\n",
            "block3_pool (MaxPooling2D)   (None, 28, 28, 256)       0         \n",
            "_________________________________________________________________\n",
            "block4_conv1 (Conv2D)        (None, 28, 28, 512)       1180160   \n",
            "_________________________________________________________________\n",
            "block4_conv2 (Conv2D)        (None, 28, 28, 512)       2359808   \n",
            "_________________________________________________________________\n",
            "block4_conv3 (Conv2D)        (None, 28, 28, 512)       2359808   \n",
            "_________________________________________________________________\n",
            "block4_pool (MaxPooling2D)   (None, 14, 14, 512)       0         \n",
            "_________________________________________________________________\n",
            "block5_conv1 (Conv2D)        (None, 14, 14, 512)       2359808   \n",
            "_________________________________________________________________\n",
            "block5_conv2 (Conv2D)        (None, 14, 14, 512)       2359808   \n",
            "_________________________________________________________________\n",
            "block5_conv3 (Conv2D)        (None, 14, 14, 512)       2359808   \n",
            "_________________________________________________________________\n",
            "block5_pool (MaxPooling2D)   (None, 7, 7, 512)         0         \n",
            "_________________________________________________________________\n",
            "flatten (Flatten)            (None, 25088)             0         \n",
            "_________________________________________________________________\n",
            "fc1 (Dense)                  (None, 4096)              102764544 \n",
            "_________________________________________________________________\n",
            "fc2 (Dense)                  (None, 4096)              16781312  \n",
            "_________________________________________________________________\n",
            "dense_1 (Dense)              (None, 4096)              16781312  \n",
            "_________________________________________________________________\n",
            "dropout_1 (Dropout)          (None, 4096)              0         \n",
            "_________________________________________________________________\n",
            "dense_2 (Dense)              (None, 4096)              16781312  \n",
            "_________________________________________________________________\n",
            "dropout_2 (Dropout)          (None, 4096)              0         \n",
            "_________________________________________________________________\n",
            "dense_3 (Dense)              (None, 4096)              16781312  \n",
            "_________________________________________________________________\n",
            "dense_4 (Dense)              (None, 4)                 16388     \n",
            "=================================================================\n",
            "Total params: 184,620,868\n",
            "Trainable params: 169,906,180\n",
            "Non-trainable params: 14,714,688\n",
            "_________________________________________________________________\n"
          ],
          "name": "stdout"
        }
      ]
    },
    {
      "cell_type": "code",
      "metadata": {
        "id": "H6dGNtWtZVuK",
        "colab_type": "code",
        "colab": {
          "base_uri": "https://localhost:8080/",
          "height": 1000
        },
        "outputId": "616c41f2-3acd-4d86-f9a6-91f977975e31"
      },
      "source": [
        "from keras.callbacks import ModelCheckpoint, EarlyStopping\n",
        "checkpoint = ModelCheckpoint(\"/content/drive/My Drive/Best models/model_n_1.h5\", monitor='val_accuracy', verbose=1, save_best_only=True, save_weights_only=False, mode='auto', period=1)\n",
        "early = EarlyStopping(monitor='val_acc', min_delta=0, patience=10, verbose=1, mode='auto')\n",
        "hist=model_final.fit_generator(traindata,steps_per_epoch=5, epochs= 50, validation_data= testdata,validation_steps=2, callbacks=[checkpoint,early])"
      ],
      "execution_count": 12,
      "outputs": [
        {
          "output_type": "stream",
          "text": [
            "Epoch 1/50\n",
            "5/5 [==============================] - 128s 26s/step - loss: 1.2217 - accuracy: 0.4750 - val_loss: 0.7313 - val_accuracy: 0.7031\n",
            "\n",
            "Epoch 00001: val_accuracy improved from -inf to 0.70312, saving model to /content/drive/My Drive/Best models/model_n_1.h5\n"
          ],
          "name": "stdout"
        },
        {
          "output_type": "stream",
          "text": [
            "/usr/local/lib/python3.6/dist-packages/keras/callbacks/callbacks.py:846: RuntimeWarning: Early stopping conditioned on metric `val_acc` which is not available. Available metrics are: val_loss,val_accuracy,loss,accuracy\n",
            "  (self.monitor, ','.join(list(logs.keys()))), RuntimeWarning\n"
          ],
          "name": "stderr"
        },
        {
          "output_type": "stream",
          "text": [
            "Epoch 2/50\n",
            "5/5 [==============================] - 117s 23s/step - loss: 0.7290 - accuracy: 0.7563 - val_loss: 0.6372 - val_accuracy: 0.8056\n",
            "\n",
            "Epoch 00002: val_accuracy improved from 0.70312 to 0.80556, saving model to /content/drive/My Drive/Best models/model_n_1.h5\n",
            "Epoch 3/50\n",
            "5/5 [==============================] - 128s 26s/step - loss: 0.5231 - accuracy: 0.8333 - val_loss: 0.4633 - val_accuracy: 0.8125\n",
            "\n",
            "Epoch 00003: val_accuracy improved from 0.80556 to 0.81250, saving model to /content/drive/My Drive/Best models/model_n_1.h5\n",
            "Epoch 4/50\n",
            "5/5 [==============================] - 117s 23s/step - loss: 0.5845 - accuracy: 0.8062 - val_loss: 0.7829 - val_accuracy: 0.6944\n",
            "\n",
            "Epoch 00004: val_accuracy did not improve from 0.81250\n",
            "Epoch 5/50\n",
            "5/5 [==============================] - 126s 25s/step - loss: 0.4706 - accuracy: 0.8000 - val_loss: 0.4715 - val_accuracy: 0.8594\n",
            "\n",
            "Epoch 00005: val_accuracy improved from 0.81250 to 0.85938, saving model to /content/drive/My Drive/Best models/model_n_1.h5\n",
            "Epoch 6/50\n",
            "5/5 [==============================] - 118s 24s/step - loss: 0.3852 - accuracy: 0.8500 - val_loss: 0.3900 - val_accuracy: 0.9444\n",
            "\n",
            "Epoch 00006: val_accuracy improved from 0.85938 to 0.94444, saving model to /content/drive/My Drive/Best models/model_n_1.h5\n",
            "Epoch 7/50\n",
            "5/5 [==============================] - 129s 26s/step - loss: 0.4601 - accuracy: 0.8141 - val_loss: 0.7558 - val_accuracy: 0.7812\n",
            "\n",
            "Epoch 00007: val_accuracy did not improve from 0.94444\n",
            "Epoch 8/50\n",
            "5/5 [==============================] - 112s 22s/step - loss: 0.3003 - accuracy: 0.8813 - val_loss: 0.2225 - val_accuracy: 0.8611\n",
            "\n",
            "Epoch 00008: val_accuracy did not improve from 0.94444\n",
            "Epoch 9/50\n",
            "5/5 [==============================] - 123s 25s/step - loss: 0.3422 - accuracy: 0.8654 - val_loss: 0.5555 - val_accuracy: 0.8281\n",
            "\n",
            "Epoch 00009: val_accuracy did not improve from 0.94444\n",
            "Epoch 10/50\n",
            "5/5 [==============================] - 111s 22s/step - loss: 0.2602 - accuracy: 0.9000 - val_loss: 0.0500 - val_accuracy: 0.8889\n",
            "\n",
            "Epoch 00010: val_accuracy did not improve from 0.94444\n",
            "Epoch 11/50\n",
            "5/5 [==============================] - 125s 25s/step - loss: 0.3492 - accuracy: 0.8625 - val_loss: 0.3006 - val_accuracy: 0.8750\n",
            "\n",
            "Epoch 00011: val_accuracy did not improve from 0.94444\n",
            "Epoch 12/50\n",
            "5/5 [==============================] - 112s 22s/step - loss: 0.2542 - accuracy: 0.9062 - val_loss: 0.4954 - val_accuracy: 0.8611\n",
            "\n",
            "Epoch 00012: val_accuracy did not improve from 0.94444\n",
            "Epoch 13/50\n",
            "5/5 [==============================] - 125s 25s/step - loss: 0.2075 - accuracy: 0.9438 - val_loss: 0.2578 - val_accuracy: 0.8750\n",
            "\n",
            "Epoch 00013: val_accuracy did not improve from 0.94444\n",
            "Epoch 14/50\n",
            "5/5 [==============================] - 112s 22s/step - loss: 0.1965 - accuracy: 0.9312 - val_loss: 0.0422 - val_accuracy: 0.8611\n",
            "\n",
            "Epoch 00014: val_accuracy did not improve from 0.94444\n",
            "Epoch 15/50\n",
            "5/5 [==============================] - 125s 25s/step - loss: 0.2342 - accuracy: 0.9187 - val_loss: 0.3140 - val_accuracy: 0.8438\n",
            "\n",
            "Epoch 00015: val_accuracy did not improve from 0.94444\n",
            "Epoch 16/50\n",
            "5/5 [==============================] - 109s 22s/step - loss: 0.2341 - accuracy: 0.8910 - val_loss: 0.0807 - val_accuracy: 0.9444\n",
            "\n",
            "Epoch 00016: val_accuracy did not improve from 0.94444\n",
            "Epoch 17/50\n",
            "5/5 [==============================] - 126s 25s/step - loss: 0.2448 - accuracy: 0.9125 - val_loss: 0.3626 - val_accuracy: 0.8438\n",
            "\n",
            "Epoch 00017: val_accuracy did not improve from 0.94444\n",
            "Epoch 18/50\n",
            "5/5 [==============================] - 112s 22s/step - loss: 0.2006 - accuracy: 0.9500 - val_loss: 0.8320 - val_accuracy: 0.7778\n",
            "\n",
            "Epoch 00018: val_accuracy did not improve from 0.94444\n",
            "Epoch 19/50\n",
            "5/5 [==============================] - 123s 25s/step - loss: 0.1901 - accuracy: 0.9359 - val_loss: 0.2170 - val_accuracy: 0.8750\n",
            "\n",
            "Epoch 00019: val_accuracy did not improve from 0.94444\n",
            "Epoch 20/50\n",
            "5/5 [==============================] - 112s 22s/step - loss: 0.2161 - accuracy: 0.9250 - val_loss: 0.4206 - val_accuracy: 0.8611\n",
            "\n",
            "Epoch 00020: val_accuracy did not improve from 0.94444\n",
            "Epoch 21/50\n",
            "5/5 [==============================] - 125s 25s/step - loss: 0.1655 - accuracy: 0.9500 - val_loss: 0.5078 - val_accuracy: 0.8125\n",
            "\n",
            "Epoch 00021: val_accuracy did not improve from 0.94444\n",
            "Epoch 22/50\n",
            "5/5 [==============================] - 112s 22s/step - loss: 0.1277 - accuracy: 0.9625 - val_loss: 0.2960 - val_accuracy: 0.9167\n",
            "\n",
            "Epoch 00022: val_accuracy did not improve from 0.94444\n",
            "Epoch 23/50\n",
            "5/5 [==============================] - 125s 25s/step - loss: 0.1156 - accuracy: 0.9750 - val_loss: 0.1962 - val_accuracy: 0.8281\n",
            "\n",
            "Epoch 00023: val_accuracy did not improve from 0.94444\n",
            "Epoch 24/50\n",
            "5/5 [==============================] - 111s 22s/step - loss: 0.1337 - accuracy: 0.9563 - val_loss: 0.2296 - val_accuracy: 0.8611\n",
            "\n",
            "Epoch 00024: val_accuracy did not improve from 0.94444\n",
            "Epoch 25/50\n",
            "5/5 [==============================] - 126s 25s/step - loss: 0.0916 - accuracy: 0.9688 - val_loss: 0.2676 - val_accuracy: 0.8750\n",
            "\n",
            "Epoch 00025: val_accuracy did not improve from 0.94444\n",
            "Epoch 26/50\n",
            "5/5 [==============================] - 108s 22s/step - loss: 0.1625 - accuracy: 0.9295 - val_loss: 0.3032 - val_accuracy: 0.7778\n",
            "\n",
            "Epoch 00026: val_accuracy did not improve from 0.94444\n",
            "Epoch 27/50\n",
            "5/5 [==============================] - 127s 25s/step - loss: 0.0839 - accuracy: 0.9688 - val_loss: 0.4920 - val_accuracy: 0.8750\n",
            "\n",
            "Epoch 00027: val_accuracy did not improve from 0.94444\n",
            "Epoch 28/50\n",
            "5/5 [==============================] - 111s 22s/step - loss: 0.0889 - accuracy: 0.9750 - val_loss: 0.4425 - val_accuracy: 0.8611\n",
            "\n",
            "Epoch 00028: val_accuracy did not improve from 0.94444\n",
            "Epoch 29/50\n",
            "5/5 [==============================] - 125s 25s/step - loss: 0.0946 - accuracy: 0.9875 - val_loss: 0.1839 - val_accuracy: 0.8906\n",
            "\n",
            "Epoch 00029: val_accuracy did not improve from 0.94444\n",
            "Epoch 30/50\n",
            "5/5 [==============================] - 109s 22s/step - loss: 0.0686 - accuracy: 0.9808 - val_loss: 1.3415 - val_accuracy: 0.8056\n",
            "\n",
            "Epoch 00030: val_accuracy did not improve from 0.94444\n",
            "Epoch 31/50\n",
            "5/5 [==============================] - 125s 25s/step - loss: 0.0660 - accuracy: 0.9875 - val_loss: 0.1677 - val_accuracy: 0.9062\n",
            "\n",
            "Epoch 00031: val_accuracy did not improve from 0.94444\n",
            "Epoch 32/50\n",
            "5/5 [==============================] - 110s 22s/step - loss: 0.0733 - accuracy: 0.9679 - val_loss: 1.1278 - val_accuracy: 0.8611\n",
            "\n",
            "Epoch 00032: val_accuracy did not improve from 0.94444\n",
            "Epoch 33/50\n",
            "5/5 [==============================] - 124s 25s/step - loss: 0.0677 - accuracy: 0.9750 - val_loss: 0.3607 - val_accuracy: 0.8281\n",
            "\n",
            "Epoch 00033: val_accuracy did not improve from 0.94444\n",
            "Epoch 34/50\n",
            "5/5 [==============================] - 111s 22s/step - loss: 0.0661 - accuracy: 0.9750 - val_loss: 0.0389 - val_accuracy: 0.8889\n",
            "\n",
            "Epoch 00034: val_accuracy did not improve from 0.94444\n",
            "Epoch 35/50\n",
            "5/5 [==============================] - 125s 25s/step - loss: 0.0595 - accuracy: 0.9750 - val_loss: 0.1929 - val_accuracy: 0.8281\n",
            "\n",
            "Epoch 00035: val_accuracy did not improve from 0.94444\n",
            "Epoch 36/50\n",
            "5/5 [==============================] - 109s 22s/step - loss: 0.0398 - accuracy: 0.9936 - val_loss: 0.0199 - val_accuracy: 0.8889\n",
            "\n",
            "Epoch 00036: val_accuracy did not improve from 0.94444\n",
            "Epoch 37/50\n",
            "5/5 [==============================] - 124s 25s/step - loss: 0.0332 - accuracy: 0.9937 - val_loss: 0.4470 - val_accuracy: 0.8750\n",
            "\n",
            "Epoch 00037: val_accuracy did not improve from 0.94444\n",
            "Epoch 38/50\n",
            "5/5 [==============================] - 112s 22s/step - loss: 0.0397 - accuracy: 0.9875 - val_loss: 1.8104 - val_accuracy: 0.8889\n",
            "\n",
            "Epoch 00038: val_accuracy did not improve from 0.94444\n",
            "Epoch 39/50\n",
            "5/5 [==============================] - 124s 25s/step - loss: 0.0286 - accuracy: 1.0000 - val_loss: 0.3405 - val_accuracy: 0.8281\n",
            "\n",
            "Epoch 00039: val_accuracy did not improve from 0.94444\n",
            "Epoch 40/50\n",
            "5/5 [==============================] - 111s 22s/step - loss: 0.0148 - accuracy: 1.0000 - val_loss: 0.4746 - val_accuracy: 0.8889\n",
            "\n",
            "Epoch 00040: val_accuracy did not improve from 0.94444\n",
            "Epoch 41/50\n",
            "5/5 [==============================] - 125s 25s/step - loss: 0.0102 - accuracy: 1.0000 - val_loss: 0.4779 - val_accuracy: 0.8125\n",
            "\n",
            "Epoch 00041: val_accuracy did not improve from 0.94444\n",
            "Epoch 42/50\n",
            "5/5 [==============================] - 111s 22s/step - loss: 0.0208 - accuracy: 1.0000 - val_loss: 0.2904 - val_accuracy: 0.8889\n",
            "\n",
            "Epoch 00042: val_accuracy did not improve from 0.94444\n",
            "Epoch 43/50\n",
            "5/5 [==============================] - 125s 25s/step - loss: 0.0123 - accuracy: 1.0000 - val_loss: 0.4050 - val_accuracy: 0.8125\n",
            "\n",
            "Epoch 00043: val_accuracy did not improve from 0.94444\n",
            "Epoch 44/50\n",
            "5/5 [==============================] - 109s 22s/step - loss: 0.0231 - accuracy: 1.0000 - val_loss: 0.1584 - val_accuracy: 0.9444\n",
            "\n",
            "Epoch 00044: val_accuracy did not improve from 0.94444\n",
            "Epoch 45/50\n",
            "5/5 [==============================] - 124s 25s/step - loss: 0.0168 - accuracy: 1.0000 - val_loss: 0.4150 - val_accuracy: 0.9062\n",
            "\n",
            "Epoch 00045: val_accuracy did not improve from 0.94444\n",
            "Epoch 46/50\n",
            "5/5 [==============================] - 110s 22s/step - loss: 0.0145 - accuracy: 1.0000 - val_loss: 0.0746 - val_accuracy: 0.8056\n",
            "\n",
            "Epoch 00046: val_accuracy did not improve from 0.94444\n",
            "Epoch 47/50\n",
            "5/5 [==============================] - 122s 24s/step - loss: 0.0148 - accuracy: 1.0000 - val_loss: 0.4368 - val_accuracy: 0.8594\n",
            "\n",
            "Epoch 00047: val_accuracy did not improve from 0.94444\n",
            "Epoch 48/50\n",
            "5/5 [==============================] - 111s 22s/step - loss: 0.0268 - accuracy: 0.9937 - val_loss: 0.0112 - val_accuracy: 0.8889\n",
            "\n",
            "Epoch 00048: val_accuracy did not improve from 0.94444\n",
            "Epoch 49/50\n",
            "5/5 [==============================] - 126s 25s/step - loss: 0.0123 - accuracy: 1.0000 - val_loss: 0.3704 - val_accuracy: 0.8750\n",
            "\n",
            "Epoch 00049: val_accuracy did not improve from 0.94444\n",
            "Epoch 50/50\n",
            "5/5 [==============================] - 111s 22s/step - loss: 0.0113 - accuracy: 1.0000 - val_loss: 1.9017 - val_accuracy: 0.8056\n",
            "\n",
            "Epoch 00050: val_accuracy did not improve from 0.94444\n"
          ],
          "name": "stdout"
        }
      ]
    },
    {
      "cell_type": "code",
      "metadata": {
        "id": "HVTVRSV8ZlQb",
        "colab_type": "code",
        "colab": {
          "base_uri": "https://localhost:8080/",
          "height": 295
        },
        "outputId": "969ea9a0-cc8d-4fa0-9cae-da1eaf277773"
      },
      "source": [
        "import matplotlib.pyplot as plt\n",
        "plt.plot(hist.history[\"accuracy\"])\n",
        "plt.plot(hist.history['val_accuracy'])\n",
        "\n",
        "plt.title(\"model accuracy\")\n",
        "plt.ylabel(\"Accuracy\")\n",
        "plt.xlabel(\"Epoch\")\n",
        "plt.legend([\"Accuracy\",\"Validation Accuracy\"])\n",
        "plt.show()"
      ],
      "execution_count": 13,
      "outputs": [
        {
          "output_type": "display_data",
          "data": {
            "image/png": "[encoded data removed]",
            "text/plain": [
              "<Figure size 432x288 with 1 Axes>"
            ]
          },
          "metadata": {
            "tags": [],
            "needs_background": "light"
          }
        }
      ]
    },
    {
      "cell_type": "code",
      "metadata": {
        "id": "S1zKuauZZnZF",
        "colab_type": "code",
        "colab": {
          "base_uri": "https://localhost:8080/",
          "height": 279
        },
        "outputId": "24073e6a-9893-42b0-92de-d244d4e08d42"
      },
      "source": [
        "plt.plot(hist.history['loss'])\n",
        "plt.plot(hist.history['val_loss'])\n",
        "plt.ylabel(\"Loss\")\n",
        "plt.xlabel(\"Epoch\")\n",
        "plt.legend([\"loss\",\"Validation Loss\"])\n",
        "plt.show()"
      ],
      "execution_count": 14,
      "outputs": [
        {
          "output_type": "display_data",
          "data": {
            "image/png": "[encoded data removed]",
            "text/plain": [
              "<Figure size 432x288 with 1 Axes>"
            ]
          },
          "metadata": {
            "tags": [],
            "needs_background": "light"
          }
        }
      ]
    },
    {
      "cell_type": "code",
      "metadata": {
        "id": "mscgt0FiIA3D",
        "colab_type": "code",
        "colab": {}
      },
      "source": [
        "model_final.save(\"/content/drive/My Drive/Best models/model1_1.h5\")"
      ],
      "execution_count": 20,
      "outputs": []
    },
    {
      "cell_type": "code",
      "metadata": {
        "id": "1E7hce4INlu7",
        "colab_type": "code",
        "colab": {}
      },
      "source": [
        "model_cnn=keras.models.load_model(\"/content/drive/My Drive/Best models/model_n_1.h5\")"
      ],
      "execution_count": 15,
      "outputs": []
    },
    {
      "cell_type": "code",
      "metadata": {
        "id": "WwAzAbBdZulp",
        "colab_type": "code",
        "colab": {}
      },
      "source": [
        "from keras.preprocessing.image import ImageDataGenerator\n",
        "from sklearn.metrics import classification_report, confusion_matrix\n",
        "\n",
        "test_datagen = ImageDataGenerator()"
      ],
      "execution_count": null,
      "outputs": []
    },
    {
      "cell_type": "code",
      "metadata": {
        "id": "GxVOVV3zZyE7",
        "colab_type": "code",
        "colab": {
          "base_uri": "https://localhost:8080/",
          "height": 34
        },
        "outputId": "f5daeaa3-b7f6-4e63-9c5d-44e7658fd3cf"
      },
      "source": [
        "validation_generator = test_datagen.flow_from_directory('/content/drive/My Drive/data_liver/test',\n",
        "                                                        target_size=(224, 224))"
      ],
      "execution_count": null,
      "outputs": [
        {
          "output_type": "stream",
          "text": [
            "Found 200 images belonging to 4 classes.\n"
          ],
          "name": "stdout"
        }
      ]
    },
    {
      "cell_type": "code",
      "metadata": {
        "id": "eAMUtksqjslN",
        "colab_type": "code",
        "colab": {
          "base_uri": "https://localhost:8080/",
          "height": 306
        },
        "outputId": "24603468-7861-4a9d-ec86-c88cff1c1f4f"
      },
      "source": [
        "import numpy as np\n",
        "#Confution Matrix and Classification Report\n",
        "Y_pred = model_cnn.predict_generator(validation_generator)\n",
        "y_pred = np.argmax(Y_pred, axis=1)\n",
        "print('Confusion Matrix')\n",
        "print(confusion_matrix(validation_generator.classes, y_pred))\n",
        "print('Classification Report')\n",
        "#target_names = ['grade1', 'grade0', 'grade2','grade3']\n",
        "print(classification_report(validation_generator.classes, y_pred))"
      ],
      "execution_count": null,
      "outputs": [
        {
          "output_type": "stream",
          "text": [
            "Confusion Matrix\n",
            "[[11  5 22 12]\n",
            " [ 9  7 17 17]\n",
            " [11  6 17 16]\n",
            " [14  6 19 11]]\n",
            "Classification Report\n",
            "              precision    recall  f1-score   support\n",
            "\n",
            "           0       0.24      0.22      0.23        50\n",
            "           1       0.29      0.14      0.19        50\n",
            "           2       0.23      0.34      0.27        50\n",
            "           3       0.20      0.22      0.21        50\n",
            "\n",
            "    accuracy                           0.23       200\n",
            "   macro avg       0.24      0.23      0.23       200\n",
            "weighted avg       0.24      0.23      0.23       200\n",
            "\n"
          ],
          "name": "stdout"
        }
      ]
    },
    {
      "cell_type": "code",
      "metadata": {
        "id": "nCeG5IC_Z6kq",
        "colab_type": "code",
        "colab": {
          "base_uri": "https://localhost:8080/",
          "height": 153
        },
        "outputId": "d3ec9681-9653-4830-a3ae-d689e248ddd1"
      },
      "source": [
        "import os\n",
        "import numpy as np\n",
        "actual=[]\n",
        "predicted=[]\n",
        "data_path='/content/drive/My Drive/data_liver/test'\n",
        "data_dir_list=os.listdir(data_path)\n",
        "for dataset in data_dir_list:\n",
        "  print(dataset)\n",
        "  img_list=os.listdir(data_path+'/'+dataset)\n",
        "  correctCount=0\n",
        "  wrongCount=0\n",
        "  for img in img_list:\n",
        "    img_path=data_path+'/'+dataset+'/'+img\n",
        "    input_image = image.load_img(img_path,target_size=(224,224))\n",
        "    input_image = np.asarray(input_image)\n",
        "    input_image = np.expand_dims(input_image, axis=0)\n",
        "    output = model_cnn.predict(input_image)\n",
        "    ans='grade'+str(np.argmax(output[0],axis=0))\n",
        "    if( ans in img):\n",
        "      correctCount+=1\n",
        "    else:\n",
        "      wrongCount+=1\n",
        "    actual.append(img[:6])\n",
        "    predicted.append(ans)\n",
        "  print(\"correct Count {} WrongCount {}\".format(correctCount,wrongCount))"
      ],
      "execution_count": 16,
      "outputs": [
        {
          "output_type": "stream",
          "text": [
            "grade1\n",
            "correct Count 16 WrongCount 34\n",
            "grade0\n",
            "correct Count 43 WrongCount 7\n",
            "grade2\n",
            "correct Count 46 WrongCount 4\n",
            "grade3\n",
            "correct Count 46 WrongCount 4\n"
          ],
          "name": "stdout"
        }
      ]
    },
    {
      "cell_type": "code",
      "metadata": {
        "id": "6Y1TLJJcXt63",
        "colab_type": "code",
        "colab": {
          "base_uri": "https://localhost:8080/",
          "height": 323
        },
        "outputId": "aa1cebe6-d1c9-4d2a-f072-ba578fcd4e1b"
      },
      "source": [
        "# Python script for confusion matrix creation. \n",
        "from sklearn.metrics import confusion_matrix \n",
        "from sklearn.metrics import accuracy_score \n",
        "from sklearn.metrics import classification_report \n",
        "results = confusion_matrix(actual, predicted) \n",
        "\n",
        "print ('Confusion Matrix :')\n",
        "print(results) \n",
        "print ('Accuracy Score :',accuracy_score(actual, predicted)) \n",
        "print ('Report : ')\n",
        "print (classification_report(actual, predicted)) \n"
      ],
      "execution_count": 17,
      "outputs": [
        {
          "output_type": "stream",
          "text": [
            "Confusion Matrix :\n",
            "[[43  5  0  2]\n",
            " [ 4 16  4 26]\n",
            " [ 0  2 46  2]\n",
            " [ 0  2  2 46]]\n",
            "Accuracy Score : 0.755\n",
            "Report : \n",
            "              precision    recall  f1-score   support\n",
            "\n",
            "      grade0       0.91      0.86      0.89        50\n",
            "      grade1       0.64      0.32      0.43        50\n",
            "      grade2       0.88      0.92      0.90        50\n",
            "      grade3       0.61      0.92      0.73        50\n",
            "\n",
            "    accuracy                           0.76       200\n",
            "   macro avg       0.76      0.76      0.74       200\n",
            "weighted avg       0.76      0.76      0.74       200\n",
            "\n"
          ],
          "name": "stdout"
        }
      ]
    },
    {
      "cell_type": "code",
      "metadata": {
        "colab_type": "code",
        "id": "YNa87qHtw8fM",
        "colab": {
          "base_uri": "https://localhost:8080/",
          "height": 153
        },
        "outputId": "4a4ba70f-04c4-4508-ff3d-f155e82c4b0a"
      },
      "source": [
        "import os\n",
        "import numpy as np\n",
        "actual=[]\n",
        "predicted=[]\n",
        "data_path='/content/drive/My Drive/data_liver/test'\n",
        "data_dir_list=os.listdir(data_path)\n",
        "for dataset in data_dir_list:\n",
        "  print(dataset)\n",
        "  img_list=os.listdir(data_path+'/'+dataset)\n",
        "  correctCount=0\n",
        "  wrongCount=0\n",
        "  for img in img_list:\n",
        "    img_path=data_path+'/'+dataset+'/'+img\n",
        "    input_image = image.load_img(img_path,target_size=(224,224))\n",
        "    input_image = np.asarray(input_image)\n",
        "    input_image = np.expand_dims(input_image, axis=0)\n",
        "    output = model_final.predict(input_image)\n",
        "    ans='grade'+str(np.argmax(output[0],axis=0))\n",
        "    if( ans in img):\n",
        "      correctCount+=1\n",
        "    else:\n",
        "      wrongCount+=1\n",
        "    actual.append(img[:6])\n",
        "    predicted.append(ans)\n",
        "  print(\"correct Count {} WrongCount {}\".format(correctCount,wrongCount))"
      ],
      "execution_count": 18,
      "outputs": [
        {
          "output_type": "stream",
          "text": [
            "grade1\n",
            "correct Count 40 WrongCount 10\n",
            "grade0\n",
            "correct Count 44 WrongCount 6\n",
            "grade2\n",
            "correct Count 48 WrongCount 2\n",
            "grade3\n",
            "correct Count 38 WrongCount 12\n"
          ],
          "name": "stdout"
        }
      ]
    },
    {
      "cell_type": "code",
      "metadata": {
        "id": "z5Nn1DC7w70r",
        "colab_type": "code",
        "colab": {}
      },
      "source": [
        ""
      ],
      "execution_count": null,
      "outputs": []
    },
    {
      "cell_type": "code",
      "metadata": {
        "colab_type": "code",
        "id": "Wq3VzWFExC1o",
        "colab": {
          "base_uri": "https://localhost:8080/",
          "height": 323
        },
        "outputId": "2896af39-83f1-4596-a983-0115725a88ba"
      },
      "source": [
        "# Python script for confusion matrix creation. \n",
        "from sklearn.metrics import confusion_matrix \n",
        "from sklearn.metrics import accuracy_score \n",
        "from sklearn.metrics import classification_report \n",
        "results = confusion_matrix(actual, predicted) \n",
        "\n",
        "print ('Confusion Matrix :')\n",
        "print(results) \n",
        "print ('Accuracy Score :',accuracy_score(actual, predicted)) \n",
        "print ('Report : ')\n",
        "print (classification_report(actual, predicted)) \n"
      ],
      "execution_count": 19,
      "outputs": [
        {
          "output_type": "stream",
          "text": [
            "Confusion Matrix :\n",
            "[[44  6  0  0]\n",
            " [ 2 40  2  6]\n",
            " [ 0  2 48  0]\n",
            " [ 0 11  1 38]]\n",
            "Accuracy Score : 0.85\n",
            "Report : \n",
            "              precision    recall  f1-score   support\n",
            "\n",
            "      grade0       0.96      0.88      0.92        50\n",
            "      grade1       0.68      0.80      0.73        50\n",
            "      grade2       0.94      0.96      0.95        50\n",
            "      grade3       0.86      0.76      0.81        50\n",
            "\n",
            "    accuracy                           0.85       200\n",
            "   macro avg       0.86      0.85      0.85       200\n",
            "weighted avg       0.86      0.85      0.85       200\n",
            "\n"
          ],
          "name": "stdout"
        }
      ]
    },
    {
      "cell_type": "code",
      "metadata": {
        "id": "13hBXTUZwD52",
        "colab_type": "code",
        "colab": {
          "base_uri": "https://localhost:8080/",
          "height": 51
        },
        "outputId": "55e8fa3a-041e-4ffa-87d4-cae53ef0ba30"
      },
      "source": [
        "tr_loss,tr_acc=model_final.evaluate(validation_generator)\n",
        "tr_acc"
      ],
      "execution_count": null,
      "outputs": [
        {
          "output_type": "stream",
          "text": [
            "7/7 [==============================] - 107s 15s/step\n"
          ],
          "name": "stdout"
        },
        {
          "output_type": "execute_result",
          "data": {
            "text/plain": [
              "0.7950000166893005"
            ]
          },
          "metadata": {
            "tags": []
          },
          "execution_count": 23
        }
      ]
    },
    {
      "cell_type": "code",
      "metadata": {
        "id": "ntwjv8i0wHmH",
        "colab_type": "code",
        "colab": {
          "base_uri": "https://localhost:8080/",
          "height": 51
        },
        "outputId": "a61f05f5-59cb-4e13-fc77-eb4f4371d809"
      },
      "source": [
        "tr_loss,tr_acc=model_final.evaluate(traindata)\n",
        "tr_acc"
      ],
      "execution_count": null,
      "outputs": [
        {
          "output_type": "stream",
          "text": [
            "22/22 [==============================] - 363s 17s/step\n"
          ],
          "name": "stdout"
        },
        {
          "output_type": "execute_result",
          "data": {
            "text/plain": [
              "0.8514285683631897"
            ]
          },
          "metadata": {
            "tags": []
          },
          "execution_count": 24
        }
      ]
    },
    {
      "cell_type": "code",
      "metadata": {
        "id": "1NOM-AafyXVT",
        "colab_type": "code",
        "colab": {
          "base_uri": "https://localhost:8080/",
          "height": 51
        },
        "outputId": "86f4d92d-994f-42f5-f17e-f609127c7c4c"
      },
      "source": [
        "tr_loss,tr_acc=model_cnn.evaluate(testdata)\n",
        "tr_acc"
      ],
      "execution_count": null,
      "outputs": [
        {
          "output_type": "stream",
          "text": [
            "4/4 [==============================] - 51s 13s/step\n"
          ],
          "name": "stdout"
        },
        {
          "output_type": "execute_result",
          "data": {
            "text/plain": [
              "0.7200000286102295"
            ]
          },
          "metadata": {
            "tags": []
          },
          "execution_count": 25
        }
      ]
    },
    {
      "cell_type": "code",
      "metadata": {
        "id": "mTNWvGsEywGT",
        "colab_type": "code",
        "colab": {
          "base_uri": "https://localhost:8080/",
          "height": 442
        },
        "outputId": "38e7a89a-a56e-4958-81b7-1f4985483ae5"
      },
      "source": [
        "saved_model=keras.models.load_model(\"/content/drive/My Drive/Best models/model_b_1.h5\")"
      ],
      "execution_count": null,
      "outputs": [
        {
          "output_type": "error",
          "ename": "OSError",
          "evalue": "ignored",
          "traceback": [
            "\u001b[0;31m---------------------------------------------------------------------------\u001b[0m",
            "\u001b[0;31mOSError\u001b[0m                                   Traceback (most recent call last)",
            "\u001b[0;32m<ipython-input-26-7fa0bb18ad46>\u001b[0m in \u001b[0;36m<module>\u001b[0;34m()\u001b[0m\n\u001b[0;32m----> 1\u001b[0;31m \u001b[0msaved_model\u001b[0m\u001b[0;34m=\u001b[0m\u001b[0mkeras\u001b[0m\u001b[0;34m.\u001b[0m\u001b[0mmodels\u001b[0m\u001b[0;34m.\u001b[0m\u001b[0mload_model\u001b[0m\u001b[0;34m(\u001b[0m\u001b[0;34m\"/content/drive/My Drive/Best models/model_b_1.h5\"\u001b[0m\u001b[0;34m)\u001b[0m\u001b[0;34m\u001b[0m\u001b[0;34m\u001b[0m\u001b[0m\n\u001b[0m",
            "\u001b[0;32m/usr/local/lib/python3.6/dist-packages/keras/engine/saving.py\u001b[0m in \u001b[0;36mload_wrapper\u001b[0;34m(*args, **kwargs)\u001b[0m\n\u001b[1;32m    490\u001b[0m                 \u001b[0mos\u001b[0m\u001b[0;34m.\u001b[0m\u001b[0mremove\u001b[0m\u001b[0;34m(\u001b[0m\u001b[0mtmp_filepath\u001b[0m\u001b[0;34m)\u001b[0m\u001b[0;34m\u001b[0m\u001b[0;34m\u001b[0m\u001b[0m\n\u001b[1;32m    491\u001b[0m             \u001b[0;32mreturn\u001b[0m \u001b[0mres\u001b[0m\u001b[0;34m\u001b[0m\u001b[0;34m\u001b[0m\u001b[0m\n\u001b[0;32m--> 492\u001b[0;31m         \u001b[0;32mreturn\u001b[0m \u001b[0mload_function\u001b[0m\u001b[0;34m(\u001b[0m\u001b[0;34m*\u001b[0m\u001b[0margs\u001b[0m\u001b[0;34m,\u001b[0m \u001b[0;34m**\u001b[0m\u001b[0mkwargs\u001b[0m\u001b[0;34m)\u001b[0m\u001b[0;34m\u001b[0m\u001b[0;34m\u001b[0m\u001b[0m\n\u001b[0m\u001b[1;32m    493\u001b[0m \u001b[0;34m\u001b[0m\u001b[0m\n\u001b[1;32m    494\u001b[0m     \u001b[0;32mreturn\u001b[0m \u001b[0mload_wrapper\u001b[0m\u001b[0;34m\u001b[0m\u001b[0;34m\u001b[0m\u001b[0m\n",
            "\u001b[0;32m/usr/local/lib/python3.6/dist-packages/keras/engine/saving.py\u001b[0m in \u001b[0;36mload_model\u001b[0;34m(filepath, custom_objects, compile)\u001b[0m\n\u001b[1;32m    581\u001b[0m \u001b[0;34m\u001b[0m\u001b[0m\n\u001b[1;32m    582\u001b[0m     \u001b[0;32mif\u001b[0m \u001b[0mH5Dict\u001b[0m\u001b[0;34m.\u001b[0m\u001b[0mis_supported_type\u001b[0m\u001b[0;34m(\u001b[0m\u001b[0mfilepath\u001b[0m\u001b[0;34m)\u001b[0m\u001b[0;34m:\u001b[0m\u001b[0;34m\u001b[0m\u001b[0;34m\u001b[0m\u001b[0m\n\u001b[0;32m--> 583\u001b[0;31m         \u001b[0;32mwith\u001b[0m \u001b[0mH5Dict\u001b[0m\u001b[0;34m(\u001b[0m\u001b[0mfilepath\u001b[0m\u001b[0;34m,\u001b[0m \u001b[0mmode\u001b[0m\u001b[0;34m=\u001b[0m\u001b[0;34m'r'\u001b[0m\u001b[0;34m)\u001b[0m \u001b[0;32mas\u001b[0m \u001b[0mh5dict\u001b[0m\u001b[0;34m:\u001b[0m\u001b[0;34m\u001b[0m\u001b[0;34m\u001b[0m\u001b[0m\n\u001b[0m\u001b[1;32m    584\u001b[0m             \u001b[0mmodel\u001b[0m \u001b[0;34m=\u001b[0m \u001b[0m_deserialize_model\u001b[0m\u001b[0;34m(\u001b[0m\u001b[0mh5dict\u001b[0m\u001b[0;34m,\u001b[0m \u001b[0mcustom_objects\u001b[0m\u001b[0;34m,\u001b[0m \u001b[0mcompile\u001b[0m\u001b[0;34m)\u001b[0m\u001b[0;34m\u001b[0m\u001b[0;34m\u001b[0m\u001b[0m\n\u001b[1;32m    585\u001b[0m     \u001b[0;32melif\u001b[0m \u001b[0mhasattr\u001b[0m\u001b[0;34m(\u001b[0m\u001b[0mfilepath\u001b[0m\u001b[0;34m,\u001b[0m \u001b[0;34m'write'\u001b[0m\u001b[0;34m)\u001b[0m \u001b[0;32mand\u001b[0m \u001b[0mcallable\u001b[0m\u001b[0;34m(\u001b[0m\u001b[0mfilepath\u001b[0m\u001b[0;34m.\u001b[0m\u001b[0mwrite\u001b[0m\u001b[0;34m)\u001b[0m\u001b[0;34m:\u001b[0m\u001b[0;34m\u001b[0m\u001b[0;34m\u001b[0m\u001b[0m\n",
            "\u001b[0;32m/usr/local/lib/python3.6/dist-packages/keras/utils/io_utils.py\u001b[0m in \u001b[0;36m__init__\u001b[0;34m(self, path, mode)\u001b[0m\n\u001b[1;32m    189\u001b[0m             \u001b[0mself\u001b[0m\u001b[0;34m.\u001b[0m\u001b[0m_is_file\u001b[0m \u001b[0;34m=\u001b[0m \u001b[0;32mFalse\u001b[0m\u001b[0;34m\u001b[0m\u001b[0;34m\u001b[0m\u001b[0m\n\u001b[1;32m    190\u001b[0m         \u001b[0;32melif\u001b[0m \u001b[0misinstance\u001b[0m\u001b[0;34m(\u001b[0m\u001b[0mpath\u001b[0m\u001b[0;34m,\u001b[0m \u001b[0msix\u001b[0m\u001b[0;34m.\u001b[0m\u001b[0mstring_types\u001b[0m\u001b[0;34m)\u001b[0m \u001b[0;32mor\u001b[0m \u001b[0m_is_path_instance\u001b[0m\u001b[0;34m(\u001b[0m\u001b[0mpath\u001b[0m\u001b[0;34m)\u001b[0m\u001b[0;34m:\u001b[0m\u001b[0;34m\u001b[0m\u001b[0;34m\u001b[0m\u001b[0m\n\u001b[0;32m--> 191\u001b[0;31m             \u001b[0mself\u001b[0m\u001b[0;34m.\u001b[0m\u001b[0mdata\u001b[0m \u001b[0;34m=\u001b[0m \u001b[0mh5py\u001b[0m\u001b[0;34m.\u001b[0m\u001b[0mFile\u001b[0m\u001b[0;34m(\u001b[0m\u001b[0mpath\u001b[0m\u001b[0;34m,\u001b[0m \u001b[0mmode\u001b[0m\u001b[0;34m=\u001b[0m\u001b[0mmode\u001b[0m\u001b[0;34m)\u001b[0m\u001b[0;34m\u001b[0m\u001b[0;34m\u001b[0m\u001b[0m\n\u001b[0m\u001b[1;32m    192\u001b[0m             \u001b[0mself\u001b[0m\u001b[0;34m.\u001b[0m\u001b[0m_is_file\u001b[0m \u001b[0;34m=\u001b[0m \u001b[0;32mTrue\u001b[0m\u001b[0;34m\u001b[0m\u001b[0;34m\u001b[0m\u001b[0m\n\u001b[1;32m    193\u001b[0m         \u001b[0;32melif\u001b[0m \u001b[0misinstance\u001b[0m\u001b[0;34m(\u001b[0m\u001b[0mpath\u001b[0m\u001b[0;34m,\u001b[0m \u001b[0mdict\u001b[0m\u001b[0;34m)\u001b[0m\u001b[0;34m:\u001b[0m\u001b[0;34m\u001b[0m\u001b[0;34m\u001b[0m\u001b[0m\n",
            "\u001b[0;32m/usr/local/lib/python3.6/dist-packages/h5py/_hl/files.py\u001b[0m in \u001b[0;36m__init__\u001b[0;34m(self, name, mode, driver, libver, userblock_size, swmr, rdcc_nslots, rdcc_nbytes, rdcc_w0, track_order, **kwds)\u001b[0m\n\u001b[1;32m    406\u001b[0m                 fid = make_fid(name, mode, userblock_size,\n\u001b[1;32m    407\u001b[0m                                \u001b[0mfapl\u001b[0m\u001b[0;34m,\u001b[0m \u001b[0mfcpl\u001b[0m\u001b[0;34m=\u001b[0m\u001b[0mmake_fcpl\u001b[0m\u001b[0;34m(\u001b[0m\u001b[0mtrack_order\u001b[0m\u001b[0;34m=\u001b[0m\u001b[0mtrack_order\u001b[0m\u001b[0;34m)\u001b[0m\u001b[0;34m,\u001b[0m\u001b[0;34m\u001b[0m\u001b[0;34m\u001b[0m\u001b[0m\n\u001b[0;32m--> 408\u001b[0;31m                                swmr=swmr)\n\u001b[0m\u001b[1;32m    409\u001b[0m \u001b[0;34m\u001b[0m\u001b[0m\n\u001b[1;32m    410\u001b[0m             \u001b[0;32mif\u001b[0m \u001b[0misinstance\u001b[0m\u001b[0;34m(\u001b[0m\u001b[0mlibver\u001b[0m\u001b[0;34m,\u001b[0m \u001b[0mtuple\u001b[0m\u001b[0;34m)\u001b[0m\u001b[0;34m:\u001b[0m\u001b[0;34m\u001b[0m\u001b[0;34m\u001b[0m\u001b[0m\n",
            "\u001b[0;32m/usr/local/lib/python3.6/dist-packages/h5py/_hl/files.py\u001b[0m in \u001b[0;36mmake_fid\u001b[0;34m(name, mode, userblock_size, fapl, fcpl, swmr)\u001b[0m\n\u001b[1;32m    171\u001b[0m         \u001b[0;32mif\u001b[0m \u001b[0mswmr\u001b[0m \u001b[0;32mand\u001b[0m \u001b[0mswmr_support\u001b[0m\u001b[0;34m:\u001b[0m\u001b[0;34m\u001b[0m\u001b[0;34m\u001b[0m\u001b[0m\n\u001b[1;32m    172\u001b[0m             \u001b[0mflags\u001b[0m \u001b[0;34m|=\u001b[0m \u001b[0mh5f\u001b[0m\u001b[0;34m.\u001b[0m\u001b[0mACC_SWMR_READ\u001b[0m\u001b[0;34m\u001b[0m\u001b[0;34m\u001b[0m\u001b[0m\n\u001b[0;32m--> 173\u001b[0;31m         \u001b[0mfid\u001b[0m \u001b[0;34m=\u001b[0m \u001b[0mh5f\u001b[0m\u001b[0;34m.\u001b[0m\u001b[0mopen\u001b[0m\u001b[0;34m(\u001b[0m\u001b[0mname\u001b[0m\u001b[0;34m,\u001b[0m \u001b[0mflags\u001b[0m\u001b[0;34m,\u001b[0m \u001b[0mfapl\u001b[0m\u001b[0;34m=\u001b[0m\u001b[0mfapl\u001b[0m\u001b[0;34m)\u001b[0m\u001b[0;34m\u001b[0m\u001b[0;34m\u001b[0m\u001b[0m\n\u001b[0m\u001b[1;32m    174\u001b[0m     \u001b[0;32melif\u001b[0m \u001b[0mmode\u001b[0m \u001b[0;34m==\u001b[0m \u001b[0;34m'r+'\u001b[0m\u001b[0;34m:\u001b[0m\u001b[0;34m\u001b[0m\u001b[0;34m\u001b[0m\u001b[0m\n\u001b[1;32m    175\u001b[0m         \u001b[0mfid\u001b[0m \u001b[0;34m=\u001b[0m \u001b[0mh5f\u001b[0m\u001b[0;34m.\u001b[0m\u001b[0mopen\u001b[0m\u001b[0;34m(\u001b[0m\u001b[0mname\u001b[0m\u001b[0;34m,\u001b[0m \u001b[0mh5f\u001b[0m\u001b[0;34m.\u001b[0m\u001b[0mACC_RDWR\u001b[0m\u001b[0;34m,\u001b[0m \u001b[0mfapl\u001b[0m\u001b[0;34m=\u001b[0m\u001b[0mfapl\u001b[0m\u001b[0;34m)\u001b[0m\u001b[0;34m\u001b[0m\u001b[0;34m\u001b[0m\u001b[0m\n",
            "\u001b[0;32mh5py/_objects.pyx\u001b[0m in \u001b[0;36mh5py._objects.with_phil.wrapper\u001b[0;34m()\u001b[0m\n",
            "\u001b[0;32mh5py/_objects.pyx\u001b[0m in \u001b[0;36mh5py._objects.with_phil.wrapper\u001b[0;34m()\u001b[0m\n",
            "\u001b[0;32mh5py/h5f.pyx\u001b[0m in \u001b[0;36mh5py.h5f.open\u001b[0;34m()\u001b[0m\n",
            "\u001b[0;31mOSError\u001b[0m: Unable to open file (unable to open file: name = '/content/drive/My Drive/Best models/model_b_1.h5', errno = 2, error message = 'No such file or directory', flags = 0, o_flags = 0)"
          ]
        }
      ]
    },
    {
      "cell_type": "code",
      "metadata": {
        "colab_type": "code",
        "id": "bIRR3fnFzXLD",
        "colab": {}
      },
      "source": [
        "tr_loss,tr_acc=saved_model.evaluate(validation_generator)\n",
        "tr_acc"
      ],
      "execution_count": null,
      "outputs": []
    },
    {
      "cell_type": "code",
      "metadata": {
        "id": "ihCmpaYAzgH4",
        "colab_type": "code",
        "colab": {}
      },
      "source": [
        ""
      ],
      "execution_count": null,
      "outputs": []
    },
    {
      "cell_type": "code",
      "metadata": {
        "colab_type": "code",
        "id": "EmEGMcRkzgyK",
        "colab": {}
      },
      "source": [
        "tr_loss,tr_acc=saved_model.evaluate(testdata)\n",
        "tr_acc"
      ],
      "execution_count": null,
      "outputs": []
    },
    {
      "cell_type": "code",
      "metadata": {
        "id": "rtN1rqlVp7ll",
        "colab_type": "code",
        "colab": {}
      },
      "source": [
        "model_final=keras.models.load_model(\"/content/drive/My Drive/Best models/model_f_1.h5\")"
      ],
      "execution_count": null,
      "outputs": []
    }
  ]
}