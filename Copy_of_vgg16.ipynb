{
  "nbformat": 4,
  "nbformat_minor": 0,
  "metadata": {
    "colab": {
      "name": "Copy of vgg16",
      "provenance": [],
      "collapsed_sections": [],
      "mount_file_id": "1lSBDpEuLz-XBMkEJ6NzKP6_AQRL8hGpR",
      "authorship_tag": "ABX9TyOUbnFM4//TsKcozTGPjTiF",
      "include_colab_link": true
    },
    "kernelspec": {
      "name": "python3",
      "display_name": "Python 3"
    }
  },
  "cells": [
    {
      "cell_type": "markdown",
      "metadata": {
        "id": "view-in-github",
        "colab_type": "text"
      },
      "source": [
        "<a href=\"https://colab.research.google.com/github/pranitha2144/Internship-iith/blob/Resnet/Copy_of_vgg16.ipynb\" target=\"_parent\"><img src=\"https://colab.research.google.com/assets/colab-badge.svg\" alt=\"Open In Colab\"/></a>"
      ]
    },
    {
      "cell_type": "code",
      "metadata": {
        "id": "PMu2eC3sYOxm",
        "colab_type": "code",
        "colab": {
          "base_uri": "https://localhost:8080/",
          "height": 34
        },
        "outputId": "b35fdb25-a85a-46f4-be27-318495e197bb"
      },
      "source": [
        "import keras\n",
        "from keras.models import Model\n",
        "from keras.layers import Dense,Dropout,Conv2D,Flatten,MaxPooling2D\n",
        "from keras import optimizers\n",
        "from keras.preprocessing.image import ImageDataGenerator\n",
        "from keras.preprocessing import image\n",
        "from tensorflow.keras.applications.vgg16 import preprocess_input\n",
        "from keras.regularizers import l2"
      ],
      "execution_count": 1,
      "outputs": [
        {
          "output_type": "stream",
          "text": [
            "Using TensorFlow backend.\n"
          ],
          "name": "stderr"
        }
      ]
    },
    {
      "cell_type": "code",
      "metadata": {
        "id": "p6rPAuwiYVPF",
        "colab_type": "code",
        "colab": {
          "base_uri": "https://localhost:8080/",
          "height": 51
        },
        "outputId": "6f79e0f9-a4c7-4cb6-8b4e-d3c68e3b0dd5"
      },
      "source": [
        "trdata = ImageDataGenerator()\n",
        "traindata = trdata.flow_from_directory(directory=\"/content/drive/My Drive/data-liverd/train\",target_size=(224,224),class_mode='categorical')\n",
        "tsdata = ImageDataGenerator()\n",
        "testdata = tsdata.flow_from_directory(directory=\"/content/drive/My Drive/data-liverd/val\", target_size=(224,224),class_mode='categorical')"
      ],
      "execution_count": 2,
      "outputs": [
        {
          "output_type": "stream",
          "text": [
            "Found 800 images belonging to 4 classes.\n",
            "Found 200 images belonging to 4 classes.\n"
          ],
          "name": "stdout"
        }
      ]
    },
    {
      "cell_type": "code",
      "metadata": {
        "id": "YEDviFOOYqSH",
        "colab_type": "code",
        "colab": {}
      },
      "source": [
        "from keras.applications.vgg16 import VGG16\n",
        "vggmodel = VGG16(weights='imagenet',include_top=True)"
      ],
      "execution_count": 3,
      "outputs": []
    },
    {
      "cell_type": "code",
      "metadata": {
        "id": "_DBVSTlUYwZt",
        "colab_type": "code",
        "colab": {
          "base_uri": "https://localhost:8080/",
          "height": 935
        },
        "outputId": "6297b3ec-fec5-4e17-8a30-42eecc0e19ce"
      },
      "source": [
        "vggmodel.summary()"
      ],
      "execution_count": 4,
      "outputs": [
        {
          "output_type": "stream",
          "text": [
            "Model: \"vgg16\"\n",
            "_________________________________________________________________\n",
            "Layer (type)                 Output Shape              Param #   \n",
            "=================================================================\n",
            "input_1 (InputLayer)         (None, 224, 224, 3)       0         \n",
            "_________________________________________________________________\n",
            "block1_conv1 (Conv2D)        (None, 224, 224, 64)      1792      \n",
            "_________________________________________________________________\n",
            "block1_conv2 (Conv2D)        (None, 224, 224, 64)      36928     \n",
            "_________________________________________________________________\n",
            "block1_pool (MaxPooling2D)   (None, 112, 112, 64)      0         \n",
            "_________________________________________________________________\n",
            "block2_conv1 (Conv2D)        (None, 112, 112, 128)     73856     \n",
            "_________________________________________________________________\n",
            "block2_conv2 (Conv2D)        (None, 112, 112, 128)     147584    \n",
            "_________________________________________________________________\n",
            "block2_pool (MaxPooling2D)   (None, 56, 56, 128)       0         \n",
            "_________________________________________________________________\n",
            "block3_conv1 (Conv2D)        (None, 56, 56, 256)       295168    \n",
            "_________________________________________________________________\n",
            "block3_conv2 (Conv2D)        (None, 56, 56, 256)       590080    \n",
            "_________________________________________________________________\n",
            "block3_conv3 (Conv2D)        (None, 56, 56, 256)       590080    \n",
            "_________________________________________________________________\n",
            "block3_pool (MaxPooling2D)   (None, 28, 28, 256)       0         \n",
            "_________________________________________________________________\n",
            "block4_conv1 (Conv2D)        (None, 28, 28, 512)       1180160   \n",
            "_________________________________________________________________\n",
            "block4_conv2 (Conv2D)        (None, 28, 28, 512)       2359808   \n",
            "_________________________________________________________________\n",
            "block4_conv3 (Conv2D)        (None, 28, 28, 512)       2359808   \n",
            "_________________________________________________________________\n",
            "block4_pool (MaxPooling2D)   (None, 14, 14, 512)       0         \n",
            "_________________________________________________________________\n",
            "block5_conv1 (Conv2D)        (None, 14, 14, 512)       2359808   \n",
            "_________________________________________________________________\n",
            "block5_conv2 (Conv2D)        (None, 14, 14, 512)       2359808   \n",
            "_________________________________________________________________\n",
            "block5_conv3 (Conv2D)        (None, 14, 14, 512)       2359808   \n",
            "_________________________________________________________________\n",
            "block5_pool (MaxPooling2D)   (None, 7, 7, 512)         0         \n",
            "_________________________________________________________________\n",
            "flatten (Flatten)            (None, 25088)             0         \n",
            "_________________________________________________________________\n",
            "fc1 (Dense)                  (None, 4096)              102764544 \n",
            "_________________________________________________________________\n",
            "fc2 (Dense)                  (None, 4096)              16781312  \n",
            "_________________________________________________________________\n",
            "predictions (Dense)          (None, 1000)              4097000   \n",
            "=================================================================\n",
            "Total params: 138,357,544\n",
            "Trainable params: 138,357,544\n",
            "Non-trainable params: 0\n",
            "_________________________________________________________________\n"
          ],
          "name": "stdout"
        }
      ]
    },
    {
      "cell_type": "code",
      "metadata": {
        "id": "UWtbL-_x7GDK",
        "colab_type": "code",
        "colab": {
          "base_uri": "https://localhost:8080/",
          "height": 34
        },
        "outputId": "21bd8575-b1ed-4d6a-d981-74f32573dc9f"
      },
      "source": [
        "#execute this cell 3 times\n",
        "vggmodel.layers.pop()"
      ],
      "execution_count": null,
      "outputs": [
        {
          "output_type": "execute_result",
          "data": {
            "text/plain": [
              "<keras.layers.core.Dense at 0x7fd41e783f28>"
            ]
          },
          "metadata": {
            "tags": []
          },
          "execution_count": 7
        }
      ]
    },
    {
      "cell_type": "code",
      "metadata": {
        "id": "8LYBFIW-Y1vZ",
        "colab_type": "code",
        "colab": {
          "base_uri": "https://localhost:8080/",
          "height": 340
        },
        "outputId": "6fc01269-7366-445f-88f7-1842cecf827e"
      },
      "source": [
        "for layers in (vggmodel.layers)[:19]:\n",
        "    print(layers)\n",
        "    layers.trainable = False"
      ],
      "execution_count": 5,
      "outputs": [
        {
          "output_type": "stream",
          "text": [
            "<keras.engine.input_layer.InputLayer object at 0x7f9ef26d3470>\n",
            "<keras.layers.convolutional.Conv2D object at 0x7f9eb0bb7470>\n",
            "<keras.layers.convolutional.Conv2D object at 0x7f9eb0bb7860>\n",
            "<keras.layers.pooling.MaxPooling2D object at 0x7f9eb0bb7898>\n",
            "<keras.layers.convolutional.Conv2D object at 0x7f9eb0bb7ba8>\n",
            "<keras.layers.convolutional.Conv2D object at 0x7f9eaf3a0cf8>\n",
            "<keras.layers.pooling.MaxPooling2D object at 0x7f9eaf336898>\n",
            "<keras.layers.convolutional.Conv2D object at 0x7f9eaf3366d8>\n",
            "<keras.layers.convolutional.Conv2D object at 0x7f9eaf3383c8>\n",
            "<keras.layers.convolutional.Conv2D object at 0x7f9eaf338da0>\n",
            "<keras.layers.pooling.MaxPooling2D object at 0x7f9eaf3439e8>\n",
            "<keras.layers.convolutional.Conv2D object at 0x7f9eaf343828>\n",
            "<keras.layers.convolutional.Conv2D object at 0x7f9eaf34c518>\n",
            "<keras.layers.convolutional.Conv2D object at 0x7f9eaf34ce10>\n",
            "<keras.layers.pooling.MaxPooling2D object at 0x7f9eaf352b38>\n",
            "<keras.layers.convolutional.Conv2D object at 0x7f9eaf352978>\n",
            "<keras.layers.convolutional.Conv2D object at 0x7f9eaf358668>\n",
            "<keras.layers.convolutional.Conv2D object at 0x7f9eaf358e10>\n",
            "<keras.layers.pooling.MaxPooling2D object at 0x7f9eaf35ec88>\n"
          ],
          "name": "stdout"
        }
      ]
    },
    {
      "cell_type": "code",
      "metadata": {
        "id": "spEfu2MIY3-9",
        "colab_type": "code",
        "colab": {
          "base_uri": "https://localhost:8080/",
          "height": 935
        },
        "outputId": "25768544-d370-4875-cdf8-e80fa1b4b021"
      },
      "source": [
        "vggmodel.summary()"
      ],
      "execution_count": 6,
      "outputs": [
        {
          "output_type": "stream",
          "text": [
            "Model: \"vgg16\"\n",
            "_________________________________________________________________\n",
            "Layer (type)                 Output Shape              Param #   \n",
            "=================================================================\n",
            "input_1 (InputLayer)         (None, 224, 224, 3)       0         \n",
            "_________________________________________________________________\n",
            "block1_conv1 (Conv2D)        (None, 224, 224, 64)      1792      \n",
            "_________________________________________________________________\n",
            "block1_conv2 (Conv2D)        (None, 224, 224, 64)      36928     \n",
            "_________________________________________________________________\n",
            "block1_pool (MaxPooling2D)   (None, 112, 112, 64)      0         \n",
            "_________________________________________________________________\n",
            "block2_conv1 (Conv2D)        (None, 112, 112, 128)     73856     \n",
            "_________________________________________________________________\n",
            "block2_conv2 (Conv2D)        (None, 112, 112, 128)     147584    \n",
            "_________________________________________________________________\n",
            "block2_pool (MaxPooling2D)   (None, 56, 56, 128)       0         \n",
            "_________________________________________________________________\n",
            "block3_conv1 (Conv2D)        (None, 56, 56, 256)       295168    \n",
            "_________________________________________________________________\n",
            "block3_conv2 (Conv2D)        (None, 56, 56, 256)       590080    \n",
            "_________________________________________________________________\n",
            "block3_conv3 (Conv2D)        (None, 56, 56, 256)       590080    \n",
            "_________________________________________________________________\n",
            "block3_pool (MaxPooling2D)   (None, 28, 28, 256)       0         \n",
            "_________________________________________________________________\n",
            "block4_conv1 (Conv2D)        (None, 28, 28, 512)       1180160   \n",
            "_________________________________________________________________\n",
            "block4_conv2 (Conv2D)        (None, 28, 28, 512)       2359808   \n",
            "_________________________________________________________________\n",
            "block4_conv3 (Conv2D)        (None, 28, 28, 512)       2359808   \n",
            "_________________________________________________________________\n",
            "block4_pool (MaxPooling2D)   (None, 14, 14, 512)       0         \n",
            "_________________________________________________________________\n",
            "block5_conv1 (Conv2D)        (None, 14, 14, 512)       2359808   \n",
            "_________________________________________________________________\n",
            "block5_conv2 (Conv2D)        (None, 14, 14, 512)       2359808   \n",
            "_________________________________________________________________\n",
            "block5_conv3 (Conv2D)        (None, 14, 14, 512)       2359808   \n",
            "_________________________________________________________________\n",
            "block5_pool (MaxPooling2D)   (None, 7, 7, 512)         0         \n",
            "_________________________________________________________________\n",
            "flatten (Flatten)            (None, 25088)             0         \n",
            "_________________________________________________________________\n",
            "fc1 (Dense)                  (None, 4096)              102764544 \n",
            "_________________________________________________________________\n",
            "fc2 (Dense)                  (None, 4096)              16781312  \n",
            "_________________________________________________________________\n",
            "predictions (Dense)          (None, 1000)              4097000   \n",
            "=================================================================\n",
            "Total params: 138,357,544\n",
            "Trainable params: 123,642,856\n",
            "Non-trainable params: 14,714,688\n",
            "_________________________________________________________________\n"
          ],
          "name": "stdout"
        }
      ]
    },
    {
      "cell_type": "code",
      "metadata": {
        "id": "hRa7hR7-Y-XR",
        "colab_type": "code",
        "colab": {
          "base_uri": "https://localhost:8080/",
          "height": 71
        },
        "outputId": "d419cbca-5f19-4848-d2cf-97def9671a90"
      },
      "source": [
        "from tensorflow.keras import regularizers\n",
        "X= vggmodel.layers[-2].output\n",
        "fc_1=Dense(4096,activation='relu',kernel_regularizer=l2(0.01))(X)\n",
        "fc_2=Dense(4096,activation='relu',kernel_regularizer=l2(0.01))(fc_1)\n",
        "fc_3=Dense(4096,activation='relu',kernel_regularizer=l2(0.01))(fc_2)\n",
        "fc_4=Dense(4096,activation='relu',kernel_regularizer=l2(0.01))(fc_3)\n",
        "fc_5=Dense(4096,activation='relu',kernel_regularizer=l2(0.01))(fc_4)\n",
        "fc_6=Dense(4096,activation='relu',kernel_regularizer=l2(0.01))(fc_5)\n",
        "fc_7=Dense(4096,activation='relu',kernel_regularizer=l2(0.01))(fc_6)\n",
        "fc_8=Dense(4096,activation='relu',kernel_regularizer=l2(0.01))(fc_7)\n",
        "predictions = Dense(4, activation=\"softmax\")(X)\n",
        "model_final = Model(input = vggmodel.input, output = predictions)"
      ],
      "execution_count": 7,
      "outputs": [
        {
          "output_type": "stream",
          "text": [
            "/usr/local/lib/python3.6/dist-packages/ipykernel_launcher.py:12: UserWarning: Update your `Model` call to the Keras 2 API: `Model(inputs=Tensor(\"in..., outputs=Tensor(\"de...)`\n",
            "  if sys.path[0] == '':\n"
          ],
          "name": "stderr"
        }
      ]
    },
    {
      "cell_type": "code",
      "metadata": {
        "id": "1mRS_nHaZBCL",
        "colab_type": "code",
        "colab": {
          "base_uri": "https://localhost:8080/",
          "height": 935
        },
        "outputId": "17c699d2-b5f8-4134-c35c-e150beea9c94"
      },
      "source": [
        "model_final.summary()"
      ],
      "execution_count": 8,
      "outputs": [
        {
          "output_type": "stream",
          "text": [
            "Model: \"model_1\"\n",
            "_________________________________________________________________\n",
            "Layer (type)                 Output Shape              Param #   \n",
            "=================================================================\n",
            "input_1 (InputLayer)         (None, 224, 224, 3)       0         \n",
            "_________________________________________________________________\n",
            "block1_conv1 (Conv2D)        (None, 224, 224, 64)      1792      \n",
            "_________________________________________________________________\n",
            "block1_conv2 (Conv2D)        (None, 224, 224, 64)      36928     \n",
            "_________________________________________________________________\n",
            "block1_pool (MaxPooling2D)   (None, 112, 112, 64)      0         \n",
            "_________________________________________________________________\n",
            "block2_conv1 (Conv2D)        (None, 112, 112, 128)     73856     \n",
            "_________________________________________________________________\n",
            "block2_conv2 (Conv2D)        (None, 112, 112, 128)     147584    \n",
            "_________________________________________________________________\n",
            "block2_pool (MaxPooling2D)   (None, 56, 56, 128)       0         \n",
            "_________________________________________________________________\n",
            "block3_conv1 (Conv2D)        (None, 56, 56, 256)       295168    \n",
            "_________________________________________________________________\n",
            "block3_conv2 (Conv2D)        (None, 56, 56, 256)       590080    \n",
            "_________________________________________________________________\n",
            "block3_conv3 (Conv2D)        (None, 56, 56, 256)       590080    \n",
            "_________________________________________________________________\n",
            "block3_pool (MaxPooling2D)   (None, 28, 28, 256)       0         \n",
            "_________________________________________________________________\n",
            "block4_conv1 (Conv2D)        (None, 28, 28, 512)       1180160   \n",
            "_________________________________________________________________\n",
            "block4_conv2 (Conv2D)        (None, 28, 28, 512)       2359808   \n",
            "_________________________________________________________________\n",
            "block4_conv3 (Conv2D)        (None, 28, 28, 512)       2359808   \n",
            "_________________________________________________________________\n",
            "block4_pool (MaxPooling2D)   (None, 14, 14, 512)       0         \n",
            "_________________________________________________________________\n",
            "block5_conv1 (Conv2D)        (None, 14, 14, 512)       2359808   \n",
            "_________________________________________________________________\n",
            "block5_conv2 (Conv2D)        (None, 14, 14, 512)       2359808   \n",
            "_________________________________________________________________\n",
            "block5_conv3 (Conv2D)        (None, 14, 14, 512)       2359808   \n",
            "_________________________________________________________________\n",
            "block5_pool (MaxPooling2D)   (None, 7, 7, 512)         0         \n",
            "_________________________________________________________________\n",
            "flatten (Flatten)            (None, 25088)             0         \n",
            "_________________________________________________________________\n",
            "fc1 (Dense)                  (None, 4096)              102764544 \n",
            "_________________________________________________________________\n",
            "fc2 (Dense)                  (None, 4096)              16781312  \n",
            "_________________________________________________________________\n",
            "dense_9 (Dense)              (None, 4)                 16388     \n",
            "=================================================================\n",
            "Total params: 134,276,932\n",
            "Trainable params: 119,562,244\n",
            "Non-trainable params: 14,714,688\n",
            "_________________________________________________________________\n"
          ],
          "name": "stdout"
        }
      ]
    },
    {
      "cell_type": "code",
      "metadata": {
        "id": "dVV7AalX1UWN",
        "colab_type": "code",
        "colab": {
          "base_uri": "https://localhost:8080/",
          "height": 306
        },
        "outputId": "89aea48b-1be7-4ac6-fc57-6aac67d131a9"
      },
      "source": [
        "#Confution Matrix and Classification Report\n",
        "from sklearn.metrics import classification_report, confusion_matrix\n",
        "import numpy as np\n",
        "Y_pred = model_final.predict_generator(testdata)\n",
        "y_pred = np.argmax(Y_pred, axis=1)\n",
        "print('Confusion Matrix')\n",
        "print(confusion_matrix(testdata.classes, y_pred))\n",
        "print('Classification Report')\n",
        "target_names = ['grade0', 'grade1', 'grade2','grade3']\n",
        "print(classification_report(testdata.classes, y_pred, target_names=target_names))"
      ],
      "execution_count": 20,
      "outputs": [
        {
          "output_type": "stream",
          "text": [
            "Confusion Matrix\n",
            "[[16  7  7 20]\n",
            " [10 18 16  6]\n",
            " [ 8 15 15 12]\n",
            " [10 14 10 16]]\n",
            "Classification Report\n",
            "              precision    recall  f1-score   support\n",
            "\n",
            "      grade0       0.36      0.32      0.34        50\n",
            "      grade1       0.33      0.36      0.35        50\n",
            "      grade2       0.31      0.30      0.31        50\n",
            "      grade3       0.30      0.32      0.31        50\n",
            "\n",
            "    accuracy                           0.33       200\n",
            "   macro avg       0.33      0.33      0.33       200\n",
            "weighted avg       0.33      0.33      0.33       200\n",
            "\n"
          ],
          "name": "stdout"
        }
      ]
    },
    {
      "cell_type": "code",
      "metadata": {
        "id": "WyzYX9WSZK0G",
        "colab_type": "code",
        "colab": {}
      },
      "source": [
        "model_final.compile(loss = \"categorical_crossentropy\", optimizer = keras.optimizers.Adam(lr=0.0001), metrics=[\"accuracy\"])"
      ],
      "execution_count": 9,
      "outputs": []
    },
    {
      "cell_type": "code",
      "metadata": {
        "id": "3JhPnTE8ZRmI",
        "colab_type": "code",
        "colab": {
          "base_uri": "https://localhost:8080/",
          "height": 935
        },
        "outputId": "bd78dcc1-46e6-48dc-aaff-08d2243a40be"
      },
      "source": [
        "model_final.summary()"
      ],
      "execution_count": 10,
      "outputs": [
        {
          "output_type": "stream",
          "text": [
            "Model: \"model_1\"\n",
            "_________________________________________________________________\n",
            "Layer (type)                 Output Shape              Param #   \n",
            "=================================================================\n",
            "input_1 (InputLayer)         (None, 224, 224, 3)       0         \n",
            "_________________________________________________________________\n",
            "block1_conv1 (Conv2D)        (None, 224, 224, 64)      1792      \n",
            "_________________________________________________________________\n",
            "block1_conv2 (Conv2D)        (None, 224, 224, 64)      36928     \n",
            "_________________________________________________________________\n",
            "block1_pool (MaxPooling2D)   (None, 112, 112, 64)      0         \n",
            "_________________________________________________________________\n",
            "block2_conv1 (Conv2D)        (None, 112, 112, 128)     73856     \n",
            "_________________________________________________________________\n",
            "block2_conv2 (Conv2D)        (None, 112, 112, 128)     147584    \n",
            "_________________________________________________________________\n",
            "block2_pool (MaxPooling2D)   (None, 56, 56, 128)       0         \n",
            "_________________________________________________________________\n",
            "block3_conv1 (Conv2D)        (None, 56, 56, 256)       295168    \n",
            "_________________________________________________________________\n",
            "block3_conv2 (Conv2D)        (None, 56, 56, 256)       590080    \n",
            "_________________________________________________________________\n",
            "block3_conv3 (Conv2D)        (None, 56, 56, 256)       590080    \n",
            "_________________________________________________________________\n",
            "block3_pool (MaxPooling2D)   (None, 28, 28, 256)       0         \n",
            "_________________________________________________________________\n",
            "block4_conv1 (Conv2D)        (None, 28, 28, 512)       1180160   \n",
            "_________________________________________________________________\n",
            "block4_conv2 (Conv2D)        (None, 28, 28, 512)       2359808   \n",
            "_________________________________________________________________\n",
            "block4_conv3 (Conv2D)        (None, 28, 28, 512)       2359808   \n",
            "_________________________________________________________________\n",
            "block4_pool (MaxPooling2D)   (None, 14, 14, 512)       0         \n",
            "_________________________________________________________________\n",
            "block5_conv1 (Conv2D)        (None, 14, 14, 512)       2359808   \n",
            "_________________________________________________________________\n",
            "block5_conv2 (Conv2D)        (None, 14, 14, 512)       2359808   \n",
            "_________________________________________________________________\n",
            "block5_conv3 (Conv2D)        (None, 14, 14, 512)       2359808   \n",
            "_________________________________________________________________\n",
            "block5_pool (MaxPooling2D)   (None, 7, 7, 512)         0         \n",
            "_________________________________________________________________\n",
            "flatten (Flatten)            (None, 25088)             0         \n",
            "_________________________________________________________________\n",
            "fc1 (Dense)                  (None, 4096)              102764544 \n",
            "_________________________________________________________________\n",
            "fc2 (Dense)                  (None, 4096)              16781312  \n",
            "_________________________________________________________________\n",
            "dense_9 (Dense)              (None, 4)                 16388     \n",
            "=================================================================\n",
            "Total params: 134,276,932\n",
            "Trainable params: 119,562,244\n",
            "Non-trainable params: 14,714,688\n",
            "_________________________________________________________________\n"
          ],
          "name": "stdout"
        }
      ]
    },
    {
      "cell_type": "code",
      "metadata": {
        "id": "H6dGNtWtZVuK",
        "colab_type": "code",
        "colab": {
          "base_uri": "https://localhost:8080/",
          "height": 1000
        },
        "outputId": "ef468740-c6b2-4c2a-81da-3aca99b3125d"
      },
      "source": [
        "from keras.callbacks import ModelCheckpoint, EarlyStopping\n",
        "checkpoint = ModelCheckpoint(\"/content/drive/My Drive/Best models/model_n_1.h5\", monitor='val_loss', verbose=1, save_best_only=True, save_weights_only=False, mode='auto', period=1)\n",
        "early = EarlyStopping(monitor='val_acc', min_delta=0, patience=10, verbose=1, mode='auto')\n",
        "hist=model_final.fit_generator(traindata, steps_per_epoch=2,epochs= 100, validation_data= testdata,validation_steps=1, callbacks=[checkpoint,early])"
      ],
      "execution_count": 11,
      "outputs": [
        {
          "output_type": "stream",
          "text": [
            "Epoch 1/100\n",
            "2/2 [==============================] - 56s 28s/step - loss: 2.1654 - accuracy: 0.2031 - val_loss: 1.9024 - val_accuracy: 0.6875\n",
            "\n",
            "Epoch 00001: val_loss improved from inf to 1.90245, saving model to /content/drive/My Drive/Best models/model_n_1.h5\n"
          ],
          "name": "stdout"
        },
        {
          "output_type": "stream",
          "text": [
            "/usr/local/lib/python3.6/dist-packages/keras/callbacks/callbacks.py:846: RuntimeWarning: Early stopping conditioned on metric `val_acc` which is not available. Available metrics are: val_loss,val_accuracy,loss,accuracy\n",
            "  (self.monitor, ','.join(list(logs.keys()))), RuntimeWarning\n"
          ],
          "name": "stderr"
        },
        {
          "output_type": "stream",
          "text": [
            "Epoch 2/100\n",
            "2/2 [==============================] - 55s 28s/step - loss: 2.2716 - accuracy: 0.6250 - val_loss: 2.1291 - val_accuracy: 0.3750\n",
            "\n",
            "Epoch 00002: val_loss did not improve from 1.90245\n",
            "Epoch 3/100\n",
            "2/2 [==============================] - 51s 26s/step - loss: 1.3802 - accuracy: 0.5000 - val_loss: 0.6774 - val_accuracy: 0.6250\n",
            "\n",
            "Epoch 00003: val_loss improved from 1.90245 to 0.67744, saving model to /content/drive/My Drive/Best models/model_n_1.h5\n",
            "Epoch 4/100\n",
            "2/2 [==============================] - 55s 28s/step - loss: 0.6638 - accuracy: 0.6719 - val_loss: 0.6964 - val_accuracy: 0.6562\n",
            "\n",
            "Epoch 00004: val_loss did not improve from 0.67744\n",
            "Epoch 5/100\n",
            "2/2 [==============================] - 51s 26s/step - loss: 1.0013 - accuracy: 0.6250 - val_loss: 0.6145 - val_accuracy: 0.6562\n",
            "\n",
            "Epoch 00005: val_loss improved from 0.67744 to 0.61450, saving model to /content/drive/My Drive/Best models/model_n_1.h5\n",
            "Epoch 6/100\n",
            "2/2 [==============================] - 57s 28s/step - loss: 0.5902 - accuracy: 0.7188 - val_loss: 0.6067 - val_accuracy: 0.6875\n",
            "\n",
            "Epoch 00006: val_loss improved from 0.61450 to 0.60665, saving model to /content/drive/My Drive/Best models/model_n_1.h5\n",
            "Epoch 7/100\n",
            "2/2 [==============================] - 43s 22s/step - loss: 0.3949 - accuracy: 0.9219 - val_loss: 0.3423 - val_accuracy: 1.0000\n",
            "\n",
            "Epoch 00007: val_loss improved from 0.60665 to 0.34228, saving model to /content/drive/My Drive/Best models/model_n_1.h5\n",
            "Epoch 8/100\n",
            "2/2 [==============================] - 55s 27s/step - loss: 0.4570 - accuracy: 0.8438 - val_loss: 0.4308 - val_accuracy: 0.8125\n",
            "\n",
            "Epoch 00008: val_loss did not improve from 0.34228\n",
            "Epoch 9/100\n",
            "2/2 [==============================] - 52s 26s/step - loss: 0.4180 - accuracy: 0.8125 - val_loss: 0.5894 - val_accuracy: 0.7188\n",
            "\n",
            "Epoch 00009: val_loss did not improve from 0.34228\n",
            "Epoch 10/100\n",
            "2/2 [==============================] - 52s 26s/step - loss: 0.5617 - accuracy: 0.8438 - val_loss: 0.5928 - val_accuracy: 0.7500\n",
            "\n",
            "Epoch 00010: val_loss did not improve from 0.34228\n",
            "Epoch 11/100\n",
            "2/2 [==============================] - 52s 26s/step - loss: 0.4014 - accuracy: 0.8750 - val_loss: 0.3882 - val_accuracy: 0.8438\n",
            "\n",
            "Epoch 00011: val_loss did not improve from 0.34228\n",
            "Epoch 12/100\n",
            "2/2 [==============================] - 52s 26s/step - loss: 0.3450 - accuracy: 0.8438 - val_loss: 0.4899 - val_accuracy: 0.7812\n",
            "\n",
            "Epoch 00012: val_loss did not improve from 0.34228\n",
            "Epoch 13/100\n",
            "2/2 [==============================] - 52s 26s/step - loss: 0.3128 - accuracy: 0.8438 - val_loss: 0.5998 - val_accuracy: 0.7188\n",
            "\n",
            "Epoch 00013: val_loss did not improve from 0.34228\n",
            "Epoch 14/100\n",
            "2/2 [==============================] - 40s 20s/step - loss: 0.2698 - accuracy: 0.8594 - val_loss: 1.3987 - val_accuracy: 0.6250\n",
            "\n",
            "Epoch 00014: val_loss did not improve from 0.34228\n",
            "Epoch 15/100\n",
            "2/2 [==============================] - 52s 26s/step - loss: 0.2107 - accuracy: 0.9062 - val_loss: 0.4300 - val_accuracy: 0.8125\n",
            "\n",
            "Epoch 00015: val_loss did not improve from 0.34228\n",
            "Epoch 16/100\n",
            "2/2 [==============================] - 52s 26s/step - loss: 0.3409 - accuracy: 0.8281 - val_loss: 0.3554 - val_accuracy: 0.8438\n",
            "\n",
            "Epoch 00016: val_loss did not improve from 0.34228\n",
            "Epoch 17/100\n",
            "2/2 [==============================] - 52s 26s/step - loss: 0.4048 - accuracy: 0.8281 - val_loss: 0.3824 - val_accuracy: 0.8438\n",
            "\n",
            "Epoch 00017: val_loss did not improve from 0.34228\n",
            "Epoch 18/100\n",
            "2/2 [==============================] - 52s 26s/step - loss: 0.3216 - accuracy: 0.9062 - val_loss: 0.7735 - val_accuracy: 0.7500\n",
            "\n",
            "Epoch 00018: val_loss did not improve from 0.34228\n",
            "Epoch 19/100\n",
            "2/2 [==============================] - 51s 25s/step - loss: 0.2244 - accuracy: 0.9219 - val_loss: 0.3598 - val_accuracy: 0.8438\n",
            "\n",
            "Epoch 00019: val_loss did not improve from 0.34228\n",
            "Epoch 20/100\n",
            "2/2 [==============================] - 52s 26s/step - loss: 0.2361 - accuracy: 0.9219 - val_loss: 0.6237 - val_accuracy: 0.7500\n",
            "\n",
            "Epoch 00020: val_loss did not improve from 0.34228\n",
            "Epoch 21/100\n",
            "2/2 [==============================] - 40s 20s/step - loss: 0.3037 - accuracy: 0.8594 - val_loss: 0.1306 - val_accuracy: 1.0000\n",
            "\n",
            "Epoch 00021: val_loss improved from 0.34228 to 0.13060, saving model to /content/drive/My Drive/Best models/model_n_1.h5\n",
            "Epoch 22/100\n",
            "2/2 [==============================] - 55s 28s/step - loss: 0.4014 - accuracy: 0.8906 - val_loss: 0.4798 - val_accuracy: 0.8438\n",
            "\n",
            "Epoch 00022: val_loss did not improve from 0.13060\n",
            "Epoch 23/100\n",
            "2/2 [==============================] - 51s 26s/step - loss: 0.2121 - accuracy: 0.9375 - val_loss: 0.3345 - val_accuracy: 0.8438\n",
            "\n",
            "Epoch 00023: val_loss did not improve from 0.13060\n",
            "Epoch 24/100\n",
            "2/2 [==============================] - 51s 26s/step - loss: 0.2635 - accuracy: 0.9375 - val_loss: 0.5942 - val_accuracy: 0.7188\n",
            "\n",
            "Epoch 00024: val_loss did not improve from 0.13060\n",
            "Epoch 25/100\n",
            "2/2 [==============================] - 52s 26s/step - loss: 0.1777 - accuracy: 0.9375 - val_loss: 0.5753 - val_accuracy: 0.8125\n",
            "\n",
            "Epoch 00025: val_loss did not improve from 0.13060\n",
            "Epoch 26/100\n",
            "2/2 [==============================] - 51s 26s/step - loss: 0.2015 - accuracy: 0.9375 - val_loss: 0.2786 - val_accuracy: 0.8750\n",
            "\n",
            "Epoch 00026: val_loss did not improve from 0.13060\n",
            "Epoch 27/100\n",
            "2/2 [==============================] - 51s 25s/step - loss: 0.1649 - accuracy: 0.9375 - val_loss: 0.2301 - val_accuracy: 0.9375\n",
            "\n",
            "Epoch 00027: val_loss did not improve from 0.13060\n",
            "Epoch 28/100\n",
            "2/2 [==============================] - 41s 20s/step - loss: 0.2183 - accuracy: 0.9531 - val_loss: 1.3085 - val_accuracy: 0.5000\n",
            "\n",
            "Epoch 00028: val_loss did not improve from 0.13060\n",
            "Epoch 29/100\n",
            "2/2 [==============================] - 52s 26s/step - loss: 0.0526 - accuracy: 0.9844 - val_loss: 0.6734 - val_accuracy: 0.7500\n",
            "\n",
            "Epoch 00029: val_loss did not improve from 0.13060\n",
            "Epoch 30/100\n",
            "2/2 [==============================] - 52s 26s/step - loss: 0.1787 - accuracy: 0.9062 - val_loss: 0.4436 - val_accuracy: 0.8438\n",
            "\n",
            "Epoch 00030: val_loss did not improve from 0.13060\n",
            "Epoch 31/100\n",
            "2/2 [==============================] - 52s 26s/step - loss: 0.0787 - accuracy: 1.0000 - val_loss: 0.4383 - val_accuracy: 0.8438\n",
            "\n",
            "Epoch 00031: val_loss did not improve from 0.13060\n",
            "Epoch 32/100\n",
            "2/2 [==============================] - 52s 26s/step - loss: 0.1718 - accuracy: 0.9062 - val_loss: 0.5759 - val_accuracy: 0.7500\n",
            "\n",
            "Epoch 00032: val_loss did not improve from 0.13060\n",
            "Epoch 33/100\n",
            "2/2 [==============================] - 52s 26s/step - loss: 0.0775 - accuracy: 0.9844 - val_loss: 0.2000 - val_accuracy: 0.8438\n",
            "\n",
            "Epoch 00033: val_loss did not improve from 0.13060\n",
            "Epoch 34/100\n",
            "2/2 [==============================] - 52s 26s/step - loss: 0.1761 - accuracy: 0.9688 - val_loss: 0.4332 - val_accuracy: 0.8438\n",
            "\n",
            "Epoch 00034: val_loss did not improve from 0.13060\n",
            "Epoch 35/100\n",
            "2/2 [==============================] - 39s 19s/step - loss: 0.1545 - accuracy: 0.9375 - val_loss: 0.0119 - val_accuracy: 1.0000\n",
            "\n",
            "Epoch 00035: val_loss improved from 0.13060 to 0.01187, saving model to /content/drive/My Drive/Best models/model_n_1.h5\n",
            "Epoch 36/100\n",
            "2/2 [==============================] - 54s 27s/step - loss: 0.1399 - accuracy: 0.9531 - val_loss: 0.4336 - val_accuracy: 0.8438\n",
            "\n",
            "Epoch 00036: val_loss did not improve from 0.01187\n",
            "Epoch 37/100\n",
            "2/2 [==============================] - 52s 26s/step - loss: 0.1146 - accuracy: 0.9531 - val_loss: 0.6329 - val_accuracy: 0.7500\n",
            "\n",
            "Epoch 00037: val_loss did not improve from 0.01187\n",
            "Epoch 38/100\n",
            "2/2 [==============================] - 52s 26s/step - loss: 0.1397 - accuracy: 0.9219 - val_loss: 0.2278 - val_accuracy: 0.9062\n",
            "\n",
            "Epoch 00038: val_loss did not improve from 0.01187\n",
            "Epoch 39/100\n",
            "2/2 [==============================] - 52s 26s/step - loss: 0.1927 - accuracy: 0.9062 - val_loss: 0.4925 - val_accuracy: 0.8438\n",
            "\n",
            "Epoch 00039: val_loss did not improve from 0.01187\n",
            "Epoch 40/100\n",
            "2/2 [==============================] - 51s 26s/step - loss: 0.0626 - accuracy: 0.9844 - val_loss: 0.6231 - val_accuracy: 0.7812\n",
            "\n",
            "Epoch 00040: val_loss did not improve from 0.01187\n",
            "Epoch 41/100\n",
            "2/2 [==============================] - 51s 26s/step - loss: 0.0680 - accuracy: 0.9688 - val_loss: 0.1887 - val_accuracy: 0.9062\n",
            "\n",
            "Epoch 00041: val_loss did not improve from 0.01187\n",
            "Epoch 42/100\n",
            "2/2 [==============================] - 39s 20s/step - loss: 0.0611 - accuracy: 0.9844 - val_loss: 0.5475 - val_accuracy: 0.8750\n",
            "\n",
            "Epoch 00042: val_loss did not improve from 0.01187\n",
            "Epoch 43/100\n",
            "2/2 [==============================] - 52s 26s/step - loss: 0.1093 - accuracy: 0.9375 - val_loss: 0.2917 - val_accuracy: 0.9375\n",
            "\n",
            "Epoch 00043: val_loss did not improve from 0.01187\n",
            "Epoch 44/100\n",
            "2/2 [==============================] - 52s 26s/step - loss: 0.0564 - accuracy: 0.9844 - val_loss: 0.4059 - val_accuracy: 0.8438\n",
            "\n",
            "Epoch 00044: val_loss did not improve from 0.01187\n",
            "Epoch 45/100\n",
            "2/2 [==============================] - 51s 26s/step - loss: 0.0410 - accuracy: 1.0000 - val_loss: 0.6535 - val_accuracy: 0.7812\n",
            "\n",
            "Epoch 00045: val_loss did not improve from 0.01187\n",
            "Epoch 46/100\n",
            "2/2 [==============================] - 51s 25s/step - loss: 0.0288 - accuracy: 1.0000 - val_loss: 0.3371 - val_accuracy: 0.9062\n",
            "\n",
            "Epoch 00046: val_loss did not improve from 0.01187\n",
            "Epoch 47/100\n",
            "2/2 [==============================] - 52s 26s/step - loss: 0.0573 - accuracy: 0.9844 - val_loss: 0.2691 - val_accuracy: 0.8438\n",
            "\n",
            "Epoch 00047: val_loss did not improve from 0.01187\n",
            "Epoch 48/100\n",
            "2/2 [==============================] - 51s 26s/step - loss: 0.0902 - accuracy: 0.9688 - val_loss: 0.7543 - val_accuracy: 0.8125\n",
            "\n",
            "Epoch 00048: val_loss did not improve from 0.01187\n",
            "Epoch 49/100\n",
            "2/2 [==============================] - 39s 20s/step - loss: 0.1086 - accuracy: 0.9531 - val_loss: 0.7043 - val_accuracy: 0.7500\n",
            "\n",
            "Epoch 00049: val_loss did not improve from 0.01187\n",
            "Epoch 50/100\n",
            "2/2 [==============================] - 51s 26s/step - loss: 0.0893 - accuracy: 0.9531 - val_loss: 0.5580 - val_accuracy: 0.8125\n",
            "\n",
            "Epoch 00050: val_loss did not improve from 0.01187\n",
            "Epoch 51/100\n",
            "2/2 [==============================] - 51s 25s/step - loss: 0.0598 - accuracy: 0.9844 - val_loss: 0.4233 - val_accuracy: 0.8750\n",
            "\n",
            "Epoch 00051: val_loss did not improve from 0.01187\n",
            "Epoch 52/100\n",
            "2/2 [==============================] - 52s 26s/step - loss: 0.0401 - accuracy: 1.0000 - val_loss: 0.8468 - val_accuracy: 0.7500\n",
            "\n",
            "Epoch 00052: val_loss did not improve from 0.01187\n",
            "Epoch 53/100\n",
            "2/2 [==============================] - 51s 26s/step - loss: 0.0651 - accuracy: 0.9844 - val_loss: 0.3661 - val_accuracy: 0.8750\n",
            "\n",
            "Epoch 00053: val_loss did not improve from 0.01187\n",
            "Epoch 54/100\n",
            "2/2 [==============================] - 51s 26s/step - loss: 0.0672 - accuracy: 0.9844 - val_loss: 0.1100 - val_accuracy: 0.9375\n",
            "\n",
            "Epoch 00054: val_loss did not improve from 0.01187\n",
            "Epoch 55/100\n",
            "2/2 [==============================] - 51s 26s/step - loss: 0.0491 - accuracy: 0.9688 - val_loss: 1.2817 - val_accuracy: 0.6875\n",
            "\n",
            "Epoch 00055: val_loss did not improve from 0.01187\n",
            "Epoch 56/100\n",
            "2/2 [==============================] - 40s 20s/step - loss: 0.0200 - accuracy: 1.0000 - val_loss: 0.2218 - val_accuracy: 0.8750\n",
            "\n",
            "Epoch 00056: val_loss did not improve from 0.01187\n",
            "Epoch 57/100\n",
            "2/2 [==============================] - 51s 26s/step - loss: 0.0531 - accuracy: 0.9688 - val_loss: 0.1825 - val_accuracy: 0.9375\n",
            "\n",
            "Epoch 00057: val_loss did not improve from 0.01187\n",
            "Epoch 58/100\n",
            "2/2 [==============================] - 51s 26s/step - loss: 0.0382 - accuracy: 0.9844 - val_loss: 0.4768 - val_accuracy: 0.9062\n",
            "\n",
            "Epoch 00058: val_loss did not improve from 0.01187\n",
            "Epoch 59/100\n",
            "2/2 [==============================] - 52s 26s/step - loss: 0.0159 - accuracy: 1.0000 - val_loss: 0.4333 - val_accuracy: 0.9062\n",
            "\n",
            "Epoch 00059: val_loss did not improve from 0.01187\n",
            "Epoch 60/100\n",
            "2/2 [==============================] - 51s 26s/step - loss: 0.0210 - accuracy: 1.0000 - val_loss: 1.0784 - val_accuracy: 0.7188\n",
            "\n",
            "Epoch 00060: val_loss did not improve from 0.01187\n",
            "Epoch 61/100\n",
            "2/2 [==============================] - 51s 26s/step - loss: 0.0224 - accuracy: 0.9844 - val_loss: 0.3419 - val_accuracy: 0.8750\n",
            "\n",
            "Epoch 00061: val_loss did not improve from 0.01187\n",
            "Epoch 62/100\n",
            "2/2 [==============================] - 51s 26s/step - loss: 0.0151 - accuracy: 1.0000 - val_loss: 0.2624 - val_accuracy: 0.9062\n",
            "\n",
            "Epoch 00062: val_loss did not improve from 0.01187\n",
            "Epoch 63/100\n",
            "2/2 [==============================] - 41s 20s/step - loss: 0.0078 - accuracy: 1.0000 - val_loss: 0.1336 - val_accuracy: 0.8750\n",
            "\n",
            "Epoch 00063: val_loss did not improve from 0.01187\n",
            "Epoch 64/100\n",
            "2/2 [==============================] - 52s 26s/step - loss: 0.0056 - accuracy: 1.0000 - val_loss: 0.7900 - val_accuracy: 0.8125\n",
            "\n",
            "Epoch 00064: val_loss did not improve from 0.01187\n",
            "Epoch 65/100\n",
            "2/2 [==============================] - 51s 26s/step - loss: 0.0294 - accuracy: 0.9844 - val_loss: 0.7303 - val_accuracy: 0.8438\n",
            "\n",
            "Epoch 00065: val_loss did not improve from 0.01187\n",
            "Epoch 66/100\n",
            "2/2 [==============================] - 52s 26s/step - loss: 0.0065 - accuracy: 1.0000 - val_loss: 0.2454 - val_accuracy: 0.8438\n",
            "\n",
            "Epoch 00066: val_loss did not improve from 0.01187\n",
            "Epoch 67/100\n",
            "2/2 [==============================] - 51s 25s/step - loss: 0.0233 - accuracy: 1.0000 - val_loss: 0.1702 - val_accuracy: 0.9375\n",
            "\n",
            "Epoch 00067: val_loss did not improve from 0.01187\n",
            "Epoch 68/100\n",
            "2/2 [==============================] - 52s 26s/step - loss: 0.0206 - accuracy: 0.9844 - val_loss: 0.2187 - val_accuracy: 0.9062\n",
            "\n",
            "Epoch 00068: val_loss did not improve from 0.01187\n",
            "Epoch 69/100\n",
            "2/2 [==============================] - 51s 26s/step - loss: 0.0143 - accuracy: 1.0000 - val_loss: 0.6498 - val_accuracy: 0.8750\n",
            "\n",
            "Epoch 00069: val_loss did not improve from 0.01187\n",
            "Epoch 70/100\n",
            "2/2 [==============================] - 40s 20s/step - loss: 0.0080 - accuracy: 1.0000 - val_loss: 0.3572 - val_accuracy: 0.8750\n",
            "\n",
            "Epoch 00070: val_loss did not improve from 0.01187\n",
            "Epoch 71/100\n",
            "2/2 [==============================] - 52s 26s/step - loss: 0.0091 - accuracy: 1.0000 - val_loss: 0.5298 - val_accuracy: 0.8438\n",
            "\n",
            "Epoch 00071: val_loss did not improve from 0.01187\n",
            "Epoch 72/100\n",
            "2/2 [==============================] - 52s 26s/step - loss: 0.0171 - accuracy: 1.0000 - val_loss: 0.5752 - val_accuracy: 0.8438\n",
            "\n",
            "Epoch 00072: val_loss did not improve from 0.01187\n",
            "Epoch 73/100\n",
            "2/2 [==============================] - 51s 26s/step - loss: 0.0052 - accuracy: 1.0000 - val_loss: 0.7270 - val_accuracy: 0.7500\n",
            "\n",
            "Epoch 00073: val_loss did not improve from 0.01187\n",
            "Epoch 74/100\n",
            "2/2 [==============================] - 51s 26s/step - loss: 0.0061 - accuracy: 1.0000 - val_loss: 0.4892 - val_accuracy: 0.8750\n",
            "\n",
            "Epoch 00074: val_loss did not improve from 0.01187\n",
            "Epoch 75/100\n",
            "2/2 [==============================] - 51s 26s/step - loss: 0.0275 - accuracy: 0.9844 - val_loss: 0.6783 - val_accuracy: 0.8125\n",
            "\n",
            "Epoch 00075: val_loss did not improve from 0.01187\n",
            "Epoch 76/100\n",
            "2/2 [==============================] - 52s 26s/step - loss: 0.0207 - accuracy: 1.0000 - val_loss: 0.3119 - val_accuracy: 0.9375\n",
            "\n",
            "Epoch 00076: val_loss did not improve from 0.01187\n",
            "Epoch 77/100\n",
            "2/2 [==============================] - 39s 20s/step - loss: 0.0030 - accuracy: 1.0000 - val_loss: 0.2901 - val_accuracy: 0.8750\n",
            "\n",
            "Epoch 00077: val_loss did not improve from 0.01187\n",
            "Epoch 78/100\n",
            "2/2 [==============================] - 52s 26s/step - loss: 0.0537 - accuracy: 0.9844 - val_loss: 0.4665 - val_accuracy: 0.8125\n",
            "\n",
            "Epoch 00078: val_loss did not improve from 0.01187\n",
            "Epoch 79/100\n",
            "2/2 [==============================] - 52s 26s/step - loss: 0.0200 - accuracy: 0.9844 - val_loss: 0.6490 - val_accuracy: 0.7500\n",
            "\n",
            "Epoch 00079: val_loss did not improve from 0.01187\n",
            "Epoch 80/100\n",
            "2/2 [==============================] - 52s 26s/step - loss: 0.0106 - accuracy: 1.0000 - val_loss: 0.6033 - val_accuracy: 0.8438\n",
            "\n",
            "Epoch 00080: val_loss did not improve from 0.01187\n",
            "Epoch 81/100\n",
            "2/2 [==============================] - 53s 27s/step - loss: 0.0628 - accuracy: 0.9688 - val_loss: 0.4744 - val_accuracy: 0.8750\n",
            "\n",
            "Epoch 00081: val_loss did not improve from 0.01187\n",
            "Epoch 82/100\n",
            "2/2 [==============================] - 52s 26s/step - loss: 0.0036 - accuracy: 1.0000 - val_loss: 0.4920 - val_accuracy: 0.8438\n",
            "\n",
            "Epoch 00082: val_loss did not improve from 0.01187\n",
            "Epoch 83/100\n",
            "2/2 [==============================] - 51s 26s/step - loss: 0.0123 - accuracy: 1.0000 - val_loss: 0.7001 - val_accuracy: 0.8125\n",
            "\n",
            "Epoch 00083: val_loss did not improve from 0.01187\n",
            "Epoch 84/100\n",
            "2/2 [==============================] - 39s 19s/step - loss: 0.0096 - accuracy: 1.0000 - val_loss: 0.1170 - val_accuracy: 1.0000\n",
            "\n",
            "Epoch 00084: val_loss did not improve from 0.01187\n",
            "Epoch 85/100\n",
            "2/2 [==============================] - 51s 26s/step - loss: 0.0086 - accuracy: 1.0000 - val_loss: 0.5439 - val_accuracy: 0.7812\n",
            "\n",
            "Epoch 00085: val_loss did not improve from 0.01187\n",
            "Epoch 86/100\n",
            "2/2 [==============================] - 51s 25s/step - loss: 0.0083 - accuracy: 1.0000 - val_loss: 0.2546 - val_accuracy: 0.9062\n",
            "\n",
            "Epoch 00086: val_loss did not improve from 0.01187\n",
            "Epoch 87/100\n",
            "2/2 [==============================] - 51s 25s/step - loss: 0.0043 - accuracy: 1.0000 - val_loss: 1.1803 - val_accuracy: 0.8125\n",
            "\n",
            "Epoch 00087: val_loss did not improve from 0.01187\n",
            "Epoch 88/100\n",
            "2/2 [==============================] - 51s 26s/step - loss: 0.0035 - accuracy: 1.0000 - val_loss: 0.3019 - val_accuracy: 0.9688\n",
            "\n",
            "Epoch 00088: val_loss did not improve from 0.01187\n",
            "Epoch 89/100\n",
            "2/2 [==============================] - 51s 26s/step - loss: 0.0209 - accuracy: 1.0000 - val_loss: 0.1562 - val_accuracy: 0.9375\n",
            "\n",
            "Epoch 00089: val_loss did not improve from 0.01187\n",
            "Epoch 90/100\n",
            "2/2 [==============================] - 51s 26s/step - loss: 0.0054 - accuracy: 1.0000 - val_loss: 0.8460 - val_accuracy: 0.7188\n",
            "\n",
            "Epoch 00090: val_loss did not improve from 0.01187\n",
            "Epoch 91/100\n",
            "2/2 [==============================] - 39s 20s/step - loss: 0.0028 - accuracy: 1.0000 - val_loss: 0.6795 - val_accuracy: 0.7500\n",
            "\n",
            "Epoch 00091: val_loss did not improve from 0.01187\n",
            "Epoch 92/100\n",
            "2/2 [==============================] - 51s 25s/step - loss: 0.0038 - accuracy: 1.0000 - val_loss: 0.7190 - val_accuracy: 0.8438\n",
            "\n",
            "Epoch 00092: val_loss did not improve from 0.01187\n",
            "Epoch 93/100\n",
            "2/2 [==============================] - 52s 26s/step - loss: 0.0229 - accuracy: 1.0000 - val_loss: 0.3442 - val_accuracy: 0.9062\n",
            "\n",
            "Epoch 00093: val_loss did not improve from 0.01187\n",
            "Epoch 94/100\n",
            "2/2 [==============================] - 51s 26s/step - loss: 0.0024 - accuracy: 1.0000 - val_loss: 0.1975 - val_accuracy: 0.9375\n",
            "\n",
            "Epoch 00094: val_loss did not improve from 0.01187\n",
            "Epoch 95/100\n",
            "2/2 [==============================] - 51s 26s/step - loss: 0.0027 - accuracy: 1.0000 - val_loss: 0.1671 - val_accuracy: 0.9062\n",
            "\n",
            "Epoch 00095: val_loss did not improve from 0.01187\n",
            "Epoch 96/100\n",
            "2/2 [==============================] - 51s 26s/step - loss: 0.0056 - accuracy: 1.0000 - val_loss: 0.8479 - val_accuracy: 0.7812\n",
            "\n",
            "Epoch 00096: val_loss did not improve from 0.01187\n",
            "Epoch 97/100\n",
            "2/2 [==============================] - 51s 25s/step - loss: 0.0015 - accuracy: 1.0000 - val_loss: 0.4233 - val_accuracy: 0.8438\n",
            "\n",
            "Epoch 00097: val_loss did not improve from 0.01187\n",
            "Epoch 98/100\n",
            "2/2 [==============================] - 40s 20s/step - loss: 0.0020 - accuracy: 1.0000 - val_loss: 1.5177 - val_accuracy: 0.5000\n",
            "\n",
            "Epoch 00098: val_loss did not improve from 0.01187\n",
            "Epoch 99/100\n",
            "2/2 [==============================] - 51s 26s/step - loss: 0.0310 - accuracy: 0.9844 - val_loss: 0.2086 - val_accuracy: 0.9375\n",
            "\n",
            "Epoch 00099: val_loss did not improve from 0.01187\n",
            "Epoch 100/100\n",
            "2/2 [==============================] - 52s 26s/step - loss: 0.0022 - accuracy: 1.0000 - val_loss: 0.8690 - val_accuracy: 0.8438\n",
            "\n",
            "Epoch 00100: val_loss did not improve from 0.01187\n"
          ],
          "name": "stdout"
        }
      ]
    },
    {
      "cell_type": "code",
      "metadata": {
        "id": "HVTVRSV8ZlQb",
        "colab_type": "code",
        "colab": {
          "base_uri": "https://localhost:8080/",
          "height": 295
        },
        "outputId": "eda05204-6ad8-4469-d290-093a3f828414"
      },
      "source": [
        "import matplotlib.pyplot as plt\n",
        "plt.plot(hist.history[\"accuracy\"])\n",
        "plt.plot(hist.history['val_accuracy'])\n",
        "\n",
        "plt.title(\"model accuracy\")\n",
        "plt.ylabel(\"Accuracy\")\n",
        "plt.xlabel(\"Epoch\")\n",
        "plt.legend([\"Accuracy\",\"Validation Accuracy\"])\n",
        "plt.show()"
      ],
      "execution_count": 12,
      "outputs": [
        {
          "output_type": "display_data",
          "data": {
            "image/png": "[encoded data removed]",
            "text/plain": [
              "<Figure size 432x288 with 1 Axes>"
            ]
          },
          "metadata": {
            "tags": [],
            "needs_background": "light"
          }
        }
      ]
    },
    {
      "cell_type": "code",
      "metadata": {
        "id": "S1zKuauZZnZF",
        "colab_type": "code",
        "colab": {
          "base_uri": "https://localhost:8080/",
          "height": 279
        },
        "outputId": "78640c11-1dce-483b-a8b5-3ae11ac6a5a5"
      },
      "source": [
        "plt.plot(hist.history['loss'])\n",
        "plt.plot(hist.history['val_loss'])\n",
        "plt.ylabel(\"Loss\")\n",
        "plt.xlabel(\"Epoch\")\n",
        "plt.legend([\"loss\",\"Validation Loss\"])\n",
        "plt.show()"
      ],
      "execution_count": 13,
      "outputs": [
        {
          "output_type": "display_data",
          "data": {
            "image/png": "[encoded data removed]",
            "text/plain": [
              "<Figure size 432x288 with 1 Axes>"
            ]
          },
          "metadata": {
            "tags": [],
            "needs_background": "light"
          }
        }
      ]
    },
    {
      "cell_type": "code",
      "metadata": {
        "id": "mscgt0FiIA3D",
        "colab_type": "code",
        "colab": {}
      },
      "source": [
        "model_final.save(\"/content/drive/My Drive/Best models/model1_1.h5\")"
      ],
      "execution_count": 14,
      "outputs": []
    },
    {
      "cell_type": "code",
      "metadata": {
        "id": "1E7hce4INlu7",
        "colab_type": "code",
        "colab": {}
      },
      "source": [
        "model_cnn=keras.models.load_model(\"/content/drive/My Drive/Best models/model_n_1.h5\")"
      ],
      "execution_count": 15,
      "outputs": []
    },
    {
      "cell_type": "code",
      "metadata": {
        "id": "MzvKc_3sDZ0v",
        "colab_type": "code",
        "colab": {}
      },
      "source": [
        ""
      ],
      "execution_count": null,
      "outputs": []
    },
    {
      "cell_type": "code",
      "metadata": {
        "colab_type": "code",
        "id": "Hw7iVVAxDaTf",
        "colab": {
          "base_uri": "https://localhost:8080/",
          "height": 306
        },
        "outputId": "b4844311-9709-4083-a9b3-078caca21a01"
      },
      "source": [
        "#Confution Matrix and Classification Report\n",
        "from sklearn.metrics import classification_report, confusion_matrix\n",
        "import numpy as np\n",
        "Y_pred = model_cnn.predict_generator(testdata)\n",
        "y_pred = np.argmax(Y_pred, axis=1)\n",
        "print('Confusion Matrix')\n",
        "print(confusion_matrix(testdata.classes, y_pred))\n",
        "print('Classification Report')\n",
        "target_names = ['grade0', 'grade1', 'grade2','grade3']\n",
        "print(classification_report(testdata.classes, y_pred, target_names=target_names))"
      ],
      "execution_count": null,
      "outputs": [
        {
          "output_type": "stream",
          "text": [
            "Confusion Matrix\n",
            "[[14 16 11  9]\n",
            " [11  8 15 16]\n",
            " [17  7 19  7]\n",
            " [15  8 16 11]]\n",
            "Classification Report\n",
            "              precision    recall  f1-score   support\n",
            "\n",
            "      grade0       0.25      0.28      0.26        50\n",
            "      grade1       0.21      0.16      0.18        50\n",
            "      grade2       0.31      0.38      0.34        50\n",
            "      grade3       0.26      0.22      0.24        50\n",
            "\n",
            "    accuracy                           0.26       200\n",
            "   macro avg       0.25      0.26      0.26       200\n",
            "weighted avg       0.25      0.26      0.26       200\n",
            "\n"
          ],
          "name": "stdout"
        }
      ]
    },
    {
      "cell_type": "code",
      "metadata": {
        "id": "WwAzAbBdZulp",
        "colab_type": "code",
        "colab": {}
      },
      "source": [
        "from keras.preprocessing.image import ImageDataGenerator\n",
        "from sklearn.metrics import classification_report, confusion_matrix\n",
        "\n",
        "test_datagen = ImageDataGenerator()"
      ],
      "execution_count": null,
      "outputs": []
    },
    {
      "cell_type": "code",
      "metadata": {
        "id": "GxVOVV3zZyE7",
        "colab_type": "code",
        "colab": {
          "base_uri": "https://localhost:8080/",
          "height": 34
        },
        "outputId": "80785201-f445-469b-a2f9-061b0a8e16fc"
      },
      "source": [
        "validation_generator = test_datagen.flow_from_directory('/content/drive/My Drive/data-liverd/val',\n",
        "                                                        target_size=(224, 224))"
      ],
      "execution_count": null,
      "outputs": [
        {
          "output_type": "stream",
          "text": [
            "Found 200 images belonging to 4 classes.\n"
          ],
          "name": "stdout"
        }
      ]
    },
    {
      "cell_type": "code",
      "metadata": {
        "id": "eAMUtksqjslN",
        "colab_type": "code",
        "colab": {
          "base_uri": "https://localhost:8080/",
          "height": 306
        },
        "outputId": "04ca9d69-e848-498a-c01a-65d85a36993f"
      },
      "source": [
        "import numpy as np\n",
        "#Confution Matrix and Classification Report\n",
        "Y_pred = model_cnn.predict_generator(validation_generator)\n",
        "y_pred = np.argmax(Y_pred, axis=1)\n",
        "print('Confusion Matrix')\n",
        "print(confusion_matrix(validation_generator.classes, y_pred))\n",
        "print('Classification Report')\n",
        "#target_names = ['grade1', 'grade0', 'grade2','grade3']\n",
        "print(classification_report(validation_generator.classes, y_pred))"
      ],
      "execution_count": null,
      "outputs": [
        {
          "output_type": "stream",
          "text": [
            "Confusion Matrix\n",
            "[[12  6 12 20]\n",
            " [ 8  6 19 17]\n",
            " [18  5 12 15]\n",
            " [13  5 11 21]]\n",
            "Classification Report\n",
            "              precision    recall  f1-score   support\n",
            "\n",
            "           0       0.24      0.24      0.24        50\n",
            "           1       0.27      0.12      0.17        50\n",
            "           2       0.22      0.24      0.23        50\n",
            "           3       0.29      0.42      0.34        50\n",
            "\n",
            "    accuracy                           0.26       200\n",
            "   macro avg       0.25      0.26      0.24       200\n",
            "weighted avg       0.25      0.26      0.24       200\n",
            "\n"
          ],
          "name": "stdout"
        }
      ]
    },
    {
      "cell_type": "code",
      "metadata": {
        "id": "nCeG5IC_Z6kq",
        "colab_type": "code",
        "colab": {
          "base_uri": "https://localhost:8080/",
          "height": 153
        },
        "outputId": "17882176-629e-460e-a1e2-4990f593cb9b"
      },
      "source": [
        "import os\n",
        "import numpy as np\n",
        "actual=[]\n",
        "predicted=[]\n",
        "data_path='/content/drive/My Drive/data-liverd/val'\n",
        "data_dir_list=os.listdir(data_path)\n",
        "for dataset in data_dir_list:\n",
        "  print(dataset)\n",
        "  img_list=os.listdir(data_path+'/'+dataset)\n",
        "  correctCount=0\n",
        "  wrongCount=0\n",
        "  for img in img_list:\n",
        "    img_path=data_path+'/'+dataset+'/'+img\n",
        "    input_image = image.load_img(img_path,target_size=(224,224))\n",
        "    input_image = np.asarray(input_image)\n",
        "    input_image = np.expand_dims(input_image, axis=0)\n",
        "    output = model_cnn.predict(input_image)\n",
        "    ans='grade'+str(np.argmax(output[0],axis=0))\n",
        "    if( ans in img):\n",
        "      correctCount+=1\n",
        "    else:\n",
        "      wrongCount+=1\n",
        "    actual.append(img[:6])\n",
        "    predicted.append(ans)\n",
        "  print(\"correct Count {} WrongCount {}\".format(correctCount,wrongCount))"
      ],
      "execution_count": 18,
      "outputs": [
        {
          "output_type": "stream",
          "text": [
            "grade1\n",
            "correct Count 26 WrongCount 24\n",
            "grade0\n",
            "correct Count 43 WrongCount 7\n",
            "grade2\n",
            "correct Count 46 WrongCount 4\n",
            "grade3\n",
            "correct Count 47 WrongCount 3\n"
          ],
          "name": "stdout"
        }
      ]
    },
    {
      "cell_type": "code",
      "metadata": {
        "id": "6Y1TLJJcXt63",
        "colab_type": "code",
        "colab": {
          "base_uri": "https://localhost:8080/",
          "height": 323
        },
        "outputId": "37e912f8-4a1e-4142-8498-8e49ef583c27"
      },
      "source": [
        "# Python script for confusion matrix creation. \n",
        "from sklearn.metrics import confusion_matrix \n",
        "from sklearn.metrics import accuracy_score \n",
        "from sklearn.metrics import classification_report \n",
        "results = confusion_matrix(actual, predicted) \n",
        " \n",
        "print ('Confusion Matrix :')\n",
        "print(results) \n",
        "print ('Accuracy Score :',accuracy_score(actual, predicted)) \n",
        "print ('Report : ')\n",
        "print (classification_report(actual, predicted))"
      ],
      "execution_count": 19,
      "outputs": [
        {
          "output_type": "stream",
          "text": [
            "Confusion Matrix :\n",
            "[[43  6  0  1]\n",
            " [ 1 26  5 18]\n",
            " [ 0  2 46  2]\n",
            " [ 0  2  1 47]]\n",
            "Accuracy Score : 0.81\n",
            "Report : \n",
            "              precision    recall  f1-score   support\n",
            "\n",
            "      grade0       0.98      0.86      0.91        50\n",
            "      grade1       0.72      0.52      0.60        50\n",
            "      grade2       0.88      0.92      0.90        50\n",
            "      grade3       0.69      0.94      0.80        50\n",
            "\n",
            "    accuracy                           0.81       200\n",
            "   macro avg       0.82      0.81      0.80       200\n",
            "weighted avg       0.82      0.81      0.80       200\n",
            "\n"
          ],
          "name": "stdout"
        }
      ]
    },
    {
      "cell_type": "code",
      "metadata": {
        "colab_type": "code",
        "id": "YNa87qHtw8fM",
        "colab": {
          "base_uri": "https://localhost:8080/",
          "height": 153
        },
        "outputId": "d4108fdd-469e-482f-ddad-921e2c3df9a9"
      },
      "source": [
        "import os\n",
        "import numpy as np\n",
        "actual=[]\n",
        "predicted=[]\n",
        "data_path='/content/drive/My Drive/data-liverd/val'\n",
        "data_dir_list=os.listdir(data_path)\n",
        "for dataset in data_dir_list:\n",
        "  print(dataset)\n",
        "  img_list=os.listdir(data_path+'/'+dataset)\n",
        "  correctCount=0\n",
        "  wrongCount=0\n",
        "  for img in img_list:\n",
        "    img_path=data_path+'/'+dataset+'/'+img\n",
        "    input_image = image.load_img(img_path,target_size=(224,224))\n",
        "    input_image = np.asarray(input_image)\n",
        "    input_image = np.expand_dims(input_image, axis=0)\n",
        "    output = model_final.predict(input_image)\n",
        "    ans='grade'+str(np.argmax(output[0],axis=0))\n",
        "    if( ans in img):\n",
        "      correctCount+=1\n",
        "    else:\n",
        "      wrongCount+=1\n",
        "    actual.append(img[:6])\n",
        "    predicted.append(ans)\n",
        "  print(\"correct Count {} WrongCount {}\".format(correctCount,wrongCount))"
      ],
      "execution_count": 16,
      "outputs": [
        {
          "output_type": "stream",
          "text": [
            "grade1\n",
            "correct Count 40 WrongCount 10\n",
            "grade0\n",
            "correct Count 43 WrongCount 7\n",
            "grade2\n",
            "correct Count 45 WrongCount 5\n",
            "grade3\n",
            "correct Count 44 WrongCount 6\n"
          ],
          "name": "stdout"
        }
      ]
    },
    {
      "cell_type": "code",
      "metadata": {
        "id": "z5Nn1DC7w70r",
        "colab_type": "code",
        "colab": {}
      },
      "source": [
        ""
      ],
      "execution_count": null,
      "outputs": []
    },
    {
      "cell_type": "code",
      "metadata": {
        "colab_type": "code",
        "id": "Wq3VzWFExC1o",
        "colab": {
          "base_uri": "https://localhost:8080/",
          "height": 323
        },
        "outputId": "e7082765-3346-46b5-b846-4fc431cb3f6a"
      },
      "source": [
        "# Python script for confusion matrix creation. \n",
        "from sklearn.metrics import confusion_matrix \n",
        "from sklearn.metrics import accuracy_score \n",
        "from sklearn.metrics import classification_report \n",
        "results = confusion_matrix(actual, predicted) \n",
        "\n",
        "print ('Confusion Matrix :')\n",
        "print(results) \n",
        "print ('Accuracy Score :',accuracy_score(actual, predicted)) \n",
        "print ('Report : ')\n",
        "print (classification_report(actual, predicted)) \n"
      ],
      "execution_count": 17,
      "outputs": [
        {
          "output_type": "stream",
          "text": [
            "Confusion Matrix :\n",
            "[[43  7  0  0]\n",
            " [ 1 40  2  7]\n",
            " [ 0  2 45  3]\n",
            " [ 0  5  1 44]]\n",
            "Accuracy Score : 0.86\n",
            "Report : \n",
            "              precision    recall  f1-score   support\n",
            "\n",
            "      grade0       0.98      0.86      0.91        50\n",
            "      grade1       0.74      0.80      0.77        50\n",
            "      grade2       0.94      0.90      0.92        50\n",
            "      grade3       0.81      0.88      0.85        50\n",
            "\n",
            "    accuracy                           0.86       200\n",
            "   macro avg       0.87      0.86      0.86       200\n",
            "weighted avg       0.87      0.86      0.86       200\n",
            "\n"
          ],
          "name": "stdout"
        }
      ]
    },
    {
      "cell_type": "code",
      "metadata": {
        "id": "13hBXTUZwD52",
        "colab_type": "code",
        "colab": {
          "base_uri": "https://localhost:8080/",
          "height": 51
        },
        "outputId": "ed55c8f7-7c9f-4451-ce9c-0430197350e0"
      },
      "source": [
        "tr_loss,tr_acc=model_cnn.evaluate(testdata)\n",
        "tr_acc"
      ],
      "execution_count": null,
      "outputs": [
        {
          "output_type": "stream",
          "text": [
            "7/7 [==============================] - 103s 15s/step\n"
          ],
          "name": "stdout"
        },
        {
          "output_type": "execute_result",
          "data": {
            "text/plain": [
              "0.7850000262260437"
            ]
          },
          "metadata": {
            "tags": []
          },
          "execution_count": 23
        }
      ]
    },
    {
      "cell_type": "code",
      "metadata": {
        "id": "ntwjv8i0wHmH",
        "colab_type": "code",
        "colab": {
          "base_uri": "https://localhost:8080/",
          "height": 51
        },
        "outputId": "2c820795-3dc6-46da-fdcf-3371f01952e5"
      },
      "source": [
        "tr_loss,tr_acc=model_final.evaluate(traindata)\n",
        "tr_acc"
      ],
      "execution_count": null,
      "outputs": [
        {
          "output_type": "stream",
          "text": [
            "25/25 [==============================] - 407s 16s/step\n"
          ],
          "name": "stdout"
        },
        {
          "output_type": "execute_result",
          "data": {
            "text/plain": [
              "0.8199999928474426"
            ]
          },
          "metadata": {
            "tags": []
          },
          "execution_count": 24
        }
      ]
    },
    {
      "cell_type": "code",
      "metadata": {
        "id": "1NOM-AafyXVT",
        "colab_type": "code",
        "colab": {
          "base_uri": "https://localhost:8080/",
          "height": 51
        },
        "outputId": "d3c397d3-d5c8-48fa-849e-3c9e9df8526e"
      },
      "source": [
        "tr_loss,tr_acc=model_final.evaluate(testdata)\n",
        "tr_acc"
      ],
      "execution_count": null,
      "outputs": [
        {
          "output_type": "stream",
          "text": [
            "7/7 [==============================] - 102s 15s/step\n"
          ],
          "name": "stdout"
        },
        {
          "output_type": "execute_result",
          "data": {
            "text/plain": [
              "0.7850000262260437"
            ]
          },
          "metadata": {
            "tags": []
          },
          "execution_count": 25
        }
      ]
    },
    {
      "cell_type": "code",
      "metadata": {
        "id": "mTNWvGsEywGT",
        "colab_type": "code",
        "colab": {}
      },
      "source": [
        "saved_model=keras.models.load_model(\"/content/drive/My Drive/Best models/model_n_1.h5\")"
      ],
      "execution_count": null,
      "outputs": []
    },
    {
      "cell_type": "code",
      "metadata": {
        "colab_type": "code",
        "id": "bIRR3fnFzXLD",
        "colab": {
          "base_uri": "https://localhost:8080/",
          "height": 51
        },
        "outputId": "6466a041-e4d7-49ec-a0bd-ea2a53e42314"
      },
      "source": [
        "tr_loss,tr_acc=saved_model.evaluate(validation_generator)\n",
        "tr_acc"
      ],
      "execution_count": null,
      "outputs": [
        {
          "output_type": "stream",
          "text": [
            "7/7 [==============================] - 102s 15s/step\n"
          ],
          "name": "stdout"
        },
        {
          "output_type": "execute_result",
          "data": {
            "text/plain": [
              "0.7850000262260437"
            ]
          },
          "metadata": {
            "tags": []
          },
          "execution_count": 27
        }
      ]
    },
    {
      "cell_type": "code",
      "metadata": {
        "id": "ihCmpaYAzgH4",
        "colab_type": "code",
        "colab": {}
      },
      "source": [
        ""
      ],
      "execution_count": null,
      "outputs": []
    },
    {
      "cell_type": "code",
      "metadata": {
        "colab_type": "code",
        "id": "EmEGMcRkzgyK",
        "colab": {
          "base_uri": "https://localhost:8080/",
          "height": 51
        },
        "outputId": "1a84f522-dfc5-4b12-c192-e8f419067e39"
      },
      "source": [
        "tr_loss,tr_acc=saved_model.evaluate(testdata)\n",
        "tr_acc"
      ],
      "execution_count": null,
      "outputs": [
        {
          "output_type": "stream",
          "text": [
            "7/7 [==============================] - 103s 15s/step\n"
          ],
          "name": "stdout"
        },
        {
          "output_type": "execute_result",
          "data": {
            "text/plain": [
              "0.7850000262260437"
            ]
          },
          "metadata": {
            "tags": []
          },
          "execution_count": 28
        }
      ]
    },
    {
      "cell_type": "code",
      "metadata": {
        "id": "rtN1rqlVp7ll",
        "colab_type": "code",
        "colab": {
          "base_uri": "https://localhost:8080/",
          "height": 425
        },
        "outputId": "ec51e56c-9c8f-4417-d53f-61770440a845"
      },
      "source": [
        "model_final=keras.models.load_model(\"/content/drive/My Drive/Best models/model_f_1.h5\")"
      ],
      "execution_count": null,
      "outputs": [
        {
          "output_type": "error",
          "ename": "OSError",
          "evalue": "ignored",
          "traceback": [
            "\u001b[0;31m---------------------------------------------------------------------------\u001b[0m",
            "\u001b[0;31mOSError\u001b[0m                                   Traceback (most recent call last)",
            "\u001b[0;32m<ipython-input-29-0a30020277c3>\u001b[0m in \u001b[0;36m<module>\u001b[0;34m()\u001b[0m\n\u001b[0;32m----> 1\u001b[0;31m \u001b[0mmodel_final\u001b[0m\u001b[0;34m=\u001b[0m\u001b[0mkeras\u001b[0m\u001b[0;34m.\u001b[0m\u001b[0mmodels\u001b[0m\u001b[0;34m.\u001b[0m\u001b[0mload_model\u001b[0m\u001b[0;34m(\u001b[0m\u001b[0;34m\"/content/drive/My Drive/Best models/model_f_1.h5\"\u001b[0m\u001b[0;34m)\u001b[0m\u001b[0;34m\u001b[0m\u001b[0;34m\u001b[0m\u001b[0m\n\u001b[0m",
            "\u001b[0;32m/usr/local/lib/python3.6/dist-packages/keras/engine/saving.py\u001b[0m in \u001b[0;36mload_wrapper\u001b[0;34m(*args, **kwargs)\u001b[0m\n\u001b[1;32m    490\u001b[0m                 \u001b[0mos\u001b[0m\u001b[0;34m.\u001b[0m\u001b[0mremove\u001b[0m\u001b[0;34m(\u001b[0m\u001b[0mtmp_filepath\u001b[0m\u001b[0;34m)\u001b[0m\u001b[0;34m\u001b[0m\u001b[0;34m\u001b[0m\u001b[0m\n\u001b[1;32m    491\u001b[0m             \u001b[0;32mreturn\u001b[0m \u001b[0mres\u001b[0m\u001b[0;34m\u001b[0m\u001b[0;34m\u001b[0m\u001b[0m\n\u001b[0;32m--> 492\u001b[0;31m         \u001b[0;32mreturn\u001b[0m \u001b[0mload_function\u001b[0m\u001b[0;34m(\u001b[0m\u001b[0;34m*\u001b[0m\u001b[0margs\u001b[0m\u001b[0;34m,\u001b[0m \u001b[0;34m**\u001b[0m\u001b[0mkwargs\u001b[0m\u001b[0;34m)\u001b[0m\u001b[0;34m\u001b[0m\u001b[0;34m\u001b[0m\u001b[0m\n\u001b[0m\u001b[1;32m    493\u001b[0m \u001b[0;34m\u001b[0m\u001b[0m\n\u001b[1;32m    494\u001b[0m     \u001b[0;32mreturn\u001b[0m \u001b[0mload_wrapper\u001b[0m\u001b[0;34m\u001b[0m\u001b[0;34m\u001b[0m\u001b[0m\n",
            "\u001b[0;32m/usr/local/lib/python3.6/dist-packages/keras/engine/saving.py\u001b[0m in \u001b[0;36mload_model\u001b[0;34m(filepath, custom_objects, compile)\u001b[0m\n\u001b[1;32m    581\u001b[0m \u001b[0;34m\u001b[0m\u001b[0m\n\u001b[1;32m    582\u001b[0m     \u001b[0;32mif\u001b[0m \u001b[0mH5Dict\u001b[0m\u001b[0;34m.\u001b[0m\u001b[0mis_supported_type\u001b[0m\u001b[0;34m(\u001b[0m\u001b[0mfilepath\u001b[0m\u001b[0;34m)\u001b[0m\u001b[0;34m:\u001b[0m\u001b[0;34m\u001b[0m\u001b[0;34m\u001b[0m\u001b[0m\n\u001b[0;32m--> 583\u001b[0;31m         \u001b[0;32mwith\u001b[0m \u001b[0mH5Dict\u001b[0m\u001b[0;34m(\u001b[0m\u001b[0mfilepath\u001b[0m\u001b[0;34m,\u001b[0m \u001b[0mmode\u001b[0m\u001b[0;34m=\u001b[0m\u001b[0;34m'r'\u001b[0m\u001b[0;34m)\u001b[0m \u001b[0;32mas\u001b[0m \u001b[0mh5dict\u001b[0m\u001b[0;34m:\u001b[0m\u001b[0;34m\u001b[0m\u001b[0;34m\u001b[0m\u001b[0m\n\u001b[0m\u001b[1;32m    584\u001b[0m             \u001b[0mmodel\u001b[0m \u001b[0;34m=\u001b[0m \u001b[0m_deserialize_model\u001b[0m\u001b[0;34m(\u001b[0m\u001b[0mh5dict\u001b[0m\u001b[0;34m,\u001b[0m \u001b[0mcustom_objects\u001b[0m\u001b[0;34m,\u001b[0m \u001b[0mcompile\u001b[0m\u001b[0;34m)\u001b[0m\u001b[0;34m\u001b[0m\u001b[0;34m\u001b[0m\u001b[0m\n\u001b[1;32m    585\u001b[0m     \u001b[0;32melif\u001b[0m \u001b[0mhasattr\u001b[0m\u001b[0;34m(\u001b[0m\u001b[0mfilepath\u001b[0m\u001b[0;34m,\u001b[0m \u001b[0;34m'write'\u001b[0m\u001b[0;34m)\u001b[0m \u001b[0;32mand\u001b[0m \u001b[0mcallable\u001b[0m\u001b[0;34m(\u001b[0m\u001b[0mfilepath\u001b[0m\u001b[0;34m.\u001b[0m\u001b[0mwrite\u001b[0m\u001b[0;34m)\u001b[0m\u001b[0;34m:\u001b[0m\u001b[0;34m\u001b[0m\u001b[0;34m\u001b[0m\u001b[0m\n",
            "\u001b[0;32m/usr/local/lib/python3.6/dist-packages/keras/utils/io_utils.py\u001b[0m in \u001b[0;36m__init__\u001b[0;34m(self, path, mode)\u001b[0m\n\u001b[1;32m    189\u001b[0m             \u001b[0mself\u001b[0m\u001b[0;34m.\u001b[0m\u001b[0m_is_file\u001b[0m \u001b[0;34m=\u001b[0m \u001b[0;32mFalse\u001b[0m\u001b[0;34m\u001b[0m\u001b[0;34m\u001b[0m\u001b[0m\n\u001b[1;32m    190\u001b[0m         \u001b[0;32melif\u001b[0m \u001b[0misinstance\u001b[0m\u001b[0;34m(\u001b[0m\u001b[0mpath\u001b[0m\u001b[0;34m,\u001b[0m \u001b[0msix\u001b[0m\u001b[0;34m.\u001b[0m\u001b[0mstring_types\u001b[0m\u001b[0;34m)\u001b[0m \u001b[0;32mor\u001b[0m \u001b[0m_is_path_instance\u001b[0m\u001b[0;34m(\u001b[0m\u001b[0mpath\u001b[0m\u001b[0;34m)\u001b[0m\u001b[0;34m:\u001b[0m\u001b[0;34m\u001b[0m\u001b[0;34m\u001b[0m\u001b[0m\n\u001b[0;32m--> 191\u001b[0;31m             \u001b[0mself\u001b[0m\u001b[0;34m.\u001b[0m\u001b[0mdata\u001b[0m \u001b[0;34m=\u001b[0m \u001b[0mh5py\u001b[0m\u001b[0;34m.\u001b[0m\u001b[0mFile\u001b[0m\u001b[0;34m(\u001b[0m\u001b[0mpath\u001b[0m\u001b[0;34m,\u001b[0m \u001b[0mmode\u001b[0m\u001b[0;34m=\u001b[0m\u001b[0mmode\u001b[0m\u001b[0;34m)\u001b[0m\u001b[0;34m\u001b[0m\u001b[0;34m\u001b[0m\u001b[0m\n\u001b[0m\u001b[1;32m    192\u001b[0m             \u001b[0mself\u001b[0m\u001b[0;34m.\u001b[0m\u001b[0m_is_file\u001b[0m \u001b[0;34m=\u001b[0m \u001b[0;32mTrue\u001b[0m\u001b[0;34m\u001b[0m\u001b[0;34m\u001b[0m\u001b[0m\n\u001b[1;32m    193\u001b[0m         \u001b[0;32melif\u001b[0m \u001b[0misinstance\u001b[0m\u001b[0;34m(\u001b[0m\u001b[0mpath\u001b[0m\u001b[0;34m,\u001b[0m \u001b[0mdict\u001b[0m\u001b[0;34m)\u001b[0m\u001b[0;34m:\u001b[0m\u001b[0;34m\u001b[0m\u001b[0;34m\u001b[0m\u001b[0m\n",
            "\u001b[0;32m/usr/local/lib/python3.6/dist-packages/h5py/_hl/files.py\u001b[0m in \u001b[0;36m__init__\u001b[0;34m(self, name, mode, driver, libver, userblock_size, swmr, rdcc_nslots, rdcc_nbytes, rdcc_w0, track_order, **kwds)\u001b[0m\n\u001b[1;32m    406\u001b[0m                 fid = make_fid(name, mode, userblock_size,\n\u001b[1;32m    407\u001b[0m                                \u001b[0mfapl\u001b[0m\u001b[0;34m,\u001b[0m \u001b[0mfcpl\u001b[0m\u001b[0;34m=\u001b[0m\u001b[0mmake_fcpl\u001b[0m\u001b[0;34m(\u001b[0m\u001b[0mtrack_order\u001b[0m\u001b[0;34m=\u001b[0m\u001b[0mtrack_order\u001b[0m\u001b[0;34m)\u001b[0m\u001b[0;34m,\u001b[0m\u001b[0;34m\u001b[0m\u001b[0;34m\u001b[0m\u001b[0m\n\u001b[0;32m--> 408\u001b[0;31m                                swmr=swmr)\n\u001b[0m\u001b[1;32m    409\u001b[0m \u001b[0;34m\u001b[0m\u001b[0m\n\u001b[1;32m    410\u001b[0m             \u001b[0;32mif\u001b[0m \u001b[0misinstance\u001b[0m\u001b[0;34m(\u001b[0m\u001b[0mlibver\u001b[0m\u001b[0;34m,\u001b[0m \u001b[0mtuple\u001b[0m\u001b[0;34m)\u001b[0m\u001b[0;34m:\u001b[0m\u001b[0;34m\u001b[0m\u001b[0;34m\u001b[0m\u001b[0m\n",
            "\u001b[0;32m/usr/local/lib/python3.6/dist-packages/h5py/_hl/files.py\u001b[0m in \u001b[0;36mmake_fid\u001b[0;34m(name, mode, userblock_size, fapl, fcpl, swmr)\u001b[0m\n\u001b[1;32m    171\u001b[0m         \u001b[0;32mif\u001b[0m \u001b[0mswmr\u001b[0m \u001b[0;32mand\u001b[0m \u001b[0mswmr_support\u001b[0m\u001b[0;34m:\u001b[0m\u001b[0;34m\u001b[0m\u001b[0;34m\u001b[0m\u001b[0m\n\u001b[1;32m    172\u001b[0m             \u001b[0mflags\u001b[0m \u001b[0;34m|=\u001b[0m \u001b[0mh5f\u001b[0m\u001b[0;34m.\u001b[0m\u001b[0mACC_SWMR_READ\u001b[0m\u001b[0;34m\u001b[0m\u001b[0;34m\u001b[0m\u001b[0m\n\u001b[0;32m--> 173\u001b[0;31m         \u001b[0mfid\u001b[0m \u001b[0;34m=\u001b[0m \u001b[0mh5f\u001b[0m\u001b[0;34m.\u001b[0m\u001b[0mopen\u001b[0m\u001b[0;34m(\u001b[0m\u001b[0mname\u001b[0m\u001b[0;34m,\u001b[0m \u001b[0mflags\u001b[0m\u001b[0;34m,\u001b[0m \u001b[0mfapl\u001b[0m\u001b[0;34m=\u001b[0m\u001b[0mfapl\u001b[0m\u001b[0;34m)\u001b[0m\u001b[0;34m\u001b[0m\u001b[0;34m\u001b[0m\u001b[0m\n\u001b[0m\u001b[1;32m    174\u001b[0m     \u001b[0;32melif\u001b[0m \u001b[0mmode\u001b[0m \u001b[0;34m==\u001b[0m \u001b[0;34m'r+'\u001b[0m\u001b[0;34m:\u001b[0m\u001b[0;34m\u001b[0m\u001b[0;34m\u001b[0m\u001b[0m\n\u001b[1;32m    175\u001b[0m         \u001b[0mfid\u001b[0m \u001b[0;34m=\u001b[0m \u001b[0mh5f\u001b[0m\u001b[0;34m.\u001b[0m\u001b[0mopen\u001b[0m\u001b[0;34m(\u001b[0m\u001b[0mname\u001b[0m\u001b[0;34m,\u001b[0m \u001b[0mh5f\u001b[0m\u001b[0;34m.\u001b[0m\u001b[0mACC_RDWR\u001b[0m\u001b[0;34m,\u001b[0m \u001b[0mfapl\u001b[0m\u001b[0;34m=\u001b[0m\u001b[0mfapl\u001b[0m\u001b[0;34m)\u001b[0m\u001b[0;34m\u001b[0m\u001b[0;34m\u001b[0m\u001b[0m\n",
            "\u001b[0;32mh5py/_objects.pyx\u001b[0m in \u001b[0;36mh5py._objects.with_phil.wrapper\u001b[0;34m()\u001b[0m\n",
            "\u001b[0;32mh5py/_objects.pyx\u001b[0m in \u001b[0;36mh5py._objects.with_phil.wrapper\u001b[0;34m()\u001b[0m\n",
            "\u001b[0;32mh5py/h5f.pyx\u001b[0m in \u001b[0;36mh5py.h5f.open\u001b[0;34m()\u001b[0m\n",
            "\u001b[0;31mOSError\u001b[0m: Unable to open file (unable to open file: name = '/content/drive/My Drive/Best models/model_f_1.h5', errno = 2, error message = 'No such file or directory', flags = 0, o_flags = 0)"
          ]
        }
      ]
    }
  ]
}