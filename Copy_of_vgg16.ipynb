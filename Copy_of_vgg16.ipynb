{
  "nbformat": 4,
  "nbformat_minor": 0,
  "metadata": {
    "colab": {
      "name": "Copy of vgg16",
      "provenance": [],
      "collapsed_sections": [],
      "mount_file_id": "1lSBDpEuLz-XBMkEJ6NzKP6_AQRL8hGpR",
      "authorship_tag": "ABX9TyNx/dsKGC9Z2xt/qmDWwt/P",
      "include_colab_link": true
    },
    "kernelspec": {
      "name": "python3",
      "display_name": "Python 3"
    }
  },
  "cells": [
    {
      "cell_type": "markdown",
      "metadata": {
        "id": "view-in-github",
        "colab_type": "text"
      },
      "source": [
        "<a href=\"https://colab.research.google.com/github/pranitha2144/Internship-iith/blob/Resnet/Copy_of_vgg16.ipynb\" target=\"_parent\"><img src=\"https://colab.research.google.com/assets/colab-badge.svg\" alt=\"Open In Colab\"/></a>"
      ]
    },
    {
      "cell_type": "code",
      "metadata": {
        "id": "PMu2eC3sYOxm",
        "colab_type": "code",
        "colab": {
          "base_uri": "https://localhost:8080/",
          "height": 34
        },
        "outputId": "6f39ea74-01bf-49fe-dd41-ca242e112324"
      },
      "source": [
        "import keras\n",
        "from keras.models import Model\n",
        "from keras.layers import Dense,Dropout\n",
        "from keras import optimizers\n",
        "from keras.preprocessing.image import ImageDataGenerator\n",
        "from keras.preprocessing import image\n",
        "from tensorflow.keras.applications.vgg16 import preprocess_input"
      ],
      "execution_count": 1,
      "outputs": [
        {
          "output_type": "stream",
          "text": [
            "Using TensorFlow backend.\n"
          ],
          "name": "stderr"
        }
      ]
    },
    {
      "cell_type": "code",
      "metadata": {
        "id": "p6rPAuwiYVPF",
        "colab_type": "code",
        "colab": {
          "base_uri": "https://localhost:8080/",
          "height": 51
        },
        "outputId": "0edf268e-e6f3-4f80-b004-9f9014a97438"
      },
      "source": [
        "trdata = ImageDataGenerator(zoom_range=0.3, width_shift_range=0.2,horizontal_flip=True,vertical_flip=True)\n",
        "traindata = trdata.flow_from_directory(directory=\"/content/drive/My Drive/data_liver/train\",target_size=(224,224),batch_size=32)\n",
        "tsdata = ImageDataGenerator()\n",
        "testdata = tsdata.flow_from_directory(directory=\"/content/drive/My Drive/data_liver/val\", target_size=(224,224),batch_size=32)"
      ],
      "execution_count": 2,
      "outputs": [
        {
          "output_type": "stream",
          "text": [
            "Found 700 images belonging to 4 classes.\n",
            "Found 100 images belonging to 4 classes.\n"
          ],
          "name": "stdout"
        }
      ]
    },
    {
      "cell_type": "code",
      "metadata": {
        "id": "YEDviFOOYqSH",
        "colab_type": "code",
        "colab": {}
      },
      "source": [
        "from keras.applications.vgg16 import VGG16\n",
        "vggmodel = VGG16(weights='imagenet',include_top=True)"
      ],
      "execution_count": 3,
      "outputs": []
    },
    {
      "cell_type": "code",
      "metadata": {
        "id": "_DBVSTlUYwZt",
        "colab_type": "code",
        "colab": {
          "base_uri": "https://localhost:8080/",
          "height": 935
        },
        "outputId": "ed6d7b74-e0f9-414e-d8a4-0ad2a413508d"
      },
      "source": [
        "vggmodel.summary()"
      ],
      "execution_count": 4,
      "outputs": [
        {
          "output_type": "stream",
          "text": [
            "Model: \"vgg16\"\n",
            "_________________________________________________________________\n",
            "Layer (type)                 Output Shape              Param #   \n",
            "=================================================================\n",
            "input_1 (InputLayer)         (None, 224, 224, 3)       0         \n",
            "_________________________________________________________________\n",
            "block1_conv1 (Conv2D)        (None, 224, 224, 64)      1792      \n",
            "_________________________________________________________________\n",
            "block1_conv2 (Conv2D)        (None, 224, 224, 64)      36928     \n",
            "_________________________________________________________________\n",
            "block1_pool (MaxPooling2D)   (None, 112, 112, 64)      0         \n",
            "_________________________________________________________________\n",
            "block2_conv1 (Conv2D)        (None, 112, 112, 128)     73856     \n",
            "_________________________________________________________________\n",
            "block2_conv2 (Conv2D)        (None, 112, 112, 128)     147584    \n",
            "_________________________________________________________________\n",
            "block2_pool (MaxPooling2D)   (None, 56, 56, 128)       0         \n",
            "_________________________________________________________________\n",
            "block3_conv1 (Conv2D)        (None, 56, 56, 256)       295168    \n",
            "_________________________________________________________________\n",
            "block3_conv2 (Conv2D)        (None, 56, 56, 256)       590080    \n",
            "_________________________________________________________________\n",
            "block3_conv3 (Conv2D)        (None, 56, 56, 256)       590080    \n",
            "_________________________________________________________________\n",
            "block3_pool (MaxPooling2D)   (None, 28, 28, 256)       0         \n",
            "_________________________________________________________________\n",
            "block4_conv1 (Conv2D)        (None, 28, 28, 512)       1180160   \n",
            "_________________________________________________________________\n",
            "block4_conv2 (Conv2D)        (None, 28, 28, 512)       2359808   \n",
            "_________________________________________________________________\n",
            "block4_conv3 (Conv2D)        (None, 28, 28, 512)       2359808   \n",
            "_________________________________________________________________\n",
            "block4_pool (MaxPooling2D)   (None, 14, 14, 512)       0         \n",
            "_________________________________________________________________\n",
            "block5_conv1 (Conv2D)        (None, 14, 14, 512)       2359808   \n",
            "_________________________________________________________________\n",
            "block5_conv2 (Conv2D)        (None, 14, 14, 512)       2359808   \n",
            "_________________________________________________________________\n",
            "block5_conv3 (Conv2D)        (None, 14, 14, 512)       2359808   \n",
            "_________________________________________________________________\n",
            "block5_pool (MaxPooling2D)   (None, 7, 7, 512)         0         \n",
            "_________________________________________________________________\n",
            "flatten (Flatten)            (None, 25088)             0         \n",
            "_________________________________________________________________\n",
            "fc1 (Dense)                  (None, 4096)              102764544 \n",
            "_________________________________________________________________\n",
            "fc2 (Dense)                  (None, 4096)              16781312  \n",
            "_________________________________________________________________\n",
            "predictions (Dense)          (None, 1000)              4097000   \n",
            "=================================================================\n",
            "Total params: 138,357,544\n",
            "Trainable params: 138,357,544\n",
            "Non-trainable params: 0\n",
            "_________________________________________________________________\n"
          ],
          "name": "stdout"
        }
      ]
    },
    {
      "cell_type": "code",
      "metadata": {
        "id": "8LYBFIW-Y1vZ",
        "colab_type": "code",
        "colab": {
          "base_uri": "https://localhost:8080/",
          "height": 340
        },
        "outputId": "6d94397b-ce85-44ad-bd9a-c26b450e3a5d"
      },
      "source": [
        "for layers in (vggmodel.layers)[:19]:\n",
        "    print(layers)\n",
        "    layers.trainable = False"
      ],
      "execution_count": 5,
      "outputs": [
        {
          "output_type": "stream",
          "text": [
            "<keras.engine.input_layer.InputLayer object at 0x7f652bf51940>\n",
            "<keras.layers.convolutional.Conv2D object at 0x7f652bf35e10>\n",
            "<keras.layers.convolutional.Conv2D object at 0x7f652bf51550>\n",
            "<keras.layers.pooling.MaxPooling2D object at 0x7f6533e78828>\n",
            "<keras.layers.convolutional.Conv2D object at 0x7f64ea2105f8>\n",
            "<keras.layers.convolutional.Conv2D object at 0x7f64e8bedef0>\n",
            "<keras.layers.pooling.MaxPooling2D object at 0x7f64e8bef550>\n",
            "<keras.layers.convolutional.Conv2D object at 0x7f64e8bef390>\n",
            "<keras.layers.convolutional.Conv2D object at 0x7f64e8beffd0>\n",
            "<keras.layers.convolutional.Conv2D object at 0x7f64e8c00c88>\n",
            "<keras.layers.pooling.MaxPooling2D object at 0x7f64e8c05748>\n",
            "<keras.layers.convolutional.Conv2D object at 0x7f64e8c05550>\n",
            "<keras.layers.convolutional.Conv2D object at 0x7f64e8c0c9e8>\n",
            "<keras.layers.convolutional.Conv2D object at 0x7f64e8c0ce80>\n",
            "<keras.layers.pooling.MaxPooling2D object at 0x7f64e8b94940>\n",
            "<keras.layers.convolutional.Conv2D object at 0x7f64e8b94748>\n",
            "<keras.layers.convolutional.Conv2D object at 0x7f64e8b9b4a8>\n",
            "<keras.layers.convolutional.Conv2D object at 0x7f64e8b9bdd8>\n",
            "<keras.layers.pooling.MaxPooling2D object at 0x7f64e8ba2b38>\n"
          ],
          "name": "stdout"
        }
      ]
    },
    {
      "cell_type": "code",
      "metadata": {
        "id": "spEfu2MIY3-9",
        "colab_type": "code",
        "colab": {
          "base_uri": "https://localhost:8080/",
          "height": 935
        },
        "outputId": "be11d44f-ba84-4acd-9514-5fd9c8facb9b"
      },
      "source": [
        "vggmodel.summary()"
      ],
      "execution_count": 6,
      "outputs": [
        {
          "output_type": "stream",
          "text": [
            "Model: \"vgg16\"\n",
            "_________________________________________________________________\n",
            "Layer (type)                 Output Shape              Param #   \n",
            "=================================================================\n",
            "input_1 (InputLayer)         (None, 224, 224, 3)       0         \n",
            "_________________________________________________________________\n",
            "block1_conv1 (Conv2D)        (None, 224, 224, 64)      1792      \n",
            "_________________________________________________________________\n",
            "block1_conv2 (Conv2D)        (None, 224, 224, 64)      36928     \n",
            "_________________________________________________________________\n",
            "block1_pool (MaxPooling2D)   (None, 112, 112, 64)      0         \n",
            "_________________________________________________________________\n",
            "block2_conv1 (Conv2D)        (None, 112, 112, 128)     73856     \n",
            "_________________________________________________________________\n",
            "block2_conv2 (Conv2D)        (None, 112, 112, 128)     147584    \n",
            "_________________________________________________________________\n",
            "block2_pool (MaxPooling2D)   (None, 56, 56, 128)       0         \n",
            "_________________________________________________________________\n",
            "block3_conv1 (Conv2D)        (None, 56, 56, 256)       295168    \n",
            "_________________________________________________________________\n",
            "block3_conv2 (Conv2D)        (None, 56, 56, 256)       590080    \n",
            "_________________________________________________________________\n",
            "block3_conv3 (Conv2D)        (None, 56, 56, 256)       590080    \n",
            "_________________________________________________________________\n",
            "block3_pool (MaxPooling2D)   (None, 28, 28, 256)       0         \n",
            "_________________________________________________________________\n",
            "block4_conv1 (Conv2D)        (None, 28, 28, 512)       1180160   \n",
            "_________________________________________________________________\n",
            "block4_conv2 (Conv2D)        (None, 28, 28, 512)       2359808   \n",
            "_________________________________________________________________\n",
            "block4_conv3 (Conv2D)        (None, 28, 28, 512)       2359808   \n",
            "_________________________________________________________________\n",
            "block4_pool (MaxPooling2D)   (None, 14, 14, 512)       0         \n",
            "_________________________________________________________________\n",
            "block5_conv1 (Conv2D)        (None, 14, 14, 512)       2359808   \n",
            "_________________________________________________________________\n",
            "block5_conv2 (Conv2D)        (None, 14, 14, 512)       2359808   \n",
            "_________________________________________________________________\n",
            "block5_conv3 (Conv2D)        (None, 14, 14, 512)       2359808   \n",
            "_________________________________________________________________\n",
            "block5_pool (MaxPooling2D)   (None, 7, 7, 512)         0         \n",
            "_________________________________________________________________\n",
            "flatten (Flatten)            (None, 25088)             0         \n",
            "_________________________________________________________________\n",
            "fc1 (Dense)                  (None, 4096)              102764544 \n",
            "_________________________________________________________________\n",
            "fc2 (Dense)                  (None, 4096)              16781312  \n",
            "_________________________________________________________________\n",
            "predictions (Dense)          (None, 1000)              4097000   \n",
            "=================================================================\n",
            "Total params: 138,357,544\n",
            "Trainable params: 123,642,856\n",
            "Non-trainable params: 14,714,688\n",
            "_________________________________________________________________\n"
          ],
          "name": "stdout"
        }
      ]
    },
    {
      "cell_type": "code",
      "metadata": {
        "id": "hRa7hR7-Y-XR",
        "colab_type": "code",
        "colab": {
          "base_uri": "https://localhost:8080/",
          "height": 71
        },
        "outputId": "f41391d1-8ab1-4a6d-dd08-fbe2baac86fe"
      },
      "source": [
        "from tensorflow.keras import regularizers\n",
        "X= vggmodel.layers[-2].output\n",
        "fc_1=Dense(4096,activation='relu')(X)\n",
        "#dr_1=Dropout(0.3)(fc_1)\n",
        "fc_2=Dense(4096, activation='relu')(fc_1)\n",
        "#dr_2=Dropout(0.8)(fc_2)\n",
        "#fc_3=Dense(4096,activation='relu')(dr_2)\n",
        "\n",
        "predictions = Dense(4, activation=\"softmax\")(fc_1)\n",
        "model_final = Model(input = vggmodel.input, output = predictions)"
      ],
      "execution_count": 7,
      "outputs": [
        {
          "output_type": "stream",
          "text": [
            "/usr/local/lib/python3.6/dist-packages/ipykernel_launcher.py:10: UserWarning: Update your `Model` call to the Keras 2 API: `Model(inputs=Tensor(\"in..., outputs=Tensor(\"de...)`\n",
            "  # Remove the CWD from sys.path while we load stuff.\n"
          ],
          "name": "stderr"
        }
      ]
    },
    {
      "cell_type": "code",
      "metadata": {
        "id": "1mRS_nHaZBCL",
        "colab_type": "code",
        "colab": {
          "base_uri": "https://localhost:8080/",
          "height": 969
        },
        "outputId": "60b1681d-e593-4e34-ed9d-e1439be99ad0"
      },
      "source": [
        "model_final.summary()"
      ],
      "execution_count": 8,
      "outputs": [
        {
          "output_type": "stream",
          "text": [
            "Model: \"model_1\"\n",
            "_________________________________________________________________\n",
            "Layer (type)                 Output Shape              Param #   \n",
            "=================================================================\n",
            "input_1 (InputLayer)         (None, 224, 224, 3)       0         \n",
            "_________________________________________________________________\n",
            "block1_conv1 (Conv2D)        (None, 224, 224, 64)      1792      \n",
            "_________________________________________________________________\n",
            "block1_conv2 (Conv2D)        (None, 224, 224, 64)      36928     \n",
            "_________________________________________________________________\n",
            "block1_pool (MaxPooling2D)   (None, 112, 112, 64)      0         \n",
            "_________________________________________________________________\n",
            "block2_conv1 (Conv2D)        (None, 112, 112, 128)     73856     \n",
            "_________________________________________________________________\n",
            "block2_conv2 (Conv2D)        (None, 112, 112, 128)     147584    \n",
            "_________________________________________________________________\n",
            "block2_pool (MaxPooling2D)   (None, 56, 56, 128)       0         \n",
            "_________________________________________________________________\n",
            "block3_conv1 (Conv2D)        (None, 56, 56, 256)       295168    \n",
            "_________________________________________________________________\n",
            "block3_conv2 (Conv2D)        (None, 56, 56, 256)       590080    \n",
            "_________________________________________________________________\n",
            "block3_conv3 (Conv2D)        (None, 56, 56, 256)       590080    \n",
            "_________________________________________________________________\n",
            "block3_pool (MaxPooling2D)   (None, 28, 28, 256)       0         \n",
            "_________________________________________________________________\n",
            "block4_conv1 (Conv2D)        (None, 28, 28, 512)       1180160   \n",
            "_________________________________________________________________\n",
            "block4_conv2 (Conv2D)        (None, 28, 28, 512)       2359808   \n",
            "_________________________________________________________________\n",
            "block4_conv3 (Conv2D)        (None, 28, 28, 512)       2359808   \n",
            "_________________________________________________________________\n",
            "block4_pool (MaxPooling2D)   (None, 14, 14, 512)       0         \n",
            "_________________________________________________________________\n",
            "block5_conv1 (Conv2D)        (None, 14, 14, 512)       2359808   \n",
            "_________________________________________________________________\n",
            "block5_conv2 (Conv2D)        (None, 14, 14, 512)       2359808   \n",
            "_________________________________________________________________\n",
            "block5_conv3 (Conv2D)        (None, 14, 14, 512)       2359808   \n",
            "_________________________________________________________________\n",
            "block5_pool (MaxPooling2D)   (None, 7, 7, 512)         0         \n",
            "_________________________________________________________________\n",
            "flatten (Flatten)            (None, 25088)             0         \n",
            "_________________________________________________________________\n",
            "fc1 (Dense)                  (None, 4096)              102764544 \n",
            "_________________________________________________________________\n",
            "fc2 (Dense)                  (None, 4096)              16781312  \n",
            "_________________________________________________________________\n",
            "dense_1 (Dense)              (None, 4096)              16781312  \n",
            "_________________________________________________________________\n",
            "dense_3 (Dense)              (None, 4)                 16388     \n",
            "=================================================================\n",
            "Total params: 151,058,244\n",
            "Trainable params: 136,343,556\n",
            "Non-trainable params: 14,714,688\n",
            "_________________________________________________________________\n"
          ],
          "name": "stdout"
        }
      ]
    },
    {
      "cell_type": "code",
      "metadata": {
        "id": "WyzYX9WSZK0G",
        "colab_type": "code",
        "colab": {}
      },
      "source": [
        "model_final.compile(loss = \"categorical_crossentropy\", optimizer = keras.optimizers.Adam(lr=0.0001), metrics=[\"accuracy\"])"
      ],
      "execution_count": 9,
      "outputs": []
    },
    {
      "cell_type": "code",
      "metadata": {
        "id": "3JhPnTE8ZRmI",
        "colab_type": "code",
        "colab": {
          "base_uri": "https://localhost:8080/",
          "height": 969
        },
        "outputId": "d2e92c30-259b-40e8-be59-8ad9127a236c"
      },
      "source": [
        "model_final.summary()"
      ],
      "execution_count": 10,
      "outputs": [
        {
          "output_type": "stream",
          "text": [
            "Model: \"model_1\"\n",
            "_________________________________________________________________\n",
            "Layer (type)                 Output Shape              Param #   \n",
            "=================================================================\n",
            "input_1 (InputLayer)         (None, 224, 224, 3)       0         \n",
            "_________________________________________________________________\n",
            "block1_conv1 (Conv2D)        (None, 224, 224, 64)      1792      \n",
            "_________________________________________________________________\n",
            "block1_conv2 (Conv2D)        (None, 224, 224, 64)      36928     \n",
            "_________________________________________________________________\n",
            "block1_pool (MaxPooling2D)   (None, 112, 112, 64)      0         \n",
            "_________________________________________________________________\n",
            "block2_conv1 (Conv2D)        (None, 112, 112, 128)     73856     \n",
            "_________________________________________________________________\n",
            "block2_conv2 (Conv2D)        (None, 112, 112, 128)     147584    \n",
            "_________________________________________________________________\n",
            "block2_pool (MaxPooling2D)   (None, 56, 56, 128)       0         \n",
            "_________________________________________________________________\n",
            "block3_conv1 (Conv2D)        (None, 56, 56, 256)       295168    \n",
            "_________________________________________________________________\n",
            "block3_conv2 (Conv2D)        (None, 56, 56, 256)       590080    \n",
            "_________________________________________________________________\n",
            "block3_conv3 (Conv2D)        (None, 56, 56, 256)       590080    \n",
            "_________________________________________________________________\n",
            "block3_pool (MaxPooling2D)   (None, 28, 28, 256)       0         \n",
            "_________________________________________________________________\n",
            "block4_conv1 (Conv2D)        (None, 28, 28, 512)       1180160   \n",
            "_________________________________________________________________\n",
            "block4_conv2 (Conv2D)        (None, 28, 28, 512)       2359808   \n",
            "_________________________________________________________________\n",
            "block4_conv3 (Conv2D)        (None, 28, 28, 512)       2359808   \n",
            "_________________________________________________________________\n",
            "block4_pool (MaxPooling2D)   (None, 14, 14, 512)       0         \n",
            "_________________________________________________________________\n",
            "block5_conv1 (Conv2D)        (None, 14, 14, 512)       2359808   \n",
            "_________________________________________________________________\n",
            "block5_conv2 (Conv2D)        (None, 14, 14, 512)       2359808   \n",
            "_________________________________________________________________\n",
            "block5_conv3 (Conv2D)        (None, 14, 14, 512)       2359808   \n",
            "_________________________________________________________________\n",
            "block5_pool (MaxPooling2D)   (None, 7, 7, 512)         0         \n",
            "_________________________________________________________________\n",
            "flatten (Flatten)            (None, 25088)             0         \n",
            "_________________________________________________________________\n",
            "fc1 (Dense)                  (None, 4096)              102764544 \n",
            "_________________________________________________________________\n",
            "fc2 (Dense)                  (None, 4096)              16781312  \n",
            "_________________________________________________________________\n",
            "dense_1 (Dense)              (None, 4096)              16781312  \n",
            "_________________________________________________________________\n",
            "dense_3 (Dense)              (None, 4)                 16388     \n",
            "=================================================================\n",
            "Total params: 151,058,244\n",
            "Trainable params: 136,343,556\n",
            "Non-trainable params: 14,714,688\n",
            "_________________________________________________________________\n"
          ],
          "name": "stdout"
        }
      ]
    },
    {
      "cell_type": "code",
      "metadata": {
        "id": "H6dGNtWtZVuK",
        "colab_type": "code",
        "colab": {
          "base_uri": "https://localhost:8080/",
          "height": 1000
        },
        "outputId": "aceb2157-7f30-4b77-f2fe-ccaea3a40c05"
      },
      "source": [
        "from keras.callbacks import ModelCheckpoint, EarlyStopping\n",
        "checkpoint = ModelCheckpoint(\"/content/drive/My Drive/Best models/model_n_1.h5\", monitor='val_accuracy', verbose=1, save_best_only=True, save_weights_only=False, mode='auto', period=1)\n",
        "early = EarlyStopping(monitor='val_acc', min_delta=0, patience=10, verbose=1, mode='auto')\n",
        "hist=model_final.fit_generator(traindata,shuffle=True,steps_per_epoch=3, epochs= 100, validation_data= testdata,validation_steps=2, callbacks=[checkpoint,early])"
      ],
      "execution_count": 11,
      "outputs": [
        {
          "output_type": "stream",
          "text": [
            "Epoch 1/100\n",
            "3/3 [==============================] - 92s 31s/step - loss: 1.6808 - accuracy: 0.4062 - val_loss: 1.4280 - val_accuracy: 0.6562\n",
            "\n",
            "Epoch 00001: val_accuracy improved from -inf to 0.65625, saving model to /content/drive/My Drive/Best models/model_n_1.h5\n"
          ],
          "name": "stdout"
        },
        {
          "output_type": "stream",
          "text": [
            "/usr/local/lib/python3.6/dist-packages/keras/callbacks/callbacks.py:846: RuntimeWarning: Early stopping conditioned on metric `val_acc` which is not available. Available metrics are: val_loss,val_accuracy,loss,accuracy\n",
            "  (self.monitor, ','.join(list(logs.keys()))), RuntimeWarning\n"
          ],
          "name": "stderr"
        },
        {
          "output_type": "stream",
          "text": [
            "Epoch 2/100\n",
            "3/3 [==============================] - 76s 25s/step - loss: 1.0458 - accuracy: 0.6354 - val_loss: 0.3843 - val_accuracy: 0.6389\n",
            "\n",
            "Epoch 00002: val_accuracy did not improve from 0.65625\n",
            "Epoch 3/100\n",
            "3/3 [==============================] - 85s 28s/step - loss: 0.8773 - accuracy: 0.6146 - val_loss: 0.6700 - val_accuracy: 0.7500\n",
            "\n",
            "Epoch 00003: val_accuracy improved from 0.65625 to 0.75000, saving model to /content/drive/My Drive/Best models/model_n_1.h5\n",
            "Epoch 4/100\n",
            "3/3 [==============================] - 74s 25s/step - loss: 0.8362 - accuracy: 0.6413 - val_loss: 0.8673 - val_accuracy: 0.8056\n",
            "\n",
            "Epoch 00004: val_accuracy improved from 0.75000 to 0.80556, saving model to /content/drive/My Drive/Best models/model_n_1.h5\n",
            "Epoch 5/100\n",
            "3/3 [==============================] - 89s 30s/step - loss: 0.7100 - accuracy: 0.6979 - val_loss: 1.2827 - val_accuracy: 0.7500\n",
            "\n",
            "Epoch 00005: val_accuracy did not improve from 0.80556\n",
            "Epoch 6/100\n",
            "3/3 [==============================] - 71s 24s/step - loss: 0.6318 - accuracy: 0.7292 - val_loss: 0.4338 - val_accuracy: 0.6389\n",
            "\n",
            "Epoch 00006: val_accuracy did not improve from 0.80556\n",
            "Epoch 7/100\n",
            "3/3 [==============================] - 85s 28s/step - loss: 0.6281 - accuracy: 0.7188 - val_loss: 0.9034 - val_accuracy: 0.7500\n",
            "\n",
            "Epoch 00007: val_accuracy did not improve from 0.80556\n",
            "Epoch 8/100\n",
            "3/3 [==============================] - 75s 25s/step - loss: 0.6070 - accuracy: 0.7500 - val_loss: 0.3680 - val_accuracy: 0.8056\n",
            "\n",
            "Epoch 00008: val_accuracy did not improve from 0.80556\n",
            "Epoch 9/100\n",
            "3/3 [==============================] - 89s 30s/step - loss: 0.6188 - accuracy: 0.7174 - val_loss: 0.6669 - val_accuracy: 0.7500\n",
            "\n",
            "Epoch 00009: val_accuracy did not improve from 0.80556\n",
            "Epoch 10/100\n",
            "3/3 [==============================] - 73s 24s/step - loss: 0.5357 - accuracy: 0.7917 - val_loss: 0.6924 - val_accuracy: 0.8056\n",
            "\n",
            "Epoch 00010: val_accuracy did not improve from 0.80556\n",
            "Epoch 11/100\n",
            "3/3 [==============================] - 85s 28s/step - loss: 0.8137 - accuracy: 0.7500 - val_loss: 0.5112 - val_accuracy: 0.7500\n",
            "\n",
            "Epoch 00011: val_accuracy did not improve from 0.80556\n",
            "Epoch 12/100\n",
            "3/3 [==============================] - 72s 24s/step - loss: 0.6497 - accuracy: 0.7396 - val_loss: 0.0915 - val_accuracy: 0.8889\n",
            "\n",
            "Epoch 00012: val_accuracy improved from 0.80556 to 0.88889, saving model to /content/drive/My Drive/Best models/model_n_1.h5\n",
            "Epoch 13/100\n",
            "3/3 [==============================] - 89s 30s/step - loss: 0.6646 - accuracy: 0.7292 - val_loss: 0.8017 - val_accuracy: 0.7656\n",
            "\n",
            "Epoch 00013: val_accuracy did not improve from 0.88889\n",
            "Epoch 14/100\n",
            "3/3 [==============================] - 71s 24s/step - loss: 0.6253 - accuracy: 0.7188 - val_loss: 0.2206 - val_accuracy: 0.8056\n",
            "\n",
            "Epoch 00014: val_accuracy did not improve from 0.88889\n",
            "Epoch 15/100\n",
            "3/3 [==============================] - 89s 30s/step - loss: 0.6640 - accuracy: 0.6354 - val_loss: 0.5790 - val_accuracy: 0.8281\n",
            "\n",
            "Epoch 00015: val_accuracy did not improve from 0.88889\n",
            "Epoch 16/100\n",
            "3/3 [==============================] - 72s 24s/step - loss: 0.6121 - accuracy: 0.7292 - val_loss: 0.9112 - val_accuracy: 0.6667\n",
            "\n",
            "Epoch 00016: val_accuracy did not improve from 0.88889\n",
            "Epoch 17/100\n",
            "3/3 [==============================] - 84s 28s/step - loss: 0.5947 - accuracy: 0.7826 - val_loss: 0.4218 - val_accuracy: 0.8281\n",
            "\n",
            "Epoch 00017: val_accuracy did not improve from 0.88889\n",
            "Epoch 18/100\n",
            "3/3 [==============================] - 72s 24s/step - loss: 0.6688 - accuracy: 0.6979 - val_loss: 0.9706 - val_accuracy: 0.6667\n",
            "\n",
            "Epoch 00018: val_accuracy did not improve from 0.88889\n",
            "Epoch 19/100\n",
            "3/3 [==============================] - 85s 28s/step - loss: 0.5419 - accuracy: 0.7708 - val_loss: 0.5633 - val_accuracy: 0.8125\n",
            "\n",
            "Epoch 00019: val_accuracy did not improve from 0.88889\n",
            "Epoch 20/100\n",
            "3/3 [==============================] - 73s 24s/step - loss: 0.4377 - accuracy: 0.8333 - val_loss: 0.4391 - val_accuracy: 0.7500\n",
            "\n",
            "Epoch 00020: val_accuracy did not improve from 0.88889\n",
            "Epoch 21/100\n",
            "3/3 [==============================] - 85s 28s/step - loss: 0.7008 - accuracy: 0.7083 - val_loss: 0.6262 - val_accuracy: 0.7812\n",
            "\n",
            "Epoch 00021: val_accuracy did not improve from 0.88889\n",
            "Epoch 22/100\n",
            "3/3 [==============================] - 75s 25s/step - loss: 0.5298 - accuracy: 0.7812 - val_loss: 1.1014 - val_accuracy: 0.8333\n",
            "\n",
            "Epoch 00022: val_accuracy did not improve from 0.88889\n",
            "Epoch 23/100\n",
            "3/3 [==============================] - 86s 29s/step - loss: 0.4437 - accuracy: 0.8438 - val_loss: 1.1877 - val_accuracy: 0.7031\n",
            "\n",
            "Epoch 00023: val_accuracy did not improve from 0.88889\n",
            "Epoch 24/100\n",
            "3/3 [==============================] - 70s 23s/step - loss: 0.5321 - accuracy: 0.7391 - val_loss: 0.2510 - val_accuracy: 0.7222\n",
            "\n",
            "Epoch 00024: val_accuracy did not improve from 0.88889\n",
            "Epoch 25/100\n",
            "3/3 [==============================] - 85s 28s/step - loss: 0.4954 - accuracy: 0.7812 - val_loss: 0.4549 - val_accuracy: 0.8594\n",
            "\n",
            "Epoch 00025: val_accuracy did not improve from 0.88889\n",
            "Epoch 26/100\n",
            "3/3 [==============================] - 71s 24s/step - loss: 0.6010 - accuracy: 0.7604 - val_loss: 1.1840 - val_accuracy: 0.8056\n",
            "\n",
            "Epoch 00026: val_accuracy did not improve from 0.88889\n",
            "Epoch 27/100\n",
            "3/3 [==============================] - 85s 28s/step - loss: 0.5737 - accuracy: 0.7708 - val_loss: 0.9665 - val_accuracy: 0.6719\n",
            "\n",
            "Epoch 00027: val_accuracy did not improve from 0.88889\n",
            "Epoch 28/100\n",
            "3/3 [==============================] - 71s 24s/step - loss: 0.7878 - accuracy: 0.6875 - val_loss: 0.1763 - val_accuracy: 0.6667\n",
            "\n",
            "Epoch 00028: val_accuracy did not improve from 0.88889\n",
            "Epoch 29/100\n",
            "3/3 [==============================] - 84s 28s/step - loss: 0.7460 - accuracy: 0.7604 - val_loss: 0.3809 - val_accuracy: 0.7969\n",
            "\n",
            "Epoch 00029: val_accuracy did not improve from 0.88889\n",
            "Epoch 30/100\n",
            "3/3 [==============================] - 75s 25s/step - loss: 0.5835 - accuracy: 0.7500 - val_loss: 1.1313 - val_accuracy: 0.7500\n",
            "\n",
            "Epoch 00030: val_accuracy did not improve from 0.88889\n",
            "Epoch 31/100\n",
            "3/3 [==============================] - 84s 28s/step - loss: 0.5255 - accuracy: 0.8043 - val_loss: 0.5080 - val_accuracy: 0.7969\n",
            "\n",
            "Epoch 00031: val_accuracy did not improve from 0.88889\n",
            "Epoch 32/100\n",
            "3/3 [==============================] - 72s 24s/step - loss: 0.6176 - accuracy: 0.7396 - val_loss: 0.8112 - val_accuracy: 0.7222\n",
            "\n",
            "Epoch 00032: val_accuracy did not improve from 0.88889\n",
            "Epoch 33/100\n",
            "3/3 [==============================] - 85s 28s/step - loss: 0.5060 - accuracy: 0.7812 - val_loss: 0.7306 - val_accuracy: 0.7188\n",
            "\n",
            "Epoch 00033: val_accuracy did not improve from 0.88889\n",
            "Epoch 34/100\n",
            "3/3 [==============================] - 71s 24s/step - loss: 0.4777 - accuracy: 0.8021 - val_loss: 0.6578 - val_accuracy: 0.7222\n",
            "\n",
            "Epoch 00034: val_accuracy did not improve from 0.88889\n",
            "Epoch 35/100\n",
            "3/3 [==============================] - 84s 28s/step - loss: 0.4053 - accuracy: 0.8333 - val_loss: 0.7443 - val_accuracy: 0.7188\n",
            "\n",
            "Epoch 00035: val_accuracy did not improve from 0.88889\n",
            "Epoch 36/100\n",
            "3/3 [==============================] - 70s 23s/step - loss: 0.5382 - accuracy: 0.7500 - val_loss: 0.0505 - val_accuracy: 0.7778\n",
            "\n",
            "Epoch 00036: val_accuracy did not improve from 0.88889\n",
            "Epoch 37/100\n",
            "3/3 [==============================] - 89s 30s/step - loss: 0.5147 - accuracy: 0.7500 - val_loss: 0.5435 - val_accuracy: 0.7188\n",
            "\n",
            "Epoch 00037: val_accuracy did not improve from 0.88889\n",
            "Epoch 38/100\n",
            "3/3 [==============================] - 72s 24s/step - loss: 0.5355 - accuracy: 0.7812 - val_loss: 0.1962 - val_accuracy: 0.9167\n",
            "\n",
            "Epoch 00038: val_accuracy improved from 0.88889 to 0.91667, saving model to /content/drive/My Drive/Best models/model_n_1.h5\n",
            "Epoch 39/100\n",
            "3/3 [==============================] - 89s 30s/step - loss: 0.4097 - accuracy: 0.8333 - val_loss: 0.3155 - val_accuracy: 0.9062\n",
            "\n",
            "Epoch 00039: val_accuracy did not improve from 0.91667\n",
            "Epoch 40/100\n",
            "3/3 [==============================] - 72s 24s/step - loss: 0.4070 - accuracy: 0.8229 - val_loss: 0.2351 - val_accuracy: 0.7222\n",
            "\n",
            "Epoch 00040: val_accuracy did not improve from 0.91667\n",
            "Epoch 41/100\n",
            "3/3 [==============================] - 85s 28s/step - loss: 0.5089 - accuracy: 0.8125 - val_loss: 0.7908 - val_accuracy: 0.7812\n",
            "\n",
            "Epoch 00041: val_accuracy did not improve from 0.91667\n",
            "Epoch 42/100\n",
            "3/3 [==============================] - 71s 24s/step - loss: 0.5140 - accuracy: 0.8125 - val_loss: 0.5690 - val_accuracy: 0.8333\n",
            "\n",
            "Epoch 00042: val_accuracy did not improve from 0.91667\n",
            "Epoch 43/100\n",
            "3/3 [==============================] - 83s 28s/step - loss: 0.3790 - accuracy: 0.8152 - val_loss: 0.5582 - val_accuracy: 0.8594\n",
            "\n",
            "Epoch 00043: val_accuracy did not improve from 0.91667\n",
            "Epoch 44/100\n",
            "3/3 [==============================] - 74s 25s/step - loss: 0.3658 - accuracy: 0.8646 - val_loss: 0.1237 - val_accuracy: 0.8333\n",
            "\n",
            "Epoch 00044: val_accuracy did not improve from 0.91667\n",
            "Epoch 45/100\n",
            "3/3 [==============================] - 86s 29s/step - loss: 0.6359 - accuracy: 0.7500 - val_loss: 0.5361 - val_accuracy: 0.7969\n",
            "\n",
            "Epoch 00045: val_accuracy did not improve from 0.91667\n",
            "Epoch 46/100\n",
            "3/3 [==============================] - 73s 24s/step - loss: 0.3053 - accuracy: 0.8646 - val_loss: 0.7820 - val_accuracy: 0.8333\n",
            "\n",
            "Epoch 00046: val_accuracy did not improve from 0.91667\n",
            "Epoch 47/100\n",
            "3/3 [==============================] - 85s 28s/step - loss: 0.4625 - accuracy: 0.7917 - val_loss: 0.5455 - val_accuracy: 0.7969\n",
            "\n",
            "Epoch 00047: val_accuracy did not improve from 0.91667\n",
            "Epoch 48/100\n",
            "3/3 [==============================] - 69s 23s/step - loss: 0.4283 - accuracy: 0.8152 - val_loss: 0.1857 - val_accuracy: 0.7778\n",
            "\n",
            "Epoch 00048: val_accuracy did not improve from 0.91667\n",
            "Epoch 49/100\n",
            "3/3 [==============================] - 85s 28s/step - loss: 0.4707 - accuracy: 0.8229 - val_loss: 0.3814 - val_accuracy: 0.8125\n",
            "\n",
            "Epoch 00049: val_accuracy did not improve from 0.91667\n",
            "Epoch 50/100\n",
            "3/3 [==============================] - 71s 24s/step - loss: 0.5777 - accuracy: 0.7500 - val_loss: 1.0933 - val_accuracy: 0.6667\n",
            "\n",
            "Epoch 00050: val_accuracy did not improve from 0.91667\n",
            "Epoch 51/100\n",
            "3/3 [==============================] - 85s 28s/step - loss: 0.4601 - accuracy: 0.7500 - val_loss: 0.4934 - val_accuracy: 0.8125\n",
            "\n",
            "Epoch 00051: val_accuracy did not improve from 0.91667\n",
            "Epoch 52/100\n",
            "3/3 [==============================] - 75s 25s/step - loss: 0.5239 - accuracy: 0.8125 - val_loss: 0.2863 - val_accuracy: 0.6667\n",
            "\n",
            "Epoch 00052: val_accuracy did not improve from 0.91667\n",
            "Epoch 53/100\n",
            "3/3 [==============================] - 83s 28s/step - loss: 0.4979 - accuracy: 0.8043 - val_loss: 0.6553 - val_accuracy: 0.7031\n",
            "\n",
            "Epoch 00053: val_accuracy did not improve from 0.91667\n",
            "Epoch 54/100\n",
            "3/3 [==============================] - 72s 24s/step - loss: 0.5082 - accuracy: 0.7708 - val_loss: 0.7876 - val_accuracy: 0.7222\n",
            "\n",
            "Epoch 00054: val_accuracy did not improve from 0.91667\n",
            "Epoch 55/100\n",
            "3/3 [==============================] - 86s 29s/step - loss: 0.4975 - accuracy: 0.7812 - val_loss: 0.6253 - val_accuracy: 0.7969\n",
            "\n",
            "Epoch 00055: val_accuracy did not improve from 0.91667\n",
            "Epoch 56/100\n",
            "3/3 [==============================] - 70s 23s/step - loss: 0.5964 - accuracy: 0.7188 - val_loss: 0.5590 - val_accuracy: 0.8611\n",
            "\n",
            "Epoch 00056: val_accuracy did not improve from 0.91667\n",
            "Epoch 57/100\n",
            "3/3 [==============================] - 84s 28s/step - loss: 0.3878 - accuracy: 0.8750 - val_loss: 0.4892 - val_accuracy: 0.8281\n",
            "\n",
            "Epoch 00057: val_accuracy did not improve from 0.91667\n",
            "Epoch 58/100\n",
            "3/3 [==============================] - 70s 23s/step - loss: 0.4793 - accuracy: 0.8333 - val_loss: 0.1964 - val_accuracy: 0.8889\n",
            "\n",
            "Epoch 00058: val_accuracy did not improve from 0.91667\n",
            "Epoch 59/100\n",
            "3/3 [==============================] - 89s 30s/step - loss: 0.3842 - accuracy: 0.8542 - val_loss: 0.3755 - val_accuracy: 0.8750\n",
            "\n",
            "Epoch 00059: val_accuracy did not improve from 0.91667\n",
            "Epoch 60/100\n",
            "3/3 [==============================] - 71s 24s/step - loss: 0.3714 - accuracy: 0.8646 - val_loss: 0.3028 - val_accuracy: 0.7778\n",
            "\n",
            "Epoch 00060: val_accuracy did not improve from 0.91667\n",
            "Epoch 61/100\n",
            "3/3 [==============================] - 85s 28s/step - loss: 0.5035 - accuracy: 0.7500 - val_loss: 0.4502 - val_accuracy: 0.8125\n",
            "\n",
            "Epoch 00061: val_accuracy did not improve from 0.91667\n",
            "Epoch 62/100\n",
            "3/3 [==============================] - 69s 23s/step - loss: 0.5240 - accuracy: 0.8043 - val_loss: 0.2292 - val_accuracy: 0.8611\n",
            "\n",
            "Epoch 00062: val_accuracy did not improve from 0.91667\n",
            "Epoch 63/100\n",
            "3/3 [==============================] - 85s 28s/step - loss: 0.3960 - accuracy: 0.8646 - val_loss: 0.4352 - val_accuracy: 0.7812\n",
            "\n",
            "Epoch 00063: val_accuracy did not improve from 0.91667\n",
            "Epoch 64/100\n",
            "3/3 [==============================] - 70s 23s/step - loss: 0.3529 - accuracy: 0.8750 - val_loss: 0.4550 - val_accuracy: 0.8333\n",
            "\n",
            "Epoch 00064: val_accuracy did not improve from 0.91667\n",
            "Epoch 65/100\n",
            "3/3 [==============================] - 84s 28s/step - loss: 0.4529 - accuracy: 0.8125 - val_loss: 0.5217 - val_accuracy: 0.7812\n",
            "\n",
            "Epoch 00065: val_accuracy did not improve from 0.91667\n",
            "Epoch 66/100\n",
            "3/3 [==============================] - 74s 25s/step - loss: 0.4617 - accuracy: 0.7812 - val_loss: 0.5067 - val_accuracy: 0.7222\n",
            "\n",
            "Epoch 00066: val_accuracy did not improve from 0.91667\n",
            "Epoch 67/100\n",
            "3/3 [==============================] - 85s 28s/step - loss: 0.4829 - accuracy: 0.7826 - val_loss: 0.6917 - val_accuracy: 0.6250\n",
            "\n",
            "Epoch 00067: val_accuracy did not improve from 0.91667\n",
            "Epoch 68/100\n",
            "3/3 [==============================] - 72s 24s/step - loss: 0.5022 - accuracy: 0.7604 - val_loss: 0.3365 - val_accuracy: 0.7500\n",
            "\n",
            "Epoch 00068: val_accuracy did not improve from 0.91667\n",
            "Epoch 69/100\n",
            "3/3 [==============================] - 85s 28s/step - loss: 0.4306 - accuracy: 0.8021 - val_loss: 0.5819 - val_accuracy: 0.7188\n",
            "\n",
            "Epoch 00069: val_accuracy did not improve from 0.91667\n",
            "Epoch 70/100\n",
            "3/3 [==============================] - 71s 24s/step - loss: 0.5004 - accuracy: 0.7604 - val_loss: 0.0356 - val_accuracy: 0.8889\n",
            "\n",
            "Epoch 00070: val_accuracy did not improve from 0.91667\n",
            "Epoch 71/100\n",
            "3/3 [==============================] - 84s 28s/step - loss: 0.4832 - accuracy: 0.7812 - val_loss: 0.2611 - val_accuracy: 0.8438\n",
            "\n",
            "Epoch 00071: val_accuracy did not improve from 0.91667\n",
            "Epoch 72/100\n",
            "3/3 [==============================] - 70s 23s/step - loss: 0.6590 - accuracy: 0.7500 - val_loss: 0.1444 - val_accuracy: 0.8056\n",
            "\n",
            "Epoch 00072: val_accuracy did not improve from 0.91667\n",
            "Epoch 73/100\n",
            "3/3 [==============================] - 84s 28s/step - loss: 0.3895 - accuracy: 0.8854 - val_loss: 0.5988 - val_accuracy: 0.7812\n",
            "\n",
            "Epoch 00073: val_accuracy did not improve from 0.91667\n",
            "Epoch 74/100\n",
            "3/3 [==============================] - 75s 25s/step - loss: 0.3477 - accuracy: 0.8854 - val_loss: 0.8324 - val_accuracy: 0.8056\n",
            "\n",
            "Epoch 00074: val_accuracy did not improve from 0.91667\n",
            "Epoch 75/100\n",
            "3/3 [==============================] - 86s 29s/step - loss: 0.3992 - accuracy: 0.8438 - val_loss: 0.2760 - val_accuracy: 0.8594\n",
            "\n",
            "Epoch 00075: val_accuracy did not improve from 0.91667\n",
            "Epoch 76/100\n",
            "3/3 [==============================] - 71s 24s/step - loss: 0.4322 - accuracy: 0.7917 - val_loss: 0.1604 - val_accuracy: 0.7778\n",
            "\n",
            "Epoch 00076: val_accuracy did not improve from 0.91667\n",
            "Epoch 77/100\n",
            "3/3 [==============================] - 85s 28s/step - loss: 0.4991 - accuracy: 0.7917 - val_loss: 0.5227 - val_accuracy: 0.8125\n",
            "\n",
            "Epoch 00077: val_accuracy did not improve from 0.91667\n",
            "Epoch 78/100\n",
            "3/3 [==============================] - 69s 23s/step - loss: 0.4507 - accuracy: 0.8478 - val_loss: 0.0533 - val_accuracy: 0.8056\n",
            "\n",
            "Epoch 00078: val_accuracy did not improve from 0.91667\n",
            "Epoch 79/100\n",
            "3/3 [==============================] - 84s 28s/step - loss: 0.4904 - accuracy: 0.8333 - val_loss: 0.3726 - val_accuracy: 0.8125\n",
            "\n",
            "Epoch 00079: val_accuracy did not improve from 0.91667\n",
            "Epoch 80/100\n",
            "3/3 [==============================] - 71s 24s/step - loss: 0.4705 - accuracy: 0.7708 - val_loss: 0.5471 - val_accuracy: 0.7500\n",
            "\n",
            "Epoch 00080: val_accuracy did not improve from 0.91667\n",
            "Epoch 81/100\n",
            "3/3 [==============================] - 88s 29s/step - loss: 0.4818 - accuracy: 0.8229 - val_loss: 0.3843 - val_accuracy: 0.8594\n",
            "\n",
            "Epoch 00081: val_accuracy did not improve from 0.91667\n",
            "Epoch 82/100\n",
            "3/3 [==============================] - 72s 24s/step - loss: 0.3553 - accuracy: 0.8438 - val_loss: 1.0057 - val_accuracy: 0.8611\n",
            "\n",
            "Epoch 00082: val_accuracy did not improve from 0.91667\n",
            "Epoch 83/100\n",
            "3/3 [==============================] - 86s 29s/step - loss: 0.4730 - accuracy: 0.7917 - val_loss: 0.3684 - val_accuracy: 0.8594\n",
            "\n",
            "Epoch 00083: val_accuracy did not improve from 0.91667\n",
            "Epoch 84/100\n",
            "3/3 [==============================] - 70s 23s/step - loss: 0.3567 - accuracy: 0.8587 - val_loss: 0.2324 - val_accuracy: 0.8611\n",
            "\n",
            "Epoch 00084: val_accuracy did not improve from 0.91667\n",
            "Epoch 85/100\n",
            "3/3 [==============================] - 84s 28s/step - loss: 0.3734 - accuracy: 0.8438 - val_loss: 0.4288 - val_accuracy: 0.8438\n",
            "\n",
            "Epoch 00085: val_accuracy did not improve from 0.91667\n",
            "Epoch 86/100\n",
            "3/3 [==============================] - 71s 24s/step - loss: 0.3939 - accuracy: 0.8229 - val_loss: 0.2397 - val_accuracy: 0.8056\n",
            "\n",
            "Epoch 00086: val_accuracy did not improve from 0.91667\n",
            "Epoch 87/100\n",
            "3/3 [==============================] - 84s 28s/step - loss: 0.5146 - accuracy: 0.8021 - val_loss: 0.4622 - val_accuracy: 0.8125\n",
            "\n",
            "Epoch 00087: val_accuracy did not improve from 0.91667\n",
            "Epoch 88/100\n",
            "3/3 [==============================] - 74s 25s/step - loss: 0.4093 - accuracy: 0.8125 - val_loss: 0.8441 - val_accuracy: 0.8611\n",
            "\n",
            "Epoch 00088: val_accuracy did not improve from 0.91667\n",
            "Epoch 89/100\n",
            "3/3 [==============================] - 86s 29s/step - loss: 0.4757 - accuracy: 0.8021 - val_loss: 0.7449 - val_accuracy: 0.8281\n",
            "\n",
            "Epoch 00089: val_accuracy did not improve from 0.91667\n",
            "Epoch 90/100\n",
            "3/3 [==============================] - 72s 24s/step - loss: 0.4370 - accuracy: 0.8125 - val_loss: 0.2915 - val_accuracy: 0.7500\n",
            "\n",
            "Epoch 00090: val_accuracy did not improve from 0.91667\n",
            "Epoch 91/100\n",
            "3/3 [==============================] - 86s 29s/step - loss: 0.3263 - accuracy: 0.8750 - val_loss: 0.5249 - val_accuracy: 0.7812\n",
            "\n",
            "Epoch 00091: val_accuracy did not improve from 0.91667\n",
            "Epoch 92/100\n",
            "3/3 [==============================] - 69s 23s/step - loss: 0.3470 - accuracy: 0.8152 - val_loss: 0.4275 - val_accuracy: 0.8889\n",
            "\n",
            "Epoch 00092: val_accuracy did not improve from 0.91667\n",
            "Epoch 93/100\n",
            "3/3 [==============================] - 84s 28s/step - loss: 0.3847 - accuracy: 0.8438 - val_loss: 0.3929 - val_accuracy: 0.8281\n",
            "\n",
            "Epoch 00093: val_accuracy did not improve from 0.91667\n",
            "Epoch 94/100\n",
            "3/3 [==============================] - 70s 23s/step - loss: 0.4397 - accuracy: 0.8438 - val_loss: 0.9179 - val_accuracy: 0.7778\n",
            "\n",
            "Epoch 00094: val_accuracy did not improve from 0.91667\n",
            "Epoch 95/100\n",
            "3/3 [==============================] - 84s 28s/step - loss: 0.5102 - accuracy: 0.8229 - val_loss: 0.4312 - val_accuracy: 0.8906\n",
            "\n",
            "Epoch 00095: val_accuracy did not improve from 0.91667\n",
            "Epoch 96/100\n",
            "3/3 [==============================] - 75s 25s/step - loss: 0.5355 - accuracy: 0.7500 - val_loss: 0.2045 - val_accuracy: 0.8611\n",
            "\n",
            "Epoch 00096: val_accuracy did not improve from 0.91667\n",
            "Epoch 97/100\n",
            "3/3 [==============================] - 85s 28s/step - loss: 0.5743 - accuracy: 0.8021 - val_loss: 0.3236 - val_accuracy: 0.9219\n",
            "\n",
            "Epoch 00097: val_accuracy improved from 0.91667 to 0.92188, saving model to /content/drive/My Drive/Best models/model_n_1.h5\n",
            "Epoch 98/100\n",
            "3/3 [==============================] - 77s 26s/step - loss: 0.3364 - accuracy: 0.8021 - val_loss: 0.2136 - val_accuracy: 0.7222\n",
            "\n",
            "Epoch 00098: val_accuracy did not improve from 0.92188\n",
            "Epoch 99/100\n",
            "3/3 [==============================] - 85s 28s/step - loss: 0.3995 - accuracy: 0.8125 - val_loss: 0.3066 - val_accuracy: 0.9062\n",
            "\n",
            "Epoch 00099: val_accuracy did not improve from 0.92188\n",
            "Epoch 100/100\n",
            "3/3 [==============================] - 68s 23s/step - loss: 0.3545 - accuracy: 0.8913 - val_loss: 0.8896 - val_accuracy: 0.7778\n",
            "\n",
            "Epoch 00100: val_accuracy did not improve from 0.92188\n"
          ],
          "name": "stdout"
        }
      ]
    },
    {
      "cell_type": "code",
      "metadata": {
        "id": "HVTVRSV8ZlQb",
        "colab_type": "code",
        "colab": {
          "base_uri": "https://localhost:8080/",
          "height": 295
        },
        "outputId": "e1a839dd-e9c4-4bf3-e255-0ae61016d18d"
      },
      "source": [
        "import matplotlib.pyplot as plt\n",
        "plt.plot(hist.history[\"accuracy\"])\n",
        "plt.plot(hist.history['val_accuracy'])\n",
        "\n",
        "plt.title(\"model accuracy\")\n",
        "plt.ylabel(\"Accuracy\")\n",
        "plt.xlabel(\"Epoch\")\n",
        "plt.legend([\"Accuracy\",\"Validation Accuracy\"])\n",
        "plt.show()"
      ],
      "execution_count": 27,
      "outputs": [
        {
          "output_type": "display_data",
          "data": {
            "image/png": "[encoded data removed]",
            "text/plain": [
              "<Figure size 432x288 with 1 Axes>"
            ]
          },
          "metadata": {
            "tags": [],
            "needs_background": "light"
          }
        }
      ]
    },
    {
      "cell_type": "code",
      "metadata": {
        "id": "S1zKuauZZnZF",
        "colab_type": "code",
        "colab": {
          "base_uri": "https://localhost:8080/",
          "height": 282
        },
        "outputId": "d5f190e7-ec17-4322-cafa-f05bb9007995"
      },
      "source": [
        "plt.plot(hist.history['loss'])\n",
        "plt.plot(hist.history['val_loss'])\n",
        "plt.ylabel(\"Loss\")\n",
        "plt.xlabel(\"Epoch\")\n",
        "plt.legend([\"loss\",\"Validation Loss\"])\n",
        "plt.show()"
      ],
      "execution_count": 13,
      "outputs": [
        {
          "output_type": "display_data",
          "data": {
            "image/png": "[encoded data removed]",
            "text/plain": [
              "<Figure size 432x288 with 1 Axes>"
            ]
          },
          "metadata": {
            "tags": [],
            "needs_background": "light"
          }
        }
      ]
    },
    {
      "cell_type": "code",
      "metadata": {
        "id": "mscgt0FiIA3D",
        "colab_type": "code",
        "colab": {}
      },
      "source": [
        "model_final.save(\"/content/drive/My Drive/Best models/model1_1.h5\")"
      ],
      "execution_count": 14,
      "outputs": []
    },
    {
      "cell_type": "code",
      "metadata": {
        "id": "1E7hce4INlu7",
        "colab_type": "code",
        "colab": {}
      },
      "source": [
        "model_cnn=keras.models.load_model(\"/content/drive/My Drive/Best models/model_m_1.h5\")"
      ],
      "execution_count": 15,
      "outputs": []
    },
    {
      "cell_type": "code",
      "metadata": {
        "id": "WwAzAbBdZulp",
        "colab_type": "code",
        "colab": {}
      },
      "source": [
        "from keras.preprocessing.image import ImageDataGenerator\n",
        "from sklearn.metrics import classification_report, confusion_matrix\n",
        "\n",
        "test_datagen = ImageDataGenerator()"
      ],
      "execution_count": 16,
      "outputs": []
    },
    {
      "cell_type": "code",
      "metadata": {
        "id": "GxVOVV3zZyE7",
        "colab_type": "code",
        "colab": {
          "base_uri": "https://localhost:8080/",
          "height": 34
        },
        "outputId": "f5daeaa3-b7f6-4e63-9c5d-44e7658fd3cf"
      },
      "source": [
        "validation_generator = test_datagen.flow_from_directory('/content/drive/My Drive/data_liver/test',\n",
        "                                                        target_size=(224, 224))"
      ],
      "execution_count": 17,
      "outputs": [
        {
          "output_type": "stream",
          "text": [
            "Found 200 images belonging to 4 classes.\n"
          ],
          "name": "stdout"
        }
      ]
    },
    {
      "cell_type": "code",
      "metadata": {
        "id": "eAMUtksqjslN",
        "colab_type": "code",
        "colab": {
          "base_uri": "https://localhost:8080/",
          "height": 306
        },
        "outputId": "24603468-7861-4a9d-ec86-c88cff1c1f4f"
      },
      "source": [
        "import numpy as np\n",
        "#Confution Matrix and Classification Report\n",
        "Y_pred = model_cnn.predict_generator(validation_generator)\n",
        "y_pred = np.argmax(Y_pred, axis=1)\n",
        "print('Confusion Matrix')\n",
        "print(confusion_matrix(validation_generator.classes, y_pred))\n",
        "print('Classification Report')\n",
        "#target_names = ['grade1', 'grade0', 'grade2','grade3']\n",
        "print(classification_report(validation_generator.classes, y_pred))"
      ],
      "execution_count": 18,
      "outputs": [
        {
          "output_type": "stream",
          "text": [
            "Confusion Matrix\n",
            "[[11  5 22 12]\n",
            " [ 9  7 17 17]\n",
            " [11  6 17 16]\n",
            " [14  6 19 11]]\n",
            "Classification Report\n",
            "              precision    recall  f1-score   support\n",
            "\n",
            "           0       0.24      0.22      0.23        50\n",
            "           1       0.29      0.14      0.19        50\n",
            "           2       0.23      0.34      0.27        50\n",
            "           3       0.20      0.22      0.21        50\n",
            "\n",
            "    accuracy                           0.23       200\n",
            "   macro avg       0.24      0.23      0.23       200\n",
            "weighted avg       0.24      0.23      0.23       200\n",
            "\n"
          ],
          "name": "stdout"
        }
      ]
    },
    {
      "cell_type": "code",
      "metadata": {
        "id": "nCeG5IC_Z6kq",
        "colab_type": "code",
        "colab": {
          "base_uri": "https://localhost:8080/",
          "height": 153
        },
        "outputId": "62ad25e7-5abf-4f82-c3b2-a4f0b2ca2886"
      },
      "source": [
        "import os\n",
        "import numpy as np\n",
        "actual=[]\n",
        "predicted=[]\n",
        "data_path='/content/drive/My Drive/data_liver/test'\n",
        "data_dir_list=os.listdir(data_path)\n",
        "for dataset in data_dir_list:\n",
        "  print(dataset)\n",
        "  img_list=os.listdir(data_path+'/'+dataset)\n",
        "  correctCount=0\n",
        "  wrongCount=0\n",
        "  for img in img_list:\n",
        "    img_path=data_path+'/'+dataset+'/'+img\n",
        "    input_image = image.load_img(img_path,target_size=(224,224))\n",
        "    input_image = np.asarray(input_image)\n",
        "    input_image = np.expand_dims(input_image, axis=0)\n",
        "    output = model_cnn.predict(input_image)\n",
        "    ans='grade'+str(np.argmax(output[0],axis=0))\n",
        "    if( ans in img):\n",
        "      correctCount+=1\n",
        "    else:\n",
        "      wrongCount+=1\n",
        "    actual.append(img[:6])\n",
        "    predicted.append(ans)\n",
        "  print(\"correct Count {} WrongCount {}\".format(correctCount,wrongCount))"
      ],
      "execution_count": 19,
      "outputs": [
        {
          "output_type": "stream",
          "text": [
            "grade1\n",
            "correct Count 16 WrongCount 34\n",
            "grade0\n",
            "correct Count 42 WrongCount 8\n",
            "grade2\n",
            "correct Count 50 WrongCount 0\n",
            "grade3\n",
            "correct Count 41 WrongCount 9\n"
          ],
          "name": "stdout"
        }
      ]
    },
    {
      "cell_type": "code",
      "metadata": {
        "id": "6Y1TLJJcXt63",
        "colab_type": "code",
        "colab": {
          "base_uri": "https://localhost:8080/",
          "height": 323
        },
        "outputId": "59755d50-0a12-48e0-8250-28cc9520b668"
      },
      "source": [
        "# Python script for confusion matrix creation. \n",
        "from sklearn.metrics import confusion_matrix \n",
        "from sklearn.metrics import accuracy_score \n",
        "from sklearn.metrics import classification_report \n",
        "results = confusion_matrix(actual, predicted) \n",
        "\n",
        "print ('Confusion Matrix :')\n",
        "print(results) \n",
        "print ('Accuracy Score :',accuracy_score(actual, predicted)) \n",
        "print ('Report : ')\n",
        "print (classification_report(actual, predicted)) \n"
      ],
      "execution_count": 28,
      "outputs": [
        {
          "output_type": "stream",
          "text": [
            "Confusion Matrix :\n",
            "[[38 11  0  1]\n",
            " [ 0 25  4 21]\n",
            " [ 0  1 49  0]\n",
            " [ 0  2  1 47]]\n",
            "Accuracy Score : 0.795\n",
            "Report : \n",
            "              precision    recall  f1-score   support\n",
            "\n",
            "      grade0       1.00      0.76      0.86        50\n",
            "      grade1       0.64      0.50      0.56        50\n",
            "      grade2       0.91      0.98      0.94        50\n",
            "      grade3       0.68      0.94      0.79        50\n",
            "\n",
            "    accuracy                           0.80       200\n",
            "   macro avg       0.81      0.80      0.79       200\n",
            "weighted avg       0.81      0.80      0.79       200\n",
            "\n"
          ],
          "name": "stdout"
        }
      ]
    },
    {
      "cell_type": "code",
      "metadata": {
        "colab_type": "code",
        "id": "YNa87qHtw8fM",
        "colab": {
          "base_uri": "https://localhost:8080/",
          "height": 153
        },
        "outputId": "402dcf72-319a-4b0a-d321-2636707eae94"
      },
      "source": [
        "import os\n",
        "import numpy as np\n",
        "actual=[]\n",
        "predicted=[]\n",
        "data_path='/content/drive/My Drive/data_liver/test'\n",
        "data_dir_list=os.listdir(data_path)\n",
        "for dataset in data_dir_list:\n",
        "  print(dataset)\n",
        "  img_list=os.listdir(data_path+'/'+dataset)\n",
        "  correctCount=0\n",
        "  wrongCount=0\n",
        "  for img in img_list:\n",
        "    img_path=data_path+'/'+dataset+'/'+img\n",
        "    input_image = image.load_img(img_path,target_size=(224,224))\n",
        "    input_image = np.asarray(input_image)\n",
        "    input_image = np.expand_dims(input_image, axis=0)\n",
        "    output = model_final.predict(input_image)\n",
        "    ans='grade'+str(np.argmax(output[0],axis=0))\n",
        "    if( ans in img):\n",
        "      correctCount+=1\n",
        "    else:\n",
        "      wrongCount+=1\n",
        "    actual.append(img[:6])\n",
        "    predicted.append(ans)\n",
        "  print(\"correct Count {} WrongCount {}\".format(correctCount,wrongCount))"
      ],
      "execution_count": 21,
      "outputs": [
        {
          "output_type": "stream",
          "text": [
            "grade1\n",
            "correct Count 25 WrongCount 25\n",
            "grade0\n",
            "correct Count 38 WrongCount 12\n",
            "grade2\n",
            "correct Count 49 WrongCount 1\n",
            "grade3\n",
            "correct Count 47 WrongCount 3\n"
          ],
          "name": "stdout"
        }
      ]
    },
    {
      "cell_type": "code",
      "metadata": {
        "id": "z5Nn1DC7w70r",
        "colab_type": "code",
        "colab": {}
      },
      "source": [
        ""
      ],
      "execution_count": 21,
      "outputs": []
    },
    {
      "cell_type": "code",
      "metadata": {
        "colab_type": "code",
        "id": "Wq3VzWFExC1o",
        "colab": {
          "base_uri": "https://localhost:8080/",
          "height": 323
        },
        "outputId": "53cae34d-314a-46aa-a137-24a09acdf6c0"
      },
      "source": [
        "# Python script for confusion matrix creation. \n",
        "from sklearn.metrics import confusion_matrix \n",
        "from sklearn.metrics import accuracy_score \n",
        "from sklearn.metrics import classification_report \n",
        "results = confusion_matrix(actual, predicted) \n",
        "\n",
        "print ('Confusion Matrix :')\n",
        "print(results) \n",
        "print ('Accuracy Score :',accuracy_score(actual, predicted)) \n",
        "print ('Report : ')\n",
        "print (classification_report(actual, predicted)) \n"
      ],
      "execution_count": 22,
      "outputs": [
        {
          "output_type": "stream",
          "text": [
            "Confusion Matrix :\n",
            "[[38 11  0  1]\n",
            " [ 0 25  4 21]\n",
            " [ 0  1 49  0]\n",
            " [ 0  2  1 47]]\n",
            "Accuracy Score : 0.795\n",
            "Report : \n",
            "              precision    recall  f1-score   support\n",
            "\n",
            "      grade0       1.00      0.76      0.86        50\n",
            "      grade1       0.64      0.50      0.56        50\n",
            "      grade2       0.91      0.98      0.94        50\n",
            "      grade3       0.68      0.94      0.79        50\n",
            "\n",
            "    accuracy                           0.80       200\n",
            "   macro avg       0.81      0.80      0.79       200\n",
            "weighted avg       0.81      0.80      0.79       200\n",
            "\n"
          ],
          "name": "stdout"
        }
      ]
    },
    {
      "cell_type": "code",
      "metadata": {
        "id": "13hBXTUZwD52",
        "colab_type": "code",
        "colab": {
          "base_uri": "https://localhost:8080/",
          "height": 51
        },
        "outputId": "55e8fa3a-041e-4ffa-87d4-cae53ef0ba30"
      },
      "source": [
        "tr_loss,tr_acc=model_final.evaluate(validation_generator)\n",
        "tr_acc"
      ],
      "execution_count": 23,
      "outputs": [
        {
          "output_type": "stream",
          "text": [
            "7/7 [==============================] - 107s 15s/step\n"
          ],
          "name": "stdout"
        },
        {
          "output_type": "execute_result",
          "data": {
            "text/plain": [
              "0.7950000166893005"
            ]
          },
          "metadata": {
            "tags": []
          },
          "execution_count": 23
        }
      ]
    },
    {
      "cell_type": "code",
      "metadata": {
        "id": "ntwjv8i0wHmH",
        "colab_type": "code",
        "colab": {
          "base_uri": "https://localhost:8080/",
          "height": 51
        },
        "outputId": "a61f05f5-59cb-4e13-fc77-eb4f4371d809"
      },
      "source": [
        "tr_loss,tr_acc=model_final.evaluate(traindata)\n",
        "tr_acc"
      ],
      "execution_count": 24,
      "outputs": [
        {
          "output_type": "stream",
          "text": [
            "22/22 [==============================] - 363s 17s/step\n"
          ],
          "name": "stdout"
        },
        {
          "output_type": "execute_result",
          "data": {
            "text/plain": [
              "0.8514285683631897"
            ]
          },
          "metadata": {
            "tags": []
          },
          "execution_count": 24
        }
      ]
    },
    {
      "cell_type": "code",
      "metadata": {
        "id": "1NOM-AafyXVT",
        "colab_type": "code",
        "colab": {
          "base_uri": "https://localhost:8080/",
          "height": 51
        },
        "outputId": "86f4d92d-994f-42f5-f17e-f609127c7c4c"
      },
      "source": [
        "tr_loss,tr_acc=model_cnn.evaluate(testdata)\n",
        "tr_acc"
      ],
      "execution_count": 25,
      "outputs": [
        {
          "output_type": "stream",
          "text": [
            "4/4 [==============================] - 51s 13s/step\n"
          ],
          "name": "stdout"
        },
        {
          "output_type": "execute_result",
          "data": {
            "text/plain": [
              "0.7200000286102295"
            ]
          },
          "metadata": {
            "tags": []
          },
          "execution_count": 25
        }
      ]
    },
    {
      "cell_type": "code",
      "metadata": {
        "id": "mTNWvGsEywGT",
        "colab_type": "code",
        "colab": {
          "base_uri": "https://localhost:8080/",
          "height": 442
        },
        "outputId": "38e7a89a-a56e-4958-81b7-1f4985483ae5"
      },
      "source": [
        "saved_model=keras.models.load_model(\"/content/drive/My Drive/Best models/model_b_1.h5\")"
      ],
      "execution_count": 26,
      "outputs": [
        {
          "output_type": "error",
          "ename": "OSError",
          "evalue": "ignored",
          "traceback": [
            "\u001b[0;31m---------------------------------------------------------------------------\u001b[0m",
            "\u001b[0;31mOSError\u001b[0m                                   Traceback (most recent call last)",
            "\u001b[0;32m<ipython-input-26-7fa0bb18ad46>\u001b[0m in \u001b[0;36m<module>\u001b[0;34m()\u001b[0m\n\u001b[0;32m----> 1\u001b[0;31m \u001b[0msaved_model\u001b[0m\u001b[0;34m=\u001b[0m\u001b[0mkeras\u001b[0m\u001b[0;34m.\u001b[0m\u001b[0mmodels\u001b[0m\u001b[0;34m.\u001b[0m\u001b[0mload_model\u001b[0m\u001b[0;34m(\u001b[0m\u001b[0;34m\"/content/drive/My Drive/Best models/model_b_1.h5\"\u001b[0m\u001b[0;34m)\u001b[0m\u001b[0;34m\u001b[0m\u001b[0;34m\u001b[0m\u001b[0m\n\u001b[0m",
            "\u001b[0;32m/usr/local/lib/python3.6/dist-packages/keras/engine/saving.py\u001b[0m in \u001b[0;36mload_wrapper\u001b[0;34m(*args, **kwargs)\u001b[0m\n\u001b[1;32m    490\u001b[0m                 \u001b[0mos\u001b[0m\u001b[0;34m.\u001b[0m\u001b[0mremove\u001b[0m\u001b[0;34m(\u001b[0m\u001b[0mtmp_filepath\u001b[0m\u001b[0;34m)\u001b[0m\u001b[0;34m\u001b[0m\u001b[0;34m\u001b[0m\u001b[0m\n\u001b[1;32m    491\u001b[0m             \u001b[0;32mreturn\u001b[0m \u001b[0mres\u001b[0m\u001b[0;34m\u001b[0m\u001b[0;34m\u001b[0m\u001b[0m\n\u001b[0;32m--> 492\u001b[0;31m         \u001b[0;32mreturn\u001b[0m \u001b[0mload_function\u001b[0m\u001b[0;34m(\u001b[0m\u001b[0;34m*\u001b[0m\u001b[0margs\u001b[0m\u001b[0;34m,\u001b[0m \u001b[0;34m**\u001b[0m\u001b[0mkwargs\u001b[0m\u001b[0;34m)\u001b[0m\u001b[0;34m\u001b[0m\u001b[0;34m\u001b[0m\u001b[0m\n\u001b[0m\u001b[1;32m    493\u001b[0m \u001b[0;34m\u001b[0m\u001b[0m\n\u001b[1;32m    494\u001b[0m     \u001b[0;32mreturn\u001b[0m \u001b[0mload_wrapper\u001b[0m\u001b[0;34m\u001b[0m\u001b[0;34m\u001b[0m\u001b[0m\n",
            "\u001b[0;32m/usr/local/lib/python3.6/dist-packages/keras/engine/saving.py\u001b[0m in \u001b[0;36mload_model\u001b[0;34m(filepath, custom_objects, compile)\u001b[0m\n\u001b[1;32m    581\u001b[0m \u001b[0;34m\u001b[0m\u001b[0m\n\u001b[1;32m    582\u001b[0m     \u001b[0;32mif\u001b[0m \u001b[0mH5Dict\u001b[0m\u001b[0;34m.\u001b[0m\u001b[0mis_supported_type\u001b[0m\u001b[0;34m(\u001b[0m\u001b[0mfilepath\u001b[0m\u001b[0;34m)\u001b[0m\u001b[0;34m:\u001b[0m\u001b[0;34m\u001b[0m\u001b[0;34m\u001b[0m\u001b[0m\n\u001b[0;32m--> 583\u001b[0;31m         \u001b[0;32mwith\u001b[0m \u001b[0mH5Dict\u001b[0m\u001b[0;34m(\u001b[0m\u001b[0mfilepath\u001b[0m\u001b[0;34m,\u001b[0m \u001b[0mmode\u001b[0m\u001b[0;34m=\u001b[0m\u001b[0;34m'r'\u001b[0m\u001b[0;34m)\u001b[0m \u001b[0;32mas\u001b[0m \u001b[0mh5dict\u001b[0m\u001b[0;34m:\u001b[0m\u001b[0;34m\u001b[0m\u001b[0;34m\u001b[0m\u001b[0m\n\u001b[0m\u001b[1;32m    584\u001b[0m             \u001b[0mmodel\u001b[0m \u001b[0;34m=\u001b[0m \u001b[0m_deserialize_model\u001b[0m\u001b[0;34m(\u001b[0m\u001b[0mh5dict\u001b[0m\u001b[0;34m,\u001b[0m \u001b[0mcustom_objects\u001b[0m\u001b[0;34m,\u001b[0m \u001b[0mcompile\u001b[0m\u001b[0;34m)\u001b[0m\u001b[0;34m\u001b[0m\u001b[0;34m\u001b[0m\u001b[0m\n\u001b[1;32m    585\u001b[0m     \u001b[0;32melif\u001b[0m \u001b[0mhasattr\u001b[0m\u001b[0;34m(\u001b[0m\u001b[0mfilepath\u001b[0m\u001b[0;34m,\u001b[0m \u001b[0;34m'write'\u001b[0m\u001b[0;34m)\u001b[0m \u001b[0;32mand\u001b[0m \u001b[0mcallable\u001b[0m\u001b[0;34m(\u001b[0m\u001b[0mfilepath\u001b[0m\u001b[0;34m.\u001b[0m\u001b[0mwrite\u001b[0m\u001b[0;34m)\u001b[0m\u001b[0;34m:\u001b[0m\u001b[0;34m\u001b[0m\u001b[0;34m\u001b[0m\u001b[0m\n",
            "\u001b[0;32m/usr/local/lib/python3.6/dist-packages/keras/utils/io_utils.py\u001b[0m in \u001b[0;36m__init__\u001b[0;34m(self, path, mode)\u001b[0m\n\u001b[1;32m    189\u001b[0m             \u001b[0mself\u001b[0m\u001b[0;34m.\u001b[0m\u001b[0m_is_file\u001b[0m \u001b[0;34m=\u001b[0m \u001b[0;32mFalse\u001b[0m\u001b[0;34m\u001b[0m\u001b[0;34m\u001b[0m\u001b[0m\n\u001b[1;32m    190\u001b[0m         \u001b[0;32melif\u001b[0m \u001b[0misinstance\u001b[0m\u001b[0;34m(\u001b[0m\u001b[0mpath\u001b[0m\u001b[0;34m,\u001b[0m \u001b[0msix\u001b[0m\u001b[0;34m.\u001b[0m\u001b[0mstring_types\u001b[0m\u001b[0;34m)\u001b[0m \u001b[0;32mor\u001b[0m \u001b[0m_is_path_instance\u001b[0m\u001b[0;34m(\u001b[0m\u001b[0mpath\u001b[0m\u001b[0;34m)\u001b[0m\u001b[0;34m:\u001b[0m\u001b[0;34m\u001b[0m\u001b[0;34m\u001b[0m\u001b[0m\n\u001b[0;32m--> 191\u001b[0;31m             \u001b[0mself\u001b[0m\u001b[0;34m.\u001b[0m\u001b[0mdata\u001b[0m \u001b[0;34m=\u001b[0m \u001b[0mh5py\u001b[0m\u001b[0;34m.\u001b[0m\u001b[0mFile\u001b[0m\u001b[0;34m(\u001b[0m\u001b[0mpath\u001b[0m\u001b[0;34m,\u001b[0m \u001b[0mmode\u001b[0m\u001b[0;34m=\u001b[0m\u001b[0mmode\u001b[0m\u001b[0;34m)\u001b[0m\u001b[0;34m\u001b[0m\u001b[0;34m\u001b[0m\u001b[0m\n\u001b[0m\u001b[1;32m    192\u001b[0m             \u001b[0mself\u001b[0m\u001b[0;34m.\u001b[0m\u001b[0m_is_file\u001b[0m \u001b[0;34m=\u001b[0m \u001b[0;32mTrue\u001b[0m\u001b[0;34m\u001b[0m\u001b[0;34m\u001b[0m\u001b[0m\n\u001b[1;32m    193\u001b[0m         \u001b[0;32melif\u001b[0m \u001b[0misinstance\u001b[0m\u001b[0;34m(\u001b[0m\u001b[0mpath\u001b[0m\u001b[0;34m,\u001b[0m \u001b[0mdict\u001b[0m\u001b[0;34m)\u001b[0m\u001b[0;34m:\u001b[0m\u001b[0;34m\u001b[0m\u001b[0;34m\u001b[0m\u001b[0m\n",
            "\u001b[0;32m/usr/local/lib/python3.6/dist-packages/h5py/_hl/files.py\u001b[0m in \u001b[0;36m__init__\u001b[0;34m(self, name, mode, driver, libver, userblock_size, swmr, rdcc_nslots, rdcc_nbytes, rdcc_w0, track_order, **kwds)\u001b[0m\n\u001b[1;32m    406\u001b[0m                 fid = make_fid(name, mode, userblock_size,\n\u001b[1;32m    407\u001b[0m                                \u001b[0mfapl\u001b[0m\u001b[0;34m,\u001b[0m \u001b[0mfcpl\u001b[0m\u001b[0;34m=\u001b[0m\u001b[0mmake_fcpl\u001b[0m\u001b[0;34m(\u001b[0m\u001b[0mtrack_order\u001b[0m\u001b[0;34m=\u001b[0m\u001b[0mtrack_order\u001b[0m\u001b[0;34m)\u001b[0m\u001b[0;34m,\u001b[0m\u001b[0;34m\u001b[0m\u001b[0;34m\u001b[0m\u001b[0m\n\u001b[0;32m--> 408\u001b[0;31m                                swmr=swmr)\n\u001b[0m\u001b[1;32m    409\u001b[0m \u001b[0;34m\u001b[0m\u001b[0m\n\u001b[1;32m    410\u001b[0m             \u001b[0;32mif\u001b[0m \u001b[0misinstance\u001b[0m\u001b[0;34m(\u001b[0m\u001b[0mlibver\u001b[0m\u001b[0;34m,\u001b[0m \u001b[0mtuple\u001b[0m\u001b[0;34m)\u001b[0m\u001b[0;34m:\u001b[0m\u001b[0;34m\u001b[0m\u001b[0;34m\u001b[0m\u001b[0m\n",
            "\u001b[0;32m/usr/local/lib/python3.6/dist-packages/h5py/_hl/files.py\u001b[0m in \u001b[0;36mmake_fid\u001b[0;34m(name, mode, userblock_size, fapl, fcpl, swmr)\u001b[0m\n\u001b[1;32m    171\u001b[0m         \u001b[0;32mif\u001b[0m \u001b[0mswmr\u001b[0m \u001b[0;32mand\u001b[0m \u001b[0mswmr_support\u001b[0m\u001b[0;34m:\u001b[0m\u001b[0;34m\u001b[0m\u001b[0;34m\u001b[0m\u001b[0m\n\u001b[1;32m    172\u001b[0m             \u001b[0mflags\u001b[0m \u001b[0;34m|=\u001b[0m \u001b[0mh5f\u001b[0m\u001b[0;34m.\u001b[0m\u001b[0mACC_SWMR_READ\u001b[0m\u001b[0;34m\u001b[0m\u001b[0;34m\u001b[0m\u001b[0m\n\u001b[0;32m--> 173\u001b[0;31m         \u001b[0mfid\u001b[0m \u001b[0;34m=\u001b[0m \u001b[0mh5f\u001b[0m\u001b[0;34m.\u001b[0m\u001b[0mopen\u001b[0m\u001b[0;34m(\u001b[0m\u001b[0mname\u001b[0m\u001b[0;34m,\u001b[0m \u001b[0mflags\u001b[0m\u001b[0;34m,\u001b[0m \u001b[0mfapl\u001b[0m\u001b[0;34m=\u001b[0m\u001b[0mfapl\u001b[0m\u001b[0;34m)\u001b[0m\u001b[0;34m\u001b[0m\u001b[0;34m\u001b[0m\u001b[0m\n\u001b[0m\u001b[1;32m    174\u001b[0m     \u001b[0;32melif\u001b[0m \u001b[0mmode\u001b[0m \u001b[0;34m==\u001b[0m \u001b[0;34m'r+'\u001b[0m\u001b[0;34m:\u001b[0m\u001b[0;34m\u001b[0m\u001b[0;34m\u001b[0m\u001b[0m\n\u001b[1;32m    175\u001b[0m         \u001b[0mfid\u001b[0m \u001b[0;34m=\u001b[0m \u001b[0mh5f\u001b[0m\u001b[0;34m.\u001b[0m\u001b[0mopen\u001b[0m\u001b[0;34m(\u001b[0m\u001b[0mname\u001b[0m\u001b[0;34m,\u001b[0m \u001b[0mh5f\u001b[0m\u001b[0;34m.\u001b[0m\u001b[0mACC_RDWR\u001b[0m\u001b[0;34m,\u001b[0m \u001b[0mfapl\u001b[0m\u001b[0;34m=\u001b[0m\u001b[0mfapl\u001b[0m\u001b[0;34m)\u001b[0m\u001b[0;34m\u001b[0m\u001b[0;34m\u001b[0m\u001b[0m\n",
            "\u001b[0;32mh5py/_objects.pyx\u001b[0m in \u001b[0;36mh5py._objects.with_phil.wrapper\u001b[0;34m()\u001b[0m\n",
            "\u001b[0;32mh5py/_objects.pyx\u001b[0m in \u001b[0;36mh5py._objects.with_phil.wrapper\u001b[0;34m()\u001b[0m\n",
            "\u001b[0;32mh5py/h5f.pyx\u001b[0m in \u001b[0;36mh5py.h5f.open\u001b[0;34m()\u001b[0m\n",
            "\u001b[0;31mOSError\u001b[0m: Unable to open file (unable to open file: name = '/content/drive/My Drive/Best models/model_b_1.h5', errno = 2, error message = 'No such file or directory', flags = 0, o_flags = 0)"
          ]
        }
      ]
    },
    {
      "cell_type": "code",
      "metadata": {
        "colab_type": "code",
        "id": "bIRR3fnFzXLD",
        "colab": {}
      },
      "source": [
        "tr_loss,tr_acc=saved_model.evaluate(validation_generator)\n",
        "tr_acc"
      ],
      "execution_count": null,
      "outputs": []
    },
    {
      "cell_type": "code",
      "metadata": {
        "id": "ihCmpaYAzgH4",
        "colab_type": "code",
        "colab": {}
      },
      "source": [
        ""
      ],
      "execution_count": null,
      "outputs": []
    },
    {
      "cell_type": "code",
      "metadata": {
        "colab_type": "code",
        "id": "EmEGMcRkzgyK",
        "colab": {}
      },
      "source": [
        "tr_loss,tr_acc=saved_model.evaluate(testdata)\n",
        "tr_acc"
      ],
      "execution_count": null,
      "outputs": []
    },
    {
      "cell_type": "code",
      "metadata": {
        "id": "rtN1rqlVp7ll",
        "colab_type": "code",
        "colab": {}
      },
      "source": [
        "model_final=keras.models.load_model(\"/content/drive/My Drive/Best models/model_f_1.h5\")"
      ],
      "execution_count": null,
      "outputs": []
    }
  ]
}